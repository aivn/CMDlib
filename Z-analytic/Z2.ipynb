{
 "cells": [
  {
   "cell_type": "code",
   "execution_count": null,
   "metadata": {},
   "outputs": [],
   "source": [
    "import sys\n",
    "sys.path.append(\"python/\")\n",
    "\n",
    "import sympy as sp\n",
    "import numdifftools as nd\n",
    "import numpy as np\n",
    "import scipy.optimize as opt\n",
    "\n",
    "import datlib\n",
    "import symbase\n",
    "import Z2num\n",
    "import Z2sym"
   ]
  },
  {
   "cell_type": "markdown",
   "metadata": {},
   "source": [
    "# Ферромагнетик в симметричном случае"
   ]
  },
  {
   "cell_type": "markdown",
   "metadata": {},
   "source": [
    "## Выражение для $Z^{(2)}$"
   ]
  },
  {
   "cell_type": "markdown",
   "metadata": {},
   "source": [
    "### Интеграл"
   ]
  },
  {
   "cell_type": "code",
   "execution_count": null,
   "metadata": {},
   "outputs": [],
   "source": [
    "h, l = Z2sym.h, Z2sym.l\n",
    "s1, s2 = symbase.SigmaSymbol(\"\\\\sigma_1\"), symbase.SigmaSymbol(\"\\\\sigma_2\")\n",
    "t, u = sp.symbols(\"t u\")"
   ]
  },
  {
   "cell_type": "code",
   "execution_count": null,
   "metadata": {},
   "outputs": [],
   "source": [
    "expr = sp.Integral(sp.exp(t**2/(2*l) + s1*t), (t, 0, h+s2*l))\n",
    "expr = expr.transform(t, (t-s1*l, t)).expand()\n",
    "expr = expr.transform(t, (t*sp.sqrt(2*l), t)).factor()\n",
    "display(expr)\n",
    "\n",
    "expr = expr.replace(sp.Integral, lambda *args: sp.exp(args[1][2]**2)).expand()\n",
    "expr = expr*sp.exp(-(h**2+l**2)/(2*l))\n",
    "expr.expand()"
   ]
  },
  {
   "cell_type": "markdown",
   "metadata": {},
   "source": [
    "### Производные $\\cal{F}^{(2)}$"
   ]
  },
  {
   "cell_type": "code",
   "execution_count": null,
   "metadata": {},
   "outputs": [],
   "source": [
    "expr = s1*s2*Z2sym._sigmas_expr_E_symmetrical*Z2sym._sigmas_expr_cF2_symmetrical\n",
    "expr = expr.diff(l).expand()\n",
    "symbase.collect_sigmas(expr, Z2sym._sigmas_terms_symmetrical, [s1, s2])"
   ]
  },
  {
   "cell_type": "code",
   "execution_count": null,
   "metadata": {},
   "outputs": [],
   "source": [
    "display(Z2sym.E_symmetrical(h, l, 1, 1).diff(h).rewrite(sp.exp))\n",
    "display(Z2sym.E_symmetrical(h, l, 1, 1).rewrite(sp.exp).diff(h))"
   ]
  },
  {
   "cell_type": "code",
   "execution_count": null,
   "metadata": {},
   "outputs": [],
   "source": [
    "display(Z2sym.cF2_symmetrical(h, l).diff(l).rewrite(sp.exp).expand())\n",
    "display(Z2sym.cF2_symmetrical(h, l).rewrite(sp.exp).diff(l).expand())"
   ]
  },
  {
   "cell_type": "markdown",
   "metadata": {},
   "source": [
    "### Численная проверка"
   ]
  },
  {
   "cell_type": "code",
   "execution_count": null,
   "metadata": {},
   "outputs": [],
   "source": [
    "h, l = 1, 1.4\n",
    "print(Z2num.calc_Z2_integrate(0, h, h, l)*np.exp(-2*h-l))\n",
    "print(Z2num.calc_from_coeffs_symmetrical(h, l).Z2_norm)"
   ]
  },
  {
   "cell_type": "code",
   "execution_count": null,
   "metadata": {},
   "outputs": [],
   "source": [
    "h, l = Z2sym.h, Z2sym.l\n",
    "cF2_diff_h = sp.lambdify((h, l), Z2sym.cF2_symmetrical(h, l).diff(h), Z2sym.num_module)\n",
    "cF2_diff_l = sp.lambdify((h, l), Z2sym.cF2_symmetrical(h, l).diff(l), Z2sym.num_module)\n",
    "\n",
    "args = 1, 1.8\n",
    "gradient = nd.Gradient(lambda args: Z2num.cF2_symmetrical(*args))(args)\n",
    "print(gradient[0])\n",
    "print(cF2_diff_h(*args))\n",
    "print()\n",
    "print(gradient[1])\n",
    "print(cF2_diff_l(*args))"
   ]
  },
  {
   "cell_type": "code",
   "execution_count": null,
   "metadata": {},
   "outputs": [],
   "source": [
    "h, l = Z2sym.h, Z2sym.l\n",
    "sigmas_args = 1, 1\n",
    "E_diff_h = sp.lambdify((h, l), Z2sym.E_symmetrical(h, l, *sigmas_args).diff(h), Z2sym.num_module)\n",
    "E_diff_l = sp.lambdify((h, l), Z2sym.E_symmetrical(h, l, *sigmas_args).diff(l), Z2sym.num_module)\n",
    "\n",
    "args = 1, 1.8\n",
    "sigmas_args = list(map(bool, sigmas_args))\n",
    "\n",
    "gradient = nd.Gradient(lambda args: Z2num.E_symmetrical(*args, *sigmas_args))(args)\n",
    "\n",
    "print(gradient[0])\n",
    "print(E_diff_h(*args))\n",
    "print()\n",
    "print(gradient[1])\n",
    "print(E_diff_l(*args))"
   ]
  },
  {
   "cell_type": "markdown",
   "metadata": {},
   "source": [
    "## Моменты"
   ]
  },
  {
   "cell_type": "markdown",
   "metadata": {},
   "source": [
    "### Символьные вычисления"
   ]
  },
  {
   "cell_type": "code",
   "execution_count": null,
   "metadata": {},
   "outputs": [],
   "source": [
    "h, l = Z2sym.h, Z2sym.l\n",
    "Z2_symmetrical = sp.sqrt(2)*(2*sp.pi)**2*Z2sym.cF2_symmetrical(h, l)/(h*sp.sqrt(l))"
   ]
  },
  {
   "cell_type": "code",
   "execution_count": null,
   "metadata": {},
   "outputs": [],
   "source": [
    "m, eta = Z2sym.m, Z2sym.eta\n",
    "Z2 = Z2_symmetrical\n",
    "Z2"
   ]
  },
  {
   "cell_type": "code",
   "execution_count": null,
   "metadata": {},
   "outputs": [],
   "source": [
    "expr_m = sp.log(Z2).diff(h)/2\n",
    "expr_m = expr_m.expand()\n",
    "display(sp.Eq(m, expr_m))\n",
    "sp.print_latex(sp.Eq(m, expr_m))"
   ]
  },
  {
   "cell_type": "code",
   "execution_count": null,
   "metadata": {},
   "outputs": [],
   "source": [
    "expr_eta = sp.log(Z2).diff(l)\n",
    "expr_eta = expr_eta.expand()\n",
    "display(sp.Eq(eta, expr_eta))\n",
    "sp.print_latex(sp.Eq(eta, expr_eta))"
   ]
  },
  {
   "cell_type": "code",
   "execution_count": null,
   "metadata": {},
   "outputs": [],
   "source": [
    "_E12, _E1 = Z2sym.E_symmetrical(h, l, 1, 1), Z2sym.E_symmetrical(h, l, 1, 0)\n",
    "_E12_E1 = sp.solve([m-expr_m, eta-expr_eta], _E12, _E1)\n",
    "_expr_E12 = _E12_E1[_E12].factor()\n",
    "_expr_E1 = _E12_E1[_E1].factor()\n",
    "\n",
    "_expr_cF2_1 = sp.solve(_E12-_expr_E12, Z2sym.cF2_symmetrical(h, l))[0]\n",
    "_expr_cF2_2 = sp.solve(_E1-_expr_E1, Z2sym.cF2_symmetrical(h, l))[0]\n",
    "\n",
    "display(sp.Eq(Z2sym.cF2_symmetrical(h, l), _expr_cF2_1))\n",
    "sp.print_latex(sp.Eq(Z2sym.cF2_symmetrical(h, l), _expr_cF2_1))\n",
    "display(sp.Eq(Z2sym.cF2_symmetrical(h, l), _expr_cF2_2))\n",
    "sp.print_latex(sp.Eq(Z2sym.cF2_symmetrical(h, l), _expr_cF2_2))\n"
   ]
  },
  {
   "cell_type": "code",
   "execution_count": null,
   "metadata": {},
   "outputs": [],
   "source": [
    "subs_to_m_and_eta_symmetrical = {\n",
    "    Z2sym.E_symmetrical(h, l, 1, 1): _expr_E12,\n",
    "    Z2sym.E_symmetrical(h, l, 1, 0): _expr_E1,\n",
    "    Z2sym.cF2_symmetrical(h, l): _expr_cF2_1\n",
    "}\n",
    "subs_to_m_and_eta = subs_to_m_and_eta_symmetrical"
   ]
  },
  {
   "cell_type": "code",
   "execution_count": null,
   "metadata": {},
   "outputs": [],
   "source": [
    "expr_eta2 = Z2.diff(l, 2)/Z2\n",
    "expr_eta2 = expr_eta2.expand()\n",
    "\n",
    "expr = expr_eta2.subs(subs_to_m_and_eta).expand()\n",
    "expr = expr.collect([Z2sym.E_symmetrical(h, l, 0, 0)/Z2sym.E_symmetrical(h, l, 1, 1), m, eta], sp.factor)\n",
    "display(expr)\n",
    "sp.print_latex(expr)"
   ]
  },
  {
   "cell_type": "code",
   "execution_count": null,
   "metadata": {},
   "outputs": [],
   "source": [
    "expr_m_eta = Z2.diff(h, l)/(2*Z2)\n",
    "expr_m_eta = expr_m_eta.expand()\n",
    "\n",
    "expr = expr_m_eta.subs(subs_to_m_and_eta).expand()\n",
    "expr = expr.collect([Z2sym.E_symmetrical(h, l, 0, 0)/Z2sym.E_symmetrical(h, l, 1, 1), m, eta], sp.factor)\n",
    "display(expr)\n",
    "sp.print_latex(expr)"
   ]
  },
  {
   "cell_type": "code",
   "execution_count": null,
   "metadata": {},
   "outputs": [],
   "source": [
    "_E = Z2sym.E_symmetrical(h, l, 0, 0)/Z2sym.E_symmetrical(h, l, 1, 1)\n",
    "subs_to_m_eta_symmetrical = {\n",
    "    _E: sp.solve(expr_m_eta.subs(subs_to_m_and_eta)-Z2sym.m_eta, _E)[0]\n",
    "}\n",
    "subs_to_m_eta = subs_to_m_eta_symmetrical"
   ]
  },
  {
   "cell_type": "code",
   "execution_count": null,
   "metadata": {},
   "outputs": [],
   "source": [
    "subs_to_upsilon = {Z2sym.m_eta: m*(1-2*Z2sym.upsilon)}"
   ]
  },
  {
   "cell_type": "code",
   "execution_count": null,
   "metadata": {},
   "outputs": [],
   "source": [
    "expr = expr_eta2.subs(subs_to_m_and_eta).subs(subs_to_m_eta).expand()\n",
    "subs_to_eta2 = {l: sp.solve(expr-Z2sym.eta2, l)[0]}\n",
    "expr = sp.Eq(l/2*(Z2sym.eta2-1), sp.expand(l/2*(expr.subs(subs_to_upsilon)-1)))\n",
    "\n",
    "display(expr)\n",
    "sp.print_latex(expr)"
   ]
  },
  {
   "cell_type": "code",
   "execution_count": null,
   "metadata": {},
   "outputs": [],
   "source": [
    "for moment, expr_moment in zip([m, eta], [expr_m, expr_eta]):\n",
    "    for arg in [h, l]:\n",
    "        expr = expr_moment.diff(arg).expand().subs(subs_to_m_and_eta).expand()\n",
    "        expr = expr.subs(subs_to_m_eta).factor().expand()\n",
    "        expr = expr.subs(subs_to_eta2).factor().expand()\n",
    "        display(sp.Eq(sp.Derivative(moment, arg), expr))"
   ]
  },
  {
   "cell_type": "markdown",
   "metadata": {},
   "source": [
    "### Численная проверка"
   ]
  },
  {
   "cell_type": "code",
   "execution_count": null,
   "metadata": {},
   "outputs": [],
   "source": [
    "def calc_Z2_symmetrical_integrate(args):\n",
    "    h, l = args\n",
    "    return Z2num.calc_Z2_integrate(0, h, h, l)"
   ]
  },
  {
   "cell_type": "code",
   "execution_count": null,
   "metadata": {},
   "outputs": [],
   "source": [
    "f_expr_m = sp.lambdify((h, l), expr_m, Z2sym.num_module_norm)\n",
    "f_expr_eta = sp.lambdify((h, l), expr_eta, Z2sym.num_module_norm)\n",
    "\n",
    "args = 4, 5\n",
    "moments = nd.Gradient(calc_Z2_symmetrical_integrate)(args)/calc_Z2_symmetrical_integrate(args)\n",
    "z2 = Z2num.calc_from_coeffs_symmetrical(*args)\n",
    "\n",
    "print(moments[0]/2)\n",
    "print(f_expr_m(*args))\n",
    "print(z2.m)\n",
    "print()\n",
    "print(moments[1])\n",
    "print(f_expr_eta(*args))\n",
    "print(z2.eta)"
   ]
  },
  {
   "cell_type": "code",
   "execution_count": null,
   "metadata": {},
   "outputs": [],
   "source": [
    "f_expr_cF2_1 = sp.lambdify((h, l, m, eta), _expr_cF2_1, Z2sym.num_module)\n",
    "f_expr_cF2_2 = sp.lambdify((h, l, m, eta), _expr_cF2_2, Z2sym.num_module)\n",
    "\n",
    "args = 1, 1.6\n",
    "args_moments = f_expr_m(*args), f_expr_eta(*args)\n",
    "\n",
    "print(Z2num.cF2_symmetrical(*args))\n",
    "print(f_expr_cF2_1(*args, *args_moments))\n",
    "print(f_expr_cF2_2(*args, *args_moments))"
   ]
  },
  {
   "cell_type": "code",
   "execution_count": null,
   "metadata": {},
   "outputs": [],
   "source": [
    "f_expr_m_eta = sp.lambdify((h, l), expr_m_eta, Z2sym.num_module_norm)\n",
    "f_expr_eta2 = sp.lambdify((h, l), expr_eta2, Z2sym.num_module_norm)\n",
    "\n",
    "args = 3.4, 1.9\n",
    "moments = nd.Hessian(calc_Z2_symmetrical_integrate)(args)/calc_Z2_symmetrical_integrate(args)\n",
    "z2 = Z2num.calc_from_coeffs_symmetrical(*args)\n",
    "\n",
    "print(moments[0, 1]/2)\n",
    "print(moments[1, 0]/2)\n",
    "print(f_expr_m_eta(*args))\n",
    "print(z2.m_eta)\n",
    "print()\n",
    "print(moments[1, 1])\n",
    "print(f_expr_eta2(*args))\n",
    "print(z2.eta2)"
   ]
  },
  {
   "cell_type": "markdown",
   "metadata": {},
   "source": [
    "## Предельные случаи "
   ]
  },
  {
   "cell_type": "markdown",
   "metadata": {},
   "source": [
    "### $\\lambda \\rightarrow 0$"
   ]
  },
  {
   "cell_type": "code",
   "execution_count": null,
   "metadata": {},
   "outputs": [],
   "source": [
    "expr = Z2.rewrite(sp.exp)\n",
    "expr = Z2sym.dawsn_to_series_oo(expr, 1).factor()\n",
    "expr = sp.limit(expr, l, 0).expand()\n",
    "display(expr)\n",
    "\n",
    "expr.rewrite(sp.sin).factor()"
   ]
  },
  {
   "cell_type": "code",
   "execution_count": null,
   "metadata": {},
   "outputs": [],
   "source": [
    "expr = expr_m.rewrite(sp.exp)\n",
    "expr = Z2sym.dawsn_to_series_oo(expr, 2).factor()\n",
    "expr = sp.limit(expr, l, 0).factor()\n",
    "display(expr)\n",
    "\n",
    "subs_to_m_llb = {\n",
    "    sp.exp(2*h): sp.solve(expr.expand()-m, sp.exp(2*h))[0]\n",
    "}\n",
    "\n",
    "expr.expand().rewrite(sp.tanh).factor().expand()"
   ]
  },
  {
   "cell_type": "code",
   "execution_count": null,
   "metadata": {},
   "outputs": [],
   "source": [
    "expr = expr_eta.rewrite(sp.exp)\n",
    "expr = Z2sym.dawsn_to_series_oo(expr, 3).factor()\n",
    "expr = sp.limit(expr, l, 0).factor()\n",
    "display(expr)\n",
    "\n",
    "expr.expand().subs(subs_to_m_llb).factor()"
   ]
  },
  {
   "cell_type": "code",
   "execution_count": null,
   "metadata": {},
   "outputs": [],
   "source": [
    "expr = expr_m_eta.rewrite(sp.exp)\n",
    "expr = Z2sym.dawsn_to_series_oo(expr, 4).factor()\n",
    "expr = sp.limit(expr, l, 0).factor()\n",
    "display(expr)\n",
    "\n",
    "expr = expr.expand().subs(subs_to_m_llb).factor().expand()\n",
    "display(expr)\n",
    "sp.print_latex(expr)"
   ]
  },
  {
   "cell_type": "code",
   "execution_count": null,
   "metadata": {},
   "outputs": [],
   "source": [
    "expr = expr_eta2.rewrite(sp.exp).factor()\n",
    "expr = Z2sym.dawsn_to_series_oo(expr, 5).factor()\n",
    "expr = sp.limit(expr, l, 0).factor()\n",
    "display(expr)\n",
    "\n",
    "expr = expr.expand().subs(subs_to_m_llb).factor().expand()\n",
    "display(expr)\n",
    "sp.print_latex(expr)"
   ]
  },
  {
   "cell_type": "code",
   "execution_count": null,
   "metadata": {},
   "outputs": [],
   "source": [
    "# expr = expr_m.diff(l).rewrite(sp.exp)\n",
    "# expr = Z2sym.dawsn_to_series_oo(expr, 4).factor()\n",
    "# expr = sp.limit(expr, l, 0).factor()\n",
    "# display(expr)\n",
    "\n",
    "# expr.expand().subs(subs_to_m_llb).factor().expand()"
   ]
  },
  {
   "cell_type": "code",
   "execution_count": null,
   "metadata": {},
   "outputs": [],
   "source": [
    "# expr = (expr_eta).diff(l).rewrite(sp.exp)\n",
    "# expr = Z2sym.dawsn_to_series_oo(expr, 5).factor()\n",
    "# expr = sp.limit(expr, l, 0).factor()\n",
    "# display(expr)\n",
    "\n",
    "# expr = expr.expand().subs(subs_to_m_llb).factor().expand()\n",
    "# expr"
   ]
  },
  {
   "cell_type": "code",
   "execution_count": null,
   "metadata": {},
   "outputs": [],
   "source": [
    "# expr = (expr_m_eta/2).diff(l).factor().rewrite(sp.exp)\n",
    "# expr = Z2sym.dawsn_to_series_oo(expr, 6).factor()\n",
    "# expr = sp.limit(expr, l, 0).factor()\n",
    "# display(expr)\n",
    "\n",
    "# expr = expr.expand().subs(subs_to_m_llb).factor().expand()\n",
    "# display(expr)\n",
    "\n",
    "# expr = expr/m - (m-2*m**2/h)/m**2*(m - m * m * m - 2 * m * m/h)\n",
    "# expr = expr.expand()\n",
    "# display(expr)\n",
    "# display(expr.replace(m, h/3))"
   ]
  },
  {
   "cell_type": "code",
   "execution_count": null,
   "metadata": {},
   "outputs": [],
   "source": [
    "# expr = expr_eta2.diff(l).factor().rewrite(sp.exp)\n",
    "# expr = Z2sym.dawsn_to_series_oo(expr, 7).factor()\n",
    "# expr = sp.limit(expr, l, 0).factor()\n",
    "# display(expr)\n",
    "\n",
    "# expr = expr.expand().subs(subs_to_m_llb).factor().expand()\n",
    "# display(expr)\n",
    "# display(expr.replace(m, h/3))"
   ]
  },
  {
   "cell_type": "markdown",
   "metadata": {},
   "source": [
    "### $h \\rightarrow 0$"
   ]
  },
  {
   "cell_type": "code",
   "execution_count": null,
   "metadata": {},
   "outputs": [],
   "source": [
    "expr = Z2.rewrite(sp.exp)\n",
    "expr = symbase.LHopital(expr.factor(), h).replace(h, 0).expand()\n",
    "display(expr)\n",
    "\n",
    "expr = expr.rewrite(sp.sin).factor()\n",
    "display(expr)\n",
    "sp.print_latex(expr)"
   ]
  },
  {
   "cell_type": "code",
   "execution_count": null,
   "metadata": {},
   "outputs": [],
   "source": [
    "expr = expr_m.rewrite(sp.exp).factor()\n",
    "expr = symbase.LHopital(expr, h, 2)\n",
    "expr = expr.replace(h, 0)\n",
    "display(expr)"
   ]
  },
  {
   "cell_type": "code",
   "execution_count": null,
   "metadata": {},
   "outputs": [],
   "source": [
    "expr = expr_eta.rewrite(sp.exp)\n",
    "expr = symbase.LHopital(expr.factor(), h)\n",
    "expr = expr.replace(h, 0).factor()\n",
    "display(expr)\n",
    "\n",
    "subs_to_eta_prmg = {\n",
    "    sp.exp(2*l): sp.solve(expr.expand()-eta, sp.exp(2*l))[0]\n",
    "}\n",
    "\n",
    "expr = expr.expand().rewrite(sp.tanh).factor().expand()\n",
    "display(expr)\n",
    "sp.print_latex(expr)"
   ]
  },
  {
   "cell_type": "code",
   "execution_count": null,
   "metadata": {},
   "outputs": [],
   "source": [
    "expr = ((1-expr_m_eta/expr_m)/2)\n",
    "expr = symbase.LHopital(expr.factor(), h, 2)\n",
    "expr = expr.rewrite(sp.exp).replace(h, 0).factor()\n",
    "display(expr)\n",
    "\n",
    "expr.expand().subs(subs_to_eta_prmg).factor()"
   ]
  },
  {
   "cell_type": "code",
   "execution_count": null,
   "metadata": {},
   "outputs": [],
   "source": [
    "expr = expr_eta2.rewrite(sp.exp)\n",
    "expr = symbase.LHopital(expr.factor(), h, 2)\n",
    "expr = expr.rewrite(sp.exp).replace(h, 0).factor()\n",
    "display(expr)\n",
    "\n",
    "expr.expand().subs(subs_to_eta_prmg).factor().expand()"
   ]
  },
  {
   "cell_type": "code",
   "execution_count": null,
   "metadata": {},
   "outputs": [],
   "source": [
    "expr = expr_m/h\n",
    "expr = symbase.LHopital(expr.factor(), h, 2)\n",
    "expr = expr.rewrite(sp.exp).replace(h, 0).factor()\n",
    "display(expr)\n",
    "\n",
    "expr.expand().subs(subs_to_eta_prmg).factor()"
   ]
  },
  {
   "cell_type": "code",
   "execution_count": null,
   "metadata": {},
   "outputs": [],
   "source": [
    "# expr = (expr_m/h).diff(h).factor()\n",
    "# expr = symbase.LHopital(expr, h, 5)\n",
    "# expr = expr.rewrite(sp.exp).replace(h, 0)\n",
    "# display(expr)"
   ]
  },
  {
   "cell_type": "code",
   "execution_count": null,
   "metadata": {},
   "outputs": [],
   "source": [
    "expr = expr_eta.diff(h).factor()\n",
    "expr = symbase.LHopital(expr, h, 2)\n",
    "expr = expr.rewrite(sp.exp).replace(h, 0)\n",
    "display(expr)"
   ]
  },
  {
   "cell_type": "code",
   "execution_count": null,
   "metadata": {},
   "outputs": [],
   "source": [
    "# expr = ((1-expr_m_eta/expr_m)/2).diff(h).factor()\n",
    "# expr = symbase.LHopital(expr.factor(), h, 6)\n",
    "# expr = expr.rewrite(sp.exp).replace(h, 0).factor()\n",
    "# display(expr)"
   ]
  },
  {
   "cell_type": "markdown",
   "metadata": {},
   "source": [
    "## Генерация кода C++ для реализации метода Ньютона"
   ]
  },
  {
   "cell_type": "code",
   "execution_count": null,
   "metadata": {},
   "outputs": [],
   "source": [
    "subs = {\n",
    "    Z2sym.cF2_symmetrical(h, l): sp.Symbol(\"cF2_norm\"),\n",
    "    Z2sym.E_symmetrical(h, l, 1, 1): sp.Symbol(\"E12_norm\"),\n",
    "    Z2sym.E_symmetrical(h, l, 1, 0): sp.Symbol(\"E1_norm\"),\n",
    "    Z2sym.E_symmetrical(h, l, 0, 0): sp.Symbol(\"E_norm\"),\n",
    "    m: sp.Symbol(\"m\"), eta: sp.Symbol(\"eta\"),\n",
    "    sp.exp(-2*h): sp.Symbol(\"_exp_2h\"),\n",
    "    sp.exp(-2*l): sp.Symbol(\"_exp_2l\"),\n",
    "    l: sp.Symbol(\"l\")\n",
    "}\n",
    "\n",
    "\n",
    "def optimize(expr):\n",
    "    expr = symbase.optimize_pow(expr, {l: \"l\"})\n",
    "    expr = expr.subs(subs)\n",
    "    return expr"
   ]
  },
  {
   "cell_type": "code",
   "execution_count": null,
   "metadata": {},
   "outputs": [],
   "source": [
    "print(symbase.get_ccode(optimize(.5*(1-expr_m_eta/m)).factor()))"
   ]
  },
  {
   "cell_type": "markdown",
   "metadata": {},
   "source": [
    "## Решение обратной задачи"
   ]
  },
  {
   "cell_type": "markdown",
   "metadata": {},
   "source": [
    "### Прямая задача"
   ]
  },
  {
   "cell_type": "code",
   "execution_count": null,
   "metadata": {},
   "outputs": [],
   "source": [
    "h = np.logspace(-5, 1, 100)\n",
    "l = np.logspace(-5, 1, 100)\n",
    "\n",
    "h, l = np.meshgrid(h, l)"
   ]
  },
  {
   "cell_type": "code",
   "execution_count": null,
   "metadata": {},
   "outputs": [],
   "source": [
    "m, eta = np.empty_like(h), np.empty_like(h)\n",
    "upsilon, eta2 = np.empty_like(h), np.empty_like(h)\n",
    "Z2_norm = np.empty_like(m)\n",
    "\n",
    "for i in range(h.size):\n",
    "    z2 = Z2num.calc_from_coeffs_symmetrical(h.flat[i], l.flat[i])\n",
    "    m.flat[i], eta.flat[i] = z2.m, z2.eta\n",
    "    upsilon.flat[i], eta2.flat[i] = z2.upsilon, z2.eta2\n",
    "    Z2_norm.flat[i] = z2.Z2_norm"
   ]
  },
  {
   "cell_type": "code",
   "execution_count": null,
   "metadata": {},
   "outputs": [],
   "source": [
    "datlib.np2dat(\n",
    "    \"data/Z2.dat\",\n",
    "    \"h l upsilon eta2 Z2_norm\".split(),\n",
    "    np.asarray([\n",
    "        h, l, upsilon, eta2, Z2_norm\n",
    "    ])\n",
    ")"
   ]
  },
  {
   "cell_type": "code",
   "execution_count": null,
   "metadata": {},
   "outputs": [],
   "source": [
    "# %%bash\n",
    "# gplt3 -pm3d -U 'Z2_norm' data/Z2.dat -ln xy -to data/picts/pict.pdf "
   ]
  },
  {
   "cell_type": "markdown",
   "metadata": {},
   "source": [
    "### Обратная задача"
   ]
  },
  {
   "cell_type": "code",
   "execution_count": null,
   "metadata": {},
   "outputs": [],
   "source": [
    "m = np.linspace(0, 1, 100)\n",
    "zeta = np.linspace(0, 1, 100)\n",
    "\n",
    "m, zeta = np.meshgrid(m, zeta)\n",
    "eta = zeta + (1-zeta)*m**2"
   ]
  },
  {
   "cell_type": "code",
   "execution_count": null,
   "metadata": {},
   "outputs": [],
   "source": [
    "p, h, l = np.empty_like(m), np.empty_like(m), np.empty_like(m)\n",
    "upsilon, eta2, mhj = np.empty_like(m), np.empty_like(m), np.empty_like(m)\n",
    "psi0, Z2_norm = np.empty_like(m), np.empty_like(m)\n",
    "\n",
    "for i in range(m.size):\n",
    "    z2 = Z2num.find_coeffs_symmetrical(m.flat[i], eta.flat[i])\n",
    "    h.flat[i], l.flat[i] = z2.h, z2.l\n",
    "    upsilon.flat[i], eta2.flat[i], mhj.flat[i] = z2.upsilon, z2.eta2, z2.mh2\n",
    "    psi0.flat[i], Z2_norm.flat[i] = z2.psi0, z2.Z2_norm\n",
    "    p.flat[i] = Z2num.invL(m.flat[i])"
   ]
  },
  {
   "cell_type": "code",
   "execution_count": null,
   "metadata": {},
   "outputs": [],
   "source": [
    "datlib.np2dat(\n",
    "    \"data/Z2.dat\",\n",
    "    \"m eta zeta p h l upsilon eta2 mhj psi0 Z2_norm\".split(),\n",
    "    np.asarray([\n",
    "        m, eta, zeta, p, h, l, upsilon, eta2, mhj, psi0, Z2_norm\n",
    "    ])\n",
    ")"
   ]
  },
  {
   "cell_type": "code",
   "execution_count": null,
   "metadata": {},
   "outputs": [],
   "source": [
    "# %%bash\n",
    "# gplt3 -pm3d -U 'Z2_norm(m,zeta)' data/Z2.dat -to data/picts/pict.pdf "
   ]
  },
  {
   "cell_type": "markdown",
   "metadata": {},
   "source": [
    "### Асимптотика при $\\left<m\\right> \\rightarrow 1$"
   ]
  },
  {
   "cell_type": "code",
   "execution_count": null,
   "metadata": {},
   "outputs": [],
   "source": [
    "m = np.linspace(.99, 1, 100)\n",
    "zeta = np.linspace(.05, 1, 100)\n",
    "\n",
    "m, zeta = np.meshgrid(m, zeta)\n",
    "eta = zeta + (1-zeta)*m**2"
   ]
  },
  {
   "cell_type": "code",
   "execution_count": null,
   "metadata": {},
   "outputs": [],
   "source": [
    "h, l = np.empty_like(m), np.empty_like(m)\n",
    "upsilon, eta2, mhj = np.empty_like(m), np.empty_like(m), np.empty_like(m)\n",
    "psi0, Z2_norm = np.empty_like(m), np.empty_like(m)\n",
    "\n",
    "for i in range(m.size):\n",
    "    z2 = Z2num.find_coeffs_symmetrical_by_scipy(m.flat[i], eta.flat[i])\n",
    "    h.flat[i], l.flat[i] = z2.h, z2.l\n",
    "    upsilon.flat[i], eta2.flat[i], mhj.flat[i] = z2.upsilon, z2.eta2, z2.mh2\n",
    "    psi0.flat[i], Z2_norm.flat[i] = z2.psi0, z2.Z2_norm"
   ]
  },
  {
   "cell_type": "code",
   "execution_count": null,
   "metadata": {},
   "outputs": [],
   "source": [
    "datlib.np2dat(\n",
    "    \"data/Z2.dat\",\n",
    "    \"m eta zeta h l upsilon eta2 mhj psi0 Z2_norm\".split(),\n",
    "    np.asarray([\n",
    "        m, eta, zeta, h, l, upsilon, eta2, mhj, psi0, Z2_norm\n",
    "    ])\n",
    ")"
   ]
  },
  {
   "cell_type": "code",
   "execution_count": null,
   "metadata": {},
   "outputs": [],
   "source": [
    "# %%bash\n",
    "# gplt3 -pm3d -U 'upsilon(m,eta)' data/Z2.dat -to data/picts/pict.pdf "
   ]
  },
  {
   "cell_type": "code",
   "execution_count": null,
   "metadata": {},
   "outputs": [],
   "source": [
    "variables = 1-m, 1-eta\n",
    "y_data = upsilon\n",
    "indexes_nans = np.logical_not(np.isnan(h))\n",
    "\n",
    "def func(_, *p_args, nans=True):    \n",
    "    result = p_args[0]\n",
    "    result += p_args[1]*variables[0] + p_args[2]*variables[1]\n",
    "\n",
    "    if nans:\n",
    "        return result[indexes_nans].ravel()\n",
    "    else:\n",
    "        return result\n",
    "    \n",
    "\n",
    "p0 = [0] + 2*[1]\n",
    "p = opt.curve_fit(func, None, y_data[indexes_nans].ravel(), p0=p0)[0]\n",
    "p"
   ]
  },
  {
   "cell_type": "code",
   "execution_count": null,
   "metadata": {},
   "outputs": [],
   "source": [
    "# x = 1 - m\n",
    "# y = 1 - eta\n",
    "\n",
    "# upsilon = y/2\n",
    "# eta2 = 1 - 2*y\n",
    "# mjh2 = 1 - 2*x\n",
    "# psi0 = -y/2"
   ]
  },
  {
   "cell_type": "markdown",
   "metadata": {},
   "source": [
    "# Ферромагнетик в несимметричном случае"
   ]
  },
  {
   "cell_type": "markdown",
   "metadata": {},
   "source": [
    "## Выражение для $Z^{(2)}$"
   ]
  },
  {
   "cell_type": "markdown",
   "metadata": {},
   "source": [
    "### Аргументы"
   ]
  },
  {
   "cell_type": "code",
   "execution_count": null,
   "metadata": {},
   "outputs": [],
   "source": [
    "hi, hj, l = Z2sym.hi, Z2sym.hj, Z2sym.l\n",
    "s1, s2 = symbase.SigmaSymbol(\"\\\\sigma_1\"), symbase.SigmaSymbol(\"\\\\sigma_2\")\n",
    "t = sp.Symbol(\"t\")"
   ]
  },
  {
   "cell_type": "code",
   "execution_count": null,
   "metadata": {},
   "outputs": [],
   "source": [
    "arg_exp = t**2/(2*l)*hi/hj + s1*t\n",
    "bound = hj+s2*l\n",
    "\n",
    "arg_exp = arg_exp.replace(t, t-s1*l*hj/hi).expand()\n",
    "bound += s1*l*hj/hi\n",
    "\n",
    "arg_exp = arg_exp.replace(t, t*sp.sqrt(2*l*hj/hi))\n",
    "bound /= sp.sqrt(2*l*hj/hi)\n",
    "\n",
    "display(arg_exp)\n",
    "display(bound)"
   ]
  },
  {
   "cell_type": "code",
   "execution_count": null,
   "metadata": {},
   "outputs": [],
   "source": [
    "expr = bound**2 + (arg_exp - t**2)\n",
    "expr = expr.expand()\n",
    "expr -= (hj**2+l**2)/(2*l*hj/hi)\n",
    "expr = expr.expand()\n",
    "\n",
    "display(expr)"
   ]
  },
  {
   "cell_type": "markdown",
   "metadata": {},
   "source": [
    "### Производные $\\cal{F}^{(2)}$"
   ]
  },
  {
   "cell_type": "code",
   "execution_count": null,
   "metadata": {},
   "outputs": [],
   "source": [
    "display(Z2sym.E_not_symmetrical(hi, hj, l, 1, 1).diff(l).rewrite(sp.exp))\n",
    "display(Z2sym.E_not_symmetrical(hi, hj, l, 1, 1).rewrite(sp.exp).diff(l))"
   ]
  },
  {
   "cell_type": "code",
   "execution_count": null,
   "metadata": {},
   "outputs": [],
   "source": [
    "# display(Z2sym.cF2_not_symmetrical(hi, hj, l).diff(hi).rewrite(sp.exp).expand())\n",
    "# display(Z2sym.cF2_not_symmetrical(hi, hj, l).rewrite(sp.exp).diff(hi).expand())"
   ]
  },
  {
   "cell_type": "markdown",
   "metadata": {},
   "source": [
    "### Численная проверка"
   ]
  },
  {
   "cell_type": "code",
   "execution_count": null,
   "metadata": {},
   "outputs": [],
   "source": [
    "hi, hj, l = Z2sym.hi, Z2sym.hj, Z2sym.l\n",
    "cF2_diff_hi = sp.lambdify((hi, hj, l), Z2sym.cF2_not_symmetrical(hi, hj, l).diff(hi), Z2sym.num_module)\n",
    "cF2_diff_hj = sp.lambdify((hi, hj, l), Z2sym.cF2_not_symmetrical(hi, hj, l).diff(hj), Z2sym.num_module)\n",
    "cF2_diff_l = sp.lambdify((hi, hj, l), Z2sym.cF2_not_symmetrical(hi, hj, l).diff(l), Z2sym.num_module)\n",
    "\n",
    "args = 1, -2, -1.4\n",
    "gradient = nd.Gradient(lambda args: Z2num.cF2_not_symmetrical(*args))(args)\n",
    "\n",
    "print(gradient[0])\n",
    "print(cF2_diff_hi(*args))\n",
    "print()\n",
    "print(gradient[1])\n",
    "print(cF2_diff_hj(*args))\n",
    "print()\n",
    "print(gradient[2])\n",
    "print(cF2_diff_l(*args))"
   ]
  },
  {
   "cell_type": "code",
   "execution_count": null,
   "metadata": {},
   "outputs": [],
   "source": [
    "hi, hj, l = Z2sym.hi, Z2sym.hj, Z2sym.l\n",
    "sigmas_args = 1, 1\n",
    "E_diff_hi = sp.lambdify((hi, hj, l), Z2sym.E_not_symmetrical(hi, hj, l, *sigmas_args).diff(hi), Z2sym.num_module)\n",
    "E_diff_hj = sp.lambdify((hi, hj, l), Z2sym.E_not_symmetrical(hi, hj, l, *sigmas_args).diff(hj), Z2sym.num_module)\n",
    "E_diff_l = sp.lambdify((hi, hj, l), Z2sym.E_not_symmetrical(hi, hj, l, *sigmas_args).diff(l), Z2sym.num_module)\n",
    "\n",
    "args = 1, 1.8, 1.4\n",
    "sigmas_args = list(map(bool, sigmas_args))\n",
    "\n",
    "gradient = nd.Gradient(lambda args: Z2num.E_not_symmetrical(*args, *sigmas_args))(args)\n",
    "\n",
    "print(gradient[0])\n",
    "print(E_diff_hi(*args))\n",
    "print()\n",
    "print(gradient[1])\n",
    "print(E_diff_hj(*args))\n",
    "print()\n",
    "print(gradient[2])\n",
    "print(E_diff_l(*args))"
   ]
  },
  {
   "cell_type": "markdown",
   "metadata": {},
   "source": [
    "## Моменты"
   ]
  },
  {
   "cell_type": "code",
   "execution_count": null,
   "metadata": {},
   "outputs": [],
   "source": [
    "hi, hj, l = Z2sym.hi, Z2sym.hj, Z2sym.l\n",
    "Z2 = sp.sqrt(2)*(2*sp.pi)**2/sp.sqrt(hi*hj*l)*Z2sym.cF2_not_symmetrical(hi, hj, l)\n",
    "Z2"
   ]
  },
  {
   "cell_type": "markdown",
   "metadata": {},
   "source": [
    "### Симметричный случай"
   ]
  },
  {
   "cell_type": "code",
   "execution_count": null,
   "metadata": {},
   "outputs": [],
   "source": [
    "h, l = Z2sym.h, Z2sym.l"
   ]
  },
  {
   "cell_type": "code",
   "execution_count": null,
   "metadata": {},
   "outputs": [],
   "source": [
    "expr_hessian_symmetrical = sp.zeros(3, 3)\n",
    "for i in range(3):\n",
    "    for j in range(3):\n",
    "        arg1, arg2 = [hi, hj, l][i], [hi, hj, l][j]\n",
    "        expr_hessian_symmetrical[i, j] = Z2.diff(arg1, arg2)/Z2\n",
    "        expr_hessian_symmetrical[i, j] = expr_hessian_symmetrical[i, j].expand().subs({hi: h, hj: h})\n",
    "\n",
    "expr = expr_hessian_symmetrical\n",
    "expr = expr.subs(subs_to_m_and_eta_symmetrical).expand()\n",
    "expr = expr.subs(subs_to_m_eta_symmetrical)\n",
    "expr = sp.Matrix(3, 3, lambda i, j: expr[i, j].factor()).expand()\n",
    "\n",
    "expr[2, 2] = expr[2, 2].subs(subs_to_eta2).factor()\n",
    "\n",
    "for i in range(3):\n",
    "    for j in range(3):\n",
    "        if expr[i, j] != Z2sym.m_eta:\n",
    "            expr[i, j] = expr[i, j].subs(subs_to_upsilon).expand()\n",
    "\n",
    "expr"
   ]
  },
  {
   "cell_type": "markdown",
   "metadata": {},
   "source": [
    "#### Момент $\\Psi$"
   ]
  },
  {
   "cell_type": "code",
   "execution_count": null,
   "metadata": {},
   "outputs": [],
   "source": [
    "from sympy.vector import CoordSys3D, Del\n",
    "\n",
    "N = CoordSys3D(\"N\")\n",
    "delop = Del()\n",
    "\n",
    "vhi, vhj, vh3 = sp.symbols(\"h_1 h_2 h_3\")\n",
    "vh = vhi*N.i + vhj*N.j + vh3*N.k\n",
    "\n",
    "nk1, nk2, nk3 = sp.symbols(\"n_{1K} n_{2K} n_{3K}\")\n",
    "nk = nk1*N.i + nk2*N.j + nk3*N.k"
   ]
  },
  {
   "cell_type": "code",
   "execution_count": null,
   "metadata": {},
   "outputs": [],
   "source": [
    "gamma1, gamma2 = sp.symbols(\"\\\\gamma_1 \\\\gamma_2\", positive=True)"
   ]
  },
  {
   "cell_type": "code",
   "execution_count": null,
   "metadata": {},
   "outputs": [],
   "source": [
    "v1 = vh + gamma1*nk\n",
    "v2 = vh + gamma2*nk\n",
    "\n",
    "v1_par_2 = v1.dot(v2)/v2.magnitude()\n",
    "v1_per_2 = sp.sqrt(v1.dot(v1) - v1_par_2**2)\n",
    "v2_magnitude = v2.magnitude()"
   ]
  },
  {
   "cell_type": "code",
   "execution_count": null,
   "metadata": {},
   "outputs": [],
   "source": [
    "def _diff_func(func, args): \n",
    "    if len(args) == 0:\n",
    "        return func\n",
    "\n",
    "    arg = args[0]\n",
    "    if isinstance(func, sp.Function):\n",
    "        func = func.fdiff(arg)\n",
    "        return _diff_func(func, args[1:])\n",
    "    if isinstance(func, sp.Subs):\n",
    "        return sp.Subs(_diff_func(func.args[0], args), *func.args[1:])\n",
    "    if isinstance(func, sp.Derivative):\n",
    "        return sp.Derivative(_diff_func(func.args[0], args), *func.args[1:])"
   ]
  },
  {
   "cell_type": "code",
   "execution_count": null,
   "metadata": {},
   "outputs": [],
   "source": [
    "Z = sp.Function(\"Z\")(v1_per_2, v1_par_2, v2_magnitude, l)\n",
    "\n",
    "def two_diff_func(func, arg1, arg2):\n",
    "    args = func.args\n",
    "    result = 0\n",
    "    for i, arg in enumerate(args):\n",
    "        result += arg.diff(arg1, arg2).subs({gamma2: 0}).factor()*_diff_func(func, [i+1])\n",
    "\n",
    "        factor = arg.diff(arg1).subs({gamma2: 0})\n",
    "        for j, j_arg in enumerate(args):\n",
    "            term = (factor*j_arg.diff(arg2)).subs({gamma2: 0}).factor()\n",
    "            result += term*_diff_func(func, [i+1, j+1])\n",
    "    return result\n",
    "\n",
    "expr_psi = (two_diff_func(Z, gamma1, gamma1).diff(l) - two_diff_func(Z, gamma1, gamma2)).subs({gamma1: 0, gamma2: 0})\n",
    "expr_psi = expr_psi.subs(vh.dot(vh), h**2).expand()\n",
    "\n",
    "def v_per_diff_eval(*args):\n",
    "    func = args[0]\n",
    "    diff_args = args[1:]\n",
    "    per_arg = func.args[0]\n",
    "    non_per_diff_args = tuple(filter(lambda item: item[0] != per_arg, diff_args))\n",
    "    per_diff_args = tuple(filter(lambda item: item[0] == per_arg, diff_args))\n",
    "\n",
    "    if len(per_diff_args) == 0:\n",
    "        return sp.Derivative(*args)\n",
    "    \n",
    "    _, n = per_diff_args[0]\n",
    "\n",
    "    if n == 2:\n",
    "        func = func - _diff_func(func, (2, 2))\n",
    "        func /= 2\n",
    "    elif n == 1:\n",
    "        return 0\n",
    "    else:\n",
    "        return sp.Derivative(*args)\n",
    "\n",
    "    if len(non_per_diff_args) > 0:\n",
    "        func = sp.Derivative(func, *non_per_diff_args)\n",
    "\n",
    "    return func\n",
    "\n",
    "expr_psi = expr_psi.replace(sp.Derivative, v_per_diff_eval).doit()\n",
    "\n",
    "expr_psi = expr_psi.replace(sp.Function(\"Z\"), lambda *args: Z2.subs(dict(zip([hi, hj, l], args[1:])))).doit()\n",
    "expr_psi = (expr_psi/Z2.subs({hi: h, hj: h})).expand()\n",
    "expr_psi = expr_psi.factor()\n",
    "expr_psi = expr_psi.replace(sp.sqrt(h**2), h)\n",
    "expr_psi"
   ]
  },
  {
   "cell_type": "code",
   "execution_count": null,
   "metadata": {},
   "outputs": [],
   "source": [
    "expr_psi_nk = expr_psi.args[-2]\n",
    "display(expr_psi_nk)\n",
    "\n",
    "expr = expr_psi_nk-(3*(vh.dot(nk)**2)-vh.dot(vh))\n",
    "expr = expr.expand()\n",
    "expr = expr.subs({nk1**2: 1-nk2**2-nk3**2})\n",
    "expr.expand()"
   ]
  },
  {
   "cell_type": "code",
   "execution_count": null,
   "metadata": {},
   "outputs": [],
   "source": [
    "expr_psi0 = expr_psi/expr_psi_nk\n",
    "expr_psi0 = expr_psi0.expand()\n",
    "expr_psi0 = expr_psi0.replace(h, sp.Abs(h)).replace(sp.Abs(h), h)\n",
    "expr_psi0 = expr_psi0.subs(subs_to_m_and_eta_symmetrical).expand()\n",
    "expr_psi0 = expr_psi0.subs(subs_to_m_eta_symmetrical).factor().expand()\n",
    "expr_psi0 = expr_psi0.subs(subs_to_eta2).factor().expand()\n",
    "expr_psi0 = expr_psi0.subs(subs_to_upsilon).expand()\n",
    "expr_psi0"
   ]
  },
  {
   "cell_type": "markdown",
   "metadata": {},
   "source": [
    "### Численная проверка"
   ]
  },
  {
   "cell_type": "markdown",
   "metadata": {},
   "source": [
    "#### Определения"
   ]
  },
  {
   "cell_type": "code",
   "execution_count": null,
   "metadata": {},
   "outputs": [],
   "source": [
    "def calc_Z2_integrate(hi, hj, l):\n",
    "    hjz = np.linalg.norm(hj)\n",
    "    hiz = hi.dot(hj)/hjz\n",
    "    hiy = np.sqrt(np.abs(hi.dot(hi) - hiz**2))\n",
    "    return Z2num.calc_Z2_integrate(hiy, hiz, hjz, l)"
   ]
  },
  {
   "cell_type": "code",
   "execution_count": null,
   "metadata": {},
   "outputs": [],
   "source": [
    "hi = np.asarray([0, 3, 2])\n",
    "hj = np.asarray([0, 0, 1])\n",
    "l = 2\n",
    "\n",
    "print(calc_Z2_integrate(hi, hj, l))\n",
    "print(Z2num.calc_Z2_integrate(hi[1], hi[2], hj[2], l))\n",
    "print(Z2num.calc_Z2_integrate(0, np.linalg.norm(hi), np.linalg.norm(hj), l))"
   ]
  },
  {
   "cell_type": "code",
   "execution_count": null,
   "metadata": {},
   "outputs": [],
   "source": [
    "def Z2_not_symmetrical_integrate(args):\n",
    "    hi, hj, l = args\n",
    "    return Z2num.calc_Z2_integrate(0, hi, hj, l)"
   ]
  },
  {
   "cell_type": "code",
   "execution_count": null,
   "metadata": {},
   "outputs": [],
   "source": [
    "def calc_Z2_symmetrical_with_nk_integrate(h, l, gamma1, gamma2, nk):\n",
    "    h = np.asarray([0, 0, h])\n",
    "    hi = h + gamma1*nk\n",
    "    hj = h + gamma2*nk\n",
    "    return calc_Z2_integrate(hi, hj, l)"
   ]
  },
  {
   "cell_type": "markdown",
   "metadata": {},
   "source": [
    "#### Симметричный случай"
   ]
  },
  {
   "cell_type": "code",
   "execution_count": null,
   "metadata": {},
   "outputs": [],
   "source": [
    "h, l = Z2sym.h, Z2sym.l\n",
    "f_expr_mh2 = sp.lambdify((h, l), expr_hessian_symmetrical[0, 0], Z2sym.num_module_norm)\n",
    "\n",
    "args = 1, 1.2\n",
    "args_not_symmetrical = args[0], args[0], args[1]\n",
    "\n",
    "moments = nd.Hessdiag(Z2_not_symmetrical_integrate)(args_not_symmetrical)/Z2_not_symmetrical_integrate(args_not_symmetrical)\n",
    "\n",
    "print(moments[0])\n",
    "print(moments[1])\n",
    "print(f_expr_mh2(*args))"
   ]
  },
  {
   "cell_type": "code",
   "execution_count": null,
   "metadata": {},
   "outputs": [],
   "source": [
    "expr_psi"
   ]
  },
  {
   "cell_type": "code",
   "execution_count": null,
   "metadata": {},
   "outputs": [],
   "source": [
    "h, l = Z2sym.h, Z2sym.l\n",
    "f_expr_psi = sp.lambdify((vhi, vhj, vh3, nk1, nk2, nk3, h, l), expr_psi, Z2sym.num_module_norm)\n",
    "\n",
    "h, l = 1.4, 1.6\n",
    "vh = np.asarray([0, 0, h])\n",
    "nk = np.asarray([0, 1, 1.])\n",
    "nk /= np.linalg.norm(nk)\n",
    "\n",
    "print(f_expr_psi(*vh, *nk, h, l))\n",
    "\n",
    "z2 = calc_Z2_symmetrical_integrate((h, l))\n",
    "\n",
    "hessian = nd.Hessian(lambda args: calc_Z2_symmetrical_with_nk_integrate(h, l, *args, nk))((0, 0))\n",
    "hessdiag_l = nd.Derivative(lambda l: nd.Hessdiag(lambda args: calc_Z2_symmetrical_with_nk_integrate(h, l, *args, nk))((0, 0)))(l)\n",
    "\n",
    "psi = hessdiag_l[0]/z2-hessian[0, 1]/z2\n",
    "print(psi)\n",
    "\n",
    "z2 = Z2num.calc_from_coeffs_symmetrical(h, l)\n",
    "print((1-z2.eta)*z2.m**3*(0.46134-1.3836*(vh/np.linalg.norm(vh)).dot(nk)**2))"
   ]
  }
 ],
 "metadata": {
  "kernelspec": {
   "display_name": "3.11.2",
   "language": "python",
   "name": "python3"
  },
  "language_info": {
   "codemirror_mode": {
    "name": "ipython",
    "version": 3
   },
   "file_extension": ".py",
   "mimetype": "text/x-python",
   "name": "python",
   "nbconvert_exporter": "python",
   "pygments_lexer": "ipython3",
   "version": "3.11.2"
  }
 },
 "nbformat": 4,
 "nbformat_minor": 2
}
