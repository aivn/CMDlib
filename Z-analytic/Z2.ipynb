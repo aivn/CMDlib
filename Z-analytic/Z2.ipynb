{
 "cells": [
  {
   "cell_type": "code",
   "execution_count": 1,
   "metadata": {},
   "outputs": [],
   "source": [
    "import sympy as sp\n",
    "from sympy import abc"
   ]
  },
  {
   "cell_type": "code",
   "execution_count": 2,
   "metadata": {},
   "outputs": [],
   "source": [
    "from scipy.integrate import quad\n",
    "from scipy.special import dawsn\n",
    "import numpy as np\n",
    "from functools import lru_cache\n",
    "import scipy.optimize as opt\n",
    "import numdifftools as nd"
   ]
  },
  {
   "cell_type": "markdown",
   "metadata": {},
   "source": [
    "# Ферромагнетик"
   ]
  },
  {
   "cell_type": "markdown",
   "metadata": {},
   "source": [
    "## Выражение для $Z^{(2)}$"
   ]
  },
  {
   "cell_type": "markdown",
   "metadata": {},
   "source": [
    "### Определения"
   ]
  },
  {
   "cell_type": "code",
   "execution_count": 3,
   "metadata": {},
   "outputs": [],
   "source": [
    "class SigmaSymbol(sp.Symbol):\n",
    "    def _latex(self, printer, exp=None):\n",
    "        if exp is None:\n",
    "            return self.name\n",
    "        else:\n",
    "            exp = printer.doprint(exp)\n",
    "            return f\"{self.name}^{exp}\"\n",
    "\n",
    "    def _eval_power(self, expt):\n",
    "        if expt.is_integer:\n",
    "            d, m = divmod(expt, 2)\n",
    "            return self**m\n",
    "\n",
    "\n",
    "SIGMAS = [-1, 1]"
   ]
  },
  {
   "cell_type": "code",
   "execution_count": 4,
   "metadata": {},
   "outputs": [],
   "source": [
    "class F2Function(sp.Function):\n",
    "    def _latex(self, printer, exp=None):\n",
    "        arg = printer.doprint(self.args[0])\n",
    "        if exp is None:\n",
    "            return \"F^{(2)}\"+f\"\\\\left({arg}\\\\right)\"\n",
    "        else:\n",
    "            exp = printer.doprint(exp)\n",
    "            return f\"\\\\left({self._latex(printer)}\\\\right)^{exp}\"\n",
    "\n",
    "    def fdiff(self, argindex=1):\n",
    "        return 1-2*self.args[0]*F2Function(self.args[0])\n",
    "\n",
    "    def _eval_rewrite(self, rule, args, **hints):\n",
    "        x, = args\n",
    "        if rule == sp.erfi:\n",
    "            return sp.sqrt(sp.pi)/2*sp.exp(-x**2)*sp.erfi(x)\n",
    "\n",
    "    @classmethod\n",
    "    def eval(cls, z):\n",
    "        if z.could_extract_minus_sign():\n",
    "            return -cls(-z)\n",
    "        if z == 0:\n",
    "            return 0"
   ]
  },
  {
   "cell_type": "markdown",
   "metadata": {},
   "source": [
    "### Аргументы"
   ]
  },
  {
   "cell_type": "code",
   "execution_count": 5,
   "metadata": {},
   "outputs": [],
   "source": [
    "h, l = sp.symbols(\"h \\\\lambda\", positive=True)\n",
    "s1, s2 = SigmaSymbol(\"\\\\sigma_1\"), SigmaSymbol(\"\\\\sigma_2\")\n",
    "t = sp.Symbol(\"t\")"
   ]
  },
  {
   "cell_type": "code",
   "execution_count": 6,
   "metadata": {},
   "outputs": [
    {
     "data": {
      "text/latex": [
       "$\\displaystyle - \\frac{\\lambda}{2} + t^{2}$"
      ],
      "text/plain": [
       "-\\lambda/2 + t**2"
      ]
     },
     "metadata": {},
     "output_type": "display_data"
    },
    {
     "data": {
      "text/latex": [
       "$\\displaystyle \\frac{\\sqrt{2} \\left(\\sigma_1 \\lambda + \\sigma_2 \\lambda + h\\right)}{2 \\sqrt{\\lambda}}$"
      ],
      "text/plain": [
       "sqrt(2)*(\\sigma_1*\\lambda + \\sigma_2*\\lambda + h)/(2*sqrt(\\lambda))"
      ]
     },
     "metadata": {},
     "output_type": "display_data"
    }
   ],
   "source": [
    "arg_exp = t**2/(2*l) + s1*t\n",
    "bound = h+s2*l\n",
    "\n",
    "arg_exp = arg_exp.replace(t, t-s1*l).expand()\n",
    "bound += s1*l\n",
    "\n",
    "arg_exp = arg_exp.replace(t, t*sp.sqrt(2*l))\n",
    "bound /= sp.sqrt(2*l)\n",
    "\n",
    "display(arg_exp)\n",
    "display(bound)"
   ]
  },
  {
   "cell_type": "code",
   "execution_count": 7,
   "metadata": {},
   "outputs": [
    {
     "data": {
      "text/latex": [
       "$\\displaystyle \\sigma_1 \\sigma_2 \\lambda + \\sigma_1 h + \\sigma_2 h$"
      ],
      "text/plain": [
       "\\sigma_1*\\sigma_2*\\lambda + \\sigma_1*h + \\sigma_2*h"
      ]
     },
     "metadata": {},
     "output_type": "display_data"
    }
   ],
   "source": [
    "expr = bound**2 + (arg_exp - t**2)\n",
    "expr = expr.expand()\n",
    "expr -= (h**2+l**2)/(2*l)\n",
    "expr = expr.expand()\n",
    "\n",
    "display(expr)"
   ]
  },
  {
   "cell_type": "markdown",
   "metadata": {},
   "source": [
    "### Производные $\\cal{F}^{(2)}$"
   ]
  },
  {
   "cell_type": "code",
   "execution_count": 8,
   "metadata": {},
   "outputs": [
    {
     "data": {
      "text/latex": [
       "$\\displaystyle - \\frac{\\sigma_1 \\sigma_2 h e^{\\sigma_1 h} e^{\\sigma_2 h} e^{\\sigma_1 \\sigma_2 \\lambda} F^{(2)}\\left(\\frac{\\sqrt{2} \\sigma_1 \\sqrt{\\lambda}}{2} + \\frac{\\sqrt{2} \\sigma_2 \\sqrt{\\lambda}}{2} + \\frac{\\sqrt{2} h}{2 \\sqrt{\\lambda}}\\right)}{\\lambda} + \\frac{\\sqrt{2} \\sigma_1 \\sigma_2 e^{\\sigma_1 h} e^{\\sigma_2 h} e^{\\sigma_1 \\sigma_2 \\lambda}}{2 \\sqrt{\\lambda}}$"
      ],
      "text/plain": [
       "-\\sigma_1*\\sigma_2*h*exp(\\sigma_1*h)*exp(\\sigma_2*h)*exp(\\sigma_1*\\sigma_2*\\lambda)*F2Function(sqrt(2)*\\sigma_1*sqrt(\\lambda)/2 + sqrt(2)*\\sigma_2*sqrt(\\lambda)/2 + sqrt(2)*h/(2*sqrt(\\lambda)))/\\lambda + sqrt(2)*\\sigma_1*\\sigma_2*exp(\\sigma_1*h)*exp(\\sigma_2*h)*exp(\\sigma_1*\\sigma_2*\\lambda)/(2*sqrt(\\lambda))"
      ]
     },
     "metadata": {},
     "output_type": "display_data"
    }
   ],
   "source": [
    "expr = s1*s2*sp.exp((s1+s2)*h+s1*s2*l)*F2Function((h+(s1+s2)*l)/sp.sqrt(2*l))\n",
    "expr = expr.diff(h).expand()\n",
    "display(expr)"
   ]
  },
  {
   "cell_type": "code",
   "execution_count": 9,
   "metadata": {},
   "outputs": [
    {
     "data": {
      "text/latex": [
       "$\\displaystyle - \\sigma_1 \\sigma_2 e^{\\sigma_1 h} e^{\\sigma_2 h} e^{\\sigma_1 \\sigma_2 \\lambda} F^{(2)}\\left(\\frac{\\sqrt{2} \\sigma_1 \\sqrt{\\lambda}}{2} + \\frac{\\sqrt{2} \\sigma_2 \\sqrt{\\lambda}}{2} + \\frac{\\sqrt{2} h}{2 \\sqrt{\\lambda}}\\right) + \\frac{\\sigma_1 \\sigma_2 h^{2} e^{\\sigma_1 h} e^{\\sigma_2 h} e^{\\sigma_1 \\sigma_2 \\lambda} F^{(2)}\\left(\\frac{\\sqrt{2} \\sigma_1 \\sqrt{\\lambda}}{2} + \\frac{\\sqrt{2} \\sigma_2 \\sqrt{\\lambda}}{2} + \\frac{\\sqrt{2} h}{2 \\sqrt{\\lambda}}\\right)}{2 \\lambda^{2}} - \\frac{\\sqrt{2} \\sigma_1 \\sigma_2 h e^{\\sigma_1 h} e^{\\sigma_2 h} e^{\\sigma_1 \\sigma_2 \\lambda}}{4 \\lambda^{\\frac{3}{2}}} + \\frac{\\sqrt{2} \\sigma_1 e^{\\sigma_1 h} e^{\\sigma_2 h} e^{\\sigma_1 \\sigma_2 \\lambda}}{4 \\sqrt{\\lambda}} + \\frac{\\sqrt{2} \\sigma_2 e^{\\sigma_1 h} e^{\\sigma_2 h} e^{\\sigma_1 \\sigma_2 \\lambda}}{4 \\sqrt{\\lambda}}$"
      ],
      "text/plain": [
       "-\\sigma_1*\\sigma_2*exp(\\sigma_1*h)*exp(\\sigma_2*h)*exp(\\sigma_1*\\sigma_2*\\lambda)*F2Function(sqrt(2)*\\sigma_1*sqrt(\\lambda)/2 + sqrt(2)*\\sigma_2*sqrt(\\lambda)/2 + sqrt(2)*h/(2*sqrt(\\lambda))) + \\sigma_1*\\sigma_2*h**2*exp(\\sigma_1*h)*exp(\\sigma_2*h)*exp(\\sigma_1*\\sigma_2*\\lambda)*F2Function(sqrt(2)*\\sigma_1*sqrt(\\lambda)/2 + sqrt(2)*\\sigma_2*sqrt(\\lambda)/2 + sqrt(2)*h/(2*sqrt(\\lambda)))/(2*\\lambda**2) - sqrt(2)*\\sigma_1*\\sigma_2*h*exp(\\sigma_1*h)*exp(\\sigma_2*h)*exp(\\sigma_1*\\sigma_2*\\lambda)/(4*\\lambda**(3/2)) + sqrt(2)*\\sigma_1*exp(\\sigma_1*h)*exp(\\sigma_2*h)*exp(\\sigma_1*\\sigma_2*\\lambda)/(4*sqrt(\\lambda)) + sqrt(2)*\\sigma_2*exp(\\sigma_1*h)*exp(\\sigma_2*h)*exp(\\sigma_1*\\sigma_2*\\lambda)/(4*sqrt(\\lambda))"
      ]
     },
     "metadata": {},
     "output_type": "display_data"
    }
   ],
   "source": [
    "expr = s1*s2*sp.exp((s1+s2)*h+s1*s2*l)*F2Function((h+(s1+s2)*l)/sp.sqrt(2*l))\n",
    "expr = expr.diff(l).expand()\n",
    "display(expr)"
   ]
  },
  {
   "cell_type": "code",
   "execution_count": 10,
   "metadata": {},
   "outputs": [],
   "source": [
    "class EFunction(sp.Function):\n",
    "    \"\"\"\n",
    "    args[0], args[1] -- h, l\n",
    "    args[2]: {0, 1} -- есть ли sigma_1 в множителе внутри суммы\n",
    "    args[3]: {0, 1} -- есть ли sigma_2 в множителе внутри суммы\n",
    "    EFunction(h, l, 1, 1).diff(h) -> 2*EFunction(h, l, 1, 0)\n",
    "    \"\"\"\n",
    "\n",
    "    def _latex(self, printer, exp=None):\n",
    "        args = printer.doprint(self.args[0]), printer.doprint(self.args[1])\n",
    "        args = f\"\\\\left({args[0]}, {args[1]}\\\\right)\"\n",
    "\n",
    "        indexes = \"\"\n",
    "        for i, item in enumerate(self.args[2:]):\n",
    "            if item:\n",
    "                indexes += str(i+1)\n",
    "        name = \"{\\\\cal E}_{\"+indexes+\"}\"\n",
    "\n",
    "        if exp is None:\n",
    "            return name+args\n",
    "        else:\n",
    "            exp = printer.doprint(exp)\n",
    "            return f\"{name}^{exp}\"+args\n",
    "\n",
    "    def fdiff(self, argindex=1):\n",
    "        if argindex == 1:\n",
    "            args = self.args[0], self.args[1]\n",
    "            term1 = EFunction(\n",
    "                *args,\n",
    "                int(not (self.args[2] and True)),\n",
    "                self.args[3]\n",
    "            )\n",
    "            term2 = EFunction(\n",
    "                *args,\n",
    "                self.args[2],\n",
    "                int(not (self.args[3] and True))\n",
    "            )\n",
    "            return term1 + term2\n",
    "\n",
    "        if argindex == 2:\n",
    "            args = self.args[0], self.args[1]\n",
    "            return EFunction(\n",
    "                *args,\n",
    "                int(not (self.args[2] and True)),\n",
    "                int(not (self.args[3] and True))\n",
    "            )\n",
    "\n",
    "    @classmethod\n",
    "    def eval(cls, *args):\n",
    "        if (not args[2]) and args[3]:\n",
    "            return EFunction(args[0], args[1], 1, 0)\n",
    "\n",
    "    def _eval_rewrite(self, rule, args, **hints):\n",
    "        h, l, arg_s1, arg_s2 = args\n",
    "        if rule == sp.exp:\n",
    "            result = 0\n",
    "            for s1 in SIGMAS:\n",
    "                for s2 in SIGMAS:\n",
    "                    term = sp.exp((s1+s2)*h+s1*s2*l)\n",
    "                    if arg_s1:\n",
    "                        term *= s1\n",
    "                    if arg_s2:\n",
    "                        term *= s2\n",
    "                    result += term\n",
    "            return result"
   ]
  },
  {
   "cell_type": "code",
   "execution_count": 11,
   "metadata": {},
   "outputs": [],
   "source": [
    "class cF2Function(sp.Function):\n",
    "    def _latex(self, printer, exp=None):\n",
    "        args = printer.doprint(self.args[0]), printer.doprint(self.args[1])\n",
    "        if exp is None:\n",
    "            return \"{\\\\cal F}^{(2)}\"+f\"\\\\left({args[0]},{args[1]}\\\\right)\"\n",
    "        else:\n",
    "            exp = printer.doprint(exp)\n",
    "            return f\"\\\\left({self._latex(printer)}\\\\right)^{exp}\"\n",
    "\n",
    "    def fdiff(self, argindex=1):\n",
    "        h, l = self.args\n",
    "        if argindex == 1:\n",
    "            return -h/l*cF2Function(h, l) + 1/sp.sqrt(2*l)*EFunction(h, l, 1, 1)\n",
    "\n",
    "        if argindex == 2:\n",
    "            term1 = (h**2/(2*l**2)-1)*cF2Function(h, l)\n",
    "            term2 = -h/(2*l*sp.sqrt(2*l))*EFunction(h, l, 1, 1)\n",
    "            term3 = 1/sp.sqrt(2*l)*EFunction(h, l, 1, 0)\n",
    "            return term1 + term2 + term3\n",
    "\n",
    "    def _eval_rewrite(self, rule, args, **hints):\n",
    "        h, l = args\n",
    "        if rule == sp.exp:\n",
    "            result = 0\n",
    "            for s1 in SIGMAS:\n",
    "                for s2 in SIGMAS:\n",
    "                    term = sp.exp((s1+s2)*h+s1*s2*l)\n",
    "                    term *= F2Function((h+(s1+s2)*l)/sp.sqrt(2*l))\n",
    "                    term *= s1*s2\n",
    "                    result += term\n",
    "            return result"
   ]
  },
  {
   "cell_type": "code",
   "execution_count": 12,
   "metadata": {},
   "outputs": [
    {
     "data": {
      "text/latex": [
       "$\\displaystyle 2 {\\cal E}_{1}\\left(h, \\lambda\\right)$"
      ],
      "text/plain": [
       "2*EFunction(h, \\lambda, 1, 0)"
      ]
     },
     "metadata": {},
     "output_type": "display_data"
    },
    {
     "data": {
      "text/latex": [
       "$\\displaystyle - 2 e^{\\lambda - 2 h} + 2 e^{\\lambda + 2 h}$"
      ],
      "text/plain": [
       "-2*exp(\\lambda - 2*h) + 2*exp(\\lambda + 2*h)"
      ]
     },
     "metadata": {},
     "output_type": "display_data"
    },
    {
     "data": {
      "text/latex": [
       "$\\displaystyle - e^{\\lambda - 2 h} + e^{\\lambda + 2 h}$"
      ],
      "text/plain": [
       "-exp(\\lambda - 2*h) + exp(\\lambda + 2*h)"
      ]
     },
     "metadata": {},
     "output_type": "display_data"
    }
   ],
   "source": [
    "display(EFunction(h, l, 1, 1).diff(h))\n",
    "\n",
    "display(EFunction(h, l, 1, 1).rewrite(sp.exp).diff(h))\n",
    "display(EFunction(h, l, 1, 0).rewrite(sp.exp))"
   ]
  },
  {
   "cell_type": "code",
   "execution_count": 13,
   "metadata": {},
   "outputs": [
    {
     "data": {
      "text/latex": [
       "$\\displaystyle \\left(-1 + \\frac{h^{2}}{2 \\lambda^{2}}\\right) {\\cal F}^{(2)}\\left(h,\\lambda\\right) + \\frac{\\sqrt{2} {\\cal E}_{1}\\left(h, \\lambda\\right)}{2 \\sqrt{\\lambda}} - \\frac{\\sqrt{2} h {\\cal E}_{12}\\left(h, \\lambda\\right)}{4 \\lambda^{\\frac{3}{2}}}$"
      ],
      "text/plain": [
       "(-1 + h**2/(2*\\lambda**2))*cF2Function(h, \\lambda) + sqrt(2)*EFunction(h, \\lambda, 1, 0)/(2*sqrt(\\lambda)) - sqrt(2)*h*EFunction(h, \\lambda, 1, 1)/(4*\\lambda**(3/2))"
      ]
     },
     "metadata": {},
     "output_type": "display_data"
    },
    {
     "data": {
      "text/latex": [
       "$\\displaystyle e^{\\lambda - 2 h} F^{(2)}\\left(\\frac{\\sqrt{2} \\left(- 2 \\lambda + h\\right)}{2 \\sqrt{\\lambda}}\\right) + e^{\\lambda + 2 h} F^{(2)}\\left(\\frac{\\sqrt{2} \\left(2 \\lambda + h\\right)}{2 \\sqrt{\\lambda}}\\right) - 2 e^{- \\lambda} F^{(2)}\\left(\\frac{\\sqrt{2} h}{2 \\sqrt{\\lambda}}\\right)$"
      ],
      "text/plain": [
       "exp(\\lambda - 2*h)*F2Function(sqrt(2)*(-2*\\lambda + h)/(2*sqrt(\\lambda))) + exp(\\lambda + 2*h)*F2Function(sqrt(2)*(2*\\lambda + h)/(2*sqrt(\\lambda))) - 2*exp(-\\lambda)*F2Function(sqrt(2)*h/(2*sqrt(\\lambda)))"
      ]
     },
     "metadata": {},
     "output_type": "display_data"
    }
   ],
   "source": [
    "display(cF2Function(h, l).diff(l))\n",
    "\n",
    "display(cF2Function(h, l).rewrite(sp.exp))"
   ]
  },
  {
   "cell_type": "code",
   "execution_count": 14,
   "metadata": {},
   "outputs": [
    {
     "data": {
      "text/latex": [
       "$\\displaystyle e^{\\lambda - 2 h} + e^{\\lambda + 2 h} - 2 e^{- \\lambda}$"
      ],
      "text/plain": [
       "exp(\\lambda - 2*h) + exp(\\lambda + 2*h) - 2*exp(-\\lambda)"
      ]
     },
     "metadata": {},
     "output_type": "display_data"
    },
    {
     "data": {
      "text/latex": [
       "$\\displaystyle - e^{\\lambda - 2 h} + e^{\\lambda + 2 h}$"
      ],
      "text/plain": [
       "-exp(\\lambda - 2*h) + exp(\\lambda + 2*h)"
      ]
     },
     "metadata": {},
     "output_type": "display_data"
    },
    {
     "data": {
      "text/latex": [
       "$\\displaystyle - e^{\\lambda - 2 h} + e^{\\lambda + 2 h}$"
      ],
      "text/plain": [
       "-exp(\\lambda - 2*h) + exp(\\lambda + 2*h)"
      ]
     },
     "metadata": {},
     "output_type": "display_data"
    },
    {
     "data": {
      "text/latex": [
       "$\\displaystyle e^{\\lambda - 2 h} + e^{\\lambda + 2 h} + 2 e^{- \\lambda}$"
      ],
      "text/plain": [
       "exp(\\lambda - 2*h) + exp(\\lambda + 2*h) + 2*exp(-\\lambda)"
      ]
     },
     "metadata": {},
     "output_type": "display_data"
    }
   ],
   "source": [
    "for s1 in [1, 0]:\n",
    "    for s2 in [1, 0]:\n",
    "        # print(f\"s1 = {s1}, s2 = {s2}\")\n",
    "        display(EFunction(h, l, s1, s2).rewrite(sp.exp))"
   ]
  },
  {
   "cell_type": "markdown",
   "metadata": {},
   "source": [
    "### Численный расчет"
   ]
  },
  {
   "cell_type": "markdown",
   "metadata": {},
   "source": [
    "#### Определения"
   ]
  },
  {
   "cell_type": "markdown",
   "metadata": {},
   "source": [
    "Расчет сумм по $\\sigma_{1,2}$ разбит на два этапа.\n",
    "\n",
    "**1**. Расчет массива значений в зависимости от $\\sigma_1$ и $\\sigma_2$.\n",
    "\n",
    "**2**. Суммирование значений с множителем, зависящем от $\\sigma_{1,2}$."
   ]
  },
  {
   "cell_type": "code",
   "execution_count": 15,
   "metadata": {},
   "outputs": [],
   "source": [
    "def f_F2Function(x):\n",
    "    return dawsn(x)"
   ]
  },
  {
   "cell_type": "code",
   "execution_count": 16,
   "metadata": {},
   "outputs": [],
   "source": [
    "@lru_cache(maxsize=1)\n",
    "def _Z2_E_terms(h, l):\n",
    "    def func(s1, s2): return np.exp((s1+s2)*h+s1*s2*l)\n",
    "    return np.asarray([[func(s1, s2) for s2 in SIGMAS] for s1 in SIGMAS])\n",
    "\n",
    "@lru_cache(maxsize=1)\n",
    "def _Z2_E_terms_norm(h, l):\n",
    "    def func(s1, s2): return np.exp((s1+s2)*h+s1*s2*l-2*h-l)\n",
    "    return np.asarray([[func(s1, s2) for s2 in SIGMAS] for s1 in SIGMAS])\n",
    "\n",
    "\n",
    "@lru_cache(maxsize=1)\n",
    "def _Z2_F_terms(h, l):\n",
    "    def func(s1, s2): return f_F2Function((h+(s1+s2)*l)/np.sqrt(2*l))\n",
    "    return np.asarray([[func(s1, s2) for s2 in SIGMAS] for s1 in SIGMAS])"
   ]
  },
  {
   "cell_type": "code",
   "execution_count": 17,
   "metadata": {},
   "outputs": [],
   "source": [
    "def _Z2_sum_terms(terms, sigmas_func):\n",
    "    result = 0\n",
    "    for s1 in range(2):\n",
    "        for s2 in range(2):\n",
    "            result += sigmas_func(SIGMAS[s1], SIGMAS[s2])*terms[s1, s2]\n",
    "\n",
    "    return result"
   ]
  },
  {
   "cell_type": "code",
   "execution_count": 18,
   "metadata": {},
   "outputs": [],
   "source": [
    "def f_cF2Function(h, l):\n",
    "    _terms = _Z2_E_terms(h, l)*_Z2_F_terms(h, l)\n",
    "    def _sigmas_func_12(s1, s2): return s1*s2\n",
    "    return _Z2_sum_terms(_terms, _sigmas_func_12)\n",
    "\n",
    "\n",
    "def f_cF2Function_norm(h, l):\n",
    "    _terms = _Z2_E_terms_norm(h, l)*_Z2_F_terms(h, l)\n",
    "    def _sigmas_func_12(s1, s2): return s1*s2\n",
    "    return _Z2_sum_terms(_terms, _sigmas_func_12)\n",
    "\n",
    "\n",
    "def v_cF2Function(x): return f_cF2Function(*x)"
   ]
  },
  {
   "cell_type": "code",
   "execution_count": 19,
   "metadata": {},
   "outputs": [],
   "source": [
    "def f_Z1(p):\n",
    "    return 4*np.pi/p*np.sinh(p)\n",
    "\n",
    "\n",
    "def f_Z2(h, l):\n",
    "    return np.sqrt(2)*(2*np.pi)**2/(h*np.sqrt(l))*f_cF2Function(h, l)"
   ]
  },
  {
   "cell_type": "code",
   "execution_count": 20,
   "metadata": {},
   "outputs": [],
   "source": [
    "def raw_Z2(h, l):\n",
    "    def _sqrt(x): return np.sqrt(h**2+l**2+2*h*l*x)\n",
    "    def func(x): return np.exp(h*x)*f_Z1(_sqrt(x))\n",
    "    return 2*np.pi*quad(func, -1, 1)[0]\n",
    "\n",
    "\n",
    "def v_raw_Z2(x): return raw_Z2(*x)"
   ]
  },
  {
   "cell_type": "code",
   "execution_count": 21,
   "metadata": {},
   "outputs": [],
   "source": [
    "def f_EFunction(h, l, arg_s1, arg_s2):\n",
    "    def _sigmas_func(s1, s2):\n",
    "        result = 1\n",
    "        if arg_s1:\n",
    "            result *= s1\n",
    "        if arg_s2:\n",
    "            result *= s2\n",
    "        return result\n",
    "    return _Z2_sum_terms(_Z2_E_terms(h, l), _sigmas_func)\n",
    "\n",
    "\n",
    "def f_EFunction_norm(h, l, arg_s1, arg_s2):\n",
    "    def _sigmas_func(s1, s2):\n",
    "        result = 1\n",
    "        if arg_s1:\n",
    "            result *= s1\n",
    "        if arg_s2:\n",
    "            result *= s2\n",
    "        return result\n",
    "    return _Z2_sum_terms(_Z2_E_terms_norm(h, l), _sigmas_func)\n",
    "\n",
    "\n",
    "module_dictionary = {\"cF2Function\": f_cF2Function, \"EFunction\": f_EFunction, \"F2Function\": f_F2Function}\n",
    "module_dictionary_norm = {\"cF2Function\": f_cF2Function_norm, \"EFunction\": f_EFunction_norm, \"F2Function\": f_F2Function}"
   ]
  },
  {
   "cell_type": "markdown",
   "metadata": {},
   "source": [
    "#### Проверка"
   ]
  },
  {
   "cell_type": "code",
   "execution_count": 22,
   "metadata": {},
   "outputs": [
    {
     "name": "stdout",
     "output_type": "stream",
     "text": [
      "350.1775720941783\n",
      "350.1775720941784\n"
     ]
    }
   ],
   "source": [
    "args = 1, 1.5\n",
    "print(raw_Z2(*args))\n",
    "print(f_Z2(*args))"
   ]
  },
  {
   "cell_type": "code",
   "execution_count": 23,
   "metadata": {},
   "outputs": [
    {
     "name": "stdout",
     "output_type": "stream",
     "text": [
      "12.892157132437342\n",
      "12.892157132437482\n",
      "\n",
      "5.907377428952696\n",
      "5.907377428952675\n"
     ]
    }
   ],
   "source": [
    "f_cF2_diff_h = sp.lambdify((h, l), cF2Function(h, l).diff(h), [module_dictionary, \"scipy\"])\n",
    "f_cF2_diff_l = sp.lambdify((h, l), cF2Function(h, l).diff(l), [module_dictionary, \"scipy\"])\n",
    "\n",
    "args = 1, 1.4\n",
    "\n",
    "print(nd.directionaldiff(v_cF2Function, args, [1, 0], n=1))\n",
    "print(f_cF2_diff_h(*args))\n",
    "print()\n",
    "print(nd.directionaldiff(v_cF2Function, args, [0, 1], n=1))\n",
    "print(f_cF2_diff_l(*args))"
   ]
  },
  {
   "cell_type": "markdown",
   "metadata": {},
   "source": [
    "#### Производительность"
   ]
  },
  {
   "cell_type": "code",
   "execution_count": 24,
   "metadata": {},
   "outputs": [],
   "source": [
    "import time"
   ]
  },
  {
   "cell_type": "code",
   "execution_count": 25,
   "metadata": {},
   "outputs": [
    {
     "name": "stdout",
     "output_type": "stream",
     "text": [
      "6.723988e-06\n"
     ]
    }
   ],
   "source": [
    "args = 70, 80\n",
    "N = 100000\n",
    "\n",
    "start = time.time()\n",
    "for _ in range(N):\n",
    "    f_Z2(*args)  # без lru_cache!!!\n",
    "\n",
    "end = time.time()\n",
    "\n",
    "print(f\"{(end - start)/N:.6e}\")"
   ]
  },
  {
   "cell_type": "code",
   "execution_count": 26,
   "metadata": {},
   "outputs": [
    {
     "name": "stdout",
     "output_type": "stream",
     "text": [
      "6.912935e-04\n"
     ]
    }
   ],
   "source": [
    "args = 70, 80\n",
    "N = 1000\n",
    "\n",
    "start = time.time()\n",
    "for _ in range(N):\n",
    "    raw_Z2(*args)\n",
    "\n",
    "end = time.time()\n",
    "\n",
    "print(f\"{(end - start)/N:.6e}\")"
   ]
  },
  {
   "cell_type": "markdown",
   "metadata": {},
   "source": [
    "## Моменты"
   ]
  },
  {
   "cell_type": "markdown",
   "metadata": {},
   "source": [
    "### Символьные вычисления"
   ]
  },
  {
   "cell_type": "code",
   "execution_count": 27,
   "metadata": {},
   "outputs": [],
   "source": [
    "m = sp.Symbol(\"\\\\left<m\\\\right>\")\n",
    "eta = sp.Symbol(\"\\\\left<\\eta\\\\right>\")"
   ]
  },
  {
   "cell_type": "code",
   "execution_count": 28,
   "metadata": {},
   "outputs": [
    {
     "data": {
      "text/latex": [
       "$\\displaystyle \\frac{4 \\sqrt{2} \\pi^{2} {\\cal F}^{(2)}\\left(h,\\lambda\\right)}{\\sqrt{\\lambda} h}$"
      ],
      "text/plain": [
       "4*sqrt(2)*pi**2*cF2Function(h, \\lambda)/(sqrt(\\lambda)*h)"
      ]
     },
     "execution_count": 28,
     "metadata": {},
     "output_type": "execute_result"
    }
   ],
   "source": [
    "Z2_ferr = sp.sqrt(2)*(2*sp.pi)**2*cF2Function(h, l)/(h*sp.sqrt(l))\n",
    "Z2_ferr"
   ]
  },
  {
   "cell_type": "code",
   "execution_count": 29,
   "metadata": {},
   "outputs": [
    {
     "data": {
      "text/latex": [
       "$\\displaystyle \\left<m\\right> = - \\frac{1}{2 h} - \\frac{h}{2 \\lambda} + \\frac{\\sqrt{2} {\\cal E}_{12}\\left(h, \\lambda\\right)}{4 \\sqrt{\\lambda} {\\cal F}^{(2)}\\left(h,\\lambda\\right)}$"
      ],
      "text/plain": [
       "Eq(\\left<m\\right>, -1/(2*h) - h/(2*\\lambda) + sqrt(2)*EFunction(h, \\lambda, 1, 1)/(4*sqrt(\\lambda)*cF2Function(h, \\lambda)))"
      ]
     },
     "metadata": {},
     "output_type": "display_data"
    },
    {
     "name": "stdout",
     "output_type": "stream",
     "text": [
      "\\left<m\\right> = - \\frac{1}{2 h} - \\frac{h}{2 \\lambda} + \\frac{\\sqrt{2} {\\cal E}_{12}\\left(h, \\lambda\\right)}{4 \\sqrt{\\lambda} {\\cal F}^{(2)}\\left(h,\\lambda\\right)}\n"
     ]
    }
   ],
   "source": [
    "expr_m = sp.log(Z2_ferr).diff(h)/2\n",
    "expr_m = expr_m.expand()\n",
    "display(sp.Eq(m, expr_m))\n",
    "sp.print_latex(sp.Eq(m, expr_m))"
   ]
  },
  {
   "cell_type": "code",
   "execution_count": 30,
   "metadata": {},
   "outputs": [
    {
     "data": {
      "text/latex": [
       "$\\displaystyle \\left<\\eta\\right> = -1 - \\frac{1}{2 \\lambda} + \\frac{h^{2}}{2 \\lambda^{2}} + \\frac{\\sqrt{2} {\\cal E}_{1}\\left(h, \\lambda\\right)}{2 \\sqrt{\\lambda} {\\cal F}^{(2)}\\left(h,\\lambda\\right)} - \\frac{\\sqrt{2} h {\\cal E}_{12}\\left(h, \\lambda\\right)}{4 \\lambda^{\\frac{3}{2}} {\\cal F}^{(2)}\\left(h,\\lambda\\right)}$"
      ],
      "text/plain": [
       "Eq(\\left<\\eta\\right>, -1 - 1/(2*\\lambda) + h**2/(2*\\lambda**2) + sqrt(2)*EFunction(h, \\lambda, 1, 0)/(2*sqrt(\\lambda)*cF2Function(h, \\lambda)) - sqrt(2)*h*EFunction(h, \\lambda, 1, 1)/(4*\\lambda**(3/2)*cF2Function(h, \\lambda)))"
      ]
     },
     "metadata": {},
     "output_type": "display_data"
    },
    {
     "name": "stdout",
     "output_type": "stream",
     "text": [
      "\\left<\\eta\\right> = -1 - \\frac{1}{2 \\lambda} + \\frac{h^{2}}{2 \\lambda^{2}} + \\frac{\\sqrt{2} {\\cal E}_{1}\\left(h, \\lambda\\right)}{2 \\sqrt{\\lambda} {\\cal F}^{(2)}\\left(h,\\lambda\\right)} - \\frac{\\sqrt{2} h {\\cal E}_{12}\\left(h, \\lambda\\right)}{4 \\lambda^{\\frac{3}{2}} {\\cal F}^{(2)}\\left(h,\\lambda\\right)}\n"
     ]
    }
   ],
   "source": [
    "expr_eta = sp.log(Z2_ferr).diff(l)\n",
    "expr_eta = expr_eta.expand()\n",
    "display(sp.Eq(eta, expr_eta))\n",
    "sp.print_latex(sp.Eq(eta, expr_eta))"
   ]
  },
  {
   "cell_type": "code",
   "execution_count": 31,
   "metadata": {},
   "outputs": [
    {
     "data": {
      "text/latex": [
       "$\\displaystyle {\\cal F}^{(2)}\\left(h,\\lambda\\right) = \\frac{\\sqrt{2} \\sqrt{\\lambda} h {\\cal E}_{12}\\left(h, \\lambda\\right)}{2 \\left(2 \\lambda \\left<m\\right> h + \\lambda + h^{2}\\right)}$"
      ],
      "text/plain": [
       "Eq(cF2Function(h, \\lambda), sqrt(2)*sqrt(\\lambda)*h*EFunction(h, \\lambda, 1, 1)/(2*(2*\\lambda*\\left<m\\right>*h + \\lambda + h**2)))"
      ]
     },
     "metadata": {},
     "output_type": "display_data"
    },
    {
     "name": "stdout",
     "output_type": "stream",
     "text": [
      "{\\cal F}^{(2)}\\left(h,\\lambda\\right) = \\frac{\\sqrt{2} \\sqrt{\\lambda} h {\\cal E}_{12}\\left(h, \\lambda\\right)}{2 \\left(2 \\lambda \\left<m\\right> h + \\lambda + h^{2}\\right)}\n"
     ]
    },
    {
     "data": {
      "text/latex": [
       "$\\displaystyle {\\cal F}^{(2)}\\left(h,\\lambda\\right) = \\frac{\\sqrt{2} \\sqrt{\\lambda} {\\cal E}_{1}\\left(h, \\lambda\\right)}{2 \\left(\\lambda \\left<\\eta\\right> + \\lambda + \\left<m\\right> h + 1\\right)}$"
      ],
      "text/plain": [
       "Eq(cF2Function(h, \\lambda), sqrt(2)*sqrt(\\lambda)*EFunction(h, \\lambda, 1, 0)/(2*(\\lambda*\\left<\\eta\\right> + \\lambda + \\left<m\\right>*h + 1)))"
      ]
     },
     "metadata": {},
     "output_type": "display_data"
    },
    {
     "name": "stdout",
     "output_type": "stream",
     "text": [
      "{\\cal F}^{(2)}\\left(h,\\lambda\\right) = \\frac{\\sqrt{2} \\sqrt{\\lambda} {\\cal E}_{1}\\left(h, \\lambda\\right)}{2 \\left(\\lambda \\left<\\eta\\right> + \\lambda + \\left<m\\right> h + 1\\right)}\n"
     ]
    }
   ],
   "source": [
    "E1, E2 = EFunction(h, l, 1, 1), EFunction(h, l, 1, 0)\n",
    "result = sp.solve([m-expr_m, eta-expr_eta], E1, E2)\n",
    "expr_E1 = result[E1].factor()\n",
    "expr_E2 = result[E2].factor()\n",
    "\n",
    "expr_cF2_1 = sp.solve(E1-expr_E1, cF2Function(h, l))[0]\n",
    "expr_cF2_2 = sp.solve(E2-expr_E2, cF2Function(h, l))[0]\n",
    "\n",
    "display(sp.Eq(cF2Function(h, l), expr_cF2_1))\n",
    "sp.print_latex(sp.Eq(cF2Function(h, l), expr_cF2_1))\n",
    "display(sp.Eq(cF2Function(h, l), expr_cF2_2))\n",
    "sp.print_latex(sp.Eq(cF2Function(h, l), expr_cF2_2))"
   ]
  },
  {
   "cell_type": "code",
   "execution_count": 32,
   "metadata": {},
   "outputs": [],
   "source": [
    "subs_to_moments = {\n",
    "    EFunction(h, l, 1, 1): expr_E1,\n",
    "    EFunction(h, l, 1, 0): expr_E2,\n",
    "    cF2Function(h, l): expr_cF2_1\n",
    "}"
   ]
  },
  {
   "cell_type": "code",
   "execution_count": 33,
   "metadata": {},
   "outputs": [
    {
     "data": {
      "text/latex": [
       "$\\displaystyle \\frac{\\left<\\eta\\right> \\left(- 3 \\lambda + h^{2}\\right)}{2 \\lambda^{2}} + \\frac{\\left<m\\right> h \\left(\\lambda + 1\\right)}{\\lambda^{2}} + \\frac{2 \\lambda^{2} + 1}{2 \\lambda^{2}} - \\frac{\\left(2 \\lambda \\left<m\\right> h + \\lambda + h^{2}\\right) {\\cal E}_{}\\left(h, \\lambda\\right)}{2 \\lambda^{2} {\\cal E}_{12}\\left(h, \\lambda\\right)}$"
      ],
      "text/plain": [
       "\\left<\\eta\\right>*(-3*\\lambda + h**2)/(2*\\lambda**2) + \\left<m\\right>*h*(\\lambda + 1)/\\lambda**2 + (2*\\lambda**2 + 1)/(2*\\lambda**2) - (2*\\lambda*\\left<m\\right>*h + \\lambda + h**2)*EFunction(h, \\lambda, 0, 0)/(2*\\lambda**2*EFunction(h, \\lambda, 1, 1))"
      ]
     },
     "metadata": {},
     "output_type": "display_data"
    },
    {
     "name": "stdout",
     "output_type": "stream",
     "text": [
      "\\frac{\\left<\\eta\\right> \\left(- 3 \\lambda + h^{2}\\right)}{2 \\lambda^{2}} + \\frac{\\left<m\\right> h \\left(\\lambda + 1\\right)}{\\lambda^{2}} + \\frac{2 \\lambda^{2} + 1}{2 \\lambda^{2}} - \\frac{\\left(2 \\lambda \\left<m\\right> h + \\lambda + h^{2}\\right) {\\cal E}_{}\\left(h, \\lambda\\right)}{2 \\lambda^{2} {\\cal E}_{12}\\left(h, \\lambda\\right)}\n"
     ]
    }
   ],
   "source": [
    "expr_eta2 = Z2_ferr.diff(l, 2)/Z2_ferr\n",
    "expr_eta2 = expr_eta2.expand()\n",
    "expr_eta2_raw = expr_eta2\n",
    "expr_eta2 = expr_eta2.subs(subs_to_moments)\n",
    "expr_eta2 = expr_eta2.expand()\n",
    "\n",
    "expr_eta2 = expr_eta2.expand().collect([EFunction(h, l, 0, 0)/EFunction(h, l, 1, 1), m, eta], sp.factor)\n",
    "\n",
    "display(expr_eta2)\n",
    "sp.print_latex(expr_eta2)"
   ]
  },
  {
   "cell_type": "code",
   "execution_count": 34,
   "metadata": {},
   "outputs": [
    {
     "data": {
      "text/latex": [
       "$\\displaystyle \\frac{\\left<\\eta\\right> \\left(\\lambda + h^{2}\\right)}{4 \\lambda h} + \\frac{\\left<m\\right> \\left(\\lambda + 1\\right)}{2 \\lambda} - \\frac{\\left(2 \\lambda \\left<m\\right> h + \\lambda + h^{2}\\right) {\\cal E}_{}\\left(h, \\lambda\\right)}{4 \\lambda h {\\cal E}_{12}\\left(h, \\lambda\\right)} + \\frac{1}{4 \\lambda h}$"
      ],
      "text/plain": [
       "\\left<\\eta\\right>*(\\lambda + h**2)/(4*\\lambda*h) + \\left<m\\right>*(\\lambda + 1)/(2*\\lambda) - (2*\\lambda*\\left<m\\right>*h + \\lambda + h**2)*EFunction(h, \\lambda, 0, 0)/(4*\\lambda*h*EFunction(h, \\lambda, 1, 1)) + 1/(4*\\lambda*h)"
      ]
     },
     "metadata": {},
     "output_type": "display_data"
    },
    {
     "name": "stdout",
     "output_type": "stream",
     "text": [
      "\\frac{\\left<\\eta\\right> \\left(\\lambda + h^{2}\\right)}{4 \\lambda h} + \\frac{\\left<m\\right> \\left(\\lambda + 1\\right)}{2 \\lambda} - \\frac{\\left(2 \\lambda \\left<m\\right> h + \\lambda + h^{2}\\right) {\\cal E}_{}\\left(h, \\lambda\\right)}{4 \\lambda h {\\cal E}_{12}\\left(h, \\lambda\\right)} + \\frac{1}{4 \\lambda h}\n"
     ]
    }
   ],
   "source": [
    "expr_m_upsilon = ((Z2_ferr.diff(h) - Z2_ferr.diff(h, l))/(2*Z2_ferr))/2 \n",
    "expr_m_upsilon = expr_m_upsilon.expand()\n",
    "expr_m_upsilon_raw = expr_m_upsilon\n",
    "expr_m_upsilon = expr_m_upsilon.subs(subs_to_moments)\n",
    "expr_m_upsilon = expr_m_upsilon.expand()\n",
    "\n",
    "expr_m_upsilon = expr_m_upsilon.expand().collect([EFunction(h, l, 0, 0)/EFunction(h, l, 1, 1), m, eta], sp.factor)\n",
    "display(expr_m_upsilon)\n",
    "sp.print_latex(expr_m_upsilon)"
   ]
  },
  {
   "cell_type": "code",
   "execution_count": 35,
   "metadata": {},
   "outputs": [
    {
     "data": {
      "text/latex": [
       "$\\displaystyle - \\frac{2 \\left<m\\right>}{h} + 1$"
      ],
      "text/plain": [
       "-2*\\left<m\\right>/h + 1"
      ]
     },
     "metadata": {},
     "output_type": "display_data"
    },
    {
     "name": "stdout",
     "output_type": "stream",
     "text": [
      "- \\frac{2 \\left<m\\right>}{h} + 1\n"
     ]
    }
   ],
   "source": [
    "expr_m_par_2 = Z2_ferr.diff(h, 2)/(2*Z2_ferr) - expr_eta\n",
    "expr_m_par_2 = expr_m_par_2.expand()\n",
    "expr_m_par_2 = expr_m_par_2.subs(subs_to_moments).expand()\n",
    "\n",
    "display(expr_m_par_2)\n",
    "sp.print_latex(expr_m_par_2)"
   ]
  },
  {
   "cell_type": "code",
   "execution_count": 36,
   "metadata": {},
   "outputs": [
    {
     "data": {
      "text/latex": [
       "$\\displaystyle \\lambda \\left({\\left<\\eta^2\\right>} - 1\\right) = 2 \\Upsilon \\left<m\\right> h - 2 \\left<\\eta\\right>$"
      ],
      "text/plain": [
       "Eq(\\lambda*({\\left<\\eta^2\\right>} - 1), 2*\\Upsilon*\\left<m\\right>*h - 2*\\left<\\eta\\right>)"
      ]
     },
     "metadata": {},
     "output_type": "display_data"
    },
    {
     "name": "stdout",
     "output_type": "stream",
     "text": [
      "\\lambda \\left({\\left<\\eta^2\\right>} - 1\\right) = 2 \\Upsilon \\left<m\\right> h - 2 \\left<\\eta\\right>\n"
     ]
    },
    {
     "data": {
      "text/latex": [
       "$\\displaystyle h = - \\frac{2 \\left<m\\right>}{\\left<m_{h}^2\\right> - 1}$"
      ],
      "text/plain": [
       "Eq(h, -2*\\left<m\\right>/(\\left<m_{h}^2\\right> - 1))"
      ]
     },
     "metadata": {},
     "output_type": "display_data"
    },
    {
     "data": {
      "text/latex": [
       "$\\displaystyle \\lambda = \\frac{2 \\left(- 2 \\Upsilon \\left<m\\right>^{2} - \\left<\\eta\\right> \\left<m_{h}^2\\right> + \\left<\\eta\\right>\\right)}{\\left<m_{h}^2\\right> {\\left<\\eta^2\\right>} - \\left<m_{h}^2\\right> - {\\left<\\eta^2\\right>} + 1}$"
      ],
      "text/plain": [
       "Eq(\\lambda, 2*(-2*\\Upsilon*\\left<m\\right>**2 - \\left<\\eta\\right>*\\left<m_{h}^2\\right> + \\left<\\eta\\right>)/(\\left<m_{h}^2\\right>*{\\left<\\eta^2\\right>} - \\left<m_{h}^2\\right> - {\\left<\\eta^2\\right>} + 1))"
      ]
     },
     "metadata": {},
     "output_type": "display_data"
    }
   ],
   "source": [
    "upsilon = sp.Symbol(\"\\\\Upsilon\")\n",
    "eta2 = sp.Symbol(\"{\\\\left<\\\\eta^2\\\\right>}\")\n",
    "m_par_2 = sp.Symbol(\"\\\\left<m_{h}^2\\\\right>\")\n",
    "\n",
    "dummy = sp.Dummy()\n",
    "expr1 = expr_eta2.subs(EFunction(h, l, 0, 0)/EFunction(h, l, 1, 1), dummy)\n",
    "expr2 = expr_m_upsilon.subs(EFunction(h, l, 0, 0)/EFunction(h, l, 1, 1), dummy)\n",
    "\n",
    "expr_dummy = sp.solve(expr2.expand()/m-upsilon, dummy)[0]\n",
    "expr1 = expr1.replace(dummy, expr_dummy).factor()\n",
    "expr = sp.Eq(l*(eta2-1), sp.expand(l*(expr1-1)))\n",
    "\n",
    "display(expr)\n",
    "sp.print_latex(expr)\n",
    "\n",
    "result = sp.solve([l*(eta2-1)-sp.expand(l*(expr1-1)), expr_m_par_2-m_par_2], h, l)\n",
    "display(sp.Eq(h, result[h]))\n",
    "display(sp.Eq(l, result[l]))\n",
    "\n",
    "# display(expr_dummy.subs({h: result[h], l: result[l]}).factor())"
   ]
  },
  {
   "cell_type": "markdown",
   "metadata": {},
   "source": [
    "### Проверка"
   ]
  },
  {
   "cell_type": "code",
   "execution_count": 37,
   "metadata": {},
   "outputs": [
    {
     "name": "stdout",
     "output_type": "stream",
     "text": [
      "0.8840553088496662\n",
      "0.8840553088496839\n",
      "\n",
      "0.8739109152585574\n",
      "0.8739109152586024\n"
     ]
    }
   ],
   "source": [
    "f_expr_m = sp.lambdify((h, l), expr_m, [module_dictionary_norm, \"scipy\"])\n",
    "f_expr_eta = sp.lambdify((h, l), expr_eta, [module_dictionary_norm, \"scipy\"])\n",
    "\n",
    "args = 6, 5\n",
    "\n",
    "print(nd.directionaldiff(v_raw_Z2, args, [1, 0], n=1)/(2*raw_Z2(*args)))\n",
    "print(f_expr_m(*args))\n",
    "print()\n",
    "print(nd.directionaldiff(v_raw_Z2, args, [0, 1], n=1)/(raw_Z2(*args)))\n",
    "print(f_expr_eta(*args))"
   ]
  },
  {
   "cell_type": "code",
   "execution_count": 38,
   "metadata": {},
   "outputs": [
    {
     "name": "stdout",
     "output_type": "stream",
     "text": [
      "8.34716298341246\n",
      "8.34716298341246\n",
      "8.34716298341246\n"
     ]
    }
   ],
   "source": [
    "f_expr_cF2_1 = sp.lambdify((h, l, m, eta), expr_cF2_1, [module_dictionary, \"scipy\"])\n",
    "f_expr_cF2_2 = sp.lambdify((h, l, m, eta), expr_cF2_2, [module_dictionary, \"scipy\"])\n",
    "\n",
    "args = 1, 1.6\n",
    "args_moment = f_expr_m(*args), f_expr_eta(*args)\n",
    "\n",
    "print(f_cF2Function(*args))\n",
    "print(f_expr_cF2_1(*args, *args_moment))\n",
    "print(f_expr_cF2_2(*args, *args_moment))"
   ]
  },
  {
   "cell_type": "code",
   "execution_count": 39,
   "metadata": {},
   "outputs": [
    {
     "name": "stdout",
     "output_type": "stream",
     "text": [
      "0.23230404218385675\n",
      "0.2323040421838572\n"
     ]
    }
   ],
   "source": [
    "f_expr_m_upsilon = sp.lambdify((h, l, m, eta), expr_m_upsilon, [module_dictionary_norm, \"scipy\"])\n",
    "f_expr_m_upsilon_raw = sp.lambdify((h, l), expr_m_upsilon_raw, [module_dictionary_norm, \"scipy\"])\n",
    "\n",
    "args = 1, 1.2\n",
    "args_moment = f_expr_m(*args), f_expr_eta(*args)\n",
    "\n",
    "\n",
    "def v_f_Z2_h(x): return nd.directionaldiff(v_raw_Z2, x, [1, 0], n=1)\n",
    "def v_f_Z2_l(x): return nd.directionaldiff(v_raw_Z2, x, [0, 1], n=1)\n",
    "\n",
    "\n",
    "# print(nd.directionaldiff(v_f_Z2_h, args, [0, 1], n=1)/(2*f_Z2(*args)))\n",
    "# print(nd.directionaldiff(v_f_Z2_l, args, [1, 0], n=1)/(2*f_Z2(*args)))\n",
    "print(args_moment[0]-2*f_expr_m_upsilon(*args, *args_moment))\n",
    "print(args_moment[0]-2*f_expr_m_upsilon_raw(*args))"
   ]
  },
  {
   "cell_type": "code",
   "execution_count": 40,
   "metadata": {},
   "outputs": [
    {
     "name": "stdout",
     "output_type": "stream",
     "text": [
      "0.5691720241588353\n",
      "0.5691720241631888\n",
      "0.5691720241631852\n"
     ]
    }
   ],
   "source": [
    "f_expr_eta2 = sp.lambdify((h, l, m, eta), expr_eta2, [module_dictionary_norm, \"scipy\"])\n",
    "f_expr_eta2_raw = sp.lambdify((h, l), expr_eta2_raw, [module_dictionary_norm, \"scipy\"])\n",
    "\n",
    "args = 3.4, 1.6\n",
    "args_moment = f_expr_m(*args), f_expr_eta(*args)\n",
    "\n",
    "print(nd.directionaldiff(v_raw_Z2, args, [0, 1], n=2)/raw_Z2(*args))\n",
    "print(f_expr_eta2(*args, *args_moment))\n",
    "print(f_expr_eta2_raw(*args))"
   ]
  },
  {
   "cell_type": "markdown",
   "metadata": {},
   "source": [
    "## Предельные случаи $\\lambda \\rightarrow 0$ и $h \\rightarrow 0$"
   ]
  },
  {
   "cell_type": "markdown",
   "metadata": {},
   "source": [
    "### Определения"
   ]
  },
  {
   "cell_type": "code",
   "execution_count": 41,
   "metadata": {},
   "outputs": [],
   "source": [
    "def dawsn_to_series_oo(expr, n):\n",
    "    if not isinstance(expr, F2Function):\n",
    "        if expr.is_Atom:\n",
    "            return expr\n",
    "        return expr.__class__(*[dawsn_to_series_oo(arg, n) for arg in expr.args])\n",
    "\n",
    "    z = expr.args[0]\n",
    "\n",
    "    if n == 1:\n",
    "        return 1/(2*z)\n",
    "\n",
    "    return sp.factorial2(2*n-3)/(2**n*z**(2*n-1))+dawsn_to_series_oo(expr, n-1)"
   ]
  },
  {
   "cell_type": "markdown",
   "metadata": {},
   "source": [
    "### $\\lambda \\rightarrow 0$"
   ]
  },
  {
   "cell_type": "code",
   "execution_count": 42,
   "metadata": {},
   "outputs": [
    {
     "data": {
      "text/latex": [
       "$\\displaystyle \\frac{4 \\pi^{2} e^{2 h}}{h^{2}} - \\frac{8 \\pi^{2}}{h^{2}} + \\frac{4 \\pi^{2} e^{- 2 h}}{h^{2}}$"
      ],
      "text/plain": [
       "4*pi**2*exp(2*h)/h**2 - 8*pi**2/h**2 + 4*pi**2*exp(-2*h)/h**2"
      ]
     },
     "metadata": {},
     "output_type": "display_data"
    },
    {
     "data": {
      "text/latex": [
       "$\\displaystyle \\frac{8 \\pi^{2} \\left(\\cosh{\\left(2 h \\right)} - 1\\right)}{h^{2}}$"
      ],
      "text/plain": [
       "8*pi**2*(cosh(2*h) - 1)/h**2"
      ]
     },
     "execution_count": 42,
     "metadata": {},
     "output_type": "execute_result"
    }
   ],
   "source": [
    "expr = Z2_ferr.rewrite(sp.exp).rewrite(sp.erfi).factor()\n",
    "expr = sp.limit(expr, l, 0).expand()\n",
    "display(expr)\n",
    "\n",
    "expr = expr.rewrite(sp.sin).expand().factor()\n",
    "expr"
   ]
  },
  {
   "cell_type": "code",
   "execution_count": 43,
   "metadata": {},
   "outputs": [
    {
     "data": {
      "text/latex": [
       "$\\displaystyle \\frac{h e^{2 h} + h - e^{2 h} + 1}{h \\left(e^{h} - 1\\right) \\left(e^{h} + 1\\right)}$"
      ],
      "text/plain": [
       "(h*exp(2*h) + h - exp(2*h) + 1)/(h*(exp(h) - 1)*(exp(h) + 1))"
      ]
     },
     "metadata": {},
     "output_type": "display_data"
    },
    {
     "data": {
      "text/latex": [
       "$\\displaystyle \\frac{1}{\\tanh{\\left(h \\right)}} - \\frac{1}{h}$"
      ],
      "text/plain": [
       "1/tanh(h) - 1/h"
      ]
     },
     "execution_count": 43,
     "metadata": {},
     "output_type": "execute_result"
    }
   ],
   "source": [
    "expr = expr_m.rewrite(sp.exp).rewrite(sp.erfi)\n",
    "expr = sp.limit(expr, l, 0).factor()\n",
    "display(expr)\n",
    "\n",
    "_exp_m = sp.solve(expr-m, sp.exp(2*h))[0]\n",
    "\n",
    "expr = expr.expand().rewrite(sp.tanh).factor().expand()\n",
    "expr"
   ]
  },
  {
   "cell_type": "code",
   "execution_count": 44,
   "metadata": {},
   "outputs": [
    {
     "data": {
      "text/latex": [
       "$\\displaystyle \\frac{\\left(h e^{2 h} + h - e^{2 h} + 1\\right)^{2}}{h^{2} \\left(e^{h} - 1\\right)^{2} \\left(e^{h} + 1\\right)^{2}}$"
      ],
      "text/plain": [
       "(h*exp(2*h) + h - exp(2*h) + 1)**2/(h**2*(exp(h) - 1)**2*(exp(h) + 1)**2)"
      ]
     },
     "metadata": {},
     "output_type": "display_data"
    },
    {
     "name": "stdout",
     "output_type": "stream",
     "text": [
      "\\frac{\\left(h e^{2 h} + h - e^{2 h} + 1\\right)^{2}}{h^{2} \\left(e^{h} - 1\\right)^{2} \\left(e^{h} + 1\\right)^{2}}\n"
     ]
    },
    {
     "data": {
      "text/latex": [
       "$\\displaystyle \\left<m\\right>^{2}$"
      ],
      "text/plain": [
       "\\left<m\\right>**2"
      ]
     },
     "execution_count": 44,
     "metadata": {},
     "output_type": "execute_result"
    }
   ],
   "source": [
    "expr = expr_eta.rewrite(sp.exp)\n",
    "expr = dawsn_to_series_oo(expr, 3).factor()\n",
    "expr = sp.limit(expr, l, 0).factor()\n",
    "display(expr)\n",
    "sp.print_latex(expr)\n",
    "\n",
    "expr = expr.expand().subs(sp.exp(2*h), _exp_m).factor()\n",
    "expr"
   ]
  },
  {
   "cell_type": "code",
   "execution_count": 45,
   "metadata": {},
   "outputs": [
    {
     "data": {
      "text/latex": [
       "$\\displaystyle \\frac{h e^{2 h} + h - e^{2 h} + 1}{h^{2} \\left(e^{h} - 1\\right) \\left(e^{h} + 1\\right)}$"
      ],
      "text/plain": [
       "(h*exp(2*h) + h - exp(2*h) + 1)/(h**2*(exp(h) - 1)*(exp(h) + 1))"
      ]
     },
     "metadata": {},
     "output_type": "display_data"
    },
    {
     "name": "stdout",
     "output_type": "stream",
     "text": [
      "\\frac{h e^{2 h} + h - e^{2 h} + 1}{h^{2} \\left(e^{h} - 1\\right) \\left(e^{h} + 1\\right)}\n"
     ]
    },
    {
     "data": {
      "text/latex": [
       "$\\displaystyle \\frac{\\left<m\\right>}{h}$"
      ],
      "text/plain": [
       "\\left<m\\right>/h"
      ]
     },
     "metadata": {},
     "output_type": "display_data"
    },
    {
     "name": "stdout",
     "output_type": "stream",
     "text": [
      "\\frac{\\left<m\\right>}{h}\n"
     ]
    }
   ],
   "source": [
    "expr = (expr_m_upsilon/m).subs({m: expr_m, eta: expr_eta}).rewrite(sp.exp)\n",
    "expr = dawsn_to_series_oo(expr, 4).factor()\n",
    "expr = sp.limit(expr, l, 0).factor()\n",
    "display(expr)\n",
    "sp.print_latex(expr)\n",
    "\n",
    "expr = expr.expand().subs(sp.exp(2*h), _exp_m).factor().expand()\n",
    "display(expr)\n",
    "sp.print_latex(expr)"
   ]
  },
  {
   "cell_type": "code",
   "execution_count": 46,
   "metadata": {},
   "outputs": [
    {
     "data": {
      "text/latex": [
       "$\\displaystyle - \\frac{2 \\left(h e^{2 h} + h - e^{2 h} + 1\\right) \\left(2 h^{2} e^{2 h} - 2 h^{2} - 3 h e^{2 h} - 3 h + 3 e^{2 h} - 3\\right)}{h^{4} \\left(e^{h} - 1\\right)^{2} \\left(e^{h} + 1\\right)^{2}}$"
      ],
      "text/plain": [
       "-2*(h*exp(2*h) + h - exp(2*h) + 1)*(2*h**2*exp(2*h) - 2*h**2 - 3*h*exp(2*h) - 3*h + 3*exp(2*h) - 3)/(h**4*(exp(h) - 1)**2*(exp(h) + 1)**2)"
      ]
     },
     "metadata": {},
     "output_type": "display_data"
    },
    {
     "name": "stdout",
     "output_type": "stream",
     "text": [
      "- \\frac{2 \\left(h e^{2 h} + h - e^{2 h} + 1\\right) \\left(2 h^{2} e^{2 h} - 2 h^{2} - 3 h e^{2 h} - 3 h + 3 e^{2 h} - 3\\right)}{h^{4} \\left(e^{h} - 1\\right)^{2} \\left(e^{h} + 1\\right)^{2}}\n"
     ]
    },
    {
     "data": {
      "text/latex": [
       "$\\displaystyle \\frac{6 \\left<m\\right>^{2}}{h^{2}} - \\frac{4 \\left<m\\right>}{h}$"
      ],
      "text/plain": [
       "6*\\left<m\\right>**2/h**2 - 4*\\left<m\\right>/h"
      ]
     },
     "metadata": {},
     "output_type": "display_data"
    },
    {
     "name": "stdout",
     "output_type": "stream",
     "text": [
      "\\frac{6 \\left<m\\right>^{2}}{h^{2}} - \\frac{4 \\left<m\\right>}{h}\n"
     ]
    }
   ],
   "source": [
    "expr = (expr_eta2-1).subs({m: expr_m, eta: expr_eta}).rewrite(sp.exp).factor()\n",
    "expr = dawsn_to_series_oo(expr, 5).factor()\n",
    "expr = sp.limit(expr, l, 0).factor()\n",
    "display(expr)\n",
    "sp.print_latex(expr)\n",
    "\n",
    "expr = expr.expand().subs(sp.exp(2*h), _exp_m).factor().expand()\n",
    "display(expr)\n",
    "sp.print_latex(expr)"
   ]
  },
  {
   "cell_type": "markdown",
   "metadata": {},
   "source": [
    "### $h \\rightarrow 0$"
   ]
  },
  {
   "cell_type": "code",
   "execution_count": 47,
   "metadata": {},
   "outputs": [
    {
     "data": {
      "text/latex": [
       "$\\displaystyle \\frac{8 \\pi^{2} e^{\\lambda}}{\\lambda} - \\frac{8 \\pi^{2} e^{- \\lambda}}{\\lambda}$"
      ],
      "text/plain": [
       "8*pi**2*exp(\\lambda)/\\lambda - 8*pi**2*exp(-\\lambda)/\\lambda"
      ]
     },
     "metadata": {},
     "output_type": "display_data"
    },
    {
     "name": "stdout",
     "output_type": "stream",
     "text": [
      "\\frac{8 \\pi^{2} e^{\\lambda}}{\\lambda} - \\frac{8 \\pi^{2} e^{- \\lambda}}{\\lambda}\n"
     ]
    },
    {
     "data": {
      "text/latex": [
       "$\\displaystyle \\frac{16 \\pi^{2} \\sinh{\\left(\\lambda \\right)}}{\\lambda}$"
      ],
      "text/plain": [
       "16*pi**2*sinh(\\lambda)/\\lambda"
      ]
     },
     "metadata": {},
     "output_type": "display_data"
    },
    {
     "name": "stdout",
     "output_type": "stream",
     "text": [
      "\\frac{16 \\pi^{2} \\sinh{\\left(\\lambda \\right)}}{\\lambda}\n"
     ]
    }
   ],
   "source": [
    "expr = Z2_ferr.rewrite(sp.exp).rewrite(sp.erfi)\n",
    "expr = sp.limit(expr, h, 0).expand()\n",
    "display(expr)\n",
    "sp.print_latex(expr)\n",
    "\n",
    "expr = expr.rewrite(sp.sin).factor()\n",
    "display(expr)\n",
    "sp.print_latex(expr)"
   ]
  },
  {
   "cell_type": "code",
   "execution_count": 48,
   "metadata": {},
   "outputs": [
    {
     "data": {
      "text/latex": [
       "$\\displaystyle 0$"
      ],
      "text/plain": [
       "0"
      ]
     },
     "metadata": {},
     "output_type": "display_data"
    }
   ],
   "source": [
    "expr = expr_m.rewrite(sp.exp).rewrite(sp.erfi)\n",
    "expr = sp.limit(expr, h, 0).expand()\n",
    "display(expr)"
   ]
  },
  {
   "cell_type": "code",
   "execution_count": 49,
   "metadata": {},
   "outputs": [
    {
     "data": {
      "text/latex": [
       "$\\displaystyle \\frac{\\lambda e^{2 \\lambda} + \\lambda - e^{2 \\lambda} + 1}{\\lambda \\left(e^{\\lambda} - 1\\right) \\left(e^{\\lambda} + 1\\right)}$"
      ],
      "text/plain": [
       "(\\lambda*exp(2*\\lambda) + \\lambda - exp(2*\\lambda) + 1)/(\\lambda*(exp(\\lambda) - 1)*(exp(\\lambda) + 1))"
      ]
     },
     "metadata": {},
     "output_type": "display_data"
    },
    {
     "name": "stdout",
     "output_type": "stream",
     "text": [
      "\\frac{\\lambda e^{2 \\lambda} + \\lambda - e^{2 \\lambda} + 1}{\\lambda \\left(e^{\\lambda} - 1\\right) \\left(e^{\\lambda} + 1\\right)}\n"
     ]
    },
    {
     "data": {
      "text/latex": [
       "$\\displaystyle \\frac{1}{\\tanh{\\left(\\lambda \\right)}} - \\frac{1}{\\lambda}$"
      ],
      "text/plain": [
       "1/tanh(\\lambda) - 1/\\lambda"
      ]
     },
     "metadata": {},
     "output_type": "display_data"
    },
    {
     "name": "stdout",
     "output_type": "stream",
     "text": [
      "\\frac{1}{\\tanh{\\left(\\lambda \\right)}} - \\frac{1}{\\lambda}\n"
     ]
    }
   ],
   "source": [
    "expr = expr_eta.rewrite(sp.exp).rewrite(sp.erfi)\n",
    "expr = sp.limit(expr, h, 0).factor()\n",
    "display(expr)\n",
    "sp.print_latex(expr)\n",
    "\n",
    "expr = expr.expand().rewrite(sp.tanh).factor().expand()\n",
    "display(expr)\n",
    "sp.print_latex(expr)"
   ]
  },
  {
   "cell_type": "code",
   "execution_count": 50,
   "metadata": {},
   "outputs": [
    {
     "data": {
      "text/latex": [
       "$\\displaystyle \\frac{\\lambda e^{2 \\lambda} + \\lambda - e^{2 \\lambda} + 1}{\\lambda \\left(2 \\lambda e^{2 \\lambda} - e^{2 \\lambda} + 1\\right)}$"
      ],
      "text/plain": [
       "(\\lambda*exp(2*\\lambda) + \\lambda - exp(2*\\lambda) + 1)/(\\lambda*(2*\\lambda*exp(2*\\lambda) - exp(2*\\lambda) + 1))"
      ]
     },
     "metadata": {},
     "output_type": "display_data"
    },
    {
     "name": "stdout",
     "output_type": "stream",
     "text": [
      "\\frac{\\lambda e^{2 \\lambda} + \\lambda - e^{2 \\lambda} + 1}{\\lambda \\left(2 \\lambda e^{2 \\lambda} - e^{2 \\lambda} + 1\\right)}\n"
     ]
    },
    {
     "data": {
      "text/latex": [
       "$\\displaystyle \\frac{\\left<\\eta\\right>}{\\lambda \\left(\\left<\\eta\\right> + 1\\right)}$"
      ],
      "text/plain": [
       "\\left<\\eta\\right>/(\\lambda*(\\left<\\eta\\right> + 1))"
      ]
     },
     "metadata": {},
     "output_type": "display_data"
    },
    {
     "name": "stdout",
     "output_type": "stream",
     "text": [
      "\\frac{\\left<\\eta\\right>}{\\lambda \\left(\\left<\\eta\\right> + 1\\right)}\n"
     ]
    }
   ],
   "source": [
    "expr = (expr_m_upsilon/m).subs({m: expr_m, eta: expr_eta}).rewrite(sp.exp).rewrite(sp.erfi)\n",
    "expr = sp.limit(expr.factor(), h, 0).factor()\n",
    "display(expr)\n",
    "sp.print_latex(expr)\n",
    "\n",
    "expr = expr.rewrite(sp.tanh).factor()\n",
    "expr = expr.subs(sp.tanh(l), 1/(eta+1/l)).factor()\n",
    "display(expr)\n",
    "sp.print_latex(expr)"
   ]
  },
  {
   "cell_type": "code",
   "execution_count": 51,
   "metadata": {},
   "outputs": [
    {
     "data": {
      "text/latex": [
       "$\\displaystyle \\frac{\\lambda^{2} e^{2 \\lambda} - \\lambda^{2} - 2 \\lambda e^{2 \\lambda} - 2 \\lambda + 2 e^{2 \\lambda} - 2}{\\lambda^{2} \\left(e^{\\lambda} - 1\\right) \\left(e^{\\lambda} + 1\\right)}$"
      ],
      "text/plain": [
       "(\\lambda**2*exp(2*\\lambda) - \\lambda**2 - 2*\\lambda*exp(2*\\lambda) - 2*\\lambda + 2*exp(2*\\lambda) - 2)/(\\lambda**2*(exp(\\lambda) - 1)*(exp(\\lambda) + 1))"
      ]
     },
     "metadata": {},
     "output_type": "display_data"
    },
    {
     "name": "stdout",
     "output_type": "stream",
     "text": [
      "\\frac{\\lambda^{2} e^{2 \\lambda} - \\lambda^{2} - 2 \\lambda e^{2 \\lambda} - 2 \\lambda + 2 e^{2 \\lambda} - 2}{\\lambda^{2} \\left(e^{\\lambda} - 1\\right) \\left(e^{\\lambda} + 1\\right)}\n"
     ]
    },
    {
     "data": {
      "text/latex": [
       "$\\displaystyle 1 - \\frac{2 \\left<\\eta\\right>}{\\lambda}$"
      ],
      "text/plain": [
       "1 - 2*\\left<\\eta\\right>/\\lambda"
      ]
     },
     "metadata": {},
     "output_type": "display_data"
    },
    {
     "name": "stdout",
     "output_type": "stream",
     "text": [
      "1 - \\frac{2 \\left<\\eta\\right>}{\\lambda}\n"
     ]
    }
   ],
   "source": [
    "expr = expr_eta2.subs({m: expr_m, eta: expr_eta}).rewrite(sp.exp).rewrite(sp.erfi)\n",
    "expr = sp.limit(expr.factor(), h, 0).factor()\n",
    "display(expr)\n",
    "sp.print_latex(expr)\n",
    "\n",
    "expr = expr.expand().rewrite(sp.tanh).factor().expand()\n",
    "expr = expr.subs(1/sp.tanh(l), eta+1/l).expand()\n",
    "display(expr)\n",
    "sp.print_latex(expr)"
   ]
  },
  {
   "cell_type": "markdown",
   "metadata": {},
   "source": [
    "## Генерация кода C++ для реализации метода Ньютона"
   ]
  },
  {
   "cell_type": "code",
   "execution_count": 52,
   "metadata": {},
   "outputs": [
    {
     "data": {
      "text/latex": [
       "$\\displaystyle - \\frac{{\\cal E}_{1}\\left(h, \\lambda\\right) {\\cal E}_{12}\\left(h, \\lambda\\right)}{2 \\lambda \\left({\\cal F}^{(2)}\\left(h,\\lambda\\right)\\right)^\\mathtt{\\text{2}}} + \\frac{h {\\cal E}_{12}^\\mathtt{\\text{2}}\\left(h, \\lambda\\right)}{4 \\lambda^{2} \\left({\\cal F}^{(2)}\\left(h,\\lambda\\right)\\right)^\\mathtt{\\text{2}}} + \\frac{h}{\\lambda^{2}} + \\frac{\\sqrt{2} {\\cal E}_{}\\left(h, \\lambda\\right)}{2 \\sqrt{\\lambda} {\\cal F}^{(2)}\\left(h,\\lambda\\right)} + \\frac{\\sqrt{2} {\\cal E}_{12}\\left(h, \\lambda\\right)}{2 \\sqrt{\\lambda} {\\cal F}^{(2)}\\left(h,\\lambda\\right)} - \\frac{\\sqrt{2} {\\cal E}_{12}\\left(h, \\lambda\\right)}{4 \\lambda^{\\frac{3}{2}} {\\cal F}^{(2)}\\left(h,\\lambda\\right)} - \\frac{\\sqrt{2} h^{2} {\\cal E}_{12}\\left(h, \\lambda\\right)}{4 \\lambda^{\\frac{5}{2}} {\\cal F}^{(2)}\\left(h,\\lambda\\right)}$"
      ],
      "text/plain": [
       "-EFunction(h, \\lambda, 1, 0)*EFunction(h, \\lambda, 1, 1)/(2*\\lambda*cF2Function(h, \\lambda)**2) + h*EFunction(h, \\lambda, 1, 1)**2/(4*\\lambda**2*cF2Function(h, \\lambda)**2) + h/\\lambda**2 + sqrt(2)*EFunction(h, \\lambda, 0, 0)/(2*sqrt(\\lambda)*cF2Function(h, \\lambda)) + sqrt(2)*EFunction(h, \\lambda, 1, 1)/(2*sqrt(\\lambda)*cF2Function(h, \\lambda)) - sqrt(2)*EFunction(h, \\lambda, 1, 1)/(4*\\lambda**(3/2)*cF2Function(h, \\lambda)) - sqrt(2)*h**2*EFunction(h, \\lambda, 1, 1)/(4*\\lambda**(5/2)*cF2Function(h, \\lambda))"
      ]
     },
     "metadata": {},
     "output_type": "display_data"
    },
    {
     "data": {
      "text/latex": [
       "$\\displaystyle - \\frac{{\\cal E}_{1}^\\mathtt{\\text{2}}\\left(h, \\lambda\\right)}{2 \\lambda \\left({\\cal F}^{(2)}\\left(h,\\lambda\\right)\\right)^\\mathtt{\\text{2}}} + \\frac{h {\\cal E}_{1}\\left(h, \\lambda\\right) {\\cal E}_{12}\\left(h, \\lambda\\right)}{2 \\lambda^{2} \\left({\\cal F}^{(2)}\\left(h,\\lambda\\right)\\right)^\\mathtt{\\text{2}}} + \\frac{1}{2 \\lambda^{2}} - \\frac{h^{2} {\\cal E}_{12}^\\mathtt{\\text{2}}\\left(h, \\lambda\\right)}{8 \\lambda^{3} \\left({\\cal F}^{(2)}\\left(h,\\lambda\\right)\\right)^\\mathtt{\\text{2}}} - \\frac{h^{2}}{\\lambda^{3}} + \\frac{\\sqrt{2} {\\cal E}_{1}\\left(h, \\lambda\\right)}{\\sqrt{\\lambda} {\\cal F}^{(2)}\\left(h,\\lambda\\right)} - \\frac{\\sqrt{2} h {\\cal E}_{}\\left(h, \\lambda\\right)}{4 \\lambda^{\\frac{3}{2}} {\\cal F}^{(2)}\\left(h,\\lambda\\right)} - \\frac{\\sqrt{2} h {\\cal E}_{12}\\left(h, \\lambda\\right)}{4 \\lambda^{\\frac{3}{2}} {\\cal F}^{(2)}\\left(h,\\lambda\\right)} - \\frac{\\sqrt{2} {\\cal E}_{1}\\left(h, \\lambda\\right)}{4 \\lambda^{\\frac{3}{2}} {\\cal F}^{(2)}\\left(h,\\lambda\\right)} - \\frac{\\sqrt{2} h^{2} {\\cal E}_{1}\\left(h, \\lambda\\right)}{4 \\lambda^{\\frac{5}{2}} {\\cal F}^{(2)}\\left(h,\\lambda\\right)} + \\frac{3 \\sqrt{2} h {\\cal E}_{12}\\left(h, \\lambda\\right)}{8 \\lambda^{\\frac{5}{2}} {\\cal F}^{(2)}\\left(h,\\lambda\\right)} + \\frac{\\sqrt{2} h^{3} {\\cal E}_{12}\\left(h, \\lambda\\right)}{8 \\lambda^{\\frac{7}{2}} {\\cal F}^{(2)}\\left(h,\\lambda\\right)}$"
      ],
      "text/plain": [
       "-EFunction(h, \\lambda, 1, 0)**2/(2*\\lambda*cF2Function(h, \\lambda)**2) + h*EFunction(h, \\lambda, 1, 0)*EFunction(h, \\lambda, 1, 1)/(2*\\lambda**2*cF2Function(h, \\lambda)**2) + 1/(2*\\lambda**2) - h**2*EFunction(h, \\lambda, 1, 1)**2/(8*\\lambda**3*cF2Function(h, \\lambda)**2) - h**2/\\lambda**3 + sqrt(2)*EFunction(h, \\lambda, 1, 0)/(sqrt(\\lambda)*cF2Function(h, \\lambda)) - sqrt(2)*h*EFunction(h, \\lambda, 0, 0)/(4*\\lambda**(3/2)*cF2Function(h, \\lambda)) - sqrt(2)*h*EFunction(h, \\lambda, 1, 1)/(4*\\lambda**(3/2)*cF2Function(h, \\lambda)) - sqrt(2)*EFunction(h, \\lambda, 1, 0)/(4*\\lambda**(3/2)*cF2Function(h, \\lambda)) - sqrt(2)*h**2*EFunction(h, \\lambda, 1, 0)/(4*\\lambda**(5/2)*cF2Function(h, \\lambda)) + 3*sqrt(2)*h*EFunction(h, \\lambda, 1, 1)/(8*\\lambda**(5/2)*cF2Function(h, \\lambda)) + sqrt(2)*h**3*EFunction(h, \\lambda, 1, 1)/(8*\\lambda**(7/2)*cF2Function(h, \\lambda))"
      ]
     },
     "metadata": {},
     "output_type": "display_data"
    }
   ],
   "source": [
    "expr_G1 = expr_m-m\n",
    "expr_G2 = expr_eta-eta\n",
    "\n",
    "expr_G1_diff_h = expr_G1.diff(h).expand()\n",
    "expr_G1_diff_l = expr_G1.diff(l).expand()\n",
    "\n",
    "expr_G2_diff_h = expr_G2.diff(h).expand()\n",
    "expr_G2_diff_l = expr_G2.diff(l).expand()\n",
    "\n",
    "display(expr_G2_diff_h)\n",
    "display(expr_G2_diff_l)"
   ]
  },
  {
   "cell_type": "code",
   "execution_count": 53,
   "metadata": {},
   "outputs": [],
   "source": [
    "from sympy.printing.c import C99CodePrinter\n",
    "\n",
    "\n",
    "class CPrinter(C99CodePrinter):\n",
    "    def _print_Function(self, expr):\n",
    "        if isinstance(expr, F2Function):\n",
    "            return f\"gsl_sf_dawson({self._print(expr.args[0])})\"\n",
    "\n",
    "        return super()._print_Function(expr)\n",
    "\n",
    "    def _print_Rational(self, expr):\n",
    "        if expr.equals(sp.Rational(1, 2)):\n",
    "            return \".5\"\n",
    "        if expr.equals(sp.Rational(1, 4)):\n",
    "            return \".25\"\n",
    "        if expr.equals(sp.Rational(3, 2)):\n",
    "            return \"1.5\"\n",
    "        if expr.equals(sp.Rational(1, 8)):\n",
    "            return \"0.125\"\n",
    "        if expr.equals(sp.Rational(3, 8)):\n",
    "            return \"0.375\"\n",
    "        return super()._print_Rational(expr)\n",
    "\n",
    "    def _print_Pow(self, expr):\n",
    "        arg, power = expr.args\n",
    "        if power.is_integer:\n",
    "            return \"(\"+\"*\".join([self._print(arg)]*int(power.evalf()))+\")\"\n",
    "\n",
    "        return super()._print_Pow(expr)\n",
    "\n",
    "\n",
    "def get_ccode(expr):\n",
    "    return CPrinter().doprint(expr)"
   ]
  },
  {
   "cell_type": "code",
   "execution_count": 54,
   "metadata": {},
   "outputs": [],
   "source": [
    "subs = {\n",
    "    EFunction(h, l, 1, 1): sp.Symbol(\"E12_cF2\")*cF2Function(h, l),\n",
    "    EFunction(h, l, 1, 0): sp.Symbol(\"E1_cF2\")*cF2Function(h, l),\n",
    "    EFunction(h, l, 0, 0): sp.Symbol(\"E_cF2\")*cF2Function(h, l),\n",
    "    m: sp.Symbol(\"m\"), eta: sp.Symbol(\"eta\"),\n",
    "    sp.exp(-2*h): sp.Symbol(\"_exp_2h\"),\n",
    "    sp.exp(-2*l): sp.Symbol(\"_exp_2l\"),\n",
    "    l: sp.Symbol(\"l\")\n",
    "}\n",
    "\n",
    "\n",
    "def _optimize_pow(expr, symbol, name_symbol):\n",
    "    result = 0\n",
    "    for key, value in sp.collect(expr, symbol, evaluate=False).items():\n",
    "        if isinstance(key, sp.Pow):\n",
    "            power = key.args[1]\n",
    "            if power.is_integer:\n",
    "                if power < 0:\n",
    "                    result += sp.Symbol(f\"_{name_symbol}\")**(-power)*value\n",
    "                    continue\n",
    "                result += symbol**power*value\n",
    "                continue\n",
    "\n",
    "            if (2*power).is_integer:\n",
    "                if power < 0:\n",
    "                    power = int(power + 1/2)\n",
    "                    result += sp.Symbol(f\"_sqrt_{name_symbol}\") * \\\n",
    "                        sp.Symbol(f\"_{name_symbol}\")**(-power)*value\n",
    "                    continue\n",
    "                if power > 0:\n",
    "                    power = int(power - 1/2)\n",
    "                    result += sp.Symbol(f\"_sqrt_{name_symbol}\") * \\\n",
    "                        symbol**(power)*value\n",
    "                    continue\n",
    "\n",
    "        result += key*value\n",
    "\n",
    "    return result\n",
    "\n",
    "\n",
    "def optimize(expr):\n",
    "    expr = _optimize_pow(expr, l, \"l\")\n",
    "    expr = _optimize_pow(expr, h, \"h\")\n",
    "    expr = expr.subs(subs)\n",
    "    return expr"
   ]
  },
  {
   "cell_type": "code",
   "execution_count": 55,
   "metadata": {},
   "outputs": [
    {
     "name": "stdout",
     "output_type": "stream",
     "text": [
      "double _l = 1/l;\n",
      "double _h = 1/h;\n",
      "double _sqrt_l = sqrt(_l);\n",
      "double _exp_2l = exp(-2*l);\n",
      "double _exp_2h = exp(-2*h);\n",
      "double cF2 =  (_exp_2h*_exp_2h)*gsl_sf_dawson((.5)*M_SQRT2*_sqrt_l*(h - 2*l)) - 2*_exp_2h*_exp_2l*gsl_sf_dawson((.5)*M_SQRT2*_sqrt_l*h) + gsl_sf_dawson((.5)*M_SQRT2*_sqrt_l*(h + 2*l));\n",
      "double _cF2 = 1/cF2;\n",
      "double E12_cF2 = _cF2*( (_exp_2h*_exp_2h) - 2*_exp_2h*_exp_2l + 1);\n",
      "double E1_cF2 = _cF2*( 1 - (_exp_2h*_exp_2h));\n",
      "double E_cF2 = _cF2*( (_exp_2h*_exp_2h) + 2*_exp_2h*_exp_2l + 1);\n",
      "\n",
      "double G1 = (.25)*M_SQRT2*E12_cF2*_sqrt_l - .5*_h - .5*_l*h - m;\n",
      "double G1_diff_h = (.25)*M_SQRT2*E12_cF2*_l*_sqrt_l*h + (.5)*M_SQRT2*E1_cF2*_sqrt_l + (.5)*(_h*_h) + _l*(-.25*(E12_cF2*E12_cF2) - 1.0/2.0);\n",
      "double G1_diff_l = -.25*E12_cF2*E1_cF2*_l - 0.125*M_SQRT2*E12_cF2*(_l*_l)*_sqrt_l*(h*h) - 0.125*M_SQRT2*E12_cF2*_l*_sqrt_l + (_l*_l)*((0.125)*(E12_cF2*E12_cF2)*h + (.5)*h) + _sqrt_l*((.25)*M_SQRT2*E12_cF2 + (.25)*M_SQRT2*E_cF2);\n",
      "\n",
      "double G2 = -.25*M_SQRT2*E12_cF2*_l*_sqrt_l*h + (.5)*M_SQRT2*E1_cF2*_sqrt_l + (.5)*(_l*_l)*(h*h) - .5*_l - eta - 1;\n",
      "double G2_diff_h = -.5*E12_cF2*E1_cF2*_l - .25*M_SQRT2*E12_cF2*(_l*_l)*_sqrt_l*(h*h) - .25*M_SQRT2*E12_cF2*_l*_sqrt_l + (_l*_l)*((.25)*(E12_cF2*E12_cF2)*h + h) + _sqrt_l*((.5)*M_SQRT2*E12_cF2 + (.5)*M_SQRT2*E_cF2);\n",
      "double G2_diff_l = (0.125)*M_SQRT2*E12_cF2*(_l*_l*_l)*_sqrt_l*(h*h*h) - .5*(E1_cF2*E1_cF2)*_l + M_SQRT2*E1_cF2*_sqrt_l + (_l*_l*_l)*(-0.125*(E12_cF2*E12_cF2)*(h*h) - (h*h)) + (_l*_l)*_sqrt_l*((0.375)*M_SQRT2*E12_cF2*h - .25*M_SQRT2*E1_cF2*(h*h)) + (_l*_l)*((.5)*E12_cF2*E1_cF2*h + .5) + _l*_sqrt_l*(-.25*M_SQRT2*E12_cF2*h - .25*M_SQRT2*E1_cF2 - .25*M_SQRT2*E_cF2*h);\n"
     ]
    }
   ],
   "source": [
    "print(\"double _l = 1/l;\")\n",
    "print(\"double _h = 1/h;\")\n",
    "print(\"double _sqrt_l = sqrt(_l);\")\n",
    "print(\"double _exp_2l = exp(-2*l);\")\n",
    "print(\"double _exp_2h = exp(-2*h);\")\n",
    "val_cF2 = cF2Function(h, l).rewrite(sp.exp)\n",
    "val_cF2 = val_cF2.replace(F2Function, lambda *args: F2Function(optimize(args[0]))*sp.exp(-2*h-l))\n",
    "print(\"double cF2 = \", get_ccode(optimize(val_cF2))+\";\")\n",
    "print(\"double _cF2 = 1/cF2;\")\n",
    "print(\"double E12_cF2 = _cF2*(\", get_ccode(optimize(sp.expand(EFunction(h, l, 1, 1).rewrite(sp.exp)*sp.exp(-2*h-l))))+\");\")\n",
    "print(\"double E1_cF2 = _cF2*(\", get_ccode(optimize(sp.expand(EFunction(h, l, 1, 0).rewrite(sp.exp)*sp.exp(-2*h-l))))+\");\")\n",
    "print(\"double E_cF2 = _cF2*(\", get_ccode(optimize(sp.expand(EFunction(h, l, 0, 0).rewrite(sp.exp)*sp.exp(-2*h-l))))+\");\")\n",
    "print()\n",
    "print(\"double G1 =\", get_ccode(optimize(expr_G1))+\";\")\n",
    "print(\"double G1_diff_h =\", get_ccode(optimize(expr_G1_diff_h))+\";\")\n",
    "print(\"double G1_diff_l =\", get_ccode(optimize(expr_G1_diff_l))+\";\")\n",
    "print()\n",
    "print(\"double G2 =\", get_ccode(optimize(expr_G2))+\";\")\n",
    "print(\"double G2_diff_h =\", get_ccode(optimize(expr_G2_diff_h))+\";\")\n",
    "print(\"double G2_diff_l =\", get_ccode(optimize(expr_G2_diff_l))+\";\")"
   ]
  },
  {
   "cell_type": "markdown",
   "metadata": {},
   "source": [
    "# Ферромагнетик с $\\left<m_1\\right> \\neq \\left<m_2\\right>$"
   ]
  },
  {
   "cell_type": "markdown",
   "metadata": {},
   "source": [
    "## Выражение для $Z^{(2)}$"
   ]
  },
  {
   "cell_type": "markdown",
   "metadata": {},
   "source": [
    "### Аргументы"
   ]
  },
  {
   "cell_type": "code",
   "execution_count": 56,
   "metadata": {},
   "outputs": [],
   "source": [
    "h1, h2, l = sp.symbols(\"h_1 h_2 \\\\lambda\", positive=True)\n",
    "s1, s2 = SigmaSymbol(\"\\\\sigma_1\"), SigmaSymbol(\"\\\\sigma_2\")\n",
    "t = sp.Symbol(\"t\")"
   ]
  },
  {
   "cell_type": "code",
   "execution_count": 57,
   "metadata": {},
   "outputs": [
    {
     "data": {
      "text/latex": [
       "$\\displaystyle - \\frac{\\lambda h_{2}}{2 h_{1}} + t^{2}$"
      ],
      "text/plain": [
       "-\\lambda*h_2/(2*h_1) + t**2"
      ]
     },
     "metadata": {},
     "output_type": "display_data"
    },
    {
     "data": {
      "text/latex": [
       "$\\displaystyle \\frac{\\sqrt{2} \\sqrt{h_{1}} \\left(\\frac{\\sigma_1 \\lambda h_{2}}{h_{1}} + \\sigma_2 \\lambda + h_{2}\\right)}{2 \\sqrt{\\lambda} \\sqrt{h_{2}}}$"
      ],
      "text/plain": [
       "sqrt(2)*sqrt(h_1)*(\\sigma_1*\\lambda*h_2/h_1 + \\sigma_2*\\lambda + h_2)/(2*sqrt(\\lambda)*sqrt(h_2))"
      ]
     },
     "metadata": {},
     "output_type": "display_data"
    }
   ],
   "source": [
    "arg_exp = t**2/(2*l)*h1/h2 + s1*t\n",
    "bound = h2+s2*l\n",
    "\n",
    "arg_exp = arg_exp.replace(t, t-s1*l*h2/h1).expand()\n",
    "bound += s1*l*h2/h1\n",
    "\n",
    "arg_exp = arg_exp.replace(t, t*sp.sqrt(2*l*h2/h1))\n",
    "bound /= sp.sqrt(2*l*h2/h1)\n",
    "\n",
    "display(arg_exp)\n",
    "display(bound)"
   ]
  },
  {
   "cell_type": "code",
   "execution_count": 58,
   "metadata": {},
   "outputs": [
    {
     "data": {
      "text/latex": [
       "$\\displaystyle \\sigma_1 \\sigma_2 \\lambda + \\sigma_1 h_{2} + \\sigma_2 h_{1}$"
      ],
      "text/plain": [
       "\\sigma_1*\\sigma_2*\\lambda + \\sigma_1*h_2 + \\sigma_2*h_1"
      ]
     },
     "metadata": {},
     "output_type": "display_data"
    }
   ],
   "source": [
    "expr = bound**2 + (arg_exp - t**2)\n",
    "expr = expr.expand()\n",
    "expr -= (h2**2+l**2)/(2*l*h2/h1)\n",
    "expr = expr.expand()\n",
    "\n",
    "display(expr)"
   ]
  },
  {
   "cell_type": "markdown",
   "metadata": {},
   "source": [
    "### Производные $\\cal{F}^{(2)}$"
   ]
  },
  {
   "cell_type": "code",
   "execution_count": 59,
   "metadata": {},
   "outputs": [],
   "source": [
    "_sub_expr_E = sp.exp(h1*s1+h2*s2+l*s1*s2).expand()\n",
    "_sub_expr_cF2 = F2Function((h2+s1*l+s2*l*h2/h1)/sp.sqrt(2*l*h2/h1)).expand()\n",
    "\n",
    "_dummy_subs = {\n",
    "    _sub_expr_E*_sub_expr_cF2: sp.Dummy(),\n",
    "    _sub_expr_E: sp.Dummy()\n",
    "}\n",
    "\n",
    "\n",
    "def sigmas_sum(expr):\n",
    "    expr = expr.expand().subs(_dummy_subs)\n",
    "\n",
    "    terms = sp.collect(expr, _dummy_subs.values(), evaluate=False)\n",
    "    for dummy in _dummy_subs.values():\n",
    "        if dummy in terms:\n",
    "            terms[dummy] = sp.Poly(terms[dummy], [s1, s2]).as_dict()\n",
    "    for key, dummy in _dummy_subs.items():\n",
    "        if dummy in terms:\n",
    "            terms[key] = terms.pop(dummy)\n",
    "\n",
    "    return terms"
   ]
  },
  {
   "cell_type": "code",
   "execution_count": 60,
   "metadata": {},
   "outputs": [],
   "source": [
    "class Z2nsSigmasFunctionBase(sp.Function):\n",
    "    def __init__(self, name, *args, **kwargs):\n",
    "        self.name = name\n",
    "\n",
    "    def _latex(self, printer, exp=None):\n",
    "        args = list(map(printer.doprint, self.args[:3]))\n",
    "        args = f\"\\\\left({args[0]}, {args[1]}, {args[2]}\\\\right)\"\n",
    "\n",
    "        indexes = \"\"\n",
    "        for i, item in enumerate(self.args[3:]):\n",
    "            if item:\n",
    "                indexes += str(i+1)\n",
    "        name = f\"{self.name}\"+\"_{\" + indexes + \"}\"\n",
    "\n",
    "        if exp is None:\n",
    "            return name+args\n",
    "        else:\n",
    "            exp = printer.doprint(exp)\n",
    "            return f\"{name}^{exp}\"+args\n",
    "\n",
    "    def get_sigmas_factor(self):\n",
    "        factor = 1\n",
    "        if self.args[3]:\n",
    "            factor *= s1\n",
    "        if self.args[4]:\n",
    "            factor *= s2\n",
    "        return factor"
   ]
  },
  {
   "cell_type": "code",
   "execution_count": 61,
   "metadata": {},
   "outputs": [],
   "source": [
    "class EFunction_ns(Z2nsSigmasFunctionBase):\n",
    "    def __init__(self, *args, **kwargs):\n",
    "        super().__init__(\"{\\\\cal E}\", *args, **kwargs)\n",
    "\n",
    "    def fdiff(self, argindex=1):\n",
    "        factor = self.get_sigmas_factor()\n",
    "        expr = (factor*_sub_expr_E).diff([h1, h2, l][argindex-1])\n",
    "        terms = sigmas_sum(expr)\n",
    "\n",
    "        subs = dict(zip([h1, h2, l], self.args[:3]))\n",
    "\n",
    "        result = 0\n",
    "        for key, item in terms[_sub_expr_E].items():\n",
    "            result += item.subs(subs)*EFunction_ns(*self.args[:3], *key)\n",
    "\n",
    "        return result\n",
    "        \n",
    "    def _eval_rewrite(self, rule, args, **hints):\n",
    "        h1, h2, l, arg_s1, arg_s2 = args\n",
    "        if rule == sp.exp:\n",
    "            result = 0\n",
    "            for s1 in SIGMAS:\n",
    "                for s2 in SIGMAS:\n",
    "                    term = sp.exp(s1*h1+s2*h2+s1*s2*l)\n",
    "                    if arg_s1:\n",
    "                        term *= s1\n",
    "                    if arg_s2:\n",
    "                        term *= s2\n",
    "                    result += term\n",
    "            return result\n",
    "    \n",
    "    @classmethod\n",
    "    def eval(cls, *args):\n",
    "        if args[0] == args[1]:\n",
    "            return EFunction(args[0], *args[2:])"
   ]
  },
  {
   "cell_type": "code",
   "execution_count": 62,
   "metadata": {},
   "outputs": [
    {
     "data": {
      "text/latex": [
       "$\\displaystyle {\\cal E}_{2}\\left(h_{1}, h_{2}, \\lambda\\right)$"
      ],
      "text/plain": [
       "EFunction_ns(h_1, h_2, \\lambda, 0, 1)"
      ]
     },
     "execution_count": 62,
     "metadata": {},
     "output_type": "execute_result"
    }
   ],
   "source": [
    "EFunction_ns(h1, h2, l, 1, 1).diff(h1)"
   ]
  },
  {
   "cell_type": "code",
   "execution_count": 63,
   "metadata": {},
   "outputs": [],
   "source": [
    "class cF2Function_ns(sp.Function):\n",
    "    def _latex(self, printer, exp=None):\n",
    "        args = list(map(printer.doprint, self.args[:3]))\n",
    "        args = f\"\\\\left({args[0]}, {args[1]}, {args[2]}\\\\right)\"\n",
    "        if exp is None:\n",
    "            return \"{\\\\cal F}^{(2)}\"+args\n",
    "        else:\n",
    "            exp = printer.doprint(exp)\n",
    "            return f\"\\\\left({self._latex(printer)}\\\\right)^{exp}\"\n",
    "\n",
    "    def fdiff(self, argindex=1):\n",
    "        expr = (s1*s2*_sub_expr_E*_sub_expr_cF2).diff([h1, h2, l][argindex-1])\n",
    "        terms = sigmas_sum(expr)\n",
    "\n",
    "        subs = dict(zip([h1, h2, l], self.args[:3]))\n",
    "\n",
    "        result = 0\n",
    "        for key, item in terms[_sub_expr_E].items():\n",
    "            result += item.subs(subs)*EFunction_ns(*self.args, *key)\n",
    "        \n",
    "        _term = terms[_sub_expr_E*_sub_expr_cF2][(1, 1)].factor().subs(subs)\n",
    "        result += _term*cF2Function_ns(*self.args)\n",
    "        return result\n",
    "\n",
    "    def _eval_rewrite(self, rule, args, **hints):\n",
    "        h1, h2, l = args\n",
    "        if rule == sp.exp:\n",
    "            result = 0\n",
    "            for s1 in SIGMAS:\n",
    "                for s2 in SIGMAS:\n",
    "                    term = sp.exp(s1*h1+s2*h2+s1*s2*l)\n",
    "                    term *= F2Function((h2+s1*l+s2*l*h2/h1)/sp.sqrt(2*l*h2/h1))\n",
    "                    term *= s1*s2\n",
    "                    result += term\n",
    "            return result\n",
    "\n",
    "        return result\n",
    "\n",
    "    @classmethod\n",
    "    def eval(cls, *args):\n",
    "        if args[0] == args[1]:\n",
    "            return cF2Function(args[0], args[2])"
   ]
  },
  {
   "cell_type": "code",
   "execution_count": 64,
   "metadata": {},
   "outputs": [
    {
     "data": {
      "text/latex": [
       "$\\displaystyle - \\frac{h_{1} {\\cal F}^{(2)}\\left(h_{1}, h_{2}, \\lambda\\right)}{2 h_{2}} - \\frac{h_{2} {\\cal F}^{(2)}\\left(h_{1}, h_{2}, \\lambda\\right)}{2 h_{1}} + \\frac{h_{1} h_{2} {\\cal F}^{(2)}\\left(h_{1}, h_{2}, \\lambda\\right)}{2 \\lambda^{2}} + \\frac{\\sqrt{2} \\sqrt{h_{1}} {\\cal E}_{2}\\left(h_{1}, h_{2}, \\lambda\\right)}{4 \\sqrt{\\lambda} \\sqrt{h_{2}}} + \\frac{\\sqrt{2} \\sqrt{h_{2}} {\\cal E}_{1}\\left(h_{1}, h_{2}, \\lambda\\right)}{4 \\sqrt{\\lambda} \\sqrt{h_{1}}} - \\frac{\\sqrt{2} \\sqrt{h_{1}} \\sqrt{h_{2}} {\\cal E}_{12}\\left(h_{1}, h_{2}, \\lambda\\right)}{4 \\lambda^{\\frac{3}{2}}}$"
      ],
      "text/plain": [
       "-h_1*cF2Function_ns(h_1, h_2, \\lambda)/(2*h_2) - h_2*cF2Function_ns(h_1, h_2, \\lambda)/(2*h_1) + h_1*h_2*cF2Function_ns(h_1, h_2, \\lambda)/(2*\\lambda**2) + sqrt(2)*sqrt(h_1)*EFunction_ns(h_1, h_2, \\lambda, 0, 1)/(4*sqrt(\\lambda)*sqrt(h_2)) + sqrt(2)*sqrt(h_2)*EFunction_ns(h_1, h_2, \\lambda, 1, 0)/(4*sqrt(\\lambda)*sqrt(h_1)) - sqrt(2)*sqrt(h_1)*sqrt(h_2)*EFunction_ns(h_1, h_2, \\lambda, 1, 1)/(4*\\lambda**(3/2))"
      ]
     },
     "metadata": {},
     "output_type": "display_data"
    },
    {
     "name": "stdout",
     "output_type": "stream",
     "text": [
      "- \\frac{h_{1} {\\cal F}^{(2)}\\left(h_{1}, h_{2}, \\lambda\\right)}{2 h_{2}} - \\frac{h_{2} {\\cal F}^{(2)}\\left(h_{1}, h_{2}, \\lambda\\right)}{2 h_{1}} + \\frac{h_{1} h_{2} {\\cal F}^{(2)}\\left(h_{1}, h_{2}, \\lambda\\right)}{2 \\lambda^{2}} + \\frac{\\sqrt{2} \\sqrt{h_{1}} {\\cal E}_{2}\\left(h_{1}, h_{2}, \\lambda\\right)}{4 \\sqrt{\\lambda} \\sqrt{h_{2}}} + \\frac{\\sqrt{2} \\sqrt{h_{2}} {\\cal E}_{1}\\left(h_{1}, h_{2}, \\lambda\\right)}{4 \\sqrt{\\lambda} \\sqrt{h_{1}}} - \\frac{\\sqrt{2} \\sqrt{h_{1}} \\sqrt{h_{2}} {\\cal E}_{12}\\left(h_{1}, h_{2}, \\lambda\\right)}{4 \\lambda^{\\frac{3}{2}}}\n"
     ]
    }
   ],
   "source": [
    "expr = cF2Function_ns(h1, h2, l).diff(l).expand()\n",
    "\n",
    "display(expr)\n",
    "sp.print_latex(expr)"
   ]
  },
  {
   "cell_type": "markdown",
   "metadata": {},
   "source": [
    "### Численный расчет"
   ]
  },
  {
   "cell_type": "markdown",
   "metadata": {},
   "source": [
    "#### Определения"
   ]
  },
  {
   "cell_type": "code",
   "execution_count": 65,
   "metadata": {},
   "outputs": [],
   "source": [
    "@lru_cache(maxsize=1)\n",
    "def _Z2_ns_E_terms(h1, h2, l):\n",
    "    def func(s1, s2): return np.exp(s1*h1+s2*h2+s1*s2*l)\n",
    "    return np.asarray([[func(s1, s2) for s2 in SIGMAS] for s1 in SIGMAS])\n",
    "\n",
    "@lru_cache(maxsize=1)\n",
    "def _Z2_ns_F_terms(h1, h2, l):\n",
    "    def func(s1, s2): return f_F2Function((h2+s1*l+s2*l*h2/h1)/np.sqrt(2*l*h2/h1))\n",
    "    return np.asarray([[func(s1, s2) for s2 in SIGMAS] for s1 in SIGMAS])"
   ]
  },
  {
   "cell_type": "code",
   "execution_count": 66,
   "metadata": {},
   "outputs": [],
   "source": [
    "def f_cF2Function_ns(h1, h2, l):\n",
    "    _terms = _Z2_ns_E_terms(h1, h2, l)*_Z2_ns_F_terms(h1, h2, l)\n",
    "    def _sigmas_func_12(s1, s2): return s1*s2\n",
    "    return _Z2_sum_terms(_terms, _sigmas_func_12)\n",
    "\n",
    "def v_cF2Function_ns(x): return f_cF2Function_ns(*x)"
   ]
  },
  {
   "cell_type": "code",
   "execution_count": 67,
   "metadata": {},
   "outputs": [],
   "source": [
    "def f_Z2_ns(h1, h2, l):\n",
    "    return np.sqrt(2)*(2*np.pi)**2/(np.sqrt(h1*h2*l))*f_cF2Function_ns(h1, h2, l)"
   ]
  },
  {
   "cell_type": "code",
   "execution_count": 71,
   "metadata": {},
   "outputs": [],
   "source": [
    "def raw_Z2_ns(h1, h2, l):\n",
    "    def _sqrt(x): return np.sqrt(h2**2+l**2+2*h2*l*x)\n",
    "    def func(x): return np.exp(h1*x)*f_Z1(_sqrt(x))\n",
    "    return 2*np.pi*quad(func, -1, 1)[0]\n",
    "\n",
    "def v_raw_Z2_ns(x): return raw_Z2_ns(*x)"
   ]
  },
  {
   "cell_type": "code",
   "execution_count": 72,
   "metadata": {},
   "outputs": [],
   "source": [
    "def f_EFunction_ns(h1, h2, l, arg_s1, arg_s2):\n",
    "    def _sigmas_func(s1, s2):\n",
    "        result = 1\n",
    "        if arg_s1:\n",
    "            result *= s1\n",
    "        if arg_s2:\n",
    "            result *= s2\n",
    "        return result\n",
    "    return _Z2_sum_terms(_Z2_ns_E_terms(h1, h2, l), _sigmas_func)\n",
    "\n",
    "module_ns_dictionary = {\"cF2Function_ns\": f_cF2Function_ns, \"EFunction_ns\": f_EFunction_ns, \"F2Function\": f_F2Function}"
   ]
  },
  {
   "cell_type": "markdown",
   "metadata": {},
   "source": [
    "#### Проверка"
   ]
  },
  {
   "cell_type": "code",
   "execution_count": 73,
   "metadata": {},
   "outputs": [
    {
     "name": "stdout",
     "output_type": "stream",
     "text": [
      "2056.4127882868374\n",
      "2056.4127882868374\n"
     ]
    }
   ],
   "source": [
    "args = 3, 2, 1.5\n",
    "print(raw_Z2_ns(*args))\n",
    "print(f_Z2_ns(*args))"
   ]
  },
  {
   "cell_type": "code",
   "execution_count": 74,
   "metadata": {},
   "outputs": [
    {
     "name": "stdout",
     "output_type": "stream",
     "text": [
      "16.26477756622653\n",
      "16.26477756622638\n",
      "\n",
      "14.133140858579903\n",
      "14.133140858580846\n",
      "\n",
      "14.618960735571534\n",
      "14.618960735572816\n"
     ]
    }
   ],
   "source": [
    "f_cF2_ns_diff_h1 = sp.lambdify((h1, h2, l), cF2Function_ns(h1, h2, l).diff(h1), [module_ns_dictionary, \"scipy\"])\n",
    "f_cF2_ns_diff_h2 = sp.lambdify((h1, h2, l), cF2Function_ns(h1, h2, l).diff(h2), [module_ns_dictionary, \"scipy\"])\n",
    "f_cF2_ns_diff_l  = sp.lambdify((h1, h2, l), cF2Function_ns(h1, h2, l).diff(l),  [module_ns_dictionary, \"scipy\"])\n",
    "\n",
    "args = 1, 2, 1.4\n",
    "\n",
    "print(nd.directionaldiff(v_cF2Function_ns, args, [1, 0, 0], n=1))\n",
    "print(f_cF2_ns_diff_h1(*args))\n",
    "print()\n",
    "print(nd.directionaldiff(v_cF2Function_ns, args, [0, 1, 0], n=1))\n",
    "print(f_cF2_ns_diff_h2(*args))\n",
    "print()\n",
    "print(nd.directionaldiff(v_cF2Function_ns, args, [0, 0, 1], n=1))\n",
    "print(f_cF2_ns_diff_l(*args))"
   ]
  },
  {
   "cell_type": "markdown",
   "metadata": {},
   "source": [
    "## Моменты"
   ]
  },
  {
   "cell_type": "code",
   "execution_count": 75,
   "metadata": {},
   "outputs": [
    {
     "data": {
      "text/latex": [
       "$\\displaystyle \\frac{4 \\sqrt{2} \\pi^{2} {\\cal F}^{(2)}\\left(h_{1}, h_{2}, \\lambda\\right)}{\\sqrt{\\lambda} \\sqrt{h_{1}} \\sqrt{h_{2}}}$"
      ],
      "text/plain": [
       "4*sqrt(2)*pi**2*cF2Function_ns(h_1, h_2, \\lambda)/(sqrt(\\lambda)*sqrt(h_1)*sqrt(h_2))"
      ]
     },
     "execution_count": 75,
     "metadata": {},
     "output_type": "execute_result"
    }
   ],
   "source": [
    "Z2_ns = sp.sqrt(2)*(2*sp.pi)**2/sp.sqrt(h1*h2*l)*cF2Function_ns(h1, h2, l)\n",
    "Z2_ns"
   ]
  },
  {
   "cell_type": "markdown",
   "metadata": {},
   "source": [
    "### $\\Psi$ в симметричном случае"
   ]
  },
  {
   "cell_type": "markdown",
   "metadata": {},
   "source": [
    "#### Численный расчет"
   ]
  },
  {
   "cell_type": "code",
   "execution_count": 78,
   "metadata": {},
   "outputs": [],
   "source": [
    "from scipy.special import iv\n",
    "\n",
    "def _raw_Z2_general(h1_per_2, h1_par_2, h2, l):\n",
    "    def _sqrt(x): return np.sqrt(h2**2+l**2+2*h2*l*np.cos(x))\n",
    "    def func(x): return iv(0, h1_per_2*np.sin(x))*np.exp(h1_par_2*np.cos(x))*f_Z1(_sqrt(x))*np.sin(x)\n",
    "    return 2*np.pi*quad(func, 0, np.pi)[0]\n",
    "\n",
    "def raw_Z2_general(h1, h2, l):\n",
    "    h2_norm = np.linalg.norm(h2)\n",
    "    h1_par_2 = h1.dot(h2)/h2_norm\n",
    "    h1_per_2 = np.sqrt(np.abs(h1.dot(h1) - h1_par_2**2))\n",
    "    return _raw_Z2_general(h1_per_2, h1_par_2, h2_norm, l)"
   ]
  },
  {
   "cell_type": "code",
   "execution_count": 79,
   "metadata": {},
   "outputs": [
    {
     "name": "stdout",
     "output_type": "stream",
     "text": [
      "782.8469849077993\n",
      "782.8469849077994\n"
     ]
    }
   ],
   "source": [
    "arg_h1 = np.asarray([0, 0, 2])\n",
    "arg_h2 = np.asarray([0, 0, 1])\n",
    "arg_l = 2\n",
    "\n",
    "print(raw_Z2_general(arg_h1, arg_h2, arg_l))\n",
    "print(raw_Z2_ns(2, 1, 2))"
   ]
  },
  {
   "cell_type": "code",
   "execution_count": 80,
   "metadata": {},
   "outputs": [],
   "source": [
    "def calc_diff(func, args):\n",
    "    if len(args) == 0:\n",
    "        return func\n",
    "    func = calc_diff(func, args[1:])\n",
    "    def diff(x0):\n",
    "        x1 = np.copy(x0)\n",
    "        x2 = np.copy(x0)\n",
    "        x1[args[0]] += 1e-4\n",
    "        x2[args[0]] -= 1e-4\n",
    "        return (func(x1)-func(x2))/(2*1e-4)\n",
    "    return diff"
   ]
  },
  {
   "cell_type": "code",
   "execution_count": 81,
   "metadata": {},
   "outputs": [
    {
     "name": "stdout",
     "output_type": "stream",
     "text": [
      "[-0.84147098]\n",
      "0.8414709848078965\n"
     ]
    }
   ],
   "source": [
    "print(calc_diff(lambda x: np.sin(x), [0, 0])([1.]))\n",
    "print(np.sin(1))"
   ]
  },
  {
   "cell_type": "code",
   "execution_count": 82,
   "metadata": {},
   "outputs": [],
   "source": [
    "def raw_psi(h, l, nk):\n",
    "    def func(args):\n",
    "        h, l, gamma1, gamma2  = args\n",
    "        h = np.asarray([0, 0, h])\n",
    "        h1 = h + gamma1*nk\n",
    "        h2 = h + gamma2*nk\n",
    "        return raw_Z2_general(h1, h2, l)\n",
    "    return (calc_diff(func, [1, 3, 3])([h, l, 0, 0]) - calc_diff(func, [2, 3])([h, l, 0, 0]))/raw_Z2(h, l)\n",
    "    # return (calc_diff(func, [3, 3])([h, l, 0, 0]))/raw_Z2(h, l)"
   ]
  },
  {
   "cell_type": "code",
   "execution_count": 83,
   "metadata": {},
   "outputs": [
    {
     "name": "stdout",
     "output_type": "stream",
     "text": [
      "-0.06225928895713271\n",
      "-0.06146556308531417\n"
     ]
    }
   ],
   "source": [
    "args = 1.4, 1.6\n",
    "vnk = np.asarray([0, 0, 1])\n",
    "\n",
    "print(raw_psi(*args, vnk))\n",
    "print((1-f_expr_eta(*args))*f_expr_m(*args)**3*(0.46134-1.3836))"
   ]
  },
  {
   "cell_type": "markdown",
   "metadata": {},
   "source": [
    "#### Символьные вычисления"
   ]
  },
  {
   "cell_type": "code",
   "execution_count": 84,
   "metadata": {},
   "outputs": [],
   "source": [
    "from sympy.vector import CoordSys3D, Del\n",
    "\n",
    "N = CoordSys3D(\"N\")\n",
    "delop = Del()\n",
    "\n",
    "vh1, vh2, vh3 = sp.symbols(\"h_1 h_2 h_3\")\n",
    "vh = vh1*N.i + vh2*N.j + vh3*N.k\n",
    "\n",
    "nk1, nk2, nk3 = sp.symbols(\"n_{1K} n_{2K} n_{3K}\")\n",
    "nk = nk1*N.i + nk2*N.j + nk3*N.k"
   ]
  },
  {
   "cell_type": "code",
   "execution_count": 85,
   "metadata": {},
   "outputs": [],
   "source": [
    "gamma1, gamma2 = sp.symbols(\"\\\\gamma_1 \\\\gamma_2\", positive=True)"
   ]
  },
  {
   "cell_type": "code",
   "execution_count": 86,
   "metadata": {},
   "outputs": [],
   "source": [
    "v1 = vh + gamma1*nk\n",
    "v2 = vh + gamma2*nk\n",
    "\n",
    "v1_par_2 = v1.dot(v2)/v2.magnitude()\n",
    "v1_per_2 = sp.sqrt(v1.dot(v1) - v1_par_2**2)\n",
    "v2_magnitude = v2.magnitude()"
   ]
  },
  {
   "cell_type": "code",
   "execution_count": 87,
   "metadata": {},
   "outputs": [],
   "source": [
    "def _diff_func(func, args): \n",
    "    if len(args) == 0:\n",
    "        return func\n",
    "\n",
    "    arg = args[0]\n",
    "    if isinstance(func, sp.Function):\n",
    "        func = func.fdiff(arg)\n",
    "        return _diff_func(func, args[1:])\n",
    "    if isinstance(func, sp.Subs):\n",
    "        return sp.Subs(_diff_func(func.args[0], args), *func.args[1:])\n",
    "    if isinstance(func, sp.Derivative):\n",
    "        return sp.Derivative(_diff_func(func.args[0], args), *func.args[1:])"
   ]
  },
  {
   "cell_type": "code",
   "execution_count": 88,
   "metadata": {},
   "outputs": [
    {
     "data": {
      "text/latex": [
       "$\\displaystyle - \\frac{\\left(2 h_{1}^{2} n_{1K}^{2} - h_{1}^{2} n_{2K}^{2} - h_{1}^{2} n_{3K}^{2} + 6 h_{1} h_{2} n_{1K} n_{2K} + 6 h_{1} h_{3} n_{1K} n_{3K} - h_{2}^{2} n_{1K}^{2} + 2 h_{2}^{2} n_{2K}^{2} - h_{2}^{2} n_{3K}^{2} + 6 h_{2} h_{3} n_{2K} n_{3K} - h_{3}^{2} n_{1K}^{2} - h_{3}^{2} n_{2K}^{2} + 2 h_{3}^{2} n_{3K}^{2}\\right) \\left(- 3 \\lambda^{2} \\left<\\eta\\right> {\\cal E}_{12}\\left(h, \\lambda\\right) + 6 \\lambda^{2} \\left<m\\right> h {\\cal E}_{}\\left(h, \\lambda\\right) - 6 \\lambda^{2} \\left<m\\right> h {\\cal E}_{12}\\left(h, \\lambda\\right) + 3 \\lambda^{2} {\\cal E}_{}\\left(h, \\lambda\\right) + 2 \\lambda \\left<m\\right> h^{3} {\\cal E}_{}\\left(h, \\lambda\\right) - 2 \\lambda \\left<m\\right> h^{3} {\\cal E}_{12}\\left(h, \\lambda\\right) - 6 \\lambda \\left<m\\right> h {\\cal E}_{12}\\left(h, \\lambda\\right) + 4 \\lambda h^{2} {\\cal E}_{}\\left(h, \\lambda\\right) - 3 \\lambda {\\cal E}_{12}\\left(h, \\lambda\\right) - \\left<\\eta\\right> h^{4} {\\cal E}_{12}\\left(h, \\lambda\\right) - 2 \\left<m\\right> h^{3} {\\cal E}_{12}\\left(h, \\lambda\\right) + h^{4} {\\cal E}_{}\\left(h, \\lambda\\right) - h^{2} {\\cal E}_{12}\\left(h, \\lambda\\right)\\right)}{8 \\lambda^{2} h^{4} {\\cal E}_{12}\\left(h, \\lambda\\right)}$"
      ],
      "text/plain": [
       "-(2*h_1**2*n_{1K}**2 - h_1**2*n_{2K}**2 - h_1**2*n_{3K}**2 + 6*h_1*h_2*n_{1K}*n_{2K} + 6*h_1*h_3*n_{1K}*n_{3K} - h_2**2*n_{1K}**2 + 2*h_2**2*n_{2K}**2 - h_2**2*n_{3K}**2 + 6*h_2*h_3*n_{2K}*n_{3K} - h_3**2*n_{1K}**2 - h_3**2*n_{2K}**2 + 2*h_3**2*n_{3K}**2)*(-3*\\lambda**2*\\left<\\eta\\right>*EFunction(h, \\lambda, 1, 1) + 6*\\lambda**2*\\left<m\\right>*h*EFunction(h, \\lambda, 0, 0) - 6*\\lambda**2*\\left<m\\right>*h*EFunction(h, \\lambda, 1, 1) + 3*\\lambda**2*EFunction(h, \\lambda, 0, 0) + 2*\\lambda*\\left<m\\right>*h**3*EFunction(h, \\lambda, 0, 0) - 2*\\lambda*\\left<m\\right>*h**3*EFunction(h, \\lambda, 1, 1) - 6*\\lambda*\\left<m\\right>*h*EFunction(h, \\lambda, 1, 1) + 4*\\lambda*h**2*EFunction(h, \\lambda, 0, 0) - 3*\\lambda*EFunction(h, \\lambda, 1, 1) - \\left<\\eta\\right>*h**4*EFunction(h, \\lambda, 1, 1) - 2*\\left<m\\right>*h**3*EFunction(h, \\lambda, 1, 1) + h**4*EFunction(h, \\lambda, 0, 0) - h**2*EFunction(h, \\lambda, 1, 1))/(8*\\lambda**2*h**4*EFunction(h, \\lambda, 1, 1))"
      ]
     },
     "execution_count": 88,
     "metadata": {},
     "output_type": "execute_result"
    }
   ],
   "source": [
    "Z = sp.Function(\"Z\")(v1_per_2, v1_par_2, v2_magnitude, l)\n",
    "\n",
    "def two_diff_func(func, arg1, arg2):\n",
    "    args = func.args\n",
    "    result = 0\n",
    "    for i, arg in enumerate(args):\n",
    "        result += arg.diff(arg1, arg2).subs({gamma2: 0}).factor()*_diff_func(func, [i+1])\n",
    "\n",
    "        factor = arg.diff(arg1).subs({gamma2: 0})\n",
    "        for j, j_arg in enumerate(args):\n",
    "            term = (factor*j_arg.diff(arg2)).subs({gamma2: 0}).factor()\n",
    "            result += term*_diff_func(func, [i+1, j+1])\n",
    "    return result\n",
    "\n",
    "expr_psi = (two_diff_func(Z, gamma1, gamma1).diff(l) - two_diff_func(Z, gamma1, gamma2)).subs({gamma1: 0, gamma2: 0})\n",
    "expr_psi = expr_psi.subs(vh.dot(vh), h**2).expand()\n",
    "\n",
    "def v_per_diff_eval(*args):\n",
    "    func = args[0]\n",
    "    diff_args = args[1:]\n",
    "    per_arg = func.args[0]\n",
    "    non_per_diff_args = tuple(filter(lambda item: item[0] != per_arg, diff_args))\n",
    "    per_diff_args = tuple(filter(lambda item: item[0] == per_arg, diff_args))\n",
    "\n",
    "    if len(per_diff_args) == 0:\n",
    "        return sp.Derivative(*args)\n",
    "    \n",
    "    _, n = per_diff_args[0]\n",
    "\n",
    "    if n == 2:\n",
    "        func = func - _diff_func(func, (2, 2))\n",
    "        func /= 2\n",
    "    elif n == 1:\n",
    "        return 0\n",
    "    else:\n",
    "        return sp.Derivative(*args)\n",
    "\n",
    "    if len(non_per_diff_args) > 0:\n",
    "        func = sp.Derivative(func, *non_per_diff_args)\n",
    "\n",
    "    return func\n",
    "\n",
    "expr_psi = expr_psi.replace(sp.Derivative, v_per_diff_eval).doit()\n",
    "\n",
    "expr_psi = expr_psi.replace(sp.Function(\"Z\"), lambda *args: Z2_ns.subs(dict(zip([h1, h2, l], args[1:])))).doit()\n",
    "expr_psi = (expr_psi/Z2_ns.subs({h1: h, h2: h})).expand()\n",
    "expr_psi = expr_psi.subs({E1: expr_E1, E2: expr_E2})\n",
    "expr_psi = expr_psi.replace(cF2Function(h, l), expr_cF2_1)\n",
    "expr_psi = expr_psi.factor()\n",
    "expr_psi"
   ]
  },
  {
   "cell_type": "code",
   "execution_count": 89,
   "metadata": {},
   "outputs": [
    {
     "name": "stdout",
     "output_type": "stream",
     "text": [
      "-0.015562017813131329\n",
      "-0.01560789008725465\n",
      "-0.059621316276716976\n"
     ]
    }
   ],
   "source": [
    "f_expr_psi = sp.lambdify((vh1, vh2, vh3, nk1, nk2, nk3, h, l, m, eta), expr_psi, module_dictionary)\n",
    " \n",
    "args = 1.4, 1.6\n",
    "vh_args =  np.asarray([0, 0, args[0]])\n",
    "nk_args = np.asarray([0, 1, 1.])\n",
    "nk_args /= np.linalg.norm(nk_args)\n",
    "args_moment = f_expr_m(*args), f_expr_eta(*args)\n",
    "\n",
    "print(f_expr_psi(*vh_args, *nk_args, *args, *args_moment))\n",
    "print(raw_psi(*args, nk_args))\n",
    "print((1-f_expr_eta(*args))*f_expr_m(*args)**3*(0.46134-1.3836*vh_args.dot(nk_args)**2))"
   ]
  },
  {
   "cell_type": "code",
   "execution_count": 90,
   "metadata": {},
   "outputs": [
    {
     "data": {
      "text/latex": [
       "$\\displaystyle \\frac{\\left(3 \\Upsilon \\lambda \\left<m\\right> + \\Upsilon \\left<m\\right> h^{2} - \\left<\\eta\\right> h\\right) \\left(2 h_{1}^{2} n_{1K}^{2} - h_{1}^{2} n_{2K}^{2} - h_{1}^{2} n_{3K}^{2} + 6 h_{1} h_{2} n_{1K} n_{2K} + 6 h_{1} h_{3} n_{1K} n_{3K} - h_{2}^{2} n_{1K}^{2} + 2 h_{2}^{2} n_{2K}^{2} - h_{2}^{2} n_{3K}^{2} + 6 h_{2} h_{3} n_{2K} n_{3K} - h_{3}^{2} n_{1K}^{2} - h_{3}^{2} n_{2K}^{2} + 2 h_{3}^{2} n_{3K}^{2}\\right)}{2 \\lambda h^{3}}$"
      ],
      "text/plain": [
       "(3*\\Upsilon*\\lambda*\\left<m\\right> + \\Upsilon*\\left<m\\right>*h**2 - \\left<\\eta\\right>*h)*(2*h_1**2*n_{1K}**2 - h_1**2*n_{2K}**2 - h_1**2*n_{3K}**2 + 6*h_1*h_2*n_{1K}*n_{2K} + 6*h_1*h_3*n_{1K}*n_{3K} - h_2**2*n_{1K}**2 + 2*h_2**2*n_{2K}**2 - h_2**2*n_{3K}**2 + 6*h_2*h_3*n_{2K}*n_{3K} - h_3**2*n_{1K}**2 - h_3**2*n_{2K}**2 + 2*h_3**2*n_{3K}**2)/(2*\\lambda*h**3)"
      ]
     },
     "execution_count": 90,
     "metadata": {},
     "output_type": "execute_result"
    }
   ],
   "source": [
    "dummy = sp.Dummy()\n",
    "_expr = expr_m_upsilon.subs(EFunction(h, l, 0, 0)/EFunction(h, l, 1, 1), dummy)\n",
    "expr_psi_upsilon = expr_psi.expand().subs(EFunction(h, l, 0, 0)/EFunction(h, l, 1, 1), dummy)\n",
    "\n",
    "expr_dummy = sp.solve(_expr.expand()/m-upsilon, dummy)[0]\n",
    "expr_psi_upsilon = expr_psi_upsilon.replace(dummy, expr_dummy).factor().expand()\n",
    "expr_psi_upsilon.factor()"
   ]
  },
  {
   "cell_type": "code",
   "execution_count": 91,
   "metadata": {},
   "outputs": [
    {
     "data": {
      "text/latex": [
       "$\\displaystyle \\frac{\\left(6 \\Upsilon \\left<m\\right> + h {\\left<\\eta^2\\right>} - h\\right) \\left(2 h_{1}^{2} n_{1K}^{2} - h_{1}^{2} n_{2K}^{2} - h_{1}^{2} n_{3K}^{2} + 6 h_{1} h_{2} n_{1K} n_{2K} + 6 h_{1} h_{3} n_{1K} n_{3K} - h_{2}^{2} n_{1K}^{2} + 2 h_{2}^{2} n_{2K}^{2} - h_{2}^{2} n_{3K}^{2} + 6 h_{2} h_{3} n_{2K} n_{3K} - h_{3}^{2} n_{1K}^{2} - h_{3}^{2} n_{2K}^{2} + 2 h_{3}^{2} n_{3K}^{2}\\right)}{4 h^{3}}$"
      ],
      "text/plain": [
       "(6*\\Upsilon*\\left<m\\right> + h*{\\left<\\eta^2\\right>} - h)*(2*h_1**2*n_{1K}**2 - h_1**2*n_{2K}**2 - h_1**2*n_{3K}**2 + 6*h_1*h_2*n_{1K}*n_{2K} + 6*h_1*h_3*n_{1K}*n_{3K} - h_2**2*n_{1K}**2 + 2*h_2**2*n_{2K}**2 - h_2**2*n_{3K}**2 + 6*h_2*h_3*n_{2K}*n_{3K} - h_3**2*n_{1K}**2 - h_3**2*n_{2K}**2 + 2*h_3**2*n_{3K}**2)/(4*h**3)"
      ]
     },
     "execution_count": 91,
     "metadata": {},
     "output_type": "execute_result"
    }
   ],
   "source": [
    "expr_psi_upsilon_Q0 = expr_psi_upsilon.replace(l, 2/(eta2-1)*(upsilon*m*h-eta)).factor()\n",
    "expr_psi_upsilon_Q0"
   ]
  },
  {
   "cell_type": "code",
   "execution_count": 92,
   "metadata": {},
   "outputs": [
    {
     "data": {
      "text/latex": [
       "$\\displaystyle 2 h_{1}^{2} n_{1K}^{2} - h_{1}^{2} n_{2K}^{2} - h_{1}^{2} n_{3K}^{2} + 6 h_{1} h_{2} n_{1K} n_{2K} + 6 h_{1} h_{3} n_{1K} n_{3K} - h_{2}^{2} n_{1K}^{2} + 2 h_{2}^{2} n_{2K}^{2} - h_{2}^{2} n_{3K}^{2} + 6 h_{2} h_{3} n_{2K} n_{3K} - h_{3}^{2} n_{1K}^{2} - h_{3}^{2} n_{2K}^{2} + 2 h_{3}^{2} n_{3K}^{2}$"
      ],
      "text/plain": [
       "2*h_1**2*n_{1K}**2 - h_1**2*n_{2K}**2 - h_1**2*n_{3K}**2 + 6*h_1*h_2*n_{1K}*n_{2K} + 6*h_1*h_3*n_{1K}*n_{3K} - h_2**2*n_{1K}**2 + 2*h_2**2*n_{2K}**2 - h_2**2*n_{3K}**2 + 6*h_2*h_3*n_{2K}*n_{3K} - h_3**2*n_{1K}**2 - h_3**2*n_{2K}**2 + 2*h_3**2*n_{3K}**2"
      ]
     },
     "execution_count": 92,
     "metadata": {},
     "output_type": "execute_result"
    }
   ],
   "source": [
    "expr_psi_nk = expr_psi_upsilon_Q0.args[-1]\n",
    "expr_psi_nk"
   ]
  },
  {
   "cell_type": "code",
   "execution_count": 93,
   "metadata": {},
   "outputs": [
    {
     "data": {
      "text/latex": [
       "$\\displaystyle 0$"
      ],
      "text/plain": [
       "0"
      ]
     },
     "execution_count": 93,
     "metadata": {},
     "output_type": "execute_result"
    }
   ],
   "source": [
    "expr = expr_psi_nk-(3*(vh.dot(nk)**2)-vh.dot(vh))\n",
    "expr = expr.expand()\n",
    "expr = expr.subs({nk1**2: 1-nk2**2-nk3**2})\n",
    "expr.expand()"
   ]
  },
  {
   "cell_type": "code",
   "execution_count": 94,
   "metadata": {},
   "outputs": [
    {
     "data": {
      "text/latex": [
       "$\\displaystyle \\frac{3 \\Upsilon \\left<m\\right>}{2 h} + \\frac{{\\left<\\eta^2\\right>}}{4} - \\frac{1}{4}$"
      ],
      "text/plain": [
       "3*\\Upsilon*\\left<m\\right>/(2*h) + {\\left<\\eta^2\\right>}/4 - 1/4"
      ]
     },
     "metadata": {},
     "output_type": "display_data"
    },
    {
     "name": "stdout",
     "output_type": "stream",
     "text": [
      "\\frac{3 \\Upsilon \\left<m\\right>}{2 h} + \\frac{{\\left<\\eta^2\\right>}}{4} - \\frac{1}{4}\n"
     ]
    }
   ],
   "source": [
    "expr = expr_psi_upsilon_Q0/expr_psi_nk*h**2\n",
    "expr = expr.expand()\n",
    "\n",
    "display(expr)\n",
    "sp.print_latex(expr)"
   ]
  }
 ],
 "metadata": {
  "kernelspec": {
   "display_name": "Python 3",
   "language": "python",
   "name": "python3"
  },
  "language_info": {
   "codemirror_mode": {
    "name": "ipython",
    "version": 3
   },
   "file_extension": ".py",
   "mimetype": "text/x-python",
   "name": "python",
   "nbconvert_exporter": "python",
   "pygments_lexer": "ipython3",
   "version": "3.11.2"
  }
 },
 "nbformat": 4,
 "nbformat_minor": 2
}
