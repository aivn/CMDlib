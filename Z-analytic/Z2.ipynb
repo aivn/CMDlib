{
 "cells": [
  {
   "cell_type": "code",
   "execution_count": 1,
   "metadata": {},
   "outputs": [],
   "source": [
    "import sys\n",
    "sys.path.append(\"python/\")\n",
    "\n",
    "import sympy as sp\n",
    "import numdifftools as nd\n",
    "import numpy as np\n",
    "import scipy.optimize as opt\n",
    "\n",
    "import datlib\n",
    "import symbase\n",
    "import Z2num\n",
    "import Z2sym"
   ]
  },
  {
   "cell_type": "markdown",
   "metadata": {},
   "source": [
    "# Ферромагнетик в симметричном случае"
   ]
  },
  {
   "cell_type": "markdown",
   "metadata": {},
   "source": [
    "## Выражение для $Z^{(2)}$"
   ]
  },
  {
   "cell_type": "markdown",
   "metadata": {},
   "source": [
    "### Интеграл"
   ]
  },
  {
   "cell_type": "code",
   "execution_count": 2,
   "metadata": {},
   "outputs": [],
   "source": [
    "h, l = Z2sym.h, Z2sym.l\n",
    "s1, s2 = symbase.SigmaSymbol(\"\\\\sigma_1\"), symbase.SigmaSymbol(\"\\\\sigma_2\")\n",
    "t, u = sp.symbols(\"t u\")"
   ]
  },
  {
   "cell_type": "code",
   "execution_count": 3,
   "metadata": {},
   "outputs": [
    {
     "data": {
      "text/latex": [
       "$\\displaystyle \\sqrt{2} \\sqrt{\\lambda} e^{- \\frac{\\lambda}{2}} \\int\\limits_{\\frac{\\sqrt{2} \\sigma_1 \\sqrt{\\lambda}}{2}}^{\\frac{\\sqrt{2} \\left(\\sigma_1 \\lambda + \\sigma_2 \\lambda + h\\right)}{2 \\sqrt{\\lambda}}} e^{t^{2}}\\, dt$"
      ],
      "text/plain": [
       "sqrt(2)*sqrt(\\lambda)*exp(-\\lambda/2)*Integral(exp(t**2), (t, sqrt(2)*\\sigma_1*sqrt(\\lambda)/2, sqrt(2)*(\\sigma_1*\\lambda + \\sigma_2*\\lambda + h)/(2*sqrt(\\lambda))))"
      ]
     },
     "metadata": {},
     "output_type": "display_data"
    },
    {
     "data": {
      "text/latex": [
       "$\\displaystyle \\sqrt{2} \\sqrt{\\lambda} e^{\\sigma_1 h} e^{\\sigma_2 h} e^{\\sigma_1 \\sigma_2 \\lambda}$"
      ],
      "text/plain": [
       "sqrt(2)*sqrt(\\lambda)*exp(\\sigma_1*h)*exp(\\sigma_2*h)*exp(\\sigma_1*\\sigma_2*\\lambda)"
      ]
     },
     "execution_count": 3,
     "metadata": {},
     "output_type": "execute_result"
    }
   ],
   "source": [
    "expr = sp.Integral(sp.exp(t**2/(2*l) + s1*t), (t, 0, h+s2*l))\n",
    "expr = expr.transform(t, (t-s1*l, t)).expand()\n",
    "expr = expr.transform(t, (t*sp.sqrt(2*l), t)).factor()\n",
    "display(expr)\n",
    "\n",
    "expr = expr.replace(sp.Integral, lambda *args: sp.exp(args[1][2]**2)).expand()\n",
    "expr = expr*sp.exp(-(h**2+l**2)/(2*l))\n",
    "expr.expand()"
   ]
  },
  {
   "cell_type": "markdown",
   "metadata": {},
   "source": [
    "### Производные $\\cal{F}^{(2)}$"
   ]
  },
  {
   "cell_type": "code",
   "execution_count": 4,
   "metadata": {},
   "outputs": [
    {
     "data": {
      "text/plain": [
       "{exp(\\sigma_1*h)*exp(\\sigma_2*h)*exp(\\sigma_1*\\sigma_2*\\lambda)*F2(sqrt(2)*\\sigma_1*sqrt(\\lambda)/2 + sqrt(2)*\\sigma_2*sqrt(\\lambda)/2 + sqrt(2)*h/(2*sqrt(\\lambda))): {(1,\n",
       "   1): (-2*\\lambda**2 + h**2)/(2*\\lambda**2)},\n",
       " exp(\\sigma_1*h)*exp(\\sigma_2*h)*exp(\\sigma_1*\\sigma_2*\\lambda): {(0,\n",
       "   1): sqrt(2)/(4*sqrt(\\lambda)),\n",
       "  (1, 0): sqrt(2)/(4*sqrt(\\lambda)),\n",
       "  (1, 1): -sqrt(2)*h/(4*\\lambda**(3/2))}}"
      ]
     },
     "execution_count": 4,
     "metadata": {},
     "output_type": "execute_result"
    }
   ],
   "source": [
    "expr = s1*s2*Z2sym._sigmas_expr_E_symmetrical*Z2sym._sigmas_expr_cF2_symmetrical\n",
    "expr = expr.diff(l).expand()\n",
    "symbase.collect_sigmas(expr, Z2sym._sigmas_terms_symmetrical, [s1, s2])"
   ]
  },
  {
   "cell_type": "code",
   "execution_count": 5,
   "metadata": {},
   "outputs": [
    {
     "data": {
      "text/latex": [
       "$\\displaystyle 2 e^{\\lambda} e^{2 h} - 2 e^{\\lambda} e^{- 2 h}$"
      ],
      "text/plain": [
       "2*exp(\\lambda)*exp(2*h) - 2*exp(\\lambda)*exp(-2*h)"
      ]
     },
     "metadata": {},
     "output_type": "display_data"
    },
    {
     "data": {
      "text/latex": [
       "$\\displaystyle 2 e^{\\lambda} e^{2 h} - 2 e^{\\lambda} e^{- 2 h}$"
      ],
      "text/plain": [
       "2*exp(\\lambda)*exp(2*h) - 2*exp(\\lambda)*exp(-2*h)"
      ]
     },
     "metadata": {},
     "output_type": "display_data"
    }
   ],
   "source": [
    "display(Z2sym.E_symmetrical(h, l, 1, 1).diff(h).rewrite(sp.exp))\n",
    "display(Z2sym.E_symmetrical(h, l, 1, 1).rewrite(sp.exp).diff(h))"
   ]
  },
  {
   "cell_type": "code",
   "execution_count": 6,
   "metadata": {},
   "outputs": [
    {
     "data": {
      "text/latex": [
       "$\\displaystyle - e^{\\lambda} e^{2 h} F^{(2)}\\left(\\sqrt{2} \\sqrt{\\lambda} + \\frac{\\sqrt{2} h}{2 \\sqrt{\\lambda}}\\right) + e^{\\lambda} e^{- 2 h} F^{(2)}\\left(\\sqrt{2} \\sqrt{\\lambda} - \\frac{\\sqrt{2} h}{2 \\sqrt{\\lambda}}\\right) + 2 e^{- \\lambda} F^{(2)}\\left(\\frac{\\sqrt{2} h}{2 \\sqrt{\\lambda}}\\right) + \\frac{h^{2} e^{\\lambda} e^{2 h} F^{(2)}\\left(\\sqrt{2} \\sqrt{\\lambda} + \\frac{\\sqrt{2} h}{2 \\sqrt{\\lambda}}\\right)}{2 \\lambda^{2}} - \\frac{h^{2} e^{\\lambda} e^{- 2 h} F^{(2)}\\left(\\sqrt{2} \\sqrt{\\lambda} - \\frac{\\sqrt{2} h}{2 \\sqrt{\\lambda}}\\right)}{2 \\lambda^{2}} - \\frac{h^{2} e^{- \\lambda} F^{(2)}\\left(\\frac{\\sqrt{2} h}{2 \\sqrt{\\lambda}}\\right)}{\\lambda^{2}} + \\frac{\\sqrt{2} e^{\\lambda} e^{2 h}}{2 \\sqrt{\\lambda}} - \\frac{\\sqrt{2} e^{\\lambda} e^{- 2 h}}{2 \\sqrt{\\lambda}} - \\frac{\\sqrt{2} h e^{\\lambda} e^{2 h}}{4 \\lambda^{\\frac{3}{2}}} - \\frac{\\sqrt{2} h e^{\\lambda} e^{- 2 h}}{4 \\lambda^{\\frac{3}{2}}} + \\frac{\\sqrt{2} h e^{- \\lambda}}{2 \\lambda^{\\frac{3}{2}}}$"
      ],
      "text/plain": [
       "-exp(\\lambda)*exp(2*h)*F2(sqrt(2)*sqrt(\\lambda) + sqrt(2)*h/(2*sqrt(\\lambda))) + exp(\\lambda)*exp(-2*h)*F2(sqrt(2)*sqrt(\\lambda) - sqrt(2)*h/(2*sqrt(\\lambda))) + 2*exp(-\\lambda)*F2(sqrt(2)*h/(2*sqrt(\\lambda))) + h**2*exp(\\lambda)*exp(2*h)*F2(sqrt(2)*sqrt(\\lambda) + sqrt(2)*h/(2*sqrt(\\lambda)))/(2*\\lambda**2) - h**2*exp(\\lambda)*exp(-2*h)*F2(sqrt(2)*sqrt(\\lambda) - sqrt(2)*h/(2*sqrt(\\lambda)))/(2*\\lambda**2) - h**2*exp(-\\lambda)*F2(sqrt(2)*h/(2*sqrt(\\lambda)))/\\lambda**2 + sqrt(2)*exp(\\lambda)*exp(2*h)/(2*sqrt(\\lambda)) - sqrt(2)*exp(\\lambda)*exp(-2*h)/(2*sqrt(\\lambda)) - sqrt(2)*h*exp(\\lambda)*exp(2*h)/(4*\\lambda**(3/2)) - sqrt(2)*h*exp(\\lambda)*exp(-2*h)/(4*\\lambda**(3/2)) + sqrt(2)*h*exp(-\\lambda)/(2*\\lambda**(3/2))"
      ]
     },
     "metadata": {},
     "output_type": "display_data"
    },
    {
     "data": {
      "text/latex": [
       "$\\displaystyle - e^{\\lambda} e^{2 h} F^{(2)}\\left(\\sqrt{2} \\sqrt{\\lambda} + \\frac{\\sqrt{2} h}{2 \\sqrt{\\lambda}}\\right) + e^{\\lambda} e^{- 2 h} F^{(2)}\\left(\\sqrt{2} \\sqrt{\\lambda} - \\frac{\\sqrt{2} h}{2 \\sqrt{\\lambda}}\\right) + 2 e^{- \\lambda} F^{(2)}\\left(\\frac{\\sqrt{2} h}{2 \\sqrt{\\lambda}}\\right) + \\frac{h^{2} e^{\\lambda} e^{2 h} F^{(2)}\\left(\\sqrt{2} \\sqrt{\\lambda} + \\frac{\\sqrt{2} h}{2 \\sqrt{\\lambda}}\\right)}{2 \\lambda^{2}} - \\frac{h^{2} e^{\\lambda} e^{- 2 h} F^{(2)}\\left(\\sqrt{2} \\sqrt{\\lambda} - \\frac{\\sqrt{2} h}{2 \\sqrt{\\lambda}}\\right)}{2 \\lambda^{2}} - \\frac{h^{2} e^{- \\lambda} F^{(2)}\\left(\\frac{\\sqrt{2} h}{2 \\sqrt{\\lambda}}\\right)}{\\lambda^{2}} + \\frac{\\sqrt{2} e^{\\lambda} e^{2 h}}{2 \\sqrt{\\lambda}} - \\frac{\\sqrt{2} e^{\\lambda} e^{- 2 h}}{2 \\sqrt{\\lambda}} - \\frac{\\sqrt{2} h e^{\\lambda} e^{2 h}}{4 \\lambda^{\\frac{3}{2}}} - \\frac{\\sqrt{2} h e^{\\lambda} e^{- 2 h}}{4 \\lambda^{\\frac{3}{2}}} + \\frac{\\sqrt{2} h e^{- \\lambda}}{2 \\lambda^{\\frac{3}{2}}}$"
      ],
      "text/plain": [
       "-exp(\\lambda)*exp(2*h)*F2(sqrt(2)*sqrt(\\lambda) + sqrt(2)*h/(2*sqrt(\\lambda))) + exp(\\lambda)*exp(-2*h)*F2(sqrt(2)*sqrt(\\lambda) - sqrt(2)*h/(2*sqrt(\\lambda))) + 2*exp(-\\lambda)*F2(sqrt(2)*h/(2*sqrt(\\lambda))) + h**2*exp(\\lambda)*exp(2*h)*F2(sqrt(2)*sqrt(\\lambda) + sqrt(2)*h/(2*sqrt(\\lambda)))/(2*\\lambda**2) - h**2*exp(\\lambda)*exp(-2*h)*F2(sqrt(2)*sqrt(\\lambda) - sqrt(2)*h/(2*sqrt(\\lambda)))/(2*\\lambda**2) - h**2*exp(-\\lambda)*F2(sqrt(2)*h/(2*sqrt(\\lambda)))/\\lambda**2 + sqrt(2)*exp(\\lambda)*exp(2*h)/(2*sqrt(\\lambda)) - sqrt(2)*exp(\\lambda)*exp(-2*h)/(2*sqrt(\\lambda)) - sqrt(2)*h*exp(\\lambda)*exp(2*h)/(4*\\lambda**(3/2)) - sqrt(2)*h*exp(\\lambda)*exp(-2*h)/(4*\\lambda**(3/2)) + sqrt(2)*h*exp(-\\lambda)/(2*\\lambda**(3/2))"
      ]
     },
     "metadata": {},
     "output_type": "display_data"
    }
   ],
   "source": [
    "display(Z2sym.cF2_symmetrical(h, l).diff(l).rewrite(sp.exp).expand())\n",
    "display(Z2sym.cF2_symmetrical(h, l).rewrite(sp.exp).diff(l).expand())"
   ]
  },
  {
   "cell_type": "markdown",
   "metadata": {},
   "source": [
    "### Численная проверка"
   ]
  },
  {
   "cell_type": "code",
   "execution_count": 7,
   "metadata": {},
   "outputs": [
    {
     "name": "stdout",
     "output_type": "stream",
     "text": [
      "11.129141015312976\n",
      "11.129142009015116\n"
     ]
    }
   ],
   "source": [
    "h, l = 1, 1.4\n",
    "print(Z2num.calc_Z2_integrate(0, h, h, l)*np.exp(-2*h-l))\n",
    "print(Z2num.calc_from_coeffs_symmetrical(h, l).Z2_norm)"
   ]
  },
  {
   "cell_type": "code",
   "execution_count": 8,
   "metadata": {},
   "outputs": [
    {
     "name": "stdout",
     "output_type": "stream",
     "text": [
      "18.342584883167927\n",
      "18.3425941684832\n",
      "\n",
      "8.179230830337767\n",
      "8.179237578451808\n"
     ]
    }
   ],
   "source": [
    "h, l = Z2sym.h, Z2sym.l\n",
    "cF2_diff_h = sp.lambdify((h, l), Z2sym.cF2_symmetrical(h, l).diff(h), Z2sym.num_module)\n",
    "cF2_diff_l = sp.lambdify((h, l), Z2sym.cF2_symmetrical(h, l).diff(l), Z2sym.num_module)\n",
    "\n",
    "args = 1, 1.8\n",
    "gradient = nd.Gradient(lambda args: Z2num.cF2_symmetrical(*args))(args)\n",
    "print(gradient[0])\n",
    "print(cF2_diff_h(*args))\n",
    "print()\n",
    "print(gradient[1])\n",
    "print(cF2_diff_l(*args))"
   ]
  },
  {
   "cell_type": "code",
   "execution_count": 9,
   "metadata": {},
   "outputs": [
    {
     "name": "stdout",
     "output_type": "stream",
     "text": [
      "87.76490748044182\n",
      "87.76490748044566\n",
      "\n",
      "45.850513022822085\n",
      "45.85051302282197\n"
     ]
    }
   ],
   "source": [
    "h, l = Z2sym.h, Z2sym.l\n",
    "sigmas_args = 1, 1\n",
    "E_diff_h = sp.lambdify((h, l), Z2sym.E_symmetrical(h, l, *sigmas_args).diff(h), Z2sym.num_module)\n",
    "E_diff_l = sp.lambdify((h, l), Z2sym.E_symmetrical(h, l, *sigmas_args).diff(l), Z2sym.num_module)\n",
    "\n",
    "args = 1, 1.8\n",
    "sigmas_args = list(map(bool, sigmas_args))\n",
    "\n",
    "gradient = nd.Gradient(lambda args: Z2num.E_symmetrical(*args, *sigmas_args))(args)\n",
    "\n",
    "print(gradient[0])\n",
    "print(E_diff_h(*args))\n",
    "print()\n",
    "print(gradient[1])\n",
    "print(E_diff_l(*args))"
   ]
  },
  {
   "cell_type": "markdown",
   "metadata": {},
   "source": [
    "## Моменты"
   ]
  },
  {
   "cell_type": "markdown",
   "metadata": {},
   "source": [
    "### Символьные вычисления"
   ]
  },
  {
   "cell_type": "code",
   "execution_count": 10,
   "metadata": {},
   "outputs": [],
   "source": [
    "h, l = Z2sym.h, Z2sym.l\n",
    "Z2_symmetrical = sp.sqrt(2)*(2*sp.pi)**2*Z2sym.cF2_symmetrical(h, l)/(h*sp.sqrt(l))"
   ]
  },
  {
   "cell_type": "code",
   "execution_count": 11,
   "metadata": {},
   "outputs": [
    {
     "data": {
      "text/latex": [
       "$\\displaystyle \\frac{4 \\sqrt{2} \\pi^{2} {\\cal F}^{(2)}\\left(h, \\lambda\\right)}{\\sqrt{\\lambda} h}$"
      ],
      "text/plain": [
       "4*sqrt(2)*pi**2*cF2_symmetrical(h, \\lambda)/(sqrt(\\lambda)*h)"
      ]
     },
     "execution_count": 11,
     "metadata": {},
     "output_type": "execute_result"
    }
   ],
   "source": [
    "m, eta = Z2sym.m, Z2sym.eta\n",
    "Z2 = Z2_symmetrical\n",
    "Z2"
   ]
  },
  {
   "cell_type": "code",
   "execution_count": 12,
   "metadata": {},
   "outputs": [
    {
     "data": {
      "text/latex": [
       "$\\displaystyle \\left<m\\right> = - \\frac{1}{2 h} - \\frac{h}{2 \\lambda} + \\frac{\\sqrt{2} {\\cal E}_{12}\\left(h, \\lambda\\right)}{4 \\sqrt{\\lambda} {\\cal F}^{(2)}\\left(h, \\lambda\\right)}$"
      ],
      "text/plain": [
       "Eq(\\left<m\\right>, -1/(2*h) - h/(2*\\lambda) + sqrt(2)*E_symmetrical(h, \\lambda, 1, 1)/(4*sqrt(\\lambda)*cF2_symmetrical(h, \\lambda)))"
      ]
     },
     "metadata": {},
     "output_type": "display_data"
    },
    {
     "name": "stdout",
     "output_type": "stream",
     "text": [
      "\\left<m\\right> = - \\frac{1}{2 h} - \\frac{h}{2 \\lambda} + \\frac{\\sqrt{2} {\\cal E}_{12}\\left(h, \\lambda\\right)}{4 \\sqrt{\\lambda} {\\cal F}^{(2)}\\left(h, \\lambda\\right)}\n"
     ]
    }
   ],
   "source": [
    "expr_m = sp.log(Z2).diff(h)/2\n",
    "expr_m = expr_m.expand()\n",
    "display(sp.Eq(m, expr_m))\n",
    "sp.print_latex(sp.Eq(m, expr_m))"
   ]
  },
  {
   "cell_type": "code",
   "execution_count": 13,
   "metadata": {},
   "outputs": [
    {
     "data": {
      "text/latex": [
       "$\\displaystyle \\left<\\eta\\right> = -1 - \\frac{1}{2 \\lambda} + \\frac{h^{2}}{2 \\lambda^{2}} + \\frac{\\sqrt{2} {\\cal E}_{1}\\left(h, \\lambda\\right)}{2 \\sqrt{\\lambda} {\\cal F}^{(2)}\\left(h, \\lambda\\right)} - \\frac{\\sqrt{2} h {\\cal E}_{12}\\left(h, \\lambda\\right)}{4 \\lambda^{\\frac{3}{2}} {\\cal F}^{(2)}\\left(h, \\lambda\\right)}$"
      ],
      "text/plain": [
       "Eq(\\left<\\eta\\right>, -1 - 1/(2*\\lambda) + h**2/(2*\\lambda**2) + sqrt(2)*E_symmetrical(h, \\lambda, 1, 0)/(2*sqrt(\\lambda)*cF2_symmetrical(h, \\lambda)) - sqrt(2)*h*E_symmetrical(h, \\lambda, 1, 1)/(4*\\lambda**(3/2)*cF2_symmetrical(h, \\lambda)))"
      ]
     },
     "metadata": {},
     "output_type": "display_data"
    },
    {
     "name": "stdout",
     "output_type": "stream",
     "text": [
      "\\left<\\eta\\right> = -1 - \\frac{1}{2 \\lambda} + \\frac{h^{2}}{2 \\lambda^{2}} + \\frac{\\sqrt{2} {\\cal E}_{1}\\left(h, \\lambda\\right)}{2 \\sqrt{\\lambda} {\\cal F}^{(2)}\\left(h, \\lambda\\right)} - \\frac{\\sqrt{2} h {\\cal E}_{12}\\left(h, \\lambda\\right)}{4 \\lambda^{\\frac{3}{2}} {\\cal F}^{(2)}\\left(h, \\lambda\\right)}\n"
     ]
    }
   ],
   "source": [
    "expr_eta = sp.log(Z2).diff(l)\n",
    "expr_eta = expr_eta.expand()\n",
    "display(sp.Eq(eta, expr_eta))\n",
    "sp.print_latex(sp.Eq(eta, expr_eta))"
   ]
  },
  {
   "cell_type": "code",
   "execution_count": 14,
   "metadata": {},
   "outputs": [
    {
     "data": {
      "text/latex": [
       "$\\displaystyle {\\cal F}^{(2)}\\left(h, \\lambda\\right) = \\frac{\\sqrt{2} \\sqrt{\\lambda} h {\\cal E}_{12}\\left(h, \\lambda\\right)}{2 \\left(2 \\lambda \\left<m\\right> h + \\lambda + h^{2}\\right)}$"
      ],
      "text/plain": [
       "Eq(cF2_symmetrical(h, \\lambda), sqrt(2)*sqrt(\\lambda)*h*E_symmetrical(h, \\lambda, 1, 1)/(2*(2*\\lambda*\\left<m\\right>*h + \\lambda + h**2)))"
      ]
     },
     "metadata": {},
     "output_type": "display_data"
    },
    {
     "name": "stdout",
     "output_type": "stream",
     "text": [
      "{\\cal F}^{(2)}\\left(h, \\lambda\\right) = \\frac{\\sqrt{2} \\sqrt{\\lambda} h {\\cal E}_{12}\\left(h, \\lambda\\right)}{2 \\left(2 \\lambda \\left<m\\right> h + \\lambda + h^{2}\\right)}\n"
     ]
    },
    {
     "data": {
      "text/latex": [
       "$\\displaystyle {\\cal F}^{(2)}\\left(h, \\lambda\\right) = \\frac{\\sqrt{2} \\sqrt{\\lambda} {\\cal E}_{1}\\left(h, \\lambda\\right)}{2 \\left(\\lambda \\left<\\eta\\right> + \\lambda + \\left<m\\right> h + 1\\right)}$"
      ],
      "text/plain": [
       "Eq(cF2_symmetrical(h, \\lambda), sqrt(2)*sqrt(\\lambda)*E_symmetrical(h, \\lambda, 1, 0)/(2*(\\lambda*\\left<\\eta\\right> + \\lambda + \\left<m\\right>*h + 1)))"
      ]
     },
     "metadata": {},
     "output_type": "display_data"
    },
    {
     "name": "stdout",
     "output_type": "stream",
     "text": [
      "{\\cal F}^{(2)}\\left(h, \\lambda\\right) = \\frac{\\sqrt{2} \\sqrt{\\lambda} {\\cal E}_{1}\\left(h, \\lambda\\right)}{2 \\left(\\lambda \\left<\\eta\\right> + \\lambda + \\left<m\\right> h + 1\\right)}\n"
     ]
    }
   ],
   "source": [
    "_E12, _E1 = Z2sym.E_symmetrical(h, l, 1, 1), Z2sym.E_symmetrical(h, l, 1, 0)\n",
    "_E12_E1 = sp.solve([m-expr_m, eta-expr_eta], _E12, _E1)\n",
    "_expr_E12 = _E12_E1[_E12].factor()\n",
    "_expr_E1 = _E12_E1[_E1].factor()\n",
    "\n",
    "_expr_cF2_1 = sp.solve(_E12-_expr_E12, Z2sym.cF2_symmetrical(h, l))[0]\n",
    "_expr_cF2_2 = sp.solve(_E1-_expr_E1, Z2sym.cF2_symmetrical(h, l))[0]\n",
    "\n",
    "display(sp.Eq(Z2sym.cF2_symmetrical(h, l), _expr_cF2_1))\n",
    "sp.print_latex(sp.Eq(Z2sym.cF2_symmetrical(h, l), _expr_cF2_1))\n",
    "display(sp.Eq(Z2sym.cF2_symmetrical(h, l), _expr_cF2_2))\n",
    "sp.print_latex(sp.Eq(Z2sym.cF2_symmetrical(h, l), _expr_cF2_2))\n"
   ]
  },
  {
   "cell_type": "code",
   "execution_count": 15,
   "metadata": {},
   "outputs": [],
   "source": [
    "subs_to_m_and_eta_symmetrical = {\n",
    "    Z2sym.E_symmetrical(h, l, 1, 1): _expr_E12,\n",
    "    Z2sym.E_symmetrical(h, l, 1, 0): _expr_E1,\n",
    "    Z2sym.cF2_symmetrical(h, l): _expr_cF2_1\n",
    "}\n",
    "subs_to_m_and_eta = subs_to_m_and_eta_symmetrical"
   ]
  },
  {
   "cell_type": "code",
   "execution_count": 16,
   "metadata": {},
   "outputs": [
    {
     "data": {
      "text/latex": [
       "$\\displaystyle \\frac{\\left<\\eta\\right> \\left(- 3 \\lambda + h^{2}\\right)}{2 \\lambda^{2}} + \\frac{\\left<m\\right> h \\left(\\lambda + 1\\right)}{\\lambda^{2}} + \\frac{2 \\lambda^{2} + 1}{2 \\lambda^{2}} - \\frac{\\left(2 \\lambda \\left<m\\right> h + \\lambda + h^{2}\\right) {\\cal E}_{}\\left(h, \\lambda\\right)}{2 \\lambda^{2} {\\cal E}_{12}\\left(h, \\lambda\\right)}$"
      ],
      "text/plain": [
       "\\left<\\eta\\right>*(-3*\\lambda + h**2)/(2*\\lambda**2) + \\left<m\\right>*h*(\\lambda + 1)/\\lambda**2 + (2*\\lambda**2 + 1)/(2*\\lambda**2) - (2*\\lambda*\\left<m\\right>*h + \\lambda + h**2)*E_symmetrical(h, \\lambda, 0, 0)/(2*\\lambda**2*E_symmetrical(h, \\lambda, 1, 1))"
      ]
     },
     "metadata": {},
     "output_type": "display_data"
    },
    {
     "name": "stdout",
     "output_type": "stream",
     "text": [
      "\\frac{\\left<\\eta\\right> \\left(- 3 \\lambda + h^{2}\\right)}{2 \\lambda^{2}} + \\frac{\\left<m\\right> h \\left(\\lambda + 1\\right)}{\\lambda^{2}} + \\frac{2 \\lambda^{2} + 1}{2 \\lambda^{2}} - \\frac{\\left(2 \\lambda \\left<m\\right> h + \\lambda + h^{2}\\right) {\\cal E}_{}\\left(h, \\lambda\\right)}{2 \\lambda^{2} {\\cal E}_{12}\\left(h, \\lambda\\right)}\n"
     ]
    }
   ],
   "source": [
    "expr_eta2 = Z2.diff(l, 2)/Z2\n",
    "expr_eta2 = expr_eta2.expand()\n",
    "\n",
    "expr = expr_eta2.subs(subs_to_m_and_eta).expand()\n",
    "expr = expr.collect([Z2sym.E_symmetrical(h, l, 0, 0)/Z2sym.E_symmetrical(h, l, 1, 1), m, eta], sp.factor)\n",
    "display(expr)\n",
    "sp.print_latex(expr)"
   ]
  },
  {
   "cell_type": "code",
   "execution_count": 17,
   "metadata": {},
   "outputs": [
    {
     "data": {
      "text/latex": [
       "$\\displaystyle - \\frac{\\left<\\eta\\right> \\left(\\lambda + h^{2}\\right)}{2 \\lambda h} - \\frac{\\left<m\\right>}{\\lambda} + \\frac{\\left(2 \\lambda \\left<m\\right> h + \\lambda + h^{2}\\right) {\\cal E}_{}\\left(h, \\lambda\\right)}{2 \\lambda h {\\cal E}_{12}\\left(h, \\lambda\\right)} - \\frac{1}{2 \\lambda h}$"
      ],
      "text/plain": [
       "-\\left<\\eta\\right>*(\\lambda + h**2)/(2*\\lambda*h) - \\left<m\\right>/\\lambda + (2*\\lambda*\\left<m\\right>*h + \\lambda + h**2)*E_symmetrical(h, \\lambda, 0, 0)/(2*\\lambda*h*E_symmetrical(h, \\lambda, 1, 1)) - 1/(2*\\lambda*h)"
      ]
     },
     "metadata": {},
     "output_type": "display_data"
    },
    {
     "name": "stdout",
     "output_type": "stream",
     "text": [
      "- \\frac{\\left<\\eta\\right> \\left(\\lambda + h^{2}\\right)}{2 \\lambda h} - \\frac{\\left<m\\right>}{\\lambda} + \\frac{\\left(2 \\lambda \\left<m\\right> h + \\lambda + h^{2}\\right) {\\cal E}_{}\\left(h, \\lambda\\right)}{2 \\lambda h {\\cal E}_{12}\\left(h, \\lambda\\right)} - \\frac{1}{2 \\lambda h}\n"
     ]
    }
   ],
   "source": [
    "expr_m_eta = Z2.diff(h, l)/(2*Z2)\n",
    "expr_m_eta = expr_m_eta.expand()\n",
    "\n",
    "expr = expr_m_eta.subs(subs_to_m_and_eta).expand()\n",
    "expr = expr.collect([Z2sym.E_symmetrical(h, l, 0, 0)/Z2sym.E_symmetrical(h, l, 1, 1), m, eta], sp.factor)\n",
    "display(expr)\n",
    "sp.print_latex(expr)"
   ]
  },
  {
   "cell_type": "code",
   "execution_count": 18,
   "metadata": {},
   "outputs": [],
   "source": [
    "_E = Z2sym.E_symmetrical(h, l, 0, 0)/Z2sym.E_symmetrical(h, l, 1, 1)\n",
    "subs_to_m_eta_symmetrical = {\n",
    "    _E: sp.solve(expr_m_eta.subs(subs_to_m_and_eta)-Z2sym.m_eta, _E)[0]\n",
    "}\n",
    "subs_to_m_eta = subs_to_m_eta_symmetrical"
   ]
  },
  {
   "cell_type": "code",
   "execution_count": 19,
   "metadata": {},
   "outputs": [],
   "source": [
    "subs_to_upsilon = {Z2sym.m_eta: m*(1-2*Z2sym.upsilon)}"
   ]
  },
  {
   "cell_type": "code",
   "execution_count": 20,
   "metadata": {},
   "outputs": [
    {
     "data": {
      "text/latex": [
       "$\\displaystyle \\frac{\\lambda \\left({\\left<\\eta^2\\right>} - 1\\right)}{2} = \\Upsilon \\left<m\\right> h - \\left<\\eta\\right>$"
      ],
      "text/plain": [
       "Eq(\\lambda*({\\left<\\eta^2\\right>} - 1)/2, \\Upsilon*\\left<m\\right>*h - \\left<\\eta\\right>)"
      ]
     },
     "metadata": {},
     "output_type": "display_data"
    },
    {
     "name": "stdout",
     "output_type": "stream",
     "text": [
      "\\frac{\\lambda \\left({\\left<\\eta^2\\right>} - 1\\right)}{2} = \\Upsilon \\left<m\\right> h - \\left<\\eta\\right>\n"
     ]
    }
   ],
   "source": [
    "expr = expr_eta2.subs(subs_to_m_and_eta).subs(subs_to_m_eta).expand()\n",
    "subs_to_eta2 = {l: sp.solve(expr-Z2sym.eta2, l)[0]}\n",
    "expr = sp.Eq(l/2*(Z2sym.eta2-1), sp.expand(l/2*(expr.subs(subs_to_upsilon)-1)))\n",
    "\n",
    "display(expr)\n",
    "sp.print_latex(expr)"
   ]
  },
  {
   "cell_type": "code",
   "execution_count": 21,
   "metadata": {},
   "outputs": [
    {
     "data": {
      "text/latex": [
       "$\\displaystyle \\frac{d}{d h} \\left<m\\right> = \\left<\\eta\\right> - 2 \\left<m\\right>^{2} - \\frac{2 \\left<m\\right>}{h} + 1$"
      ],
      "text/plain": [
       "Eq(Derivative(\\left<m\\right>, h), \\left<\\eta\\right> - 2*\\left<m\\right>**2 - 2*\\left<m\\right>/h + 1)"
      ]
     },
     "metadata": {},
     "output_type": "display_data"
    },
    {
     "data": {
      "text/latex": [
       "$\\displaystyle \\frac{d}{d \\lambda} \\left<m\\right> = - \\left<\\eta\\right> \\left<m\\right> + {\\left<m\\eta\\right>}$"
      ],
      "text/plain": [
       "Eq(Derivative(\\left<m\\right>, \\lambda), -\\left<\\eta\\right>*\\left<m\\right> + {\\left<m\\eta\\right>})"
      ]
     },
     "metadata": {},
     "output_type": "display_data"
    },
    {
     "data": {
      "text/latex": [
       "$\\displaystyle \\frac{d}{d h} \\left<\\eta\\right> = - 2 \\left<\\eta\\right> \\left<m\\right> + 2 {\\left<m\\eta\\right>}$"
      ],
      "text/plain": [
       "Eq(Derivative(\\left<\\eta\\right>, h), -2*\\left<\\eta\\right>*\\left<m\\right> + 2*{\\left<m\\eta\\right>})"
      ]
     },
     "metadata": {},
     "output_type": "display_data"
    },
    {
     "data": {
      "text/latex": [
       "$\\displaystyle \\frac{d}{d \\lambda} \\left<\\eta\\right> = - \\left<\\eta\\right>^{2} + {\\left<\\eta^2\\right>}$"
      ],
      "text/plain": [
       "Eq(Derivative(\\left<\\eta\\right>, \\lambda), -\\left<\\eta\\right>**2 + {\\left<\\eta^2\\right>})"
      ]
     },
     "metadata": {},
     "output_type": "display_data"
    }
   ],
   "source": [
    "for moment, expr_moment in zip([m, eta], [expr_m, expr_eta]):\n",
    "    for arg in [h, l]:\n",
    "        expr = expr_moment.diff(arg).expand().subs(subs_to_m_and_eta).expand()\n",
    "        expr = expr.subs(subs_to_m_eta).factor().expand()\n",
    "        expr = expr.subs(subs_to_eta2).factor().expand()\n",
    "        display(sp.Eq(sp.Derivative(moment, arg), expr))"
   ]
  },
  {
   "cell_type": "markdown",
   "metadata": {},
   "source": [
    "### Численная проверка"
   ]
  },
  {
   "cell_type": "code",
   "execution_count": 22,
   "metadata": {},
   "outputs": [],
   "source": [
    "def calc_Z2_symmetrical_integrate(args):\n",
    "    h, l = args\n",
    "    return Z2num.calc_Z2_integrate(0, h, h, l)"
   ]
  },
  {
   "cell_type": "code",
   "execution_count": 23,
   "metadata": {},
   "outputs": [
    {
     "name": "stdout",
     "output_type": "stream",
     "text": [
      "0.8371722011551646\n",
      "0.8371718561570379\n",
      "0.8371718561570379\n",
      "\n",
      "0.8546061112004999\n",
      "0.8546056972028968\n",
      "0.8546056972028968\n"
     ]
    }
   ],
   "source": [
    "f_expr_m = sp.lambdify((h, l), expr_m, Z2sym.num_module_norm)\n",
    "f_expr_eta = sp.lambdify((h, l), expr_eta, Z2sym.num_module_norm)\n",
    "\n",
    "args = 4, 5\n",
    "moments = nd.Gradient(calc_Z2_symmetrical_integrate)(args)/calc_Z2_symmetrical_integrate(args)\n",
    "z2 = Z2num.calc_from_coeffs_symmetrical(*args)\n",
    "\n",
    "print(moments[0]/2)\n",
    "print(f_expr_m(*args))\n",
    "print(z2.m)\n",
    "print()\n",
    "print(moments[1])\n",
    "print(f_expr_eta(*args))\n",
    "print(z2.eta)"
   ]
  },
  {
   "cell_type": "code",
   "execution_count": 24,
   "metadata": {},
   "outputs": [
    {
     "name": "stdout",
     "output_type": "stream",
     "text": [
      "8.34716277372662\n",
      "8.347162773726618\n",
      "8.34716277372662\n"
     ]
    }
   ],
   "source": [
    "f_expr_cF2_1 = sp.lambdify((h, l, m, eta), _expr_cF2_1, Z2sym.num_module)\n",
    "f_expr_cF2_2 = sp.lambdify((h, l, m, eta), _expr_cF2_2, Z2sym.num_module)\n",
    "\n",
    "args = 1, 1.6\n",
    "args_moments = f_expr_m(*args), f_expr_eta(*args)\n",
    "\n",
    "print(Z2num.cF2_symmetrical(*args))\n",
    "print(f_expr_cF2_1(*args, *args_moments))\n",
    "print(f_expr_cF2_2(*args, *args_moments))"
   ]
  },
  {
   "cell_type": "code",
   "execution_count": 25,
   "metadata": {},
   "outputs": [
    {
     "name": "stdout",
     "output_type": "stream",
     "text": [
      "0.5815164055484547\n",
      "0.5815164055484547\n",
      "0.5815162841798034\n",
      "0.5815162841798025\n",
      "\n",
      "0.5911376785139352\n",
      "0.5911371476339244\n",
      "0.5911371476339227\n"
     ]
    }
   ],
   "source": [
    "f_expr_m_eta = sp.lambdify((h, l), expr_m_eta, Z2sym.num_module_norm)\n",
    "f_expr_eta2 = sp.lambdify((h, l), expr_eta2, Z2sym.num_module_norm)\n",
    "\n",
    "args = 3.4, 1.9\n",
    "moments = nd.Hessian(calc_Z2_symmetrical_integrate)(args)/calc_Z2_symmetrical_integrate(args)\n",
    "z2 = Z2num.calc_from_coeffs_symmetrical(*args)\n",
    "\n",
    "print(moments[0, 1]/2)\n",
    "print(moments[1, 0]/2)\n",
    "print(f_expr_m_eta(*args))\n",
    "print(z2.m_eta)\n",
    "print()\n",
    "print(moments[1, 1])\n",
    "print(f_expr_eta2(*args))\n",
    "print(z2.eta2)"
   ]
  },
  {
   "cell_type": "markdown",
   "metadata": {},
   "source": [
    "## Предельные случаи "
   ]
  },
  {
   "cell_type": "markdown",
   "metadata": {},
   "source": [
    "### $\\lambda \\rightarrow 0$"
   ]
  },
  {
   "cell_type": "code",
   "execution_count": 26,
   "metadata": {},
   "outputs": [
    {
     "data": {
      "text/latex": [
       "$\\displaystyle \\frac{4 \\pi^{2} e^{2 h}}{h^{2}} - \\frac{8 \\pi^{2}}{h^{2}} + \\frac{4 \\pi^{2} e^{- 2 h}}{h^{2}}$"
      ],
      "text/plain": [
       "4*pi**2*exp(2*h)/h**2 - 8*pi**2/h**2 + 4*pi**2*exp(-2*h)/h**2"
      ]
     },
     "metadata": {},
     "output_type": "display_data"
    },
    {
     "data": {
      "text/latex": [
       "$\\displaystyle \\frac{8 \\pi^{2} \\left(\\cosh{\\left(2 h \\right)} - 1\\right)}{h^{2}}$"
      ],
      "text/plain": [
       "8*pi**2*(cosh(2*h) - 1)/h**2"
      ]
     },
     "execution_count": 26,
     "metadata": {},
     "output_type": "execute_result"
    }
   ],
   "source": [
    "expr = Z2.rewrite(sp.exp)\n",
    "expr = Z2sym.dawsn_to_series_oo(expr, 1).factor()\n",
    "expr = sp.limit(expr, l, 0).expand()\n",
    "display(expr)\n",
    "\n",
    "expr.rewrite(sp.sin).factor()"
   ]
  },
  {
   "cell_type": "code",
   "execution_count": 27,
   "metadata": {},
   "outputs": [
    {
     "data": {
      "text/latex": [
       "$\\displaystyle \\frac{h e^{2 h} + h - e^{2 h} + 1}{h \\left(e^{h} - 1\\right) \\left(e^{h} + 1\\right)}$"
      ],
      "text/plain": [
       "(h*exp(2*h) + h - exp(2*h) + 1)/(h*(exp(h) - 1)*(exp(h) + 1))"
      ]
     },
     "metadata": {},
     "output_type": "display_data"
    },
    {
     "data": {
      "text/latex": [
       "$\\displaystyle \\frac{1}{\\tanh{\\left(h \\right)}} - \\frac{1}{h}$"
      ],
      "text/plain": [
       "1/tanh(h) - 1/h"
      ]
     },
     "execution_count": 27,
     "metadata": {},
     "output_type": "execute_result"
    }
   ],
   "source": [
    "expr = expr_m.rewrite(sp.exp)\n",
    "expr = Z2sym.dawsn_to_series_oo(expr, 2).factor()\n",
    "expr = sp.limit(expr, l, 0).factor()\n",
    "display(expr)\n",
    "\n",
    "subs_to_m_llb = {\n",
    "    sp.exp(2*h): sp.solve(expr.expand()-m, sp.exp(2*h))[0]\n",
    "}\n",
    "\n",
    "expr.expand().rewrite(sp.tanh).factor().expand()"
   ]
  },
  {
   "cell_type": "code",
   "execution_count": 28,
   "metadata": {},
   "outputs": [
    {
     "data": {
      "text/latex": [
       "$\\displaystyle \\frac{\\left(h e^{2 h} + h - e^{2 h} + 1\\right)^{2}}{h^{2} \\left(e^{h} - 1\\right)^{2} \\left(e^{h} + 1\\right)^{2}}$"
      ],
      "text/plain": [
       "(h*exp(2*h) + h - exp(2*h) + 1)**2/(h**2*(exp(h) - 1)**2*(exp(h) + 1)**2)"
      ]
     },
     "metadata": {},
     "output_type": "display_data"
    },
    {
     "data": {
      "text/latex": [
       "$\\displaystyle \\left<m\\right>^{2}$"
      ],
      "text/plain": [
       "\\left<m\\right>**2"
      ]
     },
     "execution_count": 28,
     "metadata": {},
     "output_type": "execute_result"
    }
   ],
   "source": [
    "expr = expr_eta.rewrite(sp.exp)\n",
    "expr = Z2sym.dawsn_to_series_oo(expr, 3).factor()\n",
    "expr = sp.limit(expr, l, 0).factor()\n",
    "display(expr)\n",
    "\n",
    "expr.expand().subs(subs_to_m_llb).factor()"
   ]
  },
  {
   "cell_type": "code",
   "execution_count": 29,
   "metadata": {},
   "outputs": [
    {
     "data": {
      "text/latex": [
       "$\\displaystyle \\frac{\\left(h e^{2 h} + h - e^{2 h} + 1\\right) \\left(h^{2} e^{2 h} - h^{2} - 2 h e^{2 h} - 2 h + 2 e^{2 h} - 2\\right)}{h^{3} \\left(e^{h} - 1\\right)^{2} \\left(e^{h} + 1\\right)^{2}}$"
      ],
      "text/plain": [
       "(h*exp(2*h) + h - exp(2*h) + 1)*(h**2*exp(2*h) - h**2 - 2*h*exp(2*h) - 2*h + 2*exp(2*h) - 2)/(h**3*(exp(h) - 1)**2*(exp(h) + 1)**2)"
      ]
     },
     "metadata": {},
     "output_type": "display_data"
    },
    {
     "data": {
      "text/latex": [
       "$\\displaystyle - \\frac{2 \\left<m\\right>^{2}}{h} + \\left<m\\right>$"
      ],
      "text/plain": [
       "-2*\\left<m\\right>**2/h + \\left<m\\right>"
      ]
     },
     "metadata": {},
     "output_type": "display_data"
    },
    {
     "name": "stdout",
     "output_type": "stream",
     "text": [
      "- \\frac{2 \\left<m\\right>^{2}}{h} + \\left<m\\right>\n"
     ]
    }
   ],
   "source": [
    "expr = expr_m_eta.rewrite(sp.exp)\n",
    "expr = Z2sym.dawsn_to_series_oo(expr, 4).factor()\n",
    "expr = sp.limit(expr, l, 0).factor()\n",
    "display(expr)\n",
    "\n",
    "expr = expr.expand().subs(subs_to_m_llb).factor().expand()\n",
    "display(expr)\n",
    "sp.print_latex(expr)"
   ]
  },
  {
   "cell_type": "code",
   "execution_count": 30,
   "metadata": {},
   "outputs": [
    {
     "data": {
      "text/latex": [
       "$\\displaystyle \\frac{h^{4} e^{4 h} - 2 h^{4} e^{2 h} + h^{4} - 4 h^{3} e^{4 h} + 4 h^{3} + 10 h^{2} e^{4 h} + 4 h^{2} e^{2 h} + 10 h^{2} - 12 h e^{4 h} + 12 h + 6 e^{4 h} - 12 e^{2 h} + 6}{h^{4} \\left(e^{h} - 1\\right)^{2} \\left(e^{h} + 1\\right)^{2}}$"
      ],
      "text/plain": [
       "(h**4*exp(4*h) - 2*h**4*exp(2*h) + h**4 - 4*h**3*exp(4*h) + 4*h**3 + 10*h**2*exp(4*h) + 4*h**2*exp(2*h) + 10*h**2 - 12*h*exp(4*h) + 12*h + 6*exp(4*h) - 12*exp(2*h) + 6)/(h**4*(exp(h) - 1)**2*(exp(h) + 1)**2)"
      ]
     },
     "metadata": {},
     "output_type": "display_data"
    },
    {
     "data": {
      "text/latex": [
       "$\\displaystyle \\frac{6 \\left<m\\right>^{2}}{h^{2}} - \\frac{4 \\left<m\\right>}{h} + 1$"
      ],
      "text/plain": [
       "6*\\left<m\\right>**2/h**2 - 4*\\left<m\\right>/h + 1"
      ]
     },
     "metadata": {},
     "output_type": "display_data"
    },
    {
     "name": "stdout",
     "output_type": "stream",
     "text": [
      "\\frac{6 \\left<m\\right>^{2}}{h^{2}} - \\frac{4 \\left<m\\right>}{h} + 1\n"
     ]
    }
   ],
   "source": [
    "expr = expr_eta2.rewrite(sp.exp).factor()\n",
    "expr = Z2sym.dawsn_to_series_oo(expr, 5).factor()\n",
    "expr = sp.limit(expr, l, 0).factor()\n",
    "display(expr)\n",
    "\n",
    "expr = expr.expand().subs(subs_to_m_llb).factor().expand()\n",
    "display(expr)\n",
    "sp.print_latex(expr)"
   ]
  },
  {
   "cell_type": "code",
   "execution_count": 31,
   "metadata": {},
   "outputs": [],
   "source": [
    "# expr = expr_m.diff(l).rewrite(sp.exp)\n",
    "# expr = Z2sym.dawsn_to_series_oo(expr, 4).factor()\n",
    "# expr = sp.limit(expr, l, 0).factor()\n",
    "# display(expr)\n",
    "\n",
    "# expr.expand().subs(subs_to_m_llb).factor().expand()"
   ]
  },
  {
   "cell_type": "code",
   "execution_count": 32,
   "metadata": {},
   "outputs": [],
   "source": [
    "# expr = (expr_eta).diff(l).rewrite(sp.exp)\n",
    "# expr = Z2sym.dawsn_to_series_oo(expr, 5).factor()\n",
    "# expr = sp.limit(expr, l, 0).factor()\n",
    "# display(expr)\n",
    "\n",
    "# expr = expr.expand().subs(subs_to_m_llb).factor().expand()\n",
    "# expr"
   ]
  },
  {
   "cell_type": "code",
   "execution_count": 33,
   "metadata": {},
   "outputs": [],
   "source": [
    "# expr = (expr_m_eta/2).diff(l).factor().rewrite(sp.exp)\n",
    "# expr = Z2sym.dawsn_to_series_oo(expr, 6).factor()\n",
    "# expr = sp.limit(expr, l, 0).factor()\n",
    "# display(expr)\n",
    "\n",
    "# expr = expr.expand().subs(subs_to_m_llb).factor().expand()\n",
    "# display(expr)\n",
    "\n",
    "# expr = expr/m - (m-2*m**2/h)/m**2*(m - m * m * m - 2 * m * m/h)\n",
    "# expr = expr.expand()\n",
    "# display(expr)\n",
    "# display(expr.replace(m, h/3))"
   ]
  },
  {
   "cell_type": "code",
   "execution_count": 34,
   "metadata": {},
   "outputs": [],
   "source": [
    "# expr = expr_eta2.diff(l).factor().rewrite(sp.exp)\n",
    "# expr = Z2sym.dawsn_to_series_oo(expr, 7).factor()\n",
    "# expr = sp.limit(expr, l, 0).factor()\n",
    "# display(expr)\n",
    "\n",
    "# expr = expr.expand().subs(subs_to_m_llb).factor().expand()\n",
    "# display(expr)\n",
    "# display(expr.replace(m, h/3))"
   ]
  },
  {
   "cell_type": "markdown",
   "metadata": {},
   "source": [
    "### $h \\rightarrow 0$"
   ]
  },
  {
   "cell_type": "code",
   "execution_count": 35,
   "metadata": {},
   "outputs": [
    {
     "data": {
      "text/latex": [
       "$\\displaystyle \\frac{8 \\pi^{2} e^{\\lambda}}{\\lambda} - \\frac{8 \\pi^{2} e^{- \\lambda}}{\\lambda}$"
      ],
      "text/plain": [
       "8*pi**2*exp(\\lambda)/\\lambda - 8*pi**2*exp(-\\lambda)/\\lambda"
      ]
     },
     "metadata": {},
     "output_type": "display_data"
    },
    {
     "data": {
      "text/latex": [
       "$\\displaystyle \\frac{16 \\pi^{2} \\sinh{\\left(\\lambda \\right)}}{\\lambda}$"
      ],
      "text/plain": [
       "16*pi**2*sinh(\\lambda)/\\lambda"
      ]
     },
     "metadata": {},
     "output_type": "display_data"
    },
    {
     "name": "stdout",
     "output_type": "stream",
     "text": [
      "\\frac{16 \\pi^{2} \\sinh{\\left(\\lambda \\right)}}{\\lambda}\n"
     ]
    }
   ],
   "source": [
    "expr = Z2.rewrite(sp.exp)\n",
    "expr = symbase.LHopital(expr.factor(), h).replace(h, 0).expand()\n",
    "display(expr)\n",
    "\n",
    "expr = expr.rewrite(sp.sin).factor()\n",
    "display(expr)\n",
    "sp.print_latex(expr)"
   ]
  },
  {
   "cell_type": "code",
   "execution_count": 36,
   "metadata": {},
   "outputs": [
    {
     "data": {
      "text/latex": [
       "$\\displaystyle 0$"
      ],
      "text/plain": [
       "0"
      ]
     },
     "metadata": {},
     "output_type": "display_data"
    }
   ],
   "source": [
    "expr = expr_m.rewrite(sp.exp).factor()\n",
    "expr = symbase.LHopital(expr, h, 2)\n",
    "expr = expr.replace(h, 0)\n",
    "display(expr)"
   ]
  },
  {
   "cell_type": "code",
   "execution_count": 37,
   "metadata": {},
   "outputs": [
    {
     "data": {
      "text/latex": [
       "$\\displaystyle \\frac{\\lambda e^{2 \\lambda} + \\lambda - e^{2 \\lambda} + 1}{\\lambda \\left(e^{\\lambda} - 1\\right) \\left(e^{\\lambda} + 1\\right)}$"
      ],
      "text/plain": [
       "(\\lambda*exp(2*\\lambda) + \\lambda - exp(2*\\lambda) + 1)/(\\lambda*(exp(\\lambda) - 1)*(exp(\\lambda) + 1))"
      ]
     },
     "metadata": {},
     "output_type": "display_data"
    },
    {
     "data": {
      "text/latex": [
       "$\\displaystyle \\frac{1}{\\tanh{\\left(\\lambda \\right)}} - \\frac{1}{\\lambda}$"
      ],
      "text/plain": [
       "1/tanh(\\lambda) - 1/\\lambda"
      ]
     },
     "metadata": {},
     "output_type": "display_data"
    },
    {
     "name": "stdout",
     "output_type": "stream",
     "text": [
      "\\frac{1}{\\tanh{\\left(\\lambda \\right)}} - \\frac{1}{\\lambda}\n"
     ]
    }
   ],
   "source": [
    "expr = expr_eta.rewrite(sp.exp)\n",
    "expr = symbase.LHopital(expr.factor(), h)\n",
    "expr = expr.replace(h, 0).factor()\n",
    "display(expr)\n",
    "\n",
    "subs_to_eta_prmg = {\n",
    "    sp.exp(2*l): sp.solve(expr.expand()-eta, sp.exp(2*l))[0]\n",
    "}\n",
    "\n",
    "expr = expr.expand().rewrite(sp.tanh).factor().expand()\n",
    "display(expr)\n",
    "sp.print_latex(expr)"
   ]
  },
  {
   "cell_type": "code",
   "execution_count": 38,
   "metadata": {},
   "outputs": [
    {
     "data": {
      "text/latex": [
       "$\\displaystyle \\frac{\\lambda e^{2 \\lambda} + \\lambda - e^{2 \\lambda} + 1}{\\lambda \\left(2 \\lambda e^{2 \\lambda} - e^{2 \\lambda} + 1\\right)}$"
      ],
      "text/plain": [
       "(\\lambda*exp(2*\\lambda) + \\lambda - exp(2*\\lambda) + 1)/(\\lambda*(2*\\lambda*exp(2*\\lambda) - exp(2*\\lambda) + 1))"
      ]
     },
     "metadata": {},
     "output_type": "display_data"
    },
    {
     "data": {
      "text/latex": [
       "$\\displaystyle \\frac{\\left<\\eta\\right>}{\\lambda \\left(\\left<\\eta\\right> + 1\\right)}$"
      ],
      "text/plain": [
       "\\left<\\eta\\right>/(\\lambda*(\\left<\\eta\\right> + 1))"
      ]
     },
     "execution_count": 38,
     "metadata": {},
     "output_type": "execute_result"
    }
   ],
   "source": [
    "expr = ((1-expr_m_eta/expr_m)/2)\n",
    "expr = symbase.LHopital(expr.factor(), h, 2)\n",
    "expr = expr.rewrite(sp.exp).replace(h, 0).factor()\n",
    "display(expr)\n",
    "\n",
    "expr.expand().subs(subs_to_eta_prmg).factor()"
   ]
  },
  {
   "cell_type": "code",
   "execution_count": 39,
   "metadata": {},
   "outputs": [
    {
     "data": {
      "text/latex": [
       "$\\displaystyle \\frac{\\lambda^{2} e^{2 \\lambda} - \\lambda^{2} - 2 \\lambda e^{2 \\lambda} - 2 \\lambda + 2 e^{2 \\lambda} - 2}{\\lambda^{2} \\left(e^{\\lambda} - 1\\right) \\left(e^{\\lambda} + 1\\right)}$"
      ],
      "text/plain": [
       "(\\lambda**2*exp(2*\\lambda) - \\lambda**2 - 2*\\lambda*exp(2*\\lambda) - 2*\\lambda + 2*exp(2*\\lambda) - 2)/(\\lambda**2*(exp(\\lambda) - 1)*(exp(\\lambda) + 1))"
      ]
     },
     "metadata": {},
     "output_type": "display_data"
    },
    {
     "data": {
      "text/latex": [
       "$\\displaystyle 1 - \\frac{2 \\left<\\eta\\right>}{\\lambda}$"
      ],
      "text/plain": [
       "1 - 2*\\left<\\eta\\right>/\\lambda"
      ]
     },
     "execution_count": 39,
     "metadata": {},
     "output_type": "execute_result"
    }
   ],
   "source": [
    "expr = expr_eta2.rewrite(sp.exp)\n",
    "expr = symbase.LHopital(expr.factor(), h, 2)\n",
    "expr = expr.rewrite(sp.exp).replace(h, 0).factor()\n",
    "display(expr)\n",
    "\n",
    "expr.expand().subs(subs_to_eta_prmg).factor().expand()"
   ]
  },
  {
   "cell_type": "code",
   "execution_count": 40,
   "metadata": {},
   "outputs": [
    {
     "data": {
      "text/latex": [
       "$\\displaystyle \\frac{2 \\lambda e^{2 \\lambda} - e^{2 \\lambda} + 1}{3 \\lambda \\left(e^{\\lambda} - 1\\right) \\left(e^{\\lambda} + 1\\right)}$"
      ],
      "text/plain": [
       "(2*\\lambda*exp(2*\\lambda) - exp(2*\\lambda) + 1)/(3*\\lambda*(exp(\\lambda) - 1)*(exp(\\lambda) + 1))"
      ]
     },
     "metadata": {},
     "output_type": "display_data"
    },
    {
     "data": {
      "text/latex": [
       "$\\displaystyle \\frac{\\left<\\eta\\right> + 1}{3}$"
      ],
      "text/plain": [
       "(\\left<\\eta\\right> + 1)/3"
      ]
     },
     "execution_count": 40,
     "metadata": {},
     "output_type": "execute_result"
    }
   ],
   "source": [
    "expr = expr_m/h\n",
    "expr = symbase.LHopital(expr.factor(), h, 2)\n",
    "expr = expr.rewrite(sp.exp).replace(h, 0).factor()\n",
    "display(expr)\n",
    "\n",
    "expr.expand().subs(subs_to_eta_prmg).factor()"
   ]
  },
  {
   "cell_type": "code",
   "execution_count": 41,
   "metadata": {},
   "outputs": [],
   "source": [
    "# expr = (expr_m/h).diff(h).factor()\n",
    "# expr = symbase.LHopital(expr, h, 5)\n",
    "# expr = expr.rewrite(sp.exp).replace(h, 0)\n",
    "# display(expr)"
   ]
  },
  {
   "cell_type": "code",
   "execution_count": 42,
   "metadata": {},
   "outputs": [
    {
     "data": {
      "text/latex": [
       "$\\displaystyle 0$"
      ],
      "text/plain": [
       "0"
      ]
     },
     "metadata": {},
     "output_type": "display_data"
    }
   ],
   "source": [
    "expr = expr_eta.diff(h).factor()\n",
    "expr = symbase.LHopital(expr, h, 2)\n",
    "expr = expr.rewrite(sp.exp).replace(h, 0)\n",
    "display(expr)"
   ]
  },
  {
   "cell_type": "code",
   "execution_count": 43,
   "metadata": {},
   "outputs": [],
   "source": [
    "# expr = ((1-expr_m_eta/expr_m)/2).diff(h).factor()\n",
    "# expr = symbase.LHopital(expr.factor(), h, 6)\n",
    "# expr = expr.rewrite(sp.exp).replace(h, 0).factor()\n",
    "# display(expr)"
   ]
  },
  {
   "cell_type": "markdown",
   "metadata": {},
   "source": [
    "## Генерация кода C++ для реализации метода Ньютона"
   ]
  },
  {
   "cell_type": "code",
   "execution_count": 44,
   "metadata": {},
   "outputs": [],
   "source": [
    "subs = {\n",
    "    Z2sym.cF2_symmetrical(h, l): sp.Symbol(\"cF2_norm\"),\n",
    "    Z2sym.E_symmetrical(h, l, 1, 1): sp.Symbol(\"E12_norm\"),\n",
    "    Z2sym.E_symmetrical(h, l, 1, 0): sp.Symbol(\"E1_norm\"),\n",
    "    Z2sym.E_symmetrical(h, l, 0, 0): sp.Symbol(\"E_norm\"),\n",
    "    m: sp.Symbol(\"m\"), eta: sp.Symbol(\"eta\"),\n",
    "    sp.exp(-2*h): sp.Symbol(\"_exp_2h\"),\n",
    "    sp.exp(-2*l): sp.Symbol(\"_exp_2l\"),\n",
    "    l: sp.Symbol(\"l\")\n",
    "}\n",
    "\n",
    "\n",
    "def optimize(expr):\n",
    "    expr = symbase.optimize_pow(expr, {l: \"l\"})\n",
    "    expr = expr.subs(subs)\n",
    "    return expr"
   ]
  },
  {
   "cell_type": "code",
   "execution_count": 45,
   "metadata": {},
   "outputs": [
    {
     "name": "stdout",
     "output_type": "stream",
     "text": [
      "0.5*(-0.125*M_SQRT2*E12_norm*(h*h*h)*l + 0.125*M_SQRT2*E12_norm*h*(l*l) + 0.25*M_SQRT2*E1_norm*(h*h)*(l*l) + 0.25*M_SQRT2*E1_norm*(l*l*l) - 0.25*M_SQRT2*E_norm*h*(l*l*l) + 0.25*cF2_norm*(h*h*h*h)*sqrt_l - 0.5*cF2_norm*(h*h)*(l*l)*sqrt_l - 0.5*cF2_norm*(h*h)*l*sqrt_l + 1.0*cF2_norm*h*(l*l*l)*m*sqrt_l - 0.5*cF2_norm*(l*l*l)*sqrt_l - 0.25*cF2_norm*(l*l)*sqrt_l)/(cF2_norm*h*(l*l*l)*m*sqrt_l)\n"
     ]
    }
   ],
   "source": [
    "print(symbase.get_ccode(optimize(.5*(1-expr_m_eta/m)).factor()))"
   ]
  },
  {
   "cell_type": "markdown",
   "metadata": {},
   "source": [
    "## Решение обратной задачи"
   ]
  },
  {
   "cell_type": "markdown",
   "metadata": {},
   "source": [
    "### Прямая задача"
   ]
  },
  {
   "cell_type": "code",
   "execution_count": 46,
   "metadata": {},
   "outputs": [],
   "source": [
    "h = np.logspace(-5, 1, 100)\n",
    "l = np.logspace(-5, 1, 100)\n",
    "\n",
    "h, l = np.meshgrid(h, l)"
   ]
  },
  {
   "cell_type": "code",
   "execution_count": 47,
   "metadata": {},
   "outputs": [],
   "source": [
    "m, eta = np.empty_like(h), np.empty_like(h)\n",
    "upsilon, eta2 = np.empty_like(h), np.empty_like(h)\n",
    "Z2_norm = np.empty_like(m)\n",
    "\n",
    "for i in range(h.size):\n",
    "    z2 = Z2num.calc_from_coeffs_symmetrical(h.flat[i], l.flat[i])\n",
    "    m.flat[i], eta.flat[i] = z2.m, z2.eta\n",
    "    upsilon.flat[i], eta2.flat[i] = z2.upsilon, z2.eta2\n",
    "    Z2_norm.flat[i] = z2.Z2_norm"
   ]
  },
  {
   "cell_type": "code",
   "execution_count": 48,
   "metadata": {},
   "outputs": [],
   "source": [
    "datlib.np2dat(\n",
    "    \"data/Z2.dat\",\n",
    "    \"h l upsilon eta2 Z2_norm\".split(),\n",
    "    np.asarray([\n",
    "        h, l, upsilon, eta2, Z2_norm\n",
    "    ])\n",
    ")"
   ]
  },
  {
   "cell_type": "code",
   "execution_count": 49,
   "metadata": {},
   "outputs": [],
   "source": [
    "# %%bash\n",
    "# gplt3 -pm3d -U 'Z2_norm' data/Z2.dat -ln xy -to data/picts/pict.pdf "
   ]
  },
  {
   "cell_type": "markdown",
   "metadata": {},
   "source": [
    "### Обратная задача"
   ]
  },
  {
   "cell_type": "code",
   "execution_count": 50,
   "metadata": {},
   "outputs": [],
   "source": [
    "m = np.linspace(0, 1, 100)\n",
    "zeta = np.linspace(0, 1, 100)\n",
    "\n",
    "m, zeta = np.meshgrid(m, zeta)\n",
    "eta = zeta + (1-zeta)*m**2"
   ]
  },
  {
   "cell_type": "code",
   "execution_count": 51,
   "metadata": {},
   "outputs": [],
   "source": [
    "h, l = np.empty_like(m), np.empty_like(m)\n",
    "upsilon, eta2, mhj = np.empty_like(m), np.empty_like(m), np.empty_like(m)\n",
    "psi0, Z2_norm = np.empty_like(m), np.empty_like(m)\n",
    "\n",
    "for i in range(m.size):\n",
    "    z2 = Z2num.find_coeffs_symmetrical(m.flat[i], eta.flat[i])\n",
    "    h.flat[i], l.flat[i] = z2.h, z2.l\n",
    "    upsilon.flat[i], eta2.flat[i], mhj.flat[i] = z2.upsilon, z2.eta2, z2.mh2\n",
    "    psi0.flat[i], Z2_norm.flat[i] = z2.psi0, z2.Z2_norm"
   ]
  },
  {
   "cell_type": "code",
   "execution_count": 52,
   "metadata": {},
   "outputs": [],
   "source": [
    "datlib.np2dat(\n",
    "    \"data/Z2.dat\",\n",
    "    \"m eta zeta h l upsilon eta2 mhj psi0 Z2_norm\".split(),\n",
    "    np.asarray([\n",
    "        m, eta, zeta, h, l, upsilon, eta2, mhj, psi0, Z2_norm\n",
    "    ])\n",
    ")"
   ]
  },
  {
   "cell_type": "code",
   "execution_count": 53,
   "metadata": {},
   "outputs": [],
   "source": [
    "# %%bash\n",
    "# gplt3 -pm3d -U 'Z2_norm(m,zeta)' data/Z2.dat -to data/picts/pict.pdf "
   ]
  },
  {
   "cell_type": "markdown",
   "metadata": {},
   "source": [
    "### Асимптотика при $\\left<m\\right> \\rightarrow 1$"
   ]
  },
  {
   "cell_type": "code",
   "execution_count": 54,
   "metadata": {},
   "outputs": [],
   "source": [
    "m = np.linspace(.99, 1, 100)\n",
    "zeta = np.linspace(.05, 1, 100)\n",
    "\n",
    "m, zeta = np.meshgrid(m, zeta)\n",
    "eta = zeta + (1-zeta)*m**2"
   ]
  },
  {
   "cell_type": "code",
   "execution_count": 55,
   "metadata": {},
   "outputs": [
    {
     "name": "stderr",
     "output_type": "stream",
     "text": [
      "/home/daiwery/projects/Z-analytic/python/Z2num.py:26: RuntimeWarning: divide by zero encountered in scalar divide\n",
      "  return .5/(1-m), .5/(1-eta)\n"
     ]
    }
   ],
   "source": [
    "h, l = np.empty_like(m), np.empty_like(m)\n",
    "upsilon, eta2, mhj = np.empty_like(m), np.empty_like(m), np.empty_like(m)\n",
    "psi0, Z2_norm = np.empty_like(m), np.empty_like(m)\n",
    "\n",
    "for i in range(m.size):\n",
    "    z2 = Z2num.find_coeffs_symmetrical_by_scipy(m.flat[i], eta.flat[i])\n",
    "    h.flat[i], l.flat[i] = z2.h, z2.l\n",
    "    upsilon.flat[i], eta2.flat[i], mhj.flat[i] = z2.upsilon, z2.eta2, z2.mh2\n",
    "    psi0.flat[i], Z2_norm.flat[i] = z2.psi0, z2.Z2_norm"
   ]
  },
  {
   "cell_type": "code",
   "execution_count": 56,
   "metadata": {},
   "outputs": [],
   "source": [
    "datlib.np2dat(\n",
    "    \"data/Z2.dat\",\n",
    "    \"m eta zeta h l upsilon eta2 mhj psi0 Z2_norm\".split(),\n",
    "    np.asarray([\n",
    "        m, eta, zeta, h, l, upsilon, eta2, mhj, psi0, Z2_norm\n",
    "    ])\n",
    ")"
   ]
  },
  {
   "cell_type": "code",
   "execution_count": 57,
   "metadata": {},
   "outputs": [],
   "source": [
    "# %%bash\n",
    "# gplt3 -pm3d -U 'upsilon(m,eta)' data/Z2.dat -to data/picts/pict.pdf "
   ]
  },
  {
   "cell_type": "code",
   "execution_count": 58,
   "metadata": {},
   "outputs": [
    {
     "data": {
      "text/plain": [
       "array([1.80037290e-06, 2.39256366e-04, 4.98311465e-01])"
      ]
     },
     "execution_count": 58,
     "metadata": {},
     "output_type": "execute_result"
    }
   ],
   "source": [
    "variables = 1-m, 1-eta\n",
    "y_data = upsilon\n",
    "indexes_nans = np.logical_not(np.isnan(h))\n",
    "\n",
    "def func(_, *p_args, nans=True):    \n",
    "    result = p_args[0]\n",
    "    result += p_args[1]*variables[0] + p_args[2]*variables[1]\n",
    "\n",
    "    if nans:\n",
    "        return result[indexes_nans].ravel()\n",
    "    else:\n",
    "        return result\n",
    "    \n",
    "\n",
    "p0 = [0] + 2*[1]\n",
    "p = opt.curve_fit(func, None, y_data[indexes_nans].ravel(), p0=p0)[0]\n",
    "p"
   ]
  },
  {
   "cell_type": "code",
   "execution_count": 59,
   "metadata": {},
   "outputs": [],
   "source": [
    "# x = 1 - m\n",
    "# y = 1 - eta\n",
    "\n",
    "# upsilon = y/2\n",
    "# eta2 = 1 - 2*y\n",
    "# m_par_2 = 1 - 2*x\n",
    "# psi0 = -y/2"
   ]
  },
  {
   "cell_type": "markdown",
   "metadata": {},
   "source": [
    "# Ферромагнетик в несимметричном случае"
   ]
  },
  {
   "cell_type": "markdown",
   "metadata": {},
   "source": [
    "## Выражение для $Z^{(2)}$"
   ]
  },
  {
   "cell_type": "markdown",
   "metadata": {},
   "source": [
    "### Аргументы"
   ]
  },
  {
   "cell_type": "code",
   "execution_count": 60,
   "metadata": {},
   "outputs": [],
   "source": [
    "hi, hj, l = Z2sym.hi, Z2sym.hj, Z2sym.l\n",
    "s1, s2 = symbase.SigmaSymbol(\"\\\\sigma_1\"), symbase.SigmaSymbol(\"\\\\sigma_2\")\n",
    "t = sp.Symbol(\"t\")"
   ]
  },
  {
   "cell_type": "code",
   "execution_count": 61,
   "metadata": {},
   "outputs": [
    {
     "data": {
      "text/latex": [
       "$\\displaystyle - \\frac{\\lambda h_{2}}{2 h_{1}} + t^{2}$"
      ],
      "text/plain": [
       "-\\lambda*h_2/(2*h_1) + t**2"
      ]
     },
     "metadata": {},
     "output_type": "display_data"
    },
    {
     "data": {
      "text/latex": [
       "$\\displaystyle \\frac{\\sqrt{2} \\left(\\frac{\\sigma_1 \\lambda h_{2}}{h_{1}} + \\sigma_2 \\lambda + h_{2}\\right)}{2 \\sqrt{\\frac{\\lambda h_{2}}{h_{1}}}}$"
      ],
      "text/plain": [
       "sqrt(2)*(\\sigma_1*\\lambda*h_2/h_1 + \\sigma_2*\\lambda + h_2)/(2*sqrt(\\lambda*h_2/h_1))"
      ]
     },
     "metadata": {},
     "output_type": "display_data"
    }
   ],
   "source": [
    "arg_exp = t**2/(2*l)*hi/hj + s1*t\n",
    "bound = hj+s2*l\n",
    "\n",
    "arg_exp = arg_exp.replace(t, t-s1*l*hj/hi).expand()\n",
    "bound += s1*l*hj/hi\n",
    "\n",
    "arg_exp = arg_exp.replace(t, t*sp.sqrt(2*l*hj/hi))\n",
    "bound /= sp.sqrt(2*l*hj/hi)\n",
    "\n",
    "display(arg_exp)\n",
    "display(bound)"
   ]
  },
  {
   "cell_type": "code",
   "execution_count": 62,
   "metadata": {},
   "outputs": [
    {
     "data": {
      "text/latex": [
       "$\\displaystyle \\sigma_1 \\sigma_2 \\lambda + \\sigma_1 h_{2} + \\sigma_2 h_{1}$"
      ],
      "text/plain": [
       "\\sigma_1*\\sigma_2*\\lambda + \\sigma_1*h_2 + \\sigma_2*h_1"
      ]
     },
     "metadata": {},
     "output_type": "display_data"
    }
   ],
   "source": [
    "expr = bound**2 + (arg_exp - t**2)\n",
    "expr = expr.expand()\n",
    "expr -= (hj**2+l**2)/(2*l*hj/hi)\n",
    "expr = expr.expand()\n",
    "\n",
    "display(expr)"
   ]
  },
  {
   "cell_type": "markdown",
   "metadata": {},
   "source": [
    "### Производные $\\cal{F}^{(2)}$"
   ]
  },
  {
   "cell_type": "code",
   "execution_count": 63,
   "metadata": {},
   "outputs": [
    {
     "data": {
      "text/latex": [
       "$\\displaystyle e^{\\lambda} e^{h_{1}} e^{h_{2}} + e^{\\lambda} e^{- h_{1}} e^{- h_{2}} + e^{- \\lambda} e^{h_{1}} e^{- h_{2}} + e^{- \\lambda} e^{- h_{1}} e^{h_{2}}$"
      ],
      "text/plain": [
       "exp(\\lambda)*exp(h_1)*exp(h_2) + exp(\\lambda)*exp(-h_1)*exp(-h_2) + exp(-\\lambda)*exp(h_1)*exp(-h_2) + exp(-\\lambda)*exp(-h_1)*exp(h_2)"
      ]
     },
     "metadata": {},
     "output_type": "display_data"
    },
    {
     "data": {
      "text/latex": [
       "$\\displaystyle e^{\\lambda} e^{h_{1}} e^{h_{2}} + e^{\\lambda} e^{- h_{1}} e^{- h_{2}} + e^{- \\lambda} e^{h_{1}} e^{- h_{2}} + e^{- \\lambda} e^{- h_{1}} e^{h_{2}}$"
      ],
      "text/plain": [
       "exp(\\lambda)*exp(h_1)*exp(h_2) + exp(\\lambda)*exp(-h_1)*exp(-h_2) + exp(-\\lambda)*exp(h_1)*exp(-h_2) + exp(-\\lambda)*exp(-h_1)*exp(h_2)"
      ]
     },
     "metadata": {},
     "output_type": "display_data"
    }
   ],
   "source": [
    "display(Z2sym.E_not_symmetrical(hi, hj, l, 1, 1).diff(l).rewrite(sp.exp))\n",
    "display(Z2sym.E_not_symmetrical(hi, hj, l, 1, 1).rewrite(sp.exp).diff(l))"
   ]
  },
  {
   "cell_type": "code",
   "execution_count": 64,
   "metadata": {},
   "outputs": [],
   "source": [
    "# display(Z2sym.cF2_not_symmetrical(hi, hj, l).diff(hi).rewrite(sp.exp).expand())\n",
    "# display(Z2sym.cF2_not_symmetrical(hi, hj, l).rewrite(sp.exp).diff(hi).expand())"
   ]
  },
  {
   "cell_type": "markdown",
   "metadata": {},
   "source": [
    "### Численная проверка"
   ]
  },
  {
   "cell_type": "code",
   "execution_count": 65,
   "metadata": {},
   "outputs": [
    {
     "name": "stdout",
     "output_type": "stream",
     "text": [
      "16.264777260931098\n",
      "16.264776699753636\n",
      "\n",
      "-14.133145019126196\n",
      "-14.13314313537626\n",
      "\n",
      "-14.618964379619326\n",
      "-14.618962644973239\n"
     ]
    }
   ],
   "source": [
    "hi, hj, l = Z2sym.hi, Z2sym.hj, Z2sym.l\n",
    "cF2_diff_hi = sp.lambdify((hi, hj, l), Z2sym.cF2_not_symmetrical(hi, hj, l).diff(hi), Z2sym.num_module)\n",
    "cF2_diff_hj = sp.lambdify((hi, hj, l), Z2sym.cF2_not_symmetrical(hi, hj, l).diff(hj), Z2sym.num_module)\n",
    "cF2_diff_l = sp.lambdify((hi, hj, l), Z2sym.cF2_not_symmetrical(hi, hj, l).diff(l), Z2sym.num_module)\n",
    "\n",
    "args = 1, -2, -1.4\n",
    "gradient = nd.Gradient(lambda args: Z2num.cF2_not_symmetrical(*args))(args)\n",
    "\n",
    "print(gradient[0])\n",
    "print(cF2_diff_hi(*args))\n",
    "print()\n",
    "print(gradient[1])\n",
    "print(cF2_diff_hj(*args))\n",
    "print()\n",
    "print(gradient[2])\n",
    "print(cF2_diff_l(*args))"
   ]
  },
  {
   "cell_type": "code",
   "execution_count": 66,
   "metadata": {},
   "outputs": [
    {
     "name": "stdout",
     "output_type": "stream",
     "text": [
      "66.8777425547184\n",
      "66.87774255471518\n",
      "\n",
      "66.00172559925015\n",
      "66.0017255992518\n",
      "\n",
      "67.5925427993252\n",
      "67.59254279932306\n"
     ]
    }
   ],
   "source": [
    "hi, hj, l = Z2sym.hi, Z2sym.hj, Z2sym.l\n",
    "sigmas_args = 1, 1\n",
    "E_diff_hi = sp.lambdify((hi, hj, l), Z2sym.E_not_symmetrical(hi, hj, l, *sigmas_args).diff(hi), Z2sym.num_module)\n",
    "E_diff_hj = sp.lambdify((hi, hj, l), Z2sym.E_not_symmetrical(hi, hj, l, *sigmas_args).diff(hj), Z2sym.num_module)\n",
    "E_diff_l = sp.lambdify((hi, hj, l), Z2sym.E_not_symmetrical(hi, hj, l, *sigmas_args).diff(l), Z2sym.num_module)\n",
    "\n",
    "args = 1, 1.8, 1.4\n",
    "sigmas_args = list(map(bool, sigmas_args))\n",
    "\n",
    "gradient = nd.Gradient(lambda args: Z2num.E_not_symmetrical(*args, *sigmas_args))(args)\n",
    "\n",
    "print(gradient[0])\n",
    "print(E_diff_hi(*args))\n",
    "print()\n",
    "print(gradient[1])\n",
    "print(E_diff_hj(*args))\n",
    "print()\n",
    "print(gradient[2])\n",
    "print(E_diff_l(*args))"
   ]
  },
  {
   "cell_type": "markdown",
   "metadata": {},
   "source": [
    "## Моменты"
   ]
  },
  {
   "cell_type": "code",
   "execution_count": 67,
   "metadata": {},
   "outputs": [
    {
     "data": {
      "text/latex": [
       "$\\displaystyle \\frac{4 \\sqrt{2} \\pi^{2} {\\cal F}^{(2)}\\left(h_{1}, h_{2}, \\lambda\\right)}{\\sqrt{\\lambda h_{1} h_{2}}}$"
      ],
      "text/plain": [
       "4*sqrt(2)*pi**2*cF2_not_symmetrical(h_1, h_2, \\lambda)/sqrt(\\lambda*h_1*h_2)"
      ]
     },
     "execution_count": 67,
     "metadata": {},
     "output_type": "execute_result"
    }
   ],
   "source": [
    "hi, hj, l = Z2sym.hi, Z2sym.hj, Z2sym.l\n",
    "Z2 = sp.sqrt(2)*(2*sp.pi)**2/sp.sqrt(hi*hj*l)*Z2sym.cF2_not_symmetrical(hi, hj, l)\n",
    "Z2"
   ]
  },
  {
   "cell_type": "markdown",
   "metadata": {},
   "source": [
    "### Симметричный случай"
   ]
  },
  {
   "cell_type": "code",
   "execution_count": 68,
   "metadata": {},
   "outputs": [],
   "source": [
    "h, l = Z2sym.h, Z2sym.l"
   ]
  },
  {
   "cell_type": "code",
   "execution_count": 69,
   "metadata": {},
   "outputs": [
    {
     "data": {
      "text/latex": [
       "$\\displaystyle \\left[\\begin{matrix}\\frac{2 \\Upsilon \\lambda \\left<m\\right>}{h} - \\frac{2 \\left<m\\right>}{h} + 1 & - \\frac{2 \\Upsilon \\lambda \\left<m\\right>}{h} + \\left<\\eta\\right> & {\\left<m\\eta\\right>}\\\\- \\frac{2 \\Upsilon \\lambda \\left<m\\right>}{h} + \\left<\\eta\\right> & \\frac{2 \\Upsilon \\lambda \\left<m\\right>}{h} - \\frac{2 \\left<m\\right>}{h} + 1 & {\\left<m\\eta\\right>}\\\\{\\left<m\\eta\\right>} & {\\left<m\\eta\\right>} & {\\left<\\eta^2\\right>}\\end{matrix}\\right]$"
      ],
      "text/plain": [
       "Matrix([\n",
       "[2*\\Upsilon*\\lambda*\\left<m\\right>/h - 2*\\left<m\\right>/h + 1,     -2*\\Upsilon*\\lambda*\\left<m\\right>/h + \\left<\\eta\\right>,  {\\left<m\\eta\\right>}],\n",
       "[    -2*\\Upsilon*\\lambda*\\left<m\\right>/h + \\left<\\eta\\right>, 2*\\Upsilon*\\lambda*\\left<m\\right>/h - 2*\\left<m\\right>/h + 1,  {\\left<m\\eta\\right>}],\n",
       "[                                        {\\left<m\\eta\\right>},                                         {\\left<m\\eta\\right>}, {\\left<\\eta^2\\right>}]])"
      ]
     },
     "execution_count": 69,
     "metadata": {},
     "output_type": "execute_result"
    }
   ],
   "source": [
    "expr_hessian_symmetrical = sp.zeros(3, 3)\n",
    "for i in range(3):\n",
    "    for j in range(3):\n",
    "        arg1, arg2 = [hi, hj, l][i], [hi, hj, l][j]\n",
    "        expr_hessian_symmetrical[i, j] = Z2.diff(arg1, arg2)/Z2\n",
    "        expr_hessian_symmetrical[i, j] = expr_hessian_symmetrical[i, j].expand().subs({hi: h, hj: h})\n",
    "\n",
    "expr = expr_hessian_symmetrical\n",
    "expr = expr.subs(subs_to_m_and_eta_symmetrical).expand()\n",
    "expr = expr.subs(subs_to_m_eta_symmetrical)\n",
    "expr = sp.Matrix(3, 3, lambda i, j: expr[i, j].factor()).expand()\n",
    "\n",
    "expr[2, 2] = expr[2, 2].subs(subs_to_eta2).factor()\n",
    "\n",
    "for i in range(3):\n",
    "    for j in range(3):\n",
    "        if expr[i, j] != Z2sym.m_eta:\n",
    "            expr[i, j] = expr[i, j].subs(subs_to_upsilon).expand()\n",
    "\n",
    "expr"
   ]
  },
  {
   "cell_type": "markdown",
   "metadata": {},
   "source": [
    "#### Момент $\\Psi$"
   ]
  },
  {
   "cell_type": "code",
   "execution_count": 70,
   "metadata": {},
   "outputs": [],
   "source": [
    "from sympy.vector import CoordSys3D, Del\n",
    "\n",
    "N = CoordSys3D(\"N\")\n",
    "delop = Del()\n",
    "\n",
    "vhi, vhj, vh3 = sp.symbols(\"h_1 h_2 h_3\")\n",
    "vh = vhi*N.i + vhj*N.j + vh3*N.k\n",
    "\n",
    "nk1, nk2, nk3 = sp.symbols(\"n_{1K} n_{2K} n_{3K}\")\n",
    "nk = nk1*N.i + nk2*N.j + nk3*N.k"
   ]
  },
  {
   "cell_type": "code",
   "execution_count": 71,
   "metadata": {},
   "outputs": [],
   "source": [
    "gamma1, gamma2 = sp.symbols(\"\\\\gamma_1 \\\\gamma_2\", positive=True)"
   ]
  },
  {
   "cell_type": "code",
   "execution_count": 72,
   "metadata": {},
   "outputs": [],
   "source": [
    "v1 = vh + gamma1*nk\n",
    "v2 = vh + gamma2*nk\n",
    "\n",
    "v1_par_2 = v1.dot(v2)/v2.magnitude()\n",
    "v1_per_2 = sp.sqrt(v1.dot(v1) - v1_par_2**2)\n",
    "v2_magnitude = v2.magnitude()"
   ]
  },
  {
   "cell_type": "code",
   "execution_count": 73,
   "metadata": {},
   "outputs": [],
   "source": [
    "def _diff_func(func, args): \n",
    "    if len(args) == 0:\n",
    "        return func\n",
    "\n",
    "    arg = args[0]\n",
    "    if isinstance(func, sp.Function):\n",
    "        func = func.fdiff(arg)\n",
    "        return _diff_func(func, args[1:])\n",
    "    if isinstance(func, sp.Subs):\n",
    "        return sp.Subs(_diff_func(func.args[0], args), *func.args[1:])\n",
    "    if isinstance(func, sp.Derivative):\n",
    "        return sp.Derivative(_diff_func(func.args[0], args), *func.args[1:])"
   ]
  },
  {
   "cell_type": "code",
   "execution_count": 74,
   "metadata": {},
   "outputs": [
    {
     "data": {
      "text/latex": [
       "$\\displaystyle - \\frac{\\left(2 h_{1}^{2} n_{1K}^{2} - h_{1}^{2} n_{2K}^{2} - h_{1}^{2} n_{3K}^{2} + 6 h_{1} h_{2} n_{1K} n_{2K} + 6 h_{1} h_{3} n_{1K} n_{3K} - h_{2}^{2} n_{1K}^{2} + 2 h_{2}^{2} n_{2K}^{2} - h_{2}^{2} n_{3K}^{2} + 6 h_{2} h_{3} n_{2K} n_{3K} - h_{3}^{2} n_{1K}^{2} - h_{3}^{2} n_{2K}^{2} + 2 h_{3}^{2} n_{3K}^{2}\\right) \\left(24 \\lambda^{\\frac{15}{2}} \\left(h^{2}\\right)^{\\frac{3}{2}} {\\cal F}^{(2)}\\left(h, \\lambda\\right) + 16 \\lambda^{\\frac{13}{2}} h^{2} \\left(h^{2}\\right)^{\\frac{3}{2}} {\\cal F}^{(2)}\\left(h, \\lambda\\right) + 6 \\lambda^{\\frac{13}{2}} \\left(h^{2}\\right)^{\\frac{3}{2}} {\\cal F}^{(2)}\\left(h, \\lambda\\right) + 8 \\lambda^{\\frac{11}{2}} h^{4} \\left(h^{2}\\right)^{\\frac{3}{2}} {\\cal F}^{(2)}\\left(h, \\lambda\\right) + 6 \\lambda^{\\frac{11}{2}} h^{2} \\left(h^{2}\\right)^{\\frac{3}{2}} {\\cal F}^{(2)}\\left(h, \\lambda\\right) + 6 \\lambda^{\\frac{9}{2}} h^{4} \\left(h^{2}\\right)^{\\frac{3}{2}} {\\cal F}^{(2)}\\left(h, \\lambda\\right) - 2 \\lambda^{\\frac{7}{2}} h^{6} \\left(h^{2}\\right)^{\\frac{3}{2}} {\\cal F}^{(2)}\\left(h, \\lambda\\right) + 6 \\sqrt{2} \\lambda^{7} h^{4} {\\cal E}_{}\\left(h, \\lambda\\right) - 6 \\sqrt{2} \\lambda^{7} h^{4} {\\cal E}_{12}\\left(h, \\lambda\\right) - 6 \\sqrt{2} \\lambda^{7} \\left(h^{2}\\right)^{\\frac{3}{2}} {\\cal E}_{1}\\left(h, \\lambda\\right) + 2 \\sqrt{2} \\lambda^{6} h^{6} {\\cal E}_{}\\left(h, \\lambda\\right) - 2 \\sqrt{2} \\lambda^{6} h^{6} {\\cal E}_{12}\\left(h, \\lambda\\right) - 3 \\sqrt{2} \\lambda^{6} h^{4} {\\cal E}_{12}\\left(h, \\lambda\\right) - 2 \\sqrt{2} \\lambda^{5} h^{6} {\\cal E}_{12}\\left(h, \\lambda\\right) - 2 \\sqrt{2} \\lambda^{5} h^{4} \\left(h^{2}\\right)^{\\frac{3}{2}} {\\cal E}_{1}\\left(h, \\lambda\\right) + \\sqrt{2} \\lambda^{4} h^{8} {\\cal E}_{12}\\left(h, \\lambda\\right)\\right)}{32 \\lambda^{\\frac{15}{2}} h^{4} \\left(h^{2}\\right)^{\\frac{3}{2}} {\\cal F}^{(2)}\\left(h, \\lambda\\right)}$"
      ],
      "text/plain": [
       "-(2*h_1**2*n_{1K}**2 - h_1**2*n_{2K}**2 - h_1**2*n_{3K}**2 + 6*h_1*h_2*n_{1K}*n_{2K} + 6*h_1*h_3*n_{1K}*n_{3K} - h_2**2*n_{1K}**2 + 2*h_2**2*n_{2K}**2 - h_2**2*n_{3K}**2 + 6*h_2*h_3*n_{2K}*n_{3K} - h_3**2*n_{1K}**2 - h_3**2*n_{2K}**2 + 2*h_3**2*n_{3K}**2)*(24*\\lambda**(15/2)*(h**2)**(3/2)*cF2_symmetrical(h, \\lambda) + 16*\\lambda**(13/2)*h**2*(h**2)**(3/2)*cF2_symmetrical(h, \\lambda) + 6*\\lambda**(13/2)*(h**2)**(3/2)*cF2_symmetrical(h, \\lambda) + 8*\\lambda**(11/2)*h**4*(h**2)**(3/2)*cF2_symmetrical(h, \\lambda) + 6*\\lambda**(11/2)*h**2*(h**2)**(3/2)*cF2_symmetrical(h, \\lambda) + 6*\\lambda**(9/2)*h**4*(h**2)**(3/2)*cF2_symmetrical(h, \\lambda) - 2*\\lambda**(7/2)*h**6*(h**2)**(3/2)*cF2_symmetrical(h, \\lambda) + 6*sqrt(2)*\\lambda**7*h**4*E_symmetrical(h, \\lambda, 0, 0) - 6*sqrt(2)*\\lambda**7*h**4*E_symmetrical(h, \\lambda, 1, 1) - 6*sqrt(2)*\\lambda**7*(h**2)**(3/2)*E_symmetrical(h, \\lambda, 1, 0) + 2*sqrt(2)*\\lambda**6*h**6*E_symmetrical(h, \\lambda, 0, 0) - 2*sqrt(2)*\\lambda**6*h**6*E_symmetrical(h, \\lambda, 1, 1) - 3*sqrt(2)*\\lambda**6*h**4*E_symmetrical(h, \\lambda, 1, 1) - 2*sqrt(2)*\\lambda**5*h**6*E_symmetrical(h, \\lambda, 1, 1) - 2*sqrt(2)*\\lambda**5*h**4*(h**2)**(3/2)*E_symmetrical(h, \\lambda, 1, 0) + sqrt(2)*\\lambda**4*h**8*E_symmetrical(h, \\lambda, 1, 1))/(32*\\lambda**(15/2)*h**4*(h**2)**(3/2)*cF2_symmetrical(h, \\lambda))"
      ]
     },
     "execution_count": 74,
     "metadata": {},
     "output_type": "execute_result"
    }
   ],
   "source": [
    "Z = sp.Function(\"Z\")(v1_per_2, v1_par_2, v2_magnitude, l)\n",
    "\n",
    "def two_diff_func(func, arg1, arg2):\n",
    "    args = func.args\n",
    "    result = 0\n",
    "    for i, arg in enumerate(args):\n",
    "        result += arg.diff(arg1, arg2).subs({gamma2: 0}).factor()*_diff_func(func, [i+1])\n",
    "\n",
    "        factor = arg.diff(arg1).subs({gamma2: 0})\n",
    "        for j, j_arg in enumerate(args):\n",
    "            term = (factor*j_arg.diff(arg2)).subs({gamma2: 0}).factor()\n",
    "            result += term*_diff_func(func, [i+1, j+1])\n",
    "    return result\n",
    "\n",
    "expr_psi = (two_diff_func(Z, gamma1, gamma1).diff(l) - two_diff_func(Z, gamma1, gamma2)).subs({gamma1: 0, gamma2: 0})\n",
    "expr_psi = expr_psi.subs(vh.dot(vh), h**2).expand()\n",
    "\n",
    "def v_per_diff_eval(*args):\n",
    "    func = args[0]\n",
    "    diff_args = args[1:]\n",
    "    per_arg = func.args[0]\n",
    "    non_per_diff_args = tuple(filter(lambda item: item[0] != per_arg, diff_args))\n",
    "    per_diff_args = tuple(filter(lambda item: item[0] == per_arg, diff_args))\n",
    "\n",
    "    if len(per_diff_args) == 0:\n",
    "        return sp.Derivative(*args)\n",
    "    \n",
    "    _, n = per_diff_args[0]\n",
    "\n",
    "    if n == 2:\n",
    "        func = func - _diff_func(func, (2, 2))\n",
    "        func /= 2\n",
    "    elif n == 1:\n",
    "        return 0\n",
    "    else:\n",
    "        return sp.Derivative(*args)\n",
    "\n",
    "    if len(non_per_diff_args) > 0:\n",
    "        func = sp.Derivative(func, *non_per_diff_args)\n",
    "\n",
    "    return func\n",
    "\n",
    "expr_psi = expr_psi.replace(sp.Derivative, v_per_diff_eval).doit()\n",
    "\n",
    "expr_psi = expr_psi.replace(sp.Function(\"Z\"), lambda *args: Z2.subs(dict(zip([hi, hj, l], args[1:])))).doit()\n",
    "expr_psi = (expr_psi/Z2.subs({hi: h, hj: h})).expand()\n",
    "expr_psi = expr_psi.factor()\n",
    "expr_psi = expr_psi.replace(sp.sqrt(h**2), h)\n",
    "expr_psi"
   ]
  },
  {
   "cell_type": "code",
   "execution_count": 75,
   "metadata": {},
   "outputs": [
    {
     "data": {
      "text/latex": [
       "$\\displaystyle 2 h_{1}^{2} n_{1K}^{2} - h_{1}^{2} n_{2K}^{2} - h_{1}^{2} n_{3K}^{2} + 6 h_{1} h_{2} n_{1K} n_{2K} + 6 h_{1} h_{3} n_{1K} n_{3K} - h_{2}^{2} n_{1K}^{2} + 2 h_{2}^{2} n_{2K}^{2} - h_{2}^{2} n_{3K}^{2} + 6 h_{2} h_{3} n_{2K} n_{3K} - h_{3}^{2} n_{1K}^{2} - h_{3}^{2} n_{2K}^{2} + 2 h_{3}^{2} n_{3K}^{2}$"
      ],
      "text/plain": [
       "2*h_1**2*n_{1K}**2 - h_1**2*n_{2K}**2 - h_1**2*n_{3K}**2 + 6*h_1*h_2*n_{1K}*n_{2K} + 6*h_1*h_3*n_{1K}*n_{3K} - h_2**2*n_{1K}**2 + 2*h_2**2*n_{2K}**2 - h_2**2*n_{3K}**2 + 6*h_2*h_3*n_{2K}*n_{3K} - h_3**2*n_{1K}**2 - h_3**2*n_{2K}**2 + 2*h_3**2*n_{3K}**2"
      ]
     },
     "metadata": {},
     "output_type": "display_data"
    },
    {
     "data": {
      "text/latex": [
       "$\\displaystyle 0$"
      ],
      "text/plain": [
       "0"
      ]
     },
     "execution_count": 75,
     "metadata": {},
     "output_type": "execute_result"
    }
   ],
   "source": [
    "expr_psi_nk = expr_psi.args[-2]\n",
    "display(expr_psi_nk)\n",
    "\n",
    "expr = expr_psi_nk-(3*(vh.dot(nk)**2)-vh.dot(vh))\n",
    "expr = expr.expand()\n",
    "expr = expr.subs({nk1**2: 1-nk2**2-nk3**2})\n",
    "expr.expand()"
   ]
  },
  {
   "cell_type": "code",
   "execution_count": 76,
   "metadata": {},
   "outputs": [
    {
     "data": {
      "text/latex": [
       "$\\displaystyle \\frac{3 \\Upsilon \\left<m\\right>}{2 h^{3}} + \\frac{{\\left<\\eta^2\\right>}}{4 h^{2}} - \\frac{1}{4 h^{2}}$"
      ],
      "text/plain": [
       "3*\\Upsilon*\\left<m\\right>/(2*h**3) + {\\left<\\eta^2\\right>}/(4*h**2) - 1/(4*h**2)"
      ]
     },
     "execution_count": 76,
     "metadata": {},
     "output_type": "execute_result"
    }
   ],
   "source": [
    "expr_psi0 = expr_psi/expr_psi_nk\n",
    "expr_psi0 = expr_psi0.expand()\n",
    "expr_psi0 = expr_psi0.replace(h, sp.Abs(h)).replace(sp.Abs(h), h)\n",
    "expr_psi0 = expr_psi0.subs(subs_to_m_and_eta_symmetrical).expand()\n",
    "expr_psi0 = expr_psi0.subs(subs_to_m_eta_symmetrical).factor().expand()\n",
    "expr_psi0 = expr_psi0.subs(subs_to_eta2).factor().expand()\n",
    "expr_psi0 = expr_psi0.subs(subs_to_upsilon).expand()\n",
    "expr_psi0"
   ]
  },
  {
   "cell_type": "markdown",
   "metadata": {},
   "source": [
    "### Численная проверка"
   ]
  },
  {
   "cell_type": "code",
   "execution_count": 77,
   "metadata": {},
   "outputs": [],
   "source": [
    "def calc_Z2_integrate(hi, hj, l):\n",
    "    hjz = np.linalg.norm(hj)\n",
    "    hiz = hi.dot(hj)/hjz\n",
    "    hiy = np.sqrt(np.abs(hi.dot(hi) - hiz**2))\n",
    "    return Z2num.calc_Z2_integrate(hiy, hiz, hjz, l)"
   ]
  },
  {
   "cell_type": "code",
   "execution_count": 78,
   "metadata": {},
   "outputs": [
    {
     "name": "stdout",
     "output_type": "stream",
     "text": [
      "2062.17766247412\n",
      "2062.17766247412\n"
     ]
    }
   ],
   "source": [
    "hi = np.asarray([0, 3, 2])\n",
    "hj = np.asarray([0, 0, 1])\n",
    "l = 2\n",
    "\n",
    "print(calc_Z2_integrate(hi, hj, l))\n",
    "print(Z2num.calc_Z2_integrate(hi[1], hi[2], hj[2], l))"
   ]
  },
  {
   "cell_type": "code",
   "execution_count": 79,
   "metadata": {},
   "outputs": [],
   "source": [
    "def Z2_not_symmetrical_integrate(args):\n",
    "    hi, hj, l = args\n",
    "    return Z2num.calc_Z2_integrate(0, hi, hj, l)"
   ]
  },
  {
   "cell_type": "code",
   "execution_count": 80,
   "metadata": {},
   "outputs": [],
   "source": [
    "def calc_Z2_symmetrical_with_nk_integrate(h, l, gamma1, gamma2, nk):\n",
    "    h = np.asarray([0, 0, h])\n",
    "    hi = h + gamma1*nk\n",
    "    hj = h + gamma2*nk\n",
    "    return calc_Z2_integrate(hi, hj, l)"
   ]
  },
  {
   "cell_type": "markdown",
   "metadata": {},
   "source": [
    "#### Симметричный случай"
   ]
  },
  {
   "cell_type": "code",
   "execution_count": 81,
   "metadata": {},
   "outputs": [
    {
     "name": "stdout",
     "output_type": "stream",
     "text": [
      "0.4002859831723324\n",
      "0.400285983172324\n",
      "0.40028594111272375\n"
     ]
    }
   ],
   "source": [
    "h, l = Z2sym.h, Z2sym.l\n",
    "f_expr_mh2 = sp.lambdify((h, l), expr_hessian_symmetrical[0, 0], Z2sym.num_module_norm)\n",
    "\n",
    "args = 1, 1.2\n",
    "args_not_symmetrical = args[0], args[0], args[1]\n",
    "\n",
    "moments = nd.Hessdiag(Z2_not_symmetrical_integrate)(args_not_symmetrical)/Z2_not_symmetrical_integrate(args_not_symmetrical)\n",
    "\n",
    "print(moments[0])\n",
    "print(moments[1])\n",
    "print(f_expr_mh2(*args))"
   ]
  },
  {
   "cell_type": "code",
   "execution_count": 82,
   "metadata": {},
   "outputs": [
    {
     "data": {
      "text/latex": [
       "$\\displaystyle - \\frac{\\left(2 h_{1}^{2} n_{1K}^{2} - h_{1}^{2} n_{2K}^{2} - h_{1}^{2} n_{3K}^{2} + 6 h_{1} h_{2} n_{1K} n_{2K} + 6 h_{1} h_{3} n_{1K} n_{3K} - h_{2}^{2} n_{1K}^{2} + 2 h_{2}^{2} n_{2K}^{2} - h_{2}^{2} n_{3K}^{2} + 6 h_{2} h_{3} n_{2K} n_{3K} - h_{3}^{2} n_{1K}^{2} - h_{3}^{2} n_{2K}^{2} + 2 h_{3}^{2} n_{3K}^{2}\\right) \\left(24 \\lambda^{\\frac{15}{2}} \\left(h^{2}\\right)^{\\frac{3}{2}} {\\cal F}^{(2)}\\left(h, \\lambda\\right) + 16 \\lambda^{\\frac{13}{2}} h^{2} \\left(h^{2}\\right)^{\\frac{3}{2}} {\\cal F}^{(2)}\\left(h, \\lambda\\right) + 6 \\lambda^{\\frac{13}{2}} \\left(h^{2}\\right)^{\\frac{3}{2}} {\\cal F}^{(2)}\\left(h, \\lambda\\right) + 8 \\lambda^{\\frac{11}{2}} h^{4} \\left(h^{2}\\right)^{\\frac{3}{2}} {\\cal F}^{(2)}\\left(h, \\lambda\\right) + 6 \\lambda^{\\frac{11}{2}} h^{2} \\left(h^{2}\\right)^{\\frac{3}{2}} {\\cal F}^{(2)}\\left(h, \\lambda\\right) + 6 \\lambda^{\\frac{9}{2}} h^{4} \\left(h^{2}\\right)^{\\frac{3}{2}} {\\cal F}^{(2)}\\left(h, \\lambda\\right) - 2 \\lambda^{\\frac{7}{2}} h^{6} \\left(h^{2}\\right)^{\\frac{3}{2}} {\\cal F}^{(2)}\\left(h, \\lambda\\right) + 6 \\sqrt{2} \\lambda^{7} h^{4} {\\cal E}_{}\\left(h, \\lambda\\right) - 6 \\sqrt{2} \\lambda^{7} h^{4} {\\cal E}_{12}\\left(h, \\lambda\\right) - 6 \\sqrt{2} \\lambda^{7} \\left(h^{2}\\right)^{\\frac{3}{2}} {\\cal E}_{1}\\left(h, \\lambda\\right) + 2 \\sqrt{2} \\lambda^{6} h^{6} {\\cal E}_{}\\left(h, \\lambda\\right) - 2 \\sqrt{2} \\lambda^{6} h^{6} {\\cal E}_{12}\\left(h, \\lambda\\right) - 3 \\sqrt{2} \\lambda^{6} h^{4} {\\cal E}_{12}\\left(h, \\lambda\\right) - 2 \\sqrt{2} \\lambda^{5} h^{6} {\\cal E}_{12}\\left(h, \\lambda\\right) - 2 \\sqrt{2} \\lambda^{5} h^{4} \\left(h^{2}\\right)^{\\frac{3}{2}} {\\cal E}_{1}\\left(h, \\lambda\\right) + \\sqrt{2} \\lambda^{4} h^{8} {\\cal E}_{12}\\left(h, \\lambda\\right)\\right)}{32 \\lambda^{\\frac{15}{2}} h^{4} \\left(h^{2}\\right)^{\\frac{3}{2}} {\\cal F}^{(2)}\\left(h, \\lambda\\right)}$"
      ],
      "text/plain": [
       "-(2*h_1**2*n_{1K}**2 - h_1**2*n_{2K}**2 - h_1**2*n_{3K}**2 + 6*h_1*h_2*n_{1K}*n_{2K} + 6*h_1*h_3*n_{1K}*n_{3K} - h_2**2*n_{1K}**2 + 2*h_2**2*n_{2K}**2 - h_2**2*n_{3K}**2 + 6*h_2*h_3*n_{2K}*n_{3K} - h_3**2*n_{1K}**2 - h_3**2*n_{2K}**2 + 2*h_3**2*n_{3K}**2)*(24*\\lambda**(15/2)*(h**2)**(3/2)*cF2_symmetrical(h, \\lambda) + 16*\\lambda**(13/2)*h**2*(h**2)**(3/2)*cF2_symmetrical(h, \\lambda) + 6*\\lambda**(13/2)*(h**2)**(3/2)*cF2_symmetrical(h, \\lambda) + 8*\\lambda**(11/2)*h**4*(h**2)**(3/2)*cF2_symmetrical(h, \\lambda) + 6*\\lambda**(11/2)*h**2*(h**2)**(3/2)*cF2_symmetrical(h, \\lambda) + 6*\\lambda**(9/2)*h**4*(h**2)**(3/2)*cF2_symmetrical(h, \\lambda) - 2*\\lambda**(7/2)*h**6*(h**2)**(3/2)*cF2_symmetrical(h, \\lambda) + 6*sqrt(2)*\\lambda**7*h**4*E_symmetrical(h, \\lambda, 0, 0) - 6*sqrt(2)*\\lambda**7*h**4*E_symmetrical(h, \\lambda, 1, 1) - 6*sqrt(2)*\\lambda**7*(h**2)**(3/2)*E_symmetrical(h, \\lambda, 1, 0) + 2*sqrt(2)*\\lambda**6*h**6*E_symmetrical(h, \\lambda, 0, 0) - 2*sqrt(2)*\\lambda**6*h**6*E_symmetrical(h, \\lambda, 1, 1) - 3*sqrt(2)*\\lambda**6*h**4*E_symmetrical(h, \\lambda, 1, 1) - 2*sqrt(2)*\\lambda**5*h**6*E_symmetrical(h, \\lambda, 1, 1) - 2*sqrt(2)*\\lambda**5*h**4*(h**2)**(3/2)*E_symmetrical(h, \\lambda, 1, 0) + sqrt(2)*\\lambda**4*h**8*E_symmetrical(h, \\lambda, 1, 1))/(32*\\lambda**(15/2)*h**4*(h**2)**(3/2)*cF2_symmetrical(h, \\lambda))"
      ]
     },
     "execution_count": 82,
     "metadata": {},
     "output_type": "execute_result"
    }
   ],
   "source": [
    "expr_psi"
   ]
  },
  {
   "cell_type": "code",
   "execution_count": 83,
   "metadata": {},
   "outputs": [
    {
     "name": "stdout",
     "output_type": "stream",
     "text": [
      "-0.015561919331182525\n",
      "-0.015562017789831378\n",
      "-0.015359404914857131\n"
     ]
    }
   ],
   "source": [
    "h, l = Z2sym.h, Z2sym.l\n",
    "f_expr_psi = sp.lambdify((vhi, vhj, vh3, nk1, nk2, nk3, h, l), expr_psi, Z2sym.num_module_norm)\n",
    "\n",
    "h, l = 1.4, 1.6\n",
    "vh = np.asarray([0, 0, h])\n",
    "nk = np.asarray([0, 1, 1.])\n",
    "nk /= np.linalg.norm(nk)\n",
    "\n",
    "print(f_expr_psi(*vh, *nk, h, l))\n",
    "\n",
    "z2 = calc_Z2_symmetrical_integrate((h, l))\n",
    "\n",
    "hessian = nd.Hessian(lambda args: calc_Z2_symmetrical_with_nk_integrate(h, l, *args, nk))((0, 0))\n",
    "hessdiag_l = nd.Derivative(lambda l: nd.Hessdiag(lambda args: calc_Z2_symmetrical_with_nk_integrate(h, l, *args, nk))((0, 0)))(l)\n",
    "\n",
    "psi = hessdiag_l[0]/z2-hessian[0, 1]/z2\n",
    "print(psi)\n",
    "\n",
    "z2 = Z2num.calc_from_coeffs_symmetrical(h, l)\n",
    "print((1-z2.eta)*z2.m**3*(0.46134-1.3836*(vh/np.linalg.norm(vh)).dot(nk)**2))"
   ]
  }
 ],
 "metadata": {
  "kernelspec": {
   "display_name": "3.11.2",
   "language": "python",
   "name": "python3"
  },
  "language_info": {
   "codemirror_mode": {
    "name": "ipython",
    "version": 3
   },
   "file_extension": ".py",
   "mimetype": "text/x-python",
   "name": "python",
   "nbconvert_exporter": "python",
   "pygments_lexer": "ipython3",
   "version": "3.11.2"
  }
 },
 "nbformat": 4,
 "nbformat_minor": 2
}
