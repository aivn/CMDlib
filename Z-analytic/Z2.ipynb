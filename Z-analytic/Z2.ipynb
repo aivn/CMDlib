{
 "cells": [
  {
   "cell_type": "code",
   "execution_count": 1,
   "metadata": {},
   "outputs": [],
   "source": [
    "import sys\n",
    "sys.path.append(\"python/\")\n",
    "\n",
    "import sympy as sp\n",
    "import numdifftools as nd\n",
    "import numpy as np\n",
    "import scipy.optimize as opt\n",
    "\n",
    "import datlib\n",
    "import symbase\n",
    "import Z2num\n",
    "import Z2sym"
   ]
  },
  {
   "cell_type": "markdown",
   "metadata": {},
   "source": [
    "# Ферромагнетик в симметричном случае"
   ]
  },
  {
   "cell_type": "markdown",
   "metadata": {},
   "source": [
    "## Выражение для $Z^{(2)}$"
   ]
  },
  {
   "cell_type": "markdown",
   "metadata": {},
   "source": [
    "### Интеграл"
   ]
  },
  {
   "cell_type": "code",
   "execution_count": 2,
   "metadata": {},
   "outputs": [],
   "source": [
    "h, l = Z2sym.h, Z2sym.l\n",
    "s1, s2 = symbase.SigmaSymbol(\"\\\\sigma_1\"), symbase.SigmaSymbol(\"\\\\sigma_2\")\n",
    "t, u = sp.symbols(\"t u\")"
   ]
  },
  {
   "cell_type": "code",
   "execution_count": 3,
   "metadata": {},
   "outputs": [
    {
     "data": {
      "text/latex": [
       "$\\displaystyle \\sqrt{2} \\sqrt{\\lambda} e^{- \\frac{\\lambda}{2}} \\int\\limits_{\\frac{\\sqrt{2} \\sigma_1 \\sqrt{\\lambda}}{2}}^{\\frac{\\sqrt{2} \\left(\\sigma_1 \\lambda + \\sigma_2 \\lambda + h\\right)}{2 \\sqrt{\\lambda}}} e^{t^{2}}\\, dt$"
      ],
      "text/plain": [
       "sqrt(2)*sqrt(\\lambda)*exp(-\\lambda/2)*Integral(exp(t**2), (t, sqrt(2)*\\sigma_1*sqrt(\\lambda)/2, sqrt(2)*(\\sigma_1*\\lambda + \\sigma_2*\\lambda + h)/(2*sqrt(\\lambda))))"
      ]
     },
     "metadata": {},
     "output_type": "display_data"
    },
    {
     "data": {
      "text/latex": [
       "$\\displaystyle \\sqrt{2} \\sqrt{\\lambda} e^{\\sigma_1 h} e^{\\sigma_2 h} e^{\\sigma_1 \\sigma_2 \\lambda}$"
      ],
      "text/plain": [
       "sqrt(2)*sqrt(\\lambda)*exp(\\sigma_1*h)*exp(\\sigma_2*h)*exp(\\sigma_1*\\sigma_2*\\lambda)"
      ]
     },
     "execution_count": 3,
     "metadata": {},
     "output_type": "execute_result"
    }
   ],
   "source": [
    "expr = sp.Integral(sp.exp(t**2/(2*l) + s1*t), (t, 0, h+s2*l))\n",
    "expr = expr.transform(t, (t-s1*l, t)).expand()\n",
    "expr = expr.transform(t, (t*sp.sqrt(2*l), t)).factor()\n",
    "display(expr)\n",
    "\n",
    "expr = expr.replace(sp.Integral, lambda *args: sp.exp(args[1][2]**2)).expand()\n",
    "expr = expr*sp.exp(-(h**2+l**2)/(2*l))\n",
    "expr.expand()"
   ]
  },
  {
   "cell_type": "markdown",
   "metadata": {},
   "source": [
    "### Производные $\\cal{F}^{(2)}$"
   ]
  },
  {
   "cell_type": "code",
   "execution_count": 4,
   "metadata": {},
   "outputs": [
    {
     "data": {
      "text/plain": [
       "{exp(\\sigma_1*h)*exp(\\sigma_2*h)*exp(\\sigma_1*\\sigma_2*\\lambda)*F2(sqrt(2)*\\sigma_1*sqrt(\\lambda)/2 + sqrt(2)*\\sigma_2*sqrt(\\lambda)/2 + sqrt(2)*h/(2*sqrt(\\lambda))): {(1,\n",
       "   1): (-2*\\lambda**2 + h**2)/(2*\\lambda**2)},\n",
       " exp(\\sigma_1*h)*exp(\\sigma_2*h)*exp(\\sigma_1*\\sigma_2*\\lambda): {(0,\n",
       "   1): sqrt(2)/(4*sqrt(\\lambda)),\n",
       "  (1, 0): sqrt(2)/(4*sqrt(\\lambda)),\n",
       "  (1, 1): -sqrt(2)*h/(4*\\lambda**(3/2))}}"
      ]
     },
     "execution_count": 4,
     "metadata": {},
     "output_type": "execute_result"
    }
   ],
   "source": [
    "expr = s1*s2*Z2sym._sigmas_expr_E_symmetrical*Z2sym._sigmas_expr_cF2_symmetrical\n",
    "expr = expr.diff(l).expand()\n",
    "symbase.collect_sigmas(expr, Z2sym._sigmas_terms_symmetrical, [s1, s2])"
   ]
  },
  {
   "cell_type": "code",
   "execution_count": 5,
   "metadata": {},
   "outputs": [
    {
     "data": {
      "text/latex": [
       "$\\displaystyle 2 e^{\\lambda} e^{2 h} - 2 e^{\\lambda} e^{- 2 h}$"
      ],
      "text/plain": [
       "2*exp(\\lambda)*exp(2*h) - 2*exp(\\lambda)*exp(-2*h)"
      ]
     },
     "metadata": {},
     "output_type": "display_data"
    },
    {
     "data": {
      "text/latex": [
       "$\\displaystyle 2 e^{\\lambda} e^{2 h} - 2 e^{\\lambda} e^{- 2 h}$"
      ],
      "text/plain": [
       "2*exp(\\lambda)*exp(2*h) - 2*exp(\\lambda)*exp(-2*h)"
      ]
     },
     "metadata": {},
     "output_type": "display_data"
    }
   ],
   "source": [
    "display(Z2sym.E_symmetrical(h, l, 1, 1).diff(h).rewrite(sp.exp))\n",
    "display(Z2sym.E_symmetrical(h, l, 1, 1).rewrite(sp.exp).diff(h))"
   ]
  },
  {
   "cell_type": "code",
   "execution_count": 6,
   "metadata": {},
   "outputs": [
    {
     "data": {
      "text/latex": [
       "$\\displaystyle - e^{\\lambda} e^{2 h} F^{(2)}\\left(\\sqrt{2} \\sqrt{\\lambda} + \\frac{\\sqrt{2} h}{2 \\sqrt{\\lambda}}\\right) + e^{\\lambda} e^{- 2 h} F^{(2)}\\left(\\sqrt{2} \\sqrt{\\lambda} - \\frac{\\sqrt{2} h}{2 \\sqrt{\\lambda}}\\right) + 2 e^{- \\lambda} F^{(2)}\\left(\\frac{\\sqrt{2} h}{2 \\sqrt{\\lambda}}\\right) + \\frac{h^{2} e^{\\lambda} e^{2 h} F^{(2)}\\left(\\sqrt{2} \\sqrt{\\lambda} + \\frac{\\sqrt{2} h}{2 \\sqrt{\\lambda}}\\right)}{2 \\lambda^{2}} - \\frac{h^{2} e^{\\lambda} e^{- 2 h} F^{(2)}\\left(\\sqrt{2} \\sqrt{\\lambda} - \\frac{\\sqrt{2} h}{2 \\sqrt{\\lambda}}\\right)}{2 \\lambda^{2}} - \\frac{h^{2} e^{- \\lambda} F^{(2)}\\left(\\frac{\\sqrt{2} h}{2 \\sqrt{\\lambda}}\\right)}{\\lambda^{2}} + \\frac{\\sqrt{2} e^{\\lambda} e^{2 h}}{2 \\sqrt{\\lambda}} - \\frac{\\sqrt{2} e^{\\lambda} e^{- 2 h}}{2 \\sqrt{\\lambda}} - \\frac{\\sqrt{2} h e^{\\lambda} e^{2 h}}{4 \\lambda^{\\frac{3}{2}}} - \\frac{\\sqrt{2} h e^{\\lambda} e^{- 2 h}}{4 \\lambda^{\\frac{3}{2}}} + \\frac{\\sqrt{2} h e^{- \\lambda}}{2 \\lambda^{\\frac{3}{2}}}$"
      ],
      "text/plain": [
       "-exp(\\lambda)*exp(2*h)*F2(sqrt(2)*sqrt(\\lambda) + sqrt(2)*h/(2*sqrt(\\lambda))) + exp(\\lambda)*exp(-2*h)*F2(sqrt(2)*sqrt(\\lambda) - sqrt(2)*h/(2*sqrt(\\lambda))) + 2*exp(-\\lambda)*F2(sqrt(2)*h/(2*sqrt(\\lambda))) + h**2*exp(\\lambda)*exp(2*h)*F2(sqrt(2)*sqrt(\\lambda) + sqrt(2)*h/(2*sqrt(\\lambda)))/(2*\\lambda**2) - h**2*exp(\\lambda)*exp(-2*h)*F2(sqrt(2)*sqrt(\\lambda) - sqrt(2)*h/(2*sqrt(\\lambda)))/(2*\\lambda**2) - h**2*exp(-\\lambda)*F2(sqrt(2)*h/(2*sqrt(\\lambda)))/\\lambda**2 + sqrt(2)*exp(\\lambda)*exp(2*h)/(2*sqrt(\\lambda)) - sqrt(2)*exp(\\lambda)*exp(-2*h)/(2*sqrt(\\lambda)) - sqrt(2)*h*exp(\\lambda)*exp(2*h)/(4*\\lambda**(3/2)) - sqrt(2)*h*exp(\\lambda)*exp(-2*h)/(4*\\lambda**(3/2)) + sqrt(2)*h*exp(-\\lambda)/(2*\\lambda**(3/2))"
      ]
     },
     "metadata": {},
     "output_type": "display_data"
    },
    {
     "data": {
      "text/latex": [
       "$\\displaystyle - e^{\\lambda} e^{2 h} F^{(2)}\\left(\\sqrt{2} \\sqrt{\\lambda} + \\frac{\\sqrt{2} h}{2 \\sqrt{\\lambda}}\\right) + e^{\\lambda} e^{- 2 h} F^{(2)}\\left(\\sqrt{2} \\sqrt{\\lambda} - \\frac{\\sqrt{2} h}{2 \\sqrt{\\lambda}}\\right) + 2 e^{- \\lambda} F^{(2)}\\left(\\frac{\\sqrt{2} h}{2 \\sqrt{\\lambda}}\\right) + \\frac{h^{2} e^{\\lambda} e^{2 h} F^{(2)}\\left(\\sqrt{2} \\sqrt{\\lambda} + \\frac{\\sqrt{2} h}{2 \\sqrt{\\lambda}}\\right)}{2 \\lambda^{2}} - \\frac{h^{2} e^{\\lambda} e^{- 2 h} F^{(2)}\\left(\\sqrt{2} \\sqrt{\\lambda} - \\frac{\\sqrt{2} h}{2 \\sqrt{\\lambda}}\\right)}{2 \\lambda^{2}} - \\frac{h^{2} e^{- \\lambda} F^{(2)}\\left(\\frac{\\sqrt{2} h}{2 \\sqrt{\\lambda}}\\right)}{\\lambda^{2}} + \\frac{\\sqrt{2} e^{\\lambda} e^{2 h}}{2 \\sqrt{\\lambda}} - \\frac{\\sqrt{2} e^{\\lambda} e^{- 2 h}}{2 \\sqrt{\\lambda}} - \\frac{\\sqrt{2} h e^{\\lambda} e^{2 h}}{4 \\lambda^{\\frac{3}{2}}} - \\frac{\\sqrt{2} h e^{\\lambda} e^{- 2 h}}{4 \\lambda^{\\frac{3}{2}}} + \\frac{\\sqrt{2} h e^{- \\lambda}}{2 \\lambda^{\\frac{3}{2}}}$"
      ],
      "text/plain": [
       "-exp(\\lambda)*exp(2*h)*F2(sqrt(2)*sqrt(\\lambda) + sqrt(2)*h/(2*sqrt(\\lambda))) + exp(\\lambda)*exp(-2*h)*F2(sqrt(2)*sqrt(\\lambda) - sqrt(2)*h/(2*sqrt(\\lambda))) + 2*exp(-\\lambda)*F2(sqrt(2)*h/(2*sqrt(\\lambda))) + h**2*exp(\\lambda)*exp(2*h)*F2(sqrt(2)*sqrt(\\lambda) + sqrt(2)*h/(2*sqrt(\\lambda)))/(2*\\lambda**2) - h**2*exp(\\lambda)*exp(-2*h)*F2(sqrt(2)*sqrt(\\lambda) - sqrt(2)*h/(2*sqrt(\\lambda)))/(2*\\lambda**2) - h**2*exp(-\\lambda)*F2(sqrt(2)*h/(2*sqrt(\\lambda)))/\\lambda**2 + sqrt(2)*exp(\\lambda)*exp(2*h)/(2*sqrt(\\lambda)) - sqrt(2)*exp(\\lambda)*exp(-2*h)/(2*sqrt(\\lambda)) - sqrt(2)*h*exp(\\lambda)*exp(2*h)/(4*\\lambda**(3/2)) - sqrt(2)*h*exp(\\lambda)*exp(-2*h)/(4*\\lambda**(3/2)) + sqrt(2)*h*exp(-\\lambda)/(2*\\lambda**(3/2))"
      ]
     },
     "metadata": {},
     "output_type": "display_data"
    }
   ],
   "source": [
    "display(Z2sym.cF2_symmetrical(h, l).diff(l).rewrite(sp.exp).expand())\n",
    "display(Z2sym.cF2_symmetrical(h, l).rewrite(sp.exp).diff(l).expand())"
   ]
  },
  {
   "cell_type": "markdown",
   "metadata": {},
   "source": [
    "### Численная проверка"
   ]
  },
  {
   "cell_type": "code",
   "execution_count": 7,
   "metadata": {},
   "outputs": [
    {
     "name": "stdout",
     "output_type": "stream",
     "text": [
      "11.129141015312976\n",
      "11.129142009015116\n"
     ]
    }
   ],
   "source": [
    "h, l = 1, 1.4\n",
    "print(Z2num.calc_Z2_integrate(0, h, h, l)*np.exp(-2*h-l))\n",
    "print(Z2num.calc_from_coeffs_symmetrical(h, l).Z2_norm)"
   ]
  },
  {
   "cell_type": "code",
   "execution_count": 8,
   "metadata": {},
   "outputs": [
    {
     "name": "stdout",
     "output_type": "stream",
     "text": [
      "18.342584883167927\n",
      "18.3425941684832\n",
      "\n",
      "8.179230830337767\n",
      "8.179237578451808\n"
     ]
    }
   ],
   "source": [
    "h, l = Z2sym.h, Z2sym.l\n",
    "cF2_diff_h = sp.lambdify((h, l), Z2sym.cF2_symmetrical(h, l).diff(h), Z2sym.num_module)\n",
    "cF2_diff_l = sp.lambdify((h, l), Z2sym.cF2_symmetrical(h, l).diff(l), Z2sym.num_module)\n",
    "\n",
    "args = 1, 1.8\n",
    "gradient = nd.Gradient(lambda args: Z2num.cF2_symmetrical(*args))(args)\n",
    "print(gradient[0])\n",
    "print(cF2_diff_h(*args))\n",
    "print()\n",
    "print(gradient[1])\n",
    "print(cF2_diff_l(*args))"
   ]
  },
  {
   "cell_type": "code",
   "execution_count": 9,
   "metadata": {},
   "outputs": [
    {
     "name": "stdout",
     "output_type": "stream",
     "text": [
      "87.76490748044182\n",
      "87.76490748044566\n",
      "\n",
      "45.850513022822085\n",
      "45.85051302282197\n"
     ]
    }
   ],
   "source": [
    "h, l = Z2sym.h, Z2sym.l\n",
    "sigmas_args = 1, 1\n",
    "E_diff_h = sp.lambdify((h, l), Z2sym.E_symmetrical(h, l, *sigmas_args).diff(h), Z2sym.num_module)\n",
    "E_diff_l = sp.lambdify((h, l), Z2sym.E_symmetrical(h, l, *sigmas_args).diff(l), Z2sym.num_module)\n",
    "\n",
    "args = 1, 1.8\n",
    "sigmas_args = list(map(bool, sigmas_args))\n",
    "\n",
    "gradient = nd.Gradient(lambda args: Z2num.E_symmetrical(*args, *sigmas_args))(args)\n",
    "\n",
    "print(gradient[0])\n",
    "print(E_diff_h(*args))\n",
    "print()\n",
    "print(gradient[1])\n",
    "print(E_diff_l(*args))"
   ]
  },
  {
   "cell_type": "markdown",
   "metadata": {},
   "source": [
    "## Моменты"
   ]
  },
  {
   "cell_type": "markdown",
   "metadata": {},
   "source": [
    "### Символьные вычисления"
   ]
  },
  {
   "cell_type": "code",
   "execution_count": 10,
   "metadata": {},
   "outputs": [],
   "source": [
    "h, l = Z2sym.h, Z2sym.l\n",
    "Z2_symmetrical = sp.sqrt(2)*(2*sp.pi)**2*Z2sym.cF2_symmetrical(h, l)/(h*sp.sqrt(l))"
   ]
  },
  {
   "cell_type": "code",
   "execution_count": 11,
   "metadata": {},
   "outputs": [
    {
     "data": {
      "text/latex": [
       "$\\displaystyle \\frac{4 \\sqrt{2} \\pi^{2} {\\cal F}^{(2)}\\left(h,\\lambda\\right)}{\\sqrt{\\lambda} h}$"
      ],
      "text/plain": [
       "4*sqrt(2)*pi**2*cF2_symmetrical(h, \\lambda)/(sqrt(\\lambda)*h)"
      ]
     },
     "execution_count": 11,
     "metadata": {},
     "output_type": "execute_result"
    }
   ],
   "source": [
    "m, eta = Z2sym.m, Z2sym.eta\n",
    "Z2 = Z2_symmetrical\n",
    "Z2"
   ]
  },
  {
   "cell_type": "code",
   "execution_count": 12,
   "metadata": {},
   "outputs": [
    {
     "data": {
      "text/latex": [
       "$\\displaystyle \\left<m\\right> = - \\frac{1}{2 h} - \\frac{h}{2 \\lambda} + \\frac{\\sqrt{2} {\\cal E}_{12}\\left(h, \\lambda\\right)}{4 \\sqrt{\\lambda} {\\cal F}^{(2)}\\left(h,\\lambda\\right)}$"
      ],
      "text/plain": [
       "Eq(\\left<m\\right>, -1/(2*h) - h/(2*\\lambda) + sqrt(2)*E_symmetrical(h, \\lambda, 1, 1)/(4*sqrt(\\lambda)*cF2_symmetrical(h, \\lambda)))"
      ]
     },
     "metadata": {},
     "output_type": "display_data"
    },
    {
     "name": "stdout",
     "output_type": "stream",
     "text": [
      "\\left<m\\right> = - \\frac{1}{2 h} - \\frac{h}{2 \\lambda} + \\frac{\\sqrt{2} {\\cal E}_{12}\\left(h, \\lambda\\right)}{4 \\sqrt{\\lambda} {\\cal F}^{(2)}\\left(h,\\lambda\\right)}\n"
     ]
    }
   ],
   "source": [
    "expr_m = sp.log(Z2).diff(h)/2\n",
    "expr_m = expr_m.expand()\n",
    "display(sp.Eq(m, expr_m))\n",
    "sp.print_latex(sp.Eq(m, expr_m))"
   ]
  },
  {
   "cell_type": "code",
   "execution_count": 13,
   "metadata": {},
   "outputs": [
    {
     "data": {
      "text/latex": [
       "$\\displaystyle \\left<\\eta\\right> = -1 - \\frac{1}{2 \\lambda} + \\frac{h^{2}}{2 \\lambda^{2}} + \\frac{\\sqrt{2} {\\cal E}_{1}\\left(h, \\lambda\\right)}{2 \\sqrt{\\lambda} {\\cal F}^{(2)}\\left(h,\\lambda\\right)} - \\frac{\\sqrt{2} h {\\cal E}_{12}\\left(h, \\lambda\\right)}{4 \\lambda^{\\frac{3}{2}} {\\cal F}^{(2)}\\left(h,\\lambda\\right)}$"
      ],
      "text/plain": [
       "Eq(\\left<\\eta\\right>, -1 - 1/(2*\\lambda) + h**2/(2*\\lambda**2) + sqrt(2)*E_symmetrical(h, \\lambda, 1, 0)/(2*sqrt(\\lambda)*cF2_symmetrical(h, \\lambda)) - sqrt(2)*h*E_symmetrical(h, \\lambda, 1, 1)/(4*\\lambda**(3/2)*cF2_symmetrical(h, \\lambda)))"
      ]
     },
     "metadata": {},
     "output_type": "display_data"
    },
    {
     "name": "stdout",
     "output_type": "stream",
     "text": [
      "\\left<\\eta\\right> = -1 - \\frac{1}{2 \\lambda} + \\frac{h^{2}}{2 \\lambda^{2}} + \\frac{\\sqrt{2} {\\cal E}_{1}\\left(h, \\lambda\\right)}{2 \\sqrt{\\lambda} {\\cal F}^{(2)}\\left(h,\\lambda\\right)} - \\frac{\\sqrt{2} h {\\cal E}_{12}\\left(h, \\lambda\\right)}{4 \\lambda^{\\frac{3}{2}} {\\cal F}^{(2)}\\left(h,\\lambda\\right)}\n"
     ]
    }
   ],
   "source": [
    "expr_eta = sp.log(Z2).diff(l)\n",
    "expr_eta = expr_eta.expand()\n",
    "display(sp.Eq(eta, expr_eta))\n",
    "sp.print_latex(sp.Eq(eta, expr_eta))"
   ]
  },
  {
   "cell_type": "code",
   "execution_count": 14,
   "metadata": {},
   "outputs": [
    {
     "data": {
      "text/latex": [
       "$\\displaystyle {\\cal F}^{(2)}\\left(h,\\lambda\\right) = \\frac{\\sqrt{2} \\sqrt{\\lambda} h {\\cal E}_{12}\\left(h, \\lambda\\right)}{2 \\left(2 \\lambda \\left<m\\right> h + \\lambda + h^{2}\\right)}$"
      ],
      "text/plain": [
       "Eq(cF2_symmetrical(h, \\lambda), sqrt(2)*sqrt(\\lambda)*h*E_symmetrical(h, \\lambda, 1, 1)/(2*(2*\\lambda*\\left<m\\right>*h + \\lambda + h**2)))"
      ]
     },
     "metadata": {},
     "output_type": "display_data"
    },
    {
     "name": "stdout",
     "output_type": "stream",
     "text": [
      "{\\cal F}^{(2)}\\left(h,\\lambda\\right) = \\frac{\\sqrt{2} \\sqrt{\\lambda} h {\\cal E}_{12}\\left(h, \\lambda\\right)}{2 \\left(2 \\lambda \\left<m\\right> h + \\lambda + h^{2}\\right)}\n"
     ]
    },
    {
     "data": {
      "text/latex": [
       "$\\displaystyle {\\cal F}^{(2)}\\left(h,\\lambda\\right) = \\frac{\\sqrt{2} \\sqrt{\\lambda} {\\cal E}_{1}\\left(h, \\lambda\\right)}{2 \\left(\\lambda \\left<\\eta\\right> + \\lambda + \\left<m\\right> h + 1\\right)}$"
      ],
      "text/plain": [
       "Eq(cF2_symmetrical(h, \\lambda), sqrt(2)*sqrt(\\lambda)*E_symmetrical(h, \\lambda, 1, 0)/(2*(\\lambda*\\left<\\eta\\right> + \\lambda + \\left<m\\right>*h + 1)))"
      ]
     },
     "metadata": {},
     "output_type": "display_data"
    },
    {
     "name": "stdout",
     "output_type": "stream",
     "text": [
      "{\\cal F}^{(2)}\\left(h,\\lambda\\right) = \\frac{\\sqrt{2} \\sqrt{\\lambda} {\\cal E}_{1}\\left(h, \\lambda\\right)}{2 \\left(\\lambda \\left<\\eta\\right> + \\lambda + \\left<m\\right> h + 1\\right)}\n"
     ]
    }
   ],
   "source": [
    "_E12, _E1 = Z2sym.E_symmetrical(h, l, 1, 1), Z2sym.E_symmetrical(h, l, 1, 0)\n",
    "_E12_E1 = sp.solve([m-expr_m, eta-expr_eta], _E12, _E1)\n",
    "_expr_E12 = _E12_E1[_E12].factor()\n",
    "_expr_E1 = _E12_E1[_E1].factor()\n",
    "\n",
    "_expr_cF2_1 = sp.solve(_E12-_expr_E12, Z2sym.cF2_symmetrical(h, l))[0]\n",
    "_expr_cF2_2 = sp.solve(_E1-_expr_E1, Z2sym.cF2_symmetrical(h, l))[0]\n",
    "\n",
    "display(sp.Eq(Z2sym.cF2_symmetrical(h, l), _expr_cF2_1))\n",
    "sp.print_latex(sp.Eq(Z2sym.cF2_symmetrical(h, l), _expr_cF2_1))\n",
    "display(sp.Eq(Z2sym.cF2_symmetrical(h, l), _expr_cF2_2))\n",
    "sp.print_latex(sp.Eq(Z2sym.cF2_symmetrical(h, l), _expr_cF2_2))\n"
   ]
  },
  {
   "cell_type": "code",
   "execution_count": 15,
   "metadata": {},
   "outputs": [],
   "source": [
    "subs_to_m_and_eta_symmetrical = {\n",
    "    Z2sym.E_symmetrical(h, l, 1, 1): _expr_E12,\n",
    "    Z2sym.E_symmetrical(h, l, 1, 0): _expr_E1,\n",
    "    Z2sym.cF2_symmetrical(h, l): _expr_cF2_1\n",
    "}\n",
    "subs_to_m_and_eta = subs_to_m_and_eta_symmetrical"
   ]
  },
  {
   "cell_type": "code",
   "execution_count": 16,
   "metadata": {},
   "outputs": [
    {
     "data": {
      "text/latex": [
       "$\\displaystyle \\frac{\\left<\\eta\\right> \\left(- 3 \\lambda + h^{2}\\right)}{2 \\lambda^{2}} + \\frac{\\left<m\\right> h \\left(\\lambda + 1\\right)}{\\lambda^{2}} + \\frac{2 \\lambda^{2} + 1}{2 \\lambda^{2}} - \\frac{\\left(2 \\lambda \\left<m\\right> h + \\lambda + h^{2}\\right) {\\cal E}_{}\\left(h, \\lambda\\right)}{2 \\lambda^{2} {\\cal E}_{12}\\left(h, \\lambda\\right)}$"
      ],
      "text/plain": [
       "\\left<\\eta\\right>*(-3*\\lambda + h**2)/(2*\\lambda**2) + \\left<m\\right>*h*(\\lambda + 1)/\\lambda**2 + (2*\\lambda**2 + 1)/(2*\\lambda**2) - (2*\\lambda*\\left<m\\right>*h + \\lambda + h**2)*E_symmetrical(h, \\lambda, 0, 0)/(2*\\lambda**2*E_symmetrical(h, \\lambda, 1, 1))"
      ]
     },
     "metadata": {},
     "output_type": "display_data"
    },
    {
     "name": "stdout",
     "output_type": "stream",
     "text": [
      "\\frac{\\left<\\eta\\right> \\left(- 3 \\lambda + h^{2}\\right)}{2 \\lambda^{2}} + \\frac{\\left<m\\right> h \\left(\\lambda + 1\\right)}{\\lambda^{2}} + \\frac{2 \\lambda^{2} + 1}{2 \\lambda^{2}} - \\frac{\\left(2 \\lambda \\left<m\\right> h + \\lambda + h^{2}\\right) {\\cal E}_{}\\left(h, \\lambda\\right)}{2 \\lambda^{2} {\\cal E}_{12}\\left(h, \\lambda\\right)}\n"
     ]
    }
   ],
   "source": [
    "expr_eta2 = Z2.diff(l, 2)/Z2\n",
    "expr_eta2 = expr_eta2.expand()\n",
    "\n",
    "expr = expr_eta2.subs(subs_to_m_and_eta).expand()\n",
    "expr = expr.collect([Z2sym.E_symmetrical(h, l, 0, 0)/Z2sym.E_symmetrical(h, l, 1, 1), m, eta], sp.factor)\n",
    "display(expr)\n",
    "sp.print_latex(expr)"
   ]
  },
  {
   "cell_type": "code",
   "execution_count": 17,
   "metadata": {},
   "outputs": [
    {
     "data": {
      "text/latex": [
       "$\\displaystyle - \\frac{\\left<\\eta\\right> \\left(\\lambda + h^{2}\\right)}{2 \\lambda h} - \\frac{\\left<m\\right>}{\\lambda} + \\frac{\\left(2 \\lambda \\left<m\\right> h + \\lambda + h^{2}\\right) {\\cal E}_{}\\left(h, \\lambda\\right)}{2 \\lambda h {\\cal E}_{12}\\left(h, \\lambda\\right)} - \\frac{1}{2 \\lambda h}$"
      ],
      "text/plain": [
       "-\\left<\\eta\\right>*(\\lambda + h**2)/(2*\\lambda*h) - \\left<m\\right>/\\lambda + (2*\\lambda*\\left<m\\right>*h + \\lambda + h**2)*E_symmetrical(h, \\lambda, 0, 0)/(2*\\lambda*h*E_symmetrical(h, \\lambda, 1, 1)) - 1/(2*\\lambda*h)"
      ]
     },
     "metadata": {},
     "output_type": "display_data"
    },
    {
     "name": "stdout",
     "output_type": "stream",
     "text": [
      "- \\frac{\\left<\\eta\\right> \\left(\\lambda + h^{2}\\right)}{2 \\lambda h} - \\frac{\\left<m\\right>}{\\lambda} + \\frac{\\left(2 \\lambda \\left<m\\right> h + \\lambda + h^{2}\\right) {\\cal E}_{}\\left(h, \\lambda\\right)}{2 \\lambda h {\\cal E}_{12}\\left(h, \\lambda\\right)} - \\frac{1}{2 \\lambda h}\n"
     ]
    }
   ],
   "source": [
    "expr_m_eta = Z2.diff(h, l)/(2*Z2)\n",
    "expr_m_eta = expr_m_eta.expand()\n",
    "\n",
    "expr = expr_m_eta.subs(subs_to_m_and_eta).expand()\n",
    "expr = expr.collect([Z2sym.E_symmetrical(h, l, 0, 0)/Z2sym.E_symmetrical(h, l, 1, 1), m, eta], sp.factor)\n",
    "display(expr)\n",
    "sp.print_latex(expr)"
   ]
  },
  {
   "cell_type": "code",
   "execution_count": 18,
   "metadata": {},
   "outputs": [],
   "source": [
    "_E = Z2sym.E_symmetrical(h, l, 0, 0)/Z2sym.E_symmetrical(h, l, 1, 1)\n",
    "subs_to_m_eta_symmetrical = {\n",
    "    _E: sp.solve(expr_m_eta.subs(subs_to_m_and_eta)-Z2sym.m_eta, _E)[0]\n",
    "}\n",
    "subs_to_m_eta = subs_to_m_eta_symmetrical"
   ]
  },
  {
   "cell_type": "code",
   "execution_count": 19,
   "metadata": {},
   "outputs": [],
   "source": [
    "subs_to_upsilon = {Z2sym.m_eta: m*(1-2*Z2sym.upsilon)}"
   ]
  },
  {
   "cell_type": "code",
   "execution_count": 20,
   "metadata": {},
   "outputs": [
    {
     "data": {
      "text/latex": [
       "$\\displaystyle \\frac{\\lambda \\left({\\left<\\eta^2\\right>} - 1\\right)}{2} = \\Upsilon \\left<m\\right> h - \\left<\\eta\\right>$"
      ],
      "text/plain": [
       "Eq(\\lambda*({\\left<\\eta^2\\right>} - 1)/2, \\Upsilon*\\left<m\\right>*h - \\left<\\eta\\right>)"
      ]
     },
     "metadata": {},
     "output_type": "display_data"
    },
    {
     "name": "stdout",
     "output_type": "stream",
     "text": [
      "\\frac{\\lambda \\left({\\left<\\eta^2\\right>} - 1\\right)}{2} = \\Upsilon \\left<m\\right> h - \\left<\\eta\\right>\n"
     ]
    }
   ],
   "source": [
    "expr = expr_eta2.subs(subs_to_m_and_eta).subs(subs_to_m_eta).expand()\n",
    "subs_to_eta2 = {l: sp.solve(expr-Z2sym.eta2, l)[0]}\n",
    "expr = sp.Eq(l/2*(Z2sym.eta2-1), sp.expand(l/2*(expr.subs(subs_to_upsilon)-1)))\n",
    "\n",
    "display(expr)\n",
    "sp.print_latex(expr)"
   ]
  },
  {
   "cell_type": "code",
   "execution_count": 21,
   "metadata": {},
   "outputs": [
    {
     "data": {
      "text/latex": [
       "$\\displaystyle \\frac{d}{d h} \\left<m\\right> = \\left<\\eta\\right> - 2 \\left<m\\right>^{2} - \\frac{2 \\left<m\\right>}{h} + 1$"
      ],
      "text/plain": [
       "Eq(Derivative(\\left<m\\right>, h), \\left<\\eta\\right> - 2*\\left<m\\right>**2 - 2*\\left<m\\right>/h + 1)"
      ]
     },
     "metadata": {},
     "output_type": "display_data"
    },
    {
     "data": {
      "text/latex": [
       "$\\displaystyle \\frac{d}{d \\lambda} \\left<m\\right> = - \\left<\\eta\\right> \\left<m\\right> + {\\left<m\\eta\\right>}$"
      ],
      "text/plain": [
       "Eq(Derivative(\\left<m\\right>, \\lambda), -\\left<\\eta\\right>*\\left<m\\right> + {\\left<m\\eta\\right>})"
      ]
     },
     "metadata": {},
     "output_type": "display_data"
    },
    {
     "data": {
      "text/latex": [
       "$\\displaystyle \\frac{d}{d h} \\left<\\eta\\right> = - 2 \\left<\\eta\\right> \\left<m\\right> + 2 {\\left<m\\eta\\right>}$"
      ],
      "text/plain": [
       "Eq(Derivative(\\left<\\eta\\right>, h), -2*\\left<\\eta\\right>*\\left<m\\right> + 2*{\\left<m\\eta\\right>})"
      ]
     },
     "metadata": {},
     "output_type": "display_data"
    },
    {
     "data": {
      "text/latex": [
       "$\\displaystyle \\frac{d}{d \\lambda} \\left<\\eta\\right> = - \\left<\\eta\\right>^{2} + {\\left<\\eta^2\\right>}$"
      ],
      "text/plain": [
       "Eq(Derivative(\\left<\\eta\\right>, \\lambda), -\\left<\\eta\\right>**2 + {\\left<\\eta^2\\right>})"
      ]
     },
     "metadata": {},
     "output_type": "display_data"
    }
   ],
   "source": [
    "for moment, expr_moment in zip([m, eta], [expr_m, expr_eta]):\n",
    "    for arg in [h, l]:\n",
    "        expr = expr_moment.diff(arg).expand().subs(subs_to_m_and_eta).expand()\n",
    "        expr = expr.subs(subs_to_m_eta).factor().expand()\n",
    "        expr = expr.subs(subs_to_eta2).factor().expand()\n",
    "        display(sp.Eq(sp.Derivative(moment, arg), expr))"
   ]
  },
  {
   "cell_type": "markdown",
   "metadata": {},
   "source": [
    "### Численная проверка"
   ]
  },
  {
   "cell_type": "code",
   "execution_count": 22,
   "metadata": {},
   "outputs": [],
   "source": [
    "def Z2_symmetrical_integrate(args):\n",
    "    h, l = args\n",
    "    return Z2num.calc_Z2_integrate(0, h, h, l)"
   ]
  },
  {
   "cell_type": "code",
   "execution_count": 23,
   "metadata": {},
   "outputs": [
    {
     "name": "stdout",
     "output_type": "stream",
     "text": [
      "0.8371722011551646\n",
      "0.8371718561570379\n",
      "0.8371718561570379\n",
      "\n",
      "0.8546061112004999\n",
      "0.8546056972028968\n",
      "0.8546056972028968\n"
     ]
    }
   ],
   "source": [
    "f_expr_m = sp.lambdify((h, l), expr_m, Z2sym.num_module_norm)\n",
    "f_expr_eta = sp.lambdify((h, l), expr_eta, Z2sym.num_module_norm)\n",
    "\n",
    "args = 4, 5\n",
    "moments = nd.Gradient(Z2_symmetrical_integrate)(args)/Z2_symmetrical_integrate(args)\n",
    "z2 = Z2num.calc_from_coeffs_symmetrical(*args)\n",
    "\n",
    "print(moments[0]/2)\n",
    "print(f_expr_m(*args))\n",
    "print(z2.m)\n",
    "print()\n",
    "print(moments[1])\n",
    "print(f_expr_eta(*args))\n",
    "print(z2.eta)"
   ]
  },
  {
   "cell_type": "code",
   "execution_count": 24,
   "metadata": {},
   "outputs": [
    {
     "name": "stdout",
     "output_type": "stream",
     "text": [
      "8.34716277372662\n",
      "8.347162773726618\n",
      "8.34716277372662\n"
     ]
    }
   ],
   "source": [
    "f_expr_cF2_1 = sp.lambdify((h, l, m, eta), _expr_cF2_1, Z2sym.num_module)\n",
    "f_expr_cF2_2 = sp.lambdify((h, l, m, eta), _expr_cF2_2, Z2sym.num_module)\n",
    "\n",
    "args = 1, 1.6\n",
    "args_moments = f_expr_m(*args), f_expr_eta(*args)\n",
    "\n",
    "print(Z2num.cF2_symmetrical(*args))\n",
    "print(f_expr_cF2_1(*args, *args_moments))\n",
    "print(f_expr_cF2_2(*args, *args_moments))"
   ]
  },
  {
   "cell_type": "code",
   "execution_count": 25,
   "metadata": {},
   "outputs": [
    {
     "name": "stdout",
     "output_type": "stream",
     "text": [
      "0.5815164055484547\n",
      "0.5815164055484547\n",
      "0.5815162841798034\n",
      "0.5815162841798025\n",
      "\n",
      "0.5911376785139352\n",
      "0.5911371476339244\n",
      "0.5911371476339227\n"
     ]
    }
   ],
   "source": [
    "f_expr_m_eta = sp.lambdify((h, l), expr_m_eta, Z2sym.num_module_norm)\n",
    "f_expr_eta2 = sp.lambdify((h, l), expr_eta2, Z2sym.num_module_norm)\n",
    "\n",
    "args = 3.4, 1.9\n",
    "moments = nd.Hessian(Z2_symmetrical_integrate)(args)/Z2_symmetrical_integrate(args)\n",
    "z2 = Z2num.calc_from_coeffs_symmetrical(*args)\n",
    "\n",
    "print(moments[0, 1]/2)\n",
    "print(moments[1, 0]/2)\n",
    "print(f_expr_m_eta(*args))\n",
    "print(z2.m_eta)\n",
    "print()\n",
    "print(moments[1, 1])\n",
    "print(f_expr_eta2(*args))\n",
    "print(z2.eta2)"
   ]
  },
  {
   "cell_type": "markdown",
   "metadata": {},
   "source": [
    "## Предельные случаи "
   ]
  },
  {
   "cell_type": "markdown",
   "metadata": {},
   "source": [
    "### $\\lambda \\rightarrow 0$"
   ]
  },
  {
   "cell_type": "code",
   "execution_count": 26,
   "metadata": {},
   "outputs": [
    {
     "data": {
      "text/latex": [
       "$\\displaystyle \\frac{4 \\pi^{2} e^{2 h}}{h^{2}} - \\frac{8 \\pi^{2}}{h^{2}} + \\frac{4 \\pi^{2} e^{- 2 h}}{h^{2}}$"
      ],
      "text/plain": [
       "4*pi**2*exp(2*h)/h**2 - 8*pi**2/h**2 + 4*pi**2*exp(-2*h)/h**2"
      ]
     },
     "metadata": {},
     "output_type": "display_data"
    },
    {
     "data": {
      "text/latex": [
       "$\\displaystyle \\frac{8 \\pi^{2} \\left(\\cosh{\\left(2 h \\right)} - 1\\right)}{h^{2}}$"
      ],
      "text/plain": [
       "8*pi**2*(cosh(2*h) - 1)/h**2"
      ]
     },
     "execution_count": 26,
     "metadata": {},
     "output_type": "execute_result"
    }
   ],
   "source": [
    "expr = Z2.rewrite(sp.exp)\n",
    "expr = Z2sym.dawsn_to_series_oo(expr, 1).factor()\n",
    "expr = sp.limit(expr, l, 0).expand()\n",
    "display(expr)\n",
    "\n",
    "expr.rewrite(sp.sin).factor()"
   ]
  },
  {
   "cell_type": "code",
   "execution_count": 27,
   "metadata": {},
   "outputs": [
    {
     "data": {
      "text/latex": [
       "$\\displaystyle \\frac{h e^{2 h} + h - e^{2 h} + 1}{h \\left(e^{h} - 1\\right) \\left(e^{h} + 1\\right)}$"
      ],
      "text/plain": [
       "(h*exp(2*h) + h - exp(2*h) + 1)/(h*(exp(h) - 1)*(exp(h) + 1))"
      ]
     },
     "metadata": {},
     "output_type": "display_data"
    },
    {
     "data": {
      "text/latex": [
       "$\\displaystyle \\frac{1}{\\tanh{\\left(h \\right)}} - \\frac{1}{h}$"
      ],
      "text/plain": [
       "1/tanh(h) - 1/h"
      ]
     },
     "execution_count": 27,
     "metadata": {},
     "output_type": "execute_result"
    }
   ],
   "source": [
    "expr = expr_m.rewrite(sp.exp)\n",
    "expr = Z2sym.dawsn_to_series_oo(expr, 2).factor()\n",
    "expr = sp.limit(expr, l, 0).factor()\n",
    "display(expr)\n",
    "\n",
    "subs_to_m_llb = {\n",
    "    sp.exp(2*h): sp.solve(expr.expand()-m, sp.exp(2*h))[0]\n",
    "}\n",
    "\n",
    "expr.expand().rewrite(sp.tanh).factor().expand()"
   ]
  },
  {
   "cell_type": "code",
   "execution_count": 28,
   "metadata": {},
   "outputs": [
    {
     "data": {
      "text/latex": [
       "$\\displaystyle \\frac{\\left(h e^{2 h} + h - e^{2 h} + 1\\right)^{2}}{h^{2} \\left(e^{h} - 1\\right)^{2} \\left(e^{h} + 1\\right)^{2}}$"
      ],
      "text/plain": [
       "(h*exp(2*h) + h - exp(2*h) + 1)**2/(h**2*(exp(h) - 1)**2*(exp(h) + 1)**2)"
      ]
     },
     "metadata": {},
     "output_type": "display_data"
    },
    {
     "data": {
      "text/latex": [
       "$\\displaystyle \\left<m\\right>^{2}$"
      ],
      "text/plain": [
       "\\left<m\\right>**2"
      ]
     },
     "execution_count": 28,
     "metadata": {},
     "output_type": "execute_result"
    }
   ],
   "source": [
    "expr = expr_eta.rewrite(sp.exp)\n",
    "expr = Z2sym.dawsn_to_series_oo(expr, 3).factor()\n",
    "expr = sp.limit(expr, l, 0).factor()\n",
    "display(expr)\n",
    "\n",
    "expr.expand().subs(subs_to_m_llb).factor()"
   ]
  },
  {
   "cell_type": "code",
   "execution_count": 29,
   "metadata": {},
   "outputs": [
    {
     "data": {
      "text/latex": [
       "$\\displaystyle \\frac{\\left(h e^{2 h} + h - e^{2 h} + 1\\right) \\left(h^{2} e^{2 h} - h^{2} - 2 h e^{2 h} - 2 h + 2 e^{2 h} - 2\\right)}{h^{3} \\left(e^{h} - 1\\right)^{2} \\left(e^{h} + 1\\right)^{2}}$"
      ],
      "text/plain": [
       "(h*exp(2*h) + h - exp(2*h) + 1)*(h**2*exp(2*h) - h**2 - 2*h*exp(2*h) - 2*h + 2*exp(2*h) - 2)/(h**3*(exp(h) - 1)**2*(exp(h) + 1)**2)"
      ]
     },
     "metadata": {},
     "output_type": "display_data"
    },
    {
     "data": {
      "text/latex": [
       "$\\displaystyle - \\frac{2 \\left<m\\right>^{2}}{h} + \\left<m\\right>$"
      ],
      "text/plain": [
       "-2*\\left<m\\right>**2/h + \\left<m\\right>"
      ]
     },
     "metadata": {},
     "output_type": "display_data"
    },
    {
     "name": "stdout",
     "output_type": "stream",
     "text": [
      "- \\frac{2 \\left<m\\right>^{2}}{h} + \\left<m\\right>\n"
     ]
    }
   ],
   "source": [
    "expr = expr_m_eta.rewrite(sp.exp)\n",
    "expr = Z2sym.dawsn_to_series_oo(expr, 4).factor()\n",
    "expr = sp.limit(expr, l, 0).factor()\n",
    "display(expr)\n",
    "\n",
    "expr = expr.expand().subs(subs_to_m_llb).factor().expand()\n",
    "display(expr)\n",
    "sp.print_latex(expr)"
   ]
  },
  {
   "cell_type": "code",
   "execution_count": 30,
   "metadata": {},
   "outputs": [
    {
     "data": {
      "text/latex": [
       "$\\displaystyle \\frac{h^{4} e^{4 h} - 2 h^{4} e^{2 h} + h^{4} - 4 h^{3} e^{4 h} + 4 h^{3} + 10 h^{2} e^{4 h} + 4 h^{2} e^{2 h} + 10 h^{2} - 12 h e^{4 h} + 12 h + 6 e^{4 h} - 12 e^{2 h} + 6}{h^{4} \\left(e^{h} - 1\\right)^{2} \\left(e^{h} + 1\\right)^{2}}$"
      ],
      "text/plain": [
       "(h**4*exp(4*h) - 2*h**4*exp(2*h) + h**4 - 4*h**3*exp(4*h) + 4*h**3 + 10*h**2*exp(4*h) + 4*h**2*exp(2*h) + 10*h**2 - 12*h*exp(4*h) + 12*h + 6*exp(4*h) - 12*exp(2*h) + 6)/(h**4*(exp(h) - 1)**2*(exp(h) + 1)**2)"
      ]
     },
     "metadata": {},
     "output_type": "display_data"
    },
    {
     "data": {
      "text/latex": [
       "$\\displaystyle \\frac{6 \\left<m\\right>^{2}}{h^{2}} - \\frac{4 \\left<m\\right>}{h} + 1$"
      ],
      "text/plain": [
       "6*\\left<m\\right>**2/h**2 - 4*\\left<m\\right>/h + 1"
      ]
     },
     "metadata": {},
     "output_type": "display_data"
    },
    {
     "name": "stdout",
     "output_type": "stream",
     "text": [
      "\\frac{6 \\left<m\\right>^{2}}{h^{2}} - \\frac{4 \\left<m\\right>}{h} + 1\n"
     ]
    }
   ],
   "source": [
    "expr = expr_eta2.rewrite(sp.exp).factor()\n",
    "expr = Z2sym.dawsn_to_series_oo(expr, 5).factor()\n",
    "expr = sp.limit(expr, l, 0).factor()\n",
    "display(expr)\n",
    "\n",
    "expr = expr.expand().subs(subs_to_m_llb).factor().expand()\n",
    "display(expr)\n",
    "sp.print_latex(expr)"
   ]
  },
  {
   "cell_type": "code",
   "execution_count": 31,
   "metadata": {},
   "outputs": [],
   "source": [
    "# expr = expr_m.diff(l).rewrite(sp.exp)\n",
    "# expr = Z2sym.dawsn_to_series_oo(expr, 4).factor()\n",
    "# expr = sp.limit(expr, l, 0).factor()\n",
    "# display(expr)\n",
    "\n",
    "# expr.expand().subs(subs_to_m_llb).factor().expand()"
   ]
  },
  {
   "cell_type": "code",
   "execution_count": 32,
   "metadata": {},
   "outputs": [],
   "source": [
    "# expr = (expr_eta).diff(l).rewrite(sp.exp)\n",
    "# expr = Z2sym.dawsn_to_series_oo(expr, 5).factor()\n",
    "# expr = sp.limit(expr, l, 0).factor()\n",
    "# display(expr)\n",
    "\n",
    "# expr = expr.expand().subs(subs_to_m_llb).factor().expand()\n",
    "# expr"
   ]
  },
  {
   "cell_type": "code",
   "execution_count": 33,
   "metadata": {},
   "outputs": [],
   "source": [
    "# expr = (expr_m_eta/2).diff(l).factor().rewrite(sp.exp)\n",
    "# expr = Z2sym.dawsn_to_series_oo(expr, 6).factor()\n",
    "# expr = sp.limit(expr, l, 0).factor()\n",
    "# display(expr)\n",
    "\n",
    "# expr = expr.expand().subs(subs_to_m_llb).factor().expand()\n",
    "# display(expr)\n",
    "\n",
    "# expr = expr/m - (m-2*m**2/h)/m**2*(m - m * m * m - 2 * m * m/h)\n",
    "# expr = expr.expand()\n",
    "# display(expr)\n",
    "# display(expr.replace(m, h/3))"
   ]
  },
  {
   "cell_type": "code",
   "execution_count": 34,
   "metadata": {},
   "outputs": [],
   "source": [
    "# expr = expr_eta2.diff(l).factor().rewrite(sp.exp)\n",
    "# expr = Z2sym.dawsn_to_series_oo(expr, 7).factor()\n",
    "# expr = sp.limit(expr, l, 0).factor()\n",
    "# display(expr)\n",
    "\n",
    "# expr = expr.expand().subs(subs_to_m_llb).factor().expand()\n",
    "# display(expr)\n",
    "# display(expr.replace(m, h/3))"
   ]
  },
  {
   "cell_type": "markdown",
   "metadata": {},
   "source": [
    "### $h \\rightarrow 0$"
   ]
  },
  {
   "cell_type": "code",
   "execution_count": 35,
   "metadata": {},
   "outputs": [
    {
     "data": {
      "text/latex": [
       "$\\displaystyle \\frac{8 \\pi^{2} e^{\\lambda}}{\\lambda} - \\frac{8 \\pi^{2} e^{- \\lambda}}{\\lambda}$"
      ],
      "text/plain": [
       "8*pi**2*exp(\\lambda)/\\lambda - 8*pi**2*exp(-\\lambda)/\\lambda"
      ]
     },
     "metadata": {},
     "output_type": "display_data"
    },
    {
     "data": {
      "text/latex": [
       "$\\displaystyle \\frac{16 \\pi^{2} \\sinh{\\left(\\lambda \\right)}}{\\lambda}$"
      ],
      "text/plain": [
       "16*pi**2*sinh(\\lambda)/\\lambda"
      ]
     },
     "metadata": {},
     "output_type": "display_data"
    },
    {
     "name": "stdout",
     "output_type": "stream",
     "text": [
      "\\frac{16 \\pi^{2} \\sinh{\\left(\\lambda \\right)}}{\\lambda}\n"
     ]
    }
   ],
   "source": [
    "expr = Z2.rewrite(sp.exp)\n",
    "expr = symbase.LHopital(expr.factor(), h).replace(h, 0).expand()\n",
    "display(expr)\n",
    "\n",
    "expr = expr.rewrite(sp.sin).factor()\n",
    "display(expr)\n",
    "sp.print_latex(expr)"
   ]
  },
  {
   "cell_type": "code",
   "execution_count": 36,
   "metadata": {},
   "outputs": [
    {
     "data": {
      "text/latex": [
       "$\\displaystyle 0$"
      ],
      "text/plain": [
       "0"
      ]
     },
     "metadata": {},
     "output_type": "display_data"
    }
   ],
   "source": [
    "expr = expr_m.rewrite(sp.exp).factor()\n",
    "expr = symbase.LHopital(expr, h, 2)\n",
    "expr = expr.replace(h, 0)\n",
    "display(expr)"
   ]
  },
  {
   "cell_type": "code",
   "execution_count": 37,
   "metadata": {},
   "outputs": [
    {
     "data": {
      "text/latex": [
       "$\\displaystyle \\frac{\\lambda e^{2 \\lambda} + \\lambda - e^{2 \\lambda} + 1}{\\lambda \\left(e^{\\lambda} - 1\\right) \\left(e^{\\lambda} + 1\\right)}$"
      ],
      "text/plain": [
       "(\\lambda*exp(2*\\lambda) + \\lambda - exp(2*\\lambda) + 1)/(\\lambda*(exp(\\lambda) - 1)*(exp(\\lambda) + 1))"
      ]
     },
     "metadata": {},
     "output_type": "display_data"
    },
    {
     "data": {
      "text/latex": [
       "$\\displaystyle \\frac{1}{\\tanh{\\left(\\lambda \\right)}} - \\frac{1}{\\lambda}$"
      ],
      "text/plain": [
       "1/tanh(\\lambda) - 1/\\lambda"
      ]
     },
     "metadata": {},
     "output_type": "display_data"
    },
    {
     "name": "stdout",
     "output_type": "stream",
     "text": [
      "\\frac{1}{\\tanh{\\left(\\lambda \\right)}} - \\frac{1}{\\lambda}\n"
     ]
    }
   ],
   "source": [
    "expr = expr_eta.rewrite(sp.exp)\n",
    "expr = symbase.LHopital(expr.factor(), h)\n",
    "expr = expr.replace(h, 0).factor()\n",
    "display(expr)\n",
    "\n",
    "subs_to_eta_prmg = {\n",
    "    sp.exp(2*l): sp.solve(expr.expand()-eta, sp.exp(2*l))[0]\n",
    "}\n",
    "\n",
    "expr = expr.expand().rewrite(sp.tanh).factor().expand()\n",
    "display(expr)\n",
    "sp.print_latex(expr)"
   ]
  },
  {
   "cell_type": "code",
   "execution_count": 38,
   "metadata": {},
   "outputs": [
    {
     "data": {
      "text/latex": [
       "$\\displaystyle \\frac{\\lambda e^{2 \\lambda} + \\lambda - e^{2 \\lambda} + 1}{\\lambda \\left(2 \\lambda e^{2 \\lambda} - e^{2 \\lambda} + 1\\right)}$"
      ],
      "text/plain": [
       "(\\lambda*exp(2*\\lambda) + \\lambda - exp(2*\\lambda) + 1)/(\\lambda*(2*\\lambda*exp(2*\\lambda) - exp(2*\\lambda) + 1))"
      ]
     },
     "metadata": {},
     "output_type": "display_data"
    },
    {
     "data": {
      "text/latex": [
       "$\\displaystyle \\frac{\\left<\\eta\\right>}{\\lambda \\left(\\left<\\eta\\right> + 1\\right)}$"
      ],
      "text/plain": [
       "\\left<\\eta\\right>/(\\lambda*(\\left<\\eta\\right> + 1))"
      ]
     },
     "execution_count": 38,
     "metadata": {},
     "output_type": "execute_result"
    }
   ],
   "source": [
    "expr = ((1-expr_m_eta/expr_m)/2)\n",
    "expr = symbase.LHopital(expr.factor(), h, 2)\n",
    "expr = expr.rewrite(sp.exp).replace(h, 0).factor()\n",
    "display(expr)\n",
    "\n",
    "expr.expand().subs(subs_to_eta_prmg).factor()"
   ]
  },
  {
   "cell_type": "code",
   "execution_count": 39,
   "metadata": {},
   "outputs": [
    {
     "data": {
      "text/latex": [
       "$\\displaystyle \\frac{\\lambda^{2} e^{2 \\lambda} - \\lambda^{2} - 2 \\lambda e^{2 \\lambda} - 2 \\lambda + 2 e^{2 \\lambda} - 2}{\\lambda^{2} \\left(e^{\\lambda} - 1\\right) \\left(e^{\\lambda} + 1\\right)}$"
      ],
      "text/plain": [
       "(\\lambda**2*exp(2*\\lambda) - \\lambda**2 - 2*\\lambda*exp(2*\\lambda) - 2*\\lambda + 2*exp(2*\\lambda) - 2)/(\\lambda**2*(exp(\\lambda) - 1)*(exp(\\lambda) + 1))"
      ]
     },
     "metadata": {},
     "output_type": "display_data"
    },
    {
     "data": {
      "text/latex": [
       "$\\displaystyle 1 - \\frac{2 \\left<\\eta\\right>}{\\lambda}$"
      ],
      "text/plain": [
       "1 - 2*\\left<\\eta\\right>/\\lambda"
      ]
     },
     "execution_count": 39,
     "metadata": {},
     "output_type": "execute_result"
    }
   ],
   "source": [
    "expr = expr_eta2.rewrite(sp.exp)\n",
    "expr = symbase.LHopital(expr.factor(), h, 2)\n",
    "expr = expr.rewrite(sp.exp).replace(h, 0).factor()\n",
    "display(expr)\n",
    "\n",
    "expr.expand().subs(subs_to_eta_prmg).factor().expand()"
   ]
  },
  {
   "cell_type": "code",
   "execution_count": 40,
   "metadata": {},
   "outputs": [
    {
     "data": {
      "text/latex": [
       "$\\displaystyle \\frac{2 \\lambda e^{2 \\lambda} - e^{2 \\lambda} + 1}{3 \\lambda \\left(e^{\\lambda} - 1\\right) \\left(e^{\\lambda} + 1\\right)}$"
      ],
      "text/plain": [
       "(2*\\lambda*exp(2*\\lambda) - exp(2*\\lambda) + 1)/(3*\\lambda*(exp(\\lambda) - 1)*(exp(\\lambda) + 1))"
      ]
     },
     "metadata": {},
     "output_type": "display_data"
    },
    {
     "data": {
      "text/latex": [
       "$\\displaystyle \\frac{\\left<\\eta\\right> + 1}{3}$"
      ],
      "text/plain": [
       "(\\left<\\eta\\right> + 1)/3"
      ]
     },
     "execution_count": 40,
     "metadata": {},
     "output_type": "execute_result"
    }
   ],
   "source": [
    "expr = expr_m/h\n",
    "expr = symbase.LHopital(expr.factor(), h, 2)\n",
    "expr = expr.rewrite(sp.exp).replace(h, 0).factor()\n",
    "display(expr)\n",
    "\n",
    "expr.expand().subs(subs_to_eta_prmg).factor()"
   ]
  },
  {
   "cell_type": "code",
   "execution_count": 41,
   "metadata": {},
   "outputs": [],
   "source": [
    "# expr = (expr_m/h).diff(h).factor()\n",
    "# expr = symbase.LHopital(expr, h, 5)\n",
    "# expr = expr.rewrite(sp.exp).replace(h, 0)\n",
    "# display(expr)"
   ]
  },
  {
   "cell_type": "code",
   "execution_count": 42,
   "metadata": {},
   "outputs": [
    {
     "data": {
      "text/latex": [
       "$\\displaystyle 0$"
      ],
      "text/plain": [
       "0"
      ]
     },
     "metadata": {},
     "output_type": "display_data"
    }
   ],
   "source": [
    "expr = expr_eta.diff(h).factor()\n",
    "expr = symbase.LHopital(expr, h, 2)\n",
    "expr = expr.rewrite(sp.exp).replace(h, 0)\n",
    "display(expr)"
   ]
  },
  {
   "cell_type": "code",
   "execution_count": 43,
   "metadata": {},
   "outputs": [],
   "source": [
    "# expr = ((1-expr_m_eta/expr_m)/2).diff(h).factor()\n",
    "# expr = symbase.LHopital(expr.factor(), h, 6)\n",
    "# expr = expr.rewrite(sp.exp).replace(h, 0).factor()\n",
    "# display(expr)"
   ]
  },
  {
   "cell_type": "markdown",
   "metadata": {},
   "source": [
    "## Генерация кода C++ для реализации метода Ньютона"
   ]
  },
  {
   "cell_type": "code",
   "execution_count": 44,
   "metadata": {},
   "outputs": [],
   "source": [
    "subs = {\n",
    "    Z2sym.cF2_symmetrical(h, l): sp.Symbol(\"cF2_norm\"),\n",
    "    Z2sym.E_symmetrical(h, l, 1, 1): sp.Symbol(\"E12_norm\"),\n",
    "    Z2sym.E_symmetrical(h, l, 1, 0): sp.Symbol(\"E1_norm\"),\n",
    "    Z2sym.E_symmetrical(h, l, 0, 0): sp.Symbol(\"E_norm\"),\n",
    "    m: sp.Symbol(\"m\"), eta: sp.Symbol(\"eta\"),\n",
    "    sp.exp(-2*h): sp.Symbol(\"_exp_2h\"),\n",
    "    sp.exp(-2*l): sp.Symbol(\"_exp_2l\"),\n",
    "    l: sp.Symbol(\"l\")\n",
    "}\n",
    "\n",
    "\n",
    "def optimize(expr):\n",
    "    expr = symbase.optimize_pow(expr, {l: \"l\"})\n",
    "    expr = expr.subs(subs)\n",
    "    return expr"
   ]
  },
  {
   "cell_type": "code",
   "execution_count": 45,
   "metadata": {},
   "outputs": [
    {
     "name": "stdout",
     "output_type": "stream",
     "text": [
      "0.5*(-0.125*M_SQRT2*E12_norm*(h*h*h)*l + 0.125*M_SQRT2*E12_norm*h*(l*l) + 0.25*M_SQRT2*E1_norm*(h*h)*(l*l) + 0.25*M_SQRT2*E1_norm*(l*l*l) - 0.25*M_SQRT2*E_norm*h*(l*l*l) + 0.25*cF2_norm*(h*h*h*h)*sqrt_l - 0.5*cF2_norm*(h*h)*(l*l)*sqrt_l - 0.5*cF2_norm*(h*h)*l*sqrt_l + 1.0*cF2_norm*h*(l*l*l)*m*sqrt_l - 0.5*cF2_norm*(l*l*l)*sqrt_l - 0.25*cF2_norm*(l*l)*sqrt_l)/(cF2_norm*h*(l*l*l)*m*sqrt_l)\n"
     ]
    }
   ],
   "source": [
    "print(symbase.get_ccode(optimize(.5*(1-expr_m_eta/m)).factor()))"
   ]
  },
  {
   "cell_type": "markdown",
   "metadata": {},
   "source": [
    "## Решение обратной задачи"
   ]
  },
  {
   "cell_type": "markdown",
   "metadata": {},
   "source": [
    "### Прямая задача"
   ]
  },
  {
   "cell_type": "code",
   "execution_count": 46,
   "metadata": {},
   "outputs": [],
   "source": [
    "h = np.logspace(-5, 1, 100)\n",
    "l = np.logspace(-5, 1, 100)\n",
    "\n",
    "h, l = np.meshgrid(h, l)"
   ]
  },
  {
   "cell_type": "code",
   "execution_count": 47,
   "metadata": {},
   "outputs": [],
   "source": [
    "m, eta = np.empty_like(h), np.empty_like(h)\n",
    "upsilon, eta2 = np.empty_like(h), np.empty_like(h)\n",
    "Z2_norm = np.empty_like(m)\n",
    "\n",
    "for i in range(h.size):\n",
    "    z2 = Z2num.calc_from_coeffs_symmetrical(h.flat[i], l.flat[i])\n",
    "    m.flat[i], eta.flat[i] = z2.m, z2.eta\n",
    "    upsilon.flat[i], eta2.flat[i] = z2.upsilon, z2.eta2\n",
    "    Z2_norm.flat[i] = z2.Z2_norm"
   ]
  },
  {
   "cell_type": "code",
   "execution_count": 48,
   "metadata": {},
   "outputs": [],
   "source": [
    "datlib.np2dat(\n",
    "    \"data/Z2.dat\",\n",
    "    \"h l upsilon eta2 Z2_norm\".split(),\n",
    "    np.asarray([\n",
    "        h, l, upsilon, eta2, Z2_norm\n",
    "    ])\n",
    ")"
   ]
  },
  {
   "cell_type": "code",
   "execution_count": 49,
   "metadata": {},
   "outputs": [],
   "source": [
    "# %%bash\n",
    "# gplt3 -pm3d -U 'Z2_norm' data/Z2.dat -ln xy -to data/picts/pict.pdf "
   ]
  },
  {
   "cell_type": "markdown",
   "metadata": {},
   "source": [
    "### Обратная задача"
   ]
  },
  {
   "cell_type": "code",
   "execution_count": 50,
   "metadata": {},
   "outputs": [],
   "source": [
    "m = np.linspace(0, 1, 100)\n",
    "zeta = np.linspace(0, 1, 100)\n",
    "\n",
    "m, zeta = np.meshgrid(m, zeta)\n",
    "eta = zeta + (1-zeta)*m**2"
   ]
  },
  {
   "cell_type": "code",
   "execution_count": 51,
   "metadata": {},
   "outputs": [],
   "source": [
    "h, l = np.empty_like(m), np.empty_like(m)\n",
    "upsilon, eta2, mh2 = np.empty_like(m), np.empty_like(m), np.empty_like(m)\n",
    "psi0, Z2_norm = np.empty_like(m), np.empty_like(m)\n",
    "\n",
    "for i in range(m.size):\n",
    "    z2 = Z2num.find_coeffs_symmetrical(m.flat[i], eta.flat[i])\n",
    "    h.flat[i], l.flat[i] = z2.h, z2.l\n",
    "    upsilon.flat[i], eta2.flat[i], mh2.flat[i] = z2.upsilon, z2.eta2, z2.mh2\n",
    "    psi0.flat[i], Z2_norm.flat[i] = z2.psi0, z2.Z2_norm"
   ]
  },
  {
   "cell_type": "code",
   "execution_count": 52,
   "metadata": {},
   "outputs": [],
   "source": [
    "datlib.np2dat(\n",
    "    \"data/Z2.dat\",\n",
    "    \"m eta zeta h l upsilon eta2 mh2 psi0 Z2_norm\".split(),\n",
    "    np.asarray([\n",
    "        m, eta, zeta, h, l, upsilon, eta2, mh2, psi0, Z2_norm\n",
    "    ])\n",
    ")"
   ]
  },
  {
   "cell_type": "code",
   "execution_count": 53,
   "metadata": {},
   "outputs": [],
   "source": [
    "# %%bash\n",
    "# gplt3 -pm3d -U 'Z2_norm(m,zeta)' data/Z2.dat -to data/picts/pict.pdf "
   ]
  },
  {
   "cell_type": "markdown",
   "metadata": {},
   "source": [
    "### Асимптотика при $\\left<m\\right> \\rightarrow 1$"
   ]
  },
  {
   "cell_type": "code",
   "execution_count": 54,
   "metadata": {},
   "outputs": [],
   "source": [
    "m = np.linspace(.99, 1, 100)\n",
    "zeta = np.linspace(.05, 1, 100)\n",
    "\n",
    "m, zeta = np.meshgrid(m, zeta)\n",
    "eta = zeta + (1-zeta)*m**2"
   ]
  },
  {
   "cell_type": "code",
   "execution_count": 55,
   "metadata": {},
   "outputs": [
    {
     "name": "stderr",
     "output_type": "stream",
     "text": [
      "/home/daiwery/projects/Z-analytic/python/Z2num.py:26: RuntimeWarning: divide by zero encountered in scalar divide\n",
      "  return .5/(1-m), .5/(1-eta)\n"
     ]
    }
   ],
   "source": [
    "h, l = np.empty_like(m), np.empty_like(m)\n",
    "upsilon, eta2, mh2 = np.empty_like(m), np.empty_like(m), np.empty_like(m)\n",
    "psi0, Z2_norm = np.empty_like(m), np.empty_like(m)\n",
    "\n",
    "for i in range(m.size):\n",
    "    z2 = Z2num.find_coeffs_symmetrical_by_scipy(m.flat[i], eta.flat[i])\n",
    "    h.flat[i], l.flat[i] = z2.h, z2.l\n",
    "    upsilon.flat[i], eta2.flat[i], mh2.flat[i] = z2.upsilon, z2.eta2, z2.mh2\n",
    "    psi0.flat[i], Z2_norm.flat[i] = z2.psi0, z2.Z2_norm"
   ]
  },
  {
   "cell_type": "code",
   "execution_count": 56,
   "metadata": {},
   "outputs": [],
   "source": [
    "datlib.np2dat(\n",
    "    \"data/Z2.dat\",\n",
    "    \"m eta zeta h l upsilon eta2 mh2 psi0 Z2_norm\".split(),\n",
    "    np.asarray([\n",
    "        m, eta, zeta, h, l, upsilon, eta2, mh2, psi0, Z2_norm\n",
    "    ])\n",
    ")"
   ]
  },
  {
   "cell_type": "code",
   "execution_count": 57,
   "metadata": {},
   "outputs": [],
   "source": [
    "# %%bash\n",
    "# gplt3 -pm3d -U 'upsilon(m,eta)' data/Z2.dat -to data/picts/pict.pdf "
   ]
  },
  {
   "cell_type": "code",
   "execution_count": 58,
   "metadata": {},
   "outputs": [
    {
     "data": {
      "text/plain": [
       "array([1.80037290e-06, 2.39256366e-04, 4.98311465e-01])"
      ]
     },
     "execution_count": 58,
     "metadata": {},
     "output_type": "execute_result"
    }
   ],
   "source": [
    "variables = 1-m, 1-eta\n",
    "y_data = upsilon\n",
    "indexes_nans = np.logical_not(np.isnan(h))\n",
    "\n",
    "def func(_, *p_args, nans=True):    \n",
    "    result = p_args[0]\n",
    "    result += p_args[1]*variables[0] + p_args[2]*variables[1]\n",
    "\n",
    "    if nans:\n",
    "        return result[indexes_nans].ravel()\n",
    "    else:\n",
    "        return result\n",
    "    \n",
    "\n",
    "p0 = [0] + 2*[1]\n",
    "p = opt.curve_fit(func, None, y_data[indexes_nans].ravel(), p0=p0)[0]\n",
    "p"
   ]
  },
  {
   "cell_type": "code",
   "execution_count": 59,
   "metadata": {},
   "outputs": [],
   "source": [
    "# x = 1 - m\n",
    "# y = 1 - eta\n",
    "\n",
    "# upsilon = y/2\n",
    "# eta2 = 1 - 2*y\n",
    "# m_par_2 = 1 - 2*x\n",
    "# psi0 = -y/2"
   ]
  },
  {
   "cell_type": "markdown",
   "metadata": {},
   "source": [
    "# Ферромагнетик в несимметричном случае"
   ]
  },
  {
   "cell_type": "markdown",
   "metadata": {},
   "source": [
    "## Выражение для $Z^{(2)}$"
   ]
  },
  {
   "cell_type": "markdown",
   "metadata": {},
   "source": [
    "### Аргументы"
   ]
  },
  {
   "cell_type": "code",
   "execution_count": null,
   "metadata": {},
   "outputs": [],
   "source": [
    "h1, h2, l = sp.symbols(\"h_1 h_2 \\\\lambda\", positive=True)\n",
    "s1, s2 = symbase.SigmaSymbol(\"\\\\sigma_1\"), symbase.SigmaSymbol(\"\\\\sigma_2\")\n",
    "t = sp.Symbol(\"t\")"
   ]
  },
  {
   "cell_type": "code",
   "execution_count": null,
   "metadata": {},
   "outputs": [
    {
     "data": {
      "text/latex": [
       "$\\displaystyle - \\frac{\\lambda h_{2}}{2 h_{1}} + t^{2}$"
      ],
      "text/plain": [
       "-\\lambda*h_2/(2*h_1) + t**2"
      ]
     },
     "metadata": {},
     "output_type": "display_data"
    },
    {
     "data": {
      "text/latex": [
       "$\\displaystyle \\frac{\\sqrt{2} \\sqrt{h_{1}} \\left(\\frac{\\sigma_1 \\lambda h_{2}}{h_{1}} + \\sigma_2 \\lambda + h_{2}\\right)}{2 \\sqrt{\\lambda} \\sqrt{h_{2}}}$"
      ],
      "text/plain": [
       "sqrt(2)*sqrt(h_1)*(\\sigma_1*\\lambda*h_2/h_1 + \\sigma_2*\\lambda + h_2)/(2*sqrt(\\lambda)*sqrt(h_2))"
      ]
     },
     "metadata": {},
     "output_type": "display_data"
    }
   ],
   "source": [
    "arg_exp = t**2/(2*l)*h1/h2 + s1*t\n",
    "bound = h2+s2*l\n",
    "\n",
    "arg_exp = arg_exp.replace(t, t-s1*l*h2/h1).expand()\n",
    "bound += s1*l*h2/h1\n",
    "\n",
    "arg_exp = arg_exp.replace(t, t*sp.sqrt(2*l*h2/h1))\n",
    "bound /= sp.sqrt(2*l*h2/h1)\n",
    "\n",
    "display(arg_exp)\n",
    "display(bound)"
   ]
  },
  {
   "cell_type": "code",
   "execution_count": null,
   "metadata": {},
   "outputs": [
    {
     "data": {
      "text/latex": [
       "$\\displaystyle \\sigma_1 \\sigma_2 \\lambda + \\sigma_1 h_{2} + \\sigma_2 h_{1}$"
      ],
      "text/plain": [
       "\\sigma_1*\\sigma_2*\\lambda + \\sigma_1*h_2 + \\sigma_2*h_1"
      ]
     },
     "metadata": {},
     "output_type": "display_data"
    }
   ],
   "source": [
    "expr = bound**2 + (arg_exp - t**2)\n",
    "expr = expr.expand()\n",
    "expr -= (h2**2+l**2)/(2*l*h2/h1)\n",
    "expr = expr.expand()\n",
    "\n",
    "display(expr)"
   ]
  },
  {
   "cell_type": "markdown",
   "metadata": {},
   "source": [
    "### Производные $\\cal{F}^{(2)}$"
   ]
  },
  {
   "cell_type": "code",
   "execution_count": null,
   "metadata": {},
   "outputs": [],
   "source": [
    "_sub_expr_E = sp.exp(h1*s1+h2*s2+l*s1*s2).expand()\n",
    "_sub_expr_cF2 = Z2sym.F2((h2+s1*l+s2*l*h2/h1)/sp.sqrt(2*l*h2/h1)).expand()\n",
    "\n",
    "_dummy_subs = {\n",
    "    _sub_expr_E*_sub_expr_cF2: sp.Dummy(),\n",
    "    _sub_expr_E: sp.Dummy()\n",
    "}\n",
    "\n",
    "\n",
    "def sigmas_sum(expr):\n",
    "    expr = expr.expand().subs(_dummy_subs)\n",
    "\n",
    "    terms = sp.collect(expr, _dummy_subs.values(), evaluate=False)\n",
    "    for dummy in _dummy_subs.values():\n",
    "        if dummy in terms:\n",
    "            terms[dummy] = sp.Poly(terms[dummy], [s1, s2]).as_dict()\n",
    "    for key, dummy in _dummy_subs.items():\n",
    "        if dummy in terms:\n",
    "            terms[key] = terms.pop(dummy)\n",
    "\n",
    "    return terms"
   ]
  },
  {
   "cell_type": "code",
   "execution_count": null,
   "metadata": {},
   "outputs": [],
   "source": [
    "class Z2nsSigmasFunctionBase(sp.Function):\n",
    "    def __init__(self, name, *args, **kwargs):\n",
    "        self.name = name\n",
    "\n",
    "    def _latex(self, printer, exp=None):\n",
    "        args = list(map(printer.doprint, self.args[:3]))\n",
    "        args = f\"\\\\left({args[0]}, {args[1]}, {args[2]}\\\\right)\"\n",
    "\n",
    "        indexes = \"\"\n",
    "        for i, item in enumerate(self.args[3:]):\n",
    "            if item:\n",
    "                indexes += str(i+1)\n",
    "        name = f\"{self.name}\"+\"_{\" + indexes + \"}\"\n",
    "\n",
    "        if exp is None:\n",
    "            return name+args\n",
    "        else:\n",
    "            exp = printer.doprint(exp)\n",
    "            return f\"{name}^{exp}\"+args\n",
    "\n",
    "    def get_sigmas_factor(self):\n",
    "        factor = 1\n",
    "        if self.args[3]:\n",
    "            factor *= s1\n",
    "        if self.args[4]:\n",
    "            factor *= s2\n",
    "        return factor"
   ]
  },
  {
   "cell_type": "code",
   "execution_count": null,
   "metadata": {},
   "outputs": [],
   "source": [
    "class EFunction_ns(Z2nsSigmasFunctionBase):\n",
    "    def __init__(self, *args, **kwargs):\n",
    "        super().__init__(\"{\\\\cal E}\", *args, **kwargs)\n",
    "\n",
    "    def fdiff(self, argindex=1):\n",
    "        factor = self.get_sigmas_factor()\n",
    "        expr = (factor*_sub_expr_E).diff([h1, h2, l][argindex-1])\n",
    "        terms = sigmas_sum(expr)\n",
    "\n",
    "        subs = dict(zip([h1, h2, l], self.args[:3]))\n",
    "\n",
    "        result = 0\n",
    "        for key, item in terms[_sub_expr_E].items():\n",
    "            result += item.subs(subs)*EFunction_ns(*self.args[:3], *key)\n",
    "\n",
    "        return result\n",
    "        \n",
    "    def _eval_rewrite(self, rule, args, **hints):\n",
    "        h1, h2, l, arg_s1, arg_s2 = args\n",
    "        if rule == sp.exp:\n",
    "            result = 0\n",
    "            for s1 in SIGMAS:\n",
    "                for s2 in SIGMAS:\n",
    "                    term = sp.exp(s1*h1+s2*h2+s1*s2*l)\n",
    "                    if arg_s1:\n",
    "                        term *= s1\n",
    "                    if arg_s2:\n",
    "                        term *= s2\n",
    "                    result += term\n",
    "            return result\n",
    "    \n",
    "    @classmethod\n",
    "    def eval(cls, *args):\n",
    "        if args[0] == args[1]:\n",
    "            return EFunction(args[0], *args[2:])"
   ]
  },
  {
   "cell_type": "code",
   "execution_count": null,
   "metadata": {},
   "outputs": [
    {
     "data": {
      "text/latex": [
       "$\\displaystyle {\\cal E}_{2}\\left(h_{1}, h_{2}, \\lambda\\right)$"
      ],
      "text/plain": [
       "EFunction_ns(h_1, h_2, \\lambda, 0, 1)"
      ]
     },
     "execution_count": 21,
     "metadata": {},
     "output_type": "execute_result"
    }
   ],
   "source": [
    "EFunction_ns(h1, h2, l, 1, 1).diff(h1)"
   ]
  },
  {
   "cell_type": "code",
   "execution_count": null,
   "metadata": {},
   "outputs": [],
   "source": [
    "class cF2Function_ns(sp.Function):\n",
    "    def _latex(self, printer, exp=None):\n",
    "        args = list(map(printer.doprint, self.args[:3]))\n",
    "        args = f\"\\\\left({args[0]}, {args[1]}, {args[2]}\\\\right)\"\n",
    "        if exp is None:\n",
    "            return \"{\\\\cal F}^{(2)}\"+args\n",
    "        else:\n",
    "            exp = printer.doprint(exp)\n",
    "            return f\"\\\\left({self._latex(printer)}\\\\right)^{exp}\"\n",
    "\n",
    "    def fdiff(self, argindex=1):\n",
    "        expr = (s1*s2*_sub_expr_E*_sub_expr_cF2).diff([h1, h2, l][argindex-1])\n",
    "        terms = sigmas_sum(expr)\n",
    "\n",
    "        subs = dict(zip([h1, h2, l], self.args[:3]))\n",
    "\n",
    "        result = 0\n",
    "        for key, item in terms[_sub_expr_E].items():\n",
    "            result += item.subs(subs)*EFunction_ns(*self.args, *key)\n",
    "        \n",
    "        _term = terms[_sub_expr_E*_sub_expr_cF2][(1, 1)].factor().subs(subs)\n",
    "        result += _term*cF2Function_ns(*self.args)\n",
    "        return result\n",
    "\n",
    "    def _eval_rewrite(self, rule, args, **hints):\n",
    "        h1, h2, l = args\n",
    "        if rule == sp.exp:\n",
    "            result = 0\n",
    "            for s1 in SIGMAS:\n",
    "                for s2 in SIGMAS:\n",
    "                    term = sp.exp(s1*h1+s2*h2+s1*s2*l)\n",
    "                    term *= F2Function((h2+s1*l+s2*l*h2/h1)/sp.sqrt(2*l*h2/h1))\n",
    "                    term *= s1*s2\n",
    "                    result += term\n",
    "            return result\n",
    "\n",
    "        return result\n",
    "\n",
    "    @classmethod\n",
    "    def eval(cls, *args):\n",
    "        if args[0] == args[1]:\n",
    "            return cF2Function(args[0], args[2])"
   ]
  },
  {
   "cell_type": "code",
   "execution_count": null,
   "metadata": {},
   "outputs": [
    {
     "data": {
      "text/latex": [
       "$\\displaystyle - \\frac{h_{1} {\\cal F}^{(2)}\\left(h_{1}, h_{2}, \\lambda\\right)}{2 h_{2}} - \\frac{h_{2} {\\cal F}^{(2)}\\left(h_{1}, h_{2}, \\lambda\\right)}{2 h_{1}} + \\frac{h_{1} h_{2} {\\cal F}^{(2)}\\left(h_{1}, h_{2}, \\lambda\\right)}{2 \\lambda^{2}} + \\frac{\\sqrt{2} \\sqrt{h_{1}} {\\cal E}_{2}\\left(h_{1}, h_{2}, \\lambda\\right)}{4 \\sqrt{\\lambda} \\sqrt{h_{2}}} + \\frac{\\sqrt{2} \\sqrt{h_{2}} {\\cal E}_{1}\\left(h_{1}, h_{2}, \\lambda\\right)}{4 \\sqrt{\\lambda} \\sqrt{h_{1}}} - \\frac{\\sqrt{2} \\sqrt{h_{1}} \\sqrt{h_{2}} {\\cal E}_{12}\\left(h_{1}, h_{2}, \\lambda\\right)}{4 \\lambda^{\\frac{3}{2}}}$"
      ],
      "text/plain": [
       "-h_1*cF2Function_ns(h_1, h_2, \\lambda)/(2*h_2) - h_2*cF2Function_ns(h_1, h_2, \\lambda)/(2*h_1) + h_1*h_2*cF2Function_ns(h_1, h_2, \\lambda)/(2*\\lambda**2) + sqrt(2)*sqrt(h_1)*EFunction_ns(h_1, h_2, \\lambda, 0, 1)/(4*sqrt(\\lambda)*sqrt(h_2)) + sqrt(2)*sqrt(h_2)*EFunction_ns(h_1, h_2, \\lambda, 1, 0)/(4*sqrt(\\lambda)*sqrt(h_1)) - sqrt(2)*sqrt(h_1)*sqrt(h_2)*EFunction_ns(h_1, h_2, \\lambda, 1, 1)/(4*\\lambda**(3/2))"
      ]
     },
     "metadata": {},
     "output_type": "display_data"
    },
    {
     "name": "stdout",
     "output_type": "stream",
     "text": [
      "- \\frac{h_{1} {\\cal F}^{(2)}\\left(h_{1}, h_{2}, \\lambda\\right)}{2 h_{2}} - \\frac{h_{2} {\\cal F}^{(2)}\\left(h_{1}, h_{2}, \\lambda\\right)}{2 h_{1}} + \\frac{h_{1} h_{2} {\\cal F}^{(2)}\\left(h_{1}, h_{2}, \\lambda\\right)}{2 \\lambda^{2}} + \\frac{\\sqrt{2} \\sqrt{h_{1}} {\\cal E}_{2}\\left(h_{1}, h_{2}, \\lambda\\right)}{4 \\sqrt{\\lambda} \\sqrt{h_{2}}} + \\frac{\\sqrt{2} \\sqrt{h_{2}} {\\cal E}_{1}\\left(h_{1}, h_{2}, \\lambda\\right)}{4 \\sqrt{\\lambda} \\sqrt{h_{1}}} - \\frac{\\sqrt{2} \\sqrt{h_{1}} \\sqrt{h_{2}} {\\cal E}_{12}\\left(h_{1}, h_{2}, \\lambda\\right)}{4 \\lambda^{\\frac{3}{2}}}\n"
     ]
    }
   ],
   "source": [
    "expr = cF2Function_ns(h1, h2, l).diff(l).expand()\n",
    "\n",
    "display(expr)\n",
    "sp.print_latex(expr)"
   ]
  },
  {
   "cell_type": "markdown",
   "metadata": {},
   "source": [
    "### Численный расчет"
   ]
  },
  {
   "cell_type": "markdown",
   "metadata": {},
   "source": [
    "#### Определения"
   ]
  },
  {
   "cell_type": "code",
   "execution_count": null,
   "metadata": {},
   "outputs": [],
   "source": [
    "def _Z2_ns_E_terms(h1, h2, l):\n",
    "    def func(s1, s2): return np.exp(s1*h1+s2*h2+s1*s2*l)\n",
    "    return np.asarray([[func(s1, s2) for s2 in SIGMAS] for s1 in SIGMAS])\n",
    "\n",
    "def _Z2_ns_F_terms(h1, h2, l):\n",
    "    def func(s1, s2): return f_F2Function((h2+s1*l+s2*l*h2/h1)/np.sqrt(2*l*h2/h1))\n",
    "    return np.asarray([[func(s1, s2) for s2 in SIGMAS] for s1 in SIGMAS])"
   ]
  },
  {
   "cell_type": "code",
   "execution_count": null,
   "metadata": {},
   "outputs": [],
   "source": [
    "def f_cF2Function_ns(h1, h2, l):\n",
    "    _terms = _Z2_ns_E_terms(h1, h2, l)*_Z2_ns_F_terms(h1, h2, l)\n",
    "    def _sigmas_func_12(s1, s2): return s1*s2\n",
    "    return _Z2_sum_terms(_terms, _sigmas_func_12)\n",
    "\n",
    "def v_cF2Function_ns(x): return f_cF2Function_ns(*x)"
   ]
  },
  {
   "cell_type": "code",
   "execution_count": null,
   "metadata": {},
   "outputs": [],
   "source": [
    "def f_Z2_ns(h1, h2, l):\n",
    "    return np.sqrt(2)*(2*np.pi)**2/(np.sqrt(h1*h2*l))*f_cF2Function_ns(h1, h2, l)"
   ]
  },
  {
   "cell_type": "code",
   "execution_count": null,
   "metadata": {},
   "outputs": [],
   "source": [
    "def raw_Z2_ns(h1, h2, l):\n",
    "    def _sqrt(x): return np.sqrt(h2**2+l**2+2*h2*l*x)\n",
    "    def func(x): return np.exp(h1*x)*f_Z1(_sqrt(x))\n",
    "    return 2*np.pi*quad(func, -1, 1)[0]\n",
    "\n",
    "def v_raw_Z2_ns(x): return raw_Z2_ns(*x)"
   ]
  },
  {
   "cell_type": "code",
   "execution_count": null,
   "metadata": {},
   "outputs": [],
   "source": [
    "# def f_EFunction_ns(h1, h2, l, arg_s1, arg_s2):\n",
    "#     def _sigmas_func(s1, s2):\n",
    "#         result = 1\n",
    "#         if arg_s1:\n",
    "#             result *= s1\n",
    "#         if arg_s2:\n",
    "#             result *= s2\n",
    "#         return result\n",
    "#     return _Z2_sum_terms(_Z2_ns_E_terms(h1, h2, l), _sigmas_func)\n",
    "\n",
    "# module_ns_dictionary = {\"cF2Function_ns\": f_cF2Function_ns, \"EFunction_ns\": f_EFunction_ns, \"F2Function\": f_F2Function}"
   ]
  },
  {
   "cell_type": "markdown",
   "metadata": {},
   "source": [
    "#### Проверка"
   ]
  },
  {
   "cell_type": "code",
   "execution_count": null,
   "metadata": {},
   "outputs": [
    {
     "ename": "NameError",
     "evalue": "name 'quad' is not defined",
     "output_type": "error",
     "traceback": [
      "\u001b[0;31m---------------------------------------------------------------------------\u001b[0m",
      "\u001b[0;31mNameError\u001b[0m                                 Traceback (most recent call last)",
      "Cell \u001b[0;32mIn[30], line 2\u001b[0m\n\u001b[1;32m      1\u001b[0m args \u001b[38;5;241m=\u001b[39m \u001b[38;5;241m3\u001b[39m, \u001b[38;5;241m2\u001b[39m, \u001b[38;5;241m1.5\u001b[39m\n\u001b[0;32m----> 2\u001b[0m \u001b[38;5;28mprint\u001b[39m(\u001b[43mraw_Z2_ns\u001b[49m\u001b[43m(\u001b[49m\u001b[38;5;241;43m*\u001b[39;49m\u001b[43margs\u001b[49m\u001b[43m)\u001b[49m)\n\u001b[1;32m      3\u001b[0m \u001b[38;5;28mprint\u001b[39m(f_Z2_ns(\u001b[38;5;241m*\u001b[39margs))\n",
      "Cell \u001b[0;32mIn[27], line 4\u001b[0m, in \u001b[0;36mraw_Z2_ns\u001b[0;34m(h1, h2, l)\u001b[0m\n\u001b[1;32m      2\u001b[0m \u001b[38;5;28;01mdef\u001b[39;00m \u001b[38;5;21m_sqrt\u001b[39m(x): \u001b[38;5;28;01mreturn\u001b[39;00m np\u001b[38;5;241m.\u001b[39msqrt(h2\u001b[38;5;241m*\u001b[39m\u001b[38;5;241m*\u001b[39m\u001b[38;5;241m2\u001b[39m\u001b[38;5;241m+\u001b[39ml\u001b[38;5;241m*\u001b[39m\u001b[38;5;241m*\u001b[39m\u001b[38;5;241m2\u001b[39m\u001b[38;5;241m+\u001b[39m\u001b[38;5;241m2\u001b[39m\u001b[38;5;241m*\u001b[39mh2\u001b[38;5;241m*\u001b[39ml\u001b[38;5;241m*\u001b[39mx)\n\u001b[1;32m      3\u001b[0m \u001b[38;5;28;01mdef\u001b[39;00m \u001b[38;5;21mfunc\u001b[39m(x): \u001b[38;5;28;01mreturn\u001b[39;00m np\u001b[38;5;241m.\u001b[39mexp(h1\u001b[38;5;241m*\u001b[39mx)\u001b[38;5;241m*\u001b[39mf_Z1(_sqrt(x))\n\u001b[0;32m----> 4\u001b[0m \u001b[38;5;28;01mreturn\u001b[39;00m \u001b[38;5;241m2\u001b[39m\u001b[38;5;241m*\u001b[39mnp\u001b[38;5;241m.\u001b[39mpi\u001b[38;5;241m*\u001b[39m\u001b[43mquad\u001b[49m(func, \u001b[38;5;241m-\u001b[39m\u001b[38;5;241m1\u001b[39m, \u001b[38;5;241m1\u001b[39m)[\u001b[38;5;241m0\u001b[39m]\n",
      "\u001b[0;31mNameError\u001b[0m: name 'quad' is not defined"
     ]
    }
   ],
   "source": [
    "args = 3, 2, 1.5\n",
    "print(raw_Z2_ns(*args))\n",
    "print(f_Z2_ns(*args))"
   ]
  },
  {
   "cell_type": "code",
   "execution_count": null,
   "metadata": {},
   "outputs": [
    {
     "name": "stdout",
     "output_type": "stream",
     "text": [
      "16.26477756622653\n",
      "16.26477756622638\n",
      "\n",
      "14.133140858579903\n",
      "14.133140858580846\n",
      "\n",
      "14.618960735571534\n",
      "14.618960735572816\n"
     ]
    }
   ],
   "source": [
    "f_cF2_ns_diff_h1 = sp.lambdify((h1, h2, l), cF2Function_ns(h1, h2, l).diff(h1), [module_ns_dictionary, \"scipy\"])\n",
    "f_cF2_ns_diff_h2 = sp.lambdify((h1, h2, l), cF2Function_ns(h1, h2, l).diff(h2), [module_ns_dictionary, \"scipy\"])\n",
    "f_cF2_ns_diff_l  = sp.lambdify((h1, h2, l), cF2Function_ns(h1, h2, l).diff(l),  [module_ns_dictionary, \"scipy\"])\n",
    "\n",
    "args = 1, 2, 1.4\n",
    "\n",
    "print(nd.directionaldiff(v_cF2Function_ns, args, [1, 0, 0], n=1))\n",
    "print(f_cF2_ns_diff_h1(*args))\n",
    "print()\n",
    "print(nd.directionaldiff(v_cF2Function_ns, args, [0, 1, 0], n=1))\n",
    "print(f_cF2_ns_diff_h2(*args))\n",
    "print()\n",
    "print(nd.directionaldiff(v_cF2Function_ns, args, [0, 0, 1], n=1))\n",
    "print(f_cF2_ns_diff_l(*args))"
   ]
  },
  {
   "cell_type": "markdown",
   "metadata": {},
   "source": [
    "## Моменты"
   ]
  },
  {
   "cell_type": "code",
   "execution_count": null,
   "metadata": {},
   "outputs": [
    {
     "data": {
      "text/latex": [
       "$\\displaystyle \\frac{4 \\sqrt{2} \\pi^{2} {\\cal F}^{(2)}\\left(h_{1}, h_{2}, \\lambda\\right)}{\\sqrt{\\lambda} \\sqrt{h_{1}} \\sqrt{h_{2}}}$"
      ],
      "text/plain": [
       "4*sqrt(2)*pi**2*cF2Function_ns(h_1, h_2, \\lambda)/(sqrt(\\lambda)*sqrt(h_1)*sqrt(h_2))"
      ]
     },
     "execution_count": 32,
     "metadata": {},
     "output_type": "execute_result"
    }
   ],
   "source": [
    "Z2_ns = sp.sqrt(2)*(2*sp.pi)**2/sp.sqrt(h1*h2*l)*cF2Function_ns(h1, h2, l)\n",
    "Z2_ns"
   ]
  },
  {
   "cell_type": "markdown",
   "metadata": {},
   "source": [
    "### $\\left<m^2_h\\right>$ в симметричном случае"
   ]
  },
  {
   "cell_type": "code",
   "execution_count": null,
   "metadata": {},
   "outputs": [],
   "source": [
    "expr_m_par_2 = Z2_ns.diff(h1, 2)/Z2_ns\n",
    "expr_m_par_2 = expr_m_par_2.expand()\n",
    "expr_m_par_2 = expr_m_par_2.subs({h1: h, h2: h}).subs(subs_to_moments).expand()\n",
    "expr_m_par_2 = expr_m_par_2.subs(subs_to_m_eta).factor().expand()\n",
    "# print(expr_m_par_2.collect([EFunction(h, l, 0, 0)/EFunction(h, l, 1, 1), m, eta], sp.factor))\n",
    "expr_m_par_2"
   ]
  },
  {
   "cell_type": "code",
   "execution_count": null,
   "metadata": {},
   "outputs": [
    {
     "name": "stdout",
     "output_type": "stream",
     "text": [
      "0.8345854948296006\n",
      "0.8345854948275206\n"
     ]
    }
   ],
   "source": [
    "f_expr_m_par_2 = sp.lambdify((h, l, m, m_eta), expr_m_par_2, [module_dictionary_norm, \"scipy\"])\n",
    "\n",
    "args = 10, 1.2\n",
    "args_moment = f_expr_m(*args), f_expr_eta(*args)\n",
    "m_eta_value = f_expr_m_eta(*args, *args_moment)\n",
    "\n",
    "args_ns = args[0], args[0], args[1]\n",
    "print(nd.directionaldiff(v_raw_Z2_ns, args_ns, [1, 0, 0], n=2)/v_raw_Z2_ns(args_ns))\n",
    "print(f_expr_m_par_2(*args, args_moment[0], m_eta_value))"
   ]
  },
  {
   "cell_type": "code",
   "execution_count": null,
   "metadata": {},
   "outputs": [
    {
     "data": {
      "text/latex": [
       "$\\displaystyle \\frac{\\sqrt{2} \\lambda^{\\frac{3}{2}} \\sqrt{h_{1}} {\\cal E}_{2}\\left(h_{1}, h_{2}, \\lambda\\right)}{8 h_{2}^{\\frac{5}{2}} {\\cal F}^{(2)}\\left(h_{1}, h_{2}, \\lambda\\right)} - \\frac{\\sqrt{2} \\lambda^{\\frac{3}{2}} {\\cal E}_{1}\\left(h_{1}, h_{2}, \\lambda\\right)}{8 \\sqrt{h_{1}} h_{2}^{\\frac{3}{2}} {\\cal F}^{(2)}\\left(h_{1}, h_{2}, \\lambda\\right)} - \\frac{\\sqrt{2} \\lambda^{\\frac{3}{2}} {\\cal E}_{2}\\left(h_{1}, h_{2}, \\lambda\\right)}{8 h_{1}^{\\frac{3}{2}} \\sqrt{h_{2}} {\\cal F}^{(2)}\\left(h_{1}, h_{2}, \\lambda\\right)} + \\frac{\\sqrt{2} \\lambda^{\\frac{3}{2}} \\sqrt{h_{2}} {\\cal E}_{1}\\left(h_{1}, h_{2}, \\lambda\\right)}{8 h_{1}^{\\frac{5}{2}} {\\cal F}^{(2)}\\left(h_{1}, h_{2}, \\lambda\\right)} - \\frac{\\sqrt{2} \\sqrt{\\lambda} \\sqrt{h_{1}} {\\cal E}_{12}\\left(h_{1}, h_{2}, \\lambda\\right)}{8 h_{2}^{\\frac{3}{2}} {\\cal F}^{(2)}\\left(h_{1}, h_{2}, \\lambda\\right)} + \\frac{\\sqrt{2} \\sqrt{\\lambda} {\\cal E}_{}\\left(h_{1}, h_{2}, \\lambda\\right)}{4 \\sqrt{h_{1}} \\sqrt{h_{2}} {\\cal F}^{(2)}\\left(h_{1}, h_{2}, \\lambda\\right)} - \\frac{\\sqrt{2} \\sqrt{\\lambda} {\\cal E}_{2}\\left(h_{1}, h_{2}, \\lambda\\right)}{8 \\sqrt{h_{1}} h_{2}^{\\frac{3}{2}} {\\cal F}^{(2)}\\left(h_{1}, h_{2}, \\lambda\\right)} - \\frac{\\sqrt{2} \\sqrt{\\lambda} \\sqrt{h_{2}} {\\cal E}_{12}\\left(h_{1}, h_{2}, \\lambda\\right)}{8 h_{1}^{\\frac{3}{2}} {\\cal F}^{(2)}\\left(h_{1}, h_{2}, \\lambda\\right)} - \\frac{\\sqrt{2} \\sqrt{\\lambda} {\\cal E}_{1}\\left(h_{1}, h_{2}, \\lambda\\right)}{8 h_{1}^{\\frac{3}{2}} \\sqrt{h_{2}} {\\cal F}^{(2)}\\left(h_{1}, h_{2}, \\lambda\\right)} - \\frac{\\lambda^{2} h_{1}}{4 h_{2}^{3}} + \\frac{\\lambda^{2}}{2 h_{1} h_{2}} - \\frac{\\lambda^{2} h_{2}}{4 h_{1}^{3}} + \\frac{\\lambda}{2 h_{2}^{2}} + \\frac{\\lambda}{2 h_{1}^{2}} + \\frac{1}{4 h_{1} h_{2}} + \\frac{h_{1} h_{2}}{4 \\lambda^{2}} + \\frac{\\sqrt{2} \\sqrt{h_{1}} {\\cal E}_{2}\\left(h_{1}, h_{2}, \\lambda\\right)}{8 \\sqrt{\\lambda} \\sqrt{h_{2}} {\\cal F}^{(2)}\\left(h_{1}, h_{2}, \\lambda\\right)} + \\frac{\\sqrt{2} \\sqrt{h_{2}} {\\cal E}_{1}\\left(h_{1}, h_{2}, \\lambda\\right)}{8 \\sqrt{\\lambda} \\sqrt{h_{1}} {\\cal F}^{(2)}\\left(h_{1}, h_{2}, \\lambda\\right)} - \\frac{\\sqrt{2} {\\cal E}_{12}\\left(h_{1}, h_{2}, \\lambda\\right)}{8 \\sqrt{\\lambda} \\sqrt{h_{1}} \\sqrt{h_{2}} {\\cal F}^{(2)}\\left(h_{1}, h_{2}, \\lambda\\right)} - \\frac{\\sqrt{2} \\sqrt{h_{1}} \\sqrt{h_{2}} {\\cal E}_{12}\\left(h_{1}, h_{2}, \\lambda\\right)}{8 \\lambda^{\\frac{3}{2}} {\\cal F}^{(2)}\\left(h_{1}, h_{2}, \\lambda\\right)}$"
      ],
      "text/plain": [
       "sqrt(2)*\\lambda**(3/2)*sqrt(h_1)*EFunction_ns(h_1, h_2, \\lambda, 0, 1)/(8*h_2**(5/2)*cF2Function_ns(h_1, h_2, \\lambda)) - sqrt(2)*\\lambda**(3/2)*EFunction_ns(h_1, h_2, \\lambda, 1, 0)/(8*sqrt(h_1)*h_2**(3/2)*cF2Function_ns(h_1, h_2, \\lambda)) - sqrt(2)*\\lambda**(3/2)*EFunction_ns(h_1, h_2, \\lambda, 0, 1)/(8*h_1**(3/2)*sqrt(h_2)*cF2Function_ns(h_1, h_2, \\lambda)) + sqrt(2)*\\lambda**(3/2)*sqrt(h_2)*EFunction_ns(h_1, h_2, \\lambda, 1, 0)/(8*h_1**(5/2)*cF2Function_ns(h_1, h_2, \\lambda)) - sqrt(2)*sqrt(\\lambda)*sqrt(h_1)*EFunction_ns(h_1, h_2, \\lambda, 1, 1)/(8*h_2**(3/2)*cF2Function_ns(h_1, h_2, \\lambda)) + sqrt(2)*sqrt(\\lambda)*EFunction_ns(h_1, h_2, \\lambda, 0, 0)/(4*sqrt(h_1)*sqrt(h_2)*cF2Function_ns(h_1, h_2, \\lambda)) - sqrt(2)*sqrt(\\lambda)*EFunction_ns(h_1, h_2, \\lambda, 0, 1)/(8*sqrt(h_1)*h_2**(3/2)*cF2Function_ns(h_1, h_2, \\lambda)) - sqrt(2)*sqrt(\\lambda)*sqrt(h_2)*EFunction_ns(h_1, h_2, \\lambda, 1, 1)/(8*h_1**(3/2)*cF2Function_ns(h_1, h_2, \\lambda)) - sqrt(2)*sqrt(\\lambda)*EFunction_ns(h_1, h_2, \\lambda, 1, 0)/(8*h_1**(3/2)*sqrt(h_2)*cF2Function_ns(h_1, h_2, \\lambda)) - \\lambda**2*h_1/(4*h_2**3) + \\lambda**2/(2*h_1*h_2) - \\lambda**2*h_2/(4*h_1**3) + \\lambda/(2*h_2**2) + \\lambda/(2*h_1**2) + 1/(4*h_1*h_2) + h_1*h_2/(4*\\lambda**2) + sqrt(2)*sqrt(h_1)*EFunction_ns(h_1, h_2, \\lambda, 0, 1)/(8*sqrt(\\lambda)*sqrt(h_2)*cF2Function_ns(h_1, h_2, \\lambda)) + sqrt(2)*sqrt(h_2)*EFunction_ns(h_1, h_2, \\lambda, 1, 0)/(8*sqrt(\\lambda)*sqrt(h_1)*cF2Function_ns(h_1, h_2, \\lambda)) - sqrt(2)*EFunction_ns(h_1, h_2, \\lambda, 1, 1)/(8*sqrt(\\lambda)*sqrt(h_1)*sqrt(h_2)*cF2Function_ns(h_1, h_2, \\lambda)) - sqrt(2)*sqrt(h_1)*sqrt(h_2)*EFunction_ns(h_1, h_2, \\lambda, 1, 1)/(8*\\lambda**(3/2)*cF2Function_ns(h_1, h_2, \\lambda))"
      ]
     },
     "execution_count": 43,
     "metadata": {},
     "output_type": "execute_result"
    }
   ],
   "source": [
    "expr = Z2_ns.diff(h1, h2)/Z2_ns\n",
    "expr = expr.expand()\n",
    "# expr = expr.subs({h1: h, h2: h}).subs(subs_to_moments).expand()\n",
    "# expr = expr.subs(subs_to_m_eta).factor().expand()\n",
    "expr"
   ]
  },
  {
   "cell_type": "markdown",
   "metadata": {},
   "source": [
    "### $\\Psi$ в симметричном случае"
   ]
  },
  {
   "cell_type": "markdown",
   "metadata": {},
   "source": [
    "#### Численный расчет"
   ]
  },
  {
   "cell_type": "code",
   "execution_count": null,
   "metadata": {},
   "outputs": [],
   "source": [
    "from scipy.special import iv\n",
    "\n",
    "def _raw_Z2_general(h1_per_2, h1_par_2, h2, l):\n",
    "    def _sqrt(x): return np.sqrt(h2**2+l**2+2*h2*l*np.cos(x))\n",
    "    def func(x): return iv(0, h1_per_2*np.sin(x))*np.exp(h1_par_2*np.cos(x))*f_Z1(_sqrt(x))*np.sin(x)\n",
    "    return 2*np.pi*quad(func, 0, np.pi)[0]\n",
    "\n",
    "def raw_Z2_general(h1, h2, l):\n",
    "    h2_norm = np.linalg.norm(h2)\n",
    "    h1_par_2 = h1.dot(h2)/h2_norm\n",
    "    h1_per_2 = np.sqrt(np.abs(h1.dot(h1) - h1_par_2**2))\n",
    "    return _raw_Z2_general(h1_per_2, h1_par_2, h2_norm, l)"
   ]
  },
  {
   "cell_type": "code",
   "execution_count": null,
   "metadata": {},
   "outputs": [
    {
     "name": "stdout",
     "output_type": "stream",
     "text": [
      "782.8469849077993\n",
      "782.8469849077994\n"
     ]
    }
   ],
   "source": [
    "arg_h1 = np.asarray([0, 0, 2])\n",
    "arg_h2 = np.asarray([0, 0, 1])\n",
    "arg_l = 2\n",
    "\n",
    "print(raw_Z2_general(arg_h1, arg_h2, arg_l))\n",
    "print(raw_Z2_ns(2, 1, 2))"
   ]
  },
  {
   "cell_type": "code",
   "execution_count": null,
   "metadata": {},
   "outputs": [],
   "source": [
    "def calc_diff(func, args):\n",
    "    if len(args) == 0:\n",
    "        return func\n",
    "    func = calc_diff(func, args[1:])\n",
    "    def diff(x0):\n",
    "        x1 = np.copy(x0)\n",
    "        x2 = np.copy(x0)\n",
    "        x1[args[0]] += 1e-4\n",
    "        x2[args[0]] -= 1e-4\n",
    "        return (func(x1)-func(x2))/(2*1e-4)\n",
    "    return diff"
   ]
  },
  {
   "cell_type": "code",
   "execution_count": null,
   "metadata": {},
   "outputs": [
    {
     "name": "stdout",
     "output_type": "stream",
     "text": [
      "[-0.84147098]\n",
      "0.8414709848078965\n"
     ]
    }
   ],
   "source": [
    "print(calc_diff(lambda x: np.sin(x), [0, 0])([1.]))\n",
    "print(np.sin(1))"
   ]
  },
  {
   "cell_type": "code",
   "execution_count": null,
   "metadata": {},
   "outputs": [],
   "source": [
    "def raw_psi(h, l, nk):\n",
    "    def func(args):\n",
    "        h, l, gamma1, gamma2  = args\n",
    "        h = np.asarray([0, 0, h])\n",
    "        h1 = h + gamma1*nk\n",
    "        h2 = h + gamma2*nk\n",
    "        return raw_Z2_general(h1, h2, l)\n",
    "    return (calc_diff(func, [1, 3, 3])([h, l, 0, 0]) - calc_diff(func, [2, 3])([h, l, 0, 0]))/raw_Z2(h, l)\n",
    "    # return (calc_diff(func, [3, 3])([h, l, 0, 0]))/raw_Z2(h, l)"
   ]
  },
  {
   "cell_type": "code",
   "execution_count": null,
   "metadata": {},
   "outputs": [
    {
     "name": "stdout",
     "output_type": "stream",
     "text": [
      "-0.06225928895713271\n",
      "-0.06146556308531417\n"
     ]
    }
   ],
   "source": [
    "args = 1.4, 1.6\n",
    "vnk = np.asarray([0, 0, 1])\n",
    "\n",
    "print(raw_psi(*args, vnk))\n",
    "print((1-f_expr_eta(*args))*f_expr_m(*args)**3*(0.46134-1.3836))"
   ]
  },
  {
   "cell_type": "markdown",
   "metadata": {},
   "source": [
    "#### Символьные вычисления"
   ]
  },
  {
   "cell_type": "code",
   "execution_count": null,
   "metadata": {},
   "outputs": [],
   "source": [
    "from sympy.vector import CoordSys3D, Del\n",
    "\n",
    "N = CoordSys3D(\"N\")\n",
    "delop = Del()\n",
    "\n",
    "vh1, vh2, vh3 = sp.symbols(\"h_1 h_2 h_3\")\n",
    "vh = vh1*N.i + vh2*N.j + vh3*N.k\n",
    "\n",
    "nk1, nk2, nk3 = sp.symbols(\"n_{1K} n_{2K} n_{3K}\")\n",
    "nk = nk1*N.i + nk2*N.j + nk3*N.k"
   ]
  },
  {
   "cell_type": "code",
   "execution_count": null,
   "metadata": {},
   "outputs": [],
   "source": [
    "gamma1, gamma2 = sp.symbols(\"\\\\gamma_1 \\\\gamma_2\", positive=True)"
   ]
  },
  {
   "cell_type": "code",
   "execution_count": null,
   "metadata": {},
   "outputs": [],
   "source": [
    "v1 = vh + gamma1*nk\n",
    "v2 = vh + gamma2*nk\n",
    "\n",
    "v1_par_2 = v1.dot(v2)/v2.magnitude()\n",
    "v1_per_2 = sp.sqrt(v1.dot(v1) - v1_par_2**2)\n",
    "v2_magnitude = v2.magnitude()"
   ]
  },
  {
   "cell_type": "code",
   "execution_count": null,
   "metadata": {},
   "outputs": [],
   "source": [
    "def _diff_func(func, args): \n",
    "    if len(args) == 0:\n",
    "        return func\n",
    "\n",
    "    arg = args[0]\n",
    "    if isinstance(func, sp.Function):\n",
    "        func = func.fdiff(arg)\n",
    "        return _diff_func(func, args[1:])\n",
    "    if isinstance(func, sp.Subs):\n",
    "        return sp.Subs(_diff_func(func.args[0], args), *func.args[1:])\n",
    "    if isinstance(func, sp.Derivative):\n",
    "        return sp.Derivative(_diff_func(func.args[0], args), *func.args[1:])"
   ]
  },
  {
   "cell_type": "code",
   "execution_count": null,
   "metadata": {},
   "outputs": [
    {
     "data": {
      "text/latex": [
       "$\\displaystyle - \\frac{\\left(2 h_{1}^{2} n_{1K}^{2} - h_{1}^{2} n_{2K}^{2} - h_{1}^{2} n_{3K}^{2} + 6 h_{1} h_{2} n_{1K} n_{2K} + 6 h_{1} h_{3} n_{1K} n_{3K} - h_{2}^{2} n_{1K}^{2} + 2 h_{2}^{2} n_{2K}^{2} - h_{2}^{2} n_{3K}^{2} + 6 h_{2} h_{3} n_{2K} n_{3K} - h_{3}^{2} n_{1K}^{2} - h_{3}^{2} n_{2K}^{2} + 2 h_{3}^{2} n_{3K}^{2}\\right) \\left(- 3 \\lambda^{2} \\left<\\eta\\right> {\\cal E}_{12}\\left(h, \\lambda\\right) + 6 \\lambda^{2} \\left<m\\right> h {\\cal E}_{}\\left(h, \\lambda\\right) - 6 \\lambda^{2} \\left<m\\right> h {\\cal E}_{12}\\left(h, \\lambda\\right) + 3 \\lambda^{2} {\\cal E}_{}\\left(h, \\lambda\\right) + 2 \\lambda \\left<m\\right> h^{3} {\\cal E}_{}\\left(h, \\lambda\\right) - 2 \\lambda \\left<m\\right> h^{3} {\\cal E}_{12}\\left(h, \\lambda\\right) - 6 \\lambda \\left<m\\right> h {\\cal E}_{12}\\left(h, \\lambda\\right) + 4 \\lambda h^{2} {\\cal E}_{}\\left(h, \\lambda\\right) - 3 \\lambda {\\cal E}_{12}\\left(h, \\lambda\\right) - \\left<\\eta\\right> h^{4} {\\cal E}_{12}\\left(h, \\lambda\\right) - 2 \\left<m\\right> h^{3} {\\cal E}_{12}\\left(h, \\lambda\\right) + h^{4} {\\cal E}_{}\\left(h, \\lambda\\right) - h^{2} {\\cal E}_{12}\\left(h, \\lambda\\right)\\right)}{8 \\lambda^{2} h^{4} {\\cal E}_{12}\\left(h, \\lambda\\right)}$"
      ],
      "text/plain": [
       "-(2*h_1**2*n_{1K}**2 - h_1**2*n_{2K}**2 - h_1**2*n_{3K}**2 + 6*h_1*h_2*n_{1K}*n_{2K} + 6*h_1*h_3*n_{1K}*n_{3K} - h_2**2*n_{1K}**2 + 2*h_2**2*n_{2K}**2 - h_2**2*n_{3K}**2 + 6*h_2*h_3*n_{2K}*n_{3K} - h_3**2*n_{1K}**2 - h_3**2*n_{2K}**2 + 2*h_3**2*n_{3K}**2)*(-3*\\lambda**2*\\left<\\eta\\right>*EFunction(h, \\lambda, 1, 1) + 6*\\lambda**2*\\left<m\\right>*h*EFunction(h, \\lambda, 0, 0) - 6*\\lambda**2*\\left<m\\right>*h*EFunction(h, \\lambda, 1, 1) + 3*\\lambda**2*EFunction(h, \\lambda, 0, 0) + 2*\\lambda*\\left<m\\right>*h**3*EFunction(h, \\lambda, 0, 0) - 2*\\lambda*\\left<m\\right>*h**3*EFunction(h, \\lambda, 1, 1) - 6*\\lambda*\\left<m\\right>*h*EFunction(h, \\lambda, 1, 1) + 4*\\lambda*h**2*EFunction(h, \\lambda, 0, 0) - 3*\\lambda*EFunction(h, \\lambda, 1, 1) - \\left<\\eta\\right>*h**4*EFunction(h, \\lambda, 1, 1) - 2*\\left<m\\right>*h**3*EFunction(h, \\lambda, 1, 1) + h**4*EFunction(h, \\lambda, 0, 0) - h**2*EFunction(h, \\lambda, 1, 1))/(8*\\lambda**2*h**4*EFunction(h, \\lambda, 1, 1))"
      ]
     },
     "execution_count": 112,
     "metadata": {},
     "output_type": "execute_result"
    }
   ],
   "source": [
    "Z = sp.Function(\"Z\")(v1_per_2, v1_par_2, v2_magnitude, l)\n",
    "\n",
    "def two_diff_func(func, arg1, arg2):\n",
    "    args = func.args\n",
    "    result = 0\n",
    "    for i, arg in enumerate(args):\n",
    "        result += arg.diff(arg1, arg2).subs({gamma2: 0}).factor()*_diff_func(func, [i+1])\n",
    "\n",
    "        factor = arg.diff(arg1).subs({gamma2: 0})\n",
    "        for j, j_arg in enumerate(args):\n",
    "            term = (factor*j_arg.diff(arg2)).subs({gamma2: 0}).factor()\n",
    "            result += term*_diff_func(func, [i+1, j+1])\n",
    "    return result\n",
    "\n",
    "expr_psi = (two_diff_func(Z, gamma1, gamma1).diff(l) - two_diff_func(Z, gamma1, gamma2)).subs({gamma1: 0, gamma2: 0})\n",
    "expr_psi = expr_psi.subs(vh.dot(vh), h**2).expand()\n",
    "\n",
    "def v_per_diff_eval(*args):\n",
    "    func = args[0]\n",
    "    diff_args = args[1:]\n",
    "    per_arg = func.args[0]\n",
    "    non_per_diff_args = tuple(filter(lambda item: item[0] != per_arg, diff_args))\n",
    "    per_diff_args = tuple(filter(lambda item: item[0] == per_arg, diff_args))\n",
    "\n",
    "    if len(per_diff_args) == 0:\n",
    "        return sp.Derivative(*args)\n",
    "    \n",
    "    _, n = per_diff_args[0]\n",
    "\n",
    "    if n == 2:\n",
    "        func = func - _diff_func(func, (2, 2))\n",
    "        func /= 2\n",
    "    elif n == 1:\n",
    "        return 0\n",
    "    else:\n",
    "        return sp.Derivative(*args)\n",
    "\n",
    "    if len(non_per_diff_args) > 0:\n",
    "        func = sp.Derivative(func, *non_per_diff_args)\n",
    "\n",
    "    return func\n",
    "\n",
    "expr_psi = expr_psi.replace(sp.Derivative, v_per_diff_eval).doit()\n",
    "\n",
    "expr_psi = expr_psi.replace(sp.Function(\"Z\"), lambda *args: Z2_ns.subs(dict(zip([h1, h2, l], args[1:])))).doit()\n",
    "expr_psi = (expr_psi/Z2_ns.subs({h1: h, h2: h})).expand()\n",
    "expr_psi = expr_psi.subs(subs_to_moments)\n",
    "expr_psi = expr_psi.factor()\n",
    "expr_psi"
   ]
  },
  {
   "cell_type": "code",
   "execution_count": null,
   "metadata": {},
   "outputs": [
    {
     "name": "stdout",
     "output_type": "stream",
     "text": [
      "-0.015562017813131329\n",
      "-0.01560789008725465\n",
      "-0.015359392870385248\n"
     ]
    }
   ],
   "source": [
    "f_expr_psi = sp.lambdify((vh1, vh2, vh3, nk1, nk2, nk3, h, l, m, eta), expr_psi, module_dictionary)\n",
    " \n",
    "args = 1.4, 1.6\n",
    "vh_args =  np.asarray([0, 0, args[0]])\n",
    "nk_args = np.asarray([0, 1, 1.])\n",
    "nk_args /= np.linalg.norm(nk_args)\n",
    "args_moment = f_expr_m(*args), f_expr_eta(*args)\n",
    "\n",
    "print(f_expr_psi(*vh_args, *nk_args, *args, *args_moment))\n",
    "print(raw_psi(*args, nk_args))\n",
    "print((1-f_expr_eta(*args))*f_expr_m(*args)**3*(0.46134-1.3836*(vh_args/np.linalg.norm(vh_args)).dot(nk_args)**2))"
   ]
  },
  {
   "cell_type": "code",
   "execution_count": null,
   "metadata": {},
   "outputs": [
    {
     "data": {
      "text/latex": [
       "$\\displaystyle \\frac{\\left(3 \\lambda \\left<m\\right> - 3 \\lambda {\\left<m\\eta\\right>} - 2 \\left<\\eta\\right> h + \\left<m\\right> h^{2} - h^{2} {\\left<m\\eta\\right>}\\right) \\left(2 h_{1}^{2} n_{1K}^{2} - h_{1}^{2} n_{2K}^{2} - h_{1}^{2} n_{3K}^{2} + 6 h_{1} h_{2} n_{1K} n_{2K} + 6 h_{1} h_{3} n_{1K} n_{3K} - h_{2}^{2} n_{1K}^{2} + 2 h_{2}^{2} n_{2K}^{2} - h_{2}^{2} n_{3K}^{2} + 6 h_{2} h_{3} n_{2K} n_{3K} - h_{3}^{2} n_{1K}^{2} - h_{3}^{2} n_{2K}^{2} + 2 h_{3}^{2} n_{3K}^{2}\\right)}{4 \\lambda h^{3}}$"
      ],
      "text/plain": [
       "(3*\\lambda*\\left<m\\right> - 3*\\lambda*{\\left<m\\eta\\right>} - 2*\\left<\\eta\\right>*h + \\left<m\\right>*h**2 - h**2*{\\left<m\\eta\\right>})*(2*h_1**2*n_{1K}**2 - h_1**2*n_{2K}**2 - h_1**2*n_{3K}**2 + 6*h_1*h_2*n_{1K}*n_{2K} + 6*h_1*h_3*n_{1K}*n_{3K} - h_2**2*n_{1K}**2 + 2*h_2**2*n_{2K}**2 - h_2**2*n_{3K}**2 + 6*h_2*h_3*n_{2K}*n_{3K} - h_3**2*n_{1K}**2 - h_3**2*n_{2K}**2 + 2*h_3**2*n_{3K}**2)/(4*\\lambda*h**3)"
      ]
     },
     "execution_count": 114,
     "metadata": {},
     "output_type": "execute_result"
    }
   ],
   "source": [
    "expr_psi_upsilon = expr_psi.expand().subs(subs_to_m_eta).factor().expand()\n",
    "expr_psi_upsilon.factor()"
   ]
  },
  {
   "cell_type": "code",
   "execution_count": null,
   "metadata": {},
   "outputs": [
    {
     "data": {
      "text/latex": [
       "$\\displaystyle \\frac{\\left(3 \\left<m\\right> + h {\\left<\\eta^2\\right>} - h - 3 {\\left<m\\eta\\right>}\\right) \\left(2 h_{1}^{2} n_{1K}^{2} - h_{1}^{2} n_{2K}^{2} - h_{1}^{2} n_{3K}^{2} + 6 h_{1} h_{2} n_{1K} n_{2K} + 6 h_{1} h_{3} n_{1K} n_{3K} - h_{2}^{2} n_{1K}^{2} + 2 h_{2}^{2} n_{2K}^{2} - h_{2}^{2} n_{3K}^{2} + 6 h_{2} h_{3} n_{2K} n_{3K} - h_{3}^{2} n_{1K}^{2} - h_{3}^{2} n_{2K}^{2} + 2 h_{3}^{2} n_{3K}^{2}\\right)}{4 h^{3}}$"
      ],
      "text/plain": [
       "(3*\\left<m\\right> + h*{\\left<\\eta^2\\right>} - h - 3*{\\left<m\\eta\\right>})*(2*h_1**2*n_{1K}**2 - h_1**2*n_{2K}**2 - h_1**2*n_{3K}**2 + 6*h_1*h_2*n_{1K}*n_{2K} + 6*h_1*h_3*n_{1K}*n_{3K} - h_2**2*n_{1K}**2 + 2*h_2**2*n_{2K}**2 - h_2**2*n_{3K}**2 + 6*h_2*h_3*n_{2K}*n_{3K} - h_3**2*n_{1K}**2 - h_3**2*n_{2K}**2 + 2*h_3**2*n_{3K}**2)/(4*h**3)"
      ]
     },
     "execution_count": 115,
     "metadata": {},
     "output_type": "execute_result"
    }
   ],
   "source": [
    "expr_psi_upsilon_Q0 = expr_psi_upsilon.replace(l, 2/(eta2-1)*((m-m_eta)/2*h-eta)).factor()\n",
    "expr_psi_upsilon_Q0"
   ]
  },
  {
   "cell_type": "code",
   "execution_count": null,
   "metadata": {},
   "outputs": [
    {
     "data": {
      "text/latex": [
       "$\\displaystyle 2 h_{1}^{2} n_{1K}^{2} - h_{1}^{2} n_{2K}^{2} - h_{1}^{2} n_{3K}^{2} + 6 h_{1} h_{2} n_{1K} n_{2K} + 6 h_{1} h_{3} n_{1K} n_{3K} - h_{2}^{2} n_{1K}^{2} + 2 h_{2}^{2} n_{2K}^{2} - h_{2}^{2} n_{3K}^{2} + 6 h_{2} h_{3} n_{2K} n_{3K} - h_{3}^{2} n_{1K}^{2} - h_{3}^{2} n_{2K}^{2} + 2 h_{3}^{2} n_{3K}^{2}$"
      ],
      "text/plain": [
       "2*h_1**2*n_{1K}**2 - h_1**2*n_{2K}**2 - h_1**2*n_{3K}**2 + 6*h_1*h_2*n_{1K}*n_{2K} + 6*h_1*h_3*n_{1K}*n_{3K} - h_2**2*n_{1K}**2 + 2*h_2**2*n_{2K}**2 - h_2**2*n_{3K}**2 + 6*h_2*h_3*n_{2K}*n_{3K} - h_3**2*n_{1K}**2 - h_3**2*n_{2K}**2 + 2*h_3**2*n_{3K}**2"
      ]
     },
     "execution_count": 116,
     "metadata": {},
     "output_type": "execute_result"
    }
   ],
   "source": [
    "expr_psi_nk = expr_psi_upsilon_Q0.args[-1]\n",
    "expr_psi_nk"
   ]
  },
  {
   "cell_type": "code",
   "execution_count": null,
   "metadata": {},
   "outputs": [
    {
     "data": {
      "text/latex": [
       "$\\displaystyle 0$"
      ],
      "text/plain": [
       "0"
      ]
     },
     "execution_count": 117,
     "metadata": {},
     "output_type": "execute_result"
    }
   ],
   "source": [
    "expr = expr_psi_nk-(3*(vh.dot(nk)**2)-vh.dot(vh))\n",
    "expr = expr.expand()\n",
    "expr = expr.subs({nk1**2: 1-nk2**2-nk3**2})\n",
    "expr.expand()"
   ]
  },
  {
   "cell_type": "code",
   "execution_count": null,
   "metadata": {},
   "outputs": [
    {
     "data": {
      "text/latex": [
       "$\\displaystyle \\frac{3 \\left<m\\right>}{4 h} + \\frac{{\\left<\\eta^2\\right>}}{4} - \\frac{1}{4} - \\frac{3 {\\left<m\\eta\\right>}}{4 h}$"
      ],
      "text/plain": [
       "3*\\left<m\\right>/(4*h) + {\\left<\\eta^2\\right>}/4 - 1/4 - 3*{\\left<m\\eta\\right>}/(4*h)"
      ]
     },
     "metadata": {},
     "output_type": "display_data"
    },
    {
     "name": "stdout",
     "output_type": "stream",
     "text": [
      "\\frac{3 \\left<m\\right>}{4 h} + \\frac{{\\left<\\eta^2\\right>}}{4} - \\frac{1}{4} - \\frac{3 {\\left<m\\eta\\right>}}{4 h}\n"
     ]
    }
   ],
   "source": [
    "expr = expr_psi_upsilon_Q0/expr_psi_nk*h**2\n",
    "expr = expr.factor().expand()\n",
    "\n",
    "display(expr)\n",
    "sp.print_latex(expr)"
   ]
  }
 ],
 "metadata": {
  "kernelspec": {
   "display_name": "3.11.2",
   "language": "python",
   "name": "python3"
  },
  "language_info": {
   "codemirror_mode": {
    "name": "ipython",
    "version": 3
   },
   "file_extension": ".py",
   "mimetype": "text/x-python",
   "name": "python",
   "nbconvert_exporter": "python",
   "pygments_lexer": "ipython3",
   "version": "3.11.2"
  }
 },
 "nbformat": 4,
 "nbformat_minor": 2
}
