{
 "cells": [
  {
   "cell_type": "code",
   "execution_count": 1,
   "metadata": {},
   "outputs": [],
   "source": [
    "import sympy as sp\n",
    "from sympy import abc"
   ]
  },
  {
   "cell_type": "code",
   "execution_count": 2,
   "metadata": {},
   "outputs": [],
   "source": [
    "from scipy.integrate import quad\n",
    "from scipy.special import dawsn\n",
    "import numpy as np\n",
    "import scipy.optimize as opt\n",
    "import numdifftools as nd"
   ]
  },
  {
   "cell_type": "markdown",
   "metadata": {},
   "source": [
    "# Ферромагнетик"
   ]
  },
  {
   "cell_type": "markdown",
   "metadata": {},
   "source": [
    "## Выражение для $Z^{(3)}$"
   ]
  },
  {
   "cell_type": "markdown",
   "metadata": {},
   "source": [
    "### Определения"
   ]
  },
  {
   "cell_type": "code",
   "execution_count": 3,
   "metadata": {},
   "outputs": [],
   "source": [
    "class SigmaSymbol(sp.Symbol):\n",
    "    def _latex(self, printer, exp=None):\n",
    "        if exp is None:\n",
    "            return self.name\n",
    "        else:\n",
    "            exp = printer.doprint(exp)\n",
    "            return f\"{self.name}^{exp}\"\n",
    "\n",
    "    def _eval_power(self, expt):\n",
    "        if expt.is_integer:\n",
    "            d, m = divmod(expt, 2)\n",
    "            return self**m\n",
    "\n",
    "\n",
    "SIGMAS = [-1, 1]"
   ]
  },
  {
   "cell_type": "markdown",
   "metadata": {},
   "source": [
    "### Аргументы"
   ]
  },
  {
   "cell_type": "code",
   "execution_count": 4,
   "metadata": {},
   "outputs": [],
   "source": [
    "h_i, h_j = sp.symbols(\"h_i h_j\", positive=True)\n",
    "p = sp.Symbol(\"p\", positive=True)\n",
    "l_ij = sp.Symbol(\"\\\\lambda_{ij}\", positive=True)\n",
    "l_ik = sp.Symbol(\"\\\\lambda_{ik}\", positive=True) \n",
    "s1, s2, s3 = SigmaSymbol(\"\\\\sigma_1\"), SigmaSymbol(\"\\\\sigma_2\"),  SigmaSymbol(\"\\\\sigma_3\")"
   ]
  },
  {
   "cell_type": "code",
   "execution_count": 5,
   "metadata": {},
   "outputs": [
    {
     "data": {
      "text/latex": [
       "$\\displaystyle - \\frac{\\sigma_1 \\sigma_2 \\lambda_{ij} h_{i}}{h_{j}} + \\sigma_1 \\sigma_2 \\lambda_{ik} - \\frac{\\lambda_{ij} h_{i}}{h_{j}} - \\frac{\\lambda_{ij} h_{j}}{2 h_{i}} + t^{2} - \\frac{h_{i} h_{j}}{2 \\lambda_{ij}}$"
      ],
      "text/plain": [
       "-\\sigma_1*\\sigma_2*\\lambda_{ij}*h_i/h_j + \\sigma_1*\\sigma_2*\\lambda_{ik} - \\lambda_{ij}*h_i/h_j - \\lambda_{ij}*h_j/(2*h_i) + t**2 - h_i*h_j/(2*\\lambda_{ij})"
      ]
     },
     "metadata": {},
     "output_type": "display_data"
    },
    {
     "data": {
      "text/latex": [
       "$\\displaystyle - \\frac{\\sqrt{2} \\sigma_1 \\lambda_{ij} h_{i}}{2 \\sqrt{\\lambda_{ik}} h_{j}} + \\frac{\\sqrt{2} \\sigma_1 \\sqrt{\\lambda_{ik}}}{2} - \\frac{\\sqrt{2} \\sigma_2 \\lambda_{ij} h_{i}}{2 \\sqrt{\\lambda_{ik}} h_{j}} + \\frac{\\sqrt{2} \\sigma_2 \\sqrt{\\lambda_{ik}}}{2} + \\frac{\\sqrt{\\lambda_{ij}} \\sqrt{h_{i}} t}{\\sqrt{\\lambda_{ik}} \\sqrt{h_{j}}}$"
      ],
      "text/plain": [
       "-sqrt(2)*\\sigma_1*\\lambda_{ij}*h_i/(2*sqrt(\\lambda_{ik})*h_j) + sqrt(2)*\\sigma_1*sqrt(\\lambda_{ik})/2 - sqrt(2)*\\sigma_2*\\lambda_{ij}*h_i/(2*sqrt(\\lambda_{ik})*h_j) + sqrt(2)*\\sigma_2*sqrt(\\lambda_{ik})/2 + sqrt(\\lambda_{ij})*sqrt(h_i)*t/(sqrt(\\lambda_{ik})*sqrt(h_j))"
      ]
     },
     "metadata": {},
     "output_type": "display_data"
    },
    {
     "data": {
      "text/latex": [
       "$\\displaystyle \\frac{\\sqrt{2} \\sqrt{h_{j}} \\left(\\sigma_3 \\lambda_{ij} + \\frac{\\lambda_{ij} h_{i} \\left(\\sigma_1 + \\sigma_2\\right)}{h_{j}} + h_{i}\\right)}{2 \\sqrt{\\lambda_{ij}} \\sqrt{h_{i}}}$"
      ],
      "text/plain": [
       "sqrt(2)*sqrt(h_j)*(\\sigma_3*\\lambda_{ij} + \\lambda_{ij}*h_i*(\\sigma_1 + \\sigma_2)/h_j + h_i)/(2*sqrt(\\lambda_{ij})*sqrt(h_i))"
      ]
     },
     "metadata": {},
     "output_type": "display_data"
    }
   ],
   "source": [
    "x, t = abc.x, abc.t\n",
    "arg_exp = h_j*x\n",
    "arg_exp = arg_exp.replace(\n",
    "    x, sp.solve(sp.sqrt(h_i**2+l_ij**2+2*h_i*l_ij*x)-t, x)[0]\n",
    ").expand()\n",
    "arg_exp += (s1+s2)*t + s1*s2*l_ik\n",
    "expr_limit = h_i+s3*l_ij\n",
    "arg_F2 = (t+(s1+s2)*l_ik)/sp.sqrt(2*l_ik)\n",
    "\n",
    "arg_exp = arg_exp.replace(t, t-(s1+s2)*l_ij*h_i/h_j).expand()\n",
    "arg_F2 = arg_F2.replace(t, t-(s1+s2)*l_ij*h_i/h_j).expand()\n",
    "expr_limit += (s1+s2)*l_ij*h_i/h_j\n",
    "\n",
    "arg_exp = arg_exp.replace(t, t*sp.sqrt(2*l_ij*h_i/h_j)).expand()\n",
    "arg_F2 = arg_F2.replace(t, t*sp.sqrt(2*l_ij*h_i/h_j)).expand()\n",
    "expr_limit /= sp.sqrt(2*l_ij*h_i/h_j)\n",
    "\n",
    "display(arg_exp)\n",
    "display(arg_F2)\n",
    "display(expr_limit)"
   ]
  },
  {
   "cell_type": "code",
   "execution_count": 6,
   "metadata": {},
   "outputs": [
    {
     "data": {
      "text/latex": [
       "$\\displaystyle \\sigma_1 \\sigma_2 \\lambda_{ik} + \\sigma_1 \\sigma_3 \\lambda_{ij} + \\sigma_1 h_{i} + \\sigma_2 \\sigma_3 \\lambda_{ij} + \\sigma_2 h_{i} + \\sigma_3 h_{j}$"
      ],
      "text/plain": [
       "\\sigma_1*\\sigma_2*\\lambda_{ik} + \\sigma_1*\\sigma_3*\\lambda_{ij} + \\sigma_1*h_i + \\sigma_2*\\sigma_3*\\lambda_{ij} + \\sigma_2*h_i + \\sigma_3*h_j"
      ]
     },
     "metadata": {},
     "output_type": "display_data"
    }
   ],
   "source": [
    "arg_exp -= t**2\n",
    "arg_exp += expr_limit**2\n",
    "arg_exp = arg_exp.expand()\n",
    "display(arg_exp)"
   ]
  },
  {
   "cell_type": "markdown",
   "metadata": {},
   "source": [
    "### Производные $F^{(3)}$"
   ]
  },
  {
   "cell_type": "code",
   "execution_count": 7,
   "metadata": {},
   "outputs": [],
   "source": [
    "class F2Function(sp.Function):\n",
    "    def _latex(self, printer, exp=None):\n",
    "        arg = printer.doprint(self.args[0])\n",
    "        if exp is None:\n",
    "            return \"F^{(2)}\"+f\"\\\\left({arg}\\\\right)\"\n",
    "        else:\n",
    "            exp = printer.doprint(exp)\n",
    "            return f\"\\\\left({self._latex(printer)}\\\\right)^{exp}\"\n",
    "\n",
    "    def fdiff(self, argindex=1):\n",
    "        return 1-2*self.args[0]*F2Function(self.args[0])\n",
    "    \n",
    "    def _eval_rewrite(self, rule, args, **hints):\n",
    "        x, = args\n",
    "        if rule == sp.erfi:\n",
    "            return sp.sqrt(sp.pi)/2*sp.exp(-x**2)*sp.erfi(x)\n",
    "    \n",
    "    @classmethod\n",
    "    def eval(cls, z):\n",
    "        if z.could_extract_minus_sign():\n",
    "            return -cls(-z)\n",
    "        if z == 0:\n",
    "            return 0"
   ]
  },
  {
   "cell_type": "code",
   "execution_count": 8,
   "metadata": {},
   "outputs": [],
   "source": [
    "t, x, a, b = abc.t, abc.x, abc.a, abc.b"
   ]
  },
  {
   "cell_type": "code",
   "execution_count": 9,
   "metadata": {},
   "outputs": [
    {
     "data": {
      "text/latex": [
       "$\\displaystyle - 2 a^{2} t F^{(2)}\\left(a t + b\\right) - 2 a b F^{(2)}\\left(a t + b\\right) + a$"
      ],
      "text/plain": [
       "-2*a**2*t*F2Function(a*t + b) - 2*a*b*F2Function(a*t + b) + a"
      ]
     },
     "execution_count": 9,
     "metadata": {},
     "output_type": "execute_result"
    }
   ],
   "source": [
    "F2Function(a*t+b).diff(t).expand()"
   ]
  },
  {
   "cell_type": "code",
   "execution_count": 10,
   "metadata": {},
   "outputs": [],
   "source": [
    "def get_I2_n(x, n):\n",
    "    \"\"\"I^{(2)}_n(x)\"\"\"\n",
    "    _expr_n_0 = 1/sp.sqrt(a)*F2Function(sp.sqrt(a)*x)*sp.exp(x**2*(a-1))\n",
    "    _expr_n_1 = 1/(2*a)*sp.exp(-x**2)*(sp.exp(x**2*a)-1)\n",
    "\n",
    "    k = n // 2\n",
    "    if n % 2 == 0:\n",
    "        return _expr_n_0.diff(a, k).replace(a, 1).expand()\n",
    "    else:\n",
    "        return _expr_n_1.diff(a, k).replace(a, 1).expand()"
   ]
  },
  {
   "cell_type": "code",
   "execution_count": 11,
   "metadata": {},
   "outputs": [
    {
     "data": {
      "text/latex": [
       "$\\displaystyle \\frac{x^{3}}{2} - \\frac{3 x}{4} + \\frac{3 F^{(2)}\\left(x\\right)}{4}$"
      ],
      "text/plain": [
       "x**3/2 - 3*x/4 + 3*F2Function(x)/4"
      ]
     },
     "execution_count": 11,
     "metadata": {},
     "output_type": "execute_result"
    }
   ],
   "source": [
    "get_I2_n(x, 4)"
   ]
  },
  {
   "cell_type": "code",
   "execution_count": 12,
   "metadata": {},
   "outputs": [],
   "source": [
    "class F3Function_dummy(sp.Function):\n",
    "    def _latex(self, printer, exp=None):\n",
    "        arg1, arg2, arg3 = list(map(printer.doprint, self.args))\n",
    "        return \"F_{dummy}^{(3)}\"+f\"\\\\left({arg1} \\, | \\, {arg2}, {arg3} \\\\right)\" "
   ]
  },
  {
   "cell_type": "code",
   "execution_count": 13,
   "metadata": {},
   "outputs": [],
   "source": [
    "def get_I3_n(x, a, b, n):\n",
    "    \"\"\"I^{(3)}_n(x, a, b)\"\"\"\n",
    "    if a == 1:\n",
    "        if b == 0:\n",
    "            result = x**(n+1)*F2Function(x)\n",
    "            result -= get_I2_n(x, n+1)\n",
    "            return result/(n+1)\n",
    "\n",
    "        # b != 0\n",
    "        result = -x**n*F2Function(x+b)\n",
    "        result += get_I2_n(x, n)\n",
    "\n",
    "        if n == 0:\n",
    "            result += sp.exp(-x**2)*F2Function(b)\n",
    "        if n != 0:\n",
    "            result += n*get_I3_n(x, a, b, n-1)\n",
    "\n",
    "        return result/(2*b)\n",
    "\n",
    "    # a != 1, b != 0\n",
    "    if n == 0:\n",
    "        return F3Function_dummy(x, a, b)\n",
    "\n",
    "    result = x**(n-1)*F2Function(a*x+b)\n",
    "    result -= a*get_I2_n(x, n-1)\n",
    "    result += 2*a*b*get_I3_n(x, a, b, n-1)\n",
    "\n",
    "    if n == 1:\n",
    "        result -= sp.exp(-x**2)*F2Function(b)\n",
    "    if n != 1:\n",
    "        result -= (n-1)*get_I3_n(x, a, b, n-2)\n",
    "    \n",
    "    return result/(2*(1-a**2))"
   ]
  },
  {
   "cell_type": "code",
   "execution_count": 14,
   "metadata": {},
   "outputs": [
    {
     "data": {
      "text/latex": [
       "$\\displaystyle \\frac{2 a b F_{dummy}^{(3)}\\left(x \\, | \\, a, b \\right)}{2 - 2 a^{2}} - \\frac{a F^{(2)}\\left(x\\right)}{2 - 2 a^{2}} - \\frac{F^{(2)}\\left(b\\right)}{- 2 a^{2} e^{x^{2}} + 2 e^{x^{2}}} + \\frac{F^{(2)}\\left(a x + b\\right)}{2 - 2 a^{2}}$"
      ],
      "text/plain": [
       "2*a*b*F3Function_dummy(x, a, b)/(2 - 2*a**2) - a*F2Function(x)/(2 - 2*a**2) - F2Function(b)/(-2*a**2*exp(x**2) + 2*exp(x**2)) + F2Function(a*x + b)/(2 - 2*a**2)"
      ]
     },
     "execution_count": 14,
     "metadata": {},
     "output_type": "execute_result"
    }
   ],
   "source": [
    "get_I3_n(x, a, b, 1).expand()"
   ]
  },
  {
   "cell_type": "code",
   "execution_count": 15,
   "metadata": {},
   "outputs": [],
   "source": [
    "class F3Function(sp.Function):\n",
    "    def _latex(self, printer, exp=None):\n",
    "        arg1, arg2, arg3 = list(map(printer.doprint, self.args))\n",
    "        return \"F^{(3)}\"+f\"\\\\left({arg1} \\, | \\, {arg2}, {arg3} \\\\right)\" \n",
    "\n",
    "    def fdiff(self, argindex=1):\n",
    "        if argindex == 1:\n",
    "            x, a, b = self.args\n",
    "            return F2Function(a*x+b)-2*x*F3Function(*self.args)\n",
    "        \n",
    "        t, x, a, b = abc.t, abc.x, abc.a, abc.b\n",
    "        expr = F2Function(a*t+b).diff([a, b][argindex-2]).expand()\n",
    "        expr = sp.collect(expr, [F2Function(a*t+b)], evaluate=False)\n",
    "\n",
    "        I3 = expr[F2Function(a*t+b)]\n",
    "        I2 = expr[1]\n",
    "\n",
    "        expr = 0\n",
    "        I3 = sp.Poly(I3, t).as_dict()\n",
    "        for key, item in I3.items():\n",
    "            expr += item*get_I3_n(x, a, b, key[0])\n",
    "        I2 = sp.Poly(I2, t).as_dict()\n",
    "        for key, item in I2.items():\n",
    "            expr += item*get_I2_n(x, key[0])\n",
    "\n",
    "        subs = dict(zip([x, a, b], self.args))\n",
    "        subs.update({F3Function_dummy(x, a, b): F3Function(*self.args)})\n",
    "        return expr.subs(subs) "
   ]
  },
  {
   "cell_type": "code",
   "execution_count": 16,
   "metadata": {},
   "outputs": [
    {
     "data": {
      "text/latex": [
       "$\\displaystyle - \\frac{2 a \\left(2 a b F^{(3)}\\left(x \\, | \\, a, b \\right) - a F^{(2)}\\left(x\\right) + F^{(2)}\\left(a x + b\\right) - e^{- x^{2}} F^{(2)}\\left(b\\right)\\right)}{2 - 2 a^{2}} - 2 b F^{(3)}\\left(x \\, | \\, a, b \\right) + F^{(2)}\\left(x\\right)$"
      ],
      "text/plain": [
       "-2*a*(2*a*b*F3Function(x, a, b) - a*F2Function(x) + F2Function(a*x + b) - exp(-x**2)*F2Function(b))/(2 - 2*a**2) - 2*b*F3Function(x, a, b) + F2Function(x)"
      ]
     },
     "execution_count": 16,
     "metadata": {},
     "output_type": "execute_result"
    }
   ],
   "source": [
    "F3Function(x, a, b).diff(b)"
   ]
  },
  {
   "cell_type": "code",
   "execution_count": 17,
   "metadata": {},
   "outputs": [],
   "source": [
    "class F3Function_degenerate(sp.Function):\n",
    "    def _latex(self, printer, exp=None):\n",
    "        arg1, arg2, arg3, arg4, arg5 = list(map(printer.doprint, self.args))\n",
    "        return \"F_{deg,\"+f\"{arg4},{arg5}\"+\"}^{(3)}\"+f\"\\\\left({arg1} \\, | \\, {arg2}, {arg3} \\\\right)\" \n",
    "    \n",
    "    def fdiff(self, argindex=1):\n",
    "        if argindex == 1:\n",
    "            x, a, b = abc.x, abc.a, abc.b\n",
    "            subs = dict(zip([x, a, b], self.args[:3]))\n",
    "            expr = F2Function(a*x+b).diff(a, self.args[3]).diff(b, self.args[4])\n",
    "\n",
    "            x, a, b, _, _ = self.args\n",
    "            return expr.subs(subs) -2*x*F3Function_degenerate(*self.args)\n",
    "        \n",
    "        args = list(self.args)\n",
    "        args[argindex+1] += 1\n",
    "        return F3Function_degenerate(*args)\n",
    "    \n",
    "\n",
    "def evaluate_F3Function_degenerate(expr):\n",
    "    def evaluate(*args):\n",
    "        t, x, a, b = abc.t, abc.x, abc.a, abc.b\n",
    "        expr = F2Function(a*t+b).diff(a, args[3])\n",
    "        expr = expr.diff(b, args[4]).expand()\n",
    "        expr = sp.collect(expr, [F2Function(a*t+b)], evaluate=False)\n",
    "        \n",
    "        I3 = expr.get(F2Function(a*t+b), sp.Integer(0)).subs({a: 1, b: 0})\n",
    "        I2 = expr.get(1, sp.Integer(0)).subs({a: 1, b: 0})\n",
    "\n",
    "        expr = 0\n",
    "        I3 = sp.Poly(I3, t).as_dict()\n",
    "        for key, item in I3.items():\n",
    "            expr += item*get_I3_n(x, 1, 0, key[0])\n",
    "        I2 = sp.Poly(I2, t).as_dict()\n",
    "        for key, item in I2.items():\n",
    "            expr += item*get_I2_n(x, key[0])\n",
    "\n",
    "        subs = dict(zip([x, a, b], args[:3]))\n",
    "        return expr.subs(subs) \n",
    "    \n",
    "    return expr.replace(F3Function_degenerate, evaluate)"
   ]
  },
  {
   "cell_type": "code",
   "execution_count": 18,
   "metadata": {},
   "outputs": [
    {
     "data": {
      "text/latex": [
       "$\\displaystyle - x \\left(- \\frac{4 x^{3} F^{(2)}\\left(x\\right)}{3} + \\frac{2 x^{2}}{3} + 2 \\left(a x + b\\right) F^{(2)}\\left(a x + b\\right) - \\frac{2}{3} - \\frac{e^{- x^{2}}}{3}\\right)$"
      ],
      "text/plain": [
       "-x*(-4*x**3*F2Function(x)/3 + 2*x**2/3 + 2*(a*x + b)*F2Function(a*x + b) - 2/3 - exp(-x**2)/3)"
      ]
     },
     "execution_count": 18,
     "metadata": {},
     "output_type": "execute_result"
    }
   ],
   "source": [
    "expr = F3Function_degenerate(x, a, b, 0, 0).diff(x, a)\n",
    "expr = evaluate_F3Function_degenerate(expr)\n",
    "\n",
    "expr"
   ]
  },
  {
   "cell_type": "markdown",
   "metadata": {},
   "source": [
    "### Производные $\\cal F^{(3)}$"
   ]
  },
  {
   "cell_type": "code",
   "execution_count": 19,
   "metadata": {},
   "outputs": [],
   "source": [
    "arg_x = (h_i+s3*l_ij+(s1+s2)*h_i/h_j*l_ij)/sp.sqrt(2*h_i/h_j*l_ij)\n",
    "arg_a = sp.sqrt(h_i/h_j*l_ij)/sp.sqrt(l_ik)\n",
    "arg_b = (s1+s2)/sp.sqrt(2*l_ik)*(l_ik-h_i/h_j*l_ij)\n",
    "arg_expr = s3*h_j+s1*s2*l_ik+(s1+s2)*(h_i+s3*l_ij)"
   ]
  },
  {
   "cell_type": "code",
   "execution_count": 20,
   "metadata": {},
   "outputs": [
    {
     "data": {
      "text/latex": [
       "$\\displaystyle \\frac{\\sqrt{2} \\left(\\sigma_1 \\lambda_{ik} + \\sigma_2 \\lambda_{ik} + \\sigma_3 \\lambda_{ij} + h_{i}\\right)}{2 \\sqrt{\\lambda_{ik}}}$"
      ],
      "text/plain": [
       "sqrt(2)*(\\sigma_1*\\lambda_{ik} + \\sigma_2*\\lambda_{ik} + \\sigma_3*\\lambda_{ij} + h_i)/(2*sqrt(\\lambda_{ik}))"
      ]
     },
     "execution_count": 20,
     "metadata": {},
     "output_type": "execute_result"
    }
   ],
   "source": [
    "expr = arg_x*arg_a+arg_b\n",
    "expr.factor()"
   ]
  },
  {
   "cell_type": "code",
   "execution_count": 21,
   "metadata": {},
   "outputs": [
    {
     "data": {
      "text/latex": [
       "$\\displaystyle - \\frac{\\sigma_1 \\sigma_2 \\lambda_{ij} h_{i}}{h_{j}} + \\sigma_1 \\sigma_2 \\lambda_{ik} - \\frac{\\lambda_{ij} h_{i}}{h_{j}} - \\frac{\\lambda_{ij} h_{j}}{2 h_{i}} - \\frac{h_{i} h_{j}}{2 \\lambda_{ij}}$"
      ],
      "text/plain": [
       "-\\sigma_1*\\sigma_2*\\lambda_{ij}*h_i/h_j + \\sigma_1*\\sigma_2*\\lambda_{ik} - \\lambda_{ij}*h_i/h_j - \\lambda_{ij}*h_j/(2*h_i) - h_i*h_j/(2*\\lambda_{ij})"
      ]
     },
     "execution_count": 21,
     "metadata": {},
     "output_type": "execute_result"
    }
   ],
   "source": [
    "expr = arg_expr-arg_x**2\n",
    "expr = expr.expand()\n",
    "expr"
   ]
  },
  {
   "cell_type": "code",
   "execution_count": 22,
   "metadata": {},
   "outputs": [],
   "source": [
    "_sub_expr_E = sp.exp(arg_expr).expand()\n",
    "_sub_expr_F = F2Function(arg_x).expand()\n",
    "_sub_expr_F_tilde = F2Function(arg_x*arg_a+arg_b).expand()\n",
    "_sub_expr_cF3 = F3Function(arg_x, arg_a, arg_b).expand()\n",
    "\n",
    "_dummy_subs = {\n",
    "    _sub_expr_E*_sub_expr_cF3: sp.Dummy(),\n",
    "    _sub_expr_E*_sub_expr_F: sp.Dummy(),\n",
    "    _sub_expr_E*_sub_expr_F_tilde: sp.Dummy(),\n",
    "    _sub_expr_E: sp.Dummy()\n",
    "}\n",
    "\n",
    "\n",
    "def sigmas_sum(expr):\n",
    "    expr = expr.expand().subs(_dummy_subs)\n",
    "\n",
    "    terms = sp.collect(expr, _dummy_subs.values(), evaluate=False)\n",
    "    for dummy in _dummy_subs.values():\n",
    "        if dummy in terms:\n",
    "            terms[dummy] = sp.Poly(terms[dummy], [s1, s2, s3]).as_dict()\n",
    "    for key, dummy in _dummy_subs.items():\n",
    "        if dummy in terms:\n",
    "            terms[key] = terms.pop(dummy)\n",
    "\n",
    "    return terms"
   ]
  },
  {
   "cell_type": "code",
   "execution_count": 23,
   "metadata": {},
   "outputs": [],
   "source": [
    "class Z3SigmasFunctionBase(sp.Function):\n",
    "    def __init__(self, name, *args, **kwargs):\n",
    "        self.name = name\n",
    "\n",
    "    def _latex(self, printer, exp=None):\n",
    "        args = list(map(printer.doprint, self.args[:4]))\n",
    "        args = f\"\\\\left({args[0]}, {args[1]}, {args[2]}, {args[3]}\\\\right)\"\n",
    "\n",
    "        indexes = \"\"\n",
    "        for i, item in enumerate(self.args[4:]):\n",
    "            if item:\n",
    "                indexes += str(i+1)\n",
    "        name = f\"{self.name}\"+\"_{\" + indexes + \"}\"\n",
    "\n",
    "        if exp is None:\n",
    "            return name+args\n",
    "        else:\n",
    "            exp = printer.doprint(exp)\n",
    "            return f\"{name}^{exp}\"+args\n",
    "\n",
    "    def get_sigmas_factor(self):\n",
    "        factor = 1\n",
    "        if self.args[4]:\n",
    "            factor *= s1\n",
    "        if self.args[5]:\n",
    "            factor *= s2\n",
    "        if self.args[6]:\n",
    "            factor *= s3\n",
    "        return factor"
   ]
  },
  {
   "cell_type": "code",
   "execution_count": 24,
   "metadata": {},
   "outputs": [],
   "source": [
    "class EFunction(Z3SigmasFunctionBase):\n",
    "    def __init__(self, *args, **kwargs):\n",
    "        super().__init__(\"{\\\\cal E}\", *args, **kwargs)\n",
    "\n",
    "    def fdiff(self, argindex=1):\n",
    "        factor = self.get_sigmas_factor()\n",
    "        expr = (factor*_sub_expr_E).diff([h_i, h_j, l_ij, l_ik][argindex-1])\n",
    "        terms = sigmas_sum(expr)\n",
    "\n",
    "        subs = dict(zip([h_i, h_j, l_ij, l_ik], self.args[:4]))\n",
    "\n",
    "        result = 0\n",
    "        for key, item in terms[_sub_expr_E].items():\n",
    "            result += item.subs(subs)*EFunction(*self.args[:4], *key)\n",
    "\n",
    "        return result\n",
    "\n",
    "    @classmethod\n",
    "    def eval(cls, *args):\n",
    "        if (not args[4]) and args[5]:\n",
    "            return EFunction(*args[:4], 1, 0, args[-1])\n",
    "    \n",
    "    def _eval_rewrite(self, rule, args, **hints):\n",
    "        if rule == sp.exp:\n",
    "            h1, h2, l1, l2, arg_s1, arg_s2, arg_s3 = args\n",
    "            result = 0\n",
    "            for s1 in SIGMAS:\n",
    "                for s2 in SIGMAS:\n",
    "                    for s3 in SIGMAS:\n",
    "                        term = sp.exp(s3*h2+s1*s2*l2+(s1+s2)*(h1+s3*l1))\n",
    "                        if arg_s1:\n",
    "                            term *= s1\n",
    "                        if arg_s2:\n",
    "                            term *= s2\n",
    "                        if arg_s3:\n",
    "                            term *= s3\n",
    "                        result += term\n",
    "            return result"
   ]
  },
  {
   "cell_type": "code",
   "execution_count": 25,
   "metadata": {},
   "outputs": [
    {
     "data": {
      "text/latex": [
       "$\\displaystyle 2 {\\cal E}_{13}\\left(h_{i}, h_{j}, \\lambda_{ij}, \\lambda_{ik}\\right)$"
      ],
      "text/plain": [
       "2*EFunction(h_i, h_j, \\lambda_{ij}, \\lambda_{ik}, 1, 0, 1)"
      ]
     },
     "execution_count": 25,
     "metadata": {},
     "output_type": "execute_result"
    }
   ],
   "source": [
    "EFunction(h_i, h_j, l_ij, l_ik, 1, 1, 1).diff(h_i)"
   ]
  },
  {
   "cell_type": "code",
   "execution_count": 26,
   "metadata": {},
   "outputs": [
    {
     "data": {
      "text/latex": [
       "$\\displaystyle 2 e^{- \\lambda_{ik} - h_{j}} - 2 e^{- \\lambda_{ik} + h_{j}} + e^{- 2 \\lambda_{ij} + \\lambda_{ik} - 2 h_{i} + h_{j}} - e^{- 2 \\lambda_{ij} + \\lambda_{ik} + 2 h_{i} - h_{j}} - e^{2 \\lambda_{ij} + \\lambda_{ik} - 2 h_{i} - h_{j}} + e^{2 \\lambda_{ij} + \\lambda_{ik} + 2 h_{i} + h_{j}}$"
      ],
      "text/plain": [
       "2*exp(-\\lambda_{ik} - h_j) - 2*exp(-\\lambda_{ik} + h_j) + exp(-2*\\lambda_{ij} + \\lambda_{ik} - 2*h_i + h_j) - exp(-2*\\lambda_{ij} + \\lambda_{ik} + 2*h_i - h_j) - exp(2*\\lambda_{ij} + \\lambda_{ik} - 2*h_i - h_j) + exp(2*\\lambda_{ij} + \\lambda_{ik} + 2*h_i + h_j)"
      ]
     },
     "execution_count": 26,
     "metadata": {},
     "output_type": "execute_result"
    }
   ],
   "source": [
    "EFunction(h_i, h_j, l_ij, l_ik, 1, 1, 1).rewrite(sp.exp)"
   ]
  },
  {
   "cell_type": "code",
   "execution_count": 27,
   "metadata": {},
   "outputs": [],
   "source": [
    "class FFunction(Z3SigmasFunctionBase):\n",
    "    def __init__(self, *args, **kwargs):\n",
    "        super().__init__(\"{\\\\cal F}\", *args, **kwargs)\n",
    "\n",
    "    def fdiff(self, argindex=1):\n",
    "        factor = self.get_sigmas_factor()\n",
    "        expr = (factor*_sub_expr_E*_sub_expr_F).diff([h_i, h_j, l_ij, l_ik][argindex-1])\n",
    "        terms = sigmas_sum(expr)\n",
    "\n",
    "        subs = dict(zip([h_i, h_j, l_ij, l_ik], self.args[:4]))\n",
    "\n",
    "        result = 0\n",
    "        if _sub_expr_E in terms:\n",
    "            for key, item in terms[_sub_expr_E].items():\n",
    "                result += item.subs(subs)*EFunction(*self.args[:4], *key)\n",
    "\n",
    "        for key, item in terms[_sub_expr_E*_sub_expr_F].items():\n",
    "            result += item.subs(subs)*FFunction(*self.args[:4], *key)\n",
    "\n",
    "        return result\n",
    "\n",
    "    @classmethod\n",
    "    def eval(cls, *args):\n",
    "        if (not args[4]) and args[5]:\n",
    "            return FFunction(*args[:4], 1, 0, args[-1])\n",
    "    \n",
    "    def _eval_rewrite(self, rule, args, **hints):\n",
    "        if rule == sp.exp:\n",
    "            h1, h2, l1, l2, arg_s1, arg_s2, arg_s3 = args\n",
    "            result = 0\n",
    "            for s1 in SIGMAS:\n",
    "                for s2 in SIGMAS:\n",
    "                    for s3 in SIGMAS:\n",
    "                        term = sp.exp(s3*h2+s1*s2*l2+(s1+s2)*(h1+s3*l1))\n",
    "                        term *= F2Function((h1+s3*l1+(s1+s2)*l1*h1/h2)/sp.sqrt(2*l1*h1/h2))\n",
    "                        if arg_s1:\n",
    "                            term *= s1\n",
    "                        if arg_s2:\n",
    "                            term *= s2\n",
    "                        if arg_s3:\n",
    "                            term *= s3\n",
    "                        result += term\n",
    "            return result\n"
   ]
  },
  {
   "cell_type": "code",
   "execution_count": 28,
   "metadata": {},
   "outputs": [
    {
     "data": {
      "text/latex": [
       "$\\displaystyle {\\cal F}_{3}\\left(h_{i}, h_{j}, \\lambda_{ij}, \\lambda_{ik}\\right)$"
      ],
      "text/plain": [
       "FFunction(h_i, h_j, \\lambda_{ij}, \\lambda_{ik}, 0, 0, 1)"
      ]
     },
     "execution_count": 28,
     "metadata": {},
     "output_type": "execute_result"
    }
   ],
   "source": [
    "FFunction(h_i, h_j, l_ij, l_ik, 1, 1, 1).diff(l_ik)"
   ]
  },
  {
   "cell_type": "code",
   "execution_count": 29,
   "metadata": {},
   "outputs": [],
   "source": [
    "class FTildeFunction(Z3SigmasFunctionBase):\n",
    "    def __init__(self, *args, **kwargs):\n",
    "        super().__init__( \"\\\\tilde{\\\\cal F}\", *args, **kwargs)\n",
    "\n",
    "    def fdiff(self, argindex=1):\n",
    "        factor = self.get_sigmas_factor()\n",
    "        expr = (factor*_sub_expr_E*_sub_expr_F_tilde).diff([h_i, h_j, l_ij, l_ik][argindex-1])\n",
    "        terms = sigmas_sum(expr)\n",
    "\n",
    "        subs = dict(zip([h_i, h_j, l_ij, l_ik], self.args[:4]))\n",
    "\n",
    "        result = 0\n",
    "        if _sub_expr_E in terms:\n",
    "            for key, item in terms[_sub_expr_E].items():\n",
    "                result += item.subs(subs)*EFunction(*self.args[:4], *key)\n",
    "\n",
    "        for key, item in terms[_sub_expr_E*_sub_expr_F_tilde].items():\n",
    "            result += item.subs(subs)*FTildeFunction(*self.args[:4], *key)\n",
    "\n",
    "        return result\n",
    "\n",
    "    @classmethod\n",
    "    def eval(cls, *args):\n",
    "        if (not args[4]) and args[5]:\n",
    "            return FTildeFunction(*args[:4], 1, 0, args[-1])\n",
    "\n",
    "    def _eval_rewrite(self, rule, args, **hints):\n",
    "        if rule == sp.exp:\n",
    "            h1, h2, l1, l2, arg_s1, arg_s2, arg_s3 = args\n",
    "            result = 0\n",
    "            for s1 in SIGMAS:\n",
    "                for s2 in SIGMAS:\n",
    "                    for s3 in SIGMAS:\n",
    "                        term = sp.exp(s3*h2+s1*s2*l2+(s1+s2)*(h1+s3*l1))\n",
    "                        term *= F2Function((h1+s3*l1+(s1+s2)*l2)/sp.sqrt(2*l2))\n",
    "                        if arg_s1:\n",
    "                            term *= s1\n",
    "                        if arg_s2:\n",
    "                            term *= s2\n",
    "                        if arg_s3:\n",
    "                            term *= s3\n",
    "                        result += term\n",
    "            return result"
   ]
  },
  {
   "cell_type": "code",
   "execution_count": 30,
   "metadata": {},
   "outputs": [
    {
     "data": {
      "text/latex": [
       "$\\displaystyle - \\frac{\\lambda_{ij} \\tilde{\\cal F}_{12}\\left(h_{i}, h_{j}, \\lambda_{ij}, \\lambda_{ik}\\right)}{\\lambda_{ik}} - \\frac{h_{i} \\tilde{\\cal F}_{123}\\left(h_{i}, h_{j}, \\lambda_{ij}, \\lambda_{ik}\\right)}{\\lambda_{ik}} + \\frac{\\sqrt{2} {\\cal E}_{123}\\left(h_{i}, h_{j}, \\lambda_{ij}, \\lambda_{ik}\\right)}{2 \\sqrt{\\lambda_{ik}}}$"
      ],
      "text/plain": [
       "-\\lambda_{ij}*FTildeFunction(h_i, h_j, \\lambda_{ij}, \\lambda_{ik}, 1, 1, 0)/\\lambda_{ik} - h_i*FTildeFunction(h_i, h_j, \\lambda_{ij}, \\lambda_{ik}, 1, 1, 1)/\\lambda_{ik} + sqrt(2)*EFunction(h_i, h_j, \\lambda_{ij}, \\lambda_{ik}, 1, 1, 1)/(2*sqrt(\\lambda_{ik}))"
      ]
     },
     "execution_count": 30,
     "metadata": {},
     "output_type": "execute_result"
    }
   ],
   "source": [
    "FTildeFunction(h_i, h_j, l_ij, l_ik, 1, 1, 1).diff(h_i)"
   ]
  },
  {
   "cell_type": "code",
   "execution_count": 31,
   "metadata": {},
   "outputs": [],
   "source": [
    "# FTildeFunction(h1, h2, l1, l2, 1, 1, 1).rewrite(sp.exp)"
   ]
  },
  {
   "cell_type": "code",
   "execution_count": 32,
   "metadata": {},
   "outputs": [],
   "source": [
    "class cF3Function(sp.Function):\n",
    "    def _latex(self, printer, exp=None):\n",
    "        args = list(map(printer.doprint, self.args[:4]))\n",
    "        args = f\"\\\\left({args[0]}, {args[1]}, {args[2]}, {args[3]}\\\\right)\"\n",
    "        if exp is None:\n",
    "            return \"{\\\\cal F}^{(3)}\"+args\n",
    "        else:\n",
    "            exp = printer.doprint(exp)\n",
    "            return f\"\\\\left({self._latex(printer)}\\\\right)^{exp}\"\n",
    "    \n",
    "    def fdiff(self, argindex=1):\n",
    "        expr = (s1*s2*s3*_sub_expr_E*_sub_expr_cF3).diff([h_i, h_j, l_ij, l_ik][argindex-1])\n",
    "        terms = sigmas_sum(expr)\n",
    "        \n",
    "        subs = dict(zip([h_i, h_j, l_ij, l_ik], self.args[:4]))\n",
    "\n",
    "        result = 0\n",
    "        for key, item in terms[_sub_expr_E].items():\n",
    "            result += item.factor().subs(subs)*EFunction(*self.args[:4], *key)\n",
    "\n",
    "        for key, item in terms[_sub_expr_E*_sub_expr_F].items():\n",
    "            result += item.factor().subs(subs)*FFunction(*self.args[:4], *key)\n",
    "        \n",
    "        for key, item in terms[_sub_expr_E*_sub_expr_F_tilde].items():\n",
    "            result += item.factor().subs(subs)*FTildeFunction(*self.args[:4], *key)\n",
    "        \n",
    "        _term = terms[_sub_expr_E*_sub_expr_cF3][(1, 1, 1)].factor().subs(subs)\n",
    "        result += _term*cF3Function(*self.args)\n",
    "\n",
    "        return result\n",
    "\n",
    "    def _eval_rewrite(self, rule, args, **hints):\n",
    "        if rule == sp.exp:\n",
    "            h1, h2, l1, l2 = args\n",
    "            result = 0\n",
    "            for s1 in SIGMAS:\n",
    "                for s2 in SIGMAS:\n",
    "                    for s3 in SIGMAS:\n",
    "                        arg1 = (h1+s3*l1+(s1+s2)*h1/h2*l1)/sp.sqrt(2*h1/h2*l1)\n",
    "                        arg2 = sp.sqrt(h1/h2*l1/l2)\n",
    "                        arg3 = (s1+s2)/sp.sqrt(2*l2)*(l2-h1/h2*l1)\n",
    "                        term = sp.exp(s3*h2+s1*s2*l2+(s1+s2)*(h1+s3*l1))\n",
    "                        term *= F3Function(arg1, arg2, arg3)\n",
    "                        term *= s1*s2*s3\n",
    "                        result += term\n",
    "            return result"
   ]
  },
  {
   "cell_type": "code",
   "execution_count": 33,
   "metadata": {},
   "outputs": [
    {
     "data": {
      "text/latex": [
       "$\\displaystyle - \\lambda_{ij}^{\\frac{3}{2}} \\sqrt{\\lambda_{ik}} h_{i}^{\\frac{3}{2}} h_{j} {\\cal E}_{123}\\left(h_{i}, h_{j}, \\lambda_{ij}, \\lambda_{ik}\\right) + \\sqrt{2} \\lambda_{ij}^{\\frac{3}{2}} \\lambda_{ik} \\sqrt{h_{i}} h_{j}^{2} \\tilde{\\cal F}_{12}\\left(h_{i}, h_{j}, \\lambda_{ij}, \\lambda_{ik}\\right) + \\sqrt{2} \\sqrt{\\lambda_{ij}} h_{i}^{\\frac{3}{2}} h_{j} \\left(2 \\lambda_{ij} h_{i} - \\lambda_{ik} h_{j}\\right) \\tilde{\\cal F}_{123}\\left(h_{i}, h_{j}, \\lambda_{ij}, \\lambda_{ik}\\right) + 2 \\sqrt{2} \\lambda_{ij}^{2} \\sqrt{\\lambda_{ik}} h_{i}^{2} \\sqrt{h_{j}} {\\cal F}_{13}\\left(h_{i}, h_{j}, \\lambda_{ij}, \\lambda_{ik}\\right) + 2 \\sqrt{h_{j}} \\left(\\lambda_{ij}^{3} h_{i} h_{j} - \\lambda_{ij}^{2} \\lambda_{ik} h_{j}^{2} - \\lambda_{ij}^{2} h_{i}^{2} - \\lambda_{ij} h_{i}^{3} h_{j} + \\lambda_{ik} h_{i}^{2} h_{j}^{2}\\right) {\\cal F}^{(3)}\\left(h_{i}, h_{j}, \\lambda_{ij}, \\lambda_{ik}\\right)$"
      ],
      "text/plain": [
       "-\\lambda_{ij}**(3/2)*sqrt(\\lambda_{ik})*h_i**(3/2)*h_j*EFunction(h_i, h_j, \\lambda_{ij}, \\lambda_{ik}, 1, 1, 1) + sqrt(2)*\\lambda_{ij}**(3/2)*\\lambda_{ik}*sqrt(h_i)*h_j**2*FTildeFunction(h_i, h_j, \\lambda_{ij}, \\lambda_{ik}, 1, 1, 0) + sqrt(2)*sqrt(\\lambda_{ij})*h_i**(3/2)*h_j*(2*\\lambda_{ij}*h_i - \\lambda_{ik}*h_j)*FTildeFunction(h_i, h_j, \\lambda_{ij}, \\lambda_{ik}, 1, 1, 1) + 2*sqrt(2)*\\lambda_{ij}**2*sqrt(\\lambda_{ik})*h_i**2*sqrt(h_j)*FFunction(h_i, h_j, \\lambda_{ij}, \\lambda_{ik}, 1, 0, 1) + 2*sqrt(h_j)*(\\lambda_{ij}**3*h_i*h_j - \\lambda_{ij}**2*\\lambda_{ik}*h_j**2 - \\lambda_{ij}**2*h_i**2 - \\lambda_{ij}*h_i**3*h_j + \\lambda_{ik}*h_i**2*h_j**2)*cF3Function(h_i, h_j, \\lambda_{ij}, \\lambda_{ik})"
      ]
     },
     "execution_count": 33,
     "metadata": {},
     "output_type": "execute_result"
    }
   ],
   "source": [
    "sp.Add(*map(lambda x: x*4*l_ij*h_i**2*sp.sqrt(h_j)*(l_ij*h_i-l_ik*h_j), cF3Function(h_i, h_j, l_ij, l_ik).diff(h_i).args))"
   ]
  },
  {
   "cell_type": "code",
   "execution_count": 34,
   "metadata": {},
   "outputs": [],
   "source": [
    "class cF3Function_degenerate(sp.Function):\n",
    "    def _latex(self, printer, exp=None):\n",
    "        args = list(map(printer.doprint, self.args))\n",
    "        value_args = f\"\\\\left({args[0]}, {args[1]}, {args[2]}, {args[3]}\\\\right)\"\n",
    "        diffs_args = f\"{args[4]}, {args[5]}, {args[6]}, {args[7]}\"\n",
    "        if exp is None:\n",
    "            return \"{\\\\cal F}_{deg,\"+diffs_args+\"}\"+value_args\n",
    "        else:\n",
    "            exp = printer.doprint(exp)\n",
    "            return f\"\\\\left({self._latex(printer)}\\\\right)^{exp}\"\n",
    "    \n",
    "    def fdiff(self, argindex=1):    \n",
    "        args = list(self.args)\n",
    "        args[argindex+3] += 1\n",
    "        return cF3Function_degenerate(*args)\n",
    "\n",
    "\n",
    "def evaluate_cF3Function_degenerate():\n",
    "    F3Function_degenerate(arg_x, arg_a, arg_b, 0, 0)\n",
    "\n",
    "\n",
    "def evaluate_cF3Function_degenerate(expr):\n",
    "    def evaluate(*args):\n",
    "        expr = (s1*s2*s3*_sub_expr_E*F3Function_degenerate(arg_x, arg_a, arg_b, 0, 0)).diff(h_i, args[4])\n",
    "        expr = expr.diff(h_j, args[5]).diff(l_ij, args[6]).diff(l_ik, args[7])\n",
    "        \n",
    "        expr = evaluate_F3Function_degenerate(expr)\n",
    "\n",
    "        terms = sigmas_sum(expr)\n",
    "        \n",
    "        subs = dict(zip([h_i, h_j, l_ij, l_ik], args[:4]))\n",
    "        \n",
    "        result = 0\n",
    "        for key, item in terms[_sub_expr_E].items():\n",
    "            result += item.factor().subs(subs)*EFunction(*args[:4], *key)\n",
    "\n",
    "        for key, item in terms[_sub_expr_E*_sub_expr_F].items():\n",
    "            result += item.factor().subs(subs)*FFunction(*args[:4], *key)\n",
    "\n",
    "        if _sub_expr_E*_sub_expr_F_tilde in terms:\n",
    "            for key, item in terms[_sub_expr_E*_sub_expr_F_tilde].items():\n",
    "                result += item.factor().subs(subs)*FFunction(*args[:4], *key)\n",
    "\n",
    "        return result\n",
    "    \n",
    "    return expr.replace(cF3Function_degenerate, evaluate)"
   ]
  },
  {
   "cell_type": "code",
   "execution_count": 35,
   "metadata": {},
   "outputs": [],
   "source": [
    "# expr = cF3Function_degenerate(h1, h2, l1, l2, *(4*[0])).diff(l1, 2)\n",
    "# expr = evaluate_cF3Function_degenerate(expr)\n",
    "\n",
    "# expr"
   ]
  },
  {
   "cell_type": "markdown",
   "metadata": {},
   "source": [
    "### Расчет $F^{(2)}$ и $F^{(3)}$"
   ]
  },
  {
   "cell_type": "markdown",
   "metadata": {},
   "source": [
    "#### Символьные вычисления"
   ]
  },
  {
   "cell_type": "markdown",
   "metadata": {},
   "source": [
    "##### Определения"
   ]
  },
  {
   "cell_type": "code",
   "execution_count": 36,
   "metadata": {},
   "outputs": [],
   "source": [
    "class erfcx(sp.Function):\n",
    "    def _latex(self, printer, exp=None):\n",
    "        arg = printer.doprint(self.args[0])\n",
    "        if exp is None:\n",
    "            return \"\\operatorname{erfcx}\"+f\"\\\\left({arg}\\\\right)\"\n",
    "        else:\n",
    "            exp = printer.doprint(exp)\n",
    "            return f\"\\\\left({self._latex(printer)}\\\\right)^{exp}\""
   ]
  },
  {
   "cell_type": "code",
   "execution_count": 37,
   "metadata": {},
   "outputs": [],
   "source": [
    "def erfi_to_dawsn(expr):\n",
    "    def __helper(z):\n",
    "        return F2Function(z)*2/sp.sqrt(sp.pi)*sp.exp(z**2)\n",
    "    return expr.replace(sp.erfi, __helper)\n",
    "\n",
    "\n",
    "def erfc_to_erfcx(expr):\n",
    "    def __helper(z):\n",
    "        return erfcx(z)*sp.exp(-z**2)\n",
    "    return expr.replace(sp.erfc, __helper)"
   ]
  },
  {
   "cell_type": "code",
   "execution_count": 38,
   "metadata": {},
   "outputs": [],
   "source": [
    "t, x, a, b = abc.t, abc.x, abc.a, abc.b\n",
    "n, h = abc.n, abc.h\n",
    "n0 = sp.Symbol(\"n_0\")"
   ]
  },
  {
   "cell_type": "markdown",
   "metadata": {},
   "source": [
    "##### $c > 0$"
   ]
  },
  {
   "cell_type": "code",
   "execution_count": 39,
   "metadata": {},
   "outputs": [
    {
     "data": {
      "text/latex": [
       "$\\displaystyle \\frac{e^{- b^{2} + 2 b h n - h^{2} n^{2} - x^{2}} F^{(2)}\\left(\\frac{a \\left(b - h n\\right)}{\\sqrt{c}}\\right)}{\\sqrt{\\pi} \\sqrt{c} n} + \\frac{e^{- 2 a b x + 2 a h n x - b^{2} + 2 b h n + c x^{2} - h^{2} n^{2} - x^{2}} F^{(2)}\\left(\\frac{- a b + a h n + c x}{\\sqrt{c}}\\right)}{\\sqrt{\\pi} \\sqrt{c} n}$"
      ],
      "text/plain": [
       "exp(-b**2 + 2*b*h*n - h**2*n**2 - x**2)*F2Function(a*(b - h*n)/sqrt(c))/(sqrt(pi)*sqrt(c)*n) + exp(-2*a*b*x + 2*a*h*n*x - b**2 + 2*b*h*n + c*x**2 - h**2*n**2 - x**2)*F2Function((-a*b + a*h*n + c*x)/sqrt(c))/(sqrt(pi)*sqrt(c)*n)"
      ]
     },
     "execution_count": 39,
     "metadata": {},
     "output_type": "execute_result"
    }
   ],
   "source": [
    "c = sp.Symbol(\"c\", positive=True)\n",
    "expr = t**2-(a*t+b-n*h)**2\n",
    "expr = expr.expand()\n",
    "expr = expr.replace(a**2, 1-c).expand()\n",
    "expr = sp.integrate(sp.exp(expr), [t, 0, x])*sp.exp(-x**2)/(n*sp.sqrt(sp.pi))\n",
    "expr = expr.expand()\n",
    "expr = erfi_to_dawsn(expr)\n",
    "expr = sp.Add(*map(lambda x: x.simplify(), expr.args))\n",
    "expr"
   ]
  },
  {
   "cell_type": "code",
   "execution_count": 40,
   "metadata": {},
   "outputs": [
    {
     "name": "stdout",
     "output_type": "stream",
     "text": [
      "(a*x + b)/h\n"
     ]
    }
   ],
   "source": [
    "print(sp.solve(expr.args[0].args[-1].diff(n), n)[0])"
   ]
  },
  {
   "cell_type": "code",
   "execution_count": 41,
   "metadata": {},
   "outputs": [
    {
     "name": "stdout",
     "output_type": "stream",
     "text": [
      "b/h\n"
     ]
    }
   ],
   "source": [
    "print(sp.solve(expr.args[1].args[-1].diff(n), n)[0])"
   ]
  },
  {
   "cell_type": "code",
   "execution_count": 42,
   "metadata": {},
   "outputs": [
    {
     "name": "stdout",
     "output_type": "stream",
     "text": [
      "- 2 a b x + 2 a h n_{0} x - b^{2} + 2 b h n_{0} + c x^{2} - h^{2} n^{2} - h^{2} n_{0}^{2} + n \\left(2 a h x + 2 b h - 2 h^{2} n_{0}\\right) - x^{2}\n"
     ]
    },
    {
     "data": {
      "text/latex": [
       "$\\displaystyle - 2 a b x + 2 a h n_{0} x - b^{2} + 2 b h n_{0} + c x^{2} - h^{2} n^{2} - h^{2} n_{0}^{2} + n \\left(2 a h x + 2 b h - 2 h^{2} n_{0}\\right) - x^{2}$"
      ],
      "text/plain": [
       "-2*a*b*x + 2*a*h*n_0*x - b**2 + 2*b*h*n_0 + c*x**2 - h**2*n**2 - h**2*n_0**2 + n*(2*a*h*x + 2*b*h - 2*h**2*n_0) - x**2"
      ]
     },
     "execution_count": 42,
     "metadata": {},
     "output_type": "execute_result"
    }
   ],
   "source": [
    "expr = -2*a*b*x + 2*a*h*n*x - b**2 + 2*b*h*n + c*x**2 - h**2*n**2 - x**2\n",
    "expr = expr.replace(n, n0+n).expand()\n",
    "expr = expr.collect(n)\n",
    "sp.print_latex(expr)\n",
    "expr"
   ]
  },
  {
   "cell_type": "code",
   "execution_count": 43,
   "metadata": {},
   "outputs": [
    {
     "name": "stdout",
     "output_type": "stream",
     "text": [
      "- b^{2} + 2 b h n_{0} - h^{2} n^{2} - h^{2} n_{0}^{2} + n \\left(2 b h - 2 h^{2} n_{0}\\right) - x^{2}\n"
     ]
    },
    {
     "data": {
      "text/latex": [
       "$\\displaystyle - b^{2} + 2 b h n_{0} - h^{2} n^{2} - h^{2} n_{0}^{2} + n \\left(2 b h - 2 h^{2} n_{0}\\right) - x^{2}$"
      ],
      "text/plain": [
       "-b**2 + 2*b*h*n_0 - h**2*n**2 - h**2*n_0**2 + n*(2*b*h - 2*h**2*n_0) - x**2"
      ]
     },
     "execution_count": 43,
     "metadata": {},
     "output_type": "execute_result"
    }
   ],
   "source": [
    "expr = -b**2 + 2*b*h*n - h**2*n**2 - x**2\n",
    "expr = expr.replace(n, n0+n).expand()\n",
    "expr = expr.collect(n)\n",
    "sp.print_latex(expr)\n",
    "expr"
   ]
  },
  {
   "cell_type": "markdown",
   "metadata": {},
   "source": [
    "##### $c < 0$"
   ]
  },
  {
   "cell_type": "code",
   "execution_count": 44,
   "metadata": {},
   "outputs": [
    {
     "name": "stdout",
     "output_type": "stream",
     "text": [
      "\\frac{\\left(\\operatorname{erf}{\\left(\\frac{a b - a h n - c x}{\\sqrt{- c}} \\right)} - \\operatorname{erf}{\\left(\\frac{a \\left(b - h n\\right)}{\\sqrt{- c}} \\right)}\\right) e^{\\frac{- a^{2} b^{2} - a^{2} h^{2} n^{2} - b^{2} c + 2 b h n \\left(a^{2} + c\\right) - c h^{2} n^{2} - c x^{2}}{c}}}{2 n \\sqrt{- c}}\n"
     ]
    },
    {
     "data": {
      "text/latex": [
       "$\\displaystyle \\frac{\\left(\\operatorname{erf}{\\left(\\frac{a b - a h n - c x}{\\sqrt{- c}} \\right)} - \\operatorname{erf}{\\left(\\frac{a \\left(b - h n\\right)}{\\sqrt{- c}} \\right)}\\right) e^{\\frac{- a^{2} b^{2} - a^{2} h^{2} n^{2} - b^{2} c + 2 b h n \\left(a^{2} + c\\right) - c h^{2} n^{2} - c x^{2}}{c}}}{2 n \\sqrt{- c}}$"
      ],
      "text/plain": [
       "(erf((a*b - a*h*n - c*x)/sqrt(-c)) - erf(a*(b - h*n)/sqrt(-c)))*exp((-a**2*b**2 - a**2*h**2*n**2 - b**2*c + 2*b*h*n*(a**2 + c) - c*h**2*n**2 - c*x**2)/c)/(2*n*sqrt(-c))"
      ]
     },
     "metadata": {},
     "output_type": "display_data"
    },
    {
     "data": {
      "text/latex": [
       "$\\displaystyle \\frac{\\left(\\operatorname{erfc}{\\left(\\frac{- a b + a h n + c x}{\\sqrt{- c}} \\right)} + \\operatorname{erfc}{\\left(\\frac{a \\left(b - h n\\right)}{\\sqrt{- c}} \\right)} - 2\\right) e^{- \\frac{a^{2} b^{2}}{c} + \\frac{2 a^{2} b h n}{c} - \\frac{a^{2} h^{2} n^{2}}{c} - b^{2} + 2 b h n - h^{2} n^{2} - x^{2}}}{2 n \\sqrt{- c}}$"
      ],
      "text/plain": [
       "(erfc((-a*b + a*h*n + c*x)/sqrt(-c)) + erfc(a*(b - h*n)/sqrt(-c)) - 2)*exp(-a**2*b**2/c + 2*a**2*b*h*n/c - a**2*h**2*n**2/c - b**2 + 2*b*h*n - h**2*n**2 - x**2)/(2*n*sqrt(-c))"
      ]
     },
     "metadata": {},
     "output_type": "display_data"
    },
    {
     "name": "stdout",
     "output_type": "stream",
     "text": [
      "\\frac{\\operatorname{erfcx}\\left(\\frac{- a b + a h n + c x}{\\sqrt{- c}}\\right) e^{- 2 a b x + 2 a h n x - b^{2} + 2 b h n + c x^{2} - h^{2} n^{2} - x^{2}}}{2 n \\sqrt{- c}} + \\frac{\\operatorname{erfcx}\\left(\\frac{a \\left(b - h n\\right)}{\\sqrt{- c}}\\right) e^{- b^{2} + 2 b h n - h^{2} n^{2} - x^{2}}}{2 n \\sqrt{- c}} - \\frac{e^{- \\frac{a^{2} b^{2}}{c} + \\frac{2 a^{2} b h n}{c} - \\frac{a^{2} h^{2} n^{2}}{c} - b^{2} + 2 b h n - h^{2} n^{2} - x^{2}}}{n \\sqrt{- c}}\n"
     ]
    },
    {
     "data": {
      "text/latex": [
       "$\\displaystyle \\frac{\\operatorname{erfcx}\\left(\\frac{- a b + a h n + c x}{\\sqrt{- c}}\\right) e^{- 2 a b x + 2 a h n x - b^{2} + 2 b h n + c x^{2} - h^{2} n^{2} - x^{2}}}{2 n \\sqrt{- c}} + \\frac{\\operatorname{erfcx}\\left(\\frac{a \\left(b - h n\\right)}{\\sqrt{- c}}\\right) e^{- b^{2} + 2 b h n - h^{2} n^{2} - x^{2}}}{2 n \\sqrt{- c}} - \\frac{e^{- \\frac{a^{2} b^{2}}{c} + \\frac{2 a^{2} b h n}{c} - \\frac{a^{2} h^{2} n^{2}}{c} - b^{2} + 2 b h n - h^{2} n^{2} - x^{2}}}{n \\sqrt{- c}}$"
      ],
      "text/plain": [
       "erfcx((-a*b + a*h*n + c*x)/sqrt(-c))*exp(-2*a*b*x + 2*a*h*n*x - b**2 + 2*b*h*n + c*x**2 - h**2*n**2 - x**2)/(2*n*sqrt(-c)) + erfcx(a*(b - h*n)/sqrt(-c))*exp(-b**2 + 2*b*h*n - h**2*n**2 - x**2)/(2*n*sqrt(-c)) - exp(-a**2*b**2/c + 2*a**2*b*h*n/c - a**2*h**2*n**2/c - b**2 + 2*b*h*n - h**2*n**2 - x**2)/(n*sqrt(-c))"
      ]
     },
     "metadata": {},
     "output_type": "display_data"
    }
   ],
   "source": [
    "c = sp.Symbol(\"c\", negative=True)\n",
    "expr = t**2-(a*t+b-n*h)**2\n",
    "expr = expr.expand()\n",
    "expr = expr.replace(a**2, 1-c).expand()\n",
    "expr = sp.integrate(sp.exp(expr), [t, 0, x])*sp.exp(-x**2)/(n*sp.sqrt(sp.pi))\n",
    "expr = expr.simplify()\n",
    "sp.print_latex(expr)\n",
    "display(expr)\n",
    "\n",
    "expr = expr.rewrite(sp.erfc)\n",
    "expr = expr.expand().factor().simplify()\n",
    "display(expr)\n",
    "expr = erfc_to_erfcx(expr).expand()\n",
    "expr = sp.Add(*map(lambda x: x.simplify(), expr.args))\n",
    "sp.print_latex(expr)\n",
    "display(expr)"
   ]
  },
  {
   "cell_type": "code",
   "execution_count": 45,
   "metadata": {},
   "outputs": [
    {
     "name": "stdout",
     "output_type": "stream",
     "text": [
      "(-a**2*b**2 + 2*a**2*b*h*n - a**2*h**2*n**2 + c*(-b**2 + 2*b*h*n - h**2*n**2 - x**2))/c\n"
     ]
    }
   ],
   "source": [
    "print(expr.args[0].args[-1].args[0].simplify())"
   ]
  },
  {
   "cell_type": "code",
   "execution_count": 46,
   "metadata": {},
   "outputs": [
    {
     "data": {
      "text/latex": [
       "$\\displaystyle \\left(\\frac{2 a^{2} b h}{c} - \\frac{2 a^{2} h^{2} n}{c} + 2 b h - 2 h^{2} n\\right) e^{- \\frac{a^{2} b^{2}}{c} + \\frac{2 a^{2} b h n}{c} - \\frac{a^{2} h^{2} n^{2}}{c} - b^{2} + 2 b h n - h^{2} n^{2} - x^{2}}$"
      ],
      "text/plain": [
       "(2*a**2*b*h/c - 2*a**2*h**2*n/c + 2*b*h - 2*h**2*n)*exp(-a**2*b**2/c + 2*a**2*b*h*n/c - a**2*h**2*n**2/c - b**2 + 2*b*h*n - h**2*n**2 - x**2)"
      ]
     },
     "metadata": {},
     "output_type": "display_data"
    },
    {
     "name": "stdout",
     "output_type": "stream",
     "text": [
      "[b/h]\n",
      "a**2*b/c - a**2*h*n/c + b - h*n\n"
     ]
    }
   ],
   "source": [
    "expr = sp.exp(-a**2*b**2/c + 2*a**2*b*h*n/c - a**2*h**2*n**2/c - b**2 + 2*b*h*n - h**2*n**2 - x**2)\n",
    "expr = expr.diff(n)\n",
    "display(expr)\n",
    "print(sp.solve(expr, n))\n",
    "\n",
    "print(sp.expand(expr.args[0]/(2*h)))"
   ]
  },
  {
   "cell_type": "markdown",
   "metadata": {},
   "source": [
    "#### Численный расчет"
   ]
  },
  {
   "cell_type": "markdown",
   "metadata": {},
   "source": [
    "##### $F^{(2)}$ "
   ]
  },
  {
   "cell_type": "code",
   "execution_count": 47,
   "metadata": {},
   "outputs": [],
   "source": [
    "def f_F2Function(x):\n",
    "    return dawsn(x)\n",
    "\n",
    "\n",
    "def f_F2Function_int(x):\n",
    "    return np.exp(-x**2)*quad(lambda t: np.exp(t**2), 0, x)[0]\n",
    "\n",
    "\n",
    "def f_F2Function_series(x, NMAX, H):\n",
    "    xx = np.abs(x)\n",
    "    n0 = 2*np.int_(0.5*xx/H+0.5)\n",
    "    xp = xx-n0*H\n",
    "\n",
    "    e1 = np.exp(2.0*xp*H)\n",
    "    e2 = e1*e1\n",
    "    d1 = n0+1\n",
    "    d2 = d1-2.0\n",
    "\n",
    "    result = 0.0\n",
    "    for i in range(NMAX):\n",
    "        result += np.exp(-((2.0*i+1.0)*H)**2)*(e1/d1+1.0/(d2*e1))\n",
    "        d1 = d1 + 2.0\n",
    "        d2 = d2 - 2.0\n",
    "        e1 = e1*e2\n",
    "\n",
    "    return 0.5641895835*np.exp(-xp*xp)*np.sign(x)*result"
   ]
  },
  {
   "cell_type": "code",
   "execution_count": 48,
   "metadata": {},
   "outputs": [],
   "source": [
    "def calc_err(NMAX, H):\n",
    "    max_err = 0\n",
    "    for x in np.linspace(-10, 10, 100):\n",
    "        err = np.abs(f_F2Function_series(x, NMAX, H)-f_F2Function_int(x))\n",
    "        if max_err < err:\n",
    "            max_err = err\n",
    "    return max_err"
   ]
  },
  {
   "cell_type": "code",
   "execution_count": 49,
   "metadata": {},
   "outputs": [],
   "source": [
    "# import matplotlib.pyplot as plt\n",
    "\n",
    "# N_arr = np.arange(1, 16)\n",
    "# err_arr = []\n",
    "\n",
    "# H = 0.2\n",
    "# for N in N_arr:\n",
    "#     err_arr.append(calc_err(N, H))\n",
    "\n",
    "# plt.yscale(\"log\")\n",
    "# plt.plot(N_arr, err_arr)"
   ]
  },
  {
   "cell_type": "markdown",
   "metadata": {},
   "source": [
    "##### $F^{(3)}$ "
   ]
  },
  {
   "cell_type": "code",
   "execution_count": 50,
   "metadata": {},
   "outputs": [],
   "source": [
    "from scipy.special import erfc, erfcx"
   ]
  },
  {
   "cell_type": "code",
   "execution_count": 51,
   "metadata": {},
   "outputs": [],
   "source": [
    "def f_F3Function_int_dawsn(x, a, b):\n",
    "    return np.exp(-x**2)*quad(lambda t: np.exp(t**2)*f_F2Function(a*t+b), 0, x)[0]\n",
    "\n",
    "def f_F3Function_int_int(x, a, b):\n",
    "    return np.exp(-x**2)*quad(lambda t: np.exp(t**2)*f_F2Function_int(a*t+b), 0, x)[0]"
   ]
  },
  {
   "cell_type": "code",
   "execution_count": 52,
   "metadata": {},
   "outputs": [],
   "source": [
    "def __sum_f_F3Function_series(n0, arg_func, func, arg0_exp, delta_arg_exp, NMAX, h):\n",
    "    n1 = n0+1\n",
    "    n2 = n0-1\n",
    "\n",
    "    arg1 = arg_func(n1)\n",
    "    arg2 = arg_func(n2)\n",
    "\n",
    "    e1 = np.exp(arg0_exp + .5*delta_arg_exp)\n",
    "    e2 = np.exp(arg0_exp - .5*delta_arg_exp)\n",
    "    delta_exp = np.exp(delta_arg_exp)\n",
    "\n",
    "    S = 0\n",
    "    for i in range(NMAX):\n",
    "        n = 2*i+1\n",
    "        delta = func(arg1)*e1*np.exp(-h**2*n**2)/n1\n",
    "        S += delta\n",
    "\n",
    "        n = -2*i-1\n",
    "        delta = func(arg2)*e2*np.exp(-h**2*n**2)/n2\n",
    "        S += delta\n",
    "\n",
    "        n1 += 2\n",
    "        n2 -= 2\n",
    "        arg1 = arg_func(n1)\n",
    "        arg2 = arg_func(n2)\n",
    "        e1 *= delta_exp\n",
    "        e2 /= delta_exp\n",
    "\n",
    "    return S\n",
    "\n",
    "\n",
    "def _term1_f_F3Function_series(func, x, a, b, c, _sqrt_c, NMAX, h):\n",
    "    xx = (a*x + b)/h\n",
    "    n0 = 2*np.int_(0.5*xx+np.sign(xx)*0.5)\n",
    "    arg_func = lambda n: (-a*b + c*x + n*a*h)*_sqrt_c\n",
    "    arg0_exp = 2*b*h*n0-h**2*n0**2+2*a*h*n0*x-2*a*b*x+c*x**2-b**2-x**2\n",
    "    delta_arg_exp = 4*a*h*x + 4*b*h - 4*h**2*n0\n",
    "    return __sum_f_F3Function_series(n0, arg_func, func, arg0_exp, delta_arg_exp, NMAX, h)\n",
    "\n",
    "\n",
    "def _term2_f_F3Function_series(func, x, a, b, _sqrt_c, NMAX, h):\n",
    "    xx = b/h\n",
    "    n0 = 2*np.int_(0.5*xx+np.sign(xx)*0.5)\n",
    "    arg_func = lambda n: -a*(b - h*n)*_sqrt_c\n",
    "    arg0_exp = 2*b*h*n0-h**2*n0**2-b**2-x**2\n",
    "    delta_arg_exp = 4*b*h - 4*h**2*n0\n",
    "    return __sum_f_F3Function_series(n0, arg_func, func, arg0_exp, delta_arg_exp, NMAX, h)"
   ]
  },
  {
   "cell_type": "code",
   "execution_count": 53,
   "metadata": {},
   "outputs": [],
   "source": [
    "def antisymmetric_erfcx(x):\n",
    "    if x < 0:\n",
    "        return -erfcx(-x)\n",
    "    return erfcx(x)\n",
    "\n",
    "\n",
    "def f_F3Function_series(x, a, b, NMAX=None, h=None):\n",
    "    if np.isnan(x) or np.isnan(a) or np.isnan(b):\n",
    "        return np.nan\n",
    "    if np.isinf(x) or np.isinf(a) or np.isinf(b):\n",
    "        return np.nan\n",
    "\n",
    "    c = 1-a**2\n",
    "\n",
    "    if c == 1:\n",
    "        return f_F2Function(x) * f_F2Function(b)\n",
    "\n",
    "    if c > 0:\n",
    "        if NMAX is None:\n",
    "            NMAX = 6\n",
    "        if h is None: \n",
    "            h = 0.4\n",
    "\n",
    "        sqrt_c = np.sqrt(c)\n",
    "        _sqrt_c = 1/sqrt_c\n",
    "\n",
    "        S = _term1_f_F3Function_series(f_F2Function, x, a, b, c, _sqrt_c, NMAX, h)\n",
    "        S -= _term2_f_F3Function_series(f_F2Function, x, a, b, _sqrt_c, NMAX, h)\n",
    "\n",
    "        return S/np.sqrt(np.pi)*_sqrt_c\n",
    "    \n",
    "    if c < 0:\n",
    "        if NMAX is None:\n",
    "            NMAX = 6\n",
    "        if h is None: \n",
    "            h = 0.4\n",
    "\n",
    "        sqrt_c = np.sqrt(-c)\n",
    "        _sqrt_c = 1/sqrt_c\n",
    "        \n",
    "        S = _term1_f_F3Function_series(antisymmetric_erfcx, x, a, b, c, _sqrt_c, NMAX, h)\n",
    "        S -= _term2_f_F3Function_series(antisymmetric_erfcx, x, a, b, _sqrt_c, NMAX, h)\n",
    "\n",
    "        factor = -2*np.sign(a)\n",
    "        left, right = (a*b - c*x)/(a*h), b/h\n",
    "        if left != right:\n",
    "            if right < left:\n",
    "                factor *= -1\n",
    "                left, right = right, left\n",
    "      \n",
    "            n_prob = (left+right)/2\n",
    "            start, end = left, right\n",
    "            if a**2*b/c - a**2*h*n_prob/c + b - h*n_prob > 0:\n",
    "                start, end = end, start\n",
    "\n",
    "            step = 2*np.sign(end-start)\n",
    "\n",
    "            n = np.floor(start)\n",
    "            n = n - 1 + n % 2\n",
    "            distance = np.abs(end-start)\n",
    "            if np.abs(n-end) > distance:\n",
    "                n += step\n",
    "                \n",
    "            arg_exp = lambda n: (-a**2*b**2 + 2*a**2*b*h*n - a**2*h**2*n**2)/c - b**2 + 2*b*h*n - h**2*n**2 - x**2\n",
    "            while True:\n",
    "                if max(np.abs(n-start), np.abs(n-end)) > distance:\n",
    "                    break\n",
    "                if n == left:\n",
    "                    if a < 0:\n",
    "                        S -= factor*np.exp(arg_exp(n))/n\n",
    "                if n == right:\n",
    "                    if a < 0:\n",
    "                        S += factor*np.exp(arg_exp(n))/n\n",
    "                    n += step\n",
    "                    continue\n",
    " \n",
    "                val_exp = np.exp(arg_exp(n))\n",
    "                S += factor*val_exp/n\n",
    "                n += step\n",
    "                \n",
    "                if np.abs(factor*val_exp/n) - 1e-7*np.abs(S) < 0:\n",
    "                    break\n",
    "\n",
    "        return S*.5*_sqrt_c\n",
    "\n",
    "    # c == 0\n",
    "    if b == 0:\n",
    "        return x*f_F2Function(x) - .5*(1-np.exp(-x**2))\n",
    "\n",
    "    # b != 0\n",
    "    result = f_F2Function(b)*np.exp(-x**2) \n",
    "    result += f_F2Function(x)\n",
    "    result -= f_F2Function(b+x)\n",
    "    return result*.5/b"
   ]
  },
  {
   "cell_type": "code",
   "execution_count": null,
   "metadata": {},
   "outputs": [
    {
     "data": {
      "text/plain": [
       "2.2947016677315997e-07"
      ]
     },
     "execution_count": 54,
     "metadata": {},
     "output_type": "execute_result"
    }
   ],
   "source": [
    "f_F3Function_series(10, 1, 2)"
   ]
  },
  {
   "cell_type": "code",
   "execution_count": null,
   "metadata": {},
   "outputs": [
    {
     "data": {
      "text/plain": [
       "2.2948535511548633e-09"
      ]
     },
     "execution_count": 55,
     "metadata": {},
     "output_type": "execute_result"
    }
   ],
   "source": [
    "f_F3Function_int_dawsn(10, 1, 2)"
   ]
  },
  {
   "cell_type": "code",
   "execution_count": 56,
   "metadata": {},
   "outputs": [
    {
     "data": {
      "image/png": "[encoded data removed]",
      "text/plain": [
       "<Figure size 640x480 with 1 Axes>"
      ]
     },
     "metadata": {},
     "output_type": "display_data"
    }
   ],
   "source": [
    "import matplotlib.pyplot as plt\n",
    "\n",
    "x = np.linspace(-15, 15, 100)\n",
    "y1 = []\n",
    "y2 = []\n",
    "N = []\n",
    "\n",
    "a, b = 0.9, -1\n",
    "c = 1 - a**2\n",
    "for val_x in x:\n",
    "    y1.append(f_F3Function_int_dawsn(val_x, a, b))\n",
    "    y2.append(f_F3Function_series(val_x, a, b, 5, 0.4))\n",
    "\n",
    "y1, y2 = np.asarray(y1), np.asarray(y2)\n",
    "\n",
    "# plt.plot(x, y1)\n",
    "# plt.plot(x, y2)\n",
    "plt.plot(x, np.abs(y1-y2))\n",
    "plt.yscale(\"log\")\n",
    "\n",
    "# print(x[np.argmax(np.abs(y1-y2))])"
   ]
  },
  {
   "cell_type": "code",
   "execution_count": 57,
   "metadata": {},
   "outputs": [],
   "source": [
    "def calc_error(a, NMAX, h):\n",
    "    max_error = 0\n",
    "    for x in np.linspace(-15, 15, 100):\n",
    "        for b in np.linspace(-10, 10, 10):\n",
    "            error = f_F3Function_int_dawsn(x, a, b)-f_F3Function_series(x, a, b, NMAX, h)\n",
    "            if np.abs(error) > max_error:\n",
    "                max_error = np.abs(error)\n",
    "    return max_error\n",
    "    "
   ]
  },
  {
   "cell_type": "code",
   "execution_count": 58,
   "metadata": {},
   "outputs": [],
   "source": [
    "# import datlib \n",
    "\n",
    "# N = np.arange(2, 15)\n",
    "# error = []\n",
    "# a = .9\n",
    "# h = .4\n",
    "\n",
    "# for n in N:\n",
    "#     error.append(calc_error(a, n, h))\n",
    "\n",
    "# plt.yscale(\"log\")\n",
    "# plt.plot(N, error)\n",
    "\n",
    "# datlib.np2dat(\n",
    "#     f\"data/F3_error_a_{a}_h_{h}.dat\",\n",
    "#     \"N err\".split(),\n",
    "#     np.asarray([\n",
    "#         N, error\n",
    "#     ])\n",
    "# )"
   ]
  },
  {
   "cell_type": "markdown",
   "metadata": {},
   "source": [
    "### Численный расчет"
   ]
  },
  {
   "cell_type": "markdown",
   "metadata": {},
   "source": [
    "#### Определения"
   ]
  },
  {
   "cell_type": "code",
   "execution_count": 59,
   "metadata": {},
   "outputs": [],
   "source": [
    "import Z2 as Z2_module"
   ]
  },
  {
   "cell_type": "code",
   "execution_count": 60,
   "metadata": {},
   "outputs": [],
   "source": [
    "f_F3Function = f_F3Function_series"
   ]
  },
  {
   "cell_type": "code",
   "execution_count": 61,
   "metadata": {},
   "outputs": [],
   "source": [
    "def _Z3_E_terms(h_i, h_j, l_ij, l_ik):\n",
    "    result = np.zeros((2, 2, 2))\n",
    "    for i1, s1 in enumerate(SIGMAS):\n",
    "        for i2, s2 in enumerate(SIGMAS):\n",
    "            for i3, s3 in enumerate(SIGMAS):\n",
    "                arg = s3*h_j+s1*s2*l_ik+(s1+s2)*(h_i+s3*l_ij)\n",
    "                result[i1, i2, i3] = np.exp(arg)\n",
    "    return result\n",
    "\n",
    "def _Z3_F3_terms(h_i, h_j, l_ij, l_ik):\n",
    "    _arg1 = lambda s1, s2, s3: (h_i+s3*l_ij+(s1+s2)*h_i/h_j*l_ij)/np.sqrt(2*h_i/h_j*l_ij)\n",
    "    _arg2 = np.sqrt(h_i/h_j*l_ij/l_ik)\n",
    "    _arg3 = lambda s1, s2: (s1+s2)/np.sqrt(2*l_ik)*(l_ik-h_i/h_j*l_ij)\n",
    "    result = np.zeros((2, 2, 2))\n",
    "    for i1, s1 in enumerate(SIGMAS):\n",
    "        for i2, s2 in enumerate(SIGMAS):\n",
    "            for i3, s3 in enumerate(SIGMAS):\n",
    "                args = _arg1(s1, s2, s3), _arg2, _arg3(s1, s2)\n",
    "                result[i1, i2, i3] = f_F3Function(*args)\n",
    "    return result\n",
    "\n",
    "def _Z3_F_tilde_terms(h_i, h_j, l_ij, l_ik):\n",
    "    result = np.zeros((2, 2, 2))\n",
    "    for i1, s1 in enumerate(SIGMAS):\n",
    "        for i2, s2 in enumerate(SIGMAS):\n",
    "            for i3, s3 in enumerate(SIGMAS):\n",
    "                arg = (h_i+s3*l_ij+(s1+s2)*l_ik)/np.sqrt(2*l_ik)\n",
    "                result[i1, i2, i3] = f_F2Function(arg)\n",
    "    return result\n",
    "\n",
    "def _Z3_F_terms(h_i, h_j, l_ij, l_ik):\n",
    "    result = np.zeros((2, 2, 2))\n",
    "    for i1, s1 in enumerate(SIGMAS):\n",
    "        for i2, s2 in enumerate(SIGMAS):\n",
    "            for i3, s3 in enumerate(SIGMAS):\n",
    "                arg = (h_i+s3*l_ij+(s1+s2)*h_i/h_j*l_ij)/np.sqrt(2*h_i/h_j*l_ij)\n",
    "                result[i1, i2, i3] = f_F2Function(arg)\n",
    "    return result"
   ]
  },
  {
   "cell_type": "code",
   "execution_count": 62,
   "metadata": {},
   "outputs": [],
   "source": [
    "def _Z3_sum_terms(terms, sigmas_func):\n",
    "    result = 0\n",
    "    for i1, s1 in enumerate(SIGMAS):\n",
    "        for i2, s2 in enumerate(SIGMAS):\n",
    "            for i3, s3 in enumerate(SIGMAS):\n",
    "                result += sigmas_func(s1, s2, s3)*terms[i1, i2, i3]\n",
    "    return result"
   ]
  },
  {
   "cell_type": "code",
   "execution_count": 63,
   "metadata": {},
   "outputs": [],
   "source": [
    "def f_cF3Function(h_i, h_j, l_ij, l_ik):\n",
    "    _E_terms = _Z3_E_terms(h_i, h_j, l_ij, l_ik)\n",
    "    _F3_terms = _Z3_F3_terms(h_i, h_j, l_ij, l_ik)\n",
    "    \n",
    "    _terms = _E_terms*_F3_terms\n",
    "    _sigmas_func_123 = lambda s1, s2, s3: s1*s2*s3\n",
    "   \n",
    "    return _Z3_sum_terms(_terms, _sigmas_func_123)"
   ]
  },
  {
   "cell_type": "code",
   "execution_count": 64,
   "metadata": {},
   "outputs": [],
   "source": [
    "def f_Z1(p):\n",
    "    return 4*np.pi/p*np.sinh(p)\n",
    "\n",
    "def raw_Z2(h, l):\n",
    "    def _sqrt(x): return np.sqrt(h**2+l**2+2*h*l*x)\n",
    "    def func(x): return np.exp(h*x)*f_Z1(_sqrt(x))\n",
    "    return 2*np.pi*quad(func, -1, 1)[0]"
   ]
  },
  {
   "cell_type": "code",
   "execution_count": 65,
   "metadata": {},
   "outputs": [],
   "source": [
    "def raw_Z3(h_i, h_j, l_ij, l_ik):\n",
    "    _sqrt = lambda x: np.sqrt(h_i**2+l_ij**2+2*h_i*l_ij*x)\n",
    "    func = lambda x: np.exp(h_j*x)*np.exp(2*_sqrt(x)+l_ik)*Z2_module.calc_Z2_norm(_sqrt(x), l_ik)\n",
    "    return 2*np.pi*quad(func, -1, 1)[0]\n",
    "\n",
    "\n",
    "def Z3(h_i, h_j, l_ij, l_ik):\n",
    "    return 2*(2*np.pi)**3/np.sqrt(h_i*h_j*l_ij*l_ik)*f_cF3Function(h_i, h_j, l_ij, l_ik)"
   ]
  },
  {
   "cell_type": "code",
   "execution_count": 66,
   "metadata": {},
   "outputs": [],
   "source": [
    "v_raw_Z3 = lambda x: raw_Z3(*x)\n",
    "v_cF3 = lambda x: f_cF3Function(*x)\n",
    "v_F3 = lambda x: f_F3Function(*x)"
   ]
  },
  {
   "cell_type": "code",
   "execution_count": 67,
   "metadata": {},
   "outputs": [],
   "source": [
    "def f_EFunction(h_i, h_j, l_ij, l_ik, arg_s1, arg_s2, arg_s3):\n",
    "    def _sigmas_func(s1, s2, s3):\n",
    "        result = 1\n",
    "        if arg_s1:\n",
    "            result *= s1\n",
    "        if arg_s2:\n",
    "            result *= s2\n",
    "        if arg_s3:\n",
    "            result *= s3\n",
    "        return result\n",
    "    return _Z3_sum_terms(_Z3_E_terms(h_i, h_j, l_ij, l_ik), _sigmas_func)\n",
    "\n",
    "\n",
    "def f_FTildeFunction(h_i, h_j, l_ij, l_ik, arg_s1, arg_s2, arg_s3):\n",
    "    def _sigmas_func(s1, s2, s3):\n",
    "        result = 1\n",
    "        if arg_s1:\n",
    "            result *= s1\n",
    "        if arg_s2:\n",
    "            result *= s2\n",
    "        if arg_s3:\n",
    "            result *= s3\n",
    "        return result\n",
    "    terms = _Z3_E_terms(h_i, h_j, l_ij, l_ik)*_Z3_F_tilde_terms(h_i, h_j, l_ij, l_ik)\n",
    "    return _Z3_sum_terms(terms, _sigmas_func)\n",
    "\n",
    "\n",
    "def f_FFunction(h_i, h_j, l_ij, l_ik, arg_s1, arg_s2, arg_s3):\n",
    "    def _sigmas_func(s1, s2, s3):\n",
    "        result = 1\n",
    "        if arg_s1:\n",
    "            result *= s1\n",
    "        if arg_s2:\n",
    "            result *= s2\n",
    "        if arg_s3:\n",
    "            result *= s3\n",
    "        return result\n",
    "    terms = _Z3_E_terms(h_i, h_j, l_ij, l_ik)*_Z3_F_terms(h_i, h_j, l_ij, l_ik)\n",
    "    return _Z3_sum_terms(terms, _sigmas_func)\n",
    "\n",
    "\n",
    "module_dictionary = {\"cF3Function\": f_cF3Function, \"cF3Function_degenerate\": f_cF3Function,\n",
    "                     \"EFunction\": f_EFunction, \n",
    "                     \"FTildeFunction\": f_FTildeFunction, \"FFunction\": f_FFunction,\n",
    "                     \"F2Function\": f_F2Function, \"F3Function\": f_F3Function}\n",
    "\n",
    "module = [module_dictionary, \"scipy\"]"
   ]
  },
  {
   "cell_type": "markdown",
   "metadata": {},
   "source": [
    "#### Проверка"
   ]
  },
  {
   "cell_type": "code",
   "execution_count": 68,
   "metadata": {},
   "outputs": [
    {
     "name": "stdout",
     "output_type": "stream",
     "text": [
      "10617.721695485005\n",
      "10617.721784912486\n"
     ]
    }
   ],
   "source": [
    "args = 1.1, 1.4, 0.9, 1.2\n",
    "\n",
    "print(raw_Z3(*args))\n",
    "print(Z3(*args))"
   ]
  },
  {
   "cell_type": "code",
   "execution_count": 69,
   "metadata": {},
   "outputs": [],
   "source": [
    "def get_diffs(expr, args, n=1, func=None):\n",
    "    diffs = []\n",
    "    for arg in args:\n",
    "        _expr = expr.diff(arg, n)\n",
    "        if func is not None:\n",
    "            _expr = func(_expr)\n",
    "        diffs.append(sp.lambdify(args, _expr, module))\n",
    "    return diffs"
   ]
  },
  {
   "cell_type": "code",
   "execution_count": 70,
   "metadata": {},
   "outputs": [],
   "source": [
    "def calc_numerical_diffs(func, args, n=1):\n",
    "    diffs = np.zeros_like(args)\n",
    "    for i, arg in enumerate(args):\n",
    "        direction = [0] * len(args)\n",
    "        direction[i] = 1\n",
    "        diffs[i] = nd.directionaldiff(func, args, direction, n=n)\n",
    "    return diffs\n",
    "\n",
    "\n",
    "def calc_exprs(exprs, args):\n",
    "    return list(map(lambda expr: expr(*args), exprs))\n",
    "\n",
    "\n",
    "def compare_exprs(exprs_1, exprs_2):\n",
    "    for i, expr in enumerate(exprs_1):\n",
    "        print(expr)\n",
    "        print(exprs_2[i])\n",
    "        print()"
   ]
  },
  {
   "cell_type": "code",
   "execution_count": 71,
   "metadata": {},
   "outputs": [
    {
     "name": "stdout",
     "output_type": "stream",
     "text": [
      "0.03525288652015937\n",
      "0.03525290451467536\n",
      "\n",
      "-0.008072403402545697\n",
      "-0.008072407295599701\n",
      "\n",
      "-0.0005077315366300761\n",
      "-0.0005077351306516653\n",
      "\n"
     ]
    }
   ],
   "source": [
    "x, a, b = abc.x, abc.a, abc.b\n",
    "\n",
    "f_F3_diffs = get_diffs(F3Function(x, a, b), [x, a, b])\n",
    "\n",
    "args = 1.4, -6, 3\n",
    "compare_exprs(\n",
    "    calc_numerical_diffs(v_F3, args),\n",
    "    calc_exprs(f_F3_diffs, args)\n",
    ")"
   ]
  },
  {
   "cell_type": "code",
   "execution_count": 72,
   "metadata": {},
   "outputs": [
    {
     "name": "stdout",
     "output_type": "stream",
     "text": [
      "-0.1302029228678329\n",
      "-0.13020292286800322\n",
      "\n",
      "-0.03858026434738476\n",
      "-0.0385803100027116\n",
      "\n",
      "0.033499433211962616\n",
      "0.03349943321073004\n",
      "\n"
     ]
    }
   ],
   "source": [
    "f_F3_degenerate_diffs = get_diffs(F3Function_degenerate(x, a, b, 0, 0), [x, a, b], func=evaluate_F3Function_degenerate)\n",
    "\n",
    "args = 1.4, 1, 0\n",
    "compare_exprs(\n",
    "    calc_numerical_diffs(v_F3, args),\n",
    "    calc_exprs(f_F3_degenerate_diffs, args)\n",
    ")"
   ]
  },
  {
   "cell_type": "code",
   "execution_count": 73,
   "metadata": {},
   "outputs": [
    {
     "data": {
      "text/plain": [
       "1.0483292404522935"
      ]
     },
     "execution_count": 73,
     "metadata": {},
     "output_type": "execute_result"
    }
   ],
   "source": [
    "args = .1, 1000, 1000\n",
    "f_F3Function(*args)/f_F2Function(args[0]*args[1]+args[2])/f_F2Function(args[0])"
   ]
  },
  {
   "cell_type": "code",
   "execution_count": 74,
   "metadata": {},
   "outputs": [
    {
     "name": "stdout",
     "output_type": "stream",
     "text": [
      "0.39949391897786524\n",
      "0.3994973376239892\n"
     ]
    }
   ],
   "source": [
    "expr = F3Function_degenerate(x, a, b, 0, 0).diff(x, x, a)\n",
    "expr = evaluate_F3Function_degenerate(expr)\n",
    "f_expr = sp.lambdify([x, a, b], expr, module)\n",
    "\n",
    "args = 1.4, 1, 0\n",
    "f = lambda args: nd.directionaldiff(v_F3, args, [1, 0, 0], n=2)\n",
    "print(nd.directionaldiff(f, args, [0, 1, 0], n=1))\n",
    "print(f_expr(*args))"
   ]
  },
  {
   "cell_type": "code",
   "execution_count": 75,
   "metadata": {},
   "outputs": [],
   "source": [
    "args_coeffs = h_i, h_j, l_ij, l_ik"
   ]
  },
  {
   "cell_type": "code",
   "execution_count": 76,
   "metadata": {},
   "outputs": [
    {
     "name": "stdout",
     "output_type": "stream",
     "text": [
      "1793.9908528051935\n",
      "1793.9908528052451\n",
      "\n",
      "896.4925453059092\n",
      "896.4925453059141\n",
      "\n",
      "1796.193536948808\n",
      "1796.1935369487762\n",
      "\n",
      "899.5611861682389\n",
      "899.5611861682446\n",
      "\n"
     ]
    }
   ],
   "source": [
    "f_E_123 = sp.lambdify(args_coeffs, EFunction(*args_coeffs, 1, 1, 1), module)\n",
    "f_E_123_diffs = get_diffs(EFunction(*args_coeffs, 1, 1, 1), args_coeffs)\n",
    "v_f_E_123 = lambda x: f_E_123(*x)\n",
    "\n",
    "args = 1.1, 1.6, 0.9, 1.2\n",
    "compare_exprs(\n",
    "    calc_numerical_diffs(v_f_E_123, args),\n",
    "    calc_exprs(f_E_123_diffs, args)\n",
    ")"
   ]
  },
  {
   "cell_type": "code",
   "execution_count": 77,
   "metadata": {},
   "outputs": [
    {
     "name": "stdout",
     "output_type": "stream",
     "text": [
      "1207.3625478377833\n",
      "1207.3625478377833\n"
     ]
    }
   ],
   "source": [
    "f_expr = sp.lambdify(args_coeffs, EFunction(*args_coeffs, 1, 1, 1).rewrite(sp.exp), module)\n",
    "\n",
    "args = 1.1, 1.9, 0.9, 1.2\n",
    "print(f_expr(*args))\n",
    "print(f_E_123(*args))"
   ]
  },
  {
   "cell_type": "code",
   "execution_count": 78,
   "metadata": {},
   "outputs": [
    {
     "name": "stdout",
     "output_type": "stream",
     "text": [
      "242.96196215703418\n",
      "242.9619621570704\n",
      "\n",
      "125.49170030046874\n",
      "125.49170030046551\n",
      "\n",
      "247.56814708557008\n",
      "247.56814708556857\n",
      "\n",
      "140.24587304244235\n",
      "140.2458730424406\n",
      "\n"
     ]
    }
   ],
   "source": [
    "f_F_123 = sp.lambdify(args_coeffs, FFunction(*args_coeffs, 1, 1, 1), module)\n",
    "f_F_123_diffs = get_diffs(FFunction(*args_coeffs, 1, 1, 1), args_coeffs)\n",
    "v_f_F_123 = lambda x: f_F_123(*x)\n",
    "\n",
    "args = 1.0, 1.6, 0.9, 1.2\n",
    "compare_exprs(\n",
    "    calc_numerical_diffs(v_f_F_123, args),\n",
    "    calc_exprs(f_F_123_diffs, args)\n",
    ")"
   ]
  },
  {
   "cell_type": "code",
   "execution_count": 79,
   "metadata": {},
   "outputs": [
    {
     "name": "stdout",
     "output_type": "stream",
     "text": [
      "293.0672473277535\n",
      "293.0672473277536\n"
     ]
    }
   ],
   "source": [
    "f_expr = sp.lambdify(args_coeffs, FFunction(*args_coeffs, 1, 1, 1).rewrite(sp.exp), module)\n",
    "\n",
    "args = 1.1, 1.9, 0.9, 1.5\n",
    "print(f_expr(*args))\n",
    "print(f_F_123(*args))"
   ]
  },
  {
   "cell_type": "code",
   "execution_count": 80,
   "metadata": {},
   "outputs": [
    {
     "name": "stdout",
     "output_type": "stream",
     "text": [
      "326.37914592414165\n",
      "326.37914592413733\n",
      "\n",
      "186.48747756171457\n",
      "186.4874775617166\n",
      "\n",
      "328.17606098362404\n",
      "328.1760609836284\n",
      "\n",
      "176.9750210485126\n",
      "176.97502104854397\n",
      "\n"
     ]
    }
   ],
   "source": [
    "f_F_tilde_123 = sp.lambdify(args_coeffs, FTildeFunction(*args_coeffs, 1, 1, 1), module)\n",
    "f_F_tilde_123_diffs = get_diffs(FTildeFunction(*args_coeffs, 1, 1, 1), args_coeffs)\n",
    "v_f_F_tilde_123 = lambda x: f_F_tilde_123(*x)\n",
    "\n",
    "args = 1.1, 1.6, 0.9, 1.3\n",
    "compare_exprs(\n",
    "    calc_numerical_diffs(v_f_F_tilde_123, args),\n",
    "    calc_exprs(f_F_tilde_123_diffs, args)\n",
    ")"
   ]
  },
  {
   "cell_type": "code",
   "execution_count": 81,
   "metadata": {},
   "outputs": [
    {
     "name": "stdout",
     "output_type": "stream",
     "text": [
      "437.6062993441376\n",
      "437.6062993441372\n"
     ]
    }
   ],
   "source": [
    "f_expr = sp.lambdify(args_coeffs, FTildeFunction(*args_coeffs, 1, 1, 1).rewrite(sp.exp), module)\n",
    "\n",
    "args = 1.1, 1.9, 0.9, 1.9\n",
    "print(f_expr(*args))\n",
    "print(f_F_tilde_123(*args))"
   ]
  },
  {
   "cell_type": "code",
   "execution_count": 82,
   "metadata": {},
   "outputs": [
    {
     "name": "stdout",
     "output_type": "stream",
     "text": [
      "50.18657854789748\n",
      "50.186555067739306\n",
      "\n",
      "29.615695187963986\n",
      "29.615693179348234\n",
      "\n",
      "51.58742020605026\n",
      "51.58739746917982\n",
      "\n",
      "31.113111031705216\n",
      "31.11310492592588\n",
      "\n"
     ]
    }
   ],
   "source": [
    "f_cF3_diffs = get_diffs(cF3Function(*args_coeffs), args_coeffs)\n",
    "\n",
    "args = 1.1, 1.6, 0.9, 1.2\n",
    "compare_exprs(\n",
    "    calc_numerical_diffs(v_cF3, args),\n",
    "    calc_exprs(f_cF3_diffs, args)\n",
    ")"
   ]
  },
  {
   "cell_type": "code",
   "execution_count": 83,
   "metadata": {},
   "outputs": [
    {
     "name": "stdout",
     "output_type": "stream",
     "text": [
      "62.3891806479837\n",
      "62.38918064798398\n"
     ]
    }
   ],
   "source": [
    "f_expr = sp.lambdify(args_coeffs, cF3Function(*args_coeffs).rewrite(sp.exp), module)\n",
    "\n",
    "args = 1.1, 1.9, 0.9, 1.6\n",
    "print(f_expr(*args))\n",
    "print(f_cF3Function(*args))"
   ]
  },
  {
   "cell_type": "code",
   "execution_count": 84,
   "metadata": {},
   "outputs": [
    {
     "name": "stdout",
     "output_type": "stream",
     "text": [
      "314.13163388750917\n",
      "314.1315377891452\n",
      "\n",
      "173.2568386238233\n",
      "173.2568552898068\n",
      "\n",
      "299.8757416784606\n",
      "299.87564461287616\n",
      "\n",
      "203.7037525130895\n",
      "203.70383486131095\n",
      "\n"
     ]
    }
   ],
   "source": [
    "f_cF3_degenerate_diffs = get_diffs(cF3Function_degenerate(*args_coeffs, *(4*[0])), args_coeffs, n=1, func=evaluate_cF3Function_degenerate)\n",
    "\n",
    "args = 1, 2, 2., 1\n",
    "compare_exprs(\n",
    "    calc_numerical_diffs(v_cF3, args, n=1),\n",
    "    calc_exprs(f_cF3_degenerate_diffs, args)\n",
    ")"
   ]
  },
  {
   "cell_type": "markdown",
   "metadata": {},
   "source": [
    "## Моменты $\\cal Z^{(3)}$"
   ]
  },
  {
   "cell_type": "markdown",
   "metadata": {},
   "source": [
    "### Определения"
   ]
  },
  {
   "cell_type": "code",
   "execution_count": 86,
   "metadata": {},
   "outputs": [],
   "source": [
    "def get_line_Matrix(expr, like_terms):\n",
    "    terms = sp.collect(expr, like_terms, evaluate=False)\n",
    "    line = []\n",
    "    for term in like_terms + [1]:\n",
    "        if term in terms:\n",
    "            if term == 1:\n",
    "                line.append(-terms[term].factor())\n",
    "            else:\n",
    "                line.append(terms[term].factor())\n",
    "        else:\n",
    "            line.append(0)\n",
    "    return line\n"
   ]
  },
  {
   "cell_type": "markdown",
   "metadata": {},
   "source": [
    "### Общий случай"
   ]
  },
  {
   "cell_type": "markdown",
   "metadata": {},
   "source": [
    "#### Символьные вычисления"
   ]
  },
  {
   "cell_type": "code",
   "execution_count": 87,
   "metadata": {},
   "outputs": [],
   "source": [
    "m_i = sp.Symbol(\"\\\\left<{m_i}\\\\right>\")\n",
    "m_j = sp.Symbol(\"\\\\left<{m_j}\\\\right>\")\n",
    "eta_ij = sp.Symbol(\"\\\\left<{\\\\eta_{ij}}\\\\right>\")\n",
    "eta_ik = sp.Symbol(\"\\\\left<{\\\\eta_{ik}}\\\\right>\")"
   ]
  },
  {
   "cell_type": "code",
   "execution_count": 88,
   "metadata": {},
   "outputs": [],
   "source": [
    "Z3_expr = cF3Function(h_i, h_j, l_ij, l_ik)/sp.sqrt(h_i*h_j*l_ij*l_ik)\n",
    "\n",
    "expr_m_i = sp.log(Z3_expr).diff(h_i)/2\n",
    "expr_m_i = sp.Add(*map(sp.factor, expr_m_i.expand().args))\n",
    "\n",
    "expr_m_j = sp.log(Z3_expr).diff(h_j)\n",
    "expr_m_j = sp.Add(*map(sp.factor, expr_m_j.expand().args))\n",
    "\n",
    "expr_eta_ij = sp.log(Z3_expr).diff(l_ij)/2\n",
    "expr_eta_ij = sp.Add(*map(sp.factor, expr_eta_ij.expand().args))\n",
    "\n",
    "expr_eta_ik = sp.log(Z3_expr).diff(l_ik)\n",
    "expr_eta_ik = sp.Add(*map(sp.factor, expr_eta_ik.expand().args))"
   ]
  },
  {
   "cell_type": "code",
   "execution_count": 89,
   "metadata": {},
   "outputs": [],
   "source": [
    "n, d = sp.fraction(expr_m_i.factor())\n",
    "_expr_m_i = n-d*m_i\n",
    "\n",
    "n, d = sp.fraction(expr_m_j.factor())\n",
    "_expr_m_j = n-d*m_j\n",
    "\n",
    "n, d = sp.fraction(expr_eta_ij.factor())\n",
    "_expr_eta_ij = n-d*eta_ij\n",
    "\n",
    "n, d = sp.fraction(expr_eta_ik.factor())\n",
    "_expr_eta_ik = n-d*eta_ik"
   ]
  },
  {
   "cell_type": "code",
   "execution_count": 90,
   "metadata": {},
   "outputs": [],
   "source": [
    "vector_system_moments = [\n",
    "    cF3Function(h_i, h_j, l_ij, l_ik),\n",
    "    FTildeFunction(h_i, h_j, l_ij, l_ik, 1, 1, 1),\n",
    "    FTildeFunction(h_i, h_j, l_ij, l_ik, 1, 1, 0),\n",
    "    FFunction(h_i, h_j, l_ij, l_ik, 1, 0, 1),\n",
    "]\n",
    "\n",
    "line1 = get_line_Matrix(_expr_m_i, vector_system_moments)\n",
    "line2 = get_line_Matrix(_expr_m_j, vector_system_moments)\n",
    "line3 = get_line_Matrix(_expr_eta_ij, vector_system_moments)\n",
    "line4 = get_line_Matrix(_expr_eta_ik, vector_system_moments)"
   ]
  },
  {
   "cell_type": "code",
   "execution_count": 91,
   "metadata": {},
   "outputs": [
    {
     "data": {
      "text/latex": [
       "$\\displaystyle \\left[\\begin{matrix}2 \\lambda_{ij} \\left<{m_i}\\right> h_{i} + \\lambda_{ij} \\left<{m_j}\\right> h_{j} + \\lambda_{ij} + h_{i} h_{j} & - \\frac{\\sqrt{2} \\sqrt{\\lambda_{ij}} \\sqrt{h_{i}} \\sqrt{h_{j}}}{2} & 0 & 0 & 0\\\\2 \\lambda_{ij} \\left<{\\eta_{ij}}\\right> h_{i} + \\lambda_{ij} h_{j} + \\left<{m_j}\\right> h_{i} h_{j} + h_{i} & 0 & - \\frac{\\sqrt{2} \\sqrt{\\lambda_{ij}} \\sqrt{h_{i}} \\sqrt{h_{j}}}{2} & 0 & 0\\\\2 \\lambda_{ij} \\left<{\\eta_{ij}}\\right> + 2 \\lambda_{ik} \\left<{\\eta_{ik}}\\right> + 2 \\lambda_{ik} + 2 \\left<{m_i}\\right> h_{i} + 2 & 0 & 0 & - \\sqrt{2} \\sqrt{\\lambda_{ik}} & 0\\\\\\Delta & 0 & 0 & 0 & \\frac{\\sqrt{\\lambda_{ij}} \\sqrt{\\lambda_{ik}} \\sqrt{h_{i}} \\sqrt{h_{j}} {\\cal E}_{123}\\left(h_{i}, h_{j}, \\lambda_{ij}, \\lambda_{ik}\\right)}{2}\\end{matrix}\\right]$"
      ],
      "text/plain": [
       "Matrix([\n",
       "[                             2*\\lambda_{ij}*\\left<{m_i}\\right>*h_i + \\lambda_{ij}*\\left<{m_j}\\right>*h_j + \\lambda_{ij} + h_i*h_j, -sqrt(2)*sqrt(\\lambda_{ij})*sqrt(h_i)*sqrt(h_j)/2,                                                 0,                           0,                                                                                                                    0],\n",
       "[                                2*\\lambda_{ij}*\\left<{\\eta_{ij}}\\right>*h_i + \\lambda_{ij}*h_j + \\left<{m_j}\\right>*h_i*h_j + h_i,                                                 0, -sqrt(2)*sqrt(\\lambda_{ij})*sqrt(h_i)*sqrt(h_j)/2,                           0,                                                                                                                    0],\n",
       "[2*\\lambda_{ij}*\\left<{\\eta_{ij}}\\right> + 2*\\lambda_{ik}*\\left<{\\eta_{ik}}\\right> + 2*\\lambda_{ik} + 2*\\left<{m_i}\\right>*h_i + 2,                                                 0,                                                 0, -sqrt(2)*sqrt(\\lambda_{ik}),                                                                                                                    0],\n",
       "[                                                                                                                           \\Delta,                                                 0,                                                 0,                           0, sqrt(\\lambda_{ij})*sqrt(\\lambda_{ik})*sqrt(h_i)*sqrt(h_j)*EFunction(h_i, h_j, \\lambda_{ij}, \\lambda_{ik}, 1, 1, 1)/2]])"
      ]
     },
     "metadata": {},
     "output_type": "display_data"
    }
   ],
   "source": [
    "M = sp.Matrix([line1, line2, line3, line4])\n",
    "M[0, :] /= sp.sqrt(l_ij)*h_i*sp.sqrt(h_i)/sp.sqrt(h_j)\n",
    "M[1, :] /= sp.sqrt(l_ij)*sp.sqrt(h_i)\n",
    "M[2, :] /= sp.sqrt(l_ij)*l_ij*sp.sqrt(h_i)/sp.sqrt(h_j)\n",
    "M[3, :] /= sp.sqrt(l_ik)/sp.sqrt(h_j)\n",
    "\n",
    "M[0, :] += M[1, :]\n",
    "M[1, :] += M[2, :]\n",
    "M[2, :] += M[0, :]/2\n",
    "M[2, :] -= M[1, :]\n",
    "M[2, :] += l_ik*h_j*M[3, :]\n",
    "M[3, :] -= M[2, :]/(l_ik*h_j)\n",
    "M = M.expand()\n",
    "\n",
    "M = sp.Matrix(4, 5, lambda i, j: M[i, j].factor())\n",
    "M[0, :] /= (l_ij*h_i-l_ik*h_j)*h_i*sp.sqrt(h_j)*2\n",
    "M[1, :] /= (l_ij*h_i-l_ik*h_j)*l_ij*sp.sqrt(h_j)*2\n",
    "M[2, :] /= (l_ij*h_i-l_ik*h_j)*sp.sqrt(h_j)\n",
    "M[3, :] *= l_ik*sp.sqrt(h_j)\n",
    "\n",
    "M[2, :] -= M[0, :]*h_i\n",
    "M[3, :] += M[0, :]*h_i**2*l_ij\n",
    "M[3, :] += M[1, :]*h_j*l_ij*l_ik\n",
    "M[2, :] += M[3, :]/(h_i*l_ij)\n",
    "M[3, :] += M[2, :]/(l_ik*h_j)*h_i**2*l_ij**2\n",
    "M = M.expand()\n",
    "\n",
    "M = sp.Matrix(4, 5, lambda i, j: M[i, j].factor())\n",
    "M[0, :] /= -2\n",
    "M[1, :] /= -2\n",
    "M[2, :] /= -2*l_ik*h_j\n",
    "M[3, :] /= -2*l_ij*h_i\n",
    "\n",
    "det_system_moments = sp.Symbol(\"\\\\Delta\")\n",
    "det_system_moments_value = M[3, 0]\n",
    "M[3, 0] = det_system_moments\n",
    "\n",
    "display(M)"
   ]
  },
  {
   "cell_type": "code",
   "execution_count": 92,
   "metadata": {},
   "outputs": [
    {
     "data": {
      "text/latex": [
       "$\\displaystyle \\lambda_{ij}^{2} h_{j} + 2 \\lambda_{ij} \\lambda_{ik} \\left<{\\eta_{ik}}\\right> h_{i} + 2 \\lambda_{ij} \\lambda_{ik} h_{i} + 2 \\lambda_{ij} \\left<{\\eta_{ij}}\\right> \\left(\\lambda_{ij} h_{i} + \\lambda_{ik} h_{j}\\right) + 2 \\lambda_{ij} \\left<{m_j}\\right> h_{i} h_{j} + 2 \\lambda_{ij} h_{i} + \\lambda_{ik} h_{j} + 2 \\left<{m_i}\\right> h_{i} \\left(\\lambda_{ij} h_{i} + \\lambda_{ik} h_{j}\\right) + h_{i}^{2} h_{j}$"
      ],
      "text/plain": [
       "\\lambda_{ij}**2*h_j + 2*\\lambda_{ij}*\\lambda_{ik}*\\left<{\\eta_{ik}}\\right>*h_i + 2*\\lambda_{ij}*\\lambda_{ik}*h_i + 2*\\lambda_{ij}*\\left<{\\eta_{ij}}\\right>*(\\lambda_{ij}*h_i + \\lambda_{ik}*h_j) + 2*\\lambda_{ij}*\\left<{m_j}\\right>*h_i*h_j + 2*\\lambda_{ij}*h_i + \\lambda_{ik}*h_j + 2*\\left<{m_i}\\right>*h_i*(\\lambda_{ij}*h_i + \\lambda_{ik}*h_j) + h_i**2*h_j"
      ]
     },
     "execution_count": 92,
     "metadata": {},
     "output_type": "execute_result"
    }
   ],
   "source": [
    "det_system_moments_value.collect([m_i, m_j, eta_ij, eta_ik], sp.factor)"
   ]
  },
  {
   "cell_type": "code",
   "execution_count": 93,
   "metadata": {},
   "outputs": [
    {
     "data": {
      "text/latex": [
       "$\\displaystyle {\\cal F}^{(3)}\\left(h_{i}, h_{j}, \\lambda_{ij}, \\lambda_{ik}\\right) = \\frac{\\sqrt{\\lambda_{ij}} \\sqrt{\\lambda_{ik}} \\sqrt{h_{i}} \\sqrt{h_{j}} {\\cal E}_{123}\\left(h_{i}, h_{j}, \\lambda_{ij}, \\lambda_{ik}\\right)}{2 \\Delta}$"
      ],
      "text/plain": [
       "Eq(cF3Function(h_i, h_j, \\lambda_{ij}, \\lambda_{ik}), sqrt(\\lambda_{ij})*sqrt(\\lambda_{ik})*sqrt(h_i)*sqrt(h_j)*EFunction(h_i, h_j, \\lambda_{ij}, \\lambda_{ik}, 1, 1, 1)/(2*\\Delta))"
      ]
     },
     "metadata": {},
     "output_type": "display_data"
    },
    {
     "data": {
      "text/latex": [
       "$\\displaystyle \\tilde{\\cal F}_{123}\\left(h_{i}, h_{j}, \\lambda_{ij}, \\lambda_{ik}\\right) = \\frac{\\sqrt{2} \\sqrt{\\lambda_{ik}} \\left(2 \\lambda_{ij} \\left<{m_i}\\right> h_{i} + \\lambda_{ij} \\left<{m_j}\\right> h_{j} + \\lambda_{ij} + h_{i} h_{j}\\right) {\\cal E}_{123}\\left(h_{i}, h_{j}, \\lambda_{ij}, \\lambda_{ik}\\right)}{2 \\Delta}$"
      ],
      "text/plain": [
       "Eq(FTildeFunction(h_i, h_j, \\lambda_{ij}, \\lambda_{ik}, 1, 1, 1), sqrt(2)*sqrt(\\lambda_{ik})*(2*\\lambda_{ij}*\\left<{m_i}\\right>*h_i + \\lambda_{ij}*\\left<{m_j}\\right>*h_j + \\lambda_{ij} + h_i*h_j)*EFunction(h_i, h_j, \\lambda_{ij}, \\lambda_{ik}, 1, 1, 1)/(2*\\Delta))"
      ]
     },
     "metadata": {},
     "output_type": "display_data"
    },
    {
     "data": {
      "text/latex": [
       "$\\displaystyle \\tilde{\\cal F}_{12}\\left(h_{i}, h_{j}, \\lambda_{ij}, \\lambda_{ik}\\right) = \\frac{\\sqrt{2} \\sqrt{\\lambda_{ik}} \\left(2 \\lambda_{ij} \\left<{\\eta_{ij}}\\right> h_{i} + \\lambda_{ij} h_{j} + \\left<{m_j}\\right> h_{i} h_{j} + h_{i}\\right) {\\cal E}_{123}\\left(h_{i}, h_{j}, \\lambda_{ij}, \\lambda_{ik}\\right)}{2 \\Delta}$"
      ],
      "text/plain": [
       "Eq(FTildeFunction(h_i, h_j, \\lambda_{ij}, \\lambda_{ik}, 1, 1, 0), sqrt(2)*sqrt(\\lambda_{ik})*(2*\\lambda_{ij}*\\left<{\\eta_{ij}}\\right>*h_i + \\lambda_{ij}*h_j + \\left<{m_j}\\right>*h_i*h_j + h_i)*EFunction(h_i, h_j, \\lambda_{ij}, \\lambda_{ik}, 1, 1, 1)/(2*\\Delta))"
      ]
     },
     "metadata": {},
     "output_type": "display_data"
    },
    {
     "data": {
      "text/latex": [
       "$\\displaystyle {\\cal F}_{13}\\left(h_{i}, h_{j}, \\lambda_{ij}, \\lambda_{ik}\\right) = \\frac{\\sqrt{2} \\sqrt{\\lambda_{ij}} \\sqrt{h_{i}} \\sqrt{h_{j}} \\left(\\lambda_{ij} \\left<{\\eta_{ij}}\\right> + \\lambda_{ik} \\left<{\\eta_{ik}}\\right> + \\lambda_{ik} + \\left<{m_i}\\right> h_{i} + 1\\right) {\\cal E}_{123}\\left(h_{i}, h_{j}, \\lambda_{ij}, \\lambda_{ik}\\right)}{2 \\Delta}$"
      ],
      "text/plain": [
       "Eq(FFunction(h_i, h_j, \\lambda_{ij}, \\lambda_{ik}, 1, 0, 1), sqrt(2)*sqrt(\\lambda_{ij})*sqrt(h_i)*sqrt(h_j)*(\\lambda_{ij}*\\left<{\\eta_{ij}}\\right> + \\lambda_{ik}*\\left<{\\eta_{ik}}\\right> + \\lambda_{ik} + \\left<{m_i}\\right>*h_i + 1)*EFunction(h_i, h_j, \\lambda_{ij}, \\lambda_{ik}, 1, 1, 1)/(2*\\Delta))"
      ]
     },
     "metadata": {},
     "output_type": "display_data"
    },
    {
     "name": "stdout",
     "output_type": "stream",
     "text": [
      "{\\cal F}^{(3)}\\left(h_{i}, h_{j}, \\lambda_{ij}, \\lambda_{ik}\\right) = \\frac{\\sqrt{\\lambda_{ij}} \\sqrt{\\lambda_{ik}} \\sqrt{h_{i}} \\sqrt{h_{j}} {\\cal E}_{123}\\left(h_{i}, h_{j}, \\lambda_{ij}, \\lambda_{ik}\\right)}{2 \\Delta}\n",
      "\\tilde{\\cal F}_{123}\\left(h_{i}, h_{j}, \\lambda_{ij}, \\lambda_{ik}\\right) = \\frac{\\sqrt{2} \\sqrt{\\lambda_{ik}} \\left(2 \\lambda_{ij} \\left<{m_i}\\right> h_{i} + \\lambda_{ij} \\left<{m_j}\\right> h_{j} + \\lambda_{ij} + h_{i} h_{j}\\right) {\\cal E}_{123}\\left(h_{i}, h_{j}, \\lambda_{ij}, \\lambda_{ik}\\right)}{2 \\Delta}\n",
      "\\tilde{\\cal F}_{12}\\left(h_{i}, h_{j}, \\lambda_{ij}, \\lambda_{ik}\\right) = \\frac{\\sqrt{2} \\sqrt{\\lambda_{ik}} \\left(2 \\lambda_{ij} \\left<{\\eta_{ij}}\\right> h_{i} + \\lambda_{ij} h_{j} + \\left<{m_j}\\right> h_{i} h_{j} + h_{i}\\right) {\\cal E}_{123}\\left(h_{i}, h_{j}, \\lambda_{ij}, \\lambda_{ik}\\right)}{2 \\Delta}\n",
      "{\\cal F}_{13}\\left(h_{i}, h_{j}, \\lambda_{ij}, \\lambda_{ik}\\right) = \\frac{\\sqrt{2} \\sqrt{\\lambda_{ij}} \\sqrt{h_{i}} \\sqrt{h_{j}} \\left(\\lambda_{ij} \\left<{\\eta_{ij}}\\right> + \\lambda_{ik} \\left<{\\eta_{ik}}\\right> + \\lambda_{ik} + \\left<{m_i}\\right> h_{i} + 1\\right) {\\cal E}_{123}\\left(h_{i}, h_{j}, \\lambda_{ij}, \\lambda_{ik}\\right)}{2 \\Delta}\n"
     ]
    },
    {
     "data": {
      "text/latex": [
       "$\\displaystyle \\Delta = 2 \\lambda_{ij}^{2} \\left<{\\eta_{ij}}\\right> h_{i} + \\lambda_{ij}^{2} h_{j} + 2 \\lambda_{ij} \\lambda_{ik} \\left<{\\eta_{ij}}\\right> h_{j} + 2 \\lambda_{ij} \\lambda_{ik} \\left<{\\eta_{ik}}\\right> h_{i} + 2 \\lambda_{ij} \\lambda_{ik} h_{i} + 2 \\lambda_{ij} \\left<{m_i}\\right> h_{i}^{2} + 2 \\lambda_{ij} \\left<{m_j}\\right> h_{i} h_{j} + 2 \\lambda_{ij} h_{i} + 2 \\lambda_{ik} \\left<{m_i}\\right> h_{i} h_{j} + \\lambda_{ik} h_{j} + h_{i}^{2} h_{j}$"
      ],
      "text/plain": [
       "Eq(\\Delta, 2*\\lambda_{ij}**2*\\left<{\\eta_{ij}}\\right>*h_i + \\lambda_{ij}**2*h_j + 2*\\lambda_{ij}*\\lambda_{ik}*\\left<{\\eta_{ij}}\\right>*h_j + 2*\\lambda_{ij}*\\lambda_{ik}*\\left<{\\eta_{ik}}\\right>*h_i + 2*\\lambda_{ij}*\\lambda_{ik}*h_i + 2*\\lambda_{ij}*\\left<{m_i}\\right>*h_i**2 + 2*\\lambda_{ij}*\\left<{m_j}\\right>*h_i*h_j + 2*\\lambda_{ij}*h_i + 2*\\lambda_{ik}*\\left<{m_i}\\right>*h_i*h_j + \\lambda_{ik}*h_j + h_i**2*h_j)"
      ]
     },
     "metadata": {},
     "output_type": "display_data"
    },
    {
     "name": "stdout",
     "output_type": "stream",
     "text": [
      "\\Delta = 2 \\lambda_{ij}^{2} \\left<{\\eta_{ij}}\\right> h_{i} + \\lambda_{ij}^{2} h_{j} + 2 \\lambda_{ij} \\lambda_{ik} \\left<{\\eta_{ij}}\\right> h_{j} + 2 \\lambda_{ij} \\lambda_{ik} \\left<{\\eta_{ik}}\\right> h_{i} + 2 \\lambda_{ij} \\lambda_{ik} h_{i} + 2 \\lambda_{ij} \\left<{m_i}\\right> h_{i}^{2} + 2 \\lambda_{ij} \\left<{m_j}\\right> h_{i} h_{j} + 2 \\lambda_{ij} h_{i} + 2 \\lambda_{ik} \\left<{m_i}\\right> h_{i} h_{j} + \\lambda_{ik} h_{j} + h_{i}^{2} h_{j}\n"
     ]
    }
   ],
   "source": [
    "result = sp.solve_linear_system(M, *vector_system_moments)\n",
    "\n",
    "value_system_moments = []\n",
    "for key in vector_system_moments:\n",
    "    value_system_moments.append(result[key].factor())\n",
    "\n",
    "for i in range(4):\n",
    "    display(sp.Eq(vector_system_moments[i], value_system_moments[i]))\n",
    "for i in range(4):\n",
    "    sp.print_latex(sp.Eq(vector_system_moments[i], value_system_moments[i]))\n",
    "\n",
    "display(sp.Eq(det_system_moments, det_system_moments_value))\n",
    "sp.print_latex(sp.Eq(det_system_moments, det_system_moments_value))"
   ]
  },
  {
   "cell_type": "code",
   "execution_count": 94,
   "metadata": {},
   "outputs": [],
   "source": [
    "subs_to_moments = dict(zip(vector_system_moments, value_system_moments))\n",
    "subs_det_system_moments = {det_system_moments: det_system_moments_value}"
   ]
  },
  {
   "cell_type": "code",
   "execution_count": 95,
   "metadata": {},
   "outputs": [
    {
     "data": {
      "text/latex": [
       "$\\displaystyle \\left<{\\eta_{ik}}\\right>$"
      ],
      "text/plain": [
       "\\left<{\\eta_{ik}}\\right>"
      ]
     },
     "execution_count": 95,
     "metadata": {},
     "output_type": "execute_result"
    }
   ],
   "source": [
    "expr = expr_eta_ik\n",
    "expr.subs(subs_to_moments).subs(subs_det_system_moments).factor()"
   ]
  },
  {
   "cell_type": "code",
   "execution_count": 96,
   "metadata": {},
   "outputs": [],
   "source": [
    "expr_Q_star = Z3_expr.diff(l_ij, 2)/(2*Z3_expr) - expr_eta_ik - 1\n",
    "expr_Q_star = sp.Add(*map(sp.factor, expr_Q_star.expand().args))\n",
    "# expr_Q_star"
   ]
  },
  {
   "cell_type": "code",
   "execution_count": 97,
   "metadata": {},
   "outputs": [],
   "source": [
    "expr_diff_h_i_l_ij = Z3_expr.diff(h_i, l_ij)/(Z3_expr)\n",
    "expr_diff_h_i_l_ij = sp.Add(*map(sp.factor, expr_diff_h_i_l_ij.expand().args))\n",
    "expr_diff_h_i_l_ij = expr_diff_h_i_l_ij.subs(subs_to_moments)\n",
    "\n",
    "expr_m_j_eta_ij = Z3_expr.diff(h_j, l_ij)/(2*Z3_expr)\n",
    "expr_m_j_eta_ij = sp.Add(*map(sp.factor, expr_m_j_eta_ij.expand().args))\n",
    "expr_m_j_eta_ij = expr_m_j_eta_ij.subs(subs_to_moments)\n",
    "\n",
    "expr_m_i_eta_ik = Z3_expr.diff(h_i, l_ik)/(2*Z3_expr)\n",
    "expr_m_i_eta_ik = sp.Add(*map(sp.factor, expr_m_i_eta_ik.expand().args))\n",
    "expr_m_i_eta_ik = expr_m_i_eta_ik.subs(subs_to_moments)\n",
    "\n",
    "expr_eta_ik_2 = Z3_expr.diff(l_ik, 2)/(Z3_expr)\n",
    "expr_eta_ik_2 = sp.Add(*map(sp.factor, expr_eta_ik_2.expand().args))\n",
    "expr_eta_ik_2 = expr_eta_ik_2.subs(subs_to_moments)"
   ]
  },
  {
   "cell_type": "code",
   "execution_count": 98,
   "metadata": {},
   "outputs": [],
   "source": [
    "eta_ik_2 = sp.Symbol(\"\\\\left<\\eta_{ik}^{2}\\\\right>\")\n",
    "m_j_eta_ij = sp.Symbol(\"\\\\left<m_j\\\\eta_{ij}\\\\right>\")\n",
    "m_i_eta_ik = sp.Symbol(\"\\\\left<m_i\\\\eta_{ik}\\\\right>\")"
   ]
  },
  {
   "cell_type": "code",
   "execution_count": 99,
   "metadata": {},
   "outputs": [],
   "source": [
    "factor = (l_ij*h_i-l_ik*h_j)**2\n",
    "\n",
    "expr1 = (expr_diff_h_i_l_ij.factor()*factor).expand() - factor*sp.Dummy()\n",
    "expr2 = (expr_m_j_eta_ij.factor()*factor).expand() - factor*m_j_eta_ij\n",
    "expr3 = (expr_m_i_eta_ik.factor()*factor).expand() - factor*m_i_eta_ik\n",
    "expr4 = (expr_eta_ik_2.factor()*factor).expand() - factor*eta_ik_2"
   ]
  },
  {
   "cell_type": "code",
   "execution_count": 100,
   "metadata": {},
   "outputs": [],
   "source": [
    "vector_system_moments_2 = [\n",
    "    EFunction(*args_coeffs, 0, 0, 1)/EFunction(*args_coeffs, 1, 1, 1),\n",
    "    EFunction(*args_coeffs, 1, 0, 0)/EFunction(*args_coeffs, 1, 1, 1),\n",
    "    EFunction(*args_coeffs, 1, 1, 0)/EFunction(*args_coeffs, 1, 1, 1),\n",
    "    EFunction(*args_coeffs, 1, 0, 1)/EFunction(*args_coeffs, 1, 1, 1),\n",
    "]\n",
    "\n",
    "line1 = get_line_Matrix(expr1, vector_system_moments_2)\n",
    "line2 = get_line_Matrix(expr2, vector_system_moments_2)\n",
    "line3 = get_line_Matrix(expr3, vector_system_moments_2)\n",
    "line4 = get_line_Matrix(expr4, vector_system_moments_2)"
   ]
  },
  {
   "cell_type": "code",
   "execution_count": 101,
   "metadata": {},
   "outputs": [
    {
     "data": {
      "text/latex": [
       "$\\displaystyle \\left[\\begin{matrix}0 & 0 & \\frac{\\Delta \\lambda_{ij} h_{i}}{\\lambda_{ik}} - 2 \\Delta h_{j} + \\frac{\\Delta \\lambda_{ik} h_{j}^{2}}{\\lambda_{ij} h_{i}} & 0 & Dummy_{798} \\lambda_{ij}^{2} h_{i}^{2} - 2 Dummy_{798} \\lambda_{ij} \\lambda_{ik} h_{i} h_{j} + Dummy_{798} \\lambda_{ik}^{2} h_{j}^{2} - \\frac{\\Delta}{2} + \\frac{\\Delta \\lambda_{ik} h_{j}}{2 \\lambda_{ij} h_{i}} - \\frac{\\Delta h_{i} h_{j}}{2 \\lambda_{ij}} + \\frac{\\Delta \\lambda_{ik} h_{j}^{2}}{2 \\lambda_{ij}^{2}} + \\frac{2 \\lambda_{ij}^{3} \\left<{m_i}\\right> h_{i}^{2}}{\\lambda_{ik}} + \\frac{\\lambda_{ij}^{3} \\left<{m_j}\\right> h_{i} h_{j}}{\\lambda_{ik}} + \\frac{\\lambda_{ij}^{3} h_{i}}{\\lambda_{ik}} + 2 \\lambda_{ij}^{2} \\left<m_j\\eta_{ij}\\right> h_{i} h_{j} + 3 \\lambda_{ij}^{2} \\left<{\\eta_{ij}}\\right> h_{i} - 4 \\lambda_{ij}^{2} \\left<{m_i}\\right> h_{i} h_{j} - 2 \\lambda_{ij}^{2} \\left<{m_j}\\right> h_{j}^{2} - \\frac{3 \\lambda_{ij}^{2} h_{j}}{2} + \\frac{2 \\lambda_{ij}^{2} \\left<{\\eta_{ij}}\\right> h_{i}^{3}}{\\lambda_{ik}} + \\frac{2 \\lambda_{ij}^{2} h_{i}^{2} h_{j}}{\\lambda_{ik}} - 4 \\lambda_{ij} \\lambda_{ik} \\left<m_j\\eta_{ij}\\right> h_{j}^{2} - 4 \\lambda_{ij} \\lambda_{ik} \\left<{\\eta_{ij}}\\right> h_{j} + \\lambda_{ij} \\lambda_{ik} \\left<{\\eta_{ik}}\\right> h_{i} + 2 \\lambda_{ij} \\lambda_{ik} \\left<{m_i}\\right> h_{j}^{2} + \\frac{\\lambda_{ij} \\lambda_{ik} \\left<{m_j}\\right> h_{j}^{3}}{h_{i}} + \\lambda_{ij} \\lambda_{ik} h_{i} + \\frac{\\lambda_{ij} \\lambda_{ik} h_{j}^{2}}{2 h_{i}} - \\lambda_{ij} \\left<{\\eta_{ij}}\\right> h_{i}^{2} h_{j} + 3 \\lambda_{ij} \\left<{m_i}\\right> h_{i}^{2} + 2 \\lambda_{ij} \\left<{m_j}\\right> h_{i} h_{j} - \\frac{7 \\lambda_{ij} h_{i} h_{j}^{2}}{2} + 2 \\lambda_{ij} h_{i} + \\frac{\\lambda_{ij} \\left<{m_j}\\right> h_{i}^{3} h_{j}}{\\lambda_{ik}} + \\frac{\\lambda_{ij} h_{i}^{3}}{\\lambda_{ik}} + \\frac{2 \\lambda_{ik}^{2} \\left<m_j\\eta_{ij}\\right> h_{j}^{3}}{h_{i}} + \\frac{\\lambda_{ik}^{2} \\left<{\\eta_{ij}}\\right> h_{j}^{2}}{h_{i}} - \\lambda_{ik}^{2} \\left<{\\eta_{ik}}\\right> h_{j} - \\lambda_{ik}^{2} h_{j} - 2 \\lambda_{ik} \\left<{\\eta_{ij}}\\right> h_{i} h_{j}^{2} + \\lambda_{ik} \\left<{\\eta_{ik}}\\right> h_{i}^{2} h_{j} - 4 \\lambda_{ik} \\left<{m_i}\\right> h_{i} h_{j} - 3 \\lambda_{ik} \\left<{m_j}\\right> h_{j}^{2} + \\lambda_{ik} h_{i}^{2} h_{j} + \\frac{3 \\lambda_{ik} h_{j}^{3}}{2} - \\frac{5 \\lambda_{ik} h_{j}}{2} + \\left<{m_i}\\right> h_{i}^{3} h_{j} - \\left<{m_j}\\right> h_{i}^{2} h_{j}^{2} - \\frac{h_{i}^{2} h_{j}}{2} + \\frac{\\lambda_{ik}^{2} \\left<{\\eta_{ij}}\\right> h_{j}^{3}}{\\lambda_{ij}} - \\frac{\\lambda_{ik}^{2} \\left<{\\eta_{ik}}\\right> h_{i} h_{j}^{2}}{\\lambda_{ij}} + \\frac{\\lambda_{ik}^{2} \\left<{m_i}\\right> h_{j}^{2}}{\\lambda_{ij}} + \\frac{\\lambda_{ik}^{2} \\left<{m_j}\\right> h_{j}^{3}}{\\lambda_{ij} h_{i}} - \\frac{\\lambda_{ik}^{2} h_{i} h_{j}^{2}}{\\lambda_{ij}} + \\frac{\\lambda_{ik}^{2} h_{j}^{2}}{2 \\lambda_{ij} h_{i}} + \\frac{h_{i}^{3} h_{j}^{2}}{2 \\lambda_{ij}} - \\frac{\\lambda_{ik}^{2} \\left<{m_i}\\right> h_{i} h_{j}^{3}}{\\lambda_{ij}^{2}} - \\frac{\\lambda_{ik}^{2} h_{j}^{3}}{2 \\lambda_{ij}^{2}} - \\frac{\\lambda_{ik} h_{i}^{2} h_{j}^{3}}{2 \\lambda_{ij}^{2}}\\\\0 & 0 & \\frac{\\Delta \\lambda_{ij}^{2} h_{i}^{3}}{4 \\lambda_{ik}^{2} h_{j}^{2}} - \\frac{\\Delta \\lambda_{ij} h_{i}^{2}}{4 \\lambda_{ik} h_{j}} - \\frac{\\Delta h_{i}}{4} + \\frac{\\Delta \\lambda_{ik} h_{j}}{4 \\lambda_{ij}} & - \\frac{\\Delta \\lambda_{ij} h_{i}^{3}}{2 \\lambda_{ik} h_{j}^{2}} + \\frac{\\Delta h_{i}^{2}}{h_{j}} - \\frac{\\Delta \\lambda_{ik} h_{i}}{2 \\lambda_{ij}} & \\frac{\\Delta \\lambda_{ij} h_{i}^{2}}{4 h_{j}^{2}} + \\frac{\\Delta \\lambda_{ij}}{8} - \\frac{\\Delta \\lambda_{ij} h_{i}^{2}}{4 \\lambda_{ik} h_{j}^{2}} - \\frac{\\Delta \\lambda_{ij} h_{i}^{4}}{4 \\lambda_{ik}^{2} h_{j}^{2}} - \\frac{\\Delta \\lambda_{ik} h_{i}}{4 h_{j}} - \\frac{\\Delta \\lambda_{ik} h_{j}}{8 h_{i}} + \\frac{\\Delta h_{i}}{8 h_{j}} + \\frac{\\Delta h_{i}^{3}}{4 \\lambda_{ik} h_{j}} + \\frac{\\Delta \\lambda_{ik}}{8 \\lambda_{ij}} - \\frac{\\Delta h_{i}^{2}}{8 \\lambda_{ij}} + \\frac{\\Delta \\lambda_{ik} h_{i} h_{j}}{8 \\lambda_{ij}^{2}} + \\frac{\\lambda_{ij}^{4} \\left<{m_i}\\right> h_{i}^{4}}{2 \\lambda_{ik}^{2} h_{j}^{2}} + \\frac{\\lambda_{ij}^{4} \\left<{m_j}\\right> h_{i}^{3}}{4 \\lambda_{ik}^{2} h_{j}} + \\frac{\\lambda_{ij}^{4} h_{i}^{3}}{4 \\lambda_{ik}^{2} h_{j}^{2}} - \\frac{\\lambda_{ij}^{3} \\left<{\\eta_{ij}}\\right> h_{i}^{3}}{2 h_{j}^{2}} - \\frac{\\lambda_{ij}^{3} \\left<{\\eta_{ij}}\\right> h_{i}}{4} - \\frac{\\lambda_{ij}^{3} h_{i}^{2}}{4 h_{j}} - \\frac{\\lambda_{ij}^{3} h_{j}}{8} + \\frac{\\lambda_{ij}^{3} \\left<{\\eta_{ij}}\\right> h_{i}^{3}}{2 \\lambda_{ik} h_{j}^{2}} - \\frac{\\lambda_{ij}^{3} \\left<{m_i}\\right> h_{i}^{3}}{2 \\lambda_{ik} h_{j}} - \\frac{\\lambda_{ij}^{3} \\left<{m_j}\\right> h_{i}^{2}}{4 \\lambda_{ik}} + \\frac{\\lambda_{ij}^{3} \\left<{\\eta_{ij}}\\right> h_{i}^{5}}{\\lambda_{ik}^{2} h_{j}^{2}} + \\frac{3 \\lambda_{ij}^{3} h_{i}^{4}}{4 \\lambda_{ik}^{2} h_{j}} - \\frac{\\lambda_{ij}^{2} \\lambda_{ik} \\left<{\\eta_{ik}}\\right> h_{i}^{3}}{2 h_{j}^{2}} - \\frac{\\lambda_{ij}^{2} \\lambda_{ik} \\left<{\\eta_{ik}}\\right> h_{i}}{4} - \\frac{\\lambda_{ij}^{2} \\lambda_{ik} h_{i}^{3}}{2 h_{j}^{2}} + \\frac{\\lambda_{ij}^{2} \\lambda_{ik} h_{j}^{2}}{8 h_{i}} - \\frac{\\lambda_{ij}^{2} \\left<m_i\\eta_{ik}\\right> h_{i}^{4}}{h_{j}^{2}} + \\lambda_{ij}^{2} \\left<m_j\\eta_{ij}\\right> h_{i}^{2} + \\frac{3 \\lambda_{ij}^{2} \\left<{\\eta_{ij}}\\right> h_{i}^{2}}{4 h_{j}} - \\frac{3 \\lambda_{ij}^{2} \\left<{m_i}\\right> h_{i}^{4}}{2 h_{j}^{2}} - \\frac{5 \\lambda_{ij}^{2} \\left<{m_i}\\right> h_{i}^{2}}{4} - \\frac{\\lambda_{ij}^{2} \\left<{m_j}\\right> h_{i}^{3}}{2 h_{j}} - \\frac{\\lambda_{ij}^{2} \\left<{m_j}\\right> h_{i} h_{j}}{2} - \\frac{\\lambda_{ij}^{2} h_{i}^{3}}{2 h_{j}^{2}} - \\frac{5 \\lambda_{ij}^{2} h_{i}}{8} - \\frac{\\lambda_{ij}^{2} \\left<{\\eta_{ij}}\\right> h_{i}^{4}}{\\lambda_{ik} h_{j}} + \\frac{\\lambda_{ij}^{2} \\left<{m_j}\\right> h_{i}^{3}}{4 \\lambda_{ik} h_{j}} - \\frac{3 \\lambda_{ij}^{2} h_{i}^{3}}{4 \\lambda_{ik}} + \\frac{\\lambda_{ij}^{2} h_{i}^{3}}{4 \\lambda_{ik} h_{j}^{2}} + \\frac{\\lambda_{ij}^{2} \\left<{m_i}\\right> h_{i}^{6}}{2 \\lambda_{ik}^{2} h_{j}^{2}} + \\frac{3 \\lambda_{ij}^{2} \\left<{m_j}\\right> h_{i}^{5}}{4 \\lambda_{ik}^{2} h_{j}} + \\frac{3 \\lambda_{ij}^{2} h_{i}^{5}}{4 \\lambda_{ik}^{2} h_{j}^{2}} + \\frac{\\lambda_{ij} \\lambda_{ik}^{2} \\left<{\\eta_{ij}}\\right> h_{i}}{2} + \\frac{\\lambda_{ij} \\lambda_{ik}^{2} \\left<{\\eta_{ij}}\\right> h_{j}^{2}}{4 h_{i}} + \\frac{\\lambda_{ij} \\lambda_{ik}^{2} \\left<{\\eta_{ik}}\\right> h_{i}^{2}}{2 h_{j}} + \\frac{\\lambda_{ij} \\lambda_{ik}^{2} \\left<{\\eta_{ik}}\\right> h_{j}}{4} + \\frac{\\lambda_{ij} \\lambda_{ik}^{2} h_{i}^{2}}{2 h_{j}} + \\frac{\\lambda_{ij} \\lambda_{ik}^{2} h_{j}}{4} + \\frac{2 \\lambda_{ij} \\lambda_{ik} \\left<m_i\\eta_{ik}\\right> h_{i}^{3}}{h_{j}} - 2 \\lambda_{ij} \\lambda_{ik} \\left<m_j\\eta_{ij}\\right> h_{i} h_{j} - \\frac{3 \\lambda_{ij} \\lambda_{ik} \\left<{\\eta_{ij}}\\right> h_{i}}{2} + \\frac{3 \\lambda_{ij} \\lambda_{ik} \\left<{\\eta_{ik}}\\right> h_{i}^{2}}{4 h_{j}} + \\frac{2 \\lambda_{ij} \\lambda_{ik} \\left<{m_i}\\right> h_{i}^{3}}{h_{j}} + \\frac{3 \\lambda_{ij} \\lambda_{ik} \\left<{m_i}\\right> h_{i} h_{j}}{2} + \\frac{\\lambda_{ij} \\lambda_{ik} \\left<{m_j}\\right> h_{i}^{2}}{2} + \\frac{\\lambda_{ij} \\lambda_{ik} \\left<{m_j}\\right> h_{j}^{2}}{2} + \\frac{\\lambda_{ij} \\lambda_{ik} h_{i}^{2}}{h_{j}} + \\frac{\\lambda_{ij} \\lambda_{ik} h_{j}}{4} + \\frac{3 \\lambda_{ij} \\left<{\\eta_{ij}}\\right> h_{i}^{3}}{4} + \\frac{7 \\lambda_{ij} \\left<{m_i}\\right> h_{i}^{3}}{4 h_{j}} + \\frac{\\lambda_{ij} \\left<{m_j}\\right> h_{i}^{2}}{2} - \\frac{\\lambda_{ij} h_{i}^{4}}{4 h_{j}} - \\frac{\\lambda_{ij} h_{i}^{2} h_{j}}{2} + \\frac{3 \\lambda_{ij} h_{i}^{2}}{4 h_{j}} - \\frac{\\lambda_{ij} \\left<{m_i}\\right> h_{i}^{5}}{2 \\lambda_{ik} h_{j}} - \\frac{3 \\lambda_{ij} \\left<{m_j}\\right> h_{i}^{4}}{4 \\lambda_{ik}} - \\frac{3 \\lambda_{ij} h_{i}^{4}}{4 \\lambda_{ik} h_{j}} + \\frac{\\lambda_{ij} h_{i}^{6}}{4 \\lambda_{ik}^{2} h_{j}} - \\lambda_{ik}^{2} \\left<m_i\\eta_{ik}\\right> h_{i}^{2} + \\lambda_{ik}^{2} \\left<m_j\\eta_{ij}\\right> h_{j}^{2} + \\frac{\\lambda_{ik}^{2} \\left<{\\eta_{ij}}\\right> h_{j}}{4} - \\frac{3 \\lambda_{ik}^{2} \\left<{\\eta_{ik}}\\right> h_{i}}{4} - \\frac{\\lambda_{ik}^{2} \\left<{m_i}\\right> h_{i}^{2}}{2} - \\frac{\\lambda_{ik}^{2} \\left<{m_i}\\right> h_{j}^{2}}{4} - \\frac{\\lambda_{ik}^{2} h_{i}}{2} + \\frac{\\lambda_{ik}^{2} h_{j}^{2}}{8 h_{i}} - \\lambda_{ik} \\left<{\\eta_{ij}}\\right> h_{i}^{2} h_{j} + \\frac{3 \\lambda_{ik} \\left<{\\eta_{ik}}\\right> h_{i}^{3}}{4} - 2 \\lambda_{ik} \\left<{m_i}\\right> h_{i}^{2} - \\lambda_{ik} \\left<{m_j}\\right> h_{i} h_{j} + \\lambda_{ik} h_{i}^{3} + \\frac{\\lambda_{ik} h_{i} h_{j}^{2}}{2} - \\frac{9 \\lambda_{ik} h_{i}}{8} + \\frac{3 \\left<{m_i}\\right> h_{i}^{4}}{4} + \\frac{5 h_{i}^{3}}{8} - \\frac{h_{i}^{5}}{4 \\lambda_{ik}} + \\frac{\\lambda_{ik}^{2} \\left<{\\eta_{ij}}\\right> h_{i} h_{j}^{2}}{4 \\lambda_{ij}} - \\frac{3 \\lambda_{ik}^{2} \\left<{\\eta_{ik}}\\right> h_{i}^{2} h_{j}}{4 \\lambda_{ij}} + \\frac{\\lambda_{ik}^{2} \\left<{m_i}\\right> h_{i} h_{j}}{4 \\lambda_{ij}} + \\frac{\\lambda_{ik}^{2} \\left<{m_j}\\right> h_{j}^{2}}{4 \\lambda_{ij}} - \\frac{3 \\lambda_{ik}^{2} h_{i}^{2} h_{j}}{4 \\lambda_{ij}} + \\frac{\\lambda_{ik}^{2} h_{j}}{8 \\lambda_{ij}} - \\frac{\\lambda_{ik} \\left<{m_i}\\right> h_{i}^{3} h_{j}}{2 \\lambda_{ij}} - \\frac{\\lambda_{ik} h_{i}^{2} h_{j}}{2 \\lambda_{ij}} + \\frac{h_{i}^{4} h_{j}}{8 \\lambda_{ij}} - \\frac{\\lambda_{ik}^{2} \\left<{m_i}\\right> h_{i}^{2} h_{j}^{2}}{4 \\lambda_{ij}^{2}} - \\frac{\\lambda_{ik}^{2} h_{i} h_{j}^{2}}{8 \\lambda_{ij}^{2}} - \\frac{\\lambda_{ik} h_{i}^{3} h_{j}^{2}}{8 \\lambda_{ij}^{2}}\\\\0 & - \\frac{\\Delta \\lambda_{ij}^{2}}{4 \\lambda_{ik}} + \\frac{\\Delta \\lambda_{ij} h_{j}}{2 h_{i}} - \\frac{\\Delta \\lambda_{ik} h_{j}^{2}}{4 h_{i}^{2}} & 0 & \\frac{\\Delta \\lambda_{ij} h_{i}}{4 \\lambda_{ik}} - \\frac{\\Delta h_{j}}{2} + \\frac{\\Delta \\lambda_{ik} h_{j}^{2}}{4 \\lambda_{ij} h_{i}} & - \\frac{\\Delta \\lambda_{ij}^{3}}{8 \\lambda_{ik}^{2}} + \\frac{\\Delta \\lambda_{ij}^{2} h_{j}}{8 \\lambda_{ik} h_{i}} + \\frac{\\Delta \\lambda_{ij}}{4} + \\frac{\\Delta \\lambda_{ij}}{2 \\lambda_{ik}} + \\frac{\\Delta \\lambda_{ij} h_{i}^{2}}{8 \\lambda_{ik}^{2}} - \\frac{\\Delta \\lambda_{ik} h_{j}}{4 h_{i}} - \\frac{\\Delta h_{j}}{2 h_{i}} - \\frac{\\Delta h_{i} h_{j}}{8 \\lambda_{ik}} + \\frac{\\lambda_{ij}^{5} \\left<{\\eta_{ij}}\\right> h_{i}}{4 \\lambda_{ik}^{2}} + \\frac{\\lambda_{ij}^{5} h_{j}}{8 \\lambda_{ik}^{2}} - \\frac{\\lambda_{ij}^{4} \\left<{\\eta_{ij}}\\right> h_{j}}{4 \\lambda_{ik}} - \\frac{\\lambda_{ij}^{4} h_{j}^{2}}{8 \\lambda_{ik} h_{i}} + \\frac{\\lambda_{ij}^{4} \\left<{m_i}\\right> h_{i}^{2}}{4 \\lambda_{ik}^{2}} + \\frac{\\lambda_{ij}^{4} \\left<{m_j}\\right> h_{i} h_{j}}{4 \\lambda_{ik}^{2}} + \\frac{\\lambda_{ij}^{4} h_{i}}{4 \\lambda_{ik}^{2}} - \\frac{3 \\lambda_{ij}^{3} \\left<{\\eta_{ij}}\\right> h_{i}}{2} + \\frac{\\lambda_{ij}^{3} \\left<{\\eta_{ij}}\\right> h_{j}^{2}}{4 h_{i}} - \\frac{\\lambda_{ij}^{3} h_{j}}{4} - \\frac{5 \\lambda_{ij}^{3} \\left<{\\eta_{ij}}\\right> h_{i}}{4 \\lambda_{ik}} - \\frac{\\lambda_{ij}^{3} \\left<{m_i}\\right> h_{i} h_{j}}{4 \\lambda_{ik}} - \\frac{\\lambda_{ij}^{3} \\left<{m_j}\\right> h_{j}^{2}}{4 \\lambda_{ik}} - \\frac{7 \\lambda_{ij}^{3} h_{j}}{8 \\lambda_{ik}} - \\frac{\\lambda_{ij}^{3} \\left<{\\eta_{ij}}\\right> h_{i}^{3}}{4 \\lambda_{ik}^{2}} + \\frac{\\lambda_{ij}^{2} \\lambda_{ik} \\left<\\eta_{ik}^{2}\\right> h_{i}}{2} + 2 \\lambda_{ij}^{2} \\lambda_{ik} \\left<{\\eta_{ij}}\\right> h_{j} - \\frac{\\lambda_{ij}^{2} \\lambda_{ik} \\left<{\\eta_{ij}}\\right> h_{j}^{3}}{4 h_{i}^{2}} - \\frac{\\lambda_{ij}^{2} \\lambda_{ik} \\left<{\\eta_{ik}}\\right> h_{i}}{2} + \\frac{\\lambda_{ij}^{2} \\lambda_{ik} \\left<{\\eta_{ik}}\\right> h_{j}^{2}}{4 h_{i}} - \\lambda_{ij}^{2} \\lambda_{ik} h_{i} + \\frac{\\lambda_{ij}^{2} \\lambda_{ik} h_{j}^{2}}{2 h_{i}} + \\lambda_{ij}^{2} \\left<m_i\\eta_{ik}\\right> h_{i}^{2} + \\frac{\\lambda_{ij}^{2} \\left<{\\eta_{ij}}\\right> h_{j}}{2} - \\frac{\\lambda_{ij}^{2} \\left<{m_i}\\right> h_{i}^{2}}{2} + \\frac{\\lambda_{ij}^{2} \\left<{m_i}\\right> h_{j}^{2}}{4} - \\frac{\\lambda_{ij}^{2} \\left<{m_j}\\right> h_{i} h_{j}}{2} - \\frac{3 \\lambda_{ij}^{2} h_{i}}{2} + \\frac{7 \\lambda_{ij}^{2} h_{j}^{2}}{8 h_{i}} + \\frac{\\lambda_{ij}^{2} \\left<{\\eta_{ij}}\\right> h_{i}^{2} h_{j}}{4 \\lambda_{ik}} - \\frac{3 \\lambda_{ij}^{2} \\left<{m_i}\\right> h_{i}^{2}}{4 \\lambda_{ik}} - \\frac{\\lambda_{ij}^{2} \\left<{m_j}\\right> h_{i} h_{j}}{\\lambda_{ik}} - \\frac{\\lambda_{ij}^{2} h_{i}}{\\lambda_{ik}} - \\frac{\\lambda_{ij}^{2} \\left<{m_i}\\right> h_{i}^{4}}{4 \\lambda_{ik}^{2}} - \\frac{\\lambda_{ij}^{2} \\left<{m_j}\\right> h_{i}^{3} h_{j}}{4 \\lambda_{ik}^{2}} - \\frac{\\lambda_{ij}^{2} h_{i}^{3}}{4 \\lambda_{ik}^{2}} - \\lambda_{ij} \\lambda_{ik}^{2} \\left<\\eta_{ik}^{2}\\right> h_{j} - \\frac{\\lambda_{ij} \\lambda_{ik}^{2} \\left<{\\eta_{ij}}\\right> h_{j}^{2}}{2 h_{i}} + \\frac{\\lambda_{ij} \\lambda_{ik}^{2} \\left<{\\eta_{ik}}\\right> h_{j}}{2} - \\frac{\\lambda_{ij} \\lambda_{ik}^{2} \\left<{\\eta_{ik}}\\right> h_{j}^{3}}{4 h_{i}^{2}} + \\frac{3 \\lambda_{ij} \\lambda_{ik}^{2} h_{j}}{2} - \\frac{\\lambda_{ij} \\lambda_{ik}^{2} h_{j}^{3}}{4 h_{i}^{2}} - 2 \\lambda_{ij} \\lambda_{ik} \\left<m_i\\eta_{ik}\\right> h_{i} h_{j} + \\frac{3 \\lambda_{ij} \\lambda_{ik} \\left<{\\eta_{ij}}\\right> h_{j}^{2}}{4 h_{i}} - \\lambda_{ij} \\lambda_{ik} \\left<{\\eta_{ik}}\\right> h_{j} - \\frac{\\lambda_{ij} \\lambda_{ik} \\left<{m_i}\\right> h_{j}^{3}}{4 h_{i}} + \\frac{\\lambda_{ij} \\lambda_{ik} \\left<{m_j}\\right> h_{j}^{2}}{2} + \\frac{5 \\lambda_{ij} \\lambda_{ik} h_{j}}{4} - \\frac{\\lambda_{ij} \\lambda_{ik} h_{j}^{3}}{4 h_{i}^{2}} - \\frac{\\lambda_{ij} \\left<{\\eta_{ij}}\\right> h_{i} h_{j}^{2}}{4} - \\frac{\\lambda_{ij} \\left<{m_i}\\right> h_{i} h_{j}}{2} + \\lambda_{ij} \\left<{m_j}\\right> h_{j}^{2} - \\frac{\\lambda_{ij} h_{i}^{2} h_{j}}{4} + \\frac{\\lambda_{ij} h_{j}}{2} + \\frac{\\lambda_{ij} \\left<{m_i}\\right> h_{i}^{3} h_{j}}{4 \\lambda_{ik}} + \\frac{\\lambda_{ij} \\left<{m_j}\\right> h_{i}^{2} h_{j}^{2}}{4 \\lambda_{ik}} - \\frac{\\lambda_{ij} h_{i}^{2} h_{j}}{8 \\lambda_{ik}} - \\frac{\\lambda_{ij} h_{i}^{4} h_{j}}{8 \\lambda_{ik}^{2}} + \\frac{\\lambda_{ik}^{3} \\left<\\eta_{ik}^{2}\\right> h_{j}^{2}}{2 h_{i}} - \\frac{\\lambda_{ik}^{3} h_{j}^{2}}{2 h_{i}} + \\lambda_{ik}^{2} \\left<m_i\\eta_{ik}\\right> h_{j}^{2} + \\frac{\\lambda_{ik}^{2} \\left<{\\eta_{ik}}\\right> h_{j}^{2}}{h_{i}} + \\frac{\\lambda_{ik}^{2} \\left<{m_i}\\right> h_{j}^{2}}{2} + \\frac{\\lambda_{ik}^{2} h_{j}^{2}}{4 h_{i}} + \\frac{\\lambda_{ik} \\left<{\\eta_{ij}}\\right> h_{j}^{3}}{4} - \\frac{\\lambda_{ik} \\left<{\\eta_{ik}}\\right> h_{i} h_{j}^{2}}{4} + \\frac{5 \\lambda_{ik} \\left<{m_i}\\right> h_{j}^{2}}{4} + \\frac{\\lambda_{ik} h_{j}^{2}}{2 h_{i}} - \\frac{\\left<{m_i}\\right> h_{i}^{2} h_{j}^{2}}{4} + \\frac{h_{i} h_{j}^{2}}{8} + \\frac{h_{i}^{3} h_{j}^{2}}{8 \\lambda_{ik}} + \\frac{\\lambda_{ik}^{2} \\left<{\\eta_{ik}}\\right> h_{j}^{3}}{4 \\lambda_{ij}} + \\frac{\\lambda_{ik}^{2} h_{j}^{3}}{4 \\lambda_{ij}} + \\frac{\\lambda_{ik} \\left<{m_i}\\right> h_{i} h_{j}^{3}}{4 \\lambda_{ij}} + \\frac{\\lambda_{ik} h_{j}^{3}}{4 \\lambda_{ij}}\\\\\\frac{\\Delta \\lambda_{ij} h_{i}}{2 \\lambda_{ik}} - \\frac{\\Delta h_{j}}{2} & - \\frac{\\Delta \\lambda_{ij}^{2} h_{i}}{\\lambda_{ik}^{2}} + \\frac{3 \\Delta \\lambda_{ij} h_{j}}{2 \\lambda_{ik}} - \\frac{\\Delta h_{j}^{2}}{2 h_{i}} & \\frac{\\Delta \\lambda_{ij}^{2} h_{i}^{2}}{2 \\lambda_{ik}^{3}} - \\frac{\\Delta \\lambda_{ij} h_{i} h_{j}}{2 \\lambda_{ik}^{2}} & - \\frac{\\Delta h_{i} h_{j}}{2 \\lambda_{ik}} + \\frac{\\Delta h_{j}^{2}}{2 \\lambda_{ij}} & - \\frac{\\Delta \\lambda_{ij}^{3} h_{i}}{2 \\lambda_{ik}^{3}} + \\frac{\\Delta \\lambda_{ij}^{2} h_{j}}{2 \\lambda_{ik}^{2}} + \\frac{\\Delta \\lambda_{ij} h_{i}}{\\lambda_{ik}} + \\frac{3 \\Delta \\lambda_{ij} h_{i}}{2 \\lambda_{ik}^{2}} - \\Delta h_{j} - \\frac{9 \\Delta h_{j}}{4 \\lambda_{ik}} + \\frac{\\lambda_{ij}^{5} \\left<{\\eta_{ij}}\\right> h_{i}^{2}}{\\lambda_{ik}^{3}} + \\frac{\\lambda_{ij}^{5} h_{i} h_{j}}{2 \\lambda_{ik}^{3}} - \\frac{\\lambda_{ij}^{4} \\left<{\\eta_{ij}}\\right> h_{i} h_{j}}{\\lambda_{ik}^{2}} - \\frac{\\lambda_{ij}^{4} h_{j}^{2}}{2 \\lambda_{ik}^{2}} + \\frac{2 \\lambda_{ij}^{4} \\left<{m_i}\\right> h_{i}^{3}}{\\lambda_{ik}^{3}} + \\frac{3 \\lambda_{ij}^{4} \\left<{m_j}\\right> h_{i}^{2} h_{j}}{2 \\lambda_{ik}^{3}} + \\frac{3 \\lambda_{ij}^{4} h_{i}^{2}}{2 \\lambda_{ik}^{3}} - \\frac{5 \\lambda_{ij}^{3} \\left<{\\eta_{ij}}\\right> h_{i}^{2}}{\\lambda_{ik}} + \\frac{\\lambda_{ij}^{3} \\left<{\\eta_{ij}}\\right> h_{j}^{2}}{2 \\lambda_{ik}} - \\frac{3 \\lambda_{ij}^{3} h_{i} h_{j}}{2 \\lambda_{ik}} - \\frac{4 \\lambda_{ij}^{3} \\left<{\\eta_{ij}}\\right> h_{i}^{2}}{\\lambda_{ik}^{2}} - \\frac{2 \\lambda_{ij}^{3} \\left<{m_i}\\right> h_{i}^{2} h_{j}}{\\lambda_{ik}^{2}} - \\frac{3 \\lambda_{ij}^{3} \\left<{m_j}\\right> h_{i} h_{j}^{2}}{2 \\lambda_{ik}^{2}} - \\frac{7 \\lambda_{ij}^{3} h_{i} h_{j}}{2 \\lambda_{ik}^{2}} + \\frac{\\lambda_{ij}^{3} \\left<{\\eta_{ij}}\\right> h_{i}^{4}}{\\lambda_{ik}^{3}} + \\frac{3 \\lambda_{ij}^{3} h_{i}^{3} h_{j}}{2 \\lambda_{ik}^{3}} + 2 \\lambda_{ij}^{2} \\left<\\eta_{ik}^{2}\\right> h_{i}^{2} + 6 \\lambda_{ij}^{2} \\left<{\\eta_{ij}}\\right> h_{i} h_{j} - \\frac{\\lambda_{ij}^{2} \\left<{\\eta_{ij}}\\right> h_{j}^{3}}{2 h_{i}} - \\lambda_{ij}^{2} \\left<{\\eta_{ik}}\\right> h_{i}^{2} + \\frac{\\lambda_{ij}^{2} \\left<{\\eta_{ik}}\\right> h_{j}^{2}}{2} - 3 \\lambda_{ij}^{2} h_{i}^{2} + 2 \\lambda_{ij}^{2} h_{j}^{2} + \\frac{2 \\lambda_{ij}^{2} \\left<m_i\\eta_{ik}\\right> h_{i}^{3}}{\\lambda_{ik}} + \\frac{4 \\lambda_{ij}^{2} \\left<{\\eta_{ij}}\\right> h_{i} h_{j}}{\\lambda_{ik}} - \\frac{3 \\lambda_{ij}^{2} \\left<{m_i}\\right> h_{i}^{3}}{\\lambda_{ik}} + \\frac{\\lambda_{ij}^{2} \\left<{m_i}\\right> h_{i} h_{j}^{2}}{2 \\lambda_{ik}} - \\frac{3 \\lambda_{ij}^{2} \\left<{m_j}\\right> h_{i}^{2} h_{j}}{\\lambda_{ik}} - \\frac{5 \\lambda_{ij}^{2} h_{i}^{2}}{\\lambda_{ik}} + \\frac{13 \\lambda_{ij}^{2} h_{j}^{2}}{4 \\lambda_{ik}} - \\frac{\\lambda_{ij}^{2} \\left<{\\eta_{ij}}\\right> h_{i}^{3} h_{j}}{\\lambda_{ik}^{2}} - \\frac{3 \\lambda_{ij}^{2} \\left<{m_i}\\right> h_{i}^{3}}{\\lambda_{ik}^{2}} - \\frac{7 \\lambda_{ij}^{2} \\left<{m_j}\\right> h_{i}^{2} h_{j}}{2 \\lambda_{ik}^{2}} - \\frac{3 \\lambda_{ij}^{2} h_{i}^{2} h_{j}^{2}}{2 \\lambda_{ik}^{2}} - \\frac{7 \\lambda_{ij}^{2} h_{i}^{2}}{2 \\lambda_{ik}^{2}} + \\frac{\\lambda_{ij}^{2} \\left<{m_j}\\right> h_{i}^{4} h_{j}}{2 \\lambda_{ik}^{3}} + \\frac{\\lambda_{ij}^{2} h_{i}^{4}}{2 \\lambda_{ik}^{3}} - 4 \\lambda_{ij} \\lambda_{ik} \\left<\\eta_{ik}^{2}\\right> h_{i} h_{j} - \\lambda_{ij} \\lambda_{ik} \\left<{\\eta_{ij}}\\right> h_{j}^{2} + \\lambda_{ij} \\lambda_{ik} \\left<{\\eta_{ik}}\\right> h_{i} h_{j} - \\frac{\\lambda_{ij} \\lambda_{ik} \\left<{\\eta_{ik}}\\right> h_{j}^{3}}{2 h_{i}} + 5 \\lambda_{ij} \\lambda_{ik} h_{i} h_{j} - \\frac{\\lambda_{ij} \\lambda_{ik} h_{j}^{3}}{2 h_{i}} - 4 \\lambda_{ij} \\left<m_i\\eta_{ik}\\right> h_{i}^{2} h_{j} + 3 \\lambda_{ij} \\left<{\\eta_{ij}}\\right> h_{j}^{2} - 2 \\lambda_{ij} \\left<{\\eta_{ik}}\\right> h_{i} h_{j} + 2 \\lambda_{ij} \\left<{m_i}\\right> h_{i}^{2} h_{j} - \\frac{\\lambda_{ij} \\left<{m_i}\\right> h_{j}^{3}}{2} + 3 \\lambda_{ij} \\left<{m_j}\\right> h_{i} h_{j}^{2} + \\frac{11 \\lambda_{ij} h_{i} h_{j}}{2} - \\frac{\\lambda_{ij} h_{j}^{3}}{2 h_{i}} - \\frac{\\lambda_{ij} \\left<{\\eta_{ij}}\\right> h_{i}^{2} h_{j}^{2}}{2 \\lambda_{ik}} + \\frac{2 \\lambda_{ij} \\left<{m_i}\\right> h_{i}^{2} h_{j}}{\\lambda_{ik}} + \\frac{5 \\lambda_{ij} \\left<{m_j}\\right> h_{i} h_{j}^{2}}{\\lambda_{ik}} - \\frac{3 \\lambda_{ij} h_{i}^{3} h_{j}}{2 \\lambda_{ik}} + \\frac{4 \\lambda_{ij} h_{i} h_{j}}{\\lambda_{ik}} - \\frac{\\lambda_{ij} \\left<{m_j}\\right> h_{i}^{3} h_{j}^{2}}{2 \\lambda_{ik}^{2}} - \\frac{2 \\lambda_{ij} h_{i}^{3} h_{j}}{\\lambda_{ik}^{2}} + 2 \\lambda_{ik}^{2} \\left<\\eta_{ik}^{2}\\right> h_{j}^{2} - 2 \\lambda_{ik}^{2} h_{j}^{2} + 2 \\lambda_{ik} \\left<m_i\\eta_{ik}\\right> h_{i} h_{j}^{2} + \\frac{7 \\lambda_{ik} \\left<{\\eta_{ik}}\\right> h_{j}^{2}}{2} + \\lambda_{ik} \\left<{m_i}\\right> h_{i} h_{j}^{2} + \\lambda_{ik} h_{j}^{2} + \\frac{\\left<{\\eta_{ij}}\\right> h_{i} h_{j}^{3}}{2} - \\frac{\\left<{\\eta_{ik}}\\right> h_{i}^{2} h_{j}^{2}}{2} + 4 \\left<{m_i}\\right> h_{i} h_{j}^{2} + h_{i}^{2} h_{j}^{2} + \\frac{7 h_{j}^{2}}{4} - \\frac{\\left<{m_i}\\right> h_{i}^{3} h_{j}^{2}}{2 \\lambda_{ik}} + \\frac{7 h_{i}^{2} h_{j}^{2}}{4 \\lambda_{ik}} + \\frac{\\lambda_{ik} \\left<{\\eta_{ik}}\\right> h_{i} h_{j}^{3}}{2 \\lambda_{ij}} + \\frac{\\lambda_{ik} h_{i} h_{j}^{3}}{2 \\lambda_{ij}} + \\frac{\\left<{m_i}\\right> h_{i}^{2} h_{j}^{3}}{2 \\lambda_{ij}} + \\frac{h_{i} h_{j}^{3}}{2 \\lambda_{ij}}\\end{matrix}\\right]$"
      ],
      "text/plain": [
       "Matrix([\n",
       "[                                                      0,                                                                                                                  0,                                                                  \\Delta*\\lambda_{ij}*h_i/\\lambda_{ik} - 2*\\Delta*h_j + \\Delta*\\lambda_{ik}*h_j**2/(\\lambda_{ij}*h_i),                                                                                                                  0,                                                                                                                                                                                                                                                                                                                                                                                                                                                                                                                                                                                                                                                                                                                                                                                                                                                                                                                                                                                                                                                                                                                                                                                                                                                                                                                                                                                                                                                                                                                                                                                                                                                                                                                                                                                                                                                                                                                                                                                                                                                                                                                                                                                                                                                                                                                                                                                                                                                                                                                                             _Dummy_798*\\lambda_{ij}**2*h_i**2 - 2*_Dummy_798*\\lambda_{ij}*\\lambda_{ik}*h_i*h_j + _Dummy_798*\\lambda_{ik}**2*h_j**2 - \\Delta/2 + \\Delta*\\lambda_{ik}*h_j/(2*\\lambda_{ij}*h_i) - \\Delta*h_i*h_j/(2*\\lambda_{ij}) + \\Delta*\\lambda_{ik}*h_j**2/(2*\\lambda_{ij}**2) + 2*\\lambda_{ij}**3*\\left<{m_i}\\right>*h_i**2/\\lambda_{ik} + \\lambda_{ij}**3*\\left<{m_j}\\right>*h_i*h_j/\\lambda_{ik} + \\lambda_{ij}**3*h_i/\\lambda_{ik} + 2*\\lambda_{ij}**2*\\left<m_j\\eta_{ij}\\right>*h_i*h_j + 3*\\lambda_{ij}**2*\\left<{\\eta_{ij}}\\right>*h_i - 4*\\lambda_{ij}**2*\\left<{m_i}\\right>*h_i*h_j - 2*\\lambda_{ij}**2*\\left<{m_j}\\right>*h_j**2 - 3*\\lambda_{ij}**2*h_j/2 + 2*\\lambda_{ij}**2*\\left<{\\eta_{ij}}\\right>*h_i**3/\\lambda_{ik} + 2*\\lambda_{ij}**2*h_i**2*h_j/\\lambda_{ik} - 4*\\lambda_{ij}*\\lambda_{ik}*\\left<m_j\\eta_{ij}\\right>*h_j**2 - 4*\\lambda_{ij}*\\lambda_{ik}*\\left<{\\eta_{ij}}\\right>*h_j + \\lambda_{ij}*\\lambda_{ik}*\\left<{\\eta_{ik}}\\right>*h_i + 2*\\lambda_{ij}*\\lambda_{ik}*\\left<{m_i}\\right>*h_j**2 + \\lambda_{ij}*\\lambda_{ik}*\\left<{m_j}\\right>*h_j**3/h_i + \\lambda_{ij}*\\lambda_{ik}*h_i + \\lambda_{ij}*\\lambda_{ik}*h_j**2/(2*h_i) - \\lambda_{ij}*\\left<{\\eta_{ij}}\\right>*h_i**2*h_j + 3*\\lambda_{ij}*\\left<{m_i}\\right>*h_i**2 + 2*\\lambda_{ij}*\\left<{m_j}\\right>*h_i*h_j - 7*\\lambda_{ij}*h_i*h_j**2/2 + 2*\\lambda_{ij}*h_i + \\lambda_{ij}*\\left<{m_j}\\right>*h_i**3*h_j/\\lambda_{ik} + \\lambda_{ij}*h_i**3/\\lambda_{ik} + 2*\\lambda_{ik}**2*\\left<m_j\\eta_{ij}\\right>*h_j**3/h_i + \\lambda_{ik}**2*\\left<{\\eta_{ij}}\\right>*h_j**2/h_i - \\lambda_{ik}**2*\\left<{\\eta_{ik}}\\right>*h_j - \\lambda_{ik}**2*h_j - 2*\\lambda_{ik}*\\left<{\\eta_{ij}}\\right>*h_i*h_j**2 + \\lambda_{ik}*\\left<{\\eta_{ik}}\\right>*h_i**2*h_j - 4*\\lambda_{ik}*\\left<{m_i}\\right>*h_i*h_j - 3*\\lambda_{ik}*\\left<{m_j}\\right>*h_j**2 + \\lambda_{ik}*h_i**2*h_j + 3*\\lambda_{ik}*h_j**3/2 - 5*\\lambda_{ik}*h_j/2 + \\left<{m_i}\\right>*h_i**3*h_j - \\left<{m_j}\\right>*h_i**2*h_j**2 - h_i**2*h_j/2 + \\lambda_{ik}**2*\\left<{\\eta_{ij}}\\right>*h_j**3/\\lambda_{ij} - \\lambda_{ik}**2*\\left<{\\eta_{ik}}\\right>*h_i*h_j**2/\\lambda_{ij} + \\lambda_{ik}**2*\\left<{m_i}\\right>*h_j**2/\\lambda_{ij} + \\lambda_{ik}**2*\\left<{m_j}\\right>*h_j**3/(\\lambda_{ij}*h_i) - \\lambda_{ik}**2*h_i*h_j**2/\\lambda_{ij} + \\lambda_{ik}**2*h_j**2/(2*\\lambda_{ij}*h_i) + h_i**3*h_j**2/(2*\\lambda_{ij}) - \\lambda_{ik}**2*\\left<{m_i}\\right>*h_i*h_j**3/\\lambda_{ij}**2 - \\lambda_{ik}**2*h_j**3/(2*\\lambda_{ij}**2) - \\lambda_{ik}*h_i**2*h_j**3/(2*\\lambda_{ij}**2)],\n",
       "[                                                      0,                                                                                                                  0, \\Delta*\\lambda_{ij}**2*h_i**3/(4*\\lambda_{ik}**2*h_j**2) - \\Delta*\\lambda_{ij}*h_i**2/(4*\\lambda_{ik}*h_j) - \\Delta*h_i/4 + \\Delta*\\lambda_{ik}*h_j/(4*\\lambda_{ij}), -\\Delta*\\lambda_{ij}*h_i**3/(2*\\lambda_{ik}*h_j**2) + \\Delta*h_i**2/h_j - \\Delta*\\lambda_{ik}*h_i/(2*\\lambda_{ij}), \\Delta*\\lambda_{ij}*h_i**2/(4*h_j**2) + \\Delta*\\lambda_{ij}/8 - \\Delta*\\lambda_{ij}*h_i**2/(4*\\lambda_{ik}*h_j**2) - \\Delta*\\lambda_{ij}*h_i**4/(4*\\lambda_{ik}**2*h_j**2) - \\Delta*\\lambda_{ik}*h_i/(4*h_j) - \\Delta*\\lambda_{ik}*h_j/(8*h_i) + \\Delta*h_i/(8*h_j) + \\Delta*h_i**3/(4*\\lambda_{ik}*h_j) + \\Delta*\\lambda_{ik}/(8*\\lambda_{ij}) - \\Delta*h_i**2/(8*\\lambda_{ij}) + \\Delta*\\lambda_{ik}*h_i*h_j/(8*\\lambda_{ij}**2) + \\lambda_{ij}**4*\\left<{m_i}\\right>*h_i**4/(2*\\lambda_{ik}**2*h_j**2) + \\lambda_{ij}**4*\\left<{m_j}\\right>*h_i**3/(4*\\lambda_{ik}**2*h_j) + \\lambda_{ij}**4*h_i**3/(4*\\lambda_{ik}**2*h_j**2) - \\lambda_{ij}**3*\\left<{\\eta_{ij}}\\right>*h_i**3/(2*h_j**2) - \\lambda_{ij}**3*\\left<{\\eta_{ij}}\\right>*h_i/4 - \\lambda_{ij}**3*h_i**2/(4*h_j) - \\lambda_{ij}**3*h_j/8 + \\lambda_{ij}**3*\\left<{\\eta_{ij}}\\right>*h_i**3/(2*\\lambda_{ik}*h_j**2) - \\lambda_{ij}**3*\\left<{m_i}\\right>*h_i**3/(2*\\lambda_{ik}*h_j) - \\lambda_{ij}**3*\\left<{m_j}\\right>*h_i**2/(4*\\lambda_{ik}) + \\lambda_{ij}**3*\\left<{\\eta_{ij}}\\right>*h_i**5/(\\lambda_{ik}**2*h_j**2) + 3*\\lambda_{ij}**3*h_i**4/(4*\\lambda_{ik}**2*h_j) - \\lambda_{ij}**2*\\lambda_{ik}*\\left<{\\eta_{ik}}\\right>*h_i**3/(2*h_j**2) - \\lambda_{ij}**2*\\lambda_{ik}*\\left<{\\eta_{ik}}\\right>*h_i/4 - \\lambda_{ij}**2*\\lambda_{ik}*h_i**3/(2*h_j**2) + \\lambda_{ij}**2*\\lambda_{ik}*h_j**2/(8*h_i) - \\lambda_{ij}**2*\\left<m_i\\eta_{ik}\\right>*h_i**4/h_j**2 + \\lambda_{ij}**2*\\left<m_j\\eta_{ij}\\right>*h_i**2 + 3*\\lambda_{ij}**2*\\left<{\\eta_{ij}}\\right>*h_i**2/(4*h_j) - 3*\\lambda_{ij}**2*\\left<{m_i}\\right>*h_i**4/(2*h_j**2) - 5*\\lambda_{ij}**2*\\left<{m_i}\\right>*h_i**2/4 - \\lambda_{ij}**2*\\left<{m_j}\\right>*h_i**3/(2*h_j) - \\lambda_{ij}**2*\\left<{m_j}\\right>*h_i*h_j/2 - \\lambda_{ij}**2*h_i**3/(2*h_j**2) - 5*\\lambda_{ij}**2*h_i/8 - \\lambda_{ij}**2*\\left<{\\eta_{ij}}\\right>*h_i**4/(\\lambda_{ik}*h_j) + \\lambda_{ij}**2*\\left<{m_j}\\right>*h_i**3/(4*\\lambda_{ik}*h_j) - 3*\\lambda_{ij}**2*h_i**3/(4*\\lambda_{ik}) + \\lambda_{ij}**2*h_i**3/(4*\\lambda_{ik}*h_j**2) + \\lambda_{ij}**2*\\left<{m_i}\\right>*h_i**6/(2*\\lambda_{ik}**2*h_j**2) + 3*\\lambda_{ij}**2*\\left<{m_j}\\right>*h_i**5/(4*\\lambda_{ik}**2*h_j) + 3*\\lambda_{ij}**2*h_i**5/(4*\\lambda_{ik}**2*h_j**2) + \\lambda_{ij}*\\lambda_{ik}**2*\\left<{\\eta_{ij}}\\right>*h_i/2 + \\lambda_{ij}*\\lambda_{ik}**2*\\left<{\\eta_{ij}}\\right>*h_j**2/(4*h_i) + \\lambda_{ij}*\\lambda_{ik}**2*\\left<{\\eta_{ik}}\\right>*h_i**2/(2*h_j) + \\lambda_{ij}*\\lambda_{ik}**2*\\left<{\\eta_{ik}}\\right>*h_j/4 + \\lambda_{ij}*\\lambda_{ik}**2*h_i**2/(2*h_j) + \\lambda_{ij}*\\lambda_{ik}**2*h_j/4 + 2*\\lambda_{ij}*\\lambda_{ik}*\\left<m_i\\eta_{ik}\\right>*h_i**3/h_j - 2*\\lambda_{ij}*\\lambda_{ik}*\\left<m_j\\eta_{ij}\\right>*h_i*h_j - 3*\\lambda_{ij}*\\lambda_{ik}*\\left<{\\eta_{ij}}\\right>*h_i/2 + 3*\\lambda_{ij}*\\lambda_{ik}*\\left<{\\eta_{ik}}\\right>*h_i**2/(4*h_j) + 2*\\lambda_{ij}*\\lambda_{ik}*\\left<{m_i}\\right>*h_i**3/h_j + 3*\\lambda_{ij}*\\lambda_{ik}*\\left<{m_i}\\right>*h_i*h_j/2 + \\lambda_{ij}*\\lambda_{ik}*\\left<{m_j}\\right>*h_i**2/2 + \\lambda_{ij}*\\lambda_{ik}*\\left<{m_j}\\right>*h_j**2/2 + \\lambda_{ij}*\\lambda_{ik}*h_i**2/h_j + \\lambda_{ij}*\\lambda_{ik}*h_j/4 + 3*\\lambda_{ij}*\\left<{\\eta_{ij}}\\right>*h_i**3/4 + 7*\\lambda_{ij}*\\left<{m_i}\\right>*h_i**3/(4*h_j) + \\lambda_{ij}*\\left<{m_j}\\right>*h_i**2/2 - \\lambda_{ij}*h_i**4/(4*h_j) - \\lambda_{ij}*h_i**2*h_j/2 + 3*\\lambda_{ij}*h_i**2/(4*h_j) - \\lambda_{ij}*\\left<{m_i}\\right>*h_i**5/(2*\\lambda_{ik}*h_j) - 3*\\lambda_{ij}*\\left<{m_j}\\right>*h_i**4/(4*\\lambda_{ik}) - 3*\\lambda_{ij}*h_i**4/(4*\\lambda_{ik}*h_j) + \\lambda_{ij}*h_i**6/(4*\\lambda_{ik}**2*h_j) - \\lambda_{ik}**2*\\left<m_i\\eta_{ik}\\right>*h_i**2 + \\lambda_{ik}**2*\\left<m_j\\eta_{ij}\\right>*h_j**2 + \\lambda_{ik}**2*\\left<{\\eta_{ij}}\\right>*h_j/4 - 3*\\lambda_{ik}**2*\\left<{\\eta_{ik}}\\right>*h_i/4 - \\lambda_{ik}**2*\\left<{m_i}\\right>*h_i**2/2 - \\lambda_{ik}**2*\\left<{m_i}\\right>*h_j**2/4 - \\lambda_{ik}**2*h_i/2 + \\lambda_{ik}**2*h_j**2/(8*h_i) - \\lambda_{ik}*\\left<{\\eta_{ij}}\\right>*h_i**2*h_j + 3*\\lambda_{ik}*\\left<{\\eta_{ik}}\\right>*h_i**3/4 - 2*\\lambda_{ik}*\\left<{m_i}\\right>*h_i**2 - \\lambda_{ik}*\\left<{m_j}\\right>*h_i*h_j + \\lambda_{ik}*h_i**3 + \\lambda_{ik}*h_i*h_j**2/2 - 9*\\lambda_{ik}*h_i/8 + 3*\\left<{m_i}\\right>*h_i**4/4 + 5*h_i**3/8 - h_i**5/(4*\\lambda_{ik}) + \\lambda_{ik}**2*\\left<{\\eta_{ij}}\\right>*h_i*h_j**2/(4*\\lambda_{ij}) - 3*\\lambda_{ik}**2*\\left<{\\eta_{ik}}\\right>*h_i**2*h_j/(4*\\lambda_{ij}) + \\lambda_{ik}**2*\\left<{m_i}\\right>*h_i*h_j/(4*\\lambda_{ij}) + \\lambda_{ik}**2*\\left<{m_j}\\right>*h_j**2/(4*\\lambda_{ij}) - 3*\\lambda_{ik}**2*h_i**2*h_j/(4*\\lambda_{ij}) + \\lambda_{ik}**2*h_j/(8*\\lambda_{ij}) - \\lambda_{ik}*\\left<{m_i}\\right>*h_i**3*h_j/(2*\\lambda_{ij}) - \\lambda_{ik}*h_i**2*h_j/(2*\\lambda_{ij}) + h_i**4*h_j/(8*\\lambda_{ij}) - \\lambda_{ik}**2*\\left<{m_i}\\right>*h_i**2*h_j**2/(4*\\lambda_{ij}**2) - \\lambda_{ik}**2*h_i*h_j**2/(8*\\lambda_{ij}**2) - \\lambda_{ik}*h_i**3*h_j**2/(8*\\lambda_{ij}**2)],\n",
       "[                                                      0, -\\Delta*\\lambda_{ij}**2/(4*\\lambda_{ik}) + \\Delta*\\lambda_{ij}*h_j/(2*h_i) - \\Delta*\\lambda_{ik}*h_j**2/(4*h_i**2),                                                                                                                                                                    0,          \\Delta*\\lambda_{ij}*h_i/(4*\\lambda_{ik}) - \\Delta*h_j/2 + \\Delta*\\lambda_{ik}*h_j**2/(4*\\lambda_{ij}*h_i),                                                                                                                                                                                                                                                                                                                                                                                                                                                                                                                                                                                                                                                                                                                                                                                       -\\Delta*\\lambda_{ij}**3/(8*\\lambda_{ik}**2) + \\Delta*\\lambda_{ij}**2*h_j/(8*\\lambda_{ik}*h_i) + \\Delta*\\lambda_{ij}/4 + \\Delta*\\lambda_{ij}/(2*\\lambda_{ik}) + \\Delta*\\lambda_{ij}*h_i**2/(8*\\lambda_{ik}**2) - \\Delta*\\lambda_{ik}*h_j/(4*h_i) - \\Delta*h_j/(2*h_i) - \\Delta*h_i*h_j/(8*\\lambda_{ik}) + \\lambda_{ij}**5*\\left<{\\eta_{ij}}\\right>*h_i/(4*\\lambda_{ik}**2) + \\lambda_{ij}**5*h_j/(8*\\lambda_{ik}**2) - \\lambda_{ij}**4*\\left<{\\eta_{ij}}\\right>*h_j/(4*\\lambda_{ik}) - \\lambda_{ij}**4*h_j**2/(8*\\lambda_{ik}*h_i) + \\lambda_{ij}**4*\\left<{m_i}\\right>*h_i**2/(4*\\lambda_{ik}**2) + \\lambda_{ij}**4*\\left<{m_j}\\right>*h_i*h_j/(4*\\lambda_{ik}**2) + \\lambda_{ij}**4*h_i/(4*\\lambda_{ik}**2) - 3*\\lambda_{ij}**3*\\left<{\\eta_{ij}}\\right>*h_i/2 + \\lambda_{ij}**3*\\left<{\\eta_{ij}}\\right>*h_j**2/(4*h_i) - \\lambda_{ij}**3*h_j/4 - 5*\\lambda_{ij}**3*\\left<{\\eta_{ij}}\\right>*h_i/(4*\\lambda_{ik}) - \\lambda_{ij}**3*\\left<{m_i}\\right>*h_i*h_j/(4*\\lambda_{ik}) - \\lambda_{ij}**3*\\left<{m_j}\\right>*h_j**2/(4*\\lambda_{ik}) - 7*\\lambda_{ij}**3*h_j/(8*\\lambda_{ik}) - \\lambda_{ij}**3*\\left<{\\eta_{ij}}\\right>*h_i**3/(4*\\lambda_{ik}**2) + \\lambda_{ij}**2*\\lambda_{ik}*\\left<\\eta_{ik}^{2}\\right>*h_i/2 + 2*\\lambda_{ij}**2*\\lambda_{ik}*\\left<{\\eta_{ij}}\\right>*h_j - \\lambda_{ij}**2*\\lambda_{ik}*\\left<{\\eta_{ij}}\\right>*h_j**3/(4*h_i**2) - \\lambda_{ij}**2*\\lambda_{ik}*\\left<{\\eta_{ik}}\\right>*h_i/2 + \\lambda_{ij}**2*\\lambda_{ik}*\\left<{\\eta_{ik}}\\right>*h_j**2/(4*h_i) - \\lambda_{ij}**2*\\lambda_{ik}*h_i + \\lambda_{ij}**2*\\lambda_{ik}*h_j**2/(2*h_i) + \\lambda_{ij}**2*\\left<m_i\\eta_{ik}\\right>*h_i**2 + \\lambda_{ij}**2*\\left<{\\eta_{ij}}\\right>*h_j/2 - \\lambda_{ij}**2*\\left<{m_i}\\right>*h_i**2/2 + \\lambda_{ij}**2*\\left<{m_i}\\right>*h_j**2/4 - \\lambda_{ij}**2*\\left<{m_j}\\right>*h_i*h_j/2 - 3*\\lambda_{ij}**2*h_i/2 + 7*\\lambda_{ij}**2*h_j**2/(8*h_i) + \\lambda_{ij}**2*\\left<{\\eta_{ij}}\\right>*h_i**2*h_j/(4*\\lambda_{ik}) - 3*\\lambda_{ij}**2*\\left<{m_i}\\right>*h_i**2/(4*\\lambda_{ik}) - \\lambda_{ij}**2*\\left<{m_j}\\right>*h_i*h_j/\\lambda_{ik} - \\lambda_{ij}**2*h_i/\\lambda_{ik} - \\lambda_{ij}**2*\\left<{m_i}\\right>*h_i**4/(4*\\lambda_{ik}**2) - \\lambda_{ij}**2*\\left<{m_j}\\right>*h_i**3*h_j/(4*\\lambda_{ik}**2) - \\lambda_{ij}**2*h_i**3/(4*\\lambda_{ik}**2) - \\lambda_{ij}*\\lambda_{ik}**2*\\left<\\eta_{ik}^{2}\\right>*h_j - \\lambda_{ij}*\\lambda_{ik}**2*\\left<{\\eta_{ij}}\\right>*h_j**2/(2*h_i) + \\lambda_{ij}*\\lambda_{ik}**2*\\left<{\\eta_{ik}}\\right>*h_j/2 - \\lambda_{ij}*\\lambda_{ik}**2*\\left<{\\eta_{ik}}\\right>*h_j**3/(4*h_i**2) + 3*\\lambda_{ij}*\\lambda_{ik}**2*h_j/2 - \\lambda_{ij}*\\lambda_{ik}**2*h_j**3/(4*h_i**2) - 2*\\lambda_{ij}*\\lambda_{ik}*\\left<m_i\\eta_{ik}\\right>*h_i*h_j + 3*\\lambda_{ij}*\\lambda_{ik}*\\left<{\\eta_{ij}}\\right>*h_j**2/(4*h_i) - \\lambda_{ij}*\\lambda_{ik}*\\left<{\\eta_{ik}}\\right>*h_j - \\lambda_{ij}*\\lambda_{ik}*\\left<{m_i}\\right>*h_j**3/(4*h_i) + \\lambda_{ij}*\\lambda_{ik}*\\left<{m_j}\\right>*h_j**2/2 + 5*\\lambda_{ij}*\\lambda_{ik}*h_j/4 - \\lambda_{ij}*\\lambda_{ik}*h_j**3/(4*h_i**2) - \\lambda_{ij}*\\left<{\\eta_{ij}}\\right>*h_i*h_j**2/4 - \\lambda_{ij}*\\left<{m_i}\\right>*h_i*h_j/2 + \\lambda_{ij}*\\left<{m_j}\\right>*h_j**2 - \\lambda_{ij}*h_i**2*h_j/4 + \\lambda_{ij}*h_j/2 + \\lambda_{ij}*\\left<{m_i}\\right>*h_i**3*h_j/(4*\\lambda_{ik}) + \\lambda_{ij}*\\left<{m_j}\\right>*h_i**2*h_j**2/(4*\\lambda_{ik}) - \\lambda_{ij}*h_i**2*h_j/(8*\\lambda_{ik}) - \\lambda_{ij}*h_i**4*h_j/(8*\\lambda_{ik}**2) + \\lambda_{ik}**3*\\left<\\eta_{ik}^{2}\\right>*h_j**2/(2*h_i) - \\lambda_{ik}**3*h_j**2/(2*h_i) + \\lambda_{ik}**2*\\left<m_i\\eta_{ik}\\right>*h_j**2 + \\lambda_{ik}**2*\\left<{\\eta_{ik}}\\right>*h_j**2/h_i + \\lambda_{ik}**2*\\left<{m_i}\\right>*h_j**2/2 + \\lambda_{ik}**2*h_j**2/(4*h_i) + \\lambda_{ik}*\\left<{\\eta_{ij}}\\right>*h_j**3/4 - \\lambda_{ik}*\\left<{\\eta_{ik}}\\right>*h_i*h_j**2/4 + 5*\\lambda_{ik}*\\left<{m_i}\\right>*h_j**2/4 + \\lambda_{ik}*h_j**2/(2*h_i) - \\left<{m_i}\\right>*h_i**2*h_j**2/4 + h_i*h_j**2/8 + h_i**3*h_j**2/(8*\\lambda_{ik}) + \\lambda_{ik}**2*\\left<{\\eta_{ik}}\\right>*h_j**3/(4*\\lambda_{ij}) + \\lambda_{ik}**2*h_j**3/(4*\\lambda_{ij}) + \\lambda_{ik}*\\left<{m_i}\\right>*h_i*h_j**3/(4*\\lambda_{ij}) + \\lambda_{ik}*h_j**3/(4*\\lambda_{ij})],\n",
       "[\\Delta*\\lambda_{ij}*h_i/(2*\\lambda_{ik}) - \\Delta*h_j/2,   -\\Delta*\\lambda_{ij}**2*h_i/\\lambda_{ik}**2 + 3*\\Delta*\\lambda_{ij}*h_j/(2*\\lambda_{ik}) - \\Delta*h_j**2/(2*h_i),                                                                  \\Delta*\\lambda_{ij}**2*h_i**2/(2*\\lambda_{ik}**3) - \\Delta*\\lambda_{ij}*h_i*h_j/(2*\\lambda_{ik}**2),                                                  -\\Delta*h_i*h_j/(2*\\lambda_{ik}) + \\Delta*h_j**2/(2*\\lambda_{ij}),                                                                                                                                                                                                                                                                                                                                                                                                                                                                                                                                                                                                                                                                                                                                                                                                                                                            -\\Delta*\\lambda_{ij}**3*h_i/(2*\\lambda_{ik}**3) + \\Delta*\\lambda_{ij}**2*h_j/(2*\\lambda_{ik}**2) + \\Delta*\\lambda_{ij}*h_i/\\lambda_{ik} + 3*\\Delta*\\lambda_{ij}*h_i/(2*\\lambda_{ik}**2) - \\Delta*h_j - 9*\\Delta*h_j/(4*\\lambda_{ik}) + \\lambda_{ij}**5*\\left<{\\eta_{ij}}\\right>*h_i**2/\\lambda_{ik}**3 + \\lambda_{ij}**5*h_i*h_j/(2*\\lambda_{ik}**3) - \\lambda_{ij}**4*\\left<{\\eta_{ij}}\\right>*h_i*h_j/\\lambda_{ik}**2 - \\lambda_{ij}**4*h_j**2/(2*\\lambda_{ik}**2) + 2*\\lambda_{ij}**4*\\left<{m_i}\\right>*h_i**3/\\lambda_{ik}**3 + 3*\\lambda_{ij}**4*\\left<{m_j}\\right>*h_i**2*h_j/(2*\\lambda_{ik}**3) + 3*\\lambda_{ij}**4*h_i**2/(2*\\lambda_{ik}**3) - 5*\\lambda_{ij}**3*\\left<{\\eta_{ij}}\\right>*h_i**2/\\lambda_{ik} + \\lambda_{ij}**3*\\left<{\\eta_{ij}}\\right>*h_j**2/(2*\\lambda_{ik}) - 3*\\lambda_{ij}**3*h_i*h_j/(2*\\lambda_{ik}) - 4*\\lambda_{ij}**3*\\left<{\\eta_{ij}}\\right>*h_i**2/\\lambda_{ik}**2 - 2*\\lambda_{ij}**3*\\left<{m_i}\\right>*h_i**2*h_j/\\lambda_{ik}**2 - 3*\\lambda_{ij}**3*\\left<{m_j}\\right>*h_i*h_j**2/(2*\\lambda_{ik}**2) - 7*\\lambda_{ij}**3*h_i*h_j/(2*\\lambda_{ik}**2) + \\lambda_{ij}**3*\\left<{\\eta_{ij}}\\right>*h_i**4/\\lambda_{ik}**3 + 3*\\lambda_{ij}**3*h_i**3*h_j/(2*\\lambda_{ik}**3) + 2*\\lambda_{ij}**2*\\left<\\eta_{ik}^{2}\\right>*h_i**2 + 6*\\lambda_{ij}**2*\\left<{\\eta_{ij}}\\right>*h_i*h_j - \\lambda_{ij}**2*\\left<{\\eta_{ij}}\\right>*h_j**3/(2*h_i) - \\lambda_{ij}**2*\\left<{\\eta_{ik}}\\right>*h_i**2 + \\lambda_{ij}**2*\\left<{\\eta_{ik}}\\right>*h_j**2/2 - 3*\\lambda_{ij}**2*h_i**2 + 2*\\lambda_{ij}**2*h_j**2 + 2*\\lambda_{ij}**2*\\left<m_i\\eta_{ik}\\right>*h_i**3/\\lambda_{ik} + 4*\\lambda_{ij}**2*\\left<{\\eta_{ij}}\\right>*h_i*h_j/\\lambda_{ik} - 3*\\lambda_{ij}**2*\\left<{m_i}\\right>*h_i**3/\\lambda_{ik} + \\lambda_{ij}**2*\\left<{m_i}\\right>*h_i*h_j**2/(2*\\lambda_{ik}) - 3*\\lambda_{ij}**2*\\left<{m_j}\\right>*h_i**2*h_j/\\lambda_{ik} - 5*\\lambda_{ij}**2*h_i**2/\\lambda_{ik} + 13*\\lambda_{ij}**2*h_j**2/(4*\\lambda_{ik}) - \\lambda_{ij}**2*\\left<{\\eta_{ij}}\\right>*h_i**3*h_j/\\lambda_{ik}**2 - 3*\\lambda_{ij}**2*\\left<{m_i}\\right>*h_i**3/\\lambda_{ik}**2 - 7*\\lambda_{ij}**2*\\left<{m_j}\\right>*h_i**2*h_j/(2*\\lambda_{ik}**2) - 3*\\lambda_{ij}**2*h_i**2*h_j**2/(2*\\lambda_{ik}**2) - 7*\\lambda_{ij}**2*h_i**2/(2*\\lambda_{ik}**2) + \\lambda_{ij}**2*\\left<{m_j}\\right>*h_i**4*h_j/(2*\\lambda_{ik}**3) + \\lambda_{ij}**2*h_i**4/(2*\\lambda_{ik}**3) - 4*\\lambda_{ij}*\\lambda_{ik}*\\left<\\eta_{ik}^{2}\\right>*h_i*h_j - \\lambda_{ij}*\\lambda_{ik}*\\left<{\\eta_{ij}}\\right>*h_j**2 + \\lambda_{ij}*\\lambda_{ik}*\\left<{\\eta_{ik}}\\right>*h_i*h_j - \\lambda_{ij}*\\lambda_{ik}*\\left<{\\eta_{ik}}\\right>*h_j**3/(2*h_i) + 5*\\lambda_{ij}*\\lambda_{ik}*h_i*h_j - \\lambda_{ij}*\\lambda_{ik}*h_j**3/(2*h_i) - 4*\\lambda_{ij}*\\left<m_i\\eta_{ik}\\right>*h_i**2*h_j + 3*\\lambda_{ij}*\\left<{\\eta_{ij}}\\right>*h_j**2 - 2*\\lambda_{ij}*\\left<{\\eta_{ik}}\\right>*h_i*h_j + 2*\\lambda_{ij}*\\left<{m_i}\\right>*h_i**2*h_j - \\lambda_{ij}*\\left<{m_i}\\right>*h_j**3/2 + 3*\\lambda_{ij}*\\left<{m_j}\\right>*h_i*h_j**2 + 11*\\lambda_{ij}*h_i*h_j/2 - \\lambda_{ij}*h_j**3/(2*h_i) - \\lambda_{ij}*\\left<{\\eta_{ij}}\\right>*h_i**2*h_j**2/(2*\\lambda_{ik}) + 2*\\lambda_{ij}*\\left<{m_i}\\right>*h_i**2*h_j/\\lambda_{ik} + 5*\\lambda_{ij}*\\left<{m_j}\\right>*h_i*h_j**2/\\lambda_{ik} - 3*\\lambda_{ij}*h_i**3*h_j/(2*\\lambda_{ik}) + 4*\\lambda_{ij}*h_i*h_j/\\lambda_{ik} - \\lambda_{ij}*\\left<{m_j}\\right>*h_i**3*h_j**2/(2*\\lambda_{ik}**2) - 2*\\lambda_{ij}*h_i**3*h_j/\\lambda_{ik}**2 + 2*\\lambda_{ik}**2*\\left<\\eta_{ik}^{2}\\right>*h_j**2 - 2*\\lambda_{ik}**2*h_j**2 + 2*\\lambda_{ik}*\\left<m_i\\eta_{ik}\\right>*h_i*h_j**2 + 7*\\lambda_{ik}*\\left<{\\eta_{ik}}\\right>*h_j**2/2 + \\lambda_{ik}*\\left<{m_i}\\right>*h_i*h_j**2 + \\lambda_{ik}*h_j**2 + \\left<{\\eta_{ij}}\\right>*h_i*h_j**3/2 - \\left<{\\eta_{ik}}\\right>*h_i**2*h_j**2/2 + 4*\\left<{m_i}\\right>*h_i*h_j**2 + h_i**2*h_j**2 + 7*h_j**2/4 - \\left<{m_i}\\right>*h_i**3*h_j**2/(2*\\lambda_{ik}) + 7*h_i**2*h_j**2/(4*\\lambda_{ik}) + \\lambda_{ik}*\\left<{\\eta_{ik}}\\right>*h_i*h_j**3/(2*\\lambda_{ij}) + \\lambda_{ik}*h_i*h_j**3/(2*\\lambda_{ij}) + \\left<{m_i}\\right>*h_i**2*h_j**3/(2*\\lambda_{ij}) + h_i*h_j**3/(2*\\lambda_{ij})]])"
      ]
     },
     "metadata": {},
     "output_type": "display_data"
    }
   ],
   "source": [
    "M = sp.Matrix([line1, line2, line3, line4])\n",
    "M = M.expand()\n",
    "\n",
    "M[0, :] += M[1, :]*2/h_i*h_j\n",
    "M[1, :] -= M[2, :]*h_i**2/h_j**2\n",
    "M[2, :] += M[3, :]/2/h_i*l_ik\n",
    "M[3, :] += M[2, :]*2*h_i/l_ik\n",
    "\n",
    "M = M.expand()\n",
    "\n",
    "display(M)"
   ]
  },
  {
   "cell_type": "code",
   "execution_count": 102,
   "metadata": {},
   "outputs": [],
   "source": [
    "value_system_moments_2 = []\n",
    "\n",
    "result = (M[:, :-1]).solve(M[:, -1])\n",
    "for item in result:\n",
    "    value_system_moments_2.append(item.factor())\n",
    "\n",
    "# for i in range(4):\n",
    "#     display(sp.Eq(vector_system_moments_2[i], value_system_moments_2[i]))\n",
    "# for i in range(4):\n",
    "#     sp.print_latex(sp.Eq(vector_system_moments_2[i], value_system_moments_2[i]))"
   ]
  },
  {
   "cell_type": "code",
   "execution_count": 103,
   "metadata": {},
   "outputs": [],
   "source": [
    "subs_to_moments_2 = dict(zip(vector_system_moments_2, value_system_moments_2))"
   ]
  },
  {
   "cell_type": "code",
   "execution_count": 104,
   "metadata": {},
   "outputs": [
    {
     "data": {
      "text/latex": [
       "$\\displaystyle - \\frac{\\left<m_j\\eta_{ij}\\right> h_{j}}{\\lambda_{ij}} - \\frac{2 \\left<{\\eta_{ij}}\\right>}{\\lambda_{ij}} + \\frac{\\left<{m_i}\\right> h_{j}}{\\lambda_{ij}}$"
      ],
      "text/plain": [
       "-\\left<m_j\\eta_{ij}\\right>*h_j/\\lambda_{ij} - 2*\\left<{\\eta_{ij}}\\right>/\\lambda_{ij} + \\left<{m_i}\\right>*h_j/\\lambda_{ij}"
      ]
     },
     "metadata": {},
     "output_type": "display_data"
    },
    {
     "name": "stdout",
     "output_type": "stream",
     "text": [
      "- \\left<m_j\\eta_{ij}\\right> h_{j} - 2 \\left<{\\eta_{ij}}\\right> + \\left<{m_i}\\right> h_{j}\n"
     ]
    }
   ],
   "source": [
    "expr_Q_star_from_m_j_eta_ij = expr_Q_star.subs(subs_to_moments).subs(subs_to_moments_2).subs(subs_det_system_moments).factor().expand()\n",
    "display(expr_Q_star_from_m_j_eta_ij)\n",
    "sp.print_latex((l_ij*expr_Q_star_from_m_j_eta_ij).expand())"
   ]
  },
  {
   "cell_type": "code",
   "execution_count": 105,
   "metadata": {},
   "outputs": [
    {
     "data": {
      "text/latex": [
       "$\\displaystyle \\left<m_{jh}^2\\right> = - \\frac{2 \\lambda_{ij} \\left<m_j\\eta_{ij}\\right>}{h_{j}} + \\frac{2 \\lambda_{ij} \\left<{m_i}\\right>}{h_{j}} - \\frac{2 \\left<{m_j}\\right>}{h_{j}} + 1$"
      ],
      "text/plain": [
       "Eq(\\left<m_{jh}^2\\right>, -2*\\lambda_{ij}*\\left<m_j\\eta_{ij}\\right>/h_j + 2*\\lambda_{ij}*\\left<{m_i}\\right>/h_j - 2*\\left<{m_j}\\right>/h_j + 1)"
      ]
     },
     "metadata": {},
     "output_type": "display_data"
    },
    {
     "name": "stdout",
     "output_type": "stream",
     "text": [
      "- \\frac{2 \\lambda_{ij} \\left<m_j\\eta_{ij}\\right>}{h_{j}} + \\frac{2 \\lambda_{ij} \\left<{m_i}\\right>}{h_{j}} - \\frac{2 \\left<{m_j}\\right>}{h_{j}} + 1\n"
     ]
    },
    {
     "data": {
      "text/latex": [
       "$\\displaystyle - \\frac{2 \\left<{\\eta_{ij}}\\right>}{\\lambda_{ij}} + \\frac{\\left<m_{jh}^2\\right> h_{j}^{2}}{2 \\lambda_{ij}^{2}} + \\frac{\\left<{m_j}\\right> h_{j}}{\\lambda_{ij}^{2}} - \\frac{h_{j}^{2}}{2 \\lambda_{ij}^{2}}$"
      ],
      "text/plain": [
       "-2*\\left<{\\eta_{ij}}\\right>/\\lambda_{ij} + \\left<m_{jh}^2\\right>*h_j**2/(2*\\lambda_{ij}**2) + \\left<{m_j}\\right>*h_j/\\lambda_{ij}**2 - h_j**2/(2*\\lambda_{ij}**2)"
      ]
     },
     "metadata": {},
     "output_type": "display_data"
    },
    {
     "name": "stdout",
     "output_type": "stream",
     "text": [
      "- 2 \\left<{\\eta_{ij}}\\right> + \\frac{\\left<m_{jh}^2\\right> h_{j}^{2}}{2 \\lambda_{ij}} + \\frac{\\left<{m_j}\\right> h_{j}}{\\lambda_{ij}} - \\frac{h_{j}^{2}}{2 \\lambda_{ij}}\n"
     ]
    }
   ],
   "source": [
    "expr_m_j_par_2 = Z3_expr.diff(h_j, 2)/(Z3_expr)\n",
    "expr_m_j_par_2 = sp.Add(*map(sp.factor, expr_m_j_par_2.expand().args))\n",
    "expr = expr_m_j_par_2.subs(subs_to_moments).subs(subs_to_moments_2).subs(subs_det_system_moments).factor().expand()\n",
    "\n",
    "m_j_par_2 = sp.Symbol(\"\\\\left<m_{jh}^2\\\\right>\")\n",
    "display(sp.Eq(m_j_par_2, expr))\n",
    "sp.print_latex(expr)\n",
    " \n",
    "expr_Q_star_from_m_2_par_2 = expr_Q_star_from_m_j_eta_ij.replace(m_j_eta_ij, sp.solve(expr-m_j_par_2, m_j_eta_ij)[0]).expand()\n",
    "display(expr_Q_star_from_m_2_par_2)\n",
    "sp.print_latex((l_ij*expr_Q_star_from_m_2_par_2).expand())\n",
    "\n",
    "_expr_m_j_par_2 = expr"
   ]
  },
  {
   "cell_type": "code",
   "execution_count": 106,
   "metadata": {},
   "outputs": [
    {
     "data": {
      "text/latex": [
       "$\\displaystyle \\left<{m_2\\eta_2}\\right> = \\frac{Dummy_{798}}{2} - \\frac{\\left<m_j\\eta_{ij}\\right> h_{j}}{h_{i}} + \\frac{\\left<{m_i}\\right> h_{j}}{h_{i}} - \\left<{m_j}\\right>$"
      ],
      "text/plain": [
       "Eq(\\left<{m_2\\eta_2}\\right>, _Dummy_798/2 - \\left<m_j\\eta_{ij}\\right>*h_j/h_i + \\left<{m_i}\\right>*h_j/h_i - \\left<{m_j}\\right>)"
      ]
     },
     "metadata": {},
     "output_type": "display_data"
    }
   ],
   "source": [
    "expr_m_j_eta_ik = Z3_expr.diff(h_j, l_ik)/(Z3_expr)\n",
    "expr_m_j_eta_ik = sp.Add(*map(sp.factor, expr_m_j_eta_ik.expand().args))\n",
    "expr = expr_m_j_eta_ik.subs(subs_to_moments).subs(subs_to_moments_2).subs(subs_det_system_moments).factor().expand()\n",
    "\n",
    "m_j_eta_ik = sp.Symbol(\"\\\\left<{m_2\\\\eta_2}\\\\right>\")\n",
    "display(sp.Eq(m_j_eta_ik, expr))"
   ]
  },
  {
   "cell_type": "markdown",
   "metadata": {},
   "source": [
    "#### Проверка"
   ]
  },
  {
   "cell_type": "code",
   "execution_count": 107,
   "metadata": {},
   "outputs": [],
   "source": [
    "args_moments = h_i, h_j, l_ij, l_ik, m_i, m_j, eta_ij, eta_ik"
   ]
  },
  {
   "cell_type": "code",
   "execution_count": 108,
   "metadata": {},
   "outputs": [
    {
     "name": "stdout",
     "output_type": "stream",
     "text": [
      "0.575477601688201\n",
      "0.5754779493045652\n",
      "\n",
      "0.5237828164508116\n",
      "0.5237813820122512\n",
      "\n",
      "0.49566723243071426\n",
      "0.49566789130909583\n",
      "\n",
      "0.5488518559086166\n",
      "0.5488505334644458\n",
      "\n"
     ]
    },
    {
     "name": "stderr",
     "output_type": "stream",
     "text": [
      "/tmp/ipykernel_2837517/3652816044.py:4: IntegrationWarning: The occurrence of roundoff error is detected, which prevents \n",
      "  the requested tolerance from being achieved.  The error may be \n",
      "  underestimated.\n",
      "  return 2*np.pi*quad(func, -1, 1)[0]\n"
     ]
    }
   ],
   "source": [
    "f_expr_m_i = sp.lambdify(args_coeffs, expr_m_i, module)\n",
    "f_expr_m_j = sp.lambdify(args_coeffs, expr_m_j, module)\n",
    "f_expr_eta_ij = sp.lambdify(args_coeffs, expr_eta_ij, module)\n",
    "f_expr_eta_ik = sp.lambdify(args_coeffs, expr_eta_ik, module)\n",
    "\n",
    "args = 1.4, 1.1, 0.9, 1.2\n",
    "compare_exprs(\n",
    "    calc_numerical_diffs(v_raw_Z3, args)/(np.asarray([2, 1, 2, 1])*v_raw_Z3(args)),\n",
    "    calc_exprs([f_expr_m_i, f_expr_m_j, f_expr_eta_ij, f_expr_eta_ik], args)\n",
    ")"
   ]
  },
  {
   "cell_type": "code",
   "execution_count": 109,
   "metadata": {},
   "outputs": [
    {
     "name": "stdout",
     "output_type": "stream",
     "text": [
      "125.39966446986146\n",
      "125.39966446986132\n",
      "\n",
      "803.4785804726862\n",
      "803.4785804726858\n",
      "\n",
      "807.8020766568538\n",
      "807.8020766568538\n",
      "\n",
      "791.6950105075871\n",
      "791.6950105075873\n",
      "\n"
     ]
    }
   ],
   "source": [
    "args = 2, 1, 1.1, 1.4\n",
    "moments = f_expr_m_i(*args), f_expr_m_j(*args), f_expr_eta_ij(*args), f_expr_eta_ik(*args)\n",
    "\n",
    "for i in range(4):\n",
    "    left = vector_system_moments[i].subs(subs_det_system_moments)\n",
    "    f_left = sp.lambdify(args_moments, left, module)\n",
    "    print(f_left(*args, *moments))\n",
    "\n",
    "    right = value_system_moments[i].subs(subs_det_system_moments)\n",
    "    f_right = sp.lambdify(args_moments, right, module)\n",
    "    print(f_right(*args, *moments))\n",
    "\n",
    "    print()"
   ]
  },
  {
   "cell_type": "code",
   "execution_count": 110,
   "metadata": {},
   "outputs": [
    {
     "name": "stdout",
     "output_type": "stream",
     "text": [
      "-0.6289024238848074\n",
      "-0.6289024102511016\n",
      "-0.628902410251103\n",
      "-0.6289024102511022\n"
     ]
    }
   ],
   "source": [
    "f_expr_Q_star = sp.lambdify(args_coeffs, expr_Q_star, module)\n",
    "\n",
    "args = 0.2073412, 0.13806503, 1.26262682, 0.15322752\n",
    "Q_star = nd.directionaldiff(v_raw_Z3, args, [0, 0, 1, 0], n=2)/(2*v_raw_Z3(args)) - f_expr_eta_ik(*args) - 1\n",
    "print(Q_star)\n",
    "print(f_expr_Q_star(*args))\n",
    "\n",
    "moments = f_expr_m_i(*args), f_expr_m_j(*args), f_expr_eta_ij(*args), f_expr_eta_ik(*args)\n",
    "\n",
    "f_expr_Q_star_from_m_j_eta_ij = sp.lambdify(list(args_moments) + [m_j_eta_ij], expr_Q_star_from_m_j_eta_ij, module)\n",
    "f_expr_m_j_eta_ij = sp.lambdify(args_moments, expr_m_j_eta_ij.subs(subs_det_system_moments), module)\n",
    "print(f_expr_Q_star_from_m_j_eta_ij(*args, *moments, f_expr_m_j_eta_ij(*args, *moments)))\n",
    "\n",
    "f_expr_Q_star_from_m_j_par_2 = sp.lambdify(list(args_moments) + [m_j_par_2], expr_Q_star_from_m_2_par_2, module)\n",
    "f_expr_m_j_par_2 = sp.lambdify(args_moments, expr_m_j_par_2.subs(subs_det_system_moments), module)\n",
    "print(f_expr_Q_star_from_m_j_par_2(*args, *moments, f_expr_m_j_par_2(*args, *moments)))"
   ]
  },
  {
   "cell_type": "markdown",
   "metadata": {},
   "source": [
    "### Вырожденный случай"
   ]
  },
  {
   "cell_type": "markdown",
   "metadata": {},
   "source": [
    "#### Символьные вычисления"
   ]
  },
  {
   "cell_type": "code",
   "execution_count": 111,
   "metadata": {},
   "outputs": [],
   "source": [
    "_expr = cF3Function_degenerate(h_i, h_j, l_ij, l_ik, *(4*[0]))\n",
    "\n",
    "subs_to_cF3Function_degenerate = {\n",
    "    EFunction(h_i, h_j, l_ij, l_ik, 1, 1, 1): sp.solve(_expr-evaluate_cF3Function_degenerate(_expr), EFunction(h_i, h_j, l_ij, l_ik, 1, 1, 1))[0]\n",
    "}"
   ]
  },
  {
   "cell_type": "code",
   "execution_count": 112,
   "metadata": {},
   "outputs": [],
   "source": [
    "Z3_degenerate_expr = cF3Function_degenerate(h_i, h_j, l_ij, l_ik, *(4*[0]))/sp.sqrt(h_i*h_j*l_ij*l_ik)"
   ]
  },
  {
   "cell_type": "code",
   "execution_count": 113,
   "metadata": {},
   "outputs": [],
   "source": [
    "expr_m_i_degenerate = sp.log(Z3_degenerate_expr).diff(h_i)/2\n",
    "expr_m_i_degenerate = expr_m_i_degenerate.expand()\n",
    "expr_m_i_degenerate = evaluate_cF3Function_degenerate(expr_m_i_degenerate)\n",
    "expr_m_i_degenerate = expr_m_i_degenerate.subs(subs_to_cF3Function_degenerate).expand()\n",
    "\n",
    "expr_m_j_degenerate = sp.log(Z3_degenerate_expr).diff(h_j)\n",
    "expr_m_j_degenerate = expr_m_j_degenerate.expand()\n",
    "expr_m_j_degenerate = evaluate_cF3Function_degenerate(expr_m_j_degenerate)\n",
    "expr_m_j_degenerate = expr_m_j_degenerate.subs(subs_to_cF3Function_degenerate).expand()\n",
    "\n",
    "expr_eta_ij_degenerate = sp.log(Z3_degenerate_expr).diff(l_ij)/2\n",
    "expr_eta_ij_degenerate = expr_eta_ij_degenerate.expand()\n",
    "expr_eta_ij_degenerate = evaluate_cF3Function_degenerate(expr_eta_ij_degenerate)\n",
    "expr_eta_ij_degenerate = expr_eta_ij_degenerate.subs(subs_to_cF3Function_degenerate).expand()\n",
    "\n",
    "expr_eta_ik_degenerate = sp.log(Z3_degenerate_expr).diff(l_ik)\n",
    "expr_eta_ik_degenerate = expr_eta_ik_degenerate.expand()\n",
    "expr_eta_ik_degenerate = evaluate_cF3Function_degenerate(expr_eta_ik_degenerate)\n",
    "expr_eta_ik_degenerate = expr_eta_ik_degenerate.subs(subs_to_cF3Function_degenerate).expand()"
   ]
  },
  {
   "cell_type": "code",
   "execution_count": 114,
   "metadata": {},
   "outputs": [],
   "source": [
    "n, d = sp.fraction(expr_m_i_degenerate.factor())\n",
    "_expr_m_i = (n-d*m_i).expand()\n",
    "\n",
    "n, d = sp.fraction(expr_m_j_degenerate.factor())\n",
    "_expr_m_j = (n-d*m_j).expand()\n",
    "\n",
    "n, d = sp.fraction(expr_eta_ij_degenerate.factor())\n",
    "_expr_eta_1 = (n-d*eta_ij).expand()\n",
    "\n",
    "n, d = sp.fraction(expr_eta_ik_degenerate.factor())\n",
    "_expr_eta_2 = (n-d*eta_ik).expand()"
   ]
  },
  {
   "cell_type": "code",
   "execution_count": 115,
   "metadata": {},
   "outputs": [],
   "source": [
    "vector_system_moments_degenerate = [\n",
    "    FFunction(h_i, h_j, l_ij, l_ik, 1, 1, 0),\n",
    "    FFunction(h_i, h_j, l_ij, l_ik, 1, 0, 1),\n",
    "    FFunction(h_i, h_j, l_ij, l_ik, 1, 1, 1),\n",
    "    cF3Function_degenerate(h_i, h_j, l_ij, l_ik, *(4*[0])),\n",
    "]\n",
    "\n",
    "line1 = get_line_Matrix(_expr_m_i, vector_system_moments_degenerate)\n",
    "line2 = get_line_Matrix(_expr_m_j, vector_system_moments_degenerate)\n",
    "line3 = get_line_Matrix(_expr_eta_1, vector_system_moments_degenerate)\n",
    "line4 = get_line_Matrix(_expr_eta_2, vector_system_moments_degenerate)"
   ]
  },
  {
   "cell_type": "code",
   "execution_count": 116,
   "metadata": {},
   "outputs": [
    {
     "data": {
      "text/latex": [
       "$\\displaystyle \\left[\\begin{matrix}0 & 0 & \\frac{3 \\sqrt{2} \\sqrt{h_{i}} h_{j}^{\\frac{3}{2}}}{\\sqrt{\\lambda_{ij}}} & - 12 \\left<{m_i}\\right> h_{i} h_{j} - 6 \\left<{m_j}\\right> h_{j}^{2} - 6 h_{j} - \\frac{6 h_{i} h_{j}^{2}}{\\lambda_{ij}} & 0\\\\\\frac{3 \\sqrt{2} \\lambda_{ij}^{\\frac{3}{2}} h_{j}^{\\frac{3}{2}}}{\\sqrt{h_{i}}} & 0 & 0 & - 12 \\lambda_{ij}^{2} \\left<{\\eta_{ij}}\\right> h_{j} - \\frac{6 \\lambda_{ij}^{2} h_{j}^{2}}{h_{i}} - 6 \\lambda_{ij} \\left<{m_j}\\right> h_{j}^{2} - 6 \\lambda_{ij} h_{j} & 0\\\\\\frac{3 \\sqrt{2} \\lambda_{ij}^{\\frac{3}{2}} \\sqrt{h_{i}} h_{j}^{\\frac{3}{2}}}{2} & 3 \\sqrt{2} \\lambda_{ij}^{\\frac{3}{2}} h_{i}^{\\frac{3}{2}} \\sqrt{h_{j}} & - \\frac{3 \\sqrt{2} \\sqrt{\\lambda_{ij}} h_{i}^{\\frac{3}{2}} h_{j}^{\\frac{3}{2}}}{2} & - 12 \\lambda_{ij}^{2} \\left<{\\eta_{ij}}\\right> h_{i} h_{j} - 6 \\lambda_{ij}^{2} \\left<{\\eta_{ik}}\\right> h_{i}^{2} - 6 \\lambda_{ij}^{2} h_{i}^{2} - 3 \\lambda_{ij}^{2} h_{j}^{2} - 6 \\lambda_{ij} h_{i} h_{j} + 3 h_{i}^{2} h_{j}^{2} & 0\\\\- \\sqrt{2} \\lambda_{ij}^{\\frac{5}{2}} h_{i}^{\\frac{3}{2}} h_{j}^{\\frac{3}{2}} - \\frac{\\sqrt{2} \\lambda_{ij}^{\\frac{3}{2}} \\sqrt{h_{i}} h_{j}^{\\frac{5}{2}}}{2} + \\sqrt{2} \\sqrt{\\lambda_{ij}} h_{i}^{\\frac{3}{2}} h_{j}^{\\frac{7}{2}} & 2 \\sqrt{2} \\lambda_{ij}^{\\frac{5}{2}} h_{i}^{\\frac{5}{2}} \\sqrt{h_{j}} - \\sqrt{2} \\lambda_{ij}^{\\frac{5}{2}} \\sqrt{h_{i}} h_{j}^{\\frac{5}{2}} + 2 \\sqrt{2} \\lambda_{ij}^{\\frac{3}{2}} h_{i}^{\\frac{3}{2}} h_{j}^{\\frac{3}{2}} - \\sqrt{2} \\sqrt{\\lambda_{ij}} h_{i}^{\\frac{5}{2}} h_{j}^{\\frac{5}{2}} & - \\sqrt{2} \\lambda_{ij}^{\\frac{3}{2}} h_{i}^{\\frac{5}{2}} h_{j}^{\\frac{3}{2}} + \\sqrt{2} \\lambda_{ij}^{\\frac{3}{2}} \\sqrt{h_{i}} h_{j}^{\\frac{7}{2}} - \\frac{\\sqrt{2} \\sqrt{\\lambda_{ij}} h_{i}^{\\frac{3}{2}} h_{j}^{\\frac{5}{2}}}{2} & - 6 \\lambda_{ij}^{2} \\left<{\\eta_{ik}}\\right> h_{i}^{2} h_{j} - 4 \\lambda_{ij}^{2} h_{i}^{2} h_{j} + \\lambda_{ij}^{2} h_{j}^{3} - 2 \\lambda_{ij} h_{i} h_{j}^{2} + h_{i}^{2} h_{j}^{3} & A \\lambda_{ij} h_{i} h_{j}\\end{matrix}\\right]$"
      ],
      "text/plain": [
       "Matrix([\n",
       "[                                                                                                                                                         0,                                                                                                                                                                                                              0,                                                                                                          3*sqrt(2)*sqrt(h_i)*h_j**(3/2)/sqrt(\\lambda_{ij}),                                                                                                          -12*\\left<{m_i}\\right>*h_i*h_j - 6*\\left<{m_j}\\right>*h_j**2 - 6*h_j - 6*h_i*h_j**2/\\lambda_{ij},                      0],\n",
       "[                                                                                                        3*sqrt(2)*\\lambda_{ij}**(3/2)*h_j**(3/2)/sqrt(h_i),                                                                                                                                                                                                              0,                                                                                                                                                          0,                                                           -12*\\lambda_{ij}**2*\\left<{\\eta_{ij}}\\right>*h_j - 6*\\lambda_{ij}**2*h_j**2/h_i - 6*\\lambda_{ij}*\\left<{m_j}\\right>*h_j**2 - 6*\\lambda_{ij}*h_j,                      0],\n",
       "[                                                                                                      3*sqrt(2)*\\lambda_{ij}**(3/2)*sqrt(h_i)*h_j**(3/2)/2,                                                                                                                                                             3*sqrt(2)*\\lambda_{ij}**(3/2)*h_i**(3/2)*sqrt(h_j),                                                                                                      -3*sqrt(2)*sqrt(\\lambda_{ij})*h_i**(3/2)*h_j**(3/2)/2, -12*\\lambda_{ij}**2*\\left<{\\eta_{ij}}\\right>*h_i*h_j - 6*\\lambda_{ij}**2*\\left<{\\eta_{ik}}\\right>*h_i**2 - 6*\\lambda_{ij}**2*h_i**2 - 3*\\lambda_{ij}**2*h_j**2 - 6*\\lambda_{ij}*h_i*h_j + 3*h_i**2*h_j**2,                      0],\n",
       "[-sqrt(2)*\\lambda_{ij}**(5/2)*h_i**(3/2)*h_j**(3/2) - sqrt(2)*\\lambda_{ij}**(3/2)*sqrt(h_i)*h_j**(5/2)/2 + sqrt(2)*sqrt(\\lambda_{ij})*h_i**(3/2)*h_j**(7/2), 2*sqrt(2)*\\lambda_{ij}**(5/2)*h_i**(5/2)*sqrt(h_j) - sqrt(2)*\\lambda_{ij}**(5/2)*sqrt(h_i)*h_j**(5/2) + 2*sqrt(2)*\\lambda_{ij}**(3/2)*h_i**(3/2)*h_j**(3/2) - sqrt(2)*sqrt(\\lambda_{ij})*h_i**(5/2)*h_j**(5/2), -sqrt(2)*\\lambda_{ij}**(3/2)*h_i**(5/2)*h_j**(3/2) + sqrt(2)*\\lambda_{ij}**(3/2)*sqrt(h_i)*h_j**(7/2) - sqrt(2)*sqrt(\\lambda_{ij})*h_i**(3/2)*h_j**(5/2)/2,                                                -6*\\lambda_{ij}**2*\\left<{\\eta_{ik}}\\right>*h_i**2*h_j - 4*\\lambda_{ij}**2*h_i**2*h_j + \\lambda_{ij}**2*h_j**3 - 2*\\lambda_{ij}*h_i*h_j**2 + h_i**2*h_j**3, A*\\lambda_{ij}*h_i*h_j]])"
      ]
     },
     "metadata": {},
     "output_type": "display_data"
    },
    {
     "data": {
      "text/latex": [
       "$\\displaystyle \\lambda_{ij} h_{i} {\\cal E}_{3}\\left(h_{i}, h_{j}, \\lambda_{ij}, \\frac{\\lambda_{ij} h_{i}}{h_{j}}\\right) - \\lambda_{ij} h_{j} {\\cal E}_{1}\\left(h_{i}, h_{j}, \\lambda_{ij}, \\frac{\\lambda_{ij} h_{i}}{h_{j}}\\right) - h_{i} h_{j} {\\cal E}_{13}\\left(h_{i}, h_{j}, \\lambda_{ij}, \\frac{\\lambda_{ij} h_{i}}{h_{j}}\\right) + h_{j}^{2} {\\cal E}_{12}\\left(h_{i}, h_{j}, \\lambda_{ij}, \\frac{\\lambda_{ij} h_{i}}{h_{j}}\\right)$"
      ],
      "text/plain": [
       "\\lambda_{ij}*h_i*EFunction(h_i, h_j, \\lambda_{ij}, \\lambda_{ij}*h_i/h_j, 0, 0, 1) - \\lambda_{ij}*h_j*EFunction(h_i, h_j, \\lambda_{ij}, \\lambda_{ij}*h_i/h_j, 1, 0, 0) - h_i*h_j*EFunction(h_i, h_j, \\lambda_{ij}, \\lambda_{ij}*h_i/h_j, 1, 0, 1) + h_j**2*EFunction(h_i, h_j, \\lambda_{ij}, \\lambda_{ij}*h_i/h_j, 1, 1, 0)"
      ]
     },
     "metadata": {},
     "output_type": "display_data"
    },
    {
     "name": "stdout",
     "output_type": "stream",
     "text": [
      "\\lambda_{ij} h_{i} {\\cal E}_{3}\\left(h_{i}, h_{j}, \\lambda_{ij}, \\frac{\\lambda_{ij} h_{i}}{h_{j}}\\right) - \\lambda_{ij} h_{j} {\\cal E}_{1}\\left(h_{i}, h_{j}, \\lambda_{ij}, \\frac{\\lambda_{ij} h_{i}}{h_{j}}\\right) - h_{i} h_{j} {\\cal E}_{13}\\left(h_{i}, h_{j}, \\lambda_{ij}, \\frac{\\lambda_{ij} h_{i}}{h_{j}}\\right) + h_{j}^{2} {\\cal E}_{12}\\left(h_{i}, h_{j}, \\lambda_{ij}, \\frac{\\lambda_{ij} h_{i}}{h_{j}}\\right)\n"
     ]
    }
   ],
   "source": [
    "M = sp.Matrix([line1, line2, line3, line4])\n",
    "M = M.replace(l_ik, l_ij*h_i/h_j)\n",
    "\n",
    "M[0, :] /= (2*h_i**3*h_j**2*l_ij**2)\n",
    "M[1, :] /= (2*h_i**2*h_j**3*l_ij)\n",
    "M[2, :] /= (2*h_i*h_j**2*l_ij**2)\n",
    "M[3, :] /= (2*h_i**2*l_ij**2)\n",
    "\n",
    "M[0, :] += M[1, :]/l_ij\n",
    "M[1, :] += M[2, :]/h_i\n",
    "M[2, :] += M[3, :]/h_j\n",
    "\n",
    "M = M.expand()\n",
    "\n",
    "A_system_moments_degenerate = sp.Symbol(\"A\")\n",
    "A_system_moments_degenerate_value = (M[3, 4]/(l_ij*h_i*h_j)).expand()\n",
    "M[3, 4] = A_system_moments_degenerate*(l_ij*h_i*h_j)\n",
    "\n",
    "display(M)\n",
    "display(A_system_moments_degenerate_value)\n",
    "sp.print_latex(A_system_moments_degenerate_value)"
   ]
  },
  {
   "cell_type": "code",
   "execution_count": 117,
   "metadata": {},
   "outputs": [
    {
     "data": {
      "text/latex": [
       "$\\displaystyle {\\cal F}_{12}\\left(h_{i}, h_{j}, \\lambda_{ij}, \\frac{\\lambda_{ij} h_{i}}{h_{j}}\\right) = - \\frac{\\sqrt{2} A \\sqrt{\\lambda_{ij}} \\sqrt{h_{i}} \\sqrt{h_{j}} \\left(2 \\lambda_{ij} \\left<{\\eta_{ij}}\\right> h_{i} + \\lambda_{ij} h_{j} + \\left<{m_j}\\right> h_{i} h_{j} + h_{i}\\right)}{2 \\Delta}$"
      ],
      "text/plain": [
       "Eq(FFunction(h_i, h_j, \\lambda_{ij}, \\lambda_{ij}*h_i/h_j, 1, 1, 0), -sqrt(2)*A*sqrt(\\lambda_{ij})*sqrt(h_i)*sqrt(h_j)*(2*\\lambda_{ij}*\\left<{\\eta_{ij}}\\right>*h_i + \\lambda_{ij}*h_j + \\left<{m_j}\\right>*h_i*h_j + h_i)/(2*\\Delta))"
      ]
     },
     "metadata": {},
     "output_type": "display_data"
    },
    {
     "data": {
      "text/latex": [
       "$\\displaystyle {\\cal F}_{13}\\left(h_{i}, h_{j}, \\lambda_{ij}, \\frac{\\lambda_{ij} h_{i}}{h_{j}}\\right) = - \\frac{\\sqrt{2} A \\sqrt{\\lambda_{ij}} \\sqrt{h_{i}} \\sqrt{h_{j}} \\left(\\lambda_{ij} \\left<{\\eta_{ij}}\\right> h_{j} + \\lambda_{ij} \\left<{\\eta_{ik}}\\right> h_{i} + \\lambda_{ij} h_{i} + \\left<{m_i}\\right> h_{i} h_{j} + h_{j}\\right)}{2 \\Delta}$"
      ],
      "text/plain": [
       "Eq(FFunction(h_i, h_j, \\lambda_{ij}, \\lambda_{ij}*h_i/h_j, 1, 0, 1), -sqrt(2)*A*sqrt(\\lambda_{ij})*sqrt(h_i)*sqrt(h_j)*(\\lambda_{ij}*\\left<{\\eta_{ij}}\\right>*h_j + \\lambda_{ij}*\\left<{\\eta_{ik}}\\right>*h_i + \\lambda_{ij}*h_i + \\left<{m_i}\\right>*h_i*h_j + h_j)/(2*\\Delta))"
      ]
     },
     "metadata": {},
     "output_type": "display_data"
    },
    {
     "data": {
      "text/latex": [
       "$\\displaystyle {\\cal F}_{123}\\left(h_{i}, h_{j}, \\lambda_{ij}, \\frac{\\lambda_{ij} h_{i}}{h_{j}}\\right) = - \\frac{\\sqrt{2} A \\sqrt{\\lambda_{ij}} \\sqrt{h_{i}} \\sqrt{h_{j}} \\left(2 \\lambda_{ij} \\left<{m_i}\\right> h_{i} + \\lambda_{ij} \\left<{m_j}\\right> h_{j} + \\lambda_{ij} + h_{i} h_{j}\\right)}{2 \\Delta}$"
      ],
      "text/plain": [
       "Eq(FFunction(h_i, h_j, \\lambda_{ij}, \\lambda_{ij}*h_i/h_j, 1, 1, 1), -sqrt(2)*A*sqrt(\\lambda_{ij})*sqrt(h_i)*sqrt(h_j)*(2*\\lambda_{ij}*\\left<{m_i}\\right>*h_i + \\lambda_{ij}*\\left<{m_j}\\right>*h_j + \\lambda_{ij} + h_i*h_j)/(2*\\Delta))"
      ]
     },
     "metadata": {},
     "output_type": "display_data"
    },
    {
     "data": {
      "text/latex": [
       "$\\displaystyle {\\cal F}_{deg,0, 0, 0, 0}\\left(h_{i}, h_{j}, \\lambda_{ij}, \\frac{\\lambda_{ij} h_{i}}{h_{j}}\\right) = - \\frac{A \\lambda_{ij} h_{i} h_{j}}{2 \\Delta}$"
      ],
      "text/plain": [
       "Eq(cF3Function_degenerate(h_i, h_j, \\lambda_{ij}, \\lambda_{ij}*h_i/h_j, 0, 0, 0, 0), -A*\\lambda_{ij}*h_i*h_j/(2*\\Delta))"
      ]
     },
     "metadata": {},
     "output_type": "display_data"
    },
    {
     "name": "stdout",
     "output_type": "stream",
     "text": [
      "{\\cal F}_{12}\\left(h_{i}, h_{j}, \\lambda_{ij}, \\frac{\\lambda_{ij} h_{i}}{h_{j}}\\right) = - \\frac{\\sqrt{2} A \\sqrt{\\lambda_{ij}} \\sqrt{h_{i}} \\sqrt{h_{j}} \\left(2 \\lambda_{ij} \\left<{\\eta_{ij}}\\right> h_{i} + \\lambda_{ij} h_{j} + \\left<{m_j}\\right> h_{i} h_{j} + h_{i}\\right)}{2 \\Delta}\n",
      "{\\cal F}_{13}\\left(h_{i}, h_{j}, \\lambda_{ij}, \\frac{\\lambda_{ij} h_{i}}{h_{j}}\\right) = - \\frac{\\sqrt{2} A \\sqrt{\\lambda_{ij}} \\sqrt{h_{i}} \\sqrt{h_{j}} \\left(\\lambda_{ij} \\left<{\\eta_{ij}}\\right> h_{j} + \\lambda_{ij} \\left<{\\eta_{ik}}\\right> h_{i} + \\lambda_{ij} h_{i} + \\left<{m_i}\\right> h_{i} h_{j} + h_{j}\\right)}{2 \\Delta}\n",
      "{\\cal F}_{123}\\left(h_{i}, h_{j}, \\lambda_{ij}, \\frac{\\lambda_{ij} h_{i}}{h_{j}}\\right) = - \\frac{\\sqrt{2} A \\sqrt{\\lambda_{ij}} \\sqrt{h_{i}} \\sqrt{h_{j}} \\left(2 \\lambda_{ij} \\left<{m_i}\\right> h_{i} + \\lambda_{ij} \\left<{m_j}\\right> h_{j} + \\lambda_{ij} + h_{i} h_{j}\\right)}{2 \\Delta}\n",
      "{\\cal F}_{deg,0, 0, 0, 0}\\left(h_{i}, h_{j}, \\lambda_{ij}, \\frac{\\lambda_{ij} h_{i}}{h_{j}}\\right) = - \\frac{A \\lambda_{ij} h_{i} h_{j}}{2 \\Delta}\n"
     ]
    },
    {
     "data": {
      "text/latex": [
       "$\\displaystyle \\Delta = \\lambda_{ij}^{3} \\left<{\\eta_{ij}}\\right> h_{j}^{3} - 2 \\lambda_{ij}^{3} \\left<{\\eta_{ik}}\\right> h_{i}^{3} + \\lambda_{ij}^{3} \\left<{\\eta_{ik}}\\right> h_{i} h_{j}^{2} - 2 \\lambda_{ij}^{3} h_{i}^{3} + 2 \\lambda_{ij}^{3} h_{i} h_{j}^{2} - \\lambda_{ij}^{2} \\left<{\\eta_{ij}}\\right> h_{i} h_{j}^{2} + \\lambda_{ij}^{2} \\left<{\\eta_{ik}}\\right> h_{i}^{2} h_{j} - \\lambda_{ij}^{2} \\left<{m_i}\\right> h_{i} h_{j}^{3} + 2 \\lambda_{ij}^{2} \\left<{m_j}\\right> h_{i}^{2} h_{j}^{2} - \\lambda_{ij}^{2} \\left<{m_j}\\right> h_{j}^{4} - \\lambda_{ij} \\left<{\\eta_{ij}}\\right> h_{i}^{2} h_{j}^{3} + \\lambda_{ij} \\left<{\\eta_{ik}}\\right> h_{i}^{3} h_{j}^{2} - \\lambda_{ij} \\left<{m_i}\\right> h_{i}^{2} h_{j}^{2} + \\lambda_{ij} \\left<{m_j}\\right> h_{i} h_{j}^{3} + 2 \\lambda_{ij} h_{i}^{3} h_{j}^{2} - 2 \\lambda_{ij} h_{i} h_{j}^{4} + \\left<{m_i}\\right> h_{i}^{3} h_{j}^{3} - \\left<{m_j}\\right> h_{i}^{2} h_{j}^{4}$"
      ],
      "text/plain": [
       "Eq(\\Delta, \\lambda_{ij}**3*\\left<{\\eta_{ij}}\\right>*h_j**3 - 2*\\lambda_{ij}**3*\\left<{\\eta_{ik}}\\right>*h_i**3 + \\lambda_{ij}**3*\\left<{\\eta_{ik}}\\right>*h_i*h_j**2 - 2*\\lambda_{ij}**3*h_i**3 + 2*\\lambda_{ij}**3*h_i*h_j**2 - \\lambda_{ij}**2*\\left<{\\eta_{ij}}\\right>*h_i*h_j**2 + \\lambda_{ij}**2*\\left<{\\eta_{ik}}\\right>*h_i**2*h_j - \\lambda_{ij}**2*\\left<{m_i}\\right>*h_i*h_j**3 + 2*\\lambda_{ij}**2*\\left<{m_j}\\right>*h_i**2*h_j**2 - \\lambda_{ij}**2*\\left<{m_j}\\right>*h_j**4 - \\lambda_{ij}*\\left<{\\eta_{ij}}\\right>*h_i**2*h_j**3 + \\lambda_{ij}*\\left<{\\eta_{ik}}\\right>*h_i**3*h_j**2 - \\lambda_{ij}*\\left<{m_i}\\right>*h_i**2*h_j**2 + \\lambda_{ij}*\\left<{m_j}\\right>*h_i*h_j**3 + 2*\\lambda_{ij}*h_i**3*h_j**2 - 2*\\lambda_{ij}*h_i*h_j**4 + \\left<{m_i}\\right>*h_i**3*h_j**3 - \\left<{m_j}\\right>*h_i**2*h_j**4)"
      ]
     },
     "metadata": {},
     "output_type": "display_data"
    },
    {
     "name": "stdout",
     "output_type": "stream",
     "text": [
      "\\Delta = \\lambda_{ij}^{3} \\left<{\\eta_{ij}}\\right> h_{j}^{3} - 2 \\lambda_{ij}^{3} \\left<{\\eta_{ik}}\\right> h_{i}^{3} + \\lambda_{ij}^{3} \\left<{\\eta_{ik}}\\right> h_{i} h_{j}^{2} - 2 \\lambda_{ij}^{3} h_{i}^{3} + 2 \\lambda_{ij}^{3} h_{i} h_{j}^{2} - \\lambda_{ij}^{2} \\left<{\\eta_{ij}}\\right> h_{i} h_{j}^{2} + \\lambda_{ij}^{2} \\left<{\\eta_{ik}}\\right> h_{i}^{2} h_{j} - \\lambda_{ij}^{2} \\left<{m_i}\\right> h_{i} h_{j}^{3} + 2 \\lambda_{ij}^{2} \\left<{m_j}\\right> h_{i}^{2} h_{j}^{2} - \\lambda_{ij}^{2} \\left<{m_j}\\right> h_{j}^{4} - \\lambda_{ij} \\left<{\\eta_{ij}}\\right> h_{i}^{2} h_{j}^{3} + \\lambda_{ij} \\left<{\\eta_{ik}}\\right> h_{i}^{3} h_{j}^{2} - \\lambda_{ij} \\left<{m_i}\\right> h_{i}^{2} h_{j}^{2} + \\lambda_{ij} \\left<{m_j}\\right> h_{i} h_{j}^{3} + 2 \\lambda_{ij} h_{i}^{3} h_{j}^{2} - 2 \\lambda_{ij} h_{i} h_{j}^{4} + \\left<{m_i}\\right> h_{i}^{3} h_{j}^{3} - \\left<{m_j}\\right> h_{i}^{2} h_{j}^{4}\n"
     ]
    }
   ],
   "source": [
    "vector_system_moments_degenerate = list(map(lambda item: item.replace(l_ik, l_ij*h_i/h_j), vector_system_moments_degenerate))\n",
    "\n",
    "result = sp.solve_linear_system(M, *vector_system_moments_degenerate)\n",
    "\n",
    "value_system_moments_degenerate = []\n",
    "for key in vector_system_moments_degenerate:\n",
    "    value_system_moments_degenerate.append(result[key].factor())\n",
    "\n",
    "n, d = sp.fraction(value_system_moments_degenerate[0])\n",
    "det_system_moments_degenerate_value = d/2\n",
    "det_system_moments_degenerate = sp.Symbol(\"\\\\Delta\")\n",
    "subs_det_system_moments_degenerate = {det_system_moments_degenerate: det_system_moments_degenerate_value}\n",
    "\n",
    "value_system_moments_degenerate = list(map(lambda item: item.subs(det_system_moments_degenerate_value, det_system_moments_degenerate), value_system_moments_degenerate))\n",
    "\n",
    "for i in range(4):\n",
    "    display(sp.Eq(vector_system_moments_degenerate[i], value_system_moments_degenerate[i]))\n",
    "for i in range(4):\n",
    "    sp.print_latex(sp.Eq(vector_system_moments_degenerate[i], value_system_moments_degenerate[i]))\n",
    "\n",
    "display(sp.Eq(det_system_moments_degenerate, det_system_moments_degenerate_value))\n",
    "sp.print_latex(sp.Eq(det_system_moments_degenerate, det_system_moments_degenerate_value))"
   ]
  },
  {
   "cell_type": "code",
   "execution_count": 118,
   "metadata": {},
   "outputs": [
    {
     "data": {
      "text/latex": [
       "$\\displaystyle \\lambda_{ij} \\left<{\\eta_{ij}}\\right> h_{j}^{2} \\left(\\lambda_{ij}^{2} h_{j} - \\lambda_{ij} h_{i} - h_{i}^{2} h_{j}\\right) - \\lambda_{ij} \\left<{\\eta_{ik}}\\right> h_{i} \\left(2 \\lambda_{ij}^{2} h_{i}^{2} - \\lambda_{ij}^{2} h_{j}^{2} - \\lambda_{ij} h_{i} h_{j} - h_{i}^{2} h_{j}^{2}\\right) - 2 \\lambda_{ij} h_{i} \\left(\\lambda_{ij} - h_{j}\\right) \\left(\\lambda_{ij} + h_{j}\\right) \\left(h_{i} - h_{j}\\right) \\left(h_{i} + h_{j}\\right) - \\left<{m_i}\\right> h_{i} h_{j}^{2} \\left(\\lambda_{ij}^{2} h_{j} + \\lambda_{ij} h_{i} - h_{i}^{2} h_{j}\\right) + \\left<{m_j}\\right> h_{j}^{2} \\left(2 \\lambda_{ij}^{2} h_{i}^{2} - \\lambda_{ij}^{2} h_{j}^{2} + \\lambda_{ij} h_{i} h_{j} - h_{i}^{2} h_{j}^{2}\\right)$"
      ],
      "text/plain": [
       "\\lambda_{ij}*\\left<{\\eta_{ij}}\\right>*h_j**2*(\\lambda_{ij}**2*h_j - \\lambda_{ij}*h_i - h_i**2*h_j) - \\lambda_{ij}*\\left<{\\eta_{ik}}\\right>*h_i*(2*\\lambda_{ij}**2*h_i**2 - \\lambda_{ij}**2*h_j**2 - \\lambda_{ij}*h_i*h_j - h_i**2*h_j**2) - 2*\\lambda_{ij}*h_i*(\\lambda_{ij} - h_j)*(\\lambda_{ij} + h_j)*(h_i - h_j)*(h_i + h_j) - \\left<{m_i}\\right>*h_i*h_j**2*(\\lambda_{ij}**2*h_j + \\lambda_{ij}*h_i - h_i**2*h_j) + \\left<{m_j}\\right>*h_j**2*(2*\\lambda_{ij}**2*h_i**2 - \\lambda_{ij}**2*h_j**2 + \\lambda_{ij}*h_i*h_j - h_i**2*h_j**2)"
      ]
     },
     "metadata": {},
     "output_type": "display_data"
    },
    {
     "name": "stdout",
     "output_type": "stream",
     "text": [
      "\\lambda_{ij} \\left<{\\eta_{ij}}\\right> h_{j}^{2} \\left(\\lambda_{ij}^{2} h_{j} - \\lambda_{ij} h_{i} - h_{i}^{2} h_{j}\\right) - \\lambda_{ij} \\left<{\\eta_{ik}}\\right> h_{i} \\left(2 \\lambda_{ij}^{2} h_{i}^{2} - \\lambda_{ij}^{2} h_{j}^{2} - \\lambda_{ij} h_{i} h_{j} - h_{i}^{2} h_{j}^{2}\\right) - 2 \\lambda_{ij} h_{i} \\left(\\lambda_{ij} - h_{j}\\right) \\left(\\lambda_{ij} + h_{j}\\right) \\left(h_{i} - h_{j}\\right) \\left(h_{i} + h_{j}\\right) - \\left<{m_i}\\right> h_{i} h_{j}^{2} \\left(\\lambda_{ij}^{2} h_{j} + \\lambda_{ij} h_{i} - h_{i}^{2} h_{j}\\right) + \\left<{m_j}\\right> h_{j}^{2} \\left(2 \\lambda_{ij}^{2} h_{i}^{2} - \\lambda_{ij}^{2} h_{j}^{2} + \\lambda_{ij} h_{i} h_{j} - h_{i}^{2} h_{j}^{2}\\right)\n"
     ]
    },
    {
     "data": {
      "text/latex": [
       "$\\displaystyle 0$"
      ],
      "text/plain": [
       "0"
      ]
     },
     "execution_count": 118,
     "metadata": {},
     "output_type": "execute_result"
    }
   ],
   "source": [
    "expr = det_system_moments_degenerate_value.collect([m_i, m_j, eta_ij, eta_ik], sp.factor)\n",
    "display(expr)\n",
    "sp.print_latex(expr)\n",
    "det_system_moments_degenerate_value.subs({h_j: h_i, m_j: m_i, eta_ik: eta_ij})"
   ]
  },
  {
   "cell_type": "code",
   "execution_count": 119,
   "metadata": {},
   "outputs": [],
   "source": [
    "subs_to_A_degenerate = {EFunction(h_i, h_j, l_ij, l_ij*h_i/h_j, 0, 0, 1): sp.solve(A_system_moments_degenerate_value-A_system_moments_degenerate, EFunction(h_i, h_j, l_ij, l_ij*h_i/h_j, 0, 0, 1))[0]}\n",
    "subs_to_moments_degenerate = dict(zip(vector_system_moments_degenerate, value_system_moments_degenerate))"
   ]
  },
  {
   "cell_type": "code",
   "execution_count": 120,
   "metadata": {},
   "outputs": [
    {
     "data": {
      "text/latex": [
       "$\\displaystyle \\left<{\\eta_{ik}}\\right>$"
      ],
      "text/plain": [
       "\\left<{\\eta_{ik}}\\right>"
      ]
     },
     "execution_count": 120,
     "metadata": {},
     "output_type": "execute_result"
    }
   ],
   "source": [
    "expr = expr_eta_ik_degenerate.replace(l_ik, l_ij*h_i/h_j)\n",
    "expr.subs(subs_to_A_degenerate).subs(subs_to_moments_degenerate).subs(subs_det_system_moments_degenerate).factor()"
   ]
  },
  {
   "cell_type": "code",
   "execution_count": 121,
   "metadata": {},
   "outputs": [],
   "source": [
    "def calc_degenerate(expr):\n",
    "    expr = expr.expand()\n",
    "    expr = evaluate_cF3Function_degenerate(expr)\n",
    "    expr = expr.subs(subs_to_cF3Function_degenerate).expand()\n",
    "    expr = expr.replace(l_ik, l_ij*h_i/h_j)\n",
    "    expr = expr.subs(subs_to_A_degenerate).subs(subs_to_moments_degenerate).expand()\n",
    "    return expr"
   ]
  },
  {
   "cell_type": "code",
   "execution_count": 122,
   "metadata": {},
   "outputs": [],
   "source": [
    "expr_Q_star_degenerate = calc_degenerate(Z3_degenerate_expr.diff(l_ij, 2)/(2*Z3_degenerate_expr) - eta_ik - 1)\n",
    "\n",
    "# expr_Q_star_degenerate"
   ]
  },
  {
   "cell_type": "code",
   "execution_count": 123,
   "metadata": {},
   "outputs": [],
   "source": [
    "expr_diff_h_i_l_ij_degenerate = calc_degenerate(Z3_degenerate_expr.diff(h_i, l_ij)/(Z3_degenerate_expr))\n",
    "expr_m_j_eta_ij_degenerate = calc_degenerate(Z3_degenerate_expr.diff(h_j, l_ij)/(2*Z3_degenerate_expr))\n",
    "expr_m_i_eta_ik_degenerate = calc_degenerate(Z3_degenerate_expr.diff(h_i, l_ik)/(2*Z3_degenerate_expr))\n",
    "expr_eta_ik_2_degenerate = calc_degenerate(Z3_degenerate_expr.diff(l_ik, 2)/(Z3_degenerate_expr))"
   ]
  },
  {
   "cell_type": "code",
   "execution_count": 124,
   "metadata": {},
   "outputs": [],
   "source": [
    "vector_system_moments_2_degenerate = [\n",
    "    EFunction(h_i, h_j, l_ij, l_ij*h_i/h_j, 0, 0, 0)/A_system_moments_degenerate,\n",
    "    EFunction(h_i, h_j, l_ij, l_ij*h_i/h_j, 1, 1, 0)/A_system_moments_degenerate,\n",
    "    EFunction(h_i, h_j, l_ij, l_ij*h_i/h_j, 1, 0, 1)/A_system_moments_degenerate,\n",
    "    EFunction(h_i, h_j, l_ij, l_ij*h_i/h_j, 1, 0, 0)/A_system_moments_degenerate\n",
    "]\n",
    "\n",
    "line1 = get_line_Matrix(expr_diff_h_i_l_ij_degenerate-sp.Dummy(), vector_system_moments_2_degenerate)\n",
    "line2 = get_line_Matrix(expr_m_j_eta_ij_degenerate-m_j_eta_ij, vector_system_moments_2_degenerate)\n",
    "line3 = get_line_Matrix(expr_m_i_eta_ik_degenerate-m_i_eta_ik, vector_system_moments_2_degenerate)\n",
    "line4 = get_line_Matrix(expr_eta_ik_2_degenerate-eta_ik_2, vector_system_moments_2_degenerate)"
   ]
  },
  {
   "cell_type": "code",
   "execution_count": 125,
   "metadata": {},
   "outputs": [
    {
     "data": {
      "text/latex": [
       "$\\displaystyle \\left[\\begin{matrix}0 & - \\frac{\\Delta}{\\lambda_{ij}^{2} h_{i}^{2}} & 0 & 0 & Dummy_{1284} - \\frac{\\Delta}{3 \\lambda_{ij}^{2} h_{i}^{2} h_{j}^{2}} - \\frac{\\Delta}{3 \\lambda_{ij}^{3} h_{i} h_{j}} + \\frac{\\lambda_{ij} \\left<{\\eta_{ij}}\\right> h_{j}}{3 h_{i}^{2}} - \\frac{2 \\lambda_{ij} \\left<{\\eta_{ik}}\\right> h_{i}}{3 h_{j}^{2}} + \\frac{\\lambda_{ij} \\left<{\\eta_{ik}}\\right>}{3 h_{i}} - \\frac{2 \\lambda_{ij} h_{i}}{3 h_{j}^{2}} + \\frac{2 \\lambda_{ij}}{3 h_{i}} + \\frac{2 \\left<m_j\\eta_{ij}\\right> h_{j}}{h_{i}} + \\frac{\\left<{\\eta_{ij}}\\right> h_{j}^{2}}{3 h_{i}} + \\frac{5 \\left<{\\eta_{ij}}\\right>}{3 h_{i}} - \\frac{2 \\left<{\\eta_{ik}}\\right> h_{i}^{2}}{3 h_{j}} + \\frac{\\left<{\\eta_{ik}}\\right> h_{j}}{3} + \\frac{\\left<{\\eta_{ik}}\\right>}{3 h_{j}} + \\frac{5 \\left<{m_i}\\right> h_{j}}{3 h_{i}} + \\frac{2 \\left<{m_j}\\right>}{3} + \\frac{2 \\left<{m_j}\\right> h_{j}^{2}}{3 h_{i}^{2}} - \\frac{2 h_{i}^{2}}{3 h_{j}} + \\frac{2 h_{j}}{3} + \\frac{h_{j}}{h_{i}^{2}} + \\frac{10 \\left<{\\eta_{ij}}\\right> h_{j}}{3 \\lambda_{ij}} + \\frac{2 \\left<{\\eta_{ik}}\\right> h_{i}}{3 \\lambda_{ij}} - \\frac{\\left<{m_i}\\right> h_{j}^{2}}{3 \\lambda_{ij}} + \\frac{5 \\left<{m_i}\\right>}{3 \\lambda_{ij}} + \\frac{2 \\left<{m_j}\\right> h_{i} h_{j}}{3 \\lambda_{ij}} - \\frac{\\left<{m_j}\\right> h_{j}^{3}}{3 \\lambda_{ij} h_{i}} + \\frac{4 \\left<{m_j}\\right> h_{j}}{3 \\lambda_{ij} h_{i}} + \\frac{2 h_{i}}{3 \\lambda_{ij}} + \\frac{4 h_{j}^{2}}{3 \\lambda_{ij} h_{i}} + \\frac{1}{\\lambda_{ij} h_{i}} - \\frac{\\left<{\\eta_{ij}}\\right> h_{i} h_{j}^{2}}{3 \\lambda_{ij}^{2}} + \\frac{\\left<{\\eta_{ik}}\\right> h_{i}^{2} h_{j}}{3 \\lambda_{ij}^{2}} + \\frac{\\left<{m_j}\\right> h_{j}^{2}}{\\lambda_{ij}^{2}} + \\frac{2 h_{i}^{2} h_{j}}{3 \\lambda_{ij}^{2}} - \\frac{2 h_{j}^{3}}{3 \\lambda_{ij}^{2}} + \\frac{h_{j}}{\\lambda_{ij}^{2}} + \\frac{\\left<{m_i}\\right> h_{i}^{2} h_{j}^{2}}{3 \\lambda_{ij}^{3}} - \\frac{\\left<{m_j}\\right> h_{i} h_{j}^{3}}{3 \\lambda_{ij}^{3}}\\\\0 & 0 & \\frac{\\Delta}{2 \\lambda_{ij}^{2} h_{j}^{2}} & 0 & - \\frac{Dummy_{1284} h_{i}}{2 h_{j}} + \\frac{\\Delta}{6 \\lambda_{ij} h_{j}^{4}} + \\frac{\\Delta}{12 \\lambda_{ij} h_{i}^{2} h_{j}^{2}} - \\frac{\\Delta}{12 \\lambda_{ij}^{2} h_{i} h_{j}^{3}} - \\frac{\\Delta}{12 \\lambda_{ij}^{3} h_{j}^{2}} - \\frac{\\lambda_{ij}^{2} \\left<{\\eta_{ij}}\\right>}{6 h_{j}} - \\frac{\\lambda_{ij}^{2} \\left<{\\eta_{ij}}\\right> h_{j}}{12 h_{i}^{2}} + \\frac{\\lambda_{ij}^{2} \\left<{\\eta_{ik}}\\right> h_{i}^{3}}{3 h_{j}^{4}} - \\frac{\\lambda_{ij}^{2} \\left<{\\eta_{ik}}\\right>}{12 h_{i}} + \\frac{\\lambda_{ij}^{2} h_{i}^{3}}{3 h_{j}^{4}} - \\frac{\\lambda_{ij}^{2} h_{i}}{6 h_{j}^{2}} - \\frac{\\lambda_{ij}^{2}}{6 h_{i}} + \\frac{\\lambda_{ij} \\left<{\\eta_{ij}}\\right> h_{i}}{6 h_{j}^{2}} + \\frac{\\lambda_{ij} \\left<{\\eta_{ij}}\\right>}{6 h_{i}} - \\frac{\\lambda_{ij} \\left<{\\eta_{ik}}\\right> h_{i}^{2}}{3 h_{j}^{3}} + \\frac{\\lambda_{ij} \\left<{m_i}\\right> h_{i}}{6 h_{j}} + \\frac{\\lambda_{ij} \\left<{m_i}\\right> h_{j}}{12 h_{i}} - \\frac{\\lambda_{ij} \\left<{m_j}\\right> h_{i}^{2}}{3 h_{j}^{2}} + \\frac{\\lambda_{ij} \\left<{m_j}\\right> h_{j}^{2}}{12 h_{i}^{2}} - \\frac{\\lambda_{ij} h_{i}^{2}}{6 h_{j}^{3}} + \\frac{\\lambda_{ij}}{6 h_{j}} - \\frac{\\left<m_i\\eta_{ik}\\right> h_{i}^{2}}{h_{j}^{2}} + \\frac{\\left<{\\eta_{ij}}\\right> h_{i}^{2}}{6 h_{j}} + \\frac{\\left<{\\eta_{ij}}\\right> h_{j}}{6} - \\frac{7 \\left<{\\eta_{ij}}\\right>}{12 h_{j}} - \\frac{\\left<{\\eta_{ik}}\\right> h_{i}^{3}}{3 h_{j}^{2}} - \\frac{5 \\left<{\\eta_{ik}}\\right> h_{i}}{12 h_{j}^{2}} - \\frac{5 \\left<{m_i}\\right> h_{i}^{2}}{6 h_{j}^{2}} - \\frac{\\left<{m_i}\\right>}{2} - \\frac{\\left<{m_j}\\right> h_{j}}{6 h_{i}} - \\frac{h_{i}^{3}}{2 h_{j}^{2}} + \\frac{h_{i}}{3} - \\frac{h_{i}}{2 h_{j}^{2}} + \\frac{h_{j}^{2}}{6 h_{i}} - \\frac{7 \\left<{\\eta_{ij}}\\right> h_{i}}{6 \\lambda_{ij}} - \\frac{5 \\left<{\\eta_{ik}}\\right> h_{i}^{2}}{6 \\lambda_{ij} h_{j}} - \\frac{\\left<{m_i}\\right> h_{i}^{3}}{6 \\lambda_{ij} h_{j}} - \\frac{\\left<{m_i}\\right> h_{i} h_{j}}{6 \\lambda_{ij}} - \\frac{13 \\left<{m_i}\\right> h_{i}}{12 \\lambda_{ij} h_{j}} + \\frac{\\left<{m_j}\\right> h_{i}^{2}}{3 \\lambda_{ij}} - \\frac{5 \\left<{m_j}\\right>}{12 \\lambda_{ij}} - \\frac{5 h_{i}^{2}}{6 \\lambda_{ij} h_{j}} - \\frac{h_{j}}{6 \\lambda_{ij}} - \\frac{1}{2 \\lambda_{ij} h_{j}} - \\frac{\\left<{\\eta_{ij}}\\right> h_{i}^{2} h_{j}}{12 \\lambda_{ij}^{2}} + \\frac{\\left<{\\eta_{ik}}\\right> h_{i}^{3}}{12 \\lambda_{ij}^{2}} - \\frac{\\left<{m_i}\\right> h_{i}^{2}}{2 \\lambda_{ij}^{2}} + \\frac{h_{i}^{3}}{6 \\lambda_{ij}^{2}} - \\frac{h_{i} h_{j}^{2}}{6 \\lambda_{ij}^{2}} - \\frac{h_{i}}{2 \\lambda_{ij}^{2}} + \\frac{\\left<{m_i}\\right> h_{i}^{3} h_{j}}{12 \\lambda_{ij}^{3}} - \\frac{\\left<{m_j}\\right> h_{i}^{2} h_{j}^{2}}{12 \\lambda_{ij}^{3}}\\\\0 & 0 & 0 & \\frac{\\Delta}{4 \\lambda_{ij} h_{i}^{3}} & - \\frac{Dummy_{1284} h_{j}}{4 h_{i}} + \\frac{\\Delta}{4 \\lambda_{ij} h_{i}^{2} h_{j}^{2}} - \\frac{\\Delta}{24 \\lambda_{ij} h_{i}^{4}} + \\frac{7 \\Delta}{24 \\lambda_{ij}^{2} h_{i}^{3} h_{j}} + \\frac{\\Delta}{24 \\lambda_{ij}^{3} h_{i}^{2}} - \\frac{\\lambda_{ij}^{2} \\left<{\\eta_{ij}}\\right> h_{j}}{4 h_{i}^{2}} + \\frac{\\lambda_{ij}^{2} \\left<{\\eta_{ij}}\\right> h_{j}^{3}}{24 h_{i}^{4}} + \\frac{\\lambda_{ij}^{2} \\left<{\\eta_{ik}}\\right> h_{i}}{2 h_{j}^{2}} - \\frac{\\lambda_{ij}^{2} \\left<{\\eta_{ik}}\\right>}{3 h_{i}} + \\frac{\\lambda_{ij}^{2} \\left<{\\eta_{ik}}\\right> h_{j}^{2}}{24 h_{i}^{3}} + \\frac{\\lambda_{ij}^{2} h_{i}}{2 h_{j}^{2}} - \\frac{7 \\lambda_{ij}^{2}}{12 h_{i}} + \\frac{\\lambda_{ij}^{2} h_{j}^{2}}{12 h_{i}^{3}} + \\frac{\\lambda_{ij} \\left<\\eta_{ik}^{2}\\right>}{2 h_{j}} - \\frac{3 \\lambda_{ij} \\left<{\\eta_{ij}}\\right>}{4 h_{i}} - \\frac{7 \\lambda_{ij} \\left<{\\eta_{ij}}\\right> h_{j}^{2}}{12 h_{i}^{3}} + \\frac{\\lambda_{ij} \\left<{\\eta_{ik}}\\right>}{3 h_{j}} - \\frac{3 \\lambda_{ij} \\left<{\\eta_{ik}}\\right> h_{j}}{4 h_{i}^{2}} + \\frac{\\lambda_{ij} \\left<{m_i}\\right> h_{j}}{4 h_{i}} - \\frac{\\lambda_{ij} \\left<{m_i}\\right> h_{j}^{3}}{24 h_{i}^{3}} - \\frac{\\lambda_{ij} \\left<{m_j}\\right>}{2} + \\frac{\\lambda_{ij} \\left<{m_j}\\right> h_{j}^{2}}{3 h_{i}^{2}} - \\frac{\\lambda_{ij} \\left<{m_j}\\right> h_{j}^{4}}{24 h_{i}^{4}} + \\frac{\\lambda_{ij}}{12 h_{j}} - \\frac{13 \\lambda_{ij} h_{j}}{12 h_{i}^{2}} + \\frac{\\left<m_i\\eta_{ik}\\right>}{2} + \\frac{\\left<{\\eta_{ij}}\\right> h_{j}}{4} - \\frac{\\left<{\\eta_{ij}}\\right> h_{j}^{3}}{12 h_{i}^{2}} - \\frac{5 \\left<{\\eta_{ij}}\\right> h_{j}}{24 h_{i}^{2}} - \\frac{\\left<{\\eta_{ik}}\\right> h_{i}}{6} + \\frac{11 \\left<{\\eta_{ik}}\\right>}{24 h_{i}} - \\frac{\\left<{m_i}\\right>}{4} - \\frac{\\left<{m_i}\\right> h_{j}^{2}}{4 h_{i}^{2}} - \\frac{5 \\left<{m_j}\\right> h_{j}}{6 h_{i}} + \\frac{\\left<{m_j}\\right> h_{j}^{3}}{3 h_{i}^{3}} - \\frac{5 h_{i}}{12} + \\frac{h_{j}^{2}}{2 h_{i}} - \\frac{1}{4 h_{i}} - \\frac{h_{j}^{4}}{12 h_{i}^{3}} - \\frac{h_{j}^{2}}{4 h_{i}^{3}} + \\frac{\\left<{\\eta_{ij}}\\right> h_{j}^{2}}{12 \\lambda_{ij} h_{i}} - \\frac{\\left<{\\eta_{ik}}\\right> h_{j}}{3 \\lambda_{ij}} - \\frac{\\left<{m_i}\\right> h_{i} h_{j}}{4 \\lambda_{ij}} + \\frac{\\left<{m_i}\\right> h_{j}^{3}}{12 \\lambda_{ij} h_{i}} + \\frac{\\left<{m_i}\\right> h_{j}}{24 \\lambda_{ij} h_{i}} + \\frac{\\left<{m_j}\\right> h_{j}^{2}}{6 \\lambda_{ij}} - \\frac{13 \\left<{m_j}\\right> h_{j}^{2}}{24 \\lambda_{ij} h_{i}^{2}} - \\frac{7 h_{j}}{12 \\lambda_{ij}} + \\frac{7 h_{j}^{3}}{12 \\lambda_{ij} h_{i}^{2}} - \\frac{h_{j}}{4 \\lambda_{ij} h_{i}^{2}} + \\frac{\\left<{\\eta_{ij}}\\right> h_{j}^{3}}{24 \\lambda_{ij}^{2}} - \\frac{\\left<{\\eta_{ik}}\\right> h_{i} h_{j}^{2}}{24 \\lambda_{ij}^{2}} - \\frac{\\left<{m_i}\\right> h_{j}^{2}}{4 \\lambda_{ij}^{2}} + \\frac{\\left<{m_j}\\right> h_{j}^{3}}{4 \\lambda_{ij}^{2} h_{i}} - \\frac{h_{i} h_{j}^{2}}{12 \\lambda_{ij}^{2}} + \\frac{h_{j}^{4}}{12 \\lambda_{ij}^{2} h_{i}} - \\frac{\\left<{m_i}\\right> h_{i} h_{j}^{3}}{24 \\lambda_{ij}^{3}} + \\frac{\\left<{m_j}\\right> h_{j}^{4}}{24 \\lambda_{ij}^{3}}\\\\\\frac{\\Delta h_{j}}{5 \\lambda_{ij}^{2} h_{i}^{2}} & - \\frac{\\Delta h_{j}}{5 \\lambda_{ij}^{2} h_{i}^{2}} + \\frac{\\Delta h_{j}^{3}}{10 \\lambda_{ij}^{2} h_{i}^{4}} - \\frac{\\Delta h_{j}^{2}}{2 \\lambda_{ij}^{3} h_{i}^{3}} + \\frac{\\Delta h_{j}^{3}}{10 \\lambda_{ij}^{4} h_{i}^{2}} & - \\frac{\\Delta h_{j}^{2}}{5 \\lambda_{ij}^{2} h_{i}^{3}} + \\frac{3 \\Delta h_{j}}{10 \\lambda_{ij}^{3} h_{i}^{2}} & \\frac{3 \\Delta h_{j}}{10 \\lambda_{ij}^{2} h_{i}^{3}} - \\frac{\\Delta h_{j}^{2}}{5 \\lambda_{ij}^{3} h_{i}^{2}} & \\frac{4 \\Delta}{15 \\lambda_{ij}^{2} h_{i}^{2} h_{j}} - \\frac{\\Delta h_{j}}{10 \\lambda_{ij}^{2} h_{i}^{4}} + \\frac{2 \\Delta}{5 \\lambda_{ij}^{3} h_{i}^{3}} - \\frac{\\Delta h_{j}}{10 \\lambda_{ij}^{4} h_{i}^{2}} - \\frac{4 \\lambda_{ij} \\left<{\\eta_{ij}}\\right> h_{j}^{2}}{15 h_{i}^{2}} + \\frac{\\lambda_{ij} \\left<{\\eta_{ij}}\\right> h_{j}^{4}}{10 h_{i}^{4}} + \\frac{8 \\lambda_{ij} \\left<{\\eta_{ik}}\\right> h_{i}}{15 h_{j}} - \\frac{7 \\lambda_{ij} \\left<{\\eta_{ik}}\\right> h_{j}}{15 h_{i}} + \\frac{\\lambda_{ij} \\left<{\\eta_{ik}}\\right> h_{j}^{3}}{10 h_{i}^{3}} + \\frac{8 \\lambda_{ij} h_{i}}{15 h_{j}} - \\frac{11 \\lambda_{ij} h_{j}}{15 h_{i}} + \\frac{\\lambda_{ij} h_{j}^{3}}{5 h_{i}^{3}} + \\left<\\eta_{ik}^{2}\\right> - \\frac{14 \\left<{\\eta_{ij}}\\right> h_{j}}{15 h_{i}} - \\frac{4 \\left<{\\eta_{ij}}\\right> h_{j}^{3}}{5 h_{i}^{3}} + \\frac{8 \\left<{\\eta_{ik}}\\right>}{15} - \\frac{9 \\left<{\\eta_{ik}}\\right> h_{j}^{2}}{10 h_{i}^{2}} + \\frac{16 \\left<{m_i}\\right> h_{j}^{2}}{15 h_{i}} - \\frac{3 \\left<{m_i}\\right> h_{j}^{4}}{10 h_{i}^{3}} - \\frac{8 \\left<{m_j}\\right> h_{j}}{15} + \\frac{13 \\left<{m_j}\\right> h_{j}^{3}}{15 h_{i}^{2}} - \\frac{\\left<{m_j}\\right> h_{j}^{5}}{5 h_{i}^{4}} - \\frac{1}{5} - \\frac{h_{j}^{2}}{h_{i}^{2}} - \\frac{h_{j}^{4}}{10 h_{i}^{4}} + \\frac{16 \\left<{\\eta_{ij}}\\right> h_{j}^{2}}{15 \\lambda_{ij}} + \\frac{\\left<{\\eta_{ij}}\\right> h_{j}^{4}}{5 \\lambda_{ij} h_{i}^{2}} + \\frac{\\left<{\\eta_{ij}}\\right> h_{j}^{2}}{10 \\lambda_{ij} h_{i}^{2}} - \\frac{7 \\left<{\\eta_{ik}}\\right> h_{i} h_{j}}{15 \\lambda_{ij}} + \\frac{3 \\left<{\\eta_{ik}}\\right> h_{j}^{3}}{5 \\lambda_{ij} h_{i}} + \\frac{4 \\left<{\\eta_{ik}}\\right> h_{j}}{5 \\lambda_{ij} h_{i}} - \\frac{14 \\left<{m_i}\\right> h_{j}}{15 \\lambda_{ij}} + \\frac{6 \\left<{m_i}\\right> h_{j}^{3}}{5 \\lambda_{ij} h_{i}^{2}} - \\frac{22 \\left<{m_j}\\right> h_{j}^{2}}{15 \\lambda_{ij} h_{i}} + \\frac{11 \\left<{m_j}\\right> h_{j}^{4}}{10 \\lambda_{ij} h_{i}^{3}} - \\frac{11 h_{i} h_{j}}{15 \\lambda_{ij}} + \\frac{32 h_{j}^{3}}{15 \\lambda_{ij} h_{i}} - \\frac{2 h_{j}}{5 \\lambda_{ij} h_{i}} - \\frac{2 h_{j}^{5}}{5 \\lambda_{ij} h_{i}^{3}} + \\frac{3 h_{j}^{3}}{10 \\lambda_{ij} h_{i}^{3}} + \\frac{6 \\left<{\\eta_{ij}}\\right> h_{j}^{3}}{5 \\lambda_{ij}^{2} h_{i}} - \\frac{9 \\left<{\\eta_{ik}}\\right> h_{j}^{2}}{10 \\lambda_{ij}^{2}} - \\frac{4 \\left<{m_i}\\right> h_{i} h_{j}^{2}}{15 \\lambda_{ij}^{2}} + \\frac{\\left<{m_i}\\right> h_{j}^{4}}{5 \\lambda_{ij}^{2} h_{i}} + \\frac{\\left<{m_i}\\right> h_{j}^{2}}{10 \\lambda_{ij}^{2} h_{i}} + \\frac{13 \\left<{m_j}\\right> h_{j}^{3}}{15 \\lambda_{ij}^{2}} - \\frac{2 \\left<{m_j}\\right> h_{j}^{5}}{5 \\lambda_{ij}^{2} h_{i}^{2}} - \\frac{7 \\left<{m_j}\\right> h_{j}^{3}}{10 \\lambda_{ij}^{2} h_{i}^{2}} - \\frac{h_{j}^{2}}{\\lambda_{ij}^{2}} + \\frac{2 h_{j}^{4}}{\\lambda_{ij}^{2} h_{i}^{2}} - \\frac{3 h_{j}^{2}}{10 \\lambda_{ij}^{2} h_{i}^{2}} - \\frac{3 \\left<{\\eta_{ij}}\\right> h_{j}^{4}}{10 \\lambda_{ij}^{3}} + \\frac{\\left<{\\eta_{ik}}\\right> h_{i} h_{j}^{3}}{10 \\lambda_{ij}^{3}} - \\frac{4 \\left<{m_i}\\right> h_{j}^{3}}{5 \\lambda_{ij}^{3}} + \\frac{11 \\left<{m_j}\\right> h_{j}^{4}}{10 \\lambda_{ij}^{3} h_{i}} + \\frac{h_{i} h_{j}^{3}}{5 \\lambda_{ij}^{3}} - \\frac{2 h_{j}^{5}}{5 \\lambda_{ij}^{3} h_{i}} + \\frac{3 h_{j}^{3}}{10 \\lambda_{ij}^{3} h_{i}} + \\frac{\\left<{m_i}\\right> h_{i} h_{j}^{4}}{10 \\lambda_{ij}^{4}} - \\frac{\\left<{m_j}\\right> h_{j}^{5}}{5 \\lambda_{ij}^{4}} - \\frac{h_{j}^{4}}{10 \\lambda_{ij}^{4}}\\end{matrix}\\right]$"
      ],
      "text/plain": [
       "Matrix([\n",
       "[                                    0,                                                                                                                                          -\\Delta/(\\lambda_{ij}**2*h_i**2),                                                                                    0,                                                                                   0,                                                                                                                                                                                                                                                                                                                                                                                                                                                                                                                                                                                                                                                                                                                                                                                                                                                                                                                                                                                                                                                                                                                                                                                                                                                                                               _Dummy_1284 - \\Delta/(3*\\lambda_{ij}**2*h_i**2*h_j**2) - \\Delta/(3*\\lambda_{ij}**3*h_i*h_j) + \\lambda_{ij}*\\left<{\\eta_{ij}}\\right>*h_j/(3*h_i**2) - 2*\\lambda_{ij}*\\left<{\\eta_{ik}}\\right>*h_i/(3*h_j**2) + \\lambda_{ij}*\\left<{\\eta_{ik}}\\right>/(3*h_i) - 2*\\lambda_{ij}*h_i/(3*h_j**2) + 2*\\lambda_{ij}/(3*h_i) + 2*\\left<m_j\\eta_{ij}\\right>*h_j/h_i + \\left<{\\eta_{ij}}\\right>*h_j**2/(3*h_i) + 5*\\left<{\\eta_{ij}}\\right>/(3*h_i) - 2*\\left<{\\eta_{ik}}\\right>*h_i**2/(3*h_j) + \\left<{\\eta_{ik}}\\right>*h_j/3 + \\left<{\\eta_{ik}}\\right>/(3*h_j) + 5*\\left<{m_i}\\right>*h_j/(3*h_i) + 2*\\left<{m_j}\\right>/3 + 2*\\left<{m_j}\\right>*h_j**2/(3*h_i**2) - 2*h_i**2/(3*h_j) + 2*h_j/3 + h_j/h_i**2 + 10*\\left<{\\eta_{ij}}\\right>*h_j/(3*\\lambda_{ij}) + 2*\\left<{\\eta_{ik}}\\right>*h_i/(3*\\lambda_{ij}) - \\left<{m_i}\\right>*h_j**2/(3*\\lambda_{ij}) + 5*\\left<{m_i}\\right>/(3*\\lambda_{ij}) + 2*\\left<{m_j}\\right>*h_i*h_j/(3*\\lambda_{ij}) - \\left<{m_j}\\right>*h_j**3/(3*\\lambda_{ij}*h_i) + 4*\\left<{m_j}\\right>*h_j/(3*\\lambda_{ij}*h_i) + 2*h_i/(3*\\lambda_{ij}) + 4*h_j**2/(3*\\lambda_{ij}*h_i) + 1/(\\lambda_{ij}*h_i) - \\left<{\\eta_{ij}}\\right>*h_i*h_j**2/(3*\\lambda_{ij}**2) + \\left<{\\eta_{ik}}\\right>*h_i**2*h_j/(3*\\lambda_{ij}**2) + \\left<{m_j}\\right>*h_j**2/\\lambda_{ij}**2 + 2*h_i**2*h_j/(3*\\lambda_{ij}**2) - 2*h_j**3/(3*\\lambda_{ij}**2) + h_j/\\lambda_{ij}**2 + \\left<{m_i}\\right>*h_i**2*h_j**2/(3*\\lambda_{ij}**3) - \\left<{m_j}\\right>*h_i*h_j**3/(3*\\lambda_{ij}**3)],\n",
       "[                                    0,                                                                                                                                                                         0,                                                    \\Delta/(2*\\lambda_{ij}**2*h_j**2),                                                                                   0,                                                                                                                                                                                                                                                                                                                                                                                                                                                                                                                                                                                                                           -_Dummy_1284*h_i/(2*h_j) + \\Delta/(6*\\lambda_{ij}*h_j**4) + \\Delta/(12*\\lambda_{ij}*h_i**2*h_j**2) - \\Delta/(12*\\lambda_{ij}**2*h_i*h_j**3) - \\Delta/(12*\\lambda_{ij}**3*h_j**2) - \\lambda_{ij}**2*\\left<{\\eta_{ij}}\\right>/(6*h_j) - \\lambda_{ij}**2*\\left<{\\eta_{ij}}\\right>*h_j/(12*h_i**2) + \\lambda_{ij}**2*\\left<{\\eta_{ik}}\\right>*h_i**3/(3*h_j**4) - \\lambda_{ij}**2*\\left<{\\eta_{ik}}\\right>/(12*h_i) + \\lambda_{ij}**2*h_i**3/(3*h_j**4) - \\lambda_{ij}**2*h_i/(6*h_j**2) - \\lambda_{ij}**2/(6*h_i) + \\lambda_{ij}*\\left<{\\eta_{ij}}\\right>*h_i/(6*h_j**2) + \\lambda_{ij}*\\left<{\\eta_{ij}}\\right>/(6*h_i) - \\lambda_{ij}*\\left<{\\eta_{ik}}\\right>*h_i**2/(3*h_j**3) + \\lambda_{ij}*\\left<{m_i}\\right>*h_i/(6*h_j) + \\lambda_{ij}*\\left<{m_i}\\right>*h_j/(12*h_i) - \\lambda_{ij}*\\left<{m_j}\\right>*h_i**2/(3*h_j**2) + \\lambda_{ij}*\\left<{m_j}\\right>*h_j**2/(12*h_i**2) - \\lambda_{ij}*h_i**2/(6*h_j**3) + \\lambda_{ij}/(6*h_j) - \\left<m_i\\eta_{ik}\\right>*h_i**2/h_j**2 + \\left<{\\eta_{ij}}\\right>*h_i**2/(6*h_j) + \\left<{\\eta_{ij}}\\right>*h_j/6 - 7*\\left<{\\eta_{ij}}\\right>/(12*h_j) - \\left<{\\eta_{ik}}\\right>*h_i**3/(3*h_j**2) - 5*\\left<{\\eta_{ik}}\\right>*h_i/(12*h_j**2) - 5*\\left<{m_i}\\right>*h_i**2/(6*h_j**2) - \\left<{m_i}\\right>/2 - \\left<{m_j}\\right>*h_j/(6*h_i) - h_i**3/(2*h_j**2) + h_i/3 - h_i/(2*h_j**2) + h_j**2/(6*h_i) - 7*\\left<{\\eta_{ij}}\\right>*h_i/(6*\\lambda_{ij}) - 5*\\left<{\\eta_{ik}}\\right>*h_i**2/(6*\\lambda_{ij}*h_j) - \\left<{m_i}\\right>*h_i**3/(6*\\lambda_{ij}*h_j) - \\left<{m_i}\\right>*h_i*h_j/(6*\\lambda_{ij}) - 13*\\left<{m_i}\\right>*h_i/(12*\\lambda_{ij}*h_j) + \\left<{m_j}\\right>*h_i**2/(3*\\lambda_{ij}) - 5*\\left<{m_j}\\right>/(12*\\lambda_{ij}) - 5*h_i**2/(6*\\lambda_{ij}*h_j) - h_j/(6*\\lambda_{ij}) - 1/(2*\\lambda_{ij}*h_j) - \\left<{\\eta_{ij}}\\right>*h_i**2*h_j/(12*\\lambda_{ij}**2) + \\left<{\\eta_{ik}}\\right>*h_i**3/(12*\\lambda_{ij}**2) - \\left<{m_i}\\right>*h_i**2/(2*\\lambda_{ij}**2) + h_i**3/(6*\\lambda_{ij}**2) - h_i*h_j**2/(6*\\lambda_{ij}**2) - h_i/(2*\\lambda_{ij}**2) + \\left<{m_i}\\right>*h_i**3*h_j/(12*\\lambda_{ij}**3) - \\left<{m_j}\\right>*h_i**2*h_j**2/(12*\\lambda_{ij}**3)],\n",
       "[                                    0,                                                                                                                                                                         0,                                                                                    0,                                                      \\Delta/(4*\\lambda_{ij}*h_i**3),                                                                                                                                                                                                                                                                                                      -_Dummy_1284*h_j/(4*h_i) + \\Delta/(4*\\lambda_{ij}*h_i**2*h_j**2) - \\Delta/(24*\\lambda_{ij}*h_i**4) + 7*\\Delta/(24*\\lambda_{ij}**2*h_i**3*h_j) + \\Delta/(24*\\lambda_{ij}**3*h_i**2) - \\lambda_{ij}**2*\\left<{\\eta_{ij}}\\right>*h_j/(4*h_i**2) + \\lambda_{ij}**2*\\left<{\\eta_{ij}}\\right>*h_j**3/(24*h_i**4) + \\lambda_{ij}**2*\\left<{\\eta_{ik}}\\right>*h_i/(2*h_j**2) - \\lambda_{ij}**2*\\left<{\\eta_{ik}}\\right>/(3*h_i) + \\lambda_{ij}**2*\\left<{\\eta_{ik}}\\right>*h_j**2/(24*h_i**3) + \\lambda_{ij}**2*h_i/(2*h_j**2) - 7*\\lambda_{ij}**2/(12*h_i) + \\lambda_{ij}**2*h_j**2/(12*h_i**3) + \\lambda_{ij}*\\left<\\eta_{ik}^{2}\\right>/(2*h_j) - 3*\\lambda_{ij}*\\left<{\\eta_{ij}}\\right>/(4*h_i) - 7*\\lambda_{ij}*\\left<{\\eta_{ij}}\\right>*h_j**2/(12*h_i**3) + \\lambda_{ij}*\\left<{\\eta_{ik}}\\right>/(3*h_j) - 3*\\lambda_{ij}*\\left<{\\eta_{ik}}\\right>*h_j/(4*h_i**2) + \\lambda_{ij}*\\left<{m_i}\\right>*h_j/(4*h_i) - \\lambda_{ij}*\\left<{m_i}\\right>*h_j**3/(24*h_i**3) - \\lambda_{ij}*\\left<{m_j}\\right>/2 + \\lambda_{ij}*\\left<{m_j}\\right>*h_j**2/(3*h_i**2) - \\lambda_{ij}*\\left<{m_j}\\right>*h_j**4/(24*h_i**4) + \\lambda_{ij}/(12*h_j) - 13*\\lambda_{ij}*h_j/(12*h_i**2) + \\left<m_i\\eta_{ik}\\right>/2 + \\left<{\\eta_{ij}}\\right>*h_j/4 - \\left<{\\eta_{ij}}\\right>*h_j**3/(12*h_i**2) - 5*\\left<{\\eta_{ij}}\\right>*h_j/(24*h_i**2) - \\left<{\\eta_{ik}}\\right>*h_i/6 + 11*\\left<{\\eta_{ik}}\\right>/(24*h_i) - \\left<{m_i}\\right>/4 - \\left<{m_i}\\right>*h_j**2/(4*h_i**2) - 5*\\left<{m_j}\\right>*h_j/(6*h_i) + \\left<{m_j}\\right>*h_j**3/(3*h_i**3) - 5*h_i/12 + h_j**2/(2*h_i) - 1/(4*h_i) - h_j**4/(12*h_i**3) - h_j**2/(4*h_i**3) + \\left<{\\eta_{ij}}\\right>*h_j**2/(12*\\lambda_{ij}*h_i) - \\left<{\\eta_{ik}}\\right>*h_j/(3*\\lambda_{ij}) - \\left<{m_i}\\right>*h_i*h_j/(4*\\lambda_{ij}) + \\left<{m_i}\\right>*h_j**3/(12*\\lambda_{ij}*h_i) + \\left<{m_i}\\right>*h_j/(24*\\lambda_{ij}*h_i) + \\left<{m_j}\\right>*h_j**2/(6*\\lambda_{ij}) - 13*\\left<{m_j}\\right>*h_j**2/(24*\\lambda_{ij}*h_i**2) - 7*h_j/(12*\\lambda_{ij}) + 7*h_j**3/(12*\\lambda_{ij}*h_i**2) - h_j/(4*\\lambda_{ij}*h_i**2) + \\left<{\\eta_{ij}}\\right>*h_j**3/(24*\\lambda_{ij}**2) - \\left<{\\eta_{ik}}\\right>*h_i*h_j**2/(24*\\lambda_{ij}**2) - \\left<{m_i}\\right>*h_j**2/(4*\\lambda_{ij}**2) + \\left<{m_j}\\right>*h_j**3/(4*\\lambda_{ij}**2*h_i) - h_i*h_j**2/(12*\\lambda_{ij}**2) + h_j**4/(12*\\lambda_{ij}**2*h_i) - \\left<{m_i}\\right>*h_i*h_j**3/(24*\\lambda_{ij}**3) + \\left<{m_j}\\right>*h_j**4/(24*\\lambda_{ij}**3)],\n",
       "[\\Delta*h_j/(5*\\lambda_{ij}**2*h_i**2), -\\Delta*h_j/(5*\\lambda_{ij}**2*h_i**2) + \\Delta*h_j**3/(10*\\lambda_{ij}**2*h_i**4) - \\Delta*h_j**2/(2*\\lambda_{ij}**3*h_i**3) + \\Delta*h_j**3/(10*\\lambda_{ij}**4*h_i**2), -\\Delta*h_j**2/(5*\\lambda_{ij}**2*h_i**3) + 3*\\Delta*h_j/(10*\\lambda_{ij}**3*h_i**2), 3*\\Delta*h_j/(10*\\lambda_{ij}**2*h_i**3) - \\Delta*h_j**2/(5*\\lambda_{ij}**3*h_i**2), 4*\\Delta/(15*\\lambda_{ij}**2*h_i**2*h_j) - \\Delta*h_j/(10*\\lambda_{ij}**2*h_i**4) + 2*\\Delta/(5*\\lambda_{ij}**3*h_i**3) - \\Delta*h_j/(10*\\lambda_{ij}**4*h_i**2) - 4*\\lambda_{ij}*\\left<{\\eta_{ij}}\\right>*h_j**2/(15*h_i**2) + \\lambda_{ij}*\\left<{\\eta_{ij}}\\right>*h_j**4/(10*h_i**4) + 8*\\lambda_{ij}*\\left<{\\eta_{ik}}\\right>*h_i/(15*h_j) - 7*\\lambda_{ij}*\\left<{\\eta_{ik}}\\right>*h_j/(15*h_i) + \\lambda_{ij}*\\left<{\\eta_{ik}}\\right>*h_j**3/(10*h_i**3) + 8*\\lambda_{ij}*h_i/(15*h_j) - 11*\\lambda_{ij}*h_j/(15*h_i) + \\lambda_{ij}*h_j**3/(5*h_i**3) + \\left<\\eta_{ik}^{2}\\right> - 14*\\left<{\\eta_{ij}}\\right>*h_j/(15*h_i) - 4*\\left<{\\eta_{ij}}\\right>*h_j**3/(5*h_i**3) + 8*\\left<{\\eta_{ik}}\\right>/15 - 9*\\left<{\\eta_{ik}}\\right>*h_j**2/(10*h_i**2) + 16*\\left<{m_i}\\right>*h_j**2/(15*h_i) - 3*\\left<{m_i}\\right>*h_j**4/(10*h_i**3) - 8*\\left<{m_j}\\right>*h_j/15 + 13*\\left<{m_j}\\right>*h_j**3/(15*h_i**2) - \\left<{m_j}\\right>*h_j**5/(5*h_i**4) - 1/5 - h_j**2/h_i**2 - h_j**4/(10*h_i**4) + 16*\\left<{\\eta_{ij}}\\right>*h_j**2/(15*\\lambda_{ij}) + \\left<{\\eta_{ij}}\\right>*h_j**4/(5*\\lambda_{ij}*h_i**2) + \\left<{\\eta_{ij}}\\right>*h_j**2/(10*\\lambda_{ij}*h_i**2) - 7*\\left<{\\eta_{ik}}\\right>*h_i*h_j/(15*\\lambda_{ij}) + 3*\\left<{\\eta_{ik}}\\right>*h_j**3/(5*\\lambda_{ij}*h_i) + 4*\\left<{\\eta_{ik}}\\right>*h_j/(5*\\lambda_{ij}*h_i) - 14*\\left<{m_i}\\right>*h_j/(15*\\lambda_{ij}) + 6*\\left<{m_i}\\right>*h_j**3/(5*\\lambda_{ij}*h_i**2) - 22*\\left<{m_j}\\right>*h_j**2/(15*\\lambda_{ij}*h_i) + 11*\\left<{m_j}\\right>*h_j**4/(10*\\lambda_{ij}*h_i**3) - 11*h_i*h_j/(15*\\lambda_{ij}) + 32*h_j**3/(15*\\lambda_{ij}*h_i) - 2*h_j/(5*\\lambda_{ij}*h_i) - 2*h_j**5/(5*\\lambda_{ij}*h_i**3) + 3*h_j**3/(10*\\lambda_{ij}*h_i**3) + 6*\\left<{\\eta_{ij}}\\right>*h_j**3/(5*\\lambda_{ij}**2*h_i) - 9*\\left<{\\eta_{ik}}\\right>*h_j**2/(10*\\lambda_{ij}**2) - 4*\\left<{m_i}\\right>*h_i*h_j**2/(15*\\lambda_{ij}**2) + \\left<{m_i}\\right>*h_j**4/(5*\\lambda_{ij}**2*h_i) + \\left<{m_i}\\right>*h_j**2/(10*\\lambda_{ij}**2*h_i) + 13*\\left<{m_j}\\right>*h_j**3/(15*\\lambda_{ij}**2) - 2*\\left<{m_j}\\right>*h_j**5/(5*\\lambda_{ij}**2*h_i**2) - 7*\\left<{m_j}\\right>*h_j**3/(10*\\lambda_{ij}**2*h_i**2) - h_j**2/\\lambda_{ij}**2 + 2*h_j**4/(\\lambda_{ij}**2*h_i**2) - 3*h_j**2/(10*\\lambda_{ij}**2*h_i**2) - 3*\\left<{\\eta_{ij}}\\right>*h_j**4/(10*\\lambda_{ij}**3) + \\left<{\\eta_{ik}}\\right>*h_i*h_j**3/(10*\\lambda_{ij}**3) - 4*\\left<{m_i}\\right>*h_j**3/(5*\\lambda_{ij}**3) + 11*\\left<{m_j}\\right>*h_j**4/(10*\\lambda_{ij}**3*h_i) + h_i*h_j**3/(5*\\lambda_{ij}**3) - 2*h_j**5/(5*\\lambda_{ij}**3*h_i) + 3*h_j**3/(10*\\lambda_{ij}**3*h_i) + \\left<{m_i}\\right>*h_i*h_j**4/(10*\\lambda_{ij}**4) - \\left<{m_j}\\right>*h_j**5/(5*\\lambda_{ij}**4) - h_j**4/(10*\\lambda_{ij}**4)]])"
      ]
     },
     "metadata": {},
     "output_type": "display_data"
    }
   ],
   "source": [
    "M = sp.Matrix([line1, line2, line3, line4])\n",
    "\n",
    "M[0, :] += M[1, :]*2/h_i*h_j\n",
    "M[1, :] -= M[2, :]/h_j**2*h_i**2\n",
    "M[2, :] += M[3, :]*l_ij/h_j/2\n",
    "\n",
    "M[1, :] -= M[0, :]/h_j*h_i/2\n",
    "M[2, :] += M[1, :]*h_j**2/2/h_i**2\n",
    "\n",
    "M = M.expand()\n",
    "\n",
    "display(M)"
   ]
  },
  {
   "cell_type": "code",
   "execution_count": 126,
   "metadata": {},
   "outputs": [],
   "source": [
    "value_system_moments_2_degenerate = []\n",
    "\n",
    "value_system_moments_2_degenerate.append((M[0, -1]/M[0, 1]).factor())\n",
    "value_system_moments_2_degenerate.append((M[1, -1]/M[1, 2]).factor())\n",
    "value_system_moments_2_degenerate.append((M[2, -1]/M[2, 3]).factor())\n",
    "\n",
    "expr = sum([-M[-1, i+1]*value_system_moments_2_degenerate[i] for i in range(3)])+M[-1, -1]\n",
    "value_system_moments_2_degenerate.insert(0, (expr/M[-1, 0]).factor())\n",
    "\n",
    "# for i in range(4):\n",
    "#     display(sp.Eq(vector_system_moments_2_degenerate[i], value_system_moments_2_degenerate[i]))\n",
    "# for i in range(4):\n",
    "#     sp.print_latex(sp.Eq(vector_system_moments_2_degenerate[i], value_system_moments_2_degenerate[i]))"
   ]
  },
  {
   "cell_type": "code",
   "execution_count": 127,
   "metadata": {},
   "outputs": [],
   "source": [
    "subs_to_moments_2_degenerate = dict(zip(vector_system_moments_2_degenerate, value_system_moments_2_degenerate))"
   ]
  },
  {
   "cell_type": "code",
   "execution_count": 128,
   "metadata": {},
   "outputs": [
    {
     "data": {
      "text/latex": [
       "$\\displaystyle \\left<\\eta_{ik}^{2}\\right>$"
      ],
      "text/plain": [
       "\\left<\\eta_{ik}^{2}\\right>"
      ]
     },
     "execution_count": 128,
     "metadata": {},
     "output_type": "execute_result"
    }
   ],
   "source": [
    "expr_eta_ik_2_degenerate.subs(subs_to_moments_2_degenerate).factor()"
   ]
  },
  {
   "cell_type": "code",
   "execution_count": 129,
   "metadata": {},
   "outputs": [
    {
     "data": {
      "text/latex": [
       "$\\displaystyle - \\frac{\\left<m_j\\eta_{ij}\\right> h_{j}}{\\lambda_{ij}} - \\frac{2 \\left<{\\eta_{ij}}\\right>}{\\lambda_{ij}} + \\frac{\\left<{m_i}\\right> h_{j}}{\\lambda_{ij}}$"
      ],
      "text/plain": [
       "-\\left<m_j\\eta_{ij}\\right>*h_j/\\lambda_{ij} - 2*\\left<{\\eta_{ij}}\\right>/\\lambda_{ij} + \\left<{m_i}\\right>*h_j/\\lambda_{ij}"
      ]
     },
     "execution_count": 129,
     "metadata": {},
     "output_type": "execute_result"
    }
   ],
   "source": [
    "expr_Q_star_degenerate_from_m_j_eta_ij = expr_Q_star_degenerate.subs(subs_to_moments_2_degenerate).subs(subs_det_system_moments_degenerate).factor().expand()\n",
    "expr_Q_star_degenerate_from_m_j_eta_ij"
   ]
  },
  {
   "cell_type": "code",
   "execution_count": 130,
   "metadata": {},
   "outputs": [
    {
     "data": {
      "text/latex": [
       "$\\displaystyle \\left<m_{jh}^2\\right> = - \\frac{2 \\lambda_{ij} \\left<m_j\\eta_{ij}\\right>}{h_{j}} + \\frac{2 \\lambda_{ij} \\left<{m_i}\\right>}{h_{j}} - \\frac{2 \\left<{m_j}\\right>}{h_{j}} + 1$"
      ],
      "text/plain": [
       "Eq(\\left<m_{jh}^2\\right>, -2*\\lambda_{ij}*\\left<m_j\\eta_{ij}\\right>/h_j + 2*\\lambda_{ij}*\\left<{m_i}\\right>/h_j - 2*\\left<{m_j}\\right>/h_j + 1)"
      ]
     },
     "metadata": {},
     "output_type": "display_data"
    }
   ],
   "source": [
    "expr_m_j_par_2_degenerate = calc_degenerate(Z3_degenerate_expr.diff(h_j, 2)/(Z3_degenerate_expr))\n",
    "expr = expr_m_j_par_2_degenerate.subs(subs_to_moments_2_degenerate).subs(subs_det_system_moments_degenerate).factor().expand()\n",
    "\n",
    "display(sp.Eq(m_j_par_2, expr))"
   ]
  },
  {
   "cell_type": "code",
   "execution_count": 131,
   "metadata": {},
   "outputs": [
    {
     "data": {
      "text/latex": [
       "$\\displaystyle \\frac{Dummy_{1284}}{2} - \\frac{\\left<m_j\\eta_{ij}\\right> h_{j}}{h_{i}} + \\frac{\\left<{m_i}\\right> h_{j}}{h_{i}} - \\left<{m_j}\\right>$"
      ],
      "text/plain": [
       "_Dummy_1284/2 - \\left<m_j\\eta_{ij}\\right>*h_j/h_i + \\left<{m_i}\\right>*h_j/h_i - \\left<{m_j}\\right>"
      ]
     },
     "execution_count": 131,
     "metadata": {},
     "output_type": "execute_result"
    }
   ],
   "source": [
    "expr_m_j_eta_ik_degenerate = calc_degenerate(Z3_degenerate_expr.diff(h_j, l_ik)/(Z3_degenerate_expr))\n",
    "expr = expr_m_j_eta_ik_degenerate.subs(subs_to_moments_2_degenerate).subs(subs_det_system_moments_degenerate).factor().expand()\n",
    "expr"
   ]
  },
  {
   "cell_type": "markdown",
   "metadata": {},
   "source": [
    "#### Проверка"
   ]
  },
  {
   "cell_type": "code",
   "execution_count": 132,
   "metadata": {},
   "outputs": [
    {
     "name": "stdout",
     "output_type": "stream",
     "text": [
      "0.5919397633608222\n",
      "0.5919397633608308\n",
      "\n",
      "0.6787309180732913\n",
      "0.6787309180732906\n",
      "\n",
      "0.678730918073277\n",
      "0.6787309180732837\n",
      "\n",
      "0.5919397633608272\n",
      "0.5919397633608351\n",
      "\n"
     ]
    },
    {
     "name": "stderr",
     "output_type": "stream",
     "text": [
      "/tmp/ipykernel_2837517/3652816044.py:4: IntegrationWarning: The occurrence of roundoff error is detected, which prevents \n",
      "  the requested tolerance from being achieved.  The error may be \n",
      "  underestimated.\n",
      "  return 2*np.pi*quad(func, -1, 1)[0]\n"
     ]
    }
   ],
   "source": [
    "to_cF3 = lambda *args: cF3Function(*args[:4])\n",
    "\n",
    "f_expr_m_i_degenerate = sp.lambdify(args_coeffs, expr_m_i_degenerate.replace(cF3Function_degenerate, to_cF3), module)\n",
    "f_expr_m_j_degenerate = sp.lambdify(args_coeffs, expr_m_j_degenerate.replace(cF3Function_degenerate, to_cF3), module)\n",
    "f_expr_eta_ij_degenerate = sp.lambdify(args_coeffs, expr_eta_ij_degenerate.replace(cF3Function_degenerate, to_cF3), module)\n",
    "f_expr_eta_ik_degenerate = sp.lambdify(args_coeffs, expr_eta_ik_degenerate.replace(cF3Function_degenerate, to_cF3), module)\n",
    "\n",
    "args = 1, 2, 2., 1\n",
    "compare_exprs(\n",
    "    calc_numerical_diffs(v_raw_Z3, args)/(np.asarray([2, 1, 2, 1])*v_raw_Z3(args)),\n",
    "    calc_exprs([f_expr_m_i_degenerate, f_expr_m_j_degenerate, f_expr_eta_ij_degenerate, f_expr_eta_ik_degenerate], args)\n",
    ")"
   ]
  },
  {
   "cell_type": "code",
   "execution_count": 133,
   "metadata": {},
   "outputs": [
    {
     "data": {
      "text/plain": [
       "0.5919397633608308"
      ]
     },
     "execution_count": 133,
     "metadata": {},
     "output_type": "execute_result"
    }
   ],
   "source": [
    "f_expr_m_i_degenerate(*args)"
   ]
  },
  {
   "cell_type": "code",
   "execution_count": 134,
   "metadata": {},
   "outputs": [],
   "source": [
    "args_moments = h_i, h_j, l_ij, l_ik, m_i, m_j, eta_ij, eta_ik"
   ]
  },
  {
   "cell_type": "code",
   "execution_count": 135,
   "metadata": {},
   "outputs": [
    {
     "name": "stdout",
     "output_type": "stream",
     "text": [
      "1770.4484810019126\n",
      "1770.4484810019824\n",
      "\n",
      "1761.9496487679103\n",
      "1761.9496487679698\n",
      "\n",
      "1762.0889940380964\n",
      "1762.0889940381567\n",
      "\n",
      "270.7760617498759\n",
      "270.77606174988523\n",
      "\n"
     ]
    }
   ],
   "source": [
    "args = 2, 1, 1.1\n",
    "args = list(args) + [args[2]*args[0]/args[1]]\n",
    "moments = f_expr_m_i_degenerate(*args), f_expr_m_j_degenerate(*args), f_expr_eta_ij_degenerate(*args), f_expr_eta_ik_degenerate(*args)\n",
    "\n",
    "for i in range(4):\n",
    "    left = vector_system_moments_degenerate[i].replace(cF3Function_degenerate, to_cF3).subs(subs_det_system_moments_degenerate)\n",
    "    f_left = sp.lambdify(args_moments, left, module)\n",
    "    print(f_left(*args, *moments))\n",
    "\n",
    "    right = value_system_moments_degenerate[i].replace(A_system_moments_degenerate, A_system_moments_degenerate_value).subs(subs_det_system_moments_degenerate)\n",
    "    # right = A_system_moments_degenerate_value\n",
    "    f_right = sp.lambdify(args_moments, right, module)\n",
    "    print(f_right(*args, *moments))\n",
    "\n",
    "    print()"
   ]
  },
  {
   "cell_type": "markdown",
   "metadata": {},
   "source": [
    "### Вырожденный случай с $h_1 = h_2$ и $\\lambda_1 = \\lambda_2$"
   ]
  },
  {
   "cell_type": "markdown",
   "metadata": {},
   "source": [
    "#### Символьные вычисления"
   ]
  },
  {
   "cell_type": "code",
   "execution_count": 136,
   "metadata": {},
   "outputs": [],
   "source": [
    "class EFunction_spec_1(EFunction):\n",
    "    @classmethod\n",
    "    def eval(cls, *args):\n",
    "        arg = args[4] + args[5] + args[6]\n",
    "\n",
    "        if arg == 1 and not args[4]:\n",
    "            return EFunction_spec_1(*args[:4], 1, 0, 0)\n",
    "        \n",
    "        if arg == 2 and (not args[4] or not args[5]):\n",
    "            return EFunction_spec_1(*args[:4], 1, 1, 0)\n",
    "\n",
    "\n",
    "class FFunction_spec_1(FFunction):\n",
    "    @classmethod\n",
    "    def eval(cls, *args):\n",
    "        arg = args[4] + args[5] + args[6]\n",
    "\n",
    "        if arg == 1 and not args[4]:\n",
    "            return FFunction_spec_1(*args[:4], 1, 0, 0)\n",
    "        \n",
    "        if arg == 2 and (not args[4] or not args[5]):\n",
    "            return FFunction_spec_1(*args[:4], 1, 1, 0)"
   ]
  },
  {
   "cell_type": "code",
   "execution_count": 137,
   "metadata": {},
   "outputs": [],
   "source": [
    "h, l = sp.symbols(\"h \\\\lambda\")\n",
    "m = sp.Symbol(\"\\\\left<m\\\\right>\")\n",
    "eta = sp.Symbol(\"\\\\left<\\eta\\\\right>\")"
   ]
  },
  {
   "cell_type": "code",
   "execution_count": 138,
   "metadata": {},
   "outputs": [],
   "source": [
    "_expr = cF3Function_degenerate(h, h, l, l, *(4*[0]))\n",
    "\n",
    "subs_to_cF3Function_degenerate_spec_1 = {\n",
    "    EFunction_spec_1(h, h, l, l, 1, 1, 1): sp.solve(_expr-evaluate_cF3Function_degenerate(_expr).replace(EFunction, EFunction_spec_1).replace(FFunction, FFunction_spec_1), EFunction_spec_1(h, h, l, l, 1, 1, 1))[0]\n",
    "}"
   ]
  },
  {
   "cell_type": "code",
   "execution_count": 139,
   "metadata": {},
   "outputs": [
    {
     "data": {
      "text/plain": [
       "{EFunction_spec_1(h, h, \\lambda, \\lambda, 1, 1, 1): 3*sqrt(2)*sqrt(\\lambda)*FFunction_spec_1(h, h, \\lambda, \\lambda, 1, 1, 0) - 2*cF3Function_degenerate(h, h, \\lambda, \\lambda, 0, 0, 0, 0) + sqrt(2)*h*FFunction_spec_1(h, h, \\lambda, \\lambda, 1, 1, 1)/sqrt(\\lambda)}"
      ]
     },
     "execution_count": 139,
     "metadata": {},
     "output_type": "execute_result"
    }
   ],
   "source": [
    "subs_to_cF3Function_degenerate_spec_1"
   ]
  },
  {
   "cell_type": "code",
   "execution_count": 140,
   "metadata": {},
   "outputs": [],
   "source": [
    "expr_m_i_degenerate_spec_1 = evaluate_cF3Function_degenerate(expr_m_i_degenerate).replace(EFunction, EFunction_spec_1).replace(FFunction, FFunction_spec_1)\n",
    "expr_m_i_degenerate_spec_1 = expr_m_i_degenerate_spec_1.subs({h_i: h, h_j: h, l_ij: l, l_ik: l})\n",
    "\n",
    "expr_m_j_degenerate_spec_1 = evaluate_cF3Function_degenerate(expr_m_j_degenerate).replace(EFunction, EFunction_spec_1).replace(FFunction, FFunction_spec_1)\n",
    "expr_m_j_degenerate_spec_1 = expr_m_j_degenerate_spec_1.subs({h_i: h, h_j: h, l_ij: l, l_ik: l})\n",
    "\n",
    "expr_eta_ij_degenerate_spec_1 = evaluate_cF3Function_degenerate(expr_eta_ij_degenerate).replace(EFunction, EFunction_spec_1).replace(FFunction, FFunction_spec_1)\n",
    "expr_eta_ij_degenerate_spec_1 = expr_eta_ij_degenerate_spec_1.subs({h_i: h, h_j: h, l_ij: l, l_ik: l})\n",
    "\n",
    "expr_eta_ik_degenerate_spec_1 = evaluate_cF3Function_degenerate(expr_eta_ik_degenerate).replace(EFunction, EFunction_spec_1).replace(FFunction, FFunction_spec_1)\n",
    "expr_eta_ik_degenerate_spec_1 = expr_eta_ik_degenerate_spec_1.subs({h_i: h, h_j: h, l_ij: l, l_ik: l})"
   ]
  },
  {
   "cell_type": "code",
   "execution_count": 141,
   "metadata": {},
   "outputs": [
    {
     "data": {
      "text/latex": [
       "$\\displaystyle - \\frac{1}{3 h} - \\frac{h}{3 \\lambda} + \\frac{\\sqrt{2} {\\cal F}_{123}\\left(h, h, \\lambda, \\lambda\\right)}{6 \\sqrt{\\lambda} \\left(\\frac{3 \\sqrt{2} \\sqrt{\\lambda} {\\cal F}_{12}\\left(h, h, \\lambda, \\lambda\\right)}{2} - \\frac{{\\cal E}_{123}\\left(h, h, \\lambda, \\lambda\\right)}{2} + \\frac{\\sqrt{2} h {\\cal F}_{123}\\left(h, h, \\lambda, \\lambda\\right)}{2 \\sqrt{\\lambda}}\\right)}$"
      ],
      "text/plain": [
       "-1/(3*h) - h/(3*\\lambda) + sqrt(2)*FFunction_spec_1(h, h, \\lambda, \\lambda, 1, 1, 1)/(6*sqrt(\\lambda)*(3*sqrt(2)*sqrt(\\lambda)*FFunction_spec_1(h, h, \\lambda, \\lambda, 1, 1, 0)/2 - EFunction_spec_1(h, h, \\lambda, \\lambda, 1, 1, 1)/2 + sqrt(2)*h*FFunction_spec_1(h, h, \\lambda, \\lambda, 1, 1, 1)/(2*sqrt(\\lambda))))"
      ]
     },
     "execution_count": 141,
     "metadata": {},
     "output_type": "execute_result"
    }
   ],
   "source": [
    "expr_m_i_degenerate_spec_1.subs(subs_to_cF3Function_degenerate)"
   ]
  },
  {
   "cell_type": "code",
   "execution_count": 142,
   "metadata": {},
   "outputs": [
    {
     "data": {
      "text/latex": [
       "$\\displaystyle - \\frac{1}{2} - \\frac{1}{3 \\lambda} + \\frac{h^{2}}{6 \\lambda^{2}} + \\frac{\\sqrt{2} {\\cal F}_{12}\\left(h, h, \\lambda, \\lambda\\right)}{4 \\sqrt{\\lambda} \\left(\\frac{3 \\sqrt{2} \\sqrt{\\lambda} {\\cal F}_{12}\\left(h, h, \\lambda, \\lambda\\right)}{2} - \\frac{{\\cal E}_{123}\\left(h, h, \\lambda, \\lambda\\right)}{2} + \\frac{\\sqrt{2} h {\\cal F}_{123}\\left(h, h, \\lambda, \\lambda\\right)}{2 \\sqrt{\\lambda}}\\right)} - \\frac{\\sqrt{2} h {\\cal F}_{123}\\left(h, h, \\lambda, \\lambda\\right)}{12 \\lambda^{\\frac{3}{2}} \\left(\\frac{3 \\sqrt{2} \\sqrt{\\lambda} {\\cal F}_{12}\\left(h, h, \\lambda, \\lambda\\right)}{2} - \\frac{{\\cal E}_{123}\\left(h, h, \\lambda, \\lambda\\right)}{2} + \\frac{\\sqrt{2} h {\\cal F}_{123}\\left(h, h, \\lambda, \\lambda\\right)}{2 \\sqrt{\\lambda}}\\right)}$"
      ],
      "text/plain": [
       "-1/2 - 1/(3*\\lambda) + h**2/(6*\\lambda**2) + sqrt(2)*FFunction_spec_1(h, h, \\lambda, \\lambda, 1, 1, 0)/(4*sqrt(\\lambda)*(3*sqrt(2)*sqrt(\\lambda)*FFunction_spec_1(h, h, \\lambda, \\lambda, 1, 1, 0)/2 - EFunction_spec_1(h, h, \\lambda, \\lambda, 1, 1, 1)/2 + sqrt(2)*h*FFunction_spec_1(h, h, \\lambda, \\lambda, 1, 1, 1)/(2*sqrt(\\lambda)))) - sqrt(2)*h*FFunction_spec_1(h, h, \\lambda, \\lambda, 1, 1, 1)/(12*\\lambda**(3/2)*(3*sqrt(2)*sqrt(\\lambda)*FFunction_spec_1(h, h, \\lambda, \\lambda, 1, 1, 0)/2 - EFunction_spec_1(h, h, \\lambda, \\lambda, 1, 1, 1)/2 + sqrt(2)*h*FFunction_spec_1(h, h, \\lambda, \\lambda, 1, 1, 1)/(2*sqrt(\\lambda))))"
      ]
     },
     "execution_count": 142,
     "metadata": {},
     "output_type": "execute_result"
    }
   ],
   "source": [
    "expr_eta_ik_degenerate_spec_1"
   ]
  },
  {
   "cell_type": "code",
   "execution_count": 143,
   "metadata": {},
   "outputs": [],
   "source": [
    "n, d = sp.fraction(expr_m_i_degenerate_spec_1.factor())\n",
    "_expr_m = (n-d*m).expand()\n",
    "\n",
    "n, d = sp.fraction(expr_eta_ij_degenerate_spec_1.factor())\n",
    "_expr_eta_ij = (n-d*eta).expand()"
   ]
  },
  {
   "cell_type": "code",
   "execution_count": 144,
   "metadata": {},
   "outputs": [],
   "source": [
    "vector_system_moments_degenerate_spec_1 = [\n",
    "    FFunction_spec_1(h, h, l, l, 1, 1, 1),\n",
    "    FFunction_spec_1(h, h, l, l, 1, 1, 0),\n",
    "]\n",
    "\n",
    "line1 = get_line_Matrix(_expr_m, vector_system_moments_degenerate_spec_1)\n",
    "line2 = get_line_Matrix(_expr_eta_ij, vector_system_moments_degenerate_spec_1)"
   ]
  },
  {
   "cell_type": "code",
   "execution_count": 145,
   "metadata": {},
   "outputs": [
    {
     "data": {
      "text/latex": [
       "$\\displaystyle {\\cal F}_{123}\\left(h, h, \\lambda, \\lambda\\right) = \\frac{\\sqrt{2} \\sqrt{\\lambda} \\left(3 \\lambda \\left<m\\right> h + \\lambda + h^{2}\\right) {\\cal E}_{123}\\left(h, h, \\lambda, \\lambda\\right)}{2 h \\left(6 \\lambda^{2} \\left<\\eta\\right> + 3 \\lambda^{2} + 6 \\lambda \\left<m\\right> h + 3 \\lambda + h^{2}\\right)}$"
      ],
      "text/plain": [
       "Eq(FFunction_spec_1(h, h, \\lambda, \\lambda, 1, 1, 1), sqrt(2)*sqrt(\\lambda)*(3*\\lambda*\\left<m\\right>*h + \\lambda + h**2)*EFunction_spec_1(h, h, \\lambda, \\lambda, 1, 1, 1)/(2*h*(6*\\lambda**2*\\left<\\eta\\right> + 3*\\lambda**2 + 6*\\lambda*\\left<m\\right>*h + 3*\\lambda + h**2)))"
      ]
     },
     "metadata": {},
     "output_type": "display_data"
    },
    {
     "data": {
      "text/latex": [
       "$\\displaystyle {\\cal F}_{12}\\left(h, h, \\lambda, \\lambda\\right) = \\frac{\\sqrt{2} \\sqrt{\\lambda} \\left(2 \\lambda \\left<\\eta\\right> + \\lambda + \\left<m\\right> h + 1\\right) {\\cal E}_{123}\\left(h, h, \\lambda, \\lambda\\right)}{2 \\left(6 \\lambda^{2} \\left<\\eta\\right> + 3 \\lambda^{2} + 6 \\lambda \\left<m\\right> h + 3 \\lambda + h^{2}\\right)}$"
      ],
      "text/plain": [
       "Eq(FFunction_spec_1(h, h, \\lambda, \\lambda, 1, 1, 0), sqrt(2)*sqrt(\\lambda)*(2*\\lambda*\\left<\\eta\\right> + \\lambda + \\left<m\\right>*h + 1)*EFunction_spec_1(h, h, \\lambda, \\lambda, 1, 1, 1)/(2*(6*\\lambda**2*\\left<\\eta\\right> + 3*\\lambda**2 + 6*\\lambda*\\left<m\\right>*h + 3*\\lambda + h**2)))"
      ]
     },
     "metadata": {},
     "output_type": "display_data"
    },
    {
     "name": "stdout",
     "output_type": "stream",
     "text": [
      "{\\cal F}_{123}\\left(h, h, \\lambda, \\lambda\\right) = \\frac{\\sqrt{2} \\sqrt{\\lambda} \\left(3 \\lambda \\left<m\\right> h + \\lambda + h^{2}\\right) {\\cal E}_{123}\\left(h, h, \\lambda, \\lambda\\right)}{2 h \\left(6 \\lambda^{2} \\left<\\eta\\right> + 3 \\lambda^{2} + 6 \\lambda \\left<m\\right> h + 3 \\lambda + h^{2}\\right)}\n",
      "{\\cal F}_{12}\\left(h, h, \\lambda, \\lambda\\right) = \\frac{\\sqrt{2} \\sqrt{\\lambda} \\left(2 \\lambda \\left<\\eta\\right> + \\lambda + \\left<m\\right> h + 1\\right) {\\cal E}_{123}\\left(h, h, \\lambda, \\lambda\\right)}{2 \\left(6 \\lambda^{2} \\left<\\eta\\right> + 3 \\lambda^{2} + 6 \\lambda \\left<m\\right> h + 3 \\lambda + h^{2}\\right)}\n"
     ]
    }
   ],
   "source": [
    "result = sp.solve_linear_system(sp.Matrix([line1, line2]), *vector_system_moments_degenerate_spec_1)\n",
    "\n",
    "value_system_moments_degenerate_spec_1 = []\n",
    "for key in vector_system_moments_degenerate_spec_1:\n",
    "    value_system_moments_degenerate_spec_1.append(result[key].factor())\n",
    "\n",
    "for i in range(2):\n",
    "    display(sp.Eq(vector_system_moments_degenerate_spec_1[i], value_system_moments_degenerate_spec_1[i]))\n",
    "for i in range(2):\n",
    "    sp.print_latex(sp.Eq(vector_system_moments_degenerate_spec_1[i], value_system_moments_degenerate_spec_1[i]))"
   ]
  },
  {
   "cell_type": "code",
   "execution_count": 146,
   "metadata": {},
   "outputs": [],
   "source": [
    "subs_to_moments_degenerate_spec_1 = dict(zip(vector_system_moments_degenerate_spec_1, value_system_moments_degenerate_spec_1))"
   ]
  },
  {
   "cell_type": "code",
   "execution_count": 147,
   "metadata": {},
   "outputs": [
    {
     "data": {
      "text/latex": [
       "$\\displaystyle \\left<\\eta\\right>$"
      ],
      "text/plain": [
       "\\left<\\eta\\right>"
      ]
     },
     "execution_count": 147,
     "metadata": {},
     "output_type": "execute_result"
    }
   ],
   "source": [
    "expr = expr_eta_ik_degenerate_spec_1\n",
    "expr.subs(subs_to_moments_degenerate_spec_1).factor()"
   ]
  },
  {
   "cell_type": "code",
   "execution_count": 148,
   "metadata": {},
   "outputs": [],
   "source": [
    "def calc_degenerate_spec_1(expr):\n",
    "    expr = expr.expand()\n",
    "    expr = evaluate_cF3Function_degenerate(expr)\n",
    "    expr = expr.replace(EFunction, EFunction_spec_1).replace(FFunction, FFunction_spec_1)\n",
    "    expr = expr.subs({h_i: h, h_j: h, l_ij: l, l_ik: l})\n",
    "    expr = expr.subs(subs_to_moments_degenerate_spec_1).factor().expand()\n",
    "    return expr"
   ]
  },
  {
   "cell_type": "code",
   "execution_count": 149,
   "metadata": {},
   "outputs": [],
   "source": [
    "expr_Q_star_degenerate_spec_1 = calc_degenerate_spec_1(Z3_degenerate_expr.diff(l_ij, 2)/(2*Z3_degenerate_expr) - eta - 1)\n",
    "# expr_Q_star_degenerate_spec_1"
   ]
  },
  {
   "cell_type": "code",
   "execution_count": 150,
   "metadata": {},
   "outputs": [],
   "source": [
    "expr_eta_ik_2_degenerate_spec_1 = calc_degenerate_spec_1(Z3_degenerate_expr.diff(l_ik, 2)/Z3_degenerate_expr)\n",
    "expr_m_j_eta_ik_degenerate_spec_1 = calc_degenerate_spec_1(Z3_degenerate_expr.diff(h_j, l_ik)/Z3_degenerate_expr)\n",
    "expr_m_j_eta_ij_degenerate_spec_1 = calc_degenerate_spec_1(Z3_degenerate_expr.diff(h_j, l_ij)/(2*Z3_degenerate_expr))\n",
    "expr_m_j_par_2_degenerate_spec_1 = calc_degenerate_spec_1(Z3_degenerate_expr.diff(h_j, h_j)/Z3_degenerate_expr)"
   ]
  },
  {
   "cell_type": "code",
   "execution_count": 151,
   "metadata": {},
   "outputs": [],
   "source": [
    "vector_system_moments_2_degenerate_spec_1 = [\n",
    "    EFunction_spec_1(h, h, l, l, 1, 1, 0)/EFunction_spec_1(h, h, l, l, 1, 1, 1),\n",
    "    EFunction_spec_1(h, h, l, l, 1, 0, 0)/EFunction_spec_1(h, h, l, l, 1, 1, 1),\n",
    "    EFunction_spec_1(h, h, l, l, 0, 0, 0)/EFunction_spec_1(h, h, l, l, 1, 1, 1),\n",
    "]\n",
    "\n",
    "line1 = get_line_Matrix(expr_eta_ik_2_degenerate_spec_1-eta_ik_2, vector_system_moments_2_degenerate_spec_1)\n",
    "line2 = get_line_Matrix(expr_m_j_eta_ik_degenerate_spec_1-m_j_eta_ik, vector_system_moments_2_degenerate_spec_1)\n",
    "line3 = get_line_Matrix(expr_m_j_par_2_degenerate_spec_1-m_j_par_2, vector_system_moments_2_degenerate_spec_1)"
   ]
  },
  {
   "cell_type": "code",
   "execution_count": 152,
   "metadata": {},
   "outputs": [
    {
     "data": {
      "text/latex": [
       "$\\displaystyle \\left[\\begin{matrix}0 & - 30 \\lambda^{4} \\left<\\eta\\right> - 15 \\lambda^{4} - 30 \\lambda^{3} \\left<m\\right> h - 15 \\lambda^{3} - 5 \\lambda^{2} h^{2} & 0 & - 35 \\lambda^{4} \\left<\\eta\\right> + 10 \\lambda^{4} \\left<\\eta_{ik}^{2}\\right> - 20 \\lambda^{4} + 5 \\lambda^{3} \\left<\\eta\\right> - 20 \\lambda^{3} \\left<m\\right> h - 10 \\lambda^{3} \\left<{m_2\\eta_2}\\right> h - 10 \\lambda^{3} - 5 \\lambda^{2} \\left<\\eta\\right> h^{2} - 10 \\lambda^{2} \\left<m\\right> h - 5 \\lambda^{2}\\\\30 \\lambda^{3} \\left<\\eta\\right> + 15 \\lambda^{3} + 30 \\lambda^{2} \\left<m\\right> h + 15 \\lambda^{2} + 5 \\lambda h^{2} & 0 & 0 & \\frac{10 \\lambda^{3} \\left<\\eta\\right>}{h} + 35 \\lambda^{3} \\left<m\\right> + 10 \\lambda^{3} \\left<{m_2\\eta_2}\\right> + \\frac{5 \\lambda^{3}}{h} + 20 \\lambda^{2} \\left<\\eta\\right> h - 5 \\lambda^{2} \\left<m\\right> - 10 \\lambda^{2} \\left<m_{jh}^2\\right> h + 20 \\lambda^{2} h + \\frac{5 \\lambda^{2}}{h} + 5 \\lambda \\left<m\\right> h^{2} + 5 \\lambda h\\\\0 & 24 \\lambda^{4} \\left<\\eta\\right> + 12 \\lambda^{4} + 24 \\lambda^{3} \\left<\\eta\\right> h^{2} + 24 \\lambda^{3} \\left<m\\right> h + 12 \\lambda^{3} h^{2} + 12 \\lambda^{3} + 24 \\lambda^{2} \\left<m\\right> h^{3} + 16 \\lambda^{2} h^{2} + 4 \\lambda h^{4} & - 12 \\lambda^{4} \\left<\\eta\\right> h - 6 \\lambda^{4} h - 12 \\lambda^{3} \\left<m\\right> h^{2} - 6 \\lambda^{3} h - 2 \\lambda^{2} h^{3} & 22 \\lambda^{4} \\left<\\eta\\right> - 4 \\lambda^{4} \\left<\\eta_{ik}^{2}\\right> - 12 \\lambda^{4} \\left<m\\right> h - 6 \\lambda^{4} \\left<{m_2\\eta_2}\\right> h + 12 \\lambda^{4} + 16 \\lambda^{3} \\left<\\eta\\right> h^{2} - 2 \\lambda^{3} \\left<\\eta\\right> - 4 \\lambda^{3} \\left<\\eta_{ik}^{2}\\right> h^{2} + 16 \\lambda^{3} \\left<m\\right> h + 6 \\lambda^{3} \\left<m_{jh}^2\\right> h^{2} + 10 \\lambda^{3} \\left<{m_2\\eta_2}\\right> h + 6 \\lambda^{3} h^{2} + 8 \\lambda^{3} + 2 \\lambda^{2} \\left<\\eta\\right> h^{2} + 16 \\lambda^{2} \\left<m\\right> h^{3} + 10 \\lambda^{2} \\left<m\\right> h + 4 \\lambda^{2} \\left<m_{jh}^2\\right> h^{2} + 6 \\lambda^{2} \\left<{m_2\\eta_2}\\right> h^{3} + 4 \\lambda^{2} h^{2} + 2 \\lambda^{2} + 4 \\lambda \\left<\\eta\\right> h^{4} + 4 \\lambda \\left<m\\right> h^{3} - 2 \\lambda \\left<m_{jh}^2\\right> h^{4} + 2 \\lambda h^{4} + 4 \\lambda h^{2}\\end{matrix}\\right]$"
      ],
      "text/plain": [
       "Matrix([\n",
       "[                                                                                                                0,                                                                                                                  -30*\\lambda**4*\\left<\\eta\\right> - 15*\\lambda**4 - 30*\\lambda**3*\\left<m\\right>*h - 15*\\lambda**3 - 5*\\lambda**2*h**2,                                                                                                                            0,                                                                                                                                                                                                                                                                                                                                                                                                                                                                                                                        -35*\\lambda**4*\\left<\\eta\\right> + 10*\\lambda**4*\\left<\\eta_{ik}^{2}\\right> - 20*\\lambda**4 + 5*\\lambda**3*\\left<\\eta\\right> - 20*\\lambda**3*\\left<m\\right>*h - 10*\\lambda**3*\\left<{m_2\\eta_2}\\right>*h - 10*\\lambda**3 - 5*\\lambda**2*\\left<\\eta\\right>*h**2 - 10*\\lambda**2*\\left<m\\right>*h - 5*\\lambda**2],\n",
       "[30*\\lambda**3*\\left<\\eta\\right> + 15*\\lambda**3 + 30*\\lambda**2*\\left<m\\right>*h + 15*\\lambda**2 + 5*\\lambda*h**2,                                                                                                                                                                                                                                      0,                                                                                                                            0,                                                                                                                                                                                                                                                                                                                                                                                                                                                                                                                 10*\\lambda**3*\\left<\\eta\\right>/h + 35*\\lambda**3*\\left<m\\right> + 10*\\lambda**3*\\left<{m_2\\eta_2}\\right> + 5*\\lambda**3/h + 20*\\lambda**2*\\left<\\eta\\right>*h - 5*\\lambda**2*\\left<m\\right> - 10*\\lambda**2*\\left<m_{jh}^2\\right>*h + 20*\\lambda**2*h + 5*\\lambda**2/h + 5*\\lambda*\\left<m\\right>*h**2 + 5*\\lambda*h],\n",
       "[                                                                                                                0, 24*\\lambda**4*\\left<\\eta\\right> + 12*\\lambda**4 + 24*\\lambda**3*\\left<\\eta\\right>*h**2 + 24*\\lambda**3*\\left<m\\right>*h + 12*\\lambda**3*h**2 + 12*\\lambda**3 + 24*\\lambda**2*\\left<m\\right>*h**3 + 16*\\lambda**2*h**2 + 4*\\lambda*h**4, -12*\\lambda**4*\\left<\\eta\\right>*h - 6*\\lambda**4*h - 12*\\lambda**3*\\left<m\\right>*h**2 - 6*\\lambda**3*h - 2*\\lambda**2*h**3, 22*\\lambda**4*\\left<\\eta\\right> - 4*\\lambda**4*\\left<\\eta_{ik}^{2}\\right> - 12*\\lambda**4*\\left<m\\right>*h - 6*\\lambda**4*\\left<{m_2\\eta_2}\\right>*h + 12*\\lambda**4 + 16*\\lambda**3*\\left<\\eta\\right>*h**2 - 2*\\lambda**3*\\left<\\eta\\right> - 4*\\lambda**3*\\left<\\eta_{ik}^{2}\\right>*h**2 + 16*\\lambda**3*\\left<m\\right>*h + 6*\\lambda**3*\\left<m_{jh}^2\\right>*h**2 + 10*\\lambda**3*\\left<{m_2\\eta_2}\\right>*h + 6*\\lambda**3*h**2 + 8*\\lambda**3 + 2*\\lambda**2*\\left<\\eta\\right>*h**2 + 16*\\lambda**2*\\left<m\\right>*h**3 + 10*\\lambda**2*\\left<m\\right>*h + 4*\\lambda**2*\\left<m_{jh}^2\\right>*h**2 + 6*\\lambda**2*\\left<{m_2\\eta_2}\\right>*h**3 + 4*\\lambda**2*h**2 + 2*\\lambda**2 + 4*\\lambda*\\left<\\eta\\right>*h**4 + 4*\\lambda*\\left<m\\right>*h**3 - 2*\\lambda*\\left<m_{jh}^2\\right>*h**4 + 2*\\lambda*h**4 + 4*\\lambda*h**2]])"
      ]
     },
     "metadata": {},
     "output_type": "display_data"
    }
   ],
   "source": [
    "M = sp.Matrix([line1, line2, line3])\n",
    "\n",
    "M[0, :] *= 10*l**4\n",
    "M[1, :] *= 10*l**3\n",
    "M[2, :] *= 10*l**2*h**2\n",
    "\n",
    "M[1, :] -= M[2, :]/h\n",
    "M[0, :] -= M[2, :]\n",
    "M[0, :] -= M[1, :]*h\n",
    "M[2, :] -= M[0, :]/5*2\n",
    "M[2, :] -= M[0, :]/5*2*h**2/l\n",
    "M[2, :] -= M[1, :]/5*3*h*l\n",
    "M[2, :] += M[1, :]/5*3*h\n",
    "M[2, :] += M[1, :]/5/l*h**3\n",
    "\n",
    "M = M.expand()\n",
    "\n",
    "display(M)"
   ]
  },
  {
   "cell_type": "code",
   "execution_count": 153,
   "metadata": {},
   "outputs": [
    {
     "data": {
      "text/latex": [
       "$\\displaystyle \\frac{{\\cal E}_{12}\\left(h, h, \\lambda, \\lambda\\right)}{{\\cal E}_{123}\\left(h, h, \\lambda, \\lambda\\right)} = \\frac{2 \\lambda^{2} \\left<\\eta\\right> + 7 \\lambda^{2} \\left<m\\right> h + 2 \\lambda^{2} \\left<{m_2\\eta_2}\\right> h + \\lambda^{2} + 4 \\lambda \\left<\\eta\\right> h^{2} - \\lambda \\left<m\\right> h - 2 \\lambda \\left<m_{jh}^2\\right> h^{2} + 4 \\lambda h^{2} + \\lambda + \\left<m\\right> h^{3} + h^{2}}{h \\left(6 \\lambda^{2} \\left<\\eta\\right> + 3 \\lambda^{2} + 6 \\lambda \\left<m\\right> h + 3 \\lambda + h^{2}\\right)}$"
      ],
      "text/plain": [
       "Eq(EFunction_spec_1(h, h, \\lambda, \\lambda, 1, 1, 0)/EFunction_spec_1(h, h, \\lambda, \\lambda, 1, 1, 1), (2*\\lambda**2*\\left<\\eta\\right> + 7*\\lambda**2*\\left<m\\right>*h + 2*\\lambda**2*\\left<{m_2\\eta_2}\\right>*h + \\lambda**2 + 4*\\lambda*\\left<\\eta\\right>*h**2 - \\lambda*\\left<m\\right>*h - 2*\\lambda*\\left<m_{jh}^2\\right>*h**2 + 4*\\lambda*h**2 + \\lambda + \\left<m\\right>*h**3 + h**2)/(h*(6*\\lambda**2*\\left<\\eta\\right> + 3*\\lambda**2 + 6*\\lambda*\\left<m\\right>*h + 3*\\lambda + h**2)))"
      ]
     },
     "metadata": {},
     "output_type": "display_data"
    },
    {
     "data": {
      "text/latex": [
       "$\\displaystyle \\frac{{\\cal E}_{1}\\left(h, h, \\lambda, \\lambda\\right)}{{\\cal E}_{123}\\left(h, h, \\lambda, \\lambda\\right)} = \\frac{7 \\lambda^{2} \\left<\\eta\\right> - 2 \\lambda^{2} \\left<\\eta_{ik}^{2}\\right> + 4 \\lambda^{2} - \\lambda \\left<\\eta\\right> + 4 \\lambda \\left<m\\right> h + 2 \\lambda \\left<{m_2\\eta_2}\\right> h + 2 \\lambda + \\left<\\eta\\right> h^{2} + 2 \\left<m\\right> h + 1}{6 \\lambda^{2} \\left<\\eta\\right> + 3 \\lambda^{2} + 6 \\lambda \\left<m\\right> h + 3 \\lambda + h^{2}}$"
      ],
      "text/plain": [
       "Eq(EFunction_spec_1(h, h, \\lambda, \\lambda, 1, 0, 0)/EFunction_spec_1(h, h, \\lambda, \\lambda, 1, 1, 1), (7*\\lambda**2*\\left<\\eta\\right> - 2*\\lambda**2*\\left<\\eta_{ik}^{2}\\right> + 4*\\lambda**2 - \\lambda*\\left<\\eta\\right> + 4*\\lambda*\\left<m\\right>*h + 2*\\lambda*\\left<{m_2\\eta_2}\\right>*h + 2*\\lambda + \\left<\\eta\\right>*h**2 + 2*\\left<m\\right>*h + 1)/(6*\\lambda**2*\\left<\\eta\\right> + 3*\\lambda**2 + 6*\\lambda*\\left<m\\right>*h + 3*\\lambda + h**2))"
      ]
     },
     "metadata": {},
     "output_type": "display_data"
    },
    {
     "data": {
      "text/latex": [
       "$\\displaystyle \\frac{{\\cal E}_{}\\left(h, h, \\lambda, \\lambda\\right)}{{\\cal E}_{123}\\left(h, h, \\lambda, \\lambda\\right)} = \\frac{3 \\lambda^{3} \\left<\\eta\\right> - 2 \\lambda^{3} \\left<\\eta_{ik}^{2}\\right> + 6 \\lambda^{3} \\left<m\\right> h + 3 \\lambda^{3} \\left<{m_2\\eta_2}\\right> h + 2 \\lambda^{3} + 6 \\lambda^{2} \\left<\\eta\\right> h^{2} - \\lambda^{2} \\left<\\eta\\right> - 2 \\lambda^{2} \\left<\\eta_{ik}^{2}\\right> h^{2} - 3 \\lambda^{2} \\left<m_{jh}^2\\right> h^{2} - \\lambda^{2} \\left<{m_2\\eta_2}\\right> h + 5 \\lambda^{2} h^{2} - \\lambda \\left<\\eta\\right> h^{2} - \\lambda \\left<m\\right> h - 2 \\lambda \\left<m_{jh}^2\\right> h^{2} + \\lambda \\left<{m_2\\eta_2}\\right> h^{3} + 2 \\lambda h^{2} + \\lambda + 2 \\left<m\\right> h^{3} + \\left<m_{jh}^2\\right> h^{4} - h^{4}}{\\lambda h \\left(6 \\lambda^{2} \\left<\\eta\\right> + 3 \\lambda^{2} + 6 \\lambda \\left<m\\right> h + 3 \\lambda + h^{2}\\right)}$"
      ],
      "text/plain": [
       "Eq(EFunction_spec_1(h, h, \\lambda, \\lambda, 0, 0, 0)/EFunction_spec_1(h, h, \\lambda, \\lambda, 1, 1, 1), (3*\\lambda**3*\\left<\\eta\\right> - 2*\\lambda**3*\\left<\\eta_{ik}^{2}\\right> + 6*\\lambda**3*\\left<m\\right>*h + 3*\\lambda**3*\\left<{m_2\\eta_2}\\right>*h + 2*\\lambda**3 + 6*\\lambda**2*\\left<\\eta\\right>*h**2 - \\lambda**2*\\left<\\eta\\right> - 2*\\lambda**2*\\left<\\eta_{ik}^{2}\\right>*h**2 - 3*\\lambda**2*\\left<m_{jh}^2\\right>*h**2 - \\lambda**2*\\left<{m_2\\eta_2}\\right>*h + 5*\\lambda**2*h**2 - \\lambda*\\left<\\eta\\right>*h**2 - \\lambda*\\left<m\\right>*h - 2*\\lambda*\\left<m_{jh}^2\\right>*h**2 + \\lambda*\\left<{m_2\\eta_2}\\right>*h**3 + 2*\\lambda*h**2 + \\lambda + 2*\\left<m\\right>*h**3 + \\left<m_{jh}^2\\right>*h**4 - h**4)/(\\lambda*h*(6*\\lambda**2*\\left<\\eta\\right> + 3*\\lambda**2 + 6*\\lambda*\\left<m\\right>*h + 3*\\lambda + h**2)))"
      ]
     },
     "metadata": {},
     "output_type": "display_data"
    },
    {
     "name": "stdout",
     "output_type": "stream",
     "text": [
      "\\frac{{\\cal E}_{12}\\left(h, h, \\lambda, \\lambda\\right)}{{\\cal E}_{123}\\left(h, h, \\lambda, \\lambda\\right)} = \\frac{2 \\lambda^{2} \\left<\\eta\\right> + 7 \\lambda^{2} \\left<m\\right> h + 2 \\lambda^{2} \\left<{m_2\\eta_2}\\right> h + \\lambda^{2} + 4 \\lambda \\left<\\eta\\right> h^{2} - \\lambda \\left<m\\right> h - 2 \\lambda \\left<m_{jh}^2\\right> h^{2} + 4 \\lambda h^{2} + \\lambda + \\left<m\\right> h^{3} + h^{2}}{h \\left(6 \\lambda^{2} \\left<\\eta\\right> + 3 \\lambda^{2} + 6 \\lambda \\left<m\\right> h + 3 \\lambda + h^{2}\\right)}\n",
      "\\frac{{\\cal E}_{1}\\left(h, h, \\lambda, \\lambda\\right)}{{\\cal E}_{123}\\left(h, h, \\lambda, \\lambda\\right)} = \\frac{7 \\lambda^{2} \\left<\\eta\\right> - 2 \\lambda^{2} \\left<\\eta_{ik}^{2}\\right> + 4 \\lambda^{2} - \\lambda \\left<\\eta\\right> + 4 \\lambda \\left<m\\right> h + 2 \\lambda \\left<{m_2\\eta_2}\\right> h + 2 \\lambda + \\left<\\eta\\right> h^{2} + 2 \\left<m\\right> h + 1}{6 \\lambda^{2} \\left<\\eta\\right> + 3 \\lambda^{2} + 6 \\lambda \\left<m\\right> h + 3 \\lambda + h^{2}}\n",
      "\\frac{{\\cal E}_{}\\left(h, h, \\lambda, \\lambda\\right)}{{\\cal E}_{123}\\left(h, h, \\lambda, \\lambda\\right)} = \\frac{3 \\lambda^{3} \\left<\\eta\\right> - 2 \\lambda^{3} \\left<\\eta_{ik}^{2}\\right> + 6 \\lambda^{3} \\left<m\\right> h + 3 \\lambda^{3} \\left<{m_2\\eta_2}\\right> h + 2 \\lambda^{3} + 6 \\lambda^{2} \\left<\\eta\\right> h^{2} - \\lambda^{2} \\left<\\eta\\right> - 2 \\lambda^{2} \\left<\\eta_{ik}^{2}\\right> h^{2} - 3 \\lambda^{2} \\left<m_{jh}^2\\right> h^{2} - \\lambda^{2} \\left<{m_2\\eta_2}\\right> h + 5 \\lambda^{2} h^{2} - \\lambda \\left<\\eta\\right> h^{2} - \\lambda \\left<m\\right> h - 2 \\lambda \\left<m_{jh}^2\\right> h^{2} + \\lambda \\left<{m_2\\eta_2}\\right> h^{3} + 2 \\lambda h^{2} + \\lambda + 2 \\left<m\\right> h^{3} + \\left<m_{jh}^2\\right> h^{4} - h^{4}}{\\lambda h \\left(6 \\lambda^{2} \\left<\\eta\\right> + 3 \\lambda^{2} + 6 \\lambda \\left<m\\right> h + 3 \\lambda + h^{2}\\right)}\n"
     ]
    }
   ],
   "source": [
    "value_system_moments_2_degenerate_spec_1 = []\n",
    "\n",
    "result = (M[:, :-1]).solve(M[:, -1])\n",
    "for item in result:\n",
    "    value_system_moments_2_degenerate_spec_1.append(item.factor())\n",
    "\n",
    "for i in range(3):\n",
    "    display(sp.Eq(vector_system_moments_2_degenerate_spec_1[i], value_system_moments_2_degenerate_spec_1[i]))\n",
    "for i in range(3):\n",
    "    sp.print_latex(sp.Eq(vector_system_moments_2_degenerate_spec_1[i], value_system_moments_2_degenerate_spec_1[i]))"
   ]
  },
  {
   "cell_type": "code",
   "execution_count": 154,
   "metadata": {},
   "outputs": [],
   "source": [
    "subs_to_moments_2_degenerate_spec_1 = dict(zip(vector_system_moments_2_degenerate_spec_1, value_system_moments_2_degenerate_spec_1))"
   ]
  },
  {
   "cell_type": "code",
   "execution_count": 155,
   "metadata": {},
   "outputs": [
    {
     "data": {
      "text/latex": [
       "$\\displaystyle \\left<{m_2\\eta_2}\\right>$"
      ],
      "text/plain": [
       "\\left<{m_2\\eta_2}\\right>"
      ]
     },
     "execution_count": 155,
     "metadata": {},
     "output_type": "execute_result"
    }
   ],
   "source": [
    "expr_m_j_eta_ik_degenerate_spec_1.subs(subs_to_moments_2_degenerate_spec_1).factor()"
   ]
  },
  {
   "cell_type": "code",
   "execution_count": 156,
   "metadata": {},
   "outputs": [
    {
     "data": {
      "text/latex": [
       "$\\displaystyle - \\frac{2 \\left<\\eta\\right>}{\\lambda} + \\frac{\\left<m\\right> h}{\\lambda^{2}} + \\frac{\\left<m_{jh}^2\\right> h^{2}}{2 \\lambda^{2}} - \\frac{h^{2}}{2 \\lambda^{2}}$"
      ],
      "text/plain": [
       "-2*\\left<\\eta\\right>/\\lambda + \\left<m\\right>*h/\\lambda**2 + \\left<m_{jh}^2\\right>*h**2/(2*\\lambda**2) - h**2/(2*\\lambda**2)"
      ]
     },
     "execution_count": 156,
     "metadata": {},
     "output_type": "execute_result"
    }
   ],
   "source": [
    "expr_Q_star_degenerate_spec_1_from_moments_2 = expr_Q_star_degenerate_spec_1.subs(subs_to_moments_2_degenerate_spec_1).factor().expand()\n",
    "expr_Q_star_degenerate_spec_1_from_moments_2"
   ]
  },
  {
   "cell_type": "code",
   "execution_count": 157,
   "metadata": {},
   "outputs": [
    {
     "data": {
      "text/latex": [
       "$\\displaystyle \\left<m\\right> - \\frac{\\left<m\\right>}{\\lambda} - \\frac{\\left<m_{jh}^2\\right> h}{2 \\lambda} + \\frac{h}{2 \\lambda}$"
      ],
      "text/plain": [
       "\\left<m\\right> - \\left<m\\right>/\\lambda - \\left<m_{jh}^2\\right>*h/(2*\\lambda) + h/(2*\\lambda)"
      ]
     },
     "execution_count": 157,
     "metadata": {},
     "output_type": "execute_result"
    }
   ],
   "source": [
    "expr = calc_degenerate_spec_1(expr_m_j_eta_ij_degenerate_spec_1)\n",
    "expr.subs(subs_to_moments_2_degenerate_spec_1).factor().expand()"
   ]
  },
  {
   "cell_type": "code",
   "execution_count": 158,
   "metadata": {},
   "outputs": [
    {
     "data": {
      "text/latex": [
       "$\\displaystyle \\left<m\\right> - \\frac{\\left<m\\right>}{\\lambda} - \\frac{\\left<m_{jh}^2\\right> h}{2 \\lambda} + \\frac{h}{2 \\lambda}$"
      ],
      "text/plain": [
       "\\left<m\\right> - \\left<m\\right>/\\lambda - \\left<m_{jh}^2\\right>*h/(2*\\lambda) + h/(2*\\lambda)"
      ]
     },
     "execution_count": 158,
     "metadata": {},
     "output_type": "execute_result"
    }
   ],
   "source": [
    "expr = calc_degenerate_spec_1(Z3_degenerate_expr.diff(h_i, l_ik)/(2*Z3_degenerate_expr))\n",
    "expr.subs(subs_to_moments_2_degenerate_spec_1).factor().expand()"
   ]
  },
  {
   "cell_type": "markdown",
   "metadata": {},
   "source": [
    "#### Проверка"
   ]
  },
  {
   "cell_type": "code",
   "execution_count": 159,
   "metadata": {},
   "outputs": [
    {
     "name": "stdout",
     "output_type": "stream",
     "text": [
      "0.5642439350058132\n",
      "0.5642439350057613\n",
      "\n",
      "0.564243935005718\n",
      "0.5642439350057613\n",
      "\n",
      "0.6940680018488335\n",
      "0.6940680018488528\n",
      "\n",
      "0.6940680018488339\n",
      "0.6940680018488528\n",
      "\n"
     ]
    },
    {
     "name": "stderr",
     "output_type": "stream",
     "text": [
      "/tmp/ipykernel_2837517/3652816044.py:4: IntegrationWarning: The occurrence of roundoff error is detected, which prevents \n",
      "  the requested tolerance from being achieved.  The error may be \n",
      "  underestimated.\n",
      "  return 2*np.pi*quad(func, -1, 1)[0]\n"
     ]
    }
   ],
   "source": [
    "to_cF3 = lambda *args: cF3Function(*args[:4])\n",
    "subs = {FFunction_spec_1: FFunction, EFunction_spec_1: EFunction}\n",
    "\n",
    "f_expr_m_i_degenerate_spec_1 = sp.lambdify((h, l), expr_m_i_degenerate_spec_1.subs(subs), module)\n",
    "f_expr_m_j_degenerate_spec_1 = sp.lambdify((h, l), expr_m_j_degenerate_spec_1.subs(subs), module)\n",
    "f_expr_eta_ij_degenerate_spec_1 = sp.lambdify((h, l), expr_eta_ij_degenerate_spec_1.subs(subs), module)\n",
    "f_expr_eta_ik_degenerate_spec_1 = sp.lambdify((h, l), expr_eta_ik_degenerate_spec_1.subs(subs), module)\n",
    "\n",
    "args = 1, 2.\n",
    "compare_exprs(\n",
    "    calc_numerical_diffs(v_raw_Z3, [args[0], args[0], args[1], args[1]])/(np.asarray([2, 1, 2, 1])*v_raw_Z3([args[0], args[0], args[1], args[1]])),\n",
    "    calc_exprs([f_expr_m_i_degenerate_spec_1, f_expr_m_j_degenerate_spec_1, f_expr_eta_ij_degenerate_spec_1, f_expr_eta_ik_degenerate_spec_1], args)\n",
    ")"
   ]
  },
  {
   "cell_type": "code",
   "execution_count": 160,
   "metadata": {},
   "outputs": [
    {
     "name": "stdout",
     "output_type": "stream",
     "text": [
      "1216.3410560328693\n",
      "1216.3410560328693\n",
      "\n",
      "1207.779157186636\n",
      "1207.779157186636\n",
      "\n"
     ]
    }
   ],
   "source": [
    "args = 1, 2.\n",
    "moments = f_expr_m_i_degenerate_spec_1(*args), f_expr_eta_ij_degenerate_spec_1(*args),\n",
    "\n",
    "for i in range(2):\n",
    "    left = vector_system_moments_degenerate_spec_1[i].subs(subs)\n",
    "    f_left = sp.lambdify((h, l, m, eta), left, module)\n",
    "    print(f_left(*args, *moments))\n",
    "\n",
    "    right = vector_system_moments_degenerate_spec_1[i].subs(subs)\n",
    "    f_right = sp.lambdify((h, l, m, eta), right, module)\n",
    "    print(f_right(*args, *moments))\n",
    "\n",
    "    print()"
   ]
  },
  {
   "cell_type": "code",
   "execution_count": 161,
   "metadata": {},
   "outputs": [
    {
     "name": "stdout",
     "output_type": "stream",
     "text": [
      "-0.11260015449087857\n",
      "-0.11259600721321594\n",
      "-0.11259610677461751\n"
     ]
    }
   ],
   "source": [
    "f_expr_Q_star_degenerate_spec_1 = sp.lambdify((h, l, m, eta), expr_Q_star_degenerate_spec_1.factor().subs(subs), module)\n",
    "f_expr_Q_star_degenerate_spec_1_from_moments_2 = sp.lambdify((h, l, m, eta, m_j_par_2), expr_Q_star_degenerate_spec_1_from_moments_2.subs(subs), module)\n",
    "f_expr_m_par_2_degenerate_spec_1 = sp.lambdify((h, l, m, eta), expr_m_j_par_2_degenerate_spec_1.subs(subs), module)\n",
    "\n",
    "args = 49.03486660449675, 0.510352248405618\n",
    "moments = f_expr_m_i_degenerate_spec_1(*args), f_expr_eta_ij_degenerate_spec_1(*args),\n",
    "\n",
    "Q_star = nd.directionaldiff(v_raw_Z3, [args[0], args[0], args[1], args[1]], [0, 0, 1, 0], n=2)\n",
    "Q_star /= 2*v_raw_Z3([args[0], args[0], args[1], args[1]])\n",
    "Q_star -= f_expr_eta_ik_degenerate_spec_1(*args) + 1\n",
    "\n",
    "print(Q_star)\n",
    "print(f_expr_Q_star_degenerate_spec_1(*args, *moments))\n",
    "print(f_expr_Q_star_degenerate_spec_1_from_moments_2(*args, *moments, f_expr_m_par_2_degenerate_spec_1(*args, *moments)))"
   ]
  },
  {
   "cell_type": "markdown",
   "metadata": {},
   "source": [
    "## Решение обратной задачи"
   ]
  },
  {
   "cell_type": "markdown",
   "metadata": {},
   "source": [
    "### Определения"
   ]
  },
  {
   "cell_type": "code",
   "execution_count": 185,
   "metadata": {},
   "outputs": [
    {
     "data": {
      "text/plain": [
       "<module 'Z1' from '/home/daiwery/projects/Z-analytic/Z1.py'>"
      ]
     },
     "execution_count": 185,
     "metadata": {},
     "output_type": "execute_result"
    }
   ],
   "source": [
    "import Z3 as Z3_module\n",
    "import Z2 as Z2_module\n",
    "import Z1 as Z1_module\n",
    "import datlib\n",
    "\n",
    "from importlib import reload\n",
    "reload(Z3_module)\n",
    "reload(Z2_module)\n",
    "reload(Z1_module)"
   ]
  },
  {
   "cell_type": "code",
   "execution_count": 186,
   "metadata": {},
   "outputs": [
    {
     "name": "stdout",
     "output_type": "stream",
     "text": [
      "(0.17437490339959455, 0.19934053447485792, 0.6954488725334109, 1.1710874716663446)\n",
      "(0.09999999999999432, 0.10000000000001119, 0.2999999999999996, 0.400000000000003)\n"
     ]
    },
    {
     "data": {
      "text/plain": [
       "-0.8487632123453477"
      ]
     },
     "execution_count": 186,
     "metadata": {},
     "output_type": "execute_result"
    }
   ],
   "source": [
    "coeffs = Z3_module.find_coeffs(.1, .3, .4)\n",
    "\n",
    "print(coeffs)\n",
    "moments = Z3_module.calc_m_i(*coeffs), Z3_module.calc_m_j(*coeffs), Z3_module.calc_eta_ij(*coeffs), Z3_module.calc_eta_ik(*coeffs)\n",
    "print(moments)\n",
    "Z3_module.calc_Q_star(*moments, *coeffs) "
   ]
  },
  {
   "cell_type": "code",
   "execution_count": 187,
   "metadata": {},
   "outputs": [
    {
     "data": {
      "text/plain": [
       "(0.1743749033995869, 0.19934053447486996, 0.6954488725334101, 1.17108747166636)"
      ]
     },
     "execution_count": 187,
     "metadata": {},
     "output_type": "execute_result"
    }
   ],
   "source": [
    "Z3_module.find_coeffs_from_Q_star_single(.1, .3, -0.8487632123453481)"
   ]
  },
  {
   "cell_type": "code",
   "execution_count": 188,
   "metadata": {},
   "outputs": [
    {
     "name": "stdout",
     "output_type": "stream",
     "text": [
      "19.8 μs ± 11.6 ns per loop (mean ± std. dev. of 7 runs, 100,000 loops each)\n"
     ]
    }
   ],
   "source": [
    "%timeit Z3_module.find_coeffs(.1, .3, .4)"
   ]
  },
  {
   "cell_type": "code",
   "execution_count": 189,
   "metadata": {},
   "outputs": [
    {
     "name": "stdout",
     "output_type": "stream",
     "text": [
      "27.7 μs ± 52.4 ns per loop (mean ± std. dev. of 7 runs, 10,000 loops each)\n"
     ]
    }
   ],
   "source": [
    "%timeit Z3_module.find_coeffs_from_Q_star_single(.1, .3, -0.8487632123453481)"
   ]
  },
  {
   "cell_type": "markdown",
   "metadata": {},
   "source": [
    "### Полностью симметричный случай"
   ]
  },
  {
   "cell_type": "code",
   "execution_count": 190,
   "metadata": {},
   "outputs": [],
   "source": [
    "data_m = np.linspace(.001, .99, 100)\n",
    "data_zeta = np.linspace(.001, .99, 100)\n",
    "\n",
    "data_m, data_zeta = np.meshgrid(data_m, data_zeta)\n",
    "\n",
    "data_eta = data_zeta + (1-data_zeta)*data_m**2"
   ]
  },
  {
   "cell_type": "code",
   "execution_count": 191,
   "metadata": {},
   "outputs": [],
   "source": [
    "data_Z2_h, data_Z2_l = Z2_module.find_coeffs(data_m, data_eta)\n",
    "data_Z2_upsilon = Z2_module.calc_upsilon(data_m, data_eta, data_Z2_h, data_Z2_l)\n",
    "data_eta2 = Z2_module.calc_eta2(data_m, data_eta, data_Z2_h, data_Z2_l)\n",
    "data_Z2_m_par_2 = Z2_module.calc_m_par_2(data_m, data_eta, data_Z2_h, data_Z2_l)"
   ]
  },
  {
   "cell_type": "code",
   "execution_count": 192,
   "metadata": {},
   "outputs": [],
   "source": [
    "data_Z3_h, data_Z3_l = Z3_module.find_coeffs_all_symmetrical(data_m, data_eta)\n",
    "data_Q_star = Z3_module.calc_Q_star(data_m, data_m, data_eta, data_eta, data_Z3_h, data_Z3_h, data_Z3_l, data_Z3_l)\n",
    "data_Q = data_Q_star - data_eta2 + 1\n",
    "data_Z3_upsilon = .5*(1-Z3_module.calc_m_j_eta_ij(data_m, data_m, data_eta, data_eta, data_Z3_h, data_Z3_h, data_Z3_l, data_Z3_l)/data_m)\n",
    "data_Z3_m_par_2 = Z3_module.calc_m_j_par_2(data_m, data_m, data_eta, data_eta, data_Z3_h, data_Z3_h, data_Z3_l, data_Z3_l)"
   ]
  },
  {
   "cell_type": "code",
   "execution_count": 193,
   "metadata": {},
   "outputs": [],
   "source": [
    "datlib.np2dat(\n",
    "    \"data/Z3_all_symmetrical.dat\", \n",
    "    \"m eta zeta Z2_h Z2_l eta2 Z2_upsilon Z2_m_par_2 Z3_h Z3_l Z3_upsilon Z3_m_par_2 Q_star Q rho_h rho_l\".split(), \n",
    "    np.asarray([\n",
    "        data_m, data_eta, data_zeta, data_Z2_h, data_Z2_l, \n",
    "        data_eta2, data_Z2_upsilon, data_Z2_m_par_2,\n",
    "        data_Z3_h, data_Z3_l, data_Z3_upsilon, data_Z3_m_par_2, data_Q_star,\n",
    "        data_Q, data_Z3_h/data_Z2_h, data_Z3_l/data_Z2_l\n",
    "    ])\n",
    ")"
   ]
  },
  {
   "cell_type": "markdown",
   "metadata": {},
   "source": [
    "### Общий случай"
   ]
  },
  {
   "cell_type": "code",
   "execution_count": 194,
   "metadata": {},
   "outputs": [],
   "source": [
    "N = 128\n",
    "left, right = 0, 1\n",
    "\n",
    "data_m = np.linspace(left, right, N)\n",
    "data_eta_ij = np.linspace(left, right, N)\n",
    "data_eta_ik = np.linspace(left, right, N)\n",
    "\n",
    "data_m, data_eta_ij, data_eta_ik = np.meshgrid(data_m, data_eta_ij, data_eta_ik)\n",
    "moments = data_m, data_eta_ij, data_eta_ik"
   ]
  },
  {
   "cell_type": "code",
   "execution_count": 195,
   "metadata": {},
   "outputs": [],
   "source": [
    "data_Z2_h, data_Z2_l = Z2_module.find_coeffs(data_m, data_eta_ij)\n",
    "data_Z2_upsilon = Z2_module.calc_upsilon(data_m, data_eta_ij, data_Z2_h, data_Z2_l)\n",
    "data_eta2 = Z2_module.calc_eta2(data_m, data_eta_ij, data_Z2_h, data_Z2_l)"
   ]
  },
  {
   "cell_type": "code",
   "execution_count": 196,
   "metadata": {},
   "outputs": [],
   "source": [
    "data_h_i, data_h_j, data_l_ij, data_l_ik = Z3_module.find_coeffs(*moments)\n",
    "coeffs = data_h_i, data_h_j, data_l_ij, data_l_ik"
   ]
  },
  {
   "cell_type": "code",
   "execution_count": 197,
   "metadata": {},
   "outputs": [],
   "source": [
    "data_Q_star = Z3_module.calc_Q_star(data_m, *moments, *coeffs)\n",
    "data_Q = data_Q_star - data_eta2 + 1\n",
    "data_m_j_eta_ij = Z3_module.calc_m_j_eta_ij(data_m, *moments, *coeffs)\n",
    "data_m_j_eta_ij[np.abs(data_m_j_eta_ij) > 1] = np.nan\n",
    "data_Z3_upsilon = .5*(1-data_m_j_eta_ij/data_m)"
   ]
  },
  {
   "cell_type": "code",
   "execution_count": 198,
   "metadata": {},
   "outputs": [],
   "source": [
    "def write_frame(file, name, array):  \n",
    "    file.write(f\"SCALARS {name} float 1\\n\")\n",
    "    file.write(\"LOOKUP_TABLE default\\n\")\n",
    "    for i in range(array.size):\n",
    "        value = array.flat[i]\n",
    "        # if np.isnan(value):\n",
    "            # value = 0\n",
    "        file.write(f\"{value}\\n\")\n",
    "\n",
    "file = open(\"data/Z3.vtk\", \"w\")\n",
    "file.write(\"# vtk DataFile Version 2.0\\n\")\n",
    "file.write(\"Z3_coeffs\\n\")\n",
    "file.write(\"ASCII\\n\")\n",
    "file.write(\"DATASET STRUCTURED_POINTS\\n\")\n",
    "file.write(f\"DIMENSIONS {N} {N} {N}\\n\")\n",
    "file.write(f\"SPACING {(right-left)/(N-1)} {(right-left)/(N-1)} {(right-left)/(N-1)}\\n\")\n",
    "file.write(f\"ORIGIN {left} {left} {left}\\n\")\n",
    "file.write(f\"POINT_DATA {N**3}\\n\")\n",
    "\n",
    "write_frame(file, \"h_i\", data_h_i.T)\n",
    "write_frame(file, \"h_j\", data_h_j.T)\n",
    "write_frame(file, \"l_ij\", data_l_ij.T)\n",
    "write_frame(file, \"l_ik\", data_l_ik.T)\n",
    "write_frame(file, \"err_abs\", (np.abs(data_Z2_upsilon-data_Z3_upsilon)).T)\n",
    "write_frame(file, \"err_rel\", (data_Z2_upsilon/data_Z3_upsilon).T)\n",
    "\n",
    "file.close()"
   ]
  }
 ],
 "metadata": {
  "kernelspec": {
   "display_name": "Python 3",
   "language": "python",
   "name": "python3"
  },
  "language_info": {
   "codemirror_mode": {
    "name": "ipython",
    "version": 3
   },
   "file_extension": ".py",
   "mimetype": "text/x-python",
   "name": "python",
   "nbconvert_exporter": "python",
   "pygments_lexer": "ipython3",
   "version": "3.11.2"
  }
 },
 "nbformat": 4,
 "nbformat_minor": 2
}
