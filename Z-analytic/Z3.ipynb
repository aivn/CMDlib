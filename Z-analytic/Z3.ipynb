{
 "cells": [
  {
   "cell_type": "code",
   "execution_count": null,
   "metadata": {},
   "outputs": [],
   "source": [
    "import sys\n",
    "sys.path.append(\"python/\")\n",
    "\n",
    "import sympy as sp\n",
    "import numdifftools as nd\n",
    "import numpy as np\n",
    "import scipy.optimize as opt\n",
    "\n",
    "import datlib\n",
    "import symbase\n",
    "import Z2sym\n",
    "import Z3sym\n",
    "import Z3num\n",
    "import Z2num"
   ]
  },
  {
   "cell_type": "markdown",
   "metadata": {},
   "source": [
    "# Ферромагнетик в симметричном случае"
   ]
  },
  {
   "cell_type": "markdown",
   "metadata": {},
   "source": [
    "## Выражение для $\\cal  Z^{(3)}$"
   ]
  },
  {
   "cell_type": "markdown",
   "metadata": {},
   "source": [
    "### Аргументы"
   ]
  },
  {
   "cell_type": "code",
   "execution_count": null,
   "metadata": {},
   "outputs": [],
   "source": [
    "hi, hj, lij, lik = Z3sym.hi, Z3sym.hj, Z3sym.lij, Z3sym.lik \n",
    "s1, s2, s3 = Z3sym.s1, Z3sym.s2, Z3sym.s3\n",
    "x, t = sp.symbols(\"x t\")"
   ]
  },
  {
   "cell_type": "code",
   "execution_count": null,
   "metadata": {},
   "outputs": [],
   "source": [
    "arg_exp = hj*x\n",
    "arg_exp = arg_exp.replace(\n",
    "    x, sp.solve(sp.sqrt(hi**2+lij**2+2*hi*lij*x)-t, x)[0]\n",
    ").expand()\n",
    "arg_exp += (s1+s2)*t + s1*s2*lik\n",
    "expr_limit = hi+s3*lij\n",
    "arg_F2 = (t+(s1+s2)*lik)/sp.sqrt(2*lik)\n",
    "\n",
    "arg_exp = arg_exp.replace(t, t-(s1+s2)*lij*hi/hj).expand()\n",
    "arg_F2 = arg_F2.replace(t, t-(s1+s2)*lij*hi/hj).expand()\n",
    "expr_limit += (s1+s2)*lij*hi/hj\n",
    "\n",
    "arg_exp = arg_exp.replace(t, t*sp.sqrt(2*lij*hi/hj)).expand()\n",
    "arg_F2 = arg_F2.replace(t, t*sp.sqrt(2*lij*hi/hj)).expand()\n",
    "expr_limit /= sp.sqrt(2*lij*hi/hj)\n",
    "\n",
    "display(arg_exp)\n",
    "display(arg_F2)\n",
    "display(expr_limit)"
   ]
  },
  {
   "cell_type": "code",
   "execution_count": null,
   "metadata": {},
   "outputs": [],
   "source": [
    "arg_exp -= t**2\n",
    "arg_exp += expr_limit**2\n",
    "arg_exp = arg_exp.expand()\n",
    "display(arg_exp)"
   ]
  },
  {
   "cell_type": "markdown",
   "metadata": {},
   "source": [
    "### Производные $F^{(3)}$"
   ]
  },
  {
   "cell_type": "code",
   "execution_count": null,
   "metadata": {},
   "outputs": [],
   "source": [
    "t, x, a, b = sp.symbols(\"t x a b\")"
   ]
  },
  {
   "cell_type": "code",
   "execution_count": null,
   "metadata": {},
   "outputs": [],
   "source": [
    "Z2sym.F2(a*t+b).diff(t).expand()"
   ]
  },
  {
   "cell_type": "code",
   "execution_count": null,
   "metadata": {},
   "outputs": [],
   "source": [
    "def get_I2_n(x, n):\n",
    "    \"\"\"I^{(2)}_n(x)\"\"\"\n",
    "    _expr_n_0 = 1/sp.sqrt(a)*Z2sym.F2(sp.sqrt(a)*x)*sp.exp(x**2*(a-1))\n",
    "    _expr_n_1 = 1/(2*a)*sp.exp(-x**2)*(sp.exp(x**2*a)-1)\n",
    "\n",
    "    k = n // 2\n",
    "    if n % 2 == 0:\n",
    "        return _expr_n_0.diff(a, k).replace(a, 1).expand()\n",
    "    else:\n",
    "        return _expr_n_1.diff(a, k).replace(a, 1).expand()"
   ]
  },
  {
   "cell_type": "code",
   "execution_count": null,
   "metadata": {},
   "outputs": [],
   "source": [
    "get_I2_n(x, 4)"
   ]
  },
  {
   "cell_type": "code",
   "execution_count": null,
   "metadata": {},
   "outputs": [],
   "source": [
    "class F3_dummy(sp.Function):\n",
    "    def _latex(self, printer, exp=None):\n",
    "        arg1, arg2, arg3 = list(map(printer.doprint, self.args))\n",
    "        return \"F_{dummy}^{(3)}\"+f\"\\\\left({arg1} \\, | \\, {arg2}, {arg3} \\\\right)\" "
   ]
  },
  {
   "cell_type": "code",
   "execution_count": null,
   "metadata": {},
   "outputs": [],
   "source": [
    "def get_I3_n(x, a, b, n):\n",
    "    \"\"\"I^{(3)}_n(x, a, b)\"\"\"\n",
    "    if a == 1:\n",
    "        if b == 0:\n",
    "            result = x**(n+1)*Z2sym.F2(x)\n",
    "            result -= get_I2_n(x, n+1)\n",
    "            return result/(n+1)\n",
    "\n",
    "        # b != 0\n",
    "        result = -x**n*Z2sym.F2(x+b)\n",
    "        result += get_I2_n(x, n)\n",
    "\n",
    "        if n == 0:\n",
    "            result += sp.exp(-x**2)*Z2sym.F2(b)\n",
    "        if n != 0:\n",
    "            result += n*get_I3_n(x, a, b, n-1)\n",
    "\n",
    "        return result/(2*b)\n",
    "\n",
    "    # a != 1, b != 0\n",
    "    if n == 0:\n",
    "        return F3_dummy(x, a, b)\n",
    "\n",
    "    result = x**(n-1)*Z2sym.F2(a*x+b)\n",
    "    result -= a*get_I2_n(x, n-1)\n",
    "    result += 2*a*b*get_I3_n(x, a, b, n-1)\n",
    "\n",
    "    if n == 1:\n",
    "        result -= sp.exp(-x**2)*Z2sym.F2(b)\n",
    "    if n != 1:\n",
    "        result -= (n-1)*get_I3_n(x, a, b, n-2)\n",
    "    \n",
    "    return result/(2*(1-a**2))"
   ]
  },
  {
   "cell_type": "code",
   "execution_count": null,
   "metadata": {},
   "outputs": [],
   "source": [
    "get_I3_n(x, a, b, 1).expand()"
   ]
  },
  {
   "cell_type": "code",
   "execution_count": null,
   "metadata": {},
   "outputs": [],
   "source": [
    "class F3(sp.Function):\n",
    "    def _latex(self, printer, exp=None):\n",
    "        arg1, arg2, arg3 = list(map(printer.doprint, self.args))\n",
    "        return \"F^{(3)}\"+f\"\\\\left({arg1} \\, | \\, {arg2}, {arg3} \\\\right)\" \n",
    "\n",
    "    def fdiff(self, argindex=1):\n",
    "        if argindex == 1:\n",
    "            x, a, b = self.args\n",
    "            return Z2sym.F2(a*x+b)-2*x*F3(*self.args)\n",
    "        \n",
    "        t, x, a, b = sp.symbols(\"t x a b\")\n",
    "        expr = Z2sym.F2(a*t+b).diff([a, b][argindex-2]).expand()\n",
    "        expr = sp.collect(expr, [Z2sym.F2(a*t+b)], evaluate=False)\n",
    "\n",
    "        I3 = expr[Z2sym.F2(a*t+b)]\n",
    "        I2 = expr[1]\n",
    "\n",
    "        expr = 0\n",
    "        I3 = sp.Poly(I3, t).as_dict()\n",
    "        for key, item in I3.items():\n",
    "            expr += item*get_I3_n(x, a, b, key[0])\n",
    "        I2 = sp.Poly(I2, t).as_dict()\n",
    "        for key, item in I2.items():\n",
    "            expr += item*get_I2_n(x, key[0])\n",
    "\n",
    "        subs = dict(zip([x, a, b], self.args))\n",
    "        subs.update({F3_dummy(x, a, b): F3(*self.args)})\n",
    "        return expr.subs(subs) "
   ]
  },
  {
   "cell_type": "code",
   "execution_count": null,
   "metadata": {},
   "outputs": [],
   "source": [
    "F3(x, a, b).diff(b)"
   ]
  },
  {
   "cell_type": "code",
   "execution_count": null,
   "metadata": {},
   "outputs": [],
   "source": [
    "class F3_degenerate(sp.Function):\n",
    "    def _latex(self, printer, exp=None):\n",
    "        arg1, arg2, arg3, arg4, arg5 = list(map(printer.doprint, self.args))\n",
    "        return \"F_{deg,\"+f\"{arg4},{arg5}\"+\"}^{(3)}\"+f\"\\\\left({arg1} \\, | \\, {arg2}, {arg3} \\\\right)\" \n",
    "    \n",
    "    def fdiff(self, argindex=1):\n",
    "        if argindex == 1:\n",
    "            x, a, b = sp.symbols(\"x a b\")\n",
    "            subs = dict(zip([x, a, b], self.args[:3]))\n",
    "            expr = Z2sym.F2(a*x+b).diff(a, self.args[3]).diff(b, self.args[4])\n",
    "\n",
    "            x, a, b, _, _ = self.args\n",
    "            return expr.subs(subs) -2*x*F3_degenerate(*self.args)\n",
    "        \n",
    "        args = list(self.args)\n",
    "        args[argindex+1] += 1\n",
    "        return F3_degenerate(*args)\n",
    "    \n",
    "\n",
    "def evaluate_F3_degenerate(expr):\n",
    "    def evaluate(*args):\n",
    "        t, x, a, b = sp.symbols(\"t x a b\")\n",
    "        expr = Z2sym.F2(a*t+b).diff(a, args[3])\n",
    "        expr = expr.diff(b, args[4]).expand()\n",
    "        expr = sp.collect(expr, [Z2sym.F2(a*t+b)], evaluate=False)\n",
    "        \n",
    "        I3 = expr.get(Z2sym.F2(a*t+b), sp.Integer(0)).subs({a: 1, b: 0})\n",
    "        I2 = expr.get(1, sp.Integer(0)).subs({a: 1, b: 0})\n",
    "\n",
    "        expr = 0\n",
    "        I3 = sp.Poly(I3, t).as_dict()\n",
    "        for key, item in I3.items():\n",
    "            expr += item*get_I3_n(x, 1, 0, key[0])\n",
    "        I2 = sp.Poly(I2, t).as_dict()\n",
    "        for key, item in I2.items():\n",
    "            expr += item*get_I2_n(x, key[0])\n",
    "\n",
    "        subs = dict(zip([x, a, b], args[:3]))\n",
    "        return expr.subs(subs) \n",
    "    \n",
    "    return expr.replace(F3_degenerate, evaluate)"
   ]
  },
  {
   "cell_type": "code",
   "execution_count": null,
   "metadata": {},
   "outputs": [],
   "source": [
    "expr = F3_degenerate(x, a, b, 0, 0).diff(x, a)\n",
    "expr = evaluate_F3_degenerate(expr)\n",
    "\n",
    "expr"
   ]
  },
  {
   "cell_type": "markdown",
   "metadata": {},
   "source": [
    "### Производные $\\cal F^{(3)}$"
   ]
  },
  {
   "cell_type": "code",
   "execution_count": null,
   "metadata": {},
   "outputs": [],
   "source": [
    "arg_x = (hi+s3*lij+(s1+s2)*hi/hj*lij)/sp.sqrt(2*hi/hj*lij)\n",
    "arg_a = sp.sqrt(hi/hj*lij)/sp.sqrt(lik)\n",
    "arg_b = (s1+s2)/sp.sqrt(2*lik)*(lik-hi/hj*lij)\n",
    "arg_expr = s3*hj+s1*s2*lik+(s1+s2)*(hi+s3*lij)"
   ]
  },
  {
   "cell_type": "code",
   "execution_count": null,
   "metadata": {},
   "outputs": [],
   "source": [
    "expr = arg_x*arg_a+arg_b\n",
    "expr.factor()"
   ]
  },
  {
   "cell_type": "code",
   "execution_count": null,
   "metadata": {},
   "outputs": [],
   "source": [
    "expr = arg_expr-arg_x**2\n",
    "expr = expr.expand()\n",
    "expr"
   ]
  },
  {
   "cell_type": "code",
   "execution_count": null,
   "metadata": {},
   "outputs": [],
   "source": [
    "_sigmas_expr_E = sp.exp(arg_expr).expand()\n",
    "_sigmas_expr_F = Z2sym.F2(arg_x).expand()\n",
    "_sigmas_expr_FTilde = Z2sym.F2(arg_x*arg_a+arg_b).expand()\n",
    "_sigmas_expr_cF3 = F3(arg_x, arg_a, arg_b).expand()\n",
    "\n",
    "_sigmas_terms = {\n",
    "    _sigmas_expr_E*_sigmas_expr_cF3: sp.Dummy(),\n",
    "    _sigmas_expr_E*_sigmas_expr_F: sp.Dummy(),\n",
    "    _sigmas_expr_E*_sigmas_expr_FTilde: sp.Dummy(),\n",
    "    _sigmas_expr_E: sp.Dummy()\n",
    "}"
   ]
  },
  {
   "cell_type": "code",
   "execution_count": null,
   "metadata": {},
   "outputs": [],
   "source": [
    "class Z3SigmasFunctionBase(sp.Function):\n",
    "    def __init__(self, name, *args, **kwargs):\n",
    "        self.name = name\n",
    "\n",
    "    def _latex(self, printer, exp=None):\n",
    "        args = list(map(printer.doprint, self.args[:4]))\n",
    "        args = f\"\\\\left({args[0]}, {args[1]}, {args[2]}, {args[3]}\\\\right)\"\n",
    "\n",
    "        indexes = \"\"\n",
    "        for i, item in enumerate(self.args[4:]):\n",
    "            if item:\n",
    "                indexes += str(i+1)\n",
    "        name = f\"{self.name}\"+\"_{\" + indexes + \"}\"\n",
    "\n",
    "        if exp is None:\n",
    "            return name+args\n",
    "        else:\n",
    "            exp = printer.doprint(exp)\n",
    "            return f\"{name}^{exp}\"+args\n",
    "\n",
    "    def get_sigmas_factor(self):\n",
    "        factor = 1\n",
    "        if self.args[4]:\n",
    "            factor *= s1\n",
    "        if self.args[5]:\n",
    "            factor *= s2\n",
    "        if self.args[6]:\n",
    "            factor *= s3\n",
    "        return factor"
   ]
  },
  {
   "cell_type": "code",
   "execution_count": null,
   "metadata": {},
   "outputs": [],
   "source": [
    "class EFunction(Z3SigmasFunctionBase):\n",
    "    def __init__(self, *args, **kwargs):\n",
    "        super().__init__(\"{\\\\cal E}\", *args, **kwargs)\n",
    "\n",
    "    def fdiff(self, argindex=1):\n",
    "        factor = self.get_sigmas_factor()\n",
    "        expr = (factor*_sigmas_expr_E).diff([hi, hj, lij, lik][argindex-1])\n",
    "        terms = symbase.collect_sigmas(expr, _sigmas_terms, [s1, s2, s3])\n",
    "\n",
    "        subs = dict(zip([hi, hj, lij, lik], self.args[:4]))\n",
    "\n",
    "        result = 0\n",
    "        for key, item in terms[_sigmas_expr_E].items():\n",
    "            result += item.subs(subs)*EFunction(*self.args[:4], *key)\n",
    "\n",
    "        return result\n",
    "\n",
    "    @classmethod\n",
    "    def eval(cls, *args):\n",
    "        if (not args[4]) and args[5]:\n",
    "            return EFunction(*args[:4], 1, 0, args[-1])\n",
    "\n",
    "    def _eval_rewrite(self, rule, args, **hints):\n",
    "        args_subs = dict(zip([hi, hj, lij, lik], self.args[:-3]))\n",
    "        if rule == sp.exp:\n",
    "            _sigmas_expr = self.get_sigmas_factor()*_sigmas_expr_E\n",
    "            result = 0\n",
    "            for is1 in Z3sym.SIGMAS:\n",
    "                for is2 in Z3sym.SIGMAS:\n",
    "                    for is3 in Z3sym.SIGMAS:\n",
    "                        is_subs = dict(zip([s1, s2, s3], [is1, is2, is3]))\n",
    "                        result += _sigmas_expr.subs(args_subs).subs(is_subs)\n",
    "            return result"
   ]
  },
  {
   "cell_type": "code",
   "execution_count": null,
   "metadata": {},
   "outputs": [],
   "source": [
    "display(EFunction(hi, hj, lij, lik, 1, 1, 1).diff(hi).rewrite(sp.exp)-EFunction(hi, hj, lij, lik, 1, 1, 1).rewrite(sp.exp).diff(hi))"
   ]
  },
  {
   "cell_type": "code",
   "execution_count": null,
   "metadata": {},
   "outputs": [],
   "source": [
    "class FFunction(Z3SigmasFunctionBase):\n",
    "    def __init__(self, *args, **kwargs):\n",
    "        super().__init__(\"{\\\\cal F}\", *args, **kwargs)\n",
    "\n",
    "    def fdiff(self, argindex=1):\n",
    "        factor = self.get_sigmas_factor()\n",
    "        expr = (factor*_sigmas_expr_E*_sigmas_expr_F).diff([hi, hj, lij, lik][argindex-1])\n",
    "        terms = symbase.collect_sigmas(expr, _sigmas_terms, [s1, s2, s3])\n",
    "\n",
    "        subs = dict(zip([hi, hj, lij, lik], self.args[:4]))\n",
    "\n",
    "        result = 0\n",
    "        if _sigmas_expr_E in terms:\n",
    "            for key, item in terms[_sigmas_expr_E].items():\n",
    "                result += item.subs(subs)*EFunction(*self.args[:4], *key)\n",
    "\n",
    "        for key, item in terms[_sigmas_expr_E*_sigmas_expr_F].items():\n",
    "            result += item.subs(subs)*FFunction(*self.args[:4], *key)\n",
    "\n",
    "        return result\n",
    "\n",
    "    @classmethod\n",
    "    def eval(cls, *args):\n",
    "        if (not args[4]) and args[5]:\n",
    "            return FFunction(*args[:4], 1, 0, args[-1])\n",
    "\n",
    "    def _eval_rewrite(self, rule, args, **hints):\n",
    "        args_subs = dict(zip([hi, hj, lij, lik], self.args[:-3]))\n",
    "        if rule == sp.exp:\n",
    "            _sigmas_expr = self.get_sigmas_factor()*_sigmas_expr_E*_sigmas_expr_F\n",
    "            result = 0\n",
    "            for is1 in Z3sym.SIGMAS:\n",
    "                for is2 in Z3sym.SIGMAS:\n",
    "                    for is3 in Z3sym.SIGMAS:\n",
    "                        is_subs = dict(zip([s1, s2, s3], [is1, is2, is3]))\n",
    "                        result += _sigmas_expr.subs(args_subs).subs(is_subs)\n",
    "            return result"
   ]
  },
  {
   "cell_type": "code",
   "execution_count": null,
   "metadata": {},
   "outputs": [],
   "source": [
    "display(FFunction(hi, hj, lij, lik, 1, 1, 1).diff(lik).rewrite(sp.exp)-FFunction(hi, hj, lij, lik, 1, 1, 1).rewrite(sp.exp).diff(lik))"
   ]
  },
  {
   "cell_type": "code",
   "execution_count": null,
   "metadata": {},
   "outputs": [],
   "source": [
    "class FTildeFunction(Z3SigmasFunctionBase):\n",
    "    def __init__(self, *args, **kwargs):\n",
    "        super().__init__( \"\\\\tilde{\\\\cal F}\", *args, **kwargs)\n",
    "\n",
    "    def fdiff(self, argindex=1):\n",
    "        factor = self.get_sigmas_factor()\n",
    "        expr = (factor*_sigmas_expr_E*_sigmas_expr_FTilde).diff([hi, hj, lij, lik][argindex-1])\n",
    "        terms = symbase.collect_sigmas(expr, _sigmas_terms, [s1, s2, s3])\n",
    "\n",
    "        subs = dict(zip([hi, hj, lij, lik], self.args[:4]))\n",
    "\n",
    "        result = 0\n",
    "        if _sigmas_expr_E in terms:\n",
    "            for key, item in terms[_sigmas_expr_E].items():\n",
    "                result += item.subs(subs)*EFunction(*self.args[:4], *key)\n",
    "\n",
    "        for key, item in terms[_sigmas_expr_E*_sigmas_expr_FTilde].items():\n",
    "            result += item.subs(subs)*FTildeFunction(*self.args[:4], *key)\n",
    "\n",
    "        return result\n",
    "\n",
    "    @classmethod\n",
    "    def eval(cls, *args):\n",
    "        if (not args[4]) and args[5]:\n",
    "            return FTildeFunction(*args[:4], 1, 0, args[-1])\n",
    "\n",
    "    def _eval_rewrite(self, rule, args, **hints):\n",
    "        args_subs = dict(zip([hi, hj, lij, lik], self.args[:-3]))\n",
    "        if rule == sp.exp:\n",
    "            _sigmas_expr = self.get_sigmas_factor()*_sigmas_expr_E*_sigmas_expr_FTilde\n",
    "            result = 0\n",
    "            for is1 in Z3sym.SIGMAS:\n",
    "                for is2 in Z3sym.SIGMAS:\n",
    "                    for is3 in Z3sym.SIGMAS:\n",
    "                        is_subs = dict(zip([s1, s2, s3], [is1, is2, is3]))\n",
    "                        result += _sigmas_expr.subs(args_subs).subs(is_subs)\n",
    "            return result"
   ]
  },
  {
   "cell_type": "code",
   "execution_count": null,
   "metadata": {},
   "outputs": [],
   "source": [
    "expr = FTildeFunction(hi, hj, lij, lik, 1, 1, 1).diff(hi).rewrite(sp.exp)\n",
    "expr -= FTildeFunction(hi, hj, lij, lik, 1, 1, 1).rewrite(sp.exp).diff(hi)\n",
    "expr = expr.factor()\n",
    "expr"
   ]
  },
  {
   "cell_type": "code",
   "execution_count": null,
   "metadata": {},
   "outputs": [],
   "source": [
    "class cF3(sp.Function):\n",
    "    def _latex(self, printer, exp=None):\n",
    "        args = list(map(printer.doprint, self.args[:4]))\n",
    "        args = f\"\\\\left({args[0]}, {args[1]}, {args[2]}, {args[3]}\\\\right)\"\n",
    "        if exp is None:\n",
    "            return \"{\\\\cal F}^{(3)}\"+args\n",
    "        else:\n",
    "            exp = printer.doprint(exp)\n",
    "            return f\"\\\\left({self._latex(printer)}\\\\right)^{exp}\"\n",
    "    \n",
    "    def fdiff(self, argindex=1):\n",
    "        expr = (s1*s2*s3*_sigmas_expr_E*_sigmas_expr_cF3).diff([hi, hj, lij, lik][argindex-1])\n",
    "        terms = symbase.collect_sigmas(expr, _sigmas_terms, [s1, s2, s3])\n",
    "        \n",
    "        subs = dict(zip([hi, hj, lij, lik], self.args[:4]))\n",
    "\n",
    "        result = 0\n",
    "        for key, item in terms[_sigmas_expr_E].items():\n",
    "            result += item.factor().subs(subs)*EFunction(*self.args[:4], *key)\n",
    "\n",
    "        for key, item in terms[_sigmas_expr_E*_sigmas_expr_F].items():\n",
    "            result += item.factor().subs(subs)*FFunction(*self.args[:4], *key)\n",
    "        \n",
    "        for key, item in terms[_sigmas_expr_E*_sigmas_expr_FTilde].items():\n",
    "            result += item.factor().subs(subs)*FTildeFunction(*self.args[:4], *key)\n",
    "        \n",
    "        for key, item in terms[_sigmas_expr_E*_sigmas_expr_cF3].items():\n",
    "            if key != (1, 1, 1):\n",
    "                raise RuntimeError\n",
    "            result += item.factor().subs(subs)*cF3(*self.args)\n",
    "\n",
    "        return result\n",
    "\n",
    "    def _eval_rewrite(self, rule, args, **hints):\n",
    "        args_subs = dict(zip([hi, hj, lij, lik], self.args[:-3]))\n",
    "        if rule == sp.exp:\n",
    "            _sigmas_expr = s1*s2*s3*_sigmas_expr_E*_sigmas_expr_cF3\n",
    "            result = 0\n",
    "            for is1 in Z3sym.SIGMAS:\n",
    "                for is2 in Z3sym.SIGMAS:\n",
    "                    for is3 in Z3sym.SIGMAS:\n",
    "                        is_subs = dict(zip([s1, s2, s3], [is1, is2, is3]))\n",
    "                        result += _sigmas_expr.subs(args_subs).subs(is_subs)\n",
    "            return result"
   ]
  },
  {
   "cell_type": "code",
   "execution_count": null,
   "metadata": {},
   "outputs": [],
   "source": [
    "sp.Add(*map(lambda x: x*4*lij*hi**2*sp.sqrt(hj)*(lij*hi-lik*hj), cF3(hi, hj, lij, lik).diff(hi).args))"
   ]
  },
  {
   "cell_type": "code",
   "execution_count": null,
   "metadata": {},
   "outputs": [],
   "source": [
    "class cF3_degenerate(sp.Function):\n",
    "    def _latex(self, printer, exp=None):\n",
    "        args = list(map(printer.doprint, self.args))\n",
    "        value_args = f\"\\\\left({args[0]}, {args[1]}, {args[2]}, {args[3]}\\\\right)\"\n",
    "        diffs_args = f\"{args[4]}, {args[5]}, {args[6]}, {args[7]}\"\n",
    "        if exp is None:\n",
    "            return \"{\\\\cal F}_{deg,\"+diffs_args+\"}\"+value_args\n",
    "        else:\n",
    "            exp = printer.doprint(exp)\n",
    "            return f\"\\\\left({self._latex(printer)}\\\\right)^{exp}\"\n",
    "    \n",
    "    def fdiff(self, argindex=1):    \n",
    "        args = list(self.args)\n",
    "        args[argindex+3] += 1\n",
    "        return cF3_degenerate(*args)\n",
    "\n",
    "def evaluate_cF3_degenerate(expr):\n",
    "    def evaluate(*args):\n",
    "        expr = (s1*s2*s3*_sigmas_expr_E*F3_degenerate(arg_x, arg_a, arg_b, 0, 0)).diff(hi, args[4])\n",
    "        expr = expr.diff(hj, args[5]).diff(lij, args[6]).diff(lik, args[7])\n",
    "        \n",
    "        expr = evaluate_F3_degenerate(expr)\n",
    "\n",
    "        terms = symbase.collect_sigmas(expr, _sigmas_terms, [s1, s2, s3])\n",
    "        \n",
    "        subs = dict(zip([hi, hj, lij, lik], args[:4]))\n",
    "        \n",
    "        result = 0\n",
    "        for key, item in terms[_sigmas_expr_E].items():\n",
    "            result += item.factor().subs(subs)*EFunction(*args[:4], *key)\n",
    "\n",
    "        for key, item in terms[_sigmas_expr_E*_sigmas_expr_F].items():\n",
    "            result += item.factor().subs(subs)*FFunction(*args[:4], *key)\n",
    "\n",
    "        if _sigmas_expr_E*_sigmas_expr_FTilde in terms:\n",
    "            for key, item in terms[_sigmas_expr_E*_sigmas_expr_FTilde].items():\n",
    "                result += item.factor().subs(subs)*FFunction(*args[:4], *key)\n",
    "\n",
    "        return result\n",
    "    \n",
    "    return expr.replace(cF3_degenerate, evaluate)"
   ]
  },
  {
   "cell_type": "code",
   "execution_count": null,
   "metadata": {},
   "outputs": [],
   "source": [
    "# expr = cF3_degenerate(hi, hj, lij, lik, *(4*[0])).diff(lij, 1)\n",
    "# expr = evaluate_cF3_degenerate(expr)\n",
    "\n",
    "# expr"
   ]
  },
  {
   "cell_type": "markdown",
   "metadata": {},
   "source": [
    "### Расчет $F^{(2)}$ и $F^{(3)}$"
   ]
  },
  {
   "cell_type": "markdown",
   "metadata": {},
   "source": [
    "#### Определения"
   ]
  },
  {
   "cell_type": "code",
   "execution_count": null,
   "metadata": {},
   "outputs": [],
   "source": [
    "class erfcx(sp.Function):\n",
    "    def _latex(self, printer, exp=None):\n",
    "        arg = printer.doprint(self.args[0])\n",
    "        if exp is None:\n",
    "            return \"\\operatorname{erfcx}\"+f\"\\\\left({arg}\\\\right)\"\n",
    "        else:\n",
    "            exp = printer.doprint(exp)\n",
    "            return f\"\\\\left({self._latex(printer)}\\\\right)^{exp}\""
   ]
  },
  {
   "cell_type": "code",
   "execution_count": null,
   "metadata": {},
   "outputs": [],
   "source": [
    "def erfi_to_dawsn(expr):\n",
    "    def __helper(z):\n",
    "        return Z2sym.F2(z)*2/sp.sqrt(sp.pi)*sp.exp(z**2)\n",
    "    return expr.replace(sp.erfi, __helper)\n",
    "\n",
    "\n",
    "def erfc_to_erfcx(expr):\n",
    "    def __helper(z):\n",
    "        return erfcx(z)*sp.exp(-z**2)\n",
    "    return expr.replace(sp.erfc, __helper)"
   ]
  },
  {
   "cell_type": "code",
   "execution_count": null,
   "metadata": {},
   "outputs": [],
   "source": [
    "t, x, a, b = sp.symbols(\"t x a b\")\n",
    "n, h = sp.symbols(\"n h\")\n",
    "n0 = sp.Symbol(\"n_0\")"
   ]
  },
  {
   "cell_type": "markdown",
   "metadata": {},
   "source": [
    "#### $c > 0$"
   ]
  },
  {
   "cell_type": "code",
   "execution_count": null,
   "metadata": {},
   "outputs": [],
   "source": [
    "c = sp.Symbol(\"c\", positive=True)\n",
    "expr = t**2-(a*t+b-n*h)**2\n",
    "expr = expr.expand()\n",
    "expr = expr.replace(a**2, 1-c).expand()\n",
    "expr = sp.integrate(sp.exp(expr), [t, 0, x])*sp.exp(-x**2)/(n*sp.sqrt(sp.pi))\n",
    "expr = expr.expand()\n",
    "expr = erfi_to_dawsn(expr)\n",
    "expr = sp.Add(*map(lambda x: x.simplify(), expr.args))\n",
    "expr"
   ]
  },
  {
   "cell_type": "code",
   "execution_count": null,
   "metadata": {},
   "outputs": [],
   "source": [
    "print(sp.solve(expr.args[0].args[-1].diff(n), n)[0])"
   ]
  },
  {
   "cell_type": "code",
   "execution_count": null,
   "metadata": {},
   "outputs": [],
   "source": [
    "print(sp.solve(expr.args[1].args[-1].diff(n), n)[0])"
   ]
  },
  {
   "cell_type": "code",
   "execution_count": null,
   "metadata": {},
   "outputs": [],
   "source": [
    "expr = -2*a*b*x + 2*a*h*n*x - b**2 + 2*b*h*n + c*x**2 - h**2*n**2 - x**2\n",
    "expr = expr.replace(n, n0+n).expand()\n",
    "expr = expr.collect(n)\n",
    "sp.print_latex(expr)\n",
    "expr"
   ]
  },
  {
   "cell_type": "code",
   "execution_count": null,
   "metadata": {},
   "outputs": [],
   "source": [
    "expr = -b**2 + 2*b*h*n - h**2*n**2 - x**2\n",
    "expr = expr.replace(n, n0+n).expand()\n",
    "expr = expr.collect(n)\n",
    "sp.print_latex(expr)\n",
    "expr"
   ]
  },
  {
   "cell_type": "markdown",
   "metadata": {},
   "source": [
    "#### $c < 0$"
   ]
  },
  {
   "cell_type": "code",
   "execution_count": null,
   "metadata": {},
   "outputs": [],
   "source": [
    "c = sp.Symbol(\"c\", negative=True)\n",
    "expr = t**2-(a*t+b-n*h)**2\n",
    "expr = expr.expand()\n",
    "expr = expr.replace(a**2, 1-c).expand()\n",
    "expr = sp.integrate(sp.exp(expr), [t, 0, x])*sp.exp(-x**2)/(n*sp.sqrt(sp.pi))\n",
    "expr = expr.simplify()\n",
    "sp.print_latex(expr)\n",
    "display(expr)\n",
    "\n",
    "expr = expr.rewrite(sp.erfc)\n",
    "expr = expr.expand().factor().simplify()\n",
    "display(expr)\n",
    "expr = erfc_to_erfcx(expr).expand()\n",
    "expr = sp.Add(*map(lambda x: x.simplify(), expr.args))\n",
    "sp.print_latex(expr)\n",
    "display(expr)"
   ]
  },
  {
   "cell_type": "code",
   "execution_count": null,
   "metadata": {},
   "outputs": [],
   "source": [
    "print(expr.args[0].args[-1].args[0].simplify())"
   ]
  },
  {
   "cell_type": "code",
   "execution_count": null,
   "metadata": {},
   "outputs": [],
   "source": [
    "expr = sp.exp(-a**2*b**2/c + 2*a**2*b*h*n/c - a**2*h**2*n**2/c - b**2 + 2*b*h*n - h**2*n**2 - x**2)\n",
    "expr = expr.diff(n)\n",
    "display(expr)\n",
    "print(sp.solve(expr, n))\n",
    "\n",
    "print(sp.expand(expr.args[0]/(2*h)))"
   ]
  },
  {
   "cell_type": "markdown",
   "metadata": {},
   "source": [
    "### Численная проверка"
   ]
  },
  {
   "cell_type": "code",
   "execution_count": null,
   "metadata": {},
   "outputs": [],
   "source": [
    "hi, hj, lij, lik = 1.1, 1.4, 0.9, 1.6\n",
    "\n",
    "print(Z3num.calc_Z3_integrate(hi, hj, hi, lij, lij, lik))\n",
    "print(2*(2*np.pi)**3/np.sqrt(hi*hj*lij*lik)*Z3num.cF3_symmetrical(hi, hj, lij, lik))\n",
    "print(Z3num.calc_from_coeffs(hi, hj, lij, lik).Z3_norm*np.exp(hj+lik+2*(hi+lij)))"
   ]
  },
  {
   "cell_type": "code",
   "execution_count": null,
   "metadata": {},
   "outputs": [],
   "source": [
    "def get_diffs(expr, args, n=1, func=None):\n",
    "    diffs = []\n",
    "    for arg in args:\n",
    "        _expr = expr.diff(arg, n)\n",
    "        if func is not None:\n",
    "            _expr = func(_expr)\n",
    "        diffs.append(sp.lambdify(args, _expr, Z3sym.num_module))\n",
    "    return diffs"
   ]
  },
  {
   "cell_type": "code",
   "execution_count": null,
   "metadata": {},
   "outputs": [],
   "source": [
    "def calc_numerical_diffs(func, args, n=1):\n",
    "    diffs = np.zeros_like(args)\n",
    "    for i, arg in enumerate(args):\n",
    "        direction = [0] * len(args)\n",
    "        direction[i] = 1\n",
    "        diffs[i] = nd.directionaldiff(func, args, direction, n=n)\n",
    "    return diffs\n",
    "\n",
    "\n",
    "def calc_exprs(exprs, args):\n",
    "    return list(map(lambda expr: expr(*args), exprs))\n",
    "\n",
    "\n",
    "def compare_exprs(exprs_1, exprs_2):\n",
    "    for i, expr in enumerate(exprs_1):\n",
    "        print(expr)\n",
    "        print(exprs_2[i])\n",
    "        print()"
   ]
  },
  {
   "cell_type": "code",
   "execution_count": null,
   "metadata": {},
   "outputs": [],
   "source": [
    "x, a, b = sp.symbols(\"x a b\")\n",
    "\n",
    "f_F3_diffs = get_diffs(F3(x, a, b), [x, a, b])\n",
    "\n",
    "args = 1.4, -6, 3\n",
    "compare_exprs(\n",
    "    calc_numerical_diffs(lambda args: Z3num.F3(*args), args),\n",
    "    calc_exprs(f_F3_diffs, args)\n",
    ")"
   ]
  },
  {
   "cell_type": "code",
   "execution_count": null,
   "metadata": {},
   "outputs": [],
   "source": [
    "f_F3_degenerate_diffs = get_diffs(F3_degenerate(x, a, b, 0, 0), [x, a, b], func=evaluate_F3_degenerate)\n",
    "\n",
    "args = 1.4, 1, 0\n",
    "compare_exprs(\n",
    "    calc_numerical_diffs(lambda args: Z3num.F3(*args), args),\n",
    "    calc_exprs(f_F3_degenerate_diffs, args)\n",
    ")"
   ]
  },
  {
   "cell_type": "code",
   "execution_count": null,
   "metadata": {},
   "outputs": [],
   "source": [
    "expr = F3_degenerate(x, a, b, 0, 0).diff(x, x, a)\n",
    "expr = evaluate_F3_degenerate(expr)\n",
    "f_expr = sp.lambdify([x, a, b], expr, Z3sym.num_module)\n",
    "\n",
    "args = 1.4, 1, 0\n",
    "f = lambda args: nd.directionaldiff(lambda args: Z3num.F3(*args), args, [1, 0, 0], n=2)\n",
    "print(nd.directionaldiff(f, args, [0, 1, 0], n=1))\n",
    "print(f_expr(*args))"
   ]
  },
  {
   "cell_type": "code",
   "execution_count": null,
   "metadata": {},
   "outputs": [],
   "source": [
    "hi, hj, lij, lik = Z3sym.hi, Z3sym.hj, Z3sym.lij, Z3sym.lik\n",
    "\n",
    "f_E_123 = sp.lambdify((hi, hj, lij, lik ), EFunction(hi, hj, lij, lik , 1, 1, 1), Z3sym.num_module)\n",
    "f_E_123_diffs = get_diffs(EFunction(hi, hj, lij, lik , 1, 1, 1), (hi, hj, lij, lik ))\n",
    "\n",
    "args = 1.1, 1.6, 0.9, 1.2\n",
    "compare_exprs(\n",
    "    calc_numerical_diffs(lambda x: f_E_123(*x), args),\n",
    "    calc_exprs(f_E_123_diffs, args)\n",
    ")"
   ]
  },
  {
   "cell_type": "code",
   "execution_count": null,
   "metadata": {},
   "outputs": [],
   "source": [
    "f_expr = sp.lambdify((hi, hj, lij, lik), EFunction(hi, hj, lij, lik, 1, 1, 1).rewrite(sp.exp), Z3sym.num_module)\n",
    "\n",
    "args = 1.1, 1.9, 0.9, 1.2\n",
    "print(f_expr(*args))\n",
    "print(f_E_123(*args))"
   ]
  },
  {
   "cell_type": "code",
   "execution_count": null,
   "metadata": {},
   "outputs": [],
   "source": [
    "f_F_123 = sp.lambdify((hi, hj, lij, lik), FFunction(hi, hj, lij, lik, 1, 1, 1), Z3sym.num_module)\n",
    "f_F_123_diffs = get_diffs(FFunction(hi, hj, lij, lik, 1, 1, 1), (hi, hj, lij, lik))\n",
    "\n",
    "args = 1.0, 1.6, 0.9, 1.2\n",
    "compare_exprs(\n",
    "    calc_numerical_diffs(lambda x: f_F_123(*x), args),\n",
    "    calc_exprs(f_F_123_diffs, args)\n",
    ")"
   ]
  },
  {
   "cell_type": "code",
   "execution_count": null,
   "metadata": {},
   "outputs": [],
   "source": [
    "f_expr = sp.lambdify((hi, hj, lij, lik), FFunction(hi, hj, lij, lik, 1, 1, 1).rewrite(sp.exp), Z3sym.num_module)\n",
    "\n",
    "args = 1.1, 1.9, 0.9, 1.5\n",
    "print(f_expr(*args))\n",
    "print(f_F_123(*args))"
   ]
  },
  {
   "cell_type": "code",
   "execution_count": null,
   "metadata": {},
   "outputs": [],
   "source": [
    "f_F_tilde_123 = sp.lambdify((hi, hj, lij, lik), FTildeFunction(hi, hj, lij, lik, 1, 1, 1), Z3sym.num_module)\n",
    "f_F_tilde_123_diffs = get_diffs(FTildeFunction(hi, hj, lij, lik, 1, 1, 1), (hi, hj, lij, lik))\n",
    "\n",
    "args = 1.1, 1.6, 0.9, 1.3\n",
    "compare_exprs(\n",
    "    calc_numerical_diffs(lambda x: f_F_tilde_123(*x), args),\n",
    "    calc_exprs(f_F_tilde_123_diffs, args)\n",
    ")"
   ]
  },
  {
   "cell_type": "code",
   "execution_count": null,
   "metadata": {},
   "outputs": [],
   "source": [
    "f_expr = sp.lambdify((hi, hj, lij, lik), FTildeFunction(hi, hj, lij, lik, 1, 1, 1), Z3sym.num_module)\n",
    "\n",
    "args = 1.1, 1.9, 0.9, 1.9\n",
    "print(f_expr(*args))\n",
    "print(f_F_tilde_123(*args))"
   ]
  },
  {
   "cell_type": "code",
   "execution_count": null,
   "metadata": {},
   "outputs": [],
   "source": [
    "f_cF3_diffs = get_diffs(cF3(hi, hj, lij, lik), (hi, hj, lij, lik))\n",
    "\n",
    "args = 1.1, 1.6, 0.9, 1.2\n",
    "compare_exprs(\n",
    "    calc_numerical_diffs(lambda x: Z3num.cF3_symmetrical(*x), args),\n",
    "    calc_exprs(f_cF3_diffs, args)\n",
    ")"
   ]
  },
  {
   "cell_type": "code",
   "execution_count": null,
   "metadata": {},
   "outputs": [],
   "source": [
    "f_expr = sp.lambdify((hi, hj, lij, lik),cF3(hi, hj, lij, lik).rewrite(sp.exp), Z3sym.num_module)\n",
    "\n",
    "args = 1.1, 1.9, 0.9, 1.6\n",
    "print(f_expr(*args))\n",
    "print(Z3num.cF3_symmetrical(*args))"
   ]
  },
  {
   "cell_type": "code",
   "execution_count": null,
   "metadata": {},
   "outputs": [],
   "source": [
    "f_cF3_degenerate_diffs = get_diffs(cF3_degenerate(hi, hj, lij, lik, *(4*[0])), (hi, hj, lij, lik), n=1, func=evaluate_cF3_degenerate)\n",
    "\n",
    "args = 1.1, 1.9, 1.9, 1.1\n",
    "compare_exprs(\n",
    "    calc_numerical_diffs(lambda x: Z3num.cF3_symmetrical(*x), args, n=1),\n",
    "    calc_exprs(f_cF3_degenerate_diffs, args)\n",
    ")"
   ]
  },
  {
   "cell_type": "markdown",
   "metadata": {},
   "source": [
    "## Моменты $\\cal Z^{(3)}$"
   ]
  },
  {
   "cell_type": "markdown",
   "metadata": {},
   "source": [
    "### Определения"
   ]
  },
  {
   "cell_type": "code",
   "execution_count": null,
   "metadata": {},
   "outputs": [],
   "source": [
    "def get_line_Matrix(expr, like_terms):\n",
    "    terms = sp.collect(expr, like_terms, evaluate=False)\n",
    "    line = []\n",
    "    for term in like_terms + [1]:\n",
    "        if term in terms:\n",
    "            if term == 1:\n",
    "                line.append(-terms[term].factor())\n",
    "            else:\n",
    "                line.append(terms[term].factor())\n",
    "        else:\n",
    "            line.append(0)\n",
    "    return line\n"
   ]
  },
  {
   "cell_type": "markdown",
   "metadata": {},
   "source": [
    "### Общий случай"
   ]
  },
  {
   "cell_type": "markdown",
   "metadata": {},
   "source": [
    "#### Символьные вычисления"
   ]
  },
  {
   "cell_type": "code",
   "execution_count": null,
   "metadata": {},
   "outputs": [],
   "source": [
    "mi, mj, eta_ij, eta_ik = Z3sym.mi, Z3sym.mj, Z3sym.eta_ij, Z3sym.eta_ik"
   ]
  },
  {
   "cell_type": "code",
   "execution_count": null,
   "metadata": {},
   "outputs": [],
   "source": [
    "Z3 = cF3(hi, hj, lij, lik)/sp.sqrt(hi*hj*lij*lik)\n",
    "\n",
    "expr_mi = sp.log(Z3).diff(hi)/2\n",
    "expr_mi = sp.Add(*map(sp.factor, expr_mi.expand().args))\n",
    "\n",
    "expr_mj = sp.log(Z3).diff(hj)\n",
    "expr_mj = sp.Add(*map(sp.factor, expr_mj.expand().args))\n",
    "\n",
    "expr_eta_ij = sp.log(Z3).diff(lij)/2\n",
    "expr_eta_ij = sp.Add(*map(sp.factor, expr_eta_ij.expand().args))\n",
    "\n",
    "expr_eta_ik = sp.log(Z3).diff(lik)\n",
    "expr_eta_ik = sp.Add(*map(sp.factor, expr_eta_ik.expand().args))"
   ]
  },
  {
   "cell_type": "code",
   "execution_count": null,
   "metadata": {},
   "outputs": [],
   "source": [
    "n, d = sp.fraction(expr_mi.factor())\n",
    "_expr_mi = n-d*mi\n",
    "\n",
    "n, d = sp.fraction(expr_mj.factor())\n",
    "_expr_mj = n-d*mj\n",
    "\n",
    "n, d = sp.fraction(expr_eta_ij.factor())\n",
    "_expr_eta_ij = n-d*eta_ij\n",
    "\n",
    "n, d = sp.fraction(expr_eta_ik.factor())\n",
    "_expr_eta_ik = n-d*eta_ik"
   ]
  },
  {
   "cell_type": "code",
   "execution_count": null,
   "metadata": {},
   "outputs": [],
   "source": [
    "vector_system_moments = [\n",
    "    cF3(hi, hj, lij, lik),\n",
    "    FTildeFunction(hi, hj, lij, lik, 1, 1, 1),\n",
    "    FTildeFunction(hi, hj, lij, lik, 1, 1, 0),\n",
    "    FFunction(hi, hj, lij, lik, 1, 0, 1),\n",
    "]\n",
    "\n",
    "line1 = get_line_Matrix(_expr_mi, vector_system_moments)\n",
    "line2 = get_line_Matrix(_expr_mj, vector_system_moments)\n",
    "line3 = get_line_Matrix(_expr_eta_ij, vector_system_moments)\n",
    "line4 = get_line_Matrix(_expr_eta_ik, vector_system_moments)"
   ]
  },
  {
   "cell_type": "code",
   "execution_count": null,
   "metadata": {},
   "outputs": [],
   "source": [
    "M = sp.Matrix([line1, line2, line3, line4])\n",
    "M[0, :] /= sp.sqrt(lij)*hi*sp.sqrt(hi)/sp.sqrt(hj)\n",
    "M[1, :] /= sp.sqrt(lij)*sp.sqrt(hi)\n",
    "M[2, :] /= sp.sqrt(lij)*lij*sp.sqrt(hi)/sp.sqrt(hj)\n",
    "M[3, :] /= sp.sqrt(lik)/sp.sqrt(hj)\n",
    "\n",
    "M[0, :] += M[1, :]\n",
    "M[1, :] += M[2, :]\n",
    "M[2, :] += M[0, :]/2\n",
    "M[2, :] -= M[1, :]\n",
    "M[2, :] += lik*hj*M[3, :]\n",
    "M[3, :] -= M[2, :]/(lik*hj)\n",
    "M = M.expand()\n",
    "\n",
    "M = sp.Matrix(4, 5, lambda i, j: M[i, j].factor())\n",
    "M[0, :] /= (lij*hi-lik*hj)*hi*sp.sqrt(hj)*2\n",
    "M[1, :] /= (lij*hi-lik*hj)*lij*sp.sqrt(hj)*2\n",
    "M[2, :] /= (lij*hi-lik*hj)*sp.sqrt(hj)\n",
    "M[3, :] *= lik*sp.sqrt(hj)\n",
    "\n",
    "M[2, :] -= M[0, :]*hi\n",
    "M[3, :] += M[0, :]*hi**2*lij\n",
    "M[3, :] += M[1, :]*hj*lij*lik\n",
    "M[2, :] += M[3, :]/(hi*lij)\n",
    "M[3, :] += M[2, :]/(lik*hj)*hi**2*lij**2\n",
    "M = M.expand()\n",
    "\n",
    "M = sp.Matrix(4, 5, lambda i, j: M[i, j].factor())\n",
    "M[0, :] /= -2\n",
    "M[1, :] /= -2\n",
    "M[2, :] /= -2*lik*hj\n",
    "M[3, :] /= -2*lij*hi\n",
    "\n",
    "det_system_moments = sp.Symbol(\"\\\\Delta\")\n",
    "det_system_moments_value = M[3, 0]\n",
    "M[3, 0] = det_system_moments\n",
    "\n",
    "display(M)"
   ]
  },
  {
   "cell_type": "code",
   "execution_count": null,
   "metadata": {},
   "outputs": [],
   "source": [
    "det_system_moments_value.collect([mi, mj, eta_ij, eta_ik], sp.factor)"
   ]
  },
  {
   "cell_type": "code",
   "execution_count": null,
   "metadata": {},
   "outputs": [],
   "source": [
    "result = sp.solve_linear_system(M, *vector_system_moments)\n",
    "\n",
    "value_system_moments = []\n",
    "for key in vector_system_moments:\n",
    "    value_system_moments.append(result[key].factor())\n",
    "\n",
    "for i in range(4):\n",
    "    display(sp.Eq(vector_system_moments[i], value_system_moments[i]))\n",
    "for i in range(4):\n",
    "    sp.print_latex(sp.Eq(vector_system_moments[i], value_system_moments[i]))\n",
    "\n",
    "display(sp.Eq(det_system_moments, det_system_moments_value))\n",
    "sp.print_latex(sp.Eq(det_system_moments, det_system_moments_value))"
   ]
  },
  {
   "cell_type": "code",
   "execution_count": null,
   "metadata": {},
   "outputs": [],
   "source": [
    "subs_to_moments = dict(zip(vector_system_moments, value_system_moments))\n",
    "subs_det_system_moments = {det_system_moments: det_system_moments_value}"
   ]
  },
  {
   "cell_type": "code",
   "execution_count": null,
   "metadata": {},
   "outputs": [],
   "source": [
    "expr = expr_eta_ik\n",
    "expr.subs(subs_to_moments).subs(subs_det_system_moments).factor()"
   ]
  },
  {
   "cell_type": "code",
   "execution_count": null,
   "metadata": {},
   "outputs": [],
   "source": [
    "expr_Q_star = Z3.diff(lij, 2)/(2*Z3) - expr_eta_ik - 1\n",
    "expr_Q_star = sp.Add(*map(sp.factor, expr_Q_star.expand().args))\n",
    "# expr_Q_star"
   ]
  },
  {
   "cell_type": "code",
   "execution_count": null,
   "metadata": {},
   "outputs": [],
   "source": [
    "expr_diff_hi_lij = Z3.diff(hi, lij)/(Z3)\n",
    "expr_diff_hi_lij = sp.Add(*map(sp.factor, expr_diff_hi_lij.expand().args))\n",
    "expr_diff_hi_lij = expr_diff_hi_lij.subs(subs_to_moments)\n",
    "\n",
    "expr_mj_eta_ij = Z3.diff(hj, lij)/(2*Z3)\n",
    "expr_mj_eta_ij = sp.Add(*map(sp.factor, expr_mj_eta_ij.expand().args))\n",
    "expr_mj_eta_ij = expr_mj_eta_ij.subs(subs_to_moments)\n",
    "\n",
    "expr_mi_eta_ik = Z3.diff(hi, lik)/(2*Z3)\n",
    "expr_mi_eta_ik = sp.Add(*map(sp.factor, expr_mi_eta_ik.expand().args))\n",
    "expr_mi_eta_ik = expr_mi_eta_ik.subs(subs_to_moments)\n",
    "\n",
    "expr_eta_ik_2 = Z3.diff(lik, 2)/(Z3)\n",
    "expr_eta_ik_2 = sp.Add(*map(sp.factor, expr_eta_ik_2.expand().args))\n",
    "expr_eta_ik_2 = expr_eta_ik_2.subs(subs_to_moments)"
   ]
  },
  {
   "cell_type": "code",
   "execution_count": null,
   "metadata": {},
   "outputs": [],
   "source": [
    "eta_ik_2, mj_eta_ij, mi_eta_ik = Z3sym.eta_ik_2, Z3sym.mj_eta_ij, Z3sym.mi_eta_ik"
   ]
  },
  {
   "cell_type": "code",
   "execution_count": null,
   "metadata": {},
   "outputs": [],
   "source": [
    "factor = (lij*hi-lik*hj)**2\n",
    "\n",
    "expr_diff_hi_lij_dummy = sp.Dummy()\n",
    "expr1 = (expr_diff_hi_lij.factor()*factor).expand() - factor*expr_diff_hi_lij_dummy\n",
    "expr2 = (expr_mj_eta_ij.factor()*factor).expand() - factor*mj_eta_ij\n",
    "expr3 = (expr_mi_eta_ik.factor()*factor).expand() - factor*mi_eta_ik\n",
    "expr4 = (expr_eta_ik_2.factor()*factor).expand() - factor*eta_ik_2"
   ]
  },
  {
   "cell_type": "code",
   "execution_count": null,
   "metadata": {},
   "outputs": [],
   "source": [
    "vector_system_moments_2 = [\n",
    "    EFunction(hi, hj, lij, lik, 0, 0, 1)/EFunction(hi, hj, lij, lik, 1, 1, 1),\n",
    "    EFunction(hi, hj, lij, lik, 1, 0, 0)/EFunction(hi, hj, lij, lik, 1, 1, 1),\n",
    "    EFunction(hi, hj, lij, lik, 1, 1, 0)/EFunction(hi, hj, lij, lik, 1, 1, 1),\n",
    "    EFunction(hi, hj, lij, lik, 1, 0, 1)/EFunction(hi, hj, lij, lik, 1, 1, 1),\n",
    "]\n",
    "\n",
    "line1 = get_line_Matrix(expr1, vector_system_moments_2)\n",
    "line2 = get_line_Matrix(expr2, vector_system_moments_2)\n",
    "line3 = get_line_Matrix(expr3, vector_system_moments_2)\n",
    "line4 = get_line_Matrix(expr4, vector_system_moments_2)"
   ]
  },
  {
   "cell_type": "code",
   "execution_count": null,
   "metadata": {},
   "outputs": [],
   "source": [
    "M = sp.Matrix([line1, line2, line3, line4])\n",
    "M = M.expand()\n",
    "\n",
    "M[0, :] += M[1, :]*2/hi*hj\n",
    "M[1, :] -= M[2, :]*hi**2/hj**2\n",
    "M[2, :] += M[3, :]/2/hi*lik\n",
    "M[3, :] += M[2, :]*2*hi/lik\n",
    "\n",
    "M = M.expand()\n",
    "\n",
    "display(M)"
   ]
  },
  {
   "cell_type": "code",
   "execution_count": null,
   "metadata": {},
   "outputs": [],
   "source": [
    "value_system_moments_2 = []\n",
    "\n",
    "result = (M[:, :-1]).solve(M[:, -1])\n",
    "for item in result:\n",
    "    value_system_moments_2.append(item.factor())\n",
    "\n",
    "# for i in range(4):\n",
    "#     display(sp.Eq(vector_system_moments_2[i], value_system_moments_2[i]))\n",
    "# for i in range(4):\n",
    "#     sp.print_latex(sp.Eq(vector_system_moments_2[i], value_system_moments_2[i]))"
   ]
  },
  {
   "cell_type": "code",
   "execution_count": null,
   "metadata": {},
   "outputs": [],
   "source": [
    "subs_to_moments_2 = dict(zip(vector_system_moments_2, value_system_moments_2))"
   ]
  },
  {
   "cell_type": "code",
   "execution_count": null,
   "metadata": {},
   "outputs": [],
   "source": [
    "expr_Q_star_from_m_j_eta_ij = expr_Q_star.subs(subs_to_moments).subs(subs_to_moments_2).subs(subs_det_system_moments).factor().expand()\n",
    "display(expr_Q_star_from_m_j_eta_ij)\n",
    "sp.print_latex((lij*expr_Q_star_from_m_j_eta_ij).expand())"
   ]
  },
  {
   "cell_type": "code",
   "execution_count": null,
   "metadata": {},
   "outputs": [],
   "source": [
    "subs_to_Q_star = {lij: sp.solve(expr_Q_star_from_m_j_eta_ij-Z3sym.Q_star, lij)[0]}"
   ]
  },
  {
   "cell_type": "code",
   "execution_count": null,
   "metadata": {},
   "outputs": [],
   "source": [
    "expr_mjh2 = Z3.diff(hj, 2)/(Z3)\n",
    "expr_mjh2 = sp.Add(*map(sp.factor, expr_mjh2.expand().args))\n",
    "expr = expr_mjh2.subs(subs_to_moments).subs(subs_to_moments_2).subs(subs_det_system_moments).factor().expand()\n",
    "\n",
    "mjh2 = Z3sym.mjh2\n",
    "display(sp.Eq(mjh2, expr))\n",
    "sp.print_latex(expr)\n",
    " \n",
    "expr_Q_star_from_mjh2 = expr_Q_star_from_m_j_eta_ij.replace(mj_eta_ij, sp.solve(expr-mjh2, mj_eta_ij)[0]).expand()\n",
    "display(expr_Q_star_from_mjh2)\n",
    "sp.print_latex((lij*expr_Q_star_from_mjh2).expand())\n",
    "\n",
    "_expr_mjh2 = expr"
   ]
  },
  {
   "cell_type": "code",
   "execution_count": null,
   "metadata": {},
   "outputs": [],
   "source": [
    "expr_mj_eta_ik = Z3.diff(hj, lik)/(Z3)\n",
    "expr_mj_eta_ik = sp.Add(*map(sp.factor, expr_mj_eta_ik.expand().args))\n",
    "expr = expr_mj_eta_ik.subs(subs_to_moments).subs(subs_to_moments_2).subs(subs_det_system_moments).factor().expand()\n",
    "\n",
    "mj_eta_ik = Z3sym.mj_eta_ik\n",
    "subs_to_mj_eta_ik = {expr_diff_hi_lij_dummy: sp.solve(expr-mj_eta_ik, expr_diff_hi_lij_dummy)[0]}\n",
    "\n",
    "expr"
   ]
  },
  {
   "cell_type": "code",
   "execution_count": null,
   "metadata": {},
   "outputs": [],
   "source": [
    "M = sp.zeros(4, 4)\n",
    "\n",
    "for i, moment in zip(range(4), [\"mi\", \"mj\", \"eta_ij\", \"eta_ik\"]):\n",
    "    for j, arg, name_arg in zip(range(4), [hi, hj, lij, lik], [\"h_i\", \"h_j\", \"l_ij\", \"l_ik\"]):\n",
    "        # expr = expr_moment.diff(arg).subs(subs_to_moments)\n",
    "        # expr = sp.Add(*map(sp.factor, expr.expand().args))\n",
    "        # expr = expr.subs(subs_to_moments_2).subs(subs_det_system_moments)\n",
    "        # expr = expr.factor().expand()\n",
    "        # expr = expr.subs(subs_to_mj_eta_ik).expand()\n",
    "        # print(f\"double {moment}_{name_arg} = \", get_ccode(optimize_moment(expr).subs(subs)), \";\")\n",
    "        M[i, j] = sp.Symbol(f\"{moment}_{name_arg}\")\n",
    "        # display(sp.Eq(sp.Derivative(moment, arg), expr))\n",
    "    print()"
   ]
  },
  {
   "cell_type": "code",
   "execution_count": null,
   "metadata": {},
   "outputs": [],
   "source": [
    "x1, x2, x3, x4 = sp.symbols(\"x1 x2 x3 x4\")\n",
    "for i, item, name_arg in zip(range(4), M.cramer_solve(sp.Matrix([x1, x2, x3, x4])), [\"h_i\", \"h_j\", \"l_ij\", \"l_ik\"]):\n",
    "    n, d = sp.fraction(item)\n",
    "    if i == 0:\n",
    "        print(f\"double D = {d};\")\n",
    "    print(f\"delta_{name_arg} = _D * ({n});\")"
   ]
  },
  {
   "cell_type": "markdown",
   "metadata": {},
   "source": [
    "#### Численная проверка"
   ]
  },
  {
   "cell_type": "code",
   "execution_count": null,
   "metadata": {},
   "outputs": [],
   "source": [
    "def calc_Z3_symmetrical_integrate(args):\n",
    "    hi, hj, lij, lik = args\n",
    "    return Z3num.calc_Z3_integrate(hi, hj, hi, lij, lij, lik)"
   ]
  },
  {
   "cell_type": "code",
   "execution_count": null,
   "metadata": {},
   "outputs": [],
   "source": [
    "args_coeffs = Z3sym.hi, Z3sym.hj, Z3sym.lij, Z3sym.lik\n",
    "args_moments = Z3sym.hi, Z3sym.hj, Z3sym.lij, Z3sym.lik, mi, mj, eta_ij, eta_ik"
   ]
  },
  {
   "cell_type": "code",
   "execution_count": null,
   "metadata": {},
   "outputs": [],
   "source": [
    "f_expr_m_i = sp.lambdify(args_coeffs, expr_mi, Z3sym.num_module_norm)\n",
    "f_expr_m_j = sp.lambdify(args_coeffs, expr_mj, Z3sym.num_module_norm)\n",
    "f_expr_eta_ij = sp.lambdify(args_coeffs, expr_eta_ij, Z3sym.num_module_norm)\n",
    "f_expr_eta_ik = sp.lambdify(args_coeffs, expr_eta_ik, Z3sym.num_module_norm)\n",
    "\n",
    "args = 1.4, 1.1, 0.9, 1.2\n",
    "compare_exprs(\n",
    "    calc_numerical_diffs(calc_Z3_symmetrical_integrate, args)/(np.asarray([2, 1, 2, 1])*calc_Z3_symmetrical_integrate(args)),\n",
    "    calc_exprs([f_expr_m_i, f_expr_m_j, f_expr_eta_ij, f_expr_eta_ik], args)\n",
    ")"
   ]
  },
  {
   "cell_type": "code",
   "execution_count": null,
   "metadata": {},
   "outputs": [],
   "source": [
    "z3 = Z3num.calc_from_coeffs(*args)\n",
    "\n",
    "print(f_expr_m_i(*args))\n",
    "print(z3.mi)\n",
    "print()\n",
    "print(f_expr_m_j(*args))\n",
    "print(z3.mj)\n",
    "print()\n",
    "print(f_expr_eta_ij(*args))\n",
    "print(z3.eta_ij)\n",
    "print()\n",
    "print(f_expr_eta_ik(*args))\n",
    "print(z3.eta_ik)\n",
    "print()"
   ]
  },
  {
   "cell_type": "code",
   "execution_count": null,
   "metadata": {},
   "outputs": [],
   "source": [
    "args = 2, 1, 1.1, 1.4\n",
    "moments = f_expr_m_i(*args), f_expr_m_j(*args), f_expr_eta_ij(*args), f_expr_eta_ik(*args)\n",
    "\n",
    "for i in range(4):\n",
    "    left = vector_system_moments[i].subs(subs_det_system_moments)\n",
    "    f_left = sp.lambdify(args_moments, left, Z3sym.num_module_norm)\n",
    "    print(f_left(*args, *moments))\n",
    "\n",
    "    right = value_system_moments[i].subs(subs_det_system_moments)\n",
    "    f_right = sp.lambdify(args_moments, right, Z3sym.num_module_norm)\n",
    "    print(f_right(*args, *moments))\n",
    "\n",
    "    print()"
   ]
  },
  {
   "cell_type": "code",
   "execution_count": null,
   "metadata": {},
   "outputs": [],
   "source": [
    "f_expr_Q_star = sp.lambdify(args_coeffs, expr_Q_star, Z3sym.num_module_norm)\n",
    "\n",
    "args = 0.2073412, 0.13806503, 1.26262682, 0.15322752\n",
    "Q_star = nd.directionaldiff(calc_Z3_symmetrical_integrate, args, [0, 0, 1, 0], n=2)/(2*calc_Z3_symmetrical_integrate(args)) - f_expr_eta_ik(*args) - 1\n",
    "print(Q_star)\n",
    "print(f_expr_Q_star(*args))\n",
    "\n",
    "moments = f_expr_m_i(*args), f_expr_m_j(*args), f_expr_eta_ij(*args), f_expr_eta_ik(*args)\n",
    "\n",
    "f_expr_Q_star_from_m_j_eta_ij = sp.lambdify(list(args_moments) + [mj_eta_ij], expr_Q_star_from_m_j_eta_ij, Z3sym.num_module_norm)\n",
    "f_expr_m_j_eta_ij = sp.lambdify(args_moments, expr_mj_eta_ij.subs(subs_det_system_moments), Z3sym.num_module_norm)\n",
    "print(f_expr_Q_star_from_m_j_eta_ij(*args, *moments, f_expr_m_j_eta_ij(*args, *moments)))\n",
    "\n",
    "f_expr_Q_star_from_m_j_par_2 = sp.lambdify(list(args_moments) + [mjh2], expr_Q_star_from_mjh2, Z3sym.num_module_norm)\n",
    "f_expr_m_j_par_2 = sp.lambdify(args_moments, expr_mjh2.subs(subs_det_system_moments), Z3sym.num_module_norm)\n",
    "print(f_expr_Q_star_from_m_j_par_2(*args, *moments, f_expr_m_j_par_2(*args, *moments)))\n",
    "\n",
    "z3 = Z3num.calc_from_coeffs(*args)\n",
    "print(z3.Q_star)"
   ]
  },
  {
   "cell_type": "code",
   "execution_count": null,
   "metadata": {},
   "outputs": [],
   "source": [
    "print(f_expr_m_j_eta_ij(*args, *moments))\n",
    "print(z3.mj_eta_ij)"
   ]
  },
  {
   "cell_type": "code",
   "execution_count": null,
   "metadata": {},
   "outputs": [],
   "source": [
    "print(f_expr_m_j_par_2(*args, *moments))\n",
    "print(z3.mjh2)"
   ]
  },
  {
   "cell_type": "code",
   "execution_count": null,
   "metadata": {},
   "outputs": [],
   "source": [
    "hi, hj, lij, lik = 1.1, 1.4, 0.9, 1.6\n",
    "nd.Gradient(lambda args: Z3num.calc_Z3_integrate(*args))((hi, hj, hi, lij, lij, lik))/Z3num.calc_Z3_integrate(hi, hj, hi, lij, lij, lik)"
   ]
  },
  {
   "cell_type": "code",
   "execution_count": null,
   "metadata": {},
   "outputs": [],
   "source": [
    "hi, hj, lij, lik = 1.1, 1.4, 0.9, 1.6\n",
    "hessian = nd.Hessian(lambda args: Z3num.calc_Z3_integrate(*args))((hi, hj, hi, lij, lij, lik))/Z3num.calc_Z3_integrate(hi, hj, hi, lij, lij, lik)\n",
    "print(hessian)"
   ]
  },
  {
   "cell_type": "markdown",
   "metadata": {},
   "source": [
    "### Вырожденный случай"
   ]
  },
  {
   "cell_type": "markdown",
   "metadata": {},
   "source": [
    "#### Символьные вычисления"
   ]
  },
  {
   "cell_type": "code",
   "execution_count": null,
   "metadata": {},
   "outputs": [],
   "source": [
    "hi, hj, lij, lik = Z3sym.hi, Z3sym.hj, Z3sym.lij, Z3sym.lik "
   ]
  },
  {
   "cell_type": "code",
   "execution_count": null,
   "metadata": {},
   "outputs": [],
   "source": [
    "_expr = cF3_degenerate(hi, hj, lij, lik, *(4*[0]))\n",
    "\n",
    "subs_to_cF3Function_degenerate = {\n",
    "    EFunction(hi, hj, lij, lik, 1, 1, 1): sp.solve(_expr-evaluate_cF3_degenerate(_expr), EFunction(hi, hj, lij, lik, 1, 1, 1))[0]\n",
    "}"
   ]
  },
  {
   "cell_type": "code",
   "execution_count": null,
   "metadata": {},
   "outputs": [],
   "source": [
    "Z3_degenerate_expr = cF3_degenerate(hi, hj, lij, lik, *(4*[0]))/sp.sqrt(hi*hj*lij*lik)"
   ]
  },
  {
   "cell_type": "code",
   "execution_count": null,
   "metadata": {},
   "outputs": [],
   "source": [
    "expr_m_i_degenerate = sp.log(Z3_degenerate_expr).diff(hi)/2\n",
    "expr_m_i_degenerate = expr_m_i_degenerate.expand()\n",
    "expr_m_i_degenerate = evaluate_cF3_degenerate(expr_m_i_degenerate)\n",
    "expr_m_i_degenerate = expr_m_i_degenerate.subs(subs_to_cF3Function_degenerate).expand()\n",
    "\n",
    "expr_m_j_degenerate = sp.log(Z3_degenerate_expr).diff(hj)\n",
    "expr_m_j_degenerate = expr_m_j_degenerate.expand()\n",
    "expr_m_j_degenerate = evaluate_cF3_degenerate(expr_m_j_degenerate)\n",
    "expr_m_j_degenerate = expr_m_j_degenerate.subs(subs_to_cF3Function_degenerate).expand()\n",
    "\n",
    "expr_eta_ij_degenerate = sp.log(Z3_degenerate_expr).diff(lij)/2\n",
    "expr_eta_ij_degenerate = expr_eta_ij_degenerate.expand()\n",
    "expr_eta_ij_degenerate = evaluate_cF3_degenerate(expr_eta_ij_degenerate)\n",
    "expr_eta_ij_degenerate = expr_eta_ij_degenerate.subs(subs_to_cF3Function_degenerate).expand()\n",
    "\n",
    "expr_eta_ik_degenerate = sp.log(Z3_degenerate_expr).diff(lik)\n",
    "expr_eta_ik_degenerate = expr_eta_ik_degenerate.expand()\n",
    "expr_eta_ik_degenerate = evaluate_cF3_degenerate(expr_eta_ik_degenerate)\n",
    "expr_eta_ik_degenerate = expr_eta_ik_degenerate.subs(subs_to_cF3Function_degenerate).expand()"
   ]
  },
  {
   "cell_type": "code",
   "execution_count": null,
   "metadata": {},
   "outputs": [],
   "source": [
    "n, d = sp.fraction(expr_m_i_degenerate.factor())\n",
    "_expr_mi = (n-d*mi).expand()\n",
    "\n",
    "n, d = sp.fraction(expr_m_j_degenerate.factor())\n",
    "_expr_mj = (n-d*mj).expand()\n",
    "\n",
    "n, d = sp.fraction(expr_eta_ij_degenerate.factor())\n",
    "_expr_eta_1 = (n-d*eta_ij).expand()\n",
    "\n",
    "n, d = sp.fraction(expr_eta_ik_degenerate.factor())\n",
    "_expr_eta_2 = (n-d*eta_ik).expand()"
   ]
  },
  {
   "cell_type": "code",
   "execution_count": null,
   "metadata": {},
   "outputs": [],
   "source": [
    "vector_system_moments_degenerate = [\n",
    "    FFunction(hi, hj, lij, lik, 1, 1, 0),\n",
    "    FFunction(hi, hj, lij, lik, 1, 0, 1),\n",
    "    FFunction(hi, hj, lij, lik, 1, 1, 1),\n",
    "    cF3_degenerate(hi, hj, lij, lik, *(4*[0])),\n",
    "]\n",
    "\n",
    "line1 = get_line_Matrix(_expr_mi, vector_system_moments_degenerate)\n",
    "line2 = get_line_Matrix(_expr_mj, vector_system_moments_degenerate)\n",
    "line3 = get_line_Matrix(_expr_eta_1, vector_system_moments_degenerate)\n",
    "line4 = get_line_Matrix(_expr_eta_2, vector_system_moments_degenerate)"
   ]
  },
  {
   "cell_type": "code",
   "execution_count": null,
   "metadata": {},
   "outputs": [],
   "source": [
    "M = sp.Matrix([line1, line2, line3, line4])\n",
    "M = M.replace(lik, lij*hi/hj)\n",
    "\n",
    "M[0, :] /= (2*hi**3*hj**2*lij**2)\n",
    "M[1, :] /= (2*hi**2*hj**3*lij)\n",
    "M[2, :] /= (2*hi*hj**2*lij**2)\n",
    "M[3, :] /= (2*hi**2*lij**2)\n",
    "\n",
    "M[0, :] += M[1, :]/lij\n",
    "M[1, :] += M[2, :]/hi\n",
    "M[2, :] += M[3, :]/hj\n",
    "\n",
    "M = M.expand()\n",
    "\n",
    "A_system_moments_degenerate = sp.Symbol(\"A\")\n",
    "A_system_moments_degenerate_value = (M[3, 4]/(lij*hi*hj)).expand()\n",
    "M[3, 4] = A_system_moments_degenerate*(lij*hi*hj)\n",
    "\n",
    "display(M)\n",
    "display(A_system_moments_degenerate_value)\n",
    "sp.print_latex(A_system_moments_degenerate_value)"
   ]
  },
  {
   "cell_type": "code",
   "execution_count": null,
   "metadata": {},
   "outputs": [],
   "source": [
    "vector_system_moments_degenerate = list(map(lambda item: item.replace(lik, lij*hi/hj), vector_system_moments_degenerate))\n",
    "\n",
    "result = sp.solve_linear_system(M, *vector_system_moments_degenerate)\n",
    "\n",
    "value_system_moments_degenerate = []\n",
    "for key in vector_system_moments_degenerate:\n",
    "    value_system_moments_degenerate.append(result[key].factor())\n",
    "\n",
    "n, d = sp.fraction(value_system_moments_degenerate[0])\n",
    "det_system_moments_degenerate_value = d/2\n",
    "det_system_moments_degenerate = sp.Symbol(\"\\\\Delta\")\n",
    "subs_det_system_moments_degenerate = {det_system_moments_degenerate: det_system_moments_degenerate_value}\n",
    "\n",
    "value_system_moments_degenerate = list(map(lambda item: item.subs(det_system_moments_degenerate_value, det_system_moments_degenerate), value_system_moments_degenerate))\n",
    "\n",
    "for i in range(4):\n",
    "    display(sp.Eq(vector_system_moments_degenerate[i], value_system_moments_degenerate[i]))\n",
    "for i in range(4):\n",
    "    sp.print_latex(sp.Eq(vector_system_moments_degenerate[i], value_system_moments_degenerate[i]))\n",
    "\n",
    "display(sp.Eq(det_system_moments_degenerate, det_system_moments_degenerate_value))\n",
    "sp.print_latex(sp.Eq(det_system_moments_degenerate, det_system_moments_degenerate_value))"
   ]
  },
  {
   "cell_type": "code",
   "execution_count": null,
   "metadata": {},
   "outputs": [],
   "source": [
    "expr = det_system_moments_degenerate_value.collect([mi, mj, eta_ij, eta_ik], sp.factor)\n",
    "display(expr)\n",
    "sp.print_latex(expr)\n",
    "det_system_moments_degenerate_value.subs({hj: hi, mj: mi, eta_ik: eta_ij})"
   ]
  },
  {
   "cell_type": "code",
   "execution_count": null,
   "metadata": {},
   "outputs": [],
   "source": [
    "subs_to_A_degenerate = {EFunction(hi, hj, lij, lij*hi/hj, 0, 0, 1): sp.solve(A_system_moments_degenerate_value-A_system_moments_degenerate, EFunction(hi, hj, lij, lij*hi/hj, 0, 0, 1))[0]}\n",
    "subs_to_moments_degenerate = dict(zip(vector_system_moments_degenerate, value_system_moments_degenerate))"
   ]
  },
  {
   "cell_type": "code",
   "execution_count": null,
   "metadata": {},
   "outputs": [],
   "source": [
    "expr = expr_eta_ik_degenerate.replace(lik, lij*hi/hj)\n",
    "expr.subs(subs_to_A_degenerate).subs(subs_to_moments_degenerate).subs(subs_det_system_moments_degenerate).factor()"
   ]
  },
  {
   "cell_type": "code",
   "execution_count": null,
   "metadata": {},
   "outputs": [],
   "source": [
    "def calc_degenerate(expr):\n",
    "    expr = expr.expand()\n",
    "    expr = evaluate_cF3_degenerate(expr)\n",
    "    expr = expr.subs(subs_to_cF3Function_degenerate).expand()\n",
    "    expr = expr.replace(lik, lij*hi/hj)\n",
    "    expr = expr.subs(subs_to_A_degenerate).subs(subs_to_moments_degenerate).expand()\n",
    "    return expr"
   ]
  },
  {
   "cell_type": "code",
   "execution_count": null,
   "metadata": {},
   "outputs": [],
   "source": [
    "expr_Q_star_degenerate = calc_degenerate(Z3_degenerate_expr.diff(lij, 2)/(2*Z3_degenerate_expr) - eta_ik - 1)\n",
    "\n",
    "# expr_Q_star_degenerate"
   ]
  },
  {
   "cell_type": "code",
   "execution_count": null,
   "metadata": {},
   "outputs": [],
   "source": [
    "expr_diff_h_i_l_ij_degenerate = calc_degenerate(Z3_degenerate_expr.diff(hi, lij)/(Z3_degenerate_expr))\n",
    "expr_m_j_eta_ij_degenerate = calc_degenerate(Z3_degenerate_expr.diff(hj, lij)/(2*Z3_degenerate_expr))\n",
    "expr_m_i_eta_ik_degenerate = calc_degenerate(Z3_degenerate_expr.diff(hi, lik)/(2*Z3_degenerate_expr))\n",
    "expr_eta_ik_2_degenerate = calc_degenerate(Z3_degenerate_expr.diff(lik, 2)/(Z3_degenerate_expr))"
   ]
  },
  {
   "cell_type": "code",
   "execution_count": null,
   "metadata": {},
   "outputs": [],
   "source": [
    "vector_system_moments_2_degenerate = [\n",
    "    EFunction(hi, hj, lij, lij*hi/hj, 0, 0, 0)/A_system_moments_degenerate,\n",
    "    EFunction(hi, hj, lij, lij*hi/hj, 1, 1, 0)/A_system_moments_degenerate,\n",
    "    EFunction(hi, hj, lij, lij*hi/hj, 1, 0, 1)/A_system_moments_degenerate,\n",
    "    EFunction(hi, hj, lij, lij*hi/hj, 1, 0, 0)/A_system_moments_degenerate\n",
    "]\n",
    "\n",
    "line1 = get_line_Matrix(expr_diff_h_i_l_ij_degenerate-sp.Dummy(), vector_system_moments_2_degenerate)\n",
    "line2 = get_line_Matrix(expr_m_j_eta_ij_degenerate-mj_eta_ij, vector_system_moments_2_degenerate)\n",
    "line3 = get_line_Matrix(expr_m_i_eta_ik_degenerate-mi_eta_ik, vector_system_moments_2_degenerate)\n",
    "line4 = get_line_Matrix(expr_eta_ik_2_degenerate-eta_ik_2, vector_system_moments_2_degenerate)"
   ]
  },
  {
   "cell_type": "code",
   "execution_count": null,
   "metadata": {},
   "outputs": [],
   "source": [
    "M = sp.Matrix([line1, line2, line3, line4])\n",
    "\n",
    "M[0, :] += M[1, :]*2/hi*hj\n",
    "M[1, :] -= M[2, :]/hj**2*hi**2\n",
    "M[2, :] += M[3, :]*lij/hj/2\n",
    "\n",
    "M[1, :] -= M[0, :]/hj*hi/2\n",
    "M[2, :] += M[1, :]*hj**2/2/hi**2\n",
    "\n",
    "M = M.expand()\n",
    "\n",
    "display(M)"
   ]
  },
  {
   "cell_type": "code",
   "execution_count": null,
   "metadata": {},
   "outputs": [],
   "source": [
    "value_system_moments_2_degenerate = []\n",
    "\n",
    "value_system_moments_2_degenerate.append((M[0, -1]/M[0, 1]).factor())\n",
    "value_system_moments_2_degenerate.append((M[1, -1]/M[1, 2]).factor())\n",
    "value_system_moments_2_degenerate.append((M[2, -1]/M[2, 3]).factor())\n",
    "\n",
    "expr = sum([-M[-1, i+1]*value_system_moments_2_degenerate[i] for i in range(3)])+M[-1, -1]\n",
    "value_system_moments_2_degenerate.insert(0, (expr/M[-1, 0]).factor())\n",
    "\n",
    "# for i in range(4):\n",
    "#     display(sp.Eq(vector_system_moments_2_degenerate[i], value_system_moments_2_degenerate[i]))\n",
    "# for i in range(4):\n",
    "#     sp.print_latex(sp.Eq(vector_system_moments_2_degenerate[i], value_system_moments_2_degenerate[i]))"
   ]
  },
  {
   "cell_type": "code",
   "execution_count": null,
   "metadata": {},
   "outputs": [],
   "source": [
    "subs_to_moments_2_degenerate = dict(zip(vector_system_moments_2_degenerate, value_system_moments_2_degenerate))"
   ]
  },
  {
   "cell_type": "code",
   "execution_count": null,
   "metadata": {},
   "outputs": [],
   "source": [
    "expr_eta_ik_2_degenerate.subs(subs_to_moments_2_degenerate).factor()"
   ]
  },
  {
   "cell_type": "code",
   "execution_count": null,
   "metadata": {},
   "outputs": [],
   "source": [
    "expr_Q_star_degenerate_from_m_j_eta_ij = expr_Q_star_degenerate.subs(subs_to_moments_2_degenerate).subs(subs_det_system_moments_degenerate).factor().expand()\n",
    "expr_Q_star_degenerate_from_m_j_eta_ij"
   ]
  },
  {
   "cell_type": "code",
   "execution_count": null,
   "metadata": {},
   "outputs": [],
   "source": [
    "expr_m_j_par_2_degenerate = calc_degenerate(Z3_degenerate_expr.diff(hj, 2)/(Z3_degenerate_expr))\n",
    "expr = expr_m_j_par_2_degenerate.subs(subs_to_moments_2_degenerate).subs(subs_det_system_moments_degenerate).factor().expand()\n",
    "\n",
    "display(sp.Eq(mjh2, expr))"
   ]
  },
  {
   "cell_type": "code",
   "execution_count": null,
   "metadata": {},
   "outputs": [],
   "source": [
    "expr_m_j_eta_ik_degenerate = calc_degenerate(Z3_degenerate_expr.diff(hj, lik)/(Z3_degenerate_expr))\n",
    "expr = expr_m_j_eta_ik_degenerate.subs(subs_to_moments_2_degenerate).subs(subs_det_system_moments_degenerate).factor().expand()\n",
    "expr"
   ]
  },
  {
   "cell_type": "markdown",
   "metadata": {},
   "source": [
    "#### Проверка"
   ]
  },
  {
   "cell_type": "code",
   "execution_count": null,
   "metadata": {},
   "outputs": [],
   "source": [
    "to_cF3 = lambda *args: cF3(*args[:4])\n",
    "\n",
    "f_expr_m_i_degenerate = sp.lambdify(args_coeffs, expr_m_i_degenerate.replace(cF3_degenerate, to_cF3), Z3sym.num_module_norm)\n",
    "f_expr_m_j_degenerate = sp.lambdify(args_coeffs, expr_m_j_degenerate.replace(cF3_degenerate, to_cF3), Z3sym.num_module_norm)\n",
    "f_expr_eta_ij_degenerate = sp.lambdify(args_coeffs, expr_eta_ij_degenerate.replace(cF3_degenerate, to_cF3), Z3sym.num_module_norm)\n",
    "f_expr_eta_ik_degenerate = sp.lambdify(args_coeffs, expr_eta_ik_degenerate.replace(cF3_degenerate, to_cF3), Z3sym.num_module_norm)\n",
    "\n",
    "args = 1, 2, 2., 1\n",
    "compare_exprs(\n",
    "    calc_numerical_diffs(calc_Z3_symmetrical_integrate, args)/(np.asarray([2, 1, 2, 1])*calc_Z3_symmetrical_integrate(args)),\n",
    "    calc_exprs([f_expr_m_i_degenerate, f_expr_m_j_degenerate, f_expr_eta_ij_degenerate, f_expr_eta_ik_degenerate], args)\n",
    ")"
   ]
  },
  {
   "cell_type": "code",
   "execution_count": null,
   "metadata": {},
   "outputs": [],
   "source": [
    "z3 = Z3num.calc_from_coeffs(*args)\n",
    "\n",
    "print(f_expr_m_i_degenerate(*args))\n",
    "print(z3.mi)\n",
    "print()\n",
    "print(f_expr_m_j_degenerate(*args))\n",
    "print(z3.mj)\n",
    "print()\n",
    "print(f_expr_eta_ij_degenerate(*args))\n",
    "print(z3.eta_ij)\n",
    "print()\n",
    "print(f_expr_eta_ik_degenerate(*args))\n",
    "print(z3.eta_ik)\n",
    "print()"
   ]
  },
  {
   "cell_type": "code",
   "execution_count": null,
   "metadata": {},
   "outputs": [],
   "source": [
    "args_moments = hi, hj, lij, lik, mi, mj, eta_ij, eta_ik"
   ]
  },
  {
   "cell_type": "code",
   "execution_count": null,
   "metadata": {},
   "outputs": [],
   "source": [
    "args = 2, 1, 1.1\n",
    "args = list(args) + [args[2]*args[0]/args[1]]\n",
    "moments = f_expr_m_i_degenerate(*args), f_expr_m_j_degenerate(*args), f_expr_eta_ij_degenerate(*args), f_expr_eta_ik_degenerate(*args)\n",
    "\n",
    "for i in range(4):\n",
    "    left = vector_system_moments_degenerate[i].replace(cF3_degenerate, to_cF3).subs(subs_det_system_moments_degenerate)\n",
    "    f_left = sp.lambdify(args_moments, left, Z3sym.num_module_norm)\n",
    "    print(f_left(*args, *moments))\n",
    "\n",
    "    right = value_system_moments_degenerate[i].replace(A_system_moments_degenerate, A_system_moments_degenerate_value).subs(subs_det_system_moments_degenerate)\n",
    "    # right = A_system_moments_degenerate_value\n",
    "    f_right = sp.lambdify(args_moments, right, Z3sym.num_module_norm)\n",
    "    print(f_right(*args, *moments))\n",
    "\n",
    "    print()"
   ]
  },
  {
   "cell_type": "markdown",
   "metadata": {},
   "source": [
    "### Вырожденный случай с $h_1 = h_2$ и $\\lambda_1 = \\lambda_2$"
   ]
  },
  {
   "cell_type": "markdown",
   "metadata": {},
   "source": [
    "#### Символьные вычисления"
   ]
  },
  {
   "cell_type": "code",
   "execution_count": null,
   "metadata": {},
   "outputs": [],
   "source": [
    "class EFunction_spec_1(EFunction):\n",
    "    @classmethod\n",
    "    def eval(cls, *args):\n",
    "        arg = args[4] + args[5] + args[6]\n",
    "\n",
    "        if arg == 1 and not args[4]:\n",
    "            return EFunction_spec_1(*args[:4], 1, 0, 0)\n",
    "        \n",
    "        if arg == 2 and (not args[4] or not args[5]):\n",
    "            return EFunction_spec_1(*args[:4], 1, 1, 0)\n",
    "\n",
    "\n",
    "class FFunction_spec_1(FFunction):\n",
    "    @classmethod\n",
    "    def eval(cls, *args):\n",
    "        arg = args[4] + args[5] + args[6]\n",
    "\n",
    "        if arg == 1 and not args[4]:\n",
    "            return FFunction_spec_1(*args[:4], 1, 0, 0)\n",
    "        \n",
    "        if arg == 2 and (not args[4] or not args[5]):\n",
    "            return FFunction_spec_1(*args[:4], 1, 1, 0)"
   ]
  },
  {
   "cell_type": "code",
   "execution_count": null,
   "metadata": {},
   "outputs": [],
   "source": [
    "h, l = sp.symbols(\"h \\\\lambda\")\n",
    "m = sp.Symbol(\"\\\\left<m\\\\right>\")\n",
    "eta = sp.Symbol(\"\\\\left<\\eta\\\\right>\")"
   ]
  },
  {
   "cell_type": "code",
   "execution_count": null,
   "metadata": {},
   "outputs": [],
   "source": [
    "_expr = cF3_degenerate(h, h, l, l, *(4*[0]))\n",
    "\n",
    "subs_to_cF3Function_degenerate_spec_1 = {\n",
    "    EFunction_spec_1(h, h, l, l, 1, 1, 1): sp.solve(_expr-evaluate_cF3_degenerate(_expr).replace(EFunction, EFunction_spec_1).replace(FFunction, FFunction_spec_1), EFunction_spec_1(h, h, l, l, 1, 1, 1))[0]\n",
    "}"
   ]
  },
  {
   "cell_type": "code",
   "execution_count": null,
   "metadata": {},
   "outputs": [],
   "source": [
    "subs_to_cF3Function_degenerate_spec_1"
   ]
  },
  {
   "cell_type": "code",
   "execution_count": null,
   "metadata": {},
   "outputs": [],
   "source": [
    "expr_m_i_degenerate_spec_1 = evaluate_cF3_degenerate(expr_m_i_degenerate).replace(EFunction, EFunction_spec_1).replace(FFunction, FFunction_spec_1)\n",
    "expr_m_i_degenerate_spec_1 = expr_m_i_degenerate_spec_1.subs({hi: h, hj: h, lij: l, lik: l})\n",
    "\n",
    "expr_m_j_degenerate_spec_1 = evaluate_cF3_degenerate(expr_m_j_degenerate).replace(EFunction, EFunction_spec_1).replace(FFunction, FFunction_spec_1)\n",
    "expr_m_j_degenerate_spec_1 = expr_m_j_degenerate_spec_1.subs({hi: h, hj: h, lij: l, lik: l})\n",
    "\n",
    "expr_eta_ij_degenerate_spec_1 = evaluate_cF3_degenerate(expr_eta_ij_degenerate).replace(EFunction, EFunction_spec_1).replace(FFunction, FFunction_spec_1)\n",
    "expr_eta_ij_degenerate_spec_1 = expr_eta_ij_degenerate_spec_1.subs({hi: h, hj: h, lij: l, lik: l})\n",
    "\n",
    "expr_eta_ik_degenerate_spec_1 = evaluate_cF3_degenerate(expr_eta_ik_degenerate).replace(EFunction, EFunction_spec_1).replace(FFunction, FFunction_spec_1)\n",
    "expr_eta_ik_degenerate_spec_1 = expr_eta_ik_degenerate_spec_1.subs({hi: h, hj: h, lij: l, lik: l})"
   ]
  },
  {
   "cell_type": "code",
   "execution_count": null,
   "metadata": {},
   "outputs": [],
   "source": [
    "expr_m_i_degenerate_spec_1.subs(subs_to_cF3Function_degenerate_spec_1)"
   ]
  },
  {
   "cell_type": "code",
   "execution_count": null,
   "metadata": {},
   "outputs": [],
   "source": [
    "expr_eta_ik_degenerate_spec_1"
   ]
  },
  {
   "cell_type": "code",
   "execution_count": null,
   "metadata": {},
   "outputs": [],
   "source": [
    "n, d = sp.fraction(expr_m_i_degenerate_spec_1.factor())\n",
    "_expr_m = (n-d*m).expand()\n",
    "\n",
    "n, d = sp.fraction(expr_eta_ij_degenerate_spec_1.factor())\n",
    "_expr_eta_ij = (n-d*eta).expand()"
   ]
  },
  {
   "cell_type": "code",
   "execution_count": null,
   "metadata": {},
   "outputs": [],
   "source": [
    "vector_system_moments_degenerate_spec_1 = [\n",
    "    FFunction_spec_1(h, h, l, l, 1, 1, 1),\n",
    "    FFunction_spec_1(h, h, l, l, 1, 1, 0),\n",
    "]\n",
    "\n",
    "line1 = get_line_Matrix(_expr_m, vector_system_moments_degenerate_spec_1)\n",
    "line2 = get_line_Matrix(_expr_eta_ij, vector_system_moments_degenerate_spec_1)"
   ]
  },
  {
   "cell_type": "code",
   "execution_count": null,
   "metadata": {},
   "outputs": [],
   "source": [
    "result = sp.solve_linear_system(sp.Matrix([line1, line2]), *vector_system_moments_degenerate_spec_1)\n",
    "\n",
    "value_system_moments_degenerate_spec_1 = []\n",
    "for key in vector_system_moments_degenerate_spec_1:\n",
    "    value_system_moments_degenerate_spec_1.append(result[key].factor())\n",
    "\n",
    "for i in range(2):\n",
    "    display(sp.Eq(vector_system_moments_degenerate_spec_1[i], value_system_moments_degenerate_spec_1[i]))\n",
    "for i in range(2):\n",
    "    sp.print_latex(sp.Eq(vector_system_moments_degenerate_spec_1[i], value_system_moments_degenerate_spec_1[i]))"
   ]
  },
  {
   "cell_type": "code",
   "execution_count": null,
   "metadata": {},
   "outputs": [],
   "source": [
    "subs_to_moments_degenerate_spec_1 = dict(zip(vector_system_moments_degenerate_spec_1, value_system_moments_degenerate_spec_1))"
   ]
  },
  {
   "cell_type": "code",
   "execution_count": null,
   "metadata": {},
   "outputs": [],
   "source": [
    "expr = expr_eta_ik_degenerate_spec_1\n",
    "expr.subs(subs_to_moments_degenerate_spec_1).factor()"
   ]
  },
  {
   "cell_type": "code",
   "execution_count": null,
   "metadata": {},
   "outputs": [],
   "source": [
    "def calc_degenerate_spec_1(expr):\n",
    "    expr = expr.expand()\n",
    "    expr = evaluate_cF3_degenerate(expr)\n",
    "    expr = expr.replace(EFunction, EFunction_spec_1).replace(FFunction, FFunction_spec_1)\n",
    "    expr = expr.subs({hi: h, hj: h, lij: l, lik: l})\n",
    "    expr = expr.subs(subs_to_moments_degenerate_spec_1).factor().expand()\n",
    "    return expr"
   ]
  },
  {
   "cell_type": "code",
   "execution_count": null,
   "metadata": {},
   "outputs": [],
   "source": [
    "expr_Q_star_degenerate_spec_1 = calc_degenerate_spec_1(Z3_degenerate_expr.diff(lij, 2)/(2*Z3_degenerate_expr) - eta - 1)\n",
    "# expr_Q_star_degenerate_spec_1"
   ]
  },
  {
   "cell_type": "code",
   "execution_count": null,
   "metadata": {},
   "outputs": [],
   "source": [
    "expr_eta_ik_2_degenerate_spec_1 = calc_degenerate_spec_1(Z3_degenerate_expr.diff(lik, 2)/Z3_degenerate_expr)\n",
    "expr_m_j_eta_ik_degenerate_spec_1 = calc_degenerate_spec_1(Z3_degenerate_expr.diff(hj, lik)/Z3_degenerate_expr)\n",
    "expr_m_j_eta_ij_degenerate_spec_1 = calc_degenerate_spec_1(Z3_degenerate_expr.diff(hj, lij)/(2*Z3_degenerate_expr))\n",
    "expr_m_j_par_2_degenerate_spec_1 = calc_degenerate_spec_1(Z3_degenerate_expr.diff(hj, hj)/Z3_degenerate_expr)"
   ]
  },
  {
   "cell_type": "code",
   "execution_count": null,
   "metadata": {},
   "outputs": [],
   "source": [
    "vector_system_moments_2_degenerate_spec_1 = [\n",
    "    EFunction_spec_1(h, h, l, l, 1, 1, 0)/EFunction_spec_1(h, h, l, l, 1, 1, 1),\n",
    "    EFunction_spec_1(h, h, l, l, 1, 0, 0)/EFunction_spec_1(h, h, l, l, 1, 1, 1),\n",
    "    EFunction_spec_1(h, h, l, l, 0, 0, 0)/EFunction_spec_1(h, h, l, l, 1, 1, 1),\n",
    "]\n",
    "\n",
    "mj_eta_ik = sp.Symbol(\"\\\\left<m_j\\\\eta_{ik}\\\\right>\")\n",
    "line1 = get_line_Matrix(expr_eta_ik_2_degenerate_spec_1-eta_ik_2, vector_system_moments_2_degenerate_spec_1)\n",
    "line2 = get_line_Matrix(expr_m_j_eta_ik_degenerate_spec_1-mj_eta_ik, vector_system_moments_2_degenerate_spec_1)\n",
    "line3 = get_line_Matrix(expr_m_j_par_2_degenerate_spec_1-mjh2, vector_system_moments_2_degenerate_spec_1)"
   ]
  },
  {
   "cell_type": "code",
   "execution_count": null,
   "metadata": {},
   "outputs": [],
   "source": [
    "M = sp.Matrix([line1, line2, line3])\n",
    "\n",
    "M[0, :] *= 10*l**4\n",
    "M[1, :] *= 10*l**3\n",
    "M[2, :] *= 10*l**2*h**2\n",
    "\n",
    "M[1, :] -= M[2, :]/h\n",
    "M[0, :] -= M[2, :]\n",
    "M[0, :] -= M[1, :]*h\n",
    "M[2, :] -= M[0, :]/5*2\n",
    "M[2, :] -= M[0, :]/5*2*h**2/l\n",
    "M[2, :] -= M[1, :]/5*3*h*l\n",
    "M[2, :] += M[1, :]/5*3*h\n",
    "M[2, :] += M[1, :]/5/l*h**3\n",
    "\n",
    "M = M.expand()\n",
    "\n",
    "display(M)"
   ]
  },
  {
   "cell_type": "code",
   "execution_count": null,
   "metadata": {},
   "outputs": [],
   "source": [
    "value_system_moments_2_degenerate_spec_1 = []\n",
    "\n",
    "result = (M[:, :-1]).solve(M[:, -1])\n",
    "for item in result:\n",
    "    value_system_moments_2_degenerate_spec_1.append(item.factor())\n",
    "\n",
    "for i in range(3):\n",
    "    display(sp.Eq(vector_system_moments_2_degenerate_spec_1[i], value_system_moments_2_degenerate_spec_1[i]))\n",
    "for i in range(3):\n",
    "    sp.print_latex(sp.Eq(vector_system_moments_2_degenerate_spec_1[i], value_system_moments_2_degenerate_spec_1[i]))"
   ]
  },
  {
   "cell_type": "code",
   "execution_count": null,
   "metadata": {},
   "outputs": [],
   "source": [
    "subs_to_moments_2_degenerate_spec_1 = dict(zip(vector_system_moments_2_degenerate_spec_1, value_system_moments_2_degenerate_spec_1))"
   ]
  },
  {
   "cell_type": "code",
   "execution_count": null,
   "metadata": {},
   "outputs": [],
   "source": [
    "expr_m_j_eta_ik_degenerate_spec_1.subs(subs_to_moments_2_degenerate_spec_1).factor()"
   ]
  },
  {
   "cell_type": "code",
   "execution_count": null,
   "metadata": {},
   "outputs": [],
   "source": [
    "expr_Q_star_degenerate_spec_1_from_moments_2 = expr_Q_star_degenerate_spec_1.subs(subs_to_moments_2_degenerate_spec_1).factor().expand()\n",
    "expr_Q_star_degenerate_spec_1_from_moments_2"
   ]
  },
  {
   "cell_type": "code",
   "execution_count": null,
   "metadata": {},
   "outputs": [],
   "source": [
    "expr = calc_degenerate_spec_1(expr_m_j_eta_ij_degenerate_spec_1)\n",
    "expr.subs(subs_to_moments_2_degenerate_spec_1).factor().expand()"
   ]
  },
  {
   "cell_type": "code",
   "execution_count": null,
   "metadata": {},
   "outputs": [],
   "source": [
    "expr = calc_degenerate_spec_1(Z3_degenerate_expr.diff(hi, lik)/(2*Z3_degenerate_expr))\n",
    "expr.subs(subs_to_moments_2_degenerate_spec_1).factor().expand()"
   ]
  },
  {
   "cell_type": "markdown",
   "metadata": {},
   "source": [
    "#### Проверка"
   ]
  },
  {
   "cell_type": "code",
   "execution_count": null,
   "metadata": {},
   "outputs": [],
   "source": [
    "to_cF3 = lambda *args: cF3(*args[:4])\n",
    "subs = {FFunction_spec_1: FFunction, EFunction_spec_1: EFunction}\n",
    "\n",
    "f_expr_m_i_degenerate_spec_1 = sp.lambdify((h, l), expr_m_i_degenerate_spec_1.subs(subs), Z3sym.num_module_norm)\n",
    "f_expr_m_j_degenerate_spec_1 = sp.lambdify((h, l), expr_m_j_degenerate_spec_1.subs(subs), Z3sym.num_module_norm)\n",
    "f_expr_eta_ij_degenerate_spec_1 = sp.lambdify((h, l), expr_eta_ij_degenerate_spec_1.subs(subs), Z3sym.num_module_norm)\n",
    "f_expr_eta_ik_degenerate_spec_1 = sp.lambdify((h, l), expr_eta_ik_degenerate_spec_1.subs(subs), Z3sym.num_module_norm)\n",
    "\n",
    "args = 0.8, 1.1\n",
    "compare_exprs(\n",
    "    calc_numerical_diffs(calc_Z3_symmetrical_integrate, [args[0], args[0], args[1], args[1]])/(np.asarray([2, 1, 2, 1])*calc_Z3_symmetrical_integrate([args[0], args[0], args[1], args[1]])),\n",
    "    calc_exprs([f_expr_m_i_degenerate_spec_1, f_expr_m_j_degenerate_spec_1, f_expr_eta_ij_degenerate_spec_1, f_expr_eta_ik_degenerate_spec_1], args)\n",
    ")"
   ]
  },
  {
   "cell_type": "code",
   "execution_count": null,
   "metadata": {},
   "outputs": [],
   "source": [
    "expr_m_i_degenerate_spec_1"
   ]
  },
  {
   "cell_type": "code",
   "execution_count": null,
   "metadata": {},
   "outputs": [],
   "source": [
    "args = 1, 2.\n",
    "moments = f_expr_m_i_degenerate_spec_1(*args), f_expr_eta_ij_degenerate_spec_1(*args),\n",
    "\n",
    "for i in range(2):\n",
    "    left = vector_system_moments_degenerate_spec_1[i].subs(subs)\n",
    "    f_left = sp.lambdify((h, l, m, eta), left, Z3sym.num_module_norm)\n",
    "    print(f_left(*args, *moments))\n",
    "\n",
    "    right = vector_system_moments_degenerate_spec_1[i].subs(subs)\n",
    "    f_right = sp.lambdify((h, l, m, eta), right, Z3sym.num_module_norm)\n",
    "    print(f_right(*args, *moments))\n",
    "\n",
    "    print()"
   ]
  },
  {
   "cell_type": "code",
   "execution_count": null,
   "metadata": {},
   "outputs": [],
   "source": [
    "f_expr_Q_star_degenerate_spec_1 = sp.lambdify((h, l, m, eta), expr_Q_star_degenerate_spec_1.factor().subs(subs), Z3sym.num_module_norm)\n",
    "f_expr_Q_star_degenerate_spec_1_from_moments_2 = sp.lambdify((h, l, m, eta, mjh2), expr_Q_star_degenerate_spec_1_from_moments_2.subs(subs), Z3sym.num_module_norm)\n",
    "f_expr_m_par_2_degenerate_spec_1 = sp.lambdify((h, l, m, eta), expr_m_j_par_2_degenerate_spec_1.subs(subs), Z3sym.num_module_norm)\n",
    "\n",
    "args = 49.03486660449675, 0.510352248405618\n",
    "moments = f_expr_m_i_degenerate_spec_1(*args), f_expr_eta_ij_degenerate_spec_1(*args),\n",
    "\n",
    "Q_star = nd.directionaldiff(calc_Z3_symmetrical_integrate, [args[0], args[0], args[1], args[1]], [0, 0, 1, 0], n=2)\n",
    "Q_star /= 2*calc_Z3_symmetrical_integrate([args[0], args[0], args[1], args[1]])\n",
    "Q_star -= f_expr_eta_ik_degenerate_spec_1(*args) + 1\n",
    "\n",
    "print(Q_star)\n",
    "print(f_expr_Q_star_degenerate_spec_1(*args, *moments))\n",
    "print(f_expr_Q_star_degenerate_spec_1_from_moments_2(*args, *moments, f_expr_m_par_2_degenerate_spec_1(*args, *moments)))"
   ]
  },
  {
   "cell_type": "markdown",
   "metadata": {},
   "source": [
    "## Генерация кода для метода Ньютона"
   ]
  },
  {
   "cell_type": "markdown",
   "metadata": {},
   "source": [
    "### Определения"
   ]
  },
  {
   "cell_type": "code",
   "execution_count": null,
   "metadata": {},
   "outputs": [],
   "source": [
    "class CPrinter(symbase.CPrinter):\n",
    "    def _print_Function(self, expr):\n",
    "        if isinstance(expr, Z2sym.F2):\n",
    "            return f\"dawson({self._print(expr.args[0])})\"\n",
    "        \n",
    "        if isinstance(expr, F3):\n",
    "            return f\"F3({self._print(expr.args[0])}, {self._print(expr.args[1])}, {self._print(expr.args[2])})\"\n",
    "\n",
    "        return super()._print_Function(expr)\n",
    "    \n",
    "\n",
    "def get_ccode(expr):\n",
    "    expr = symbase.optimize_pow(expr, {hi: \"h_i\", hj: \"h_j\", lij: \"l_ij\", lik: \"l_ik\"})\n",
    "    return CPrinter().doprint(expr)"
   ]
  },
  {
   "cell_type": "code",
   "execution_count": null,
   "metadata": {},
   "outputs": [],
   "source": [
    "def break_to_sub_exprs(name, expr, max_sub_exprs=60):\n",
    "    args = expr.args\n",
    "    N = len(args) // max_sub_exprs\n",
    "    flag_first = True\n",
    "    for _ in range(N):\n",
    "        if flag_first:\n",
    "            s = f\"{name} = \"\n",
    "            flag_first = False\n",
    "        else:\n",
    "            s = f\"{name} += \"\n",
    "        print(s, get_ccode(sp.Add(*args[:max_sub_exprs])), \";\")\n",
    "        args = args[max_sub_exprs:]\n",
    "\n",
    "    if len(args) > 0:\n",
    "        if flag_first:\n",
    "            s = f\"{name} = \"\n",
    "            flag_first = False\n",
    "        else:\n",
    "            s = f\"{name} += \"\n",
    "        print(s, get_ccode(sp.Add(*args)), \";\")\n",
    "\n",
    "    print()"
   ]
  },
  {
   "cell_type": "markdown",
   "metadata": {},
   "source": [
    "### Общий случай"
   ]
  },
  {
   "cell_type": "code",
   "execution_count": null,
   "metadata": {},
   "outputs": [],
   "source": [
    "subs_exp = {\n",
    "    sp.exp(-2*hi): sp.Symbol(\"_exp_2h_i\"),\n",
    "    sp.exp(-2*hj): sp.Symbol(\"_exp_2h_j\"),\n",
    "    sp.exp(-2*lij): sp.Symbol(\"_exp_2l_ij\"),\n",
    "    sp.exp(-2*lik): sp.Symbol(\"_exp_2l_ik\")\n",
    "}\n",
    "\n",
    "subs_coeffs = {hi: sp.Symbol(\"h_i\"), hj: sp.Symbol(\"h_j\"), lij: sp.Symbol(\"l_ij\"), lik: sp.Symbol(\"l_ik\")}\n",
    "\n",
    "subs_moments = {\n",
    "    mi: sp.Symbol(\"mi\"),\n",
    "    mj: sp.Symbol(\"mj\"),\n",
    "    eta_ij: sp.Symbol(\"eta_ij\"),\n",
    "    eta_ik: sp.Symbol(\"eta_ik\"),\n",
    "    eta_ik_2: sp.Symbol(\"eta_ik2\"),\n",
    "    mj_eta_ij: sp.Symbol(\"mj_eta_ij\"),\n",
    "    mi_eta_ik: sp.Symbol(\"mi_eta_ik\"),\n",
    "    mj_eta_ik: sp.Symbol(\"mj_eta_ik\")\n",
    "}\n",
    "\n",
    "subs = subs_exp\n",
    "subs.update(subs_coeffs)\n",
    "subs.update(subs_moments)\n",
    "\n",
    "def to_norm(expr):\n",
    "    expr *= sp.exp(-hj-lik-2*(hi+lij))\n",
    "    return expr.expand()"
   ]
  },
  {
   "cell_type": "code",
   "execution_count": null,
   "metadata": {},
   "outputs": [],
   "source": [
    "print(\"cF3 = \", get_ccode(to_norm(cF3(hi, hj, lij, lik).rewrite(sp.exp)).subs(subs)))"
   ]
  },
  {
   "cell_type": "code",
   "execution_count": null,
   "metadata": {},
   "outputs": [],
   "source": [
    "def sigmas_args(arg_s1, arg_s2, arg_s3):\n",
    "    result = \"\"\n",
    "    if arg_s1:\n",
    "        result += \"1\"\n",
    "    if arg_s2:\n",
    "        result += \"2\"\n",
    "    if arg_s3:\n",
    "        result += \"3\"\n",
    "    return result\n",
    "\n",
    "\n",
    "def sigmas_func_name(func):\n",
    "    name = \"\"\n",
    "    if isinstance(func, EFunction):\n",
    "        name = \"E\"\n",
    "    if isinstance(func, FFunction):\n",
    "        name = \"F\"\n",
    "    if isinstance(func, FTildeFunction):\n",
    "        name = \"FTilde\"\n",
    "    return name + sigmas_args(*func.args[-3:])"
   ]
  },
  {
   "cell_type": "code",
   "execution_count": null,
   "metadata": {},
   "outputs": [],
   "source": [
    "subs_kappa = {\n",
    "    lij*hi - lik*hj: 1/sp.Symbol(\"_kappa\")\n",
    "}\n",
    "\n",
    "sigmas_funcs = []\n",
    "\n",
    "def optimize_moment(expr):\n",
    "    def add_sigmas_func(func):\n",
    "        if func not in sigmas_funcs:\n",
    "            sigmas_funcs.append(func)\n",
    "        return sp.Symbol(sigmas_func_name(func))*cF3(hi, hj, lij, lik)*sp.Symbol(\"_cF3\")\n",
    "    expr = expr.subs(subs_kappa).expand()\n",
    "    expr = expr.replace(EFunction, lambda *args: add_sigmas_func(EFunction(*args)))\n",
    "    expr = expr.replace(FFunction, lambda *args: add_sigmas_func(FFunction(*args)))\n",
    "    expr = expr.replace(FTildeFunction, lambda *args: add_sigmas_func(FTildeFunction(*args)))\n",
    "    return expr"
   ]
  },
  {
   "cell_type": "code",
   "execution_count": null,
   "metadata": {},
   "outputs": [],
   "source": [
    "break_to_sub_exprs(\"mi\", optimize_moment(expr_mi).subs(subs), 7)\n",
    "break_to_sub_exprs(\"mj\", optimize_moment(expr_mj).subs(subs), 7)\n",
    "break_to_sub_exprs(\"eta_ij\", optimize_moment(expr_eta_ij).subs(subs), 7)\n",
    "break_to_sub_exprs(\"eta_ik\", optimize_moment(expr_eta_ik).subs(subs), 7)\n",
    "\n",
    "expr = expr_mj_eta_ij.subs(subs_det_system_moments).factor().expand()\n",
    "expr = sp.Add(*map(sp.factor, expr.args))\n",
    "break_to_sub_exprs(\"mj_eta_ij\", optimize_moment(expr).subs(subs), 5)\n",
    "\n",
    "expr = expr_mi_eta_ik.subs(subs_det_system_moments).factor().expand()\n",
    "expr = sp.Add(*map(sp.factor, expr.args))\n",
    "break_to_sub_exprs(\"mi_eta_ik\", optimize_moment(expr).subs(subs), 5)\n",
    "\n",
    "expr = expr_mj_eta_ik.subs(subs_det_system_moments).factor().expand()\n",
    "expr = sp.Add(*map(sp.factor, expr.args))\n",
    "break_to_sub_exprs(\"mj_eta_ik\", optimize_moment(expr).subs(subs), 5)\n",
    "\n",
    "expr = expr_eta_ik_2.subs(subs_det_system_moments).factor().expand()\n",
    "expr = sp.Add(*map(sp.factor, expr.args))\n",
    "break_to_sub_exprs(\"eta_ik2\", optimize_moment(expr).subs(subs), 5)"
   ]
  },
  {
   "cell_type": "code",
   "execution_count": null,
   "metadata": {},
   "outputs": [],
   "source": [
    "for sigmas_func in sigmas_funcs:\n",
    "    print(sigmas_func_name(sigmas_func), end=\", \")"
   ]
  },
  {
   "cell_type": "code",
   "execution_count": null,
   "metadata": {},
   "outputs": [],
   "source": [
    "for sigmas_func in sigmas_funcs:\n",
    "    print(f\"{sigmas_func_name(sigmas_func)} = {get_ccode(to_norm(sigmas_func.rewrite(sp.exp)).subs(subs_exp))}\")"
   ]
  },
  {
   "cell_type": "code",
   "execution_count": null,
   "metadata": {},
   "outputs": [],
   "source": [
    "print(expr_Q_star_from_m_j_eta_ij.subs(subs))"
   ]
  },
  {
   "cell_type": "markdown",
   "metadata": {},
   "source": [
    "### Вырожденный случай"
   ]
  },
  {
   "cell_type": "code",
   "execution_count": null,
   "metadata": {},
   "outputs": [],
   "source": [
    "# sigmas_funcs = []\n",
    "\n",
    "def optimize_moment_degenerate(expr):\n",
    "    def add_sigmas_func(func):\n",
    "        if func not in sigmas_funcs:\n",
    "            sigmas_funcs.append(func)\n",
    "        return sp.Symbol(sigmas_func_name(func))*cF3(hi, hj, lij, lik)*sp.Symbol(\"_cF3\")\n",
    "    \n",
    "    expr = evaluate_cF3_degenerate(expr).subs(subs_to_cF3Function_degenerate).expand()\n",
    "    expr = expr.replace(cF3_degenerate, lambda *args: cF3(*args[:4]))\n",
    "    expr = expr.replace(EFunction, lambda *args: add_sigmas_func(EFunction(*args)))\n",
    "    expr = expr.replace(FFunction, lambda *args: add_sigmas_func(FFunction(*args)))\n",
    "    return expr"
   ]
  },
  {
   "cell_type": "code",
   "execution_count": null,
   "metadata": {},
   "outputs": [],
   "source": [
    "# def _calc_degenerate(expr):\n",
    "#     expr = expr.expand()\n",
    "#     expr = evaluate_cF3_degenerate(expr)\n",
    "#     expr = expr.subs(subs_to_cF3Function_degenerate).expand()\n",
    "#     return expr\n",
    "\n",
    "# _expr_m_j_eta_ij_degenerate = _calc_degenerate(Z3_degenerate_expr.diff(hj, lij)/(2*Z3_degenerate_expr))\n",
    "# _expr_m_i_eta_ik_degenerate = _calc_degenerate(Z3_degenerate_expr.diff(hi, lik)/(2*Z3_degenerate_expr))\n",
    "# _expr_m_j_eta_ik_degenerate = _calc_degenerate(Z3_degenerate_expr.diff(hj, lik)/(Z3_degenerate_expr))\n",
    "# _expr_eta_ik_2_degenerate = _calc_degenerate(Z3_degenerate_expr.diff(lik, 2)/(Z3_degenerate_expr))"
   ]
  },
  {
   "cell_type": "code",
   "execution_count": null,
   "metadata": {},
   "outputs": [],
   "source": [
    "# break_to_sub_exprs(\"mi\", optimize_moment_degenerate(expr_m_i_degenerate).subs(subs), 7)\n",
    "# break_to_sub_exprs(\"mj\", optimize_moment_degenerate(expr_m_j_degenerate).subs(subs), 7)\n",
    "# break_to_sub_exprs(\"eta_ij\", optimize_moment_degenerate(expr_eta_ij_degenerate).subs(subs), 7)\n",
    "# break_to_sub_exprs(\"eta_ik\", optimize_moment_degenerate(expr_eta_ik_degenerate).subs(subs), 7)\n",
    "\n",
    "# break_to_sub_exprs(\"mj_eta_ij\", optimize_moment_degenerate(_expr_m_j_eta_ij_degenerate).subs(subs), 7)\n",
    "# break_to_sub_exprs(\"mi_eta_ik\", optimize_moment_degenerate(_expr_m_i_eta_ik_degenerate).subs(subs), 7)\n",
    "# break_to_sub_exprs(\"mj_eta_ik\", optimize_moment_degenerate(_expr_m_j_eta_ik_degenerate).subs(subs), 7)\n",
    "# break_to_sub_exprs(\"eta_ik2\", optimize_moment_degenerate(_expr_eta_ik_2_degenerate).subs(subs), 7)"
   ]
  },
  {
   "cell_type": "code",
   "execution_count": null,
   "metadata": {},
   "outputs": [],
   "source": [
    "for sigmas_func in sigmas_funcs:\n",
    "    print(sigmas_func_name(sigmas_func), end=\", \")"
   ]
  },
  {
   "cell_type": "code",
   "execution_count": null,
   "metadata": {},
   "outputs": [],
   "source": [
    "for sigmas_func in sigmas_funcs:\n",
    "    print(f\"{sigmas_func_name(sigmas_func)} = {get_ccode(to_norm(sigmas_func.rewrite(sp.exp)).subs(subs))}\")"
   ]
  },
  {
   "cell_type": "markdown",
   "metadata": {},
   "source": [
    "### Полностью симметричный случай"
   ]
  },
  {
   "cell_type": "code",
   "execution_count": null,
   "metadata": {},
   "outputs": [],
   "source": [
    "# sigmas_funcs = []\n",
    "\n",
    "def optimize_moment_degenerate_spec_1(expr):\n",
    "    def add_sigmas_func(func):\n",
    "        if func not in sigmas_funcs:\n",
    "            sigmas_funcs.append(func)\n",
    "        return sp.Symbol(sigmas_func_name(func))#*cF3(hi, hj, lij, lik)*sp.Symbol(\"_cF3\")\n",
    "    \n",
    "    expr = evaluate_cF3_degenerate(expr).expand()\n",
    "    # expr = expr.subs(subs_to_cF3Function_degenerate_spec_1).expand()\n",
    "    expr = expr.replace(cF3_degenerate, lambda *args: cF3(hi, hj, lij, lik))\n",
    "    expr = expr.replace(EFunction_spec_1, lambda *args: add_sigmas_func(EFunction(*args)))\n",
    "    expr = expr.replace(FFunction_spec_1, lambda *args: add_sigmas_func(FFunction(*args)))\n",
    "    return expr.subs({h: hi, l: lij})"
   ]
  },
  {
   "cell_type": "code",
   "execution_count": null,
   "metadata": {},
   "outputs": [],
   "source": [
    "# def _calc_degenerate_spec_1(expr):\n",
    "#     expr = expr.expand()\n",
    "#     expr = evaluate_cF3_degenerate(expr)\n",
    "#     expr = expr.replace(EFunction, EFunction_spec_1).replace(FFunction, FFunction_spec_1)\n",
    "#     expr = expr.subs({hi: h, hj: h, lij: l, lik: l})\n",
    "#     return expr\n",
    "\n",
    "\n",
    "# _expr_m_j_eta_ij_degenerate_spec_1 = _calc_degenerate_spec_1(Z3_degenerate_expr.diff(hj, lij)/(2*Z3_degenerate_expr))\n",
    "# _expr_eta_ik_2_degenerate_spec_1 = _calc_degenerate_spec_1(Z3_degenerate_expr.diff(lik, 2)/(Z3_degenerate_expr))"
   ]
  },
  {
   "cell_type": "code",
   "execution_count": null,
   "metadata": {},
   "outputs": [],
   "source": [
    "# break_to_sub_exprs(\"mi\", optimize_moment_degenerate_spec_1(expr_m_i_degenerate_spec_1).subs(subs), 7)\n",
    "# break_to_sub_exprs(\"eta_ij\", optimize_moment_degenerate_spec_1(expr_eta_ij_degenerate_spec_1).subs(subs), 7)"
   ]
  },
  {
   "cell_type": "code",
   "execution_count": null,
   "metadata": {},
   "outputs": [],
   "source": [
    "# break_to_sub_exprs(\"mj_eta_ij\", optimize_moment_degenerate_spec_1(_expr_m_j_eta_ij_degenerate_spec_1).subs(subs), 7)\n",
    "# break_to_sub_exprs(\"eta_ik2\", optimize_moment_degenerate_spec_1(_expr_eta_ik_2_degenerate_spec_1).subs(subs), 7)"
   ]
  },
  {
   "cell_type": "markdown",
   "metadata": {},
   "source": [
    "## Решение обратной задачи"
   ]
  },
  {
   "cell_type": "code",
   "execution_count": null,
   "metadata": {},
   "outputs": [],
   "source": [
    "%timeit Z3num.calc_from_coeffs_symmetrical(.1, .1, .1, .1)"
   ]
  },
  {
   "cell_type": "code",
   "execution_count": null,
   "metadata": {},
   "outputs": [],
   "source": [
    "%timeit Z3num.calc_Z3_integrate(1, 1, 1, 1, 1, 1)"
   ]
  },
  {
   "cell_type": "markdown",
   "metadata": {},
   "source": [
    "### Обратная задача в случае $\\left<m_i\\right>=\\left<m_j\\right>$"
   ]
  },
  {
   "cell_type": "code",
   "execution_count": null,
   "metadata": {},
   "outputs": [],
   "source": [
    "N = 32\n",
    "left, right = 0, 1\n",
    "\n",
    "m = np.linspace(left, right, N)\n",
    "zeta_1 = np.linspace(left, right, N)\n",
    "zeta_2 = np.linspace(left, right, N)\n",
    "\n",
    "m, zeta_1, zeta_2 = np.meshgrid(m, zeta_1, zeta_2)\n",
    "\n",
    "zeta_ij = zeta_1\n",
    "zeta_ik = zeta_2 + (1-zeta_2)*zeta_ij**2\n",
    "\n",
    "eta_ij = zeta_ij + (1-zeta_ij)*m**2\n",
    "eta_ik = zeta_ik + (1-zeta_ik)*m**2"
   ]
  },
  {
   "cell_type": "code",
   "execution_count": null,
   "metadata": {},
   "outputs": [],
   "source": [
    "hi, hj, lij, lik = np.empty_like(m), np.empty_like(m), np.empty_like(m), np.empty_like(m)\n",
    "mj_eta_ij, mi_eta_ik, mj_eta_ik, eta_ik2 = np.empty_like(m), np.empty_like(m), np.empty_like(m), np.empty_like(m)\n",
    "mjh2, Q_star = np.empty_like(m), np.empty_like(m)\n",
    "Z3_norm = np.empty_like(m)\n",
    "\n",
    "for i in range(m.size):\n",
    "    z3 = Z3num.find_coeffs_symmetrical(m.flat[i], eta_ij.flat[i], eta_ik.flat[i])\n",
    "    hi.flat[i], hj.flat[i], lij.flat[i], lik.flat[i]  = z3.h_i, z3.h_j, z3.l_ij, z3.l_ik\n",
    "    mj_eta_ij.flat[i], mi_eta_ik.flat[i], mj_eta_ik.flat[i], eta_ik2.flat[i] = z3.mj_eta_ij, z3.mi_eta_ik, z3.mj_eta_ik, z3.eta_ik2\n",
    "    mjh2.flat[i], Q_star.flat[i] = z3.mjh2, z3.Q_star\n",
    "    Z3_norm.flat[i] = z3.Z3_norm"
   ]
  },
  {
   "cell_type": "code",
   "execution_count": null,
   "metadata": {},
   "outputs": [],
   "source": [
    "def write_frame(file, name, array):  \n",
    "    file.write(f\"SCALARS {name} float 1\\n\")\n",
    "    file.write(\"LOOKUP_TABLE default\\n\")\n",
    "    for k in range(array.shape[2]):\n",
    "        for j in range(array.shape[1]):\n",
    "            for i in range(array.shape[0]):\n",
    "                value = array[j, i, k]\n",
    "                file.write(f\"{value}\\n\")\n",
    "\n",
    "file = open(\"data/Z3.vtk\", \"w\")\n",
    "file.write(\"# vtk DataFile Version 2.0\\n\")\n",
    "file.write(\"Z3\\n\")\n",
    "file.write(\"ASCII\\n\")\n",
    "file.write(\"DATASET STRUCTURED_POINTS\\n\")\n",
    "file.write(f\"DIMENSIONS {N} {N} {N}\\n\")\n",
    "file.write(f\"SPACING {(right-left)/(N-1)} {(right-left)/(N-1)} {(right-left)/(N-1)}\\n\")\n",
    "file.write(f\"ORIGIN {left} {left} {left}\\n\")\n",
    "file.write(f\"POINT_DATA {N**3}\\n\")\n",
    "\n",
    "write_frame(file, \"m\", m)\n",
    "write_frame(file, \"zeta_1\", zeta_1)\n",
    "write_frame(file, \"zeta_2\", zeta_2)\n",
    "\n",
    "write_frame(file, \"hi\", hi)\n",
    "write_frame(file, \"hj\", hj)\n",
    "write_frame(file, \"lij\", lij)\n",
    "write_frame(file, \"lik\", lik)\n",
    "\n",
    "write_frame(file, \"mj_eta_ij\", mj_eta_ij)\n",
    "write_frame(file, \"mi_eta_ik\", mi_eta_ik)\n",
    "write_frame(file, \"mj_eta_ik\", mj_eta_ik)\n",
    "write_frame(file, \"eta_ik2\", eta_ik2)\n",
    "\n",
    "write_frame(file, \"mjh2\", mjh2)\n",
    "write_frame(file, \"Q_star\", Q_star)\n",
    "\n",
    "write_frame(file, \"Z3_norm\", Z3_norm)\n",
    "\n",
    "file.close()"
   ]
  },
  {
   "cell_type": "code",
   "execution_count": null,
   "metadata": {},
   "outputs": [],
   "source": [
    "%%bash\n",
    "vtk2msh data/Z3.vtk"
   ]
  },
  {
   "cell_type": "markdown",
   "metadata": {},
   "source": [
    "### Полностью симметричный случай"
   ]
  },
  {
   "cell_type": "code",
   "execution_count": null,
   "metadata": {},
   "outputs": [],
   "source": [
    "z3 = Z3num.find_coeffs_symmetrical_by_scipy(.6, .4, .4)\n",
    "z3.h_i, z3.h_j, z3.l_ij, z3.l_ik"
   ]
  },
  {
   "cell_type": "code",
   "execution_count": null,
   "metadata": {},
   "outputs": [],
   "source": [
    "z3 = Z3num.find_coeffs_symmetrical(.6, .4, .4)\n",
    "z3.h_i, z3.h_j, z3.l_ij, z3.l_ik"
   ]
  },
  {
   "cell_type": "code",
   "execution_count": null,
   "metadata": {},
   "outputs": [],
   "source": [
    "m = np.linspace(0, 1, 100)\n",
    "zeta = np.linspace(0, 1, 100)\n",
    "\n",
    "m, zeta = np.meshgrid(m, zeta)\n",
    "eta = zeta + (1-zeta)*m**2"
   ]
  },
  {
   "cell_type": "code",
   "execution_count": null,
   "metadata": {},
   "outputs": [],
   "source": [
    "p, h, l = np.empty_like(m), np.empty_like(m), np.empty_like(m)\n",
    "upsilon, eta2, mhj = np.empty_like(m), np.empty_like(m), np.empty_like(m)\n",
    "psi0, Z2_norm = np.empty_like(m), np.empty_like(m)\n",
    "\n",
    "for i in range(m.size):\n",
    "    z2 = Z2num.find_coeffs_symmetrical(m.flat[i], eta.flat[i])\n",
    "    h.flat[i], l.flat[i] = z2.h, z2.l\n",
    "    upsilon.flat[i], eta2.flat[i], mhj.flat[i] = z2.upsilon, z2.eta2, z2.mh2\n",
    "    psi0.flat[i], Z2_norm.flat[i] = z2.psi0, z2.Z2_norm\n",
    "    p.flat[i] = Z2num.invL(m.flat[i])"
   ]
  },
  {
   "cell_type": "code",
   "execution_count": null,
   "metadata": {},
   "outputs": [],
   "source": [
    "hi, hj, lij, lik = np.empty_like(m), np.empty_like(m), np.empty_like(m), np.empty_like(m)\n",
    "mj_eta_ij, mi_eta_ik, mj_eta_ik, eta_ik2 = np.empty_like(m), np.empty_like(m), np.empty_like(m), np.empty_like(m)\n",
    "mjh2, Q_star = np.empty_like(m), np.empty_like(m)\n",
    "Z3_norm = np.empty_like(m)\n",
    "\n",
    "for i in range(m.size):\n",
    "    z3 = Z3num.find_coeffs_symmetrical(m.flat[i], eta.flat[i], eta.flat[i])\n",
    "    hi.flat[i], hj.flat[i], lij.flat[i], lik.flat[i]  = z3.h_i, z3.h_j, z3.l_ij, z3.l_ik\n",
    "    mj_eta_ij.flat[i], mi_eta_ik.flat[i], mj_eta_ik.flat[i], eta_ik2.flat[i] = z3.mj_eta_ij, z3.mi_eta_ik, z3.mj_eta_ik, z3.eta_ik2\n",
    "    mjh2.flat[i], Q_star.flat[i] = z3.mjh2, z3.Q_star\n",
    "    Z3_norm.flat[i] = z3.Z3_norm"
   ]
  },
  {
   "cell_type": "code",
   "execution_count": null,
   "metadata": {},
   "outputs": [],
   "source": [
    "datlib.np2dat(\n",
    "    \"data/Z3_all_symmetrical.dat\",\n",
    "    \"m eta zeta Q\".split(),\n",
    "    np.asarray([\n",
    "        m, eta, zeta, Q_star\n",
    "    ])\n",
    ")"
   ]
  },
  {
   "cell_type": "markdown",
   "metadata": {},
   "source": [
    "### Асимптотика при $\\left<m\\right> \\rightarrow 1$ "
   ]
  },
  {
   "cell_type": "code",
   "execution_count": null,
   "metadata": {},
   "outputs": [],
   "source": [
    "N = 32\n",
    "\n",
    "m = np.linspace(.99, 1, N)\n",
    "eta_ij = np.linspace(.99, 1, N)\n",
    "eta_ik = np.linspace(.99, 1, N)\n",
    "\n",
    "m, eta_ij, eta_ik = np.meshgrid(m, eta_ij, eta_ik)"
   ]
  },
  {
   "cell_type": "code",
   "execution_count": null,
   "metadata": {},
   "outputs": [],
   "source": [
    "hi, hj, lij, lik = np.empty_like(m), np.empty_like(m), np.empty_like(m), np.empty_like(m)\n",
    "mj_eta_ij, mi_eta_ik, mj_eta_ik, eta_ik2 = np.empty_like(m), np.empty_like(m), np.empty_like(m), np.empty_like(m)\n",
    "mjh2, Q_star = np.empty_like(m), np.empty_like(m)\n",
    "Z3_norm = np.empty_like(m)\n",
    "\n",
    "for i in range(m.size):\n",
    "    z3 = Z3num.find_coeffs_symmetrical(m.flat[i], eta_ij.flat[i], eta_ik.flat[i])\n",
    "    hi.flat[i], hj.flat[i], lij.flat[i], lik.flat[i]  = z3.h_i, z3.h_j, z3.l_ij, z3.l_ik\n",
    "    mj_eta_ij.flat[i], mi_eta_ik.flat[i], mj_eta_ik.flat[i], eta_ik2.flat[i] = z3.mj_eta_ij, z3.mi_eta_ik, z3.mj_eta_ik, z3.eta_ik2\n",
    "    mjh2.flat[i], Q_star.flat[i] = z3.mjh2, z3.Q_star\n",
    "    Z3_norm.flat[i] = z3.Z3_norm"
   ]
  },
  {
   "cell_type": "code",
   "execution_count": null,
   "metadata": {},
   "outputs": [],
   "source": [
    "def write_frame(file, name, array):  \n",
    "    file.write(f\"SCALARS {name} float 1\\n\")\n",
    "    file.write(\"LOOKUP_TABLE default\\n\")\n",
    "    for k in range(array.shape[2]):\n",
    "        for j in range(array.shape[1]):\n",
    "            for i in range(array.shape[0]):\n",
    "                value = array[j, i, k]\n",
    "                file.write(f\"{value}\\n\")\n",
    "\n",
    "file = open(\"data/Z3.vtk\", \"w\")\n",
    "file.write(\"# vtk DataFile Version 2.0\\n\")\n",
    "file.write(\"Z3\\n\")\n",
    "file.write(\"ASCII\\n\")\n",
    "file.write(\"DATASET STRUCTURED_POINTS\\n\")\n",
    "file.write(f\"DIMENSIONS {N} {N} {N}\\n\")\n",
    "file.write(f\"SPACING {.01/(N-1)} {.01/(N-1)} {.01/(N-1)}\\n\")\n",
    "file.write(f\"ORIGIN .99 .99 .99\\n\")\n",
    "file.write(f\"POINT_DATA {N**3}\\n\")\n",
    "\n",
    "write_frame(file, \"hi\", hi)\n",
    "write_frame(file, \"h_j\", hj)\n",
    "write_frame(file, \"lij\", lij)\n",
    "write_frame(file, \"lik\", lik)\n",
    "\n",
    "write_frame(file, \"Q_star\", Q_star)\n",
    "\n",
    "file.close()"
   ]
  },
  {
   "cell_type": "code",
   "execution_count": null,
   "metadata": {},
   "outputs": [],
   "source": [
    "%%bash\n",
    "vtk2msh data/Z3.vtk"
   ]
  },
  {
   "cell_type": "code",
   "execution_count": null,
   "metadata": {},
   "outputs": [],
   "source": [
    "variables = 1-m, 1-eta_ij, 1-eta_ik\n",
    "y_data = mjh2\n",
    "indexes_nans = np.logical_not(np.isnan(hi))\n",
    "\n",
    "def func(_, *p_args, nans=True):    \n",
    "    result = p_args[0]\n",
    "    result += p_args[1]*variables[0] + p_args[2]*variables[1] + p_args[3]*variables[2]\n",
    "\n",
    "    if nans:\n",
    "        return result[indexes_nans].ravel()\n",
    "    else:\n",
    "        return result\n",
    "    \n",
    "\n",
    "p0 = [0] + 3*[1]\n",
    "p = opt.curve_fit(func, None, y_data[indexes_nans].ravel(), p0=p0)[0]\n",
    "p"
   ]
  },
  {
   "cell_type": "code",
   "execution_count": null,
   "metadata": {},
   "outputs": [],
   "source": [
    "# x = 1 - m\n",
    "# y = 1 - eta_ij\n",
    "# z = 1 - eta_ik\n",
    "\n",
    "# Q_star = -4y + z => Q = -2y + z\n",
    "# mj_eta_ij = 1 - x - y\n",
    "# mi_eta_ik = 1 - x - z\n",
    "# mj_eta_ik = 1 - x - z\n",
    "# eta_ik2 = 1 - 2z\n",
    "# mjh2 = 1 - 2x"
   ]
  }
 ],
 "metadata": {
  "kernelspec": {
   "display_name": "3.11.2",
   "language": "python",
   "name": "python3"
  },
  "language_info": {
   "codemirror_mode": {
    "name": "ipython",
    "version": 3
   },
   "file_extension": ".py",
   "mimetype": "text/x-python",
   "name": "python",
   "nbconvert_exporter": "python",
   "pygments_lexer": "ipython3",
   "version": "3.11.2"
  }
 },
 "nbformat": 4,
 "nbformat_minor": 2
}
