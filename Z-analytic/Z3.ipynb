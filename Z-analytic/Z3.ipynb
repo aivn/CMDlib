{
 "cells": [
  {
   "cell_type": "code",
   "execution_count": 2,
   "metadata": {},
   "outputs": [],
   "source": [
    "import sys\n",
    "sys.path.append(\"python/\")\n",
    "\n",
    "import sympy as sp\n",
    "import numdifftools as nd\n",
    "import numpy as np\n",
    "import scipy.optimize as opt\n",
    "\n",
    "import datlib\n",
    "import symbase\n",
    "import Z2sym\n",
    "import Z3sym\n",
    "import Z3num"
   ]
  },
  {
   "cell_type": "markdown",
   "metadata": {},
   "source": [
    "# Ферромагнетик в симметричном случае"
   ]
  },
  {
   "cell_type": "markdown",
   "metadata": {},
   "source": [
    "## Выражение для $Z^{(3)}$"
   ]
  },
  {
   "cell_type": "markdown",
   "metadata": {},
   "source": [
    "### Аргументы"
   ]
  },
  {
   "cell_type": "code",
   "execution_count": 3,
   "metadata": {},
   "outputs": [],
   "source": [
    "hi, hj, lij, lik = Z3sym.hi, Z3sym.hj, Z3sym.lij, Z3sym.lik \n",
    "s1, s2, s3 = Z3sym.s1, Z3sym.s2, Z3sym.s3\n",
    "x, t = sp.symbols(\"x t\")"
   ]
  },
  {
   "cell_type": "code",
   "execution_count": 4,
   "metadata": {},
   "outputs": [
    {
     "data": {
      "text/latex": [
       "$\\displaystyle - \\frac{\\sigma_1 \\sigma_2 \\lambda_{ij} h_{i}}{h_{j}} + \\sigma_1 \\sigma_2 \\lambda_{ik} - \\frac{\\lambda_{ij} h_{i}}{h_{j}} - \\frac{\\lambda_{ij} h_{j}}{2 h_{i}} + t^{2} - \\frac{h_{i} h_{j}}{2 \\lambda_{ij}}$"
      ],
      "text/plain": [
       "-\\sigma_1*\\sigma_2*\\lambda_{ij}*h_i/h_j + \\sigma_1*\\sigma_2*\\lambda_{ik} - \\lambda_{ij}*h_i/h_j - \\lambda_{ij}*h_j/(2*h_i) + t**2 - h_i*h_j/(2*\\lambda_{ij})"
      ]
     },
     "metadata": {},
     "output_type": "display_data"
    },
    {
     "data": {
      "text/latex": [
       "$\\displaystyle - \\frac{\\sqrt{2} \\sigma_1 \\lambda_{ij} h_{i}}{2 \\sqrt{\\lambda_{ik}} h_{j}} + \\frac{\\sqrt{2} \\sigma_1 \\sqrt{\\lambda_{ik}}}{2} - \\frac{\\sqrt{2} \\sigma_2 \\lambda_{ij} h_{i}}{2 \\sqrt{\\lambda_{ik}} h_{j}} + \\frac{\\sqrt{2} \\sigma_2 \\sqrt{\\lambda_{ik}}}{2} + \\frac{\\sqrt{\\lambda_{ij}} \\sqrt{h_{i}} t}{\\sqrt{\\lambda_{ik}} \\sqrt{h_{j}}}$"
      ],
      "text/plain": [
       "-sqrt(2)*\\sigma_1*\\lambda_{ij}*h_i/(2*sqrt(\\lambda_{ik})*h_j) + sqrt(2)*\\sigma_1*sqrt(\\lambda_{ik})/2 - sqrt(2)*\\sigma_2*\\lambda_{ij}*h_i/(2*sqrt(\\lambda_{ik})*h_j) + sqrt(2)*\\sigma_2*sqrt(\\lambda_{ik})/2 + sqrt(\\lambda_{ij})*sqrt(h_i)*t/(sqrt(\\lambda_{ik})*sqrt(h_j))"
      ]
     },
     "metadata": {},
     "output_type": "display_data"
    },
    {
     "data": {
      "text/latex": [
       "$\\displaystyle \\frac{\\sqrt{2} \\sqrt{h_{j}} \\left(\\sigma_3 \\lambda_{ij} + \\frac{\\lambda_{ij} h_{i} \\left(\\sigma_1 + \\sigma_2\\right)}{h_{j}} + h_{i}\\right)}{2 \\sqrt{\\lambda_{ij}} \\sqrt{h_{i}}}$"
      ],
      "text/plain": [
       "sqrt(2)*sqrt(h_j)*(\\sigma_3*\\lambda_{ij} + \\lambda_{ij}*h_i*(\\sigma_1 + \\sigma_2)/h_j + h_i)/(2*sqrt(\\lambda_{ij})*sqrt(h_i))"
      ]
     },
     "metadata": {},
     "output_type": "display_data"
    }
   ],
   "source": [
    "arg_exp = hj*x\n",
    "arg_exp = arg_exp.replace(\n",
    "    x, sp.solve(sp.sqrt(hi**2+lij**2+2*hi*lij*x)-t, x)[0]\n",
    ").expand()\n",
    "arg_exp += (s1+s2)*t + s1*s2*lik\n",
    "expr_limit = hi+s3*lij\n",
    "arg_F2 = (t+(s1+s2)*lik)/sp.sqrt(2*lik)\n",
    "\n",
    "arg_exp = arg_exp.replace(t, t-(s1+s2)*lij*hi/hj).expand()\n",
    "arg_F2 = arg_F2.replace(t, t-(s1+s2)*lij*hi/hj).expand()\n",
    "expr_limit += (s1+s2)*lij*hi/hj\n",
    "\n",
    "arg_exp = arg_exp.replace(t, t*sp.sqrt(2*lij*hi/hj)).expand()\n",
    "arg_F2 = arg_F2.replace(t, t*sp.sqrt(2*lij*hi/hj)).expand()\n",
    "expr_limit /= sp.sqrt(2*lij*hi/hj)\n",
    "\n",
    "display(arg_exp)\n",
    "display(arg_F2)\n",
    "display(expr_limit)"
   ]
  },
  {
   "cell_type": "code",
   "execution_count": 5,
   "metadata": {},
   "outputs": [
    {
     "data": {
      "text/latex": [
       "$\\displaystyle \\sigma_1 \\sigma_2 \\lambda_{ik} + \\sigma_1 \\sigma_3 \\lambda_{ij} + \\sigma_1 h_{i} + \\sigma_2 \\sigma_3 \\lambda_{ij} + \\sigma_2 h_{i} + \\sigma_3 h_{j}$"
      ],
      "text/plain": [
       "\\sigma_1*\\sigma_2*\\lambda_{ik} + \\sigma_1*\\sigma_3*\\lambda_{ij} + \\sigma_1*h_i + \\sigma_2*\\sigma_3*\\lambda_{ij} + \\sigma_2*h_i + \\sigma_3*h_j"
      ]
     },
     "metadata": {},
     "output_type": "display_data"
    }
   ],
   "source": [
    "arg_exp -= t**2\n",
    "arg_exp += expr_limit**2\n",
    "arg_exp = arg_exp.expand()\n",
    "display(arg_exp)"
   ]
  },
  {
   "cell_type": "markdown",
   "metadata": {},
   "source": [
    "### Производные $F^{(3)}$"
   ]
  },
  {
   "cell_type": "code",
   "execution_count": 6,
   "metadata": {},
   "outputs": [],
   "source": [
    "t, x, a, b = sp.symbols(\"t x a b\")"
   ]
  },
  {
   "cell_type": "code",
   "execution_count": 7,
   "metadata": {},
   "outputs": [
    {
     "data": {
      "text/latex": [
       "$\\displaystyle - 2 a^{2} t F^{(2)}\\left(a t + b\\right) - 2 a b F^{(2)}\\left(a t + b\\right) + a$"
      ],
      "text/plain": [
       "-2*a**2*t*F2(a*t + b) - 2*a*b*F2(a*t + b) + a"
      ]
     },
     "execution_count": 7,
     "metadata": {},
     "output_type": "execute_result"
    }
   ],
   "source": [
    "Z2sym.F2(a*t+b).diff(t).expand()"
   ]
  },
  {
   "cell_type": "code",
   "execution_count": 8,
   "metadata": {},
   "outputs": [],
   "source": [
    "def get_I2_n(x, n):\n",
    "    \"\"\"I^{(2)}_n(x)\"\"\"\n",
    "    _expr_n_0 = 1/sp.sqrt(a)*Z2sym.F2(sp.sqrt(a)*x)*sp.exp(x**2*(a-1))\n",
    "    _expr_n_1 = 1/(2*a)*sp.exp(-x**2)*(sp.exp(x**2*a)-1)\n",
    "\n",
    "    k = n // 2\n",
    "    if n % 2 == 0:\n",
    "        return _expr_n_0.diff(a, k).replace(a, 1).expand()\n",
    "    else:\n",
    "        return _expr_n_1.diff(a, k).replace(a, 1).expand()"
   ]
  },
  {
   "cell_type": "code",
   "execution_count": 9,
   "metadata": {},
   "outputs": [
    {
     "data": {
      "text/latex": [
       "$\\displaystyle \\frac{x^{3}}{2} - \\frac{3 x}{4} + \\frac{3 F^{(2)}\\left(x\\right)}{4}$"
      ],
      "text/plain": [
       "x**3/2 - 3*x/4 + 3*F2(x)/4"
      ]
     },
     "execution_count": 9,
     "metadata": {},
     "output_type": "execute_result"
    }
   ],
   "source": [
    "get_I2_n(x, 4)"
   ]
  },
  {
   "cell_type": "code",
   "execution_count": 10,
   "metadata": {},
   "outputs": [],
   "source": [
    "class F3_dummy(sp.Function):\n",
    "    def _latex(self, printer, exp=None):\n",
    "        arg1, arg2, arg3 = list(map(printer.doprint, self.args))\n",
    "        return \"F_{dummy}^{(3)}\"+f\"\\\\left({arg1} \\, | \\, {arg2}, {arg3} \\\\right)\" "
   ]
  },
  {
   "cell_type": "code",
   "execution_count": 11,
   "metadata": {},
   "outputs": [],
   "source": [
    "def get_I3_n(x, a, b, n):\n",
    "    \"\"\"I^{(3)}_n(x, a, b)\"\"\"\n",
    "    if a == 1:\n",
    "        if b == 0:\n",
    "            result = x**(n+1)*Z2sym.F2(x)\n",
    "            result -= get_I2_n(x, n+1)\n",
    "            return result/(n+1)\n",
    "\n",
    "        # b != 0\n",
    "        result = -x**n*Z2sym.F2(x+b)\n",
    "        result += get_I2_n(x, n)\n",
    "\n",
    "        if n == 0:\n",
    "            result += sp.exp(-x**2)*Z2sym.F2(b)\n",
    "        if n != 0:\n",
    "            result += n*get_I3_n(x, a, b, n-1)\n",
    "\n",
    "        return result/(2*b)\n",
    "\n",
    "    # a != 1, b != 0\n",
    "    if n == 0:\n",
    "        return F3_dummy(x, a, b)\n",
    "\n",
    "    result = x**(n-1)*Z2sym.F2(a*x+b)\n",
    "    result -= a*get_I2_n(x, n-1)\n",
    "    result += 2*a*b*get_I3_n(x, a, b, n-1)\n",
    "\n",
    "    if n == 1:\n",
    "        result -= sp.exp(-x**2)*Z2sym.F2(b)\n",
    "    if n != 1:\n",
    "        result -= (n-1)*get_I3_n(x, a, b, n-2)\n",
    "    \n",
    "    return result/(2*(1-a**2))"
   ]
  },
  {
   "cell_type": "code",
   "execution_count": 12,
   "metadata": {},
   "outputs": [
    {
     "data": {
      "text/latex": [
       "$\\displaystyle \\frac{2 a b F_{dummy}^{(3)}\\left(x \\, | \\, a, b \\right)}{2 - 2 a^{2}} - \\frac{a F^{(2)}\\left(x\\right)}{2 - 2 a^{2}} - \\frac{F^{(2)}\\left(b\\right)}{- 2 a^{2} e^{x^{2}} + 2 e^{x^{2}}} + \\frac{F^{(2)}\\left(a x + b\\right)}{2 - 2 a^{2}}$"
      ],
      "text/plain": [
       "2*a*b*F3_dummy(x, a, b)/(2 - 2*a**2) - a*F2(x)/(2 - 2*a**2) - F2(b)/(-2*a**2*exp(x**2) + 2*exp(x**2)) + F2(a*x + b)/(2 - 2*a**2)"
      ]
     },
     "execution_count": 12,
     "metadata": {},
     "output_type": "execute_result"
    }
   ],
   "source": [
    "get_I3_n(x, a, b, 1).expand()"
   ]
  },
  {
   "cell_type": "code",
   "execution_count": 13,
   "metadata": {},
   "outputs": [],
   "source": [
    "class F3(sp.Function):\n",
    "    def _latex(self, printer, exp=None):\n",
    "        arg1, arg2, arg3 = list(map(printer.doprint, self.args))\n",
    "        return \"F^{(3)}\"+f\"\\\\left({arg1} \\, | \\, {arg2}, {arg3} \\\\right)\" \n",
    "\n",
    "    def fdiff(self, argindex=1):\n",
    "        if argindex == 1:\n",
    "            x, a, b = self.args\n",
    "            return Z2sym.F2(a*x+b)-2*x*F3(*self.args)\n",
    "        \n",
    "        t, x, a, b = sp.symbols(\"t x a b\")\n",
    "        expr = Z2sym.F2(a*t+b).diff([a, b][argindex-2]).expand()\n",
    "        expr = sp.collect(expr, [Z2sym.F2(a*t+b)], evaluate=False)\n",
    "\n",
    "        I3 = expr[Z2sym.F2(a*t+b)]\n",
    "        I2 = expr[1]\n",
    "\n",
    "        expr = 0\n",
    "        I3 = sp.Poly(I3, t).as_dict()\n",
    "        for key, item in I3.items():\n",
    "            expr += item*get_I3_n(x, a, b, key[0])\n",
    "        I2 = sp.Poly(I2, t).as_dict()\n",
    "        for key, item in I2.items():\n",
    "            expr += item*get_I2_n(x, key[0])\n",
    "\n",
    "        subs = dict(zip([x, a, b], self.args))\n",
    "        subs.update({F3_dummy(x, a, b): F3(*self.args)})\n",
    "        return expr.subs(subs) "
   ]
  },
  {
   "cell_type": "code",
   "execution_count": 14,
   "metadata": {},
   "outputs": [
    {
     "data": {
      "text/latex": [
       "$\\displaystyle - \\frac{2 a \\left(2 a b F^{(3)}\\left(x \\, | \\, a, b \\right) - a F^{(2)}\\left(x\\right) + F^{(2)}\\left(a x + b\\right) - e^{- x^{2}} F^{(2)}\\left(b\\right)\\right)}{2 - 2 a^{2}} - 2 b F^{(3)}\\left(x \\, | \\, a, b \\right) + F^{(2)}\\left(x\\right)$"
      ],
      "text/plain": [
       "-2*a*(2*a*b*F3(x, a, b) - a*F2(x) + F2(a*x + b) - exp(-x**2)*F2(b))/(2 - 2*a**2) - 2*b*F3(x, a, b) + F2(x)"
      ]
     },
     "execution_count": 14,
     "metadata": {},
     "output_type": "execute_result"
    }
   ],
   "source": [
    "F3(x, a, b).diff(b)"
   ]
  },
  {
   "cell_type": "code",
   "execution_count": 15,
   "metadata": {},
   "outputs": [],
   "source": [
    "class F3_degenerate(sp.Function):\n",
    "    def _latex(self, printer, exp=None):\n",
    "        arg1, arg2, arg3, arg4, arg5 = list(map(printer.doprint, self.args))\n",
    "        return \"F_{deg,\"+f\"{arg4},{arg5}\"+\"}^{(3)}\"+f\"\\\\left({arg1} \\, | \\, {arg2}, {arg3} \\\\right)\" \n",
    "    \n",
    "    def fdiff(self, argindex=1):\n",
    "        if argindex == 1:\n",
    "            x, a, b = sp.symbols(\"x a b\")\n",
    "            subs = dict(zip([x, a, b], self.args[:3]))\n",
    "            expr = Z2sym.F2(a*x+b).diff(a, self.args[3]).diff(b, self.args[4])\n",
    "\n",
    "            x, a, b, _, _ = self.args\n",
    "            return expr.subs(subs) -2*x*F3_degenerate(*self.args)\n",
    "        \n",
    "        args = list(self.args)\n",
    "        args[argindex+1] += 1\n",
    "        return F3_degenerate(*args)\n",
    "    \n",
    "\n",
    "def evaluate_F3_degenerate(expr):\n",
    "    def evaluate(*args):\n",
    "        t, x, a, b = sp.symbols(\"t x a b\")\n",
    "        expr = Z2sym.F2(a*t+b).diff(a, args[3])\n",
    "        expr = expr.diff(b, args[4]).expand()\n",
    "        expr = sp.collect(expr, [Z2sym.F2(a*t+b)], evaluate=False)\n",
    "        \n",
    "        I3 = expr.get(Z2sym.F2(a*t+b), sp.Integer(0)).subs({a: 1, b: 0})\n",
    "        I2 = expr.get(1, sp.Integer(0)).subs({a: 1, b: 0})\n",
    "\n",
    "        expr = 0\n",
    "        I3 = sp.Poly(I3, t).as_dict()\n",
    "        for key, item in I3.items():\n",
    "            expr += item*get_I3_n(x, 1, 0, key[0])\n",
    "        I2 = sp.Poly(I2, t).as_dict()\n",
    "        for key, item in I2.items():\n",
    "            expr += item*get_I2_n(x, key[0])\n",
    "\n",
    "        subs = dict(zip([x, a, b], args[:3]))\n",
    "        return expr.subs(subs) \n",
    "    \n",
    "    return expr.replace(F3_degenerate, evaluate)"
   ]
  },
  {
   "cell_type": "code",
   "execution_count": 16,
   "metadata": {},
   "outputs": [
    {
     "data": {
      "text/latex": [
       "$\\displaystyle - x \\left(- \\frac{4 x^{3} F^{(2)}\\left(x\\right)}{3} + \\frac{2 x^{2}}{3} + 2 \\left(a x + b\\right) F^{(2)}\\left(a x + b\\right) - \\frac{2}{3} - \\frac{e^{- x^{2}}}{3}\\right)$"
      ],
      "text/plain": [
       "-x*(-4*x**3*F2(x)/3 + 2*x**2/3 + 2*(a*x + b)*F2(a*x + b) - 2/3 - exp(-x**2)/3)"
      ]
     },
     "execution_count": 16,
     "metadata": {},
     "output_type": "execute_result"
    }
   ],
   "source": [
    "expr = F3_degenerate(x, a, b, 0, 0).diff(x, a)\n",
    "expr = evaluate_F3_degenerate(expr)\n",
    "\n",
    "expr"
   ]
  },
  {
   "cell_type": "markdown",
   "metadata": {},
   "source": [
    "### Производные $\\cal F^{(3)}$"
   ]
  },
  {
   "cell_type": "code",
   "execution_count": 17,
   "metadata": {},
   "outputs": [],
   "source": [
    "arg_x = (hi+s3*lij+(s1+s2)*hi/hj*lij)/sp.sqrt(2*hi/hj*lij)\n",
    "arg_a = sp.sqrt(hi/hj*lij)/sp.sqrt(lik)\n",
    "arg_b = (s1+s2)/sp.sqrt(2*lik)*(lik-hi/hj*lij)\n",
    "arg_expr = s3*hj+s1*s2*lik+(s1+s2)*(hi+s3*lij)"
   ]
  },
  {
   "cell_type": "code",
   "execution_count": 18,
   "metadata": {},
   "outputs": [
    {
     "data": {
      "text/latex": [
       "$\\displaystyle \\frac{\\sqrt{2} \\left(\\sigma_1 \\lambda_{ik} + \\sigma_2 \\lambda_{ik} + \\sigma_3 \\lambda_{ij} + h_{i}\\right)}{2 \\sqrt{\\lambda_{ik}}}$"
      ],
      "text/plain": [
       "sqrt(2)*(\\sigma_1*\\lambda_{ik} + \\sigma_2*\\lambda_{ik} + \\sigma_3*\\lambda_{ij} + h_i)/(2*sqrt(\\lambda_{ik}))"
      ]
     },
     "execution_count": 18,
     "metadata": {},
     "output_type": "execute_result"
    }
   ],
   "source": [
    "expr = arg_x*arg_a+arg_b\n",
    "expr.factor()"
   ]
  },
  {
   "cell_type": "code",
   "execution_count": 19,
   "metadata": {},
   "outputs": [
    {
     "data": {
      "text/latex": [
       "$\\displaystyle - \\frac{\\sigma_1 \\sigma_2 \\lambda_{ij} h_{i}}{h_{j}} + \\sigma_1 \\sigma_2 \\lambda_{ik} - \\frac{\\lambda_{ij} h_{i}}{h_{j}} - \\frac{\\lambda_{ij} h_{j}}{2 h_{i}} - \\frac{h_{i} h_{j}}{2 \\lambda_{ij}}$"
      ],
      "text/plain": [
       "-\\sigma_1*\\sigma_2*\\lambda_{ij}*h_i/h_j + \\sigma_1*\\sigma_2*\\lambda_{ik} - \\lambda_{ij}*h_i/h_j - \\lambda_{ij}*h_j/(2*h_i) - h_i*h_j/(2*\\lambda_{ij})"
      ]
     },
     "execution_count": 19,
     "metadata": {},
     "output_type": "execute_result"
    }
   ],
   "source": [
    "expr = arg_expr-arg_x**2\n",
    "expr = expr.expand()\n",
    "expr"
   ]
  },
  {
   "cell_type": "code",
   "execution_count": 20,
   "metadata": {},
   "outputs": [],
   "source": [
    "_sigmas_expr_E = sp.exp(arg_expr).expand()\n",
    "_sigmas_expr_F = Z2sym.F2(arg_x).expand()\n",
    "_sigmas_expr_FTilde = Z2sym.F2(arg_x*arg_a+arg_b).expand()\n",
    "_sigmas_expr_cF3 = F3(arg_x, arg_a, arg_b).expand()\n",
    "\n",
    "_sigmas_terms = {\n",
    "    _sigmas_expr_E*_sigmas_expr_cF3: sp.Dummy(),\n",
    "    _sigmas_expr_E*_sigmas_expr_F: sp.Dummy(),\n",
    "    _sigmas_expr_E*_sigmas_expr_FTilde: sp.Dummy(),\n",
    "    _sigmas_expr_E: sp.Dummy()\n",
    "}"
   ]
  },
  {
   "cell_type": "code",
   "execution_count": 21,
   "metadata": {},
   "outputs": [],
   "source": [
    "class Z3SigmasFunctionBase(sp.Function):\n",
    "    def __init__(self, name, *args, **kwargs):\n",
    "        self.name = name\n",
    "\n",
    "    def _latex(self, printer, exp=None):\n",
    "        args = list(map(printer.doprint, self.args[:4]))\n",
    "        args = f\"\\\\left({args[0]}, {args[1]}, {args[2]}, {args[3]}\\\\right)\"\n",
    "\n",
    "        indexes = \"\"\n",
    "        for i, item in enumerate(self.args[4:]):\n",
    "            if item:\n",
    "                indexes += str(i+1)\n",
    "        name = f\"{self.name}\"+\"_{\" + indexes + \"}\"\n",
    "\n",
    "        if exp is None:\n",
    "            return name+args\n",
    "        else:\n",
    "            exp = printer.doprint(exp)\n",
    "            return f\"{name}^{exp}\"+args\n",
    "\n",
    "    def get_sigmas_factor(self):\n",
    "        factor = 1\n",
    "        if self.args[4]:\n",
    "            factor *= s1\n",
    "        if self.args[5]:\n",
    "            factor *= s2\n",
    "        if self.args[6]:\n",
    "            factor *= s3\n",
    "        return factor"
   ]
  },
  {
   "cell_type": "code",
   "execution_count": 22,
   "metadata": {},
   "outputs": [],
   "source": [
    "class EFunction(Z3SigmasFunctionBase):\n",
    "    def __init__(self, *args, **kwargs):\n",
    "        super().__init__(\"{\\\\cal E}\", *args, **kwargs)\n",
    "\n",
    "    def fdiff(self, argindex=1):\n",
    "        factor = self.get_sigmas_factor()\n",
    "        expr = (factor*_sigmas_expr_E).diff([hi, hj, lij, lik][argindex-1])\n",
    "        terms = symbase.collect_sigmas(expr, _sigmas_terms, [s1, s2, s3])\n",
    "\n",
    "        subs = dict(zip([hi, hj, lij, lik], self.args[:4]))\n",
    "\n",
    "        result = 0\n",
    "        for key, item in terms[_sigmas_expr_E].items():\n",
    "            result += item.subs(subs)*EFunction(*self.args[:4], *key)\n",
    "\n",
    "        return result\n",
    "\n",
    "    @classmethod\n",
    "    def eval(cls, *args):\n",
    "        if (not args[4]) and args[5]:\n",
    "            return EFunction(*args[:4], 1, 0, args[-1])\n",
    "\n",
    "    def _eval_rewrite(self, rule, args, **hints):\n",
    "        args_subs = dict(zip([hi, hj, lij, lik], self.args[:-3]))\n",
    "        if rule == sp.exp:\n",
    "            _sigmas_expr = self.get_sigmas_factor()*_sigmas_expr_E\n",
    "            result = 0\n",
    "            for is1 in Z3sym.SIGMAS:\n",
    "                for is2 in Z3sym.SIGMAS:\n",
    "                    for is3 in Z3sym.SIGMAS:\n",
    "                        is_subs = dict(zip([s1, s2, s3], [is1, is2, is3]))\n",
    "                        result += _sigmas_expr.subs(args_subs).subs(is_subs)\n",
    "            return result"
   ]
  },
  {
   "cell_type": "code",
   "execution_count": 23,
   "metadata": {},
   "outputs": [
    {
     "data": {
      "text/latex": [
       "$\\displaystyle 0$"
      ],
      "text/plain": [
       "0"
      ]
     },
     "metadata": {},
     "output_type": "display_data"
    }
   ],
   "source": [
    "display(EFunction(hi, hj, lij, lik, 1, 1, 1).diff(hi).rewrite(sp.exp)-EFunction(hi, hj, lij, lik, 1, 1, 1).rewrite(sp.exp).diff(hi))"
   ]
  },
  {
   "cell_type": "code",
   "execution_count": 24,
   "metadata": {},
   "outputs": [],
   "source": [
    "class FFunction(Z3SigmasFunctionBase):\n",
    "    def __init__(self, *args, **kwargs):\n",
    "        super().__init__(\"{\\\\cal F}\", *args, **kwargs)\n",
    "\n",
    "    def fdiff(self, argindex=1):\n",
    "        factor = self.get_sigmas_factor()\n",
    "        expr = (factor*_sigmas_expr_E*_sigmas_expr_F).diff([hi, hj, lij, lik][argindex-1])\n",
    "        terms = symbase.collect_sigmas(expr, _sigmas_terms, [s1, s2, s3])\n",
    "\n",
    "        subs = dict(zip([hi, hj, lij, lik], self.args[:4]))\n",
    "\n",
    "        result = 0\n",
    "        if _sigmas_expr_E in terms:\n",
    "            for key, item in terms[_sigmas_expr_E].items():\n",
    "                result += item.subs(subs)*EFunction(*self.args[:4], *key)\n",
    "\n",
    "        for key, item in terms[_sigmas_expr_E*_sigmas_expr_F].items():\n",
    "            result += item.subs(subs)*FFunction(*self.args[:4], *key)\n",
    "\n",
    "        return result\n",
    "\n",
    "    @classmethod\n",
    "    def eval(cls, *args):\n",
    "        if (not args[4]) and args[5]:\n",
    "            return FFunction(*args[:4], 1, 0, args[-1])\n",
    "\n",
    "    def _eval_rewrite(self, rule, args, **hints):\n",
    "        args_subs = dict(zip([hi, hj, lij, lik], self.args[:-3]))\n",
    "        if rule == sp.exp:\n",
    "            _sigmas_expr = self.get_sigmas_factor()*_sigmas_expr_E*_sigmas_expr_F\n",
    "            result = 0\n",
    "            for is1 in Z3sym.SIGMAS:\n",
    "                for is2 in Z3sym.SIGMAS:\n",
    "                    for is3 in Z3sym.SIGMAS:\n",
    "                        is_subs = dict(zip([s1, s2, s3], [is1, is2, is3]))\n",
    "                        result += _sigmas_expr.subs(args_subs).subs(is_subs)\n",
    "            return result"
   ]
  },
  {
   "cell_type": "code",
   "execution_count": 25,
   "metadata": {},
   "outputs": [
    {
     "data": {
      "text/latex": [
       "$\\displaystyle 0$"
      ],
      "text/plain": [
       "0"
      ]
     },
     "metadata": {},
     "output_type": "display_data"
    }
   ],
   "source": [
    "display(FFunction(hi, hj, lij, lik, 1, 1, 1).diff(lik).rewrite(sp.exp)-FFunction(hi, hj, lij, lik, 1, 1, 1).rewrite(sp.exp).diff(lik))"
   ]
  },
  {
   "cell_type": "code",
   "execution_count": 26,
   "metadata": {},
   "outputs": [],
   "source": [
    "class FTildeFunction(Z3SigmasFunctionBase):\n",
    "    def __init__(self, *args, **kwargs):\n",
    "        super().__init__( \"\\\\tilde{\\\\cal F}\", *args, **kwargs)\n",
    "\n",
    "    def fdiff(self, argindex=1):\n",
    "        factor = self.get_sigmas_factor()\n",
    "        expr = (factor*_sigmas_expr_E*_sigmas_expr_FTilde).diff([hi, hj, lij, lik][argindex-1])\n",
    "        terms = symbase.collect_sigmas(expr, _sigmas_terms, [s1, s2, s3])\n",
    "\n",
    "        subs = dict(zip([hi, hj, lij, lik], self.args[:4]))\n",
    "\n",
    "        result = 0\n",
    "        if _sigmas_expr_E in terms:\n",
    "            for key, item in terms[_sigmas_expr_E].items():\n",
    "                result += item.subs(subs)*EFunction(*self.args[:4], *key)\n",
    "\n",
    "        for key, item in terms[_sigmas_expr_E*_sigmas_expr_FTilde].items():\n",
    "            result += item.subs(subs)*FTildeFunction(*self.args[:4], *key)\n",
    "\n",
    "        return result\n",
    "\n",
    "    @classmethod\n",
    "    def eval(cls, *args):\n",
    "        if (not args[4]) and args[5]:\n",
    "            return FTildeFunction(*args[:4], 1, 0, args[-1])\n",
    "\n",
    "    def _eval_rewrite(self, rule, args, **hints):\n",
    "        args_subs = dict(zip([hi, hj, lij, lik], self.args[:-3]))\n",
    "        if rule == sp.exp:\n",
    "            _sigmas_expr = self.get_sigmas_factor()*_sigmas_expr_E*_sigmas_expr_FTilde\n",
    "            result = 0\n",
    "            for is1 in Z3sym.SIGMAS:\n",
    "                for is2 in Z3sym.SIGMAS:\n",
    "                    for is3 in Z3sym.SIGMAS:\n",
    "                        is_subs = dict(zip([s1, s2, s3], [is1, is2, is3]))\n",
    "                        result += _sigmas_expr.subs(args_subs).subs(is_subs)\n",
    "            return result"
   ]
  },
  {
   "cell_type": "code",
   "execution_count": 27,
   "metadata": {},
   "outputs": [
    {
     "data": {
      "text/latex": [
       "$\\displaystyle 0$"
      ],
      "text/plain": [
       "0"
      ]
     },
     "execution_count": 27,
     "metadata": {},
     "output_type": "execute_result"
    }
   ],
   "source": [
    "expr = FTildeFunction(hi, hj, lij, lik, 1, 1, 1).diff(hi).rewrite(sp.exp)\n",
    "expr -= FTildeFunction(hi, hj, lij, lik, 1, 1, 1).rewrite(sp.exp).diff(hi)\n",
    "expr = expr.factor()\n",
    "expr"
   ]
  },
  {
   "cell_type": "code",
   "execution_count": 28,
   "metadata": {},
   "outputs": [],
   "source": [
    "class cF3(sp.Function):\n",
    "    def _latex(self, printer, exp=None):\n",
    "        args = list(map(printer.doprint, self.args[:4]))\n",
    "        args = f\"\\\\left({args[0]}, {args[1]}, {args[2]}, {args[3]}\\\\right)\"\n",
    "        if exp is None:\n",
    "            return \"{\\\\cal F}^{(3)}\"+args\n",
    "        else:\n",
    "            exp = printer.doprint(exp)\n",
    "            return f\"\\\\left({self._latex(printer)}\\\\right)^{exp}\"\n",
    "    \n",
    "    def fdiff(self, argindex=1):\n",
    "        expr = (s1*s2*s3*_sigmas_expr_E*_sigmas_expr_cF3).diff([hi, hj, lij, lik][argindex-1])\n",
    "        terms = symbase.collect_sigmas(expr, _sigmas_terms, [s1, s2, s3])\n",
    "        \n",
    "        subs = dict(zip([hi, hj, lij, lik], self.args[:4]))\n",
    "\n",
    "        result = 0\n",
    "        for key, item in terms[_sigmas_expr_E].items():\n",
    "            result += item.factor().subs(subs)*EFunction(*self.args[:4], *key)\n",
    "\n",
    "        for key, item in terms[_sigmas_expr_E*_sigmas_expr_F].items():\n",
    "            result += item.factor().subs(subs)*FFunction(*self.args[:4], *key)\n",
    "        \n",
    "        for key, item in terms[_sigmas_expr_E*_sigmas_expr_FTilde].items():\n",
    "            result += item.factor().subs(subs)*FTildeFunction(*self.args[:4], *key)\n",
    "        \n",
    "        for key, item in terms[_sigmas_expr_E*_sigmas_expr_cF3].items():\n",
    "            if key != (1, 1, 1):\n",
    "                raise RuntimeError\n",
    "            result += item.factor().subs(subs)*cF3(*self.args)\n",
    "\n",
    "        return result\n",
    "\n",
    "    def _eval_rewrite(self, rule, args, **hints):\n",
    "        args_subs = dict(zip([hi, hj, lij, lik], self.args[:-3]))\n",
    "        if rule == sp.exp:\n",
    "            _sigmas_expr = s1*s2*s3*_sigmas_expr_E*_sigmas_expr_cF3\n",
    "            result = 0\n",
    "            for is1 in Z3sym.SIGMAS:\n",
    "                for is2 in Z3sym.SIGMAS:\n",
    "                    for is3 in Z3sym.SIGMAS:\n",
    "                        is_subs = dict(zip([s1, s2, s3], [is1, is2, is3]))\n",
    "                        result += _sigmas_expr.subs(args_subs).subs(is_subs)\n",
    "            return result"
   ]
  },
  {
   "cell_type": "code",
   "execution_count": 29,
   "metadata": {},
   "outputs": [
    {
     "data": {
      "text/latex": [
       "$\\displaystyle - \\lambda_{ij}^{\\frac{3}{2}} \\sqrt{\\lambda_{ik}} h_{i}^{\\frac{3}{2}} h_{j} {\\cal E}_{123}\\left(h_{i}, h_{j}, \\lambda_{ij}, \\lambda_{ik}\\right) + \\sqrt{2} \\lambda_{ij}^{\\frac{3}{2}} \\lambda_{ik} \\sqrt{h_{i}} h_{j}^{2} \\tilde{\\cal F}_{12}\\left(h_{i}, h_{j}, \\lambda_{ij}, \\lambda_{ik}\\right) + \\sqrt{2} \\sqrt{\\lambda_{ij}} h_{i}^{\\frac{3}{2}} h_{j} \\left(2 \\lambda_{ij} h_{i} - \\lambda_{ik} h_{j}\\right) \\tilde{\\cal F}_{123}\\left(h_{i}, h_{j}, \\lambda_{ij}, \\lambda_{ik}\\right) + 2 \\sqrt{2} \\lambda_{ij}^{2} \\sqrt{\\lambda_{ik}} h_{i}^{2} \\sqrt{h_{j}} {\\cal F}_{13}\\left(h_{i}, h_{j}, \\lambda_{ij}, \\lambda_{ik}\\right) + 2 \\sqrt{h_{j}} \\left(\\lambda_{ij}^{3} h_{i} h_{j} - \\lambda_{ij}^{2} \\lambda_{ik} h_{j}^{2} - \\lambda_{ij}^{2} h_{i}^{2} - \\lambda_{ij} h_{i}^{3} h_{j} + \\lambda_{ik} h_{i}^{2} h_{j}^{2}\\right) {\\cal F}^{(3)}\\left(h_{i}, h_{j}, \\lambda_{ij}, \\lambda_{ik}\\right)$"
      ],
      "text/plain": [
       "-\\lambda_{ij}**(3/2)*sqrt(\\lambda_{ik})*h_i**(3/2)*h_j*EFunction(h_i, h_j, \\lambda_{ij}, \\lambda_{ik}, 1, 1, 1) + sqrt(2)*\\lambda_{ij}**(3/2)*\\lambda_{ik}*sqrt(h_i)*h_j**2*FTildeFunction(h_i, h_j, \\lambda_{ij}, \\lambda_{ik}, 1, 1, 0) + sqrt(2)*sqrt(\\lambda_{ij})*h_i**(3/2)*h_j*(2*\\lambda_{ij}*h_i - \\lambda_{ik}*h_j)*FTildeFunction(h_i, h_j, \\lambda_{ij}, \\lambda_{ik}, 1, 1, 1) + 2*sqrt(2)*\\lambda_{ij}**2*sqrt(\\lambda_{ik})*h_i**2*sqrt(h_j)*FFunction(h_i, h_j, \\lambda_{ij}, \\lambda_{ik}, 1, 0, 1) + 2*sqrt(h_j)*(\\lambda_{ij}**3*h_i*h_j - \\lambda_{ij}**2*\\lambda_{ik}*h_j**2 - \\lambda_{ij}**2*h_i**2 - \\lambda_{ij}*h_i**3*h_j + \\lambda_{ik}*h_i**2*h_j**2)*cF3(h_i, h_j, \\lambda_{ij}, \\lambda_{ik})"
      ]
     },
     "execution_count": 29,
     "metadata": {},
     "output_type": "execute_result"
    }
   ],
   "source": [
    "sp.Add(*map(lambda x: x*4*lij*hi**2*sp.sqrt(hj)*(lij*hi-lik*hj), cF3(hi, hj, lij, lik).diff(hi).args))"
   ]
  },
  {
   "cell_type": "code",
   "execution_count": 30,
   "metadata": {},
   "outputs": [],
   "source": [
    "class cF3_degenerate(sp.Function):\n",
    "    def _latex(self, printer, exp=None):\n",
    "        args = list(map(printer.doprint, self.args))\n",
    "        value_args = f\"\\\\left({args[0]}, {args[1]}, {args[2]}, {args[3]}\\\\right)\"\n",
    "        diffs_args = f\"{args[4]}, {args[5]}, {args[6]}, {args[7]}\"\n",
    "        if exp is None:\n",
    "            return \"{\\\\cal F}_{deg,\"+diffs_args+\"}\"+value_args\n",
    "        else:\n",
    "            exp = printer.doprint(exp)\n",
    "            return f\"\\\\left({self._latex(printer)}\\\\right)^{exp}\"\n",
    "    \n",
    "    def fdiff(self, argindex=1):    \n",
    "        args = list(self.args)\n",
    "        args[argindex+3] += 1\n",
    "        return cF3_degenerate(*args)\n",
    "\n",
    "def evaluate_cF3_degenerate(expr):\n",
    "    def evaluate(*args):\n",
    "        expr = (s1*s2*s3*_sigmas_expr_E*F3_degenerate(arg_x, arg_a, arg_b, 0, 0)).diff(hi, args[4])\n",
    "        expr = expr.diff(hj, args[5]).diff(lij, args[6]).diff(lik, args[7])\n",
    "        \n",
    "        expr = evaluate_F3_degenerate(expr)\n",
    "\n",
    "        terms = symbase.collect_sigmas(expr, _sigmas_terms, [s1, s2, s3])\n",
    "        \n",
    "        subs = dict(zip([hi, hj, lij, lik], args[:4]))\n",
    "        \n",
    "        result = 0\n",
    "        for key, item in terms[_sigmas_expr_E].items():\n",
    "            result += item.factor().subs(subs)*EFunction(*args[:4], *key)\n",
    "\n",
    "        for key, item in terms[_sigmas_expr_E*_sigmas_expr_F].items():\n",
    "            result += item.factor().subs(subs)*FFunction(*args[:4], *key)\n",
    "\n",
    "        if _sigmas_expr_E*_sigmas_expr_FTilde in terms:\n",
    "            for key, item in terms[_sigmas_expr_E*_sigmas_expr_FTilde].items():\n",
    "                result += item.factor().subs(subs)*FFunction(*args[:4], *key)\n",
    "\n",
    "        return result\n",
    "    \n",
    "    return expr.replace(cF3_degenerate, evaluate)"
   ]
  },
  {
   "cell_type": "code",
   "execution_count": 31,
   "metadata": {},
   "outputs": [],
   "source": [
    "# expr = cF3_degenerate(hi, hj, lij, lik, *(4*[0])).diff(lij, 1)\n",
    "# expr = evaluate_cF3_degenerate(expr)\n",
    "\n",
    "# expr"
   ]
  },
  {
   "cell_type": "markdown",
   "metadata": {},
   "source": [
    "### Расчет $F^{(2)}$ и $F^{(3)}$"
   ]
  },
  {
   "cell_type": "markdown",
   "metadata": {},
   "source": [
    "#### Определения"
   ]
  },
  {
   "cell_type": "code",
   "execution_count": 32,
   "metadata": {},
   "outputs": [],
   "source": [
    "class erfcx(sp.Function):\n",
    "    def _latex(self, printer, exp=None):\n",
    "        arg = printer.doprint(self.args[0])\n",
    "        if exp is None:\n",
    "            return \"\\operatorname{erfcx}\"+f\"\\\\left({arg}\\\\right)\"\n",
    "        else:\n",
    "            exp = printer.doprint(exp)\n",
    "            return f\"\\\\left({self._latex(printer)}\\\\right)^{exp}\""
   ]
  },
  {
   "cell_type": "code",
   "execution_count": 33,
   "metadata": {},
   "outputs": [],
   "source": [
    "def erfi_to_dawsn(expr):\n",
    "    def __helper(z):\n",
    "        return Z2sym.F2(z)*2/sp.sqrt(sp.pi)*sp.exp(z**2)\n",
    "    return expr.replace(sp.erfi, __helper)\n",
    "\n",
    "\n",
    "def erfc_to_erfcx(expr):\n",
    "    def __helper(z):\n",
    "        return erfcx(z)*sp.exp(-z**2)\n",
    "    return expr.replace(sp.erfc, __helper)"
   ]
  },
  {
   "cell_type": "code",
   "execution_count": 34,
   "metadata": {},
   "outputs": [],
   "source": [
    "t, x, a, b = sp.symbols(\"t x a b\")\n",
    "n, h = sp.symbols(\"n h\")\n",
    "n0 = sp.Symbol(\"n_0\")"
   ]
  },
  {
   "cell_type": "markdown",
   "metadata": {},
   "source": [
    "#### $c > 0$"
   ]
  },
  {
   "cell_type": "code",
   "execution_count": 35,
   "metadata": {},
   "outputs": [
    {
     "data": {
      "text/latex": [
       "$\\displaystyle \\frac{e^{- b^{2} + 2 b h n - h^{2} n^{2} - x^{2}} F^{(2)}\\left(\\frac{a \\left(b - h n\\right)}{\\sqrt{c}}\\right)}{\\sqrt{\\pi} \\sqrt{c} n} + \\frac{e^{- 2 a b x + 2 a h n x - b^{2} + 2 b h n + c x^{2} - h^{2} n^{2} - x^{2}} F^{(2)}\\left(\\frac{- a b + a h n + c x}{\\sqrt{c}}\\right)}{\\sqrt{\\pi} \\sqrt{c} n}$"
      ],
      "text/plain": [
       "exp(-b**2 + 2*b*h*n - h**2*n**2 - x**2)*F2(a*(b - h*n)/sqrt(c))/(sqrt(pi)*sqrt(c)*n) + exp(-2*a*b*x + 2*a*h*n*x - b**2 + 2*b*h*n + c*x**2 - h**2*n**2 - x**2)*F2((-a*b + a*h*n + c*x)/sqrt(c))/(sqrt(pi)*sqrt(c)*n)"
      ]
     },
     "execution_count": 35,
     "metadata": {},
     "output_type": "execute_result"
    }
   ],
   "source": [
    "c = sp.Symbol(\"c\", positive=True)\n",
    "expr = t**2-(a*t+b-n*h)**2\n",
    "expr = expr.expand()\n",
    "expr = expr.replace(a**2, 1-c).expand()\n",
    "expr = sp.integrate(sp.exp(expr), [t, 0, x])*sp.exp(-x**2)/(n*sp.sqrt(sp.pi))\n",
    "expr = expr.expand()\n",
    "expr = erfi_to_dawsn(expr)\n",
    "expr = sp.Add(*map(lambda x: x.simplify(), expr.args))\n",
    "expr"
   ]
  },
  {
   "cell_type": "code",
   "execution_count": 36,
   "metadata": {},
   "outputs": [
    {
     "name": "stdout",
     "output_type": "stream",
     "text": [
      "(a*x + b)/h\n"
     ]
    }
   ],
   "source": [
    "print(sp.solve(expr.args[0].args[-1].diff(n), n)[0])"
   ]
  },
  {
   "cell_type": "code",
   "execution_count": 37,
   "metadata": {},
   "outputs": [
    {
     "name": "stdout",
     "output_type": "stream",
     "text": [
      "b/h\n"
     ]
    }
   ],
   "source": [
    "print(sp.solve(expr.args[1].args[-1].diff(n), n)[0])"
   ]
  },
  {
   "cell_type": "code",
   "execution_count": 38,
   "metadata": {},
   "outputs": [
    {
     "name": "stdout",
     "output_type": "stream",
     "text": [
      "- 2 a b x + 2 a h n_{0} x - b^{2} + 2 b h n_{0} + c x^{2} - h^{2} n^{2} - h^{2} n_{0}^{2} + n \\left(2 a h x + 2 b h - 2 h^{2} n_{0}\\right) - x^{2}\n"
     ]
    },
    {
     "data": {
      "text/latex": [
       "$\\displaystyle - 2 a b x + 2 a h n_{0} x - b^{2} + 2 b h n_{0} + c x^{2} - h^{2} n^{2} - h^{2} n_{0}^{2} + n \\left(2 a h x + 2 b h - 2 h^{2} n_{0}\\right) - x^{2}$"
      ],
      "text/plain": [
       "-2*a*b*x + 2*a*h*n_0*x - b**2 + 2*b*h*n_0 + c*x**2 - h**2*n**2 - h**2*n_0**2 + n*(2*a*h*x + 2*b*h - 2*h**2*n_0) - x**2"
      ]
     },
     "execution_count": 38,
     "metadata": {},
     "output_type": "execute_result"
    }
   ],
   "source": [
    "expr = -2*a*b*x + 2*a*h*n*x - b**2 + 2*b*h*n + c*x**2 - h**2*n**2 - x**2\n",
    "expr = expr.replace(n, n0+n).expand()\n",
    "expr = expr.collect(n)\n",
    "sp.print_latex(expr)\n",
    "expr"
   ]
  },
  {
   "cell_type": "code",
   "execution_count": 39,
   "metadata": {},
   "outputs": [
    {
     "name": "stdout",
     "output_type": "stream",
     "text": [
      "- b^{2} + 2 b h n_{0} - h^{2} n^{2} - h^{2} n_{0}^{2} + n \\left(2 b h - 2 h^{2} n_{0}\\right) - x^{2}\n"
     ]
    },
    {
     "data": {
      "text/latex": [
       "$\\displaystyle - b^{2} + 2 b h n_{0} - h^{2} n^{2} - h^{2} n_{0}^{2} + n \\left(2 b h - 2 h^{2} n_{0}\\right) - x^{2}$"
      ],
      "text/plain": [
       "-b**2 + 2*b*h*n_0 - h**2*n**2 - h**2*n_0**2 + n*(2*b*h - 2*h**2*n_0) - x**2"
      ]
     },
     "execution_count": 39,
     "metadata": {},
     "output_type": "execute_result"
    }
   ],
   "source": [
    "expr = -b**2 + 2*b*h*n - h**2*n**2 - x**2\n",
    "expr = expr.replace(n, n0+n).expand()\n",
    "expr = expr.collect(n)\n",
    "sp.print_latex(expr)\n",
    "expr"
   ]
  },
  {
   "cell_type": "markdown",
   "metadata": {},
   "source": [
    "#### $c < 0$"
   ]
  },
  {
   "cell_type": "code",
   "execution_count": 40,
   "metadata": {},
   "outputs": [
    {
     "name": "stdout",
     "output_type": "stream",
     "text": [
      "\\frac{\\left(\\operatorname{erf}{\\left(\\frac{a b - a h n - c x}{\\sqrt{- c}} \\right)} - \\operatorname{erf}{\\left(\\frac{a \\left(b - h n\\right)}{\\sqrt{- c}} \\right)}\\right) e^{\\frac{- a^{2} b^{2} - a^{2} h^{2} n^{2} - b^{2} c + 2 b h n \\left(a^{2} + c\\right) - c h^{2} n^{2} - c x^{2}}{c}}}{2 n \\sqrt{- c}}\n"
     ]
    },
    {
     "data": {
      "text/latex": [
       "$\\displaystyle \\frac{\\left(\\operatorname{erf}{\\left(\\frac{a b - a h n - c x}{\\sqrt{- c}} \\right)} - \\operatorname{erf}{\\left(\\frac{a \\left(b - h n\\right)}{\\sqrt{- c}} \\right)}\\right) e^{\\frac{- a^{2} b^{2} - a^{2} h^{2} n^{2} - b^{2} c + 2 b h n \\left(a^{2} + c\\right) - c h^{2} n^{2} - c x^{2}}{c}}}{2 n \\sqrt{- c}}$"
      ],
      "text/plain": [
       "(erf((a*b - a*h*n - c*x)/sqrt(-c)) - erf(a*(b - h*n)/sqrt(-c)))*exp((-a**2*b**2 - a**2*h**2*n**2 - b**2*c + 2*b*h*n*(a**2 + c) - c*h**2*n**2 - c*x**2)/c)/(2*n*sqrt(-c))"
      ]
     },
     "metadata": {},
     "output_type": "display_data"
    },
    {
     "data": {
      "text/latex": [
       "$\\displaystyle \\frac{\\left(\\operatorname{erfc}{\\left(\\frac{- a b + a h n + c x}{\\sqrt{- c}} \\right)} + \\operatorname{erfc}{\\left(\\frac{a \\left(b - h n\\right)}{\\sqrt{- c}} \\right)} - 2\\right) e^{- \\frac{a^{2} b^{2}}{c} + \\frac{2 a^{2} b h n}{c} - \\frac{a^{2} h^{2} n^{2}}{c} - b^{2} + 2 b h n - h^{2} n^{2} - x^{2}}}{2 n \\sqrt{- c}}$"
      ],
      "text/plain": [
       "(erfc((-a*b + a*h*n + c*x)/sqrt(-c)) + erfc(a*(b - h*n)/sqrt(-c)) - 2)*exp(-a**2*b**2/c + 2*a**2*b*h*n/c - a**2*h**2*n**2/c - b**2 + 2*b*h*n - h**2*n**2 - x**2)/(2*n*sqrt(-c))"
      ]
     },
     "metadata": {},
     "output_type": "display_data"
    },
    {
     "name": "stdout",
     "output_type": "stream",
     "text": [
      "\\frac{\\operatorname{erfcx}\\left(\\frac{- a b + a h n + c x}{\\sqrt{- c}}\\right) e^{- 2 a b x + 2 a h n x - b^{2} + 2 b h n + c x^{2} - h^{2} n^{2} - x^{2}}}{2 n \\sqrt{- c}} + \\frac{\\operatorname{erfcx}\\left(\\frac{a \\left(b - h n\\right)}{\\sqrt{- c}}\\right) e^{- b^{2} + 2 b h n - h^{2} n^{2} - x^{2}}}{2 n \\sqrt{- c}} - \\frac{e^{- \\frac{a^{2} b^{2}}{c} + \\frac{2 a^{2} b h n}{c} - \\frac{a^{2} h^{2} n^{2}}{c} - b^{2} + 2 b h n - h^{2} n^{2} - x^{2}}}{n \\sqrt{- c}}\n"
     ]
    },
    {
     "data": {
      "text/latex": [
       "$\\displaystyle \\frac{\\operatorname{erfcx}\\left(\\frac{- a b + a h n + c x}{\\sqrt{- c}}\\right) e^{- 2 a b x + 2 a h n x - b^{2} + 2 b h n + c x^{2} - h^{2} n^{2} - x^{2}}}{2 n \\sqrt{- c}} + \\frac{\\operatorname{erfcx}\\left(\\frac{a \\left(b - h n\\right)}{\\sqrt{- c}}\\right) e^{- b^{2} + 2 b h n - h^{2} n^{2} - x^{2}}}{2 n \\sqrt{- c}} - \\frac{e^{- \\frac{a^{2} b^{2}}{c} + \\frac{2 a^{2} b h n}{c} - \\frac{a^{2} h^{2} n^{2}}{c} - b^{2} + 2 b h n - h^{2} n^{2} - x^{2}}}{n \\sqrt{- c}}$"
      ],
      "text/plain": [
       "erfcx((-a*b + a*h*n + c*x)/sqrt(-c))*exp(-2*a*b*x + 2*a*h*n*x - b**2 + 2*b*h*n + c*x**2 - h**2*n**2 - x**2)/(2*n*sqrt(-c)) + erfcx(a*(b - h*n)/sqrt(-c))*exp(-b**2 + 2*b*h*n - h**2*n**2 - x**2)/(2*n*sqrt(-c)) - exp(-a**2*b**2/c + 2*a**2*b*h*n/c - a**2*h**2*n**2/c - b**2 + 2*b*h*n - h**2*n**2 - x**2)/(n*sqrt(-c))"
      ]
     },
     "metadata": {},
     "output_type": "display_data"
    }
   ],
   "source": [
    "c = sp.Symbol(\"c\", negative=True)\n",
    "expr = t**2-(a*t+b-n*h)**2\n",
    "expr = expr.expand()\n",
    "expr = expr.replace(a**2, 1-c).expand()\n",
    "expr = sp.integrate(sp.exp(expr), [t, 0, x])*sp.exp(-x**2)/(n*sp.sqrt(sp.pi))\n",
    "expr = expr.simplify()\n",
    "sp.print_latex(expr)\n",
    "display(expr)\n",
    "\n",
    "expr = expr.rewrite(sp.erfc)\n",
    "expr = expr.expand().factor().simplify()\n",
    "display(expr)\n",
    "expr = erfc_to_erfcx(expr).expand()\n",
    "expr = sp.Add(*map(lambda x: x.simplify(), expr.args))\n",
    "sp.print_latex(expr)\n",
    "display(expr)"
   ]
  },
  {
   "cell_type": "code",
   "execution_count": 41,
   "metadata": {},
   "outputs": [
    {
     "name": "stdout",
     "output_type": "stream",
     "text": [
      "(-a**2*b**2 + 2*a**2*b*h*n - a**2*h**2*n**2 + c*(-b**2 + 2*b*h*n - h**2*n**2 - x**2))/c\n"
     ]
    }
   ],
   "source": [
    "print(expr.args[0].args[-1].args[0].simplify())"
   ]
  },
  {
   "cell_type": "code",
   "execution_count": 42,
   "metadata": {},
   "outputs": [
    {
     "data": {
      "text/latex": [
       "$\\displaystyle \\left(\\frac{2 a^{2} b h}{c} - \\frac{2 a^{2} h^{2} n}{c} + 2 b h - 2 h^{2} n\\right) e^{- \\frac{a^{2} b^{2}}{c} + \\frac{2 a^{2} b h n}{c} - \\frac{a^{2} h^{2} n^{2}}{c} - b^{2} + 2 b h n - h^{2} n^{2} - x^{2}}$"
      ],
      "text/plain": [
       "(2*a**2*b*h/c - 2*a**2*h**2*n/c + 2*b*h - 2*h**2*n)*exp(-a**2*b**2/c + 2*a**2*b*h*n/c - a**2*h**2*n**2/c - b**2 + 2*b*h*n - h**2*n**2 - x**2)"
      ]
     },
     "metadata": {},
     "output_type": "display_data"
    },
    {
     "name": "stdout",
     "output_type": "stream",
     "text": [
      "[b/h]\n",
      "a**2*b/c - a**2*h*n/c + b - h*n\n"
     ]
    }
   ],
   "source": [
    "expr = sp.exp(-a**2*b**2/c + 2*a**2*b*h*n/c - a**2*h**2*n**2/c - b**2 + 2*b*h*n - h**2*n**2 - x**2)\n",
    "expr = expr.diff(n)\n",
    "display(expr)\n",
    "print(sp.solve(expr, n))\n",
    "\n",
    "print(sp.expand(expr.args[0]/(2*h)))"
   ]
  },
  {
   "cell_type": "markdown",
   "metadata": {},
   "source": [
    "### Численная проверка"
   ]
  },
  {
   "cell_type": "code",
   "execution_count": 43,
   "metadata": {},
   "outputs": [
    {
     "name": "stdout",
     "output_type": "stream",
     "text": [
      "10617.721695485003\n",
      "10617.722628898244\n"
     ]
    }
   ],
   "source": [
    "hi, hj, lij, lik = 1.1, 1.4, 0.9, 1.2\n",
    "\n",
    "print(Z3num.calc_Z3_integrate(hi, hj, lij, lik))\n",
    "print(2*(2*np.pi)**3/np.sqrt(hi*hj*lij*lik)*Z3num.cF3_symmetrical(hi, hj, lij, lik))"
   ]
  },
  {
   "cell_type": "code",
   "execution_count": 44,
   "metadata": {},
   "outputs": [],
   "source": [
    "def get_diffs(expr, args, n=1, func=None):\n",
    "    diffs = []\n",
    "    for arg in args:\n",
    "        _expr = expr.diff(arg, n)\n",
    "        if func is not None:\n",
    "            _expr = func(_expr)\n",
    "        diffs.append(sp.lambdify(args, _expr, Z3sym.num_module))\n",
    "    return diffs"
   ]
  },
  {
   "cell_type": "code",
   "execution_count": 45,
   "metadata": {},
   "outputs": [],
   "source": [
    "def calc_numerical_diffs(func, args, n=1):\n",
    "    diffs = np.zeros_like(args)\n",
    "    for i, arg in enumerate(args):\n",
    "        direction = [0] * len(args)\n",
    "        direction[i] = 1\n",
    "        diffs[i] = nd.directionaldiff(func, args, direction, n=n)\n",
    "    return diffs\n",
    "\n",
    "\n",
    "def calc_exprs(exprs, args):\n",
    "    return list(map(lambda expr: expr(*args), exprs))\n",
    "\n",
    "\n",
    "def compare_exprs(exprs_1, exprs_2):\n",
    "    for i, expr in enumerate(exprs_1):\n",
    "        print(expr)\n",
    "        print(exprs_2[i])\n",
    "        print()"
   ]
  },
  {
   "cell_type": "code",
   "execution_count": 46,
   "metadata": {},
   "outputs": [
    {
     "name": "stdout",
     "output_type": "stream",
     "text": [
      "0.035252886520250576\n",
      "0.0352528865282183\n",
      "\n",
      "-0.008072403402538892\n",
      "-0.008072403578818818\n",
      "\n",
      "-0.000507731536633192\n",
      "-0.0005077325358310847\n",
      "\n"
     ]
    }
   ],
   "source": [
    "x, a, b = sp.symbols(\"x a b\")\n",
    "\n",
    "f_F3_diffs = get_diffs(F3(x, a, b), [x, a, b])\n",
    "\n",
    "args = 1.4, -6, 3\n",
    "compare_exprs(\n",
    "    calc_numerical_diffs(lambda args: Z3num.F3(*args), args),\n",
    "    calc_exprs(f_F3_diffs, args)\n",
    ")"
   ]
  },
  {
   "cell_type": "code",
   "execution_count": 47,
   "metadata": {},
   "outputs": [
    {
     "name": "stdout",
     "output_type": "stream",
     "text": [
      "-0.13020305320591144\n",
      "-0.13020305307846142\n",
      "\n",
      "-0.03858106485080844\n",
      "-0.03858039157748265\n",
      "\n",
      "0.0335001563309486\n",
      "0.03349936810550083\n",
      "\n"
     ]
    }
   ],
   "source": [
    "f_F3_degenerate_diffs = get_diffs(F3_degenerate(x, a, b, 0, 0), [x, a, b], func=evaluate_F3_degenerate)\n",
    "\n",
    "args = 1.4, 1, 0\n",
    "compare_exprs(\n",
    "    calc_numerical_diffs(lambda args: Z3num.F3(*args), args),\n",
    "    calc_exprs(f_F3_degenerate_diffs, args)\n",
    ")"
   ]
  },
  {
   "cell_type": "code",
   "execution_count": 48,
   "metadata": {},
   "outputs": [
    {
     "name": "stdout",
     "output_type": "stream",
     "text": [
      "0.3994941283222833\n",
      "0.3994975904058924\n"
     ]
    }
   ],
   "source": [
    "expr = F3_degenerate(x, a, b, 0, 0).diff(x, x, a)\n",
    "expr = evaluate_F3_degenerate(expr)\n",
    "f_expr = sp.lambdify([x, a, b], expr, Z3sym.num_module)\n",
    "\n",
    "args = 1.4, 1, 0\n",
    "f = lambda args: nd.directionaldiff(lambda args: Z3num.F3(*args), args, [1, 0, 0], n=2)\n",
    "print(nd.directionaldiff(f, args, [0, 1, 0], n=1))\n",
    "print(f_expr(*args))"
   ]
  },
  {
   "cell_type": "code",
   "execution_count": 49,
   "metadata": {},
   "outputs": [
    {
     "name": "stdout",
     "output_type": "stream",
     "text": [
      "1793.9908528052315\n",
      "1793.9908528052451\n",
      "\n",
      "896.4925453059238\n",
      "896.4925453059141\n",
      "\n",
      "1796.1935369487594\n",
      "1796.1935369487765\n",
      "\n",
      "899.5611861682389\n",
      "899.5611861682447\n",
      "\n"
     ]
    }
   ],
   "source": [
    "hi, hj, lij, lik = Z3sym.hi, Z3sym.hj, Z3sym.lij, Z3sym.lik\n",
    "\n",
    "f_E_123 = sp.lambdify((hi, hj, lij, lik ), EFunction(hi, hj, lij, lik , 1, 1, 1), Z3sym.num_module)\n",
    "f_E_123_diffs = get_diffs(EFunction(hi, hj, lij, lik , 1, 1, 1), (hi, hj, lij, lik ))\n",
    "\n",
    "args = 1.1, 1.6, 0.9, 1.2\n",
    "compare_exprs(\n",
    "    calc_numerical_diffs(lambda x: f_E_123(*x), args),\n",
    "    calc_exprs(f_E_123_diffs, args)\n",
    ")"
   ]
  },
  {
   "cell_type": "code",
   "execution_count": 50,
   "metadata": {},
   "outputs": [
    {
     "name": "stdout",
     "output_type": "stream",
     "text": [
      "1207.3625478377833\n",
      "1207.3625478377833\n"
     ]
    }
   ],
   "source": [
    "f_expr = sp.lambdify((hi, hj, lij, lik), EFunction(hi, hj, lij, lik, 1, 1, 1).rewrite(sp.exp), Z3sym.num_module)\n",
    "\n",
    "args = 1.1, 1.9, 0.9, 1.2\n",
    "print(f_expr(*args))\n",
    "print(f_E_123(*args))"
   ]
  },
  {
   "cell_type": "code",
   "execution_count": 51,
   "metadata": {},
   "outputs": [
    {
     "name": "stdout",
     "output_type": "stream",
     "text": [
      "242.9620849610564\n",
      "242.96192895125\n",
      "\n",
      "125.49175428921544\n",
      "125.49169241482082\n",
      "\n",
      "247.5682653467863\n",
      "247.5681198639258\n",
      "\n",
      "140.245898560701\n",
      "140.24589856068548\n",
      "\n"
     ]
    }
   ],
   "source": [
    "f_F_123 = sp.lambdify((hi, hj, lij, lik), FFunction(hi, hj, lij, lik, 1, 1, 1), Z3sym.num_module)\n",
    "f_F_123_diffs = get_diffs(FFunction(hi, hj, lij, lik, 1, 1, 1), (hi, hj, lij, lik))\n",
    "\n",
    "args = 1.0, 1.6, 0.9, 1.2\n",
    "compare_exprs(\n",
    "    calc_numerical_diffs(lambda x: f_F_123(*x), args),\n",
    "    calc_exprs(f_F_123_diffs, args)\n",
    ")"
   ]
  },
  {
   "cell_type": "code",
   "execution_count": 52,
   "metadata": {},
   "outputs": [
    {
     "name": "stdout",
     "output_type": "stream",
     "text": [
      "293.0673061645827\n",
      "293.0673061645829\n"
     ]
    }
   ],
   "source": [
    "f_expr = sp.lambdify((hi, hj, lij, lik), FFunction(hi, hj, lij, lik, 1, 1, 1).rewrite(sp.exp), Z3sym.num_module)\n",
    "\n",
    "args = 1.1, 1.9, 0.9, 1.5\n",
    "print(f_expr(*args))\n",
    "print(f_F_123(*args))"
   ]
  },
  {
   "cell_type": "code",
   "execution_count": 53,
   "metadata": {},
   "outputs": [
    {
     "name": "stdout",
     "output_type": "stream",
     "text": [
      "326.3793182298885\n",
      "326.3790925223483\n",
      "\n",
      "186.48751220440235\n",
      "186.48751220440238\n",
      "\n",
      "328.1762328880003\n",
      "328.1760076009938\n",
      "\n",
      "176.97507990402082\n",
      "176.97502735302322\n",
      "\n"
     ]
    }
   ],
   "source": [
    "f_F_tilde_123 = sp.lambdify((hi, hj, lij, lik), FTildeFunction(hi, hj, lij, lik, 1, 1, 1), Z3sym.num_module)\n",
    "f_F_tilde_123_diffs = get_diffs(FTildeFunction(hi, hj, lij, lik, 1, 1, 1), (hi, hj, lij, lik))\n",
    "\n",
    "args = 1.1, 1.6, 0.9, 1.3\n",
    "compare_exprs(\n",
    "    calc_numerical_diffs(lambda x: f_F_tilde_123(*x), args),\n",
    "    calc_exprs(f_F_tilde_123_diffs, args)\n",
    ")"
   ]
  },
  {
   "cell_type": "code",
   "execution_count": 54,
   "metadata": {},
   "outputs": [
    {
     "name": "stdout",
     "output_type": "stream",
     "text": [
      "437.60638894794687\n",
      "437.60638894794687\n"
     ]
    }
   ],
   "source": [
    "f_expr = sp.lambdify((hi, hj, lij, lik), FTildeFunction(hi, hj, lij, lik, 1, 1, 1), Z3sym.num_module)\n",
    "\n",
    "args = 1.1, 1.9, 0.9, 1.9\n",
    "print(f_expr(*args))\n",
    "print(f_F_tilde_123(*args))"
   ]
  },
  {
   "cell_type": "code",
   "execution_count": 55,
   "metadata": {},
   "outputs": [
    {
     "name": "stdout",
     "output_type": "stream",
     "text": [
      "50.18660648620504\n",
      "50.18650313349194\n",
      "\n",
      "29.615665884710126\n",
      "29.6157570638889\n",
      "\n",
      "51.5874549242983\n",
      "51.58732212835459\n",
      "\n",
      "31.11306651669058\n",
      "31.11318871617283\n",
      "\n"
     ]
    }
   ],
   "source": [
    "f_cF3_diffs = get_diffs(cF3(hi, hj, lij, lik), (hi, hj, lij, lik))\n",
    "\n",
    "args = 1.1, 1.6, 0.9, 1.2\n",
    "compare_exprs(\n",
    "    calc_numerical_diffs(lambda x: Z3num.cF3_symmetrical(*x), args),\n",
    "    calc_exprs(f_cF3_diffs, args)\n",
    ")"
   ]
  },
  {
   "cell_type": "code",
   "execution_count": 56,
   "metadata": {},
   "outputs": [
    {
     "name": "stdout",
     "output_type": "stream",
     "text": [
      "62.3891828960169\n",
      "62.38918289601689\n"
     ]
    }
   ],
   "source": [
    "f_expr = sp.lambdify((hi, hj, lij, lik),cF3(hi, hj, lij, lik).rewrite(sp.exp), Z3sym.num_module)\n",
    "\n",
    "args = 1.1, 1.9, 0.9, 1.6\n",
    "print(f_expr(*args))\n",
    "print(Z3num.cF3_symmetrical(*args))"
   ]
  },
  {
   "cell_type": "code",
   "execution_count": 57,
   "metadata": {},
   "outputs": [
    {
     "name": "stdout",
     "output_type": "stream",
     "text": [
      "316.47261030616926\n",
      "316.472129630341\n",
      "\n",
      "178.63289692163744\n",
      "178.63292036916692\n",
      "\n",
      "307.16676683950595\n",
      "307.16671544714336\n",
      "\n",
      "201.50338841492476\n",
      "201.5034912030162\n",
      "\n"
     ]
    }
   ],
   "source": [
    "f_cF3_degenerate_diffs = get_diffs(cF3_degenerate(hi, hj, lij, lik, *(4*[0])), (hi, hj, lij, lik), n=1, func=evaluate_cF3_degenerate)\n",
    "\n",
    "args = 1.1, 1.9, 1.9, 1.1\n",
    "compare_exprs(\n",
    "    calc_numerical_diffs(lambda x: Z3num.cF3_symmetrical(*x), args, n=1),\n",
    "    calc_exprs(f_cF3_degenerate_diffs, args)\n",
    ")"
   ]
  },
  {
   "cell_type": "markdown",
   "metadata": {},
   "source": [
    "## Моменты $\\cal Z^{(3)}$"
   ]
  },
  {
   "cell_type": "markdown",
   "metadata": {},
   "source": [
    "### Определения"
   ]
  },
  {
   "cell_type": "code",
   "execution_count": 58,
   "metadata": {},
   "outputs": [],
   "source": [
    "def get_line_Matrix(expr, like_terms):\n",
    "    terms = sp.collect(expr, like_terms, evaluate=False)\n",
    "    line = []\n",
    "    for term in like_terms + [1]:\n",
    "        if term in terms:\n",
    "            if term == 1:\n",
    "                line.append(-terms[term].factor())\n",
    "            else:\n",
    "                line.append(terms[term].factor())\n",
    "        else:\n",
    "            line.append(0)\n",
    "    return line\n"
   ]
  },
  {
   "cell_type": "markdown",
   "metadata": {},
   "source": [
    "### Общий случай"
   ]
  },
  {
   "cell_type": "markdown",
   "metadata": {},
   "source": [
    "#### Символьные вычисления"
   ]
  },
  {
   "cell_type": "code",
   "execution_count": 59,
   "metadata": {},
   "outputs": [],
   "source": [
    "mi, mj, eta_ij, eta_ik = Z3sym.mi, Z3sym.mj, Z3sym.eta_ij, Z3sym.eta_ik"
   ]
  },
  {
   "cell_type": "code",
   "execution_count": 60,
   "metadata": {},
   "outputs": [],
   "source": [
    "Z3 = cF3(hi, hj, lij, lik)/sp.sqrt(hi*hj*lij*lik)\n",
    "\n",
    "expr_mi = sp.log(Z3).diff(hi)/2\n",
    "expr_mi = sp.Add(*map(sp.factor, expr_mi.expand().args))\n",
    "\n",
    "expr_mj = sp.log(Z3).diff(hj)\n",
    "expr_mj = sp.Add(*map(sp.factor, expr_mj.expand().args))\n",
    "\n",
    "expr_eta_ij = sp.log(Z3).diff(lij)/2\n",
    "expr_eta_ij = sp.Add(*map(sp.factor, expr_eta_ij.expand().args))\n",
    "\n",
    "expr_eta_ik = sp.log(Z3).diff(lik)\n",
    "expr_eta_ik = sp.Add(*map(sp.factor, expr_eta_ik.expand().args))"
   ]
  },
  {
   "cell_type": "code",
   "execution_count": 61,
   "metadata": {},
   "outputs": [],
   "source": [
    "n, d = sp.fraction(expr_mi.factor())\n",
    "_expr_mi = n-d*mi\n",
    "\n",
    "n, d = sp.fraction(expr_mj.factor())\n",
    "_expr_mj = n-d*mj\n",
    "\n",
    "n, d = sp.fraction(expr_eta_ij.factor())\n",
    "_expr_eta_ij = n-d*eta_ij\n",
    "\n",
    "n, d = sp.fraction(expr_eta_ik.factor())\n",
    "_expr_eta_ik = n-d*eta_ik"
   ]
  },
  {
   "cell_type": "code",
   "execution_count": 62,
   "metadata": {},
   "outputs": [],
   "source": [
    "vector_system_moments = [\n",
    "    cF3(hi, hj, lij, lik),\n",
    "    FTildeFunction(hi, hj, lij, lik, 1, 1, 1),\n",
    "    FTildeFunction(hi, hj, lij, lik, 1, 1, 0),\n",
    "    FFunction(hi, hj, lij, lik, 1, 0, 1),\n",
    "]\n",
    "\n",
    "line1 = get_line_Matrix(_expr_mi, vector_system_moments)\n",
    "line2 = get_line_Matrix(_expr_mj, vector_system_moments)\n",
    "line3 = get_line_Matrix(_expr_eta_ij, vector_system_moments)\n",
    "line4 = get_line_Matrix(_expr_eta_ik, vector_system_moments)"
   ]
  },
  {
   "cell_type": "code",
   "execution_count": 63,
   "metadata": {},
   "outputs": [
    {
     "data": {
      "text/latex": [
       "$\\displaystyle \\left[\\begin{matrix}2 \\lambda_{ij} \\left<{m_i}\\right> h_{i} + \\lambda_{ij} \\left<{m_j}\\right> h_{j} + \\lambda_{ij} + h_{i} h_{j} & - \\frac{\\sqrt{2} \\sqrt{\\lambda_{ij}} \\sqrt{h_{i}} \\sqrt{h_{j}}}{2} & 0 & 0 & 0\\\\2 \\lambda_{ij} \\left<{\\eta_{ij}}\\right> h_{i} + \\lambda_{ij} h_{j} + \\left<{m_j}\\right> h_{i} h_{j} + h_{i} & 0 & - \\frac{\\sqrt{2} \\sqrt{\\lambda_{ij}} \\sqrt{h_{i}} \\sqrt{h_{j}}}{2} & 0 & 0\\\\2 \\lambda_{ij} \\left<{\\eta_{ij}}\\right> + 2 \\lambda_{ik} \\left<{\\eta_{ik}}\\right> + 2 \\lambda_{ik} + 2 \\left<{m_i}\\right> h_{i} + 2 & 0 & 0 & - \\sqrt{2} \\sqrt{\\lambda_{ik}} & 0\\\\\\Delta & 0 & 0 & 0 & \\frac{\\sqrt{\\lambda_{ij}} \\sqrt{\\lambda_{ik}} \\sqrt{h_{i}} \\sqrt{h_{j}} {\\cal E}_{123}\\left(h_{i}, h_{j}, \\lambda_{ij}, \\lambda_{ik}\\right)}{2}\\end{matrix}\\right]$"
      ],
      "text/plain": [
       "Matrix([\n",
       "[                             2*\\lambda_{ij}*\\left<{m_i}\\right>*h_i + \\lambda_{ij}*\\left<{m_j}\\right>*h_j + \\lambda_{ij} + h_i*h_j, -sqrt(2)*sqrt(\\lambda_{ij})*sqrt(h_i)*sqrt(h_j)/2,                                                 0,                           0,                                                                                                                    0],\n",
       "[                                2*\\lambda_{ij}*\\left<{\\eta_{ij}}\\right>*h_i + \\lambda_{ij}*h_j + \\left<{m_j}\\right>*h_i*h_j + h_i,                                                 0, -sqrt(2)*sqrt(\\lambda_{ij})*sqrt(h_i)*sqrt(h_j)/2,                           0,                                                                                                                    0],\n",
       "[2*\\lambda_{ij}*\\left<{\\eta_{ij}}\\right> + 2*\\lambda_{ik}*\\left<{\\eta_{ik}}\\right> + 2*\\lambda_{ik} + 2*\\left<{m_i}\\right>*h_i + 2,                                                 0,                                                 0, -sqrt(2)*sqrt(\\lambda_{ik}),                                                                                                                    0],\n",
       "[                                                                                                                           \\Delta,                                                 0,                                                 0,                           0, sqrt(\\lambda_{ij})*sqrt(\\lambda_{ik})*sqrt(h_i)*sqrt(h_j)*EFunction(h_i, h_j, \\lambda_{ij}, \\lambda_{ik}, 1, 1, 1)/2]])"
      ]
     },
     "metadata": {},
     "output_type": "display_data"
    }
   ],
   "source": [
    "M = sp.Matrix([line1, line2, line3, line4])\n",
    "M[0, :] /= sp.sqrt(lij)*hi*sp.sqrt(hi)/sp.sqrt(hj)\n",
    "M[1, :] /= sp.sqrt(lij)*sp.sqrt(hi)\n",
    "M[2, :] /= sp.sqrt(lij)*lij*sp.sqrt(hi)/sp.sqrt(hj)\n",
    "M[3, :] /= sp.sqrt(lik)/sp.sqrt(hj)\n",
    "\n",
    "M[0, :] += M[1, :]\n",
    "M[1, :] += M[2, :]\n",
    "M[2, :] += M[0, :]/2\n",
    "M[2, :] -= M[1, :]\n",
    "M[2, :] += lik*hj*M[3, :]\n",
    "M[3, :] -= M[2, :]/(lik*hj)\n",
    "M = M.expand()\n",
    "\n",
    "M = sp.Matrix(4, 5, lambda i, j: M[i, j].factor())\n",
    "M[0, :] /= (lij*hi-lik*hj)*hi*sp.sqrt(hj)*2\n",
    "M[1, :] /= (lij*hi-lik*hj)*lij*sp.sqrt(hj)*2\n",
    "M[2, :] /= (lij*hi-lik*hj)*sp.sqrt(hj)\n",
    "M[3, :] *= lik*sp.sqrt(hj)\n",
    "\n",
    "M[2, :] -= M[0, :]*hi\n",
    "M[3, :] += M[0, :]*hi**2*lij\n",
    "M[3, :] += M[1, :]*hj*lij*lik\n",
    "M[2, :] += M[3, :]/(hi*lij)\n",
    "M[3, :] += M[2, :]/(lik*hj)*hi**2*lij**2\n",
    "M = M.expand()\n",
    "\n",
    "M = sp.Matrix(4, 5, lambda i, j: M[i, j].factor())\n",
    "M[0, :] /= -2\n",
    "M[1, :] /= -2\n",
    "M[2, :] /= -2*lik*hj\n",
    "M[3, :] /= -2*lij*hi\n",
    "\n",
    "det_system_moments = sp.Symbol(\"\\\\Delta\")\n",
    "det_system_moments_value = M[3, 0]\n",
    "M[3, 0] = det_system_moments\n",
    "\n",
    "display(M)"
   ]
  },
  {
   "cell_type": "code",
   "execution_count": 64,
   "metadata": {},
   "outputs": [
    {
     "data": {
      "text/latex": [
       "$\\displaystyle \\lambda_{ij}^{2} h_{j} + 2 \\lambda_{ij} \\lambda_{ik} \\left<{\\eta_{ik}}\\right> h_{i} + 2 \\lambda_{ij} \\lambda_{ik} h_{i} + 2 \\lambda_{ij} \\left<{\\eta_{ij}}\\right> \\left(\\lambda_{ij} h_{i} + \\lambda_{ik} h_{j}\\right) + 2 \\lambda_{ij} \\left<{m_j}\\right> h_{i} h_{j} + 2 \\lambda_{ij} h_{i} + \\lambda_{ik} h_{j} + 2 \\left<{m_i}\\right> h_{i} \\left(\\lambda_{ij} h_{i} + \\lambda_{ik} h_{j}\\right) + h_{i}^{2} h_{j}$"
      ],
      "text/plain": [
       "\\lambda_{ij}**2*h_j + 2*\\lambda_{ij}*\\lambda_{ik}*\\left<{\\eta_{ik}}\\right>*h_i + 2*\\lambda_{ij}*\\lambda_{ik}*h_i + 2*\\lambda_{ij}*\\left<{\\eta_{ij}}\\right>*(\\lambda_{ij}*h_i + \\lambda_{ik}*h_j) + 2*\\lambda_{ij}*\\left<{m_j}\\right>*h_i*h_j + 2*\\lambda_{ij}*h_i + \\lambda_{ik}*h_j + 2*\\left<{m_i}\\right>*h_i*(\\lambda_{ij}*h_i + \\lambda_{ik}*h_j) + h_i**2*h_j"
      ]
     },
     "execution_count": 64,
     "metadata": {},
     "output_type": "execute_result"
    }
   ],
   "source": [
    "det_system_moments_value.collect([mi, mj, eta_ij, eta_ik], sp.factor)"
   ]
  },
  {
   "cell_type": "code",
   "execution_count": 65,
   "metadata": {},
   "outputs": [
    {
     "data": {
      "text/latex": [
       "$\\displaystyle {\\cal F}^{(3)}\\left(h_{i}, h_{j}, \\lambda_{ij}, \\lambda_{ik}\\right) = \\frac{\\sqrt{\\lambda_{ij}} \\sqrt{\\lambda_{ik}} \\sqrt{h_{i}} \\sqrt{h_{j}} {\\cal E}_{123}\\left(h_{i}, h_{j}, \\lambda_{ij}, \\lambda_{ik}\\right)}{2 \\Delta}$"
      ],
      "text/plain": [
       "Eq(cF3(h_i, h_j, \\lambda_{ij}, \\lambda_{ik}), sqrt(\\lambda_{ij})*sqrt(\\lambda_{ik})*sqrt(h_i)*sqrt(h_j)*EFunction(h_i, h_j, \\lambda_{ij}, \\lambda_{ik}, 1, 1, 1)/(2*\\Delta))"
      ]
     },
     "metadata": {},
     "output_type": "display_data"
    },
    {
     "data": {
      "text/latex": [
       "$\\displaystyle \\tilde{\\cal F}_{123}\\left(h_{i}, h_{j}, \\lambda_{ij}, \\lambda_{ik}\\right) = \\frac{\\sqrt{2} \\sqrt{\\lambda_{ik}} \\left(2 \\lambda_{ij} \\left<{m_i}\\right> h_{i} + \\lambda_{ij} \\left<{m_j}\\right> h_{j} + \\lambda_{ij} + h_{i} h_{j}\\right) {\\cal E}_{123}\\left(h_{i}, h_{j}, \\lambda_{ij}, \\lambda_{ik}\\right)}{2 \\Delta}$"
      ],
      "text/plain": [
       "Eq(FTildeFunction(h_i, h_j, \\lambda_{ij}, \\lambda_{ik}, 1, 1, 1), sqrt(2)*sqrt(\\lambda_{ik})*(2*\\lambda_{ij}*\\left<{m_i}\\right>*h_i + \\lambda_{ij}*\\left<{m_j}\\right>*h_j + \\lambda_{ij} + h_i*h_j)*EFunction(h_i, h_j, \\lambda_{ij}, \\lambda_{ik}, 1, 1, 1)/(2*\\Delta))"
      ]
     },
     "metadata": {},
     "output_type": "display_data"
    },
    {
     "data": {
      "text/latex": [
       "$\\displaystyle \\tilde{\\cal F}_{12}\\left(h_{i}, h_{j}, \\lambda_{ij}, \\lambda_{ik}\\right) = \\frac{\\sqrt{2} \\sqrt{\\lambda_{ik}} \\left(2 \\lambda_{ij} \\left<{\\eta_{ij}}\\right> h_{i} + \\lambda_{ij} h_{j} + \\left<{m_j}\\right> h_{i} h_{j} + h_{i}\\right) {\\cal E}_{123}\\left(h_{i}, h_{j}, \\lambda_{ij}, \\lambda_{ik}\\right)}{2 \\Delta}$"
      ],
      "text/plain": [
       "Eq(FTildeFunction(h_i, h_j, \\lambda_{ij}, \\lambda_{ik}, 1, 1, 0), sqrt(2)*sqrt(\\lambda_{ik})*(2*\\lambda_{ij}*\\left<{\\eta_{ij}}\\right>*h_i + \\lambda_{ij}*h_j + \\left<{m_j}\\right>*h_i*h_j + h_i)*EFunction(h_i, h_j, \\lambda_{ij}, \\lambda_{ik}, 1, 1, 1)/(2*\\Delta))"
      ]
     },
     "metadata": {},
     "output_type": "display_data"
    },
    {
     "data": {
      "text/latex": [
       "$\\displaystyle {\\cal F}_{13}\\left(h_{i}, h_{j}, \\lambda_{ij}, \\lambda_{ik}\\right) = \\frac{\\sqrt{2} \\sqrt{\\lambda_{ij}} \\sqrt{h_{i}} \\sqrt{h_{j}} \\left(\\lambda_{ij} \\left<{\\eta_{ij}}\\right> + \\lambda_{ik} \\left<{\\eta_{ik}}\\right> + \\lambda_{ik} + \\left<{m_i}\\right> h_{i} + 1\\right) {\\cal E}_{123}\\left(h_{i}, h_{j}, \\lambda_{ij}, \\lambda_{ik}\\right)}{2 \\Delta}$"
      ],
      "text/plain": [
       "Eq(FFunction(h_i, h_j, \\lambda_{ij}, \\lambda_{ik}, 1, 0, 1), sqrt(2)*sqrt(\\lambda_{ij})*sqrt(h_i)*sqrt(h_j)*(\\lambda_{ij}*\\left<{\\eta_{ij}}\\right> + \\lambda_{ik}*\\left<{\\eta_{ik}}\\right> + \\lambda_{ik} + \\left<{m_i}\\right>*h_i + 1)*EFunction(h_i, h_j, \\lambda_{ij}, \\lambda_{ik}, 1, 1, 1)/(2*\\Delta))"
      ]
     },
     "metadata": {},
     "output_type": "display_data"
    },
    {
     "name": "stdout",
     "output_type": "stream",
     "text": [
      "{\\cal F}^{(3)}\\left(h_{i}, h_{j}, \\lambda_{ij}, \\lambda_{ik}\\right) = \\frac{\\sqrt{\\lambda_{ij}} \\sqrt{\\lambda_{ik}} \\sqrt{h_{i}} \\sqrt{h_{j}} {\\cal E}_{123}\\left(h_{i}, h_{j}, \\lambda_{ij}, \\lambda_{ik}\\right)}{2 \\Delta}\n",
      "\\tilde{\\cal F}_{123}\\left(h_{i}, h_{j}, \\lambda_{ij}, \\lambda_{ik}\\right) = \\frac{\\sqrt{2} \\sqrt{\\lambda_{ik}} \\left(2 \\lambda_{ij} \\left<{m_i}\\right> h_{i} + \\lambda_{ij} \\left<{m_j}\\right> h_{j} + \\lambda_{ij} + h_{i} h_{j}\\right) {\\cal E}_{123}\\left(h_{i}, h_{j}, \\lambda_{ij}, \\lambda_{ik}\\right)}{2 \\Delta}\n",
      "\\tilde{\\cal F}_{12}\\left(h_{i}, h_{j}, \\lambda_{ij}, \\lambda_{ik}\\right) = \\frac{\\sqrt{2} \\sqrt{\\lambda_{ik}} \\left(2 \\lambda_{ij} \\left<{\\eta_{ij}}\\right> h_{i} + \\lambda_{ij} h_{j} + \\left<{m_j}\\right> h_{i} h_{j} + h_{i}\\right) {\\cal E}_{123}\\left(h_{i}, h_{j}, \\lambda_{ij}, \\lambda_{ik}\\right)}{2 \\Delta}\n",
      "{\\cal F}_{13}\\left(h_{i}, h_{j}, \\lambda_{ij}, \\lambda_{ik}\\right) = \\frac{\\sqrt{2} \\sqrt{\\lambda_{ij}} \\sqrt{h_{i}} \\sqrt{h_{j}} \\left(\\lambda_{ij} \\left<{\\eta_{ij}}\\right> + \\lambda_{ik} \\left<{\\eta_{ik}}\\right> + \\lambda_{ik} + \\left<{m_i}\\right> h_{i} + 1\\right) {\\cal E}_{123}\\left(h_{i}, h_{j}, \\lambda_{ij}, \\lambda_{ik}\\right)}{2 \\Delta}\n"
     ]
    },
    {
     "data": {
      "text/latex": [
       "$\\displaystyle \\Delta = 2 \\lambda_{ij}^{2} \\left<{\\eta_{ij}}\\right> h_{i} + \\lambda_{ij}^{2} h_{j} + 2 \\lambda_{ij} \\lambda_{ik} \\left<{\\eta_{ij}}\\right> h_{j} + 2 \\lambda_{ij} \\lambda_{ik} \\left<{\\eta_{ik}}\\right> h_{i} + 2 \\lambda_{ij} \\lambda_{ik} h_{i} + 2 \\lambda_{ij} \\left<{m_i}\\right> h_{i}^{2} + 2 \\lambda_{ij} \\left<{m_j}\\right> h_{i} h_{j} + 2 \\lambda_{ij} h_{i} + 2 \\lambda_{ik} \\left<{m_i}\\right> h_{i} h_{j} + \\lambda_{ik} h_{j} + h_{i}^{2} h_{j}$"
      ],
      "text/plain": [
       "Eq(\\Delta, 2*\\lambda_{ij}**2*\\left<{\\eta_{ij}}\\right>*h_i + \\lambda_{ij}**2*h_j + 2*\\lambda_{ij}*\\lambda_{ik}*\\left<{\\eta_{ij}}\\right>*h_j + 2*\\lambda_{ij}*\\lambda_{ik}*\\left<{\\eta_{ik}}\\right>*h_i + 2*\\lambda_{ij}*\\lambda_{ik}*h_i + 2*\\lambda_{ij}*\\left<{m_i}\\right>*h_i**2 + 2*\\lambda_{ij}*\\left<{m_j}\\right>*h_i*h_j + 2*\\lambda_{ij}*h_i + 2*\\lambda_{ik}*\\left<{m_i}\\right>*h_i*h_j + \\lambda_{ik}*h_j + h_i**2*h_j)"
      ]
     },
     "metadata": {},
     "output_type": "display_data"
    },
    {
     "name": "stdout",
     "output_type": "stream",
     "text": [
      "\\Delta = 2 \\lambda_{ij}^{2} \\left<{\\eta_{ij}}\\right> h_{i} + \\lambda_{ij}^{2} h_{j} + 2 \\lambda_{ij} \\lambda_{ik} \\left<{\\eta_{ij}}\\right> h_{j} + 2 \\lambda_{ij} \\lambda_{ik} \\left<{\\eta_{ik}}\\right> h_{i} + 2 \\lambda_{ij} \\lambda_{ik} h_{i} + 2 \\lambda_{ij} \\left<{m_i}\\right> h_{i}^{2} + 2 \\lambda_{ij} \\left<{m_j}\\right> h_{i} h_{j} + 2 \\lambda_{ij} h_{i} + 2 \\lambda_{ik} \\left<{m_i}\\right> h_{i} h_{j} + \\lambda_{ik} h_{j} + h_{i}^{2} h_{j}\n"
     ]
    }
   ],
   "source": [
    "result = sp.solve_linear_system(M, *vector_system_moments)\n",
    "\n",
    "value_system_moments = []\n",
    "for key in vector_system_moments:\n",
    "    value_system_moments.append(result[key].factor())\n",
    "\n",
    "for i in range(4):\n",
    "    display(sp.Eq(vector_system_moments[i], value_system_moments[i]))\n",
    "for i in range(4):\n",
    "    sp.print_latex(sp.Eq(vector_system_moments[i], value_system_moments[i]))\n",
    "\n",
    "display(sp.Eq(det_system_moments, det_system_moments_value))\n",
    "sp.print_latex(sp.Eq(det_system_moments, det_system_moments_value))"
   ]
  },
  {
   "cell_type": "code",
   "execution_count": 66,
   "metadata": {},
   "outputs": [],
   "source": [
    "subs_to_moments = dict(zip(vector_system_moments, value_system_moments))\n",
    "subs_det_system_moments = {det_system_moments: det_system_moments_value}"
   ]
  },
  {
   "cell_type": "code",
   "execution_count": 67,
   "metadata": {},
   "outputs": [
    {
     "data": {
      "text/latex": [
       "$\\displaystyle \\left<{\\eta_{ik}}\\right>$"
      ],
      "text/plain": [
       "\\left<{\\eta_{ik}}\\right>"
      ]
     },
     "execution_count": 67,
     "metadata": {},
     "output_type": "execute_result"
    }
   ],
   "source": [
    "expr = expr_eta_ik\n",
    "expr.subs(subs_to_moments).subs(subs_det_system_moments).factor()"
   ]
  },
  {
   "cell_type": "code",
   "execution_count": 68,
   "metadata": {},
   "outputs": [],
   "source": [
    "expr_Q_star = Z3.diff(lij, 2)/(2*Z3) - expr_eta_ik - 1\n",
    "expr_Q_star = sp.Add(*map(sp.factor, expr_Q_star.expand().args))\n",
    "# expr_Q_star"
   ]
  },
  {
   "cell_type": "code",
   "execution_count": 69,
   "metadata": {},
   "outputs": [],
   "source": [
    "expr_diff_hi_lij = Z3.diff(hi, lij)/(Z3)\n",
    "expr_diff_hi_lij = sp.Add(*map(sp.factor, expr_diff_hi_lij.expand().args))\n",
    "expr_diff_hi_lij = expr_diff_hi_lij.subs(subs_to_moments)\n",
    "\n",
    "expr_mj_eta_ij = Z3.diff(hj, lij)/(2*Z3)\n",
    "expr_mj_eta_ij = sp.Add(*map(sp.factor, expr_mj_eta_ij.expand().args))\n",
    "expr_mj_eta_ij = expr_mj_eta_ij.subs(subs_to_moments)\n",
    "\n",
    "expr_mi_eta_ik = Z3.diff(hi, lik)/(2*Z3)\n",
    "expr_mi_eta_ik = sp.Add(*map(sp.factor, expr_mi_eta_ik.expand().args))\n",
    "expr_mi_eta_ik = expr_mi_eta_ik.subs(subs_to_moments)\n",
    "\n",
    "expr_eta_ik_2 = Z3.diff(lik, 2)/(Z3)\n",
    "expr_eta_ik_2 = sp.Add(*map(sp.factor, expr_eta_ik_2.expand().args))\n",
    "expr_eta_ik_2 = expr_eta_ik_2.subs(subs_to_moments)"
   ]
  },
  {
   "cell_type": "code",
   "execution_count": 70,
   "metadata": {},
   "outputs": [],
   "source": [
    "eta_ik_2, mj_eta_ij, mi_eta_ik = Z3sym.eta_ik_2, Z3sym.mj_eta_ij, Z3sym.mi_eta_ik"
   ]
  },
  {
   "cell_type": "code",
   "execution_count": 71,
   "metadata": {},
   "outputs": [],
   "source": [
    "factor = (lij*hi-lik*hj)**2\n",
    "\n",
    "expr1 = (expr_diff_hi_lij.factor()*factor).expand() - factor*sp.Dummy()\n",
    "expr2 = (expr_mj_eta_ij.factor()*factor).expand() - factor*mj_eta_ij\n",
    "expr3 = (expr_mi_eta_ik.factor()*factor).expand() - factor*mi_eta_ik\n",
    "expr4 = (expr_eta_ik_2.factor()*factor).expand() - factor*eta_ik_2"
   ]
  },
  {
   "cell_type": "code",
   "execution_count": 72,
   "metadata": {},
   "outputs": [],
   "source": [
    "vector_system_moments_2 = [\n",
    "    EFunction(hi, hj, lij, lik, 0, 0, 1)/EFunction(hi, hj, lij, lik, 1, 1, 1),\n",
    "    EFunction(hi, hj, lij, lik, 1, 0, 0)/EFunction(hi, hj, lij, lik, 1, 1, 1),\n",
    "    EFunction(hi, hj, lij, lik, 1, 1, 0)/EFunction(hi, hj, lij, lik, 1, 1, 1),\n",
    "    EFunction(hi, hj, lij, lik, 1, 0, 1)/EFunction(hi, hj, lij, lik, 1, 1, 1),\n",
    "]\n",
    "\n",
    "line1 = get_line_Matrix(expr1, vector_system_moments_2)\n",
    "line2 = get_line_Matrix(expr2, vector_system_moments_2)\n",
    "line3 = get_line_Matrix(expr3, vector_system_moments_2)\n",
    "line4 = get_line_Matrix(expr4, vector_system_moments_2)"
   ]
  },
  {
   "cell_type": "code",
   "execution_count": 73,
   "metadata": {},
   "outputs": [
    {
     "data": {
      "text/latex": [
       "$\\displaystyle \\left[\\begin{matrix}0 & 0 & \\frac{\\Delta \\lambda_{ij} h_{i}}{\\lambda_{ik}} - 2 \\Delta h_{j} + \\frac{\\Delta \\lambda_{ik} h_{j}^{2}}{\\lambda_{ij} h_{i}} & 0 & Dummy_{1057} \\lambda_{ij}^{2} h_{i}^{2} - 2 Dummy_{1057} \\lambda_{ij} \\lambda_{ik} h_{i} h_{j} + Dummy_{1057} \\lambda_{ik}^{2} h_{j}^{2} - \\frac{\\Delta}{2} + \\frac{\\Delta \\lambda_{ik} h_{j}}{2 \\lambda_{ij} h_{i}} - \\frac{\\Delta h_{i} h_{j}}{2 \\lambda_{ij}} + \\frac{\\Delta \\lambda_{ik} h_{j}^{2}}{2 \\lambda_{ij}^{2}} + \\frac{2 \\lambda_{ij}^{3} \\left<{m_i}\\right> h_{i}^{2}}{\\lambda_{ik}} + \\frac{\\lambda_{ij}^{3} \\left<{m_j}\\right> h_{i} h_{j}}{\\lambda_{ik}} + \\frac{\\lambda_{ij}^{3} h_{i}}{\\lambda_{ik}} + 2 \\lambda_{ij}^{2} \\left<m_j\\eta_{ij}\\right> h_{i} h_{j} + 3 \\lambda_{ij}^{2} \\left<{\\eta_{ij}}\\right> h_{i} - 4 \\lambda_{ij}^{2} \\left<{m_i}\\right> h_{i} h_{j} - 2 \\lambda_{ij}^{2} \\left<{m_j}\\right> h_{j}^{2} - \\frac{3 \\lambda_{ij}^{2} h_{j}}{2} + \\frac{2 \\lambda_{ij}^{2} \\left<{\\eta_{ij}}\\right> h_{i}^{3}}{\\lambda_{ik}} + \\frac{2 \\lambda_{ij}^{2} h_{i}^{2} h_{j}}{\\lambda_{ik}} - 4 \\lambda_{ij} \\lambda_{ik} \\left<m_j\\eta_{ij}\\right> h_{j}^{2} - 4 \\lambda_{ij} \\lambda_{ik} \\left<{\\eta_{ij}}\\right> h_{j} + \\lambda_{ij} \\lambda_{ik} \\left<{\\eta_{ik}}\\right> h_{i} + 2 \\lambda_{ij} \\lambda_{ik} \\left<{m_i}\\right> h_{j}^{2} + \\frac{\\lambda_{ij} \\lambda_{ik} \\left<{m_j}\\right> h_{j}^{3}}{h_{i}} + \\lambda_{ij} \\lambda_{ik} h_{i} + \\frac{\\lambda_{ij} \\lambda_{ik} h_{j}^{2}}{2 h_{i}} - \\lambda_{ij} \\left<{\\eta_{ij}}\\right> h_{i}^{2} h_{j} + 3 \\lambda_{ij} \\left<{m_i}\\right> h_{i}^{2} + 2 \\lambda_{ij} \\left<{m_j}\\right> h_{i} h_{j} - \\frac{7 \\lambda_{ij} h_{i} h_{j}^{2}}{2} + 2 \\lambda_{ij} h_{i} + \\frac{\\lambda_{ij} \\left<{m_j}\\right> h_{i}^{3} h_{j}}{\\lambda_{ik}} + \\frac{\\lambda_{ij} h_{i}^{3}}{\\lambda_{ik}} + \\frac{2 \\lambda_{ik}^{2} \\left<m_j\\eta_{ij}\\right> h_{j}^{3}}{h_{i}} + \\frac{\\lambda_{ik}^{2} \\left<{\\eta_{ij}}\\right> h_{j}^{2}}{h_{i}} - \\lambda_{ik}^{2} \\left<{\\eta_{ik}}\\right> h_{j} - \\lambda_{ik}^{2} h_{j} - 2 \\lambda_{ik} \\left<{\\eta_{ij}}\\right> h_{i} h_{j}^{2} + \\lambda_{ik} \\left<{\\eta_{ik}}\\right> h_{i}^{2} h_{j} - 4 \\lambda_{ik} \\left<{m_i}\\right> h_{i} h_{j} - 3 \\lambda_{ik} \\left<{m_j}\\right> h_{j}^{2} + \\lambda_{ik} h_{i}^{2} h_{j} + \\frac{3 \\lambda_{ik} h_{j}^{3}}{2} - \\frac{5 \\lambda_{ik} h_{j}}{2} + \\left<{m_i}\\right> h_{i}^{3} h_{j} - \\left<{m_j}\\right> h_{i}^{2} h_{j}^{2} - \\frac{h_{i}^{2} h_{j}}{2} + \\frac{\\lambda_{ik}^{2} \\left<{\\eta_{ij}}\\right> h_{j}^{3}}{\\lambda_{ij}} - \\frac{\\lambda_{ik}^{2} \\left<{\\eta_{ik}}\\right> h_{i} h_{j}^{2}}{\\lambda_{ij}} + \\frac{\\lambda_{ik}^{2} \\left<{m_i}\\right> h_{j}^{2}}{\\lambda_{ij}} + \\frac{\\lambda_{ik}^{2} \\left<{m_j}\\right> h_{j}^{3}}{\\lambda_{ij} h_{i}} - \\frac{\\lambda_{ik}^{2} h_{i} h_{j}^{2}}{\\lambda_{ij}} + \\frac{\\lambda_{ik}^{2} h_{j}^{2}}{2 \\lambda_{ij} h_{i}} + \\frac{h_{i}^{3} h_{j}^{2}}{2 \\lambda_{ij}} - \\frac{\\lambda_{ik}^{2} \\left<{m_i}\\right> h_{i} h_{j}^{3}}{\\lambda_{ij}^{2}} - \\frac{\\lambda_{ik}^{2} h_{j}^{3}}{2 \\lambda_{ij}^{2}} - \\frac{\\lambda_{ik} h_{i}^{2} h_{j}^{3}}{2 \\lambda_{ij}^{2}}\\\\0 & 0 & \\frac{\\Delta \\lambda_{ij}^{2} h_{i}^{3}}{4 \\lambda_{ik}^{2} h_{j}^{2}} - \\frac{\\Delta \\lambda_{ij} h_{i}^{2}}{4 \\lambda_{ik} h_{j}} - \\frac{\\Delta h_{i}}{4} + \\frac{\\Delta \\lambda_{ik} h_{j}}{4 \\lambda_{ij}} & - \\frac{\\Delta \\lambda_{ij} h_{i}^{3}}{2 \\lambda_{ik} h_{j}^{2}} + \\frac{\\Delta h_{i}^{2}}{h_{j}} - \\frac{\\Delta \\lambda_{ik} h_{i}}{2 \\lambda_{ij}} & \\frac{\\Delta \\lambda_{ij} h_{i}^{2}}{4 h_{j}^{2}} + \\frac{\\Delta \\lambda_{ij}}{8} - \\frac{\\Delta \\lambda_{ij} h_{i}^{2}}{4 \\lambda_{ik} h_{j}^{2}} - \\frac{\\Delta \\lambda_{ij} h_{i}^{4}}{4 \\lambda_{ik}^{2} h_{j}^{2}} - \\frac{\\Delta \\lambda_{ik} h_{i}}{4 h_{j}} - \\frac{\\Delta \\lambda_{ik} h_{j}}{8 h_{i}} + \\frac{\\Delta h_{i}}{8 h_{j}} + \\frac{\\Delta h_{i}^{3}}{4 \\lambda_{ik} h_{j}} + \\frac{\\Delta \\lambda_{ik}}{8 \\lambda_{ij}} - \\frac{\\Delta h_{i}^{2}}{8 \\lambda_{ij}} + \\frac{\\Delta \\lambda_{ik} h_{i} h_{j}}{8 \\lambda_{ij}^{2}} + \\frac{\\lambda_{ij}^{4} \\left<{m_i}\\right> h_{i}^{4}}{2 \\lambda_{ik}^{2} h_{j}^{2}} + \\frac{\\lambda_{ij}^{4} \\left<{m_j}\\right> h_{i}^{3}}{4 \\lambda_{ik}^{2} h_{j}} + \\frac{\\lambda_{ij}^{4} h_{i}^{3}}{4 \\lambda_{ik}^{2} h_{j}^{2}} - \\frac{\\lambda_{ij}^{3} \\left<{\\eta_{ij}}\\right> h_{i}^{3}}{2 h_{j}^{2}} - \\frac{\\lambda_{ij}^{3} \\left<{\\eta_{ij}}\\right> h_{i}}{4} - \\frac{\\lambda_{ij}^{3} h_{i}^{2}}{4 h_{j}} - \\frac{\\lambda_{ij}^{3} h_{j}}{8} + \\frac{\\lambda_{ij}^{3} \\left<{\\eta_{ij}}\\right> h_{i}^{3}}{2 \\lambda_{ik} h_{j}^{2}} - \\frac{\\lambda_{ij}^{3} \\left<{m_i}\\right> h_{i}^{3}}{2 \\lambda_{ik} h_{j}} - \\frac{\\lambda_{ij}^{3} \\left<{m_j}\\right> h_{i}^{2}}{4 \\lambda_{ik}} + \\frac{\\lambda_{ij}^{3} \\left<{\\eta_{ij}}\\right> h_{i}^{5}}{\\lambda_{ik}^{2} h_{j}^{2}} + \\frac{3 \\lambda_{ij}^{3} h_{i}^{4}}{4 \\lambda_{ik}^{2} h_{j}} - \\frac{\\lambda_{ij}^{2} \\lambda_{ik} \\left<{\\eta_{ik}}\\right> h_{i}^{3}}{2 h_{j}^{2}} - \\frac{\\lambda_{ij}^{2} \\lambda_{ik} \\left<{\\eta_{ik}}\\right> h_{i}}{4} - \\frac{\\lambda_{ij}^{2} \\lambda_{ik} h_{i}^{3}}{2 h_{j}^{2}} + \\frac{\\lambda_{ij}^{2} \\lambda_{ik} h_{j}^{2}}{8 h_{i}} - \\frac{\\lambda_{ij}^{2} \\left<m_i\\eta_{ik}\\right> h_{i}^{4}}{h_{j}^{2}} + \\lambda_{ij}^{2} \\left<m_j\\eta_{ij}\\right> h_{i}^{2} + \\frac{3 \\lambda_{ij}^{2} \\left<{\\eta_{ij}}\\right> h_{i}^{2}}{4 h_{j}} - \\frac{3 \\lambda_{ij}^{2} \\left<{m_i}\\right> h_{i}^{4}}{2 h_{j}^{2}} - \\frac{5 \\lambda_{ij}^{2} \\left<{m_i}\\right> h_{i}^{2}}{4} - \\frac{\\lambda_{ij}^{2} \\left<{m_j}\\right> h_{i}^{3}}{2 h_{j}} - \\frac{\\lambda_{ij}^{2} \\left<{m_j}\\right> h_{i} h_{j}}{2} - \\frac{\\lambda_{ij}^{2} h_{i}^{3}}{2 h_{j}^{2}} - \\frac{5 \\lambda_{ij}^{2} h_{i}}{8} - \\frac{\\lambda_{ij}^{2} \\left<{\\eta_{ij}}\\right> h_{i}^{4}}{\\lambda_{ik} h_{j}} + \\frac{\\lambda_{ij}^{2} \\left<{m_j}\\right> h_{i}^{3}}{4 \\lambda_{ik} h_{j}} - \\frac{3 \\lambda_{ij}^{2} h_{i}^{3}}{4 \\lambda_{ik}} + \\frac{\\lambda_{ij}^{2} h_{i}^{3}}{4 \\lambda_{ik} h_{j}^{2}} + \\frac{\\lambda_{ij}^{2} \\left<{m_i}\\right> h_{i}^{6}}{2 \\lambda_{ik}^{2} h_{j}^{2}} + \\frac{3 \\lambda_{ij}^{2} \\left<{m_j}\\right> h_{i}^{5}}{4 \\lambda_{ik}^{2} h_{j}} + \\frac{3 \\lambda_{ij}^{2} h_{i}^{5}}{4 \\lambda_{ik}^{2} h_{j}^{2}} + \\frac{\\lambda_{ij} \\lambda_{ik}^{2} \\left<{\\eta_{ij}}\\right> h_{i}}{2} + \\frac{\\lambda_{ij} \\lambda_{ik}^{2} \\left<{\\eta_{ij}}\\right> h_{j}^{2}}{4 h_{i}} + \\frac{\\lambda_{ij} \\lambda_{ik}^{2} \\left<{\\eta_{ik}}\\right> h_{i}^{2}}{2 h_{j}} + \\frac{\\lambda_{ij} \\lambda_{ik}^{2} \\left<{\\eta_{ik}}\\right> h_{j}}{4} + \\frac{\\lambda_{ij} \\lambda_{ik}^{2} h_{i}^{2}}{2 h_{j}} + \\frac{\\lambda_{ij} \\lambda_{ik}^{2} h_{j}}{4} + \\frac{2 \\lambda_{ij} \\lambda_{ik} \\left<m_i\\eta_{ik}\\right> h_{i}^{3}}{h_{j}} - 2 \\lambda_{ij} \\lambda_{ik} \\left<m_j\\eta_{ij}\\right> h_{i} h_{j} - \\frac{3 \\lambda_{ij} \\lambda_{ik} \\left<{\\eta_{ij}}\\right> h_{i}}{2} + \\frac{3 \\lambda_{ij} \\lambda_{ik} \\left<{\\eta_{ik}}\\right> h_{i}^{2}}{4 h_{j}} + \\frac{2 \\lambda_{ij} \\lambda_{ik} \\left<{m_i}\\right> h_{i}^{3}}{h_{j}} + \\frac{3 \\lambda_{ij} \\lambda_{ik} \\left<{m_i}\\right> h_{i} h_{j}}{2} + \\frac{\\lambda_{ij} \\lambda_{ik} \\left<{m_j}\\right> h_{i}^{2}}{2} + \\frac{\\lambda_{ij} \\lambda_{ik} \\left<{m_j}\\right> h_{j}^{2}}{2} + \\frac{\\lambda_{ij} \\lambda_{ik} h_{i}^{2}}{h_{j}} + \\frac{\\lambda_{ij} \\lambda_{ik} h_{j}}{4} + \\frac{3 \\lambda_{ij} \\left<{\\eta_{ij}}\\right> h_{i}^{3}}{4} + \\frac{7 \\lambda_{ij} \\left<{m_i}\\right> h_{i}^{3}}{4 h_{j}} + \\frac{\\lambda_{ij} \\left<{m_j}\\right> h_{i}^{2}}{2} - \\frac{\\lambda_{ij} h_{i}^{4}}{4 h_{j}} - \\frac{\\lambda_{ij} h_{i}^{2} h_{j}}{2} + \\frac{3 \\lambda_{ij} h_{i}^{2}}{4 h_{j}} - \\frac{\\lambda_{ij} \\left<{m_i}\\right> h_{i}^{5}}{2 \\lambda_{ik} h_{j}} - \\frac{3 \\lambda_{ij} \\left<{m_j}\\right> h_{i}^{4}}{4 \\lambda_{ik}} - \\frac{3 \\lambda_{ij} h_{i}^{4}}{4 \\lambda_{ik} h_{j}} + \\frac{\\lambda_{ij} h_{i}^{6}}{4 \\lambda_{ik}^{2} h_{j}} - \\lambda_{ik}^{2} \\left<m_i\\eta_{ik}\\right> h_{i}^{2} + \\lambda_{ik}^{2} \\left<m_j\\eta_{ij}\\right> h_{j}^{2} + \\frac{\\lambda_{ik}^{2} \\left<{\\eta_{ij}}\\right> h_{j}}{4} - \\frac{3 \\lambda_{ik}^{2} \\left<{\\eta_{ik}}\\right> h_{i}}{4} - \\frac{\\lambda_{ik}^{2} \\left<{m_i}\\right> h_{i}^{2}}{2} - \\frac{\\lambda_{ik}^{2} \\left<{m_i}\\right> h_{j}^{2}}{4} - \\frac{\\lambda_{ik}^{2} h_{i}}{2} + \\frac{\\lambda_{ik}^{2} h_{j}^{2}}{8 h_{i}} - \\lambda_{ik} \\left<{\\eta_{ij}}\\right> h_{i}^{2} h_{j} + \\frac{3 \\lambda_{ik} \\left<{\\eta_{ik}}\\right> h_{i}^{3}}{4} - 2 \\lambda_{ik} \\left<{m_i}\\right> h_{i}^{2} - \\lambda_{ik} \\left<{m_j}\\right> h_{i} h_{j} + \\lambda_{ik} h_{i}^{3} + \\frac{\\lambda_{ik} h_{i} h_{j}^{2}}{2} - \\frac{9 \\lambda_{ik} h_{i}}{8} + \\frac{3 \\left<{m_i}\\right> h_{i}^{4}}{4} + \\frac{5 h_{i}^{3}}{8} - \\frac{h_{i}^{5}}{4 \\lambda_{ik}} + \\frac{\\lambda_{ik}^{2} \\left<{\\eta_{ij}}\\right> h_{i} h_{j}^{2}}{4 \\lambda_{ij}} - \\frac{3 \\lambda_{ik}^{2} \\left<{\\eta_{ik}}\\right> h_{i}^{2} h_{j}}{4 \\lambda_{ij}} + \\frac{\\lambda_{ik}^{2} \\left<{m_i}\\right> h_{i} h_{j}}{4 \\lambda_{ij}} + \\frac{\\lambda_{ik}^{2} \\left<{m_j}\\right> h_{j}^{2}}{4 \\lambda_{ij}} - \\frac{3 \\lambda_{ik}^{2} h_{i}^{2} h_{j}}{4 \\lambda_{ij}} + \\frac{\\lambda_{ik}^{2} h_{j}}{8 \\lambda_{ij}} - \\frac{\\lambda_{ik} \\left<{m_i}\\right> h_{i}^{3} h_{j}}{2 \\lambda_{ij}} - \\frac{\\lambda_{ik} h_{i}^{2} h_{j}}{2 \\lambda_{ij}} + \\frac{h_{i}^{4} h_{j}}{8 \\lambda_{ij}} - \\frac{\\lambda_{ik}^{2} \\left<{m_i}\\right> h_{i}^{2} h_{j}^{2}}{4 \\lambda_{ij}^{2}} - \\frac{\\lambda_{ik}^{2} h_{i} h_{j}^{2}}{8 \\lambda_{ij}^{2}} - \\frac{\\lambda_{ik} h_{i}^{3} h_{j}^{2}}{8 \\lambda_{ij}^{2}}\\\\0 & - \\frac{\\Delta \\lambda_{ij}^{2}}{4 \\lambda_{ik}} + \\frac{\\Delta \\lambda_{ij} h_{j}}{2 h_{i}} - \\frac{\\Delta \\lambda_{ik} h_{j}^{2}}{4 h_{i}^{2}} & 0 & \\frac{\\Delta \\lambda_{ij} h_{i}}{4 \\lambda_{ik}} - \\frac{\\Delta h_{j}}{2} + \\frac{\\Delta \\lambda_{ik} h_{j}^{2}}{4 \\lambda_{ij} h_{i}} & - \\frac{\\Delta \\lambda_{ij}^{3}}{8 \\lambda_{ik}^{2}} + \\frac{\\Delta \\lambda_{ij}^{2} h_{j}}{8 \\lambda_{ik} h_{i}} + \\frac{\\Delta \\lambda_{ij}}{4} + \\frac{\\Delta \\lambda_{ij}}{2 \\lambda_{ik}} + \\frac{\\Delta \\lambda_{ij} h_{i}^{2}}{8 \\lambda_{ik}^{2}} - \\frac{\\Delta \\lambda_{ik} h_{j}}{4 h_{i}} - \\frac{\\Delta h_{j}}{2 h_{i}} - \\frac{\\Delta h_{i} h_{j}}{8 \\lambda_{ik}} + \\frac{\\lambda_{ij}^{5} \\left<{\\eta_{ij}}\\right> h_{i}}{4 \\lambda_{ik}^{2}} + \\frac{\\lambda_{ij}^{5} h_{j}}{8 \\lambda_{ik}^{2}} - \\frac{\\lambda_{ij}^{4} \\left<{\\eta_{ij}}\\right> h_{j}}{4 \\lambda_{ik}} - \\frac{\\lambda_{ij}^{4} h_{j}^{2}}{8 \\lambda_{ik} h_{i}} + \\frac{\\lambda_{ij}^{4} \\left<{m_i}\\right> h_{i}^{2}}{4 \\lambda_{ik}^{2}} + \\frac{\\lambda_{ij}^{4} \\left<{m_j}\\right> h_{i} h_{j}}{4 \\lambda_{ik}^{2}} + \\frac{\\lambda_{ij}^{4} h_{i}}{4 \\lambda_{ik}^{2}} - \\frac{3 \\lambda_{ij}^{3} \\left<{\\eta_{ij}}\\right> h_{i}}{2} + \\frac{\\lambda_{ij}^{3} \\left<{\\eta_{ij}}\\right> h_{j}^{2}}{4 h_{i}} - \\frac{\\lambda_{ij}^{3} h_{j}}{4} - \\frac{5 \\lambda_{ij}^{3} \\left<{\\eta_{ij}}\\right> h_{i}}{4 \\lambda_{ik}} - \\frac{\\lambda_{ij}^{3} \\left<{m_i}\\right> h_{i} h_{j}}{4 \\lambda_{ik}} - \\frac{\\lambda_{ij}^{3} \\left<{m_j}\\right> h_{j}^{2}}{4 \\lambda_{ik}} - \\frac{7 \\lambda_{ij}^{3} h_{j}}{8 \\lambda_{ik}} - \\frac{\\lambda_{ij}^{3} \\left<{\\eta_{ij}}\\right> h_{i}^{3}}{4 \\lambda_{ik}^{2}} + \\frac{\\lambda_{ij}^{2} \\lambda_{ik} \\left<\\eta_{ik}^{2}\\right> h_{i}}{2} + 2 \\lambda_{ij}^{2} \\lambda_{ik} \\left<{\\eta_{ij}}\\right> h_{j} - \\frac{\\lambda_{ij}^{2} \\lambda_{ik} \\left<{\\eta_{ij}}\\right> h_{j}^{3}}{4 h_{i}^{2}} - \\frac{\\lambda_{ij}^{2} \\lambda_{ik} \\left<{\\eta_{ik}}\\right> h_{i}}{2} + \\frac{\\lambda_{ij}^{2} \\lambda_{ik} \\left<{\\eta_{ik}}\\right> h_{j}^{2}}{4 h_{i}} - \\lambda_{ij}^{2} \\lambda_{ik} h_{i} + \\frac{\\lambda_{ij}^{2} \\lambda_{ik} h_{j}^{2}}{2 h_{i}} + \\lambda_{ij}^{2} \\left<m_i\\eta_{ik}\\right> h_{i}^{2} + \\frac{\\lambda_{ij}^{2} \\left<{\\eta_{ij}}\\right> h_{j}}{2} - \\frac{\\lambda_{ij}^{2} \\left<{m_i}\\right> h_{i}^{2}}{2} + \\frac{\\lambda_{ij}^{2} \\left<{m_i}\\right> h_{j}^{2}}{4} - \\frac{\\lambda_{ij}^{2} \\left<{m_j}\\right> h_{i} h_{j}}{2} - \\frac{3 \\lambda_{ij}^{2} h_{i}}{2} + \\frac{7 \\lambda_{ij}^{2} h_{j}^{2}}{8 h_{i}} + \\frac{\\lambda_{ij}^{2} \\left<{\\eta_{ij}}\\right> h_{i}^{2} h_{j}}{4 \\lambda_{ik}} - \\frac{3 \\lambda_{ij}^{2} \\left<{m_i}\\right> h_{i}^{2}}{4 \\lambda_{ik}} - \\frac{\\lambda_{ij}^{2} \\left<{m_j}\\right> h_{i} h_{j}}{\\lambda_{ik}} - \\frac{\\lambda_{ij}^{2} h_{i}}{\\lambda_{ik}} - \\frac{\\lambda_{ij}^{2} \\left<{m_i}\\right> h_{i}^{4}}{4 \\lambda_{ik}^{2}} - \\frac{\\lambda_{ij}^{2} \\left<{m_j}\\right> h_{i}^{3} h_{j}}{4 \\lambda_{ik}^{2}} - \\frac{\\lambda_{ij}^{2} h_{i}^{3}}{4 \\lambda_{ik}^{2}} - \\lambda_{ij} \\lambda_{ik}^{2} \\left<\\eta_{ik}^{2}\\right> h_{j} - \\frac{\\lambda_{ij} \\lambda_{ik}^{2} \\left<{\\eta_{ij}}\\right> h_{j}^{2}}{2 h_{i}} + \\frac{\\lambda_{ij} \\lambda_{ik}^{2} \\left<{\\eta_{ik}}\\right> h_{j}}{2} - \\frac{\\lambda_{ij} \\lambda_{ik}^{2} \\left<{\\eta_{ik}}\\right> h_{j}^{3}}{4 h_{i}^{2}} + \\frac{3 \\lambda_{ij} \\lambda_{ik}^{2} h_{j}}{2} - \\frac{\\lambda_{ij} \\lambda_{ik}^{2} h_{j}^{3}}{4 h_{i}^{2}} - 2 \\lambda_{ij} \\lambda_{ik} \\left<m_i\\eta_{ik}\\right> h_{i} h_{j} + \\frac{3 \\lambda_{ij} \\lambda_{ik} \\left<{\\eta_{ij}}\\right> h_{j}^{2}}{4 h_{i}} - \\lambda_{ij} \\lambda_{ik} \\left<{\\eta_{ik}}\\right> h_{j} - \\frac{\\lambda_{ij} \\lambda_{ik} \\left<{m_i}\\right> h_{j}^{3}}{4 h_{i}} + \\frac{\\lambda_{ij} \\lambda_{ik} \\left<{m_j}\\right> h_{j}^{2}}{2} + \\frac{5 \\lambda_{ij} \\lambda_{ik} h_{j}}{4} - \\frac{\\lambda_{ij} \\lambda_{ik} h_{j}^{3}}{4 h_{i}^{2}} - \\frac{\\lambda_{ij} \\left<{\\eta_{ij}}\\right> h_{i} h_{j}^{2}}{4} - \\frac{\\lambda_{ij} \\left<{m_i}\\right> h_{i} h_{j}}{2} + \\lambda_{ij} \\left<{m_j}\\right> h_{j}^{2} - \\frac{\\lambda_{ij} h_{i}^{2} h_{j}}{4} + \\frac{\\lambda_{ij} h_{j}}{2} + \\frac{\\lambda_{ij} \\left<{m_i}\\right> h_{i}^{3} h_{j}}{4 \\lambda_{ik}} + \\frac{\\lambda_{ij} \\left<{m_j}\\right> h_{i}^{2} h_{j}^{2}}{4 \\lambda_{ik}} - \\frac{\\lambda_{ij} h_{i}^{2} h_{j}}{8 \\lambda_{ik}} - \\frac{\\lambda_{ij} h_{i}^{4} h_{j}}{8 \\lambda_{ik}^{2}} + \\frac{\\lambda_{ik}^{3} \\left<\\eta_{ik}^{2}\\right> h_{j}^{2}}{2 h_{i}} - \\frac{\\lambda_{ik}^{3} h_{j}^{2}}{2 h_{i}} + \\lambda_{ik}^{2} \\left<m_i\\eta_{ik}\\right> h_{j}^{2} + \\frac{\\lambda_{ik}^{2} \\left<{\\eta_{ik}}\\right> h_{j}^{2}}{h_{i}} + \\frac{\\lambda_{ik}^{2} \\left<{m_i}\\right> h_{j}^{2}}{2} + \\frac{\\lambda_{ik}^{2} h_{j}^{2}}{4 h_{i}} + \\frac{\\lambda_{ik} \\left<{\\eta_{ij}}\\right> h_{j}^{3}}{4} - \\frac{\\lambda_{ik} \\left<{\\eta_{ik}}\\right> h_{i} h_{j}^{2}}{4} + \\frac{5 \\lambda_{ik} \\left<{m_i}\\right> h_{j}^{2}}{4} + \\frac{\\lambda_{ik} h_{j}^{2}}{2 h_{i}} - \\frac{\\left<{m_i}\\right> h_{i}^{2} h_{j}^{2}}{4} + \\frac{h_{i} h_{j}^{2}}{8} + \\frac{h_{i}^{3} h_{j}^{2}}{8 \\lambda_{ik}} + \\frac{\\lambda_{ik}^{2} \\left<{\\eta_{ik}}\\right> h_{j}^{3}}{4 \\lambda_{ij}} + \\frac{\\lambda_{ik}^{2} h_{j}^{3}}{4 \\lambda_{ij}} + \\frac{\\lambda_{ik} \\left<{m_i}\\right> h_{i} h_{j}^{3}}{4 \\lambda_{ij}} + \\frac{\\lambda_{ik} h_{j}^{3}}{4 \\lambda_{ij}}\\\\\\frac{\\Delta \\lambda_{ij} h_{i}}{2 \\lambda_{ik}} - \\frac{\\Delta h_{j}}{2} & - \\frac{\\Delta \\lambda_{ij}^{2} h_{i}}{\\lambda_{ik}^{2}} + \\frac{3 \\Delta \\lambda_{ij} h_{j}}{2 \\lambda_{ik}} - \\frac{\\Delta h_{j}^{2}}{2 h_{i}} & \\frac{\\Delta \\lambda_{ij}^{2} h_{i}^{2}}{2 \\lambda_{ik}^{3}} - \\frac{\\Delta \\lambda_{ij} h_{i} h_{j}}{2 \\lambda_{ik}^{2}} & - \\frac{\\Delta h_{i} h_{j}}{2 \\lambda_{ik}} + \\frac{\\Delta h_{j}^{2}}{2 \\lambda_{ij}} & - \\frac{\\Delta \\lambda_{ij}^{3} h_{i}}{2 \\lambda_{ik}^{3}} + \\frac{\\Delta \\lambda_{ij}^{2} h_{j}}{2 \\lambda_{ik}^{2}} + \\frac{\\Delta \\lambda_{ij} h_{i}}{\\lambda_{ik}} + \\frac{3 \\Delta \\lambda_{ij} h_{i}}{2 \\lambda_{ik}^{2}} - \\Delta h_{j} - \\frac{9 \\Delta h_{j}}{4 \\lambda_{ik}} + \\frac{\\lambda_{ij}^{5} \\left<{\\eta_{ij}}\\right> h_{i}^{2}}{\\lambda_{ik}^{3}} + \\frac{\\lambda_{ij}^{5} h_{i} h_{j}}{2 \\lambda_{ik}^{3}} - \\frac{\\lambda_{ij}^{4} \\left<{\\eta_{ij}}\\right> h_{i} h_{j}}{\\lambda_{ik}^{2}} - \\frac{\\lambda_{ij}^{4} h_{j}^{2}}{2 \\lambda_{ik}^{2}} + \\frac{2 \\lambda_{ij}^{4} \\left<{m_i}\\right> h_{i}^{3}}{\\lambda_{ik}^{3}} + \\frac{3 \\lambda_{ij}^{4} \\left<{m_j}\\right> h_{i}^{2} h_{j}}{2 \\lambda_{ik}^{3}} + \\frac{3 \\lambda_{ij}^{4} h_{i}^{2}}{2 \\lambda_{ik}^{3}} - \\frac{5 \\lambda_{ij}^{3} \\left<{\\eta_{ij}}\\right> h_{i}^{2}}{\\lambda_{ik}} + \\frac{\\lambda_{ij}^{3} \\left<{\\eta_{ij}}\\right> h_{j}^{2}}{2 \\lambda_{ik}} - \\frac{3 \\lambda_{ij}^{3} h_{i} h_{j}}{2 \\lambda_{ik}} - \\frac{4 \\lambda_{ij}^{3} \\left<{\\eta_{ij}}\\right> h_{i}^{2}}{\\lambda_{ik}^{2}} - \\frac{2 \\lambda_{ij}^{3} \\left<{m_i}\\right> h_{i}^{2} h_{j}}{\\lambda_{ik}^{2}} - \\frac{3 \\lambda_{ij}^{3} \\left<{m_j}\\right> h_{i} h_{j}^{2}}{2 \\lambda_{ik}^{2}} - \\frac{7 \\lambda_{ij}^{3} h_{i} h_{j}}{2 \\lambda_{ik}^{2}} + \\frac{\\lambda_{ij}^{3} \\left<{\\eta_{ij}}\\right> h_{i}^{4}}{\\lambda_{ik}^{3}} + \\frac{3 \\lambda_{ij}^{3} h_{i}^{3} h_{j}}{2 \\lambda_{ik}^{3}} + 2 \\lambda_{ij}^{2} \\left<\\eta_{ik}^{2}\\right> h_{i}^{2} + 6 \\lambda_{ij}^{2} \\left<{\\eta_{ij}}\\right> h_{i} h_{j} - \\frac{\\lambda_{ij}^{2} \\left<{\\eta_{ij}}\\right> h_{j}^{3}}{2 h_{i}} - \\lambda_{ij}^{2} \\left<{\\eta_{ik}}\\right> h_{i}^{2} + \\frac{\\lambda_{ij}^{2} \\left<{\\eta_{ik}}\\right> h_{j}^{2}}{2} - 3 \\lambda_{ij}^{2} h_{i}^{2} + 2 \\lambda_{ij}^{2} h_{j}^{2} + \\frac{2 \\lambda_{ij}^{2} \\left<m_i\\eta_{ik}\\right> h_{i}^{3}}{\\lambda_{ik}} + \\frac{4 \\lambda_{ij}^{2} \\left<{\\eta_{ij}}\\right> h_{i} h_{j}}{\\lambda_{ik}} - \\frac{3 \\lambda_{ij}^{2} \\left<{m_i}\\right> h_{i}^{3}}{\\lambda_{ik}} + \\frac{\\lambda_{ij}^{2} \\left<{m_i}\\right> h_{i} h_{j}^{2}}{2 \\lambda_{ik}} - \\frac{3 \\lambda_{ij}^{2} \\left<{m_j}\\right> h_{i}^{2} h_{j}}{\\lambda_{ik}} - \\frac{5 \\lambda_{ij}^{2} h_{i}^{2}}{\\lambda_{ik}} + \\frac{13 \\lambda_{ij}^{2} h_{j}^{2}}{4 \\lambda_{ik}} - \\frac{\\lambda_{ij}^{2} \\left<{\\eta_{ij}}\\right> h_{i}^{3} h_{j}}{\\lambda_{ik}^{2}} - \\frac{3 \\lambda_{ij}^{2} \\left<{m_i}\\right> h_{i}^{3}}{\\lambda_{ik}^{2}} - \\frac{7 \\lambda_{ij}^{2} \\left<{m_j}\\right> h_{i}^{2} h_{j}}{2 \\lambda_{ik}^{2}} - \\frac{3 \\lambda_{ij}^{2} h_{i}^{2} h_{j}^{2}}{2 \\lambda_{ik}^{2}} - \\frac{7 \\lambda_{ij}^{2} h_{i}^{2}}{2 \\lambda_{ik}^{2}} + \\frac{\\lambda_{ij}^{2} \\left<{m_j}\\right> h_{i}^{4} h_{j}}{2 \\lambda_{ik}^{3}} + \\frac{\\lambda_{ij}^{2} h_{i}^{4}}{2 \\lambda_{ik}^{3}} - 4 \\lambda_{ij} \\lambda_{ik} \\left<\\eta_{ik}^{2}\\right> h_{i} h_{j} - \\lambda_{ij} \\lambda_{ik} \\left<{\\eta_{ij}}\\right> h_{j}^{2} + \\lambda_{ij} \\lambda_{ik} \\left<{\\eta_{ik}}\\right> h_{i} h_{j} - \\frac{\\lambda_{ij} \\lambda_{ik} \\left<{\\eta_{ik}}\\right> h_{j}^{3}}{2 h_{i}} + 5 \\lambda_{ij} \\lambda_{ik} h_{i} h_{j} - \\frac{\\lambda_{ij} \\lambda_{ik} h_{j}^{3}}{2 h_{i}} - 4 \\lambda_{ij} \\left<m_i\\eta_{ik}\\right> h_{i}^{2} h_{j} + 3 \\lambda_{ij} \\left<{\\eta_{ij}}\\right> h_{j}^{2} - 2 \\lambda_{ij} \\left<{\\eta_{ik}}\\right> h_{i} h_{j} + 2 \\lambda_{ij} \\left<{m_i}\\right> h_{i}^{2} h_{j} - \\frac{\\lambda_{ij} \\left<{m_i}\\right> h_{j}^{3}}{2} + 3 \\lambda_{ij} \\left<{m_j}\\right> h_{i} h_{j}^{2} + \\frac{11 \\lambda_{ij} h_{i} h_{j}}{2} - \\frac{\\lambda_{ij} h_{j}^{3}}{2 h_{i}} - \\frac{\\lambda_{ij} \\left<{\\eta_{ij}}\\right> h_{i}^{2} h_{j}^{2}}{2 \\lambda_{ik}} + \\frac{2 \\lambda_{ij} \\left<{m_i}\\right> h_{i}^{2} h_{j}}{\\lambda_{ik}} + \\frac{5 \\lambda_{ij} \\left<{m_j}\\right> h_{i} h_{j}^{2}}{\\lambda_{ik}} - \\frac{3 \\lambda_{ij} h_{i}^{3} h_{j}}{2 \\lambda_{ik}} + \\frac{4 \\lambda_{ij} h_{i} h_{j}}{\\lambda_{ik}} - \\frac{\\lambda_{ij} \\left<{m_j}\\right> h_{i}^{3} h_{j}^{2}}{2 \\lambda_{ik}^{2}} - \\frac{2 \\lambda_{ij} h_{i}^{3} h_{j}}{\\lambda_{ik}^{2}} + 2 \\lambda_{ik}^{2} \\left<\\eta_{ik}^{2}\\right> h_{j}^{2} - 2 \\lambda_{ik}^{2} h_{j}^{2} + 2 \\lambda_{ik} \\left<m_i\\eta_{ik}\\right> h_{i} h_{j}^{2} + \\frac{7 \\lambda_{ik} \\left<{\\eta_{ik}}\\right> h_{j}^{2}}{2} + \\lambda_{ik} \\left<{m_i}\\right> h_{i} h_{j}^{2} + \\lambda_{ik} h_{j}^{2} + \\frac{\\left<{\\eta_{ij}}\\right> h_{i} h_{j}^{3}}{2} - \\frac{\\left<{\\eta_{ik}}\\right> h_{i}^{2} h_{j}^{2}}{2} + 4 \\left<{m_i}\\right> h_{i} h_{j}^{2} + h_{i}^{2} h_{j}^{2} + \\frac{7 h_{j}^{2}}{4} - \\frac{\\left<{m_i}\\right> h_{i}^{3} h_{j}^{2}}{2 \\lambda_{ik}} + \\frac{7 h_{i}^{2} h_{j}^{2}}{4 \\lambda_{ik}} + \\frac{\\lambda_{ik} \\left<{\\eta_{ik}}\\right> h_{i} h_{j}^{3}}{2 \\lambda_{ij}} + \\frac{\\lambda_{ik} h_{i} h_{j}^{3}}{2 \\lambda_{ij}} + \\frac{\\left<{m_i}\\right> h_{i}^{2} h_{j}^{3}}{2 \\lambda_{ij}} + \\frac{h_{i} h_{j}^{3}}{2 \\lambda_{ij}}\\end{matrix}\\right]$"
      ],
      "text/plain": [
       "Matrix([\n",
       "[                                                      0,                                                                                                                  0,                                                                  \\Delta*\\lambda_{ij}*h_i/\\lambda_{ik} - 2*\\Delta*h_j + \\Delta*\\lambda_{ik}*h_j**2/(\\lambda_{ij}*h_i),                                                                                                                  0,                                                                                                                                                                                                                                                                                                                                                                                                                                                                                                                                                                                                                                                                                                                                                                                                                                                                                                                                                                                                                                                                                                                                                                                                                                                                                                                                                                                                                                                                                                                                                                                                                                                                                                                                                                                                                                                                                                                                                                                                                                                                                                                                                                                                                                                                                                                                                                                                                                                                                                                                          _Dummy_1057*\\lambda_{ij}**2*h_i**2 - 2*_Dummy_1057*\\lambda_{ij}*\\lambda_{ik}*h_i*h_j + _Dummy_1057*\\lambda_{ik}**2*h_j**2 - \\Delta/2 + \\Delta*\\lambda_{ik}*h_j/(2*\\lambda_{ij}*h_i) - \\Delta*h_i*h_j/(2*\\lambda_{ij}) + \\Delta*\\lambda_{ik}*h_j**2/(2*\\lambda_{ij}**2) + 2*\\lambda_{ij}**3*\\left<{m_i}\\right>*h_i**2/\\lambda_{ik} + \\lambda_{ij}**3*\\left<{m_j}\\right>*h_i*h_j/\\lambda_{ik} + \\lambda_{ij}**3*h_i/\\lambda_{ik} + 2*\\lambda_{ij}**2*\\left<m_j\\eta_{ij}\\right>*h_i*h_j + 3*\\lambda_{ij}**2*\\left<{\\eta_{ij}}\\right>*h_i - 4*\\lambda_{ij}**2*\\left<{m_i}\\right>*h_i*h_j - 2*\\lambda_{ij}**2*\\left<{m_j}\\right>*h_j**2 - 3*\\lambda_{ij}**2*h_j/2 + 2*\\lambda_{ij}**2*\\left<{\\eta_{ij}}\\right>*h_i**3/\\lambda_{ik} + 2*\\lambda_{ij}**2*h_i**2*h_j/\\lambda_{ik} - 4*\\lambda_{ij}*\\lambda_{ik}*\\left<m_j\\eta_{ij}\\right>*h_j**2 - 4*\\lambda_{ij}*\\lambda_{ik}*\\left<{\\eta_{ij}}\\right>*h_j + \\lambda_{ij}*\\lambda_{ik}*\\left<{\\eta_{ik}}\\right>*h_i + 2*\\lambda_{ij}*\\lambda_{ik}*\\left<{m_i}\\right>*h_j**2 + \\lambda_{ij}*\\lambda_{ik}*\\left<{m_j}\\right>*h_j**3/h_i + \\lambda_{ij}*\\lambda_{ik}*h_i + \\lambda_{ij}*\\lambda_{ik}*h_j**2/(2*h_i) - \\lambda_{ij}*\\left<{\\eta_{ij}}\\right>*h_i**2*h_j + 3*\\lambda_{ij}*\\left<{m_i}\\right>*h_i**2 + 2*\\lambda_{ij}*\\left<{m_j}\\right>*h_i*h_j - 7*\\lambda_{ij}*h_i*h_j**2/2 + 2*\\lambda_{ij}*h_i + \\lambda_{ij}*\\left<{m_j}\\right>*h_i**3*h_j/\\lambda_{ik} + \\lambda_{ij}*h_i**3/\\lambda_{ik} + 2*\\lambda_{ik}**2*\\left<m_j\\eta_{ij}\\right>*h_j**3/h_i + \\lambda_{ik}**2*\\left<{\\eta_{ij}}\\right>*h_j**2/h_i - \\lambda_{ik}**2*\\left<{\\eta_{ik}}\\right>*h_j - \\lambda_{ik}**2*h_j - 2*\\lambda_{ik}*\\left<{\\eta_{ij}}\\right>*h_i*h_j**2 + \\lambda_{ik}*\\left<{\\eta_{ik}}\\right>*h_i**2*h_j - 4*\\lambda_{ik}*\\left<{m_i}\\right>*h_i*h_j - 3*\\lambda_{ik}*\\left<{m_j}\\right>*h_j**2 + \\lambda_{ik}*h_i**2*h_j + 3*\\lambda_{ik}*h_j**3/2 - 5*\\lambda_{ik}*h_j/2 + \\left<{m_i}\\right>*h_i**3*h_j - \\left<{m_j}\\right>*h_i**2*h_j**2 - h_i**2*h_j/2 + \\lambda_{ik}**2*\\left<{\\eta_{ij}}\\right>*h_j**3/\\lambda_{ij} - \\lambda_{ik}**2*\\left<{\\eta_{ik}}\\right>*h_i*h_j**2/\\lambda_{ij} + \\lambda_{ik}**2*\\left<{m_i}\\right>*h_j**2/\\lambda_{ij} + \\lambda_{ik}**2*\\left<{m_j}\\right>*h_j**3/(\\lambda_{ij}*h_i) - \\lambda_{ik}**2*h_i*h_j**2/\\lambda_{ij} + \\lambda_{ik}**2*h_j**2/(2*\\lambda_{ij}*h_i) + h_i**3*h_j**2/(2*\\lambda_{ij}) - \\lambda_{ik}**2*\\left<{m_i}\\right>*h_i*h_j**3/\\lambda_{ij}**2 - \\lambda_{ik}**2*h_j**3/(2*\\lambda_{ij}**2) - \\lambda_{ik}*h_i**2*h_j**3/(2*\\lambda_{ij}**2)],\n",
       "[                                                      0,                                                                                                                  0, \\Delta*\\lambda_{ij}**2*h_i**3/(4*\\lambda_{ik}**2*h_j**2) - \\Delta*\\lambda_{ij}*h_i**2/(4*\\lambda_{ik}*h_j) - \\Delta*h_i/4 + \\Delta*\\lambda_{ik}*h_j/(4*\\lambda_{ij}), -\\Delta*\\lambda_{ij}*h_i**3/(2*\\lambda_{ik}*h_j**2) + \\Delta*h_i**2/h_j - \\Delta*\\lambda_{ik}*h_i/(2*\\lambda_{ij}), \\Delta*\\lambda_{ij}*h_i**2/(4*h_j**2) + \\Delta*\\lambda_{ij}/8 - \\Delta*\\lambda_{ij}*h_i**2/(4*\\lambda_{ik}*h_j**2) - \\Delta*\\lambda_{ij}*h_i**4/(4*\\lambda_{ik}**2*h_j**2) - \\Delta*\\lambda_{ik}*h_i/(4*h_j) - \\Delta*\\lambda_{ik}*h_j/(8*h_i) + \\Delta*h_i/(8*h_j) + \\Delta*h_i**3/(4*\\lambda_{ik}*h_j) + \\Delta*\\lambda_{ik}/(8*\\lambda_{ij}) - \\Delta*h_i**2/(8*\\lambda_{ij}) + \\Delta*\\lambda_{ik}*h_i*h_j/(8*\\lambda_{ij}**2) + \\lambda_{ij}**4*\\left<{m_i}\\right>*h_i**4/(2*\\lambda_{ik}**2*h_j**2) + \\lambda_{ij}**4*\\left<{m_j}\\right>*h_i**3/(4*\\lambda_{ik}**2*h_j) + \\lambda_{ij}**4*h_i**3/(4*\\lambda_{ik}**2*h_j**2) - \\lambda_{ij}**3*\\left<{\\eta_{ij}}\\right>*h_i**3/(2*h_j**2) - \\lambda_{ij}**3*\\left<{\\eta_{ij}}\\right>*h_i/4 - \\lambda_{ij}**3*h_i**2/(4*h_j) - \\lambda_{ij}**3*h_j/8 + \\lambda_{ij}**3*\\left<{\\eta_{ij}}\\right>*h_i**3/(2*\\lambda_{ik}*h_j**2) - \\lambda_{ij}**3*\\left<{m_i}\\right>*h_i**3/(2*\\lambda_{ik}*h_j) - \\lambda_{ij}**3*\\left<{m_j}\\right>*h_i**2/(4*\\lambda_{ik}) + \\lambda_{ij}**3*\\left<{\\eta_{ij}}\\right>*h_i**5/(\\lambda_{ik}**2*h_j**2) + 3*\\lambda_{ij}**3*h_i**4/(4*\\lambda_{ik}**2*h_j) - \\lambda_{ij}**2*\\lambda_{ik}*\\left<{\\eta_{ik}}\\right>*h_i**3/(2*h_j**2) - \\lambda_{ij}**2*\\lambda_{ik}*\\left<{\\eta_{ik}}\\right>*h_i/4 - \\lambda_{ij}**2*\\lambda_{ik}*h_i**3/(2*h_j**2) + \\lambda_{ij}**2*\\lambda_{ik}*h_j**2/(8*h_i) - \\lambda_{ij}**2*\\left<m_i\\eta_{ik}\\right>*h_i**4/h_j**2 + \\lambda_{ij}**2*\\left<m_j\\eta_{ij}\\right>*h_i**2 + 3*\\lambda_{ij}**2*\\left<{\\eta_{ij}}\\right>*h_i**2/(4*h_j) - 3*\\lambda_{ij}**2*\\left<{m_i}\\right>*h_i**4/(2*h_j**2) - 5*\\lambda_{ij}**2*\\left<{m_i}\\right>*h_i**2/4 - \\lambda_{ij}**2*\\left<{m_j}\\right>*h_i**3/(2*h_j) - \\lambda_{ij}**2*\\left<{m_j}\\right>*h_i*h_j/2 - \\lambda_{ij}**2*h_i**3/(2*h_j**2) - 5*\\lambda_{ij}**2*h_i/8 - \\lambda_{ij}**2*\\left<{\\eta_{ij}}\\right>*h_i**4/(\\lambda_{ik}*h_j) + \\lambda_{ij}**2*\\left<{m_j}\\right>*h_i**3/(4*\\lambda_{ik}*h_j) - 3*\\lambda_{ij}**2*h_i**3/(4*\\lambda_{ik}) + \\lambda_{ij}**2*h_i**3/(4*\\lambda_{ik}*h_j**2) + \\lambda_{ij}**2*\\left<{m_i}\\right>*h_i**6/(2*\\lambda_{ik}**2*h_j**2) + 3*\\lambda_{ij}**2*\\left<{m_j}\\right>*h_i**5/(4*\\lambda_{ik}**2*h_j) + 3*\\lambda_{ij}**2*h_i**5/(4*\\lambda_{ik}**2*h_j**2) + \\lambda_{ij}*\\lambda_{ik}**2*\\left<{\\eta_{ij}}\\right>*h_i/2 + \\lambda_{ij}*\\lambda_{ik}**2*\\left<{\\eta_{ij}}\\right>*h_j**2/(4*h_i) + \\lambda_{ij}*\\lambda_{ik}**2*\\left<{\\eta_{ik}}\\right>*h_i**2/(2*h_j) + \\lambda_{ij}*\\lambda_{ik}**2*\\left<{\\eta_{ik}}\\right>*h_j/4 + \\lambda_{ij}*\\lambda_{ik}**2*h_i**2/(2*h_j) + \\lambda_{ij}*\\lambda_{ik}**2*h_j/4 + 2*\\lambda_{ij}*\\lambda_{ik}*\\left<m_i\\eta_{ik}\\right>*h_i**3/h_j - 2*\\lambda_{ij}*\\lambda_{ik}*\\left<m_j\\eta_{ij}\\right>*h_i*h_j - 3*\\lambda_{ij}*\\lambda_{ik}*\\left<{\\eta_{ij}}\\right>*h_i/2 + 3*\\lambda_{ij}*\\lambda_{ik}*\\left<{\\eta_{ik}}\\right>*h_i**2/(4*h_j) + 2*\\lambda_{ij}*\\lambda_{ik}*\\left<{m_i}\\right>*h_i**3/h_j + 3*\\lambda_{ij}*\\lambda_{ik}*\\left<{m_i}\\right>*h_i*h_j/2 + \\lambda_{ij}*\\lambda_{ik}*\\left<{m_j}\\right>*h_i**2/2 + \\lambda_{ij}*\\lambda_{ik}*\\left<{m_j}\\right>*h_j**2/2 + \\lambda_{ij}*\\lambda_{ik}*h_i**2/h_j + \\lambda_{ij}*\\lambda_{ik}*h_j/4 + 3*\\lambda_{ij}*\\left<{\\eta_{ij}}\\right>*h_i**3/4 + 7*\\lambda_{ij}*\\left<{m_i}\\right>*h_i**3/(4*h_j) + \\lambda_{ij}*\\left<{m_j}\\right>*h_i**2/2 - \\lambda_{ij}*h_i**4/(4*h_j) - \\lambda_{ij}*h_i**2*h_j/2 + 3*\\lambda_{ij}*h_i**2/(4*h_j) - \\lambda_{ij}*\\left<{m_i}\\right>*h_i**5/(2*\\lambda_{ik}*h_j) - 3*\\lambda_{ij}*\\left<{m_j}\\right>*h_i**4/(4*\\lambda_{ik}) - 3*\\lambda_{ij}*h_i**4/(4*\\lambda_{ik}*h_j) + \\lambda_{ij}*h_i**6/(4*\\lambda_{ik}**2*h_j) - \\lambda_{ik}**2*\\left<m_i\\eta_{ik}\\right>*h_i**2 + \\lambda_{ik}**2*\\left<m_j\\eta_{ij}\\right>*h_j**2 + \\lambda_{ik}**2*\\left<{\\eta_{ij}}\\right>*h_j/4 - 3*\\lambda_{ik}**2*\\left<{\\eta_{ik}}\\right>*h_i/4 - \\lambda_{ik}**2*\\left<{m_i}\\right>*h_i**2/2 - \\lambda_{ik}**2*\\left<{m_i}\\right>*h_j**2/4 - \\lambda_{ik}**2*h_i/2 + \\lambda_{ik}**2*h_j**2/(8*h_i) - \\lambda_{ik}*\\left<{\\eta_{ij}}\\right>*h_i**2*h_j + 3*\\lambda_{ik}*\\left<{\\eta_{ik}}\\right>*h_i**3/4 - 2*\\lambda_{ik}*\\left<{m_i}\\right>*h_i**2 - \\lambda_{ik}*\\left<{m_j}\\right>*h_i*h_j + \\lambda_{ik}*h_i**3 + \\lambda_{ik}*h_i*h_j**2/2 - 9*\\lambda_{ik}*h_i/8 + 3*\\left<{m_i}\\right>*h_i**4/4 + 5*h_i**3/8 - h_i**5/(4*\\lambda_{ik}) + \\lambda_{ik}**2*\\left<{\\eta_{ij}}\\right>*h_i*h_j**2/(4*\\lambda_{ij}) - 3*\\lambda_{ik}**2*\\left<{\\eta_{ik}}\\right>*h_i**2*h_j/(4*\\lambda_{ij}) + \\lambda_{ik}**2*\\left<{m_i}\\right>*h_i*h_j/(4*\\lambda_{ij}) + \\lambda_{ik}**2*\\left<{m_j}\\right>*h_j**2/(4*\\lambda_{ij}) - 3*\\lambda_{ik}**2*h_i**2*h_j/(4*\\lambda_{ij}) + \\lambda_{ik}**2*h_j/(8*\\lambda_{ij}) - \\lambda_{ik}*\\left<{m_i}\\right>*h_i**3*h_j/(2*\\lambda_{ij}) - \\lambda_{ik}*h_i**2*h_j/(2*\\lambda_{ij}) + h_i**4*h_j/(8*\\lambda_{ij}) - \\lambda_{ik}**2*\\left<{m_i}\\right>*h_i**2*h_j**2/(4*\\lambda_{ij}**2) - \\lambda_{ik}**2*h_i*h_j**2/(8*\\lambda_{ij}**2) - \\lambda_{ik}*h_i**3*h_j**2/(8*\\lambda_{ij}**2)],\n",
       "[                                                      0, -\\Delta*\\lambda_{ij}**2/(4*\\lambda_{ik}) + \\Delta*\\lambda_{ij}*h_j/(2*h_i) - \\Delta*\\lambda_{ik}*h_j**2/(4*h_i**2),                                                                                                                                                                    0,          \\Delta*\\lambda_{ij}*h_i/(4*\\lambda_{ik}) - \\Delta*h_j/2 + \\Delta*\\lambda_{ik}*h_j**2/(4*\\lambda_{ij}*h_i),                                                                                                                                                                                                                                                                                                                                                                                                                                                                                                                                                                                                                                                                                                                                                                                       -\\Delta*\\lambda_{ij}**3/(8*\\lambda_{ik}**2) + \\Delta*\\lambda_{ij}**2*h_j/(8*\\lambda_{ik}*h_i) + \\Delta*\\lambda_{ij}/4 + \\Delta*\\lambda_{ij}/(2*\\lambda_{ik}) + \\Delta*\\lambda_{ij}*h_i**2/(8*\\lambda_{ik}**2) - \\Delta*\\lambda_{ik}*h_j/(4*h_i) - \\Delta*h_j/(2*h_i) - \\Delta*h_i*h_j/(8*\\lambda_{ik}) + \\lambda_{ij}**5*\\left<{\\eta_{ij}}\\right>*h_i/(4*\\lambda_{ik}**2) + \\lambda_{ij}**5*h_j/(8*\\lambda_{ik}**2) - \\lambda_{ij}**4*\\left<{\\eta_{ij}}\\right>*h_j/(4*\\lambda_{ik}) - \\lambda_{ij}**4*h_j**2/(8*\\lambda_{ik}*h_i) + \\lambda_{ij}**4*\\left<{m_i}\\right>*h_i**2/(4*\\lambda_{ik}**2) + \\lambda_{ij}**4*\\left<{m_j}\\right>*h_i*h_j/(4*\\lambda_{ik}**2) + \\lambda_{ij}**4*h_i/(4*\\lambda_{ik}**2) - 3*\\lambda_{ij}**3*\\left<{\\eta_{ij}}\\right>*h_i/2 + \\lambda_{ij}**3*\\left<{\\eta_{ij}}\\right>*h_j**2/(4*h_i) - \\lambda_{ij}**3*h_j/4 - 5*\\lambda_{ij}**3*\\left<{\\eta_{ij}}\\right>*h_i/(4*\\lambda_{ik}) - \\lambda_{ij}**3*\\left<{m_i}\\right>*h_i*h_j/(4*\\lambda_{ik}) - \\lambda_{ij}**3*\\left<{m_j}\\right>*h_j**2/(4*\\lambda_{ik}) - 7*\\lambda_{ij}**3*h_j/(8*\\lambda_{ik}) - \\lambda_{ij}**3*\\left<{\\eta_{ij}}\\right>*h_i**3/(4*\\lambda_{ik}**2) + \\lambda_{ij}**2*\\lambda_{ik}*\\left<\\eta_{ik}^{2}\\right>*h_i/2 + 2*\\lambda_{ij}**2*\\lambda_{ik}*\\left<{\\eta_{ij}}\\right>*h_j - \\lambda_{ij}**2*\\lambda_{ik}*\\left<{\\eta_{ij}}\\right>*h_j**3/(4*h_i**2) - \\lambda_{ij}**2*\\lambda_{ik}*\\left<{\\eta_{ik}}\\right>*h_i/2 + \\lambda_{ij}**2*\\lambda_{ik}*\\left<{\\eta_{ik}}\\right>*h_j**2/(4*h_i) - \\lambda_{ij}**2*\\lambda_{ik}*h_i + \\lambda_{ij}**2*\\lambda_{ik}*h_j**2/(2*h_i) + \\lambda_{ij}**2*\\left<m_i\\eta_{ik}\\right>*h_i**2 + \\lambda_{ij}**2*\\left<{\\eta_{ij}}\\right>*h_j/2 - \\lambda_{ij}**2*\\left<{m_i}\\right>*h_i**2/2 + \\lambda_{ij}**2*\\left<{m_i}\\right>*h_j**2/4 - \\lambda_{ij}**2*\\left<{m_j}\\right>*h_i*h_j/2 - 3*\\lambda_{ij}**2*h_i/2 + 7*\\lambda_{ij}**2*h_j**2/(8*h_i) + \\lambda_{ij}**2*\\left<{\\eta_{ij}}\\right>*h_i**2*h_j/(4*\\lambda_{ik}) - 3*\\lambda_{ij}**2*\\left<{m_i}\\right>*h_i**2/(4*\\lambda_{ik}) - \\lambda_{ij}**2*\\left<{m_j}\\right>*h_i*h_j/\\lambda_{ik} - \\lambda_{ij}**2*h_i/\\lambda_{ik} - \\lambda_{ij}**2*\\left<{m_i}\\right>*h_i**4/(4*\\lambda_{ik}**2) - \\lambda_{ij}**2*\\left<{m_j}\\right>*h_i**3*h_j/(4*\\lambda_{ik}**2) - \\lambda_{ij}**2*h_i**3/(4*\\lambda_{ik}**2) - \\lambda_{ij}*\\lambda_{ik}**2*\\left<\\eta_{ik}^{2}\\right>*h_j - \\lambda_{ij}*\\lambda_{ik}**2*\\left<{\\eta_{ij}}\\right>*h_j**2/(2*h_i) + \\lambda_{ij}*\\lambda_{ik}**2*\\left<{\\eta_{ik}}\\right>*h_j/2 - \\lambda_{ij}*\\lambda_{ik}**2*\\left<{\\eta_{ik}}\\right>*h_j**3/(4*h_i**2) + 3*\\lambda_{ij}*\\lambda_{ik}**2*h_j/2 - \\lambda_{ij}*\\lambda_{ik}**2*h_j**3/(4*h_i**2) - 2*\\lambda_{ij}*\\lambda_{ik}*\\left<m_i\\eta_{ik}\\right>*h_i*h_j + 3*\\lambda_{ij}*\\lambda_{ik}*\\left<{\\eta_{ij}}\\right>*h_j**2/(4*h_i) - \\lambda_{ij}*\\lambda_{ik}*\\left<{\\eta_{ik}}\\right>*h_j - \\lambda_{ij}*\\lambda_{ik}*\\left<{m_i}\\right>*h_j**3/(4*h_i) + \\lambda_{ij}*\\lambda_{ik}*\\left<{m_j}\\right>*h_j**2/2 + 5*\\lambda_{ij}*\\lambda_{ik}*h_j/4 - \\lambda_{ij}*\\lambda_{ik}*h_j**3/(4*h_i**2) - \\lambda_{ij}*\\left<{\\eta_{ij}}\\right>*h_i*h_j**2/4 - \\lambda_{ij}*\\left<{m_i}\\right>*h_i*h_j/2 + \\lambda_{ij}*\\left<{m_j}\\right>*h_j**2 - \\lambda_{ij}*h_i**2*h_j/4 + \\lambda_{ij}*h_j/2 + \\lambda_{ij}*\\left<{m_i}\\right>*h_i**3*h_j/(4*\\lambda_{ik}) + \\lambda_{ij}*\\left<{m_j}\\right>*h_i**2*h_j**2/(4*\\lambda_{ik}) - \\lambda_{ij}*h_i**2*h_j/(8*\\lambda_{ik}) - \\lambda_{ij}*h_i**4*h_j/(8*\\lambda_{ik}**2) + \\lambda_{ik}**3*\\left<\\eta_{ik}^{2}\\right>*h_j**2/(2*h_i) - \\lambda_{ik}**3*h_j**2/(2*h_i) + \\lambda_{ik}**2*\\left<m_i\\eta_{ik}\\right>*h_j**2 + \\lambda_{ik}**2*\\left<{\\eta_{ik}}\\right>*h_j**2/h_i + \\lambda_{ik}**2*\\left<{m_i}\\right>*h_j**2/2 + \\lambda_{ik}**2*h_j**2/(4*h_i) + \\lambda_{ik}*\\left<{\\eta_{ij}}\\right>*h_j**3/4 - \\lambda_{ik}*\\left<{\\eta_{ik}}\\right>*h_i*h_j**2/4 + 5*\\lambda_{ik}*\\left<{m_i}\\right>*h_j**2/4 + \\lambda_{ik}*h_j**2/(2*h_i) - \\left<{m_i}\\right>*h_i**2*h_j**2/4 + h_i*h_j**2/8 + h_i**3*h_j**2/(8*\\lambda_{ik}) + \\lambda_{ik}**2*\\left<{\\eta_{ik}}\\right>*h_j**3/(4*\\lambda_{ij}) + \\lambda_{ik}**2*h_j**3/(4*\\lambda_{ij}) + \\lambda_{ik}*\\left<{m_i}\\right>*h_i*h_j**3/(4*\\lambda_{ij}) + \\lambda_{ik}*h_j**3/(4*\\lambda_{ij})],\n",
       "[\\Delta*\\lambda_{ij}*h_i/(2*\\lambda_{ik}) - \\Delta*h_j/2,   -\\Delta*\\lambda_{ij}**2*h_i/\\lambda_{ik}**2 + 3*\\Delta*\\lambda_{ij}*h_j/(2*\\lambda_{ik}) - \\Delta*h_j**2/(2*h_i),                                                                  \\Delta*\\lambda_{ij}**2*h_i**2/(2*\\lambda_{ik}**3) - \\Delta*\\lambda_{ij}*h_i*h_j/(2*\\lambda_{ik}**2),                                                  -\\Delta*h_i*h_j/(2*\\lambda_{ik}) + \\Delta*h_j**2/(2*\\lambda_{ij}),                                                                                                                                                                                                                                                                                                                                                                                                                                                                                                                                                                                                                                                                                                                                                                                                                                                            -\\Delta*\\lambda_{ij}**3*h_i/(2*\\lambda_{ik}**3) + \\Delta*\\lambda_{ij}**2*h_j/(2*\\lambda_{ik}**2) + \\Delta*\\lambda_{ij}*h_i/\\lambda_{ik} + 3*\\Delta*\\lambda_{ij}*h_i/(2*\\lambda_{ik}**2) - \\Delta*h_j - 9*\\Delta*h_j/(4*\\lambda_{ik}) + \\lambda_{ij}**5*\\left<{\\eta_{ij}}\\right>*h_i**2/\\lambda_{ik}**3 + \\lambda_{ij}**5*h_i*h_j/(2*\\lambda_{ik}**3) - \\lambda_{ij}**4*\\left<{\\eta_{ij}}\\right>*h_i*h_j/\\lambda_{ik}**2 - \\lambda_{ij}**4*h_j**2/(2*\\lambda_{ik}**2) + 2*\\lambda_{ij}**4*\\left<{m_i}\\right>*h_i**3/\\lambda_{ik}**3 + 3*\\lambda_{ij}**4*\\left<{m_j}\\right>*h_i**2*h_j/(2*\\lambda_{ik}**3) + 3*\\lambda_{ij}**4*h_i**2/(2*\\lambda_{ik}**3) - 5*\\lambda_{ij}**3*\\left<{\\eta_{ij}}\\right>*h_i**2/\\lambda_{ik} + \\lambda_{ij}**3*\\left<{\\eta_{ij}}\\right>*h_j**2/(2*\\lambda_{ik}) - 3*\\lambda_{ij}**3*h_i*h_j/(2*\\lambda_{ik}) - 4*\\lambda_{ij}**3*\\left<{\\eta_{ij}}\\right>*h_i**2/\\lambda_{ik}**2 - 2*\\lambda_{ij}**3*\\left<{m_i}\\right>*h_i**2*h_j/\\lambda_{ik}**2 - 3*\\lambda_{ij}**3*\\left<{m_j}\\right>*h_i*h_j**2/(2*\\lambda_{ik}**2) - 7*\\lambda_{ij}**3*h_i*h_j/(2*\\lambda_{ik}**2) + \\lambda_{ij}**3*\\left<{\\eta_{ij}}\\right>*h_i**4/\\lambda_{ik}**3 + 3*\\lambda_{ij}**3*h_i**3*h_j/(2*\\lambda_{ik}**3) + 2*\\lambda_{ij}**2*\\left<\\eta_{ik}^{2}\\right>*h_i**2 + 6*\\lambda_{ij}**2*\\left<{\\eta_{ij}}\\right>*h_i*h_j - \\lambda_{ij}**2*\\left<{\\eta_{ij}}\\right>*h_j**3/(2*h_i) - \\lambda_{ij}**2*\\left<{\\eta_{ik}}\\right>*h_i**2 + \\lambda_{ij}**2*\\left<{\\eta_{ik}}\\right>*h_j**2/2 - 3*\\lambda_{ij}**2*h_i**2 + 2*\\lambda_{ij}**2*h_j**2 + 2*\\lambda_{ij}**2*\\left<m_i\\eta_{ik}\\right>*h_i**3/\\lambda_{ik} + 4*\\lambda_{ij}**2*\\left<{\\eta_{ij}}\\right>*h_i*h_j/\\lambda_{ik} - 3*\\lambda_{ij}**2*\\left<{m_i}\\right>*h_i**3/\\lambda_{ik} + \\lambda_{ij}**2*\\left<{m_i}\\right>*h_i*h_j**2/(2*\\lambda_{ik}) - 3*\\lambda_{ij}**2*\\left<{m_j}\\right>*h_i**2*h_j/\\lambda_{ik} - 5*\\lambda_{ij}**2*h_i**2/\\lambda_{ik} + 13*\\lambda_{ij}**2*h_j**2/(4*\\lambda_{ik}) - \\lambda_{ij}**2*\\left<{\\eta_{ij}}\\right>*h_i**3*h_j/\\lambda_{ik}**2 - 3*\\lambda_{ij}**2*\\left<{m_i}\\right>*h_i**3/\\lambda_{ik}**2 - 7*\\lambda_{ij}**2*\\left<{m_j}\\right>*h_i**2*h_j/(2*\\lambda_{ik}**2) - 3*\\lambda_{ij}**2*h_i**2*h_j**2/(2*\\lambda_{ik}**2) - 7*\\lambda_{ij}**2*h_i**2/(2*\\lambda_{ik}**2) + \\lambda_{ij}**2*\\left<{m_j}\\right>*h_i**4*h_j/(2*\\lambda_{ik}**3) + \\lambda_{ij}**2*h_i**4/(2*\\lambda_{ik}**3) - 4*\\lambda_{ij}*\\lambda_{ik}*\\left<\\eta_{ik}^{2}\\right>*h_i*h_j - \\lambda_{ij}*\\lambda_{ik}*\\left<{\\eta_{ij}}\\right>*h_j**2 + \\lambda_{ij}*\\lambda_{ik}*\\left<{\\eta_{ik}}\\right>*h_i*h_j - \\lambda_{ij}*\\lambda_{ik}*\\left<{\\eta_{ik}}\\right>*h_j**3/(2*h_i) + 5*\\lambda_{ij}*\\lambda_{ik}*h_i*h_j - \\lambda_{ij}*\\lambda_{ik}*h_j**3/(2*h_i) - 4*\\lambda_{ij}*\\left<m_i\\eta_{ik}\\right>*h_i**2*h_j + 3*\\lambda_{ij}*\\left<{\\eta_{ij}}\\right>*h_j**2 - 2*\\lambda_{ij}*\\left<{\\eta_{ik}}\\right>*h_i*h_j + 2*\\lambda_{ij}*\\left<{m_i}\\right>*h_i**2*h_j - \\lambda_{ij}*\\left<{m_i}\\right>*h_j**3/2 + 3*\\lambda_{ij}*\\left<{m_j}\\right>*h_i*h_j**2 + 11*\\lambda_{ij}*h_i*h_j/2 - \\lambda_{ij}*h_j**3/(2*h_i) - \\lambda_{ij}*\\left<{\\eta_{ij}}\\right>*h_i**2*h_j**2/(2*\\lambda_{ik}) + 2*\\lambda_{ij}*\\left<{m_i}\\right>*h_i**2*h_j/\\lambda_{ik} + 5*\\lambda_{ij}*\\left<{m_j}\\right>*h_i*h_j**2/\\lambda_{ik} - 3*\\lambda_{ij}*h_i**3*h_j/(2*\\lambda_{ik}) + 4*\\lambda_{ij}*h_i*h_j/\\lambda_{ik} - \\lambda_{ij}*\\left<{m_j}\\right>*h_i**3*h_j**2/(2*\\lambda_{ik}**2) - 2*\\lambda_{ij}*h_i**3*h_j/\\lambda_{ik}**2 + 2*\\lambda_{ik}**2*\\left<\\eta_{ik}^{2}\\right>*h_j**2 - 2*\\lambda_{ik}**2*h_j**2 + 2*\\lambda_{ik}*\\left<m_i\\eta_{ik}\\right>*h_i*h_j**2 + 7*\\lambda_{ik}*\\left<{\\eta_{ik}}\\right>*h_j**2/2 + \\lambda_{ik}*\\left<{m_i}\\right>*h_i*h_j**2 + \\lambda_{ik}*h_j**2 + \\left<{\\eta_{ij}}\\right>*h_i*h_j**3/2 - \\left<{\\eta_{ik}}\\right>*h_i**2*h_j**2/2 + 4*\\left<{m_i}\\right>*h_i*h_j**2 + h_i**2*h_j**2 + 7*h_j**2/4 - \\left<{m_i}\\right>*h_i**3*h_j**2/(2*\\lambda_{ik}) + 7*h_i**2*h_j**2/(4*\\lambda_{ik}) + \\lambda_{ik}*\\left<{\\eta_{ik}}\\right>*h_i*h_j**3/(2*\\lambda_{ij}) + \\lambda_{ik}*h_i*h_j**3/(2*\\lambda_{ij}) + \\left<{m_i}\\right>*h_i**2*h_j**3/(2*\\lambda_{ij}) + h_i*h_j**3/(2*\\lambda_{ij})]])"
      ]
     },
     "metadata": {},
     "output_type": "display_data"
    }
   ],
   "source": [
    "M = sp.Matrix([line1, line2, line3, line4])\n",
    "M = M.expand()\n",
    "\n",
    "M[0, :] += M[1, :]*2/hi*hj\n",
    "M[1, :] -= M[2, :]*hi**2/hj**2\n",
    "M[2, :] += M[3, :]/2/hi*lik\n",
    "M[3, :] += M[2, :]*2*hi/lik\n",
    "\n",
    "M = M.expand()\n",
    "\n",
    "display(M)"
   ]
  },
  {
   "cell_type": "code",
   "execution_count": 74,
   "metadata": {},
   "outputs": [],
   "source": [
    "value_system_moments_2 = []\n",
    "\n",
    "result = (M[:, :-1]).solve(M[:, -1])\n",
    "for item in result:\n",
    "    value_system_moments_2.append(item.factor())\n",
    "\n",
    "# for i in range(4):\n",
    "#     display(sp.Eq(vector_system_moments_2[i], value_system_moments_2[i]))\n",
    "# for i in range(4):\n",
    "#     sp.print_latex(sp.Eq(vector_system_moments_2[i], value_system_moments_2[i]))"
   ]
  },
  {
   "cell_type": "code",
   "execution_count": 75,
   "metadata": {},
   "outputs": [],
   "source": [
    "subs_to_moments_2 = dict(zip(vector_system_moments_2, value_system_moments_2))"
   ]
  },
  {
   "cell_type": "code",
   "execution_count": 76,
   "metadata": {},
   "outputs": [
    {
     "data": {
      "text/latex": [
       "$\\displaystyle - \\frac{\\left<m_j\\eta_{ij}\\right> h_{j}}{\\lambda_{ij}} - \\frac{2 \\left<{\\eta_{ij}}\\right>}{\\lambda_{ij}} + \\frac{\\left<{m_i}\\right> h_{j}}{\\lambda_{ij}}$"
      ],
      "text/plain": [
       "-\\left<m_j\\eta_{ij}\\right>*h_j/\\lambda_{ij} - 2*\\left<{\\eta_{ij}}\\right>/\\lambda_{ij} + \\left<{m_i}\\right>*h_j/\\lambda_{ij}"
      ]
     },
     "metadata": {},
     "output_type": "display_data"
    },
    {
     "name": "stdout",
     "output_type": "stream",
     "text": [
      "- \\left<m_j\\eta_{ij}\\right> h_{j} - 2 \\left<{\\eta_{ij}}\\right> + \\left<{m_i}\\right> h_{j}\n"
     ]
    }
   ],
   "source": [
    "expr_Q_star_from_m_j_eta_ij = expr_Q_star.subs(subs_to_moments).subs(subs_to_moments_2).subs(subs_det_system_moments).factor().expand()\n",
    "display(expr_Q_star_from_m_j_eta_ij)\n",
    "sp.print_latex((lij*expr_Q_star_from_m_j_eta_ij).expand())"
   ]
  },
  {
   "cell_type": "code",
   "execution_count": 77,
   "metadata": {},
   "outputs": [],
   "source": [
    "subs_to_Q_star = {lij: sp.solve(expr_Q_star_from_m_j_eta_ij-Z3sym.Q_star, lij)[0]}"
   ]
  },
  {
   "cell_type": "code",
   "execution_count": 78,
   "metadata": {},
   "outputs": [
    {
     "data": {
      "text/latex": [
       "$\\displaystyle \\left<m_{jh}^2\\right> = - \\frac{2 \\lambda_{ij} \\left<m_j\\eta_{ij}\\right>}{h_{j}} + \\frac{2 \\lambda_{ij} \\left<{m_i}\\right>}{h_{j}} - \\frac{2 \\left<{m_j}\\right>}{h_{j}} + 1$"
      ],
      "text/plain": [
       "Eq(\\left<m_{jh}^2\\right>, -2*\\lambda_{ij}*\\left<m_j\\eta_{ij}\\right>/h_j + 2*\\lambda_{ij}*\\left<{m_i}\\right>/h_j - 2*\\left<{m_j}\\right>/h_j + 1)"
      ]
     },
     "metadata": {},
     "output_type": "display_data"
    },
    {
     "name": "stdout",
     "output_type": "stream",
     "text": [
      "- \\frac{2 \\lambda_{ij} \\left<m_j\\eta_{ij}\\right>}{h_{j}} + \\frac{2 \\lambda_{ij} \\left<{m_i}\\right>}{h_{j}} - \\frac{2 \\left<{m_j}\\right>}{h_{j}} + 1\n"
     ]
    },
    {
     "data": {
      "text/latex": [
       "$\\displaystyle - \\frac{2 \\left<{\\eta_{ij}}\\right>}{\\lambda_{ij}} + \\frac{\\left<m_{jh}^2\\right> h_{j}^{2}}{2 \\lambda_{ij}^{2}} + \\frac{\\left<{m_j}\\right> h_{j}}{\\lambda_{ij}^{2}} - \\frac{h_{j}^{2}}{2 \\lambda_{ij}^{2}}$"
      ],
      "text/plain": [
       "-2*\\left<{\\eta_{ij}}\\right>/\\lambda_{ij} + \\left<m_{jh}^2\\right>*h_j**2/(2*\\lambda_{ij}**2) + \\left<{m_j}\\right>*h_j/\\lambda_{ij}**2 - h_j**2/(2*\\lambda_{ij}**2)"
      ]
     },
     "metadata": {},
     "output_type": "display_data"
    },
    {
     "name": "stdout",
     "output_type": "stream",
     "text": [
      "- 2 \\left<{\\eta_{ij}}\\right> + \\frac{\\left<m_{jh}^2\\right> h_{j}^{2}}{2 \\lambda_{ij}} + \\frac{\\left<{m_j}\\right> h_{j}}{\\lambda_{ij}} - \\frac{h_{j}^{2}}{2 \\lambda_{ij}}\n"
     ]
    }
   ],
   "source": [
    "expr_mjh2 = Z3.diff(hj, 2)/(Z3)\n",
    "expr_mjh2 = sp.Add(*map(sp.factor, expr_mjh2.expand().args))\n",
    "expr = expr_mjh2.subs(subs_to_moments).subs(subs_to_moments_2).subs(subs_det_system_moments).factor().expand()\n",
    "\n",
    "mjh2 = Z3sym.mjh2\n",
    "display(sp.Eq(mjh2, expr))\n",
    "sp.print_latex(expr)\n",
    " \n",
    "expr_Q_star_from_mjh2 = expr_Q_star_from_m_j_eta_ij.replace(mj_eta_ij, sp.solve(expr-mjh2, mj_eta_ij)[0]).expand()\n",
    "display(expr_Q_star_from_mjh2)\n",
    "sp.print_latex((lij*expr_Q_star_from_mjh2).expand())\n",
    "\n",
    "_expr_mjh2 = expr"
   ]
  },
  {
   "cell_type": "code",
   "execution_count": 79,
   "metadata": {},
   "outputs": [
    {
     "data": {
      "text/latex": [
       "$\\displaystyle \\frac{Dummy_{1057}}{2} - \\frac{\\left<m_j\\eta_{ij}\\right> h_{j}}{h_{i}} + \\frac{\\left<{m_i}\\right> h_{j}}{h_{i}} - \\left<{m_j}\\right>$"
      ],
      "text/plain": [
       "_Dummy_1057/2 - \\left<m_j\\eta_{ij}\\right>*h_j/h_i + \\left<{m_i}\\right>*h_j/h_i - \\left<{m_j}\\right>"
      ]
     },
     "execution_count": 79,
     "metadata": {},
     "output_type": "execute_result"
    }
   ],
   "source": [
    "expr_mj_eta_ik = Z3.diff(hj, lik)/(Z3)\n",
    "expr_mj_eta_ik = sp.Add(*map(sp.factor, expr_mj_eta_ik.expand().args))\n",
    "expr = expr_mj_eta_ik.subs(subs_to_moments).subs(subs_to_moments_2).subs(subs_det_system_moments).factor().expand()\n",
    "\n",
    "expr"
   ]
  },
  {
   "cell_type": "markdown",
   "metadata": {},
   "source": [
    "#### Численная проверка"
   ]
  },
  {
   "cell_type": "code",
   "execution_count": 80,
   "metadata": {},
   "outputs": [],
   "source": [
    "def calc_Z3_symmetrical_integrate(args):\n",
    "    hi, hj, lij, lik = args\n",
    "    return Z3num.calc_Z3_integrate(hi, hj, lij, lik)"
   ]
  },
  {
   "cell_type": "code",
   "execution_count": 81,
   "metadata": {},
   "outputs": [],
   "source": [
    "args_coeffs = hi, hj, lij, lik\n",
    "args_moments = hi, hj, lij, lik, mi, mj, eta_ij, eta_ik"
   ]
  },
  {
   "cell_type": "code",
   "execution_count": 82,
   "metadata": {},
   "outputs": [
    {
     "name": "stdout",
     "output_type": "stream",
     "text": [
      "0.57547760168819\n",
      "0.5754693308163132\n",
      "\n",
      "0.5237828164508537\n",
      "0.5238038611186142\n",
      "\n",
      "0.49566723243078437\n",
      "0.4956543647609227\n",
      "\n",
      "0.5488518559086242\n",
      "0.5488711531746446\n",
      "\n"
     ]
    }
   ],
   "source": [
    "f_expr_m_i = sp.lambdify(args_coeffs, expr_mi, Z3sym.num_module_norm)\n",
    "f_expr_m_j = sp.lambdify(args_coeffs, expr_mj, Z3sym.num_module_norm)\n",
    "f_expr_eta_ij = sp.lambdify(args_coeffs, expr_eta_ij, Z3sym.num_module_norm)\n",
    "f_expr_eta_ik = sp.lambdify(args_coeffs, expr_eta_ik, Z3sym.num_module_norm)\n",
    "\n",
    "args = 1.4, 1.1, 0.9, 1.2\n",
    "compare_exprs(\n",
    "    calc_numerical_diffs(calc_Z3_symmetrical_integrate, args)/(np.asarray([2, 1, 2, 1])*calc_Z3_symmetrical_integrate(args)),\n",
    "    calc_exprs([f_expr_m_i, f_expr_m_j, f_expr_eta_ij, f_expr_eta_ik], args)\n",
    ")"
   ]
  },
  {
   "cell_type": "code",
   "execution_count": 83,
   "metadata": {},
   "outputs": [
    {
     "name": "stdout",
     "output_type": "stream",
     "text": [
      "0.023086804752871965\n",
      "0.023086804752871934\n",
      "\n",
      "0.1479250666881099\n",
      "0.14792506668810984\n",
      "\n",
      "0.14872104750451542\n",
      "0.14872104750451573\n",
      "\n",
      "0.14575565732682025\n",
      "0.14575565732682022\n",
      "\n"
     ]
    }
   ],
   "source": [
    "args = 2, 1, 1.1, 1.4\n",
    "moments = f_expr_m_i(*args), f_expr_m_j(*args), f_expr_eta_ij(*args), f_expr_eta_ik(*args)\n",
    "\n",
    "for i in range(4):\n",
    "    left = vector_system_moments[i].subs(subs_det_system_moments)\n",
    "    f_left = sp.lambdify(args_moments, left, Z3sym.num_module_norm)\n",
    "    print(f_left(*args, *moments))\n",
    "\n",
    "    right = value_system_moments[i].subs(subs_det_system_moments)\n",
    "    f_right = sp.lambdify(args_moments, right, Z3sym.num_module_norm)\n",
    "    print(f_right(*args, *moments))\n",
    "\n",
    "    print()"
   ]
  },
  {
   "cell_type": "code",
   "execution_count": 84,
   "metadata": {},
   "outputs": [
    {
     "name": "stdout",
     "output_type": "stream",
     "text": [
      "-0.628904560586544\n",
      "-0.628902248401817\n",
      "-0.628902248401817\n",
      "-0.6289022484018159\n"
     ]
    }
   ],
   "source": [
    "f_expr_Q_star = sp.lambdify(args_coeffs, expr_Q_star, Z3sym.num_module_norm)\n",
    "\n",
    "args = 0.2073412, 0.13806503, 1.26262682, 0.15322752\n",
    "Q_star = nd.directionaldiff(calc_Z3_symmetrical_integrate, args, [0, 0, 1, 0], n=2)/(2*calc_Z3_symmetrical_integrate(args)) - f_expr_eta_ik(*args) - 1\n",
    "print(Q_star)\n",
    "print(f_expr_Q_star(*args))\n",
    "\n",
    "moments = f_expr_m_i(*args), f_expr_m_j(*args), f_expr_eta_ij(*args), f_expr_eta_ik(*args)\n",
    "\n",
    "f_expr_Q_star_from_m_j_eta_ij = sp.lambdify(list(args_moments) + [mj_eta_ij], expr_Q_star_from_m_j_eta_ij, Z3sym.num_module_norm)\n",
    "f_expr_m_j_eta_ij = sp.lambdify(args_moments, expr_mj_eta_ij.subs(subs_det_system_moments), Z3sym.num_module_norm)\n",
    "print(f_expr_Q_star_from_m_j_eta_ij(*args, *moments, f_expr_m_j_eta_ij(*args, *moments)))\n",
    "\n",
    "f_expr_Q_star_from_m_j_par_2 = sp.lambdify(list(args_moments) + [mjh2], expr_Q_star_from_mjh2, Z3sym.num_module_norm)\n",
    "f_expr_m_j_par_2 = sp.lambdify(args_moments, expr_mjh2.subs(subs_det_system_moments), Z3sym.num_module_norm)\n",
    "print(f_expr_Q_star_from_m_j_par_2(*args, *moments, f_expr_m_j_par_2(*args, *moments)))"
   ]
  },
  {
   "cell_type": "markdown",
   "metadata": {},
   "source": [
    "### Вырожденный случай"
   ]
  },
  {
   "cell_type": "markdown",
   "metadata": {},
   "source": [
    "#### Символьные вычисления"
   ]
  },
  {
   "cell_type": "code",
   "execution_count": 85,
   "metadata": {},
   "outputs": [],
   "source": [
    "_expr = cF3_degenerate(hi, hj, lij, lik, *(4*[0]))\n",
    "\n",
    "subs_to_cF3Function_degenerate = {\n",
    "    EFunction(hi, hj, lij, lik, 1, 1, 1): sp.solve(_expr-evaluate_cF3_degenerate(_expr), EFunction(hi, hj, lij, lik, 1, 1, 1))[0]\n",
    "}"
   ]
  },
  {
   "cell_type": "code",
   "execution_count": 86,
   "metadata": {},
   "outputs": [],
   "source": [
    "Z3_degenerate_expr = cF3_degenerate(hi, hj, lij, lik, *(4*[0]))/sp.sqrt(hi*hj*lij*lik)"
   ]
  },
  {
   "cell_type": "code",
   "execution_count": 87,
   "metadata": {},
   "outputs": [],
   "source": [
    "expr_m_i_degenerate = sp.log(Z3_degenerate_expr).diff(hi)/2\n",
    "expr_m_i_degenerate = expr_m_i_degenerate.expand()\n",
    "expr_m_i_degenerate = evaluate_cF3_degenerate(expr_m_i_degenerate)\n",
    "expr_m_i_degenerate = expr_m_i_degenerate.subs(subs_to_cF3Function_degenerate).expand()\n",
    "\n",
    "expr_m_j_degenerate = sp.log(Z3_degenerate_expr).diff(hj)\n",
    "expr_m_j_degenerate = expr_m_j_degenerate.expand()\n",
    "expr_m_j_degenerate = evaluate_cF3_degenerate(expr_m_j_degenerate)\n",
    "expr_m_j_degenerate = expr_m_j_degenerate.subs(subs_to_cF3Function_degenerate).expand()\n",
    "\n",
    "expr_eta_ij_degenerate = sp.log(Z3_degenerate_expr).diff(lij)/2\n",
    "expr_eta_ij_degenerate = expr_eta_ij_degenerate.expand()\n",
    "expr_eta_ij_degenerate = evaluate_cF3_degenerate(expr_eta_ij_degenerate)\n",
    "expr_eta_ij_degenerate = expr_eta_ij_degenerate.subs(subs_to_cF3Function_degenerate).expand()\n",
    "\n",
    "expr_eta_ik_degenerate = sp.log(Z3_degenerate_expr).diff(lik)\n",
    "expr_eta_ik_degenerate = expr_eta_ik_degenerate.expand()\n",
    "expr_eta_ik_degenerate = evaluate_cF3_degenerate(expr_eta_ik_degenerate)\n",
    "expr_eta_ik_degenerate = expr_eta_ik_degenerate.subs(subs_to_cF3Function_degenerate).expand()"
   ]
  },
  {
   "cell_type": "code",
   "execution_count": 88,
   "metadata": {},
   "outputs": [
    {
     "ename": "KeyboardInterrupt",
     "evalue": "",
     "output_type": "error",
     "traceback": [
      "\u001b[0;31m---------------------------------------------------------------------------\u001b[0m",
      "\u001b[0;31mKeyboardInterrupt\u001b[0m                         Traceback (most recent call last)",
      "Cell \u001b[0;32mIn[88], line 4\u001b[0m\n\u001b[1;32m      1\u001b[0m n, d \u001b[38;5;241m=\u001b[39m sp\u001b[38;5;241m.\u001b[39mfraction(expr_m_i_degenerate\u001b[38;5;241m.\u001b[39mfactor())\n\u001b[1;32m      2\u001b[0m _expr_mi \u001b[38;5;241m=\u001b[39m (n\u001b[38;5;241m-\u001b[39md\u001b[38;5;241m*\u001b[39mmi)\u001b[38;5;241m.\u001b[39mexpand()\n\u001b[0;32m----> 4\u001b[0m n, d \u001b[38;5;241m=\u001b[39m sp\u001b[38;5;241m.\u001b[39mfraction(\u001b[43mexpr_m_j_degenerate\u001b[49m\u001b[38;5;241;43m.\u001b[39;49m\u001b[43mfactor\u001b[49m\u001b[43m(\u001b[49m\u001b[43m)\u001b[49m)\n\u001b[1;32m      5\u001b[0m _expr_mj \u001b[38;5;241m=\u001b[39m (n\u001b[38;5;241m-\u001b[39md\u001b[38;5;241m*\u001b[39mmj)\u001b[38;5;241m.\u001b[39mexpand()\n\u001b[1;32m      7\u001b[0m n, d \u001b[38;5;241m=\u001b[39m sp\u001b[38;5;241m.\u001b[39mfraction(expr_eta_ij_degenerate\u001b[38;5;241m.\u001b[39mfactor())\n",
      "File \u001b[0;32m~/.pyenv/versions/3.11.2/lib/python3.11/site-packages/sympy/core/expr.py:3777\u001b[0m, in \u001b[0;36mExpr.factor\u001b[0;34m(self, *gens, **args)\u001b[0m\n\u001b[1;32m   3775\u001b[0m \u001b[38;5;250m\u001b[39m\u001b[38;5;124;03m\"\"\"See the factor() function in sympy.polys.polytools\"\"\"\u001b[39;00m\n\u001b[1;32m   3776\u001b[0m \u001b[38;5;28;01mfrom\u001b[39;00m \u001b[38;5;21;01msympy\u001b[39;00m\u001b[38;5;21;01m.\u001b[39;00m\u001b[38;5;21;01mpolys\u001b[39;00m\u001b[38;5;21;01m.\u001b[39;00m\u001b[38;5;21;01mpolytools\u001b[39;00m \u001b[38;5;28;01mimport\u001b[39;00m factor\n\u001b[0;32m-> 3777\u001b[0m \u001b[38;5;28;01mreturn\u001b[39;00m \u001b[43mfactor\u001b[49m\u001b[43m(\u001b[49m\u001b[38;5;28;43mself\u001b[39;49m\u001b[43m,\u001b[49m\u001b[43m \u001b[49m\u001b[38;5;241;43m*\u001b[39;49m\u001b[43mgens\u001b[49m\u001b[43m,\u001b[49m\u001b[43m \u001b[49m\u001b[38;5;241;43m*\u001b[39;49m\u001b[38;5;241;43m*\u001b[39;49m\u001b[43margs\u001b[49m\u001b[43m)\u001b[49m\n",
      "File \u001b[0;32m~/.pyenv/versions/3.11.2/lib/python3.11/site-packages/sympy/polys/polytools.py:6577\u001b[0m, in \u001b[0;36mfactor\u001b[0;34m(f, deep, *gens, **args)\u001b[0m\n\u001b[1;32m   6574\u001b[0m     \u001b[38;5;28;01mreturn\u001b[39;00m f\u001b[38;5;241m.\u001b[39mxreplace(partials)\n\u001b[1;32m   6576\u001b[0m \u001b[38;5;28;01mtry\u001b[39;00m:\n\u001b[0;32m-> 6577\u001b[0m     \u001b[38;5;28;01mreturn\u001b[39;00m \u001b[43m_generic_factor\u001b[49m\u001b[43m(\u001b[49m\u001b[43mf\u001b[49m\u001b[43m,\u001b[49m\u001b[43m \u001b[49m\u001b[43mgens\u001b[49m\u001b[43m,\u001b[49m\u001b[43m \u001b[49m\u001b[43margs\u001b[49m\u001b[43m,\u001b[49m\u001b[43m \u001b[49m\u001b[43mmethod\u001b[49m\u001b[38;5;241;43m=\u001b[39;49m\u001b[38;5;124;43m'\u001b[39;49m\u001b[38;5;124;43mfactor\u001b[39;49m\u001b[38;5;124;43m'\u001b[39;49m\u001b[43m)\u001b[49m\n\u001b[1;32m   6578\u001b[0m \u001b[38;5;28;01mexcept\u001b[39;00m PolynomialError:\n\u001b[1;32m   6579\u001b[0m     \u001b[38;5;28;01mif\u001b[39;00m \u001b[38;5;129;01mnot\u001b[39;00m f\u001b[38;5;241m.\u001b[39mis_commutative:\n",
      "File \u001b[0;32m~/.pyenv/versions/3.11.2/lib/python3.11/site-packages/sympy/polys/polytools.py:6258\u001b[0m, in \u001b[0;36m_generic_factor\u001b[0;34m(expr, gens, args, method)\u001b[0m\n\u001b[1;32m   6256\u001b[0m opt \u001b[38;5;241m=\u001b[39m options\u001b[38;5;241m.\u001b[39mbuild_options(gens, args)\n\u001b[1;32m   6257\u001b[0m opt[\u001b[38;5;124m'\u001b[39m\u001b[38;5;124mfraction\u001b[39m\u001b[38;5;124m'\u001b[39m] \u001b[38;5;241m=\u001b[39m fraction\n\u001b[0;32m-> 6258\u001b[0m \u001b[38;5;28;01mreturn\u001b[39;00m \u001b[43m_symbolic_factor\u001b[49m\u001b[43m(\u001b[49m\u001b[43msympify\u001b[49m\u001b[43m(\u001b[49m\u001b[43mexpr\u001b[49m\u001b[43m)\u001b[49m\u001b[43m,\u001b[49m\u001b[43m \u001b[49m\u001b[43mopt\u001b[49m\u001b[43m,\u001b[49m\u001b[43m \u001b[49m\u001b[43mmethod\u001b[49m\u001b[43m)\u001b[49m\n",
      "File \u001b[0;32m~/.pyenv/versions/3.11.2/lib/python3.11/site-packages/sympy/polys/polytools.py:6198\u001b[0m, in \u001b[0;36m_symbolic_factor\u001b[0;34m(expr, opt, method)\u001b[0m\n\u001b[1;32m   6196\u001b[0m     \u001b[38;5;28;01mif\u001b[39;00m \u001b[38;5;28mhasattr\u001b[39m(expr,\u001b[38;5;124m'\u001b[39m\u001b[38;5;124m_eval_factor\u001b[39m\u001b[38;5;124m'\u001b[39m):\n\u001b[1;32m   6197\u001b[0m         \u001b[38;5;28;01mreturn\u001b[39;00m expr\u001b[38;5;241m.\u001b[39m_eval_factor()\n\u001b[0;32m-> 6198\u001b[0m     coeff, factors \u001b[38;5;241m=\u001b[39m \u001b[43m_symbolic_factor_list\u001b[49m\u001b[43m(\u001b[49m\u001b[43mtogether\u001b[49m\u001b[43m(\u001b[49m\u001b[43mexpr\u001b[49m\u001b[43m,\u001b[49m\u001b[43m \u001b[49m\u001b[43mfraction\u001b[49m\u001b[38;5;241;43m=\u001b[39;49m\u001b[43mopt\u001b[49m\u001b[43m[\u001b[49m\u001b[38;5;124;43m'\u001b[39;49m\u001b[38;5;124;43mfraction\u001b[39;49m\u001b[38;5;124;43m'\u001b[39;49m\u001b[43m]\u001b[49m\u001b[43m)\u001b[49m\u001b[43m,\u001b[49m\u001b[43m \u001b[49m\u001b[43mopt\u001b[49m\u001b[43m,\u001b[49m\u001b[43m \u001b[49m\u001b[43mmethod\u001b[49m\u001b[43m)\u001b[49m\n\u001b[1;32m   6199\u001b[0m     \u001b[38;5;28;01mreturn\u001b[39;00m _keep_coeff(coeff, _factors_product(factors))\n\u001b[1;32m   6200\u001b[0m \u001b[38;5;28;01melif\u001b[39;00m \u001b[38;5;28mhasattr\u001b[39m(expr, \u001b[38;5;124m'\u001b[39m\u001b[38;5;124margs\u001b[39m\u001b[38;5;124m'\u001b[39m):\n",
      "File \u001b[0;32m~/.pyenv/versions/3.11.2/lib/python3.11/site-packages/sympy/polys/polytools.py:6163\u001b[0m, in \u001b[0;36m_symbolic_factor_list\u001b[0;34m(expr, opt, method)\u001b[0m\n\u001b[1;32m   6160\u001b[0m \u001b[38;5;28;01melse\u001b[39;00m:\n\u001b[1;32m   6161\u001b[0m     func \u001b[38;5;241m=\u001b[39m \u001b[38;5;28mgetattr\u001b[39m(poly, method \u001b[38;5;241m+\u001b[39m \u001b[38;5;124m'\u001b[39m\u001b[38;5;124m_list\u001b[39m\u001b[38;5;124m'\u001b[39m)\n\u001b[0;32m-> 6163\u001b[0m     _coeff, _factors \u001b[38;5;241m=\u001b[39m \u001b[43mfunc\u001b[49m\u001b[43m(\u001b[49m\u001b[43m)\u001b[49m\n\u001b[1;32m   6164\u001b[0m     \u001b[38;5;28;01mif\u001b[39;00m _coeff \u001b[38;5;129;01mis\u001b[39;00m \u001b[38;5;129;01mnot\u001b[39;00m S\u001b[38;5;241m.\u001b[39mOne:\n\u001b[1;32m   6165\u001b[0m         \u001b[38;5;28;01mif\u001b[39;00m exp\u001b[38;5;241m.\u001b[39mis_Integer:\n",
      "File \u001b[0;32m~/.pyenv/versions/3.11.2/lib/python3.11/site-packages/sympy/polys/polytools.py:3378\u001b[0m, in \u001b[0;36mPoly.factor_list\u001b[0;34m(f)\u001b[0m\n\u001b[1;32m   3376\u001b[0m \u001b[38;5;28;01mif\u001b[39;00m \u001b[38;5;28mhasattr\u001b[39m(f\u001b[38;5;241m.\u001b[39mrep, \u001b[38;5;124m'\u001b[39m\u001b[38;5;124mfactor_list\u001b[39m\u001b[38;5;124m'\u001b[39m):\n\u001b[1;32m   3377\u001b[0m     \u001b[38;5;28;01mtry\u001b[39;00m:\n\u001b[0;32m-> 3378\u001b[0m         coeff, factors \u001b[38;5;241m=\u001b[39m \u001b[43mf\u001b[49m\u001b[38;5;241;43m.\u001b[39;49m\u001b[43mrep\u001b[49m\u001b[38;5;241;43m.\u001b[39;49m\u001b[43mfactor_list\u001b[49m\u001b[43m(\u001b[49m\u001b[43m)\u001b[49m\n\u001b[1;32m   3379\u001b[0m     \u001b[38;5;28;01mexcept\u001b[39;00m DomainError:\n\u001b[1;32m   3380\u001b[0m         \u001b[38;5;28;01mif\u001b[39;00m f\u001b[38;5;241m.\u001b[39mdegree() \u001b[38;5;241m==\u001b[39m \u001b[38;5;241m0\u001b[39m:\n",
      "File \u001b[0;32m~/.pyenv/versions/3.11.2/lib/python3.11/site-packages/sympy/polys/polyclasses.py:1637\u001b[0m, in \u001b[0;36mDMP_Python.factor_list\u001b[0;34m(f)\u001b[0m\n\u001b[1;32m   1635\u001b[0m \u001b[38;5;28;01mdef\u001b[39;00m \u001b[38;5;21mfactor_list\u001b[39m(f):\n\u001b[1;32m   1636\u001b[0m \u001b[38;5;250m    \u001b[39m\u001b[38;5;124;03m\"\"\"Returns a list of irreducible factors of ``f``. \"\"\"\u001b[39;00m\n\u001b[0;32m-> 1637\u001b[0m     coeff, factors \u001b[38;5;241m=\u001b[39m \u001b[43mdmp_factor_list\u001b[49m\u001b[43m(\u001b[49m\u001b[43mf\u001b[49m\u001b[38;5;241;43m.\u001b[39;49m\u001b[43m_rep\u001b[49m\u001b[43m,\u001b[49m\u001b[43m \u001b[49m\u001b[43mf\u001b[49m\u001b[38;5;241;43m.\u001b[39;49m\u001b[43mlev\u001b[49m\u001b[43m,\u001b[49m\u001b[43m \u001b[49m\u001b[43mf\u001b[49m\u001b[38;5;241;43m.\u001b[39;49m\u001b[43mdom\u001b[49m\u001b[43m)\u001b[49m\n\u001b[1;32m   1638\u001b[0m     \u001b[38;5;28;01mreturn\u001b[39;00m coeff, [ (f\u001b[38;5;241m.\u001b[39mper(g), k) \u001b[38;5;28;01mfor\u001b[39;00m g, k \u001b[38;5;129;01min\u001b[39;00m factors ]\n",
      "File \u001b[0;32m~/.pyenv/versions/3.11.2/lib/python3.11/site-packages/sympy/polys/factortools.py:1569\u001b[0m, in \u001b[0;36mdmp_factor_list\u001b[0;34m(f, u, K0)\u001b[0m\n\u001b[1;32m   1567\u001b[0m \u001b[38;5;28;01mif\u001b[39;00m K\u001b[38;5;241m.\u001b[39mis_ZZ:\n\u001b[1;32m   1568\u001b[0m     levels, f, v \u001b[38;5;241m=\u001b[39m dmp_exclude(f, u, K)\n\u001b[0;32m-> 1569\u001b[0m     coeff, factors \u001b[38;5;241m=\u001b[39m \u001b[43mdmp_zz_factor\u001b[49m\u001b[43m(\u001b[49m\u001b[43mf\u001b[49m\u001b[43m,\u001b[49m\u001b[43m \u001b[49m\u001b[43mv\u001b[49m\u001b[43m,\u001b[49m\u001b[43m \u001b[49m\u001b[43mK\u001b[49m\u001b[43m)\u001b[49m\n\u001b[1;32m   1571\u001b[0m     \u001b[38;5;28;01mfor\u001b[39;00m i, (f, k) \u001b[38;5;129;01min\u001b[39;00m \u001b[38;5;28menumerate\u001b[39m(factors):\n\u001b[1;32m   1572\u001b[0m         factors[i] \u001b[38;5;241m=\u001b[39m (dmp_include(f, levels, v, K), k)\n",
      "File \u001b[0;32m~/.pyenv/versions/3.11.2/lib/python3.11/site-packages/sympy/polys/factortools.py:1188\u001b[0m, in \u001b[0;36mdmp_zz_factor\u001b[0;34m(f, u, K)\u001b[0m\n\u001b[1;32m   1185\u001b[0m factors \u001b[38;5;241m=\u001b[39m []\n\u001b[1;32m   1187\u001b[0m \u001b[38;5;28;01mif\u001b[39;00m dmp_degree(g, u) \u001b[38;5;241m>\u001b[39m \u001b[38;5;241m0\u001b[39m:\n\u001b[0;32m-> 1188\u001b[0m     g \u001b[38;5;241m=\u001b[39m \u001b[43mdmp_sqf_part\u001b[49m\u001b[43m(\u001b[49m\u001b[43mg\u001b[49m\u001b[43m,\u001b[49m\u001b[43m \u001b[49m\u001b[43mu\u001b[49m\u001b[43m,\u001b[49m\u001b[43m \u001b[49m\u001b[43mK\u001b[49m\u001b[43m)\u001b[49m\n\u001b[1;32m   1189\u001b[0m     H \u001b[38;5;241m=\u001b[39m dmp_zz_wang(g, u, K)\n\u001b[1;32m   1190\u001b[0m     factors \u001b[38;5;241m=\u001b[39m dmp_trial_division(f, H, u, K)\n",
      "File \u001b[0;32m~/.pyenv/versions/3.11.2/lib/python3.11/site-packages/sympy/polys/sqfreetools.py:470\u001b[0m, in \u001b[0;36mdmp_sqf_part\u001b[0;34m(f, u, K)\u001b[0m\n\u001b[1;32m    468\u001b[0m gcd \u001b[38;5;241m=\u001b[39m f\n\u001b[1;32m    469\u001b[0m \u001b[38;5;28;01mfor\u001b[39;00m i \u001b[38;5;129;01min\u001b[39;00m \u001b[38;5;28mrange\u001b[39m(u\u001b[38;5;241m+\u001b[39m\u001b[38;5;241m1\u001b[39m):\n\u001b[0;32m--> 470\u001b[0m     gcd \u001b[38;5;241m=\u001b[39m \u001b[43mdmp_gcd\u001b[49m\u001b[43m(\u001b[49m\u001b[43mgcd\u001b[49m\u001b[43m,\u001b[49m\u001b[43m \u001b[49m\u001b[43mdmp_diff_in\u001b[49m\u001b[43m(\u001b[49m\u001b[43mf\u001b[49m\u001b[43m,\u001b[49m\u001b[43m \u001b[49m\u001b[38;5;241;43m1\u001b[39;49m\u001b[43m,\u001b[49m\u001b[43m \u001b[49m\u001b[43mi\u001b[49m\u001b[43m,\u001b[49m\u001b[43m \u001b[49m\u001b[43mu\u001b[49m\u001b[43m,\u001b[49m\u001b[43m \u001b[49m\u001b[43mK\u001b[49m\u001b[43m)\u001b[49m\u001b[43m,\u001b[49m\u001b[43m \u001b[49m\u001b[43mu\u001b[49m\u001b[43m,\u001b[49m\u001b[43m \u001b[49m\u001b[43mK\u001b[49m\u001b[43m)\u001b[49m\n\u001b[1;32m    471\u001b[0m sqf \u001b[38;5;241m=\u001b[39m dmp_quo(f, gcd, u, K)\n\u001b[1;32m    473\u001b[0m \u001b[38;5;28;01mif\u001b[39;00m K\u001b[38;5;241m.\u001b[39mis_Field:\n",
      "File \u001b[0;32m~/.pyenv/versions/3.11.2/lib/python3.11/site-packages/sympy/polys/euclidtools.py:1639\u001b[0m, in \u001b[0;36mdmp_gcd\u001b[0;34m(f, g, u, K)\u001b[0m\n\u001b[1;32m   1622\u001b[0m \u001b[38;5;28;01mdef\u001b[39;00m \u001b[38;5;21mdmp_gcd\u001b[39m(f, g, u, K):\n\u001b[1;32m   1623\u001b[0m \u001b[38;5;250m    \u001b[39m\u001b[38;5;124;03m\"\"\"\u001b[39;00m\n\u001b[1;32m   1624\u001b[0m \u001b[38;5;124;03m    Computes polynomial GCD of `f` and `g` in `K[X]`.\u001b[39;00m\n\u001b[1;32m   1625\u001b[0m \n\u001b[0;32m   (...)\u001b[0m\n\u001b[1;32m   1637\u001b[0m \n\u001b[1;32m   1638\u001b[0m \u001b[38;5;124;03m    \"\"\"\u001b[39;00m\n\u001b[0;32m-> 1639\u001b[0m     \u001b[38;5;28;01mreturn\u001b[39;00m \u001b[43mdmp_inner_gcd\u001b[49m\u001b[43m(\u001b[49m\u001b[43mf\u001b[49m\u001b[43m,\u001b[49m\u001b[43m \u001b[49m\u001b[43mg\u001b[49m\u001b[43m,\u001b[49m\u001b[43m \u001b[49m\u001b[43mu\u001b[49m\u001b[43m,\u001b[49m\u001b[43m \u001b[49m\u001b[43mK\u001b[49m\u001b[43m)\u001b[49m[\u001b[38;5;241m0\u001b[39m]\n",
      "File \u001b[0;32m~/.pyenv/versions/3.11.2/lib/python3.11/site-packages/sympy/polys/euclidtools.py:1598\u001b[0m, in \u001b[0;36mdmp_inner_gcd\u001b[0;34m(f, g, u, K)\u001b[0m\n\u001b[1;32m   1595\u001b[0m     \u001b[38;5;28;01mreturn\u001b[39;00m dup_inner_gcd(f, g, K)\n\u001b[1;32m   1597\u001b[0m J, (f, g) \u001b[38;5;241m=\u001b[39m dmp_multi_deflate((f, g), u, K)\n\u001b[0;32m-> 1598\u001b[0m h, cff, cfg \u001b[38;5;241m=\u001b[39m \u001b[43m_dmp_inner_gcd\u001b[49m\u001b[43m(\u001b[49m\u001b[43mf\u001b[49m\u001b[43m,\u001b[49m\u001b[43m \u001b[49m\u001b[43mg\u001b[49m\u001b[43m,\u001b[49m\u001b[43m \u001b[49m\u001b[43mu\u001b[49m\u001b[43m,\u001b[49m\u001b[43m \u001b[49m\u001b[43mK\u001b[49m\u001b[43m)\u001b[49m\n\u001b[1;32m   1600\u001b[0m \u001b[38;5;28;01mreturn\u001b[39;00m (dmp_inflate(h, J, u, K),\n\u001b[1;32m   1601\u001b[0m         dmp_inflate(cff, J, u, K),\n\u001b[1;32m   1602\u001b[0m         dmp_inflate(cfg, J, u, K))\n",
      "File \u001b[0;32m~/.pyenv/versions/3.11.2/lib/python3.11/site-packages/sympy/polys/euclidtools.py:1567\u001b[0m, in \u001b[0;36m_dmp_inner_gcd\u001b[0;34m(f, g, u, K)\u001b[0m\n\u001b[1;32m   1565\u001b[0m \u001b[38;5;28;01mif\u001b[39;00m K\u001b[38;5;241m.\u001b[39mis_ZZ \u001b[38;5;129;01mand\u001b[39;00m query(\u001b[38;5;124m'\u001b[39m\u001b[38;5;124mUSE_HEU_GCD\u001b[39m\u001b[38;5;124m'\u001b[39m):\n\u001b[1;32m   1566\u001b[0m     \u001b[38;5;28;01mtry\u001b[39;00m:\n\u001b[0;32m-> 1567\u001b[0m         \u001b[38;5;28;01mreturn\u001b[39;00m \u001b[43mdmp_zz_heu_gcd\u001b[49m\u001b[43m(\u001b[49m\u001b[43mf\u001b[49m\u001b[43m,\u001b[49m\u001b[43m \u001b[49m\u001b[43mg\u001b[49m\u001b[43m,\u001b[49m\u001b[43m \u001b[49m\u001b[43mu\u001b[49m\u001b[43m,\u001b[49m\u001b[43m \u001b[49m\u001b[43mK\u001b[49m\u001b[43m)\u001b[49m\n\u001b[1;32m   1568\u001b[0m     \u001b[38;5;28;01mexcept\u001b[39;00m HeuristicGCDFailed:\n\u001b[1;32m   1569\u001b[0m         \u001b[38;5;28;01mpass\u001b[39;00m\n",
      "File \u001b[0;32m~/.pyenv/versions/3.11.2/lib/python3.11/site-packages/sympy/polys/euclidtools.py:1313\u001b[0m, in \u001b[0;36mdmp_zz_heu_gcd\u001b[0;34m(f, g, u, K)\u001b[0m\n\u001b[1;32m   1310\u001b[0m \u001b[38;5;28;01mif\u001b[39;00m \u001b[38;5;129;01mnot\u001b[39;00m u:\n\u001b[1;32m   1311\u001b[0m     \u001b[38;5;28;01mreturn\u001b[39;00m dup_zz_heu_gcd(f, g, K)\n\u001b[0;32m-> 1313\u001b[0m result \u001b[38;5;241m=\u001b[39m \u001b[43m_dmp_rr_trivial_gcd\u001b[49m\u001b[43m(\u001b[49m\u001b[43mf\u001b[49m\u001b[43m,\u001b[49m\u001b[43m \u001b[49m\u001b[43mg\u001b[49m\u001b[43m,\u001b[49m\u001b[43m \u001b[49m\u001b[43mu\u001b[49m\u001b[43m,\u001b[49m\u001b[43m \u001b[49m\u001b[43mK\u001b[49m\u001b[43m)\u001b[49m\n\u001b[1;32m   1315\u001b[0m \u001b[38;5;28;01mif\u001b[39;00m result \u001b[38;5;129;01mis\u001b[39;00m \u001b[38;5;129;01mnot\u001b[39;00m \u001b[38;5;28;01mNone\u001b[39;00m:\n\u001b[1;32m   1316\u001b[0m     \u001b[38;5;28;01mreturn\u001b[39;00m result\n",
      "File \u001b[0;32m~/.pyenv/versions/3.11.2/lib/python3.11/site-packages/sympy/polys/euclidtools.py:912\u001b[0m, in \u001b[0;36m_dmp_rr_trivial_gcd\u001b[0;34m(f, g, u, K)\u001b[0m\n\u001b[1;32m    910\u001b[0m     \u001b[38;5;28;01mreturn\u001b[39;00m dmp_one(u, K), f, g\n\u001b[1;32m    911\u001b[0m \u001b[38;5;28;01melif\u001b[39;00m query(\u001b[38;5;124m'\u001b[39m\u001b[38;5;124mUSE_SIMPLIFY_GCD\u001b[39m\u001b[38;5;124m'\u001b[39m):\n\u001b[0;32m--> 912\u001b[0m     \u001b[38;5;28;01mreturn\u001b[39;00m \u001b[43m_dmp_simplify_gcd\u001b[49m\u001b[43m(\u001b[49m\u001b[43mf\u001b[49m\u001b[43m,\u001b[49m\u001b[43m \u001b[49m\u001b[43mg\u001b[49m\u001b[43m,\u001b[49m\u001b[43m \u001b[49m\u001b[43mu\u001b[49m\u001b[43m,\u001b[49m\u001b[43m \u001b[49m\u001b[43mK\u001b[49m\u001b[43m)\u001b[49m\n\u001b[1;32m    913\u001b[0m \u001b[38;5;28;01melse\u001b[39;00m:\n\u001b[1;32m    914\u001b[0m     \u001b[38;5;28;01mreturn\u001b[39;00m \u001b[38;5;28;01mNone\u001b[39;00m\n",
      "File \u001b[0;32m~/.pyenv/versions/3.11.2/lib/python3.11/site-packages/sympy/polys/euclidtools.py:954\u001b[0m, in \u001b[0;36m_dmp_simplify_gcd\u001b[0;34m(f, g, u, K)\u001b[0m\n\u001b[1;32m    952\u001b[0m         G \u001b[38;5;241m=\u001b[39m dmp_content(g, u, K)\n\u001b[1;32m    953\u001b[0m     \u001b[38;5;28;01melse\u001b[39;00m:\n\u001b[0;32m--> 954\u001b[0m         F \u001b[38;5;241m=\u001b[39m \u001b[43mdmp_content\u001b[49m\u001b[43m(\u001b[49m\u001b[43mf\u001b[49m\u001b[43m,\u001b[49m\u001b[43m \u001b[49m\u001b[43mu\u001b[49m\u001b[43m,\u001b[49m\u001b[43m \u001b[49m\u001b[43mK\u001b[49m\u001b[43m)\u001b[49m\n\u001b[1;32m    955\u001b[0m         G \u001b[38;5;241m=\u001b[39m dmp_LC(g, K)\n\u001b[1;32m    957\u001b[0m v \u001b[38;5;241m=\u001b[39m u \u001b[38;5;241m-\u001b[39m \u001b[38;5;241m1\u001b[39m\n",
      "File \u001b[0;32m~/.pyenv/versions/3.11.2/lib/python3.11/site-packages/sympy/polys/euclidtools.py:1812\u001b[0m, in \u001b[0;36mdmp_content\u001b[0;34m(f, u, K)\u001b[0m\n\u001b[1;32m   1809\u001b[0m     \u001b[38;5;28;01mreturn\u001b[39;00m cont\n\u001b[1;32m   1811\u001b[0m \u001b[38;5;28;01mfor\u001b[39;00m c \u001b[38;5;129;01min\u001b[39;00m f[\u001b[38;5;241m1\u001b[39m:]:\n\u001b[0;32m-> 1812\u001b[0m     cont \u001b[38;5;241m=\u001b[39m \u001b[43mdmp_gcd\u001b[49m\u001b[43m(\u001b[49m\u001b[43mcont\u001b[49m\u001b[43m,\u001b[49m\u001b[43m \u001b[49m\u001b[43mc\u001b[49m\u001b[43m,\u001b[49m\u001b[43m \u001b[49m\u001b[43mv\u001b[49m\u001b[43m,\u001b[49m\u001b[43m \u001b[49m\u001b[43mK\u001b[49m\u001b[43m)\u001b[49m\n\u001b[1;32m   1814\u001b[0m     \u001b[38;5;28;01mif\u001b[39;00m dmp_one_p(cont, v, K):\n\u001b[1;32m   1815\u001b[0m         \u001b[38;5;28;01mbreak\u001b[39;00m\n",
      "File \u001b[0;32m~/.pyenv/versions/3.11.2/lib/python3.11/site-packages/sympy/polys/euclidtools.py:1639\u001b[0m, in \u001b[0;36mdmp_gcd\u001b[0;34m(f, g, u, K)\u001b[0m\n\u001b[1;32m   1622\u001b[0m \u001b[38;5;28;01mdef\u001b[39;00m \u001b[38;5;21mdmp_gcd\u001b[39m(f, g, u, K):\n\u001b[1;32m   1623\u001b[0m \u001b[38;5;250m    \u001b[39m\u001b[38;5;124;03m\"\"\"\u001b[39;00m\n\u001b[1;32m   1624\u001b[0m \u001b[38;5;124;03m    Computes polynomial GCD of `f` and `g` in `K[X]`.\u001b[39;00m\n\u001b[1;32m   1625\u001b[0m \n\u001b[0;32m   (...)\u001b[0m\n\u001b[1;32m   1637\u001b[0m \n\u001b[1;32m   1638\u001b[0m \u001b[38;5;124;03m    \"\"\"\u001b[39;00m\n\u001b[0;32m-> 1639\u001b[0m     \u001b[38;5;28;01mreturn\u001b[39;00m \u001b[43mdmp_inner_gcd\u001b[49m\u001b[43m(\u001b[49m\u001b[43mf\u001b[49m\u001b[43m,\u001b[49m\u001b[43m \u001b[49m\u001b[43mg\u001b[49m\u001b[43m,\u001b[49m\u001b[43m \u001b[49m\u001b[43mu\u001b[49m\u001b[43m,\u001b[49m\u001b[43m \u001b[49m\u001b[43mK\u001b[49m\u001b[43m)\u001b[49m[\u001b[38;5;241m0\u001b[39m]\n",
      "File \u001b[0;32m~/.pyenv/versions/3.11.2/lib/python3.11/site-packages/sympy/polys/euclidtools.py:1598\u001b[0m, in \u001b[0;36mdmp_inner_gcd\u001b[0;34m(f, g, u, K)\u001b[0m\n\u001b[1;32m   1595\u001b[0m     \u001b[38;5;28;01mreturn\u001b[39;00m dup_inner_gcd(f, g, K)\n\u001b[1;32m   1597\u001b[0m J, (f, g) \u001b[38;5;241m=\u001b[39m dmp_multi_deflate((f, g), u, K)\n\u001b[0;32m-> 1598\u001b[0m h, cff, cfg \u001b[38;5;241m=\u001b[39m \u001b[43m_dmp_inner_gcd\u001b[49m\u001b[43m(\u001b[49m\u001b[43mf\u001b[49m\u001b[43m,\u001b[49m\u001b[43m \u001b[49m\u001b[43mg\u001b[49m\u001b[43m,\u001b[49m\u001b[43m \u001b[49m\u001b[43mu\u001b[49m\u001b[43m,\u001b[49m\u001b[43m \u001b[49m\u001b[43mK\u001b[49m\u001b[43m)\u001b[49m\n\u001b[1;32m   1600\u001b[0m \u001b[38;5;28;01mreturn\u001b[39;00m (dmp_inflate(h, J, u, K),\n\u001b[1;32m   1601\u001b[0m         dmp_inflate(cff, J, u, K),\n\u001b[1;32m   1602\u001b[0m         dmp_inflate(cfg, J, u, K))\n",
      "File \u001b[0;32m~/.pyenv/versions/3.11.2/lib/python3.11/site-packages/sympy/polys/euclidtools.py:1567\u001b[0m, in \u001b[0;36m_dmp_inner_gcd\u001b[0;34m(f, g, u, K)\u001b[0m\n\u001b[1;32m   1565\u001b[0m \u001b[38;5;28;01mif\u001b[39;00m K\u001b[38;5;241m.\u001b[39mis_ZZ \u001b[38;5;129;01mand\u001b[39;00m query(\u001b[38;5;124m'\u001b[39m\u001b[38;5;124mUSE_HEU_GCD\u001b[39m\u001b[38;5;124m'\u001b[39m):\n\u001b[1;32m   1566\u001b[0m     \u001b[38;5;28;01mtry\u001b[39;00m:\n\u001b[0;32m-> 1567\u001b[0m         \u001b[38;5;28;01mreturn\u001b[39;00m \u001b[43mdmp_zz_heu_gcd\u001b[49m\u001b[43m(\u001b[49m\u001b[43mf\u001b[49m\u001b[43m,\u001b[49m\u001b[43m \u001b[49m\u001b[43mg\u001b[49m\u001b[43m,\u001b[49m\u001b[43m \u001b[49m\u001b[43mu\u001b[49m\u001b[43m,\u001b[49m\u001b[43m \u001b[49m\u001b[43mK\u001b[49m\u001b[43m)\u001b[49m\n\u001b[1;32m   1568\u001b[0m     \u001b[38;5;28;01mexcept\u001b[39;00m HeuristicGCDFailed:\n\u001b[1;32m   1569\u001b[0m         \u001b[38;5;28;01mpass\u001b[39;00m\n",
      "File \u001b[0;32m~/.pyenv/versions/3.11.2/lib/python3.11/site-packages/sympy/polys/euclidtools.py:1313\u001b[0m, in \u001b[0;36mdmp_zz_heu_gcd\u001b[0;34m(f, g, u, K)\u001b[0m\n\u001b[1;32m   1310\u001b[0m \u001b[38;5;28;01mif\u001b[39;00m \u001b[38;5;129;01mnot\u001b[39;00m u:\n\u001b[1;32m   1311\u001b[0m     \u001b[38;5;28;01mreturn\u001b[39;00m dup_zz_heu_gcd(f, g, K)\n\u001b[0;32m-> 1313\u001b[0m result \u001b[38;5;241m=\u001b[39m \u001b[43m_dmp_rr_trivial_gcd\u001b[49m\u001b[43m(\u001b[49m\u001b[43mf\u001b[49m\u001b[43m,\u001b[49m\u001b[43m \u001b[49m\u001b[43mg\u001b[49m\u001b[43m,\u001b[49m\u001b[43m \u001b[49m\u001b[43mu\u001b[49m\u001b[43m,\u001b[49m\u001b[43m \u001b[49m\u001b[43mK\u001b[49m\u001b[43m)\u001b[49m\n\u001b[1;32m   1315\u001b[0m \u001b[38;5;28;01mif\u001b[39;00m result \u001b[38;5;129;01mis\u001b[39;00m \u001b[38;5;129;01mnot\u001b[39;00m \u001b[38;5;28;01mNone\u001b[39;00m:\n\u001b[1;32m   1316\u001b[0m     \u001b[38;5;28;01mreturn\u001b[39;00m result\n",
      "File \u001b[0;32m~/.pyenv/versions/3.11.2/lib/python3.11/site-packages/sympy/polys/euclidtools.py:912\u001b[0m, in \u001b[0;36m_dmp_rr_trivial_gcd\u001b[0;34m(f, g, u, K)\u001b[0m\n\u001b[1;32m    910\u001b[0m     \u001b[38;5;28;01mreturn\u001b[39;00m dmp_one(u, K), f, g\n\u001b[1;32m    911\u001b[0m \u001b[38;5;28;01melif\u001b[39;00m query(\u001b[38;5;124m'\u001b[39m\u001b[38;5;124mUSE_SIMPLIFY_GCD\u001b[39m\u001b[38;5;124m'\u001b[39m):\n\u001b[0;32m--> 912\u001b[0m     \u001b[38;5;28;01mreturn\u001b[39;00m \u001b[43m_dmp_simplify_gcd\u001b[49m\u001b[43m(\u001b[49m\u001b[43mf\u001b[49m\u001b[43m,\u001b[49m\u001b[43m \u001b[49m\u001b[43mg\u001b[49m\u001b[43m,\u001b[49m\u001b[43m \u001b[49m\u001b[43mu\u001b[49m\u001b[43m,\u001b[49m\u001b[43m \u001b[49m\u001b[43mK\u001b[49m\u001b[43m)\u001b[49m\n\u001b[1;32m    913\u001b[0m \u001b[38;5;28;01melse\u001b[39;00m:\n\u001b[1;32m    914\u001b[0m     \u001b[38;5;28;01mreturn\u001b[39;00m \u001b[38;5;28;01mNone\u001b[39;00m\n",
      "File \u001b[0;32m~/.pyenv/versions/3.11.2/lib/python3.11/site-packages/sympy/polys/euclidtools.py:952\u001b[0m, in \u001b[0;36m_dmp_simplify_gcd\u001b[0;34m(f, g, u, K)\u001b[0m\n\u001b[1;32m    950\u001b[0m \u001b[38;5;28;01mif\u001b[39;00m \u001b[38;5;129;01mnot\u001b[39;00m df:\n\u001b[1;32m    951\u001b[0m     F \u001b[38;5;241m=\u001b[39m dmp_LC(f, K)\n\u001b[0;32m--> 952\u001b[0m     G \u001b[38;5;241m=\u001b[39m \u001b[43mdmp_content\u001b[49m\u001b[43m(\u001b[49m\u001b[43mg\u001b[49m\u001b[43m,\u001b[49m\u001b[43m \u001b[49m\u001b[43mu\u001b[49m\u001b[43m,\u001b[49m\u001b[43m \u001b[49m\u001b[43mK\u001b[49m\u001b[43m)\u001b[49m\n\u001b[1;32m    953\u001b[0m \u001b[38;5;28;01melse\u001b[39;00m:\n\u001b[1;32m    954\u001b[0m     F \u001b[38;5;241m=\u001b[39m dmp_content(f, u, K)\n",
      "File \u001b[0;32m~/.pyenv/versions/3.11.2/lib/python3.11/site-packages/sympy/polys/euclidtools.py:1812\u001b[0m, in \u001b[0;36mdmp_content\u001b[0;34m(f, u, K)\u001b[0m\n\u001b[1;32m   1809\u001b[0m     \u001b[38;5;28;01mreturn\u001b[39;00m cont\n\u001b[1;32m   1811\u001b[0m \u001b[38;5;28;01mfor\u001b[39;00m c \u001b[38;5;129;01min\u001b[39;00m f[\u001b[38;5;241m1\u001b[39m:]:\n\u001b[0;32m-> 1812\u001b[0m     cont \u001b[38;5;241m=\u001b[39m \u001b[43mdmp_gcd\u001b[49m\u001b[43m(\u001b[49m\u001b[43mcont\u001b[49m\u001b[43m,\u001b[49m\u001b[43m \u001b[49m\u001b[43mc\u001b[49m\u001b[43m,\u001b[49m\u001b[43m \u001b[49m\u001b[43mv\u001b[49m\u001b[43m,\u001b[49m\u001b[43m \u001b[49m\u001b[43mK\u001b[49m\u001b[43m)\u001b[49m\n\u001b[1;32m   1814\u001b[0m     \u001b[38;5;28;01mif\u001b[39;00m dmp_one_p(cont, v, K):\n\u001b[1;32m   1815\u001b[0m         \u001b[38;5;28;01mbreak\u001b[39;00m\n",
      "File \u001b[0;32m~/.pyenv/versions/3.11.2/lib/python3.11/site-packages/sympy/polys/euclidtools.py:1639\u001b[0m, in \u001b[0;36mdmp_gcd\u001b[0;34m(f, g, u, K)\u001b[0m\n\u001b[1;32m   1622\u001b[0m \u001b[38;5;28;01mdef\u001b[39;00m \u001b[38;5;21mdmp_gcd\u001b[39m(f, g, u, K):\n\u001b[1;32m   1623\u001b[0m \u001b[38;5;250m    \u001b[39m\u001b[38;5;124;03m\"\"\"\u001b[39;00m\n\u001b[1;32m   1624\u001b[0m \u001b[38;5;124;03m    Computes polynomial GCD of `f` and `g` in `K[X]`.\u001b[39;00m\n\u001b[1;32m   1625\u001b[0m \n\u001b[0;32m   (...)\u001b[0m\n\u001b[1;32m   1637\u001b[0m \n\u001b[1;32m   1638\u001b[0m \u001b[38;5;124;03m    \"\"\"\u001b[39;00m\n\u001b[0;32m-> 1639\u001b[0m     \u001b[38;5;28;01mreturn\u001b[39;00m \u001b[43mdmp_inner_gcd\u001b[49m\u001b[43m(\u001b[49m\u001b[43mf\u001b[49m\u001b[43m,\u001b[49m\u001b[43m \u001b[49m\u001b[43mg\u001b[49m\u001b[43m,\u001b[49m\u001b[43m \u001b[49m\u001b[43mu\u001b[49m\u001b[43m,\u001b[49m\u001b[43m \u001b[49m\u001b[43mK\u001b[49m\u001b[43m)\u001b[49m[\u001b[38;5;241m0\u001b[39m]\n",
      "File \u001b[0;32m~/.pyenv/versions/3.11.2/lib/python3.11/site-packages/sympy/polys/euclidtools.py:1598\u001b[0m, in \u001b[0;36mdmp_inner_gcd\u001b[0;34m(f, g, u, K)\u001b[0m\n\u001b[1;32m   1595\u001b[0m     \u001b[38;5;28;01mreturn\u001b[39;00m dup_inner_gcd(f, g, K)\n\u001b[1;32m   1597\u001b[0m J, (f, g) \u001b[38;5;241m=\u001b[39m dmp_multi_deflate((f, g), u, K)\n\u001b[0;32m-> 1598\u001b[0m h, cff, cfg \u001b[38;5;241m=\u001b[39m \u001b[43m_dmp_inner_gcd\u001b[49m\u001b[43m(\u001b[49m\u001b[43mf\u001b[49m\u001b[43m,\u001b[49m\u001b[43m \u001b[49m\u001b[43mg\u001b[49m\u001b[43m,\u001b[49m\u001b[43m \u001b[49m\u001b[43mu\u001b[49m\u001b[43m,\u001b[49m\u001b[43m \u001b[49m\u001b[43mK\u001b[49m\u001b[43m)\u001b[49m\n\u001b[1;32m   1600\u001b[0m \u001b[38;5;28;01mreturn\u001b[39;00m (dmp_inflate(h, J, u, K),\n\u001b[1;32m   1601\u001b[0m         dmp_inflate(cff, J, u, K),\n\u001b[1;32m   1602\u001b[0m         dmp_inflate(cfg, J, u, K))\n",
      "File \u001b[0;32m~/.pyenv/versions/3.11.2/lib/python3.11/site-packages/sympy/polys/euclidtools.py:1567\u001b[0m, in \u001b[0;36m_dmp_inner_gcd\u001b[0;34m(f, g, u, K)\u001b[0m\n\u001b[1;32m   1565\u001b[0m \u001b[38;5;28;01mif\u001b[39;00m K\u001b[38;5;241m.\u001b[39mis_ZZ \u001b[38;5;129;01mand\u001b[39;00m query(\u001b[38;5;124m'\u001b[39m\u001b[38;5;124mUSE_HEU_GCD\u001b[39m\u001b[38;5;124m'\u001b[39m):\n\u001b[1;32m   1566\u001b[0m     \u001b[38;5;28;01mtry\u001b[39;00m:\n\u001b[0;32m-> 1567\u001b[0m         \u001b[38;5;28;01mreturn\u001b[39;00m \u001b[43mdmp_zz_heu_gcd\u001b[49m\u001b[43m(\u001b[49m\u001b[43mf\u001b[49m\u001b[43m,\u001b[49m\u001b[43m \u001b[49m\u001b[43mg\u001b[49m\u001b[43m,\u001b[49m\u001b[43m \u001b[49m\u001b[43mu\u001b[49m\u001b[43m,\u001b[49m\u001b[43m \u001b[49m\u001b[43mK\u001b[49m\u001b[43m)\u001b[49m\n\u001b[1;32m   1568\u001b[0m     \u001b[38;5;28;01mexcept\u001b[39;00m HeuristicGCDFailed:\n\u001b[1;32m   1569\u001b[0m         \u001b[38;5;28;01mpass\u001b[39;00m\n",
      "File \u001b[0;32m~/.pyenv/versions/3.11.2/lib/python3.11/site-packages/sympy/polys/euclidtools.py:1313\u001b[0m, in \u001b[0;36mdmp_zz_heu_gcd\u001b[0;34m(f, g, u, K)\u001b[0m\n\u001b[1;32m   1310\u001b[0m \u001b[38;5;28;01mif\u001b[39;00m \u001b[38;5;129;01mnot\u001b[39;00m u:\n\u001b[1;32m   1311\u001b[0m     \u001b[38;5;28;01mreturn\u001b[39;00m dup_zz_heu_gcd(f, g, K)\n\u001b[0;32m-> 1313\u001b[0m result \u001b[38;5;241m=\u001b[39m \u001b[43m_dmp_rr_trivial_gcd\u001b[49m\u001b[43m(\u001b[49m\u001b[43mf\u001b[49m\u001b[43m,\u001b[49m\u001b[43m \u001b[49m\u001b[43mg\u001b[49m\u001b[43m,\u001b[49m\u001b[43m \u001b[49m\u001b[43mu\u001b[49m\u001b[43m,\u001b[49m\u001b[43m \u001b[49m\u001b[43mK\u001b[49m\u001b[43m)\u001b[49m\n\u001b[1;32m   1315\u001b[0m \u001b[38;5;28;01mif\u001b[39;00m result \u001b[38;5;129;01mis\u001b[39;00m \u001b[38;5;129;01mnot\u001b[39;00m \u001b[38;5;28;01mNone\u001b[39;00m:\n\u001b[1;32m   1316\u001b[0m     \u001b[38;5;28;01mreturn\u001b[39;00m result\n",
      "File \u001b[0;32m~/.pyenv/versions/3.11.2/lib/python3.11/site-packages/sympy/polys/euclidtools.py:912\u001b[0m, in \u001b[0;36m_dmp_rr_trivial_gcd\u001b[0;34m(f, g, u, K)\u001b[0m\n\u001b[1;32m    910\u001b[0m     \u001b[38;5;28;01mreturn\u001b[39;00m dmp_one(u, K), f, g\n\u001b[1;32m    911\u001b[0m \u001b[38;5;28;01melif\u001b[39;00m query(\u001b[38;5;124m'\u001b[39m\u001b[38;5;124mUSE_SIMPLIFY_GCD\u001b[39m\u001b[38;5;124m'\u001b[39m):\n\u001b[0;32m--> 912\u001b[0m     \u001b[38;5;28;01mreturn\u001b[39;00m \u001b[43m_dmp_simplify_gcd\u001b[49m\u001b[43m(\u001b[49m\u001b[43mf\u001b[49m\u001b[43m,\u001b[49m\u001b[43m \u001b[49m\u001b[43mg\u001b[49m\u001b[43m,\u001b[49m\u001b[43m \u001b[49m\u001b[43mu\u001b[49m\u001b[43m,\u001b[49m\u001b[43m \u001b[49m\u001b[43mK\u001b[49m\u001b[43m)\u001b[49m\n\u001b[1;32m    913\u001b[0m \u001b[38;5;28;01melse\u001b[39;00m:\n\u001b[1;32m    914\u001b[0m     \u001b[38;5;28;01mreturn\u001b[39;00m \u001b[38;5;28;01mNone\u001b[39;00m\n",
      "File \u001b[0;32m~/.pyenv/versions/3.11.2/lib/python3.11/site-packages/sympy/polys/euclidtools.py:952\u001b[0m, in \u001b[0;36m_dmp_simplify_gcd\u001b[0;34m(f, g, u, K)\u001b[0m\n\u001b[1;32m    950\u001b[0m \u001b[38;5;28;01mif\u001b[39;00m \u001b[38;5;129;01mnot\u001b[39;00m df:\n\u001b[1;32m    951\u001b[0m     F \u001b[38;5;241m=\u001b[39m dmp_LC(f, K)\n\u001b[0;32m--> 952\u001b[0m     G \u001b[38;5;241m=\u001b[39m \u001b[43mdmp_content\u001b[49m\u001b[43m(\u001b[49m\u001b[43mg\u001b[49m\u001b[43m,\u001b[49m\u001b[43m \u001b[49m\u001b[43mu\u001b[49m\u001b[43m,\u001b[49m\u001b[43m \u001b[49m\u001b[43mK\u001b[49m\u001b[43m)\u001b[49m\n\u001b[1;32m    953\u001b[0m \u001b[38;5;28;01melse\u001b[39;00m:\n\u001b[1;32m    954\u001b[0m     F \u001b[38;5;241m=\u001b[39m dmp_content(f, u, K)\n",
      "    \u001b[0;31m[... skipping similar frames: _dmp_inner_gcd at line 1567 (5 times), _dmp_rr_trivial_gcd at line 912 (5 times), dmp_content at line 1812 (5 times), dmp_gcd at line 1639 (5 times), dmp_inner_gcd at line 1598 (5 times), dmp_zz_heu_gcd at line 1313 (5 times), _dmp_simplify_gcd at line 952 (4 times)]\u001b[0m\n",
      "File \u001b[0;32m~/.pyenv/versions/3.11.2/lib/python3.11/site-packages/sympy/polys/euclidtools.py:952\u001b[0m, in \u001b[0;36m_dmp_simplify_gcd\u001b[0;34m(f, g, u, K)\u001b[0m\n\u001b[1;32m    950\u001b[0m \u001b[38;5;28;01mif\u001b[39;00m \u001b[38;5;129;01mnot\u001b[39;00m df:\n\u001b[1;32m    951\u001b[0m     F \u001b[38;5;241m=\u001b[39m dmp_LC(f, K)\n\u001b[0;32m--> 952\u001b[0m     G \u001b[38;5;241m=\u001b[39m \u001b[43mdmp_content\u001b[49m\u001b[43m(\u001b[49m\u001b[43mg\u001b[49m\u001b[43m,\u001b[49m\u001b[43m \u001b[49m\u001b[43mu\u001b[49m\u001b[43m,\u001b[49m\u001b[43m \u001b[49m\u001b[43mK\u001b[49m\u001b[43m)\u001b[49m\n\u001b[1;32m    953\u001b[0m \u001b[38;5;28;01melse\u001b[39;00m:\n\u001b[1;32m    954\u001b[0m     F \u001b[38;5;241m=\u001b[39m dmp_content(f, u, K)\n",
      "File \u001b[0;32m~/.pyenv/versions/3.11.2/lib/python3.11/site-packages/sympy/polys/euclidtools.py:1812\u001b[0m, in \u001b[0;36mdmp_content\u001b[0;34m(f, u, K)\u001b[0m\n\u001b[1;32m   1809\u001b[0m     \u001b[38;5;28;01mreturn\u001b[39;00m cont\n\u001b[1;32m   1811\u001b[0m \u001b[38;5;28;01mfor\u001b[39;00m c \u001b[38;5;129;01min\u001b[39;00m f[\u001b[38;5;241m1\u001b[39m:]:\n\u001b[0;32m-> 1812\u001b[0m     cont \u001b[38;5;241m=\u001b[39m \u001b[43mdmp_gcd\u001b[49m\u001b[43m(\u001b[49m\u001b[43mcont\u001b[49m\u001b[43m,\u001b[49m\u001b[43m \u001b[49m\u001b[43mc\u001b[49m\u001b[43m,\u001b[49m\u001b[43m \u001b[49m\u001b[43mv\u001b[49m\u001b[43m,\u001b[49m\u001b[43m \u001b[49m\u001b[43mK\u001b[49m\u001b[43m)\u001b[49m\n\u001b[1;32m   1814\u001b[0m     \u001b[38;5;28;01mif\u001b[39;00m dmp_one_p(cont, v, K):\n\u001b[1;32m   1815\u001b[0m         \u001b[38;5;28;01mbreak\u001b[39;00m\n",
      "File \u001b[0;32m~/.pyenv/versions/3.11.2/lib/python3.11/site-packages/sympy/polys/euclidtools.py:1639\u001b[0m, in \u001b[0;36mdmp_gcd\u001b[0;34m(f, g, u, K)\u001b[0m\n\u001b[1;32m   1622\u001b[0m \u001b[38;5;28;01mdef\u001b[39;00m \u001b[38;5;21mdmp_gcd\u001b[39m(f, g, u, K):\n\u001b[1;32m   1623\u001b[0m \u001b[38;5;250m    \u001b[39m\u001b[38;5;124;03m\"\"\"\u001b[39;00m\n\u001b[1;32m   1624\u001b[0m \u001b[38;5;124;03m    Computes polynomial GCD of `f` and `g` in `K[X]`.\u001b[39;00m\n\u001b[1;32m   1625\u001b[0m \n\u001b[0;32m   (...)\u001b[0m\n\u001b[1;32m   1637\u001b[0m \n\u001b[1;32m   1638\u001b[0m \u001b[38;5;124;03m    \"\"\"\u001b[39;00m\n\u001b[0;32m-> 1639\u001b[0m     \u001b[38;5;28;01mreturn\u001b[39;00m \u001b[43mdmp_inner_gcd\u001b[49m\u001b[43m(\u001b[49m\u001b[43mf\u001b[49m\u001b[43m,\u001b[49m\u001b[43m \u001b[49m\u001b[43mg\u001b[49m\u001b[43m,\u001b[49m\u001b[43m \u001b[49m\u001b[43mu\u001b[49m\u001b[43m,\u001b[49m\u001b[43m \u001b[49m\u001b[43mK\u001b[49m\u001b[43m)\u001b[49m[\u001b[38;5;241m0\u001b[39m]\n",
      "File \u001b[0;32m~/.pyenv/versions/3.11.2/lib/python3.11/site-packages/sympy/polys/euclidtools.py:1598\u001b[0m, in \u001b[0;36mdmp_inner_gcd\u001b[0;34m(f, g, u, K)\u001b[0m\n\u001b[1;32m   1595\u001b[0m     \u001b[38;5;28;01mreturn\u001b[39;00m dup_inner_gcd(f, g, K)\n\u001b[1;32m   1597\u001b[0m J, (f, g) \u001b[38;5;241m=\u001b[39m dmp_multi_deflate((f, g), u, K)\n\u001b[0;32m-> 1598\u001b[0m h, cff, cfg \u001b[38;5;241m=\u001b[39m \u001b[43m_dmp_inner_gcd\u001b[49m\u001b[43m(\u001b[49m\u001b[43mf\u001b[49m\u001b[43m,\u001b[49m\u001b[43m \u001b[49m\u001b[43mg\u001b[49m\u001b[43m,\u001b[49m\u001b[43m \u001b[49m\u001b[43mu\u001b[49m\u001b[43m,\u001b[49m\u001b[43m \u001b[49m\u001b[43mK\u001b[49m\u001b[43m)\u001b[49m\n\u001b[1;32m   1600\u001b[0m \u001b[38;5;28;01mreturn\u001b[39;00m (dmp_inflate(h, J, u, K),\n\u001b[1;32m   1601\u001b[0m         dmp_inflate(cff, J, u, K),\n\u001b[1;32m   1602\u001b[0m         dmp_inflate(cfg, J, u, K))\n",
      "File \u001b[0;32m~/.pyenv/versions/3.11.2/lib/python3.11/site-packages/sympy/polys/euclidtools.py:1567\u001b[0m, in \u001b[0;36m_dmp_inner_gcd\u001b[0;34m(f, g, u, K)\u001b[0m\n\u001b[1;32m   1565\u001b[0m \u001b[38;5;28;01mif\u001b[39;00m K\u001b[38;5;241m.\u001b[39mis_ZZ \u001b[38;5;129;01mand\u001b[39;00m query(\u001b[38;5;124m'\u001b[39m\u001b[38;5;124mUSE_HEU_GCD\u001b[39m\u001b[38;5;124m'\u001b[39m):\n\u001b[1;32m   1566\u001b[0m     \u001b[38;5;28;01mtry\u001b[39;00m:\n\u001b[0;32m-> 1567\u001b[0m         \u001b[38;5;28;01mreturn\u001b[39;00m \u001b[43mdmp_zz_heu_gcd\u001b[49m\u001b[43m(\u001b[49m\u001b[43mf\u001b[49m\u001b[43m,\u001b[49m\u001b[43m \u001b[49m\u001b[43mg\u001b[49m\u001b[43m,\u001b[49m\u001b[43m \u001b[49m\u001b[43mu\u001b[49m\u001b[43m,\u001b[49m\u001b[43m \u001b[49m\u001b[43mK\u001b[49m\u001b[43m)\u001b[49m\n\u001b[1;32m   1568\u001b[0m     \u001b[38;5;28;01mexcept\u001b[39;00m HeuristicGCDFailed:\n\u001b[1;32m   1569\u001b[0m         \u001b[38;5;28;01mpass\u001b[39;00m\n",
      "File \u001b[0;32m~/.pyenv/versions/3.11.2/lib/python3.11/site-packages/sympy/polys/euclidtools.py:1313\u001b[0m, in \u001b[0;36mdmp_zz_heu_gcd\u001b[0;34m(f, g, u, K)\u001b[0m\n\u001b[1;32m   1310\u001b[0m \u001b[38;5;28;01mif\u001b[39;00m \u001b[38;5;129;01mnot\u001b[39;00m u:\n\u001b[1;32m   1311\u001b[0m     \u001b[38;5;28;01mreturn\u001b[39;00m dup_zz_heu_gcd(f, g, K)\n\u001b[0;32m-> 1313\u001b[0m result \u001b[38;5;241m=\u001b[39m \u001b[43m_dmp_rr_trivial_gcd\u001b[49m\u001b[43m(\u001b[49m\u001b[43mf\u001b[49m\u001b[43m,\u001b[49m\u001b[43m \u001b[49m\u001b[43mg\u001b[49m\u001b[43m,\u001b[49m\u001b[43m \u001b[49m\u001b[43mu\u001b[49m\u001b[43m,\u001b[49m\u001b[43m \u001b[49m\u001b[43mK\u001b[49m\u001b[43m)\u001b[49m\n\u001b[1;32m   1315\u001b[0m \u001b[38;5;28;01mif\u001b[39;00m result \u001b[38;5;129;01mis\u001b[39;00m \u001b[38;5;129;01mnot\u001b[39;00m \u001b[38;5;28;01mNone\u001b[39;00m:\n\u001b[1;32m   1316\u001b[0m     \u001b[38;5;28;01mreturn\u001b[39;00m result\n",
      "File \u001b[0;32m~/.pyenv/versions/3.11.2/lib/python3.11/site-packages/sympy/polys/euclidtools.py:912\u001b[0m, in \u001b[0;36m_dmp_rr_trivial_gcd\u001b[0;34m(f, g, u, K)\u001b[0m\n\u001b[1;32m    910\u001b[0m     \u001b[38;5;28;01mreturn\u001b[39;00m dmp_one(u, K), f, g\n\u001b[1;32m    911\u001b[0m \u001b[38;5;28;01melif\u001b[39;00m query(\u001b[38;5;124m'\u001b[39m\u001b[38;5;124mUSE_SIMPLIFY_GCD\u001b[39m\u001b[38;5;124m'\u001b[39m):\n\u001b[0;32m--> 912\u001b[0m     \u001b[38;5;28;01mreturn\u001b[39;00m \u001b[43m_dmp_simplify_gcd\u001b[49m\u001b[43m(\u001b[49m\u001b[43mf\u001b[49m\u001b[43m,\u001b[49m\u001b[43m \u001b[49m\u001b[43mg\u001b[49m\u001b[43m,\u001b[49m\u001b[43m \u001b[49m\u001b[43mu\u001b[49m\u001b[43m,\u001b[49m\u001b[43m \u001b[49m\u001b[43mK\u001b[49m\u001b[43m)\u001b[49m\n\u001b[1;32m    913\u001b[0m \u001b[38;5;28;01melse\u001b[39;00m:\n\u001b[1;32m    914\u001b[0m     \u001b[38;5;28;01mreturn\u001b[39;00m \u001b[38;5;28;01mNone\u001b[39;00m\n",
      "File \u001b[0;32m~/.pyenv/versions/3.11.2/lib/python3.11/site-packages/sympy/polys/euclidtools.py:960\u001b[0m, in \u001b[0;36m_dmp_simplify_gcd\u001b[0;34m(f, g, u, K)\u001b[0m\n\u001b[1;32m    957\u001b[0m v \u001b[38;5;241m=\u001b[39m u \u001b[38;5;241m-\u001b[39m \u001b[38;5;241m1\u001b[39m\n\u001b[1;32m    958\u001b[0m h \u001b[38;5;241m=\u001b[39m dmp_gcd(F, G, v, K)\n\u001b[0;32m--> 960\u001b[0m cff \u001b[38;5;241m=\u001b[39m \u001b[43m[\u001b[49m\u001b[43m \u001b[49m\u001b[43mdmp_quo\u001b[49m\u001b[43m(\u001b[49m\u001b[43mcf\u001b[49m\u001b[43m,\u001b[49m\u001b[43m \u001b[49m\u001b[43mh\u001b[49m\u001b[43m,\u001b[49m\u001b[43m \u001b[49m\u001b[43mv\u001b[49m\u001b[43m,\u001b[49m\u001b[43m \u001b[49m\u001b[43mK\u001b[49m\u001b[43m)\u001b[49m\u001b[43m \u001b[49m\u001b[38;5;28;43;01mfor\u001b[39;49;00m\u001b[43m \u001b[49m\u001b[43mcf\u001b[49m\u001b[43m \u001b[49m\u001b[38;5;129;43;01min\u001b[39;49;00m\u001b[43m \u001b[49m\u001b[43mf\u001b[49m\u001b[43m \u001b[49m\u001b[43m]\u001b[49m\n\u001b[1;32m    961\u001b[0m cfg \u001b[38;5;241m=\u001b[39m [ dmp_quo(cg, h, v, K) \u001b[38;5;28;01mfor\u001b[39;00m cg \u001b[38;5;129;01min\u001b[39;00m g ]\n\u001b[1;32m    963\u001b[0m \u001b[38;5;28;01mreturn\u001b[39;00m [h], cff, cfg\n",
      "File \u001b[0;32m~/.pyenv/versions/3.11.2/lib/python3.11/site-packages/sympy/polys/euclidtools.py:960\u001b[0m, in \u001b[0;36m<listcomp>\u001b[0;34m(.0)\u001b[0m\n\u001b[1;32m    957\u001b[0m v \u001b[38;5;241m=\u001b[39m u \u001b[38;5;241m-\u001b[39m \u001b[38;5;241m1\u001b[39m\n\u001b[1;32m    958\u001b[0m h \u001b[38;5;241m=\u001b[39m dmp_gcd(F, G, v, K)\n\u001b[0;32m--> 960\u001b[0m cff \u001b[38;5;241m=\u001b[39m [ \u001b[43mdmp_quo\u001b[49m\u001b[43m(\u001b[49m\u001b[43mcf\u001b[49m\u001b[43m,\u001b[49m\u001b[43m \u001b[49m\u001b[43mh\u001b[49m\u001b[43m,\u001b[49m\u001b[43m \u001b[49m\u001b[43mv\u001b[49m\u001b[43m,\u001b[49m\u001b[43m \u001b[49m\u001b[43mK\u001b[49m\u001b[43m)\u001b[49m \u001b[38;5;28;01mfor\u001b[39;00m cf \u001b[38;5;129;01min\u001b[39;00m f ]\n\u001b[1;32m    961\u001b[0m cfg \u001b[38;5;241m=\u001b[39m [ dmp_quo(cg, h, v, K) \u001b[38;5;28;01mfor\u001b[39;00m cg \u001b[38;5;129;01min\u001b[39;00m g ]\n\u001b[1;32m    963\u001b[0m \u001b[38;5;28;01mreturn\u001b[39;00m [h], cff, cfg\n",
      "File \u001b[0;32m~/.pyenv/versions/3.11.2/lib/python3.11/site-packages/sympy/polys/densearith.py:1671\u001b[0m, in \u001b[0;36mdmp_quo\u001b[0;34m(f, g, u, K)\u001b[0m\n\u001b[1;32m   1653\u001b[0m \u001b[38;5;28;01mdef\u001b[39;00m \u001b[38;5;21mdmp_quo\u001b[39m(f, g, u, K):\n\u001b[1;32m   1654\u001b[0m \u001b[38;5;250m    \u001b[39m\u001b[38;5;124;03m\"\"\"\u001b[39;00m\n\u001b[1;32m   1655\u001b[0m \u001b[38;5;124;03m    Returns exact polynomial quotient in ``K[X]``.\u001b[39;00m\n\u001b[1;32m   1656\u001b[0m \n\u001b[0;32m   (...)\u001b[0m\n\u001b[1;32m   1669\u001b[0m \n\u001b[1;32m   1670\u001b[0m \u001b[38;5;124;03m    \"\"\"\u001b[39;00m\n\u001b[0;32m-> 1671\u001b[0m     \u001b[38;5;28;01mreturn\u001b[39;00m \u001b[43mdmp_div\u001b[49m\u001b[43m(\u001b[49m\u001b[43mf\u001b[49m\u001b[43m,\u001b[49m\u001b[43m \u001b[49m\u001b[43mg\u001b[49m\u001b[43m,\u001b[49m\u001b[43m \u001b[49m\u001b[43mu\u001b[49m\u001b[43m,\u001b[49m\u001b[43m \u001b[49m\u001b[43mK\u001b[49m\u001b[43m)\u001b[49m[\u001b[38;5;241m0\u001b[39m]\n",
      "File \u001b[0;32m~/.pyenv/versions/3.11.2/lib/python3.11/site-packages/sympy/polys/densearith.py:1629\u001b[0m, in \u001b[0;36mdmp_div\u001b[0;34m(f, g, u, K)\u001b[0m\n\u001b[1;32m   1627\u001b[0m     \u001b[38;5;28;01mreturn\u001b[39;00m dmp_ff_div(f, g, u, K)\n\u001b[1;32m   1628\u001b[0m \u001b[38;5;28;01melse\u001b[39;00m:\n\u001b[0;32m-> 1629\u001b[0m     \u001b[38;5;28;01mreturn\u001b[39;00m \u001b[43mdmp_rr_div\u001b[49m\u001b[43m(\u001b[49m\u001b[43mf\u001b[49m\u001b[43m,\u001b[49m\u001b[43m \u001b[49m\u001b[43mg\u001b[49m\u001b[43m,\u001b[49m\u001b[43m \u001b[49m\u001b[43mu\u001b[49m\u001b[43m,\u001b[49m\u001b[43m \u001b[49m\u001b[43mK\u001b[49m\u001b[43m)\u001b[49m\n",
      "File \u001b[0;32m~/.pyenv/versions/3.11.2/lib/python3.11/site-packages/sympy/polys/densearith.py:1389\u001b[0m, in \u001b[0;36mdmp_rr_div\u001b[0;34m(f, g, u, K)\u001b[0m\n\u001b[1;32m   1387\u001b[0m \u001b[38;5;28;01mwhile\u001b[39;00m \u001b[38;5;28;01mTrue\u001b[39;00m:\n\u001b[1;32m   1388\u001b[0m     lc_r \u001b[38;5;241m=\u001b[39m dmp_LC(r, K)\n\u001b[0;32m-> 1389\u001b[0m     c, R \u001b[38;5;241m=\u001b[39m \u001b[43mdmp_rr_div\u001b[49m\u001b[43m(\u001b[49m\u001b[43mlc_r\u001b[49m\u001b[43m,\u001b[49m\u001b[43m \u001b[49m\u001b[43mlc_g\u001b[49m\u001b[43m,\u001b[49m\u001b[43m \u001b[49m\u001b[43mv\u001b[49m\u001b[43m,\u001b[49m\u001b[43m \u001b[49m\u001b[43mK\u001b[49m\u001b[43m)\u001b[49m\n\u001b[1;32m   1391\u001b[0m     \u001b[38;5;28;01mif\u001b[39;00m \u001b[38;5;129;01mnot\u001b[39;00m dmp_zero_p(R, v):\n\u001b[1;32m   1392\u001b[0m         \u001b[38;5;28;01mbreak\u001b[39;00m\n",
      "File \u001b[0;32m~/.pyenv/versions/3.11.2/lib/python3.11/site-packages/sympy/polys/densearith.py:1389\u001b[0m, in \u001b[0;36mdmp_rr_div\u001b[0;34m(f, g, u, K)\u001b[0m\n\u001b[1;32m   1387\u001b[0m \u001b[38;5;28;01mwhile\u001b[39;00m \u001b[38;5;28;01mTrue\u001b[39;00m:\n\u001b[1;32m   1388\u001b[0m     lc_r \u001b[38;5;241m=\u001b[39m dmp_LC(r, K)\n\u001b[0;32m-> 1389\u001b[0m     c, R \u001b[38;5;241m=\u001b[39m \u001b[43mdmp_rr_div\u001b[49m\u001b[43m(\u001b[49m\u001b[43mlc_r\u001b[49m\u001b[43m,\u001b[49m\u001b[43m \u001b[49m\u001b[43mlc_g\u001b[49m\u001b[43m,\u001b[49m\u001b[43m \u001b[49m\u001b[43mv\u001b[49m\u001b[43m,\u001b[49m\u001b[43m \u001b[49m\u001b[43mK\u001b[49m\u001b[43m)\u001b[49m\n\u001b[1;32m   1391\u001b[0m     \u001b[38;5;28;01mif\u001b[39;00m \u001b[38;5;129;01mnot\u001b[39;00m dmp_zero_p(R, v):\n\u001b[1;32m   1392\u001b[0m         \u001b[38;5;28;01mbreak\u001b[39;00m\n",
      "    \u001b[0;31m[... skipping similar frames: dmp_rr_div at line 1389 (4 times)]\u001b[0m\n",
      "File \u001b[0;32m~/.pyenv/versions/3.11.2/lib/python3.11/site-packages/sympy/polys/densearith.py:1389\u001b[0m, in \u001b[0;36mdmp_rr_div\u001b[0;34m(f, g, u, K)\u001b[0m\n\u001b[1;32m   1387\u001b[0m \u001b[38;5;28;01mwhile\u001b[39;00m \u001b[38;5;28;01mTrue\u001b[39;00m:\n\u001b[1;32m   1388\u001b[0m     lc_r \u001b[38;5;241m=\u001b[39m dmp_LC(r, K)\n\u001b[0;32m-> 1389\u001b[0m     c, R \u001b[38;5;241m=\u001b[39m \u001b[43mdmp_rr_div\u001b[49m\u001b[43m(\u001b[49m\u001b[43mlc_r\u001b[49m\u001b[43m,\u001b[49m\u001b[43m \u001b[49m\u001b[43mlc_g\u001b[49m\u001b[43m,\u001b[49m\u001b[43m \u001b[49m\u001b[43mv\u001b[49m\u001b[43m,\u001b[49m\u001b[43m \u001b[49m\u001b[43mK\u001b[49m\u001b[43m)\u001b[49m\n\u001b[1;32m   1391\u001b[0m     \u001b[38;5;28;01mif\u001b[39;00m \u001b[38;5;129;01mnot\u001b[39;00m dmp_zero_p(R, v):\n\u001b[1;32m   1392\u001b[0m         \u001b[38;5;28;01mbreak\u001b[39;00m\n",
      "File \u001b[0;32m~/.pyenv/versions/3.11.2/lib/python3.11/site-packages/sympy/polys/densearith.py:1397\u001b[0m, in \u001b[0;36mdmp_rr_div\u001b[0;34m(f, g, u, K)\u001b[0m\n\u001b[1;32m   1394\u001b[0m j \u001b[38;5;241m=\u001b[39m dr \u001b[38;5;241m-\u001b[39m dg\n\u001b[1;32m   1396\u001b[0m q \u001b[38;5;241m=\u001b[39m dmp_add_term(q, c, j, u, K)\n\u001b[0;32m-> 1397\u001b[0m h \u001b[38;5;241m=\u001b[39m \u001b[43mdmp_mul_term\u001b[49m\u001b[43m(\u001b[49m\u001b[43mg\u001b[49m\u001b[43m,\u001b[49m\u001b[43m \u001b[49m\u001b[43mc\u001b[49m\u001b[43m,\u001b[49m\u001b[43m \u001b[49m\u001b[43mj\u001b[49m\u001b[43m,\u001b[49m\u001b[43m \u001b[49m\u001b[43mu\u001b[49m\u001b[43m,\u001b[49m\u001b[43m \u001b[49m\u001b[43mK\u001b[49m\u001b[43m)\u001b[49m\n\u001b[1;32m   1398\u001b[0m r \u001b[38;5;241m=\u001b[39m dmp_sub(r, h, u, K)\n\u001b[1;32m   1400\u001b[0m _dr, dr \u001b[38;5;241m=\u001b[39m dr, dmp_degree(r, u)\n",
      "File \u001b[0;32m~/.pyenv/versions/3.11.2/lib/python3.11/site-packages/sympy/polys/densearith.py:184\u001b[0m, in \u001b[0;36mdmp_mul_term\u001b[0;34m(f, c, i, u, K)\u001b[0m\n\u001b[1;32m    182\u001b[0m     \u001b[38;5;28;01mreturn\u001b[39;00m dmp_zero(u)\n\u001b[1;32m    183\u001b[0m \u001b[38;5;28;01melse\u001b[39;00m:\n\u001b[0;32m--> 184\u001b[0m     \u001b[38;5;28;01mreturn\u001b[39;00m \u001b[43m[\u001b[49m\u001b[43m \u001b[49m\u001b[43mdmp_mul\u001b[49m\u001b[43m(\u001b[49m\u001b[43mcf\u001b[49m\u001b[43m,\u001b[49m\u001b[43m \u001b[49m\u001b[43mc\u001b[49m\u001b[43m,\u001b[49m\u001b[43m \u001b[49m\u001b[43mv\u001b[49m\u001b[43m,\u001b[49m\u001b[43m \u001b[49m\u001b[43mK\u001b[49m\u001b[43m)\u001b[49m\u001b[43m \u001b[49m\u001b[38;5;28;43;01mfor\u001b[39;49;00m\u001b[43m \u001b[49m\u001b[43mcf\u001b[49m\u001b[43m \u001b[49m\u001b[38;5;129;43;01min\u001b[39;49;00m\u001b[43m \u001b[49m\u001b[43mf\u001b[49m\u001b[43m \u001b[49m\u001b[43m]\u001b[49m \u001b[38;5;241m+\u001b[39m dmp_zeros(i, v, K)\n",
      "File \u001b[0;32m~/.pyenv/versions/3.11.2/lib/python3.11/site-packages/sympy/polys/densearith.py:184\u001b[0m, in \u001b[0;36m<listcomp>\u001b[0;34m(.0)\u001b[0m\n\u001b[1;32m    182\u001b[0m     \u001b[38;5;28;01mreturn\u001b[39;00m dmp_zero(u)\n\u001b[1;32m    183\u001b[0m \u001b[38;5;28;01melse\u001b[39;00m:\n\u001b[0;32m--> 184\u001b[0m     \u001b[38;5;28;01mreturn\u001b[39;00m [ \u001b[43mdmp_mul\u001b[49m\u001b[43m(\u001b[49m\u001b[43mcf\u001b[49m\u001b[43m,\u001b[49m\u001b[43m \u001b[49m\u001b[43mc\u001b[49m\u001b[43m,\u001b[49m\u001b[43m \u001b[49m\u001b[43mv\u001b[49m\u001b[43m,\u001b[49m\u001b[43m \u001b[49m\u001b[43mK\u001b[49m\u001b[43m)\u001b[49m \u001b[38;5;28;01mfor\u001b[39;00m cf \u001b[38;5;129;01min\u001b[39;00m f ] \u001b[38;5;241m+\u001b[39m dmp_zeros(i, v, K)\n",
      "File \u001b[0;32m~/.pyenv/versions/3.11.2/lib/python3.11/site-packages/sympy/polys/densearith.py:807\u001b[0m, in \u001b[0;36mdmp_mul\u001b[0;34m(f, g, u, K)\u001b[0m\n\u001b[1;32m    793\u001b[0m \u001b[38;5;250m\u001b[39m\u001b[38;5;124;03m\"\"\"\u001b[39;00m\n\u001b[1;32m    794\u001b[0m \u001b[38;5;124;03mMultiply dense polynomials in ``K[X]``.\u001b[39;00m\n\u001b[1;32m    795\u001b[0m \n\u001b[0;32m   (...)\u001b[0m\n\u001b[1;32m    804\u001b[0m \n\u001b[1;32m    805\u001b[0m \u001b[38;5;124;03m\"\"\"\u001b[39;00m\n\u001b[1;32m    806\u001b[0m \u001b[38;5;28;01mif\u001b[39;00m \u001b[38;5;129;01mnot\u001b[39;00m u:\n\u001b[0;32m--> 807\u001b[0m     \u001b[38;5;28;01mreturn\u001b[39;00m \u001b[43mdup_mul\u001b[49m\u001b[43m(\u001b[49m\u001b[43mf\u001b[49m\u001b[43m,\u001b[49m\u001b[43m \u001b[49m\u001b[43mg\u001b[49m\u001b[43m,\u001b[49m\u001b[43m \u001b[49m\u001b[43mK\u001b[49m\u001b[43m)\u001b[49m\n\u001b[1;32m    809\u001b[0m \u001b[38;5;28;01mif\u001b[39;00m f \u001b[38;5;241m==\u001b[39m g:\n\u001b[1;32m    810\u001b[0m     \u001b[38;5;28;01mreturn\u001b[39;00m dmp_sqr(f, u, K)\n",
      "File \u001b[0;32m~/.pyenv/versions/3.11.2/lib/python3.11/site-packages/sympy/polys/densearith.py:766\u001b[0m, in \u001b[0;36mdup_mul\u001b[0;34m(f, g, K)\u001b[0m\n\u001b[1;32m    763\u001b[0m \u001b[38;5;28;01mfor\u001b[39;00m i \u001b[38;5;129;01min\u001b[39;00m \u001b[38;5;28mrange\u001b[39m(\u001b[38;5;241m0\u001b[39m, df \u001b[38;5;241m+\u001b[39m dg \u001b[38;5;241m+\u001b[39m \u001b[38;5;241m1\u001b[39m):\n\u001b[1;32m    764\u001b[0m     coeff \u001b[38;5;241m=\u001b[39m K\u001b[38;5;241m.\u001b[39mzero\n\u001b[0;32m--> 766\u001b[0m     \u001b[38;5;28;01mfor\u001b[39;00m j \u001b[38;5;129;01min\u001b[39;00m \u001b[38;5;28mrange\u001b[39m(\u001b[38;5;28;43mmax\u001b[39;49m\u001b[43m(\u001b[49m\u001b[38;5;241;43m0\u001b[39;49m\u001b[43m,\u001b[49m\u001b[43m \u001b[49m\u001b[43mi\u001b[49m\u001b[43m \u001b[49m\u001b[38;5;241;43m-\u001b[39;49m\u001b[43m \u001b[49m\u001b[43mdg\u001b[49m\u001b[43m)\u001b[49m, \u001b[38;5;28mmin\u001b[39m(df, i) \u001b[38;5;241m+\u001b[39m \u001b[38;5;241m1\u001b[39m):\n\u001b[1;32m    767\u001b[0m         coeff \u001b[38;5;241m+\u001b[39m\u001b[38;5;241m=\u001b[39m f[j]\u001b[38;5;241m*\u001b[39mg[i \u001b[38;5;241m-\u001b[39m j]\n\u001b[1;32m    769\u001b[0m     h\u001b[38;5;241m.\u001b[39mappend(coeff)\n",
      "\u001b[0;31mKeyboardInterrupt\u001b[0m: "
     ]
    }
   ],
   "source": [
    "n, d = sp.fraction(expr_m_i_degenerate.factor())\n",
    "_expr_mi = (n-d*mi).expand()\n",
    "\n",
    "n, d = sp.fraction(expr_m_j_degenerate.factor())\n",
    "_expr_mj = (n-d*mj).expand()\n",
    "\n",
    "n, d = sp.fraction(expr_eta_ij_degenerate.factor())\n",
    "_expr_eta_1 = (n-d*eta_ij).expand()\n",
    "\n",
    "n, d = sp.fraction(expr_eta_ik_degenerate.factor())\n",
    "_expr_eta_2 = (n-d*eta_ik).expand()"
   ]
  },
  {
   "cell_type": "code",
   "execution_count": null,
   "metadata": {},
   "outputs": [],
   "source": [
    "vector_system_moments_degenerate = [\n",
    "    FFunction(hi, hj, lij, lik, 1, 1, 0),\n",
    "    FFunction(hi, hj, lij, lik, 1, 0, 1),\n",
    "    FFunction(hi, hj, lij, lik, 1, 1, 1),\n",
    "    cF3_degenerate(hi, hj, lij, lik, *(4*[0])),\n",
    "]\n",
    "\n",
    "line1 = get_line_Matrix(_expr_mi, vector_system_moments_degenerate)\n",
    "line2 = get_line_Matrix(_expr_mj, vector_system_moments_degenerate)\n",
    "line3 = get_line_Matrix(_expr_eta_1, vector_system_moments_degenerate)\n",
    "line4 = get_line_Matrix(_expr_eta_2, vector_system_moments_degenerate)"
   ]
  },
  {
   "cell_type": "code",
   "execution_count": null,
   "metadata": {},
   "outputs": [
    {
     "data": {
      "text/latex": [
       "$\\displaystyle \\left[\\begin{matrix}0 & 0 & \\frac{3 \\sqrt{2} \\sqrt{h_{i}} h_{j}^{\\frac{3}{2}}}{\\sqrt{\\lambda_{ij}}} & - 12 \\left<{m_i}\\right> h_{i} h_{j} - 6 \\left<{m_j}\\right> h_{j}^{2} - 6 h_{j} - \\frac{6 h_{i} h_{j}^{2}}{\\lambda_{ij}} & 0\\\\\\frac{3 \\sqrt{2} \\lambda_{ij}^{\\frac{3}{2}} h_{j}^{\\frac{3}{2}}}{\\sqrt{h_{i}}} & 0 & 0 & - 12 \\lambda_{ij}^{2} \\left<{\\eta_{ij}}\\right> h_{j} - \\frac{6 \\lambda_{ij}^{2} h_{j}^{2}}{h_{i}} - 6 \\lambda_{ij} \\left<{m_j}\\right> h_{j}^{2} - 6 \\lambda_{ij} h_{j} & 0\\\\\\frac{3 \\sqrt{2} \\lambda_{ij}^{\\frac{3}{2}} \\sqrt{h_{i}} h_{j}^{\\frac{3}{2}}}{2} & 3 \\sqrt{2} \\lambda_{ij}^{\\frac{3}{2}} h_{i}^{\\frac{3}{2}} \\sqrt{h_{j}} & - \\frac{3 \\sqrt{2} \\sqrt{\\lambda_{ij}} h_{i}^{\\frac{3}{2}} h_{j}^{\\frac{3}{2}}}{2} & - 12 \\lambda_{ij}^{2} \\left<{\\eta_{ij}}\\right> h_{i} h_{j} - 6 \\lambda_{ij}^{2} \\left<{\\eta_{ik}}\\right> h_{i}^{2} - 6 \\lambda_{ij}^{2} h_{i}^{2} - 3 \\lambda_{ij}^{2} h_{j}^{2} - 6 \\lambda_{ij} h_{i} h_{j} + 3 h_{i}^{2} h_{j}^{2} & 0\\\\- \\sqrt{2} \\lambda_{ij}^{\\frac{5}{2}} h_{i}^{\\frac{3}{2}} h_{j}^{\\frac{3}{2}} - \\frac{\\sqrt{2} \\lambda_{ij}^{\\frac{3}{2}} \\sqrt{h_{i}} h_{j}^{\\frac{5}{2}}}{2} + \\sqrt{2} \\sqrt{\\lambda_{ij}} h_{i}^{\\frac{3}{2}} h_{j}^{\\frac{7}{2}} & 2 \\sqrt{2} \\lambda_{ij}^{\\frac{5}{2}} h_{i}^{\\frac{5}{2}} \\sqrt{h_{j}} - \\sqrt{2} \\lambda_{ij}^{\\frac{5}{2}} \\sqrt{h_{i}} h_{j}^{\\frac{5}{2}} + 2 \\sqrt{2} \\lambda_{ij}^{\\frac{3}{2}} h_{i}^{\\frac{3}{2}} h_{j}^{\\frac{3}{2}} - \\sqrt{2} \\sqrt{\\lambda_{ij}} h_{i}^{\\frac{5}{2}} h_{j}^{\\frac{5}{2}} & - \\sqrt{2} \\lambda_{ij}^{\\frac{3}{2}} h_{i}^{\\frac{5}{2}} h_{j}^{\\frac{3}{2}} + \\sqrt{2} \\lambda_{ij}^{\\frac{3}{2}} \\sqrt{h_{i}} h_{j}^{\\frac{7}{2}} - \\frac{\\sqrt{2} \\sqrt{\\lambda_{ij}} h_{i}^{\\frac{3}{2}} h_{j}^{\\frac{5}{2}}}{2} & - 6 \\lambda_{ij}^{2} \\left<{\\eta_{ik}}\\right> h_{i}^{2} h_{j} - 4 \\lambda_{ij}^{2} h_{i}^{2} h_{j} + \\lambda_{ij}^{2} h_{j}^{3} - 2 \\lambda_{ij} h_{i} h_{j}^{2} + h_{i}^{2} h_{j}^{3} & A \\lambda_{ij} h_{i} h_{j}\\end{matrix}\\right]$"
      ],
      "text/plain": [
       "Matrix([\n",
       "[                                                                                                                                                         0,                                                                                                                                                                                                              0,                                                                                                          3*sqrt(2)*sqrt(h_i)*h_j**(3/2)/sqrt(\\lambda_{ij}),                                                                                                          -12*\\left<{m_i}\\right>*h_i*h_j - 6*\\left<{m_j}\\right>*h_j**2 - 6*h_j - 6*h_i*h_j**2/\\lambda_{ij},                      0],\n",
       "[                                                                                                        3*sqrt(2)*\\lambda_{ij}**(3/2)*h_j**(3/2)/sqrt(h_i),                                                                                                                                                                                                              0,                                                                                                                                                          0,                                                           -12*\\lambda_{ij}**2*\\left<{\\eta_{ij}}\\right>*h_j - 6*\\lambda_{ij}**2*h_j**2/h_i - 6*\\lambda_{ij}*\\left<{m_j}\\right>*h_j**2 - 6*\\lambda_{ij}*h_j,                      0],\n",
       "[                                                                                                      3*sqrt(2)*\\lambda_{ij}**(3/2)*sqrt(h_i)*h_j**(3/2)/2,                                                                                                                                                             3*sqrt(2)*\\lambda_{ij}**(3/2)*h_i**(3/2)*sqrt(h_j),                                                                                                      -3*sqrt(2)*sqrt(\\lambda_{ij})*h_i**(3/2)*h_j**(3/2)/2, -12*\\lambda_{ij}**2*\\left<{\\eta_{ij}}\\right>*h_i*h_j - 6*\\lambda_{ij}**2*\\left<{\\eta_{ik}}\\right>*h_i**2 - 6*\\lambda_{ij}**2*h_i**2 - 3*\\lambda_{ij}**2*h_j**2 - 6*\\lambda_{ij}*h_i*h_j + 3*h_i**2*h_j**2,                      0],\n",
       "[-sqrt(2)*\\lambda_{ij}**(5/2)*h_i**(3/2)*h_j**(3/2) - sqrt(2)*\\lambda_{ij}**(3/2)*sqrt(h_i)*h_j**(5/2)/2 + sqrt(2)*sqrt(\\lambda_{ij})*h_i**(3/2)*h_j**(7/2), 2*sqrt(2)*\\lambda_{ij}**(5/2)*h_i**(5/2)*sqrt(h_j) - sqrt(2)*\\lambda_{ij}**(5/2)*sqrt(h_i)*h_j**(5/2) + 2*sqrt(2)*\\lambda_{ij}**(3/2)*h_i**(3/2)*h_j**(3/2) - sqrt(2)*sqrt(\\lambda_{ij})*h_i**(5/2)*h_j**(5/2), -sqrt(2)*\\lambda_{ij}**(3/2)*h_i**(5/2)*h_j**(3/2) + sqrt(2)*\\lambda_{ij}**(3/2)*sqrt(h_i)*h_j**(7/2) - sqrt(2)*sqrt(\\lambda_{ij})*h_i**(3/2)*h_j**(5/2)/2,                                                -6*\\lambda_{ij}**2*\\left<{\\eta_{ik}}\\right>*h_i**2*h_j - 4*\\lambda_{ij}**2*h_i**2*h_j + \\lambda_{ij}**2*h_j**3 - 2*\\lambda_{ij}*h_i*h_j**2 + h_i**2*h_j**3, A*\\lambda_{ij}*h_i*h_j]])"
      ]
     },
     "metadata": {},
     "output_type": "display_data"
    },
    {
     "data": {
      "text/latex": [
       "$\\displaystyle \\lambda_{ij} h_{i} {\\cal E}_{3}\\left(h_{i}, h_{j}, \\lambda_{ij}, \\frac{\\lambda_{ij} h_{i}}{h_{j}}\\right) - \\lambda_{ij} h_{j} {\\cal E}_{1}\\left(h_{i}, h_{j}, \\lambda_{ij}, \\frac{\\lambda_{ij} h_{i}}{h_{j}}\\right) - h_{i} h_{j} {\\cal E}_{13}\\left(h_{i}, h_{j}, \\lambda_{ij}, \\frac{\\lambda_{ij} h_{i}}{h_{j}}\\right) + h_{j}^{2} {\\cal E}_{12}\\left(h_{i}, h_{j}, \\lambda_{ij}, \\frac{\\lambda_{ij} h_{i}}{h_{j}}\\right)$"
      ],
      "text/plain": [
       "\\lambda_{ij}*h_i*EFunction(h_i, h_j, \\lambda_{ij}, \\lambda_{ij}*h_i/h_j, 0, 0, 1) - \\lambda_{ij}*h_j*EFunction(h_i, h_j, \\lambda_{ij}, \\lambda_{ij}*h_i/h_j, 1, 0, 0) - h_i*h_j*EFunction(h_i, h_j, \\lambda_{ij}, \\lambda_{ij}*h_i/h_j, 1, 0, 1) + h_j**2*EFunction(h_i, h_j, \\lambda_{ij}, \\lambda_{ij}*h_i/h_j, 1, 1, 0)"
      ]
     },
     "metadata": {},
     "output_type": "display_data"
    },
    {
     "name": "stdout",
     "output_type": "stream",
     "text": [
      "\\lambda_{ij} h_{i} {\\cal E}_{3}\\left(h_{i}, h_{j}, \\lambda_{ij}, \\frac{\\lambda_{ij} h_{i}}{h_{j}}\\right) - \\lambda_{ij} h_{j} {\\cal E}_{1}\\left(h_{i}, h_{j}, \\lambda_{ij}, \\frac{\\lambda_{ij} h_{i}}{h_{j}}\\right) - h_{i} h_{j} {\\cal E}_{13}\\left(h_{i}, h_{j}, \\lambda_{ij}, \\frac{\\lambda_{ij} h_{i}}{h_{j}}\\right) + h_{j}^{2} {\\cal E}_{12}\\left(h_{i}, h_{j}, \\lambda_{ij}, \\frac{\\lambda_{ij} h_{i}}{h_{j}}\\right)\n"
     ]
    }
   ],
   "source": [
    "M = sp.Matrix([line1, line2, line3, line4])\n",
    "M = M.replace(lik, lij*hi/hj)\n",
    "\n",
    "M[0, :] /= (2*hi**3*hj**2*lij**2)\n",
    "M[1, :] /= (2*hi**2*hj**3*lij)\n",
    "M[2, :] /= (2*hi*hj**2*lij**2)\n",
    "M[3, :] /= (2*hi**2*lij**2)\n",
    "\n",
    "M[0, :] += M[1, :]/lij\n",
    "M[1, :] += M[2, :]/hi\n",
    "M[2, :] += M[3, :]/hj\n",
    "\n",
    "M = M.expand()\n",
    "\n",
    "A_system_moments_degenerate = sp.Symbol(\"A\")\n",
    "A_system_moments_degenerate_value = (M[3, 4]/(lij*hi*hj)).expand()\n",
    "M[3, 4] = A_system_moments_degenerate*(lij*hi*hj)\n",
    "\n",
    "display(M)\n",
    "display(A_system_moments_degenerate_value)\n",
    "sp.print_latex(A_system_moments_degenerate_value)"
   ]
  },
  {
   "cell_type": "code",
   "execution_count": null,
   "metadata": {},
   "outputs": [
    {
     "data": {
      "text/latex": [
       "$\\displaystyle {\\cal F}_{12}\\left(h_{i}, h_{j}, \\lambda_{ij}, \\frac{\\lambda_{ij} h_{i}}{h_{j}}\\right) = - \\frac{\\sqrt{2} A \\sqrt{\\lambda_{ij}} \\sqrt{h_{i}} \\sqrt{h_{j}} \\left(2 \\lambda_{ij} \\left<{\\eta_{ij}}\\right> h_{i} + \\lambda_{ij} h_{j} + \\left<{m_j}\\right> h_{i} h_{j} + h_{i}\\right)}{2 \\Delta}$"
      ],
      "text/plain": [
       "Eq(FFunction(h_i, h_j, \\lambda_{ij}, \\lambda_{ij}*h_i/h_j, 1, 1, 0), -sqrt(2)*A*sqrt(\\lambda_{ij})*sqrt(h_i)*sqrt(h_j)*(2*\\lambda_{ij}*\\left<{\\eta_{ij}}\\right>*h_i + \\lambda_{ij}*h_j + \\left<{m_j}\\right>*h_i*h_j + h_i)/(2*\\Delta))"
      ]
     },
     "metadata": {},
     "output_type": "display_data"
    },
    {
     "data": {
      "text/latex": [
       "$\\displaystyle {\\cal F}_{13}\\left(h_{i}, h_{j}, \\lambda_{ij}, \\frac{\\lambda_{ij} h_{i}}{h_{j}}\\right) = - \\frac{\\sqrt{2} A \\sqrt{\\lambda_{ij}} \\sqrt{h_{i}} \\sqrt{h_{j}} \\left(\\lambda_{ij} \\left<{\\eta_{ij}}\\right> h_{j} + \\lambda_{ij} \\left<{\\eta_{ik}}\\right> h_{i} + \\lambda_{ij} h_{i} + \\left<{m_i}\\right> h_{i} h_{j} + h_{j}\\right)}{2 \\Delta}$"
      ],
      "text/plain": [
       "Eq(FFunction(h_i, h_j, \\lambda_{ij}, \\lambda_{ij}*h_i/h_j, 1, 0, 1), -sqrt(2)*A*sqrt(\\lambda_{ij})*sqrt(h_i)*sqrt(h_j)*(\\lambda_{ij}*\\left<{\\eta_{ij}}\\right>*h_j + \\lambda_{ij}*\\left<{\\eta_{ik}}\\right>*h_i + \\lambda_{ij}*h_i + \\left<{m_i}\\right>*h_i*h_j + h_j)/(2*\\Delta))"
      ]
     },
     "metadata": {},
     "output_type": "display_data"
    },
    {
     "data": {
      "text/latex": [
       "$\\displaystyle {\\cal F}_{123}\\left(h_{i}, h_{j}, \\lambda_{ij}, \\frac{\\lambda_{ij} h_{i}}{h_{j}}\\right) = - \\frac{\\sqrt{2} A \\sqrt{\\lambda_{ij}} \\sqrt{h_{i}} \\sqrt{h_{j}} \\left(2 \\lambda_{ij} \\left<{m_i}\\right> h_{i} + \\lambda_{ij} \\left<{m_j}\\right> h_{j} + \\lambda_{ij} + h_{i} h_{j}\\right)}{2 \\Delta}$"
      ],
      "text/plain": [
       "Eq(FFunction(h_i, h_j, \\lambda_{ij}, \\lambda_{ij}*h_i/h_j, 1, 1, 1), -sqrt(2)*A*sqrt(\\lambda_{ij})*sqrt(h_i)*sqrt(h_j)*(2*\\lambda_{ij}*\\left<{m_i}\\right>*h_i + \\lambda_{ij}*\\left<{m_j}\\right>*h_j + \\lambda_{ij} + h_i*h_j)/(2*\\Delta))"
      ]
     },
     "metadata": {},
     "output_type": "display_data"
    },
    {
     "data": {
      "text/latex": [
       "$\\displaystyle {\\cal F}_{deg,0, 0, 0, 0}\\left(h_{i}, h_{j}, \\lambda_{ij}, \\frac{\\lambda_{ij} h_{i}}{h_{j}}\\right) = - \\frac{A \\lambda_{ij} h_{i} h_{j}}{2 \\Delta}$"
      ],
      "text/plain": [
       "Eq(cF3_degenerate(h_i, h_j, \\lambda_{ij}, \\lambda_{ij}*h_i/h_j, 0, 0, 0, 0), -A*\\lambda_{ij}*h_i*h_j/(2*\\Delta))"
      ]
     },
     "metadata": {},
     "output_type": "display_data"
    },
    {
     "name": "stdout",
     "output_type": "stream",
     "text": [
      "{\\cal F}_{12}\\left(h_{i}, h_{j}, \\lambda_{ij}, \\frac{\\lambda_{ij} h_{i}}{h_{j}}\\right) = - \\frac{\\sqrt{2} A \\sqrt{\\lambda_{ij}} \\sqrt{h_{i}} \\sqrt{h_{j}} \\left(2 \\lambda_{ij} \\left<{\\eta_{ij}}\\right> h_{i} + \\lambda_{ij} h_{j} + \\left<{m_j}\\right> h_{i} h_{j} + h_{i}\\right)}{2 \\Delta}\n",
      "{\\cal F}_{13}\\left(h_{i}, h_{j}, \\lambda_{ij}, \\frac{\\lambda_{ij} h_{i}}{h_{j}}\\right) = - \\frac{\\sqrt{2} A \\sqrt{\\lambda_{ij}} \\sqrt{h_{i}} \\sqrt{h_{j}} \\left(\\lambda_{ij} \\left<{\\eta_{ij}}\\right> h_{j} + \\lambda_{ij} \\left<{\\eta_{ik}}\\right> h_{i} + \\lambda_{ij} h_{i} + \\left<{m_i}\\right> h_{i} h_{j} + h_{j}\\right)}{2 \\Delta}\n",
      "{\\cal F}_{123}\\left(h_{i}, h_{j}, \\lambda_{ij}, \\frac{\\lambda_{ij} h_{i}}{h_{j}}\\right) = - \\frac{\\sqrt{2} A \\sqrt{\\lambda_{ij}} \\sqrt{h_{i}} \\sqrt{h_{j}} \\left(2 \\lambda_{ij} \\left<{m_i}\\right> h_{i} + \\lambda_{ij} \\left<{m_j}\\right> h_{j} + \\lambda_{ij} + h_{i} h_{j}\\right)}{2 \\Delta}\n",
      "{\\cal F}_{deg,0, 0, 0, 0}\\left(h_{i}, h_{j}, \\lambda_{ij}, \\frac{\\lambda_{ij} h_{i}}{h_{j}}\\right) = - \\frac{A \\lambda_{ij} h_{i} h_{j}}{2 \\Delta}\n"
     ]
    },
    {
     "data": {
      "text/latex": [
       "$\\displaystyle \\Delta = \\lambda_{ij}^{3} \\left<{\\eta_{ij}}\\right> h_{j}^{3} - 2 \\lambda_{ij}^{3} \\left<{\\eta_{ik}}\\right> h_{i}^{3} + \\lambda_{ij}^{3} \\left<{\\eta_{ik}}\\right> h_{i} h_{j}^{2} - 2 \\lambda_{ij}^{3} h_{i}^{3} + 2 \\lambda_{ij}^{3} h_{i} h_{j}^{2} - \\lambda_{ij}^{2} \\left<{\\eta_{ij}}\\right> h_{i} h_{j}^{2} + \\lambda_{ij}^{2} \\left<{\\eta_{ik}}\\right> h_{i}^{2} h_{j} - \\lambda_{ij}^{2} \\left<{m_i}\\right> h_{i} h_{j}^{3} + 2 \\lambda_{ij}^{2} \\left<{m_j}\\right> h_{i}^{2} h_{j}^{2} - \\lambda_{ij}^{2} \\left<{m_j}\\right> h_{j}^{4} - \\lambda_{ij} \\left<{\\eta_{ij}}\\right> h_{i}^{2} h_{j}^{3} + \\lambda_{ij} \\left<{\\eta_{ik}}\\right> h_{i}^{3} h_{j}^{2} - \\lambda_{ij} \\left<{m_i}\\right> h_{i}^{2} h_{j}^{2} + \\lambda_{ij} \\left<{m_j}\\right> h_{i} h_{j}^{3} + 2 \\lambda_{ij} h_{i}^{3} h_{j}^{2} - 2 \\lambda_{ij} h_{i} h_{j}^{4} + \\left<{m_i}\\right> h_{i}^{3} h_{j}^{3} - \\left<{m_j}\\right> h_{i}^{2} h_{j}^{4}$"
      ],
      "text/plain": [
       "Eq(\\Delta, \\lambda_{ij}**3*\\left<{\\eta_{ij}}\\right>*h_j**3 - 2*\\lambda_{ij}**3*\\left<{\\eta_{ik}}\\right>*h_i**3 + \\lambda_{ij}**3*\\left<{\\eta_{ik}}\\right>*h_i*h_j**2 - 2*\\lambda_{ij}**3*h_i**3 + 2*\\lambda_{ij}**3*h_i*h_j**2 - \\lambda_{ij}**2*\\left<{\\eta_{ij}}\\right>*h_i*h_j**2 + \\lambda_{ij}**2*\\left<{\\eta_{ik}}\\right>*h_i**2*h_j - \\lambda_{ij}**2*\\left<{m_i}\\right>*h_i*h_j**3 + 2*\\lambda_{ij}**2*\\left<{m_j}\\right>*h_i**2*h_j**2 - \\lambda_{ij}**2*\\left<{m_j}\\right>*h_j**4 - \\lambda_{ij}*\\left<{\\eta_{ij}}\\right>*h_i**2*h_j**3 + \\lambda_{ij}*\\left<{\\eta_{ik}}\\right>*h_i**3*h_j**2 - \\lambda_{ij}*\\left<{m_i}\\right>*h_i**2*h_j**2 + \\lambda_{ij}*\\left<{m_j}\\right>*h_i*h_j**3 + 2*\\lambda_{ij}*h_i**3*h_j**2 - 2*\\lambda_{ij}*h_i*h_j**4 + \\left<{m_i}\\right>*h_i**3*h_j**3 - \\left<{m_j}\\right>*h_i**2*h_j**4)"
      ]
     },
     "metadata": {},
     "output_type": "display_data"
    },
    {
     "name": "stdout",
     "output_type": "stream",
     "text": [
      "\\Delta = \\lambda_{ij}^{3} \\left<{\\eta_{ij}}\\right> h_{j}^{3} - 2 \\lambda_{ij}^{3} \\left<{\\eta_{ik}}\\right> h_{i}^{3} + \\lambda_{ij}^{3} \\left<{\\eta_{ik}}\\right> h_{i} h_{j}^{2} - 2 \\lambda_{ij}^{3} h_{i}^{3} + 2 \\lambda_{ij}^{3} h_{i} h_{j}^{2} - \\lambda_{ij}^{2} \\left<{\\eta_{ij}}\\right> h_{i} h_{j}^{2} + \\lambda_{ij}^{2} \\left<{\\eta_{ik}}\\right> h_{i}^{2} h_{j} - \\lambda_{ij}^{2} \\left<{m_i}\\right> h_{i} h_{j}^{3} + 2 \\lambda_{ij}^{2} \\left<{m_j}\\right> h_{i}^{2} h_{j}^{2} - \\lambda_{ij}^{2} \\left<{m_j}\\right> h_{j}^{4} - \\lambda_{ij} \\left<{\\eta_{ij}}\\right> h_{i}^{2} h_{j}^{3} + \\lambda_{ij} \\left<{\\eta_{ik}}\\right> h_{i}^{3} h_{j}^{2} - \\lambda_{ij} \\left<{m_i}\\right> h_{i}^{2} h_{j}^{2} + \\lambda_{ij} \\left<{m_j}\\right> h_{i} h_{j}^{3} + 2 \\lambda_{ij} h_{i}^{3} h_{j}^{2} - 2 \\lambda_{ij} h_{i} h_{j}^{4} + \\left<{m_i}\\right> h_{i}^{3} h_{j}^{3} - \\left<{m_j}\\right> h_{i}^{2} h_{j}^{4}\n"
     ]
    }
   ],
   "source": [
    "vector_system_moments_degenerate = list(map(lambda item: item.replace(lik, lij*hi/hj), vector_system_moments_degenerate))\n",
    "\n",
    "result = sp.solve_linear_system(M, *vector_system_moments_degenerate)\n",
    "\n",
    "value_system_moments_degenerate = []\n",
    "for key in vector_system_moments_degenerate:\n",
    "    value_system_moments_degenerate.append(result[key].factor())\n",
    "\n",
    "n, d = sp.fraction(value_system_moments_degenerate[0])\n",
    "det_system_moments_degenerate_value = d/2\n",
    "det_system_moments_degenerate = sp.Symbol(\"\\\\Delta\")\n",
    "subs_det_system_moments_degenerate = {det_system_moments_degenerate: det_system_moments_degenerate_value}\n",
    "\n",
    "value_system_moments_degenerate = list(map(lambda item: item.subs(det_system_moments_degenerate_value, det_system_moments_degenerate), value_system_moments_degenerate))\n",
    "\n",
    "for i in range(4):\n",
    "    display(sp.Eq(vector_system_moments_degenerate[i], value_system_moments_degenerate[i]))\n",
    "for i in range(4):\n",
    "    sp.print_latex(sp.Eq(vector_system_moments_degenerate[i], value_system_moments_degenerate[i]))\n",
    "\n",
    "display(sp.Eq(det_system_moments_degenerate, det_system_moments_degenerate_value))\n",
    "sp.print_latex(sp.Eq(det_system_moments_degenerate, det_system_moments_degenerate_value))"
   ]
  },
  {
   "cell_type": "code",
   "execution_count": null,
   "metadata": {},
   "outputs": [
    {
     "data": {
      "text/latex": [
       "$\\displaystyle \\lambda_{ij} \\left<{\\eta_{ij}}\\right> h_{j}^{2} \\left(\\lambda_{ij}^{2} h_{j} - \\lambda_{ij} h_{i} - h_{i}^{2} h_{j}\\right) - \\lambda_{ij} \\left<{\\eta_{ik}}\\right> h_{i} \\left(2 \\lambda_{ij}^{2} h_{i}^{2} - \\lambda_{ij}^{2} h_{j}^{2} - \\lambda_{ij} h_{i} h_{j} - h_{i}^{2} h_{j}^{2}\\right) - 2 \\lambda_{ij} h_{i} \\left(\\lambda_{ij} - h_{j}\\right) \\left(\\lambda_{ij} + h_{j}\\right) \\left(h_{i} - h_{j}\\right) \\left(h_{i} + h_{j}\\right) - \\left<{m_i}\\right> h_{i} h_{j}^{2} \\left(\\lambda_{ij}^{2} h_{j} + \\lambda_{ij} h_{i} - h_{i}^{2} h_{j}\\right) + \\left<{m_j}\\right> h_{j}^{2} \\left(2 \\lambda_{ij}^{2} h_{i}^{2} - \\lambda_{ij}^{2} h_{j}^{2} + \\lambda_{ij} h_{i} h_{j} - h_{i}^{2} h_{j}^{2}\\right)$"
      ],
      "text/plain": [
       "\\lambda_{ij}*\\left<{\\eta_{ij}}\\right>*h_j**2*(\\lambda_{ij}**2*h_j - \\lambda_{ij}*h_i - h_i**2*h_j) - \\lambda_{ij}*\\left<{\\eta_{ik}}\\right>*h_i*(2*\\lambda_{ij}**2*h_i**2 - \\lambda_{ij}**2*h_j**2 - \\lambda_{ij}*h_i*h_j - h_i**2*h_j**2) - 2*\\lambda_{ij}*h_i*(\\lambda_{ij} - h_j)*(\\lambda_{ij} + h_j)*(h_i - h_j)*(h_i + h_j) - \\left<{m_i}\\right>*h_i*h_j**2*(\\lambda_{ij}**2*h_j + \\lambda_{ij}*h_i - h_i**2*h_j) + \\left<{m_j}\\right>*h_j**2*(2*\\lambda_{ij}**2*h_i**2 - \\lambda_{ij}**2*h_j**2 + \\lambda_{ij}*h_i*h_j - h_i**2*h_j**2)"
      ]
     },
     "metadata": {},
     "output_type": "display_data"
    },
    {
     "name": "stdout",
     "output_type": "stream",
     "text": [
      "\\lambda_{ij} \\left<{\\eta_{ij}}\\right> h_{j}^{2} \\left(\\lambda_{ij}^{2} h_{j} - \\lambda_{ij} h_{i} - h_{i}^{2} h_{j}\\right) - \\lambda_{ij} \\left<{\\eta_{ik}}\\right> h_{i} \\left(2 \\lambda_{ij}^{2} h_{i}^{2} - \\lambda_{ij}^{2} h_{j}^{2} - \\lambda_{ij} h_{i} h_{j} - h_{i}^{2} h_{j}^{2}\\right) - 2 \\lambda_{ij} h_{i} \\left(\\lambda_{ij} - h_{j}\\right) \\left(\\lambda_{ij} + h_{j}\\right) \\left(h_{i} - h_{j}\\right) \\left(h_{i} + h_{j}\\right) - \\left<{m_i}\\right> h_{i} h_{j}^{2} \\left(\\lambda_{ij}^{2} h_{j} + \\lambda_{ij} h_{i} - h_{i}^{2} h_{j}\\right) + \\left<{m_j}\\right> h_{j}^{2} \\left(2 \\lambda_{ij}^{2} h_{i}^{2} - \\lambda_{ij}^{2} h_{j}^{2} + \\lambda_{ij} h_{i} h_{j} - h_{i}^{2} h_{j}^{2}\\right)\n"
     ]
    },
    {
     "data": {
      "text/latex": [
       "$\\displaystyle 0$"
      ],
      "text/plain": [
       "0"
      ]
     },
     "execution_count": 101,
     "metadata": {},
     "output_type": "execute_result"
    }
   ],
   "source": [
    "expr = det_system_moments_degenerate_value.collect([mi, mj, eta_ij, eta_ik], sp.factor)\n",
    "display(expr)\n",
    "sp.print_latex(expr)\n",
    "det_system_moments_degenerate_value.subs({hj: hi, mj: mi, eta_ik: eta_ij})"
   ]
  },
  {
   "cell_type": "code",
   "execution_count": null,
   "metadata": {},
   "outputs": [],
   "source": [
    "subs_to_A_degenerate = {EFunction(hi, hj, lij, lij*hi/hj, 0, 0, 1): sp.solve(A_system_moments_degenerate_value-A_system_moments_degenerate, EFunction(hi, hj, lij, lij*hi/hj, 0, 0, 1))[0]}\n",
    "subs_to_moments_degenerate = dict(zip(vector_system_moments_degenerate, value_system_moments_degenerate))"
   ]
  },
  {
   "cell_type": "code",
   "execution_count": null,
   "metadata": {},
   "outputs": [
    {
     "data": {
      "text/latex": [
       "$\\displaystyle \\left<{\\eta_{ik}}\\right>$"
      ],
      "text/plain": [
       "\\left<{\\eta_{ik}}\\right>"
      ]
     },
     "execution_count": 103,
     "metadata": {},
     "output_type": "execute_result"
    }
   ],
   "source": [
    "expr = expr_eta_ik_degenerate.replace(lik, lij*hi/hj)\n",
    "expr.subs(subs_to_A_degenerate).subs(subs_to_moments_degenerate).subs(subs_det_system_moments_degenerate).factor()"
   ]
  },
  {
   "cell_type": "code",
   "execution_count": null,
   "metadata": {},
   "outputs": [],
   "source": [
    "def calc_degenerate(expr):\n",
    "    expr = expr.expand()\n",
    "    expr = evaluate_cF3_degenerate(expr)\n",
    "    expr = expr.subs(subs_to_cF3Function_degenerate).expand()\n",
    "    expr = expr.replace(lik, lij*hi/hj)\n",
    "    expr = expr.subs(subs_to_A_degenerate).subs(subs_to_moments_degenerate).expand()\n",
    "    return expr"
   ]
  },
  {
   "cell_type": "code",
   "execution_count": null,
   "metadata": {},
   "outputs": [],
   "source": [
    "expr_Q_star_degenerate = calc_degenerate(Z3_degenerate_expr.diff(lij, 2)/(2*Z3_degenerate_expr) - eta_ik - 1)\n",
    "\n",
    "# expr_Q_star_degenerate"
   ]
  },
  {
   "cell_type": "code",
   "execution_count": null,
   "metadata": {},
   "outputs": [],
   "source": [
    "expr_diff_h_i_l_ij_degenerate = calc_degenerate(Z3_degenerate_expr.diff(hi, lij)/(Z3_degenerate_expr))\n",
    "expr_m_j_eta_ij_degenerate = calc_degenerate(Z3_degenerate_expr.diff(hj, lij)/(2*Z3_degenerate_expr))\n",
    "expr_m_i_eta_ik_degenerate = calc_degenerate(Z3_degenerate_expr.diff(hi, lik)/(2*Z3_degenerate_expr))\n",
    "expr_eta_ik_2_degenerate = calc_degenerate(Z3_degenerate_expr.diff(lik, 2)/(Z3_degenerate_expr))"
   ]
  },
  {
   "cell_type": "code",
   "execution_count": null,
   "metadata": {},
   "outputs": [],
   "source": [
    "vector_system_moments_2_degenerate = [\n",
    "    EFunction(hi, hj, lij, lij*hi/hj, 0, 0, 0)/A_system_moments_degenerate,\n",
    "    EFunction(hi, hj, lij, lij*hi/hj, 1, 1, 0)/A_system_moments_degenerate,\n",
    "    EFunction(hi, hj, lij, lij*hi/hj, 1, 0, 1)/A_system_moments_degenerate,\n",
    "    EFunction(hi, hj, lij, lij*hi/hj, 1, 0, 0)/A_system_moments_degenerate\n",
    "]\n",
    "\n",
    "line1 = get_line_Matrix(expr_diff_h_i_l_ij_degenerate-sp.Dummy(), vector_system_moments_2_degenerate)\n",
    "line2 = get_line_Matrix(expr_m_j_eta_ij_degenerate-mj_eta_ij, vector_system_moments_2_degenerate)\n",
    "line3 = get_line_Matrix(expr_m_i_eta_ik_degenerate-mi_eta_ik, vector_system_moments_2_degenerate)\n",
    "line4 = get_line_Matrix(expr_eta_ik_2_degenerate-eta_ik_2, vector_system_moments_2_degenerate)"
   ]
  },
  {
   "cell_type": "code",
   "execution_count": null,
   "metadata": {},
   "outputs": [
    {
     "data": {
      "text/latex": [
       "$\\displaystyle \\left[\\begin{matrix}0 & - \\frac{\\Delta}{\\lambda_{ij}^{2} h_{i}^{2}} & 0 & 0 & Dummy_{1813} - \\frac{\\Delta}{3 \\lambda_{ij}^{2} h_{i}^{2} h_{j}^{2}} - \\frac{\\Delta}{3 \\lambda_{ij}^{3} h_{i} h_{j}} + \\frac{\\lambda_{ij} \\left<{\\eta_{ij}}\\right> h_{j}}{3 h_{i}^{2}} - \\frac{2 \\lambda_{ij} \\left<{\\eta_{ik}}\\right> h_{i}}{3 h_{j}^{2}} + \\frac{\\lambda_{ij} \\left<{\\eta_{ik}}\\right>}{3 h_{i}} - \\frac{2 \\lambda_{ij} h_{i}}{3 h_{j}^{2}} + \\frac{2 \\lambda_{ij}}{3 h_{i}} + \\frac{2 \\left<m_j\\eta_{ij}\\right> h_{j}}{h_{i}} + \\frac{\\left<{\\eta_{ij}}\\right> h_{j}^{2}}{3 h_{i}} + \\frac{5 \\left<{\\eta_{ij}}\\right>}{3 h_{i}} - \\frac{2 \\left<{\\eta_{ik}}\\right> h_{i}^{2}}{3 h_{j}} + \\frac{\\left<{\\eta_{ik}}\\right> h_{j}}{3} + \\frac{\\left<{\\eta_{ik}}\\right>}{3 h_{j}} + \\frac{5 \\left<{m_i}\\right> h_{j}}{3 h_{i}} + \\frac{2 \\left<{m_j}\\right>}{3} + \\frac{2 \\left<{m_j}\\right> h_{j}^{2}}{3 h_{i}^{2}} - \\frac{2 h_{i}^{2}}{3 h_{j}} + \\frac{2 h_{j}}{3} + \\frac{h_{j}}{h_{i}^{2}} + \\frac{10 \\left<{\\eta_{ij}}\\right> h_{j}}{3 \\lambda_{ij}} + \\frac{2 \\left<{\\eta_{ik}}\\right> h_{i}}{3 \\lambda_{ij}} - \\frac{\\left<{m_i}\\right> h_{j}^{2}}{3 \\lambda_{ij}} + \\frac{5 \\left<{m_i}\\right>}{3 \\lambda_{ij}} + \\frac{2 \\left<{m_j}\\right> h_{i} h_{j}}{3 \\lambda_{ij}} - \\frac{\\left<{m_j}\\right> h_{j}^{3}}{3 \\lambda_{ij} h_{i}} + \\frac{4 \\left<{m_j}\\right> h_{j}}{3 \\lambda_{ij} h_{i}} + \\frac{2 h_{i}}{3 \\lambda_{ij}} + \\frac{4 h_{j}^{2}}{3 \\lambda_{ij} h_{i}} + \\frac{1}{\\lambda_{ij} h_{i}} - \\frac{\\left<{\\eta_{ij}}\\right> h_{i} h_{j}^{2}}{3 \\lambda_{ij}^{2}} + \\frac{\\left<{\\eta_{ik}}\\right> h_{i}^{2} h_{j}}{3 \\lambda_{ij}^{2}} + \\frac{\\left<{m_j}\\right> h_{j}^{2}}{\\lambda_{ij}^{2}} + \\frac{2 h_{i}^{2} h_{j}}{3 \\lambda_{ij}^{2}} - \\frac{2 h_{j}^{3}}{3 \\lambda_{ij}^{2}} + \\frac{h_{j}}{\\lambda_{ij}^{2}} + \\frac{\\left<{m_i}\\right> h_{i}^{2} h_{j}^{2}}{3 \\lambda_{ij}^{3}} - \\frac{\\left<{m_j}\\right> h_{i} h_{j}^{3}}{3 \\lambda_{ij}^{3}}\\\\0 & 0 & \\frac{\\Delta}{2 \\lambda_{ij}^{2} h_{j}^{2}} & 0 & - \\frac{Dummy_{1813} h_{i}}{2 h_{j}} + \\frac{\\Delta}{6 \\lambda_{ij} h_{j}^{4}} + \\frac{\\Delta}{12 \\lambda_{ij} h_{i}^{2} h_{j}^{2}} - \\frac{\\Delta}{12 \\lambda_{ij}^{2} h_{i} h_{j}^{3}} - \\frac{\\Delta}{12 \\lambda_{ij}^{3} h_{j}^{2}} - \\frac{\\lambda_{ij}^{2} \\left<{\\eta_{ij}}\\right>}{6 h_{j}} - \\frac{\\lambda_{ij}^{2} \\left<{\\eta_{ij}}\\right> h_{j}}{12 h_{i}^{2}} + \\frac{\\lambda_{ij}^{2} \\left<{\\eta_{ik}}\\right> h_{i}^{3}}{3 h_{j}^{4}} - \\frac{\\lambda_{ij}^{2} \\left<{\\eta_{ik}}\\right>}{12 h_{i}} + \\frac{\\lambda_{ij}^{2} h_{i}^{3}}{3 h_{j}^{4}} - \\frac{\\lambda_{ij}^{2} h_{i}}{6 h_{j}^{2}} - \\frac{\\lambda_{ij}^{2}}{6 h_{i}} + \\frac{\\lambda_{ij} \\left<{\\eta_{ij}}\\right> h_{i}}{6 h_{j}^{2}} + \\frac{\\lambda_{ij} \\left<{\\eta_{ij}}\\right>}{6 h_{i}} - \\frac{\\lambda_{ij} \\left<{\\eta_{ik}}\\right> h_{i}^{2}}{3 h_{j}^{3}} + \\frac{\\lambda_{ij} \\left<{m_i}\\right> h_{i}}{6 h_{j}} + \\frac{\\lambda_{ij} \\left<{m_i}\\right> h_{j}}{12 h_{i}} - \\frac{\\lambda_{ij} \\left<{m_j}\\right> h_{i}^{2}}{3 h_{j}^{2}} + \\frac{\\lambda_{ij} \\left<{m_j}\\right> h_{j}^{2}}{12 h_{i}^{2}} - \\frac{\\lambda_{ij} h_{i}^{2}}{6 h_{j}^{3}} + \\frac{\\lambda_{ij}}{6 h_{j}} - \\frac{\\left<m_i\\eta_{ik}\\right> h_{i}^{2}}{h_{j}^{2}} + \\frac{\\left<{\\eta_{ij}}\\right> h_{i}^{2}}{6 h_{j}} + \\frac{\\left<{\\eta_{ij}}\\right> h_{j}}{6} - \\frac{7 \\left<{\\eta_{ij}}\\right>}{12 h_{j}} - \\frac{\\left<{\\eta_{ik}}\\right> h_{i}^{3}}{3 h_{j}^{2}} - \\frac{5 \\left<{\\eta_{ik}}\\right> h_{i}}{12 h_{j}^{2}} - \\frac{5 \\left<{m_i}\\right> h_{i}^{2}}{6 h_{j}^{2}} - \\frac{\\left<{m_i}\\right>}{2} - \\frac{\\left<{m_j}\\right> h_{j}}{6 h_{i}} - \\frac{h_{i}^{3}}{2 h_{j}^{2}} + \\frac{h_{i}}{3} - \\frac{h_{i}}{2 h_{j}^{2}} + \\frac{h_{j}^{2}}{6 h_{i}} - \\frac{7 \\left<{\\eta_{ij}}\\right> h_{i}}{6 \\lambda_{ij}} - \\frac{5 \\left<{\\eta_{ik}}\\right> h_{i}^{2}}{6 \\lambda_{ij} h_{j}} - \\frac{\\left<{m_i}\\right> h_{i}^{3}}{6 \\lambda_{ij} h_{j}} - \\frac{\\left<{m_i}\\right> h_{i} h_{j}}{6 \\lambda_{ij}} - \\frac{13 \\left<{m_i}\\right> h_{i}}{12 \\lambda_{ij} h_{j}} + \\frac{\\left<{m_j}\\right> h_{i}^{2}}{3 \\lambda_{ij}} - \\frac{5 \\left<{m_j}\\right>}{12 \\lambda_{ij}} - \\frac{5 h_{i}^{2}}{6 \\lambda_{ij} h_{j}} - \\frac{h_{j}}{6 \\lambda_{ij}} - \\frac{1}{2 \\lambda_{ij} h_{j}} - \\frac{\\left<{\\eta_{ij}}\\right> h_{i}^{2} h_{j}}{12 \\lambda_{ij}^{2}} + \\frac{\\left<{\\eta_{ik}}\\right> h_{i}^{3}}{12 \\lambda_{ij}^{2}} - \\frac{\\left<{m_i}\\right> h_{i}^{2}}{2 \\lambda_{ij}^{2}} + \\frac{h_{i}^{3}}{6 \\lambda_{ij}^{2}} - \\frac{h_{i} h_{j}^{2}}{6 \\lambda_{ij}^{2}} - \\frac{h_{i}}{2 \\lambda_{ij}^{2}} + \\frac{\\left<{m_i}\\right> h_{i}^{3} h_{j}}{12 \\lambda_{ij}^{3}} - \\frac{\\left<{m_j}\\right> h_{i}^{2} h_{j}^{2}}{12 \\lambda_{ij}^{3}}\\\\0 & 0 & 0 & \\frac{\\Delta}{4 \\lambda_{ij} h_{i}^{3}} & - \\frac{Dummy_{1813} h_{j}}{4 h_{i}} + \\frac{\\Delta}{4 \\lambda_{ij} h_{i}^{2} h_{j}^{2}} - \\frac{\\Delta}{24 \\lambda_{ij} h_{i}^{4}} + \\frac{7 \\Delta}{24 \\lambda_{ij}^{2} h_{i}^{3} h_{j}} + \\frac{\\Delta}{24 \\lambda_{ij}^{3} h_{i}^{2}} - \\frac{\\lambda_{ij}^{2} \\left<{\\eta_{ij}}\\right> h_{j}}{4 h_{i}^{2}} + \\frac{\\lambda_{ij}^{2} \\left<{\\eta_{ij}}\\right> h_{j}^{3}}{24 h_{i}^{4}} + \\frac{\\lambda_{ij}^{2} \\left<{\\eta_{ik}}\\right> h_{i}}{2 h_{j}^{2}} - \\frac{\\lambda_{ij}^{2} \\left<{\\eta_{ik}}\\right>}{3 h_{i}} + \\frac{\\lambda_{ij}^{2} \\left<{\\eta_{ik}}\\right> h_{j}^{2}}{24 h_{i}^{3}} + \\frac{\\lambda_{ij}^{2} h_{i}}{2 h_{j}^{2}} - \\frac{7 \\lambda_{ij}^{2}}{12 h_{i}} + \\frac{\\lambda_{ij}^{2} h_{j}^{2}}{12 h_{i}^{3}} + \\frac{\\lambda_{ij} \\left<\\eta_{ik}^{2}\\right>}{2 h_{j}} - \\frac{3 \\lambda_{ij} \\left<{\\eta_{ij}}\\right>}{4 h_{i}} - \\frac{7 \\lambda_{ij} \\left<{\\eta_{ij}}\\right> h_{j}^{2}}{12 h_{i}^{3}} + \\frac{\\lambda_{ij} \\left<{\\eta_{ik}}\\right>}{3 h_{j}} - \\frac{3 \\lambda_{ij} \\left<{\\eta_{ik}}\\right> h_{j}}{4 h_{i}^{2}} + \\frac{\\lambda_{ij} \\left<{m_i}\\right> h_{j}}{4 h_{i}} - \\frac{\\lambda_{ij} \\left<{m_i}\\right> h_{j}^{3}}{24 h_{i}^{3}} - \\frac{\\lambda_{ij} \\left<{m_j}\\right>}{2} + \\frac{\\lambda_{ij} \\left<{m_j}\\right> h_{j}^{2}}{3 h_{i}^{2}} - \\frac{\\lambda_{ij} \\left<{m_j}\\right> h_{j}^{4}}{24 h_{i}^{4}} + \\frac{\\lambda_{ij}}{12 h_{j}} - \\frac{13 \\lambda_{ij} h_{j}}{12 h_{i}^{2}} + \\frac{\\left<m_i\\eta_{ik}\\right>}{2} + \\frac{\\left<{\\eta_{ij}}\\right> h_{j}}{4} - \\frac{\\left<{\\eta_{ij}}\\right> h_{j}^{3}}{12 h_{i}^{2}} - \\frac{5 \\left<{\\eta_{ij}}\\right> h_{j}}{24 h_{i}^{2}} - \\frac{\\left<{\\eta_{ik}}\\right> h_{i}}{6} + \\frac{11 \\left<{\\eta_{ik}}\\right>}{24 h_{i}} - \\frac{\\left<{m_i}\\right>}{4} - \\frac{\\left<{m_i}\\right> h_{j}^{2}}{4 h_{i}^{2}} - \\frac{5 \\left<{m_j}\\right> h_{j}}{6 h_{i}} + \\frac{\\left<{m_j}\\right> h_{j}^{3}}{3 h_{i}^{3}} - \\frac{5 h_{i}}{12} + \\frac{h_{j}^{2}}{2 h_{i}} - \\frac{1}{4 h_{i}} - \\frac{h_{j}^{4}}{12 h_{i}^{3}} - \\frac{h_{j}^{2}}{4 h_{i}^{3}} + \\frac{\\left<{\\eta_{ij}}\\right> h_{j}^{2}}{12 \\lambda_{ij} h_{i}} - \\frac{\\left<{\\eta_{ik}}\\right> h_{j}}{3 \\lambda_{ij}} - \\frac{\\left<{m_i}\\right> h_{i} h_{j}}{4 \\lambda_{ij}} + \\frac{\\left<{m_i}\\right> h_{j}^{3}}{12 \\lambda_{ij} h_{i}} + \\frac{\\left<{m_i}\\right> h_{j}}{24 \\lambda_{ij} h_{i}} + \\frac{\\left<{m_j}\\right> h_{j}^{2}}{6 \\lambda_{ij}} - \\frac{13 \\left<{m_j}\\right> h_{j}^{2}}{24 \\lambda_{ij} h_{i}^{2}} - \\frac{7 h_{j}}{12 \\lambda_{ij}} + \\frac{7 h_{j}^{3}}{12 \\lambda_{ij} h_{i}^{2}} - \\frac{h_{j}}{4 \\lambda_{ij} h_{i}^{2}} + \\frac{\\left<{\\eta_{ij}}\\right> h_{j}^{3}}{24 \\lambda_{ij}^{2}} - \\frac{\\left<{\\eta_{ik}}\\right> h_{i} h_{j}^{2}}{24 \\lambda_{ij}^{2}} - \\frac{\\left<{m_i}\\right> h_{j}^{2}}{4 \\lambda_{ij}^{2}} + \\frac{\\left<{m_j}\\right> h_{j}^{3}}{4 \\lambda_{ij}^{2} h_{i}} - \\frac{h_{i} h_{j}^{2}}{12 \\lambda_{ij}^{2}} + \\frac{h_{j}^{4}}{12 \\lambda_{ij}^{2} h_{i}} - \\frac{\\left<{m_i}\\right> h_{i} h_{j}^{3}}{24 \\lambda_{ij}^{3}} + \\frac{\\left<{m_j}\\right> h_{j}^{4}}{24 \\lambda_{ij}^{3}}\\\\\\frac{\\Delta h_{j}}{5 \\lambda_{ij}^{2} h_{i}^{2}} & - \\frac{\\Delta h_{j}}{5 \\lambda_{ij}^{2} h_{i}^{2}} + \\frac{\\Delta h_{j}^{3}}{10 \\lambda_{ij}^{2} h_{i}^{4}} - \\frac{\\Delta h_{j}^{2}}{2 \\lambda_{ij}^{3} h_{i}^{3}} + \\frac{\\Delta h_{j}^{3}}{10 \\lambda_{ij}^{4} h_{i}^{2}} & - \\frac{\\Delta h_{j}^{2}}{5 \\lambda_{ij}^{2} h_{i}^{3}} + \\frac{3 \\Delta h_{j}}{10 \\lambda_{ij}^{3} h_{i}^{2}} & \\frac{3 \\Delta h_{j}}{10 \\lambda_{ij}^{2} h_{i}^{3}} - \\frac{\\Delta h_{j}^{2}}{5 \\lambda_{ij}^{3} h_{i}^{2}} & \\frac{4 \\Delta}{15 \\lambda_{ij}^{2} h_{i}^{2} h_{j}} - \\frac{\\Delta h_{j}}{10 \\lambda_{ij}^{2} h_{i}^{4}} + \\frac{2 \\Delta}{5 \\lambda_{ij}^{3} h_{i}^{3}} - \\frac{\\Delta h_{j}}{10 \\lambda_{ij}^{4} h_{i}^{2}} - \\frac{4 \\lambda_{ij} \\left<{\\eta_{ij}}\\right> h_{j}^{2}}{15 h_{i}^{2}} + \\frac{\\lambda_{ij} \\left<{\\eta_{ij}}\\right> h_{j}^{4}}{10 h_{i}^{4}} + \\frac{8 \\lambda_{ij} \\left<{\\eta_{ik}}\\right> h_{i}}{15 h_{j}} - \\frac{7 \\lambda_{ij} \\left<{\\eta_{ik}}\\right> h_{j}}{15 h_{i}} + \\frac{\\lambda_{ij} \\left<{\\eta_{ik}}\\right> h_{j}^{3}}{10 h_{i}^{3}} + \\frac{8 \\lambda_{ij} h_{i}}{15 h_{j}} - \\frac{11 \\lambda_{ij} h_{j}}{15 h_{i}} + \\frac{\\lambda_{ij} h_{j}^{3}}{5 h_{i}^{3}} + \\left<\\eta_{ik}^{2}\\right> - \\frac{14 \\left<{\\eta_{ij}}\\right> h_{j}}{15 h_{i}} - \\frac{4 \\left<{\\eta_{ij}}\\right> h_{j}^{3}}{5 h_{i}^{3}} + \\frac{8 \\left<{\\eta_{ik}}\\right>}{15} - \\frac{9 \\left<{\\eta_{ik}}\\right> h_{j}^{2}}{10 h_{i}^{2}} + \\frac{16 \\left<{m_i}\\right> h_{j}^{2}}{15 h_{i}} - \\frac{3 \\left<{m_i}\\right> h_{j}^{4}}{10 h_{i}^{3}} - \\frac{8 \\left<{m_j}\\right> h_{j}}{15} + \\frac{13 \\left<{m_j}\\right> h_{j}^{3}}{15 h_{i}^{2}} - \\frac{\\left<{m_j}\\right> h_{j}^{5}}{5 h_{i}^{4}} - \\frac{1}{5} - \\frac{h_{j}^{2}}{h_{i}^{2}} - \\frac{h_{j}^{4}}{10 h_{i}^{4}} + \\frac{16 \\left<{\\eta_{ij}}\\right> h_{j}^{2}}{15 \\lambda_{ij}} + \\frac{\\left<{\\eta_{ij}}\\right> h_{j}^{4}}{5 \\lambda_{ij} h_{i}^{2}} + \\frac{\\left<{\\eta_{ij}}\\right> h_{j}^{2}}{10 \\lambda_{ij} h_{i}^{2}} - \\frac{7 \\left<{\\eta_{ik}}\\right> h_{i} h_{j}}{15 \\lambda_{ij}} + \\frac{3 \\left<{\\eta_{ik}}\\right> h_{j}^{3}}{5 \\lambda_{ij} h_{i}} + \\frac{4 \\left<{\\eta_{ik}}\\right> h_{j}}{5 \\lambda_{ij} h_{i}} - \\frac{14 \\left<{m_i}\\right> h_{j}}{15 \\lambda_{ij}} + \\frac{6 \\left<{m_i}\\right> h_{j}^{3}}{5 \\lambda_{ij} h_{i}^{2}} - \\frac{22 \\left<{m_j}\\right> h_{j}^{2}}{15 \\lambda_{ij} h_{i}} + \\frac{11 \\left<{m_j}\\right> h_{j}^{4}}{10 \\lambda_{ij} h_{i}^{3}} - \\frac{11 h_{i} h_{j}}{15 \\lambda_{ij}} + \\frac{32 h_{j}^{3}}{15 \\lambda_{ij} h_{i}} - \\frac{2 h_{j}}{5 \\lambda_{ij} h_{i}} - \\frac{2 h_{j}^{5}}{5 \\lambda_{ij} h_{i}^{3}} + \\frac{3 h_{j}^{3}}{10 \\lambda_{ij} h_{i}^{3}} + \\frac{6 \\left<{\\eta_{ij}}\\right> h_{j}^{3}}{5 \\lambda_{ij}^{2} h_{i}} - \\frac{9 \\left<{\\eta_{ik}}\\right> h_{j}^{2}}{10 \\lambda_{ij}^{2}} - \\frac{4 \\left<{m_i}\\right> h_{i} h_{j}^{2}}{15 \\lambda_{ij}^{2}} + \\frac{\\left<{m_i}\\right> h_{j}^{4}}{5 \\lambda_{ij}^{2} h_{i}} + \\frac{\\left<{m_i}\\right> h_{j}^{2}}{10 \\lambda_{ij}^{2} h_{i}} + \\frac{13 \\left<{m_j}\\right> h_{j}^{3}}{15 \\lambda_{ij}^{2}} - \\frac{2 \\left<{m_j}\\right> h_{j}^{5}}{5 \\lambda_{ij}^{2} h_{i}^{2}} - \\frac{7 \\left<{m_j}\\right> h_{j}^{3}}{10 \\lambda_{ij}^{2} h_{i}^{2}} - \\frac{h_{j}^{2}}{\\lambda_{ij}^{2}} + \\frac{2 h_{j}^{4}}{\\lambda_{ij}^{2} h_{i}^{2}} - \\frac{3 h_{j}^{2}}{10 \\lambda_{ij}^{2} h_{i}^{2}} - \\frac{3 \\left<{\\eta_{ij}}\\right> h_{j}^{4}}{10 \\lambda_{ij}^{3}} + \\frac{\\left<{\\eta_{ik}}\\right> h_{i} h_{j}^{3}}{10 \\lambda_{ij}^{3}} - \\frac{4 \\left<{m_i}\\right> h_{j}^{3}}{5 \\lambda_{ij}^{3}} + \\frac{11 \\left<{m_j}\\right> h_{j}^{4}}{10 \\lambda_{ij}^{3} h_{i}} + \\frac{h_{i} h_{j}^{3}}{5 \\lambda_{ij}^{3}} - \\frac{2 h_{j}^{5}}{5 \\lambda_{ij}^{3} h_{i}} + \\frac{3 h_{j}^{3}}{10 \\lambda_{ij}^{3} h_{i}} + \\frac{\\left<{m_i}\\right> h_{i} h_{j}^{4}}{10 \\lambda_{ij}^{4}} - \\frac{\\left<{m_j}\\right> h_{j}^{5}}{5 \\lambda_{ij}^{4}} - \\frac{h_{j}^{4}}{10 \\lambda_{ij}^{4}}\\end{matrix}\\right]$"
      ],
      "text/plain": [
       "Matrix([\n",
       "[                                    0,                                                                                                                                          -\\Delta/(\\lambda_{ij}**2*h_i**2),                                                                                    0,                                                                                   0,                                                                                                                                                                                                                                                                                                                                                                                                                                                                                                                                                                                                                                                                                                                                                                                                                                                                                                                                                                                                                                                                                                                                                                                                                                                                                               _Dummy_1813 - \\Delta/(3*\\lambda_{ij}**2*h_i**2*h_j**2) - \\Delta/(3*\\lambda_{ij}**3*h_i*h_j) + \\lambda_{ij}*\\left<{\\eta_{ij}}\\right>*h_j/(3*h_i**2) - 2*\\lambda_{ij}*\\left<{\\eta_{ik}}\\right>*h_i/(3*h_j**2) + \\lambda_{ij}*\\left<{\\eta_{ik}}\\right>/(3*h_i) - 2*\\lambda_{ij}*h_i/(3*h_j**2) + 2*\\lambda_{ij}/(3*h_i) + 2*\\left<m_j\\eta_{ij}\\right>*h_j/h_i + \\left<{\\eta_{ij}}\\right>*h_j**2/(3*h_i) + 5*\\left<{\\eta_{ij}}\\right>/(3*h_i) - 2*\\left<{\\eta_{ik}}\\right>*h_i**2/(3*h_j) + \\left<{\\eta_{ik}}\\right>*h_j/3 + \\left<{\\eta_{ik}}\\right>/(3*h_j) + 5*\\left<{m_i}\\right>*h_j/(3*h_i) + 2*\\left<{m_j}\\right>/3 + 2*\\left<{m_j}\\right>*h_j**2/(3*h_i**2) - 2*h_i**2/(3*h_j) + 2*h_j/3 + h_j/h_i**2 + 10*\\left<{\\eta_{ij}}\\right>*h_j/(3*\\lambda_{ij}) + 2*\\left<{\\eta_{ik}}\\right>*h_i/(3*\\lambda_{ij}) - \\left<{m_i}\\right>*h_j**2/(3*\\lambda_{ij}) + 5*\\left<{m_i}\\right>/(3*\\lambda_{ij}) + 2*\\left<{m_j}\\right>*h_i*h_j/(3*\\lambda_{ij}) - \\left<{m_j}\\right>*h_j**3/(3*\\lambda_{ij}*h_i) + 4*\\left<{m_j}\\right>*h_j/(3*\\lambda_{ij}*h_i) + 2*h_i/(3*\\lambda_{ij}) + 4*h_j**2/(3*\\lambda_{ij}*h_i) + 1/(\\lambda_{ij}*h_i) - \\left<{\\eta_{ij}}\\right>*h_i*h_j**2/(3*\\lambda_{ij}**2) + \\left<{\\eta_{ik}}\\right>*h_i**2*h_j/(3*\\lambda_{ij}**2) + \\left<{m_j}\\right>*h_j**2/\\lambda_{ij}**2 + 2*h_i**2*h_j/(3*\\lambda_{ij}**2) - 2*h_j**3/(3*\\lambda_{ij}**2) + h_j/\\lambda_{ij}**2 + \\left<{m_i}\\right>*h_i**2*h_j**2/(3*\\lambda_{ij}**3) - \\left<{m_j}\\right>*h_i*h_j**3/(3*\\lambda_{ij}**3)],\n",
       "[                                    0,                                                                                                                                                                         0,                                                    \\Delta/(2*\\lambda_{ij}**2*h_j**2),                                                                                   0,                                                                                                                                                                                                                                                                                                                                                                                                                                                                                                                                                                                                                           -_Dummy_1813*h_i/(2*h_j) + \\Delta/(6*\\lambda_{ij}*h_j**4) + \\Delta/(12*\\lambda_{ij}*h_i**2*h_j**2) - \\Delta/(12*\\lambda_{ij}**2*h_i*h_j**3) - \\Delta/(12*\\lambda_{ij}**3*h_j**2) - \\lambda_{ij}**2*\\left<{\\eta_{ij}}\\right>/(6*h_j) - \\lambda_{ij}**2*\\left<{\\eta_{ij}}\\right>*h_j/(12*h_i**2) + \\lambda_{ij}**2*\\left<{\\eta_{ik}}\\right>*h_i**3/(3*h_j**4) - \\lambda_{ij}**2*\\left<{\\eta_{ik}}\\right>/(12*h_i) + \\lambda_{ij}**2*h_i**3/(3*h_j**4) - \\lambda_{ij}**2*h_i/(6*h_j**2) - \\lambda_{ij}**2/(6*h_i) + \\lambda_{ij}*\\left<{\\eta_{ij}}\\right>*h_i/(6*h_j**2) + \\lambda_{ij}*\\left<{\\eta_{ij}}\\right>/(6*h_i) - \\lambda_{ij}*\\left<{\\eta_{ik}}\\right>*h_i**2/(3*h_j**3) + \\lambda_{ij}*\\left<{m_i}\\right>*h_i/(6*h_j) + \\lambda_{ij}*\\left<{m_i}\\right>*h_j/(12*h_i) - \\lambda_{ij}*\\left<{m_j}\\right>*h_i**2/(3*h_j**2) + \\lambda_{ij}*\\left<{m_j}\\right>*h_j**2/(12*h_i**2) - \\lambda_{ij}*h_i**2/(6*h_j**3) + \\lambda_{ij}/(6*h_j) - \\left<m_i\\eta_{ik}\\right>*h_i**2/h_j**2 + \\left<{\\eta_{ij}}\\right>*h_i**2/(6*h_j) + \\left<{\\eta_{ij}}\\right>*h_j/6 - 7*\\left<{\\eta_{ij}}\\right>/(12*h_j) - \\left<{\\eta_{ik}}\\right>*h_i**3/(3*h_j**2) - 5*\\left<{\\eta_{ik}}\\right>*h_i/(12*h_j**2) - 5*\\left<{m_i}\\right>*h_i**2/(6*h_j**2) - \\left<{m_i}\\right>/2 - \\left<{m_j}\\right>*h_j/(6*h_i) - h_i**3/(2*h_j**2) + h_i/3 - h_i/(2*h_j**2) + h_j**2/(6*h_i) - 7*\\left<{\\eta_{ij}}\\right>*h_i/(6*\\lambda_{ij}) - 5*\\left<{\\eta_{ik}}\\right>*h_i**2/(6*\\lambda_{ij}*h_j) - \\left<{m_i}\\right>*h_i**3/(6*\\lambda_{ij}*h_j) - \\left<{m_i}\\right>*h_i*h_j/(6*\\lambda_{ij}) - 13*\\left<{m_i}\\right>*h_i/(12*\\lambda_{ij}*h_j) + \\left<{m_j}\\right>*h_i**2/(3*\\lambda_{ij}) - 5*\\left<{m_j}\\right>/(12*\\lambda_{ij}) - 5*h_i**2/(6*\\lambda_{ij}*h_j) - h_j/(6*\\lambda_{ij}) - 1/(2*\\lambda_{ij}*h_j) - \\left<{\\eta_{ij}}\\right>*h_i**2*h_j/(12*\\lambda_{ij}**2) + \\left<{\\eta_{ik}}\\right>*h_i**3/(12*\\lambda_{ij}**2) - \\left<{m_i}\\right>*h_i**2/(2*\\lambda_{ij}**2) + h_i**3/(6*\\lambda_{ij}**2) - h_i*h_j**2/(6*\\lambda_{ij}**2) - h_i/(2*\\lambda_{ij}**2) + \\left<{m_i}\\right>*h_i**3*h_j/(12*\\lambda_{ij}**3) - \\left<{m_j}\\right>*h_i**2*h_j**2/(12*\\lambda_{ij}**3)],\n",
       "[                                    0,                                                                                                                                                                         0,                                                                                    0,                                                      \\Delta/(4*\\lambda_{ij}*h_i**3),                                                                                                                                                                                                                                                                                                      -_Dummy_1813*h_j/(4*h_i) + \\Delta/(4*\\lambda_{ij}*h_i**2*h_j**2) - \\Delta/(24*\\lambda_{ij}*h_i**4) + 7*\\Delta/(24*\\lambda_{ij}**2*h_i**3*h_j) + \\Delta/(24*\\lambda_{ij}**3*h_i**2) - \\lambda_{ij}**2*\\left<{\\eta_{ij}}\\right>*h_j/(4*h_i**2) + \\lambda_{ij}**2*\\left<{\\eta_{ij}}\\right>*h_j**3/(24*h_i**4) + \\lambda_{ij}**2*\\left<{\\eta_{ik}}\\right>*h_i/(2*h_j**2) - \\lambda_{ij}**2*\\left<{\\eta_{ik}}\\right>/(3*h_i) + \\lambda_{ij}**2*\\left<{\\eta_{ik}}\\right>*h_j**2/(24*h_i**3) + \\lambda_{ij}**2*h_i/(2*h_j**2) - 7*\\lambda_{ij}**2/(12*h_i) + \\lambda_{ij}**2*h_j**2/(12*h_i**3) + \\lambda_{ij}*\\left<\\eta_{ik}^{2}\\right>/(2*h_j) - 3*\\lambda_{ij}*\\left<{\\eta_{ij}}\\right>/(4*h_i) - 7*\\lambda_{ij}*\\left<{\\eta_{ij}}\\right>*h_j**2/(12*h_i**3) + \\lambda_{ij}*\\left<{\\eta_{ik}}\\right>/(3*h_j) - 3*\\lambda_{ij}*\\left<{\\eta_{ik}}\\right>*h_j/(4*h_i**2) + \\lambda_{ij}*\\left<{m_i}\\right>*h_j/(4*h_i) - \\lambda_{ij}*\\left<{m_i}\\right>*h_j**3/(24*h_i**3) - \\lambda_{ij}*\\left<{m_j}\\right>/2 + \\lambda_{ij}*\\left<{m_j}\\right>*h_j**2/(3*h_i**2) - \\lambda_{ij}*\\left<{m_j}\\right>*h_j**4/(24*h_i**4) + \\lambda_{ij}/(12*h_j) - 13*\\lambda_{ij}*h_j/(12*h_i**2) + \\left<m_i\\eta_{ik}\\right>/2 + \\left<{\\eta_{ij}}\\right>*h_j/4 - \\left<{\\eta_{ij}}\\right>*h_j**3/(12*h_i**2) - 5*\\left<{\\eta_{ij}}\\right>*h_j/(24*h_i**2) - \\left<{\\eta_{ik}}\\right>*h_i/6 + 11*\\left<{\\eta_{ik}}\\right>/(24*h_i) - \\left<{m_i}\\right>/4 - \\left<{m_i}\\right>*h_j**2/(4*h_i**2) - 5*\\left<{m_j}\\right>*h_j/(6*h_i) + \\left<{m_j}\\right>*h_j**3/(3*h_i**3) - 5*h_i/12 + h_j**2/(2*h_i) - 1/(4*h_i) - h_j**4/(12*h_i**3) - h_j**2/(4*h_i**3) + \\left<{\\eta_{ij}}\\right>*h_j**2/(12*\\lambda_{ij}*h_i) - \\left<{\\eta_{ik}}\\right>*h_j/(3*\\lambda_{ij}) - \\left<{m_i}\\right>*h_i*h_j/(4*\\lambda_{ij}) + \\left<{m_i}\\right>*h_j**3/(12*\\lambda_{ij}*h_i) + \\left<{m_i}\\right>*h_j/(24*\\lambda_{ij}*h_i) + \\left<{m_j}\\right>*h_j**2/(6*\\lambda_{ij}) - 13*\\left<{m_j}\\right>*h_j**2/(24*\\lambda_{ij}*h_i**2) - 7*h_j/(12*\\lambda_{ij}) + 7*h_j**3/(12*\\lambda_{ij}*h_i**2) - h_j/(4*\\lambda_{ij}*h_i**2) + \\left<{\\eta_{ij}}\\right>*h_j**3/(24*\\lambda_{ij}**2) - \\left<{\\eta_{ik}}\\right>*h_i*h_j**2/(24*\\lambda_{ij}**2) - \\left<{m_i}\\right>*h_j**2/(4*\\lambda_{ij}**2) + \\left<{m_j}\\right>*h_j**3/(4*\\lambda_{ij}**2*h_i) - h_i*h_j**2/(12*\\lambda_{ij}**2) + h_j**4/(12*\\lambda_{ij}**2*h_i) - \\left<{m_i}\\right>*h_i*h_j**3/(24*\\lambda_{ij}**3) + \\left<{m_j}\\right>*h_j**4/(24*\\lambda_{ij}**3)],\n",
       "[\\Delta*h_j/(5*\\lambda_{ij}**2*h_i**2), -\\Delta*h_j/(5*\\lambda_{ij}**2*h_i**2) + \\Delta*h_j**3/(10*\\lambda_{ij}**2*h_i**4) - \\Delta*h_j**2/(2*\\lambda_{ij}**3*h_i**3) + \\Delta*h_j**3/(10*\\lambda_{ij}**4*h_i**2), -\\Delta*h_j**2/(5*\\lambda_{ij}**2*h_i**3) + 3*\\Delta*h_j/(10*\\lambda_{ij}**3*h_i**2), 3*\\Delta*h_j/(10*\\lambda_{ij}**2*h_i**3) - \\Delta*h_j**2/(5*\\lambda_{ij}**3*h_i**2), 4*\\Delta/(15*\\lambda_{ij}**2*h_i**2*h_j) - \\Delta*h_j/(10*\\lambda_{ij}**2*h_i**4) + 2*\\Delta/(5*\\lambda_{ij}**3*h_i**3) - \\Delta*h_j/(10*\\lambda_{ij}**4*h_i**2) - 4*\\lambda_{ij}*\\left<{\\eta_{ij}}\\right>*h_j**2/(15*h_i**2) + \\lambda_{ij}*\\left<{\\eta_{ij}}\\right>*h_j**4/(10*h_i**4) + 8*\\lambda_{ij}*\\left<{\\eta_{ik}}\\right>*h_i/(15*h_j) - 7*\\lambda_{ij}*\\left<{\\eta_{ik}}\\right>*h_j/(15*h_i) + \\lambda_{ij}*\\left<{\\eta_{ik}}\\right>*h_j**3/(10*h_i**3) + 8*\\lambda_{ij}*h_i/(15*h_j) - 11*\\lambda_{ij}*h_j/(15*h_i) + \\lambda_{ij}*h_j**3/(5*h_i**3) + \\left<\\eta_{ik}^{2}\\right> - 14*\\left<{\\eta_{ij}}\\right>*h_j/(15*h_i) - 4*\\left<{\\eta_{ij}}\\right>*h_j**3/(5*h_i**3) + 8*\\left<{\\eta_{ik}}\\right>/15 - 9*\\left<{\\eta_{ik}}\\right>*h_j**2/(10*h_i**2) + 16*\\left<{m_i}\\right>*h_j**2/(15*h_i) - 3*\\left<{m_i}\\right>*h_j**4/(10*h_i**3) - 8*\\left<{m_j}\\right>*h_j/15 + 13*\\left<{m_j}\\right>*h_j**3/(15*h_i**2) - \\left<{m_j}\\right>*h_j**5/(5*h_i**4) - 1/5 - h_j**2/h_i**2 - h_j**4/(10*h_i**4) + 16*\\left<{\\eta_{ij}}\\right>*h_j**2/(15*\\lambda_{ij}) + \\left<{\\eta_{ij}}\\right>*h_j**4/(5*\\lambda_{ij}*h_i**2) + \\left<{\\eta_{ij}}\\right>*h_j**2/(10*\\lambda_{ij}*h_i**2) - 7*\\left<{\\eta_{ik}}\\right>*h_i*h_j/(15*\\lambda_{ij}) + 3*\\left<{\\eta_{ik}}\\right>*h_j**3/(5*\\lambda_{ij}*h_i) + 4*\\left<{\\eta_{ik}}\\right>*h_j/(5*\\lambda_{ij}*h_i) - 14*\\left<{m_i}\\right>*h_j/(15*\\lambda_{ij}) + 6*\\left<{m_i}\\right>*h_j**3/(5*\\lambda_{ij}*h_i**2) - 22*\\left<{m_j}\\right>*h_j**2/(15*\\lambda_{ij}*h_i) + 11*\\left<{m_j}\\right>*h_j**4/(10*\\lambda_{ij}*h_i**3) - 11*h_i*h_j/(15*\\lambda_{ij}) + 32*h_j**3/(15*\\lambda_{ij}*h_i) - 2*h_j/(5*\\lambda_{ij}*h_i) - 2*h_j**5/(5*\\lambda_{ij}*h_i**3) + 3*h_j**3/(10*\\lambda_{ij}*h_i**3) + 6*\\left<{\\eta_{ij}}\\right>*h_j**3/(5*\\lambda_{ij}**2*h_i) - 9*\\left<{\\eta_{ik}}\\right>*h_j**2/(10*\\lambda_{ij}**2) - 4*\\left<{m_i}\\right>*h_i*h_j**2/(15*\\lambda_{ij}**2) + \\left<{m_i}\\right>*h_j**4/(5*\\lambda_{ij}**2*h_i) + \\left<{m_i}\\right>*h_j**2/(10*\\lambda_{ij}**2*h_i) + 13*\\left<{m_j}\\right>*h_j**3/(15*\\lambda_{ij}**2) - 2*\\left<{m_j}\\right>*h_j**5/(5*\\lambda_{ij}**2*h_i**2) - 7*\\left<{m_j}\\right>*h_j**3/(10*\\lambda_{ij}**2*h_i**2) - h_j**2/\\lambda_{ij}**2 + 2*h_j**4/(\\lambda_{ij}**2*h_i**2) - 3*h_j**2/(10*\\lambda_{ij}**2*h_i**2) - 3*\\left<{\\eta_{ij}}\\right>*h_j**4/(10*\\lambda_{ij}**3) + \\left<{\\eta_{ik}}\\right>*h_i*h_j**3/(10*\\lambda_{ij}**3) - 4*\\left<{m_i}\\right>*h_j**3/(5*\\lambda_{ij}**3) + 11*\\left<{m_j}\\right>*h_j**4/(10*\\lambda_{ij}**3*h_i) + h_i*h_j**3/(5*\\lambda_{ij}**3) - 2*h_j**5/(5*\\lambda_{ij}**3*h_i) + 3*h_j**3/(10*\\lambda_{ij}**3*h_i) + \\left<{m_i}\\right>*h_i*h_j**4/(10*\\lambda_{ij}**4) - \\left<{m_j}\\right>*h_j**5/(5*\\lambda_{ij}**4) - h_j**4/(10*\\lambda_{ij}**4)]])"
      ]
     },
     "metadata": {},
     "output_type": "display_data"
    }
   ],
   "source": [
    "M = sp.Matrix([line1, line2, line3, line4])\n",
    "\n",
    "M[0, :] += M[1, :]*2/hi*hj\n",
    "M[1, :] -= M[2, :]/hj**2*hi**2\n",
    "M[2, :] += M[3, :]*lij/hj/2\n",
    "\n",
    "M[1, :] -= M[0, :]/hj*hi/2\n",
    "M[2, :] += M[1, :]*hj**2/2/hi**2\n",
    "\n",
    "M = M.expand()\n",
    "\n",
    "display(M)"
   ]
  },
  {
   "cell_type": "code",
   "execution_count": null,
   "metadata": {},
   "outputs": [],
   "source": [
    "value_system_moments_2_degenerate = []\n",
    "\n",
    "value_system_moments_2_degenerate.append((M[0, -1]/M[0, 1]).factor())\n",
    "value_system_moments_2_degenerate.append((M[1, -1]/M[1, 2]).factor())\n",
    "value_system_moments_2_degenerate.append((M[2, -1]/M[2, 3]).factor())\n",
    "\n",
    "expr = sum([-M[-1, i+1]*value_system_moments_2_degenerate[i] for i in range(3)])+M[-1, -1]\n",
    "value_system_moments_2_degenerate.insert(0, (expr/M[-1, 0]).factor())\n",
    "\n",
    "# for i in range(4):\n",
    "#     display(sp.Eq(vector_system_moments_2_degenerate[i], value_system_moments_2_degenerate[i]))\n",
    "# for i in range(4):\n",
    "#     sp.print_latex(sp.Eq(vector_system_moments_2_degenerate[i], value_system_moments_2_degenerate[i]))"
   ]
  },
  {
   "cell_type": "code",
   "execution_count": null,
   "metadata": {},
   "outputs": [],
   "source": [
    "subs_to_moments_2_degenerate = dict(zip(vector_system_moments_2_degenerate, value_system_moments_2_degenerate))"
   ]
  },
  {
   "cell_type": "code",
   "execution_count": null,
   "metadata": {},
   "outputs": [
    {
     "data": {
      "text/latex": [
       "$\\displaystyle \\left<\\eta_{ik}^{2}\\right>$"
      ],
      "text/plain": [
       "\\left<\\eta_{ik}^{2}\\right>"
      ]
     },
     "execution_count": 111,
     "metadata": {},
     "output_type": "execute_result"
    }
   ],
   "source": [
    "expr_eta_ik_2_degenerate.subs(subs_to_moments_2_degenerate).factor()"
   ]
  },
  {
   "cell_type": "code",
   "execution_count": null,
   "metadata": {},
   "outputs": [
    {
     "data": {
      "text/latex": [
       "$\\displaystyle - \\frac{\\left<m_j\\eta_{ij}\\right> h_{j}}{\\lambda_{ij}} - \\frac{2 \\left<{\\eta_{ij}}\\right>}{\\lambda_{ij}} + \\frac{\\left<{m_i}\\right> h_{j}}{\\lambda_{ij}}$"
      ],
      "text/plain": [
       "-\\left<m_j\\eta_{ij}\\right>*h_j/\\lambda_{ij} - 2*\\left<{\\eta_{ij}}\\right>/\\lambda_{ij} + \\left<{m_i}\\right>*h_j/\\lambda_{ij}"
      ]
     },
     "execution_count": 112,
     "metadata": {},
     "output_type": "execute_result"
    }
   ],
   "source": [
    "expr_Q_star_degenerate_from_m_j_eta_ij = expr_Q_star_degenerate.subs(subs_to_moments_2_degenerate).subs(subs_det_system_moments_degenerate).factor().expand()\n",
    "expr_Q_star_degenerate_from_m_j_eta_ij"
   ]
  },
  {
   "cell_type": "code",
   "execution_count": null,
   "metadata": {},
   "outputs": [
    {
     "data": {
      "text/latex": [
       "$\\displaystyle \\left<m_{jh}^2\\right> = - \\frac{2 \\lambda_{ij} \\left<m_j\\eta_{ij}\\right>}{h_{j}} + \\frac{2 \\lambda_{ij} \\left<{m_i}\\right>}{h_{j}} - \\frac{2 \\left<{m_j}\\right>}{h_{j}} + 1$"
      ],
      "text/plain": [
       "Eq(\\left<m_{jh}^2\\right>, -2*\\lambda_{ij}*\\left<m_j\\eta_{ij}\\right>/h_j + 2*\\lambda_{ij}*\\left<{m_i}\\right>/h_j - 2*\\left<{m_j}\\right>/h_j + 1)"
      ]
     },
     "metadata": {},
     "output_type": "display_data"
    }
   ],
   "source": [
    "expr_m_j_par_2_degenerate = calc_degenerate(Z3_degenerate_expr.diff(hj, 2)/(Z3_degenerate_expr))\n",
    "expr = expr_m_j_par_2_degenerate.subs(subs_to_moments_2_degenerate).subs(subs_det_system_moments_degenerate).factor().expand()\n",
    "\n",
    "display(sp.Eq(mjh2, expr))"
   ]
  },
  {
   "cell_type": "code",
   "execution_count": null,
   "metadata": {},
   "outputs": [
    {
     "data": {
      "text/latex": [
       "$\\displaystyle \\frac{Dummy_{1813}}{2} - \\frac{\\left<m_j\\eta_{ij}\\right> h_{j}}{h_{i}} + \\frac{\\left<{m_i}\\right> h_{j}}{h_{i}} - \\left<{m_j}\\right>$"
      ],
      "text/plain": [
       "_Dummy_1813/2 - \\left<m_j\\eta_{ij}\\right>*h_j/h_i + \\left<{m_i}\\right>*h_j/h_i - \\left<{m_j}\\right>"
      ]
     },
     "execution_count": 114,
     "metadata": {},
     "output_type": "execute_result"
    }
   ],
   "source": [
    "expr_m_j_eta_ik_degenerate = calc_degenerate(Z3_degenerate_expr.diff(hj, lik)/(Z3_degenerate_expr))\n",
    "expr = expr_m_j_eta_ik_degenerate.subs(subs_to_moments_2_degenerate).subs(subs_det_system_moments_degenerate).factor().expand()\n",
    "expr"
   ]
  },
  {
   "cell_type": "markdown",
   "metadata": {},
   "source": [
    "#### Проверка"
   ]
  },
  {
   "cell_type": "code",
   "execution_count": null,
   "metadata": {},
   "outputs": [
    {
     "name": "stdout",
     "output_type": "stream",
     "text": [
      "0.5919397633608484\n",
      "0.5919388922079462\n",
      "\n",
      "0.6787309180732718\n",
      "0.6787291810795726\n",
      "\n",
      "0.6787309180733092\n",
      "0.6787291810795717\n",
      "\n",
      "0.5919397633608192\n",
      "0.5919388922079476\n",
      "\n"
     ]
    }
   ],
   "source": [
    "to_cF3 = lambda *args: cF3(*args[:4])\n",
    "\n",
    "f_expr_m_i_degenerate = sp.lambdify(args_coeffs, expr_m_i_degenerate.replace(cF3_degenerate, to_cF3), Z3sym.num_module_norm)\n",
    "f_expr_m_j_degenerate = sp.lambdify(args_coeffs, expr_m_j_degenerate.replace(cF3_degenerate, to_cF3), Z3sym.num_module_norm)\n",
    "f_expr_eta_ij_degenerate = sp.lambdify(args_coeffs, expr_eta_ij_degenerate.replace(cF3_degenerate, to_cF3), Z3sym.num_module_norm)\n",
    "f_expr_eta_ik_degenerate = sp.lambdify(args_coeffs, expr_eta_ik_degenerate.replace(cF3_degenerate, to_cF3), Z3sym.num_module_norm)\n",
    "\n",
    "args = 1, 2, 2., 1\n",
    "compare_exprs(\n",
    "    calc_numerical_diffs(calc_Z3_symmetrical_integrate, args)/(np.asarray([2, 1, 2, 1])*calc_Z3_symmetrical_integrate(args)),\n",
    "    calc_exprs([f_expr_m_i_degenerate, f_expr_m_j_degenerate, f_expr_eta_ij_degenerate, f_expr_eta_ik_degenerate], args)\n",
    ")"
   ]
  },
  {
   "cell_type": "code",
   "execution_count": null,
   "metadata": {},
   "outputs": [
    {
     "data": {
      "text/plain": [
       "0.5919388922079462"
      ]
     },
     "execution_count": 116,
     "metadata": {},
     "output_type": "execute_result"
    }
   ],
   "source": [
    "f_expr_m_i_degenerate(*args)"
   ]
  },
  {
   "cell_type": "code",
   "execution_count": null,
   "metadata": {},
   "outputs": [],
   "source": [
    "args_moments = hi, hj, lij, lik, mi, mj, eta_ij, eta_ik"
   ]
  },
  {
   "cell_type": "code",
   "execution_count": null,
   "metadata": {},
   "outputs": [
    {
     "name": "stdout",
     "output_type": "stream",
     "text": [
      "0.14645871513843645\n",
      "0.14645871513844133\n",
      "\n",
      "0.14575565732682025\n",
      "0.14575565732682452\n",
      "\n",
      "0.14576718452911774\n",
      "0.14576718452912232\n",
      "\n",
      "0.02239976480464764\n",
      "0.02239976480464833\n",
      "\n"
     ]
    }
   ],
   "source": [
    "args = 2, 1, 1.1\n",
    "args = list(args) + [args[2]*args[0]/args[1]]\n",
    "moments = f_expr_m_i_degenerate(*args), f_expr_m_j_degenerate(*args), f_expr_eta_ij_degenerate(*args), f_expr_eta_ik_degenerate(*args)\n",
    "\n",
    "for i in range(4):\n",
    "    left = vector_system_moments_degenerate[i].replace(cF3_degenerate, to_cF3).subs(subs_det_system_moments_degenerate)\n",
    "    f_left = sp.lambdify(args_moments, left, Z3sym.num_module_norm)\n",
    "    print(f_left(*args, *moments))\n",
    "\n",
    "    right = value_system_moments_degenerate[i].replace(A_system_moments_degenerate, A_system_moments_degenerate_value).subs(subs_det_system_moments_degenerate)\n",
    "    # right = A_system_moments_degenerate_value\n",
    "    f_right = sp.lambdify(args_moments, right, Z3sym.num_module_norm)\n",
    "    print(f_right(*args, *moments))\n",
    "\n",
    "    print()"
   ]
  },
  {
   "cell_type": "markdown",
   "metadata": {},
   "source": [
    "### Вырожденный случай с $h_1 = h_2$ и $\\lambda_1 = \\lambda_2$"
   ]
  },
  {
   "cell_type": "markdown",
   "metadata": {},
   "source": [
    "#### Символьные вычисления"
   ]
  },
  {
   "cell_type": "code",
   "execution_count": null,
   "metadata": {},
   "outputs": [],
   "source": [
    "class EFunction_spec_1(EFunction):\n",
    "    @classmethod\n",
    "    def eval(cls, *args):\n",
    "        arg = args[4] + args[5] + args[6]\n",
    "\n",
    "        if arg == 1 and not args[4]:\n",
    "            return EFunction_spec_1(*args[:4], 1, 0, 0)\n",
    "        \n",
    "        if arg == 2 and (not args[4] or not args[5]):\n",
    "            return EFunction_spec_1(*args[:4], 1, 1, 0)\n",
    "\n",
    "\n",
    "class FFunction_spec_1(FFunction):\n",
    "    @classmethod\n",
    "    def eval(cls, *args):\n",
    "        arg = args[4] + args[5] + args[6]\n",
    "\n",
    "        if arg == 1 and not args[4]:\n",
    "            return FFunction_spec_1(*args[:4], 1, 0, 0)\n",
    "        \n",
    "        if arg == 2 and (not args[4] or not args[5]):\n",
    "            return FFunction_spec_1(*args[:4], 1, 1, 0)"
   ]
  },
  {
   "cell_type": "code",
   "execution_count": null,
   "metadata": {},
   "outputs": [],
   "source": [
    "h, l = sp.symbols(\"h \\\\lambda\")\n",
    "m = sp.Symbol(\"\\\\left<m\\\\right>\")\n",
    "eta = sp.Symbol(\"\\\\left<\\eta\\\\right>\")"
   ]
  },
  {
   "cell_type": "code",
   "execution_count": null,
   "metadata": {},
   "outputs": [],
   "source": [
    "_expr = cF3_degenerate(h, h, l, l, *(4*[0]))\n",
    "\n",
    "subs_to_cF3Function_degenerate_spec_1 = {\n",
    "    EFunction_spec_1(h, h, l, l, 1, 1, 1): sp.solve(_expr-evaluate_cF3_degenerate(_expr).replace(EFunction, EFunction_spec_1).replace(FFunction, FFunction_spec_1), EFunction_spec_1(h, h, l, l, 1, 1, 1))[0]\n",
    "}"
   ]
  },
  {
   "cell_type": "code",
   "execution_count": null,
   "metadata": {},
   "outputs": [
    {
     "data": {
      "text/plain": [
       "{EFunction_spec_1(h, h, \\lambda, \\lambda, 1, 1, 1): 3*sqrt(2)*sqrt(\\lambda)*FFunction_spec_1(h, h, \\lambda, \\lambda, 1, 1, 0) - 2*cF3_degenerate(h, h, \\lambda, \\lambda, 0, 0, 0, 0) + sqrt(2)*h*FFunction_spec_1(h, h, \\lambda, \\lambda, 1, 1, 1)/sqrt(\\lambda)}"
      ]
     },
     "execution_count": 122,
     "metadata": {},
     "output_type": "execute_result"
    }
   ],
   "source": [
    "subs_to_cF3Function_degenerate_spec_1"
   ]
  },
  {
   "cell_type": "code",
   "execution_count": null,
   "metadata": {},
   "outputs": [],
   "source": [
    "expr_m_i_degenerate_spec_1 = evaluate_cF3_degenerate(expr_m_i_degenerate).replace(EFunction, EFunction_spec_1).replace(FFunction, FFunction_spec_1)\n",
    "expr_m_i_degenerate_spec_1 = expr_m_i_degenerate_spec_1.subs({hi: h, hj: h, lij: l, lik: l})\n",
    "\n",
    "expr_m_j_degenerate_spec_1 = evaluate_cF3_degenerate(expr_m_j_degenerate).replace(EFunction, EFunction_spec_1).replace(FFunction, FFunction_spec_1)\n",
    "expr_m_j_degenerate_spec_1 = expr_m_j_degenerate_spec_1.subs({hi: h, hj: h, lij: l, lik: l})\n",
    "\n",
    "expr_eta_ij_degenerate_spec_1 = evaluate_cF3_degenerate(expr_eta_ij_degenerate).replace(EFunction, EFunction_spec_1).replace(FFunction, FFunction_spec_1)\n",
    "expr_eta_ij_degenerate_spec_1 = expr_eta_ij_degenerate_spec_1.subs({hi: h, hj: h, lij: l, lik: l})\n",
    "\n",
    "expr_eta_ik_degenerate_spec_1 = evaluate_cF3_degenerate(expr_eta_ik_degenerate).replace(EFunction, EFunction_spec_1).replace(FFunction, FFunction_spec_1)\n",
    "expr_eta_ik_degenerate_spec_1 = expr_eta_ik_degenerate_spec_1.subs({hi: h, hj: h, lij: l, lik: l})"
   ]
  },
  {
   "cell_type": "code",
   "execution_count": null,
   "metadata": {},
   "outputs": [
    {
     "data": {
      "text/latex": [
       "$\\displaystyle - \\frac{1}{3 h} - \\frac{h}{3 \\lambda} + \\frac{\\sqrt{2} {\\cal F}_{123}\\left(h, h, \\lambda, \\lambda\\right)}{6 \\sqrt{\\lambda} \\left(\\frac{3 \\sqrt{2} \\sqrt{\\lambda} {\\cal F}_{12}\\left(h, h, \\lambda, \\lambda\\right)}{2} - \\frac{{\\cal E}_{123}\\left(h, h, \\lambda, \\lambda\\right)}{2} + \\frac{\\sqrt{2} h {\\cal F}_{123}\\left(h, h, \\lambda, \\lambda\\right)}{2 \\sqrt{\\lambda}}\\right)}$"
      ],
      "text/plain": [
       "-1/(3*h) - h/(3*\\lambda) + sqrt(2)*FFunction_spec_1(h, h, \\lambda, \\lambda, 1, 1, 1)/(6*sqrt(\\lambda)*(3*sqrt(2)*sqrt(\\lambda)*FFunction_spec_1(h, h, \\lambda, \\lambda, 1, 1, 0)/2 - EFunction_spec_1(h, h, \\lambda, \\lambda, 1, 1, 1)/2 + sqrt(2)*h*FFunction_spec_1(h, h, \\lambda, \\lambda, 1, 1, 1)/(2*sqrt(\\lambda))))"
      ]
     },
     "execution_count": 124,
     "metadata": {},
     "output_type": "execute_result"
    }
   ],
   "source": [
    "expr_m_i_degenerate_spec_1.subs(subs_to_cF3Function_degenerate)"
   ]
  },
  {
   "cell_type": "code",
   "execution_count": null,
   "metadata": {},
   "outputs": [
    {
     "data": {
      "text/latex": [
       "$\\displaystyle - \\frac{1}{2} - \\frac{1}{3 \\lambda} + \\frac{h^{2}}{6 \\lambda^{2}} + \\frac{\\sqrt{2} {\\cal F}_{12}\\left(h, h, \\lambda, \\lambda\\right)}{4 \\sqrt{\\lambda} \\left(\\frac{3 \\sqrt{2} \\sqrt{\\lambda} {\\cal F}_{12}\\left(h, h, \\lambda, \\lambda\\right)}{2} - \\frac{{\\cal E}_{123}\\left(h, h, \\lambda, \\lambda\\right)}{2} + \\frac{\\sqrt{2} h {\\cal F}_{123}\\left(h, h, \\lambda, \\lambda\\right)}{2 \\sqrt{\\lambda}}\\right)} - \\frac{\\sqrt{2} h {\\cal F}_{123}\\left(h, h, \\lambda, \\lambda\\right)}{12 \\lambda^{\\frac{3}{2}} \\left(\\frac{3 \\sqrt{2} \\sqrt{\\lambda} {\\cal F}_{12}\\left(h, h, \\lambda, \\lambda\\right)}{2} - \\frac{{\\cal E}_{123}\\left(h, h, \\lambda, \\lambda\\right)}{2} + \\frac{\\sqrt{2} h {\\cal F}_{123}\\left(h, h, \\lambda, \\lambda\\right)}{2 \\sqrt{\\lambda}}\\right)}$"
      ],
      "text/plain": [
       "-1/2 - 1/(3*\\lambda) + h**2/(6*\\lambda**2) + sqrt(2)*FFunction_spec_1(h, h, \\lambda, \\lambda, 1, 1, 0)/(4*sqrt(\\lambda)*(3*sqrt(2)*sqrt(\\lambda)*FFunction_spec_1(h, h, \\lambda, \\lambda, 1, 1, 0)/2 - EFunction_spec_1(h, h, \\lambda, \\lambda, 1, 1, 1)/2 + sqrt(2)*h*FFunction_spec_1(h, h, \\lambda, \\lambda, 1, 1, 1)/(2*sqrt(\\lambda)))) - sqrt(2)*h*FFunction_spec_1(h, h, \\lambda, \\lambda, 1, 1, 1)/(12*\\lambda**(3/2)*(3*sqrt(2)*sqrt(\\lambda)*FFunction_spec_1(h, h, \\lambda, \\lambda, 1, 1, 0)/2 - EFunction_spec_1(h, h, \\lambda, \\lambda, 1, 1, 1)/2 + sqrt(2)*h*FFunction_spec_1(h, h, \\lambda, \\lambda, 1, 1, 1)/(2*sqrt(\\lambda))))"
      ]
     },
     "execution_count": 125,
     "metadata": {},
     "output_type": "execute_result"
    }
   ],
   "source": [
    "expr_eta_ik_degenerate_spec_1"
   ]
  },
  {
   "cell_type": "code",
   "execution_count": null,
   "metadata": {},
   "outputs": [],
   "source": [
    "n, d = sp.fraction(expr_m_i_degenerate_spec_1.factor())\n",
    "_expr_m = (n-d*m).expand()\n",
    "\n",
    "n, d = sp.fraction(expr_eta_ij_degenerate_spec_1.factor())\n",
    "_expr_eta_ij = (n-d*eta).expand()"
   ]
  },
  {
   "cell_type": "code",
   "execution_count": null,
   "metadata": {},
   "outputs": [],
   "source": [
    "vector_system_moments_degenerate_spec_1 = [\n",
    "    FFunction_spec_1(h, h, l, l, 1, 1, 1),\n",
    "    FFunction_spec_1(h, h, l, l, 1, 1, 0),\n",
    "]\n",
    "\n",
    "line1 = get_line_Matrix(_expr_m, vector_system_moments_degenerate_spec_1)\n",
    "line2 = get_line_Matrix(_expr_eta_ij, vector_system_moments_degenerate_spec_1)"
   ]
  },
  {
   "cell_type": "code",
   "execution_count": null,
   "metadata": {},
   "outputs": [
    {
     "data": {
      "text/latex": [
       "$\\displaystyle {\\cal F}_{123}\\left(h, h, \\lambda, \\lambda\\right) = \\frac{\\sqrt{2} \\sqrt{\\lambda} \\left(3 \\lambda \\left<m\\right> h + \\lambda + h^{2}\\right) {\\cal E}_{123}\\left(h, h, \\lambda, \\lambda\\right)}{2 h \\left(6 \\lambda^{2} \\left<\\eta\\right> + 3 \\lambda^{2} + 6 \\lambda \\left<m\\right> h + 3 \\lambda + h^{2}\\right)}$"
      ],
      "text/plain": [
       "Eq(FFunction_spec_1(h, h, \\lambda, \\lambda, 1, 1, 1), sqrt(2)*sqrt(\\lambda)*(3*\\lambda*\\left<m\\right>*h + \\lambda + h**2)*EFunction_spec_1(h, h, \\lambda, \\lambda, 1, 1, 1)/(2*h*(6*\\lambda**2*\\left<\\eta\\right> + 3*\\lambda**2 + 6*\\lambda*\\left<m\\right>*h + 3*\\lambda + h**2)))"
      ]
     },
     "metadata": {},
     "output_type": "display_data"
    },
    {
     "data": {
      "text/latex": [
       "$\\displaystyle {\\cal F}_{12}\\left(h, h, \\lambda, \\lambda\\right) = \\frac{\\sqrt{2} \\sqrt{\\lambda} \\left(2 \\lambda \\left<\\eta\\right> + \\lambda + \\left<m\\right> h + 1\\right) {\\cal E}_{123}\\left(h, h, \\lambda, \\lambda\\right)}{2 \\left(6 \\lambda^{2} \\left<\\eta\\right> + 3 \\lambda^{2} + 6 \\lambda \\left<m\\right> h + 3 \\lambda + h^{2}\\right)}$"
      ],
      "text/plain": [
       "Eq(FFunction_spec_1(h, h, \\lambda, \\lambda, 1, 1, 0), sqrt(2)*sqrt(\\lambda)*(2*\\lambda*\\left<\\eta\\right> + \\lambda + \\left<m\\right>*h + 1)*EFunction_spec_1(h, h, \\lambda, \\lambda, 1, 1, 1)/(2*(6*\\lambda**2*\\left<\\eta\\right> + 3*\\lambda**2 + 6*\\lambda*\\left<m\\right>*h + 3*\\lambda + h**2)))"
      ]
     },
     "metadata": {},
     "output_type": "display_data"
    },
    {
     "name": "stdout",
     "output_type": "stream",
     "text": [
      "{\\cal F}_{123}\\left(h, h, \\lambda, \\lambda\\right) = \\frac{\\sqrt{2} \\sqrt{\\lambda} \\left(3 \\lambda \\left<m\\right> h + \\lambda + h^{2}\\right) {\\cal E}_{123}\\left(h, h, \\lambda, \\lambda\\right)}{2 h \\left(6 \\lambda^{2} \\left<\\eta\\right> + 3 \\lambda^{2} + 6 \\lambda \\left<m\\right> h + 3 \\lambda + h^{2}\\right)}\n",
      "{\\cal F}_{12}\\left(h, h, \\lambda, \\lambda\\right) = \\frac{\\sqrt{2} \\sqrt{\\lambda} \\left(2 \\lambda \\left<\\eta\\right> + \\lambda + \\left<m\\right> h + 1\\right) {\\cal E}_{123}\\left(h, h, \\lambda, \\lambda\\right)}{2 \\left(6 \\lambda^{2} \\left<\\eta\\right> + 3 \\lambda^{2} + 6 \\lambda \\left<m\\right> h + 3 \\lambda + h^{2}\\right)}\n"
     ]
    }
   ],
   "source": [
    "result = sp.solve_linear_system(sp.Matrix([line1, line2]), *vector_system_moments_degenerate_spec_1)\n",
    "\n",
    "value_system_moments_degenerate_spec_1 = []\n",
    "for key in vector_system_moments_degenerate_spec_1:\n",
    "    value_system_moments_degenerate_spec_1.append(result[key].factor())\n",
    "\n",
    "for i in range(2):\n",
    "    display(sp.Eq(vector_system_moments_degenerate_spec_1[i], value_system_moments_degenerate_spec_1[i]))\n",
    "for i in range(2):\n",
    "    sp.print_latex(sp.Eq(vector_system_moments_degenerate_spec_1[i], value_system_moments_degenerate_spec_1[i]))"
   ]
  },
  {
   "cell_type": "code",
   "execution_count": null,
   "metadata": {},
   "outputs": [],
   "source": [
    "subs_to_moments_degenerate_spec_1 = dict(zip(vector_system_moments_degenerate_spec_1, value_system_moments_degenerate_spec_1))"
   ]
  },
  {
   "cell_type": "code",
   "execution_count": null,
   "metadata": {},
   "outputs": [
    {
     "data": {
      "text/latex": [
       "$\\displaystyle \\left<\\eta\\right>$"
      ],
      "text/plain": [
       "\\left<\\eta\\right>"
      ]
     },
     "execution_count": 130,
     "metadata": {},
     "output_type": "execute_result"
    }
   ],
   "source": [
    "expr = expr_eta_ik_degenerate_spec_1\n",
    "expr.subs(subs_to_moments_degenerate_spec_1).factor()"
   ]
  },
  {
   "cell_type": "code",
   "execution_count": null,
   "metadata": {},
   "outputs": [],
   "source": [
    "def calc_degenerate_spec_1(expr):\n",
    "    expr = expr.expand()\n",
    "    expr = evaluate_cF3_degenerate(expr)\n",
    "    expr = expr.replace(EFunction, EFunction_spec_1).replace(FFunction, FFunction_spec_1)\n",
    "    expr = expr.subs({hi: h, hj: h, lij: l, lik: l})\n",
    "    expr = expr.subs(subs_to_moments_degenerate_spec_1).factor().expand()\n",
    "    return expr"
   ]
  },
  {
   "cell_type": "code",
   "execution_count": null,
   "metadata": {},
   "outputs": [],
   "source": [
    "expr_Q_star_degenerate_spec_1 = calc_degenerate_spec_1(Z3_degenerate_expr.diff(lij, 2)/(2*Z3_degenerate_expr) - eta - 1)\n",
    "# expr_Q_star_degenerate_spec_1"
   ]
  },
  {
   "cell_type": "code",
   "execution_count": null,
   "metadata": {},
   "outputs": [],
   "source": [
    "expr_eta_ik_2_degenerate_spec_1 = calc_degenerate_spec_1(Z3_degenerate_expr.diff(lik, 2)/Z3_degenerate_expr)\n",
    "expr_m_j_eta_ik_degenerate_spec_1 = calc_degenerate_spec_1(Z3_degenerate_expr.diff(hj, lik)/Z3_degenerate_expr)\n",
    "expr_m_j_eta_ij_degenerate_spec_1 = calc_degenerate_spec_1(Z3_degenerate_expr.diff(hj, lij)/(2*Z3_degenerate_expr))\n",
    "expr_m_j_par_2_degenerate_spec_1 = calc_degenerate_spec_1(Z3_degenerate_expr.diff(hj, hj)/Z3_degenerate_expr)"
   ]
  },
  {
   "cell_type": "code",
   "execution_count": null,
   "metadata": {},
   "outputs": [],
   "source": [
    "vector_system_moments_2_degenerate_spec_1 = [\n",
    "    EFunction_spec_1(h, h, l, l, 1, 1, 0)/EFunction_spec_1(h, h, l, l, 1, 1, 1),\n",
    "    EFunction_spec_1(h, h, l, l, 1, 0, 0)/EFunction_spec_1(h, h, l, l, 1, 1, 1),\n",
    "    EFunction_spec_1(h, h, l, l, 0, 0, 0)/EFunction_spec_1(h, h, l, l, 1, 1, 1),\n",
    "]\n",
    "\n",
    "mj_eta_ik = sp.Symbol(\"\\\\left<m_j\\\\eta_{ik}\\\\right>\")\n",
    "line1 = get_line_Matrix(expr_eta_ik_2_degenerate_spec_1-eta_ik_2, vector_system_moments_2_degenerate_spec_1)\n",
    "line2 = get_line_Matrix(expr_m_j_eta_ik_degenerate_spec_1-mj_eta_ik, vector_system_moments_2_degenerate_spec_1)\n",
    "line3 = get_line_Matrix(expr_m_j_par_2_degenerate_spec_1-mjh2, vector_system_moments_2_degenerate_spec_1)"
   ]
  },
  {
   "cell_type": "code",
   "execution_count": null,
   "metadata": {},
   "outputs": [
    {
     "data": {
      "text/latex": [
       "$\\displaystyle \\left[\\begin{matrix}0 & - 30 \\lambda^{4} \\left<\\eta\\right> - 15 \\lambda^{4} - 30 \\lambda^{3} \\left<m\\right> h - 15 \\lambda^{3} - 5 \\lambda^{2} h^{2} & 0 & - 35 \\lambda^{4} \\left<\\eta\\right> + 10 \\lambda^{4} \\left<\\eta_{ik}^{2}\\right> - 20 \\lambda^{4} + 5 \\lambda^{3} \\left<\\eta\\right> - 20 \\lambda^{3} \\left<m\\right> h - 10 \\lambda^{3} \\left<m_j\\eta_{ik}\\right> h - 10 \\lambda^{3} - 5 \\lambda^{2} \\left<\\eta\\right> h^{2} - 10 \\lambda^{2} \\left<m\\right> h - 5 \\lambda^{2}\\\\30 \\lambda^{3} \\left<\\eta\\right> + 15 \\lambda^{3} + 30 \\lambda^{2} \\left<m\\right> h + 15 \\lambda^{2} + 5 \\lambda h^{2} & 0 & 0 & \\frac{10 \\lambda^{3} \\left<\\eta\\right>}{h} + 35 \\lambda^{3} \\left<m\\right> + 10 \\lambda^{3} \\left<m_j\\eta_{ik}\\right> + \\frac{5 \\lambda^{3}}{h} + 20 \\lambda^{2} \\left<\\eta\\right> h - 5 \\lambda^{2} \\left<m\\right> - 10 \\lambda^{2} \\left<m_{jh}^2\\right> h + 20 \\lambda^{2} h + \\frac{5 \\lambda^{2}}{h} + 5 \\lambda \\left<m\\right> h^{2} + 5 \\lambda h\\\\0 & 24 \\lambda^{4} \\left<\\eta\\right> + 12 \\lambda^{4} + 24 \\lambda^{3} \\left<\\eta\\right> h^{2} + 24 \\lambda^{3} \\left<m\\right> h + 12 \\lambda^{3} h^{2} + 12 \\lambda^{3} + 24 \\lambda^{2} \\left<m\\right> h^{3} + 16 \\lambda^{2} h^{2} + 4 \\lambda h^{4} & - 12 \\lambda^{4} \\left<\\eta\\right> h - 6 \\lambda^{4} h - 12 \\lambda^{3} \\left<m\\right> h^{2} - 6 \\lambda^{3} h - 2 \\lambda^{2} h^{3} & 22 \\lambda^{4} \\left<\\eta\\right> - 4 \\lambda^{4} \\left<\\eta_{ik}^{2}\\right> - 12 \\lambda^{4} \\left<m\\right> h - 6 \\lambda^{4} \\left<m_j\\eta_{ik}\\right> h + 12 \\lambda^{4} + 16 \\lambda^{3} \\left<\\eta\\right> h^{2} - 2 \\lambda^{3} \\left<\\eta\\right> - 4 \\lambda^{3} \\left<\\eta_{ik}^{2}\\right> h^{2} + 16 \\lambda^{3} \\left<m\\right> h + 10 \\lambda^{3} \\left<m_j\\eta_{ik}\\right> h + 6 \\lambda^{3} \\left<m_{jh}^2\\right> h^{2} + 6 \\lambda^{3} h^{2} + 8 \\lambda^{3} + 2 \\lambda^{2} \\left<\\eta\\right> h^{2} + 16 \\lambda^{2} \\left<m\\right> h^{3} + 10 \\lambda^{2} \\left<m\\right> h + 6 \\lambda^{2} \\left<m_j\\eta_{ik}\\right> h^{3} + 4 \\lambda^{2} \\left<m_{jh}^2\\right> h^{2} + 4 \\lambda^{2} h^{2} + 2 \\lambda^{2} + 4 \\lambda \\left<\\eta\\right> h^{4} + 4 \\lambda \\left<m\\right> h^{3} - 2 \\lambda \\left<m_{jh}^2\\right> h^{4} + 2 \\lambda h^{4} + 4 \\lambda h^{2}\\end{matrix}\\right]$"
      ],
      "text/plain": [
       "Matrix([\n",
       "[                                                                                                                0,                                                                                                                  -30*\\lambda**4*\\left<\\eta\\right> - 15*\\lambda**4 - 30*\\lambda**3*\\left<m\\right>*h - 15*\\lambda**3 - 5*\\lambda**2*h**2,                                                                                                                            0,                                                                                                                                                                                                                                                                                                                                                                                                                                                                                                                          -35*\\lambda**4*\\left<\\eta\\right> + 10*\\lambda**4*\\left<\\eta_{ik}^{2}\\right> - 20*\\lambda**4 + 5*\\lambda**3*\\left<\\eta\\right> - 20*\\lambda**3*\\left<m\\right>*h - 10*\\lambda**3*\\left<m_j\\eta_{ik}\\right>*h - 10*\\lambda**3 - 5*\\lambda**2*\\left<\\eta\\right>*h**2 - 10*\\lambda**2*\\left<m\\right>*h - 5*\\lambda**2],\n",
       "[30*\\lambda**3*\\left<\\eta\\right> + 15*\\lambda**3 + 30*\\lambda**2*\\left<m\\right>*h + 15*\\lambda**2 + 5*\\lambda*h**2,                                                                                                                                                                                                                                      0,                                                                                                                            0,                                                                                                                                                                                                                                                                                                                                                                                                                                                                                                                   10*\\lambda**3*\\left<\\eta\\right>/h + 35*\\lambda**3*\\left<m\\right> + 10*\\lambda**3*\\left<m_j\\eta_{ik}\\right> + 5*\\lambda**3/h + 20*\\lambda**2*\\left<\\eta\\right>*h - 5*\\lambda**2*\\left<m\\right> - 10*\\lambda**2*\\left<m_{jh}^2\\right>*h + 20*\\lambda**2*h + 5*\\lambda**2/h + 5*\\lambda*\\left<m\\right>*h**2 + 5*\\lambda*h],\n",
       "[                                                                                                                0, 24*\\lambda**4*\\left<\\eta\\right> + 12*\\lambda**4 + 24*\\lambda**3*\\left<\\eta\\right>*h**2 + 24*\\lambda**3*\\left<m\\right>*h + 12*\\lambda**3*h**2 + 12*\\lambda**3 + 24*\\lambda**2*\\left<m\\right>*h**3 + 16*\\lambda**2*h**2 + 4*\\lambda*h**4, -12*\\lambda**4*\\left<\\eta\\right>*h - 6*\\lambda**4*h - 12*\\lambda**3*\\left<m\\right>*h**2 - 6*\\lambda**3*h - 2*\\lambda**2*h**3, 22*\\lambda**4*\\left<\\eta\\right> - 4*\\lambda**4*\\left<\\eta_{ik}^{2}\\right> - 12*\\lambda**4*\\left<m\\right>*h - 6*\\lambda**4*\\left<m_j\\eta_{ik}\\right>*h + 12*\\lambda**4 + 16*\\lambda**3*\\left<\\eta\\right>*h**2 - 2*\\lambda**3*\\left<\\eta\\right> - 4*\\lambda**3*\\left<\\eta_{ik}^{2}\\right>*h**2 + 16*\\lambda**3*\\left<m\\right>*h + 10*\\lambda**3*\\left<m_j\\eta_{ik}\\right>*h + 6*\\lambda**3*\\left<m_{jh}^2\\right>*h**2 + 6*\\lambda**3*h**2 + 8*\\lambda**3 + 2*\\lambda**2*\\left<\\eta\\right>*h**2 + 16*\\lambda**2*\\left<m\\right>*h**3 + 10*\\lambda**2*\\left<m\\right>*h + 6*\\lambda**2*\\left<m_j\\eta_{ik}\\right>*h**3 + 4*\\lambda**2*\\left<m_{jh}^2\\right>*h**2 + 4*\\lambda**2*h**2 + 2*\\lambda**2 + 4*\\lambda*\\left<\\eta\\right>*h**4 + 4*\\lambda*\\left<m\\right>*h**3 - 2*\\lambda*\\left<m_{jh}^2\\right>*h**4 + 2*\\lambda*h**4 + 4*\\lambda*h**2]])"
      ]
     },
     "metadata": {},
     "output_type": "display_data"
    }
   ],
   "source": [
    "M = sp.Matrix([line1, line2, line3])\n",
    "\n",
    "M[0, :] *= 10*l**4\n",
    "M[1, :] *= 10*l**3\n",
    "M[2, :] *= 10*l**2*h**2\n",
    "\n",
    "M[1, :] -= M[2, :]/h\n",
    "M[0, :] -= M[2, :]\n",
    "M[0, :] -= M[1, :]*h\n",
    "M[2, :] -= M[0, :]/5*2\n",
    "M[2, :] -= M[0, :]/5*2*h**2/l\n",
    "M[2, :] -= M[1, :]/5*3*h*l\n",
    "M[2, :] += M[1, :]/5*3*h\n",
    "M[2, :] += M[1, :]/5/l*h**3\n",
    "\n",
    "M = M.expand()\n",
    "\n",
    "display(M)"
   ]
  },
  {
   "cell_type": "code",
   "execution_count": null,
   "metadata": {},
   "outputs": [
    {
     "data": {
      "text/latex": [
       "$\\displaystyle \\frac{{\\cal E}_{12}\\left(h, h, \\lambda, \\lambda\\right)}{{\\cal E}_{123}\\left(h, h, \\lambda, \\lambda\\right)} = \\frac{2 \\lambda^{2} \\left<\\eta\\right> + 7 \\lambda^{2} \\left<m\\right> h + 2 \\lambda^{2} \\left<m_j\\eta_{ik}\\right> h + \\lambda^{2} + 4 \\lambda \\left<\\eta\\right> h^{2} - \\lambda \\left<m\\right> h - 2 \\lambda \\left<m_{jh}^2\\right> h^{2} + 4 \\lambda h^{2} + \\lambda + \\left<m\\right> h^{3} + h^{2}}{h \\left(6 \\lambda^{2} \\left<\\eta\\right> + 3 \\lambda^{2} + 6 \\lambda \\left<m\\right> h + 3 \\lambda + h^{2}\\right)}$"
      ],
      "text/plain": [
       "Eq(EFunction_spec_1(h, h, \\lambda, \\lambda, 1, 1, 0)/EFunction_spec_1(h, h, \\lambda, \\lambda, 1, 1, 1), (2*\\lambda**2*\\left<\\eta\\right> + 7*\\lambda**2*\\left<m\\right>*h + 2*\\lambda**2*\\left<m_j\\eta_{ik}\\right>*h + \\lambda**2 + 4*\\lambda*\\left<\\eta\\right>*h**2 - \\lambda*\\left<m\\right>*h - 2*\\lambda*\\left<m_{jh}^2\\right>*h**2 + 4*\\lambda*h**2 + \\lambda + \\left<m\\right>*h**3 + h**2)/(h*(6*\\lambda**2*\\left<\\eta\\right> + 3*\\lambda**2 + 6*\\lambda*\\left<m\\right>*h + 3*\\lambda + h**2)))"
      ]
     },
     "metadata": {},
     "output_type": "display_data"
    },
    {
     "data": {
      "text/latex": [
       "$\\displaystyle \\frac{{\\cal E}_{1}\\left(h, h, \\lambda, \\lambda\\right)}{{\\cal E}_{123}\\left(h, h, \\lambda, \\lambda\\right)} = \\frac{7 \\lambda^{2} \\left<\\eta\\right> - 2 \\lambda^{2} \\left<\\eta_{ik}^{2}\\right> + 4 \\lambda^{2} - \\lambda \\left<\\eta\\right> + 4 \\lambda \\left<m\\right> h + 2 \\lambda \\left<m_j\\eta_{ik}\\right> h + 2 \\lambda + \\left<\\eta\\right> h^{2} + 2 \\left<m\\right> h + 1}{6 \\lambda^{2} \\left<\\eta\\right> + 3 \\lambda^{2} + 6 \\lambda \\left<m\\right> h + 3 \\lambda + h^{2}}$"
      ],
      "text/plain": [
       "Eq(EFunction_spec_1(h, h, \\lambda, \\lambda, 1, 0, 0)/EFunction_spec_1(h, h, \\lambda, \\lambda, 1, 1, 1), (7*\\lambda**2*\\left<\\eta\\right> - 2*\\lambda**2*\\left<\\eta_{ik}^{2}\\right> + 4*\\lambda**2 - \\lambda*\\left<\\eta\\right> + 4*\\lambda*\\left<m\\right>*h + 2*\\lambda*\\left<m_j\\eta_{ik}\\right>*h + 2*\\lambda + \\left<\\eta\\right>*h**2 + 2*\\left<m\\right>*h + 1)/(6*\\lambda**2*\\left<\\eta\\right> + 3*\\lambda**2 + 6*\\lambda*\\left<m\\right>*h + 3*\\lambda + h**2))"
      ]
     },
     "metadata": {},
     "output_type": "display_data"
    },
    {
     "data": {
      "text/latex": [
       "$\\displaystyle \\frac{{\\cal E}_{}\\left(h, h, \\lambda, \\lambda\\right)}{{\\cal E}_{123}\\left(h, h, \\lambda, \\lambda\\right)} = \\frac{3 \\lambda^{3} \\left<\\eta\\right> - 2 \\lambda^{3} \\left<\\eta_{ik}^{2}\\right> + 6 \\lambda^{3} \\left<m\\right> h + 3 \\lambda^{3} \\left<m_j\\eta_{ik}\\right> h + 2 \\lambda^{3} + 6 \\lambda^{2} \\left<\\eta\\right> h^{2} - \\lambda^{2} \\left<\\eta\\right> - 2 \\lambda^{2} \\left<\\eta_{ik}^{2}\\right> h^{2} - \\lambda^{2} \\left<m_j\\eta_{ik}\\right> h - 3 \\lambda^{2} \\left<m_{jh}^2\\right> h^{2} + 5 \\lambda^{2} h^{2} - \\lambda \\left<\\eta\\right> h^{2} - \\lambda \\left<m\\right> h + \\lambda \\left<m_j\\eta_{ik}\\right> h^{3} - 2 \\lambda \\left<m_{jh}^2\\right> h^{2} + 2 \\lambda h^{2} + \\lambda + 2 \\left<m\\right> h^{3} + \\left<m_{jh}^2\\right> h^{4} - h^{4}}{\\lambda h \\left(6 \\lambda^{2} \\left<\\eta\\right> + 3 \\lambda^{2} + 6 \\lambda \\left<m\\right> h + 3 \\lambda + h^{2}\\right)}$"
      ],
      "text/plain": [
       "Eq(EFunction_spec_1(h, h, \\lambda, \\lambda, 0, 0, 0)/EFunction_spec_1(h, h, \\lambda, \\lambda, 1, 1, 1), (3*\\lambda**3*\\left<\\eta\\right> - 2*\\lambda**3*\\left<\\eta_{ik}^{2}\\right> + 6*\\lambda**3*\\left<m\\right>*h + 3*\\lambda**3*\\left<m_j\\eta_{ik}\\right>*h + 2*\\lambda**3 + 6*\\lambda**2*\\left<\\eta\\right>*h**2 - \\lambda**2*\\left<\\eta\\right> - 2*\\lambda**2*\\left<\\eta_{ik}^{2}\\right>*h**2 - \\lambda**2*\\left<m_j\\eta_{ik}\\right>*h - 3*\\lambda**2*\\left<m_{jh}^2\\right>*h**2 + 5*\\lambda**2*h**2 - \\lambda*\\left<\\eta\\right>*h**2 - \\lambda*\\left<m\\right>*h + \\lambda*\\left<m_j\\eta_{ik}\\right>*h**3 - 2*\\lambda*\\left<m_{jh}^2\\right>*h**2 + 2*\\lambda*h**2 + \\lambda + 2*\\left<m\\right>*h**3 + \\left<m_{jh}^2\\right>*h**4 - h**4)/(\\lambda*h*(6*\\lambda**2*\\left<\\eta\\right> + 3*\\lambda**2 + 6*\\lambda*\\left<m\\right>*h + 3*\\lambda + h**2)))"
      ]
     },
     "metadata": {},
     "output_type": "display_data"
    },
    {
     "name": "stdout",
     "output_type": "stream",
     "text": [
      "\\frac{{\\cal E}_{12}\\left(h, h, \\lambda, \\lambda\\right)}{{\\cal E}_{123}\\left(h, h, \\lambda, \\lambda\\right)} = \\frac{2 \\lambda^{2} \\left<\\eta\\right> + 7 \\lambda^{2} \\left<m\\right> h + 2 \\lambda^{2} \\left<m_j\\eta_{ik}\\right> h + \\lambda^{2} + 4 \\lambda \\left<\\eta\\right> h^{2} - \\lambda \\left<m\\right> h - 2 \\lambda \\left<m_{jh}^2\\right> h^{2} + 4 \\lambda h^{2} + \\lambda + \\left<m\\right> h^{3} + h^{2}}{h \\left(6 \\lambda^{2} \\left<\\eta\\right> + 3 \\lambda^{2} + 6 \\lambda \\left<m\\right> h + 3 \\lambda + h^{2}\\right)}\n",
      "\\frac{{\\cal E}_{1}\\left(h, h, \\lambda, \\lambda\\right)}{{\\cal E}_{123}\\left(h, h, \\lambda, \\lambda\\right)} = \\frac{7 \\lambda^{2} \\left<\\eta\\right> - 2 \\lambda^{2} \\left<\\eta_{ik}^{2}\\right> + 4 \\lambda^{2} - \\lambda \\left<\\eta\\right> + 4 \\lambda \\left<m\\right> h + 2 \\lambda \\left<m_j\\eta_{ik}\\right> h + 2 \\lambda + \\left<\\eta\\right> h^{2} + 2 \\left<m\\right> h + 1}{6 \\lambda^{2} \\left<\\eta\\right> + 3 \\lambda^{2} + 6 \\lambda \\left<m\\right> h + 3 \\lambda + h^{2}}\n",
      "\\frac{{\\cal E}_{}\\left(h, h, \\lambda, \\lambda\\right)}{{\\cal E}_{123}\\left(h, h, \\lambda, \\lambda\\right)} = \\frac{3 \\lambda^{3} \\left<\\eta\\right> - 2 \\lambda^{3} \\left<\\eta_{ik}^{2}\\right> + 6 \\lambda^{3} \\left<m\\right> h + 3 \\lambda^{3} \\left<m_j\\eta_{ik}\\right> h + 2 \\lambda^{3} + 6 \\lambda^{2} \\left<\\eta\\right> h^{2} - \\lambda^{2} \\left<\\eta\\right> - 2 \\lambda^{2} \\left<\\eta_{ik}^{2}\\right> h^{2} - \\lambda^{2} \\left<m_j\\eta_{ik}\\right> h - 3 \\lambda^{2} \\left<m_{jh}^2\\right> h^{2} + 5 \\lambda^{2} h^{2} - \\lambda \\left<\\eta\\right> h^{2} - \\lambda \\left<m\\right> h + \\lambda \\left<m_j\\eta_{ik}\\right> h^{3} - 2 \\lambda \\left<m_{jh}^2\\right> h^{2} + 2 \\lambda h^{2} + \\lambda + 2 \\left<m\\right> h^{3} + \\left<m_{jh}^2\\right> h^{4} - h^{4}}{\\lambda h \\left(6 \\lambda^{2} \\left<\\eta\\right> + 3 \\lambda^{2} + 6 \\lambda \\left<m\\right> h + 3 \\lambda + h^{2}\\right)}\n"
     ]
    }
   ],
   "source": [
    "value_system_moments_2_degenerate_spec_1 = []\n",
    "\n",
    "result = (M[:, :-1]).solve(M[:, -1])\n",
    "for item in result:\n",
    "    value_system_moments_2_degenerate_spec_1.append(item.factor())\n",
    "\n",
    "for i in range(3):\n",
    "    display(sp.Eq(vector_system_moments_2_degenerate_spec_1[i], value_system_moments_2_degenerate_spec_1[i]))\n",
    "for i in range(3):\n",
    "    sp.print_latex(sp.Eq(vector_system_moments_2_degenerate_spec_1[i], value_system_moments_2_degenerate_spec_1[i]))"
   ]
  },
  {
   "cell_type": "code",
   "execution_count": null,
   "metadata": {},
   "outputs": [],
   "source": [
    "subs_to_moments_2_degenerate_spec_1 = dict(zip(vector_system_moments_2_degenerate_spec_1, value_system_moments_2_degenerate_spec_1))"
   ]
  },
  {
   "cell_type": "code",
   "execution_count": null,
   "metadata": {},
   "outputs": [
    {
     "data": {
      "text/latex": [
       "$\\displaystyle \\left<m_j\\eta_{ik}\\right>$"
      ],
      "text/plain": [
       "\\left<m_j\\eta_{ik}\\right>"
      ]
     },
     "execution_count": 138,
     "metadata": {},
     "output_type": "execute_result"
    }
   ],
   "source": [
    "expr_m_j_eta_ik_degenerate_spec_1.subs(subs_to_moments_2_degenerate_spec_1).factor()"
   ]
  },
  {
   "cell_type": "code",
   "execution_count": null,
   "metadata": {},
   "outputs": [
    {
     "data": {
      "text/latex": [
       "$\\displaystyle - \\frac{2 \\left<\\eta\\right>}{\\lambda} + \\frac{\\left<m\\right> h}{\\lambda^{2}} + \\frac{\\left<m_{jh}^2\\right> h^{2}}{2 \\lambda^{2}} - \\frac{h^{2}}{2 \\lambda^{2}}$"
      ],
      "text/plain": [
       "-2*\\left<\\eta\\right>/\\lambda + \\left<m\\right>*h/\\lambda**2 + \\left<m_{jh}^2\\right>*h**2/(2*\\lambda**2) - h**2/(2*\\lambda**2)"
      ]
     },
     "execution_count": 139,
     "metadata": {},
     "output_type": "execute_result"
    }
   ],
   "source": [
    "expr_Q_star_degenerate_spec_1_from_moments_2 = expr_Q_star_degenerate_spec_1.subs(subs_to_moments_2_degenerate_spec_1).factor().expand()\n",
    "expr_Q_star_degenerate_spec_1_from_moments_2"
   ]
  },
  {
   "cell_type": "code",
   "execution_count": null,
   "metadata": {},
   "outputs": [
    {
     "data": {
      "text/latex": [
       "$\\displaystyle \\left<m\\right> - \\frac{\\left<m\\right>}{\\lambda} - \\frac{\\left<m_{jh}^2\\right> h}{2 \\lambda} + \\frac{h}{2 \\lambda}$"
      ],
      "text/plain": [
       "\\left<m\\right> - \\left<m\\right>/\\lambda - \\left<m_{jh}^2\\right>*h/(2*\\lambda) + h/(2*\\lambda)"
      ]
     },
     "execution_count": 140,
     "metadata": {},
     "output_type": "execute_result"
    }
   ],
   "source": [
    "expr = calc_degenerate_spec_1(expr_m_j_eta_ij_degenerate_spec_1)\n",
    "expr.subs(subs_to_moments_2_degenerate_spec_1).factor().expand()"
   ]
  },
  {
   "cell_type": "code",
   "execution_count": null,
   "metadata": {},
   "outputs": [
    {
     "data": {
      "text/latex": [
       "$\\displaystyle \\left<m\\right> - \\frac{\\left<m\\right>}{\\lambda} - \\frac{\\left<m_{jh}^2\\right> h}{2 \\lambda} + \\frac{h}{2 \\lambda}$"
      ],
      "text/plain": [
       "\\left<m\\right> - \\left<m\\right>/\\lambda - \\left<m_{jh}^2\\right>*h/(2*\\lambda) + h/(2*\\lambda)"
      ]
     },
     "execution_count": 141,
     "metadata": {},
     "output_type": "execute_result"
    }
   ],
   "source": [
    "expr = calc_degenerate_spec_1(Z3_degenerate_expr.diff(hi, lik)/(2*Z3_degenerate_expr))\n",
    "expr.subs(subs_to_moments_2_degenerate_spec_1).factor().expand()"
   ]
  },
  {
   "cell_type": "markdown",
   "metadata": {},
   "source": [
    "#### Проверка"
   ]
  },
  {
   "cell_type": "code",
   "execution_count": null,
   "metadata": {},
   "outputs": [
    {
     "name": "stdout",
     "output_type": "stream",
     "text": [
      "0.5642439350057784\n",
      "0.5642443571711042\n",
      "\n",
      "0.5642439350057372\n",
      "0.5642443571711042\n",
      "\n",
      "0.6940680018488145\n",
      "0.6940685270916233\n",
      "\n",
      "0.6940680018488555\n",
      "0.6940685270916233\n",
      "\n"
     ]
    }
   ],
   "source": [
    "to_cF3 = lambda *args: cF3(*args[:4])\n",
    "subs = {FFunction_spec_1: FFunction, EFunction_spec_1: EFunction}\n",
    "\n",
    "f_expr_m_i_degenerate_spec_1 = sp.lambdify((h, l), expr_m_i_degenerate_spec_1.subs(subs), Z3sym.num_module_norm)\n",
    "f_expr_m_j_degenerate_spec_1 = sp.lambdify((h, l), expr_m_j_degenerate_spec_1.subs(subs), Z3sym.num_module_norm)\n",
    "f_expr_eta_ij_degenerate_spec_1 = sp.lambdify((h, l), expr_eta_ij_degenerate_spec_1.subs(subs), Z3sym.num_module_norm)\n",
    "f_expr_eta_ik_degenerate_spec_1 = sp.lambdify((h, l), expr_eta_ik_degenerate_spec_1.subs(subs), Z3sym.num_module_norm)\n",
    "\n",
    "args = 1, 2.\n",
    "compare_exprs(\n",
    "    calc_numerical_diffs(calc_Z3_symmetrical_integrate, [args[0], args[0], args[1], args[1]])/(np.asarray([2, 1, 2, 1])*calc_Z3_symmetrical_integrate([args[0], args[0], args[1], args[1]])),\n",
    "    calc_exprs([f_expr_m_i_degenerate_spec_1, f_expr_m_j_degenerate_spec_1, f_expr_eta_ij_degenerate_spec_1, f_expr_eta_ik_degenerate_spec_1], args)\n",
    ")"
   ]
  },
  {
   "cell_type": "code",
   "execution_count": null,
   "metadata": {},
   "outputs": [
    {
     "name": "stdout",
     "output_type": "stream",
     "text": [
      "0.15010840845148632\n",
      "0.15010840845148632\n",
      "\n",
      "0.1490517864006691\n",
      "0.1490517864006691\n",
      "\n"
     ]
    }
   ],
   "source": [
    "args = 1, 2.\n",
    "moments = f_expr_m_i_degenerate_spec_1(*args), f_expr_eta_ij_degenerate_spec_1(*args),\n",
    "\n",
    "for i in range(2):\n",
    "    left = vector_system_moments_degenerate_spec_1[i].subs(subs)\n",
    "    f_left = sp.lambdify((h, l, m, eta), left, Z3sym.num_module_norm)\n",
    "    print(f_left(*args, *moments))\n",
    "\n",
    "    right = vector_system_moments_degenerate_spec_1[i].subs(subs)\n",
    "    f_right = sp.lambdify((h, l, m, eta), right, Z3sym.num_module_norm)\n",
    "    print(f_right(*args, *moments))\n",
    "\n",
    "    print()"
   ]
  },
  {
   "cell_type": "code",
   "execution_count": null,
   "metadata": {},
   "outputs": [
    {
     "name": "stdout",
     "output_type": "stream",
     "text": [
      "-3.031110959723879\n",
      "10846.749138665664\n",
      "10846.749138755826\n"
     ]
    }
   ],
   "source": [
    "f_expr_Q_star_degenerate_spec_1 = sp.lambdify((h, l, m, eta), expr_Q_star_degenerate_spec_1.factor().subs(subs), Z3sym.num_module_norm)\n",
    "f_expr_Q_star_degenerate_spec_1_from_moments_2 = sp.lambdify((h, l, m, eta, mjh2), expr_Q_star_degenerate_spec_1_from_moments_2.subs(subs), Z3sym.num_module_norm)\n",
    "f_expr_m_par_2_degenerate_spec_1 = sp.lambdify((h, l, m, eta), expr_m_j_par_2_degenerate_spec_1.subs(subs), Z3sym.num_module_norm)\n",
    "\n",
    "args = 49.03486660449675, 0.510352248405618\n",
    "moments = f_expr_m_i_degenerate_spec_1(*args), f_expr_eta_ij_degenerate_spec_1(*args),\n",
    "\n",
    "Q_star = nd.directionaldiff(calc_Z3_symmetrical_integrate, [args[0], args[0], args[1], args[1]], [0, 0, 1, 0], n=2)\n",
    "Q_star /= 2*calc_Z3_symmetrical_integrate([args[0], args[0], args[1], args[1]])\n",
    "Q_star -= f_expr_eta_ik_degenerate_spec_1(*args) + 1\n",
    "\n",
    "print(Q_star)\n",
    "print(f_expr_Q_star_degenerate_spec_1(*args, *moments))\n",
    "print(f_expr_Q_star_degenerate_spec_1_from_moments_2(*args, *moments, f_expr_m_par_2_degenerate_spec_1(*args, *moments)))"
   ]
  },
  {
   "cell_type": "markdown",
   "metadata": {},
   "source": [
    "## Генерация кода для метода Ньютона"
   ]
  },
  {
   "cell_type": "markdown",
   "metadata": {},
   "source": [
    "### Определения"
   ]
  },
  {
   "cell_type": "code",
   "execution_count": 92,
   "metadata": {},
   "outputs": [],
   "source": [
    "class CPrinter(symbase.CPrinter):\n",
    "    def _print_Function(self, expr):\n",
    "        if isinstance(expr, Z2sym.F2):\n",
    "            return f\"dawson({self._print(expr.args[0])})\"\n",
    "        \n",
    "        if isinstance(expr, F3):\n",
    "            return f\"F3({self._print(expr.args[0])}, {self._print(expr.args[1])}, {self._print(expr.args[2])})\"\n",
    "\n",
    "        return super()._print_Function(expr)\n",
    "    \n",
    "\n",
    "def get_ccode(expr):\n",
    "    expr = symbase.optimize_pow(expr, {hi: \"h_i\", hj: \"h_j\", lij: \"l_ij\", lik: \"l_ik\"})\n",
    "    return CPrinter().doprint(expr)"
   ]
  },
  {
   "cell_type": "markdown",
   "metadata": {},
   "source": [
    "### Общий случай"
   ]
  },
  {
   "cell_type": "code",
   "execution_count": 93,
   "metadata": {},
   "outputs": [],
   "source": [
    "subs_exp = {\n",
    "    sp.exp(-2*hi): sp.Symbol(\"_exp_2h_i\"),\n",
    "    sp.exp(-2*hj): sp.Symbol(\"_exp_2h_j\"),\n",
    "    sp.exp(-2*lij): sp.Symbol(\"_exp_2l_ij\"),\n",
    "    sp.exp(-2*lik): sp.Symbol(\"_exp_2l_ik\")\n",
    "}\n",
    "\n",
    "def to_norm(expr):\n",
    "    expr *= sp.exp(-hj-lik-2*(hi+lij))\n",
    "    return expr.expand()"
   ]
  },
  {
   "cell_type": "code",
   "execution_count": 95,
   "metadata": {},
   "outputs": [
    {
     "name": "stdout",
     "output_type": "stream",
     "text": [
      "kappa = l_ij*h_i - l_ik*h_j\n",
      "_kappa = 1/kappa\n",
      "_h_i, _h_j, _l_ij, _l_ik = 1/h_i, 1/h_j, 1/l_ij, 1/l_ik\n",
      "sqrt_h_i, sqrt_h_j, sqrt_l_ij, sqrt_l_ik = np.sqrt(h_i), np.sqrt(h_j), np.sqrt(l_ij), np.sqrt(l_ik)\n",
      "_sqrt_h_i, _sqrt_h_j, _sqrt_l_ij, _sqrt_l_ik = 1/sqrt_h_i, 1/sqrt_h_j, 1/sqrt_l_ij, 1/sqrt_l_ik\n",
      "_exp_2h_i, _exp_2h_j, _exp_2l_ij, _exp_2l_ik = np.exp(-2*h_i), np.exp(-2*h_j), np.exp(-2*l_ij), np.exp(-2*l_ik)\n",
      "\n",
      "cF3 =  -(_exp_2h_i*_exp_2h_i)*_exp_2h_j*F3((0.5)*M_SQRT2*sqrt_h_i*sqrt_h_j/sqrt_l_ij - M_SQRT2*sqrt_h_i*sqrt_l_ij/sqrt_h_j - 0.5*M_SQRT2*sqrt_h_j*sqrt_l_ij/sqrt_h_i, sqrt_h_i*sqrt_l_ij/(sqrt_h_j*sqrt_l_ik), M_SQRT2*\\lambda_{ij}*h_i/(h_j*sqrt_l_ik) - M_SQRT2*sqrt_l_ik) + (_exp_2h_i*_exp_2h_i)*(_exp_2l_ij*_exp_2l_ij)*F3((0.5)*M_SQRT2*sqrt_h_i*sqrt_h_j/sqrt_l_ij - M_SQRT2*sqrt_h_i*sqrt_l_ij/sqrt_h_j + (0.5)*M_SQRT2*sqrt_h_j*sqrt_l_ij/sqrt_h_i, sqrt_h_i*sqrt_l_ij/(sqrt_h_j*sqrt_l_ik), M_SQRT2*\\lambda_{ij}*h_i/(h_j*sqrt_l_ik) - M_SQRT2*sqrt_l_ik) + 2.*_exp_2h_i*_exp_2h_j*_exp_2l_ij*_exp_2l_ik*F3((0.5)*M_SQRT2*sqrt_h_i*sqrt_h_j/sqrt_l_ij - 0.5*M_SQRT2*sqrt_h_j*sqrt_l_ij/sqrt_h_i, sqrt_h_i*sqrt_l_ij/(sqrt_h_j*sqrt_l_ik), 0.) - 2.*_exp_2h_i*_exp_2l_ij*_exp_2l_ik*F3((0.5)*M_SQRT2*sqrt_h_i*sqrt_h_j/sqrt_l_ij + (0.5)*M_SQRT2*sqrt_h_j*sqrt_l_ij/sqrt_h_i, sqrt_h_i*sqrt_l_ij/(sqrt_h_j*sqrt_l_ik), 0.) - _exp_2h_j*(_exp_2l_ij*_exp_2l_ij)*F3((0.5)*M_SQRT2*sqrt_h_i*sqrt_h_j/sqrt_l_ij + M_SQRT2*sqrt_h_i*sqrt_l_ij/sqrt_h_j - 0.5*M_SQRT2*sqrt_h_j*sqrt_l_ij/sqrt_h_i, sqrt_h_i*sqrt_l_ij/(sqrt_h_j*sqrt_l_ik), -M_SQRT2*\\lambda_{ij}*h_i/(h_j*sqrt_l_ik) + M_SQRT2*sqrt_l_ik) + F3((0.5)*M_SQRT2*sqrt_h_i*sqrt_h_j/sqrt_l_ij + M_SQRT2*sqrt_h_i*sqrt_l_ij/sqrt_h_j + (0.5)*M_SQRT2*sqrt_h_j*sqrt_l_ij/sqrt_h_i, sqrt_h_i*sqrt_l_ij/(sqrt_h_j*sqrt_l_ik), -M_SQRT2*\\lambda_{ij}*h_i/(h_j*sqrt_l_ik) + M_SQRT2*sqrt_l_ik)\n"
     ]
    }
   ],
   "source": [
    "print(\"kappa = l_ij*h_i - l_ik*h_j\")\n",
    "print(\"_kappa = 1/kappa\")\n",
    "print(\"_h_i, _h_j, _l_ij, _l_ik = 1/h_i, 1/h_j, 1/l_ij, 1/l_ik\")\n",
    "print(\"sqrt_h_i, sqrt_h_j, sqrt_l_ij, sqrt_l_ik = np.sqrt(h_i), np.sqrt(h_j), np.sqrt(l_ij), np.sqrt(l_ik)\")\n",
    "print(\"_sqrt_h_i, _sqrt_h_j, _sqrt_l_ij, _sqrt_l_ik = 1/sqrt_h_i, 1/sqrt_h_j, 1/sqrt_l_ij, 1/sqrt_l_ik\")\n",
    "print(\"_exp_2h_i, _exp_2h_j, _exp_2l_ij, _exp_2l_ik = np.exp(-2*h_i), np.exp(-2*h_j), np.exp(-2*l_ij), np.exp(-2*l_ik)\")\n",
    "print()\n",
    "print(\"cF3 = \", get_ccode(to_norm(cF3(hi, hj, lij, lik).rewrite(sp.exp)).subs(subs_exp)))"
   ]
  },
  {
   "cell_type": "code",
   "execution_count": 96,
   "metadata": {},
   "outputs": [],
   "source": [
    "def sigmas_args(arg_s1, arg_s2, arg_s3):\n",
    "    result = \"\"\n",
    "    if arg_s1:\n",
    "        result += \"1\"\n",
    "    if arg_s2:\n",
    "        result += \"2\"\n",
    "    if arg_s3:\n",
    "        result += \"3\"\n",
    "    return result\n",
    "\n",
    "\n",
    "def sigmas_func_name(func):\n",
    "    name = \"\"\n",
    "    if isinstance(func, EFunction):\n",
    "        name = \"E\"\n",
    "    if isinstance(func, FFunction):\n",
    "        name = \"F\"\n",
    "    if isinstance(func, FTildeFunction):\n",
    "        name = \"FTilde\"\n",
    "    return name + sigmas_args(*func.args[-3:])"
   ]
  },
  {
   "cell_type": "code",
   "execution_count": 97,
   "metadata": {},
   "outputs": [],
   "source": [
    "subs_kappa = {\n",
    "    lij*hi - lik*hj: 1/sp.Symbol(\"_kappa\")\n",
    "}\n",
    "\n",
    "sigmas_funcs = []\n",
    "\n",
    "def optimize_moment(expr):\n",
    "    def add_sigmas_func(func):\n",
    "        if func not in sigmas_funcs:\n",
    "            sigmas_funcs.append(func)\n",
    "        return sp.Symbol(sigmas_func_name(func)+\"_cF3\")*cF3(hi, hj, lij, lik)\n",
    "    expr = expr.subs(subs_kappa).expand()\n",
    "    expr = expr.replace(EFunction, lambda *args: add_sigmas_func(EFunction(*args)))\n",
    "    expr = expr.replace(FFunction, lambda *args: add_sigmas_func(FFunction(*args)))\n",
    "    expr = expr.replace(FTildeFunction, lambda *args: add_sigmas_func(FTildeFunction(*args)))\n",
    "    return expr"
   ]
  },
  {
   "cell_type": "code",
   "execution_count": null,
   "metadata": {},
   "outputs": [
    {
     "name": "stdout",
     "output_type": "stream",
     "text": [
      "expr_m_i =  -0.125*E123_cF3*_kappa*sqrt_h_j*sqrt_l_ij*sqrt_l_ik/sqrt_h_i + (0.25)*M_SQRT2*F13_cF3*\\lambda_{ij}*_kappa*sqrt_l_ik - 0.125*M_SQRT2*FTilde123_cF3*\\lambda_{ik}*_kappa*h_j*sqrt_h_j/(sqrt_h_i*sqrt_l_ij) + (0.25)*M_SQRT2*FTilde123_cF3*_kappa*sqrt_h_i*sqrt_h_j*sqrt_l_ij + (0.125)*M_SQRT2*FTilde12_cF3*\\lambda_{ik}*_kappa*h_j*sqrt_h_j*sqrt_l_ij/(h_i*sqrt_h_i) - 0.25*\\lambda_{ij}*\\lambda_{ik}*_kappa*(h_j*h_j)/(h_i*h_i) - 0.25*\\lambda_{ij}*_kappa + (0.25)*\\lambda_{ik}*_kappa*(h_j*h_j)/l_ij - 0.25*_kappa*h_i*h_j + (0.25)*_kappa*h_j*(l_ij*l_ij)/h_i - (0.25)/h_i\n"
     ]
    }
   ],
   "source": [
    "print(\"mi = \", get_ccode(optimize_moment(expr_mi)))\n",
    "# print(\"expr_m_i_diff_h_i = \", get_ccode(optimize_moment(expr_m_i.diff(h_i)).subs(subs_coeffs)))\n",
    "# print(\"expr_m_i_diff_h_j = \", get_ccode(optimize_moment(expr_m_i.diff(h_j)).subs(subs_coeffs)))\n",
    "# print(\"expr_m_i_diff_l_ij = \", get_ccode(optimize_moment(expr_m_i.diff(l_ij)).subs(subs_coeffs)))\n",
    "# print(\"expr_m_i_diff_l_ik = \", get_ccode(optimize_moment(expr_m_i.diff(l_ik)).subs(subs_coeffs)))\n",
    "# print()\n",
    "# print(\"expr_m_j = \", get_ccode(optimize_moment(expr_m_j).subs(subs_coeffs)))\n",
    "# print(\"expr_m_j_diff_h_i = \", get_ccode(optimize_moment(expr_m_j.diff(h_i)).subs(subs_coeffs)))\n",
    "# print(\"expr_m_j_diff_h_j = \", get_ccode(optimize_moment(expr_m_j.diff(h_j)).subs(subs_coeffs)))\n",
    "# print(\"expr_m_j_diff_l_ij = \", get_ccode(optimize_moment(expr_m_j.diff(l_ij)).subs(subs_coeffs)))\n",
    "# print(\"expr_m_j_diff_l_ik = \", get_ccode(optimize_moment(expr_m_j.diff(l_ik)).subs(subs_coeffs)))\n",
    "# print()\n",
    "# print(\"expr_eta_ij = \", get_ccode(optimize_moment(expr_eta_ij).subs(subs_coeffs)))\n",
    "# print(\"expr_eta_ij_diff_h_i = \", get_ccode(optimize_moment(expr_eta_ij.diff(h_i)).subs(subs_coeffs)))\n",
    "# print(\"expr_eta_ij_diff_h_j = \", get_ccode(optimize_moment(expr_eta_ij.diff(h_j)).subs(subs_coeffs)))\n",
    "# print(\"expr_eta_ij_diff_l_ij = \", get_ccode(optimize_moment(expr_eta_ij.diff(l_ij)).subs(subs_coeffs)))\n",
    "# print(\"expr_eta_ij_diff_l_ik = \", get_ccode(optimize_moment(expr_eta_ij.diff(l_ik)).subs(subs_coeffs)))\n",
    "# print()\n",
    "# print(\"expr_eta_ik = \", get_ccode(optimize_moment(expr_eta_ik).subs(subs_coeffs)))\n",
    "# print(\"expr_eta_ik_diff_h_i = \", get_ccode(optimize_moment(expr_eta_ik.diff(h_i)).subs(subs_coeffs)))\n",
    "# print(\"expr_eta_ik_diff_h_j = \", get_ccode(optimize_moment(expr_eta_ik.diff(h_j)).subs(subs_coeffs)))\n",
    "# print(\"expr_eta_ik_diff_l_ij = \", get_ccode(optimize_moment(expr_eta_ik.diff(l_ij)).subs(subs_coeffs)))\n",
    "# print(\"expr_eta_ik_diff_l_ik = \", get_ccode(optimize_moment(expr_eta_ik.diff(l_ik)).subs(subs_coeffs)))"
   ]
  },
  {
   "cell_type": "code",
   "execution_count": 102,
   "metadata": {},
   "outputs": [
    {
     "name": "stdout",
     "output_type": "stream",
     "text": [
      "E123_cF3 = _cF3*(-(_exp_2h_i*_exp_2h_i)*_exp_2h_j + (_exp_2h_i*_exp_2h_i)*(_exp_2l_ij*_exp_2l_ij) + 2.*_exp_2h_i*_exp_2h_j*_exp_2l_ij*_exp_2l_ik - 2.*_exp_2h_i*_exp_2l_ij*_exp_2l_ik - _exp_2h_j*(_exp_2l_ij*_exp_2l_ij) + 1.)\n",
      "F13_cF3 = _cF3*(-(_exp_2h_i*_exp_2h_i)*_exp_2h_j*dawson(-0.5*M_SQRT2*sqrt_h_i*sqrt_h_j/sqrt_l_ij + M_SQRT2*sqrt_h_i*sqrt_l_ij/sqrt_h_j + (0.5)*M_SQRT2*sqrt_h_j*sqrt_l_ij/sqrt_h_i) - (_exp_2h_i*_exp_2h_i)*(_exp_2l_ij*_exp_2l_ij)*dawson((0.5)*M_SQRT2*sqrt_h_i*sqrt_h_j/sqrt_l_ij - M_SQRT2*sqrt_h_i*sqrt_l_ij/sqrt_h_j + (0.5)*M_SQRT2*sqrt_h_j*sqrt_l_ij/sqrt_h_i) - _exp_2h_j*(_exp_2l_ij*_exp_2l_ij)*dawson((0.5)*M_SQRT2*sqrt_h_i*sqrt_h_j/sqrt_l_ij + M_SQRT2*sqrt_h_i*sqrt_l_ij/sqrt_h_j - 0.5*M_SQRT2*sqrt_h_j*sqrt_l_ij/sqrt_h_i) + dawson((0.5)*M_SQRT2*sqrt_h_i*sqrt_h_j/sqrt_l_ij + M_SQRT2*sqrt_h_i*sqrt_l_ij/sqrt_h_j + (0.5)*M_SQRT2*sqrt_h_j*sqrt_l_ij/sqrt_h_i))\n",
      "FTilde123_cF3 = _cF3*((_exp_2h_i*_exp_2h_i)*_exp_2h_j*dawson(-0.5*M_SQRT2*h_i/sqrt_l_ik + (0.5)*M_SQRT2*l_ij/sqrt_l_ik + M_SQRT2*sqrt_l_ik) + (_exp_2h_i*_exp_2h_i)*(_exp_2l_ij*_exp_2l_ij)*dawson((0.5)*M_SQRT2*h_i/sqrt_l_ik + (0.5)*M_SQRT2*l_ij/sqrt_l_ik - M_SQRT2*sqrt_l_ik) + 2.*_exp_2h_i*_exp_2h_j*_exp_2l_ij*_exp_2l_ik*dawson((0.5)*M_SQRT2*h_i/sqrt_l_ik - 0.5*M_SQRT2*l_ij/sqrt_l_ik) - 2.*_exp_2h_i*_exp_2l_ij*_exp_2l_ik*dawson((0.5)*M_SQRT2*h_i/sqrt_l_ik + (0.5)*M_SQRT2*l_ij/sqrt_l_ik) - _exp_2h_j*(_exp_2l_ij*_exp_2l_ij)*dawson((0.5)*M_SQRT2*h_i/sqrt_l_ik - 0.5*M_SQRT2*l_ij/sqrt_l_ik + M_SQRT2*sqrt_l_ik) + dawson((0.5)*M_SQRT2*h_i/sqrt_l_ik + (0.5)*M_SQRT2*l_ij/sqrt_l_ik + M_SQRT2*sqrt_l_ik))\n",
      "FTilde12_cF3 = _cF3*(-(_exp_2h_i*_exp_2h_i)*_exp_2h_j*dawson(-0.5*M_SQRT2*h_i/sqrt_l_ik + (0.5)*M_SQRT2*l_ij/sqrt_l_ik + M_SQRT2*sqrt_l_ik) + (_exp_2h_i*_exp_2h_i)*(_exp_2l_ij*_exp_2l_ij)*dawson((0.5)*M_SQRT2*h_i/sqrt_l_ik + (0.5)*M_SQRT2*l_ij/sqrt_l_ik - M_SQRT2*sqrt_l_ik) - 2.*_exp_2h_i*_exp_2h_j*_exp_2l_ij*_exp_2l_ik*dawson((0.5)*M_SQRT2*h_i/sqrt_l_ik - 0.5*M_SQRT2*l_ij/sqrt_l_ik) - 2.*_exp_2h_i*_exp_2l_ij*_exp_2l_ik*dawson((0.5)*M_SQRT2*h_i/sqrt_l_ik + (0.5)*M_SQRT2*l_ij/sqrt_l_ik) + _exp_2h_j*(_exp_2l_ij*_exp_2l_ij)*dawson((0.5)*M_SQRT2*h_i/sqrt_l_ik - 0.5*M_SQRT2*l_ij/sqrt_l_ik + M_SQRT2*sqrt_l_ik) + dawson((0.5)*M_SQRT2*h_i/sqrt_l_ik + (0.5)*M_SQRT2*l_ij/sqrt_l_ik + M_SQRT2*sqrt_l_ik))\n"
     ]
    }
   ],
   "source": [
    "for sigmas_func in sigmas_funcs:\n",
    "    print(f\"{sigmas_func_name(sigmas_func)}_cF3 = _cF3*({get_ccode(to_norm(sigmas_func.rewrite(sp.exp)).subs(subs_exp).subs(subs_coeffs))})\")"
   ]
  },
  {
   "cell_type": "code",
   "execution_count": null,
   "metadata": {},
   "outputs": [],
   "source": [
    "def break_to_sub_exprs(name, expr, max_sub_exprs=60):\n",
    "    args = expr.args\n",
    "    N = len(args) // max_sub_exprs\n",
    "    flag_first = True\n",
    "    for _ in range(N):\n",
    "        if flag_first:\n",
    "            s = f\"{name} = \"\n",
    "            flag_first = False\n",
    "        else:\n",
    "            s = f\"{name} += \"\n",
    "        print(s, get_ccode(sp.Add(*args[:max_sub_exprs])))\n",
    "        args = args[max_sub_exprs:]\n",
    "\n",
    "    if len(args) > 0:\n",
    "        if flag_first:\n",
    "            s = f\"{name} = \"\n",
    "            flag_first = False\n",
    "        else:\n",
    "            s = f\"{name} += \"\n",
    "        print(s, get_ccode(sp.Add(*args)))"
   ]
  },
  {
   "cell_type": "markdown",
   "metadata": {},
   "source": [
    "### Вырожденный случай"
   ]
  },
  {
   "cell_type": "code",
   "execution_count": null,
   "metadata": {},
   "outputs": [],
   "source": [
    "sigmas_funcs = []\n",
    "\n",
    "def optimize_moment_degenerate(expr):\n",
    "    def add_sigmas_func(func):\n",
    "        if func not in sigmas_funcs:\n",
    "            sigmas_funcs.append(func)\n",
    "        return sp.Symbol(sigmas_func_name(func)+\"_cF3\")*cF3(hi, hj, lij, lik)\n",
    "    \n",
    "    expr = evaluate_cF3_degenerate(expr).subs(subs_to_cF3Function_degenerate).expand()\n",
    "    expr = expr.replace(cF3_degenerate, lambda *args: cF3(*args[:4]))\n",
    "    expr = expr.replace(EFunction, lambda *args: add_sigmas_func(EFunction(*args)))\n",
    "    expr = expr.replace(FFunction, lambda *args: add_sigmas_func(FFunction(*args)))\n",
    "    return expr"
   ]
  },
  {
   "cell_type": "code",
   "execution_count": null,
   "metadata": {},
   "outputs": [],
   "source": [
    "# print(\"expr_m_i = \", get_ccode(optimize_moment_degenerate(expr_m_i_degenerate).subs(subs_coeffs)))\n",
    "# break_to_sub_exprs(\"expr_m_i_diff_h_i\", (optimize_moment_degenerate(expr_m_i_degenerate.diff(h_i)).subs(subs_coeffs)))\n",
    "# break_to_sub_exprs(\"expr_m_i_diff_h_j\", (optimize_moment_degenerate(expr_m_i_degenerate.diff(h_j)).subs(subs_coeffs)))\n",
    "# break_to_sub_exprs(\"expr_m_i_diff_l_ij\", (optimize_moment_degenerate(expr_m_i_degenerate.diff(l_ij)).subs(subs_coeffs)))\n",
    "# break_to_sub_exprs(\"expr_m_i_diff_l_ik\", (optimize_moment_degenerate(expr_m_i_degenerate.diff(l_ik)).subs(subs_coeffs)))\n",
    "# print()\n",
    "# print(\"expr_m_j = \", get_ccode(optimize_moment_degenerate(expr_m_j_degenerate).subs(subs_coeffs)))\n",
    "# break_to_sub_exprs(\"expr_m_j_diff_h_i\", (optimize_moment_degenerate(expr_m_j_degenerate.diff(h_i)).subs(subs_coeffs)))\n",
    "# break_to_sub_exprs(\"expr_m_j_diff_h_j\", (optimize_moment_degenerate(expr_m_j_degenerate.diff(h_j)).subs(subs_coeffs)))\n",
    "# break_to_sub_exprs(\"expr_m_j_diff_l_ij\", (optimize_moment_degenerate(expr_m_j_degenerate.diff(l_ij)).subs(subs_coeffs)))\n",
    "# break_to_sub_exprs(\"expr_m_j_diff_l_ik\", (optimize_moment_degenerate(expr_m_j_degenerate.diff(l_ik)).subs(subs_coeffs)))\n",
    "# print()\n",
    "# print(\"expr_eta_ij = \", get_ccode(optimize_moment_degenerate(expr_eta_ij_degenerate).subs(subs_coeffs)))\n",
    "# break_to_sub_exprs(\"expr_eta_ij_diff_h_i\", (optimize_moment_degenerate(expr_eta_ij_degenerate.diff(h_i)).subs(subs_coeffs)))\n",
    "# break_to_sub_exprs(\"expr_eta_ij_diff_h_j\", (optimize_moment_degenerate(expr_eta_ij_degenerate.diff(h_j)).subs(subs_coeffs)))\n",
    "# break_to_sub_exprs(\"expr_eta_ij_diff_l_ij\", (optimize_moment_degenerate(expr_eta_ij_degenerate.diff(l_ij)).subs(subs_coeffs)))\n",
    "# break_to_sub_exprs(\"expr_eta_ij_diff_l_ik\", (optimize_moment_degenerate(expr_eta_ij_degenerate.diff(l_ik)).subs(subs_coeffs)))\n",
    "# print()\n",
    "# print(\"expr_eta_ik = \", get_ccode(optimize_moment_degenerate(expr_eta_ik_degenerate).subs(subs_coeffs)))\n",
    "# break_to_sub_exprs(\"expr_eta_ik_diff_h_i\", (optimize_moment_degenerate(expr_eta_ik_degenerate.diff(h_i)).subs(subs_coeffs)))\n",
    "# break_to_sub_exprs(\"expr_eta_ik_diff_h_j\", (optimize_moment_degenerate(expr_eta_ik_degenerate.diff(h_j)).subs(subs_coeffs)))\n",
    "# break_to_sub_exprs(\"expr_eta_ik_diff_l_ij\", (optimize_moment_degenerate(expr_eta_ik_degenerate.diff(l_ij)).subs(subs_coeffs)))\n",
    "# break_to_sub_exprs(\"expr_eta_ik_diff_l_ik\", (optimize_moment_degenerate(expr_eta_ik_degenerate.diff(l_ik)).subs(subs_coeffs)))"
   ]
  },
  {
   "cell_type": "code",
   "execution_count": null,
   "metadata": {},
   "outputs": [],
   "source": [
    "# for sigmas_func in sigmas_funcs:\n",
    "#     print(f\"{sigmas_func_name(sigmas_func)}_cF3 = _cF3*({get_ccode(to_norm(sigmas_func.rewrite(sp.exp)).subs(subs_exp).subs(subs_coeffs))})\")"
   ]
  },
  {
   "cell_type": "markdown",
   "metadata": {},
   "source": [
    "### Вырожденный случай с $h_1 = h_2$ и $\\lambda_1 = \\lambda_2$"
   ]
  },
  {
   "cell_type": "code",
   "execution_count": null,
   "metadata": {},
   "outputs": [],
   "source": [
    "subs_coeffs_degenerate_spec_1 = {\n",
    "    h: sp.Symbol(\"h\"),\n",
    "    l: sp.Symbol(\"l\")\n",
    "}\n",
    "\n",
    "subs_exp_degenerate_spec_1 = {\n",
    "    sp.exp(-2*h): sp.Symbol(\"_exp_2h\"),\n",
    "    sp.exp(-2*l): sp.Symbol(\"_exp_2l\"),\n",
    "}\n",
    "\n",
    "def to_norm_degenerate_spec_1(expr):\n",
    "    expr *= sp.exp(-3*h-3*l)\n",
    "    return expr.expand()"
   ]
  },
  {
   "cell_type": "code",
   "execution_count": null,
   "metadata": {},
   "outputs": [
    {
     "name": "stdout",
     "output_type": "stream",
     "text": [
      "_h, _l, = 1/h, 1/l\n",
      "sqrt_h, sqrt_l, = np.sqrt(h), np.sqrt(l)\n",
      "_sqrt_h, _sqrt_l, = 1/sqrt_h, 1/sqrt_l\n",
      "_exp_2h, _exp_2l = np.exp(-2*h), np.exp(-2*l)\n",
      "\n",
      "cF3 =  -(_exp_2h*_exp_2h*_exp_2h)*F3((0.5)*M_SQRT2*_sqrt_l*h - 1.5*M_SQRT2*sqrt_l, 1., 0.) + 3.*(_exp_2h*_exp_2h)*(_exp_2l*_exp_2l)*F3((0.5)*M_SQRT2*_sqrt_l*h - 0.5*M_SQRT2*sqrt_l, 1., 0.) - 3.*_exp_2h*(_exp_2l*_exp_2l)*F3((0.5)*M_SQRT2*_sqrt_l*h + (0.5)*M_SQRT2*sqrt_l, 1., 0.) + F3((0.5)*M_SQRT2*_sqrt_l*h + (1.5)*M_SQRT2*sqrt_l, 1., 0.)\n",
      "_cF3 = 1/cF3\n"
     ]
    }
   ],
   "source": [
    "print(\"_h, _l, = 1/h, 1/l\")\n",
    "print(\"sqrt_h, sqrt_l, = np.sqrt(h), np.sqrt(l)\")\n",
    "print(\"_sqrt_h, _sqrt_l, = 1/sqrt_h, 1/sqrt_l\")\n",
    "print(\"_exp_2h, _exp_2l = np.exp(-2*h), np.exp(-2*l)\")\n",
    "print()\n",
    "print(\"cF3 = \", get_ccode(to_norm_degenerate_spec_1(cF3(h, h, l, l).rewrite(sp.exp)).subs(subs_exp_degenerate_spec_1).subs(subs_coeffs_degenerate_spec_1)))\n",
    "print(\"_cF3 = 1/cF3\")"
   ]
  },
  {
   "cell_type": "code",
   "execution_count": null,
   "metadata": {},
   "outputs": [],
   "source": [
    "sigmas_funcs = []\n",
    "\n",
    "def optimize_moment_degenerate_spec_1(expr):\n",
    "    def add_sigmas_func(func):\n",
    "        if func not in sigmas_funcs:\n",
    "            sigmas_funcs.append(func)\n",
    "        return sp.Symbol(sigmas_func_name(func)+\"_cF3\")*cF3(h, h, l, l)\n",
    "    \n",
    "    expr = expr.subs(subs_to_cF3Function_degenerate_spec_1).expand()\n",
    "    expr = expr.replace(EFunction_spec_1, EFunction).replace(FFunction_spec_1, FFunction)\n",
    "    expr = expr.replace(cF3_degenerate, lambda *args: cF3(*args[:4]))\n",
    "    expr = expr.replace(EFunction, lambda *args: add_sigmas_func(EFunction(*args)))\n",
    "    expr = expr.replace(FFunction, lambda *args: add_sigmas_func(FFunction(*args)))\n",
    "    return expr"
   ]
  },
  {
   "cell_type": "code",
   "execution_count": null,
   "metadata": {},
   "outputs": [
    {
     "name": "stdout",
     "output_type": "stream",
     "text": [
      "expr_m =  (1.0/6.0)*M_SQRT2*F123_cF3*_sqrt_l - 1.0/3.0*_h - 1.0/3.0*_l*h\n",
      "expr_m_diff_h =  -1.0/12.0*M_SQRT2*E123_cF3*F123_cF3*_l*_sqrt_l*h + (1.0/6.0)*E123_cF3*_l - 1.0/6.0*M_SQRT2*E12_cF3*F123_cF3*_sqrt_l + (1.0/6.0)*M_SQRT2*E13_cF3*F123_cF3*_sqrt_l + (1.0/6.0)*(F123_cF3*F123_cF3)*(_l*_l)*(h*h) - 1.0/6.0*(F123_cF3*F123_cF3)*_l + (0.5)*F123_cF3*F12_cF3*_l*h - 1.0/6.0*M_SQRT2*F123_cF3*_l*_sqrt_l*h + (1.0/3.0)*(_h*_h) - 1.0/3.0*_l\n",
      "expr_m_diff_l =  (1.0/24.0)*M_SQRT2*E123_cF3*F123_cF3*(_l*_l)*_sqrt_l*(h*h) - 0.125*M_SQRT2*E123_cF3*F123_cF3*_sqrt_l - 1.0/12.0*E123_cF3*(_l*_l)*h + (1.0/12.0)*M_SQRT2*E12_cF3*F123_cF3*_l*_sqrt_l*h + (1.0/12.0)*E12_cF3*_l - 1.0/12.0*M_SQRT2*E13_cF3*F123_cF3*_l*_sqrt_l*h + (1.0/6.0)*E13_cF3*_l - 1.0/12.0*M_SQRT2*E1_cF3*F123_cF3*_sqrt_l + (1.0/12.0)*M_SQRT2*E3_cF3*F123_cF3*_sqrt_l - 1.0/12.0*(F123_cF3*F123_cF3)*(_l*_l*_l)*(h*h*h) + (1.0/12.0)*(F123_cF3*F123_cF3)*(_l*_l)*h + (0.25)*(F123_cF3*F123_cF3)*_l*h - 0.25*F123_cF3*F12_cF3*(_l*_l)*(h*h) - 0.25*F123_cF3*F12_cF3*_l + (0.75)*F123_cF3*F12_cF3 + (1.0/12.0)*M_SQRT2*F123_cF3*(_l*_l)*_sqrt_l*(h*h) - 1.0/12.0*M_SQRT2*F123_cF3*_l*_sqrt_l - 0.25*M_SQRT2*F123_cF3*_sqrt_l + (1.0/3.0)*(_l*_l)*h\n",
      "\n",
      "expr_eta =  -1.0/12.0*M_SQRT2*F123_cF3*_l*_sqrt_l*h + (0.25)*M_SQRT2*F12_cF3*_sqrt_l + (1.0/6.0)*(_l*_l)*(h*h) - 1.0/3.0*_l - 0.5\n",
      "expr_eta_diff_h =  (1.0/24.0)*M_SQRT2*E123_cF3*F123_cF3*(_l*_l)*_sqrt_l*(h*h) - 0.125*M_SQRT2*E123_cF3*F12_cF3*_l*_sqrt_l*h - 1.0/12.0*E123_cF3*(_l*_l)*h + (1.0/12.0)*M_SQRT2*E12_cF3*F123_cF3*_l*_sqrt_l*h - 0.25*M_SQRT2*E12_cF3*F12_cF3*_sqrt_l + (0.25)*E12_cF3*_l - 1.0/12.0*M_SQRT2*E13_cF3*F123_cF3*_l*_sqrt_l*h + (0.25)*M_SQRT2*E13_cF3*F12_cF3*_sqrt_l - 1.0/12.0*(F123_cF3*F123_cF3)*(_l*_l*_l)*(h*h*h) + (1.0/12.0)*(F123_cF3*F123_cF3)*(_l*_l)*h - 0.25*F123_cF3*F12_cF3*_l + (1.0/12.0)*M_SQRT2*F123_cF3*(_l*_l)*_sqrt_l*(h*h) - 1.0/12.0*M_SQRT2*F123_cF3*_l*_sqrt_l + (0.75)*(F12_cF3*F12_cF3)*_l*h - 0.25*M_SQRT2*F12_cF3*_l*_sqrt_l*h + (1.0/3.0)*(_l*_l)*h\n",
      "expr_eta_diff_l =  -1.0/48.0*M_SQRT2*E123_cF3*F123_cF3*(_l*_l*_l)*_sqrt_l*(h*h*h) + (0.0625)*M_SQRT2*E123_cF3*F123_cF3*_l*_sqrt_l*h + (0.0625)*M_SQRT2*E123_cF3*F12_cF3*(_l*_l)*_sqrt_l*(h*h) - 0.1875*M_SQRT2*E123_cF3*F12_cF3*_sqrt_l + (1.0/24.0)*E123_cF3*(_l*_l*_l)*(h*h) + (0.125)*E123_cF3*_l - 1.0/24.0*M_SQRT2*E12_cF3*F123_cF3*(_l*_l)*_sqrt_l*(h*h) + (0.125)*M_SQRT2*E12_cF3*F12_cF3*_l*_sqrt_l*h - 1.0/6.0*E12_cF3*(_l*_l)*h + (1.0/24.0)*M_SQRT2*E13_cF3*F123_cF3*(_l*_l)*_sqrt_l*(h*h) - 0.125*M_SQRT2*E13_cF3*F12_cF3*_l*_sqrt_l*h - 1.0/12.0*E13_cF3*(_l*_l)*h + (1.0/24.0)*M_SQRT2*E1_cF3*F123_cF3*_l*_sqrt_l*h - 0.125*M_SQRT2*E1_cF3*F12_cF3*_sqrt_l + (0.25)*E1_cF3*_l - 1.0/24.0*M_SQRT2*E3_cF3*F123_cF3*_l*_sqrt_l*h + (0.125)*M_SQRT2*E3_cF3*F12_cF3*_sqrt_l + (1.0/24.0)*(F123_cF3*F123_cF3)*(_l*_l*_l*_l)*(h*h*h*h) - 1.0/24.0*(F123_cF3*F123_cF3)*(_l*_l*_l)*(h*h) - 0.125*(F123_cF3*F123_cF3)*(_l*_l)*(h*h) + (0.25)*F123_cF3*F12_cF3*(_l*_l)*h - 1.0/24.0*M_SQRT2*F123_cF3*(_l*_l*_l)*_sqrt_l*(h*h*h) + (0.125)*M_SQRT2*F123_cF3*(_l*_l)*_sqrt_l*h + (0.125)*M_SQRT2*F123_cF3*_l*_sqrt_l*h - 0.375*(F12_cF3*F12_cF3)*(_l*_l)*(h*h) - 0.375*(F12_cF3*F12_cF3)*_l + (1.125)*(F12_cF3*F12_cF3) + (0.125)*M_SQRT2*F12_cF3*(_l*_l)*_sqrt_l*(h*h) - 0.125*M_SQRT2*F12_cF3*_l*_sqrt_l - 0.375*M_SQRT2*F12_cF3*_sqrt_l - 1.0/3.0*(_l*_l*_l)*(h*h) + (1.0/3.0)*(_l*_l)\n"
     ]
    }
   ],
   "source": [
    "print(\"expr_m = \", get_ccode(optimize_moment_degenerate_spec_1(expr_m_i_degenerate_spec_1).subs(subs_coeffs_degenerate_spec_1)))\n",
    "print(\"expr_m_diff_h = \", get_ccode(optimize_moment_degenerate_spec_1(expr_m_i_degenerate_spec_1.diff(h)).subs(subs_coeffs_degenerate_spec_1)))\n",
    "print(\"expr_m_diff_l = \", get_ccode(optimize_moment_degenerate_spec_1(expr_m_i_degenerate_spec_1.diff(l)).subs(subs_coeffs_degenerate_spec_1)))\n",
    "print()\n",
    "print(\"expr_eta = \", get_ccode(optimize_moment_degenerate_spec_1(expr_eta_ij_degenerate_spec_1).subs(subs_coeffs_degenerate_spec_1)))\n",
    "print(\"expr_eta_diff_h = \", get_ccode(optimize_moment_degenerate_spec_1(expr_eta_ij_degenerate_spec_1.diff(h)).subs(subs_coeffs_degenerate_spec_1)))\n",
    "print(\"expr_eta_diff_l = \", get_ccode(optimize_moment_degenerate_spec_1(expr_eta_ij_degenerate_spec_1.diff(l)).subs(subs_coeffs_degenerate_spec_1)))"
   ]
  },
  {
   "cell_type": "code",
   "execution_count": null,
   "metadata": {},
   "outputs": [
    {
     "name": "stdout",
     "output_type": "stream",
     "text": [
      "F123_cF3 = _cF3*(-(_exp_2h*_exp_2h*_exp_2h)*Z2.F2((0.5)*M_SQRT2*_sqrt_l*h - 1.5*M_SQRT2*sqrt_l) + 3.*(_exp_2h*_exp_2h)*(_exp_2l*_exp_2l)*Z2.F2((0.5)*M_SQRT2*_sqrt_l*h - 0.5*M_SQRT2*sqrt_l) - 3.*_exp_2h*(_exp_2l*_exp_2l)*Z2.F2((0.5)*M_SQRT2*_sqrt_l*h + (0.5)*M_SQRT2*sqrt_l) + Z2.F2((0.5)*M_SQRT2*_sqrt_l*h + (1.5)*M_SQRT2*sqrt_l))\n",
      "E123_cF3 = _cF3*(-(_exp_2h*_exp_2h*_exp_2h) + 3.*(_exp_2h*_exp_2h)*(_exp_2l*_exp_2l) - 3.*_exp_2h*(_exp_2l*_exp_2l) + 1.)\n",
      "E12_cF3 = _cF3*((_exp_2h*_exp_2h*_exp_2h) - (_exp_2h*_exp_2h)*(_exp_2l*_exp_2l) - _exp_2h*(_exp_2l*_exp_2l) + 1.)\n",
      "E13_cF3 = _cF3*((_exp_2h*_exp_2h*_exp_2h) - (_exp_2h*_exp_2h)*(_exp_2l*_exp_2l) - _exp_2h*(_exp_2l*_exp_2l) + 1.)\n",
      "F12_cF3 = _cF3*((_exp_2h*_exp_2h*_exp_2h)*Z2.F2((0.5)*M_SQRT2*_sqrt_l*h - 1.5*M_SQRT2*sqrt_l) - (_exp_2h*_exp_2h)*(_exp_2l*_exp_2l)*Z2.F2((0.5)*M_SQRT2*_sqrt_l*h - 0.5*M_SQRT2*sqrt_l) - _exp_2h*(_exp_2l*_exp_2l)*Z2.F2((0.5)*M_SQRT2*_sqrt_l*h + (0.5)*M_SQRT2*sqrt_l) + Z2.F2((0.5)*M_SQRT2*_sqrt_l*h + (1.5)*M_SQRT2*sqrt_l))\n",
      "E1_cF3 = _cF3*(-(_exp_2h*_exp_2h*_exp_2h) - (_exp_2h*_exp_2h)*(_exp_2l*_exp_2l) + _exp_2h*(_exp_2l*_exp_2l) + 1.)\n",
      "E3_cF3 = _cF3*(-(_exp_2h*_exp_2h*_exp_2h) - (_exp_2h*_exp_2h)*(_exp_2l*_exp_2l) + _exp_2h*(_exp_2l*_exp_2l) + 1.)\n"
     ]
    }
   ],
   "source": [
    "for sigmas_func in sigmas_funcs:\n",
    "    print(f\"{sigmas_func_name(sigmas_func)}_cF3 = _cF3*({get_ccode(to_norm_degenerate_spec_1(sigmas_func.rewrite(sp.exp)).subs(subs_exp_degenerate_spec_1).subs(subs_coeffs_degenerate_spec_1))})\")"
   ]
  },
  {
   "cell_type": "code",
   "execution_count": null,
   "metadata": {},
   "outputs": [],
   "source": [
    "subs_moments = {\n",
    "    m: sp.Symbol(\"m\"),\n",
    "    eta: sp.Symbol(\"eta\"),\n",
    "}\n"
   ]
  },
  {
   "cell_type": "code",
   "execution_count": null,
   "metadata": {},
   "outputs": [
    {
     "name": "stdout",
     "output_type": "stream",
     "text": [
      "-0.1*eta*(h*h*h)/(l*l) + 3.*eta*(h*h)*EFunction_norm(h, h, l, l, 1, 1, 0)/(10.*M_SQRT2*h*sqrt(l)*FFunction_norm(h, h, l, l, 1, 1, 1) + 30.*M_SQRT2*pow(l, 1.5)*FFunction_norm(h, h, l, l, 1, 1, 0) - 20.*l*cF3Function_norm(h, h, l, l)) + (0.7)*eta*h - 3.*eta*h*EFunction_norm(h, h, l, l, 1, 0, 0)/(5.*M_SQRT2*h*FFunction_norm(h, h, l, l, 1, 1, 1)/sqrt(l) + 15.*M_SQRT2*sqrt(l)*FFunction_norm(h, h, l, l, 1, 1, 0) - 10.*cF3Function_norm(h, h, l, l)) - 0.6*eta*h/l - 3.*eta*l*EFunction_norm(h, h, l, l, 1, 0, 0)/(5.*M_SQRT2*(h*h)*FFunction_norm(h, h, l, l, 1, 1, 1)/sqrt(l) + 15.*M_SQRT2*h*sqrt(l)*FFunction_norm(h, h, l, l, 1, 1, 0) - 10.*h*cF3Function_norm(h, h, l, l)) - 9.*eta*l*EFunction_norm(h, h, l, l, 1, 1, 0)/(10.*M_SQRT2*h*FFunction_norm(h, h, l, l, 1, 1, 1)/sqrt(l) + 30.*M_SQRT2*sqrt(l)*FFunction_norm(h, h, l, l, 1, 1, 0) - 20.*cF3Function_norm(h, h, l, l)) + 3.*eta*l*EFunction_norm(h, h, l, l, 0, 0, 0)/(5.*M_SQRT2*h*FFunction_norm(h, h, l, l, 1, 1, 1)/sqrt(l) + 15.*M_SQRT2*sqrt(l)*FFunction_norm(h, h, l, l, 1, 1, 0) - 10.*cF3Function_norm(h, h, l, l)) + 9.*eta*EFunction_norm(h, h, l, l, 1, 1, 0)/(10.*M_SQRT2*h*FFunction_norm(h, h, l, l, 1, 1, 1)/sqrt(l) + 30.*M_SQRT2*sqrt(l)*FFunction_norm(h, h, l, l, 1, 1, 0) - 20.*cF3Function_norm(h, h, l, l)) + (0.7)*eta*l/h - 0.3*eta/h + (h*h*h*h)*EFunction_norm(h, h, l, l, 1, 1, 0)/(20.*M_SQRT2*h*pow(l, 2.5)*FFunction_norm(h, h, l, l, 1, 1, 1) + 60.*M_SQRT2*pow(l, 3.5)*FFunction_norm(h, h, l, l, 1, 1, 0) - 40.*(l*l*l)*cF3Function_norm(h, h, l, l)) - 0.05*(h*h*h*h)*m/(l*l*l) + 3.*(h*h*h)*m*EFunction_norm(h, h, l, l, 1, 1, 0)/(10.*M_SQRT2*h*pow(l, 1.5)*FFunction_norm(h, h, l, l, 1, 1, 1) + 30.*M_SQRT2*pow(l, 2.5)*FFunction_norm(h, h, l, l, 1, 1, 0) - 20.*(l*l)*cF3Function_norm(h, h, l, l)) - (h*h*h)*EFunction_norm(h, h, l, l, 1, 0, 0)/(10.*M_SQRT2*h*pow(l, 1.5)*FFunction_norm(h, h, l, l, 1, 1, 1) + 30.*M_SQRT2*pow(l, 2.5)*FFunction_norm(h, h, l, l, 1, 1, 0) - 20.*(l*l)*cF3Function_norm(h, h, l, l)) - 0.1*(h*h*h)/(l*l) - 0.05*(h*h*h)/(l*l*l) - 3.*(h*h)*m*EFunction_norm(h, h, l, l, 1, 0, 0)/(5.*M_SQRT2*h*sqrt(l)*FFunction_norm(h, h, l, l, 1, 1, 1) + 15.*M_SQRT2*pow(l, 1.5)*FFunction_norm(h, h, l, l, 1, 1, 0) - 10.*l*cF3Function_norm(h, h, l, l)) + 3.*(h*h)*EFunction_norm(h, h, l, l, 1, 1, 0)/(10.*M_SQRT2*h*pow(l, 1.5)*FFunction_norm(h, h, l, l, 1, 1, 1) + 30.*M_SQRT2*pow(l, 2.5)*FFunction_norm(h, h, l, l, 1, 1, 0) - 20.*(l*l)*cF3Function_norm(h, h, l, l)) + (h*h)*EFunction_norm(h, h, l, l, 0, 0, 0)/(10.*M_SQRT2*h*sqrt(l)*FFunction_norm(h, h, l, l, 1, 1, 1) + 30.*M_SQRT2*pow(l, 1.5)*FFunction_norm(h, h, l, l, 1, 1, 0) - 20.*l*cF3Function_norm(h, h, l, l)) + (0.2)*(h*h)*m/l - 0.1*(h*h)*m/(l*l) + 9.*h*m*EFunction_norm(h, h, l, l, 1, 1, 0)/(10.*M_SQRT2*h*sqrt(l)*FFunction_norm(h, h, l, l, 1, 1, 1) + 30.*M_SQRT2*pow(l, 1.5)*FFunction_norm(h, h, l, l, 1, 1, 0) - 20.*l*cF3Function_norm(h, h, l, l)) - 9.*h*m*EFunction_norm(h, h, l, l, 1, 1, 0)/(10.*M_SQRT2*h*FFunction_norm(h, h, l, l, 1, 1, 1)/sqrt(l) + 30.*M_SQRT2*sqrt(l)*FFunction_norm(h, h, l, l, 1, 1, 0) - 20.*cF3Function_norm(h, h, l, l)) + 3.*h*m*EFunction_norm(h, h, l, l, 0, 0, 0)/(5.*M_SQRT2*h*FFunction_norm(h, h, l, l, 1, 1, 1)/sqrt(l) + 15.*M_SQRT2*sqrt(l)*FFunction_norm(h, h, l, l, 1, 1, 0) - 10.*cF3Function_norm(h, h, l, l)) + (0.5)*h - 2.*h*EFunction_norm(h, h, l, l, 1, 0, 0)/(5.*M_SQRT2*h*sqrt(l)*FFunction_norm(h, h, l, l, 1, 1, 1) + 15.*M_SQRT2*pow(l, 1.5)*FFunction_norm(h, h, l, l, 1, 1, 0) - 10.*l*cF3Function_norm(h, h, l, l)) - 3.*h*EFunction_norm(h, h, l, l, 1, 0, 0)/(10.*M_SQRT2*h*FFunction_norm(h, h, l, l, 1, 1, 1)/sqrt(l) + 30.*M_SQRT2*sqrt(l)*FFunction_norm(h, h, l, l, 1, 1, 0) - 20.*cF3Function_norm(h, h, l, l)) - 0.1*h/(l*l) + (0.45)*l*m - 3.*l*EFunction_norm(h, h, l, l, 1, 0, 0)/(10.*M_SQRT2*(h*h)*FFunction_norm(h, h, l, l, 1, 1, 1)/sqrt(l) + 30.*M_SQRT2*h*sqrt(l)*FFunction_norm(h, h, l, l, 1, 1, 0) - 20.*h*cF3Function_norm(h, h, l, l)) - 9.*l*EFunction_norm(h, h, l, l, 1, 1, 0)/(20.*M_SQRT2*h*FFunction_norm(h, h, l, l, 1, 1, 1)/sqrt(l) + 60.*M_SQRT2*sqrt(l)*FFunction_norm(h, h, l, l, 1, 1, 0) - 40.*cF3Function_norm(h, h, l, l)) + 3.*l*EFunction_norm(h, h, l, l, 0, 0, 0)/(10.*M_SQRT2*h*FFunction_norm(h, h, l, l, 1, 1, 1)/sqrt(l) + 30.*M_SQRT2*sqrt(l)*FFunction_norm(h, h, l, l, 1, 1, 0) - 20.*cF3Function_norm(h, h, l, l)) + (0.2)*m - 3.*m*EFunction_norm(h, h, l, l, 1, 0, 0)/(5.*M_SQRT2*h*FFunction_norm(h, h, l, l, 1, 1, 1)/sqrt(l) + 15.*M_SQRT2*sqrt(l)*FFunction_norm(h, h, l, l, 1, 1, 0) - 10.*cF3Function_norm(h, h, l, l)) - 3.*EFunction_norm(h, h, l, l, 1, 0, 0)/(10.*M_SQRT2*(h*h)*FFunction_norm(h, h, l, l, 1, 1, 1)/sqrt(l) + 30.*M_SQRT2*h*sqrt(l)*FFunction_norm(h, h, l, l, 1, 1, 0) - 20.*h*cF3Function_norm(h, h, l, l)) + 9.*EFunction_norm(h, h, l, l, 1, 1, 0)/(20.*M_SQRT2*h*sqrt(l)*FFunction_norm(h, h, l, l, 1, 1, 1) + 60.*M_SQRT2*pow(l, 1.5)*FFunction_norm(h, h, l, l, 1, 1, 0) - 40.*l*cF3Function_norm(h, h, l, l)) + 3.*EFunction_norm(h, h, l, l, 0, 0, 0)/(10.*M_SQRT2*h*FFunction_norm(h, h, l, l, 1, 1, 1)/sqrt(l) + 30.*M_SQRT2*sqrt(l)*FFunction_norm(h, h, l, l, 1, 1, 0) - 20.*cF3Function_norm(h, h, l, l)) - 0.55*m/l + (0.35)*l/h + (0.2)/h - (0.15)/(h*l)\n"
     ]
    }
   ],
   "source": [
    "expr = expr_m_j_eta_ij_degenerate_spec_1.subs(subs_to_cF3Function_degenerate_spec_1).expand()\n",
    "expr = expr.replace(EFunction_spec_1, EFunction).replace(FFunction_spec_1, FFunction).subs(subs_moments)\n",
    "expr = expr.replace(cF3_degenerate, lambda *args: cF3(*args[:4]))\n",
    "expr = expr.subs(subs_coeffs_degenerate_spec_1)\n",
    "print(CPrinter().doprint(expr))"
   ]
  },
  {
   "cell_type": "markdown",
   "metadata": {},
   "source": [
    "## Решение обратной задачи"
   ]
  },
  {
   "cell_type": "markdown",
   "metadata": {},
   "source": [
    "### Определения"
   ]
  },
  {
   "cell_type": "code",
   "execution_count": null,
   "metadata": {},
   "outputs": [],
   "source": [
    "import Z3 as Z3_module\n",
    "import Z2 as Z2_module\n",
    "import Z1 as Z1_module\n",
    "import datlib\n",
    "import numpy as np"
   ]
  },
  {
   "cell_type": "code",
   "execution_count": null,
   "metadata": {},
   "outputs": [
    {
     "name": "stdout",
     "output_type": "stream",
     "text": [
      "(0.1743748986678629, 0.199340544178533, 0.6954488712579345, 1.1710874741890245)\n",
      "(0.1000000000000032, 0.30000000000000104, 0.4000000000000026)\n",
      "0.09999999999999787\n"
     ]
    },
    {
     "data": {
      "text/plain": [
       "-0.8487632127299367"
      ]
     },
     "execution_count": 2,
     "metadata": {},
     "output_type": "execute_result"
    }
   ],
   "source": [
    "result = Z3_module.find_coeffs_symmetrical(.1, .3, .4)\n",
    "print(result)\n",
    "\n",
    "coeffs = result\n",
    "moments = Z3_module.calc_m_i_symmetrical(*coeffs), Z3_module.calc_eta_ij_symmetrical(*coeffs), Z3_module.calc_eta_ik_symmetrical(*coeffs)\n",
    "print(moments)\n",
    "print(Z3_module.calc_m_j_symmetrical(*coeffs))\n",
    "Z3_module.calc_Q_star_symmetrical(*moments, *coeffs) "
   ]
  },
  {
   "cell_type": "code",
   "execution_count": null,
   "metadata": {},
   "outputs": [],
   "source": [
    "# Z3_module.find_coeffs_symmetrical_from_Q_star(np.asarray([.1, .1]), np.asarray([.3, .3]), np.asarray([-0.8487632123453477, -0.8487632123453477]))"
   ]
  },
  {
   "cell_type": "markdown",
   "metadata": {},
   "source": [
    "### Полностью симметричный случай"
   ]
  },
  {
   "cell_type": "code",
   "execution_count": null,
   "metadata": {},
   "outputs": [],
   "source": [
    "data_m = np.linspace(.001, .99, 100)\n",
    "data_zeta = np.linspace(.001, .99, 100)\n",
    "\n",
    "data_m, data_zeta = np.meshgrid(data_m, data_zeta)\n",
    "\n",
    "data_eta = data_zeta + (1-data_zeta)*data_m**2"
   ]
  },
  {
   "cell_type": "code",
   "execution_count": null,
   "metadata": {},
   "outputs": [],
   "source": [
    "data_Z2_h, data_Z2_l = Z2_module.find_coeffs_symmetrical(data_m, data_eta)\n",
    "data_Z2_upsilon = Z2_module.calc_upsilon_symmetrical(data_Z2_h, data_Z2_l)\n",
    "data_eta2 = Z2_module.calc_eta2_symmetrical(data_Z2_h, data_Z2_l)\n",
    "data_Z2_m_par_2 = Z2_module.calc_m_par_2_symmetrical(data_Z2_h, data_Z2_l)"
   ]
  },
  {
   "cell_type": "code",
   "execution_count": null,
   "metadata": {},
   "outputs": [
    {
     "name": "stderr",
     "output_type": "stream",
     "text": [
      "/tmp/ipykernel_1269003/3502303516.py:4: RuntimeWarning: overflow encountered in calc_m_j_eta_ij_symmetrical\n",
      "  data_Z3_upsilon = .5*(1-Z3_module.calc_m_j_eta_ij_symmetrical(data_m, data_m, data_eta, data_eta, data_Z3_h, data_Z3_h, data_Z3_l, data_Z3_l)/data_m)\n",
      "/tmp/ipykernel_1269003/3502303516.py:4: RuntimeWarning: invalid value encountered in calc_m_j_eta_ij_symmetrical\n",
      "  data_Z3_upsilon = .5*(1-Z3_module.calc_m_j_eta_ij_symmetrical(data_m, data_m, data_eta, data_eta, data_Z3_h, data_Z3_h, data_Z3_l, data_Z3_l)/data_m)\n"
     ]
    }
   ],
   "source": [
    "data_Z3_h, data_Z3_l = Z3_module.find_coeffs_all_symmetrical(data_m, data_eta)\n",
    "data_Q_star = Z3_module.calc_Q_star_symmetrical(data_m, data_m, data_eta, data_eta, data_Z3_h, data_Z3_h, data_Z3_l, data_Z3_l)\n",
    "data_Q = data_Q_star - data_eta2 + 1\n",
    "data_Z3_upsilon = .5*(1-Z3_module.calc_m_j_eta_ij_symmetrical(data_m, data_m, data_eta, data_eta, data_Z3_h, data_Z3_h, data_Z3_l, data_Z3_l)/data_m)\n",
    "data_Z3_m_par_2 = Z3_module.calc_m_j_par_2_symmetrical(data_m, data_m, data_eta, data_eta, data_Z3_h, data_Z3_h, data_Z3_l, data_Z3_l)"
   ]
  },
  {
   "cell_type": "code",
   "execution_count": null,
   "metadata": {},
   "outputs": [],
   "source": [
    "datlib.np2dat(\n",
    "    \"data/Z3_all_symmetrical.dat\", \n",
    "    \"m eta zeta Z2_h Z2_l eta2 Z2_upsilon Z2_m_par_2 Z3_h Z3_l Z3_upsilon Z3_m_par_2 Q_star Q rho_h rho_l\".split(), \n",
    "    np.asarray([\n",
    "        data_m, data_eta, data_zeta, data_Z2_h, data_Z2_l, \n",
    "        data_eta2, data_Z2_upsilon, data_Z2_m_par_2,\n",
    "        data_Z3_h, data_Z3_l, data_Z3_upsilon, data_Z3_m_par_2, data_Q_star,\n",
    "        data_Q, data_Z3_h/data_Z2_h, data_Z3_l/data_Z2_l\n",
    "    ])\n",
    ")"
   ]
  },
  {
   "cell_type": "markdown",
   "metadata": {},
   "source": [
    "### Симметричный случай"
   ]
  },
  {
   "cell_type": "code",
   "execution_count": null,
   "metadata": {},
   "outputs": [],
   "source": [
    "N = 32\n",
    "left, right = 0, 1\n",
    "\n",
    "data_m = np.linspace(left, right, N)\n",
    "data_zeta_1 = np.linspace(left, right, N)\n",
    "data_zeta_2 = np.linspace(left, right, N)\n",
    "\n",
    "data_m, data_zeta_1, data_zeta_2 = np.meshgrid(data_m, data_zeta_1, data_zeta_2)\n",
    "\n",
    "data_zeta_ij = data_zeta_1\n",
    "data_zeta_ik = data_zeta_2 + (1-data_zeta_2)*data_zeta_ij**2\n",
    "\n",
    "data_eta_ij = data_zeta_ij + (1-data_zeta_ij)*data_m**2\n",
    "data_eta_ik = data_zeta_ik + (1-data_zeta_ik)*data_m**2\n",
    "\n",
    "moments = data_m, data_eta_ij, data_eta_ik"
   ]
  },
  {
   "cell_type": "code",
   "execution_count": null,
   "metadata": {},
   "outputs": [],
   "source": [
    "data_Z2_h_ij, data_Z2_l_ij = Z2_module.find_coeffs_symmetrical(data_m, data_eta_ij)\n",
    "data_Z2_h_ik, data_Z2_l_ik = Z2_module.find_coeffs_symmetrical(data_m, data_eta_ik)"
   ]
  },
  {
   "cell_type": "code",
   "execution_count": null,
   "metadata": {},
   "outputs": [],
   "source": [
    "data_Z2_upsilon = Z2_module.calc_upsilon_symmetrical(data_Z2_h_ij, data_Z2_l_ij)\n",
    "data_eta2 = Z2_module.calc_eta2_symmetrical(data_Z2_h_ij, data_Z2_l_ij)"
   ]
  },
  {
   "cell_type": "code",
   "execution_count": null,
   "metadata": {},
   "outputs": [],
   "source": [
    "data_h_i, data_h_j, data_l_ij, data_l_ik = Z3_module.find_coeffs_symmetrical(*moments)\n",
    "coeffs = data_h_i, data_h_j, data_l_ij, data_l_ik"
   ]
  },
  {
   "cell_type": "code",
   "execution_count": null,
   "metadata": {},
   "outputs": [],
   "source": [
    "data_Q_star = Z3_module.calc_Q_star_symmetrical(*moments, *coeffs)\n",
    "data_Q = data_Q_star - data_eta2 + 1\n",
    "data_m_j_eta_ij = Z3_module.calc_m_j_eta_ij_symmetrical(*moments, *coeffs)\n",
    "# data_m_j_eta_ij[np.abs(data_m_j_eta_ij) > 1] = np.nan\n",
    "data_Z3_upsilon = .5*(1-data_m_j_eta_ij/data_m)\n",
    "\n",
    "data_Z3_upsilon[data_Z3_upsilon > .5] = np.nan\n",
    "data_Z3_upsilon[data_Z3_upsilon < 0] = np.nan\n",
    "data_Z3_upsilon[np.abs(1-data_Z2_upsilon/data_Z3_upsilon) > .03] = np.nan"
   ]
  },
  {
   "cell_type": "code",
   "execution_count": null,
   "metadata": {},
   "outputs": [],
   "source": [
    "# data_h_i, data_h_j, data_l_ij, data_l_ik = Z3_module.find_coeffs_from_Q_star(data_m, data_eta_ij, data_Q_star)"
   ]
  },
  {
   "cell_type": "code",
   "execution_count": null,
   "metadata": {},
   "outputs": [],
   "source": [
    "def write_frame(file, name, array):  \n",
    "    file.write(f\"SCALARS {name} float 1\\n\")\n",
    "    file.write(\"LOOKUP_TABLE default\\n\")\n",
    "    for k in range(array.shape[2]):\n",
    "        for j in range(array.shape[1]):\n",
    "            for i in range(array.shape[0]):\n",
    "                value = array[j, i, k]\n",
    "                file.write(f\"{value}\\n\")\n",
    "\n",
    "file = open(\"data/Z3.vtk\", \"w\")\n",
    "file.write(\"# vtk DataFile Version 2.0\\n\")\n",
    "file.write(\"Z3\\n\")\n",
    "file.write(\"ASCII\\n\")\n",
    "file.write(\"DATASET STRUCTURED_POINTS\\n\")\n",
    "file.write(f\"DIMENSIONS {N} {N} {N}\\n\")\n",
    "file.write(f\"SPACING {(right-left)/(N-1)} {(right-left)/(N-1)} {(right-left)/(N-1)}\\n\")\n",
    "file.write(f\"ORIGIN {left} {left} {left}\\n\")\n",
    "file.write(f\"POINT_DATA {N**3}\\n\")\n",
    "\n",
    "# write_frame(file, \"m\", data_m)\n",
    "# write_frame(file, \"zeta_1\", data_zeta_1)\n",
    "# write_frame(file, \"zeta_2\", data_zeta_2)\n",
    "\n",
    "# write_frame(file, \"rho_h_i\", data_h_i/data_Z2_h_ij)\n",
    "# write_frame(file, \"rho_h_j\", data_h_j/data_Z2_h_ik)\n",
    "# write_frame(file, \"rho_l_ij\", data_l_ij/data_Z2_l_ij)\n",
    "# write_frame(file, \"rho_l_ik\", data_l_ik/data_Z2_l_ik)\n",
    "\n",
    "write_frame(file, \"Q_star\", data_Q_star)\n",
    "\n",
    "write_frame(file, \"U_err_abs\", np.abs(data_Z2_upsilon-data_Z3_upsilon))\n",
    "write_frame(file, \"U_err_rel\", np.abs(1-data_Z2_upsilon/data_Z3_upsilon))\n",
    "\n",
    "\n",
    "file.close()"
   ]
  },
  {
   "cell_type": "code",
   "execution_count": null,
   "metadata": {},
   "outputs": [
    {
     "name": "stdout",
     "output_type": "stream",
     "text": [
      "data/Z3.vtk ==> data/Z3.msh ... \n",
      "  frame 0: size 32*32*32=32768\n",
      "  frame 0: step 0.0322581 0.0322581 0.0322581\n",
      "  frame 0: origin 0 0 0\n",
      "  frame 0: points 32768\n",
      "  frame 0: end of header, 14 lines\n",
      "  frame 0: nan+inf 6180\n",
      "  frame 1: end of header, 32787 lines\n",
      "  frame 1: nan+inf 6337\n",
      "  frame 2: end of header, 65560 lines\n",
      "  frame 2: nan+inf 6337\n",
      "  end of file, 98329 lines\n"
     ]
    }
   ],
   "source": [
    "%%bash\n",
    "vtk2msh data/Z3.vtk"
   ]
  },
  {
   "cell_type": "markdown",
   "metadata": {},
   "source": [
    "### Аппроксимация"
   ]
  },
  {
   "cell_type": "code",
   "execution_count": null,
   "metadata": {},
   "outputs": [],
   "source": [
    "import scipy.optimize as opt"
   ]
  },
  {
   "cell_type": "code",
   "execution_count": null,
   "metadata": {},
   "outputs": [],
   "source": [
    "variables = [data_m, data_zeta_1, data_Q_star]\n",
    "y_data = data_zeta_2\n",
    "indexes_nans = np.logical_not(np.isnan(data_Q_star))\n",
    "\n",
    "def func(_, *p_args, nans=True):\n",
    "    const = p_args[0]\n",
    "    linear = np.asarray(p_args[1:4])\n",
    "    quadratic = np.asarray(p_args[4:13])\n",
    "    сubic = np.asarray(p_args[13:40])\n",
    "    \n",
    "    result = const\n",
    "    for i in range(3):\n",
    "        result += linear[i]*variables[i]\n",
    "    for i in range(3):\n",
    "        for j in range(3):\n",
    "            result += quadratic[3*i+j]*variables[i]*variables[j]\n",
    "    for i in range(3):\n",
    "        for j in range(3):\n",
    "            for k in range(3):\n",
    "                result += сubic[9*i+3*j+k]*variables[i]*variables[j]*variables[k]\n",
    "\n",
    "    if nans:\n",
    "        return result[indexes_nans].ravel()\n",
    "    else:\n",
    "        return result"
   ]
  },
  {
   "cell_type": "code",
   "execution_count": null,
   "metadata": {},
   "outputs": [
    {
     "data": {
      "text/plain": [
       "array([ 1.85741033e-01,  2.61049533e-01, -5.02074335e-01,  2.05874162e+00,\n",
       "       -5.59197280e+00, -2.32840732e+02, -1.03313349e+02,  2.35389463e+02,\n",
       "       -6.21018481e+00, -1.88299184e+02,  1.03799015e+02,  1.84920211e+02,\n",
       "        3.38181579e+00,  5.62157893e+00, -1.03204561e+02, -5.65746724e+01,\n",
       "        8.19456249e+02, -3.53487482e+01,  4.85148690e+02, -2.08533762e+02,\n",
       "        2.46654381e+02, -2.24194635e+02, -7.16669806e+02,  2.52301264e+02,\n",
       "        1.21563753e+02, -2.17994736e+02,  6.68316701e+00, -9.73810199e+01,\n",
       "       -5.31331095e+02,  1.62015019e+02,  8.20306428e+01,  2.63307256e+02,\n",
       "       -1.48640234e+02,  8.57856717e+01, -1.75001728e+02, -6.67379489e+01,\n",
       "       -1.42026196e+02,  1.38358040e+02,  5.74742364e+01,  9.01883846e-01])"
      ]
     },
     "execution_count": 205,
     "metadata": {},
     "output_type": "execute_result"
    }
   ],
   "source": [
    "p0 = [1] + 3*[1] + 9*[.01] + 27*[.01]\n",
    "p = opt.curve_fit(func, None, y_data[indexes_nans].ravel(), p0=p0)[0]\n",
    "p"
   ]
  },
  {
   "cell_type": "code",
   "execution_count": null,
   "metadata": {},
   "outputs": [
    {
     "name": "stdout",
     "output_type": "stream",
     "text": [
      "0.814750832064908\n",
      "0.08267526162186901\n"
     ]
    }
   ],
   "source": [
    "approx = func(None, *p, nans=False)\n",
    "approx = np.abs(y_data-approx)\n",
    "print(np.nanmax(approx)) \n",
    "print(np.nanmean(approx))"
   ]
  },
  {
   "cell_type": "markdown",
   "metadata": {},
   "source": [
    "### Равновесные значения из атом-в-атом"
   ]
  },
  {
   "cell_type": "code",
   "execution_count": null,
   "metadata": {},
   "outputs": [],
   "source": [
    "lattice = \"VCC3\"\n",
    "\n",
    "names, data = datlib.parse_from_input(open(f\"data/Q-{lattice}.dat\", \"r\"))\n",
    "data_T, data_Hz, data_m, data_eta, data_eta2, data_Q1, data_Q2, data_Q3, data_Q4 = data\n",
    "data_zeta = (data_eta - data_m**2) / (1 - data_m**2)"
   ]
  },
  {
   "cell_type": "code",
   "execution_count": null,
   "metadata": {},
   "outputs": [],
   "source": [
    "data_p = Z1_module.find_coeffs(data_m)"
   ]
  },
  {
   "cell_type": "code",
   "execution_count": null,
   "metadata": {},
   "outputs": [],
   "source": [
    "data_h, data_l = Z2_module.find_coeffs_symmetrical(data_m, data_eta)\n",
    "data_upsilon = Z2_module.calc_upsilon_symmetrical(data_h, data_l)\n",
    "# data_eta2 = Z2_module.calc_eta2_symmetrical(data_h, data_l)"
   ]
  },
  {
   "cell_type": "code",
   "execution_count": null,
   "metadata": {},
   "outputs": [],
   "source": [
    "data_Q_star_1, data_Q_star_2 = data_Q1 + data_eta2 - 1, data_Q2 + data_eta2 - 1\n",
    "data_Q_star_3, data_Q_star_4 = data_Q3 + data_eta2 - 1, data_Q4 + data_eta2 - 1"
   ]
  },
  {
   "cell_type": "code",
   "execution_count": null,
   "metadata": {},
   "outputs": [
    {
     "ename": "KeyboardInterrupt",
     "evalue": "",
     "output_type": "error",
     "traceback": [
      "\u001b[0;31m---------------------------------------------------------------------------\u001b[0m",
      "\u001b[0;31mKeyboardInterrupt\u001b[0m                         Traceback (most recent call last)",
      "Cell \u001b[0;32mIn[212], line 1\u001b[0m\n\u001b[0;32m----> 1\u001b[0m Q1_coeffs \u001b[38;5;241m=\u001b[39m \u001b[43mZ3_module\u001b[49m\u001b[38;5;241;43m.\u001b[39;49m\u001b[43mfind_coeffs_symmetrical_from_Q_star\u001b[49m\u001b[43m(\u001b[49m\u001b[43mdata_m\u001b[49m\u001b[43m,\u001b[49m\u001b[43m \u001b[49m\u001b[43mdata_eta\u001b[49m\u001b[43m,\u001b[49m\u001b[43m \u001b[49m\u001b[43mdata_Q_star_1\u001b[49m\u001b[43m)\u001b[49m\n\u001b[1;32m      2\u001b[0m Q2_coeffs \u001b[38;5;241m=\u001b[39m Z3_module\u001b[38;5;241m.\u001b[39mfind_coeffs_symmetrical_from_Q_star(data_m, data_eta, data_Q_star_2)\n\u001b[1;32m      3\u001b[0m Q3_coeffs \u001b[38;5;241m=\u001b[39m Z3_module\u001b[38;5;241m.\u001b[39mfind_coeffs_symmetrical_from_Q_star(data_m, data_eta, data_Q_star_3)\n",
      "File \u001b[0;32m~/projects/Z-analytic/Z3.py:681\u001b[0m, in \u001b[0;36mfind_coeffs_symmetrical_from_Q_star\u001b[0;34m(m, eta_ij, Q, eps, max_steps)\u001b[0m\n\u001b[1;32m    679\u001b[0m \u001b[38;5;28;01mdef\u001b[39;00m \u001b[38;5;21mfind_coeffs_symmetrical_from_Q_star\u001b[39m(m, eta_ij, Q, eps\u001b[38;5;241m=\u001b[39m\u001b[38;5;241m1e-8\u001b[39m, max_steps\u001b[38;5;241m=\u001b[39m\u001b[38;5;241m64\u001b[39m):\n\u001b[1;32m    680\u001b[0m     \u001b[38;5;28;01mif\u001b[39;00m \u001b[38;5;28misinstance\u001b[39m(m, np\u001b[38;5;241m.\u001b[39mndarray):\n\u001b[0;32m--> 681\u001b[0m         \u001b[38;5;28;01mreturn\u001b[39;00m \u001b[43mfind_coeffs_symmetrical_from_Q_star_vectorize\u001b[49m\u001b[43m(\u001b[49m\u001b[43mm\u001b[49m\u001b[43m,\u001b[49m\u001b[43m \u001b[49m\u001b[43meta_ij\u001b[49m\u001b[43m,\u001b[49m\u001b[43m \u001b[49m\u001b[43mQ\u001b[49m\u001b[43m,\u001b[49m\u001b[43m \u001b[49m\u001b[43meps\u001b[49m\u001b[43m,\u001b[49m\u001b[43m \u001b[49m\u001b[43mmax_steps\u001b[49m\u001b[43m)\u001b[49m\n\u001b[1;32m    682\u001b[0m     \u001b[38;5;28;01melse\u001b[39;00m:\n\u001b[1;32m    683\u001b[0m         \u001b[38;5;28;01mreturn\u001b[39;00m find_coeffs_symmetrical_from_Q_star_single(m, eta_ij, Q, eps, max_steps)\n",
      "File \u001b[0;32m~/.pyenv/versions/3.11.2/lib/python3.11/site-packages/numba/core/dispatcher.py:375\u001b[0m, in \u001b[0;36m_DispatcherBase._compile_for_args\u001b[0;34m(self, *args, **kws)\u001b[0m\n\u001b[1;32m    373\u001b[0m return_val \u001b[38;5;241m=\u001b[39m \u001b[38;5;28;01mNone\u001b[39;00m\n\u001b[1;32m    374\u001b[0m \u001b[38;5;28;01mtry\u001b[39;00m:\n\u001b[0;32m--> 375\u001b[0m     return_val \u001b[38;5;241m=\u001b[39m \u001b[38;5;28;43mself\u001b[39;49m\u001b[38;5;241;43m.\u001b[39;49m\u001b[43mcompile\u001b[49m\u001b[43m(\u001b[49m\u001b[38;5;28;43mtuple\u001b[39;49m\u001b[43m(\u001b[49m\u001b[43margtypes\u001b[49m\u001b[43m)\u001b[49m\u001b[43m)\u001b[49m\n\u001b[1;32m    376\u001b[0m \u001b[38;5;28;01mexcept\u001b[39;00m errors\u001b[38;5;241m.\u001b[39mForceLiteralArg \u001b[38;5;28;01mas\u001b[39;00m e:\n\u001b[1;32m    377\u001b[0m     \u001b[38;5;66;03m# Received request for compiler re-entry with the list of arguments\u001b[39;00m\n\u001b[1;32m    378\u001b[0m     \u001b[38;5;66;03m# indicated by e.requested_args.\u001b[39;00m\n\u001b[1;32m    379\u001b[0m     \u001b[38;5;66;03m# First, check if any of these args are already Literal-ized\u001b[39;00m\n\u001b[1;32m    380\u001b[0m     already_lit_pos \u001b[38;5;241m=\u001b[39m [i \u001b[38;5;28;01mfor\u001b[39;00m i \u001b[38;5;129;01min\u001b[39;00m e\u001b[38;5;241m.\u001b[39mrequested_args\n\u001b[1;32m    381\u001b[0m                        \u001b[38;5;28;01mif\u001b[39;00m \u001b[38;5;28misinstance\u001b[39m(args[i], types\u001b[38;5;241m.\u001b[39mLiteral)]\n",
      "File \u001b[0;32m~/.pyenv/versions/3.11.2/lib/python3.11/site-packages/numba/core/dispatcher.py:905\u001b[0m, in \u001b[0;36mDispatcher.compile\u001b[0;34m(self, sig)\u001b[0m\n\u001b[1;32m    903\u001b[0m \u001b[38;5;28;01mwith\u001b[39;00m ev\u001b[38;5;241m.\u001b[39mtrigger_event(\u001b[38;5;124m\"\u001b[39m\u001b[38;5;124mnumba:compile\u001b[39m\u001b[38;5;124m\"\u001b[39m, data\u001b[38;5;241m=\u001b[39mev_details):\n\u001b[1;32m    904\u001b[0m     \u001b[38;5;28;01mtry\u001b[39;00m:\n\u001b[0;32m--> 905\u001b[0m         cres \u001b[38;5;241m=\u001b[39m \u001b[38;5;28;43mself\u001b[39;49m\u001b[38;5;241;43m.\u001b[39;49m\u001b[43m_compiler\u001b[49m\u001b[38;5;241;43m.\u001b[39;49m\u001b[43mcompile\u001b[49m\u001b[43m(\u001b[49m\u001b[43margs\u001b[49m\u001b[43m,\u001b[49m\u001b[43m \u001b[49m\u001b[43mreturn_type\u001b[49m\u001b[43m)\u001b[49m\n\u001b[1;32m    906\u001b[0m     \u001b[38;5;28;01mexcept\u001b[39;00m errors\u001b[38;5;241m.\u001b[39mForceLiteralArg \u001b[38;5;28;01mas\u001b[39;00m e:\n\u001b[1;32m    907\u001b[0m         \u001b[38;5;28;01mdef\u001b[39;00m \u001b[38;5;21mfolded\u001b[39m(args, kws):\n",
      "File \u001b[0;32m~/.pyenv/versions/3.11.2/lib/python3.11/site-packages/numba/core/dispatcher.py:80\u001b[0m, in \u001b[0;36m_FunctionCompiler.compile\u001b[0;34m(self, args, return_type)\u001b[0m\n\u001b[1;32m     79\u001b[0m \u001b[38;5;28;01mdef\u001b[39;00m \u001b[38;5;21mcompile\u001b[39m(\u001b[38;5;28mself\u001b[39m, args, return_type):\n\u001b[0;32m---> 80\u001b[0m     status, retval \u001b[38;5;241m=\u001b[39m \u001b[38;5;28;43mself\u001b[39;49m\u001b[38;5;241;43m.\u001b[39;49m\u001b[43m_compile_cached\u001b[49m\u001b[43m(\u001b[49m\u001b[43margs\u001b[49m\u001b[43m,\u001b[49m\u001b[43m \u001b[49m\u001b[43mreturn_type\u001b[49m\u001b[43m)\u001b[49m\n\u001b[1;32m     81\u001b[0m     \u001b[38;5;28;01mif\u001b[39;00m status:\n\u001b[1;32m     82\u001b[0m         \u001b[38;5;28;01mreturn\u001b[39;00m retval\n",
      "File \u001b[0;32m~/.pyenv/versions/3.11.2/lib/python3.11/site-packages/numba/core/dispatcher.py:94\u001b[0m, in \u001b[0;36m_FunctionCompiler._compile_cached\u001b[0;34m(self, args, return_type)\u001b[0m\n\u001b[1;32m     91\u001b[0m     \u001b[38;5;28;01mpass\u001b[39;00m\n\u001b[1;32m     93\u001b[0m \u001b[38;5;28;01mtry\u001b[39;00m:\n\u001b[0;32m---> 94\u001b[0m     retval \u001b[38;5;241m=\u001b[39m \u001b[38;5;28;43mself\u001b[39;49m\u001b[38;5;241;43m.\u001b[39;49m\u001b[43m_compile_core\u001b[49m\u001b[43m(\u001b[49m\u001b[43margs\u001b[49m\u001b[43m,\u001b[49m\u001b[43m \u001b[49m\u001b[43mreturn_type\u001b[49m\u001b[43m)\u001b[49m\n\u001b[1;32m     95\u001b[0m \u001b[38;5;28;01mexcept\u001b[39;00m errors\u001b[38;5;241m.\u001b[39mTypingError \u001b[38;5;28;01mas\u001b[39;00m e:\n\u001b[1;32m     96\u001b[0m     \u001b[38;5;28mself\u001b[39m\u001b[38;5;241m.\u001b[39m_failed_cache[key] \u001b[38;5;241m=\u001b[39m e\n",
      "File \u001b[0;32m~/.pyenv/versions/3.11.2/lib/python3.11/site-packages/numba/core/dispatcher.py:107\u001b[0m, in \u001b[0;36m_FunctionCompiler._compile_core\u001b[0;34m(self, args, return_type)\u001b[0m\n\u001b[1;32m    104\u001b[0m flags \u001b[38;5;241m=\u001b[39m \u001b[38;5;28mself\u001b[39m\u001b[38;5;241m.\u001b[39m_customize_flags(flags)\n\u001b[1;32m    106\u001b[0m impl \u001b[38;5;241m=\u001b[39m \u001b[38;5;28mself\u001b[39m\u001b[38;5;241m.\u001b[39m_get_implementation(args, {})\n\u001b[0;32m--> 107\u001b[0m cres \u001b[38;5;241m=\u001b[39m \u001b[43mcompiler\u001b[49m\u001b[38;5;241;43m.\u001b[39;49m\u001b[43mcompile_extra\u001b[49m\u001b[43m(\u001b[49m\u001b[38;5;28;43mself\u001b[39;49m\u001b[38;5;241;43m.\u001b[39;49m\u001b[43mtargetdescr\u001b[49m\u001b[38;5;241;43m.\u001b[39;49m\u001b[43mtyping_context\u001b[49m\u001b[43m,\u001b[49m\n\u001b[1;32m    108\u001b[0m \u001b[43m                              \u001b[49m\u001b[38;5;28;43mself\u001b[39;49m\u001b[38;5;241;43m.\u001b[39;49m\u001b[43mtargetdescr\u001b[49m\u001b[38;5;241;43m.\u001b[39;49m\u001b[43mtarget_context\u001b[49m\u001b[43m,\u001b[49m\n\u001b[1;32m    109\u001b[0m \u001b[43m                              \u001b[49m\u001b[43mimpl\u001b[49m\u001b[43m,\u001b[49m\n\u001b[1;32m    110\u001b[0m \u001b[43m                              \u001b[49m\u001b[43margs\u001b[49m\u001b[38;5;241;43m=\u001b[39;49m\u001b[43margs\u001b[49m\u001b[43m,\u001b[49m\u001b[43m \u001b[49m\u001b[43mreturn_type\u001b[49m\u001b[38;5;241;43m=\u001b[39;49m\u001b[43mreturn_type\u001b[49m\u001b[43m,\u001b[49m\n\u001b[1;32m    111\u001b[0m \u001b[43m                              \u001b[49m\u001b[43mflags\u001b[49m\u001b[38;5;241;43m=\u001b[39;49m\u001b[43mflags\u001b[49m\u001b[43m,\u001b[49m\u001b[43m \u001b[49m\u001b[38;5;28;43mlocals\u001b[39;49m\u001b[38;5;241;43m=\u001b[39;49m\u001b[38;5;28;43mself\u001b[39;49m\u001b[38;5;241;43m.\u001b[39;49m\u001b[43mlocals\u001b[49m\u001b[43m,\u001b[49m\n\u001b[1;32m    112\u001b[0m \u001b[43m                              \u001b[49m\u001b[43mpipeline_class\u001b[49m\u001b[38;5;241;43m=\u001b[39;49m\u001b[38;5;28;43mself\u001b[39;49m\u001b[38;5;241;43m.\u001b[39;49m\u001b[43mpipeline_class\u001b[49m\u001b[43m)\u001b[49m\n\u001b[1;32m    113\u001b[0m \u001b[38;5;66;03m# Check typing error if object mode is used\u001b[39;00m\n\u001b[1;32m    114\u001b[0m \u001b[38;5;28;01mif\u001b[39;00m cres\u001b[38;5;241m.\u001b[39mtyping_error \u001b[38;5;129;01mis\u001b[39;00m \u001b[38;5;129;01mnot\u001b[39;00m \u001b[38;5;28;01mNone\u001b[39;00m \u001b[38;5;129;01mand\u001b[39;00m \u001b[38;5;129;01mnot\u001b[39;00m flags\u001b[38;5;241m.\u001b[39menable_pyobject:\n",
      "File \u001b[0;32m~/.pyenv/versions/3.11.2/lib/python3.11/site-packages/numba/core/compiler.py:744\u001b[0m, in \u001b[0;36mcompile_extra\u001b[0;34m(typingctx, targetctx, func, args, return_type, flags, locals, library, pipeline_class)\u001b[0m\n\u001b[1;32m    720\u001b[0m \u001b[38;5;250m\u001b[39m\u001b[38;5;124;03m\"\"\"Compiler entry point\u001b[39;00m\n\u001b[1;32m    721\u001b[0m \n\u001b[1;32m    722\u001b[0m \u001b[38;5;124;03mParameter\u001b[39;00m\n\u001b[0;32m   (...)\u001b[0m\n\u001b[1;32m    740\u001b[0m \u001b[38;5;124;03m    compiler pipeline\u001b[39;00m\n\u001b[1;32m    741\u001b[0m \u001b[38;5;124;03m\"\"\"\u001b[39;00m\n\u001b[1;32m    742\u001b[0m pipeline \u001b[38;5;241m=\u001b[39m pipeline_class(typingctx, targetctx, library,\n\u001b[1;32m    743\u001b[0m                           args, return_type, flags, \u001b[38;5;28mlocals\u001b[39m)\n\u001b[0;32m--> 744\u001b[0m \u001b[38;5;28;01mreturn\u001b[39;00m \u001b[43mpipeline\u001b[49m\u001b[38;5;241;43m.\u001b[39;49m\u001b[43mcompile_extra\u001b[49m\u001b[43m(\u001b[49m\u001b[43mfunc\u001b[49m\u001b[43m)\u001b[49m\n",
      "File \u001b[0;32m~/.pyenv/versions/3.11.2/lib/python3.11/site-packages/numba/core/compiler.py:438\u001b[0m, in \u001b[0;36mCompilerBase.compile_extra\u001b[0;34m(self, func)\u001b[0m\n\u001b[1;32m    436\u001b[0m \u001b[38;5;28mself\u001b[39m\u001b[38;5;241m.\u001b[39mstate\u001b[38;5;241m.\u001b[39mlifted \u001b[38;5;241m=\u001b[39m ()\n\u001b[1;32m    437\u001b[0m \u001b[38;5;28mself\u001b[39m\u001b[38;5;241m.\u001b[39mstate\u001b[38;5;241m.\u001b[39mlifted_from \u001b[38;5;241m=\u001b[39m \u001b[38;5;28;01mNone\u001b[39;00m\n\u001b[0;32m--> 438\u001b[0m \u001b[38;5;28;01mreturn\u001b[39;00m \u001b[38;5;28;43mself\u001b[39;49m\u001b[38;5;241;43m.\u001b[39;49m\u001b[43m_compile_bytecode\u001b[49m\u001b[43m(\u001b[49m\u001b[43m)\u001b[49m\n",
      "File \u001b[0;32m~/.pyenv/versions/3.11.2/lib/python3.11/site-packages/numba/core/compiler.py:506\u001b[0m, in \u001b[0;36mCompilerBase._compile_bytecode\u001b[0;34m(self)\u001b[0m\n\u001b[1;32m    502\u001b[0m \u001b[38;5;250m\u001b[39m\u001b[38;5;124;03m\"\"\"\u001b[39;00m\n\u001b[1;32m    503\u001b[0m \u001b[38;5;124;03mPopulate and run pipeline for bytecode input\u001b[39;00m\n\u001b[1;32m    504\u001b[0m \u001b[38;5;124;03m\"\"\"\u001b[39;00m\n\u001b[1;32m    505\u001b[0m \u001b[38;5;28;01massert\u001b[39;00m \u001b[38;5;28mself\u001b[39m\u001b[38;5;241m.\u001b[39mstate\u001b[38;5;241m.\u001b[39mfunc_ir \u001b[38;5;129;01mis\u001b[39;00m \u001b[38;5;28;01mNone\u001b[39;00m\n\u001b[0;32m--> 506\u001b[0m \u001b[38;5;28;01mreturn\u001b[39;00m \u001b[38;5;28;43mself\u001b[39;49m\u001b[38;5;241;43m.\u001b[39;49m\u001b[43m_compile_core\u001b[49m\u001b[43m(\u001b[49m\u001b[43m)\u001b[49m\n",
      "File \u001b[0;32m~/.pyenv/versions/3.11.2/lib/python3.11/site-packages/numba/core/compiler.py:472\u001b[0m, in \u001b[0;36mCompilerBase._compile_core\u001b[0;34m(self)\u001b[0m\n\u001b[1;32m    470\u001b[0m res \u001b[38;5;241m=\u001b[39m \u001b[38;5;28;01mNone\u001b[39;00m\n\u001b[1;32m    471\u001b[0m \u001b[38;5;28;01mtry\u001b[39;00m:\n\u001b[0;32m--> 472\u001b[0m     \u001b[43mpm\u001b[49m\u001b[38;5;241;43m.\u001b[39;49m\u001b[43mrun\u001b[49m\u001b[43m(\u001b[49m\u001b[38;5;28;43mself\u001b[39;49m\u001b[38;5;241;43m.\u001b[39;49m\u001b[43mstate\u001b[49m\u001b[43m)\u001b[49m\n\u001b[1;32m    473\u001b[0m     \u001b[38;5;28;01mif\u001b[39;00m \u001b[38;5;28mself\u001b[39m\u001b[38;5;241m.\u001b[39mstate\u001b[38;5;241m.\u001b[39mcr \u001b[38;5;129;01mis\u001b[39;00m \u001b[38;5;129;01mnot\u001b[39;00m \u001b[38;5;28;01mNone\u001b[39;00m:\n\u001b[1;32m    474\u001b[0m         \u001b[38;5;28;01mbreak\u001b[39;00m\n",
      "File \u001b[0;32m~/.pyenv/versions/3.11.2/lib/python3.11/site-packages/numba/core/compiler_machinery.py:356\u001b[0m, in \u001b[0;36mPassManager.run\u001b[0;34m(self, state)\u001b[0m\n\u001b[1;32m    354\u001b[0m pass_inst \u001b[38;5;241m=\u001b[39m _pass_registry\u001b[38;5;241m.\u001b[39mget(pss)\u001b[38;5;241m.\u001b[39mpass_inst\n\u001b[1;32m    355\u001b[0m \u001b[38;5;28;01mif\u001b[39;00m \u001b[38;5;28misinstance\u001b[39m(pass_inst, CompilerPass):\n\u001b[0;32m--> 356\u001b[0m     \u001b[38;5;28;43mself\u001b[39;49m\u001b[38;5;241;43m.\u001b[39;49m\u001b[43m_runPass\u001b[49m\u001b[43m(\u001b[49m\u001b[43midx\u001b[49m\u001b[43m,\u001b[49m\u001b[43m \u001b[49m\u001b[43mpass_inst\u001b[49m\u001b[43m,\u001b[49m\u001b[43m \u001b[49m\u001b[43mstate\u001b[49m\u001b[43m)\u001b[49m\n\u001b[1;32m    357\u001b[0m \u001b[38;5;28;01melse\u001b[39;00m:\n\u001b[1;32m    358\u001b[0m     \u001b[38;5;28;01mraise\u001b[39;00m \u001b[38;5;167;01mBaseException\u001b[39;00m(\u001b[38;5;124m\"\u001b[39m\u001b[38;5;124mLegacy pass in use\u001b[39m\u001b[38;5;124m\"\u001b[39m)\n",
      "File \u001b[0;32m~/.pyenv/versions/3.11.2/lib/python3.11/site-packages/numba/core/compiler_lock.py:35\u001b[0m, in \u001b[0;36m_CompilerLock.__call__.<locals>._acquire_compile_lock\u001b[0;34m(*args, **kwargs)\u001b[0m\n\u001b[1;32m     32\u001b[0m \u001b[38;5;129m@functools\u001b[39m\u001b[38;5;241m.\u001b[39mwraps(func)\n\u001b[1;32m     33\u001b[0m \u001b[38;5;28;01mdef\u001b[39;00m \u001b[38;5;21m_acquire_compile_lock\u001b[39m(\u001b[38;5;241m*\u001b[39margs, \u001b[38;5;241m*\u001b[39m\u001b[38;5;241m*\u001b[39mkwargs):\n\u001b[1;32m     34\u001b[0m     \u001b[38;5;28;01mwith\u001b[39;00m \u001b[38;5;28mself\u001b[39m:\n\u001b[0;32m---> 35\u001b[0m         \u001b[38;5;28;01mreturn\u001b[39;00m \u001b[43mfunc\u001b[49m\u001b[43m(\u001b[49m\u001b[38;5;241;43m*\u001b[39;49m\u001b[43margs\u001b[49m\u001b[43m,\u001b[49m\u001b[43m \u001b[49m\u001b[38;5;241;43m*\u001b[39;49m\u001b[38;5;241;43m*\u001b[39;49m\u001b[43mkwargs\u001b[49m\u001b[43m)\u001b[49m\n",
      "File \u001b[0;32m~/.pyenv/versions/3.11.2/lib/python3.11/site-packages/numba/core/compiler_machinery.py:311\u001b[0m, in \u001b[0;36mPassManager._runPass\u001b[0;34m(self, index, pss, internal_state)\u001b[0m\n\u001b[1;32m    309\u001b[0m     mutated \u001b[38;5;241m|\u001b[39m\u001b[38;5;241m=\u001b[39m check(pss\u001b[38;5;241m.\u001b[39mrun_initialization, internal_state)\n\u001b[1;32m    310\u001b[0m \u001b[38;5;28;01mwith\u001b[39;00m SimpleTimer() \u001b[38;5;28;01mas\u001b[39;00m pass_time:\n\u001b[0;32m--> 311\u001b[0m     mutated \u001b[38;5;241m|\u001b[39m\u001b[38;5;241m=\u001b[39m \u001b[43mcheck\u001b[49m\u001b[43m(\u001b[49m\u001b[43mpss\u001b[49m\u001b[38;5;241;43m.\u001b[39;49m\u001b[43mrun_pass\u001b[49m\u001b[43m,\u001b[49m\u001b[43m \u001b[49m\u001b[43minternal_state\u001b[49m\u001b[43m)\u001b[49m\n\u001b[1;32m    312\u001b[0m \u001b[38;5;28;01mwith\u001b[39;00m SimpleTimer() \u001b[38;5;28;01mas\u001b[39;00m finalize_time:\n\u001b[1;32m    313\u001b[0m     mutated \u001b[38;5;241m|\u001b[39m\u001b[38;5;241m=\u001b[39m check(pss\u001b[38;5;241m.\u001b[39mrun_finalizer, internal_state)\n",
      "File \u001b[0;32m~/.pyenv/versions/3.11.2/lib/python3.11/site-packages/numba/core/compiler_machinery.py:273\u001b[0m, in \u001b[0;36mPassManager._runPass.<locals>.check\u001b[0;34m(func, compiler_state)\u001b[0m\n\u001b[1;32m    272\u001b[0m \u001b[38;5;28;01mdef\u001b[39;00m \u001b[38;5;21mcheck\u001b[39m(func, compiler_state):\n\u001b[0;32m--> 273\u001b[0m     mangled \u001b[38;5;241m=\u001b[39m \u001b[43mfunc\u001b[49m\u001b[43m(\u001b[49m\u001b[43mcompiler_state\u001b[49m\u001b[43m)\u001b[49m\n\u001b[1;32m    274\u001b[0m     \u001b[38;5;28;01mif\u001b[39;00m mangled \u001b[38;5;129;01mnot\u001b[39;00m \u001b[38;5;129;01min\u001b[39;00m (\u001b[38;5;28;01mTrue\u001b[39;00m, \u001b[38;5;28;01mFalse\u001b[39;00m):\n\u001b[1;32m    275\u001b[0m         msg \u001b[38;5;241m=\u001b[39m (\u001b[38;5;124m\"\u001b[39m\u001b[38;5;124mCompilerPass implementations should return True/False. \u001b[39m\u001b[38;5;124m\"\u001b[39m\n\u001b[1;32m    276\u001b[0m                \u001b[38;5;124m\"\u001b[39m\u001b[38;5;124mCompilerPass with name \u001b[39m\u001b[38;5;124m'\u001b[39m\u001b[38;5;132;01m%s\u001b[39;00m\u001b[38;5;124m'\u001b[39m\u001b[38;5;124m did not.\u001b[39m\u001b[38;5;124m\"\u001b[39m)\n",
      "File \u001b[0;32m~/.pyenv/versions/3.11.2/lib/python3.11/site-packages/numba/core/typed_passes.py:112\u001b[0m, in \u001b[0;36mBaseTypeInference.run_pass\u001b[0;34m(self, state)\u001b[0m\n\u001b[1;32m    106\u001b[0m \u001b[38;5;250m\u001b[39m\u001b[38;5;124;03m\"\"\"\u001b[39;00m\n\u001b[1;32m    107\u001b[0m \u001b[38;5;124;03mType inference and legalization\u001b[39;00m\n\u001b[1;32m    108\u001b[0m \u001b[38;5;124;03m\"\"\"\u001b[39;00m\n\u001b[1;32m    109\u001b[0m \u001b[38;5;28;01mwith\u001b[39;00m fallback_context(state, \u001b[38;5;124m'\u001b[39m\u001b[38;5;124mFunction \u001b[39m\u001b[38;5;124m\"\u001b[39m\u001b[38;5;132;01m%s\u001b[39;00m\u001b[38;5;124m\"\u001b[39m\u001b[38;5;124m failed type inference\u001b[39m\u001b[38;5;124m'\u001b[39m\n\u001b[1;32m    110\u001b[0m                       \u001b[38;5;241m%\u001b[39m (state\u001b[38;5;241m.\u001b[39mfunc_id\u001b[38;5;241m.\u001b[39mfunc_name,)):\n\u001b[1;32m    111\u001b[0m     \u001b[38;5;66;03m# Type inference\u001b[39;00m\n\u001b[0;32m--> 112\u001b[0m     typemap, return_type, calltypes, errs \u001b[38;5;241m=\u001b[39m \u001b[43mtype_inference_stage\u001b[49m\u001b[43m(\u001b[49m\n\u001b[1;32m    113\u001b[0m \u001b[43m        \u001b[49m\u001b[43mstate\u001b[49m\u001b[38;5;241;43m.\u001b[39;49m\u001b[43mtypingctx\u001b[49m\u001b[43m,\u001b[49m\n\u001b[1;32m    114\u001b[0m \u001b[43m        \u001b[49m\u001b[43mstate\u001b[49m\u001b[38;5;241;43m.\u001b[39;49m\u001b[43mtargetctx\u001b[49m\u001b[43m,\u001b[49m\n\u001b[1;32m    115\u001b[0m \u001b[43m        \u001b[49m\u001b[43mstate\u001b[49m\u001b[38;5;241;43m.\u001b[39;49m\u001b[43mfunc_ir\u001b[49m\u001b[43m,\u001b[49m\n\u001b[1;32m    116\u001b[0m \u001b[43m        \u001b[49m\u001b[43mstate\u001b[49m\u001b[38;5;241;43m.\u001b[39;49m\u001b[43margs\u001b[49m\u001b[43m,\u001b[49m\n\u001b[1;32m    117\u001b[0m \u001b[43m        \u001b[49m\u001b[43mstate\u001b[49m\u001b[38;5;241;43m.\u001b[39;49m\u001b[43mreturn_type\u001b[49m\u001b[43m,\u001b[49m\n\u001b[1;32m    118\u001b[0m \u001b[43m        \u001b[49m\u001b[43mstate\u001b[49m\u001b[38;5;241;43m.\u001b[39;49m\u001b[43mlocals\u001b[49m\u001b[43m,\u001b[49m\n\u001b[1;32m    119\u001b[0m \u001b[43m        \u001b[49m\u001b[43mraise_errors\u001b[49m\u001b[38;5;241;43m=\u001b[39;49m\u001b[38;5;28;43mself\u001b[39;49m\u001b[38;5;241;43m.\u001b[39;49m\u001b[43m_raise_errors\u001b[49m\u001b[43m)\u001b[49m\n\u001b[1;32m    120\u001b[0m     state\u001b[38;5;241m.\u001b[39mtypemap \u001b[38;5;241m=\u001b[39m typemap\n\u001b[1;32m    121\u001b[0m     \u001b[38;5;66;03m# save errors in case of partial typing\u001b[39;00m\n",
      "File \u001b[0;32m~/.pyenv/versions/3.11.2/lib/python3.11/site-packages/numba/core/typed_passes.py:93\u001b[0m, in \u001b[0;36mtype_inference_stage\u001b[0;34m(typingctx, targetctx, interp, args, return_type, locals, raise_errors)\u001b[0m\n\u001b[1;32m     91\u001b[0m     infer\u001b[38;5;241m.\u001b[39mbuild_constraint()\n\u001b[1;32m     92\u001b[0m     \u001b[38;5;66;03m# return errors in case of partial typing\u001b[39;00m\n\u001b[0;32m---> 93\u001b[0m     errs \u001b[38;5;241m=\u001b[39m \u001b[43minfer\u001b[49m\u001b[38;5;241;43m.\u001b[39;49m\u001b[43mpropagate\u001b[49m\u001b[43m(\u001b[49m\u001b[43mraise_errors\u001b[49m\u001b[38;5;241;43m=\u001b[39;49m\u001b[43mraise_errors\u001b[49m\u001b[43m)\u001b[49m\n\u001b[1;32m     94\u001b[0m     typemap, restype, calltypes \u001b[38;5;241m=\u001b[39m infer\u001b[38;5;241m.\u001b[39munify(raise_errors\u001b[38;5;241m=\u001b[39mraise_errors)\n\u001b[1;32m     96\u001b[0m \u001b[38;5;28;01mreturn\u001b[39;00m _TypingResults(typemap, restype, calltypes, errs)\n",
      "File \u001b[0;32m~/.pyenv/versions/3.11.2/lib/python3.11/site-packages/numba/core/typeinfer.py:1083\u001b[0m, in \u001b[0;36mTypeInferer.propagate\u001b[0;34m(self, raise_errors)\u001b[0m\n\u001b[1;32m   1080\u001b[0m oldtoken \u001b[38;5;241m=\u001b[39m newtoken\n\u001b[1;32m   1081\u001b[0m \u001b[38;5;66;03m# Errors can appear when the type set is incomplete; only\u001b[39;00m\n\u001b[1;32m   1082\u001b[0m \u001b[38;5;66;03m# raise them when there is no progress anymore.\u001b[39;00m\n\u001b[0;32m-> 1083\u001b[0m errors \u001b[38;5;241m=\u001b[39m \u001b[38;5;28;43mself\u001b[39;49m\u001b[38;5;241;43m.\u001b[39;49m\u001b[43mconstraints\u001b[49m\u001b[38;5;241;43m.\u001b[39;49m\u001b[43mpropagate\u001b[49m\u001b[43m(\u001b[49m\u001b[38;5;28;43mself\u001b[39;49m\u001b[43m)\u001b[49m\n\u001b[1;32m   1084\u001b[0m newtoken \u001b[38;5;241m=\u001b[39m \u001b[38;5;28mself\u001b[39m\u001b[38;5;241m.\u001b[39mget_state_token()\n\u001b[1;32m   1085\u001b[0m \u001b[38;5;28mself\u001b[39m\u001b[38;5;241m.\u001b[39mdebug\u001b[38;5;241m.\u001b[39mpropagate_finished()\n",
      "File \u001b[0;32m~/.pyenv/versions/3.11.2/lib/python3.11/site-packages/numba/core/typeinfer.py:160\u001b[0m, in \u001b[0;36mConstraintNetwork.propagate\u001b[0;34m(self, typeinfer)\u001b[0m\n\u001b[1;32m    157\u001b[0m \u001b[38;5;28;01mwith\u001b[39;00m typeinfer\u001b[38;5;241m.\u001b[39mwarnings\u001b[38;5;241m.\u001b[39mcatch_warnings(filename\u001b[38;5;241m=\u001b[39mloc\u001b[38;5;241m.\u001b[39mfilename,\n\u001b[1;32m    158\u001b[0m                                        lineno\u001b[38;5;241m=\u001b[39mloc\u001b[38;5;241m.\u001b[39mline):\n\u001b[1;32m    159\u001b[0m     \u001b[38;5;28;01mtry\u001b[39;00m:\n\u001b[0;32m--> 160\u001b[0m         \u001b[43mconstraint\u001b[49m\u001b[43m(\u001b[49m\u001b[43mtypeinfer\u001b[49m\u001b[43m)\u001b[49m\n\u001b[1;32m    161\u001b[0m     \u001b[38;5;28;01mexcept\u001b[39;00m ForceLiteralArg \u001b[38;5;28;01mas\u001b[39;00m e:\n\u001b[1;32m    162\u001b[0m         errors\u001b[38;5;241m.\u001b[39mappend(e)\n",
      "File \u001b[0;32m~/.pyenv/versions/3.11.2/lib/python3.11/site-packages/numba/core/typeinfer.py:583\u001b[0m, in \u001b[0;36mCallConstraint.__call__\u001b[0;34m(self, typeinfer)\u001b[0m\n\u001b[1;32m    581\u001b[0m     fnty \u001b[38;5;241m=\u001b[39m typevars[\u001b[38;5;28mself\u001b[39m\u001b[38;5;241m.\u001b[39mfunc]\u001b[38;5;241m.\u001b[39mgetone()\n\u001b[1;32m    582\u001b[0m \u001b[38;5;28;01mwith\u001b[39;00m new_error_context(\u001b[38;5;124m\"\u001b[39m\u001b[38;5;124mresolving callee type: \u001b[39m\u001b[38;5;132;01m{0}\u001b[39;00m\u001b[38;5;124m\"\u001b[39m, fnty):\n\u001b[0;32m--> 583\u001b[0m     \u001b[38;5;28;43mself\u001b[39;49m\u001b[38;5;241;43m.\u001b[39;49m\u001b[43mresolve\u001b[49m\u001b[43m(\u001b[49m\u001b[43mtypeinfer\u001b[49m\u001b[43m,\u001b[49m\u001b[43m \u001b[49m\u001b[43mtypevars\u001b[49m\u001b[43m,\u001b[49m\u001b[43m \u001b[49m\u001b[43mfnty\u001b[49m\u001b[43m)\u001b[49m\n",
      "File \u001b[0;32m~/.pyenv/versions/3.11.2/lib/python3.11/site-packages/numba/core/typeinfer.py:606\u001b[0m, in \u001b[0;36mCallConstraint.resolve\u001b[0;34m(self, typeinfer, typevars, fnty)\u001b[0m\n\u001b[1;32m    604\u001b[0m     fnty \u001b[38;5;241m=\u001b[39m fnty\u001b[38;5;241m.\u001b[39minstance_type\n\u001b[1;32m    605\u001b[0m \u001b[38;5;28;01mtry\u001b[39;00m:\n\u001b[0;32m--> 606\u001b[0m     sig \u001b[38;5;241m=\u001b[39m \u001b[43mtypeinfer\u001b[49m\u001b[38;5;241;43m.\u001b[39;49m\u001b[43mresolve_call\u001b[49m\u001b[43m(\u001b[49m\u001b[43mfnty\u001b[49m\u001b[43m,\u001b[49m\u001b[43m \u001b[49m\u001b[43mpos_args\u001b[49m\u001b[43m,\u001b[49m\u001b[43m \u001b[49m\u001b[43mkw_args\u001b[49m\u001b[43m)\u001b[49m\n\u001b[1;32m    607\u001b[0m \u001b[38;5;28;01mexcept\u001b[39;00m ForceLiteralArg \u001b[38;5;28;01mas\u001b[39;00m e:\n\u001b[1;32m    608\u001b[0m     \u001b[38;5;66;03m# Adjust for bound methods\u001b[39;00m\n\u001b[1;32m    609\u001b[0m     folding_args \u001b[38;5;241m=\u001b[39m ((fnty\u001b[38;5;241m.\u001b[39mthis,) \u001b[38;5;241m+\u001b[39m \u001b[38;5;28mtuple\u001b[39m(\u001b[38;5;28mself\u001b[39m\u001b[38;5;241m.\u001b[39margs)\n\u001b[1;32m    610\u001b[0m                     \u001b[38;5;28;01mif\u001b[39;00m \u001b[38;5;28misinstance\u001b[39m(fnty, types\u001b[38;5;241m.\u001b[39mBoundFunction)\n\u001b[1;32m    611\u001b[0m                     \u001b[38;5;28;01melse\u001b[39;00m \u001b[38;5;28mself\u001b[39m\u001b[38;5;241m.\u001b[39margs)\n",
      "File \u001b[0;32m~/.pyenv/versions/3.11.2/lib/python3.11/site-packages/numba/core/typeinfer.py:1577\u001b[0m, in \u001b[0;36mTypeInferer.resolve_call\u001b[0;34m(self, fnty, pos_args, kw_args)\u001b[0m\n\u001b[1;32m   1574\u001b[0m     \u001b[38;5;28;01mreturn\u001b[39;00m sig\n\u001b[1;32m   1575\u001b[0m \u001b[38;5;28;01melse\u001b[39;00m:\n\u001b[1;32m   1576\u001b[0m     \u001b[38;5;66;03m# Normal non-recursive call\u001b[39;00m\n\u001b[0;32m-> 1577\u001b[0m     \u001b[38;5;28;01mreturn\u001b[39;00m \u001b[38;5;28;43mself\u001b[39;49m\u001b[38;5;241;43m.\u001b[39;49m\u001b[43mcontext\u001b[49m\u001b[38;5;241;43m.\u001b[39;49m\u001b[43mresolve_function_type\u001b[49m\u001b[43m(\u001b[49m\u001b[43mfnty\u001b[49m\u001b[43m,\u001b[49m\u001b[43m \u001b[49m\u001b[43mpos_args\u001b[49m\u001b[43m,\u001b[49m\u001b[43m \u001b[49m\u001b[43mkw_args\u001b[49m\u001b[43m)\u001b[49m\n",
      "File \u001b[0;32m~/.pyenv/versions/3.11.2/lib/python3.11/site-packages/numba/core/typing/context.py:196\u001b[0m, in \u001b[0;36mBaseContext.resolve_function_type\u001b[0;34m(self, func, args, kws)\u001b[0m\n\u001b[1;32m    194\u001b[0m \u001b[38;5;66;03m# Prefer user definition first\u001b[39;00m\n\u001b[1;32m    195\u001b[0m \u001b[38;5;28;01mtry\u001b[39;00m:\n\u001b[0;32m--> 196\u001b[0m     res \u001b[38;5;241m=\u001b[39m \u001b[38;5;28;43mself\u001b[39;49m\u001b[38;5;241;43m.\u001b[39;49m\u001b[43m_resolve_user_function_type\u001b[49m\u001b[43m(\u001b[49m\u001b[43mfunc\u001b[49m\u001b[43m,\u001b[49m\u001b[43m \u001b[49m\u001b[43margs\u001b[49m\u001b[43m,\u001b[49m\u001b[43m \u001b[49m\u001b[43mkws\u001b[49m\u001b[43m)\u001b[49m\n\u001b[1;32m    197\u001b[0m \u001b[38;5;28;01mexcept\u001b[39;00m errors\u001b[38;5;241m.\u001b[39mTypingError \u001b[38;5;28;01mas\u001b[39;00m e:\n\u001b[1;32m    198\u001b[0m     \u001b[38;5;66;03m# Capture any typing error\u001b[39;00m\n\u001b[1;32m    199\u001b[0m     last_exception \u001b[38;5;241m=\u001b[39m e\n",
      "File \u001b[0;32m~/.pyenv/versions/3.11.2/lib/python3.11/site-packages/numba/core/typing/context.py:248\u001b[0m, in \u001b[0;36mBaseContext._resolve_user_function_type\u001b[0;34m(self, func, args, kws, literals)\u001b[0m\n\u001b[1;32m    244\u001b[0m         \u001b[38;5;28;01mreturn\u001b[39;00m \u001b[38;5;28mself\u001b[39m\u001b[38;5;241m.\u001b[39mresolve_function_type(func_type, args, kws)\n\u001b[1;32m    246\u001b[0m \u001b[38;5;28;01mif\u001b[39;00m \u001b[38;5;28misinstance\u001b[39m(func, types\u001b[38;5;241m.\u001b[39mCallable):\n\u001b[1;32m    247\u001b[0m     \u001b[38;5;66;03m# XXX fold this into the __call__ attribute logic?\u001b[39;00m\n\u001b[0;32m--> 248\u001b[0m     \u001b[38;5;28;01mreturn\u001b[39;00m \u001b[43mfunc\u001b[49m\u001b[38;5;241;43m.\u001b[39;49m\u001b[43mget_call_type\u001b[49m\u001b[43m(\u001b[49m\u001b[38;5;28;43mself\u001b[39;49m\u001b[43m,\u001b[49m\u001b[43m \u001b[49m\u001b[43margs\u001b[49m\u001b[43m,\u001b[49m\u001b[43m \u001b[49m\u001b[43mkws\u001b[49m\u001b[43m)\u001b[49m\n",
      "File \u001b[0;32m~/.pyenv/versions/3.11.2/lib/python3.11/site-packages/numba/core/types/functions.py:541\u001b[0m, in \u001b[0;36mDispatcher.get_call_type\u001b[0;34m(self, context, args, kws)\u001b[0m\n\u001b[1;32m    534\u001b[0m \u001b[38;5;28;01mdef\u001b[39;00m \u001b[38;5;21mget_call_type\u001b[39m(\u001b[38;5;28mself\u001b[39m, context, args, kws):\n\u001b[1;32m    535\u001b[0m \u001b[38;5;250m    \u001b[39m\u001b[38;5;124;03m\"\"\"\u001b[39;00m\n\u001b[1;32m    536\u001b[0m \u001b[38;5;124;03m    Resolve a call to this dispatcher using the given argument types.\u001b[39;00m\n\u001b[1;32m    537\u001b[0m \u001b[38;5;124;03m    A signature returned and it is ensured that a compiled specialization\u001b[39;00m\n\u001b[1;32m    538\u001b[0m \u001b[38;5;124;03m    is available for it.\u001b[39;00m\n\u001b[1;32m    539\u001b[0m \u001b[38;5;124;03m    \"\"\"\u001b[39;00m\n\u001b[1;32m    540\u001b[0m     template, pysig, args, kws \u001b[38;5;241m=\u001b[39m \\\n\u001b[0;32m--> 541\u001b[0m         \u001b[38;5;28;43mself\u001b[39;49m\u001b[38;5;241;43m.\u001b[39;49m\u001b[43mdispatcher\u001b[49m\u001b[38;5;241;43m.\u001b[39;49m\u001b[43mget_call_template\u001b[49m\u001b[43m(\u001b[49m\u001b[43margs\u001b[49m\u001b[43m,\u001b[49m\u001b[43m \u001b[49m\u001b[43mkws\u001b[49m\u001b[43m)\u001b[49m\n\u001b[1;32m    542\u001b[0m     sig \u001b[38;5;241m=\u001b[39m template(context)\u001b[38;5;241m.\u001b[39mapply(args, kws)\n\u001b[1;32m    543\u001b[0m     \u001b[38;5;28;01mif\u001b[39;00m sig:\n",
      "File \u001b[0;32m~/.pyenv/versions/3.11.2/lib/python3.11/site-packages/numba/core/dispatcher.py:318\u001b[0m, in \u001b[0;36m_DispatcherBase.get_call_template\u001b[0;34m(self, args, kws)\u001b[0m\n\u001b[1;32m    316\u001b[0m \u001b[38;5;66;03m# Ensure an overload is available\u001b[39;00m\n\u001b[1;32m    317\u001b[0m \u001b[38;5;28;01mif\u001b[39;00m \u001b[38;5;28mself\u001b[39m\u001b[38;5;241m.\u001b[39m_can_compile:\n\u001b[0;32m--> 318\u001b[0m     \u001b[38;5;28;43mself\u001b[39;49m\u001b[38;5;241;43m.\u001b[39;49m\u001b[43mcompile\u001b[49m\u001b[43m(\u001b[49m\u001b[38;5;28;43mtuple\u001b[39;49m\u001b[43m(\u001b[49m\u001b[43margs\u001b[49m\u001b[43m)\u001b[49m\u001b[43m)\u001b[49m\n\u001b[1;32m    320\u001b[0m \u001b[38;5;66;03m# Create function type for typing\u001b[39;00m\n\u001b[1;32m    321\u001b[0m func_name \u001b[38;5;241m=\u001b[39m \u001b[38;5;28mself\u001b[39m\u001b[38;5;241m.\u001b[39mpy_func\u001b[38;5;241m.\u001b[39m\u001b[38;5;18m__name__\u001b[39m\n",
      "File \u001b[0;32m~/.pyenv/versions/3.11.2/lib/python3.11/site-packages/numba/core/dispatcher.py:905\u001b[0m, in \u001b[0;36mDispatcher.compile\u001b[0;34m(self, sig)\u001b[0m\n\u001b[1;32m    903\u001b[0m \u001b[38;5;28;01mwith\u001b[39;00m ev\u001b[38;5;241m.\u001b[39mtrigger_event(\u001b[38;5;124m\"\u001b[39m\u001b[38;5;124mnumba:compile\u001b[39m\u001b[38;5;124m\"\u001b[39m, data\u001b[38;5;241m=\u001b[39mev_details):\n\u001b[1;32m    904\u001b[0m     \u001b[38;5;28;01mtry\u001b[39;00m:\n\u001b[0;32m--> 905\u001b[0m         cres \u001b[38;5;241m=\u001b[39m \u001b[38;5;28;43mself\u001b[39;49m\u001b[38;5;241;43m.\u001b[39;49m\u001b[43m_compiler\u001b[49m\u001b[38;5;241;43m.\u001b[39;49m\u001b[43mcompile\u001b[49m\u001b[43m(\u001b[49m\u001b[43margs\u001b[49m\u001b[43m,\u001b[49m\u001b[43m \u001b[49m\u001b[43mreturn_type\u001b[49m\u001b[43m)\u001b[49m\n\u001b[1;32m    906\u001b[0m     \u001b[38;5;28;01mexcept\u001b[39;00m errors\u001b[38;5;241m.\u001b[39mForceLiteralArg \u001b[38;5;28;01mas\u001b[39;00m e:\n\u001b[1;32m    907\u001b[0m         \u001b[38;5;28;01mdef\u001b[39;00m \u001b[38;5;21mfolded\u001b[39m(args, kws):\n",
      "File \u001b[0;32m~/.pyenv/versions/3.11.2/lib/python3.11/site-packages/numba/core/dispatcher.py:80\u001b[0m, in \u001b[0;36m_FunctionCompiler.compile\u001b[0;34m(self, args, return_type)\u001b[0m\n\u001b[1;32m     79\u001b[0m \u001b[38;5;28;01mdef\u001b[39;00m \u001b[38;5;21mcompile\u001b[39m(\u001b[38;5;28mself\u001b[39m, args, return_type):\n\u001b[0;32m---> 80\u001b[0m     status, retval \u001b[38;5;241m=\u001b[39m \u001b[38;5;28;43mself\u001b[39;49m\u001b[38;5;241;43m.\u001b[39;49m\u001b[43m_compile_cached\u001b[49m\u001b[43m(\u001b[49m\u001b[43margs\u001b[49m\u001b[43m,\u001b[49m\u001b[43m \u001b[49m\u001b[43mreturn_type\u001b[49m\u001b[43m)\u001b[49m\n\u001b[1;32m     81\u001b[0m     \u001b[38;5;28;01mif\u001b[39;00m status:\n\u001b[1;32m     82\u001b[0m         \u001b[38;5;28;01mreturn\u001b[39;00m retval\n",
      "File \u001b[0;32m~/.pyenv/versions/3.11.2/lib/python3.11/site-packages/numba/core/dispatcher.py:94\u001b[0m, in \u001b[0;36m_FunctionCompiler._compile_cached\u001b[0;34m(self, args, return_type)\u001b[0m\n\u001b[1;32m     91\u001b[0m     \u001b[38;5;28;01mpass\u001b[39;00m\n\u001b[1;32m     93\u001b[0m \u001b[38;5;28;01mtry\u001b[39;00m:\n\u001b[0;32m---> 94\u001b[0m     retval \u001b[38;5;241m=\u001b[39m \u001b[38;5;28;43mself\u001b[39;49m\u001b[38;5;241;43m.\u001b[39;49m\u001b[43m_compile_core\u001b[49m\u001b[43m(\u001b[49m\u001b[43margs\u001b[49m\u001b[43m,\u001b[49m\u001b[43m \u001b[49m\u001b[43mreturn_type\u001b[49m\u001b[43m)\u001b[49m\n\u001b[1;32m     95\u001b[0m \u001b[38;5;28;01mexcept\u001b[39;00m errors\u001b[38;5;241m.\u001b[39mTypingError \u001b[38;5;28;01mas\u001b[39;00m e:\n\u001b[1;32m     96\u001b[0m     \u001b[38;5;28mself\u001b[39m\u001b[38;5;241m.\u001b[39m_failed_cache[key] \u001b[38;5;241m=\u001b[39m e\n",
      "File \u001b[0;32m~/.pyenv/versions/3.11.2/lib/python3.11/site-packages/numba/core/dispatcher.py:107\u001b[0m, in \u001b[0;36m_FunctionCompiler._compile_core\u001b[0;34m(self, args, return_type)\u001b[0m\n\u001b[1;32m    104\u001b[0m flags \u001b[38;5;241m=\u001b[39m \u001b[38;5;28mself\u001b[39m\u001b[38;5;241m.\u001b[39m_customize_flags(flags)\n\u001b[1;32m    106\u001b[0m impl \u001b[38;5;241m=\u001b[39m \u001b[38;5;28mself\u001b[39m\u001b[38;5;241m.\u001b[39m_get_implementation(args, {})\n\u001b[0;32m--> 107\u001b[0m cres \u001b[38;5;241m=\u001b[39m \u001b[43mcompiler\u001b[49m\u001b[38;5;241;43m.\u001b[39;49m\u001b[43mcompile_extra\u001b[49m\u001b[43m(\u001b[49m\u001b[38;5;28;43mself\u001b[39;49m\u001b[38;5;241;43m.\u001b[39;49m\u001b[43mtargetdescr\u001b[49m\u001b[38;5;241;43m.\u001b[39;49m\u001b[43mtyping_context\u001b[49m\u001b[43m,\u001b[49m\n\u001b[1;32m    108\u001b[0m \u001b[43m                              \u001b[49m\u001b[38;5;28;43mself\u001b[39;49m\u001b[38;5;241;43m.\u001b[39;49m\u001b[43mtargetdescr\u001b[49m\u001b[38;5;241;43m.\u001b[39;49m\u001b[43mtarget_context\u001b[49m\u001b[43m,\u001b[49m\n\u001b[1;32m    109\u001b[0m \u001b[43m                              \u001b[49m\u001b[43mimpl\u001b[49m\u001b[43m,\u001b[49m\n\u001b[1;32m    110\u001b[0m \u001b[43m                              \u001b[49m\u001b[43margs\u001b[49m\u001b[38;5;241;43m=\u001b[39;49m\u001b[43margs\u001b[49m\u001b[43m,\u001b[49m\u001b[43m \u001b[49m\u001b[43mreturn_type\u001b[49m\u001b[38;5;241;43m=\u001b[39;49m\u001b[43mreturn_type\u001b[49m\u001b[43m,\u001b[49m\n\u001b[1;32m    111\u001b[0m \u001b[43m                              \u001b[49m\u001b[43mflags\u001b[49m\u001b[38;5;241;43m=\u001b[39;49m\u001b[43mflags\u001b[49m\u001b[43m,\u001b[49m\u001b[43m \u001b[49m\u001b[38;5;28;43mlocals\u001b[39;49m\u001b[38;5;241;43m=\u001b[39;49m\u001b[38;5;28;43mself\u001b[39;49m\u001b[38;5;241;43m.\u001b[39;49m\u001b[43mlocals\u001b[49m\u001b[43m,\u001b[49m\n\u001b[1;32m    112\u001b[0m \u001b[43m                              \u001b[49m\u001b[43mpipeline_class\u001b[49m\u001b[38;5;241;43m=\u001b[39;49m\u001b[38;5;28;43mself\u001b[39;49m\u001b[38;5;241;43m.\u001b[39;49m\u001b[43mpipeline_class\u001b[49m\u001b[43m)\u001b[49m\n\u001b[1;32m    113\u001b[0m \u001b[38;5;66;03m# Check typing error if object mode is used\u001b[39;00m\n\u001b[1;32m    114\u001b[0m \u001b[38;5;28;01mif\u001b[39;00m cres\u001b[38;5;241m.\u001b[39mtyping_error \u001b[38;5;129;01mis\u001b[39;00m \u001b[38;5;129;01mnot\u001b[39;00m \u001b[38;5;28;01mNone\u001b[39;00m \u001b[38;5;129;01mand\u001b[39;00m \u001b[38;5;129;01mnot\u001b[39;00m flags\u001b[38;5;241m.\u001b[39menable_pyobject:\n",
      "File \u001b[0;32m~/.pyenv/versions/3.11.2/lib/python3.11/site-packages/numba/core/compiler.py:744\u001b[0m, in \u001b[0;36mcompile_extra\u001b[0;34m(typingctx, targetctx, func, args, return_type, flags, locals, library, pipeline_class)\u001b[0m\n\u001b[1;32m    720\u001b[0m \u001b[38;5;250m\u001b[39m\u001b[38;5;124;03m\"\"\"Compiler entry point\u001b[39;00m\n\u001b[1;32m    721\u001b[0m \n\u001b[1;32m    722\u001b[0m \u001b[38;5;124;03mParameter\u001b[39;00m\n\u001b[0;32m   (...)\u001b[0m\n\u001b[1;32m    740\u001b[0m \u001b[38;5;124;03m    compiler pipeline\u001b[39;00m\n\u001b[1;32m    741\u001b[0m \u001b[38;5;124;03m\"\"\"\u001b[39;00m\n\u001b[1;32m    742\u001b[0m pipeline \u001b[38;5;241m=\u001b[39m pipeline_class(typingctx, targetctx, library,\n\u001b[1;32m    743\u001b[0m                           args, return_type, flags, \u001b[38;5;28mlocals\u001b[39m)\n\u001b[0;32m--> 744\u001b[0m \u001b[38;5;28;01mreturn\u001b[39;00m \u001b[43mpipeline\u001b[49m\u001b[38;5;241;43m.\u001b[39;49m\u001b[43mcompile_extra\u001b[49m\u001b[43m(\u001b[49m\u001b[43mfunc\u001b[49m\u001b[43m)\u001b[49m\n",
      "File \u001b[0;32m~/.pyenv/versions/3.11.2/lib/python3.11/site-packages/numba/core/compiler.py:438\u001b[0m, in \u001b[0;36mCompilerBase.compile_extra\u001b[0;34m(self, func)\u001b[0m\n\u001b[1;32m    436\u001b[0m \u001b[38;5;28mself\u001b[39m\u001b[38;5;241m.\u001b[39mstate\u001b[38;5;241m.\u001b[39mlifted \u001b[38;5;241m=\u001b[39m ()\n\u001b[1;32m    437\u001b[0m \u001b[38;5;28mself\u001b[39m\u001b[38;5;241m.\u001b[39mstate\u001b[38;5;241m.\u001b[39mlifted_from \u001b[38;5;241m=\u001b[39m \u001b[38;5;28;01mNone\u001b[39;00m\n\u001b[0;32m--> 438\u001b[0m \u001b[38;5;28;01mreturn\u001b[39;00m \u001b[38;5;28;43mself\u001b[39;49m\u001b[38;5;241;43m.\u001b[39;49m\u001b[43m_compile_bytecode\u001b[49m\u001b[43m(\u001b[49m\u001b[43m)\u001b[49m\n",
      "File \u001b[0;32m~/.pyenv/versions/3.11.2/lib/python3.11/site-packages/numba/core/compiler.py:506\u001b[0m, in \u001b[0;36mCompilerBase._compile_bytecode\u001b[0;34m(self)\u001b[0m\n\u001b[1;32m    502\u001b[0m \u001b[38;5;250m\u001b[39m\u001b[38;5;124;03m\"\"\"\u001b[39;00m\n\u001b[1;32m    503\u001b[0m \u001b[38;5;124;03mPopulate and run pipeline for bytecode input\u001b[39;00m\n\u001b[1;32m    504\u001b[0m \u001b[38;5;124;03m\"\"\"\u001b[39;00m\n\u001b[1;32m    505\u001b[0m \u001b[38;5;28;01massert\u001b[39;00m \u001b[38;5;28mself\u001b[39m\u001b[38;5;241m.\u001b[39mstate\u001b[38;5;241m.\u001b[39mfunc_ir \u001b[38;5;129;01mis\u001b[39;00m \u001b[38;5;28;01mNone\u001b[39;00m\n\u001b[0;32m--> 506\u001b[0m \u001b[38;5;28;01mreturn\u001b[39;00m \u001b[38;5;28;43mself\u001b[39;49m\u001b[38;5;241;43m.\u001b[39;49m\u001b[43m_compile_core\u001b[49m\u001b[43m(\u001b[49m\u001b[43m)\u001b[49m\n",
      "File \u001b[0;32m~/.pyenv/versions/3.11.2/lib/python3.11/site-packages/numba/core/compiler.py:472\u001b[0m, in \u001b[0;36mCompilerBase._compile_core\u001b[0;34m(self)\u001b[0m\n\u001b[1;32m    470\u001b[0m res \u001b[38;5;241m=\u001b[39m \u001b[38;5;28;01mNone\u001b[39;00m\n\u001b[1;32m    471\u001b[0m \u001b[38;5;28;01mtry\u001b[39;00m:\n\u001b[0;32m--> 472\u001b[0m     \u001b[43mpm\u001b[49m\u001b[38;5;241;43m.\u001b[39;49m\u001b[43mrun\u001b[49m\u001b[43m(\u001b[49m\u001b[38;5;28;43mself\u001b[39;49m\u001b[38;5;241;43m.\u001b[39;49m\u001b[43mstate\u001b[49m\u001b[43m)\u001b[49m\n\u001b[1;32m    473\u001b[0m     \u001b[38;5;28;01mif\u001b[39;00m \u001b[38;5;28mself\u001b[39m\u001b[38;5;241m.\u001b[39mstate\u001b[38;5;241m.\u001b[39mcr \u001b[38;5;129;01mis\u001b[39;00m \u001b[38;5;129;01mnot\u001b[39;00m \u001b[38;5;28;01mNone\u001b[39;00m:\n\u001b[1;32m    474\u001b[0m         \u001b[38;5;28;01mbreak\u001b[39;00m\n",
      "File \u001b[0;32m~/.pyenv/versions/3.11.2/lib/python3.11/site-packages/numba/core/compiler_machinery.py:356\u001b[0m, in \u001b[0;36mPassManager.run\u001b[0;34m(self, state)\u001b[0m\n\u001b[1;32m    354\u001b[0m pass_inst \u001b[38;5;241m=\u001b[39m _pass_registry\u001b[38;5;241m.\u001b[39mget(pss)\u001b[38;5;241m.\u001b[39mpass_inst\n\u001b[1;32m    355\u001b[0m \u001b[38;5;28;01mif\u001b[39;00m \u001b[38;5;28misinstance\u001b[39m(pass_inst, CompilerPass):\n\u001b[0;32m--> 356\u001b[0m     \u001b[38;5;28;43mself\u001b[39;49m\u001b[38;5;241;43m.\u001b[39;49m\u001b[43m_runPass\u001b[49m\u001b[43m(\u001b[49m\u001b[43midx\u001b[49m\u001b[43m,\u001b[49m\u001b[43m \u001b[49m\u001b[43mpass_inst\u001b[49m\u001b[43m,\u001b[49m\u001b[43m \u001b[49m\u001b[43mstate\u001b[49m\u001b[43m)\u001b[49m\n\u001b[1;32m    357\u001b[0m \u001b[38;5;28;01melse\u001b[39;00m:\n\u001b[1;32m    358\u001b[0m     \u001b[38;5;28;01mraise\u001b[39;00m \u001b[38;5;167;01mBaseException\u001b[39;00m(\u001b[38;5;124m\"\u001b[39m\u001b[38;5;124mLegacy pass in use\u001b[39m\u001b[38;5;124m\"\u001b[39m)\n",
      "File \u001b[0;32m~/.pyenv/versions/3.11.2/lib/python3.11/site-packages/numba/core/compiler_lock.py:35\u001b[0m, in \u001b[0;36m_CompilerLock.__call__.<locals>._acquire_compile_lock\u001b[0;34m(*args, **kwargs)\u001b[0m\n\u001b[1;32m     32\u001b[0m \u001b[38;5;129m@functools\u001b[39m\u001b[38;5;241m.\u001b[39mwraps(func)\n\u001b[1;32m     33\u001b[0m \u001b[38;5;28;01mdef\u001b[39;00m \u001b[38;5;21m_acquire_compile_lock\u001b[39m(\u001b[38;5;241m*\u001b[39margs, \u001b[38;5;241m*\u001b[39m\u001b[38;5;241m*\u001b[39mkwargs):\n\u001b[1;32m     34\u001b[0m     \u001b[38;5;28;01mwith\u001b[39;00m \u001b[38;5;28mself\u001b[39m:\n\u001b[0;32m---> 35\u001b[0m         \u001b[38;5;28;01mreturn\u001b[39;00m \u001b[43mfunc\u001b[49m\u001b[43m(\u001b[49m\u001b[38;5;241;43m*\u001b[39;49m\u001b[43margs\u001b[49m\u001b[43m,\u001b[49m\u001b[43m \u001b[49m\u001b[38;5;241;43m*\u001b[39;49m\u001b[38;5;241;43m*\u001b[39;49m\u001b[43mkwargs\u001b[49m\u001b[43m)\u001b[49m\n",
      "File \u001b[0;32m~/.pyenv/versions/3.11.2/lib/python3.11/site-packages/numba/core/compiler_machinery.py:311\u001b[0m, in \u001b[0;36mPassManager._runPass\u001b[0;34m(self, index, pss, internal_state)\u001b[0m\n\u001b[1;32m    309\u001b[0m     mutated \u001b[38;5;241m|\u001b[39m\u001b[38;5;241m=\u001b[39m check(pss\u001b[38;5;241m.\u001b[39mrun_initialization, internal_state)\n\u001b[1;32m    310\u001b[0m \u001b[38;5;28;01mwith\u001b[39;00m SimpleTimer() \u001b[38;5;28;01mas\u001b[39;00m pass_time:\n\u001b[0;32m--> 311\u001b[0m     mutated \u001b[38;5;241m|\u001b[39m\u001b[38;5;241m=\u001b[39m \u001b[43mcheck\u001b[49m\u001b[43m(\u001b[49m\u001b[43mpss\u001b[49m\u001b[38;5;241;43m.\u001b[39;49m\u001b[43mrun_pass\u001b[49m\u001b[43m,\u001b[49m\u001b[43m \u001b[49m\u001b[43minternal_state\u001b[49m\u001b[43m)\u001b[49m\n\u001b[1;32m    312\u001b[0m \u001b[38;5;28;01mwith\u001b[39;00m SimpleTimer() \u001b[38;5;28;01mas\u001b[39;00m finalize_time:\n\u001b[1;32m    313\u001b[0m     mutated \u001b[38;5;241m|\u001b[39m\u001b[38;5;241m=\u001b[39m check(pss\u001b[38;5;241m.\u001b[39mrun_finalizer, internal_state)\n",
      "File \u001b[0;32m~/.pyenv/versions/3.11.2/lib/python3.11/site-packages/numba/core/compiler_machinery.py:273\u001b[0m, in \u001b[0;36mPassManager._runPass.<locals>.check\u001b[0;34m(func, compiler_state)\u001b[0m\n\u001b[1;32m    272\u001b[0m \u001b[38;5;28;01mdef\u001b[39;00m \u001b[38;5;21mcheck\u001b[39m(func, compiler_state):\n\u001b[0;32m--> 273\u001b[0m     mangled \u001b[38;5;241m=\u001b[39m \u001b[43mfunc\u001b[49m\u001b[43m(\u001b[49m\u001b[43mcompiler_state\u001b[49m\u001b[43m)\u001b[49m\n\u001b[1;32m    274\u001b[0m     \u001b[38;5;28;01mif\u001b[39;00m mangled \u001b[38;5;129;01mnot\u001b[39;00m \u001b[38;5;129;01min\u001b[39;00m (\u001b[38;5;28;01mTrue\u001b[39;00m, \u001b[38;5;28;01mFalse\u001b[39;00m):\n\u001b[1;32m    275\u001b[0m         msg \u001b[38;5;241m=\u001b[39m (\u001b[38;5;124m\"\u001b[39m\u001b[38;5;124mCompilerPass implementations should return True/False. \u001b[39m\u001b[38;5;124m\"\u001b[39m\n\u001b[1;32m    276\u001b[0m                \u001b[38;5;124m\"\u001b[39m\u001b[38;5;124mCompilerPass with name \u001b[39m\u001b[38;5;124m'\u001b[39m\u001b[38;5;132;01m%s\u001b[39;00m\u001b[38;5;124m'\u001b[39m\u001b[38;5;124m did not.\u001b[39m\u001b[38;5;124m\"\u001b[39m)\n",
      "File \u001b[0;32m~/.pyenv/versions/3.11.2/lib/python3.11/site-packages/numba/core/untyped_passes.py:1763\u001b[0m, in \u001b[0;36mReconstructSSA.run_pass\u001b[0;34m(self, state)\u001b[0m\n\u001b[1;32m   1762\u001b[0m \u001b[38;5;28;01mdef\u001b[39;00m \u001b[38;5;21mrun_pass\u001b[39m(\u001b[38;5;28mself\u001b[39m, state):\n\u001b[0;32m-> 1763\u001b[0m     state\u001b[38;5;241m.\u001b[39mfunc_ir \u001b[38;5;241m=\u001b[39m \u001b[43mreconstruct_ssa\u001b[49m\u001b[43m(\u001b[49m\u001b[43mstate\u001b[49m\u001b[38;5;241;43m.\u001b[39;49m\u001b[43mfunc_ir\u001b[49m\u001b[43m)\u001b[49m\n\u001b[1;32m   1764\u001b[0m     \u001b[38;5;28mself\u001b[39m\u001b[38;5;241m.\u001b[39m_patch_locals(state)\n\u001b[1;32m   1766\u001b[0m     \u001b[38;5;66;03m# Rebuild definitions\u001b[39;00m\n",
      "File \u001b[0;32m~/.pyenv/versions/3.11.2/lib/python3.11/site-packages/numba/core/ssa.py:32\u001b[0m, in \u001b[0;36mreconstruct_ssa\u001b[0;34m(func_ir)\u001b[0m\n\u001b[1;32m     27\u001b[0m \u001b[38;5;28;01mdef\u001b[39;00m \u001b[38;5;21mreconstruct_ssa\u001b[39m(func_ir):\n\u001b[1;32m     28\u001b[0m \u001b[38;5;250m    \u001b[39m\u001b[38;5;124;03m\"\"\"Apply SSA reconstruction algorithm on the given IR.\u001b[39;00m\n\u001b[1;32m     29\u001b[0m \n\u001b[1;32m     30\u001b[0m \u001b[38;5;124;03m    Produces minimal SSA using Choi et al algorithm.\u001b[39;00m\n\u001b[1;32m     31\u001b[0m \u001b[38;5;124;03m    \"\"\"\u001b[39;00m\n\u001b[0;32m---> 32\u001b[0m     func_ir\u001b[38;5;241m.\u001b[39mblocks \u001b[38;5;241m=\u001b[39m \u001b[43m_run_ssa\u001b[49m\u001b[43m(\u001b[49m\u001b[43mfunc_ir\u001b[49m\u001b[38;5;241;43m.\u001b[39;49m\u001b[43mblocks\u001b[49m\u001b[43m)\u001b[49m\n\u001b[1;32m     34\u001b[0m     \u001b[38;5;28;01mreturn\u001b[39;00m func_ir\n",
      "File \u001b[0;32m~/.pyenv/versions/3.11.2/lib/python3.11/site-packages/numba/core/ssa.py:73\u001b[0m, in \u001b[0;36m_run_ssa\u001b[0;34m(blocks)\u001b[0m\n\u001b[1;32m     70\u001b[0m     _logger\u001b[38;5;241m.\u001b[39mdebug(\u001b[38;5;124m\"\u001b[39m\u001b[38;5;124mReplaced assignments: \u001b[39m\u001b[38;5;132;01m%s\u001b[39;00m\u001b[38;5;124m\"\u001b[39m, pformat(defmap))\n\u001b[1;32m     71\u001b[0m     \u001b[38;5;66;03m# Fix up the RHS\u001b[39;00m\n\u001b[1;32m     72\u001b[0m     \u001b[38;5;66;03m# Re-associate the variable uses with the reaching definition\u001b[39;00m\n\u001b[0;32m---> 73\u001b[0m     blocks \u001b[38;5;241m=\u001b[39m \u001b[43m_fix_ssa_vars\u001b[49m\u001b[43m(\u001b[49m\u001b[43mblocks\u001b[49m\u001b[43m,\u001b[49m\u001b[43m \u001b[49m\u001b[43mvarname\u001b[49m\u001b[43m,\u001b[49m\u001b[43m \u001b[49m\u001b[43mdefmap\u001b[49m\u001b[43m,\u001b[49m\u001b[43m \u001b[49m\u001b[43mcfg\u001b[49m\u001b[43m,\u001b[49m\u001b[43m \u001b[49m\u001b[43mdf_plus\u001b[49m\u001b[43m,\u001b[49m\n\u001b[1;32m     74\u001b[0m \u001b[43m                           \u001b[49m\u001b[43mcache_list_vars\u001b[49m\u001b[43m)\u001b[49m\n\u001b[1;32m     76\u001b[0m \u001b[38;5;66;03m# Post-condition checks.\u001b[39;00m\n\u001b[1;32m     77\u001b[0m \u001b[38;5;66;03m# CFG invariant\u001b[39;00m\n\u001b[1;32m     78\u001b[0m cfg_post \u001b[38;5;241m=\u001b[39m compute_cfg_from_blocks(blocks)\n",
      "File \u001b[0;32m~/.pyenv/versions/3.11.2/lib/python3.11/site-packages/numba/core/ssa.py:93\u001b[0m, in \u001b[0;36m_fix_ssa_vars\u001b[0;34m(blocks, varname, defmap, cfg, df_plus, cache_list_vars)\u001b[0m\n\u001b[1;32m     91\u001b[0m states[\u001b[38;5;124m'\u001b[39m\u001b[38;5;124mcfg\u001b[39m\u001b[38;5;124m'\u001b[39m] \u001b[38;5;241m=\u001b[39m cfg\n\u001b[1;32m     92\u001b[0m states[\u001b[38;5;124m'\u001b[39m\u001b[38;5;124mphi_locations\u001b[39m\u001b[38;5;124m'\u001b[39m] \u001b[38;5;241m=\u001b[39m _compute_phi_locations(df_plus, defmap)\n\u001b[0;32m---> 93\u001b[0m newblocks \u001b[38;5;241m=\u001b[39m \u001b[43m_run_block_rewrite\u001b[49m\u001b[43m(\u001b[49m\u001b[43mblocks\u001b[49m\u001b[43m,\u001b[49m\u001b[43m \u001b[49m\u001b[43mstates\u001b[49m\u001b[43m,\u001b[49m\u001b[43m \u001b[49m\u001b[43m_FixSSAVars\u001b[49m\u001b[43m(\u001b[49m\u001b[43mcache_list_vars\u001b[49m\u001b[43m)\u001b[49m\u001b[43m)\u001b[49m\n\u001b[1;32m     94\u001b[0m \u001b[38;5;66;03m# insert phi nodes\u001b[39;00m\n\u001b[1;32m     95\u001b[0m \u001b[38;5;28;01mfor\u001b[39;00m label, philist \u001b[38;5;129;01min\u001b[39;00m phimap\u001b[38;5;241m.\u001b[39mitems():\n",
      "File \u001b[0;32m~/.pyenv/versions/3.11.2/lib/python3.11/site-packages/numba/core/ssa.py:193\u001b[0m, in \u001b[0;36m_run_block_rewrite\u001b[0;34m(blocks, states, handler)\u001b[0m\n\u001b[1;32m    191\u001b[0m states[\u001b[38;5;124m'\u001b[39m\u001b[38;5;124mlabel\u001b[39m\u001b[38;5;124m'\u001b[39m] \u001b[38;5;241m=\u001b[39m label\n\u001b[1;32m    192\u001b[0m states[\u001b[38;5;124m'\u001b[39m\u001b[38;5;124mblock\u001b[39m\u001b[38;5;124m'\u001b[39m] \u001b[38;5;241m=\u001b[39m blk\n\u001b[0;32m--> 193\u001b[0m \u001b[43m\u001b[49m\u001b[38;5;28;43;01mfor\u001b[39;49;00m\u001b[43m \u001b[49m\u001b[43mstmt\u001b[49m\u001b[43m \u001b[49m\u001b[38;5;129;43;01min\u001b[39;49;00m\u001b[43m \u001b[49m\u001b[43m_run_ssa_block_pass\u001b[49m\u001b[43m(\u001b[49m\u001b[43mstates\u001b[49m\u001b[43m,\u001b[49m\u001b[43m \u001b[49m\u001b[43mblk\u001b[49m\u001b[43m,\u001b[49m\u001b[43m \u001b[49m\u001b[43mhandler\u001b[49m\u001b[43m)\u001b[49m\u001b[43m:\u001b[49m\n\u001b[1;32m    194\u001b[0m \u001b[43m    \u001b[49m\u001b[38;5;28;43;01massert\u001b[39;49;00m\u001b[43m \u001b[49m\u001b[43mstmt\u001b[49m\u001b[43m \u001b[49m\u001b[38;5;129;43;01mis\u001b[39;49;00m\u001b[43m \u001b[49m\u001b[38;5;129;43;01mnot\u001b[39;49;00m\u001b[43m \u001b[49m\u001b[38;5;28;43;01mNone\u001b[39;49;00m\n\u001b[1;32m    195\u001b[0m \u001b[43m    \u001b[49m\u001b[43mnewbody\u001b[49m\u001b[38;5;241;43m.\u001b[39;49m\u001b[43mappend\u001b[49m\u001b[43m(\u001b[49m\u001b[43mstmt\u001b[49m\u001b[43m)\u001b[49m\n",
      "File \u001b[0;32m~/.pyenv/versions/3.11.2/lib/python3.11/site-packages/numba/core/ssa.py:212\u001b[0m, in \u001b[0;36m_run_ssa_block_pass\u001b[0;34m(states, blk, handler)\u001b[0m\n\u001b[1;32m    210\u001b[0m _logger\u001b[38;5;241m.\u001b[39mdebug(\u001b[38;5;124m\"\u001b[39m\u001b[38;5;124mon stmt: \u001b[39m\u001b[38;5;132;01m%s\u001b[39;00m\u001b[38;5;124m\"\u001b[39m, stmt)\n\u001b[1;32m    211\u001b[0m \u001b[38;5;28;01mif\u001b[39;00m \u001b[38;5;28misinstance\u001b[39m(stmt, ir\u001b[38;5;241m.\u001b[39mAssign):\n\u001b[0;32m--> 212\u001b[0m     ret \u001b[38;5;241m=\u001b[39m \u001b[43mhandler\u001b[49m\u001b[38;5;241;43m.\u001b[39;49m\u001b[43mon_assign\u001b[49m\u001b[43m(\u001b[49m\u001b[43mstates\u001b[49m\u001b[43m,\u001b[49m\u001b[43m \u001b[49m\u001b[43mstmt\u001b[49m\u001b[43m)\u001b[49m\n\u001b[1;32m    213\u001b[0m \u001b[38;5;28;01melse\u001b[39;00m:\n\u001b[1;32m    214\u001b[0m     ret \u001b[38;5;241m=\u001b[39m handler\u001b[38;5;241m.\u001b[39mon_other(states, stmt)\n",
      "File \u001b[0;32m~/.pyenv/versions/3.11.2/lib/python3.11/site-packages/numba/core/ssa.py:336\u001b[0m, in \u001b[0;36m_FixSSAVars.on_assign\u001b[0;34m(self, states, assign)\u001b[0m\n\u001b[1;32m    334\u001b[0m rhs \u001b[38;5;241m=\u001b[39m assign\u001b[38;5;241m.\u001b[39mvalue\n\u001b[1;32m    335\u001b[0m \u001b[38;5;28;01mif\u001b[39;00m \u001b[38;5;28misinstance\u001b[39m(rhs, ir\u001b[38;5;241m.\u001b[39mInst):\n\u001b[0;32m--> 336\u001b[0m     newdef \u001b[38;5;241m=\u001b[39m \u001b[38;5;28;43mself\u001b[39;49m\u001b[38;5;241;43m.\u001b[39;49m\u001b[43m_fix_var\u001b[49m\u001b[43m(\u001b[49m\n\u001b[1;32m    337\u001b[0m \u001b[43m        \u001b[49m\u001b[43mstates\u001b[49m\u001b[43m,\u001b[49m\u001b[43m \u001b[49m\u001b[43massign\u001b[49m\u001b[43m,\u001b[49m\u001b[43m \u001b[49m\u001b[38;5;28;43mself\u001b[39;49m\u001b[38;5;241;43m.\u001b[39;49m\u001b[43m_cache_list_vars\u001b[49m\u001b[38;5;241;43m.\u001b[39;49m\u001b[43mget\u001b[49m\u001b[43m(\u001b[49m\u001b[43massign\u001b[49m\u001b[38;5;241;43m.\u001b[39;49m\u001b[43mvalue\u001b[49m\u001b[43m)\u001b[49m\u001b[43m,\u001b[49m\n\u001b[1;32m    338\u001b[0m \u001b[43m    \u001b[49m\u001b[43m)\u001b[49m\n\u001b[1;32m    339\u001b[0m     \u001b[38;5;66;03m# Has a replacement that is not the current variable\u001b[39;00m\n\u001b[1;32m    340\u001b[0m     \u001b[38;5;28;01mif\u001b[39;00m newdef \u001b[38;5;129;01mis\u001b[39;00m \u001b[38;5;129;01mnot\u001b[39;00m \u001b[38;5;28;01mNone\u001b[39;00m \u001b[38;5;129;01mand\u001b[39;00m newdef\u001b[38;5;241m.\u001b[39mtarget \u001b[38;5;129;01mis\u001b[39;00m \u001b[38;5;129;01mnot\u001b[39;00m ir\u001b[38;5;241m.\u001b[39mUNDEFINED:\n",
      "File \u001b[0;32m~/.pyenv/versions/3.11.2/lib/python3.11/site-packages/numba/core/ssa.py:381\u001b[0m, in \u001b[0;36m_FixSSAVars._fix_var\u001b[0;34m(self, states, stmt, used_vars)\u001b[0m\n\u001b[1;32m    379\u001b[0m phivar \u001b[38;5;241m=\u001b[39m states[\u001b[38;5;124m'\u001b[39m\u001b[38;5;124mvarname\u001b[39m\u001b[38;5;124m'\u001b[39m]\n\u001b[1;32m    380\u001b[0m \u001b[38;5;28;01mif\u001b[39;00m phivar \u001b[38;5;129;01min\u001b[39;00m varnames:\n\u001b[0;32m--> 381\u001b[0m     \u001b[38;5;28;01mreturn\u001b[39;00m \u001b[38;5;28;43mself\u001b[39;49m\u001b[38;5;241;43m.\u001b[39;49m\u001b[43m_find_def\u001b[49m\u001b[43m(\u001b[49m\u001b[43mstates\u001b[49m\u001b[43m,\u001b[49m\u001b[43m \u001b[49m\u001b[43mstmt\u001b[49m\u001b[43m)\u001b[49m\n",
      "File \u001b[0;32m~/.pyenv/versions/3.11.2/lib/python3.11/site-packages/numba/core/ssa.py:393\u001b[0m, in \u001b[0;36m_FixSSAVars._find_def\u001b[0;34m(self, states, stmt)\u001b[0m\n\u001b[1;32m    390\u001b[0m local_phis \u001b[38;5;241m=\u001b[39m states[\u001b[38;5;124m'\u001b[39m\u001b[38;5;124mphimap\u001b[39m\u001b[38;5;124m'\u001b[39m][label]\n\u001b[1;32m    391\u001b[0m block \u001b[38;5;241m=\u001b[39m states[\u001b[38;5;124m'\u001b[39m\u001b[38;5;124mblock\u001b[39m\u001b[38;5;124m'\u001b[39m]\n\u001b[0;32m--> 393\u001b[0m cur_pos \u001b[38;5;241m=\u001b[39m \u001b[38;5;28;43mself\u001b[39;49m\u001b[38;5;241;43m.\u001b[39;49m\u001b[43m_stmt_index\u001b[49m\u001b[43m(\u001b[49m\u001b[43mstmt\u001b[49m\u001b[43m,\u001b[49m\u001b[43m \u001b[49m\u001b[43mblock\u001b[49m\u001b[43m)\u001b[49m\n\u001b[1;32m    394\u001b[0m \u001b[38;5;28;01mfor\u001b[39;00m defstmt \u001b[38;5;129;01min\u001b[39;00m \u001b[38;5;28mreversed\u001b[39m(local_defs):\n\u001b[1;32m    395\u001b[0m     \u001b[38;5;66;03m# Phi nodes have no index\u001b[39;00m\n\u001b[1;32m    396\u001b[0m     def_pos \u001b[38;5;241m=\u001b[39m \u001b[38;5;28mself\u001b[39m\u001b[38;5;241m.\u001b[39m_stmt_index(defstmt, block, stop\u001b[38;5;241m=\u001b[39mcur_pos)\n",
      "File \u001b[0;32m~/.pyenv/versions/3.11.2/lib/python3.11/site-packages/numba/core/ssa.py:479\u001b[0m, in \u001b[0;36m_FixSSAVars._stmt_index\u001b[0;34m(self, defstmt, block, stop)\u001b[0m\n\u001b[1;32m    475\u001b[0m \u001b[38;5;66;03m# Compare using id() as IR node equality is for semantic equivalence\u001b[39;00m\n\u001b[1;32m    476\u001b[0m \u001b[38;5;66;03m# opposed to direct equality (the location and scope are not considered\u001b[39;00m\n\u001b[1;32m    477\u001b[0m \u001b[38;5;66;03m# as part of the equality measure, this is important here).\u001b[39;00m\n\u001b[1;32m    478\u001b[0m \u001b[38;5;28;01mfor\u001b[39;00m i \u001b[38;5;129;01min\u001b[39;00m \u001b[38;5;28mrange\u001b[39m(\u001b[38;5;28mlen\u001b[39m(block\u001b[38;5;241m.\u001b[39mbody))[:stop]:\n\u001b[0;32m--> 479\u001b[0m     \u001b[38;5;28;01mif\u001b[39;00m block\u001b[38;5;241m.\u001b[39mbody[i] \u001b[38;5;129;01mis\u001b[39;00m defstmt:\n\u001b[1;32m    480\u001b[0m         \u001b[38;5;28;01mreturn\u001b[39;00m i\n\u001b[1;32m    481\u001b[0m \u001b[38;5;28;01mreturn\u001b[39;00m \u001b[38;5;28mlen\u001b[39m(block\u001b[38;5;241m.\u001b[39mbody)\n",
      "\u001b[0;31mKeyboardInterrupt\u001b[0m: "
     ]
    }
   ],
   "source": [
    "Q1_coeffs = Z3_module.find_coeffs_symmetrical_from_Q_star(data_m, data_eta, data_Q_star_1)\n",
    "Q2_coeffs = Z3_module.find_coeffs_symmetrical_from_Q_star(data_m, data_eta, data_Q_star_2)\n",
    "Q3_coeffs = Z3_module.find_coeffs_symmetrical_from_Q_star(data_m, data_eta, data_Q_star_3)\n",
    "Q4_coeffs = Z3_module.find_coeffs_symmetrical_from_Q_star(data_m, data_eta, data_Q_star_4)"
   ]
  },
  {
   "cell_type": "code",
   "execution_count": null,
   "metadata": {},
   "outputs": [
    {
     "name": "stderr",
     "output_type": "stream",
     "text": [
      "/tmp/ipykernel_3867039/4011780693.py:2: RuntimeWarning: invalid value encountered in calc_eta_ik\n",
      "  data_for_Q1 = data_Q1, data_Q_star_1, Z3_module.calc_eta_ik(*Q1_coeffs), *Q1_coeffs\n",
      "/tmp/ipykernel_3867039/4011780693.py:5: RuntimeWarning: invalid value encountered in calc_eta_ik\n",
      "  data_for_Q2 = data_Q2, data_Q_star_2, Z3_module.calc_eta_ik(*Q2_coeffs), *Q2_coeffs\n",
      "/tmp/ipykernel_3867039/4011780693.py:8: RuntimeWarning: invalid value encountered in calc_eta_ik\n",
      "  data_for_Q3 = data_Q3, data_Q_star_3, Z3_module.calc_eta_ik(*Q3_coeffs), *Q3_coeffs\n",
      "/tmp/ipykernel_3867039/4011780693.py:11: RuntimeWarning: invalid value encountered in calc_eta_ik\n",
      "  data_for_Q4 = data_Q4, data_Q_star_4, Z3_module.calc_eta_ik(*Q4_coeffs), *Q4_coeffs\n"
     ]
    }
   ],
   "source": [
    "names_for_Q1 = \"Q1 Q_star_1 Q1_eta_ik Q1_h_i Q1_h_j Q1_l_ij Q1_l_ik\"\n",
    "data_for_Q1 = data_Q1, data_Q_star_1, Z3_module.calc_eta_ik_symmetrical(*Q1_coeffs), *Q1_coeffs\n",
    "\n",
    "names_for_Q2 = \"Q2 Q_star_2 Q2_eta_ik Q2_h_i Q2_h_j Q2_l_ij Q2_l_ik\"\n",
    "data_for_Q2 = data_Q2, data_Q_star_2, Z3_module.calc_eta_ik_symmetrical(*Q2_coeffs), *Q2_coeffs\n",
    "\n",
    "names_for_Q3 = \"Q3 Q_star_3 Q3_eta_ik Q3_h_i Q3_h_j Q3_l_ij Q3_l_ik\"\n",
    "data_for_Q3 = data_Q3, data_Q_star_3, Z3_module.calc_eta_ik_symmetrical(*Q3_coeffs), *Q3_coeffs\n",
    "\n",
    "names_for_Q4 = \"Q4 Q_star_4 Q4_eta_ik Q4_h_i Q4_h_j Q4_l_ij Q4_l_ik\"\n",
    "data_for_Q4 = data_Q4, data_Q_star_4, Z3_module.calc_eta_ik_symmetrical(*Q4_coeffs), *Q4_coeffs"
   ]
  },
  {
   "cell_type": "code",
   "execution_count": null,
   "metadata": {},
   "outputs": [],
   "source": [
    "datlib.np2dat(\n",
    "    f\"data/Q-{lattice}-coeffs.dat\", \n",
    "    f\"T Hz m eta zeta eta2 p h l upsilon {names_for_Q1} {names_for_Q2} {names_for_Q3} {names_for_Q4}\".split(), \n",
    "    np.asarray([\n",
    "        data_T, data_Hz, data_m, data_eta, data_zeta, data_eta2, \n",
    "        data_p, data_h, data_l, data_upsilon,\n",
    "        *data_for_Q1, *data_for_Q2, *data_for_Q3, *data_for_Q4,\n",
    "    ])\n",
    ")"
   ]
  },
  {
   "cell_type": "markdown",
   "metadata": {},
   "source": [
    "### Ошибка $\\Upsilon$"
   ]
  },
  {
   "cell_type": "code",
   "execution_count": null,
   "metadata": {},
   "outputs": [
    {
     "name": "stdout",
     "output_type": "stream",
     "text": [
      "data/dat-right/SC-T0.1-tvals.dat  data/dat-right/SC-T0.8-tvals.dat\n",
      "data/dat-right/SC-T0.2-tvals.dat  data/dat-right/SC-T0.9-tvals.dat\n",
      "data/dat-right/SC-T0.3-tvals.dat  data/dat-right/SC-T1.0-tvals.dat\n",
      "data/dat-right/SC-T0.4-tvals.dat  data/dat-right/SC-T1.1-tvals.dat\n",
      "data/dat-right/SC-T0.5-tvals.dat  data/dat-right/SC-T1.2-tvals.dat\n",
      "data/dat-right/SC-T0.6-tvals.dat  data/dat-right/SC-T1.3-tvals.dat\n",
      "data/dat-right/SC-T0.7-tvals.dat  data/dat-right/SC-T1.4-tvals.dat\n"
     ]
    }
   ],
   "source": [
    "!ls data/dat-right/SC*-tvals.dat"
   ]
  },
  {
   "cell_type": "code",
   "execution_count": null,
   "metadata": {},
   "outputs": [],
   "source": [
    "names, data = datlib.parse_from_input(open(\"data/dat-right/BCC-T1.1-tvals.dat\", \"r\"))\n",
    "data_m = data[names.index(\"M\")]\n",
    "data_eta = data[names.index(\"eta\")]\n",
    "data_U_LL = data[names.index(\"UM_LL\")]/data_m\n",
    "data_U_CMD = data[names.index(\"U_CMD\")]\n",
    "data_eta_k2 = data[names.index(\"eta_k2\")]\n",
    "data_eta_k3 = data[names.index(\"eta_k3\")]\n",
    "data_eta_k4 = data[names.index(\"eta_k4\")]"
   ]
  },
  {
   "cell_type": "code",
   "execution_count": null,
   "metadata": {},
   "outputs": [],
   "source": [
    "coeffs = Z2_module.find_coeffs_symmetrical(data_m, data_eta)\n",
    "data_U_Z2 = Z2_module.calc_upsilon_symmetrical(*coeffs)"
   ]
  },
  {
   "cell_type": "code",
   "execution_count": null,
   "metadata": {},
   "outputs": [],
   "source": [
    "data_eta_mean = np.zeros_like(data_eta)\n",
    "data_eta_mean[:] = np.mean(data_eta)\n",
    "coeffs = Z2_module.find_coeffs_symmetrical(data_m, data_eta_mean)\n",
    "data_U_Z2_mean = Z2_module.calc_upsilon_symmetrical(*coeffs)"
   ]
  },
  {
   "cell_type": "code",
   "execution_count": null,
   "metadata": {},
   "outputs": [],
   "source": [
    "coeffs = Z3_module.find_coeffs_symmetrical(data_m, data_eta, data_eta_k2)\n",
    "data_U_Z3_k2 = .5*(1-Z3_module.calc_m_j_eta_ij_symmetrical(data_m, data_eta, data_eta_k2, *coeffs)/data_m)\n",
    "\n",
    "coeffs = Z3_module.find_coeffs_symmetrical(data_m, data_eta, data_eta_k3)\n",
    "data_U_Z3_k3 = .5*(1-Z3_module.calc_m_j_eta_ij_symmetrical(data_m, data_eta, data_eta_k3, *coeffs)/data_m)"
   ]
  },
  {
   "cell_type": "code",
   "execution_count": null,
   "metadata": {},
   "outputs": [],
   "source": [
    "datlib.np2dat(\n",
    "    \"data/upsilon_error.dat\", \n",
    "    \"M eta U_LL U_CMD U_Z2 U_Z2_mean U_Z3_k2 U_Z3_k3\".split(), \n",
    "    np.asarray([\n",
    "        data_m, data_eta, data_U_LL, data_U_CMD,\n",
    "        data_U_Z2, data_U_Z2_mean,\n",
    "        data_U_Z3_k2, data_U_Z3_k3\n",
    "    ])\n",
    ")"
   ]
  },
  {
   "cell_type": "code",
   "execution_count": null,
   "metadata": {},
   "outputs": [
    {
     "name": "stderr",
     "output_type": "stream",
     "text": [
      "         line 0: warning: Resetting primary output file to /tmp/gplt3-1698744-9228225-p.tex,\n",
      "                  PostScript output to /tmp/gplt3-1698744-9228225-p.eps\n"
     ]
    }
   ],
   "source": [
    "%%bash\n",
    "gplt3 -U 'U_LL(M) U_CMD(M) U_Z2(M) U_Z3_k2(M) U_Z3_k3(M)' data/upsilon_error.dat -rx .3: -to data/picts/pict.pdf \n",
    "# gplt3 -U 'eta(M)' data/dat-right/SC-T0.1-tvals.dat -to data/picts/pict.pdf "
   ]
  },
  {
   "cell_type": "markdown",
   "metadata": {},
   "source": [
    "### Асимптотика при $\\left<m\\right> \\rightarrow 1$ "
   ]
  },
  {
   "cell_type": "code",
   "execution_count": null,
   "metadata": {},
   "outputs": [],
   "source": [
    "import scipy.optimize as opt"
   ]
  },
  {
   "cell_type": "code",
   "execution_count": null,
   "metadata": {},
   "outputs": [],
   "source": [
    "def find_coeffs_Z3(m, eta_ij, eta_ik):\n",
    "    if m == 1 or eta_ij == 1 or eta_ik == 1:\n",
    "        return np.nan, np.nan, np.nan, np.nan\n",
    "    if m == 0 or eta_ij == 0 or eta_ik == 0:\n",
    "        return np.nan, np.nan, np.nan, np.nan\n",
    "    \n",
    "    def func(x):\n",
    "        return [\n",
    "            Z3_module.calc_m_i_symmetrical_single(*x) - m,\n",
    "            Z3_module.calc_m_j_symmetrical_single(*x) - m,\n",
    "            Z3_module.calc_eta_ij_symmetrical_single(*x) - eta_ij,\n",
    "            Z3_module.calc_eta_ik_symmetrical_single(*x) - eta_ik,\n",
    "        ]\n",
    "\n",
    "    result = opt.fsolve(func, Z3_module.coeffs_symmetrical_approx(m, eta_ij, eta_ik), full_output=True)\n",
    "    if result[2] != 1:\n",
    "        return np.nan, np.nan, np.nan, np.nan\n",
    "    return result[0]"
   ]
  },
  {
   "cell_type": "code",
   "execution_count": null,
   "metadata": {},
   "outputs": [
    {
     "data": {
      "text/plain": [
       "(nan, nan, nan, nan)"
      ]
     },
     "execution_count": 61,
     "metadata": {},
     "output_type": "execute_result"
    }
   ],
   "source": [
    "find_coeffs_Z3(.5, .01, .01)"
   ]
  },
  {
   "cell_type": "code",
   "execution_count": null,
   "metadata": {},
   "outputs": [],
   "source": [
    "# %timeit Z3_module.find_coeffs_symmetrical_single(.1, .3, .4)\n",
    "# %timeit find_coeffs_Z3(.1, .3, .4)"
   ]
  },
  {
   "cell_type": "code",
   "execution_count": null,
   "metadata": {},
   "outputs": [],
   "source": [
    "def find_coeffs_Z2(m, eta):\n",
    "    if m == 1 or eta == 1:\n",
    "        return np.nan, np.nan\n",
    "    \n",
    "    def func(x):\n",
    "        h, l = x\n",
    "        return [\n",
    "            Z2_module.calc_m_symmetrical_single(h, l) - m,\n",
    "            Z2_module.calc_eta_symmetrical_single(h, l) - eta,\n",
    "        ]\n",
    "\n",
    "    result = opt.fsolve(func, Z2_module.coeffs_symmetrical_approx(m, eta), full_output=True)\n",
    "    if result[2] != 1:\n",
    "        return np.nan, np.nan\n",
    "    return result[0]"
   ]
  },
  {
   "cell_type": "code",
   "execution_count": null,
   "metadata": {},
   "outputs": [],
   "source": [
    "N = 32\n",
    "\n",
    "data_m = np.linspace(.99, 1, N)\n",
    "data_eta_ij = np.linspace(.99, 1, N)\n",
    "data_eta_ik = np.linspace(.99, 1, N)\n",
    "\n",
    "data_m, data_eta_ij, data_eta_ik = np.meshgrid(data_m, data_eta_ij, data_eta_ik)"
   ]
  },
  {
   "cell_type": "code",
   "execution_count": null,
   "metadata": {},
   "outputs": [],
   "source": [
    "data_h_i, data_h_j = np.empty_like(data_m), np.empty_like(data_m)\n",
    "data_l_ij, data_l_ik = np.empty_like(data_m), np.empty_like(data_m)\n",
    "\n",
    "for i in range(data_m.size):\n",
    "    result = find_coeffs_Z3(data_m.flat[i], data_eta_ij.flat[i], data_eta_ik.flat[i])\n",
    "    data_h_i.flat[i] = result[0]\n",
    "    data_h_j.flat[i] = result[1]\n",
    "    data_l_ij.flat[i] = result[2]\n",
    "    data_l_ik.flat[i] = result[3]"
   ]
  },
  {
   "cell_type": "code",
   "execution_count": null,
   "metadata": {},
   "outputs": [],
   "source": [
    "data_Z2_h_ij = np.empty_like(data_m)\n",
    "data_Z2_l_ij = np.empty_like(data_m)\n",
    "\n",
    "for i in range(data_m.size):\n",
    "    result = find_coeffs_Z2(data_m.flat[i], data_eta_ij.flat[i])\n",
    "    data_Z2_h_ij.flat[i] = result[0]\n",
    "    data_Z2_l_ij.flat[i] = result[1]\n",
    "\n",
    "\n",
    "data_Z2_h_ik = np.empty_like(data_m)\n",
    "data_Z2_l_ik = np.empty_like(data_m)\n",
    "\n",
    "for i in range(data_m.size):\n",
    "    result = find_coeffs_Z2(data_m.flat[i], data_eta_ik.flat[i])\n",
    "    data_Z2_h_ik.flat[i] = result[0]\n",
    "    data_Z2_l_ik.flat[i] = result[1]"
   ]
  },
  {
   "cell_type": "code",
   "execution_count": null,
   "metadata": {},
   "outputs": [],
   "source": [
    "data_eta2 = Z2_module.calc_eta2_symmetrical(data_Z2_h_ij, data_Z2_l_ij)"
   ]
  },
  {
   "cell_type": "code",
   "execution_count": null,
   "metadata": {},
   "outputs": [],
   "source": [
    "data_Q_star = Z3_module.calc_Q_star_symmetrical(data_m, data_eta_ij, data_eta_ik, data_h_i, data_h_j, data_l_ij, data_l_ik)\n",
    "data_Q = data_Q_star + 1 - data_eta2"
   ]
  },
  {
   "cell_type": "code",
   "execution_count": null,
   "metadata": {},
   "outputs": [],
   "source": [
    "def write_frame(file, name, array):  \n",
    "    file.write(f\"SCALARS {name} float 1\\n\")\n",
    "    file.write(\"LOOKUP_TABLE default\\n\")\n",
    "    for k in range(array.shape[2]):\n",
    "        for j in range(array.shape[1]):\n",
    "            for i in range(array.shape[0]):\n",
    "                value = array[j, i, k]\n",
    "                file.write(f\"{value}\\n\")\n",
    "\n",
    "file = open(\"data/Z3.vtk\", \"w\")\n",
    "file.write(\"# vtk DataFile Version 2.0\\n\")\n",
    "file.write(\"Z3\\n\")\n",
    "file.write(\"ASCII\\n\")\n",
    "file.write(\"DATASET STRUCTURED_POINTS\\n\")\n",
    "file.write(f\"DIMENSIONS {N} {N} {N}\\n\")\n",
    "file.write(f\"SPACING {.01/(N-1)} {.01/(N-1)} {.01/(N-1)}\\n\")\n",
    "file.write(f\"ORIGIN .99 .99 .99\\n\")\n",
    "file.write(f\"POINT_DATA {N**3}\\n\")\n",
    "\n",
    "write_frame(file, \"h_i\", data_h_i)\n",
    "write_frame(file, \"h_j\", data_h_j)\n",
    "write_frame(file, \"l_ij\", data_l_ij)\n",
    "write_frame(file, \"l_ik\", data_l_ik)\n",
    "\n",
    "write_frame(file, \"Q_star\", data_Q_star)\n",
    "write_frame(file, \"Q\", data_Q)\n",
    "\n",
    "file.close()"
   ]
  },
  {
   "cell_type": "code",
   "execution_count": null,
   "metadata": {},
   "outputs": [
    {
     "name": "stdout",
     "output_type": "stream",
     "text": [
      "data/Z3.vtk ==> data/Z3.msh ... \n",
      "  frame 0: size 32*32*32=32768\n",
      "  frame 0: step 0.000322581 0.000322581 0.000322581\n",
      "  frame 0: origin 0.99 0.99 0.99\n",
      "  frame 0: points 32768\n",
      "  frame 0: end of header, 14 lines\n",
      "  frame 0: nan+inf 20269\n",
      "  frame 1: end of header, 32787 lines\n",
      "  frame 1: nan+inf 20269\n",
      "  frame 2: end of header, 65560 lines\n",
      "  frame 2: nan+inf 20269\n",
      "  frame 3: end of header, 98333 lines\n",
      "  frame 3: nan+inf 20269\n",
      "  frame 4: end of header, 131106 lines\n",
      "  frame 4: nan+inf 20269\n",
      "  frame 5: end of header, 163879 lines\n",
      "  frame 5: nan+inf 20269\n",
      "  end of file, 196648 lines\n"
     ]
    }
   ],
   "source": [
    "%%bash\n",
    "vtk2msh data/Z3.vtk"
   ]
  },
  {
   "cell_type": "code",
   "execution_count": null,
   "metadata": {},
   "outputs": [
    {
     "data": {
      "text/plain": [
       "array([-3.82855050e-05,  1.33657070e-04, -1.97983886e+00,  9.94846533e-01])"
      ]
     },
     "execution_count": 125,
     "metadata": {},
     "output_type": "execute_result"
    }
   ],
   "source": [
    "variables = 1-data_m, 1-data_eta_ij, 1-data_eta_ik\n",
    "y_data = data_Q\n",
    "indexes_nans = np.logical_not(np.isnan(data_h_i))\n",
    "\n",
    "def func(_, *p_args, nans=True):    \n",
    "    result = p_args[0]\n",
    "    result += p_args[1]*variables[0] + p_args[2]*variables[1] + p_args[3]*variables[2]\n",
    "\n",
    "    if nans:\n",
    "        return result[indexes_nans].ravel()\n",
    "    else:\n",
    "        return result\n",
    "    \n",
    "\n",
    "p0 = [0] + 3*[1]\n",
    "p = opt.curve_fit(func, None, y_data[indexes_nans].ravel(), p0=p0)[0]\n",
    "p"
   ]
  },
  {
   "cell_type": "code",
   "execution_count": null,
   "metadata": {},
   "outputs": [],
   "source": [
    "# x = 1 - m\n",
    "# y = 1 - eta_ij\n",
    "# z = 1 - eta_ik\n",
    "\n",
    "# Q = -2y + z"
   ]
  }
 ],
 "metadata": {
  "kernelspec": {
   "display_name": "3.11.2",
   "language": "python",
   "name": "python3"
  },
  "language_info": {
   "codemirror_mode": {
    "name": "ipython",
    "version": 3
   },
   "file_extension": ".py",
   "mimetype": "text/x-python",
   "name": "python",
   "nbconvert_exporter": "python",
   "pygments_lexer": "ipython3",
   "version": "3.11.2"
  }
 },
 "nbformat": 4,
 "nbformat_minor": 2
}
