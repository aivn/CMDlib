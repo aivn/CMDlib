{
 "cells": [
  {
   "cell_type": "code",
   "execution_count": 1,
   "metadata": {},
   "outputs": [],
   "source": [
    "import sympy as sp\n",
    "from sympy import abc"
   ]
  },
  {
   "cell_type": "code",
   "execution_count": 2,
   "metadata": {},
   "outputs": [],
   "source": [
    "from scipy.integrate import quad\n",
    "from scipy.special import dawsn\n",
    "import numpy as np\n",
    "from functools import lru_cache\n",
    "import scipy.optimize as opt\n",
    "import numdifftools as nd"
   ]
  },
  {
   "cell_type": "markdown",
   "metadata": {},
   "source": [
    "# Ферромагнетик"
   ]
  },
  {
   "cell_type": "markdown",
   "metadata": {},
   "source": [
    "## Выражение для $Z^{(3)}$"
   ]
  },
  {
   "cell_type": "markdown",
   "metadata": {},
   "source": [
    "### Определения"
   ]
  },
  {
   "cell_type": "code",
   "execution_count": 3,
   "metadata": {},
   "outputs": [],
   "source": [
    "class SigmaSymbol(sp.Symbol):\n",
    "    def _latex(self, printer, exp=None):\n",
    "        if exp is None:\n",
    "            return self.name\n",
    "        else:\n",
    "            exp = printer.doprint(exp)\n",
    "            return f\"{self.name}^{exp}\"\n",
    "\n",
    "    def _eval_power(self, expt):\n",
    "        if expt.is_integer:\n",
    "            d, m = divmod(expt, 2)\n",
    "            return self**m\n",
    "\n",
    "\n",
    "SIGMAS = [-1, 1]"
   ]
  },
  {
   "cell_type": "markdown",
   "metadata": {},
   "source": [
    "### Аргументы"
   ]
  },
  {
   "cell_type": "code",
   "execution_count": 4,
   "metadata": {},
   "outputs": [],
   "source": [
    "h1, h2 = sp.symbols(\"h_1 h_2\", positive=True)\n",
    "p = sp.Symbol(\"p\", positive=True)\n",
    "l = sp.Symbol(\"\\\\lambda\", positive=True)\n",
    "l_ik = sp.Symbol(\"\\\\lambda_{ik}\", positive=True) \n",
    "s1, s2, s3 = SigmaSymbol(\"\\\\sigma_1\"), SigmaSymbol(\"\\\\sigma_2\"),  SigmaSymbol(\"\\\\sigma_3\")"
   ]
  },
  {
   "cell_type": "code",
   "execution_count": 5,
   "metadata": {},
   "outputs": [
    {
     "data": {
      "text/latex": [
       "$\\displaystyle - \\frac{\\sigma_1 \\sigma_2 \\lambda h_{1}}{h_{2}} + \\sigma_1 \\sigma_2 \\lambda_{ik} - \\frac{\\lambda h_{1}}{h_{2}} - \\frac{\\lambda h_{2}}{2 h_{1}} + t^{2} - \\frac{h_{1} h_{2}}{2 \\lambda}$"
      ],
      "text/plain": [
       "-\\sigma_1*\\sigma_2*\\lambda*h_1/h_2 + \\sigma_1*\\sigma_2*\\lambda_{ik} - \\lambda*h_1/h_2 - \\lambda*h_2/(2*h_1) + t**2 - h_1*h_2/(2*\\lambda)"
      ]
     },
     "metadata": {},
     "output_type": "display_data"
    },
    {
     "data": {
      "text/latex": [
       "$\\displaystyle - \\frac{\\sqrt{2} \\sigma_1 \\lambda h_{1}}{2 \\sqrt{\\lambda_{ik}} h_{2}} + \\frac{\\sqrt{2} \\sigma_1 \\sqrt{\\lambda_{ik}}}{2} - \\frac{\\sqrt{2} \\sigma_2 \\lambda h_{1}}{2 \\sqrt{\\lambda_{ik}} h_{2}} + \\frac{\\sqrt{2} \\sigma_2 \\sqrt{\\lambda_{ik}}}{2} + \\frac{\\sqrt{\\lambda} \\sqrt{h_{1}} t}{\\sqrt{\\lambda_{ik}} \\sqrt{h_{2}}}$"
      ],
      "text/plain": [
       "-sqrt(2)*\\sigma_1*\\lambda*h_1/(2*sqrt(\\lambda_{ik})*h_2) + sqrt(2)*\\sigma_1*sqrt(\\lambda_{ik})/2 - sqrt(2)*\\sigma_2*\\lambda*h_1/(2*sqrt(\\lambda_{ik})*h_2) + sqrt(2)*\\sigma_2*sqrt(\\lambda_{ik})/2 + sqrt(\\lambda)*sqrt(h_1)*t/(sqrt(\\lambda_{ik})*sqrt(h_2))"
      ]
     },
     "metadata": {},
     "output_type": "display_data"
    },
    {
     "data": {
      "text/latex": [
       "$\\displaystyle \\frac{\\sqrt{2} \\sqrt{h_{2}} \\left(\\sigma_3 \\lambda + \\frac{\\lambda h_{1} \\left(\\sigma_1 + \\sigma_2\\right)}{h_{2}} + h_{1}\\right)}{2 \\sqrt{\\lambda} \\sqrt{h_{1}}}$"
      ],
      "text/plain": [
       "sqrt(2)*sqrt(h_2)*(\\sigma_3*\\lambda + \\lambda*h_1*(\\sigma_1 + \\sigma_2)/h_2 + h_1)/(2*sqrt(\\lambda)*sqrt(h_1))"
      ]
     },
     "metadata": {},
     "output_type": "display_data"
    }
   ],
   "source": [
    "x, t = abc.x, abc.t\n",
    "arg_exp = h2*x\n",
    "arg_exp = arg_exp.replace(\n",
    "    x, sp.solve(sp.sqrt(h1**2+l**2+2*h1*l*x)-t, x)[0]\n",
    ").expand()\n",
    "arg_exp += (s1+s2)*t + s1*s2*l_ik\n",
    "expr_limit = h1+s3*l\n",
    "arg_F2 = (t+(s1+s2)*l_ik)/sp.sqrt(2*l_ik)\n",
    "\n",
    "arg_exp = arg_exp.replace(t, t-(s1+s2)*l*h1/h2).expand()\n",
    "arg_F2 = arg_F2.replace(t, t-(s1+s2)*l*h1/h2).expand()\n",
    "expr_limit += (s1+s2)*l*h1/h2\n",
    "\n",
    "arg_exp = arg_exp.replace(t, t*sp.sqrt(2*l*h1/h2)).expand()\n",
    "arg_F2 = arg_F2.replace(t, t*sp.sqrt(2*l*h1/h2)).expand()\n",
    "expr_limit /= sp.sqrt(2*l*h1/h2)\n",
    "\n",
    "display(arg_exp)\n",
    "display(arg_F2)\n",
    "display(expr_limit)"
   ]
  },
  {
   "cell_type": "code",
   "execution_count": 6,
   "metadata": {},
   "outputs": [
    {
     "data": {
      "text/latex": [
       "$\\displaystyle \\sigma_1 \\sigma_2 \\lambda_{ik} + \\sigma_1 \\sigma_3 \\lambda + \\sigma_1 h_{1} + \\sigma_2 \\sigma_3 \\lambda + \\sigma_2 h_{1} + \\sigma_3 h_{2}$"
      ],
      "text/plain": [
       "\\sigma_1*\\sigma_2*\\lambda_{ik} + \\sigma_1*\\sigma_3*\\lambda + \\sigma_1*h_1 + \\sigma_2*\\sigma_3*\\lambda + \\sigma_2*h_1 + \\sigma_3*h_2"
      ]
     },
     "metadata": {},
     "output_type": "display_data"
    }
   ],
   "source": [
    "arg_exp -= t**2\n",
    "arg_exp += expr_limit**2\n",
    "arg_exp = arg_exp.expand()\n",
    "display(arg_exp)"
   ]
  },
  {
   "cell_type": "markdown",
   "metadata": {},
   "source": [
    "### Производные $F^{(3)}$"
   ]
  },
  {
   "cell_type": "code",
   "execution_count": 7,
   "metadata": {},
   "outputs": [],
   "source": [
    "class F2Function(sp.Function):\n",
    "    def _latex(self, printer, exp=None):\n",
    "        arg = printer.doprint(self.args[0])\n",
    "        if exp is None:\n",
    "            return \"F^{(2)}\"+f\"\\\\left({arg}\\\\right)\"\n",
    "        else:\n",
    "            exp = printer.doprint(exp)\n",
    "            return f\"\\\\left({self._latex(printer)}\\\\right)^{exp}\"\n",
    "\n",
    "    def fdiff(self, argindex=1):\n",
    "        return 1-2*self.args[0]*F2Function(self.args[0])\n",
    "    \n",
    "    def _eval_rewrite(self, rule, args, **hints):\n",
    "        x, = args\n",
    "        if rule == sp.erfi:\n",
    "            return sp.sqrt(sp.pi)/2*sp.exp(-x**2)*sp.erfi(x)"
   ]
  },
  {
   "cell_type": "code",
   "execution_count": 8,
   "metadata": {},
   "outputs": [],
   "source": [
    "t, x, a, b = abc.t, abc.x, abc.a, abc.b"
   ]
  },
  {
   "cell_type": "code",
   "execution_count": 9,
   "metadata": {},
   "outputs": [
    {
     "data": {
      "text/latex": [
       "$\\displaystyle - 2 a^{2} t F^{(2)}\\left(a t + b\\right) - 2 a b F^{(2)}\\left(a t + b\\right) + a$"
      ],
      "text/plain": [
       "-2*a**2*t*F2Function(a*t + b) - 2*a*b*F2Function(a*t + b) + a"
      ]
     },
     "execution_count": 9,
     "metadata": {},
     "output_type": "execute_result"
    }
   ],
   "source": [
    "F2Function(a*t+b).diff(t).expand()"
   ]
  },
  {
   "cell_type": "code",
   "execution_count": 10,
   "metadata": {},
   "outputs": [],
   "source": [
    "def get_I2_n(x, n):\n",
    "    \"\"\"I^{(2)}_n(x)\"\"\"\n",
    "    _expr_n_0 = 1/sp.sqrt(a)*F2Function(sp.sqrt(a)*x)*sp.exp(x**2*(a-1))\n",
    "    _expr_n_1 = 1/(2*a)*sp.exp(-x**2)*(sp.exp(x**2*a)-1)\n",
    "\n",
    "    k = n // 2\n",
    "    if n % 2 == 0:\n",
    "        return _expr_n_0.diff(a, k).replace(a, 1).expand()\n",
    "    else:\n",
    "        return _expr_n_1.diff(a, k).replace(a, 1).expand()"
   ]
  },
  {
   "cell_type": "code",
   "execution_count": 11,
   "metadata": {},
   "outputs": [
    {
     "data": {
      "text/latex": [
       "$\\displaystyle \\frac{x}{2} - \\frac{F^{(2)}\\left(x\\right)}{2}$"
      ],
      "text/plain": [
       "x/2 - F2Function(x)/2"
      ]
     },
     "execution_count": 11,
     "metadata": {},
     "output_type": "execute_result"
    }
   ],
   "source": [
    "get_I2_n(x, 2)"
   ]
  },
  {
   "cell_type": "code",
   "execution_count": 12,
   "metadata": {},
   "outputs": [],
   "source": [
    "class F3Function(sp.Function):\n",
    "    def _latex(self, printer, exp=None):\n",
    "        arg1, arg2, arg3 = list(map(printer.doprint, self.args))\n",
    "        return \"F^{(3)}\"+f\"\\\\left({arg1} \\, | \\, {arg2}, {arg3} \\\\right)\" "
   ]
  },
  {
   "cell_type": "code",
   "execution_count": 13,
   "metadata": {},
   "outputs": [],
   "source": [
    "def get_I3_n(x, a, b, n):\n",
    "    \"\"\"I^{(3)}_n(x, a, b)\"\"\"\n",
    "    if a == 1:\n",
    "        if b == 0:\n",
    "            result = x**(n+1)*F2Function(x)\n",
    "            result -= get_I2_n(x, n+1)\n",
    "            return result/(n+1)\n",
    "\n",
    "        # b != 0\n",
    "        result = -x**n*F2Function(x+b)\n",
    "        result += get_I2_n(x, n)\n",
    "\n",
    "        if n == 0:\n",
    "            result += sp.exp(-x**2)*F2Function(b)\n",
    "        if n != 0:\n",
    "            result += n*get_I3_n(x, a, b, n-1)\n",
    "\n",
    "        return result/(2*b)\n",
    "\n",
    "    # a != 1, b != 0\n",
    "    if n == 0:\n",
    "        return F3Function(x, a, b)\n",
    "\n",
    "    result = x**(n-1)*F2Function(a*x+b)\n",
    "    result -= a*get_I2_n(x, n-1)\n",
    "    result += 2*a*b*get_I3_n(x, a, b, n-1)\n",
    "\n",
    "    if n == 1:\n",
    "        result -= sp.exp(-x**2)*F2Function(b)\n",
    "    if n != 1:\n",
    "        result -= (n-1)*get_I3_n(x, a, b, n-2)\n",
    "    \n",
    "    return result/(2*(1-a**2))"
   ]
  },
  {
   "cell_type": "code",
   "execution_count": 14,
   "metadata": {},
   "outputs": [
    {
     "data": {
      "text/latex": [
       "$\\displaystyle x F^{(2)}\\left(x\\right) - \\frac{1}{2} + \\frac{e^{- x^{2}}}{2}$"
      ],
      "text/plain": [
       "x*F2Function(x) - 1/2 + exp(-x**2)/2"
      ]
     },
     "execution_count": 14,
     "metadata": {},
     "output_type": "execute_result"
    }
   ],
   "source": [
    "get_I3_n(x, 1, 0, 0).expand()"
   ]
  },
  {
   "cell_type": "code",
   "execution_count": 15,
   "metadata": {},
   "outputs": [
    {
     "name": "stdout",
     "output_type": "stream",
     "text": [
      "- a F^{(2)}\\left(b\\right) e^{- x^{2}} + a F^{(2)}\\left(a x + b\\right) + 2 b F^{(3)}\\left(x \\, | \\, a, b \\right) - F^{(2)}\\left(x\\right)\n",
      "a^{2} - 1\n"
     ]
    },
    {
     "data": {
      "text/latex": [
       "$\\displaystyle - a F^{(2)}\\left(b\\right) e^{- x^{2}} + a F^{(2)}\\left(a x + b\\right) + 2 b F^{(3)}\\left(x \\, | \\, a, b \\right) - F^{(2)}\\left(x\\right)$"
      ],
      "text/plain": [
       "-a*F2Function(b)*exp(-x**2) + a*F2Function(a*x + b) + 2*b*F3Function(x, a, b) - F2Function(x)"
      ]
     },
     "metadata": {},
     "output_type": "display_data"
    },
    {
     "data": {
      "text/latex": [
       "$\\displaystyle a^{2} - 1$"
      ],
      "text/plain": [
       "a**2 - 1"
      ]
     },
     "metadata": {},
     "output_type": "display_data"
    },
    {
     "name": "stdout",
     "output_type": "stream",
     "text": [
      "expr_F3_diff_b =  -a*F2Function(b)*exp(-x**2) + a*F2Function(a*x + b) + 2*b*F3Function(x, a, b) - F2Function(x)\n",
      "expr_F3_diff_b_factor =  a**2 - 1\n"
     ]
    }
   ],
   "source": [
    "expr_F3_diff_b = -2*a*get_I3_n(x, a, b, 1)-2*b*get_I3_n(x, a, b, 0)+get_I2_n(x, 0)\n",
    "expr_F3_diff_b = expr_F3_diff_b.simplify()\n",
    "\n",
    "expr_F3_diff_b_factor = a**2-1\n",
    "expr_F3_diff_b = (expr_F3_diff_b*expr_F3_diff_b_factor).expand()\n",
    " \n",
    "sp.print_latex(expr_F3_diff_b)\n",
    "sp.print_latex(expr_F3_diff_b_factor)\n",
    "display(expr_F3_diff_b)\n",
    "display(expr_F3_diff_b_factor)\n",
    "print(\"expr_F3_diff_b = \", expr_F3_diff_b)\n",
    "print(\"expr_F3_diff_b_factor = \", expr_F3_diff_b_factor)"
   ]
  },
  {
   "cell_type": "code",
   "execution_count": 16,
   "metadata": {},
   "outputs": [
    {
     "name": "stdout",
     "output_type": "stream",
     "text": [
      "- \\frac{a^{2}}{2} + a b F^{(2)}\\left(x\\right) + b F^{(2)}\\left(b\\right) e^{- x^{2}} + \\left(\\frac{a^{2}}{2} - \\frac{1}{2}\\right) e^{- x^{2}} + \\left(- a^{3} - 2 a b^{2} + a\\right) F^{(3)}\\left(x \\, | \\, a, b \\right) + \\left(a^{3} x - a x - b\\right) F^{(2)}\\left(a x + b\\right) + \\frac{1}{2}\n",
      "\\left(a^{2} - 1\\right)^{2}\n"
     ]
    },
    {
     "data": {
      "text/latex": [
       "$\\displaystyle - \\frac{a^{2}}{2} + a b F^{(2)}\\left(x\\right) + b F^{(2)}\\left(b\\right) e^{- x^{2}} + \\left(\\frac{a^{2}}{2} - \\frac{1}{2}\\right) e^{- x^{2}} + \\left(- a^{3} - 2 a b^{2} + a\\right) F^{(3)}\\left(x \\, | \\, a, b \\right) + \\left(a^{3} x - a x - b\\right) F^{(2)}\\left(a x + b\\right) + \\frac{1}{2}$"
      ],
      "text/plain": [
       "-a**2/2 + a*b*F2Function(x) + b*F2Function(b)*exp(-x**2) + (a**2/2 - 1/2)*exp(-x**2) + (-a**3 - 2*a*b**2 + a)*F3Function(x, a, b) + (a**3*x - a*x - b)*F2Function(a*x + b) + 1/2"
      ]
     },
     "metadata": {},
     "output_type": "display_data"
    },
    {
     "data": {
      "text/latex": [
       "$\\displaystyle \\left(a^{2} - 1\\right)^{2}$"
      ],
      "text/plain": [
       "(a**2 - 1)**2"
      ]
     },
     "metadata": {},
     "output_type": "display_data"
    },
    {
     "name": "stdout",
     "output_type": "stream",
     "text": [
      "expr_F3_diff_a =  -a**2/2 + a*b*F2Function(x) + b*F2Function(b)*exp(-x**2) + (a**2/2 - 1/2)*exp(-x**2) + (-a**3 - 2*a*b**2 + a)*F3Function(x, a, b) + (a**3*x - a*x - b)*F2Function(a*x + b) + 1/2\n",
      "expr_F3_diff_a_factor =  (a**2 - 1)**2\n"
     ]
    }
   ],
   "source": [
    "expr_F3_diff_a = -2*a*get_I3_n(x, a, b, 2)-2*b*get_I3_n(x, a, b, 1)+get_I2_n(x, 1)\n",
    "expr_F3_diff_a = expr_F3_diff_a.expand().simplify()\n",
    "\n",
    "expr_F3_diff_a_factor = (a**2-1)**2\n",
    "expr_F3_diff_a = (expr_F3_diff_a*expr_F3_diff_a_factor).expand()\n",
    "expr_F3_diff_a = expr_F3_diff_a.expand()\n",
    "\n",
    "like_terms = [\n",
    "    F3Function(x, a, b), F2Function(x), F2Function(a*x+b), \n",
    "    F2Function(b)*sp.exp(-x**2), sp.exp(-x**2)\n",
    "]\n",
    "expr_F3_diff_a = sp.collect(expr_F3_diff_a, like_terms)\n",
    "\n",
    "sp.print_latex(expr_F3_diff_a)\n",
    "sp.print_latex(expr_F3_diff_a_factor)\n",
    "display(expr_F3_diff_a)\n",
    "display(expr_F3_diff_a_factor)\n",
    "print(\"expr_F3_diff_a = \", expr_F3_diff_a)\n",
    "print(\"expr_F3_diff_a_factor = \", expr_F3_diff_a_factor)\n"
   ]
  },
  {
   "cell_type": "code",
   "execution_count": 17,
   "metadata": {},
   "outputs": [],
   "source": [
    "class F3Function(sp.Function):\n",
    "    def _latex(self, printer, exp=None):\n",
    "        arg1, arg2, arg3 = list(map(printer.doprint, self.args))\n",
    "        return \"F^{(3)}\"+f\"\\\\left({arg1} \\, | \\, {arg2}, {arg3} \\\\right)\" \n",
    "\n",
    "    def fdiff(self, argindex=1):\n",
    "        x, a, b = self.args\n",
    "\n",
    "        if argindex == 1:\n",
    "            return F2Function(a*x+b)-2*x*F3Function(*self.args)\n",
    "\n",
    "        if argindex == 2:\n",
    "            expr_F3_diff_a_factor =  (a**2 - 1)**2\n",
    "            expr_F3_diff_a = -a**2/2 + sp.Rational(1, 2)\n",
    "            expr_F3_diff_a += a*b*F2Function(x) \n",
    "            expr_F3_diff_a += b*F2Function(b)*sp.exp(-x**2) \n",
    "            expr_F3_diff_a += (a**2/2 - sp.Rational(1, 2))*sp.exp(-x**2) \n",
    "            expr_F3_diff_a += (-a**3 - 2*a*b**2 + a)*F3Function(x, a, b) \n",
    "            expr_F3_diff_a += (a**3*x - a*x - b)*F2Function(a*x + b)\n",
    "            return expr_F3_diff_a/expr_F3_diff_a_factor\n",
    "        \n",
    "        if argindex == 3:\n",
    "            expr_F3_diff_b_factor =  a**2 - 1\n",
    "            expr_F3_diff_b =  -a*F2Function(b)*sp.exp(-x**2) \n",
    "            expr_F3_diff_b += a*F2Function(a*x + b) \n",
    "            expr_F3_diff_b += 2*b*F3Function(x, a, b) \n",
    "            expr_F3_diff_b -= F2Function(x)\n",
    "            return expr_F3_diff_b/expr_F3_diff_b_factor  "
   ]
  },
  {
   "cell_type": "code",
   "execution_count": 18,
   "metadata": {},
   "outputs": [
    {
     "data": {
      "text/latex": [
       "$\\displaystyle \\frac{- a F^{(2)}\\left(b\\right) e^{- x^{2}} + a F^{(2)}\\left(a x + b\\right) + 2 b F^{(3)}\\left(x \\, | \\, a, b \\right) - F^{(2)}\\left(x\\right)}{a^{2} - 1}$"
      ],
      "text/plain": [
       "(-a*F2Function(b)*exp(-x**2) + a*F2Function(a*x + b) + 2*b*F3Function(x, a, b) - F2Function(x))/(a**2 - 1)"
      ]
     },
     "execution_count": 18,
     "metadata": {},
     "output_type": "execute_result"
    }
   ],
   "source": [
    "F3Function(x, a, b).diff(b)"
   ]
  },
  {
   "cell_type": "code",
   "execution_count": 19,
   "metadata": {},
   "outputs": [
    {
     "data": {
      "text/latex": [
       "$\\displaystyle \\frac{- \\frac{a^{2}}{2} + a b F^{(2)}\\left(x\\right) + b F^{(2)}\\left(b\\right) e^{- x^{2}} + \\left(\\frac{a^{2}}{2} - \\frac{1}{2}\\right) e^{- x^{2}} + \\left(- a^{3} - 2 a b^{2} + a\\right) F^{(3)}\\left(x \\, | \\, a, b \\right) + \\left(a^{3} x - a x - b\\right) F^{(2)}\\left(a x + b\\right) + \\frac{1}{2}}{\\left(a^{2} - 1\\right)^{2}}$"
      ],
      "text/plain": [
       "(-a**2/2 + a*b*F2Function(x) + b*F2Function(b)*exp(-x**2) + (a**2/2 - 1/2)*exp(-x**2) + (-a**3 - 2*a*b**2 + a)*F3Function(x, a, b) + (a**3*x - a*x - b)*F2Function(a*x + b) + 1/2)/(a**2 - 1)**2"
      ]
     },
     "execution_count": 19,
     "metadata": {},
     "output_type": "execute_result"
    }
   ],
   "source": [
    "F3Function(x, a, b).diff(a)"
   ]
  },
  {
   "cell_type": "code",
   "execution_count": 20,
   "metadata": {},
   "outputs": [
    {
     "name": "stdout",
     "output_type": "stream",
     "text": [
      "\\frac{x}{2} + \\left(\\frac{1}{2} - x^{2}\\right) F^{(2)}\\left(x\\right)\n"
     ]
    },
    {
     "data": {
      "text/latex": [
       "$\\displaystyle \\frac{x}{2} + \\left(\\frac{1}{2} - x^{2}\\right) F^{(2)}\\left(x\\right)$"
      ],
      "text/plain": [
       "x/2 + (1/2 - x**2)*F2Function(x)"
      ]
     },
     "metadata": {},
     "output_type": "display_data"
    },
    {
     "name": "stdout",
     "output_type": "stream",
     "text": [
      "expr_F3_diff_b =  x/2 + (1/2 - x**2)*F2Function(x)\n"
     ]
    }
   ],
   "source": [
    "expr_F3_diff_b_degenerate = -2*get_I3_n(x, 1, 0, 1)+get_I2_n(x, 0)\n",
    "expr_F3_diff_b_degenerate = expr_F3_diff_b_degenerate.simplify()\n",
    "expr_F3_diff_b_degenerate = sp.collect(expr_F3_diff_b_degenerate, F2Function(x))\n",
    " \n",
    "sp.print_latex(expr_F3_diff_b_degenerate)\n",
    "display(expr_F3_diff_b_degenerate)\n",
    "print(\"expr_F3_diff_b = \", expr_F3_diff_b_degenerate)"
   ]
  },
  {
   "cell_type": "code",
   "execution_count": 21,
   "metadata": {},
   "outputs": [
    {
     "name": "stdout",
     "output_type": "stream",
     "text": [
      "\\frac{x^{2} \\left(- 2 x F^{(2)}\\left(x\\right) + 1\\right)}{3} + \\frac{1}{6} - \\frac{e^{- x^{2}}}{6}\n"
     ]
    },
    {
     "data": {
      "text/latex": [
       "$\\displaystyle \\frac{x^{2} \\left(- 2 x F^{(2)}\\left(x\\right) + 1\\right)}{3} + \\frac{1}{6} - \\frac{e^{- x^{2}}}{6}$"
      ],
      "text/plain": [
       "x**2*(-2*x*F2Function(x) + 1)/3 + 1/6 - exp(-x**2)/6"
      ]
     },
     "metadata": {},
     "output_type": "display_data"
    },
    {
     "name": "stdout",
     "output_type": "stream",
     "text": [
      "expr_F3_diff_a =  x**2*(-2*x*F2Function(x) + 1)/3 + 1/6 - exp(-x**2)/6\n"
     ]
    }
   ],
   "source": [
    "expr_F3_diff_a_degenerate = -2*get_I3_n(x, 1, 0, 2)+get_I2_n(x, 1)\n",
    "expr_F3_diff_a_degenerate = expr_F3_diff_a_degenerate.simplify()\n",
    "expr_F3_diff_a_degenerate = sp.collect(expr_F3_diff_a_degenerate, [x**2/3])\n",
    " \n",
    "sp.print_latex(expr_F3_diff_a_degenerate)\n",
    "display(expr_F3_diff_a_degenerate)\n",
    "print(\"expr_F3_diff_a = \", expr_F3_diff_a_degenerate)"
   ]
  },
  {
   "cell_type": "code",
   "execution_count": 22,
   "metadata": {},
   "outputs": [],
   "source": [
    "class F3Function_degenerate(sp.Function):\n",
    "    def _latex(self, printer, exp=None):\n",
    "        arg1, arg2, arg3 = list(map(printer.doprint, self.args))\n",
    "        return \"F^{(3)}\"+f\"\\\\left({arg1} \\, | \\, {arg2}, {arg3} \\\\right)\" \n",
    "\n",
    "    def fdiff(self, argindex=1):\n",
    "        x, a, b = self.args\n",
    "\n",
    "        if argindex == 1:\n",
    "            return (F2Function(a*x+b)-2*x*F3Function_degenerate(x, a, b)).doit()\n",
    "\n",
    "        if argindex == 2:\n",
    "            expr_F3_diff_a =  x**2*(1 - 2*x*F2Function(x))/3 + (1 - sp.exp(-x**2))/6\n",
    "            return expr_F3_diff_a.doit()\n",
    "        \n",
    "        if argindex == 3:\n",
    "            expr_F3_diff_b =  x/2 + (sp.Rational(1, 2) - x**2)*F2Function(x)\n",
    "            return expr_F3_diff_b .doit()\n",
    "\n",
    "    def doit(self):\n",
    "        x = self.args[0]\n",
    "        return x*F2Function(x) - (1-sp.exp(-x**2))/2"
   ]
  },
  {
   "cell_type": "code",
   "execution_count": 23,
   "metadata": {},
   "outputs": [
    {
     "data": {
      "text/latex": [
       "$\\displaystyle - 2 x \\left(x F^{(2)}\\left(x\\right) - \\frac{1}{2} + \\frac{e^{- x^{2}}}{2}\\right) + F^{(2)}\\left(a x + b\\right)$"
      ],
      "text/plain": [
       "-2*x*(x*F2Function(x) - 1/2 + exp(-x**2)/2) + F2Function(a*x + b)"
      ]
     },
     "execution_count": 23,
     "metadata": {},
     "output_type": "execute_result"
    }
   ],
   "source": [
    "F3Function_degenerate(x, a, b).diff(x).doit()"
   ]
  },
  {
   "cell_type": "markdown",
   "metadata": {},
   "source": [
    "### Производные $\\cal F^{(3)}$"
   ]
  },
  {
   "cell_type": "code",
   "execution_count": 24,
   "metadata": {},
   "outputs": [],
   "source": [
    "arg_x = (h1+s3*l+(s1+s2)*h1/h2*l)/sp.sqrt(2*h1/h2*l)\n",
    "arg_a = sp.sqrt(h1/h2*l)/sp.sqrt(l_ik)\n",
    "arg_b = (s1+s2)/sp.sqrt(2*l_ik)*(l_ik-h1/h2*l)\n",
    "arg_expr = s3*h2+s1*s2*l_ik+(s1+s2)*(h1+s3*l)"
   ]
  },
  {
   "cell_type": "code",
   "execution_count": 25,
   "metadata": {},
   "outputs": [
    {
     "data": {
      "text/latex": [
       "$\\displaystyle \\frac{\\sqrt{2} \\left(\\sigma_1 \\lambda_{ik} + \\sigma_2 \\lambda_{ik} + \\sigma_3 \\lambda + h_{1}\\right)}{2 \\sqrt{\\lambda_{ik}}}$"
      ],
      "text/plain": [
       "sqrt(2)*(\\sigma_1*\\lambda_{ik} + \\sigma_2*\\lambda_{ik} + \\sigma_3*\\lambda + h_1)/(2*sqrt(\\lambda_{ik}))"
      ]
     },
     "execution_count": 25,
     "metadata": {},
     "output_type": "execute_result"
    }
   ],
   "source": [
    "expr = arg_x*arg_a+arg_b\n",
    "expr.factor()"
   ]
  },
  {
   "cell_type": "code",
   "execution_count": 26,
   "metadata": {},
   "outputs": [
    {
     "data": {
      "text/latex": [
       "$\\displaystyle - \\frac{\\sigma_1 \\sigma_2 \\lambda h_{1}}{h_{2}} + \\sigma_1 \\sigma_2 \\lambda_{ik} - \\frac{\\lambda h_{1}}{h_{2}} - \\frac{\\lambda h_{2}}{2 h_{1}} - \\frac{h_{1} h_{2}}{2 \\lambda}$"
      ],
      "text/plain": [
       "-\\sigma_1*\\sigma_2*\\lambda*h_1/h_2 + \\sigma_1*\\sigma_2*\\lambda_{ik} - \\lambda*h_1/h_2 - \\lambda*h_2/(2*h_1) - h_1*h_2/(2*\\lambda)"
      ]
     },
     "execution_count": 26,
     "metadata": {},
     "output_type": "execute_result"
    }
   ],
   "source": [
    "expr = arg_expr-arg_x**2\n",
    "expr = expr.expand()\n",
    "expr"
   ]
  },
  {
   "cell_type": "code",
   "execution_count": 27,
   "metadata": {},
   "outputs": [],
   "source": [
    "_sub_expr_E = sp.exp(arg_expr).expand()\n",
    "_sub_expr_F = F2Function(arg_x).expand()\n",
    "_sub_expr_F_tilde = F2Function(arg_x*arg_a+arg_b).expand()\n",
    "_sub_expr_cF3 = F3Function(arg_x, arg_a, arg_b).expand()\n",
    "_sub_expr_cF3_degenerate = F3Function_degenerate(arg_x, arg_a, arg_b).expand()\n",
    "\n",
    "_dummy_subs = {\n",
    "    _sub_expr_E*_sub_expr_cF3: sp.Dummy(),\n",
    "    _sub_expr_E*_sub_expr_F: sp.Dummy(),\n",
    "    _sub_expr_E*_sub_expr_F_tilde: sp.Dummy(),\n",
    "    _sub_expr_E: sp.Dummy()\n",
    "}\n",
    "\n",
    "\n",
    "def sigmas_sum(expr):\n",
    "    expr = expr.expand().subs(_dummy_subs)\n",
    "\n",
    "    terms = sp.collect(expr, _dummy_subs.values(), evaluate=False)\n",
    "    for dummy in _dummy_subs.values():\n",
    "        if dummy in terms:\n",
    "            terms[dummy] = sp.Poly(terms[dummy], [s1, s2, s3]).as_dict()\n",
    "    for key, dummy in _dummy_subs.items():\n",
    "        if dummy in terms:\n",
    "            terms[key] = terms.pop(dummy)\n",
    "\n",
    "    return terms"
   ]
  },
  {
   "cell_type": "code",
   "execution_count": 28,
   "metadata": {},
   "outputs": [],
   "source": [
    "class Z3SigmasFunctionBase(sp.Function):\n",
    "    def __init__(self, name, *args, **kwargs):\n",
    "        self.name = name\n",
    "\n",
    "    def _latex(self, printer, exp=None):\n",
    "        args = list(map(printer.doprint, self.args[:4]))\n",
    "        args = f\"\\\\left({args[0]}, {args[1]}, {args[2]}, {args[3]}\\\\right)\"\n",
    "\n",
    "        indexes = \"\"\n",
    "        for i, item in enumerate(self.args[4:]):\n",
    "            if item:\n",
    "                indexes += str(i+1)\n",
    "        name = f\"{self.name}\"+\"_{\" + indexes + \"}\"\n",
    "\n",
    "        if exp is None:\n",
    "            return name+args\n",
    "        else:\n",
    "            exp = printer.doprint(exp)\n",
    "            return f\"{name}^{exp}\"+args\n",
    "\n",
    "    def get_sigmas_factor(self):\n",
    "        factor = 1\n",
    "        if self.args[4]:\n",
    "            factor *= s1\n",
    "        if self.args[5]:\n",
    "            factor *= s2\n",
    "        if self.args[6]:\n",
    "            factor *= s3\n",
    "        return factor"
   ]
  },
  {
   "cell_type": "code",
   "execution_count": 29,
   "metadata": {},
   "outputs": [],
   "source": [
    "class EFunction(Z3SigmasFunctionBase):\n",
    "    def __init__(self, *args, **kwargs):\n",
    "        super().__init__(\"{\\\\cal E}\", *args, **kwargs)\n",
    "\n",
    "    def fdiff(self, argindex=1):\n",
    "        factor = self.get_sigmas_factor()\n",
    "        expr = (factor*_sub_expr_E).diff([h1, h2, l, l_ik][argindex-1])\n",
    "        terms = sigmas_sum(expr)\n",
    "\n",
    "        subs = dict(zip([h1, h2, l, l_ik], self.args[:4]))\n",
    "\n",
    "        result = 0\n",
    "        for key, item in terms[_sub_expr_E].items():\n",
    "            result += item.subs(subs)*EFunction(*self.args[:4], *key)\n",
    "\n",
    "        return result\n",
    "\n",
    "    @classmethod\n",
    "    def eval(cls, *args):\n",
    "        if (not args[4]) and args[5]:\n",
    "            return EFunction(*args[:4], 1, 0, args[-1])"
   ]
  },
  {
   "cell_type": "code",
   "execution_count": 30,
   "metadata": {},
   "outputs": [
    {
     "data": {
      "text/latex": [
       "$\\displaystyle 2 {\\cal E}_{13}\\left(h_{1}, h_{2}, \\lambda, \\lambda_{ik}\\right)$"
      ],
      "text/plain": [
       "2*EFunction(h_1, h_2, \\lambda, \\lambda_{ik}, 1, 0, 1)"
      ]
     },
     "execution_count": 30,
     "metadata": {},
     "output_type": "execute_result"
    }
   ],
   "source": [
    "EFunction(h1, h2, l, l_ik, 1, 1, 1).diff(h1)"
   ]
  },
  {
   "cell_type": "code",
   "execution_count": 31,
   "metadata": {},
   "outputs": [],
   "source": [
    "class FFunction(Z3SigmasFunctionBase):\n",
    "    def __init__(self, *args, **kwargs):\n",
    "        super().__init__(\"{\\\\cal F}\", *args, **kwargs)\n",
    "\n",
    "    def fdiff(self, argindex=1):\n",
    "        factor = self.get_sigmas_factor()\n",
    "        expr = (factor*_sub_expr_E*_sub_expr_F).diff([h1, h2, l, l_ik][argindex-1])\n",
    "        terms = sigmas_sum(expr)\n",
    "\n",
    "        subs = dict(zip([h1, h2, l, l_ik], self.args[:4]))\n",
    "\n",
    "        result = 0\n",
    "        if _sub_expr_E in terms:\n",
    "            for key, item in terms[_sub_expr_E].items():\n",
    "                result += item.subs(subs)*EFunction(*self.args[:4], *key)\n",
    "\n",
    "        for key, item in terms[_sub_expr_E*_sub_expr_F].items():\n",
    "            result += item.subs(subs)*FFunction(*self.args[:4], *key)\n",
    "\n",
    "        return result\n",
    "\n",
    "    @classmethod\n",
    "    def eval(cls, *args):\n",
    "        if (not args[4]) and args[5]:\n",
    "            return FFunction(*args[:4], 1, 0, args[-1])"
   ]
  },
  {
   "cell_type": "code",
   "execution_count": 32,
   "metadata": {},
   "outputs": [
    {
     "data": {
      "text/latex": [
       "$\\displaystyle {\\cal F}_{3}\\left(h_{1}, h_{2}, \\lambda, \\lambda_{ik}\\right)$"
      ],
      "text/plain": [
       "FFunction(h_1, h_2, \\lambda, \\lambda_{ik}, 0, 0, 1)"
      ]
     },
     "execution_count": 32,
     "metadata": {},
     "output_type": "execute_result"
    }
   ],
   "source": [
    "FFunction(h1, h2, l, l_ik, 1, 1, 1).diff(l_ik)"
   ]
  },
  {
   "cell_type": "code",
   "execution_count": 33,
   "metadata": {},
   "outputs": [],
   "source": [
    "class FTildeFunction(Z3SigmasFunctionBase):\n",
    "    def __init__(self, *args, **kwargs):\n",
    "        super().__init__( \"\\\\tilde{\\\\cal F}\", *args, **kwargs)\n",
    "\n",
    "    def fdiff(self, argindex=1):\n",
    "        factor = self.get_sigmas_factor()\n",
    "        expr = (factor*_sub_expr_E*_sub_expr_F_tilde).diff([h1, h2, l, l_ik][argindex-1])\n",
    "        terms = sigmas_sum(expr)\n",
    "\n",
    "        subs = dict(zip([h1, h2, l, l_ik], self.args[:4]))\n",
    "\n",
    "        result = 0\n",
    "        if _sub_expr_E in terms:\n",
    "            for key, item in terms[_sub_expr_E].items():\n",
    "                result += item.subs(subs)*EFunction(*self.args[:4], *key)\n",
    "\n",
    "        for key, item in terms[_sub_expr_E*_sub_expr_F_tilde].items():\n",
    "            result += item.subs(subs)*FTildeFunction(*self.args[:4], *key)\n",
    "\n",
    "        return result\n",
    "\n",
    "    @classmethod\n",
    "    def eval(cls, *args):\n",
    "        if (not args[4]) and args[5]:\n",
    "            return FTildeFunction(*args[:4], 1, 0, args[-1])"
   ]
  },
  {
   "cell_type": "code",
   "execution_count": 34,
   "metadata": {},
   "outputs": [
    {
     "data": {
      "text/latex": [
       "$\\displaystyle - \\frac{\\lambda \\tilde{\\cal F}_{12}\\left(h_{1}, h_{2}, \\lambda, \\lambda_{ik}\\right)}{\\lambda_{ik}} - \\frac{h_{1} \\tilde{\\cal F}_{123}\\left(h_{1}, h_{2}, \\lambda, \\lambda_{ik}\\right)}{\\lambda_{ik}} + \\frac{\\sqrt{2} {\\cal E}_{123}\\left(h_{1}, h_{2}, \\lambda, \\lambda_{ik}\\right)}{2 \\sqrt{\\lambda_{ik}}}$"
      ],
      "text/plain": [
       "-\\lambda*FTildeFunction(h_1, h_2, \\lambda, \\lambda_{ik}, 1, 1, 0)/\\lambda_{ik} - h_1*FTildeFunction(h_1, h_2, \\lambda, \\lambda_{ik}, 1, 1, 1)/\\lambda_{ik} + sqrt(2)*EFunction(h_1, h_2, \\lambda, \\lambda_{ik}, 1, 1, 1)/(2*sqrt(\\lambda_{ik}))"
      ]
     },
     "execution_count": 34,
     "metadata": {},
     "output_type": "execute_result"
    }
   ],
   "source": [
    "FTildeFunction(h1, h2, l, l_ik, 1, 1, 1).diff(h1)"
   ]
  },
  {
   "cell_type": "code",
   "execution_count": 35,
   "metadata": {},
   "outputs": [],
   "source": [
    "class cF3Function(sp.Function):\n",
    "    def _latex(self, printer, exp=None):\n",
    "        args = list(map(printer.doprint, self.args[:4]))\n",
    "        args = f\"\\\\left({args[0]}, {args[1]}, {args[2]}, {args[3]}\\\\right)\"\n",
    "        if exp is None:\n",
    "            return \"{\\\\cal F}^{(3)}\"+args\n",
    "        else:\n",
    "            exp = printer.doprint(exp)\n",
    "            return f\"\\\\left({self._latex(printer)}\\\\right)^{exp}\"\n",
    "    \n",
    "    def fdiff(self, argindex=1):\n",
    "        expr = (s1*s2*s3*_sub_expr_E*_sub_expr_cF3).diff([h1, h2, l, l_ik][argindex-1])\n",
    "        terms = sigmas_sum(expr)\n",
    "        \n",
    "        subs = dict(zip([h1, h2, l, l_ik], self.args[:4]))\n",
    "\n",
    "        result = 0\n",
    "        for key, item in terms[_sub_expr_E].items():\n",
    "            result += item.factor().subs(subs)*EFunction(*self.args[:4], *key)\n",
    "\n",
    "        for key, item in terms[_sub_expr_E*_sub_expr_F].items():\n",
    "            result += item.factor().subs(subs)*FFunction(*self.args[:4], *key)\n",
    "        \n",
    "        for key, item in terms[_sub_expr_E*_sub_expr_F_tilde].items():\n",
    "            result += item.factor().subs(subs)*FTildeFunction(*self.args[:4], *key)\n",
    "        \n",
    "        _term = terms[_sub_expr_E*_sub_expr_cF3][(1, 1, 1)].factor().subs(subs)\n",
    "        result += _term*cF3Function(*self.args)\n",
    "\n",
    "        return result"
   ]
  },
  {
   "cell_type": "code",
   "execution_count": 36,
   "metadata": {},
   "outputs": [
    {
     "data": {
      "text/latex": [
       "$\\displaystyle - \\lambda^{\\frac{3}{2}} \\sqrt{\\lambda_{ik}} h_{1}^{\\frac{3}{2}} h_{2} {\\cal E}_{123}\\left(h_{1}, h_{2}, \\lambda, \\lambda_{ik}\\right) + \\sqrt{2} \\lambda^{\\frac{3}{2}} \\lambda_{ik} \\sqrt{h_{1}} h_{2}^{2} \\tilde{\\cal F}_{12}\\left(h_{1}, h_{2}, \\lambda, \\lambda_{ik}\\right) + \\sqrt{2} \\sqrt{\\lambda} h_{1}^{\\frac{3}{2}} h_{2} \\left(2 \\lambda h_{1} - \\lambda_{ik} h_{2}\\right) \\tilde{\\cal F}_{123}\\left(h_{1}, h_{2}, \\lambda, \\lambda_{ik}\\right) + 2 \\sqrt{2} \\lambda^{2} \\sqrt{\\lambda_{ik}} h_{1}^{2} \\sqrt{h_{2}} {\\cal F}_{13}\\left(h_{1}, h_{2}, \\lambda, \\lambda_{ik}\\right) + 2 \\sqrt{h_{2}} \\left(\\lambda^{3} h_{1} h_{2} - \\lambda^{2} \\lambda_{ik} h_{2}^{2} - \\lambda^{2} h_{1}^{2} - \\lambda h_{1}^{3} h_{2} + \\lambda_{ik} h_{1}^{2} h_{2}^{2}\\right) {\\cal F}^{(3)}\\left(h_{1}, h_{2}, \\lambda, \\lambda_{ik}\\right)$"
      ],
      "text/plain": [
       "-\\lambda**(3/2)*sqrt(\\lambda_{ik})*h_1**(3/2)*h_2*EFunction(h_1, h_2, \\lambda, \\lambda_{ik}, 1, 1, 1) + sqrt(2)*\\lambda**(3/2)*\\lambda_{ik}*sqrt(h_1)*h_2**2*FTildeFunction(h_1, h_2, \\lambda, \\lambda_{ik}, 1, 1, 0) + sqrt(2)*sqrt(\\lambda)*h_1**(3/2)*h_2*(2*\\lambda*h_1 - \\lambda_{ik}*h_2)*FTildeFunction(h_1, h_2, \\lambda, \\lambda_{ik}, 1, 1, 1) + 2*sqrt(2)*\\lambda**2*sqrt(\\lambda_{ik})*h_1**2*sqrt(h_2)*FFunction(h_1, h_2, \\lambda, \\lambda_{ik}, 1, 0, 1) + 2*sqrt(h_2)*(\\lambda**3*h_1*h_2 - \\lambda**2*\\lambda_{ik}*h_2**2 - \\lambda**2*h_1**2 - \\lambda*h_1**3*h_2 + \\lambda_{ik}*h_1**2*h_2**2)*cF3Function(h_1, h_2, \\lambda, \\lambda_{ik})"
      ]
     },
     "execution_count": 36,
     "metadata": {},
     "output_type": "execute_result"
    }
   ],
   "source": [
    "sp.Add(*map(lambda x: x*4*l*h1**2*sp.sqrt(h2)*(l*h1-l_ik*h2), cF3Function(h1, h2, l, l_ik).diff(h1).args))"
   ]
  },
  {
   "cell_type": "code",
   "execution_count": 37,
   "metadata": {},
   "outputs": [],
   "source": [
    "class cF3Function_degenerate(sp.Function):\n",
    "    def _latex(self, printer, exp=None):\n",
    "        args = list(map(printer.doprint, self.args[:4]))\n",
    "        args = f\"\\\\left({args[0]}, {args[1]}, {args[2]}, {args[3]}\\\\right)\"\n",
    "        if exp is None:\n",
    "            return \"{\\\\cal F}^{(3)}\"+args\n",
    "        else:\n",
    "            exp = printer.doprint(exp)\n",
    "            return f\"\\\\left({self._latex(printer)}\\\\right)^{exp}\"\n",
    "    \n",
    "    def fdiff(self, argindex=1):\n",
    "        expr = s1*s2*s3*_sub_expr_E*_sub_expr_cF3_degenerate\n",
    "        expr = expr.diff([h1, h2, l, l_ik][argindex-1]).doit()\n",
    "        terms = sigmas_sum(expr)\n",
    "        \n",
    "        subs = dict(zip([h1, h2, l, l_ik], self.args[:4]))\n",
    "\n",
    "        result = 0\n",
    "        for key, item in terms[_sub_expr_E].items():\n",
    "            result += item.factor().subs(subs)*EFunction(*self.args[:4], *key)\n",
    "\n",
    "        if _sub_expr_E*_sub_expr_F in terms:\n",
    "            for key, item in terms[_sub_expr_E*_sub_expr_F].items():\n",
    "                result += item.factor().subs(subs)*FFunction(*self.args[:4], *key)\n",
    "        \n",
    "        if _sub_expr_E*_sub_expr_F_tilde in terms:\n",
    "            for key, item in terms[_sub_expr_E*_sub_expr_F_tilde].items():\n",
    "                result += item.factor().subs(subs)*FTildeFunction(*self.args[:4], *key)\n",
    "        \n",
    "        return result"
   ]
  },
  {
   "cell_type": "code",
   "execution_count": 38,
   "metadata": {},
   "outputs": [],
   "source": [
    "# cF3Function_degenerate(h1, h2, l, l_ik).diff(h1)"
   ]
  },
  {
   "cell_type": "markdown",
   "metadata": {},
   "source": [
    "### Расчет $F^{(2)}$ и $F^{(3)}$"
   ]
  },
  {
   "cell_type": "markdown",
   "metadata": {},
   "source": [
    "#### Символьные вычисления"
   ]
  },
  {
   "cell_type": "markdown",
   "metadata": {},
   "source": [
    "##### Определения"
   ]
  },
  {
   "cell_type": "code",
   "execution_count": 39,
   "metadata": {},
   "outputs": [
    {
     "data": {
      "text/latex": [
       "$\\displaystyle \\frac{\\sqrt{2} \\sqrt{\\lambda} {\\cal E}_{13}\\left(h_{1}, h_{2}, \\lambda, \\lambda_{ik}\\right)}{2 \\sqrt{h_{1}} \\sqrt{h_{2}}} - \\frac{\\sqrt{2} \\sqrt{\\lambda} \\sqrt{h_{2}} {\\cal E}_{12}\\left(h_{1}, h_{2}, \\lambda, \\lambda_{ik}\\right)}{4 h_{1}^{\\frac{3}{2}}} - \\frac{\\lambda {\\cal F}_{3}\\left(h_{1}, h_{2}, \\lambda, \\lambda_{ik}\\right)}{h_{2}} + \\frac{\\left(- 2 \\lambda^{2} h_{1}^{2} + \\lambda^{2} h_{2}^{2} - h_{1}^{2} h_{2}^{2}\\right) {\\cal F}_{123}\\left(h_{1}, h_{2}, \\lambda, \\lambda_{ik}\\right)}{2 \\lambda h_{1}^{2} h_{2}} + \\frac{\\sqrt{2} \\sqrt{h_{2}} {\\cal E}_{123}\\left(h_{1}, h_{2}, \\lambda, \\lambda_{ik}\\right)}{4 \\sqrt{\\lambda} \\sqrt{h_{1}}}$"
      ],
      "text/plain": [
       "sqrt(2)*sqrt(\\lambda)*EFunction(h_1, h_2, \\lambda, \\lambda_{ik}, 1, 0, 1)/(2*sqrt(h_1)*sqrt(h_2)) - sqrt(2)*sqrt(\\lambda)*sqrt(h_2)*EFunction(h_1, h_2, \\lambda, \\lambda_{ik}, 1, 1, 0)/(4*h_1**(3/2)) - \\lambda*FFunction(h_1, h_2, \\lambda, \\lambda_{ik}, 0, 0, 1)/h_2 + (-2*\\lambda**2*h_1**2 + \\lambda**2*h_2**2 - h_1**2*h_2**2)*FFunction(h_1, h_2, \\lambda, \\lambda_{ik}, 1, 1, 1)/(2*\\lambda*h_1**2*h_2) + sqrt(2)*sqrt(h_2)*EFunction(h_1, h_2, \\lambda, \\lambda_{ik}, 1, 1, 1)/(4*sqrt(\\lambda)*sqrt(h_1))"
      ]
     },
     "execution_count": 39,
     "metadata": {},
     "output_type": "execute_result"
    }
   ],
   "source": [
    "FFunction(h1, h2, l, l_ik, 1, 1, 1).diff(h1)"
   ]
  },
  {
   "cell_type": "code",
   "execution_count": 40,
   "metadata": {},
   "outputs": [],
   "source": [
    "class erfcx(sp.Function):\n",
    "    def _latex(self, printer, exp=None):\n",
    "        arg = printer.doprint(self.args[0])\n",
    "        if exp is None:\n",
    "            return \"\\operatorname{erfcx}\"+f\"\\\\left({arg}\\\\right)\"\n",
    "        else:\n",
    "            exp = printer.doprint(exp)\n",
    "            return f\"\\\\left({self._latex(printer)}\\\\right)^{exp}\""
   ]
  },
  {
   "cell_type": "code",
   "execution_count": 41,
   "metadata": {},
   "outputs": [],
   "source": [
    "def erfi_to_dawsn(expr):\n",
    "    def __helper(z):\n",
    "        return F2Function(z)*2/sp.sqrt(sp.pi)*sp.exp(z**2)\n",
    "    return expr.replace(sp.erfi, __helper)\n",
    "\n",
    "\n",
    "def erfc_to_erfcx(expr):\n",
    "    def __helper(z):\n",
    "        return erfcx(z)*sp.exp(-z**2)\n",
    "    return expr.replace(sp.erfc, __helper)"
   ]
  },
  {
   "cell_type": "code",
   "execution_count": 42,
   "metadata": {},
   "outputs": [],
   "source": [
    "t, x, a, b = abc.t, abc.x, abc.a, abc.b\n",
    "n, h = abc.n, abc.h\n",
    "n0 = sp.Symbol(\"n_0\")"
   ]
  },
  {
   "cell_type": "markdown",
   "metadata": {},
   "source": [
    "##### $c > 0$"
   ]
  },
  {
   "cell_type": "code",
   "execution_count": 43,
   "metadata": {},
   "outputs": [
    {
     "data": {
      "text/latex": [
       "$\\displaystyle \\frac{F^{(2)}\\left(\\frac{- a b + a h n + c x}{\\sqrt{c}}\\right) e^{- 2 a b x + 2 a h n x - b^{2} + 2 b h n + c x^{2} - h^{2} n^{2} - x^{2}}}{\\sqrt{\\pi} \\sqrt{c} n} + \\frac{F^{(2)}\\left(\\frac{a \\left(b - h n\\right)}{\\sqrt{c}}\\right) e^{- b^{2} + 2 b h n - h^{2} n^{2} - x^{2}}}{\\sqrt{\\pi} \\sqrt{c} n}$"
      ],
      "text/plain": [
       "F2Function((-a*b + a*h*n + c*x)/sqrt(c))*exp(-2*a*b*x + 2*a*h*n*x - b**2 + 2*b*h*n + c*x**2 - h**2*n**2 - x**2)/(sqrt(pi)*sqrt(c)*n) + F2Function(a*(b - h*n)/sqrt(c))*exp(-b**2 + 2*b*h*n - h**2*n**2 - x**2)/(sqrt(pi)*sqrt(c)*n)"
      ]
     },
     "execution_count": 43,
     "metadata": {},
     "output_type": "execute_result"
    }
   ],
   "source": [
    "c = sp.Symbol(\"c\", positive=True)\n",
    "expr = t**2-(a*t+b-n*h)**2\n",
    "expr = expr.expand()\n",
    "expr = expr.replace(a**2, 1-c).expand()\n",
    "expr = sp.integrate(sp.exp(expr), [t, 0, x])*sp.exp(-x**2)/(n*sp.sqrt(sp.pi))\n",
    "expr = expr.expand()\n",
    "expr = erfi_to_dawsn(expr)\n",
    "expr = sp.Add(*map(lambda x: x.simplify(), expr.args))\n",
    "expr"
   ]
  },
  {
   "cell_type": "code",
   "execution_count": 44,
   "metadata": {},
   "outputs": [
    {
     "name": "stdout",
     "output_type": "stream",
     "text": [
      "(a*x + b)/h\n"
     ]
    }
   ],
   "source": [
    "print(sp.solve(expr.args[0].args[-1].diff(n), n)[0])"
   ]
  },
  {
   "cell_type": "code",
   "execution_count": 45,
   "metadata": {},
   "outputs": [
    {
     "name": "stdout",
     "output_type": "stream",
     "text": [
      "b/h\n"
     ]
    }
   ],
   "source": [
    "print(sp.solve(expr.args[1].args[-1].diff(n), n)[0])"
   ]
  },
  {
   "cell_type": "code",
   "execution_count": 46,
   "metadata": {},
   "outputs": [
    {
     "name": "stdout",
     "output_type": "stream",
     "text": [
      "- 2 a b x + 2 a h n_{0} x - b^{2} + 2 b h n_{0} + c x^{2} - h^{2} n^{2} - h^{2} n_{0}^{2} + n \\left(2 a h x + 2 b h - 2 h^{2} n_{0}\\right) - x^{2}\n"
     ]
    },
    {
     "data": {
      "text/latex": [
       "$\\displaystyle - 2 a b x + 2 a h n_{0} x - b^{2} + 2 b h n_{0} + c x^{2} - h^{2} n^{2} - h^{2} n_{0}^{2} + n \\left(2 a h x + 2 b h - 2 h^{2} n_{0}\\right) - x^{2}$"
      ],
      "text/plain": [
       "-2*a*b*x + 2*a*h*n_0*x - b**2 + 2*b*h*n_0 + c*x**2 - h**2*n**2 - h**2*n_0**2 + n*(2*a*h*x + 2*b*h - 2*h**2*n_0) - x**2"
      ]
     },
     "execution_count": 46,
     "metadata": {},
     "output_type": "execute_result"
    }
   ],
   "source": [
    "expr = -2*a*b*x + 2*a*h*n*x - b**2 + 2*b*h*n + c*x**2 - h**2*n**2 - x**2\n",
    "expr = expr.replace(n, n0+n).expand()\n",
    "expr = expr.collect(n)\n",
    "sp.print_latex(expr)\n",
    "expr"
   ]
  },
  {
   "cell_type": "code",
   "execution_count": 47,
   "metadata": {},
   "outputs": [
    {
     "name": "stdout",
     "output_type": "stream",
     "text": [
      "- b^{2} + 2 b h n_{0} - h^{2} n^{2} - h^{2} n_{0}^{2} + n \\left(2 b h - 2 h^{2} n_{0}\\right) - x^{2}\n"
     ]
    },
    {
     "data": {
      "text/latex": [
       "$\\displaystyle - b^{2} + 2 b h n_{0} - h^{2} n^{2} - h^{2} n_{0}^{2} + n \\left(2 b h - 2 h^{2} n_{0}\\right) - x^{2}$"
      ],
      "text/plain": [
       "-b**2 + 2*b*h*n_0 - h**2*n**2 - h**2*n_0**2 + n*(2*b*h - 2*h**2*n_0) - x**2"
      ]
     },
     "execution_count": 47,
     "metadata": {},
     "output_type": "execute_result"
    }
   ],
   "source": [
    "expr = -b**2 + 2*b*h*n - h**2*n**2 - x**2\n",
    "expr = expr.replace(n, n0+n).expand()\n",
    "expr = expr.collect(n)\n",
    "sp.print_latex(expr)\n",
    "expr"
   ]
  },
  {
   "cell_type": "markdown",
   "metadata": {},
   "source": [
    "##### $c < 0$"
   ]
  },
  {
   "cell_type": "code",
   "execution_count": 48,
   "metadata": {},
   "outputs": [
    {
     "name": "stdout",
     "output_type": "stream",
     "text": [
      "\\frac{\\left(\\operatorname{erf}{\\left(\\frac{a b - a h n - c x}{\\sqrt{- c}} \\right)} - \\operatorname{erf}{\\left(\\frac{a \\left(b - h n\\right)}{\\sqrt{- c}} \\right)}\\right) e^{\\frac{- a^{2} b^{2} - a^{2} h^{2} n^{2} - b^{2} c + 2 b h n \\left(a^{2} + c\\right) - c h^{2} n^{2} - c x^{2}}{c}}}{2 n \\sqrt{- c}}\n"
     ]
    },
    {
     "data": {
      "text/latex": [
       "$\\displaystyle \\frac{\\left(\\operatorname{erf}{\\left(\\frac{a b - a h n - c x}{\\sqrt{- c}} \\right)} - \\operatorname{erf}{\\left(\\frac{a \\left(b - h n\\right)}{\\sqrt{- c}} \\right)}\\right) e^{\\frac{- a^{2} b^{2} - a^{2} h^{2} n^{2} - b^{2} c + 2 b h n \\left(a^{2} + c\\right) - c h^{2} n^{2} - c x^{2}}{c}}}{2 n \\sqrt{- c}}$"
      ],
      "text/plain": [
       "(erf((a*b - a*h*n - c*x)/sqrt(-c)) - erf(a*(b - h*n)/sqrt(-c)))*exp((-a**2*b**2 - a**2*h**2*n**2 - b**2*c + 2*b*h*n*(a**2 + c) - c*h**2*n**2 - c*x**2)/c)/(2*n*sqrt(-c))"
      ]
     },
     "metadata": {},
     "output_type": "display_data"
    },
    {
     "data": {
      "text/latex": [
       "$\\displaystyle \\frac{\\left(\\operatorname{erfc}{\\left(\\frac{- a b + a h n + c x}{\\sqrt{- c}} \\right)} + \\operatorname{erfc}{\\left(\\frac{a \\left(b - h n\\right)}{\\sqrt{- c}} \\right)} - 2\\right) e^{- \\frac{a^{2} b^{2}}{c} + \\frac{2 a^{2} b h n}{c} - \\frac{a^{2} h^{2} n^{2}}{c} - b^{2} + 2 b h n - h^{2} n^{2} - x^{2}}}{2 n \\sqrt{- c}}$"
      ],
      "text/plain": [
       "(erfc((-a*b + a*h*n + c*x)/sqrt(-c)) + erfc(a*(b - h*n)/sqrt(-c)) - 2)*exp(-a**2*b**2/c + 2*a**2*b*h*n/c - a**2*h**2*n**2/c - b**2 + 2*b*h*n - h**2*n**2 - x**2)/(2*n*sqrt(-c))"
      ]
     },
     "metadata": {},
     "output_type": "display_data"
    },
    {
     "name": "stdout",
     "output_type": "stream",
     "text": [
      "\\frac{\\operatorname{erfcx}\\left(\\frac{- a b + a h n + c x}{\\sqrt{- c}}\\right) e^{- 2 a b x + 2 a h n x - b^{2} + 2 b h n + c x^{2} - h^{2} n^{2} - x^{2}}}{2 n \\sqrt{- c}} + \\frac{\\operatorname{erfcx}\\left(\\frac{a \\left(b - h n\\right)}{\\sqrt{- c}}\\right) e^{- b^{2} + 2 b h n - h^{2} n^{2} - x^{2}}}{2 n \\sqrt{- c}} - \\frac{e^{- \\frac{a^{2} b^{2}}{c} + \\frac{2 a^{2} b h n}{c} - \\frac{a^{2} h^{2} n^{2}}{c} - b^{2} + 2 b h n - h^{2} n^{2} - x^{2}}}{n \\sqrt{- c}}\n"
     ]
    },
    {
     "data": {
      "text/latex": [
       "$\\displaystyle \\frac{\\operatorname{erfcx}\\left(\\frac{- a b + a h n + c x}{\\sqrt{- c}}\\right) e^{- 2 a b x + 2 a h n x - b^{2} + 2 b h n + c x^{2} - h^{2} n^{2} - x^{2}}}{2 n \\sqrt{- c}} + \\frac{\\operatorname{erfcx}\\left(\\frac{a \\left(b - h n\\right)}{\\sqrt{- c}}\\right) e^{- b^{2} + 2 b h n - h^{2} n^{2} - x^{2}}}{2 n \\sqrt{- c}} - \\frac{e^{- \\frac{a^{2} b^{2}}{c} + \\frac{2 a^{2} b h n}{c} - \\frac{a^{2} h^{2} n^{2}}{c} - b^{2} + 2 b h n - h^{2} n^{2} - x^{2}}}{n \\sqrt{- c}}$"
      ],
      "text/plain": [
       "erfcx((-a*b + a*h*n + c*x)/sqrt(-c))*exp(-2*a*b*x + 2*a*h*n*x - b**2 + 2*b*h*n + c*x**2 - h**2*n**2 - x**2)/(2*n*sqrt(-c)) + erfcx(a*(b - h*n)/sqrt(-c))*exp(-b**2 + 2*b*h*n - h**2*n**2 - x**2)/(2*n*sqrt(-c)) - exp(-a**2*b**2/c + 2*a**2*b*h*n/c - a**2*h**2*n**2/c - b**2 + 2*b*h*n - h**2*n**2 - x**2)/(n*sqrt(-c))"
      ]
     },
     "metadata": {},
     "output_type": "display_data"
    }
   ],
   "source": [
    "c = sp.Symbol(\"c\", negative=True)\n",
    "expr = t**2-(a*t+b-n*h)**2\n",
    "expr = expr.expand()\n",
    "expr = expr.replace(a**2, 1-c).expand()\n",
    "expr = sp.integrate(sp.exp(expr), [t, 0, x])*sp.exp(-x**2)/(n*sp.sqrt(sp.pi))\n",
    "expr = expr.simplify()\n",
    "sp.print_latex(expr)\n",
    "display(expr)\n",
    "\n",
    "expr = expr.rewrite(sp.erfc)\n",
    "expr = expr.expand().factor().simplify()\n",
    "display(expr)\n",
    "expr = erfc_to_erfcx(expr).expand()\n",
    "expr = sp.Add(*map(lambda x: x.simplify(), expr.args))\n",
    "sp.print_latex(expr)\n",
    "display(expr)"
   ]
  },
  {
   "cell_type": "code",
   "execution_count": 49,
   "metadata": {},
   "outputs": [
    {
     "name": "stdout",
     "output_type": "stream",
     "text": [
      "(-a**2*b**2 + 2*a**2*b*h*n - a**2*h**2*n**2 + c*(-b**2 + 2*b*h*n - h**2*n**2 - x**2))/c\n"
     ]
    }
   ],
   "source": [
    "print(expr.args[0].args[-1].args[0].simplify())"
   ]
  },
  {
   "cell_type": "code",
   "execution_count": 50,
   "metadata": {},
   "outputs": [
    {
     "data": {
      "text/latex": [
       "$\\displaystyle \\left(\\frac{2 a^{2} b h}{c} - \\frac{2 a^{2} h^{2} n}{c} + 2 b h - 2 h^{2} n\\right) e^{- \\frac{a^{2} b^{2}}{c} + \\frac{2 a^{2} b h n}{c} - \\frac{a^{2} h^{2} n^{2}}{c} - b^{2} + 2 b h n - h^{2} n^{2} - x^{2}}$"
      ],
      "text/plain": [
       "(2*a**2*b*h/c - 2*a**2*h**2*n/c + 2*b*h - 2*h**2*n)*exp(-a**2*b**2/c + 2*a**2*b*h*n/c - a**2*h**2*n**2/c - b**2 + 2*b*h*n - h**2*n**2 - x**2)"
      ]
     },
     "metadata": {},
     "output_type": "display_data"
    },
    {
     "name": "stdout",
     "output_type": "stream",
     "text": [
      "[b/h]\n",
      "a**2*b/c - a**2*h*n/c + b - h*n\n"
     ]
    }
   ],
   "source": [
    "expr = sp.exp(-a**2*b**2/c + 2*a**2*b*h*n/c - a**2*h**2*n**2/c - b**2 + 2*b*h*n - h**2*n**2 - x**2)\n",
    "expr = expr.diff(n)\n",
    "display(expr)\n",
    "print(sp.solve(expr, n))\n",
    "\n",
    "print(sp.expand(expr.args[0]/(2*h)))"
   ]
  },
  {
   "cell_type": "markdown",
   "metadata": {},
   "source": [
    "#### Численный расчет"
   ]
  },
  {
   "cell_type": "markdown",
   "metadata": {},
   "source": [
    "##### $F^{(2)}$ "
   ]
  },
  {
   "cell_type": "code",
   "execution_count": 51,
   "metadata": {},
   "outputs": [],
   "source": [
    "def f_F2Function(x):\n",
    "    return dawsn(x)\n",
    "\n",
    "\n",
    "def f_F2Function_int(x):\n",
    "    return np.exp(-x**2)*quad(lambda t: np.exp(t**2), 0, x)[0]\n",
    "\n",
    "\n",
    "def f_F2Function_series(x, NMAX, H):\n",
    "    xx = np.abs(x)\n",
    "    n0 = 2*np.int_(0.5*xx/H+0.5)\n",
    "    xp = xx-n0*H\n",
    "\n",
    "    e1 = np.exp(2.0*xp*H)\n",
    "    e2 = e1*e1\n",
    "    d1 = n0+1\n",
    "    d2 = d1-2.0\n",
    "\n",
    "    result = 0.0\n",
    "    for i in range(NMAX):\n",
    "        result += np.exp(-((2.0*i+1.0)*H)**2)*(e1/d1+1.0/(d2*e1))\n",
    "        d1 = d1 + 2.0\n",
    "        d2 = d2 - 2.0\n",
    "        e1 = e1*e2\n",
    "\n",
    "    return 0.5641895835*np.exp(-xp*xp)*np.sign(x)*result"
   ]
  },
  {
   "cell_type": "code",
   "execution_count": 52,
   "metadata": {},
   "outputs": [],
   "source": [
    "def calc_err(NMAX, H):\n",
    "    max_err = 0\n",
    "    for x in np.linspace(-10, 10, 100):\n",
    "        err = np.abs(f_F2Function_series(x, NMAX, H)-f_F2Function_int(x))\n",
    "        if max_err < err:\n",
    "            max_err = err\n",
    "    return max_err"
   ]
  },
  {
   "cell_type": "code",
   "execution_count": 53,
   "metadata": {},
   "outputs": [],
   "source": [
    "# import matplotlib.pyplot as plt\n",
    "\n",
    "# N_arr = np.arange(1, 16)\n",
    "# err_arr = []\n",
    "\n",
    "# H = 0.2\n",
    "# for N in N_arr:\n",
    "#     err_arr.append(calc_err(N, H))\n",
    "\n",
    "# plt.yscale(\"log\")\n",
    "# plt.plot(N_arr, err_arr)"
   ]
  },
  {
   "cell_type": "markdown",
   "metadata": {},
   "source": [
    "##### $F^{(3)}$ "
   ]
  },
  {
   "cell_type": "code",
   "execution_count": 54,
   "metadata": {},
   "outputs": [],
   "source": [
    "from scipy.special import erfc, erfcx"
   ]
  },
  {
   "cell_type": "code",
   "execution_count": 55,
   "metadata": {},
   "outputs": [],
   "source": [
    "def f_F3Function_int_dawsn(x, a, b):\n",
    "    return np.exp(-x**2)*quad(lambda t: np.exp(t**2)*f_F2Function(a*t+b), 0, x)[0]\n",
    "\n",
    "def f_F3Function_int_int(x, a, b):\n",
    "    return np.exp(-x**2)*quad(lambda t: np.exp(t**2)*f_F2Function_int(a*t+b), 0, x)[0]"
   ]
  },
  {
   "cell_type": "code",
   "execution_count": 56,
   "metadata": {},
   "outputs": [],
   "source": [
    "def __sum_f_F3Function_series(n0, arg_func, func, arg0_exp, delta_arg_exp, NMAX, h):\n",
    "    n1 = n0+1\n",
    "    n2 = n0-1\n",
    "\n",
    "    arg1 = arg_func(n1)\n",
    "    arg2 = arg_func(n2)\n",
    "\n",
    "    e1 = np.exp(arg0_exp + .5*delta_arg_exp)\n",
    "    e2 = np.exp(arg0_exp - .5*delta_arg_exp)\n",
    "    delta_exp = np.exp(delta_arg_exp)\n",
    "\n",
    "    S = 0\n",
    "    for i in range(NMAX):\n",
    "        n = 2*i+1\n",
    "        delta = func(arg1)*e1*np.exp(-h**2*n**2)/n1\n",
    "        S += delta\n",
    "\n",
    "        n = -2*i-1\n",
    "        delta = func(arg2)*e2*np.exp(-h**2*n**2)/n2\n",
    "        S += delta\n",
    "\n",
    "        n1 += 2\n",
    "        n2 -= 2\n",
    "        arg1 = arg_func(n1)\n",
    "        arg2 = arg_func(n2)\n",
    "        e1 *= delta_exp\n",
    "        e2 /= delta_exp\n",
    "\n",
    "    return S\n",
    "\n",
    "\n",
    "def _term1_f_F3Function_series(func, x, a, b, c, _sqrt_c, NMAX, h):\n",
    "    xx = (a*x + b)/h\n",
    "    n0 = 2*np.int_(0.5*xx+np.sign(xx)*0.5)\n",
    "    arg_func = lambda n: (-a*b + c*x + n*a*h)*_sqrt_c\n",
    "    arg0_exp = 2*b*h*n0-h**2*n0**2+2*a*h*n0*x-2*a*b*x+c*x**2-b**2-x**2\n",
    "    delta_arg_exp = 4*a*h*x + 4*b*h - 4*h**2*n0\n",
    "    return __sum_f_F3Function_series(n0, arg_func, func, arg0_exp, delta_arg_exp, NMAX, h)\n",
    "\n",
    "\n",
    "def _term2_f_F3Function_series(func, x, a, b, _sqrt_c, NMAX, h):\n",
    "    xx = b/h\n",
    "    n0 = 2*np.int_(0.5*xx+np.sign(xx)*0.5)\n",
    "    arg_func = lambda n: -a*(b - h*n)*_sqrt_c\n",
    "    arg0_exp = 2*b*h*n0-h**2*n0**2-b**2-x**2\n",
    "    delta_arg_exp = 4*b*h - 4*h**2*n0\n",
    "    return __sum_f_F3Function_series(n0, arg_func, func, arg0_exp, delta_arg_exp, NMAX, h)"
   ]
  },
  {
   "cell_type": "code",
   "execution_count": 57,
   "metadata": {},
   "outputs": [],
   "source": [
    "def antisymmetric_erfcx(x):\n",
    "    if x < 0:\n",
    "        return -erfcx(-x)\n",
    "    return erfcx(x)\n",
    "\n",
    "\n",
    "def f_F3Function_series(x, a, b, NMAX=None, h=None):\n",
    "    if np.isnan(x) or np.isnan(a) or np.isnan(b):\n",
    "        return np.nan\n",
    "    if np.isinf(x) or np.isinf(a) or np.isinf(b):\n",
    "        return np.nan\n",
    "\n",
    "    c = 1-a**2\n",
    "\n",
    "    if c == 1:\n",
    "        return f_F2Function(x) * f_F2Function(b)\n",
    "\n",
    "    if c > 0:\n",
    "        if NMAX is None:\n",
    "            NMAX = 6\n",
    "        if h is None: \n",
    "            h = 0.4\n",
    "\n",
    "        sqrt_c = np.sqrt(c)\n",
    "        _sqrt_c = 1/sqrt_c\n",
    "\n",
    "        S = _term1_f_F3Function_series(f_F2Function, x, a, b, c, _sqrt_c, NMAX, h)\n",
    "        S -= _term2_f_F3Function_series(f_F2Function, x, a, b, _sqrt_c, NMAX, h)\n",
    "\n",
    "        return S/np.sqrt(np.pi)*_sqrt_c\n",
    "    \n",
    "    if c < 0:\n",
    "        if NMAX is None:\n",
    "            NMAX = 6\n",
    "        if h is None: \n",
    "            h = 0.4\n",
    "\n",
    "        sqrt_c = np.sqrt(-c)\n",
    "        _sqrt_c = 1/sqrt_c\n",
    "        \n",
    "        S = _term1_f_F3Function_series(antisymmetric_erfcx, x, a, b, c, _sqrt_c, NMAX, h)\n",
    "        S -= _term2_f_F3Function_series(antisymmetric_erfcx, x, a, b, _sqrt_c, NMAX, h)\n",
    "\n",
    "        factor = -2*np.sign(a)\n",
    "        left, right = (a*b - c*x)/(a*h), b/h\n",
    "        if left != right:\n",
    "            if right < left:\n",
    "                factor *= -1\n",
    "                left, right = right, left\n",
    "      \n",
    "            n_prob = (left+right)/2\n",
    "            start, end = left, right\n",
    "            if a**2*b/c - a**2*h*n_prob/c + b - h*n_prob > 0:\n",
    "                start, end = end, start\n",
    "\n",
    "            step = 2*np.sign(end-start)\n",
    "\n",
    "            n = np.floor(start)\n",
    "            n = n - 1 + n % 2\n",
    "            distance = np.abs(end-start)\n",
    "            if np.abs(n-end) > distance:\n",
    "                n += step\n",
    "                \n",
    "            arg_exp = lambda n: (-a**2*b**2 + 2*a**2*b*h*n - a**2*h**2*n**2)/c - b**2 + 2*b*h*n - h**2*n**2 - x**2\n",
    "            while True:\n",
    "                if max(np.abs(n-start), np.abs(n-end)) > distance:\n",
    "                    break\n",
    "                if n == left:\n",
    "                    if a < 0:\n",
    "                        S -= factor*np.exp(arg_exp(n))/n\n",
    "                if n == right:\n",
    "                    if a < 0:\n",
    "                        S += factor*np.exp(arg_exp(n))/n\n",
    "                    n += step\n",
    "                    continue\n",
    " \n",
    "                val_exp = np.exp(arg_exp(n))\n",
    "                S += factor*val_exp/n\n",
    "                n += step\n",
    "\n",
    "                if np.abs(val_exp) - 1e-7*np.abs(S) < 0:\n",
    "                    break\n",
    "\n",
    "        return S*.5*_sqrt_c\n",
    "\n",
    "    # c == 0\n",
    "    if b == 0:\n",
    "        return x*f_F2Function(x) - .5*(1-np.exp(-x**2))\n",
    "\n",
    "    # b != 0\n",
    "    result = f_F2Function(b)*np.exp(-x**2) \n",
    "    result += f_F2Function(x)\n",
    "    result -= f_F2Function(b+x)\n",
    "    return result*.5/b"
   ]
  },
  {
   "cell_type": "code",
   "execution_count": 58,
   "metadata": {},
   "outputs": [
    {
     "data": {
      "text/plain": [
       "np.float64(0.026506412441317653)"
      ]
     },
     "execution_count": 58,
     "metadata": {},
     "output_type": "execute_result"
    }
   ],
   "source": [
    "f_F3Function_series(2*2*0.4, -2, 10, 6, 0.4)"
   ]
  },
  {
   "cell_type": "code",
   "execution_count": 59,
   "metadata": {},
   "outputs": [
    {
     "data": {
      "text/plain": [
       "np.float64(0.0265064114152765)"
      ]
     },
     "execution_count": 59,
     "metadata": {},
     "output_type": "execute_result"
    }
   ],
   "source": [
    "f_F3Function_int_dawsn(2*2*0.4, -2, 10)"
   ]
  },
  {
   "cell_type": "code",
   "execution_count": 60,
   "metadata": {},
   "outputs": [
    {
     "data": {
      "image/png": "[encoded data removed]",
      "text/plain": [
       "<Figure size 640x480 with 1 Axes>"
      ]
     },
     "metadata": {},
     "output_type": "display_data"
    }
   ],
   "source": [
    "import matplotlib.pyplot as plt\n",
    "\n",
    "x = np.linspace(-15, 15, 100)\n",
    "y1 = []\n",
    "y2 = []\n",
    "N = []\n",
    "\n",
    "a, b = 0.9, -1\n",
    "c = 1 - a**2\n",
    "for val_x in x:\n",
    "    y1.append(f_F3Function_int_dawsn(val_x, a, b))\n",
    "    y2.append(f_F3Function_series(val_x, a, b, 5, 0.4))\n",
    "\n",
    "y1, y2 = np.asarray(y1), np.asarray(y2)\n",
    "\n",
    "# plt.plot(x, y1)\n",
    "# plt.plot(x, y2)\n",
    "plt.plot(x, np.abs(y1-y2))\n",
    "plt.yscale(\"log\")\n",
    "\n",
    "# print(x[np.argmax(np.abs(y1-y2))])"
   ]
  },
  {
   "cell_type": "code",
   "execution_count": 61,
   "metadata": {},
   "outputs": [],
   "source": [
    "def calc_error(a, NMAX, h):\n",
    "    max_error = 0\n",
    "    for x in np.linspace(-15, 15, 100):\n",
    "        for b in np.linspace(-10, 10, 10):\n",
    "            error = f_F3Function_int_dawsn(x, a, b)-f_F3Function_series(x, a, b, NMAX, h)\n",
    "            if np.abs(error) > max_error:\n",
    "                max_error = np.abs(error)\n",
    "    return max_error\n",
    "    "
   ]
  },
  {
   "cell_type": "code",
   "execution_count": 62,
   "metadata": {},
   "outputs": [
    {
     "data": {
      "text/plain": [
       "[<matplotlib.lines.Line2D at 0x7f6fef173410>]"
      ]
     },
     "execution_count": 62,
     "metadata": {},
     "output_type": "execute_result"
    },
    {
     "data": {
      "image/png": "[encoded data removed]",
      "text/plain": [
       "<Figure size 640x480 with 1 Axes>"
      ]
     },
     "metadata": {},
     "output_type": "display_data"
    }
   ],
   "source": [
    "import datlib \n",
    "\n",
    "N = np.arange(2, 15)\n",
    "error = []\n",
    "a = .9\n",
    "h = .4\n",
    "\n",
    "for n in N:\n",
    "    error.append(calc_error(a, n, h))\n",
    "\n",
    "plt.yscale(\"log\")\n",
    "plt.plot(N, error)"
   ]
  },
  {
   "cell_type": "code",
   "execution_count": 63,
   "metadata": {},
   "outputs": [],
   "source": [
    "# import time\n",
    "\n",
    "# start = time.time()\n",
    "# for x in np.linspace(-10, 10, 5):\n",
    "#     for a in np.linspace(-10, 10, 5):\n",
    "#         b = 1\n",
    "#         f_F3Function_int_int(x, a, b)\n",
    "# end = time.time()\n",
    "# print(end - start)"
   ]
  },
  {
   "cell_type": "code",
   "execution_count": 64,
   "metadata": {},
   "outputs": [
    {
     "name": "stdout",
     "output_type": "stream",
     "text": [
      "2.53671932220459\n"
     ]
    }
   ],
   "source": [
    "import time\n",
    "\n",
    "start = time.time()\n",
    "for x in np.linspace(-10, 10, 100):\n",
    "    for a in np.linspace(-10, 10, 10):\n",
    "        for b in np.linspace(-10, 10, 10):\n",
    "            f_F3Function_int_dawsn(x, a, b)\n",
    "end = time.time()\n",
    "print(end - start)"
   ]
  },
  {
   "cell_type": "code",
   "execution_count": 65,
   "metadata": {},
   "outputs": [
    {
     "name": "stdout",
     "output_type": "stream",
     "text": [
      "2.3970508575439453\n"
     ]
    }
   ],
   "source": [
    "import time\n",
    "\n",
    "start = time.time()\n",
    "for x in np.linspace(-10, 10, 100):\n",
    "    for a in np.linspace(-10, 10, 10):\n",
    "        for b in np.linspace(-10, 10, 10):\n",
    "            f_F3Function_series(x, a, b, 6, 0.4)\n",
    "end = time.time()\n",
    "print(end - start)"
   ]
  },
  {
   "cell_type": "markdown",
   "metadata": {},
   "source": [
    "### Численный расчет"
   ]
  },
  {
   "cell_type": "markdown",
   "metadata": {},
   "source": [
    "#### Определения"
   ]
  },
  {
   "cell_type": "code",
   "execution_count": 66,
   "metadata": {},
   "outputs": [],
   "source": [
    "import Z2 as Z2_module"
   ]
  },
  {
   "cell_type": "code",
   "execution_count": 67,
   "metadata": {},
   "outputs": [],
   "source": [
    "f_F3Function = f_F3Function_series"
   ]
  },
  {
   "cell_type": "code",
   "execution_count": 68,
   "metadata": {},
   "outputs": [],
   "source": [
    "@lru_cache(maxsize=1)\n",
    "def _Z3_E_terms(h1, h2, l, l_ik):\n",
    "    result = np.zeros((2, 2, 2))\n",
    "    for i1, s1 in enumerate(SIGMAS):\n",
    "        for i2, s2 in enumerate(SIGMAS):\n",
    "            for i3, s3 in enumerate(SIGMAS):\n",
    "                arg = s3*h2+s1*s2*l_ik+(s1+s2)*(h1+s3*l)\n",
    "                result[i1, i2, i3] = np.exp(arg)\n",
    "    return result\n",
    "\n",
    "@lru_cache(maxsize=1)\n",
    "def _Z3_F3_terms(h1, h2, l, l_ik):\n",
    "    _arg1 = lambda s1, s2, s3: (h1+s3*l+(s1+s2)*h1/h2*l)/np.sqrt(2*h1/h2*l)\n",
    "    _arg2 = np.sqrt(h1/h2*l/l_ik)\n",
    "    _arg3 = lambda s1, s2: (s1+s2)/np.sqrt(2*l_ik)*(l_ik-h1/h2*l)\n",
    "    result = np.zeros((2, 2, 2))\n",
    "    for i1, s1 in enumerate(SIGMAS):\n",
    "        for i2, s2 in enumerate(SIGMAS):\n",
    "            for i3, s3 in enumerate(SIGMAS):\n",
    "                args = _arg1(s1, s2, s3), _arg2, _arg3(s1, s2)\n",
    "                result[i1, i2, i3] = f_F3Function(*args)\n",
    "    return result\n",
    "\n",
    "@lru_cache(maxsize=1)\n",
    "def _Z3_F_tilde_terms(h1, h2, l, l_ik):\n",
    "    result = np.zeros((2, 2, 2))\n",
    "    for i1, s1 in enumerate(SIGMAS):\n",
    "        for i2, s2 in enumerate(SIGMAS):\n",
    "            for i3, s3 in enumerate(SIGMAS):\n",
    "                arg = (h1+s3*l+(s1+s2)*l_ik)/np.sqrt(2*l_ik)\n",
    "                result[i1, i2, i3] = f_F2Function(arg)\n",
    "    return result\n",
    "\n",
    "@lru_cache(maxsize=1)\n",
    "def _Z3_F_terms(h1, h2, l, l_ik):\n",
    "    result = np.zeros((2, 2, 2))\n",
    "    for i1, s1 in enumerate(SIGMAS):\n",
    "        for i2, s2 in enumerate(SIGMAS):\n",
    "            for i3, s3 in enumerate(SIGMAS):\n",
    "                arg = (h1+s3*l+(s1+s2)*h1/h2*l)/np.sqrt(2*h1/h2*l)\n",
    "                result[i1, i2, i3] = f_F2Function(arg)\n",
    "    return result"
   ]
  },
  {
   "cell_type": "code",
   "execution_count": 69,
   "metadata": {},
   "outputs": [],
   "source": [
    "def _Z3_sum_terms(terms, sigmas_func):\n",
    "    result = 0\n",
    "    for i1, s1 in enumerate(SIGMAS):\n",
    "        for i2, s2 in enumerate(SIGMAS):\n",
    "            for i3, s3 in enumerate(SIGMAS):\n",
    "                result += sigmas_func(s1, s2, s3)*terms[i1, i2, i3]\n",
    "\n",
    "    return result"
   ]
  },
  {
   "cell_type": "code",
   "execution_count": 70,
   "metadata": {},
   "outputs": [],
   "source": [
    "def f_cF3Function(h1, h2, l, l_ik):\n",
    "    _E_terms = _Z3_E_terms(h1, h2, l, l_ik)\n",
    "    _F3_terms = _Z3_F3_terms(h1, h2, l, l_ik)\n",
    "    \n",
    "    _terms = _E_terms*_F3_terms\n",
    "    _sigmas_func_123 = lambda s1, s2, s3: s1*s2*s3\n",
    "   \n",
    "    return _Z3_sum_terms(_terms, _sigmas_func_123)"
   ]
  },
  {
   "cell_type": "code",
   "execution_count": 71,
   "metadata": {},
   "outputs": [],
   "source": [
    "def f_Z1(p):\n",
    "    return 4*np.pi/p*np.sinh(p)\n",
    "\n",
    "def raw_Z2(h, l):\n",
    "    def _sqrt(x): return np.sqrt(h**2+l**2+2*h*l*x)\n",
    "    def func(x): return np.exp(h*x)*f_Z1(_sqrt(x))\n",
    "    return 2*np.pi*quad(func, -1, 1)[0]"
   ]
  },
  {
   "cell_type": "code",
   "execution_count": 72,
   "metadata": {},
   "outputs": [],
   "source": [
    "def raw_Z3(h1, h2, l, l_ik):\n",
    "    _sqrt = lambda x: np.sqrt(h1**2+l**2+2*h1*l*x)\n",
    "    func = lambda x: np.exp(h2*x)*np.exp(2*_sqrt(x)+l_ik)*Z2_module.calc_Z2_norm(_sqrt(x), l_ik)\n",
    "    return 2*np.pi*quad(func, -1, 1)[0]\n",
    "\n",
    "\n",
    "def raw_raw_Z3(h1, h2, l, l_ik):\n",
    "    _sqrt = lambda x: np.sqrt(h1**2+l**2+2*h1*l*x)\n",
    "    func = lambda x: np.exp(h2*x)*raw_Z2(_sqrt(x), l_ik)\n",
    "    return 2*np.pi*quad(func, -1, 1)[0]\n",
    "\n",
    "\n",
    "def Z3(h1, h2, l, l_ik):\n",
    "    return 2*(2*np.pi)**3/np.sqrt(h1*h2*l*l_ik)*f_cF3Function(h1, h2, l, l_ik)"
   ]
  },
  {
   "cell_type": "code",
   "execution_count": 73,
   "metadata": {},
   "outputs": [],
   "source": [
    "v_raw_Z3 = lambda x: raw_Z3(*x)\n",
    "v_cF3 = lambda x: f_cF3Function(*x)\n",
    "v_F3 = lambda x: f_F3Function(*x)"
   ]
  },
  {
   "cell_type": "code",
   "execution_count": 74,
   "metadata": {},
   "outputs": [],
   "source": [
    "def f_EFunction(h1, h2, l, l_ik, arg_s1, arg_s2, arg_s3):\n",
    "    def _sigmas_func(s1, s2, s3):\n",
    "        result = 1\n",
    "        if arg_s1:\n",
    "            result *= s1\n",
    "        if arg_s2:\n",
    "            result *= s2\n",
    "        if arg_s3:\n",
    "            result *= s3\n",
    "        return result\n",
    "    return _Z3_sum_terms(_Z3_E_terms(h1, h2, l, l_ik), _sigmas_func)\n",
    "\n",
    "\n",
    "def f_FTildeFunction(h1, h2, l, l_ik, arg_s1, arg_s2, arg_s3):\n",
    "    def _sigmas_func(s1, s2, s3):\n",
    "        result = 1\n",
    "        if arg_s1:\n",
    "            result *= s1\n",
    "        if arg_s2:\n",
    "            result *= s2\n",
    "        if arg_s3:\n",
    "            result *= s3\n",
    "        return result\n",
    "    terms = _Z3_E_terms(h1, h2, l, l_ik)*_Z3_F_tilde_terms(h1, h2, l, l_ik)\n",
    "    return _Z3_sum_terms(terms, _sigmas_func)\n",
    "\n",
    "\n",
    "def f_FFunction(h1, h2, l, l_ik, arg_s1, arg_s2, arg_s3):\n",
    "    def _sigmas_func(s1, s2, s3):\n",
    "        result = 1\n",
    "        if arg_s1:\n",
    "            result *= s1\n",
    "        if arg_s2:\n",
    "            result *= s2\n",
    "        if arg_s3:\n",
    "            result *= s3\n",
    "        return result\n",
    "    terms = _Z3_E_terms(h1, h2, l, l_ik)*_Z3_F_terms(h1, h2, l, l_ik)\n",
    "    return _Z3_sum_terms(terms, _sigmas_func)\n",
    "\n",
    "\n",
    "module_dictionary = {\"cF3Function\": f_cF3Function, \"cF3Function_degenerate\": f_cF3Function,\n",
    "                     \"EFunction\": f_EFunction, \n",
    "                     \"FTildeFunction\": f_FTildeFunction, \"FFunction\": f_FFunction,\n",
    "                     \"F2Function\": f_F2Function, \"F3Function\": f_F3Function}\n",
    "\n",
    "module = [module_dictionary, \"scipy\"]"
   ]
  },
  {
   "cell_type": "markdown",
   "metadata": {},
   "source": [
    "#### Проверка"
   ]
  },
  {
   "cell_type": "code",
   "execution_count": 75,
   "metadata": {},
   "outputs": [
    {
     "name": "stdout",
     "output_type": "stream",
     "text": [
      "10617.721695485005\n",
      "10617.721695485003\n",
      "10617.721784912486\n"
     ]
    }
   ],
   "source": [
    "args = 1.1, 1.4, 0.9, 1.2\n",
    "\n",
    "print(raw_Z3(*args))\n",
    "print(raw_raw_Z3(*args))\n",
    "print(Z3(*args))"
   ]
  },
  {
   "cell_type": "code",
   "execution_count": 76,
   "metadata": {},
   "outputs": [],
   "source": [
    "def get_diffs(expr, args):\n",
    "    diffs = []\n",
    "    for arg in args:\n",
    "        diffs.append(sp.lambdify(args, expr.diff(arg), module))\n",
    "    return diffs"
   ]
  },
  {
   "cell_type": "code",
   "execution_count": 77,
   "metadata": {},
   "outputs": [],
   "source": [
    "def calc_numerical_diffs(func, args):\n",
    "    diffs = np.zeros_like(args)\n",
    "    for i, arg in enumerate(args):\n",
    "        direction = [0] * len(args)\n",
    "        direction[i] = 1\n",
    "        diffs[i] = nd.directionaldiff(func, args, direction, n=1)\n",
    "    return diffs\n",
    "\n",
    "\n",
    "def calc_exprs(exprs, args):\n",
    "    return list(map(lambda expr: expr(*args), exprs))\n",
    "\n",
    "\n",
    "def compare_exprs(exprs_1, exprs_2):\n",
    "    for i, expr in enumerate(exprs_1):\n",
    "        print(expr)\n",
    "        print(exprs_2[i])\n",
    "        print()"
   ]
  },
  {
   "cell_type": "code",
   "execution_count": 78,
   "metadata": {},
   "outputs": [
    {
     "name": "stdout",
     "output_type": "stream",
     "text": [
      "0.0789388044024849\n",
      "0.0789387929977766\n",
      "\n",
      "-0.0075467372132369745\n",
      "-0.007546734847506438\n",
      "\n",
      "0.008638957666855868\n",
      "0.008638960478949579\n",
      "\n",
      "-0.1302029228678329\n",
      "-0.13020292286800322\n",
      "\n",
      "-0.03858026434738476\n",
      "-0.03858031000271166\n",
      "\n",
      "0.033499433211962616\n",
      "0.03349943321073001\n",
      "\n"
     ]
    }
   ],
   "source": [
    "x, a, b = abc.x, abc.a, abc.b\n",
    "\n",
    "f_F3_diffs = get_diffs(F3Function(x, a, b), [x, a, b])\n",
    "f_F3_degenerate_diffs = get_diffs(F3Function_degenerate(x, a, b), [x, a, b])\n",
    "\n",
    "args = 1.4, -6, 1\n",
    "compare_exprs(\n",
    "    calc_numerical_diffs(v_F3, args),\n",
    "    calc_exprs(f_F3_diffs, args)\n",
    ")\n",
    "\n",
    "args = 1.4, 1, 0\n",
    "compare_exprs(\n",
    "    calc_numerical_diffs(v_F3, args),\n",
    "    calc_exprs(f_F3_degenerate_diffs, args)\n",
    ")"
   ]
  },
  {
   "cell_type": "code",
   "execution_count": 79,
   "metadata": {},
   "outputs": [],
   "source": [
    "args_coeffs = h1, h2, l, l_ik"
   ]
  },
  {
   "cell_type": "code",
   "execution_count": 80,
   "metadata": {},
   "outputs": [
    {
     "name": "stdout",
     "output_type": "stream",
     "text": [
      "1793.9908528051935\n",
      "1793.9908528052451\n",
      "\n",
      "896.4925453059092\n",
      "896.4925453059141\n",
      "\n",
      "1796.193536948808\n",
      "1796.1935369487762\n",
      "\n",
      "899.5611861682389\n",
      "899.5611861682446\n",
      "\n"
     ]
    }
   ],
   "source": [
    "f_E_123 = sp.lambdify(args_coeffs, EFunction(*args_coeffs, 1, 1, 1), module)\n",
    "f_E_123_diffs = get_diffs(EFunction(*args_coeffs, 1, 1, 1), args_coeffs)\n",
    "v_f_E_123 = lambda x: f_E_123(*x)\n",
    "\n",
    "args = 1.1, 1.6, 0.9, 1.2\n",
    "compare_exprs(\n",
    "    calc_numerical_diffs(v_f_E_123, args),\n",
    "    calc_exprs(f_E_123_diffs, args)\n",
    ")"
   ]
  },
  {
   "cell_type": "code",
   "execution_count": 81,
   "metadata": {},
   "outputs": [
    {
     "name": "stdout",
     "output_type": "stream",
     "text": [
      "242.96196215703418\n",
      "242.9619621570704\n",
      "\n",
      "125.49170030046874\n",
      "125.49170030046551\n",
      "\n",
      "247.56814708557008\n",
      "247.56814708556857\n",
      "\n",
      "140.24587304244235\n",
      "140.2458730424406\n",
      "\n"
     ]
    }
   ],
   "source": [
    "f_F_123 = sp.lambdify(args_coeffs, FFunction(*args_coeffs, 1, 1, 1), module)\n",
    "f_F_123_diffs = get_diffs(FFunction(*args_coeffs, 1, 1, 1), args_coeffs)\n",
    "v_f_F_123 = lambda x: f_F_123(*x)\n",
    "\n",
    "args = 1.0, 1.6, 0.9, 1.2\n",
    "compare_exprs(\n",
    "    calc_numerical_diffs(v_f_F_123, args),\n",
    "    calc_exprs(f_F_123_diffs, args)\n",
    ")"
   ]
  },
  {
   "cell_type": "code",
   "execution_count": 82,
   "metadata": {},
   "outputs": [
    {
     "name": "stdout",
     "output_type": "stream",
     "text": [
      "326.37914592414165\n",
      "326.37914592413733\n",
      "\n",
      "186.48747756171457\n",
      "186.4874775617166\n",
      "\n",
      "328.17606098362404\n",
      "328.1760609836284\n",
      "\n",
      "176.9750210485126\n",
      "176.97502104854397\n",
      "\n"
     ]
    }
   ],
   "source": [
    "f_F_tilde_123 = sp.lambdify(args_coeffs, FTildeFunction(*args_coeffs, 1, 1, 1), module)\n",
    "f_F_tilde_123_diffs = get_diffs(FTildeFunction(*args_coeffs, 1, 1, 1), args_coeffs)\n",
    "v_f_F_tilde_123 = lambda x: f_F_tilde_123(*x)\n",
    "\n",
    "args = 1.1, 1.6, 0.9, 1.3\n",
    "compare_exprs(\n",
    "    calc_numerical_diffs(v_f_F_tilde_123, args),\n",
    "    calc_exprs(f_F_tilde_123_diffs, args)\n",
    ")"
   ]
  },
  {
   "cell_type": "code",
   "execution_count": 83,
   "metadata": {},
   "outputs": [],
   "source": [
    "# f_cF3_diffs = get_diffs(cF3Function(*args_coeffs), args_coeffs)\n",
    "# f_cF3_degenerate_diffs = get_diffs(cF3Function_degenerate(*args_coeffs), args_coeffs)\n",
    "\n",
    "# args = 1.1, 1.6, 0.9, 1.2\n",
    "# compare_exprs(\n",
    "#     calc_numerical_diffs(v_cF3, args),\n",
    "#     calc_exprs(f_cF3_diffs, args)\n",
    "# )\n",
    "\n",
    "# args = 1, 1, 1., 1\n",
    "# compare_exprs(\n",
    "#     calc_numerical_diffs(v_cF3, args),\n",
    "#     calc_exprs(f_cF3_degenerate_diffs, args)\n",
    "# )"
   ]
  },
  {
   "cell_type": "markdown",
   "metadata": {},
   "source": [
    "#### Производительность"
   ]
  },
  {
   "cell_type": "code",
   "execution_count": 84,
   "metadata": {},
   "outputs": [],
   "source": [
    "import time"
   ]
  },
  {
   "cell_type": "code",
   "execution_count": 85,
   "metadata": {},
   "outputs": [
    {
     "name": "stdout",
     "output_type": "stream",
     "text": [
      "1.778531e-05\n"
     ]
    }
   ],
   "source": [
    "args = 40, 50, 60, 70\n",
    "N = 1000\n",
    "\n",
    "start = time.time()\n",
    "for _ in range(N):\n",
    "    Z3(*args)  # без lru_cache!!!\n",
    "\n",
    "end = time.time()\n",
    "\n",
    "print(f\"{(end - start)/N:.6e}\")"
   ]
  },
  {
   "cell_type": "code",
   "execution_count": 86,
   "metadata": {},
   "outputs": [
    {
     "name": "stdout",
     "output_type": "stream",
     "text": [
      "1.031677e-02\n"
     ]
    }
   ],
   "source": [
    "args = 60, 50, 60, 70\n",
    "N = 100\n",
    "\n",
    "start = time.time()\n",
    "for _ in range(N):\n",
    "    raw_Z3(*args)\n",
    "\n",
    "end = time.time()\n",
    "\n",
    "print(f\"{(end - start)/N:.6e}\")"
   ]
  },
  {
   "cell_type": "code",
   "execution_count": 87,
   "metadata": {},
   "outputs": [
    {
     "name": "stdout",
     "output_type": "stream",
     "text": [
      "1.589931e-01\n"
     ]
    }
   ],
   "source": [
    "args = 60, 50, 60, 70\n",
    "N = 10\n",
    "\n",
    "start = time.time()\n",
    "for _ in range(N):\n",
    "    raw_raw_Z3(*args)\n",
    "\n",
    "end = time.time()\n",
    "\n",
    "print(f\"{(end - start)/N:.6e}\")"
   ]
  },
  {
   "cell_type": "markdown",
   "metadata": {},
   "source": [
    "## Моменты $\\cal Z^{(3)}$"
   ]
  },
  {
   "cell_type": "markdown",
   "metadata": {},
   "source": [
    "### Символьные вычисления"
   ]
  },
  {
   "cell_type": "markdown",
   "metadata": {},
   "source": [
    "#### Система на первые моменты"
   ]
  },
  {
   "cell_type": "code",
   "execution_count": 88,
   "metadata": {},
   "outputs": [],
   "source": [
    "m_1 = sp.Symbol(\"\\\\left<{m_1}\\\\right>\")\n",
    "m_2 = sp.Symbol(\"\\\\left<{m_2}\\\\right>\")\n",
    "eta = sp.Symbol(\"\\\\left<\\\\eta\\\\right>\")\n",
    "eta_ik = sp.Symbol(\"\\\\left<\\\\eta_{ik}\\\\right>\")"
   ]
  },
  {
   "cell_type": "code",
   "execution_count": 89,
   "metadata": {},
   "outputs": [],
   "source": [
    "Z3_expr = cF3Function(h1, h2, l, l_ik)/sp.sqrt(h1*h2*l*l_ik)\n",
    "\n",
    "expr_m_1 = sp.log(Z3_expr).diff(h1)/2\n",
    "expr_m_1 = sp.Add(*map(sp.factor, expr_m_1.expand().args))\n",
    "\n",
    "expr_m_2 = sp.log(Z3_expr).diff(h2)\n",
    "expr_m_2 = sp.Add(*map(sp.factor, expr_m_2.expand().args))\n",
    "\n",
    "expr_eta = sp.log(Z3_expr).diff(l)/2\n",
    "expr_eta = sp.Add(*map(sp.factor, expr_eta.expand().args))\n",
    "\n",
    "expr_eta_ik = sp.log(Z3_expr).diff(l_ik)\n",
    "expr_eta_ik = sp.Add(*map(sp.factor, expr_eta_ik.expand().args))"
   ]
  },
  {
   "cell_type": "code",
   "execution_count": 90,
   "metadata": {},
   "outputs": [],
   "source": [
    "n, d = sp.fraction(expr_m_1.factor())\n",
    "_expr_m_1 = n-d*m_1\n",
    "\n",
    "n, d = sp.fraction(expr_m_2.factor())\n",
    "_expr_m_2 = n-d*m_2\n",
    "\n",
    "n, d = sp.fraction(expr_eta.factor())\n",
    "_expr_eta = n-d*eta\n",
    "\n",
    "n, d = sp.fraction(expr_eta_ik.factor())\n",
    "_expr_eta_ik = n-d*eta_ik"
   ]
  },
  {
   "cell_type": "code",
   "execution_count": 91,
   "metadata": {},
   "outputs": [],
   "source": [
    "moments_like_terms = [\n",
    "    cF3Function(h1, h2, l, l_ik),\n",
    "    FTildeFunction(h1, h2, l, l_ik, 1, 1, 1),\n",
    "    FTildeFunction(h1, h2, l, l_ik, 1, 1, 0),\n",
    "    FFunction(h1, h2, l, l_ik, 1, 0, 1),\n",
    "]\n",
    "\n",
    "expr1 = sp.collect(_expr_m_1, moments_like_terms, evaluate=False)\n",
    "expr2 = sp.collect(_expr_m_2, moments_like_terms, evaluate=False)\n",
    "expr3 = sp.collect(_expr_eta, moments_like_terms, evaluate=False)\n",
    "expr4 = sp.collect(_expr_eta_ik, moments_like_terms, evaluate=False)\n",
    "\n",
    "def get_line_Matrix(terms):\n",
    "    line = []\n",
    "    for term in moments_like_terms + [1]:\n",
    "        if term in terms:\n",
    "            if term == 1:\n",
    "                line.append(-terms[term].factor())\n",
    "            else:\n",
    "                line.append(terms[term].factor())\n",
    "        else:\n",
    "            line.append(0)\n",
    "    return line\n",
    "\n",
    "line1 = get_line_Matrix(expr1)\n",
    "line2 = get_line_Matrix(expr2)\n",
    "line3 = get_line_Matrix(expr3)\n",
    "line4 = get_line_Matrix(expr4)"
   ]
  },
  {
   "cell_type": "code",
   "execution_count": 92,
   "metadata": {},
   "outputs": [
    {
     "name": "stdout",
     "output_type": "stream",
     "text": [
      "\\left[\\begin{matrix}2 \\sqrt{\\lambda} h_{1}^{\\frac{3}{2}} \\left(\\lambda^{3} h_{1} h_{2} - \\lambda^{2} \\lambda_{ik} h_{2}^{2} - 4 \\lambda^{2} \\left<{m_1}\\right> h_{1}^{3} - 2 \\lambda^{2} h_{1}^{2} + 4 \\lambda \\lambda_{ik} \\left<{m_1}\\right> h_{1}^{2} h_{2} + \\lambda \\lambda_{ik} h_{1} h_{2} - \\lambda h_{1}^{3} h_{2} + \\lambda_{ik} h_{1}^{2} h_{2}^{2}\\right) & \\sqrt{2} \\lambda h_{1}^{3} \\sqrt{h_{2}} \\left(2 \\lambda h_{1} - \\lambda_{ik} h_{2}\\right) & \\sqrt{2} \\lambda^{2} \\lambda_{ik} h_{1}^{2} h_{2}^{\\frac{3}{2}} & 2 \\sqrt{2} \\lambda^{\\frac{5}{2}} \\sqrt{\\lambda_{ik}} h_{1}^{\\frac{7}{2}}\\\\- 2 \\sqrt{\\lambda} \\sqrt{h_{1}} h_{2}^{\\frac{3}{2}} \\left(\\lambda^{3} h_{1} - \\lambda^{2} \\lambda_{ik} h_{2} + 2 \\lambda^{2} \\left<{m_2}\\right> h_{1}^{2} - 2 \\lambda \\lambda_{ik} \\left<{m_2}\\right> h_{1} h_{2} - \\lambda \\lambda_{ik} h_{1} + \\lambda h_{1}^{3} - \\lambda_{ik} h_{1}^{2} h_{2}\\right) & - \\sqrt{2} \\lambda \\lambda_{ik} h_{1}^{2} h_{2}^{2} & - \\sqrt{2} \\lambda^{2} \\lambda_{ik} h_{1} h_{2}^{2} & - 2 \\sqrt{2} \\lambda^{\\frac{5}{2}} \\sqrt{\\lambda_{ik}} h_{1}^{\\frac{5}{2}} \\sqrt{h_{2}}\\\\- 2 \\lambda^{\\frac{3}{2}} \\sqrt{h_{1}} \\left(4 \\lambda^{3} \\left<\\eta\\right> h_{1}^{2} + \\lambda^{3} h_{1} h_{2} - 4 \\lambda^{2} \\lambda_{ik} \\left<\\eta\\right> h_{1} h_{2} - \\lambda^{2} \\lambda_{ik} h_{2}^{2} + 2 \\lambda^{2} h_{1}^{2} - \\lambda \\lambda_{ik} h_{1} h_{2} - \\lambda h_{1}^{3} h_{2} + \\lambda_{ik} h_{1}^{2} h_{2}^{2}\\right) & \\sqrt{2} \\lambda^{2} \\lambda_{ik} h_{1}^{2} h_{2}^{\\frac{3}{2}} & \\sqrt{2} \\lambda^{3} h_{1} \\sqrt{h_{2}} \\left(2 \\lambda h_{1} - \\lambda_{ik} h_{2}\\right) & 2 \\sqrt{2} \\lambda^{\\frac{7}{2}} \\sqrt{\\lambda_{ik}} h_{1}^{\\frac{5}{2}}\\\\- 2 \\lambda_{ik}^{\\frac{3}{2}} \\left(2 \\lambda \\left<\\eta_{ik}\\right> h_{1} + 2 \\lambda h_{1} - 2 \\lambda_{ik} \\left<\\eta_{ik}\\right> h_{2} - 2 \\lambda_{ik} h_{2} - h_{2}\\right) & - \\sqrt{2} \\sqrt{\\lambda} \\sqrt{\\lambda_{ik}} h_{1}^{\\frac{3}{2}} \\sqrt{h_{2}} & - \\sqrt{2} \\lambda^{\\frac{3}{2}} \\sqrt{\\lambda_{ik}} \\sqrt{h_{1}} \\sqrt{h_{2}} & - 2 \\sqrt{2} \\lambda_{ik}^{2} h_{2}\\end{matrix}\\right]\n",
      "\\left[\\begin{matrix}{\\cal F}^{(3)}\\left(h_{1}, h_{2}, \\lambda, \\lambda_{ik}\\right)\\\\\\tilde{\\cal F}_{123}\\left(h_{1}, h_{2}, \\lambda, \\lambda_{ik}\\right)\\\\\\tilde{\\cal F}_{12}\\left(h_{1}, h_{2}, \\lambda, \\lambda_{ik}\\right)\\\\{\\cal F}_{13}\\left(h_{1}, h_{2}, \\lambda, \\lambda_{ik}\\right)\\end{matrix}\\right]\n",
      "\\left[\\begin{matrix}\\lambda^{2} \\sqrt{\\lambda_{ik}} h_{1}^{3} \\sqrt{h_{2}} {\\cal E}_{123}\\left(h_{1}, h_{2}, \\lambda, \\lambda_{ik}\\right)\\\\- \\lambda^{2} \\sqrt{\\lambda_{ik}} h_{1}^{2} h_{2} {\\cal E}_{123}\\left(h_{1}, h_{2}, \\lambda, \\lambda_{ik}\\right)\\\\\\lambda^{3} \\sqrt{\\lambda_{ik}} h_{1}^{2} \\sqrt{h_{2}} {\\cal E}_{123}\\left(h_{1}, h_{2}, \\lambda, \\lambda_{ik}\\right)\\\\- \\sqrt{\\lambda} \\lambda_{ik} \\sqrt{h_{1}} \\sqrt{h_{2}} {\\cal E}_{123}\\left(h_{1}, h_{2}, \\lambda, \\lambda_{ik}\\right)\\end{matrix}\\right]\n"
     ]
    },
    {
     "data": {
      "text/latex": [
       "$\\displaystyle \\left[\\begin{matrix}2 \\sqrt{\\lambda} h_{1}^{\\frac{3}{2}} \\left(\\lambda^{3} h_{1} h_{2} - \\lambda^{2} \\lambda_{ik} h_{2}^{2} - 4 \\lambda^{2} \\left<{m_1}\\right> h_{1}^{3} - 2 \\lambda^{2} h_{1}^{2} + 4 \\lambda \\lambda_{ik} \\left<{m_1}\\right> h_{1}^{2} h_{2} + \\lambda \\lambda_{ik} h_{1} h_{2} - \\lambda h_{1}^{3} h_{2} + \\lambda_{ik} h_{1}^{2} h_{2}^{2}\\right) & \\sqrt{2} \\lambda h_{1}^{3} \\sqrt{h_{2}} \\left(2 \\lambda h_{1} - \\lambda_{ik} h_{2}\\right) & \\sqrt{2} \\lambda^{2} \\lambda_{ik} h_{1}^{2} h_{2}^{\\frac{3}{2}} & 2 \\sqrt{2} \\lambda^{\\frac{5}{2}} \\sqrt{\\lambda_{ik}} h_{1}^{\\frac{7}{2}} & \\lambda^{2} \\sqrt{\\lambda_{ik}} h_{1}^{3} \\sqrt{h_{2}} {\\cal E}_{123}\\left(h_{1}, h_{2}, \\lambda, \\lambda_{ik}\\right)\\\\- 2 \\sqrt{\\lambda} \\sqrt{h_{1}} h_{2}^{\\frac{3}{2}} \\left(\\lambda^{3} h_{1} - \\lambda^{2} \\lambda_{ik} h_{2} + 2 \\lambda^{2} \\left<{m_2}\\right> h_{1}^{2} - 2 \\lambda \\lambda_{ik} \\left<{m_2}\\right> h_{1} h_{2} - \\lambda \\lambda_{ik} h_{1} + \\lambda h_{1}^{3} - \\lambda_{ik} h_{1}^{2} h_{2}\\right) & - \\sqrt{2} \\lambda \\lambda_{ik} h_{1}^{2} h_{2}^{2} & - \\sqrt{2} \\lambda^{2} \\lambda_{ik} h_{1} h_{2}^{2} & - 2 \\sqrt{2} \\lambda^{\\frac{5}{2}} \\sqrt{\\lambda_{ik}} h_{1}^{\\frac{5}{2}} \\sqrt{h_{2}} & - \\lambda^{2} \\sqrt{\\lambda_{ik}} h_{1}^{2} h_{2} {\\cal E}_{123}\\left(h_{1}, h_{2}, \\lambda, \\lambda_{ik}\\right)\\\\- 2 \\lambda^{\\frac{3}{2}} \\sqrt{h_{1}} \\left(4 \\lambda^{3} \\left<\\eta\\right> h_{1}^{2} + \\lambda^{3} h_{1} h_{2} - 4 \\lambda^{2} \\lambda_{ik} \\left<\\eta\\right> h_{1} h_{2} - \\lambda^{2} \\lambda_{ik} h_{2}^{2} + 2 \\lambda^{2} h_{1}^{2} - \\lambda \\lambda_{ik} h_{1} h_{2} - \\lambda h_{1}^{3} h_{2} + \\lambda_{ik} h_{1}^{2} h_{2}^{2}\\right) & \\sqrt{2} \\lambda^{2} \\lambda_{ik} h_{1}^{2} h_{2}^{\\frac{3}{2}} & \\sqrt{2} \\lambda^{3} h_{1} \\sqrt{h_{2}} \\left(2 \\lambda h_{1} - \\lambda_{ik} h_{2}\\right) & 2 \\sqrt{2} \\lambda^{\\frac{7}{2}} \\sqrt{\\lambda_{ik}} h_{1}^{\\frac{5}{2}} & \\lambda^{3} \\sqrt{\\lambda_{ik}} h_{1}^{2} \\sqrt{h_{2}} {\\cal E}_{123}\\left(h_{1}, h_{2}, \\lambda, \\lambda_{ik}\\right)\\\\- 2 \\lambda_{ik}^{\\frac{3}{2}} \\left(2 \\lambda \\left<\\eta_{ik}\\right> h_{1} + 2 \\lambda h_{1} - 2 \\lambda_{ik} \\left<\\eta_{ik}\\right> h_{2} - 2 \\lambda_{ik} h_{2} - h_{2}\\right) & - \\sqrt{2} \\sqrt{\\lambda} \\sqrt{\\lambda_{ik}} h_{1}^{\\frac{3}{2}} \\sqrt{h_{2}} & - \\sqrt{2} \\lambda^{\\frac{3}{2}} \\sqrt{\\lambda_{ik}} \\sqrt{h_{1}} \\sqrt{h_{2}} & - 2 \\sqrt{2} \\lambda_{ik}^{2} h_{2} & - \\sqrt{\\lambda} \\lambda_{ik} \\sqrt{h_{1}} \\sqrt{h_{2}} {\\cal E}_{123}\\left(h_{1}, h_{2}, \\lambda, \\lambda_{ik}\\right)\\end{matrix}\\right]$"
      ],
      "text/plain": [
       "Matrix([\n",
       "[2*sqrt(\\lambda)*h_1**(3/2)*(\\lambda**3*h_1*h_2 - \\lambda**2*\\lambda_{ik}*h_2**2 - 4*\\lambda**2*\\left<{m_1}\\right>*h_1**3 - 2*\\lambda**2*h_1**2 + 4*\\lambda*\\lambda_{ik}*\\left<{m_1}\\right>*h_1**2*h_2 + \\lambda*\\lambda_{ik}*h_1*h_2 - \\lambda*h_1**3*h_2 + \\lambda_{ik}*h_1**2*h_2**2), sqrt(2)*\\lambda*h_1**3*sqrt(h_2)*(2*\\lambda*h_1 - \\lambda_{ik}*h_2),                   sqrt(2)*\\lambda**2*\\lambda_{ik}*h_1**2*h_2**(3/2),            2*sqrt(2)*\\lambda**(5/2)*sqrt(\\lambda_{ik})*h_1**(7/2),  \\lambda**2*sqrt(\\lambda_{ik})*h_1**3*sqrt(h_2)*EFunction(h_1, h_2, \\lambda, \\lambda_{ik}, 1, 1, 1)],\n",
       "[                                -2*sqrt(\\lambda)*sqrt(h_1)*h_2**(3/2)*(\\lambda**3*h_1 - \\lambda**2*\\lambda_{ik}*h_2 + 2*\\lambda**2*\\left<{m_2}\\right>*h_1**2 - 2*\\lambda*\\lambda_{ik}*\\left<{m_2}\\right>*h_1*h_2 - \\lambda*\\lambda_{ik}*h_1 + \\lambda*h_1**3 - \\lambda_{ik}*h_1**2*h_2),                         -sqrt(2)*\\lambda*\\lambda_{ik}*h_1**2*h_2**2,                         -sqrt(2)*\\lambda**2*\\lambda_{ik}*h_1*h_2**2, -2*sqrt(2)*\\lambda**(5/2)*sqrt(\\lambda_{ik})*h_1**(5/2)*sqrt(h_2),       -\\lambda**2*sqrt(\\lambda_{ik})*h_1**2*h_2*EFunction(h_1, h_2, \\lambda, \\lambda_{ik}, 1, 1, 1)],\n",
       "[ -2*\\lambda**(3/2)*sqrt(h_1)*(4*\\lambda**3*\\left<\\eta\\right>*h_1**2 + \\lambda**3*h_1*h_2 - 4*\\lambda**2*\\lambda_{ik}*\\left<\\eta\\right>*h_1*h_2 - \\lambda**2*\\lambda_{ik}*h_2**2 + 2*\\lambda**2*h_1**2 - \\lambda*\\lambda_{ik}*h_1*h_2 - \\lambda*h_1**3*h_2 + \\lambda_{ik}*h_1**2*h_2**2),                   sqrt(2)*\\lambda**2*\\lambda_{ik}*h_1**2*h_2**(3/2), sqrt(2)*\\lambda**3*h_1*sqrt(h_2)*(2*\\lambda*h_1 - \\lambda_{ik}*h_2),            2*sqrt(2)*\\lambda**(7/2)*sqrt(\\lambda_{ik})*h_1**(5/2),  \\lambda**3*sqrt(\\lambda_{ik})*h_1**2*sqrt(h_2)*EFunction(h_1, h_2, \\lambda, \\lambda_{ik}, 1, 1, 1)],\n",
       "[                                                                                                                                   -2*\\lambda_{ik}**(3/2)*(2*\\lambda*\\left<\\eta_{ik}\\right>*h_1 + 2*\\lambda*h_1 - 2*\\lambda_{ik}*\\left<\\eta_{ik}\\right>*h_2 - 2*\\lambda_{ik}*h_2 - h_2),      -sqrt(2)*sqrt(\\lambda)*sqrt(\\lambda_{ik})*h_1**(3/2)*sqrt(h_2),      -sqrt(2)*\\lambda**(3/2)*sqrt(\\lambda_{ik})*sqrt(h_1)*sqrt(h_2),                                    -2*sqrt(2)*\\lambda_{ik}**2*h_2, -sqrt(\\lambda)*\\lambda_{ik}*sqrt(h_1)*sqrt(h_2)*EFunction(h_1, h_2, \\lambda, \\lambda_{ik}, 1, 1, 1)]])"
      ]
     },
     "metadata": {},
     "output_type": "display_data"
    }
   ],
   "source": [
    "M = sp.Matrix([line1, line2, line3, line4])\n",
    "X = sp.Matrix([[item] for item in moments_like_terms])\n",
    "\n",
    "sp.print_latex(M[:, :-1])\n",
    "sp.print_latex(X)\n",
    "sp.print_latex(M.col(-1))\n",
    "display(M)"
   ]
  },
  {
   "cell_type": "code",
   "execution_count": 93,
   "metadata": {},
   "outputs": [
    {
     "data": {
      "text/latex": [
       "$\\displaystyle \\left[\\begin{matrix}2 \\lambda \\left<{m_1}\\right> h_{1} + \\lambda \\left<{m_2}\\right> h_{2} + \\lambda + h_{1} h_{2} & - \\frac{\\sqrt{2} \\sqrt{\\lambda} \\sqrt{h_{1}} \\sqrt{h_{2}}}{2} & 0 & 0 & 0\\\\2 \\lambda \\left<\\eta\\right> h_{1} + \\lambda h_{2} + \\left<{m_2}\\right> h_{1} h_{2} + h_{1} & 0 & - \\frac{\\sqrt{2} \\sqrt{\\lambda} \\sqrt{h_{1}} \\sqrt{h_{2}}}{2} & 0 & 0\\\\2 \\lambda \\left<\\eta\\right> + 2 \\lambda_{ik} \\left<\\eta_{ik}\\right> + 2 \\lambda_{ik} + 2 \\left<{m_1}\\right> h_{1} + 2 & 0 & 0 & - \\sqrt{2} \\sqrt{\\lambda_{ik}} & 0\\\\2 \\lambda^{2} \\left<\\eta\\right> h_{1} + \\lambda^{2} h_{2} + 2 \\lambda \\lambda_{ik} \\left<\\eta\\right> h_{2} + 2 \\lambda \\lambda_{ik} \\left<\\eta_{ik}\\right> h_{1} + 2 \\lambda \\lambda_{ik} h_{1} + 2 \\lambda \\left<{m_1}\\right> h_{1}^{2} + 2 \\lambda \\left<{m_2}\\right> h_{1} h_{2} + 2 \\lambda h_{1} + 2 \\lambda_{ik} \\left<{m_1}\\right> h_{1} h_{2} + \\lambda_{ik} h_{2} + h_{1}^{2} h_{2} & 0 & 0 & 0 & \\frac{\\sqrt{\\lambda} \\sqrt{\\lambda_{ik}} \\sqrt{h_{1}} \\sqrt{h_{2}} {\\cal E}_{123}\\left(h_{1}, h_{2}, \\lambda, \\lambda_{ik}\\right)}{2}\\end{matrix}\\right]$"
      ],
      "text/plain": [
       "Matrix([\n",
       "[                                                                                                                                                                                                                                                                       2*\\lambda*\\left<{m_1}\\right>*h_1 + \\lambda*\\left<{m_2}\\right>*h_2 + \\lambda + h_1*h_2, -sqrt(2)*sqrt(\\lambda)*sqrt(h_1)*sqrt(h_2)/2,                                            0,                           0,                                                                                                          0],\n",
       "[                                                                                                                                                                                                                                                                            2*\\lambda*\\left<\\eta\\right>*h_1 + \\lambda*h_2 + \\left<{m_2}\\right>*h_1*h_2 + h_1,                                            0, -sqrt(2)*sqrt(\\lambda)*sqrt(h_1)*sqrt(h_2)/2,                           0,                                                                                                          0],\n",
       "[                                                                                                                                                                                                                                         2*\\lambda*\\left<\\eta\\right> + 2*\\lambda_{ik}*\\left<\\eta_{ik}\\right> + 2*\\lambda_{ik} + 2*\\left<{m_1}\\right>*h_1 + 2,                                            0,                                            0, -sqrt(2)*sqrt(\\lambda_{ik}),                                                                                                          0],\n",
       "[2*\\lambda**2*\\left<\\eta\\right>*h_1 + \\lambda**2*h_2 + 2*\\lambda*\\lambda_{ik}*\\left<\\eta\\right>*h_2 + 2*\\lambda*\\lambda_{ik}*\\left<\\eta_{ik}\\right>*h_1 + 2*\\lambda*\\lambda_{ik}*h_1 + 2*\\lambda*\\left<{m_1}\\right>*h_1**2 + 2*\\lambda*\\left<{m_2}\\right>*h_1*h_2 + 2*\\lambda*h_1 + 2*\\lambda_{ik}*\\left<{m_1}\\right>*h_1*h_2 + \\lambda_{ik}*h_2 + h_1**2*h_2,                                            0,                                            0,                           0, sqrt(\\lambda)*sqrt(\\lambda_{ik})*sqrt(h_1)*sqrt(h_2)*EFunction(h_1, h_2, \\lambda, \\lambda_{ik}, 1, 1, 1)/2]])"
      ]
     },
     "metadata": {},
     "output_type": "display_data"
    }
   ],
   "source": [
    "M = sp.Matrix([line1, line2, line3, line4])\n",
    "M[0, :] /= sp.sqrt(l)*h1*sp.sqrt(h1)/sp.sqrt(h2)\n",
    "M[1, :] /= sp.sqrt(l)*sp.sqrt(h1)\n",
    "M[2, :] /= sp.sqrt(l)*l*sp.sqrt(h1)/sp.sqrt(h2)\n",
    "M[3, :] /= sp.sqrt(l_ik)/sp.sqrt(h2)\n",
    "\n",
    "M[0, :] += M[1, :]\n",
    "M[1, :] += M[2, :]\n",
    "M[2, :] += M[0, :]/2\n",
    "M[2, :] -= M[1, :]\n",
    "M[2, :] += l_ik*h2*M[3, :]\n",
    "M[3, :] -= M[2, :]/(l_ik*h2)\n",
    "M = M.expand()\n",
    "\n",
    "M = sp.Matrix(4, 5, lambda i, j: M[i, j].factor())\n",
    "M[0, :] /= (l*h1-l_ik*h2)*h1*sp.sqrt(h2)*2\n",
    "M[1, :] /= (l*h1-l_ik*h2)*l*sp.sqrt(h2)*2\n",
    "M[2, :] /= (l*h1-l_ik*h2)*sp.sqrt(h2)\n",
    "M[3, :] *= l_ik*sp.sqrt(h2)\n",
    "\n",
    "M[2, :] -= M[0, :]*h1\n",
    "M[3, :] += M[0, :]*h1**2*l\n",
    "M[3, :] += M[1, :]*h2*l*l_ik\n",
    "M[2, :] += M[3, :]/(h1*l)\n",
    "M[3, :] += M[2, :]/(l_ik*h2)*h1**2*l**2\n",
    "M = M.expand()\n",
    "\n",
    "M = sp.Matrix(4, 5, lambda i, j: M[i, j].factor())\n",
    "M[0, :] /= -2\n",
    "M[1, :] /= -2\n",
    "M[2, :] /= -2*l_ik*h2\n",
    "M[3, :] /= -2*l*h1\n",
    "\n",
    "display(M)"
   ]
  },
  {
   "cell_type": "code",
   "execution_count": 94,
   "metadata": {},
   "outputs": [
    {
     "name": "stdout",
     "output_type": "stream",
     "text": [
      "\\left[\\begin{matrix}2 \\lambda \\left<{m_1}\\right> h_{1} + \\lambda \\left<{m_2}\\right> h_{2} + \\lambda + h_{1} h_{2} & - \\frac{\\sqrt{2} \\sqrt{\\lambda} \\sqrt{h_{1}} \\sqrt{h_{2}}}{2} & 0 & 0\\\\2 \\lambda \\left<\\eta\\right> h_{1} + \\lambda h_{2} + \\left<{m_2}\\right> h_{1} h_{2} + h_{1} & 0 & - \\frac{\\sqrt{2} \\sqrt{\\lambda} \\sqrt{h_{1}} \\sqrt{h_{2}}}{2} & 0\\\\2 \\lambda \\left<\\eta\\right> + 2 \\lambda_{ik} \\left<\\eta_{ik}\\right> + 2 \\lambda_{ik} + 2 \\left<{m_1}\\right> h_{1} + 2 & 0 & 0 & - \\sqrt{2} \\sqrt{\\lambda_{ik}}\\\\\\Delta & 0 & 0 & 0\\end{matrix}\\right]\n",
      "\\left[\\begin{matrix}{\\cal F}^{(3)}\\left(h_{1}, h_{2}, \\lambda, \\lambda_{ik}\\right)\\\\\\tilde{\\cal F}_{123}\\left(h_{1}, h_{2}, \\lambda, \\lambda_{ik}\\right)\\\\\\tilde{\\cal F}_{12}\\left(h_{1}, h_{2}, \\lambda, \\lambda_{ik}\\right)\\\\{\\cal F}_{13}\\left(h_{1}, h_{2}, \\lambda, \\lambda_{ik}\\right)\\end{matrix}\\right]\n",
      "\\left[\\begin{matrix}0\\\\0\\\\0\\\\\\frac{\\sqrt{\\lambda} \\sqrt{\\lambda_{ik}} \\sqrt{h_{1}} \\sqrt{h_{2}} {\\cal E}_{123}\\left(h_{1}, h_{2}, \\lambda, \\lambda_{ik}\\right)}{2}\\end{matrix}\\right]\n",
      "\n",
      "2 \\lambda^{2} \\left<\\eta\\right> h_{1} + \\lambda^{2} h_{2} + 2 \\lambda \\lambda_{ik} \\left<\\eta\\right> h_{2} + 2 \\lambda \\lambda_{ik} \\left<\\eta_{ik}\\right> h_{1} + 2 \\lambda \\lambda_{ik} h_{1} + 2 \\lambda \\left<{m_1}\\right> h_{1}^{2} + 2 \\lambda \\left<{m_2}\\right> h_{1} h_{2} + 2 \\lambda h_{1} + 2 \\lambda_{ik} \\left<{m_1}\\right> h_{1} h_{2} + \\lambda_{ik} h_{2} + h_{1}^{2} h_{2}\n"
     ]
    },
    {
     "data": {
      "text/latex": [
       "$\\displaystyle \\left[\\begin{matrix}2 \\lambda \\left<{m_1}\\right> h_{1} + \\lambda \\left<{m_2}\\right> h_{2} + \\lambda + h_{1} h_{2} & - \\frac{\\sqrt{2} \\sqrt{\\lambda} \\sqrt{h_{1}} \\sqrt{h_{2}}}{2} & 0 & 0 & 0\\\\2 \\lambda \\left<\\eta\\right> h_{1} + \\lambda h_{2} + \\left<{m_2}\\right> h_{1} h_{2} + h_{1} & 0 & - \\frac{\\sqrt{2} \\sqrt{\\lambda} \\sqrt{h_{1}} \\sqrt{h_{2}}}{2} & 0 & 0\\\\2 \\lambda \\left<\\eta\\right> + 2 \\lambda_{ik} \\left<\\eta_{ik}\\right> + 2 \\lambda_{ik} + 2 \\left<{m_1}\\right> h_{1} + 2 & 0 & 0 & - \\sqrt{2} \\sqrt{\\lambda_{ik}} & 0\\\\\\Delta & 0 & 0 & 0 & \\frac{\\sqrt{\\lambda} \\sqrt{\\lambda_{ik}} \\sqrt{h_{1}} \\sqrt{h_{2}} {\\cal E}_{123}\\left(h_{1}, h_{2}, \\lambda, \\lambda_{ik}\\right)}{2}\\end{matrix}\\right]$"
      ],
      "text/plain": [
       "Matrix([\n",
       "[                              2*\\lambda*\\left<{m_1}\\right>*h_1 + \\lambda*\\left<{m_2}\\right>*h_2 + \\lambda + h_1*h_2, -sqrt(2)*sqrt(\\lambda)*sqrt(h_1)*sqrt(h_2)/2,                                            0,                           0,                                                                                                          0],\n",
       "[                                   2*\\lambda*\\left<\\eta\\right>*h_1 + \\lambda*h_2 + \\left<{m_2}\\right>*h_1*h_2 + h_1,                                            0, -sqrt(2)*sqrt(\\lambda)*sqrt(h_1)*sqrt(h_2)/2,                           0,                                                                                                          0],\n",
       "[2*\\lambda*\\left<\\eta\\right> + 2*\\lambda_{ik}*\\left<\\eta_{ik}\\right> + 2*\\lambda_{ik} + 2*\\left<{m_1}\\right>*h_1 + 2,                                            0,                                            0, -sqrt(2)*sqrt(\\lambda_{ik}),                                                                                                          0],\n",
       "[                                                                                                             \\Delta,                                            0,                                            0,                           0, sqrt(\\lambda)*sqrt(\\lambda_{ik})*sqrt(h_1)*sqrt(h_2)*EFunction(h_1, h_2, \\lambda, \\lambda_{ik}, 1, 1, 1)/2]])"
      ]
     },
     "metadata": {},
     "output_type": "display_data"
    }
   ],
   "source": [
    "s_M_system_det = sp.Symbol(\"\\\\Delta\")\n",
    "M_system_det = M[3, 0]\n",
    "M[3, 0] = s_M_system_det\n",
    "\n",
    "sp.print_latex(M[:, :-1])\n",
    "sp.print_latex(X)\n",
    "sp.print_latex(M.col(-1))\n",
    "print()\n",
    "sp.print_latex(M_system_det)\n",
    "\n",
    "display(M)"
   ]
  },
  {
   "cell_type": "code",
   "execution_count": 95,
   "metadata": {},
   "outputs": [
    {
     "data": {
      "text/latex": [
       "$\\displaystyle {\\cal F}^{(3)}\\left(h_{1}, h_{2}, \\lambda, \\lambda_{ik}\\right) = \\frac{\\sqrt{\\lambda} \\sqrt{\\lambda_{ik}} \\sqrt{h_{1}} \\sqrt{h_{2}} {\\cal E}_{123}\\left(h_{1}, h_{2}, \\lambda, \\lambda_{ik}\\right)}{2 \\Delta}$"
      ],
      "text/plain": [
       "Eq(cF3Function(h_1, h_2, \\lambda, \\lambda_{ik}), sqrt(\\lambda)*sqrt(\\lambda_{ik})*sqrt(h_1)*sqrt(h_2)*EFunction(h_1, h_2, \\lambda, \\lambda_{ik}, 1, 1, 1)/(2*\\Delta))"
      ]
     },
     "metadata": {},
     "output_type": "display_data"
    },
    {
     "data": {
      "text/latex": [
       "$\\displaystyle \\tilde{\\cal F}_{123}\\left(h_{1}, h_{2}, \\lambda, \\lambda_{ik}\\right) = \\frac{\\sqrt{2} \\sqrt{\\lambda_{ik}} \\left(2 \\lambda \\left<{m_1}\\right> h_{1} + \\lambda \\left<{m_2}\\right> h_{2} + \\lambda + h_{1} h_{2}\\right) {\\cal E}_{123}\\left(h_{1}, h_{2}, \\lambda, \\lambda_{ik}\\right)}{2 \\Delta}$"
      ],
      "text/plain": [
       "Eq(FTildeFunction(h_1, h_2, \\lambda, \\lambda_{ik}, 1, 1, 1), sqrt(2)*sqrt(\\lambda_{ik})*(2*\\lambda*\\left<{m_1}\\right>*h_1 + \\lambda*\\left<{m_2}\\right>*h_2 + \\lambda + h_1*h_2)*EFunction(h_1, h_2, \\lambda, \\lambda_{ik}, 1, 1, 1)/(2*\\Delta))"
      ]
     },
     "metadata": {},
     "output_type": "display_data"
    },
    {
     "data": {
      "text/latex": [
       "$\\displaystyle \\tilde{\\cal F}_{12}\\left(h_{1}, h_{2}, \\lambda, \\lambda_{ik}\\right) = \\frac{\\sqrt{2} \\sqrt{\\lambda_{ik}} \\left(2 \\lambda \\left<\\eta\\right> h_{1} + \\lambda h_{2} + \\left<{m_2}\\right> h_{1} h_{2} + h_{1}\\right) {\\cal E}_{123}\\left(h_{1}, h_{2}, \\lambda, \\lambda_{ik}\\right)}{2 \\Delta}$"
      ],
      "text/plain": [
       "Eq(FTildeFunction(h_1, h_2, \\lambda, \\lambda_{ik}, 1, 1, 0), sqrt(2)*sqrt(\\lambda_{ik})*(2*\\lambda*\\left<\\eta\\right>*h_1 + \\lambda*h_2 + \\left<{m_2}\\right>*h_1*h_2 + h_1)*EFunction(h_1, h_2, \\lambda, \\lambda_{ik}, 1, 1, 1)/(2*\\Delta))"
      ]
     },
     "metadata": {},
     "output_type": "display_data"
    },
    {
     "data": {
      "text/latex": [
       "$\\displaystyle {\\cal F}_{13}\\left(h_{1}, h_{2}, \\lambda, \\lambda_{ik}\\right) = \\frac{\\sqrt{2} \\sqrt{\\lambda} \\sqrt{h_{1}} \\sqrt{h_{2}} \\left(\\lambda \\left<\\eta\\right> + \\lambda_{ik} \\left<\\eta_{ik}\\right> + \\lambda_{ik} + \\left<{m_1}\\right> h_{1} + 1\\right) {\\cal E}_{123}\\left(h_{1}, h_{2}, \\lambda, \\lambda_{ik}\\right)}{2 \\Delta}$"
      ],
      "text/plain": [
       "Eq(FFunction(h_1, h_2, \\lambda, \\lambda_{ik}, 1, 0, 1), sqrt(2)*sqrt(\\lambda)*sqrt(h_1)*sqrt(h_2)*(\\lambda*\\left<\\eta\\right> + \\lambda_{ik}*\\left<\\eta_{ik}\\right> + \\lambda_{ik} + \\left<{m_1}\\right>*h_1 + 1)*EFunction(h_1, h_2, \\lambda, \\lambda_{ik}, 1, 1, 1)/(2*\\Delta))"
      ]
     },
     "metadata": {},
     "output_type": "display_data"
    },
    {
     "name": "stdout",
     "output_type": "stream",
     "text": [
      "{\\cal F}^{(3)}\\left(h_{1}, h_{2}, \\lambda, \\lambda_{ik}\\right) = \\frac{\\sqrt{\\lambda} \\sqrt{\\lambda_{ik}} \\sqrt{h_{1}} \\sqrt{h_{2}} {\\cal E}_{123}\\left(h_{1}, h_{2}, \\lambda, \\lambda_{ik}\\right)}{2 \\Delta}\n",
      "\\tilde{\\cal F}_{123}\\left(h_{1}, h_{2}, \\lambda, \\lambda_{ik}\\right) = \\frac{\\sqrt{2} \\sqrt{\\lambda_{ik}} \\left(2 \\lambda \\left<{m_1}\\right> h_{1} + \\lambda \\left<{m_2}\\right> h_{2} + \\lambda + h_{1} h_{2}\\right) {\\cal E}_{123}\\left(h_{1}, h_{2}, \\lambda, \\lambda_{ik}\\right)}{2 \\Delta}\n",
      "\\tilde{\\cal F}_{12}\\left(h_{1}, h_{2}, \\lambda, \\lambda_{ik}\\right) = \\frac{\\sqrt{2} \\sqrt{\\lambda_{ik}} \\left(2 \\lambda \\left<\\eta\\right> h_{1} + \\lambda h_{2} + \\left<{m_2}\\right> h_{1} h_{2} + h_{1}\\right) {\\cal E}_{123}\\left(h_{1}, h_{2}, \\lambda, \\lambda_{ik}\\right)}{2 \\Delta}\n",
      "{\\cal F}_{13}\\left(h_{1}, h_{2}, \\lambda, \\lambda_{ik}\\right) = \\frac{\\sqrt{2} \\sqrt{\\lambda} \\sqrt{h_{1}} \\sqrt{h_{2}} \\left(\\lambda \\left<\\eta\\right> + \\lambda_{ik} \\left<\\eta_{ik}\\right> + \\lambda_{ik} + \\left<{m_1}\\right> h_{1} + 1\\right) {\\cal E}_{123}\\left(h_{1}, h_{2}, \\lambda, \\lambda_{ik}\\right)}{2 \\Delta}\n"
     ]
    }
   ],
   "source": [
    "result = sp.solve_linear_system(M, *moments_like_terms)\n",
    "\n",
    "expr_cF3Function = result[moments_like_terms[0]].factor()\n",
    "expr_FTildeFunction_123 = result[moments_like_terms[1]].factor()\n",
    "expr_FTildeFunction_12 = result[moments_like_terms[2]].factor()\n",
    "expr_FFunction_13 = result[moments_like_terms[3]].factor()\n",
    "\n",
    "display(sp.Eq(moments_like_terms[0], expr_cF3Function))\n",
    "display(sp.Eq(moments_like_terms[1], expr_FTildeFunction_123))\n",
    "display(sp.Eq(moments_like_terms[2], expr_FTildeFunction_12))\n",
    "display(sp.Eq(moments_like_terms[3], expr_FFunction_13))\n",
    "\n",
    "sp.print_latex(sp.Eq(moments_like_terms[0], expr_cF3Function))\n",
    "sp.print_latex(sp.Eq(moments_like_terms[1], expr_FTildeFunction_123))\n",
    "sp.print_latex(sp.Eq(moments_like_terms[2], expr_FTildeFunction_12))\n",
    "sp.print_latex(sp.Eq(moments_like_terms[3], expr_FFunction_13))\n"
   ]
  },
  {
   "cell_type": "code",
   "execution_count": 96,
   "metadata": {},
   "outputs": [],
   "source": [
    "subs_to_moments = {\n",
    "    cF3Function(*args_coeffs): expr_cF3Function,\n",
    "    FTildeFunction(*args_coeffs, 1, 1, 1): expr_FTildeFunction_123,\n",
    "    FTildeFunction(*args_coeffs, 1, 1, 0): expr_FTildeFunction_12,\n",
    "    FFunction(*args_coeffs, 1, 0, 1): expr_FFunction_13\n",
    "}\n",
    "\n",
    "sub_M_det = {s_M_system_det: M_system_det}"
   ]
  },
  {
   "cell_type": "code",
   "execution_count": 97,
   "metadata": {},
   "outputs": [],
   "source": [
    "Z3_degenerate_expr = cF3Function_degenerate(h1, h2, l, l_ik)/sp.sqrt(h1*h2*l*l_ik)\n",
    "\n",
    "expr_m_1_degenerate = sp.log(Z3_degenerate_expr).diff(h1)/2\n",
    "expr_m_1_degenerate = expr_m_1_degenerate.expand()\n",
    "\n",
    "expr_m_2_degenerate = sp.log(Z3_degenerate_expr).diff(h2)\n",
    "expr_m_2_degenerate = expr_m_2_degenerate.expand()\n",
    "\n",
    "expr_eta_degenerate = sp.log(Z3_degenerate_expr).diff(l)/2\n",
    "expr_eta_degenerate = expr_eta_degenerate.expand()\n",
    "\n",
    "expr_eta_ik_degenerate = sp.log(Z3_degenerate_expr).diff(l_ik)\n",
    "expr_eta_ik_degenerate = expr_eta_ik_degenerate.expand()"
   ]
  },
  {
   "cell_type": "code",
   "execution_count": 98,
   "metadata": {},
   "outputs": [
    {
     "data": {
      "text/latex": [
       "$\\displaystyle - \\frac{\\sqrt{2} \\lambda^{\\frac{3}{2}} \\sqrt{h_{1}} {\\cal F}_{13}\\left(h_{1}, h_{2}, \\lambda, \\lambda_{ik}\\right)}{h_{2}^{\\frac{3}{2}} {\\cal F}^{(3)}\\left(h_{1}, h_{2}, \\lambda, \\lambda_{ik}\\right)} - \\frac{\\sqrt{2} \\lambda^{\\frac{3}{2}} {\\cal F}_{}\\left(h_{1}, h_{2}, \\lambda, \\lambda_{ik}\\right)}{4 \\sqrt{h_{1}} \\sqrt{h_{2}} {\\cal F}^{(3)}\\left(h_{1}, h_{2}, \\lambda, \\lambda_{ik}\\right)} - \\frac{\\sqrt{2} \\lambda^{\\frac{3}{2}} {\\cal F}_{12}\\left(h_{1}, h_{2}, \\lambda, \\lambda_{ik}\\right)}{4 \\sqrt{h_{1}} \\sqrt{h_{2}} {\\cal F}^{(3)}\\left(h_{1}, h_{2}, \\lambda, \\lambda_{ik}\\right)} + \\frac{\\sqrt{2} \\lambda^{\\frac{3}{2}} \\sqrt{h_{2}} {\\cal F}_{13}\\left(h_{1}, h_{2}, \\lambda, \\lambda_{ik}\\right)}{4 h_{1}^{\\frac{3}{2}} {\\cal F}^{(3)}\\left(h_{1}, h_{2}, \\lambda, \\lambda_{ik}\\right)} + \\frac{\\sqrt{2} \\lambda^{\\frac{3}{2}} h_{2}^{\\frac{3}{2}} {\\cal F}_{12}\\left(h_{1}, h_{2}, \\lambda, \\lambda_{ik}\\right)}{8 h_{1}^{\\frac{5}{2}} {\\cal F}^{(3)}\\left(h_{1}, h_{2}, \\lambda, \\lambda_{ik}\\right)} - \\frac{\\lambda^{\\frac{3}{2}} \\sqrt{h_{1}} {\\cal E}_{3}\\left(h_{1}, h_{2}, \\lambda, \\lambda_{ik}\\right)}{6 \\sqrt{\\lambda_{ik}} h_{2}^{\\frac{3}{2}} {\\cal F}^{(3)}\\left(h_{1}, h_{2}, \\lambda, \\lambda_{ik}\\right)} - \\frac{\\lambda^{\\frac{3}{2}} \\sqrt{h_{1}} {\\cal E}_{123}\\left(h_{1}, h_{2}, \\lambda, \\lambda_{ik}\\right)}{6 \\sqrt{\\lambda_{ik}} h_{2}^{\\frac{3}{2}} {\\cal F}^{(3)}\\left(h_{1}, h_{2}, \\lambda, \\lambda_{ik}\\right)} - \\frac{\\lambda^{\\frac{3}{2}} {\\cal E}_{1}\\left(h_{1}, h_{2}, \\lambda, \\lambda_{ik}\\right)}{12 \\sqrt{\\lambda_{ik}} \\sqrt{h_{1}} \\sqrt{h_{2}} {\\cal F}^{(3)}\\left(h_{1}, h_{2}, \\lambda, \\lambda_{ik}\\right)} + \\frac{\\lambda^{\\frac{3}{2}} \\sqrt{h_{2}} {\\cal E}_{123}\\left(h_{1}, h_{2}, \\lambda, \\lambda_{ik}\\right)}{24 \\sqrt{\\lambda_{ik}} h_{1}^{\\frac{3}{2}} {\\cal F}^{(3)}\\left(h_{1}, h_{2}, \\lambda, \\lambda_{ik}\\right)} - \\frac{\\sqrt{2} \\sqrt{\\lambda} \\sqrt{h_{1}} {\\cal F}_{3}\\left(h_{1}, h_{2}, \\lambda, \\lambda_{ik}\\right)}{4 \\sqrt{h_{2}} {\\cal F}^{(3)}\\left(h_{1}, h_{2}, \\lambda, \\lambda_{ik}\\right)} - \\frac{\\sqrt{2} \\sqrt{\\lambda} \\sqrt{h_{1}} {\\cal F}_{123}\\left(h_{1}, h_{2}, \\lambda, \\lambda_{ik}\\right)}{4 \\sqrt{h_{2}} {\\cal F}^{(3)}\\left(h_{1}, h_{2}, \\lambda, \\lambda_{ik}\\right)} + \\frac{\\sqrt{2} \\sqrt{\\lambda} \\tilde{\\cal F}_{13}\\left(h_{1}, h_{2}, \\lambda, \\lambda_{ik}\\right)}{4 \\sqrt{h_{1}} \\sqrt{h_{2}} {\\cal F}^{(3)}\\left(h_{1}, h_{2}, \\lambda, \\lambda_{ik}\\right)} + \\frac{\\sqrt{2} \\sqrt{\\lambda} h_{2}^{\\frac{3}{2}} {\\cal F}_{123}\\left(h_{1}, h_{2}, \\lambda, \\lambda_{ik}\\right)}{8 h_{1}^{\\frac{3}{2}} {\\cal F}^{(3)}\\left(h_{1}, h_{2}, \\lambda, \\lambda_{ik}\\right)} - \\frac{\\sqrt{2} \\sqrt{\\lambda} \\sqrt{h_{2}} \\tilde{\\cal F}_{12}\\left(h_{1}, h_{2}, \\lambda, \\lambda_{ik}\\right)}{8 h_{1}^{\\frac{3}{2}} {\\cal F}^{(3)}\\left(h_{1}, h_{2}, \\lambda, \\lambda_{ik}\\right)} - \\frac{\\sqrt{\\lambda} \\sqrt{h_{1}} {\\cal E}_{13}\\left(h_{1}, h_{2}, \\lambda, \\lambda_{ik}\\right)}{12 \\sqrt{\\lambda_{ik}} \\sqrt{h_{2}} {\\cal F}^{(3)}\\left(h_{1}, h_{2}, \\lambda, \\lambda_{ik}\\right)} + \\frac{\\sqrt{\\lambda} \\sqrt{h_{2}} {\\cal E}_{12}\\left(h_{1}, h_{2}, \\lambda, \\lambda_{ik}\\right)}{12 \\sqrt{\\lambda_{ik}} \\sqrt{h_{1}} {\\cal F}^{(3)}\\left(h_{1}, h_{2}, \\lambda, \\lambda_{ik}\\right)} + \\frac{\\sqrt{\\lambda} {\\cal E}_{123}\\left(h_{1}, h_{2}, \\lambda, \\lambda_{ik}\\right)}{24 \\sqrt{\\lambda_{ik}} \\sqrt{h_{1}} \\sqrt{h_{2}} {\\cal F}^{(3)}\\left(h_{1}, h_{2}, \\lambda, \\lambda_{ik}\\right)} + \\frac{2 \\sqrt{2} \\lambda^{2} h_{1} {\\cal F}_{13}\\left(h_{1}, h_{2}, \\lambda, \\lambda_{ik}\\right)}{3 \\sqrt{\\lambda_{ik}} h_{2}^{2} {\\cal F}^{(3)}\\left(h_{1}, h_{2}, \\lambda, \\lambda_{ik}\\right)} + \\frac{\\sqrt{2} \\lambda^{2} {\\cal F}_{}\\left(h_{1}, h_{2}, \\lambda, \\lambda_{ik}\\right)}{4 \\sqrt{\\lambda_{ik}} h_{2} {\\cal F}^{(3)}\\left(h_{1}, h_{2}, \\lambda, \\lambda_{ik}\\right)} + \\frac{\\sqrt{2} \\lambda^{2} {\\cal F}_{12}\\left(h_{1}, h_{2}, \\lambda, \\lambda_{ik}\\right)}{4 \\sqrt{\\lambda_{ik}} h_{2} {\\cal F}^{(3)}\\left(h_{1}, h_{2}, \\lambda, \\lambda_{ik}\\right)} - \\frac{\\sqrt{2} \\lambda^{2} h_{2} {\\cal F}_{12}\\left(h_{1}, h_{2}, \\lambda, \\lambda_{ik}\\right)}{24 \\sqrt{\\lambda_{ik}} h_{1}^{2} {\\cal F}^{(3)}\\left(h_{1}, h_{2}, \\lambda, \\lambda_{ik}\\right)} + \\frac{\\lambda {\\cal E}_{3}\\left(h_{1}, h_{2}, \\lambda, \\lambda_{ik}\\right)}{4 h_{2} {\\cal F}^{(3)}\\left(h_{1}, h_{2}, \\lambda, \\lambda_{ik}\\right)} + \\frac{\\lambda {\\cal E}_{123}\\left(h_{1}, h_{2}, \\lambda, \\lambda_{ik}\\right)}{4 h_{2} {\\cal F}^{(3)}\\left(h_{1}, h_{2}, \\lambda, \\lambda_{ik}\\right)} - \\frac{\\lambda h_{2} {\\cal E}_{123}\\left(h_{1}, h_{2}, \\lambda, \\lambda_{ik}\\right)}{8 h_{1}^{2} {\\cal F}^{(3)}\\left(h_{1}, h_{2}, \\lambda, \\lambda_{ik}\\right)} + \\frac{\\sqrt{2} \\lambda h_{1} {\\cal F}_{3}\\left(h_{1}, h_{2}, \\lambda, \\lambda_{ik}\\right)}{4 \\sqrt{\\lambda_{ik}} h_{2} {\\cal F}^{(3)}\\left(h_{1}, h_{2}, \\lambda, \\lambda_{ik}\\right)} + \\frac{\\sqrt{2} \\lambda h_{1} {\\cal F}_{123}\\left(h_{1}, h_{2}, \\lambda, \\lambda_{ik}\\right)}{4 \\sqrt{\\lambda_{ik}} h_{2} {\\cal F}^{(3)}\\left(h_{1}, h_{2}, \\lambda, \\lambda_{ik}\\right)} - \\frac{\\sqrt{2} \\lambda {\\cal F}_{13}\\left(h_{1}, h_{2}, \\lambda, \\lambda_{ik}\\right)}{4 \\sqrt{\\lambda_{ik}} h_{2} {\\cal F}^{(3)}\\left(h_{1}, h_{2}, \\lambda, \\lambda_{ik}\\right)} - \\frac{\\sqrt{2} \\lambda h_{2} {\\cal F}_{123}\\left(h_{1}, h_{2}, \\lambda, \\lambda_{ik}\\right)}{8 \\sqrt{\\lambda_{ik}} h_{1} {\\cal F}^{(3)}\\left(h_{1}, h_{2}, \\lambda, \\lambda_{ik}\\right)} - \\frac{1}{4 h_{1}} - \\frac{\\sqrt{2} h_{2} {\\cal F}_{12}\\left(h_{1}, h_{2}, \\lambda, \\lambda_{ik}\\right)}{8 \\sqrt{\\lambda_{ik}} {\\cal F}^{(3)}\\left(h_{1}, h_{2}, \\lambda, \\lambda_{ik}\\right)} + \\frac{h_{2} {\\cal E}_{123}\\left(h_{1}, h_{2}, \\lambda, \\lambda_{ik}\\right)}{8 \\lambda {\\cal F}^{(3)}\\left(h_{1}, h_{2}, \\lambda, \\lambda_{ik}\\right)} - \\frac{\\sqrt{2} h_{1} h_{2} {\\cal F}_{123}\\left(h_{1}, h_{2}, \\lambda, \\lambda_{ik}\\right)}{24 \\lambda \\sqrt{\\lambda_{ik}} {\\cal F}^{(3)}\\left(h_{1}, h_{2}, \\lambda, \\lambda_{ik}\\right)} - \\frac{\\sqrt{2} \\sqrt{h_{1}} \\sqrt{h_{2}} {\\cal F}_{13}\\left(h_{1}, h_{2}, \\lambda, \\lambda_{ik}\\right)}{4 \\sqrt{\\lambda} {\\cal F}^{(3)}\\left(h_{1}, h_{2}, \\lambda, \\lambda_{ik}\\right)} - \\frac{\\sqrt{2} h_{2}^{\\frac{3}{2}} {\\cal F}_{12}\\left(h_{1}, h_{2}, \\lambda, \\lambda_{ik}\\right)}{8 \\sqrt{\\lambda} \\sqrt{h_{1}} {\\cal F}^{(3)}\\left(h_{1}, h_{2}, \\lambda, \\lambda_{ik}\\right)} + \\frac{\\sqrt{2} \\sqrt{h_{2}} \\tilde{\\cal F}_{123}\\left(h_{1}, h_{2}, \\lambda, \\lambda_{ik}\\right)}{8 \\sqrt{\\lambda} \\sqrt{h_{1}} {\\cal F}^{(3)}\\left(h_{1}, h_{2}, \\lambda, \\lambda_{ik}\\right)} + \\frac{\\sqrt{h_{1}} \\sqrt{h_{2}} {\\cal E}_{123}\\left(h_{1}, h_{2}, \\lambda, \\lambda_{ik}\\right)}{24 \\sqrt{\\lambda} \\sqrt{\\lambda_{ik}} {\\cal F}^{(3)}\\left(h_{1}, h_{2}, \\lambda, \\lambda_{ik}\\right)} - \\frac{\\sqrt{2} \\sqrt{h_{1}} h_{2}^{\\frac{3}{2}} {\\cal F}_{123}\\left(h_{1}, h_{2}, \\lambda, \\lambda_{ik}\\right)}{8 \\lambda^{\\frac{3}{2}} {\\cal F}^{(3)}\\left(h_{1}, h_{2}, \\lambda, \\lambda_{ik}\\right)}$"
      ],
      "text/plain": [
       "-sqrt(2)*\\lambda**(3/2)*sqrt(h_1)*FFunction(h_1, h_2, \\lambda, \\lambda_{ik}, 1, 0, 1)/(h_2**(3/2)*cF3Function_degenerate(h_1, h_2, \\lambda, \\lambda_{ik})) - sqrt(2)*\\lambda**(3/2)*FFunction(h_1, h_2, \\lambda, \\lambda_{ik}, 0, 0, 0)/(4*sqrt(h_1)*sqrt(h_2)*cF3Function_degenerate(h_1, h_2, \\lambda, \\lambda_{ik})) - sqrt(2)*\\lambda**(3/2)*FFunction(h_1, h_2, \\lambda, \\lambda_{ik}, 1, 1, 0)/(4*sqrt(h_1)*sqrt(h_2)*cF3Function_degenerate(h_1, h_2, \\lambda, \\lambda_{ik})) + sqrt(2)*\\lambda**(3/2)*sqrt(h_2)*FFunction(h_1, h_2, \\lambda, \\lambda_{ik}, 1, 0, 1)/(4*h_1**(3/2)*cF3Function_degenerate(h_1, h_2, \\lambda, \\lambda_{ik})) + sqrt(2)*\\lambda**(3/2)*h_2**(3/2)*FFunction(h_1, h_2, \\lambda, \\lambda_{ik}, 1, 1, 0)/(8*h_1**(5/2)*cF3Function_degenerate(h_1, h_2, \\lambda, \\lambda_{ik})) - \\lambda**(3/2)*sqrt(h_1)*EFunction(h_1, h_2, \\lambda, \\lambda_{ik}, 0, 0, 1)/(6*sqrt(\\lambda_{ik})*h_2**(3/2)*cF3Function_degenerate(h_1, h_2, \\lambda, \\lambda_{ik})) - \\lambda**(3/2)*sqrt(h_1)*EFunction(h_1, h_2, \\lambda, \\lambda_{ik}, 1, 1, 1)/(6*sqrt(\\lambda_{ik})*h_2**(3/2)*cF3Function_degenerate(h_1, h_2, \\lambda, \\lambda_{ik})) - \\lambda**(3/2)*EFunction(h_1, h_2, \\lambda, \\lambda_{ik}, 1, 0, 0)/(12*sqrt(\\lambda_{ik})*sqrt(h_1)*sqrt(h_2)*cF3Function_degenerate(h_1, h_2, \\lambda, \\lambda_{ik})) + \\lambda**(3/2)*sqrt(h_2)*EFunction(h_1, h_2, \\lambda, \\lambda_{ik}, 1, 1, 1)/(24*sqrt(\\lambda_{ik})*h_1**(3/2)*cF3Function_degenerate(h_1, h_2, \\lambda, \\lambda_{ik})) - sqrt(2)*sqrt(\\lambda)*sqrt(h_1)*FFunction(h_1, h_2, \\lambda, \\lambda_{ik}, 0, 0, 1)/(4*sqrt(h_2)*cF3Function_degenerate(h_1, h_2, \\lambda, \\lambda_{ik})) - sqrt(2)*sqrt(\\lambda)*sqrt(h_1)*FFunction(h_1, h_2, \\lambda, \\lambda_{ik}, 1, 1, 1)/(4*sqrt(h_2)*cF3Function_degenerate(h_1, h_2, \\lambda, \\lambda_{ik})) + sqrt(2)*sqrt(\\lambda)*FTildeFunction(h_1, h_2, \\lambda, \\lambda_{ik}, 1, 0, 1)/(4*sqrt(h_1)*sqrt(h_2)*cF3Function_degenerate(h_1, h_2, \\lambda, \\lambda_{ik})) + sqrt(2)*sqrt(\\lambda)*h_2**(3/2)*FFunction(h_1, h_2, \\lambda, \\lambda_{ik}, 1, 1, 1)/(8*h_1**(3/2)*cF3Function_degenerate(h_1, h_2, \\lambda, \\lambda_{ik})) - sqrt(2)*sqrt(\\lambda)*sqrt(h_2)*FTildeFunction(h_1, h_2, \\lambda, \\lambda_{ik}, 1, 1, 0)/(8*h_1**(3/2)*cF3Function_degenerate(h_1, h_2, \\lambda, \\lambda_{ik})) - sqrt(\\lambda)*sqrt(h_1)*EFunction(h_1, h_2, \\lambda, \\lambda_{ik}, 1, 0, 1)/(12*sqrt(\\lambda_{ik})*sqrt(h_2)*cF3Function_degenerate(h_1, h_2, \\lambda, \\lambda_{ik})) + sqrt(\\lambda)*sqrt(h_2)*EFunction(h_1, h_2, \\lambda, \\lambda_{ik}, 1, 1, 0)/(12*sqrt(\\lambda_{ik})*sqrt(h_1)*cF3Function_degenerate(h_1, h_2, \\lambda, \\lambda_{ik})) + sqrt(\\lambda)*EFunction(h_1, h_2, \\lambda, \\lambda_{ik}, 1, 1, 1)/(24*sqrt(\\lambda_{ik})*sqrt(h_1)*sqrt(h_2)*cF3Function_degenerate(h_1, h_2, \\lambda, \\lambda_{ik})) + 2*sqrt(2)*\\lambda**2*h_1*FFunction(h_1, h_2, \\lambda, \\lambda_{ik}, 1, 0, 1)/(3*sqrt(\\lambda_{ik})*h_2**2*cF3Function_degenerate(h_1, h_2, \\lambda, \\lambda_{ik})) + sqrt(2)*\\lambda**2*FFunction(h_1, h_2, \\lambda, \\lambda_{ik}, 0, 0, 0)/(4*sqrt(\\lambda_{ik})*h_2*cF3Function_degenerate(h_1, h_2, \\lambda, \\lambda_{ik})) + sqrt(2)*\\lambda**2*FFunction(h_1, h_2, \\lambda, \\lambda_{ik}, 1, 1, 0)/(4*sqrt(\\lambda_{ik})*h_2*cF3Function_degenerate(h_1, h_2, \\lambda, \\lambda_{ik})) - sqrt(2)*\\lambda**2*h_2*FFunction(h_1, h_2, \\lambda, \\lambda_{ik}, 1, 1, 0)/(24*sqrt(\\lambda_{ik})*h_1**2*cF3Function_degenerate(h_1, h_2, \\lambda, \\lambda_{ik})) + \\lambda*EFunction(h_1, h_2, \\lambda, \\lambda_{ik}, 0, 0, 1)/(4*h_2*cF3Function_degenerate(h_1, h_2, \\lambda, \\lambda_{ik})) + \\lambda*EFunction(h_1, h_2, \\lambda, \\lambda_{ik}, 1, 1, 1)/(4*h_2*cF3Function_degenerate(h_1, h_2, \\lambda, \\lambda_{ik})) - \\lambda*h_2*EFunction(h_1, h_2, \\lambda, \\lambda_{ik}, 1, 1, 1)/(8*h_1**2*cF3Function_degenerate(h_1, h_2, \\lambda, \\lambda_{ik})) + sqrt(2)*\\lambda*h_1*FFunction(h_1, h_2, \\lambda, \\lambda_{ik}, 0, 0, 1)/(4*sqrt(\\lambda_{ik})*h_2*cF3Function_degenerate(h_1, h_2, \\lambda, \\lambda_{ik})) + sqrt(2)*\\lambda*h_1*FFunction(h_1, h_2, \\lambda, \\lambda_{ik}, 1, 1, 1)/(4*sqrt(\\lambda_{ik})*h_2*cF3Function_degenerate(h_1, h_2, \\lambda, \\lambda_{ik})) - sqrt(2)*\\lambda*FFunction(h_1, h_2, \\lambda, \\lambda_{ik}, 1, 0, 1)/(4*sqrt(\\lambda_{ik})*h_2*cF3Function_degenerate(h_1, h_2, \\lambda, \\lambda_{ik})) - sqrt(2)*\\lambda*h_2*FFunction(h_1, h_2, \\lambda, \\lambda_{ik}, 1, 1, 1)/(8*sqrt(\\lambda_{ik})*h_1*cF3Function_degenerate(h_1, h_2, \\lambda, \\lambda_{ik})) - 1/(4*h_1) - sqrt(2)*h_2*FFunction(h_1, h_2, \\lambda, \\lambda_{ik}, 1, 1, 0)/(8*sqrt(\\lambda_{ik})*cF3Function_degenerate(h_1, h_2, \\lambda, \\lambda_{ik})) + h_2*EFunction(h_1, h_2, \\lambda, \\lambda_{ik}, 1, 1, 1)/(8*\\lambda*cF3Function_degenerate(h_1, h_2, \\lambda, \\lambda_{ik})) - sqrt(2)*h_1*h_2*FFunction(h_1, h_2, \\lambda, \\lambda_{ik}, 1, 1, 1)/(24*\\lambda*sqrt(\\lambda_{ik})*cF3Function_degenerate(h_1, h_2, \\lambda, \\lambda_{ik})) - sqrt(2)*sqrt(h_1)*sqrt(h_2)*FFunction(h_1, h_2, \\lambda, \\lambda_{ik}, 1, 0, 1)/(4*sqrt(\\lambda)*cF3Function_degenerate(h_1, h_2, \\lambda, \\lambda_{ik})) - sqrt(2)*h_2**(3/2)*FFunction(h_1, h_2, \\lambda, \\lambda_{ik}, 1, 1, 0)/(8*sqrt(\\lambda)*sqrt(h_1)*cF3Function_degenerate(h_1, h_2, \\lambda, \\lambda_{ik})) + sqrt(2)*sqrt(h_2)*FTildeFunction(h_1, h_2, \\lambda, \\lambda_{ik}, 1, 1, 1)/(8*sqrt(\\lambda)*sqrt(h_1)*cF3Function_degenerate(h_1, h_2, \\lambda, \\lambda_{ik})) + sqrt(h_1)*sqrt(h_2)*EFunction(h_1, h_2, \\lambda, \\lambda_{ik}, 1, 1, 1)/(24*sqrt(\\lambda)*sqrt(\\lambda_{ik})*cF3Function_degenerate(h_1, h_2, \\lambda, \\lambda_{ik})) - sqrt(2)*sqrt(h_1)*h_2**(3/2)*FFunction(h_1, h_2, \\lambda, \\lambda_{ik}, 1, 1, 1)/(8*\\lambda**(3/2)*cF3Function_degenerate(h_1, h_2, \\lambda, \\lambda_{ik}))"
      ]
     },
     "execution_count": 98,
     "metadata": {},
     "output_type": "execute_result"
    }
   ],
   "source": [
    "expr_m_1_degenerate"
   ]
  },
  {
   "cell_type": "markdown",
   "metadata": {},
   "source": [
    "#### Расчет $Q$"
   ]
  },
  {
   "cell_type": "code",
   "execution_count": 99,
   "metadata": {},
   "outputs": [],
   "source": [
    "expr_Q_star = Z3_expr.diff(l, 2)/(2*Z3_expr) - expr_eta_ik \n",
    "expr_Q_star = sp.Add(*map(sp.factor, expr_Q_star.expand().args))"
   ]
  },
  {
   "cell_type": "code",
   "execution_count": 100,
   "metadata": {},
   "outputs": [],
   "source": [
    "# expr_diff_h1_l = Z3_expr.diff(h1, l)/(2*Z3_expr)\n",
    "# expr_diff_h1_l = sp.Add(*map(sp.factor, expr_diff_h1_l.expand().args))\n",
    "# expr_diff_h1_l = expr_diff_h1_l.subs(subs_to_moments)\n",
    "\n",
    "# expr_m2_eta = Z3_expr.diff(h2, l)/(2*Z3_expr)\n",
    "# expr_m2_eta = sp.Add(*map(sp.factor, expr_m2_eta.expand().args))\n",
    "# expr_m2_eta = expr_m2_eta.subs(subs_to_moments)\n",
    "\n",
    "# expr_m1_eta_ik = Z3_expr.diff(h1, l_ik)/(2*Z3_expr)\n",
    "# expr_m1_eta_ik = sp.Add(*map(sp.factor, expr_m1_eta_ik.expand().args))\n",
    "# expr_m1_eta_ik = expr_m1_eta_ik.subs(subs_to_moments)\n",
    "\n",
    "# expr_eta_ik2 = Z3_expr.diff(l_ik, 2)/(Z3_expr)\n",
    "# expr_eta_ik2 = sp.Add(*map(sp.factor, expr_eta_ik2.expand().args))\n",
    "# expr_eta_ik2 = expr_eta_ik2.subs(subs_to_moments)"
   ]
  },
  {
   "cell_type": "code",
   "execution_count": 101,
   "metadata": {},
   "outputs": [],
   "source": [
    "# m_i_eta_ij = sp.Symbol(\"\\\\left<m_{i}\\eta_{ij}\\\\right>\")\n",
    "# m_i_eta_jk = sp.Symbol(\"\\\\left<m_{i}\\eta_{jk}\\\\right>\")\n",
    "# m2_eta = sp.Symbol(\"\\\\left<m_{2}\\eta\\\\right>\")\n",
    "# m1_eta_ik = sp.Symbol(\"\\\\left<m_{1}\\eta_{ik}\\\\right>\")\n",
    "# eta_ik2 = sp.Symbol(\"\\\\left<\\eta_{ik}^2\\\\right>\")"
   ]
  },
  {
   "cell_type": "code",
   "execution_count": 102,
   "metadata": {},
   "outputs": [],
   "source": [
    "# factor = (l*h1-l_ik*h2)**2\n",
    "\n",
    "# expr1 = (expr_diff_h1_l.factor()*factor).expand() - factor*(m_i_eta_ij+m_i_eta_jk)\n",
    "# expr2 = (expr_m2_eta.factor()*factor).expand() - factor*m2_eta\n",
    "# expr3 = (expr_m1_eta_ik.factor()*factor).expand() - factor*m1_eta_ik\n",
    "# expr4 = (expr_eta_ik2.factor()*factor).expand() - factor*eta_ik2"
   ]
  },
  {
   "cell_type": "code",
   "execution_count": 103,
   "metadata": {},
   "outputs": [],
   "source": [
    "# like_terms = [\n",
    "#     EFunction(*args_coeffs, 0, 0, 1)/EFunction(*args_coeffs, 1, 1, 1),\n",
    "#     EFunction(*args_coeffs, 1, 0, 0)/EFunction(*args_coeffs, 1, 1, 1),\n",
    "#     EFunction(*args_coeffs, 1, 1, 0)/EFunction(*args_coeffs, 1, 1, 1),\n",
    "#     EFunction(*args_coeffs, 1, 0, 1)/EFunction(*args_coeffs, 1, 1, 1),\n",
    "# ]\n",
    "\n",
    "# def get_line_Matrix(expr, like_terms):\n",
    "#     terms = sp.collect(expr, like_terms, evaluate=False)\n",
    "#     line = []\n",
    "#     for term in like_terms + [1]:\n",
    "#         if term in terms:\n",
    "#             if term == 1:\n",
    "#                 line.append(-terms[term].factor())\n",
    "#             else:\n",
    "#                 line.append(terms[term].factor())\n",
    "#         else:\n",
    "#             line.append(0)\n",
    "#     return line\n",
    "\n",
    "# line1 = get_line_Matrix(expr1, like_terms)\n",
    "# line2 = get_line_Matrix(expr2, like_terms)\n",
    "# line3 = get_line_Matrix(expr3, like_terms)\n",
    "# line4 = get_line_Matrix(expr4, like_terms)"
   ]
  },
  {
   "cell_type": "code",
   "execution_count": 104,
   "metadata": {},
   "outputs": [],
   "source": [
    "# M = sp.Matrix([line1, line2, line3, line4])\n",
    "# M = M.expand()\n",
    "# result = (M[:, :-1]).solve(M[:, -1])"
   ]
  },
  {
   "cell_type": "code",
   "execution_count": 105,
   "metadata": {},
   "outputs": [],
   "source": [
    "# result"
   ]
  },
  {
   "cell_type": "code",
   "execution_count": 106,
   "metadata": {},
   "outputs": [],
   "source": [
    "# E_subs = {\n",
    "#     EFunction(*args_coeffs, 0, 0, 1): result[0]*EFunction(*args_coeffs, 1, 1, 1),\n",
    "#     EFunction(*args_coeffs, 1, 0, 0): result[1]*EFunction(*args_coeffs, 1, 1, 1),\n",
    "#     EFunction(*args_coeffs, 1, 1, 0): result[2]*EFunction(*args_coeffs, 1, 1, 1),\n",
    "#     EFunction(*args_coeffs, 1, 0, 1): result[3]*EFunction(*args_coeffs, 1, 1, 1),\n",
    "# }"
   ]
  },
  {
   "cell_type": "code",
   "execution_count": 107,
   "metadata": {},
   "outputs": [],
   "source": [
    "# expr_Q_star = expr_Q_star.subs(subs_to_moments).subs(E_subs).subs(sub_M_det).factor().expand()\n",
    "# expr_Q_star"
   ]
  },
  {
   "cell_type": "code",
   "execution_count": 108,
   "metadata": {},
   "outputs": [],
   "source": [
    "# expr_m2_eta_ik = Z3_expr.diff(h2, l_ik)/(Z3_expr)\n",
    "# expr_m2_eta_ik = sp.Add(*map(sp.factor, expr_m2_eta_ik.expand().args))\n",
    "# expr_m2_eta_ik = expr_m2_eta_ik.subs(subs_to_moments)\n",
    "# expr = expr_m2_eta_ik.subs(E_subs).subs(sub_M_det).factor().expand()\n",
    "# display(expr)\n",
    "\n",
    "# m2_eta_ik = sp.Symbol(\"\\\\left<m_{2}\\eta_{ik}\\\\right>\")\n",
    "# _expr_h1 = sp.solve(expr-m2_eta_ik, h1)[0]\n",
    "# _expr_h1 = _expr_h1.factor()\n",
    "# _expr_h1"
   ]
  },
  {
   "cell_type": "code",
   "execution_count": 109,
   "metadata": {},
   "outputs": [],
   "source": [
    "# expr_m2_par_2 = Z3_expr.diff(h2, 2)/(Z3_expr)\n",
    "# expr_m2_par_2 = sp.Add(*map(sp.factor, expr_m2_par_2.expand().args))\n",
    "# expr_m2_par_2 = expr_m2_par_2.subs(subs_to_moments).subs(E_subs).subs(sub_M_det).factor().expand()\n",
    "# display(expr_m2_par_2)\n",
    "\n",
    "# m2_par_2 = sp.Symbol(\"\\\\left<m_{2\\\\parallel}^2\\\\right>\")\n",
    "# _expr_l = sp.solve(expr_m2_par_2-m2_par_2, l)[0]\n",
    "# _expr_l = _expr_l.factor()\n",
    "# _expr_l"
   ]
  },
  {
   "cell_type": "code",
   "execution_count": 110,
   "metadata": {},
   "outputs": [],
   "source": [
    "# expr = Z3_expr.diff(h1, 2)/(Z3_expr)\n",
    "# expr = sp.Add(*map(sp.factor, expr.expand().args))\n",
    "# expr = expr.subs(subs_to_moments).subs(E_subs).subs(sub_M_det).factor().expand()\n",
    "# expr = expr.replace(h1, _expr_h1).factor()\n",
    "# expr = expr.replace(l, _expr_l).factor()\n",
    "# display(expr)\n",
    "\n",
    "# m1_par_2 = sp.Symbol(\"\\\\left<m_{1\\\\parallel}^2\\\\right>\")\n",
    "# _expr_h2 = sp.solve(expr-m1_par_2-m2_par_2-2*eta, h2)[0]\n",
    "# _expr_h2 = _expr_h2.factor()\n",
    "# _expr_h2"
   ]
  },
  {
   "cell_type": "code",
   "execution_count": 111,
   "metadata": {},
   "outputs": [],
   "source": [
    "# expr_Q_star = expr_Q_star.replace(l, _expr_l).factor()\n",
    "# expr_Q_star = expr_Q_star.replace(h2, _expr_h2).factor()\n",
    "# expr_Q_star.simplify()"
   ]
  },
  {
   "cell_type": "code",
   "execution_count": 112,
   "metadata": {},
   "outputs": [],
   "source": [
    "# m = sp.Symbol(\"\\\\left<m\\\\right>\")\n",
    "# m_par_2 = sp.Symbol(\"\\\\left<m_{\\\\parallel}^2\\\\right>\")\n",
    "# m_eta = sp.Symbol(\"\\\\left<m \\eta\\\\right>\")\n",
    "# upsilon = sp.Symbol(\"\\\\Upsilon\")\n",
    "# expr = expr_Q_star.subs({m_1: m, m_2: m, m1_par_2: m_par_2, m2_par_2: m_par_2, m2_eta: m_eta, m_i_eta_ij: m_eta, m2_eta_ik: m_i_eta_jk}).subs({m_eta: m-2*upsilon}).factor()\n",
    "# expr"
   ]
  },
  {
   "cell_type": "code",
   "execution_count": 113,
   "metadata": {},
   "outputs": [],
   "source": [
    "# eta2 = sp.Symbol(\"\\\\left<\\\\eta^{2}\\\\right>\")\n",
    "# rho, p = sp.symbols(\"\\\\rho p\")\n",
    "\n",
    "# expr = expr.replace(eta_ik, m**2)\n",
    "# expr = expr.replace(upsilon, (l/2*(eta2-1)+eta)/(rho*p*m)).factor()\n",
    "# expr = expr.replace(m_par_2, 1-2*m/p).factor()\n",
    "# expr"
   ]
  },
  {
   "cell_type": "markdown",
   "metadata": {},
   "source": [
    "### Проверка"
   ]
  },
  {
   "cell_type": "code",
   "execution_count": 114,
   "metadata": {},
   "outputs": [],
   "source": [
    "args_moments = h1, h2, l, l_ik, m_1, m_2, eta, eta_ik"
   ]
  },
  {
   "cell_type": "code",
   "execution_count": 115,
   "metadata": {},
   "outputs": [
    {
     "name": "stdout",
     "output_type": "stream",
     "text": [
      "0.575477601688201\n",
      "0.5754779493045652\n",
      "\n",
      "0.5237828164508116\n",
      "0.5237813820122512\n",
      "\n",
      "0.49566723243071426\n",
      "0.49566789130909583\n",
      "\n",
      "0.5488518559086166\n",
      "0.5488505334644458\n",
      "\n"
     ]
    },
    {
     "name": "stderr",
     "output_type": "stream",
     "text": [
      "/tmp/ipykernel_2133968/1106285131.py:4: IntegrationWarning: The occurrence of roundoff error is detected, which prevents \n",
      "  the requested tolerance from being achieved.  The error may be \n",
      "  underestimated.\n",
      "  return 2*np.pi*quad(func, -1, 1)[0]\n"
     ]
    }
   ],
   "source": [
    "f_expr_m_1 = sp.lambdify(args_coeffs, expr_m_1, module)\n",
    "f_expr_m_2 = sp.lambdify(args_coeffs, expr_m_2, module)\n",
    "f_expr_eta = sp.lambdify(args_coeffs, expr_eta, module)\n",
    "f_expr_eta_ik = sp.lambdify(args_coeffs, expr_eta_ik, module)\n",
    "\n",
    "args = 1.4, 1.1, 0.9, 1.2\n",
    "compare_exprs(\n",
    "    calc_numerical_diffs(v_raw_Z3, args)/(np.asarray([2, 1, 2, 1])*v_raw_Z3(args)),\n",
    "    calc_exprs([f_expr_m_1, f_expr_m_2, f_expr_eta, f_expr_eta_ik], args)\n",
    ")"
   ]
  },
  {
   "cell_type": "code",
   "execution_count": 116,
   "metadata": {},
   "outputs": [
    {
     "name": "stdout",
     "output_type": "stream",
     "text": [
      "0.5919372721047564\n",
      "0.5919397633608412\n",
      "\n",
      "0.6787132469924643\n",
      "0.6787309180732759\n",
      "\n",
      "0.6787240521194582\n",
      "0.6787309180732808\n",
      "\n",
      "0.5919264669777625\n",
      "0.5919397633608394\n",
      "\n"
     ]
    },
    {
     "name": "stderr",
     "output_type": "stream",
     "text": [
      "/tmp/ipykernel_2133968/1106285131.py:4: IntegrationWarning: The occurrence of roundoff error is detected, which prevents \n",
      "  the requested tolerance from being achieved.  The error may be \n",
      "  underestimated.\n",
      "  return 2*np.pi*quad(func, -1, 1)[0]\n"
     ]
    }
   ],
   "source": [
    "f_expr_m_1_degenerate = sp.lambdify(args_coeffs, expr_m_1_degenerate, module)\n",
    "f_expr_m_2_degenerate = sp.lambdify(args_coeffs, expr_m_2_degenerate, module)\n",
    "f_expr_eta_degenerate = sp.lambdify(args_coeffs, expr_eta_degenerate, module)\n",
    "f_expr_eta_ik_degenerate = sp.lambdify(args_coeffs, expr_eta_ik_degenerate, module)\n",
    "\n",
    "args = 1, 2, 2, 1\n",
    "compare_exprs(\n",
    "    calc_numerical_diffs(v_raw_Z3, args) / (np.asarray([2, 1, 2, 1])*v_raw_Z3(args)),\n",
    "    calc_exprs([f_expr_m_1_degenerate, f_expr_m_2_degenerate,\n",
    "                f_expr_eta_degenerate, f_expr_eta_ik_degenerate], args)\n",
    ")"
   ]
  },
  {
   "cell_type": "code",
   "execution_count": 117,
   "metadata": {},
   "outputs": [
    {
     "name": "stdout",
     "output_type": "stream",
     "text": [
      "0.4051975776754977\n",
      "0.40519384226232324\n"
     ]
    }
   ],
   "source": [
    "f_expr_Q_star = sp.lambdify(args_coeffs, expr_Q_star, module)\n",
    "\n",
    "args = 1.8, 10, 0.9, 1.2\n",
    "Q_star = nd.directionaldiff(v_raw_Z3, args, [0, 0, 1, 0], n=2)\n",
    "Q_star /= 2*v_raw_Z3(args)\n",
    "Q_star -= f_expr_eta_ik(*args)\n",
    "print(Q_star)\n",
    "print(f_expr_Q_star(*args))"
   ]
  },
  {
   "cell_type": "code",
   "execution_count": 118,
   "metadata": {},
   "outputs": [
    {
     "name": "stdout",
     "output_type": "stream",
     "text": [
      "12.991250436277141\n",
      "12.991250436277095\n",
      "\n",
      "63.01961700644746\n",
      "63.019617006447376\n",
      "\n",
      "62.921907271645075\n",
      "62.92190727164498\n",
      "\n",
      "65.19748865243537\n",
      "65.19748865243545\n"
     ]
    }
   ],
   "source": [
    "f_expr_cF3Function = sp.lambdify(args_moments, expr_cF3Function.subs(sub_M_det), module)\n",
    "f_expr_FTildeFunction_123 = sp.lambdify(args_moments, expr_FTildeFunction_123.subs(sub_M_det), module)\n",
    "f_expr_FTildeFunction_12 = sp.lambdify(args_moments, expr_FTildeFunction_12.subs(sub_M_det), module)\n",
    "f_expr_FFunction_13 = sp.lambdify(args_moments, expr_FFunction_13.subs(sub_M_det), module)\n",
    "\n",
    "args = 0.9, 1.5, 1, 0.54\n",
    "args_moment = f_expr_m_1(*args), f_expr_m_2(*args), f_expr_eta(*args), f_expr_eta_ik(*args)\n",
    "\n",
    "print(f_cF3Function(*args))\n",
    "print(f_expr_cF3Function(*args, *args_moment))\n",
    "print()\n",
    "print(f_FTildeFunction(*args, 1, 1, 1))\n",
    "print(f_expr_FTildeFunction_123(*args, *args_moment))\n",
    "print()\n",
    "print(f_FTildeFunction(*args, 1, 1, 0))\n",
    "print(f_expr_FTildeFunction_12(*args, *args_moment))\n",
    "print()\n",
    "print(f_FFunction(*args, 1, 0, 1))\n",
    "print(f_expr_FFunction_13(*args, *args_moment))"
   ]
  },
  {
   "cell_type": "code",
   "execution_count": 119,
   "metadata": {},
   "outputs": [],
   "source": [
    "# f_expr_diff_h1_l = sp.lambdify(args_moments, expr_diff_h1_l.subs(sub_M_det), module)\n",
    "# f_expr_m2_eta = sp.lambdify(args_moments, expr_m2_eta.subs(sub_M_det), module)\n",
    "# f_expr_m1_eta_ik = sp.lambdify(args_moments, expr_m1_eta_ik.subs(sub_M_det), module)\n",
    "# f_expr_eta_ik2 = sp.lambdify(args_moments, expr_eta_ik2.subs(sub_M_det), module)\n",
    "# f_expr_m2_eta_ik = sp.lambdify(args_moments, expr_m2_eta_ik.subs(sub_M_det), module)\n",
    "\n",
    "\n",
    "# args = 0.9, 1.5, 1, 0.54\n",
    "# args_moment = f_expr_m_1(*args), f_expr_m_2(*args), f_expr_eta(*args), f_expr_eta_ik(*args)\n",
    "\n",
    "# print(f_expr_m2_eta_ik(*args, *args_moment))"
   ]
  },
  {
   "cell_type": "markdown",
   "metadata": {},
   "source": [
    "## Расчет коэффициентов"
   ]
  },
  {
   "cell_type": "code",
   "execution_count": 120,
   "metadata": {},
   "outputs": [],
   "source": [
    "def find_coeff_eta_ik(m_1, m_2, eta, eta_ik):\n",
    "    def func(coeffs):\n",
    "        return [\n",
    "            f_expr_m_1(*coeffs)-m_1,\n",
    "            f_expr_m_2(*coeffs)-m_2,\n",
    "            f_expr_eta(*coeffs)-eta,\n",
    "            f_expr_eta_ik(*coeffs)-eta_ik\n",
    "        ]\n",
    "    \n",
    "    h1, l = Z2_module.find_coeffs(m_1, eta)\n",
    "    h2, l_ik = Z2_module.find_coeffs(m_2, eta_ik)\n",
    "    # print(h1, h2, l, l_ik)\n",
    "\n",
    "    result = opt.root(func, [h1, h2, l, l_ik])\n",
    "\n",
    "    if result[\"success\"]:\n",
    "        result = result[\"x\"]\n",
    "    else:\n",
    "        result = [np.nan, np.nan, np.nan, np.nan]\n",
    "    return result"
   ]
  },
  {
   "cell_type": "code",
   "execution_count": 121,
   "metadata": {},
   "outputs": [
    {
     "name": "stdout",
     "output_type": "stream",
     "text": [
      "0.09999999999272813\n",
      "0.09999999999233289\n",
      "0.20000000000686602\n",
      "0.2999999999774676\n"
     ]
    }
   ],
   "source": [
    "args_moment = .1, .1, .2, .3\n",
    "args = find_coeff_eta_ik(*args_moment)\n",
    "\n",
    "print(f_expr_m_1(*args))\n",
    "print(f_expr_m_2(*args))\n",
    "print(f_expr_eta(*args))\n",
    "print(f_expr_eta_ik(*args))"
   ]
  }
 ],
 "metadata": {
  "kernelspec": {
   "display_name": "Python 3",
   "language": "python",
   "name": "python3"
  },
  "language_info": {
   "codemirror_mode": {
    "name": "ipython",
    "version": 3
   },
   "file_extension": ".py",
   "mimetype": "text/x-python",
   "name": "python",
   "nbconvert_exporter": "python",
   "pygments_lexer": "ipython3",
   "version": "3.11.2"
  }
 },
 "nbformat": 4,
 "nbformat_minor": 2
}
